{
 "cells": [
  {
   "cell_type": "code",
   "execution_count": 1,
   "metadata": {
    "ExecuteTime": {
     "end_time": "2024-05-04T08:25:02.014157Z",
     "start_time": "2024-05-04T08:24:28.950625Z"
    },
    "deletable": false,
    "editable": false,
    "nbgrader": {
     "grade": false,
     "grade_id": "cell-3b735b942b2009ce",
     "locked": true,
     "schema_version": 3,
     "solution": false,
     "task": false
    }
   },
   "outputs": [],
   "source": [
    "import os\n",
    "import pandas as pd\n",
    "import json\n",
    "import joblib\n",
    "import pickle\n",
    "import requests\n",
    "from sklearn.pipeline import make_pipeline, Pipeline\n",
    "from sklearn.model_selection import cross_val_score\n",
    "from sklearn.preprocessing import OneHotEncoder\n",
    "from sklearn.compose import ColumnTransformer\n",
    "from sklearn.ensemble import RandomForestClassifier\n",
    "from sklearn.linear_model import LogisticRegression\n",
    "import warnings\n",
    "warnings.filterwarnings('ignore')"
   ]
  },
  {
   "cell_type": "markdown",
   "metadata": {
    "deletable": false,
    "editable": false,
    "nbgrader": {
     "grade": false,
     "grade_id": "cell-093ada1b8f5cf10b",
     "locked": true,
     "schema_version": 3,
     "solution": false,
     "task": false
    }
   },
   "source": [
    "The portuguese “Velho Banco”, wants to attract wealthier clients for one of its products. For this purpose, they want to predict the annual income of each person, based on the information those people provided to the bank.\n",
    "\n",
    "Your company has been hired to help with this situation, and you were assigned to create a service that should predict if a person's annual income is above 50k. The service should answer with a Yes or No answer.\n",
    "\n",
    "These exercises will guide you in your task, step by step."
   ]
  },
  {
   "cell_type": "markdown",
   "metadata": {
    "deletable": false,
    "editable": false,
    "nbgrader": {
     "grade": false,
     "grade_id": "cell-9dda3087fc177930",
     "locked": true,
     "schema_version": 3,
     "solution": false,
     "task": false
    }
   },
   "source": [
    "### 1. Meet the data\n",
    "\n",
    "Start by getting familiar with the dataset, in file `salaries.csv`, adapted from [here](https://www.kaggle.com/wenruliu/adult-income-dataset).\n",
    "Each row in the dataset is about one client, and has 4 fields.\n",
    "\n",
    "4 features:\n",
    "\n",
    "- **age**: what is the age of the client\n",
    "- **education**: the school education of the client\n",
    "- **hours-per-week**: number of hours the person works per week\n",
    "- **native-country**: where the person is from\n",
    "\n",
    "And the target:\n",
    "- **salary**: if is above or bellow 50k\n",
    "\n",
    "We'll consider a potential client for the product when the salary is above 50k."
   ]
  },
  {
   "cell_type": "code",
   "execution_count": 2,
   "metadata": {
    "ExecuteTime": {
     "end_time": "2024-05-04T08:25:06.337320Z",
     "start_time": "2024-05-04T08:25:06.303909Z"
    },
    "deletable": false,
    "editable": false,
    "nbgrader": {
     "grade": false,
     "grade_id": "cell-6c73de8f632d9425",
     "locked": true,
     "schema_version": 3,
     "solution": false,
     "task": false
    }
   },
   "outputs": [
    {
     "data": {
      "text/html": [
       "<div>\n",
       "<style scoped>\n",
       "    .dataframe tbody tr th:only-of-type {\n",
       "        vertical-align: middle;\n",
       "    }\n",
       "\n",
       "    .dataframe tbody tr th {\n",
       "        vertical-align: top;\n",
       "    }\n",
       "\n",
       "    .dataframe thead th {\n",
       "        text-align: right;\n",
       "    }\n",
       "</style>\n",
       "<table border=\"1\" class=\"dataframe\">\n",
       "  <thead>\n",
       "    <tr style=\"text-align: right;\">\n",
       "      <th></th>\n",
       "      <th>age</th>\n",
       "      <th>education</th>\n",
       "      <th>hours-per-week</th>\n",
       "      <th>native-country</th>\n",
       "      <th>salary</th>\n",
       "    </tr>\n",
       "  </thead>\n",
       "  <tbody>\n",
       "    <tr>\n",
       "      <th>0</th>\n",
       "      <td>39</td>\n",
       "      <td>Bachelors</td>\n",
       "      <td>40</td>\n",
       "      <td>United-States</td>\n",
       "      <td>&lt;=50K</td>\n",
       "    </tr>\n",
       "    <tr>\n",
       "      <th>1</th>\n",
       "      <td>50</td>\n",
       "      <td>Bachelors</td>\n",
       "      <td>13</td>\n",
       "      <td>United-States</td>\n",
       "      <td>&lt;=50K</td>\n",
       "    </tr>\n",
       "    <tr>\n",
       "      <th>2</th>\n",
       "      <td>38</td>\n",
       "      <td>HS-grad</td>\n",
       "      <td>40</td>\n",
       "      <td>United-States</td>\n",
       "      <td>&lt;=50K</td>\n",
       "    </tr>\n",
       "    <tr>\n",
       "      <th>3</th>\n",
       "      <td>53</td>\n",
       "      <td>11th</td>\n",
       "      <td>40</td>\n",
       "      <td>United-States</td>\n",
       "      <td>&lt;=50K</td>\n",
       "    </tr>\n",
       "    <tr>\n",
       "      <th>4</th>\n",
       "      <td>28</td>\n",
       "      <td>Bachelors</td>\n",
       "      <td>40</td>\n",
       "      <td>Cuba</td>\n",
       "      <td>&lt;=50K</td>\n",
       "    </tr>\n",
       "  </tbody>\n",
       "</table>\n",
       "</div>"
      ],
      "text/plain": [
       "   age   education  hours-per-week  native-country  salary\n",
       "0   39   Bachelors              40   United-States   <=50K\n",
       "1   50   Bachelors              13   United-States   <=50K\n",
       "2   38     HS-grad              40   United-States   <=50K\n",
       "3   53        11th              40   United-States   <=50K\n",
       "4   28   Bachelors              40            Cuba   <=50K"
      ]
     },
     "execution_count": 2,
     "metadata": {},
     "output_type": "execute_result"
    }
   ],
   "source": [
    "df = pd.read_csv(os.path.join(\"data\", \"salaries.csv\"))\n",
    "df.head()"
   ]
  },
  {
   "cell_type": "code",
   "execution_count": 3,
   "metadata": {
    "ExecuteTime": {
     "end_time": "2024-05-04T08:25:34.685671Z",
     "start_time": "2024-05-04T08:25:34.674617Z"
    },
    "deletable": false,
    "nbgrader": {
     "grade": false,
     "grade_id": "cell-07b7596b7c482937",
     "locked": false,
     "schema_version": 3,
     "solution": true,
     "task": false
    }
   },
   "outputs": [],
   "source": [
    "# Create a DataFrame with the 4 features: age, education, hours-per-week, native-country\n",
    "# Keep them in this order\n",
    "# X = ...\n",
    "\n",
    "# YOUR CODE HERE\n",
    "X = df.drop('salary', axis=1)\n",
    "\n",
    "\n",
    "# Create a series with the target: salary\n",
    "# y = ...\n",
    "# YOUR CODE HERE\n",
    "y = df.salary"
   ]
  },
  {
   "cell_type": "code",
   "execution_count": 4,
   "metadata": {
    "ExecuteTime": {
     "end_time": "2024-05-04T08:25:35.344452Z",
     "start_time": "2024-05-04T08:25:35.339545Z"
    },
    "deletable": false,
    "editable": false,
    "nbgrader": {
     "grade": true,
     "grade_id": "cell-f5c67edf8e0decb5",
     "locked": true,
     "points": 1,
     "schema_version": 3,
     "solution": false,
     "task": false
    }
   },
   "outputs": [],
   "source": [
    "assert isinstance(X, pd.DataFrame)\n",
    "assert X.columns.tolist() == [\"age\", \"education\", \"hours-per-week\", \"native-country\"]\n",
    "assert isinstance(y, pd.Series)\n",
    "assert y[0]==' <=50K'"
   ]
  },
  {
   "cell_type": "markdown",
   "metadata": {
    "deletable": false,
    "editable": false,
    "nbgrader": {
     "grade": false,
     "grade_id": "cell-5ecc8001c4919b62",
     "locked": true,
     "schema_version": 3,
     "solution": false,
     "task": false
    }
   },
   "source": [
    "### 2. Build a model\n",
    "\n",
    "Build a scikit model that predicts whether a person earns more than 50k, based on the features that you have available. Your model should be delivered as a scikit [Pipeline](https://scikit-learn.org/stable/modules/generated/sklearn.pipeline.Pipeline.html#sklearn.pipeline.Pipeline.predict_proba).\n",
    "\n",
    "Don't worry too much about the model's performance, anything better than random works! We'll focus on model performance in the next BLUs."
   ]
  },
  {
   "cell_type": "code",
   "execution_count": 10,
   "metadata": {
    "ExecuteTime": {
     "end_time": "2024-05-04T08:29:23.534635Z",
     "start_time": "2024-05-04T08:29:23.530554Z"
    },
    "deletable": false,
    "nbgrader": {
     "grade": false,
     "grade_id": "cell-41aff4c773d827da",
     "locked": false,
     "schema_version": 3,
     "solution": true,
     "task": false
    }
   },
   "outputs": [],
   "source": [
    "# Create the pipeline with your model\n",
    "# pipeline = ...\n",
    "# YOUR CODE HERE\n",
    "\n",
    "#pipeline = make_pipeline(OneHotEncoder(handle_unknown='value'),\n",
    "#    LogisticRegression(),)\n",
    "#\n",
    "pipeline = make_pipeline(OneHotEncoder(handle_unknown='ignore'),\n",
    "                         LogisticRegression())"
   ]
  },
  {
   "cell_type": "code",
   "execution_count": 11,
   "metadata": {
    "ExecuteTime": {
     "end_time": "2024-05-04T08:29:24.503478Z",
     "start_time": "2024-05-04T08:29:24.499176Z"
    },
    "deletable": false,
    "editable": false,
    "nbgrader": {
     "grade": true,
     "grade_id": "cell-7f6385b594764da7",
     "locked": true,
     "points": 2,
     "schema_version": 3,
     "solution": false,
     "task": false
    }
   },
   "outputs": [],
   "source": [
    "assert isinstance(pipeline, Pipeline)"
   ]
  },
  {
   "cell_type": "code",
   "execution_count": 12,
   "metadata": {
    "ExecuteTime": {
     "end_time": "2024-05-04T08:29:25.820728Z",
     "start_time": "2024-05-04T08:29:25.364043Z"
    },
    "deletable": false,
    "nbgrader": {
     "grade": false,
     "grade_id": "cell-e076246fb29c9928",
     "locked": false,
     "schema_version": 3,
     "solution": true,
     "task": false
    }
   },
   "outputs": [],
   "source": [
    "# Use cross validation with 5 folds and ROC_AUC as metric, to check your model's performance\n",
    "# roc_aucs = cross_val_score(...)\n",
    "# YOUR CODE HERE\n",
    "roc_aucs = cross_val_score(pipeline, X, y, scoring=\"roc_auc\", cv=5)\n"
   ]
  },
  {
   "cell_type": "code",
   "execution_count": 13,
   "metadata": {
    "ExecuteTime": {
     "end_time": "2024-05-04T08:29:26.518905Z",
     "start_time": "2024-05-04T08:29:26.514571Z"
    },
    "deletable": false,
    "editable": false,
    "nbgrader": {
     "grade": true,
     "grade_id": "cell-044b10bfe1c9f942",
     "locked": true,
     "points": 2,
     "schema_version": 3,
     "solution": false,
     "task": false
    }
   },
   "outputs": [],
   "source": [
    "assert roc_aucs.mean() > 0.5\n",
    "assert len(roc_aucs)==5"
   ]
  },
  {
   "cell_type": "code",
   "execution_count": 14,
   "metadata": {
    "ExecuteTime": {
     "end_time": "2024-05-04T08:29:40.006725Z",
     "start_time": "2024-05-04T08:29:39.878006Z"
    },
    "deletable": false,
    "nbgrader": {
     "grade": false,
     "grade_id": "cell-2648bddb36617860",
     "locked": false,
     "schema_version": 3,
     "solution": true,
     "task": false
    }
   },
   "outputs": [
    {
     "data": {
      "text/html": [
       "<style>#sk-container-id-1 {color: black;}#sk-container-id-1 pre{padding: 0;}#sk-container-id-1 div.sk-toggleable {background-color: white;}#sk-container-id-1 label.sk-toggleable__label {cursor: pointer;display: block;width: 100%;margin-bottom: 0;padding: 0.3em;box-sizing: border-box;text-align: center;}#sk-container-id-1 label.sk-toggleable__label-arrow:before {content: \"▸\";float: left;margin-right: 0.25em;color: #696969;}#sk-container-id-1 label.sk-toggleable__label-arrow:hover:before {color: black;}#sk-container-id-1 div.sk-estimator:hover label.sk-toggleable__label-arrow:before {color: black;}#sk-container-id-1 div.sk-toggleable__content {max-height: 0;max-width: 0;overflow: hidden;text-align: left;background-color: #f0f8ff;}#sk-container-id-1 div.sk-toggleable__content pre {margin: 0.2em;color: black;border-radius: 0.25em;background-color: #f0f8ff;}#sk-container-id-1 input.sk-toggleable__control:checked~div.sk-toggleable__content {max-height: 200px;max-width: 100%;overflow: auto;}#sk-container-id-1 input.sk-toggleable__control:checked~label.sk-toggleable__label-arrow:before {content: \"▾\";}#sk-container-id-1 div.sk-estimator input.sk-toggleable__control:checked~label.sk-toggleable__label {background-color: #d4ebff;}#sk-container-id-1 div.sk-label input.sk-toggleable__control:checked~label.sk-toggleable__label {background-color: #d4ebff;}#sk-container-id-1 input.sk-hidden--visually {border: 0;clip: rect(1px 1px 1px 1px);clip: rect(1px, 1px, 1px, 1px);height: 1px;margin: -1px;overflow: hidden;padding: 0;position: absolute;width: 1px;}#sk-container-id-1 div.sk-estimator {font-family: monospace;background-color: #f0f8ff;border: 1px dotted black;border-radius: 0.25em;box-sizing: border-box;margin-bottom: 0.5em;}#sk-container-id-1 div.sk-estimator:hover {background-color: #d4ebff;}#sk-container-id-1 div.sk-parallel-item::after {content: \"\";width: 100%;border-bottom: 1px solid gray;flex-grow: 1;}#sk-container-id-1 div.sk-label:hover label.sk-toggleable__label {background-color: #d4ebff;}#sk-container-id-1 div.sk-serial::before {content: \"\";position: absolute;border-left: 1px solid gray;box-sizing: border-box;top: 0;bottom: 0;left: 50%;z-index: 0;}#sk-container-id-1 div.sk-serial {display: flex;flex-direction: column;align-items: center;background-color: white;padding-right: 0.2em;padding-left: 0.2em;position: relative;}#sk-container-id-1 div.sk-item {position: relative;z-index: 1;}#sk-container-id-1 div.sk-parallel {display: flex;align-items: stretch;justify-content: center;background-color: white;position: relative;}#sk-container-id-1 div.sk-item::before, #sk-container-id-1 div.sk-parallel-item::before {content: \"\";position: absolute;border-left: 1px solid gray;box-sizing: border-box;top: 0;bottom: 0;left: 50%;z-index: -1;}#sk-container-id-1 div.sk-parallel-item {display: flex;flex-direction: column;z-index: 1;position: relative;background-color: white;}#sk-container-id-1 div.sk-parallel-item:first-child::after {align-self: flex-end;width: 50%;}#sk-container-id-1 div.sk-parallel-item:last-child::after {align-self: flex-start;width: 50%;}#sk-container-id-1 div.sk-parallel-item:only-child::after {width: 0;}#sk-container-id-1 div.sk-dashed-wrapped {border: 1px dashed gray;margin: 0 0.4em 0.5em 0.4em;box-sizing: border-box;padding-bottom: 0.4em;background-color: white;}#sk-container-id-1 div.sk-label label {font-family: monospace;font-weight: bold;display: inline-block;line-height: 1.2em;}#sk-container-id-1 div.sk-label-container {text-align: center;}#sk-container-id-1 div.sk-container {/* jupyter's `normalize.less` sets `[hidden] { display: none; }` but bootstrap.min.css set `[hidden] { display: none !important; }` so we also need the `!important` here to be able to override the default hidden behavior on the sphinx rendered scikit-learn.org. See: https://github.com/scikit-learn/scikit-learn/issues/21755 */display: inline-block !important;position: relative;}#sk-container-id-1 div.sk-text-repr-fallback {display: none;}</style><div id=\"sk-container-id-1\" class=\"sk-top-container\"><div class=\"sk-text-repr-fallback\"><pre>Pipeline(steps=[(&#x27;onehotencoder&#x27;, OneHotEncoder(handle_unknown=&#x27;ignore&#x27;)),\n",
       "                (&#x27;logisticregression&#x27;, LogisticRegression())])</pre><b>In a Jupyter environment, please rerun this cell to show the HTML representation or trust the notebook. <br />On GitHub, the HTML representation is unable to render, please try loading this page with nbviewer.org.</b></div><div class=\"sk-container\" hidden><div class=\"sk-item sk-dashed-wrapped\"><div class=\"sk-label-container\"><div class=\"sk-label sk-toggleable\"><input class=\"sk-toggleable__control sk-hidden--visually\" id=\"sk-estimator-id-1\" type=\"checkbox\" ><label for=\"sk-estimator-id-1\" class=\"sk-toggleable__label sk-toggleable__label-arrow\">Pipeline</label><div class=\"sk-toggleable__content\"><pre>Pipeline(steps=[(&#x27;onehotencoder&#x27;, OneHotEncoder(handle_unknown=&#x27;ignore&#x27;)),\n",
       "                (&#x27;logisticregression&#x27;, LogisticRegression())])</pre></div></div></div><div class=\"sk-serial\"><div class=\"sk-item\"><div class=\"sk-estimator sk-toggleable\"><input class=\"sk-toggleable__control sk-hidden--visually\" id=\"sk-estimator-id-2\" type=\"checkbox\" ><label for=\"sk-estimator-id-2\" class=\"sk-toggleable__label sk-toggleable__label-arrow\">OneHotEncoder</label><div class=\"sk-toggleable__content\"><pre>OneHotEncoder(handle_unknown=&#x27;ignore&#x27;)</pre></div></div></div><div class=\"sk-item\"><div class=\"sk-estimator sk-toggleable\"><input class=\"sk-toggleable__control sk-hidden--visually\" id=\"sk-estimator-id-3\" type=\"checkbox\" ><label for=\"sk-estimator-id-3\" class=\"sk-toggleable__label sk-toggleable__label-arrow\">LogisticRegression</label><div class=\"sk-toggleable__content\"><pre>LogisticRegression()</pre></div></div></div></div></div></div></div>"
      ],
      "text/plain": [
       "Pipeline(steps=[('onehotencoder', OneHotEncoder(handle_unknown='ignore')),\n",
       "                ('logisticregression', LogisticRegression())])"
      ]
     },
     "execution_count": 14,
     "metadata": {},
     "output_type": "execute_result"
    }
   ],
   "source": [
    "# Now fit the pipeline to all the training data\n",
    "# YOUR CODE HERE\n",
    "pipeline.fit(X,y)"
   ]
  },
  {
   "cell_type": "code",
   "execution_count": 16,
   "metadata": {
    "ExecuteTime": {
     "end_time": "2024-05-04T08:30:20.603950Z",
     "start_time": "2024-05-04T08:30:20.596196Z"
    },
    "deletable": false,
    "editable": false,
    "nbgrader": {
     "grade": true,
     "grade_id": "cell-1253351ba8bae163",
     "locked": true,
     "points": 2,
     "schema_version": 3,
     "solution": false,
     "task": false
    }
   },
   "outputs": [],
   "source": [
    "assert pipeline.predict_proba(X.head(1)).shape == (1, 2)"
   ]
  },
  {
   "cell_type": "markdown",
   "metadata": {
    "deletable": false,
    "editable": false,
    "nbgrader": {
     "grade": false,
     "grade_id": "cell-8f3c2bb7e745d119",
     "locked": true,
     "schema_version": 3,
     "solution": false,
     "task": false
    }
   },
   "source": [
    "### 3. Serialize all the things!\n",
    "\n",
    "Now we need to serialize three things:\n",
    "\n",
    "1. The column names in the correct order\n",
    "1. The fitted pipeline\n",
    "1. The dtypes of the columns of the training set"
   ]
  },
  {
   "cell_type": "code",
   "execution_count": 17,
   "metadata": {
    "ExecuteTime": {
     "end_time": "2024-05-04T08:30:31.403468Z",
     "start_time": "2024-05-04T08:30:31.398739Z"
    }
   },
   "outputs": [],
   "source": [
    "# This is a temporary directory where your serialized files will be saved\n",
    "# You can change it while working on the exercises locally,\n",
    "# but change it back to TMP_DIR = '/tmp' before submitting the exercises,\n",
    "# otherwise grading will fail\n",
    "TMP_DIR = '/tmp'"
   ]
  },
  {
   "cell_type": "code",
   "execution_count": 18,
   "metadata": {
    "ExecuteTime": {
     "end_time": "2024-05-04T08:31:21.023812Z",
     "start_time": "2024-05-04T08:31:21.018796Z"
    },
    "deletable": false,
    "nbgrader": {
     "grade": false,
     "grade_id": "cell-5c005f7797fa6539",
     "locked": false,
     "schema_version": 3,
     "solution": true,
     "task": false
    }
   },
   "outputs": [],
   "source": [
    "# Serialize the column names from the X DataFrame into a file named columns.json\n",
    "# YOUR CODE HERE\n",
    "with open('/tmp/columns.json', 'w') as fh:\n",
    "    json.dump(X.columns.tolist(), fh)"
   ]
  },
  {
   "cell_type": "code",
   "execution_count": 19,
   "metadata": {
    "ExecuteTime": {
     "end_time": "2024-05-04T08:31:26.147127Z",
     "start_time": "2024-05-04T08:31:26.141345Z"
    },
    "deletable": false,
    "editable": false,
    "nbgrader": {
     "grade": true,
     "grade_id": "cell-05b83e3ddf3da045",
     "locked": true,
     "points": 1,
     "schema_version": 3,
     "solution": false,
     "task": false
    }
   },
   "outputs": [],
   "source": [
    "with open(os.path.join(TMP_DIR, \"columns.json\"), 'r') as fh:\n",
    "    columns = json.load(fh)\n",
    "    \n",
    "assert columns == X.columns.tolist()"
   ]
  },
  {
   "cell_type": "code",
   "execution_count": 20,
   "metadata": {
    "ExecuteTime": {
     "end_time": "2024-05-04T08:31:43.430531Z",
     "start_time": "2024-05-04T08:31:43.424376Z"
    },
    "deletable": false,
    "nbgrader": {
     "grade": false,
     "grade_id": "cell-07af2c8ac79550f7",
     "locked": false,
     "schema_version": 3,
     "solution": true,
     "task": false
    }
   },
   "outputs": [],
   "source": [
    "# Pickle the dtypes of the columns from the X DataFrame into a file named dtypes.pickle\n",
    "# YOUR CODE HERE\n",
    "with open('/tmp/dtypes.pickle', 'wb') as fh:\n",
    "    pickle.dump(X.dtypes, fh)"
   ]
  },
  {
   "cell_type": "code",
   "execution_count": 21,
   "metadata": {
    "ExecuteTime": {
     "end_time": "2024-05-04T08:31:47.972529Z",
     "start_time": "2024-05-04T08:31:47.966248Z"
    },
    "deletable": false,
    "editable": false,
    "nbgrader": {
     "grade": true,
     "grade_id": "cell-47e4637e8d8e2a64",
     "locked": true,
     "points": 1,
     "schema_version": 3,
     "solution": false,
     "task": false
    }
   },
   "outputs": [],
   "source": [
    "with open(os.path.join(TMP_DIR, \"dtypes.pickle\"), 'rb') as fh:\n",
    "    dtypes = pickle.load(fh)\n",
    "    \n",
    "assert dtypes.equals(X.dtypes)"
   ]
  },
  {
   "cell_type": "code",
   "execution_count": 22,
   "metadata": {
    "ExecuteTime": {
     "end_time": "2024-05-04T08:32:01.714628Z",
     "start_time": "2024-05-04T08:32:01.704201Z"
    },
    "deletable": false,
    "nbgrader": {
     "grade": false,
     "grade_id": "cell-83f3ebc142010e9f",
     "locked": false,
     "schema_version": 3,
     "solution": true,
     "task": false
    }
   },
   "outputs": [
    {
     "data": {
      "text/plain": [
       "['/tmp/pipeline.pickle']"
      ]
     },
     "execution_count": 22,
     "metadata": {},
     "output_type": "execute_result"
    }
   ],
   "source": [
    "# Pickle the fitted pipeline into a file named pipeline.pickle\n",
    "# YOUR CODE HERE\n",
    "joblib.dump(pipeline, '/tmp/pipeline.pickle')"
   ]
  },
  {
   "cell_type": "code",
   "execution_count": 23,
   "metadata": {
    "ExecuteTime": {
     "end_time": "2024-05-04T08:32:05.077349Z",
     "start_time": "2024-05-04T08:32:05.065663Z"
    },
    "deletable": false,
    "editable": false,
    "nbgrader": {
     "grade": true,
     "grade_id": "cell-aacbc4873f79af3c",
     "locked": true,
     "points": 1,
     "schema_version": 3,
     "solution": false,
     "task": false
    }
   },
   "outputs": [],
   "source": [
    "pipeline_recovered = joblib.load(os.path.join(TMP_DIR, \"pipeline.pickle\"))\n",
    "\n",
    "assert isinstance(pipeline_recovered, Pipeline)\n",
    "assert pipeline_recovered.predict_proba(X.head(1)).shape == (1, 2)"
   ]
  },
  {
   "cell_type": "markdown",
   "metadata": {
    "deletable": false,
    "editable": false,
    "nbgrader": {
     "grade": false,
     "grade_id": "cell-842958da0ca18608",
     "locked": true,
     "schema_version": 3,
     "solution": false,
     "task": false
    }
   },
   "source": [
    "### 4. Create a new repo for your service\n",
    "\n",
    "Now it's time to create a new repo for your service. As you learned in the README of the [railway-model-deploy repository](https://github.com/LDSSA/railway-model-deploy), duplicate the railway-model-deploy repo.\n",
    "\n",
    "From this point on, you should code on the new repo. The remaining exercises in this notebook are questions meant to check if your service is working as expected.\n",
    "\n",
    "After you've setup your new repo, copy the following things over there:\n",
    "- `columns.json` file\n",
    "- `dtypes.pickle` file\n",
    "- `pipeline.pickle` file\n",
    "- the package containing custom code in your model (only if you've used it, of course!)."
   ]
  },
  {
   "cell_type": "markdown",
   "metadata": {
    "deletable": false,
    "editable": false,
    "nbgrader": {
     "grade": false,
     "grade_id": "cell-348c4399be9f23a8",
     "locked": true,
     "schema_version": 3,
     "solution": false,
     "task": false
    }
   },
   "source": [
    "### 5. Build your flask app\n",
    "\n",
    "#### /predict\n",
    "\n",
    "At this point, you can either edit the `app.py` file that's in the repo, or start a new file from scratch.\n",
    "My advice is that you start one from scratch, as it will probably be a better learning experience.\n",
    "\n",
    "Start by creating a `predict` endpoint, that should receive POST requests, and a JSON payload with:\n",
    "- id\n",
    "- observation, which has 4 fields: age, education, hours-per-week, native-country.\n",
    "\n",
    "This endpoint should return the proba returned by your model for this observation.\n",
    "Make sure that each field is in the correct format before passing it to the scikit model. If you receive an observation with an invalid value, return an appropriate error message.\n",
    "\n",
    "When a request is received, you should update your local sqlite database with the following:\n",
    "- id\n",
    "- observation\n",
    "- proba\n",
    "- true_class (which is null for now)\n",
    "\n",
    "In case your app has received an observation with an id that it has seen before, it should return an error message, the correspondent proba, and not store anything.\n",
    "\n",
    "Try the following commands to check that everything is working as expected."
   ]
  },
  {
   "cell_type": "markdown",
   "metadata": {
    "deletable": false,
    "editable": false,
    "nbgrader": {
     "grade": false,
     "grade_id": "cell-323d5162ea6c0008",
     "locked": true,
     "schema_version": 3,
     "solution": false,
     "task": false
    }
   },
   "source": [
    "**Command**\n",
    "\n",
    "```bash\n",
    "curl -X POST http://localhost:5000/predict -d '{\"id\": 0, \"observation\": {\"age\": 45, \"education\": \"Bachelors\", \"hours-per-week\": 45, \"native-country\": \"United-States\"}}' -H \"Content-Type:application/json\"\n",
    "```\n",
    "\n",
    "\n",
    "**Expected output**\n",
    "\n",
    "```json\n",
    "{\n",
    "  \"proba\": 0.11\n",
    "}\n",
    "```\n",
    "\n",
    "(any proba value works, it depends on your model, of course!)"
   ]
  },
  {
   "cell_type": "markdown",
   "metadata": {
    "deletable": false,
    "editable": false,
    "nbgrader": {
     "grade": false,
     "grade_id": "cell-255b3138647074b8",
     "locked": true,
     "schema_version": 3,
     "solution": false,
     "task": false
    }
   },
   "source": [
    "**Command**\n",
    "\n",
    "```bash\n",
    "curl -X POST http://localhost:5000/predict -d '{\"id\": 0, \"observation\": {\"age\": 45, \"education\": \"Bachelors\", \"hours-per-week\": 45, \"native-country\": \"United-States\"}}' -H \"Content-Type:application/json\"\n",
    "```\n",
    "\n",
    "\n",
    "**Expected output**\n",
    "\n",
    "```json\n",
    "{\n",
    "  \"error\": \"Observation ID: \\\"0\\\" already exists\",\n",
    "  \"proba\": 0.11\n",
    "}\n",
    "```"
   ]
  },
  {
   "cell_type": "markdown",
   "metadata": {
    "deletable": false,
    "editable": false,
    "nbgrader": {
     "grade": false,
     "grade_id": "cell-cd109fea5648a5cb",
     "locked": true,
     "schema_version": 3,
     "solution": false,
     "task": false
    }
   },
   "source": [
    "**Command**\n",
    "\n",
    "```bash\n",
    "curl -X POST http://localhost:5000/predict -d '{\"id\": 1, \"observation\": {\"age\": 45, \"education\": \"Bachelors\", \"hours-per-week\": \"45 hours\", \"native-country\": \"United-States\"}}' -H \"Content-Type:application/json\"\n",
    "```\n",
    "\n",
    "**Expected output**\n",
    "```json\n",
    "{\n",
    "  \"error\": \"Observation is invalid!\"\n",
    "}\n",
    "```"
   ]
  },
  {
   "cell_type": "code",
   "execution_count": 24,
   "metadata": {
    "ExecuteTime": {
     "end_time": "2024-05-04T08:34:27.222975Z",
     "start_time": "2024-05-04T08:34:27.217987Z"
    },
    "deletable": false,
    "nbgrader": {
     "grade": false,
     "grade_id": "cell-c098b18fbb94dac2",
     "locked": false,
     "schema_version": 3,
     "solution": true,
     "task": false
    }
   },
   "outputs": [],
   "source": [
    "# This exercise notebook will not evaluate if your flask app is\n",
    "# working as expected, so we will trust your judgement.\n",
    "# To pass this exercise, simply set predict_endpoint_working_fine = True.\n",
    "predict_endpoint_working_fine = True\n"
   ]
  },
  {
   "cell_type": "code",
   "execution_count": 25,
   "metadata": {
    "ExecuteTime": {
     "end_time": "2024-05-04T08:34:27.939059Z",
     "start_time": "2024-05-04T08:34:27.934351Z"
    },
    "deletable": false,
    "editable": false,
    "nbgrader": {
     "grade": true,
     "grade_id": "cell-3e6dbbbbc93ef800",
     "locked": true,
     "points": 3,
     "schema_version": 3,
     "solution": false,
     "task": false
    }
   },
   "outputs": [],
   "source": [
    "assert predict_endpoint_working_fine"
   ]
  },
  {
   "cell_type": "markdown",
   "metadata": {
    "deletable": false,
    "editable": false,
    "nbgrader": {
     "grade": false,
     "grade_id": "cell-47acb752b1ba5730",
     "locked": true,
     "schema_version": 3,
     "solution": false,
     "task": false
    }
   },
   "source": [
    "#### /update\n",
    "\n",
    "The update endpoint should receive POST requests, and a JSON payload with:\n",
    "- id\n",
    "- true_class\n",
    "\n",
    "If there is an observation with `id` in your database, you should update the `true_class` value with the value in the request. The response should be the observation, with the updated true_class value.\n",
    "\n",
    "Otherwise, you should return an appropriate error message.\n",
    "\n",
    "Try the following commands to check that everything is working as expected."
   ]
  },
  {
   "cell_type": "markdown",
   "metadata": {
    "deletable": false,
    "editable": false,
    "nbgrader": {
     "grade": false,
     "grade_id": "cell-36f99897d25c7dee",
     "locked": true,
     "schema_version": 3,
     "solution": false,
     "task": false
    }
   },
   "source": [
    "**Command**\n",
    "\n",
    "```bash\n",
    "curl -X POST http://localhost:5000/update -d '{\"id\": 0, \"true_class\": 1}'  -H \"Content-Type:application/json\"\n",
    "```\n",
    "\n",
    "\n",
    "**Expected output**\n",
    "\n",
    "```json\n",
    "{\n",
    "  \"id\": 1,\n",
    "  \"observation\": \"{\"age\": 45, \"education\": \"Bachelors\", \"hours-per-week\": 45, \"native-country\": \"United-States\"}\",\n",
    "  \"observation_id\": 0,\n",
    "  \"proba\": 0.3,\n",
    "  \"true_class\": 1\n",
    "}\n",
    "```"
   ]
  },
  {
   "cell_type": "markdown",
   "metadata": {
    "deletable": false,
    "editable": false,
    "nbgrader": {
     "grade": false,
     "grade_id": "cell-87df0f20c5b63b7a",
     "locked": true,
     "schema_version": 3,
     "solution": false,
     "task": false
    }
   },
   "source": [
    "**Command**\n",
    "\n",
    "```bash\n",
    "curl -X POST http://localhost:5000/update -d '{\"id\": 3, \"true_class\": 1}'  -H \"Content-Type:application/json\"\n",
    "```\n",
    "\n",
    "\n",
    "**Expected output**\n",
    "\n",
    "```json\n",
    "{\n",
    "  \"error\": \"Observation ID: \\\"3\\\" does not exist\"\n",
    "}\n",
    "```"
   ]
  },
  {
   "cell_type": "code",
   "execution_count": 26,
   "metadata": {
    "ExecuteTime": {
     "end_time": "2024-05-04T08:34:34.230839Z",
     "start_time": "2024-05-04T08:34:34.225490Z"
    },
    "deletable": false,
    "nbgrader": {
     "grade": false,
     "grade_id": "cell-40d6ee7431c34db9",
     "locked": false,
     "schema_version": 3,
     "solution": true,
     "task": false
    }
   },
   "outputs": [],
   "source": [
    "# When the predict endpoint of your flask app is working as expected,\n",
    "# set variable update_endpoint_working_fine to True\n",
    "update_endpoint_working_fine = True\n",
    "\n"
   ]
  },
  {
   "cell_type": "code",
   "execution_count": 27,
   "metadata": {
    "ExecuteTime": {
     "end_time": "2024-05-04T08:34:34.926918Z",
     "start_time": "2024-05-04T08:34:34.922068Z"
    },
    "deletable": false,
    "editable": false,
    "nbgrader": {
     "grade": true,
     "grade_id": "cell-589e67c22bb96a5b",
     "locked": true,
     "points": 2,
     "schema_version": 3,
     "solution": false,
     "task": false
    }
   },
   "outputs": [],
   "source": [
    "assert update_endpoint_working_fine"
   ]
  },
  {
   "cell_type": "markdown",
   "metadata": {
    "deletable": false,
    "editable": false,
    "nbgrader": {
     "grade": false,
     "grade_id": "cell-b4eb379e93d926d1",
     "locked": true,
     "schema_version": 3,
     "solution": false,
     "task": false
    }
   },
   "source": [
    "### 6. Deploy your app to railway\n",
    "\n",
    "Follow the instructions on the Learning part of this BLU to deploy your app to railway.\n",
    "\n",
    "In order to check that your app is working correctly on railway, re-run the previous commands, but replacing the `localhost` with the URL of your railway app (like `https://<your-app-name>.up.railway.app`). For instance, the first command would be:\n",
    "\n",
    "\n",
    "**Command**\n",
    "\n",
    "```bash\n",
    "curl -X POST https://<your-app-name>.up.railway.app/predict -d '{\"id\": 0, \"observation\": {\"age\": 45, \"education\": \"Bachelors\", \"hours-per-week\": 45, \"native-country\": \"United-States\"}}' -H \"Content-Type:application/json\"\n",
    "```\n",
    "\n",
    "\n",
    "**Expected output**\n",
    "\n",
    "```json\n",
    "{\n",
    "  \"proba\": 0.3\n",
    "}\n",
    "```"
   ]
  },
  {
   "cell_type": "code",
   "execution_count": 28,
   "metadata": {
    "ExecuteTime": {
     "end_time": "2024-05-04T08:35:08.047636Z",
     "start_time": "2024-05-04T08:35:08.043023Z"
    },
    "deletable": false,
    "nbgrader": {
     "grade": false,
     "grade_id": "cell-711322a2c161a32a",
     "locked": false,
     "schema_version": 3,
     "solution": true,
     "task": false
    }
   },
   "outputs": [],
   "source": [
    "# In this test, we will call your app to check if it's working as expected\n",
    "# Assign the variable APP_NAME to the name of your railway app\n",
    "# APP_NAME = ...\n",
    "\n",
    "# YOUR CODE HERE\n",
    "APP_NAME = 'railway-model-deploy-production-1d12.up.railway.app'"
   ]
  },
  {
   "cell_type": "code",
   "execution_count": 29,
   "metadata": {
    "ExecuteTime": {
     "end_time": "2024-05-04T08:35:13.023232Z",
     "start_time": "2024-05-04T08:35:12.577549Z"
    },
    "deletable": false,
    "editable": false,
    "nbgrader": {
     "grade": true,
     "grade_id": "cell-011a2a3474c01346",
     "locked": true,
     "points": 3,
     "schema_version": 3,
     "solution": false,
     "task": false
    }
   },
   "outputs": [
    {
     "ename": "AssertionError",
     "evalue": "",
     "output_type": "error",
     "traceback": [
      "\u001b[0;31m---------------------------------------------------------------------------\u001b[0m",
      "\u001b[0;31mAssertionError\u001b[0m                            Traceback (most recent call last)",
      "Cell \u001b[0;32mIn[29], line 15\u001b[0m\n\u001b[1;32m     12\u001b[0m r \u001b[38;5;241m=\u001b[39m requests\u001b[38;5;241m.\u001b[39mpost(url, json\u001b[38;5;241m=\u001b[39mpayload)\n\u001b[1;32m     14\u001b[0m \u001b[38;5;28;01massert\u001b[39;00m \u001b[38;5;28misinstance\u001b[39m(r, requests\u001b[38;5;241m.\u001b[39mResponse)\n\u001b[0;32m---> 15\u001b[0m \u001b[38;5;28;01massert\u001b[39;00m r\u001b[38;5;241m.\u001b[39mok\n\u001b[1;32m     16\u001b[0m \u001b[38;5;28;01massert\u001b[39;00m \u001b[38;5;124m\"\u001b[39m\u001b[38;5;124mproba\u001b[39m\u001b[38;5;124m\"\u001b[39m \u001b[38;5;129;01min\u001b[39;00m r\u001b[38;5;241m.\u001b[39mjson()\n\u001b[1;32m     17\u001b[0m \u001b[38;5;28;01massert\u001b[39;00m \u001b[38;5;28misinstance\u001b[39m(r\u001b[38;5;241m.\u001b[39mjson()[\u001b[38;5;124m\"\u001b[39m\u001b[38;5;124mproba\u001b[39m\u001b[38;5;124m\"\u001b[39m], \u001b[38;5;28mfloat\u001b[39m)\n",
      "\u001b[0;31mAssertionError\u001b[0m: "
     ]
    }
   ],
   "source": [
    "# Testing the /predict endpoint\n",
    "\n",
    "url = f\"https://{APP_NAME}/predict\"\n",
    "payload = {\n",
    "    \"id\": 0,\n",
    "    \"observation\": {\"age\": 45,\n",
    "                    \"education\": \"Bachelors\",\n",
    "                    \"hours-per-week\": 45,\n",
    "                    \"native-country\": \"United-States\"}\n",
    "}\n",
    "\n",
    "r = requests.post(url, json=payload)\n",
    "\n",
    "assert isinstance(r, requests.Response)\n",
    "assert r.ok\n",
    "assert \"proba\" in r.json()\n",
    "assert isinstance(r.json()[\"proba\"], float)\n",
    "assert 0 <= r.json()[\"proba\"] <= 1"
   ]
  },
  {
   "cell_type": "code",
   "execution_count": 30,
   "metadata": {
    "ExecuteTime": {
     "end_time": "2024-05-04T08:35:19.302498Z",
     "start_time": "2024-05-04T08:35:19.102548Z"
    },
    "deletable": false,
    "editable": false,
    "nbgrader": {
     "grade": true,
     "grade_id": "cell-b88d9b0ab2bf644e",
     "locked": true,
     "points": 2,
     "schema_version": 3,
     "solution": false,
     "task": false
    }
   },
   "outputs": [
    {
     "ename": "AssertionError",
     "evalue": "",
     "output_type": "error",
     "traceback": [
      "\u001b[0;31m---------------------------------------------------------------------------\u001b[0m",
      "\u001b[0;31mAssertionError\u001b[0m                            Traceback (most recent call last)",
      "Cell \u001b[0;32mIn[30], line 12\u001b[0m\n\u001b[1;32m      9\u001b[0m r \u001b[38;5;241m=\u001b[39m requests\u001b[38;5;241m.\u001b[39mpost(url, json\u001b[38;5;241m=\u001b[39mpayload)\n\u001b[1;32m     11\u001b[0m \u001b[38;5;28;01massert\u001b[39;00m \u001b[38;5;28misinstance\u001b[39m(r, requests\u001b[38;5;241m.\u001b[39mResponse)\n\u001b[0;32m---> 12\u001b[0m \u001b[38;5;28;01massert\u001b[39;00m r\u001b[38;5;241m.\u001b[39mok\n\u001b[1;32m     13\u001b[0m \u001b[38;5;28;01massert\u001b[39;00m \u001b[38;5;124m\"\u001b[39m\u001b[38;5;124mobservation\u001b[39m\u001b[38;5;124m\"\u001b[39m \u001b[38;5;129;01min\u001b[39;00m r\u001b[38;5;241m.\u001b[39mjson()\n\u001b[1;32m     14\u001b[0m \u001b[38;5;28;01massert\u001b[39;00m \u001b[38;5;124m\"\u001b[39m\u001b[38;5;124mproba\u001b[39m\u001b[38;5;124m\"\u001b[39m \u001b[38;5;129;01min\u001b[39;00m r\u001b[38;5;241m.\u001b[39mjson()\n",
      "\u001b[0;31mAssertionError\u001b[0m: "
     ]
    }
   ],
   "source": [
    "# Testing the /update endpoint\n",
    "\n",
    "url = f\"https://{APP_NAME}/update\"\n",
    "payload = {\n",
    "    \"id\": 0,\n",
    "    \"true_class\": 1\n",
    "}\n",
    "\n",
    "r = requests.post(url, json=payload)\n",
    "\n",
    "assert isinstance(r, requests.Response)\n",
    "assert r.ok\n",
    "assert \"observation\" in r.json()\n",
    "assert \"proba\" in r.json()\n",
    "assert \"true_class\" in r.json()\n",
    "assert r.json()[\"true_class\"] == 1"
   ]
  },
  {
   "cell_type": "code",
   "execution_count": null,
   "metadata": {},
   "outputs": [],
   "source": []
  }
 ],
 "metadata": {
  "kernelspec": {
   "display_name": "Python 3 (ipykernel)",
   "language": "python",
   "name": "python3"
  },
  "language_info": {
   "codemirror_mode": {
    "name": "ipython",
    "version": 3
   },
   "file_extension": ".py",
   "mimetype": "text/x-python",
   "name": "python",
   "nbconvert_exporter": "python",
   "pygments_lexer": "ipython3",
   "version": "3.10.6"
  },
  "toc": {
   "base_numbering": 1,
   "nav_menu": {},
   "number_sections": true,
   "sideBar": true,
   "skip_h1_title": false,
   "title_cell": "Table of Contents",
   "title_sidebar": "Contents",
   "toc_cell": false,
   "toc_position": {},
   "toc_section_display": true,
   "toc_window_display": false
  }
 },
 "nbformat": 4,
 "nbformat_minor": 4
}
