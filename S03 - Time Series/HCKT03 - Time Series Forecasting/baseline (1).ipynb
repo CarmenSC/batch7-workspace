{
 "cells": [
  {
   "cell_type": "markdown",
   "metadata": {},
   "source": [
    "# Imports"
   ]
  },
  {
   "cell_type": "code",
   "execution_count": 1,
   "metadata": {},
   "outputs": [],
   "source": [
    "import pandas as pd\n",
    "#pd.options.plotting.backend = \"plotly\"\n",
    "import pandas as pd \n",
    "from sklearn.linear_model import LinearRegression\n",
    "from matplotlib import pyplot as plt \n",
    "from sklearn.ensemble import GradientBoostingRegressor\n",
    "from tqdm import tqdm_notebook as tqdm\n",
    "from sklearn.model_selection import KFold\n",
    "from sklearn.metrics import mean_absolute_error\n",
    "%matplotlib inline \n",
    "import numpy as np\n",
    "plt.rcParams['figure.figsize'] = (16, 4)\n",
    "\n",
    "import warnings\n",
    "warnings.filterwarnings(action=\"ignore\")\n",
    "warnings.filterwarnings(action=\"ignore\", module=\"scipy\", message=\"^internal gelsd\")\n",
    "\n",
    "from utils import * # We've added all the functions from the last BLU to the utils.py "
   ]
  },
  {
   "cell_type": "markdown",
   "metadata": {},
   "source": [
    "# Explore the data"
   ]
  },
  {
   "cell_type": "code",
   "execution_count": 2,
   "metadata": {},
   "outputs": [
    {
     "data": {
      "text/html": [
       "<div>\n",
       "<style scoped>\n",
       "    .dataframe tbody tr th:only-of-type {\n",
       "        vertical-align: middle;\n",
       "    }\n",
       "\n",
       "    .dataframe tbody tr th {\n",
       "        vertical-align: top;\n",
       "    }\n",
       "\n",
       "    .dataframe thead th {\n",
       "        text-align: right;\n",
       "    }\n",
       "</style>\n",
       "<table border=\"1\" class=\"dataframe\">\n",
       "  <thead>\n",
       "    <tr style=\"text-align: right;\">\n",
       "      <th></th>\n",
       "      <th>date</th>\n",
       "      <th>power</th>\n",
       "      <th>exog</th>\n",
       "    </tr>\n",
       "  </thead>\n",
       "  <tbody>\n",
       "    <tr>\n",
       "      <th>0</th>\n",
       "      <td>2020-09-20 00:00:00</td>\n",
       "      <td>976.930</td>\n",
       "      <td>11.805</td>\n",
       "    </tr>\n",
       "    <tr>\n",
       "      <th>1</th>\n",
       "      <td>2020-09-20 01:00:00</td>\n",
       "      <td>952.705</td>\n",
       "      <td>11.446</td>\n",
       "    </tr>\n",
       "    <tr>\n",
       "      <th>2</th>\n",
       "      <td>2020-09-20 02:00:00</td>\n",
       "      <td>928.813</td>\n",
       "      <td>11.218</td>\n",
       "    </tr>\n",
       "    <tr>\n",
       "      <th>3</th>\n",
       "      <td>2020-09-20 03:00:00</td>\n",
       "      <td>984.234</td>\n",
       "      <td>11.025</td>\n",
       "    </tr>\n",
       "    <tr>\n",
       "      <th>4</th>\n",
       "      <td>2020-09-20 04:00:00</td>\n",
       "      <td>1002.113</td>\n",
       "      <td>11.196</td>\n",
       "    </tr>\n",
       "  </tbody>\n",
       "</table>\n",
       "</div>"
      ],
      "text/plain": [
       "                  date     power    exog\n",
       "0  2020-09-20 00:00:00   976.930  11.805\n",
       "1  2020-09-20 01:00:00   952.705  11.446\n",
       "2  2020-09-20 02:00:00   928.813  11.218\n",
       "3  2020-09-20 03:00:00   984.234  11.025\n",
       "4  2020-09-20 04:00:00  1002.113  11.196"
      ]
     },
     "execution_count": 2,
     "metadata": {},
     "output_type": "execute_result"
    }
   ],
   "source": [
    "data = pd.read_csv(\"data/data.csv\")\n",
    "data.head(5)"
   ]
  },
  {
   "cell_type": "markdown",
   "metadata": {},
   "source": [
    "Variables:\n",
    "- date: date and hour\n",
    "- power: power readings at each hour, which is what you want to predict\n",
    "- exog: wind speed forecast, which is the exogenous data that may be useful to make your predictions\n",
    "\n",
    "First we read the data and make the date our index."
   ]
  },
  {
   "cell_type": "code",
   "execution_count": 4,
   "metadata": {},
   "outputs": [],
   "source": [
    "df = pd.read_csv(\"data/data.csv\", index_col=\"date\", parse_dates=True)\n",
    "df = df.sort_index()"
   ]
  },
  {
   "cell_type": "code",
   "execution_count": 5,
   "metadata": {},
   "outputs": [
    {
     "data": {
      "text/html": [
       "<div>\n",
       "<style scoped>\n",
       "    .dataframe tbody tr th:only-of-type {\n",
       "        vertical-align: middle;\n",
       "    }\n",
       "\n",
       "    .dataframe tbody tr th {\n",
       "        vertical-align: top;\n",
       "    }\n",
       "\n",
       "    .dataframe thead th {\n",
       "        text-align: right;\n",
       "    }\n",
       "</style>\n",
       "<table border=\"1\" class=\"dataframe\">\n",
       "  <thead>\n",
       "    <tr style=\"text-align: right;\">\n",
       "      <th></th>\n",
       "      <th>power</th>\n",
       "      <th>exog</th>\n",
       "    </tr>\n",
       "    <tr>\n",
       "      <th>date</th>\n",
       "      <th></th>\n",
       "      <th></th>\n",
       "    </tr>\n",
       "  </thead>\n",
       "  <tbody>\n",
       "    <tr>\n",
       "      <th>2020-09-20 00:00:00</th>\n",
       "      <td>976.930</td>\n",
       "      <td>11.805</td>\n",
       "    </tr>\n",
       "    <tr>\n",
       "      <th>2020-09-20 01:00:00</th>\n",
       "      <td>952.705</td>\n",
       "      <td>11.446</td>\n",
       "    </tr>\n",
       "    <tr>\n",
       "      <th>2020-09-20 02:00:00</th>\n",
       "      <td>928.813</td>\n",
       "      <td>11.218</td>\n",
       "    </tr>\n",
       "    <tr>\n",
       "      <th>2020-09-20 03:00:00</th>\n",
       "      <td>984.234</td>\n",
       "      <td>11.025</td>\n",
       "    </tr>\n",
       "    <tr>\n",
       "      <th>2020-09-20 04:00:00</th>\n",
       "      <td>1002.113</td>\n",
       "      <td>11.196</td>\n",
       "    </tr>\n",
       "  </tbody>\n",
       "</table>\n",
       "</div>"
      ],
      "text/plain": [
       "                        power    exog\n",
       "date                                 \n",
       "2020-09-20 00:00:00   976.930  11.805\n",
       "2020-09-20 01:00:00   952.705  11.446\n",
       "2020-09-20 02:00:00   928.813  11.218\n",
       "2020-09-20 03:00:00   984.234  11.025\n",
       "2020-09-20 04:00:00  1002.113  11.196"
      ]
     },
     "execution_count": 5,
     "metadata": {},
     "output_type": "execute_result"
    }
   ],
   "source": [
    "df.head(5)"
   ]
  },
  {
   "cell_type": "code",
   "execution_count": 6,
   "metadata": {},
   "outputs": [
    {
     "data": {
      "text/html": [
       "<div>\n",
       "<style scoped>\n",
       "    .dataframe tbody tr th:only-of-type {\n",
       "        vertical-align: middle;\n",
       "    }\n",
       "\n",
       "    .dataframe tbody tr th {\n",
       "        vertical-align: top;\n",
       "    }\n",
       "\n",
       "    .dataframe thead th {\n",
       "        text-align: right;\n",
       "    }\n",
       "</style>\n",
       "<table border=\"1\" class=\"dataframe\">\n",
       "  <thead>\n",
       "    <tr style=\"text-align: right;\">\n",
       "      <th></th>\n",
       "      <th>power</th>\n",
       "      <th>exog</th>\n",
       "    </tr>\n",
       "    <tr>\n",
       "      <th>date</th>\n",
       "      <th></th>\n",
       "      <th></th>\n",
       "    </tr>\n",
       "  </thead>\n",
       "  <tbody>\n",
       "    <tr>\n",
       "      <th>2023-10-15 19:00:00</th>\n",
       "      <td>NaN</td>\n",
       "      <td>10.820</td>\n",
       "    </tr>\n",
       "    <tr>\n",
       "      <th>2023-10-15 20:00:00</th>\n",
       "      <td>NaN</td>\n",
       "      <td>10.619</td>\n",
       "    </tr>\n",
       "    <tr>\n",
       "      <th>2023-10-15 21:00:00</th>\n",
       "      <td>NaN</td>\n",
       "      <td>9.535</td>\n",
       "    </tr>\n",
       "    <tr>\n",
       "      <th>2023-10-15 22:00:00</th>\n",
       "      <td>NaN</td>\n",
       "      <td>10.031</td>\n",
       "    </tr>\n",
       "    <tr>\n",
       "      <th>2023-10-15 23:00:00</th>\n",
       "      <td>NaN</td>\n",
       "      <td>9.464</td>\n",
       "    </tr>\n",
       "  </tbody>\n",
       "</table>\n",
       "</div>"
      ],
      "text/plain": [
       "                     power    exog\n",
       "date                              \n",
       "2023-10-15 19:00:00    NaN  10.820\n",
       "2023-10-15 20:00:00    NaN  10.619\n",
       "2023-10-15 21:00:00    NaN   9.535\n",
       "2023-10-15 22:00:00    NaN  10.031\n",
       "2023-10-15 23:00:00    NaN   9.464"
      ]
     },
     "execution_count": 6,
     "metadata": {},
     "output_type": "execute_result"
    }
   ],
   "source": [
    "df.tail(5)"
   ]
  },
  {
   "cell_type": "markdown",
   "metadata": {},
   "source": [
    "The power values in the last 168 entries (last 7 days) is empty as we want to predict these ones."
   ]
  },
  {
   "cell_type": "markdown",
   "metadata": {},
   "source": [
    "Check if we have duplicates"
   ]
  },
  {
   "cell_type": "code",
   "execution_count": 7,
   "metadata": {},
   "outputs": [
    {
     "data": {
      "text/html": [
       "<div>\n",
       "<style scoped>\n",
       "    .dataframe tbody tr th:only-of-type {\n",
       "        vertical-align: middle;\n",
       "    }\n",
       "\n",
       "    .dataframe tbody tr th {\n",
       "        vertical-align: top;\n",
       "    }\n",
       "\n",
       "    .dataframe thead th {\n",
       "        text-align: right;\n",
       "    }\n",
       "</style>\n",
       "<table border=\"1\" class=\"dataframe\">\n",
       "  <thead>\n",
       "    <tr style=\"text-align: right;\">\n",
       "      <th></th>\n",
       "      <th>power</th>\n",
       "      <th>exog</th>\n",
       "    </tr>\n",
       "    <tr>\n",
       "      <th>date</th>\n",
       "      <th></th>\n",
       "      <th></th>\n",
       "    </tr>\n",
       "  </thead>\n",
       "  <tbody>\n",
       "  </tbody>\n",
       "</table>\n",
       "</div>"
      ],
      "text/plain": [
       "Empty DataFrame\n",
       "Columns: [power, exog]\n",
       "Index: []"
      ]
     },
     "execution_count": 7,
     "metadata": {},
     "output_type": "execute_result"
    }
   ],
   "source": [
    "df[df.index.duplicated()]"
   ]
  },
  {
   "cell_type": "markdown",
   "metadata": {},
   "source": [
    "Check if the dataset have rows corresponding to all timestamps"
   ]
  },
  {
   "cell_type": "code",
   "execution_count": 8,
   "metadata": {},
   "outputs": [
    {
     "name": "stdout",
     "output_type": "stream",
     "text": [
      "It starts at 2020-09-20 00:00:00 and ends at 2023-10-15 23:00:00\n"
     ]
    }
   ],
   "source": [
    "start_date = df.index.min()\n",
    "end_date = df.index.max() \n",
    "print(f\"It starts at {start_date} and ends at {end_date}\")"
   ]
  },
  {
   "cell_type": "code",
   "execution_count": 9,
   "metadata": {},
   "outputs": [
    {
     "name": "stdout",
     "output_type": "stream",
     "text": [
      "All timestamps are present in the DataFrame.\n"
     ]
    }
   ],
   "source": [
    "expected_range = pd.date_range(start=start_date, end=end_date, freq='D') \n",
    "\n",
    "missing_timestamps = expected_range[~expected_range.isin(df.index)]\n",
    "\n",
    "if len(missing_timestamps) == 0:\n",
    "    print(\"All timestamps are present in the DataFrame.\")\n",
    "else:\n",
    "    print(\"Missing timestamps:\")\n",
    "    print(missing_timestamps)"
   ]
  },
  {
   "cell_type": "markdown",
   "metadata": {},
   "source": [
    "So from when to when are we trying to predict?"
   ]
  },
  {
   "cell_type": "code",
   "execution_count": 10,
   "metadata": {},
   "outputs": [
    {
     "name": "stdout",
     "output_type": "stream",
     "text": [
      "From: 2023-10-09 00:00:00 to 2023-10-15 23:00:00\n"
     ]
    }
   ],
   "source": [
    "last_168_index = df.tail(168).index\n",
    "min_index = last_168_index.min()\n",
    "max_index = last_168_index.max()\n",
    "\n",
    "print(\"From:\", min_index, \"to\", max_index)"
   ]
  },
  {
   "cell_type": "markdown",
   "metadata": {},
   "source": [
    "Let's see the range of power values"
   ]
  },
  {
   "cell_type": "code",
   "execution_count": 11,
   "metadata": {},
   "outputs": [
    {
     "name": "stdout",
     "output_type": "stream",
     "text": [
      "Power has a minimum value of 0.0 and a maximum value of 1192.596\n"
     ]
    }
   ],
   "source": [
    "power_min = df.power.min()\n",
    "power_max = df.power.max() \n",
    "print(f\"Power has a minimum value of {power_min} and a maximum value of {power_max}\")"
   ]
  },
  {
   "cell_type": "markdown",
   "metadata": {},
   "source": [
    "Let's see the range of the wind speed (exog) values"
   ]
  },
  {
   "cell_type": "code",
   "execution_count": 12,
   "metadata": {},
   "outputs": [
    {
     "name": "stdout",
     "output_type": "stream",
     "text": [
      "Wind speed has a minimum value of 0.088 and a maximum value of 31.143\n"
     ]
    }
   ],
   "source": [
    "speed_min = df.exog.min()\n",
    "speed_max = df.exog.max() \n",
    "print(f\"Wind speed has a minimum value of {speed_min} and a maximum value of {speed_max}\")"
   ]
  },
  {
   "cell_type": "markdown",
   "metadata": {},
   "source": [
    "Let's see if we have missing values in the power and exog columns."
   ]
  },
  {
   "cell_type": "code",
   "execution_count": 13,
   "metadata": {},
   "outputs": [
    {
     "name": "stdout",
     "output_type": "stream",
     "text": [
      "Number of missing values in the 'exog' column: 259\n",
      "In the indexes: DatetimeIndex(['2020-10-16 07:00:00', '2020-10-16 08:00:00',\n",
      "               '2020-12-11 07:00:00', '2020-12-11 08:00:00',\n",
      "               '2020-12-11 10:00:00', '2020-12-11 11:00:00',\n",
      "               '2020-12-13 03:00:00', '2020-12-13 06:00:00',\n",
      "               '2020-12-26 11:00:00', '2021-01-20 03:00:00',\n",
      "               ...\n",
      "               '2022-12-06 08:00:00', '2022-12-06 09:00:00',\n",
      "               '2022-12-06 10:00:00', '2022-12-06 11:00:00',\n",
      "               '2022-12-06 12:00:00', '2022-12-06 13:00:00',\n",
      "               '2022-12-06 14:00:00', '2022-12-06 15:00:00',\n",
      "               '2022-12-06 16:00:00', '2022-12-06 17:00:00'],\n",
      "              dtype='datetime64[ns]', name='date', length=259, freq=None)\n"
     ]
    }
   ],
   "source": [
    "if df['exog'].isna().any():\n",
    "    missing_values_count = df['exog'].isna().sum()\n",
    "    missing_values_indices = df[df['exog'].isna()].index\n",
    "    print(\"Number of missing values in the 'exog' column:\", missing_values_count)\n",
    "    print(\"In the indexes:\", missing_values_indices)\n",
    "    df['date'] = df.index.date\n",
    "\n",
    "else:\n",
    "    print(\"The 'exog' column does not have any missing values.\")"
   ]
  },
  {
   "cell_type": "code",
   "execution_count": 14,
   "metadata": {},
   "outputs": [
    {
     "data": {
      "image/png": "[encoded data removed]",
      "text/plain": [
       "<Figure size 1000x600 with 1 Axes>"
      ]
     },
     "metadata": {},
     "output_type": "display_data"
    }
   ],
   "source": [
    "import matplotlib.pyplot as plt\n",
    "\n",
    "# Highlight missing values\n",
    "if df['exog'].isna().any():\n",
    "    missing_values_indices = df[df['exog'].isna()].index\n",
    "\n",
    "    # Plotting missing values only\n",
    "    plt.figure(figsize=(10, 6))\n",
    "    plt.plot(missing_values_indices, [0] * len(missing_values_indices), marker='X', markersize=10, color='red', linestyle='', label='Missing Values')\n",
    "\n",
    "    plt.title('Visualization of Missing Values for Wind Speed (exog)')\n",
    "    plt.xlabel('Date')\n",
    "    plt.ylabel('Missing Values')\n",
    "    plt.legend()\n",
    "    plt.grid(False)\n",
    "    plt.yticks([])\n",
    "    plt.show()\n",
    "else:\n",
    "    print(\"No missing values found in the 'exog' column.\")\n"
   ]
  },
  {
   "cell_type": "code",
   "execution_count": 15,
   "metadata": {},
   "outputs": [
    {
     "name": "stdout",
     "output_type": "stream",
     "text": [
      "Number of missing values in the 'power' column excluding the last 168 entries: 51\n",
      "In the indexes: DatetimeIndex(['2021-11-15 00:00:00', '2021-11-15 01:00:00',\n",
      "               '2023-06-03 23:00:00', '2023-06-04 00:00:00',\n",
      "               '2023-06-04 01:00:00', '2023-06-04 02:00:00',\n",
      "               '2023-06-04 03:00:00', '2023-06-04 04:00:00',\n",
      "               '2023-06-04 05:00:00', '2023-06-04 06:00:00',\n",
      "               '2023-06-04 07:00:00', '2023-06-04 08:00:00',\n",
      "               '2023-06-04 09:00:00', '2023-06-04 10:00:00',\n",
      "               '2023-06-04 11:00:00', '2023-06-04 12:00:00',\n",
      "               '2023-06-04 13:00:00', '2023-06-04 14:00:00',\n",
      "               '2023-06-04 15:00:00', '2023-06-04 16:00:00',\n",
      "               '2023-06-04 17:00:00', '2023-06-04 18:00:00',\n",
      "               '2023-06-04 19:00:00', '2023-06-04 20:00:00',\n",
      "               '2023-06-04 21:00:00', '2023-06-04 22:00:00',\n",
      "               '2023-08-16 23:00:00', '2023-09-16 23:00:00',\n",
      "               '2023-09-17 00:00:00', '2023-09-17 01:00:00',\n",
      "               '2023-09-17 02:00:00', '2023-09-17 03:00:00',\n",
      "               '2023-09-17 04:00:00', '2023-09-17 05:00:00',\n",
      "               '2023-09-17 06:00:00', '2023-09-17 07:00:00',\n",
      "               '2023-09-17 08:00:00', '2023-09-17 09:00:00',\n",
      "               '2023-09-17 10:00:00', '2023-09-17 11:00:00',\n",
      "               '2023-09-17 12:00:00', '2023-09-17 13:00:00',\n",
      "               '2023-09-17 14:00:00', '2023-09-17 15:00:00',\n",
      "               '2023-09-17 16:00:00', '2023-09-17 17:00:00',\n",
      "               '2023-09-17 18:00:00', '2023-09-17 19:00:00',\n",
      "               '2023-09-17 20:00:00', '2023-09-17 21:00:00',\n",
      "               '2023-09-17 22:00:00'],\n",
      "              dtype='datetime64[ns]', name='date', freq=None)\n"
     ]
    }
   ],
   "source": [
    "if df['power'].isna().any():\n",
    "    missing_values_count = df['power'].isna().sum()\n",
    "    relevant_missing = missing_values_count - 168\n",
    "    missing_values_indices = df[df['power'].isna()].index[:-168]\n",
    "    print(\"Number of missing values in the 'power' column excluding the last 168 entries:\", relevant_missing)\n",
    "    print(\"In the indexes:\", missing_values_indices)\n",
    "else:\n",
    "    print(\"The 'power' column does not have any missing values.\")"
   ]
  },
  {
   "cell_type": "code",
   "execution_count": 16,
   "metadata": {},
   "outputs": [
    {
     "data": {
      "image/png": "[encoded data removed]",
      "text/plain": [
       "<Figure size 1000x600 with 1 Axes>"
      ]
     },
     "metadata": {},
     "output_type": "display_data"
    }
   ],
   "source": [
    "# Highlight missing values\n",
    "if df['power'].isna().any():\n",
    "    missing_values_indices = df[df['power'].isna()].index\n",
    "\n",
    "    # Plotting missing values only\n",
    "    plt.figure(figsize=(10, 6))\n",
    "    plt.plot(missing_values_indices, [0] * len(missing_values_indices), marker='X', markersize=10, color='red', linestyle='', label='Missing Values')\n",
    "\n",
    "    plt.title('Visualization of Missing Values for Power')\n",
    "    plt.xlabel('Date')\n",
    "    plt.ylabel('Missing Values')\n",
    "    plt.legend()\n",
    "    plt.grid(False)\n",
    "    plt.yticks([])\n",
    "    plt.show()\n",
    "else:\n",
    "    print(\"No missing values found in the 'power' column.\")\n"
   ]
  },
  {
   "cell_type": "markdown",
   "metadata": {},
   "source": [
    "So we have 51 empty values in power and 219 empty values in the wind speed forecast."
   ]
  },
  {
   "cell_type": "markdown",
   "metadata": {},
   "source": [
    "Let's input some values to the exog and power, except when in the last 168 entries where we want power to still be empty."
   ]
  },
  {
   "cell_type": "code",
   "execution_count": 17,
   "metadata": {},
   "outputs": [],
   "source": [
    "df = pd.read_csv(\"data/data.csv\", index_col=\"date\", parse_dates=True)\n",
    "df = df.sort_index()"
   ]
  },
  {
   "cell_type": "code",
   "execution_count": 18,
   "metadata": {},
   "outputs": [],
   "source": [
    "from sklearn.impute import KNNImputer\n",
    "imputer = KNNImputer() \n",
    "    \n",
    "data_imputed = imputer.fit_transform(df)\n",
    "\n",
    "# Create DataFrame with imputed values for all but the last 168 rows\n",
    "df_imputed = pd.DataFrame(imputer.fit_transform(df.iloc[:-168]), index=df.iloc[:-168].index, columns=df.columns)\n",
    "\n",
    "# Concatenate imputed data with the last 168 rows\n",
    "df_final = pd.concat([df_imputed, df.iloc[-168:]])\n",
    "\n",
    "# df_imputed.exog.plot()\n",
    "# plt.ylabel('exog')\n",
    "# plt.show()"
   ]
  },
  {
   "cell_type": "code",
   "execution_count": 19,
   "metadata": {},
   "outputs": [
    {
     "data": {
      "text/html": [
       "<div>\n",
       "<style scoped>\n",
       "    .dataframe tbody tr th:only-of-type {\n",
       "        vertical-align: middle;\n",
       "    }\n",
       "\n",
       "    .dataframe tbody tr th {\n",
       "        vertical-align: top;\n",
       "    }\n",
       "\n",
       "    .dataframe thead th {\n",
       "        text-align: right;\n",
       "    }\n",
       "</style>\n",
       "<table border=\"1\" class=\"dataframe\">\n",
       "  <thead>\n",
       "    <tr style=\"text-align: right;\">\n",
       "      <th></th>\n",
       "      <th>power</th>\n",
       "      <th>exog</th>\n",
       "    </tr>\n",
       "    <tr>\n",
       "      <th>date</th>\n",
       "      <th></th>\n",
       "      <th></th>\n",
       "    </tr>\n",
       "  </thead>\n",
       "  <tbody>\n",
       "    <tr>\n",
       "      <th>2020-09-20 00:00:00</th>\n",
       "      <td>976.930</td>\n",
       "      <td>11.805</td>\n",
       "    </tr>\n",
       "    <tr>\n",
       "      <th>2020-09-20 01:00:00</th>\n",
       "      <td>952.705</td>\n",
       "      <td>11.446</td>\n",
       "    </tr>\n",
       "    <tr>\n",
       "      <th>2020-09-20 02:00:00</th>\n",
       "      <td>928.813</td>\n",
       "      <td>11.218</td>\n",
       "    </tr>\n",
       "    <tr>\n",
       "      <th>2020-09-20 03:00:00</th>\n",
       "      <td>984.234</td>\n",
       "      <td>11.025</td>\n",
       "    </tr>\n",
       "    <tr>\n",
       "      <th>2020-09-20 04:00:00</th>\n",
       "      <td>1002.113</td>\n",
       "      <td>11.196</td>\n",
       "    </tr>\n",
       "  </tbody>\n",
       "</table>\n",
       "</div>"
      ],
      "text/plain": [
       "                        power    exog\n",
       "date                                 \n",
       "2020-09-20 00:00:00   976.930  11.805\n",
       "2020-09-20 01:00:00   952.705  11.446\n",
       "2020-09-20 02:00:00   928.813  11.218\n",
       "2020-09-20 03:00:00   984.234  11.025\n",
       "2020-09-20 04:00:00  1002.113  11.196"
      ]
     },
     "execution_count": 19,
     "metadata": {},
     "output_type": "execute_result"
    }
   ],
   "source": [
    "df_final.head(5)"
   ]
  },
  {
   "cell_type": "code",
   "execution_count": 20,
   "metadata": {},
   "outputs": [
    {
     "data": {
      "text/html": [
       "<div>\n",
       "<style scoped>\n",
       "    .dataframe tbody tr th:only-of-type {\n",
       "        vertical-align: middle;\n",
       "    }\n",
       "\n",
       "    .dataframe tbody tr th {\n",
       "        vertical-align: top;\n",
       "    }\n",
       "\n",
       "    .dataframe thead th {\n",
       "        text-align: right;\n",
       "    }\n",
       "</style>\n",
       "<table border=\"1\" class=\"dataframe\">\n",
       "  <thead>\n",
       "    <tr style=\"text-align: right;\">\n",
       "      <th></th>\n",
       "      <th>power</th>\n",
       "      <th>exog</th>\n",
       "    </tr>\n",
       "    <tr>\n",
       "      <th>date</th>\n",
       "      <th></th>\n",
       "      <th></th>\n",
       "    </tr>\n",
       "  </thead>\n",
       "  <tbody>\n",
       "    <tr>\n",
       "      <th>2023-10-15 19:00:00</th>\n",
       "      <td>NaN</td>\n",
       "      <td>10.820</td>\n",
       "    </tr>\n",
       "    <tr>\n",
       "      <th>2023-10-15 20:00:00</th>\n",
       "      <td>NaN</td>\n",
       "      <td>10.619</td>\n",
       "    </tr>\n",
       "    <tr>\n",
       "      <th>2023-10-15 21:00:00</th>\n",
       "      <td>NaN</td>\n",
       "      <td>9.535</td>\n",
       "    </tr>\n",
       "    <tr>\n",
       "      <th>2023-10-15 22:00:00</th>\n",
       "      <td>NaN</td>\n",
       "      <td>10.031</td>\n",
       "    </tr>\n",
       "    <tr>\n",
       "      <th>2023-10-15 23:00:00</th>\n",
       "      <td>NaN</td>\n",
       "      <td>9.464</td>\n",
       "    </tr>\n",
       "  </tbody>\n",
       "</table>\n",
       "</div>"
      ],
      "text/plain": [
       "                     power    exog\n",
       "date                              \n",
       "2023-10-15 19:00:00    NaN  10.820\n",
       "2023-10-15 20:00:00    NaN  10.619\n",
       "2023-10-15 21:00:00    NaN   9.535\n",
       "2023-10-15 22:00:00    NaN  10.031\n",
       "2023-10-15 23:00:00    NaN   9.464"
      ]
     },
     "execution_count": 20,
     "metadata": {},
     "output_type": "execute_result"
    }
   ],
   "source": [
    "df_final.tail(5)"
   ]
  },
  {
   "cell_type": "code",
   "execution_count": 21,
   "metadata": {},
   "outputs": [
    {
     "name": "stdout",
     "output_type": "stream",
     "text": [
      "Number of missing values in the 'power' column excluding the last 168 entries: 0\n",
      "In the indexes: DatetimeIndex([], dtype='datetime64[ns]', name='date', freq=None)\n"
     ]
    }
   ],
   "source": [
    "if df_final['power'].isna().any():\n",
    "    missing_values_count = df_final['power'].isna().sum()\n",
    "    relevant_missing = missing_values_count - 168\n",
    "    missing_values_indices = df_final[df_final['power'].isna()].index[:-168]\n",
    "    print(\"Number of missing values in the 'power' column excluding the last 168 entries:\", relevant_missing)\n",
    "    print(\"In the indexes:\", missing_values_indices)\n",
    "else:\n",
    "    print(\"The 'power' column does not have any missing values.\")"
   ]
  },
  {
   "cell_type": "code",
   "execution_count": 22,
   "metadata": {},
   "outputs": [
    {
     "name": "stdout",
     "output_type": "stream",
     "text": [
      "The 'exog' column does not have any missing values.\n"
     ]
    }
   ],
   "source": [
    "if df_final['exog'].isna().any():\n",
    "    missing_values_count = df_final['exog'].isna().sum()\n",
    "    missing_values_indices = df_final[df_final['exog'].isna()].index\n",
    "    print(\"Number of missing values in the 'exog' column:\", missing_values_count)\n",
    "    print(\"In the indexes:\", missing_values_indices)\n",
    "    df_final['date'] = df_final.index.date\n",
    "else:\n",
    "    print(\"The 'exog' column does not have any missing values.\")"
   ]
  },
  {
   "cell_type": "markdown",
   "metadata": {},
   "source": [
    "## Baseline"
   ]
  },
  {
   "cell_type": "markdown",
   "metadata": {},
   "source": [
    "### Baseline using the values of the previous 7 days"
   ]
  },
  {
   "cell_type": "markdown",
   "metadata": {},
   "source": [
    "Let's create a first baseline."
   ]
  },
  {
   "cell_type": "markdown",
   "metadata": {},
   "source": [
    "Let's start by adding lagged features to our data. We want to make predictions for the next 7 days and each day has 24 hours so 24*7, which are the 168 values that we are missing."
   ]
  },
  {
   "cell_type": "code",
   "execution_count": 29,
   "metadata": {},
   "outputs": [],
   "source": [
    "df_baseline = build_exog_features(df_final, 24*7)"
   ]
  },
  {
   "cell_type": "code",
   "execution_count": 30,
   "metadata": {},
   "outputs": [
    {
     "data": {
      "text/html": [
       "<div>\n",
       "<style scoped>\n",
       "    .dataframe tbody tr th:only-of-type {\n",
       "        vertical-align: middle;\n",
       "    }\n",
       "\n",
       "    .dataframe tbody tr th {\n",
       "        vertical-align: top;\n",
       "    }\n",
       "\n",
       "    .dataframe thead th {\n",
       "        text-align: right;\n",
       "    }\n",
       "</style>\n",
       "<table border=\"1\" class=\"dataframe\">\n",
       "  <thead>\n",
       "    <tr style=\"text-align: right;\">\n",
       "      <th></th>\n",
       "      <th>power</th>\n",
       "      <th>exog</th>\n",
       "      <th>exog_lead1</th>\n",
       "      <th>exog_lead2</th>\n",
       "      <th>exog_lead3</th>\n",
       "      <th>exog_lead4</th>\n",
       "      <th>exog_lead5</th>\n",
       "      <th>exog_lead6</th>\n",
       "      <th>exog_lead7</th>\n",
       "      <th>exog_lead8</th>\n",
       "      <th>...</th>\n",
       "      <th>exog_lead159</th>\n",
       "      <th>exog_lead160</th>\n",
       "      <th>exog_lead161</th>\n",
       "      <th>exog_lead162</th>\n",
       "      <th>exog_lead163</th>\n",
       "      <th>exog_lead164</th>\n",
       "      <th>exog_lead165</th>\n",
       "      <th>exog_lead166</th>\n",
       "      <th>exog_lead167</th>\n",
       "      <th>exog_lead168</th>\n",
       "    </tr>\n",
       "    <tr>\n",
       "      <th>date</th>\n",
       "      <th></th>\n",
       "      <th></th>\n",
       "      <th></th>\n",
       "      <th></th>\n",
       "      <th></th>\n",
       "      <th></th>\n",
       "      <th></th>\n",
       "      <th></th>\n",
       "      <th></th>\n",
       "      <th></th>\n",
       "      <th></th>\n",
       "      <th></th>\n",
       "      <th></th>\n",
       "      <th></th>\n",
       "      <th></th>\n",
       "      <th></th>\n",
       "      <th></th>\n",
       "      <th></th>\n",
       "      <th></th>\n",
       "      <th></th>\n",
       "      <th></th>\n",
       "    </tr>\n",
       "  </thead>\n",
       "  <tbody>\n",
       "    <tr>\n",
       "      <th>2020-09-20 00:00:00</th>\n",
       "      <td>976.930</td>\n",
       "      <td>11.805</td>\n",
       "      <td>11.446</td>\n",
       "      <td>11.218</td>\n",
       "      <td>11.025</td>\n",
       "      <td>11.196</td>\n",
       "      <td>11.414</td>\n",
       "      <td>11.382</td>\n",
       "      <td>10.974</td>\n",
       "      <td>10.505</td>\n",
       "      <td>...</td>\n",
       "      <td>19.099</td>\n",
       "      <td>20.280</td>\n",
       "      <td>20.287</td>\n",
       "      <td>19.097</td>\n",
       "      <td>19.163</td>\n",
       "      <td>18.757</td>\n",
       "      <td>16.223</td>\n",
       "      <td>17.853</td>\n",
       "      <td>16.920</td>\n",
       "      <td>14.621</td>\n",
       "    </tr>\n",
       "    <tr>\n",
       "      <th>2020-09-20 01:00:00</th>\n",
       "      <td>952.705</td>\n",
       "      <td>11.446</td>\n",
       "      <td>11.218</td>\n",
       "      <td>11.025</td>\n",
       "      <td>11.196</td>\n",
       "      <td>11.414</td>\n",
       "      <td>11.382</td>\n",
       "      <td>10.974</td>\n",
       "      <td>10.505</td>\n",
       "      <td>9.757</td>\n",
       "      <td>...</td>\n",
       "      <td>20.280</td>\n",
       "      <td>20.287</td>\n",
       "      <td>19.097</td>\n",
       "      <td>19.163</td>\n",
       "      <td>18.757</td>\n",
       "      <td>16.223</td>\n",
       "      <td>17.853</td>\n",
       "      <td>16.920</td>\n",
       "      <td>14.621</td>\n",
       "      <td>20.358</td>\n",
       "    </tr>\n",
       "    <tr>\n",
       "      <th>2020-09-20 02:00:00</th>\n",
       "      <td>928.813</td>\n",
       "      <td>11.218</td>\n",
       "      <td>11.025</td>\n",
       "      <td>11.196</td>\n",
       "      <td>11.414</td>\n",
       "      <td>11.382</td>\n",
       "      <td>10.974</td>\n",
       "      <td>10.505</td>\n",
       "      <td>9.757</td>\n",
       "      <td>8.988</td>\n",
       "      <td>...</td>\n",
       "      <td>20.287</td>\n",
       "      <td>19.097</td>\n",
       "      <td>19.163</td>\n",
       "      <td>18.757</td>\n",
       "      <td>16.223</td>\n",
       "      <td>17.853</td>\n",
       "      <td>16.920</td>\n",
       "      <td>14.621</td>\n",
       "      <td>20.358</td>\n",
       "      <td>20.452</td>\n",
       "    </tr>\n",
       "    <tr>\n",
       "      <th>2020-09-20 03:00:00</th>\n",
       "      <td>984.234</td>\n",
       "      <td>11.025</td>\n",
       "      <td>11.196</td>\n",
       "      <td>11.414</td>\n",
       "      <td>11.382</td>\n",
       "      <td>10.974</td>\n",
       "      <td>10.505</td>\n",
       "      <td>9.757</td>\n",
       "      <td>8.988</td>\n",
       "      <td>8.428</td>\n",
       "      <td>...</td>\n",
       "      <td>19.097</td>\n",
       "      <td>19.163</td>\n",
       "      <td>18.757</td>\n",
       "      <td>16.223</td>\n",
       "      <td>17.853</td>\n",
       "      <td>16.920</td>\n",
       "      <td>14.621</td>\n",
       "      <td>20.358</td>\n",
       "      <td>20.452</td>\n",
       "      <td>15.867</td>\n",
       "    </tr>\n",
       "    <tr>\n",
       "      <th>2020-09-20 04:00:00</th>\n",
       "      <td>1002.113</td>\n",
       "      <td>11.196</td>\n",
       "      <td>11.414</td>\n",
       "      <td>11.382</td>\n",
       "      <td>10.974</td>\n",
       "      <td>10.505</td>\n",
       "      <td>9.757</td>\n",
       "      <td>8.988</td>\n",
       "      <td>8.428</td>\n",
       "      <td>8.428</td>\n",
       "      <td>...</td>\n",
       "      <td>19.163</td>\n",
       "      <td>18.757</td>\n",
       "      <td>16.223</td>\n",
       "      <td>17.853</td>\n",
       "      <td>16.920</td>\n",
       "      <td>14.621</td>\n",
       "      <td>20.358</td>\n",
       "      <td>20.452</td>\n",
       "      <td>15.867</td>\n",
       "      <td>18.657</td>\n",
       "    </tr>\n",
       "  </tbody>\n",
       "</table>\n",
       "<p>5 rows × 170 columns</p>\n",
       "</div>"
      ],
      "text/plain": [
       "                        power    exog  exog_lead1  exog_lead2  exog_lead3  \\\n",
       "date                                                                        \n",
       "2020-09-20 00:00:00   976.930  11.805      11.446      11.218      11.025   \n",
       "2020-09-20 01:00:00   952.705  11.446      11.218      11.025      11.196   \n",
       "2020-09-20 02:00:00   928.813  11.218      11.025      11.196      11.414   \n",
       "2020-09-20 03:00:00   984.234  11.025      11.196      11.414      11.382   \n",
       "2020-09-20 04:00:00  1002.113  11.196      11.414      11.382      10.974   \n",
       "\n",
       "                     exog_lead4  exog_lead5  exog_lead6  exog_lead7  \\\n",
       "date                                                                  \n",
       "2020-09-20 00:00:00      11.196      11.414      11.382      10.974   \n",
       "2020-09-20 01:00:00      11.414      11.382      10.974      10.505   \n",
       "2020-09-20 02:00:00      11.382      10.974      10.505       9.757   \n",
       "2020-09-20 03:00:00      10.974      10.505       9.757       8.988   \n",
       "2020-09-20 04:00:00      10.505       9.757       8.988       8.428   \n",
       "\n",
       "                     exog_lead8  ...  exog_lead159  exog_lead160  \\\n",
       "date                             ...                               \n",
       "2020-09-20 00:00:00      10.505  ...        19.099        20.280   \n",
       "2020-09-20 01:00:00       9.757  ...        20.280        20.287   \n",
       "2020-09-20 02:00:00       8.988  ...        20.287        19.097   \n",
       "2020-09-20 03:00:00       8.428  ...        19.097        19.163   \n",
       "2020-09-20 04:00:00       8.428  ...        19.163        18.757   \n",
       "\n",
       "                     exog_lead161  exog_lead162  exog_lead163  exog_lead164  \\\n",
       "date                                                                          \n",
       "2020-09-20 00:00:00        20.287        19.097        19.163        18.757   \n",
       "2020-09-20 01:00:00        19.097        19.163        18.757        16.223   \n",
       "2020-09-20 02:00:00        19.163        18.757        16.223        17.853   \n",
       "2020-09-20 03:00:00        18.757        16.223        17.853        16.920   \n",
       "2020-09-20 04:00:00        16.223        17.853        16.920        14.621   \n",
       "\n",
       "                     exog_lead165  exog_lead166  exog_lead167  exog_lead168  \n",
       "date                                                                         \n",
       "2020-09-20 00:00:00        16.223        17.853        16.920        14.621  \n",
       "2020-09-20 01:00:00        17.853        16.920        14.621        20.358  \n",
       "2020-09-20 02:00:00        16.920        14.621        20.358        20.452  \n",
       "2020-09-20 03:00:00        14.621        20.358        20.452        15.867  \n",
       "2020-09-20 04:00:00        20.358        20.452        15.867        18.657  \n",
       "\n",
       "[5 rows x 170 columns]"
      ]
     },
     "execution_count": 30,
     "metadata": {},
     "output_type": "execute_result"
    }
   ],
   "source": [
    "df_baseline.head(5)"
   ]
  },
  {
   "cell_type": "markdown",
   "metadata": {},
   "source": [
    "Now that we have all thelagged features, let's create a new column called baseline. This will make the value at each row in the 'baseline' column represent the power reading from 7 days ago. The purpose of creating this 'baseline' column could be to establish a simple benchmark to compare the performance of predictive models against simpler methods like persistence forecasting (using previous values as predictions)."
   ]
  },
  {
   "cell_type": "code",
   "execution_count": 31,
   "metadata": {},
   "outputs": [],
   "source": [
    "df_baseline[\"baseline\"] = df_baseline.power.shift(24*7)"
   ]
  },
  {
   "cell_type": "code",
   "execution_count": 46,
   "metadata": {},
   "outputs": [
    {
     "data": {
      "text/html": [
       "<div>\n",
       "<style scoped>\n",
       "    .dataframe tbody tr th:only-of-type {\n",
       "        vertical-align: middle;\n",
       "    }\n",
       "\n",
       "    .dataframe tbody tr th {\n",
       "        vertical-align: top;\n",
       "    }\n",
       "\n",
       "    .dataframe thead th {\n",
       "        text-align: right;\n",
       "    }\n",
       "</style>\n",
       "<table border=\"1\" class=\"dataframe\">\n",
       "  <thead>\n",
       "    <tr style=\"text-align: right;\">\n",
       "      <th></th>\n",
       "      <th>power</th>\n",
       "      <th>exog</th>\n",
       "      <th>exog_lead1</th>\n",
       "      <th>exog_lead2</th>\n",
       "      <th>exog_lead3</th>\n",
       "      <th>exog_lead4</th>\n",
       "      <th>exog_lead5</th>\n",
       "      <th>exog_lead6</th>\n",
       "      <th>exog_lead7</th>\n",
       "      <th>exog_lead8</th>\n",
       "      <th>...</th>\n",
       "      <th>exog_lead160</th>\n",
       "      <th>exog_lead161</th>\n",
       "      <th>exog_lead162</th>\n",
       "      <th>exog_lead163</th>\n",
       "      <th>exog_lead164</th>\n",
       "      <th>exog_lead165</th>\n",
       "      <th>exog_lead166</th>\n",
       "      <th>exog_lead167</th>\n",
       "      <th>exog_lead168</th>\n",
       "      <th>baseline</th>\n",
       "    </tr>\n",
       "    <tr>\n",
       "      <th>date</th>\n",
       "      <th></th>\n",
       "      <th></th>\n",
       "      <th></th>\n",
       "      <th></th>\n",
       "      <th></th>\n",
       "      <th></th>\n",
       "      <th></th>\n",
       "      <th></th>\n",
       "      <th></th>\n",
       "      <th></th>\n",
       "      <th></th>\n",
       "      <th></th>\n",
       "      <th></th>\n",
       "      <th></th>\n",
       "      <th></th>\n",
       "      <th></th>\n",
       "      <th></th>\n",
       "      <th></th>\n",
       "      <th></th>\n",
       "      <th></th>\n",
       "      <th></th>\n",
       "    </tr>\n",
       "  </thead>\n",
       "  <tbody>\n",
       "    <tr>\n",
       "      <th>2020-09-20 00:00:00</th>\n",
       "      <td>976.930</td>\n",
       "      <td>11.805</td>\n",
       "      <td>11.446</td>\n",
       "      <td>11.218</td>\n",
       "      <td>11.025</td>\n",
       "      <td>11.196</td>\n",
       "      <td>11.414</td>\n",
       "      <td>11.382</td>\n",
       "      <td>10.974</td>\n",
       "      <td>10.505</td>\n",
       "      <td>...</td>\n",
       "      <td>20.280</td>\n",
       "      <td>20.287</td>\n",
       "      <td>19.097</td>\n",
       "      <td>19.163</td>\n",
       "      <td>18.757</td>\n",
       "      <td>16.223</td>\n",
       "      <td>17.853</td>\n",
       "      <td>16.920</td>\n",
       "      <td>14.621</td>\n",
       "      <td>NaN</td>\n",
       "    </tr>\n",
       "    <tr>\n",
       "      <th>2020-09-20 01:00:00</th>\n",
       "      <td>952.705</td>\n",
       "      <td>11.446</td>\n",
       "      <td>11.218</td>\n",
       "      <td>11.025</td>\n",
       "      <td>11.196</td>\n",
       "      <td>11.414</td>\n",
       "      <td>11.382</td>\n",
       "      <td>10.974</td>\n",
       "      <td>10.505</td>\n",
       "      <td>9.757</td>\n",
       "      <td>...</td>\n",
       "      <td>20.287</td>\n",
       "      <td>19.097</td>\n",
       "      <td>19.163</td>\n",
       "      <td>18.757</td>\n",
       "      <td>16.223</td>\n",
       "      <td>17.853</td>\n",
       "      <td>16.920</td>\n",
       "      <td>14.621</td>\n",
       "      <td>20.358</td>\n",
       "      <td>NaN</td>\n",
       "    </tr>\n",
       "    <tr>\n",
       "      <th>2020-09-20 02:00:00</th>\n",
       "      <td>928.813</td>\n",
       "      <td>11.218</td>\n",
       "      <td>11.025</td>\n",
       "      <td>11.196</td>\n",
       "      <td>11.414</td>\n",
       "      <td>11.382</td>\n",
       "      <td>10.974</td>\n",
       "      <td>10.505</td>\n",
       "      <td>9.757</td>\n",
       "      <td>8.988</td>\n",
       "      <td>...</td>\n",
       "      <td>19.097</td>\n",
       "      <td>19.163</td>\n",
       "      <td>18.757</td>\n",
       "      <td>16.223</td>\n",
       "      <td>17.853</td>\n",
       "      <td>16.920</td>\n",
       "      <td>14.621</td>\n",
       "      <td>20.358</td>\n",
       "      <td>20.452</td>\n",
       "      <td>NaN</td>\n",
       "    </tr>\n",
       "    <tr>\n",
       "      <th>2020-09-20 03:00:00</th>\n",
       "      <td>984.234</td>\n",
       "      <td>11.025</td>\n",
       "      <td>11.196</td>\n",
       "      <td>11.414</td>\n",
       "      <td>11.382</td>\n",
       "      <td>10.974</td>\n",
       "      <td>10.505</td>\n",
       "      <td>9.757</td>\n",
       "      <td>8.988</td>\n",
       "      <td>8.428</td>\n",
       "      <td>...</td>\n",
       "      <td>19.163</td>\n",
       "      <td>18.757</td>\n",
       "      <td>16.223</td>\n",
       "      <td>17.853</td>\n",
       "      <td>16.920</td>\n",
       "      <td>14.621</td>\n",
       "      <td>20.358</td>\n",
       "      <td>20.452</td>\n",
       "      <td>15.867</td>\n",
       "      <td>NaN</td>\n",
       "    </tr>\n",
       "    <tr>\n",
       "      <th>2020-09-20 04:00:00</th>\n",
       "      <td>1002.113</td>\n",
       "      <td>11.196</td>\n",
       "      <td>11.414</td>\n",
       "      <td>11.382</td>\n",
       "      <td>10.974</td>\n",
       "      <td>10.505</td>\n",
       "      <td>9.757</td>\n",
       "      <td>8.988</td>\n",
       "      <td>8.428</td>\n",
       "      <td>8.428</td>\n",
       "      <td>...</td>\n",
       "      <td>18.757</td>\n",
       "      <td>16.223</td>\n",
       "      <td>17.853</td>\n",
       "      <td>16.920</td>\n",
       "      <td>14.621</td>\n",
       "      <td>20.358</td>\n",
       "      <td>20.452</td>\n",
       "      <td>15.867</td>\n",
       "      <td>18.657</td>\n",
       "      <td>NaN</td>\n",
       "    </tr>\n",
       "  </tbody>\n",
       "</table>\n",
       "<p>5 rows × 171 columns</p>\n",
       "</div>"
      ],
      "text/plain": [
       "                        power    exog  exog_lead1  exog_lead2  exog_lead3  \\\n",
       "date                                                                        \n",
       "2020-09-20 00:00:00   976.930  11.805      11.446      11.218      11.025   \n",
       "2020-09-20 01:00:00   952.705  11.446      11.218      11.025      11.196   \n",
       "2020-09-20 02:00:00   928.813  11.218      11.025      11.196      11.414   \n",
       "2020-09-20 03:00:00   984.234  11.025      11.196      11.414      11.382   \n",
       "2020-09-20 04:00:00  1002.113  11.196      11.414      11.382      10.974   \n",
       "\n",
       "                     exog_lead4  exog_lead5  exog_lead6  exog_lead7  \\\n",
       "date                                                                  \n",
       "2020-09-20 00:00:00      11.196      11.414      11.382      10.974   \n",
       "2020-09-20 01:00:00      11.414      11.382      10.974      10.505   \n",
       "2020-09-20 02:00:00      11.382      10.974      10.505       9.757   \n",
       "2020-09-20 03:00:00      10.974      10.505       9.757       8.988   \n",
       "2020-09-20 04:00:00      10.505       9.757       8.988       8.428   \n",
       "\n",
       "                     exog_lead8  ...  exog_lead160  exog_lead161  \\\n",
       "date                             ...                               \n",
       "2020-09-20 00:00:00      10.505  ...        20.280        20.287   \n",
       "2020-09-20 01:00:00       9.757  ...        20.287        19.097   \n",
       "2020-09-20 02:00:00       8.988  ...        19.097        19.163   \n",
       "2020-09-20 03:00:00       8.428  ...        19.163        18.757   \n",
       "2020-09-20 04:00:00       8.428  ...        18.757        16.223   \n",
       "\n",
       "                     exog_lead162  exog_lead163  exog_lead164  exog_lead165  \\\n",
       "date                                                                          \n",
       "2020-09-20 00:00:00        19.097        19.163        18.757        16.223   \n",
       "2020-09-20 01:00:00        19.163        18.757        16.223        17.853   \n",
       "2020-09-20 02:00:00        18.757        16.223        17.853        16.920   \n",
       "2020-09-20 03:00:00        16.223        17.853        16.920        14.621   \n",
       "2020-09-20 04:00:00        17.853        16.920        14.621        20.358   \n",
       "\n",
       "                     exog_lead166  exog_lead167  exog_lead168  baseline  \n",
       "date                                                                     \n",
       "2020-09-20 00:00:00        17.853        16.920        14.621       NaN  \n",
       "2020-09-20 01:00:00        16.920        14.621        20.358       NaN  \n",
       "2020-09-20 02:00:00        14.621        20.358        20.452       NaN  \n",
       "2020-09-20 03:00:00        20.358        20.452        15.867       NaN  \n",
       "2020-09-20 04:00:00        20.452        15.867        18.657       NaN  \n",
       "\n",
       "[5 rows x 171 columns]"
      ]
     },
     "execution_count": 46,
     "metadata": {},
     "output_type": "execute_result"
    }
   ],
   "source": [
    "df_baseline.head(5)"
   ]
  },
  {
   "cell_type": "code",
   "execution_count": 47,
   "metadata": {},
   "outputs": [
    {
     "data": {
      "text/html": [
       "<div>\n",
       "<style scoped>\n",
       "    .dataframe tbody tr th:only-of-type {\n",
       "        vertical-align: middle;\n",
       "    }\n",
       "\n",
       "    .dataframe tbody tr th {\n",
       "        vertical-align: top;\n",
       "    }\n",
       "\n",
       "    .dataframe thead th {\n",
       "        text-align: right;\n",
       "    }\n",
       "</style>\n",
       "<table border=\"1\" class=\"dataframe\">\n",
       "  <thead>\n",
       "    <tr style=\"text-align: right;\">\n",
       "      <th></th>\n",
       "      <th>power</th>\n",
       "      <th>exog</th>\n",
       "      <th>exog_lead1</th>\n",
       "      <th>exog_lead2</th>\n",
       "      <th>exog_lead3</th>\n",
       "      <th>exog_lead4</th>\n",
       "      <th>exog_lead5</th>\n",
       "      <th>exog_lead6</th>\n",
       "      <th>exog_lead7</th>\n",
       "      <th>exog_lead8</th>\n",
       "      <th>...</th>\n",
       "      <th>exog_lead160</th>\n",
       "      <th>exog_lead161</th>\n",
       "      <th>exog_lead162</th>\n",
       "      <th>exog_lead163</th>\n",
       "      <th>exog_lead164</th>\n",
       "      <th>exog_lead165</th>\n",
       "      <th>exog_lead166</th>\n",
       "      <th>exog_lead167</th>\n",
       "      <th>exog_lead168</th>\n",
       "      <th>baseline</th>\n",
       "    </tr>\n",
       "    <tr>\n",
       "      <th>date</th>\n",
       "      <th></th>\n",
       "      <th></th>\n",
       "      <th></th>\n",
       "      <th></th>\n",
       "      <th></th>\n",
       "      <th></th>\n",
       "      <th></th>\n",
       "      <th></th>\n",
       "      <th></th>\n",
       "      <th></th>\n",
       "      <th></th>\n",
       "      <th></th>\n",
       "      <th></th>\n",
       "      <th></th>\n",
       "      <th></th>\n",
       "      <th></th>\n",
       "      <th></th>\n",
       "      <th></th>\n",
       "      <th></th>\n",
       "      <th></th>\n",
       "      <th></th>\n",
       "    </tr>\n",
       "  </thead>\n",
       "  <tbody>\n",
       "    <tr>\n",
       "      <th>2023-10-15 19:00:00</th>\n",
       "      <td>NaN</td>\n",
       "      <td>10.820</td>\n",
       "      <td>10.619</td>\n",
       "      <td>9.535</td>\n",
       "      <td>10.031</td>\n",
       "      <td>9.464</td>\n",
       "      <td>NaN</td>\n",
       "      <td>NaN</td>\n",
       "      <td>NaN</td>\n",
       "      <td>NaN</td>\n",
       "      <td>...</td>\n",
       "      <td>NaN</td>\n",
       "      <td>NaN</td>\n",
       "      <td>NaN</td>\n",
       "      <td>NaN</td>\n",
       "      <td>NaN</td>\n",
       "      <td>NaN</td>\n",
       "      <td>NaN</td>\n",
       "      <td>NaN</td>\n",
       "      <td>NaN</td>\n",
       "      <td>551.124</td>\n",
       "    </tr>\n",
       "    <tr>\n",
       "      <th>2023-10-15 20:00:00</th>\n",
       "      <td>NaN</td>\n",
       "      <td>10.619</td>\n",
       "      <td>9.535</td>\n",
       "      <td>10.031</td>\n",
       "      <td>9.464</td>\n",
       "      <td>NaN</td>\n",
       "      <td>NaN</td>\n",
       "      <td>NaN</td>\n",
       "      <td>NaN</td>\n",
       "      <td>NaN</td>\n",
       "      <td>...</td>\n",
       "      <td>NaN</td>\n",
       "      <td>NaN</td>\n",
       "      <td>NaN</td>\n",
       "      <td>NaN</td>\n",
       "      <td>NaN</td>\n",
       "      <td>NaN</td>\n",
       "      <td>NaN</td>\n",
       "      <td>NaN</td>\n",
       "      <td>NaN</td>\n",
       "      <td>699.824</td>\n",
       "    </tr>\n",
       "    <tr>\n",
       "      <th>2023-10-15 21:00:00</th>\n",
       "      <td>NaN</td>\n",
       "      <td>9.535</td>\n",
       "      <td>10.031</td>\n",
       "      <td>9.464</td>\n",
       "      <td>NaN</td>\n",
       "      <td>NaN</td>\n",
       "      <td>NaN</td>\n",
       "      <td>NaN</td>\n",
       "      <td>NaN</td>\n",
       "      <td>NaN</td>\n",
       "      <td>...</td>\n",
       "      <td>NaN</td>\n",
       "      <td>NaN</td>\n",
       "      <td>NaN</td>\n",
       "      <td>NaN</td>\n",
       "      <td>NaN</td>\n",
       "      <td>NaN</td>\n",
       "      <td>NaN</td>\n",
       "      <td>NaN</td>\n",
       "      <td>NaN</td>\n",
       "      <td>922.044</td>\n",
       "    </tr>\n",
       "    <tr>\n",
       "      <th>2023-10-15 22:00:00</th>\n",
       "      <td>NaN</td>\n",
       "      <td>10.031</td>\n",
       "      <td>9.464</td>\n",
       "      <td>NaN</td>\n",
       "      <td>NaN</td>\n",
       "      <td>NaN</td>\n",
       "      <td>NaN</td>\n",
       "      <td>NaN</td>\n",
       "      <td>NaN</td>\n",
       "      <td>NaN</td>\n",
       "      <td>...</td>\n",
       "      <td>NaN</td>\n",
       "      <td>NaN</td>\n",
       "      <td>NaN</td>\n",
       "      <td>NaN</td>\n",
       "      <td>NaN</td>\n",
       "      <td>NaN</td>\n",
       "      <td>NaN</td>\n",
       "      <td>NaN</td>\n",
       "      <td>NaN</td>\n",
       "      <td>897.264</td>\n",
       "    </tr>\n",
       "    <tr>\n",
       "      <th>2023-10-15 23:00:00</th>\n",
       "      <td>NaN</td>\n",
       "      <td>9.464</td>\n",
       "      <td>NaN</td>\n",
       "      <td>NaN</td>\n",
       "      <td>NaN</td>\n",
       "      <td>NaN</td>\n",
       "      <td>NaN</td>\n",
       "      <td>NaN</td>\n",
       "      <td>NaN</td>\n",
       "      <td>NaN</td>\n",
       "      <td>...</td>\n",
       "      <td>NaN</td>\n",
       "      <td>NaN</td>\n",
       "      <td>NaN</td>\n",
       "      <td>NaN</td>\n",
       "      <td>NaN</td>\n",
       "      <td>NaN</td>\n",
       "      <td>NaN</td>\n",
       "      <td>NaN</td>\n",
       "      <td>NaN</td>\n",
       "      <td>797.614</td>\n",
       "    </tr>\n",
       "  </tbody>\n",
       "</table>\n",
       "<p>5 rows × 171 columns</p>\n",
       "</div>"
      ],
      "text/plain": [
       "                     power    exog  exog_lead1  exog_lead2  exog_lead3  \\\n",
       "date                                                                     \n",
       "2023-10-15 19:00:00    NaN  10.820      10.619       9.535      10.031   \n",
       "2023-10-15 20:00:00    NaN  10.619       9.535      10.031       9.464   \n",
       "2023-10-15 21:00:00    NaN   9.535      10.031       9.464         NaN   \n",
       "2023-10-15 22:00:00    NaN  10.031       9.464         NaN         NaN   \n",
       "2023-10-15 23:00:00    NaN   9.464         NaN         NaN         NaN   \n",
       "\n",
       "                     exog_lead4  exog_lead5  exog_lead6  exog_lead7  \\\n",
       "date                                                                  \n",
       "2023-10-15 19:00:00       9.464         NaN         NaN         NaN   \n",
       "2023-10-15 20:00:00         NaN         NaN         NaN         NaN   \n",
       "2023-10-15 21:00:00         NaN         NaN         NaN         NaN   \n",
       "2023-10-15 22:00:00         NaN         NaN         NaN         NaN   \n",
       "2023-10-15 23:00:00         NaN         NaN         NaN         NaN   \n",
       "\n",
       "                     exog_lead8  ...  exog_lead160  exog_lead161  \\\n",
       "date                             ...                               \n",
       "2023-10-15 19:00:00         NaN  ...           NaN           NaN   \n",
       "2023-10-15 20:00:00         NaN  ...           NaN           NaN   \n",
       "2023-10-15 21:00:00         NaN  ...           NaN           NaN   \n",
       "2023-10-15 22:00:00         NaN  ...           NaN           NaN   \n",
       "2023-10-15 23:00:00         NaN  ...           NaN           NaN   \n",
       "\n",
       "                     exog_lead162  exog_lead163  exog_lead164  exog_lead165  \\\n",
       "date                                                                          \n",
       "2023-10-15 19:00:00           NaN           NaN           NaN           NaN   \n",
       "2023-10-15 20:00:00           NaN           NaN           NaN           NaN   \n",
       "2023-10-15 21:00:00           NaN           NaN           NaN           NaN   \n",
       "2023-10-15 22:00:00           NaN           NaN           NaN           NaN   \n",
       "2023-10-15 23:00:00           NaN           NaN           NaN           NaN   \n",
       "\n",
       "                     exog_lead166  exog_lead167  exog_lead168  baseline  \n",
       "date                                                                     \n",
       "2023-10-15 19:00:00           NaN           NaN           NaN   551.124  \n",
       "2023-10-15 20:00:00           NaN           NaN           NaN   699.824  \n",
       "2023-10-15 21:00:00           NaN           NaN           NaN   922.044  \n",
       "2023-10-15 22:00:00           NaN           NaN           NaN   897.264  \n",
       "2023-10-15 23:00:00           NaN           NaN           NaN   797.614  \n",
       "\n",
       "[5 rows x 171 columns]"
      ]
     },
     "execution_count": 47,
     "metadata": {},
     "output_type": "execute_result"
    }
   ],
   "source": [
    "df_baseline.tail(5)"
   ]
  },
  {
   "cell_type": "markdown",
   "metadata": {},
   "source": [
    "Let's divide the data into train, validation and test."
   ]
  },
  {
   "cell_type": "code",
   "execution_count": 32,
   "metadata": {},
   "outputs": [],
   "source": [
    "train = df_baseline.iloc[:-24*7*2] # excluding the data for the last two weeks\n",
    "val = df_baseline.iloc[-24*7*2:-24*7] # two weeks just before the test set\n",
    "train_val = df_baseline.iloc[:-24*7]  # excluding the data for the last week\n",
    "test = df_baseline.iloc[-24*7:] # last week"
   ]
  },
  {
   "cell_type": "markdown",
   "metadata": {},
   "source": [
    "Let's calculate the MAE using the power column as the real value and the baseline column we created as the predictions."
   ]
  },
  {
   "cell_type": "code",
   "execution_count": 84,
   "metadata": {},
   "outputs": [
    {
     "name": "stdout",
     "output_type": "stream",
     "text": [
      "516.824517857143\n"
     ]
    }
   ],
   "source": [
    "val_mae = mean_absolute_error(val[\"power\"],val[\"baseline\"])\n",
    "print(val_mae)"
   ]
  },
  {
   "cell_type": "code",
   "execution_count": 90,
   "metadata": {},
   "outputs": [
    {
     "data": {
      "image/png": "[encoded data removed]",
      "text/plain": [
       "<Figure size 1600x400 with 1 Axes>"
      ]
     },
     "metadata": {},
     "output_type": "display_data"
    }
   ],
   "source": [
    "plt.plot(val[\"power\"], label='original')\n",
    "plt.plot(val[\"baseline\"], label='shift')\n",
    "plt.xlabel('Time')\n",
    "plt.title('Power per hour')\n",
    "plt.legend()\n",
    "plt.show()"
   ]
  },
  {
   "cell_type": "markdown",
   "metadata": {},
   "source": [
    "### Baseline using SARIMAX"
   ]
  },
  {
   "cell_type": "code",
   "execution_count": 24,
   "metadata": {},
   "outputs": [],
   "source": [
    "train_power = df_final['power'][:-24*7*2]\n",
    "train_exog = df_final['exog'][:-24*7*2]\n",
    "\n",
    "val_power = df_final['power'][-24*7*2:-24*7]\n",
    "val_exog = df_final['exog'][-24*7*2:-24*7]\n",
    "\n",
    "test_power = df_final['power'][-24*7:]\n",
    "test_exog = df_final['exog'][-24*7:]\n",
    "\n",
    "train_log = train_power.map(np.log)\n",
    "test_log = test_power.map(np.log)"
   ]
  },
  {
   "cell_type": "markdown",
   "metadata": {},
   "source": [
    "Let's see if there is any correlation per hour."
   ]
  },
  {
   "cell_type": "code",
   "execution_count": 71,
   "metadata": {},
   "outputs": [
    {
     "data": {
      "text/plain": [
       "Text(0.5, 0, 'Lag')"
      ]
     },
     "execution_count": 71,
     "metadata": {},
     "output_type": "execute_result"
    },
    {
     "data": {
      "image/png": "[encoded data removed]",
      "text/plain": [
       "<Figure size 1600x400 with 1 Axes>"
      ]
     },
     "metadata": {},
     "output_type": "display_data"
    }
   ],
   "source": [
    "from statsmodels.graphics.tsaplots import plot_acf, plot_pacf\n",
    "\n",
    "plot_acf(train_power, lags=200, alpha=.05)\n",
    "plt.xlabel('Lag')"
   ]
  },
  {
   "cell_type": "code",
   "execution_count": 137,
   "metadata": {},
   "outputs": [
    {
     "data": {
      "image/png": "[encoded data removed]",
      "text/plain": [
       "<Figure size 1600x400 with 1 Axes>"
      ]
     },
     "metadata": {},
     "output_type": "display_data"
    }
   ],
   "source": [
    "plot_pacf(train_power, alpha=.05, lags=80)  \n",
    "plt.xlabel('Lag')\n",
    "plt.show()"
   ]
  },
  {
   "cell_type": "markdown",
   "metadata": {},
   "source": [
    "This shows a bigger correlation with the hour just before what makes sense as the wind speed of one hour tends to be similar to the one of the previous hour."
   ]
  },
  {
   "cell_type": "markdown",
   "metadata": {},
   "source": [
    "What about per day?"
   ]
  },
  {
   "cell_type": "code",
   "execution_count": 99,
   "metadata": {},
   "outputs": [
    {
     "data": {
      "image/png": "[encoded data removed]",
      "text/plain": [
       "<Figure size 1600x400 with 1 Axes>"
      ]
     },
     "metadata": {},
     "output_type": "display_data"
    }
   ],
   "source": [
    "day_power = train_power.resample('D').mean()  # or sum(), or any other aggregation function\n",
    "\n",
    "# Plot the ACF\n",
    "plot_acf(day_power)  # Adjust the number of lags as needed\n",
    "plt.xlabel('Lags (Months)')\n",
    "plt.ylabel('Autocorrelation')\n",
    "plt.title('Autocorrelation Function (Monthly)')\n",
    "plt.show()"
   ]
  },
  {
   "cell_type": "code",
   "execution_count": 138,
   "metadata": {},
   "outputs": [
    {
     "data": {
      "image/png": "[encoded data removed]",
      "text/plain": [
       "<Figure size 1600x400 with 1 Axes>"
      ]
     },
     "metadata": {},
     "output_type": "display_data"
    }
   ],
   "source": [
    "plot_pacf(day_power, alpha=.05)  \n",
    "plt.xlabel('Lag')\n",
    "plt.show()"
   ]
  },
  {
   "cell_type": "markdown",
   "metadata": {},
   "source": [
    "What about per week?"
   ]
  },
  {
   "cell_type": "code",
   "execution_count": 98,
   "metadata": {},
   "outputs": [
    {
     "data": {
      "image/png": "[encoded data removed]",
      "text/plain": [
       "<Figure size 1600x400 with 1 Axes>"
      ]
     },
     "metadata": {},
     "output_type": "display_data"
    }
   ],
   "source": [
    "weekly_power = train_power.resample('W').mean()  # or sum(), or any other aggregation function\n",
    "\n",
    "# Plot the ACF\n",
    "plot_acf(weekly_power)  # Adjust the number of lags as needed\n",
    "plt.xlabel('Lags (Months)')\n",
    "plt.ylabel('Autocorrelation')\n",
    "plt.title('Autocorrelation Function (Monthly)')\n",
    "plt.show()"
   ]
  },
  {
   "cell_type": "code",
   "execution_count": 139,
   "metadata": {},
   "outputs": [
    {
     "data": {
      "image/png": "[encoded data removed]",
      "text/plain": [
       "<Figure size 1600x400 with 1 Axes>"
      ]
     },
     "metadata": {},
     "output_type": "display_data"
    }
   ],
   "source": [
    "plot_pacf(weekly_power, alpha=.05)  \n",
    "plt.xlabel('Lag')\n",
    "plt.show()"
   ]
  },
  {
   "cell_type": "markdown",
   "metadata": {},
   "source": [
    "What about per month?"
   ]
  },
  {
   "cell_type": "code",
   "execution_count": 108,
   "metadata": {},
   "outputs": [
    {
     "data": {
      "image/png": "[encoded data removed]",
      "text/plain": [
       "<Figure size 1600x400 with 1 Axes>"
      ]
     },
     "metadata": {},
     "output_type": "display_data"
    }
   ],
   "source": [
    "monthly_power = train_power.resample('M').mean()  # or sum(), or any other aggregation function\n",
    "\n",
    "# Plot the ACF\n",
    "plot_acf(monthly_power, lags=24)  # Adjust the number of lags as needed\n",
    "plt.xlabel('Lags (Months)')\n",
    "plt.ylabel('Autocorrelation')\n",
    "plt.title('Autocorrelation Function (Monthly)')\n",
    "plt.show()\n"
   ]
  },
  {
   "cell_type": "code",
   "execution_count": 140,
   "metadata": {},
   "outputs": [
    {
     "data": {
      "image/png": "[encoded data removed]",
      "text/plain": [
       "<Figure size 1600x400 with 1 Axes>"
      ]
     },
     "metadata": {},
     "output_type": "display_data"
    }
   ],
   "source": [
    "plot_pacf(monthly_power, alpha=.05)  \n",
    "plt.xlabel('Lag')\n",
    "plt.show()"
   ]
  },
  {
   "cell_type": "code",
   "execution_count": 35,
   "metadata": {},
   "outputs": [
    {
     "name": "stdout",
     "output_type": "stream",
     "text": [
      "Performing stepwise search to minimize aic\n"
     ]
    }
   ],
   "source": [
    "from pmdarima.pipeline import Pipeline\n",
    "import pmdarima as pm\n",
    "\n",
    "seasonal_period = 5 * 30 * 24  # Assuming 5 months seasonality\n",
    "\n",
    "sarimax_pipeline_exog = Pipeline([\n",
    "    ('arima', pm.AutoARIMA(trace=True,\n",
    "                           suppress_warnings=True,\n",
    "                           m=seasonal_period, \n",
    "                           maxiter=10,\n",
    "                          )\n",
    "    )\n",
    "])\n",
    "\n",
    "sarimax_pipeline_exog.fit(train_power.to_frame(),train_exog.to_frame())"
   ]
  },
  {
   "cell_type": "code",
   "execution_count": null,
   "metadata": {},
   "outputs": [],
   "source": [
    "predictions = sarimax_pipeline_exog.predict(n_periods=24*7, exogenous=val_exog)\n",
    "\n",
    "mse = mean_absolute_error(predictions, val_power)"
   ]
  },
  {
   "cell_type": "code",
   "execution_count": null,
   "metadata": {},
   "outputs": [],
   "source": [
    "import pmdarima as pm\n",
    "\n",
    "sarimax = pm.AutoARIMA(trace=True, suppress_warnings=True, m=24)\n",
    "\n",
    "sarimax_forecast_one_step_refit = []\n",
    "sarimax.fit(train_power[:5000].to_frame(), train_exog[:5000].to_frame())\n",
    "\n",
    "for i in range(len(test_power)):\n",
    "    next_step_forecast = sarimax.predict(n_periods=1, exogenous=test_exog.to_frame()[i:i+1])[0]\n",
    "    sarimax_forecast_one_step_refit.append(next_step_forecast)\n",
    "    sarimax.update(test_power.to_frame()[i:i+1], exogenous=test_exog.to_frame()[i:i+1])\n",
    "\n",
    "print(np.round(sarimax_forecast_one_step_refit, 1))\n"
   ]
  },
  {
   "cell_type": "markdown",
   "metadata": {},
   "source": [
    "# Let's try linear regression"
   ]
  },
  {
   "cell_type": "code",
   "execution_count": 25,
   "metadata": {},
   "outputs": [
    {
     "data": {
      "application/vnd.jupyter.widget-view+json": {
       "model_id": "60e4b6975136485c8a0da29d6786b122",
       "version_major": 2,
       "version_minor": 0
      },
      "text/plain": [
       "  0%|          | 0/168 [00:00<?, ?it/s]"
      ]
     },
     "metadata": {},
     "output_type": "display_data"
    }
   ],
   "source": [
    "predictions = predict_n_periods(series_=train_power.to_frame(), \n",
    "                  n_periods=len(test_power.to_frame()), \n",
    "                  model=GradientBoostingRegressor(), \n",
    "                  holidays= False, \n",
    "                  month= True,\n",
    "                  num_periods_diffed= 0,\n",
    "                  num_periods_lagged= 5, \n",
    "                  rolling= [], \n",
    "                  weekday= False,\n",
    "                  target=\"power\"\n",
    "                               )"
   ]
  },
  {
   "cell_type": "code",
   "execution_count": 26,
   "metadata": {},
   "outputs": [
    {
     "data": {
      "text/plain": [
       "[176.76515918502201,\n",
       " 208.48211016065653,\n",
       " 227.42313392391594,\n",
       " 248.46924941447142,\n",
       " 294.36790997144726,\n",
       " 307.52028907398005,\n",
       " 311.81046640720064,\n",
       " 367.4446306359455,\n",
       " 394.70791691337155,\n",
       " 403.28540427641485,\n",
       " 434.36685938413035,\n",
       " 452.00483700098926,\n",
       " 497.1073434388455,\n",
       " 521.2476421920466,\n",
       " 544.247066572646,\n",
       " 567.6391872565927,\n",
       " 545.8311042833808,\n",
       " 586.7122865952883,\n",
       " 620.3364194973731,\n",
       " 621.5783542082058,\n",
       " 623.2597107019827,\n",
       " 607.3686156594491,\n",
       " 623.7512769547142,\n",
       " 602.0610417569047,\n",
       " 594.6402354902423,\n",
       " 607.8152390189222,\n",
       " 624.8858211157875,\n",
       " 636.2988498308481,\n",
       " 652.2757401230563,\n",
       " 670.6028013256741,\n",
       " 665.2235409319213,\n",
       " 662.784012076074,\n",
       " 664.1996887075469,\n",
       " 644.1314876498154,\n",
       " 646.3204191600241,\n",
       " 642.3504676025303,\n",
       " 631.9267308503464,\n",
       " 651.099413014704,\n",
       " 658.2512910391496,\n",
       " 646.4803138778597,\n",
       " 659.8505985730029,\n",
       " 668.3442274657683,\n",
       " 673.0311908347475,\n",
       " 656.8340941649114,\n",
       " 672.9068715209823,\n",
       " 669.0368086548007,\n",
       " 665.7463811038064,\n",
       " 669.1118940118193,\n",
       " 668.5157933966287,\n",
       " 680.934289146444,\n",
       " 681.220029545629,\n",
       " 672.5005929278027,\n",
       " 674.1888331918769,\n",
       " 677.2864017300724,\n",
       " 672.16040169748,\n",
       " 664.2253451153023,\n",
       " 664.166899681377,\n",
       " 657.9095199503049,\n",
       " 666.896817705494,\n",
       " 663.7578146630681,\n",
       " 670.2174966090782,\n",
       " 679.7842306231531,\n",
       " 688.7362934450111,\n",
       " 690.0370887031795,\n",
       " 698.263039164299,\n",
       " 690.8106373450636,\n",
       " 693.4706059454697,\n",
       " 691.6876147852001,\n",
       " 683.3380550999568,\n",
       " 682.1867905823557,\n",
       " 683.8951440944102,\n",
       " 688.6740543345755,\n",
       " 680.9700004130506,\n",
       " 687.042489667126,\n",
       " 690.7621604470867,\n",
       " 700.9584819363464,\n",
       " 711.5493072043845,\n",
       " 711.435185507738,\n",
       " 710.5632644876247,\n",
       " 688.1562383412116,\n",
       " 702.3446698319967,\n",
       " 688.1895636076297,\n",
       " 688.4798857858856,\n",
       " 695.1059018861355,\n",
       " 700.2877746335585,\n",
       " 707.6639562870942,\n",
       " 708.1111999696182,\n",
       " 727.6495535901983,\n",
       " 735.140073181615,\n",
       " 734.6308143855679,\n",
       " 745.9747202045959,\n",
       " 757.6381214789963,\n",
       " 744.5674578009717,\n",
       " 747.9256470261035,\n",
       " 745.9344451860351,\n",
       " 757.6369641259042,\n",
       " 747.3050937057832,\n",
       " 743.5808753035258,\n",
       " 735.0351099991178,\n",
       " 756.1660978191346,\n",
       " 744.7768177014564,\n",
       " 726.0718801222722,\n",
       " 727.5069533319454,\n",
       " 731.3721789481889,\n",
       " 715.4965583688336,\n",
       " 728.2818862397978,\n",
       " 705.9448443647585,\n",
       " 699.7309187887686,\n",
       " 707.7509518439762,\n",
       " 711.9795455339467,\n",
       " 709.9579611644524,\n",
       " 714.9188189377965,\n",
       " 695.7722400658103,\n",
       " 693.5881565198853,\n",
       " 693.0597635545723,\n",
       " 693.3918157987262,\n",
       " 700.59458161992,\n",
       " 684.7865605898402,\n",
       " 706.7883786580906,\n",
       " 715.0299347295265,\n",
       " 716.2840280364665,\n",
       " 715.3328459718776,\n",
       " 721.2337412300526,\n",
       " 713.9662612121505,\n",
       " 719.0554860055393,\n",
       " 715.123179924206,\n",
       " 707.0666213790521,\n",
       " 705.3017010549537,\n",
       " 696.1869695961124,\n",
       " 698.8054493786188,\n",
       " 702.9158260078575,\n",
       " 694.6423184836276,\n",
       " 711.0708137999371,\n",
       " 711.556823413122,\n",
       " 720.5093483427203,\n",
       " 736.1943821970389,\n",
       " 738.0574153260231,\n",
       " 752.052840773118,\n",
       " 739.9336490975602,\n",
       " 732.3519244409275,\n",
       " 732.1659868520966,\n",
       " 731.5370850014489,\n",
       " 734.4688708065489,\n",
       " 727.2673875955908,\n",
       " 720.9210661341564,\n",
       " 713.9719779321915,\n",
       " 726.5936161910668,\n",
       " 736.5136563763265,\n",
       " 725.7267554209598,\n",
       " 732.5881186080921,\n",
       " 743.1797940181484,\n",
       " 737.4951878658649,\n",
       " 741.8657000098154,\n",
       " 742.2272685801571,\n",
       " 730.2630662693347,\n",
       " 747.4518234873309,\n",
       " 746.0729403846667,\n",
       " 750.9134920030682,\n",
       " 757.1576240688478,\n",
       " 753.4745816403178,\n",
       " 745.9534111873731,\n",
       " 726.7633534808208,\n",
       " 735.8901085875998,\n",
       " 721.3519644281246,\n",
       " 716.4015512533474,\n",
       " 745.0934553086544,\n",
       " 726.8276950857668,\n",
       " 717.351779386404]"
      ]
     },
     "execution_count": 26,
     "metadata": {},
     "output_type": "execute_result"
    }
   ],
   "source": [
    "predictions"
   ]
  },
  {
   "cell_type": "code",
   "execution_count": 27,
   "metadata": {},
   "outputs": [
    {
     "ename": "ValueError",
     "evalue": "Input contains NaN.",
     "output_type": "error",
     "traceback": [
      "\u001b[0;31m---------------------------------------------------------------------------\u001b[0m",
      "\u001b[0;31mValueError\u001b[0m                                Traceback (most recent call last)",
      "Cell \u001b[0;32mIn[27], line 1\u001b[0m\n\u001b[0;32m----> 1\u001b[0m \u001b[43mmean_absolute_error\u001b[49m\u001b[43m(\u001b[49m\u001b[43mtest_power\u001b[49m\u001b[38;5;241;43m.\u001b[39;49m\u001b[43mto_frame\u001b[49m\u001b[43m(\u001b[49m\u001b[43m)\u001b[49m\u001b[43m,\u001b[49m\u001b[43mpredictions\u001b[49m\u001b[43m)\u001b[49m\n",
      "File \u001b[0;32m~/.pyenv/versions/S03_BLU06/lib/python3.10/site-packages/sklearn/utils/_param_validation.py:211\u001b[0m, in \u001b[0;36mvalidate_params.<locals>.decorator.<locals>.wrapper\u001b[0;34m(*args, **kwargs)\u001b[0m\n\u001b[1;32m    205\u001b[0m \u001b[38;5;28;01mtry\u001b[39;00m:\n\u001b[1;32m    206\u001b[0m     \u001b[38;5;28;01mwith\u001b[39;00m config_context(\n\u001b[1;32m    207\u001b[0m         skip_parameter_validation\u001b[38;5;241m=\u001b[39m(\n\u001b[1;32m    208\u001b[0m             prefer_skip_nested_validation \u001b[38;5;129;01mor\u001b[39;00m global_skip_validation\n\u001b[1;32m    209\u001b[0m         )\n\u001b[1;32m    210\u001b[0m     ):\n\u001b[0;32m--> 211\u001b[0m         \u001b[38;5;28;01mreturn\u001b[39;00m \u001b[43mfunc\u001b[49m\u001b[43m(\u001b[49m\u001b[38;5;241;43m*\u001b[39;49m\u001b[43margs\u001b[49m\u001b[43m,\u001b[49m\u001b[43m \u001b[49m\u001b[38;5;241;43m*\u001b[39;49m\u001b[38;5;241;43m*\u001b[39;49m\u001b[43mkwargs\u001b[49m\u001b[43m)\u001b[49m\n\u001b[1;32m    212\u001b[0m \u001b[38;5;28;01mexcept\u001b[39;00m InvalidParameterError \u001b[38;5;28;01mas\u001b[39;00m e:\n\u001b[1;32m    213\u001b[0m     \u001b[38;5;66;03m# When the function is just a wrapper around an estimator, we allow\u001b[39;00m\n\u001b[1;32m    214\u001b[0m     \u001b[38;5;66;03m# the function to delegate validation to the estimator, but we replace\u001b[39;00m\n\u001b[1;32m    215\u001b[0m     \u001b[38;5;66;03m# the name of the estimator by the name of the function in the error\u001b[39;00m\n\u001b[1;32m    216\u001b[0m     \u001b[38;5;66;03m# message to avoid confusion.\u001b[39;00m\n\u001b[1;32m    217\u001b[0m     msg \u001b[38;5;241m=\u001b[39m re\u001b[38;5;241m.\u001b[39msub(\n\u001b[1;32m    218\u001b[0m         \u001b[38;5;124mr\u001b[39m\u001b[38;5;124m\"\u001b[39m\u001b[38;5;124mparameter of \u001b[39m\u001b[38;5;124m\\\u001b[39m\u001b[38;5;124mw+ must be\u001b[39m\u001b[38;5;124m\"\u001b[39m,\n\u001b[1;32m    219\u001b[0m         \u001b[38;5;124mf\u001b[39m\u001b[38;5;124m\"\u001b[39m\u001b[38;5;124mparameter of \u001b[39m\u001b[38;5;132;01m{\u001b[39;00mfunc\u001b[38;5;241m.\u001b[39m\u001b[38;5;18m__qualname__\u001b[39m\u001b[38;5;132;01m}\u001b[39;00m\u001b[38;5;124m must be\u001b[39m\u001b[38;5;124m\"\u001b[39m,\n\u001b[1;32m    220\u001b[0m         \u001b[38;5;28mstr\u001b[39m(e),\n\u001b[1;32m    221\u001b[0m     )\n",
      "File \u001b[0;32m~/.pyenv/versions/S03_BLU06/lib/python3.10/site-packages/sklearn/metrics/_regression.py:204\u001b[0m, in \u001b[0;36mmean_absolute_error\u001b[0;34m(y_true, y_pred, sample_weight, multioutput)\u001b[0m\n\u001b[1;32m    140\u001b[0m \u001b[38;5;129m@validate_params\u001b[39m(\n\u001b[1;32m    141\u001b[0m     {\n\u001b[1;32m    142\u001b[0m         \u001b[38;5;124m\"\u001b[39m\u001b[38;5;124my_true\u001b[39m\u001b[38;5;124m\"\u001b[39m: [\u001b[38;5;124m\"\u001b[39m\u001b[38;5;124marray-like\u001b[39m\u001b[38;5;124m\"\u001b[39m],\n\u001b[0;32m   (...)\u001b[0m\n\u001b[1;32m    150\u001b[0m     y_true, y_pred, \u001b[38;5;241m*\u001b[39m, sample_weight\u001b[38;5;241m=\u001b[39m\u001b[38;5;28;01mNone\u001b[39;00m, multioutput\u001b[38;5;241m=\u001b[39m\u001b[38;5;124m\"\u001b[39m\u001b[38;5;124muniform_average\u001b[39m\u001b[38;5;124m\"\u001b[39m\n\u001b[1;32m    151\u001b[0m ):\n\u001b[1;32m    152\u001b[0m \u001b[38;5;250m    \u001b[39m\u001b[38;5;124;03m\"\"\"Mean absolute error regression loss.\u001b[39;00m\n\u001b[1;32m    153\u001b[0m \n\u001b[1;32m    154\u001b[0m \u001b[38;5;124;03m    Read more in the :ref:`User Guide <mean_absolute_error>`.\u001b[39;00m\n\u001b[0;32m   (...)\u001b[0m\n\u001b[1;32m    202\u001b[0m \u001b[38;5;124;03m    0.85...\u001b[39;00m\n\u001b[1;32m    203\u001b[0m \u001b[38;5;124;03m    \"\"\"\u001b[39;00m\n\u001b[0;32m--> 204\u001b[0m     y_type, y_true, y_pred, multioutput \u001b[38;5;241m=\u001b[39m \u001b[43m_check_reg_targets\u001b[49m\u001b[43m(\u001b[49m\n\u001b[1;32m    205\u001b[0m \u001b[43m        \u001b[49m\u001b[43my_true\u001b[49m\u001b[43m,\u001b[49m\u001b[43m \u001b[49m\u001b[43my_pred\u001b[49m\u001b[43m,\u001b[49m\u001b[43m \u001b[49m\u001b[43mmultioutput\u001b[49m\n\u001b[1;32m    206\u001b[0m \u001b[43m    \u001b[49m\u001b[43m)\u001b[49m\n\u001b[1;32m    207\u001b[0m     check_consistent_length(y_true, y_pred, sample_weight)\n\u001b[1;32m    208\u001b[0m     output_errors \u001b[38;5;241m=\u001b[39m np\u001b[38;5;241m.\u001b[39maverage(np\u001b[38;5;241m.\u001b[39mabs(y_pred \u001b[38;5;241m-\u001b[39m y_true), weights\u001b[38;5;241m=\u001b[39msample_weight, axis\u001b[38;5;241m=\u001b[39m\u001b[38;5;241m0\u001b[39m)\n",
      "File \u001b[0;32m~/.pyenv/versions/S03_BLU06/lib/python3.10/site-packages/sklearn/metrics/_regression.py:100\u001b[0m, in \u001b[0;36m_check_reg_targets\u001b[0;34m(y_true, y_pred, multioutput, dtype)\u001b[0m\n\u001b[1;32m     66\u001b[0m \u001b[38;5;250m\u001b[39m\u001b[38;5;124;03m\"\"\"Check that y_true and y_pred belong to the same regression task.\u001b[39;00m\n\u001b[1;32m     67\u001b[0m \n\u001b[1;32m     68\u001b[0m \u001b[38;5;124;03mParameters\u001b[39;00m\n\u001b[0;32m   (...)\u001b[0m\n\u001b[1;32m     97\u001b[0m \u001b[38;5;124;03m    correct keyword.\u001b[39;00m\n\u001b[1;32m     98\u001b[0m \u001b[38;5;124;03m\"\"\"\u001b[39;00m\n\u001b[1;32m     99\u001b[0m check_consistent_length(y_true, y_pred)\n\u001b[0;32m--> 100\u001b[0m y_true \u001b[38;5;241m=\u001b[39m \u001b[43mcheck_array\u001b[49m\u001b[43m(\u001b[49m\u001b[43my_true\u001b[49m\u001b[43m,\u001b[49m\u001b[43m \u001b[49m\u001b[43mensure_2d\u001b[49m\u001b[38;5;241;43m=\u001b[39;49m\u001b[38;5;28;43;01mFalse\u001b[39;49;00m\u001b[43m,\u001b[49m\u001b[43m \u001b[49m\u001b[43mdtype\u001b[49m\u001b[38;5;241;43m=\u001b[39;49m\u001b[43mdtype\u001b[49m\u001b[43m)\u001b[49m\n\u001b[1;32m    101\u001b[0m y_pred \u001b[38;5;241m=\u001b[39m check_array(y_pred, ensure_2d\u001b[38;5;241m=\u001b[39m\u001b[38;5;28;01mFalse\u001b[39;00m, dtype\u001b[38;5;241m=\u001b[39mdtype)\n\u001b[1;32m    103\u001b[0m \u001b[38;5;28;01mif\u001b[39;00m y_true\u001b[38;5;241m.\u001b[39mndim \u001b[38;5;241m==\u001b[39m \u001b[38;5;241m1\u001b[39m:\n",
      "File \u001b[0;32m~/.pyenv/versions/S03_BLU06/lib/python3.10/site-packages/sklearn/utils/validation.py:959\u001b[0m, in \u001b[0;36mcheck_array\u001b[0;34m(array, accept_sparse, accept_large_sparse, dtype, order, copy, force_all_finite, ensure_2d, allow_nd, ensure_min_samples, ensure_min_features, estimator, input_name)\u001b[0m\n\u001b[1;32m    953\u001b[0m         \u001b[38;5;28;01mraise\u001b[39;00m \u001b[38;5;167;01mValueError\u001b[39;00m(\n\u001b[1;32m    954\u001b[0m             \u001b[38;5;124m\"\u001b[39m\u001b[38;5;124mFound array with dim \u001b[39m\u001b[38;5;132;01m%d\u001b[39;00m\u001b[38;5;124m. \u001b[39m\u001b[38;5;132;01m%s\u001b[39;00m\u001b[38;5;124m expected <= 2.\u001b[39m\u001b[38;5;124m\"\u001b[39m\n\u001b[1;32m    955\u001b[0m             \u001b[38;5;241m%\u001b[39m (array\u001b[38;5;241m.\u001b[39mndim, estimator_name)\n\u001b[1;32m    956\u001b[0m         )\n\u001b[1;32m    958\u001b[0m     \u001b[38;5;28;01mif\u001b[39;00m force_all_finite:\n\u001b[0;32m--> 959\u001b[0m         \u001b[43m_assert_all_finite\u001b[49m\u001b[43m(\u001b[49m\n\u001b[1;32m    960\u001b[0m \u001b[43m            \u001b[49m\u001b[43marray\u001b[49m\u001b[43m,\u001b[49m\n\u001b[1;32m    961\u001b[0m \u001b[43m            \u001b[49m\u001b[43minput_name\u001b[49m\u001b[38;5;241;43m=\u001b[39;49m\u001b[43minput_name\u001b[49m\u001b[43m,\u001b[49m\n\u001b[1;32m    962\u001b[0m \u001b[43m            \u001b[49m\u001b[43mestimator_name\u001b[49m\u001b[38;5;241;43m=\u001b[39;49m\u001b[43mestimator_name\u001b[49m\u001b[43m,\u001b[49m\n\u001b[1;32m    963\u001b[0m \u001b[43m            \u001b[49m\u001b[43mallow_nan\u001b[49m\u001b[38;5;241;43m=\u001b[39;49m\u001b[43mforce_all_finite\u001b[49m\u001b[43m \u001b[49m\u001b[38;5;241;43m==\u001b[39;49m\u001b[43m \u001b[49m\u001b[38;5;124;43m\"\u001b[39;49m\u001b[38;5;124;43mallow-nan\u001b[39;49m\u001b[38;5;124;43m\"\u001b[39;49m\u001b[43m,\u001b[49m\n\u001b[1;32m    964\u001b[0m \u001b[43m        \u001b[49m\u001b[43m)\u001b[49m\n\u001b[1;32m    966\u001b[0m \u001b[38;5;28;01mif\u001b[39;00m ensure_min_samples \u001b[38;5;241m>\u001b[39m \u001b[38;5;241m0\u001b[39m:\n\u001b[1;32m    967\u001b[0m     n_samples \u001b[38;5;241m=\u001b[39m _num_samples(array)\n",
      "File \u001b[0;32m~/.pyenv/versions/S03_BLU06/lib/python3.10/site-packages/sklearn/utils/validation.py:124\u001b[0m, in \u001b[0;36m_assert_all_finite\u001b[0;34m(X, allow_nan, msg_dtype, estimator_name, input_name)\u001b[0m\n\u001b[1;32m    121\u001b[0m \u001b[38;5;28;01mif\u001b[39;00m first_pass_isfinite:\n\u001b[1;32m    122\u001b[0m     \u001b[38;5;28;01mreturn\u001b[39;00m\n\u001b[0;32m--> 124\u001b[0m \u001b[43m_assert_all_finite_element_wise\u001b[49m\u001b[43m(\u001b[49m\n\u001b[1;32m    125\u001b[0m \u001b[43m    \u001b[49m\u001b[43mX\u001b[49m\u001b[43m,\u001b[49m\n\u001b[1;32m    126\u001b[0m \u001b[43m    \u001b[49m\u001b[43mxp\u001b[49m\u001b[38;5;241;43m=\u001b[39;49m\u001b[43mxp\u001b[49m\u001b[43m,\u001b[49m\n\u001b[1;32m    127\u001b[0m \u001b[43m    \u001b[49m\u001b[43mallow_nan\u001b[49m\u001b[38;5;241;43m=\u001b[39;49m\u001b[43mallow_nan\u001b[49m\u001b[43m,\u001b[49m\n\u001b[1;32m    128\u001b[0m \u001b[43m    \u001b[49m\u001b[43mmsg_dtype\u001b[49m\u001b[38;5;241;43m=\u001b[39;49m\u001b[43mmsg_dtype\u001b[49m\u001b[43m,\u001b[49m\n\u001b[1;32m    129\u001b[0m \u001b[43m    \u001b[49m\u001b[43mestimator_name\u001b[49m\u001b[38;5;241;43m=\u001b[39;49m\u001b[43mestimator_name\u001b[49m\u001b[43m,\u001b[49m\n\u001b[1;32m    130\u001b[0m \u001b[43m    \u001b[49m\u001b[43minput_name\u001b[49m\u001b[38;5;241;43m=\u001b[39;49m\u001b[43minput_name\u001b[49m\u001b[43m,\u001b[49m\n\u001b[1;32m    131\u001b[0m \u001b[43m\u001b[49m\u001b[43m)\u001b[49m\n",
      "File \u001b[0;32m~/.pyenv/versions/S03_BLU06/lib/python3.10/site-packages/sklearn/utils/validation.py:173\u001b[0m, in \u001b[0;36m_assert_all_finite_element_wise\u001b[0;34m(X, xp, allow_nan, msg_dtype, estimator_name, input_name)\u001b[0m\n\u001b[1;32m    156\u001b[0m \u001b[38;5;28;01mif\u001b[39;00m estimator_name \u001b[38;5;129;01mand\u001b[39;00m input_name \u001b[38;5;241m==\u001b[39m \u001b[38;5;124m\"\u001b[39m\u001b[38;5;124mX\u001b[39m\u001b[38;5;124m\"\u001b[39m \u001b[38;5;129;01mand\u001b[39;00m has_nan_error:\n\u001b[1;32m    157\u001b[0m     \u001b[38;5;66;03m# Improve the error message on how to handle missing values in\u001b[39;00m\n\u001b[1;32m    158\u001b[0m     \u001b[38;5;66;03m# scikit-learn.\u001b[39;00m\n\u001b[1;32m    159\u001b[0m     msg_err \u001b[38;5;241m+\u001b[39m\u001b[38;5;241m=\u001b[39m (\n\u001b[1;32m    160\u001b[0m         \u001b[38;5;124mf\u001b[39m\u001b[38;5;124m\"\u001b[39m\u001b[38;5;130;01m\\n\u001b[39;00m\u001b[38;5;132;01m{\u001b[39;00mestimator_name\u001b[38;5;132;01m}\u001b[39;00m\u001b[38;5;124m does not accept missing values\u001b[39m\u001b[38;5;124m\"\u001b[39m\n\u001b[1;32m    161\u001b[0m         \u001b[38;5;124m\"\u001b[39m\u001b[38;5;124m encoded as NaN natively. For supervised learning, you might want\u001b[39m\u001b[38;5;124m\"\u001b[39m\n\u001b[0;32m   (...)\u001b[0m\n\u001b[1;32m    171\u001b[0m         \u001b[38;5;124m\"\u001b[39m\u001b[38;5;124m#estimators-that-handle-nan-values\u001b[39m\u001b[38;5;124m\"\u001b[39m\n\u001b[1;32m    172\u001b[0m     )\n\u001b[0;32m--> 173\u001b[0m \u001b[38;5;28;01mraise\u001b[39;00m \u001b[38;5;167;01mValueError\u001b[39;00m(msg_err)\n",
      "\u001b[0;31mValueError\u001b[0m: Input contains NaN."
     ]
    }
   ],
   "source": [
    "mean_absolute_error(test_power.to_frame(),predictions)"
   ]
  },
  {
   "cell_type": "code",
   "execution_count": 29,
   "metadata": {},
   "outputs": [
    {
     "data": {
      "text/plain": [
       "168"
      ]
     },
     "execution_count": 29,
     "metadata": {},
     "output_type": "execute_result"
    }
   ],
   "source": [
    "test_power.isnull().sum()"
   ]
  },
  {
   "cell_type": "code",
   "execution_count": 30,
   "metadata": {},
   "outputs": [
    {
     "data": {
      "image/png": "[encoded data removed]",
      "text/plain": [
       "<Figure size 1600x400 with 1 Axes>"
      ]
     },
     "metadata": {},
     "output_type": "display_data"
    }
   ],
   "source": [
    "plt.plot(test_power.to_frame()[\"power\"], label='original')\n",
    "plt.plot(predictions, label='shift')\n",
    "plt.xlabel('Time')\n",
    "plt.title('Power per hour')\n",
    "plt.legend()\n",
    "plt.show()"
   ]
  },
  {
   "cell_type": "markdown",
   "metadata": {},
   "source": [
    "Let's try gradient boosting regressor"
   ]
  },
  {
   "cell_type": "code",
   "execution_count": 29,
   "metadata": {},
   "outputs": [
    {
     "data": {
      "application/vnd.jupyter.widget-view+json": {
       "model_id": "0d1a11d103bb4dd68a82062df8379424",
       "version_major": 2,
       "version_minor": 0
      },
      "text/plain": [
       "  0%|          | 0/168 [00:00<?, ?it/s]"
      ]
     },
     "metadata": {},
     "output_type": "display_data"
    }
   ],
   "source": [
    "predictions = predict_n_periods(series_=train_power.to_frame(), \n",
    "                  n_periods=len(test_power.to_frame()), \n",
    "                  model=GradientBoostingRegressor(n_estimators=20, random_state=10), \n",
    "                  holidays= False, \n",
    "                  month= False,\n",
    "                  num_periods_diffed= 0,\n",
    "                  num_periods_lagged= 5, \n",
    "                  rolling= [], \n",
    "                  weekday= False,\n",
    "                  target=\"power\"\n",
    "                  )"
   ]
  },
  {
   "cell_type": "code",
   "execution_count": 30,
   "metadata": {},
   "outputs": [
    {
     "data": {
      "text/plain": [
       "424.1998218328177"
      ]
     },
     "execution_count": 30,
     "metadata": {},
     "output_type": "execute_result"
    }
   ],
   "source": [
    "mean_absolute_error(test_power.to_frame(),predictions)"
   ]
  },
  {
   "cell_type": "markdown",
   "metadata": {},
   "source": [
    "# This one"
   ]
  },
  {
   "cell_type": "code",
   "execution_count": 31,
   "metadata": {},
   "outputs": [
    {
     "data": {
      "application/vnd.jupyter.widget-view+json": {
       "model_id": "8ec35419289f4a188cdcf19b6187f839",
       "version_major": 2,
       "version_minor": 0
      },
      "text/plain": [
       "  0%|          | 0/168 [00:00<?, ?it/s]"
      ]
     },
     "metadata": {},
     "output_type": "display_data"
    }
   ],
   "source": [
    "predictions = predict_n_periods(series_=train_power.to_frame(), \n",
    "                  n_periods=len(val_power.to_frame()), \n",
    "                  model=GradientBoostingRegressor(), \n",
    "                  holidays= False, \n",
    "                  month= True,\n",
    "                  num_periods_diffed= 0,\n",
    "                  num_periods_lagged= 5, \n",
    "                  rolling= [], \n",
    "                  weekday= False,\n",
    "                  target=\"power\"\n",
    "                  )"
   ]
  },
  {
   "cell_type": "code",
   "execution_count": null,
   "metadata": {},
   "outputs": [],
   "source": []
  },
  {
   "cell_type": "code",
   "execution_count": 33,
   "metadata": {},
   "outputs": [
    {
     "data": {
      "text/plain": [
       "338.6759038939887"
      ]
     },
     "execution_count": 33,
     "metadata": {},
     "output_type": "execute_result"
    }
   ],
   "source": [
    "mean_absolute_error(val_power.to_frame(),predictions)"
   ]
  },
  {
   "cell_type": "code",
   "execution_count": 34,
   "metadata": {},
   "outputs": [
    {
     "data": {
      "text/plain": [
       "date\n",
       "2023-10-02 00:00:00    176.765159\n",
       "2023-10-02 01:00:00    208.482110\n",
       "2023-10-02 02:00:00    227.423134\n",
       "2023-10-02 03:00:00    248.469249\n",
       "2023-10-02 04:00:00    294.367910\n",
       "                          ...    \n",
       "2023-10-08 19:00:00    721.351964\n",
       "2023-10-08 20:00:00    716.401551\n",
       "2023-10-08 21:00:00    745.093455\n",
       "2023-10-08 22:00:00    726.827695\n",
       "2023-10-08 23:00:00    717.351779\n",
       "Length: 168, dtype: float64"
      ]
     },
     "execution_count": 34,
     "metadata": {},
     "output_type": "execute_result"
    }
   ],
   "source": [
    "mean_absolute_error(val_power.to_frame(),predictions)\n",
    "predictions_with_index = pd.Series(predictions, index=val_power.index)\n",
    "mean_absolute_error, predictions_with_index"
   ]
  },
  {
   "cell_type": "code",
   "execution_count": 35,
   "metadata": {},
   "outputs": [
    {
     "data": {
      "image/png": "[encoded data removed]",
      "text/plain": [
       "<Figure size 1000x600 with 1 Axes>"
      ]
     },
     "metadata": {},
     "output_type": "display_data"
    }
   ],
   "source": [
    "mean_absolute_error(val_power.to_frame(),predictions)\n",
    "predictions_with_index = pd.Series(predictions, index=val_power.index)\n",
    "mean_absolute_error, predictions_with_index\n",
    "\n",
    "plt.figure(figsize=(10, 6))\n",
    "plt.plot(val_power.index, val_power.values, label='Actual Values', color='blue')\n",
    "plt.plot(predictions_with_index.index, predictions_with_index.values, label='Predictions', color='red')\n",
    "plt.title('Actual vs Predicted Values')\n",
    "plt.xlabel('Date')\n",
    "plt.ylabel('Power')\n",
    "plt.legend()\n",
    "plt.show()"
   ]
  },
  {
   "cell_type": "code",
   "execution_count": 15,
   "metadata": {},
   "outputs": [
    {
     "data": {
      "application/vnd.jupyter.widget-view+json": {
       "model_id": "02deacfe6be44653a413c7eb6c5c176e",
       "version_major": 2,
       "version_minor": 0
      },
      "text/plain": [
       "  0%|          | 0/168 [00:00<?, ?it/s]"
      ]
     },
     "metadata": {},
     "output_type": "display_data"
    }
   ],
   "source": [
    "predictions = predict_n_periods(series_=train_power.to_frame(), \n",
    "                  n_periods=len(val_power.to_frame()), \n",
    "                  model=GradientBoostingRegressor(n_estimators=20, random_state=10), \n",
    "                  holidays= False, \n",
    "                  month= True,\n",
    "                  num_periods_diffed= 0,\n",
    "                  num_periods_lagged= 10, \n",
    "                  rolling= [], \n",
    "                  weekday= False,\n",
    "                  target=\"power\"\n",
    "                  )"
   ]
  },
  {
   "cell_type": "code",
   "execution_count": 18,
   "metadata": {},
   "outputs": [
    {
     "data": {
      "text/plain": [
       "356.205725860411"
      ]
     },
     "execution_count": 18,
     "metadata": {},
     "output_type": "execute_result"
    }
   ],
   "source": [
    "mean_absolute_error(val_power.to_frame(),predictions)"
   ]
  },
  {
   "cell_type": "code",
   "execution_count": 16,
   "metadata": {},
   "outputs": [
    {
     "data": {
      "text/plain": [
       "date\n",
       "2023-10-02 00:00:00    215.339460\n",
       "2023-10-02 01:00:00    238.564666\n",
       "2023-10-02 02:00:00    261.212652\n",
       "2023-10-02 03:00:00    287.021210\n",
       "2023-10-02 04:00:00    321.767368\n",
       "                          ...    \n",
       "2023-10-08 19:00:00    665.946273\n",
       "2023-10-08 20:00:00    669.450243\n",
       "2023-10-08 21:00:00    667.827151\n",
       "2023-10-08 22:00:00    664.258875\n",
       "2023-10-08 23:00:00    666.502629\n",
       "Length: 168, dtype: float64"
      ]
     },
     "execution_count": 16,
     "metadata": {},
     "output_type": "execute_result"
    }
   ],
   "source": [
    "predictions_with_index = pd.Series(predictions, index=val_power.index)\n",
    "predictions_with_index"
   ]
  },
  {
   "cell_type": "code",
   "execution_count": 17,
   "metadata": {},
   "outputs": [
    {
     "data": {
      "image/png": "[encoded data removed]",
      "text/plain": [
       "<Figure size 1000x600 with 1 Axes>"
      ]
     },
     "metadata": {},
     "output_type": "display_data"
    }
   ],
   "source": [
    "plt.figure(figsize=(10, 6))\n",
    "plt.plot(val_power.index, val_power.values, label='Actual Values', color='blue')\n",
    "plt.plot(predictions_with_index.index, predictions_with_index.values, label='Predictions', color='red')\n",
    "plt.title('Actual vs Predicted Values')\n",
    "plt.xlabel('Date')\n",
    "plt.ylabel('Power')\n",
    "plt.legend()\n",
    "plt.show()"
   ]
  },
  {
   "cell_type": "code",
   "execution_count": 35,
   "metadata": {},
   "outputs": [
    {
     "data": {
      "application/vnd.jupyter.widget-view+json": {
       "model_id": "00a4c036dc2f41b0aa29a58b27021e42",
       "version_major": 2,
       "version_minor": 0
      },
      "text/plain": [
       "  0%|          | 0/168 [00:00<?, ?it/s]"
      ]
     },
     "metadata": {},
     "output_type": "display_data"
    }
   ],
   "source": [
    "predictions = predict_n_periods(series_=train, \n",
    "                  n_periods=len(val), \n",
    "                  model=LinearRegression(), \n",
    "                  holidays= False, \n",
    "                  month= True,\n",
    "                  num_periods_diffed= 5,\n",
    "                  num_periods_lagged= 5, \n",
    "                  rolling= [], \n",
    "                  weekday= False,\n",
    "                  target=\"power\"\n",
    "                  )"
   ]
  },
  {
   "cell_type": "code",
   "execution_count": 41,
   "metadata": {},
   "outputs": [
    {
     "data": {
      "text/plain": [
       "184.19639258586673"
      ]
     },
     "execution_count": 41,
     "metadata": {},
     "output_type": "execute_result"
    }
   ],
   "source": [
    "mean_absolute_error(val[\"power\"],predictions)"
   ]
  },
  {
   "cell_type": "code",
   "execution_count": 44,
   "metadata": {},
   "outputs": [
    {
     "data": {
      "text/plain": [
       "[155.5035815047431,\n",
       " 148.86445000222793,\n",
       " 144.74050750559493,\n",
       " 141.71729751809823,\n",
       " 141.10179855067182,\n",
       " 140.30307754268352,\n",
       " 150.06072852296506,\n",
       " 157.62818188089886,\n",
       " 143.07477928664105,\n",
       " 155.2011723465563,\n",
       " 154.91367614804386,\n",
       " 139.74798903964222,\n",
       " 132.17071751224944,\n",
       " 128.55759746112227,\n",
       " 133.54642127082053,\n",
       " 142.16367245904155,\n",
       " 160.2298875870331,\n",
       " 189.31599015403583,\n",
       " 237.33394500572678,\n",
       " 283.9149052654986,\n",
       " 337.59973939918416,\n",
       " 386.63801108829796,\n",
       " 441.48800835261136,\n",
       " 510.4816633750148,\n",
       " 602.4722614419364,\n",
       " 681.5844687208382,\n",
       " 761.7165907124363,\n",
       " 853.2571475102511,\n",
       " 938.244765359754,\n",
       " 1028.721662469623,\n",
       " 1111.2396151015155,\n",
       " 1161.088302117551,\n",
       " 1205.404229164872,\n",
       " 1234.259521159993,\n",
       " 1232.9963121635283,\n",
       " 1229.0851291003546,\n",
       " 1207.387484723227,\n",
       " 1184.6417201495428,\n",
       " 1179.6269749359863,\n",
       " 1156.386121973796,\n",
       " 1138.9017717313309,\n",
       " 1135.829416223321,\n",
       " 1128.295210694956,\n",
       " 1101.4470223486728,\n",
       " 1065.1865468387555,\n",
       " 1044.159248613198,\n",
       " 1016.246887508881,\n",
       " 976.2476707557679,\n",
       " 948.2662744098097,\n",
       " 919.4141420221071,\n",
       " 907.8929174479791,\n",
       " 906.8364460758876,\n",
       " 903.8950568632085,\n",
       " 911.939664605931,\n",
       " 926.9798721448011,\n",
       " 944.7575958735486,\n",
       " 976.6126895781467,\n",
       " 1002.7557187274898,\n",
       " 1026.8593178918622,\n",
       " 1046.9615658504872,\n",
       " 1064.290464003548,\n",
       " 1078.4892626939904,\n",
       " 1102.5390981119322,\n",
       " 1109.1053713343297,\n",
       " 1115.6273710767307,\n",
       " 1120.096388116025,\n",
       " 1122.7672502488797,\n",
       " 1115.504366529341,\n",
       " 1089.0288003431547,\n",
       " 1065.7257263006322,\n",
       " 1039.7876378198587,\n",
       " 1009.0656077340974,\n",
       " 974.7132791731613,\n",
       " 931.4118874424165,\n",
       " 892.8885463934232,\n",
       " 863.4524962616454,\n",
       " 827.8846300448294,\n",
       " 800.7734403892844,\n",
       " 763.3012507309495,\n",
       " 717.8034680876751,\n",
       " 701.9235737500837,\n",
       " 667.2982813698057,\n",
       " 635.7820426512641,\n",
       " 612.5981126791496,\n",
       " 581.7618671841544,\n",
       " 556.2242299099346,\n",
       " 539.196345687358,\n",
       " 532.7196826347924,\n",
       " 535.3580942834221,\n",
       " 544.7167060197204,\n",
       " 563.8769962175431,\n",
       " 590.9336478075852,\n",
       " 608.3437221453031,\n",
       " 633.9573187833183,\n",
       " 659.7890096930211,\n",
       " 704.0902033089253,\n",
       " 725.4408155195363,\n",
       " 767.7416097782049,\n",
       " 828.1535238683149,\n",
       " 874.6558849214366,\n",
       " 914.9488765917374,\n",
       " 956.7510682422935,\n",
       " 980.7501878225529,\n",
       " 1011.305064333645,\n",
       " 1017.5355975632757,\n",
       " 1040.2561627151972,\n",
       " 1046.7091188668269,\n",
       " 1058.1845787436914,\n",
       " 1069.4206226965512,\n",
       " 1073.2416018513225,\n",
       " 1080.773442694915,\n",
       " 1077.4619218618977,\n",
       " 1075.4358504732631,\n",
       " 1083.4255571740573,\n",
       " 1077.4478031917183,\n",
       " 1061.1722704805925,\n",
       " 1055.8800812266102,\n",
       " 1037.3783350374288,\n",
       " 1019.3368630770227,\n",
       " 1003.4025234901984,\n",
       " 991.5536677400555,\n",
       " 960.7942610020777,\n",
       " 948.4711151112722,\n",
       " 944.9567483608444,\n",
       " 936.2795961944822,\n",
       " 908.0000194651581,\n",
       " 893.1750848769308,\n",
       " 883.43811928385,\n",
       " 866.4124380652132,\n",
       " 823.7633808202393,\n",
       " 796.0095641575724,\n",
       " 772.4871684154843,\n",
       " 737.759894478225,\n",
       " 699.2355815659542,\n",
       " 668.8447390592578,\n",
       " 642.7923732543641,\n",
       " 621.569666096041,\n",
       " 594.556967695346,\n",
       " 562.7769916037223,\n",
       " 536.2716237832358,\n",
       " 511.6193669259941,\n",
       " 478.8748636319656,\n",
       " 441.6736270307782,\n",
       " 418.7811619605459,\n",
       " 392.43329369899664,\n",
       " 388.391936433052,\n",
       " 374.77531593104345,\n",
       " 365.73817313257086,\n",
       " 368.8200370922146,\n",
       " 340.20355614865787,\n",
       " 350.02758195913117,\n",
       " 360.13164307213253,\n",
       " 338.8557202751887,\n",
       " 330.6476380776105,\n",
       " 316.1152607620431,\n",
       " 301.24174423185394,\n",
       " 306.235640569153,\n",
       " 305.16988749251334,\n",
       " 315.65238117170264,\n",
       " 336.01153181209,\n",
       " 353.07438214153484,\n",
       " 391.49383969460496,\n",
       " 424.8964098915626,\n",
       " 452.5857108795626,\n",
       " 477.88568250366166,\n",
       " 492.63863641362434,\n",
       " 508.1865668132025,\n",
       " 530.9083455019747]"
      ]
     },
     "execution_count": 44,
     "metadata": {},
     "output_type": "execute_result"
    }
   ],
   "source": [
    "predictions"
   ]
  },
  {
   "cell_type": "code",
   "execution_count": 45,
   "metadata": {},
   "outputs": [
    {
     "name": "stdout",
     "output_type": "stream",
     "text": [
      "CSV file created successfully.\n"
     ]
    }
   ],
   "source": [
    "import csv\n",
    "\n",
    "# File name for the CSV\n",
    "csv_file = \"predictions.csv\"\n",
    "\n",
    "# Writing to the CSV file\n",
    "with open(csv_file, mode='w', newline='') as file:\n",
    "    writer = csv.writer(file)\n",
    "    # Write the header\n",
    "    writer.writerow([\"power\"])\n",
    "    # Write the predictions\n",
    "    for prediction in predictions:\n",
    "        writer.writerow([prediction])\n",
    "\n",
    "print(\"CSV file created successfully.\")"
   ]
  },
  {
   "cell_type": "code",
   "execution_count": 42,
   "metadata": {},
   "outputs": [
    {
     "data": {
      "text/plain": [
       "date\n",
       "2023-10-02 00:00:00    155.503582\n",
       "2023-10-02 01:00:00    148.864450\n",
       "2023-10-02 02:00:00    144.740508\n",
       "2023-10-02 03:00:00    141.717298\n",
       "2023-10-02 04:00:00    141.101799\n",
       "                          ...    \n",
       "2023-10-08 19:00:00    452.585711\n",
       "2023-10-08 20:00:00    477.885683\n",
       "2023-10-08 21:00:00    492.638636\n",
       "2023-10-08 22:00:00    508.186567\n",
       "2023-10-08 23:00:00    530.908346\n",
       "Length: 168, dtype: float64"
      ]
     },
     "execution_count": 42,
     "metadata": {},
     "output_type": "execute_result"
    }
   ],
   "source": [
    "predictions_with_index = pd.Series(predictions, index=val_power.index)\n",
    "predictions_with_index"
   ]
  },
  {
   "cell_type": "code",
   "execution_count": 43,
   "metadata": {},
   "outputs": [
    {
     "data": {
      "image/png": "[encoded data removed]",
      "text/plain": [
       "<Figure size 1000x600 with 1 Axes>"
      ]
     },
     "metadata": {},
     "output_type": "display_data"
    }
   ],
   "source": [
    "plt.figure(figsize=(10, 6))\n",
    "plt.plot(val_power.index, val_power.values, label='Actual Values', color='blue')\n",
    "plt.plot(predictions_with_index.index, predictions_with_index.values, label='Predictions', color='red')\n",
    "plt.title('Actual vs Predicted Values')\n",
    "plt.xlabel('Date')\n",
    "plt.ylabel('Power')\n",
    "plt.legend()\n",
    "plt.show()"
   ]
  },
  {
   "cell_type": "code",
   "execution_count": 26,
   "metadata": {},
   "outputs": [
    {
     "data": {
      "application/vnd.jupyter.widget-view+json": {
       "model_id": "8d8ce987830a4661b6cf60936f1e9823",
       "version_major": 2,
       "version_minor": 0
      },
      "text/plain": [
       "  0%|          | 0/128 [00:00<?, ?it/s]"
      ]
     },
     "metadata": {},
     "output_type": "display_data"
    },
    {
     "data": {
      "application/vnd.jupyter.widget-view+json": {
       "model_id": "ae8535c786b042538b371826b80f6435",
       "version_major": 2,
       "version_minor": 0
      },
      "text/plain": [
       "  0%|          | 0/168 [00:00<?, ?it/s]"
      ]
     },
     "metadata": {},
     "output_type": "display_data"
    },
    {
     "data": {
      "application/vnd.jupyter.widget-view+json": {
       "model_id": "2015a8323e9c4b90831dc75752c78ee7",
       "version_major": 2,
       "version_minor": 0
      },
      "text/plain": [
       "  0%|          | 0/168 [00:00<?, ?it/s]"
      ]
     },
     "metadata": {},
     "output_type": "display_data"
    },
    {
     "data": {
      "application/vnd.jupyter.widget-view+json": {
       "model_id": "d85301f6f4a448328ba54525eeab7145",
       "version_major": 2,
       "version_minor": 0
      },
      "text/plain": [
       "  0%|          | 0/168 [00:00<?, ?it/s]"
      ]
     },
     "metadata": {},
     "output_type": "display_data"
    },
    {
     "data": {
      "application/vnd.jupyter.widget-view+json": {
       "model_id": "77577b8401be46b7a91d7f762a780e52",
       "version_major": 2,
       "version_minor": 0
      },
      "text/plain": [
       "  0%|          | 0/168 [00:00<?, ?it/s]"
      ]
     },
     "metadata": {},
     "output_type": "display_data"
    },
    {
     "data": {
      "application/vnd.jupyter.widget-view+json": {
       "model_id": "c2cbcaec200a4601bd91a990b8b708e3",
       "version_major": 2,
       "version_minor": 0
      },
      "text/plain": [
       "  0%|          | 0/168 [00:00<?, ?it/s]"
      ]
     },
     "metadata": {},
     "output_type": "display_data"
    },
    {
     "data": {
      "application/vnd.jupyter.widget-view+json": {
       "model_id": "0102676bdb884a1dbc6e7dfba4fd648f",
       "version_major": 2,
       "version_minor": 0
      },
      "text/plain": [
       "  0%|          | 0/168 [00:00<?, ?it/s]"
      ]
     },
     "metadata": {},
     "output_type": "display_data"
    },
    {
     "data": {
      "application/vnd.jupyter.widget-view+json": {
       "model_id": "8766d9ef47b348db8e8c574898e38332",
       "version_major": 2,
       "version_minor": 0
      },
      "text/plain": [
       "  0%|          | 0/168 [00:00<?, ?it/s]"
      ]
     },
     "metadata": {},
     "output_type": "display_data"
    },
    {
     "data": {
      "application/vnd.jupyter.widget-view+json": {
       "model_id": "22e3d5d087c5425cba11474cb8562395",
       "version_major": 2,
       "version_minor": 0
      },
      "text/plain": [
       "  0%|          | 0/168 [00:00<?, ?it/s]"
      ]
     },
     "metadata": {},
     "output_type": "display_data"
    },
    {
     "data": {
      "application/vnd.jupyter.widget-view+json": {
       "model_id": "a6986ff9b7a9416faf002625d3dd25f0",
       "version_major": 2,
       "version_minor": 0
      },
      "text/plain": [
       "  0%|          | 0/168 [00:00<?, ?it/s]"
      ]
     },
     "metadata": {},
     "output_type": "display_data"
    },
    {
     "data": {
      "application/vnd.jupyter.widget-view+json": {
       "model_id": "3cbfb1a90f0b4ba6b57aa4539e91bbb8",
       "version_major": 2,
       "version_minor": 0
      },
      "text/plain": [
       "  0%|          | 0/168 [00:00<?, ?it/s]"
      ]
     },
     "metadata": {},
     "output_type": "display_data"
    },
    {
     "data": {
      "application/vnd.jupyter.widget-view+json": {
       "model_id": "42268d71e7d9400d87e01a8f46546bf4",
       "version_major": 2,
       "version_minor": 0
      },
      "text/plain": [
       "  0%|          | 0/168 [00:00<?, ?it/s]"
      ]
     },
     "metadata": {},
     "output_type": "display_data"
    },
    {
     "data": {
      "application/vnd.jupyter.widget-view+json": {
       "model_id": "601f3caafb47480d9efa38db483f5c0d",
       "version_major": 2,
       "version_minor": 0
      },
      "text/plain": [
       "  0%|          | 0/168 [00:00<?, ?it/s]"
      ]
     },
     "metadata": {},
     "output_type": "display_data"
    },
    {
     "data": {
      "application/vnd.jupyter.widget-view+json": {
       "model_id": "d35015906af64bfd8bf082880c2a9d51",
       "version_major": 2,
       "version_minor": 0
      },
      "text/plain": [
       "  0%|          | 0/168 [00:00<?, ?it/s]"
      ]
     },
     "metadata": {},
     "output_type": "display_data"
    },
    {
     "data": {
      "application/vnd.jupyter.widget-view+json": {
       "model_id": "fe650be446f443f6999b9853a6b4cbde",
       "version_major": 2,
       "version_minor": 0
      },
      "text/plain": [
       "  0%|          | 0/168 [00:00<?, ?it/s]"
      ]
     },
     "metadata": {},
     "output_type": "display_data"
    },
    {
     "data": {
      "application/vnd.jupyter.widget-view+json": {
       "model_id": "16464ea1a36a40ab9afa930039d0ba4e",
       "version_major": 2,
       "version_minor": 0
      },
      "text/plain": [
       "  0%|          | 0/168 [00:00<?, ?it/s]"
      ]
     },
     "metadata": {},
     "output_type": "display_data"
    },
    {
     "data": {
      "application/vnd.jupyter.widget-view+json": {
       "model_id": "5af81187a2d242b69f8761ed7a1623e2",
       "version_major": 2,
       "version_minor": 0
      },
      "text/plain": [
       "  0%|          | 0/168 [00:00<?, ?it/s]"
      ]
     },
     "metadata": {},
     "output_type": "display_data"
    },
    {
     "data": {
      "application/vnd.jupyter.widget-view+json": {
       "model_id": "003b3b90b12a4e2a8a5e69f103895df7",
       "version_major": 2,
       "version_minor": 0
      },
      "text/plain": [
       "  0%|          | 0/168 [00:00<?, ?it/s]"
      ]
     },
     "metadata": {},
     "output_type": "display_data"
    },
    {
     "data": {
      "application/vnd.jupyter.widget-view+json": {
       "model_id": "279580e8744d4146a8321be1618dc022",
       "version_major": 2,
       "version_minor": 0
      },
      "text/plain": [
       "  0%|          | 0/168 [00:00<?, ?it/s]"
      ]
     },
     "metadata": {},
     "output_type": "display_data"
    },
    {
     "data": {
      "application/vnd.jupyter.widget-view+json": {
       "model_id": "8e5f21aeb58442f48dc80c7b46bde822",
       "version_major": 2,
       "version_minor": 0
      },
      "text/plain": [
       "  0%|          | 0/168 [00:00<?, ?it/s]"
      ]
     },
     "metadata": {},
     "output_type": "display_data"
    },
    {
     "data": {
      "application/vnd.jupyter.widget-view+json": {
       "model_id": "678af6d5070d4ca1b4be4acd0550cf5d",
       "version_major": 2,
       "version_minor": 0
      },
      "text/plain": [
       "  0%|          | 0/168 [00:00<?, ?it/s]"
      ]
     },
     "metadata": {},
     "output_type": "display_data"
    },
    {
     "data": {
      "application/vnd.jupyter.widget-view+json": {
       "model_id": "ecfcf38f7e434a8eab17324c47d7ece5",
       "version_major": 2,
       "version_minor": 0
      },
      "text/plain": [
       "  0%|          | 0/168 [00:00<?, ?it/s]"
      ]
     },
     "metadata": {},
     "output_type": "display_data"
    },
    {
     "data": {
      "application/vnd.jupyter.widget-view+json": {
       "model_id": "6ee7bb65b4284eec915bef09df2c1644",
       "version_major": 2,
       "version_minor": 0
      },
      "text/plain": [
       "  0%|          | 0/168 [00:00<?, ?it/s]"
      ]
     },
     "metadata": {},
     "output_type": "display_data"
    },
    {
     "data": {
      "application/vnd.jupyter.widget-view+json": {
       "model_id": "f35e362419564efbaf09fc7a0b92ed27",
       "version_major": 2,
       "version_minor": 0
      },
      "text/plain": [
       "  0%|          | 0/168 [00:00<?, ?it/s]"
      ]
     },
     "metadata": {},
     "output_type": "display_data"
    },
    {
     "data": {
      "application/vnd.jupyter.widget-view+json": {
       "model_id": "f43c0be6880246e181bd8b53c01e0ee8",
       "version_major": 2,
       "version_minor": 0
      },
      "text/plain": [
       "  0%|          | 0/168 [00:00<?, ?it/s]"
      ]
     },
     "metadata": {},
     "output_type": "display_data"
    },
    {
     "data": {
      "application/vnd.jupyter.widget-view+json": {
       "model_id": "e86eb09831eb463bb0fc6da7890865e9",
       "version_major": 2,
       "version_minor": 0
      },
      "text/plain": [
       "  0%|          | 0/168 [00:00<?, ?it/s]"
      ]
     },
     "metadata": {},
     "output_type": "display_data"
    },
    {
     "data": {
      "application/vnd.jupyter.widget-view+json": {
       "model_id": "0ae1ae27c6c64d00948bcc1ea46b3705",
       "version_major": 2,
       "version_minor": 0
      },
      "text/plain": [
       "  0%|          | 0/168 [00:00<?, ?it/s]"
      ]
     },
     "metadata": {},
     "output_type": "display_data"
    },
    {
     "data": {
      "application/vnd.jupyter.widget-view+json": {
       "model_id": "56315926035a468fb405f304b08543f5",
       "version_major": 2,
       "version_minor": 0
      },
      "text/plain": [
       "  0%|          | 0/168 [00:00<?, ?it/s]"
      ]
     },
     "metadata": {},
     "output_type": "display_data"
    },
    {
     "data": {
      "application/vnd.jupyter.widget-view+json": {
       "model_id": "b51b0e638ff34a778785852b6e200574",
       "version_major": 2,
       "version_minor": 0
      },
      "text/plain": [
       "  0%|          | 0/168 [00:00<?, ?it/s]"
      ]
     },
     "metadata": {},
     "output_type": "display_data"
    },
    {
     "data": {
      "application/vnd.jupyter.widget-view+json": {
       "model_id": "a04e11f222b14c99b9b8f780d2dd995a",
       "version_major": 2,
       "version_minor": 0
      },
      "text/plain": [
       "  0%|          | 0/168 [00:00<?, ?it/s]"
      ]
     },
     "metadata": {},
     "output_type": "display_data"
    },
    {
     "data": {
      "application/vnd.jupyter.widget-view+json": {
       "model_id": "c2906771a2e842618c7df5dc1d12b789",
       "version_major": 2,
       "version_minor": 0
      },
      "text/plain": [
       "  0%|          | 0/168 [00:00<?, ?it/s]"
      ]
     },
     "metadata": {},
     "output_type": "display_data"
    },
    {
     "data": {
      "application/vnd.jupyter.widget-view+json": {
       "model_id": "f46db22b21344c0d9177291362ea34a8",
       "version_major": 2,
       "version_minor": 0
      },
      "text/plain": [
       "  0%|          | 0/168 [00:00<?, ?it/s]"
      ]
     },
     "metadata": {},
     "output_type": "display_data"
    },
    {
     "data": {
      "application/vnd.jupyter.widget-view+json": {
       "model_id": "069549fa2d344c4b805642a38ea0dc67",
       "version_major": 2,
       "version_minor": 0
      },
      "text/plain": [
       "  0%|          | 0/168 [00:00<?, ?it/s]"
      ]
     },
     "metadata": {},
     "output_type": "display_data"
    },
    {
     "data": {
      "application/vnd.jupyter.widget-view+json": {
       "model_id": "de4292aa85d34deea99b135afceb42c9",
       "version_major": 2,
       "version_minor": 0
      },
      "text/plain": [
       "  0%|          | 0/168 [00:00<?, ?it/s]"
      ]
     },
     "metadata": {},
     "output_type": "display_data"
    },
    {
     "ename": "KeyboardInterrupt",
     "evalue": "",
     "output_type": "error",
     "traceback": [
      "\u001b[0;31m---------------------------------------------------------------------------\u001b[0m",
      "\u001b[0;31mKeyboardInterrupt\u001b[0m                         Traceback (most recent call last)",
      "Cell \u001b[0;32mIn[26], line 21\u001b[0m\n\u001b[1;32m     18\u001b[0m error_lst \u001b[38;5;241m=\u001b[39m []\n\u001b[1;32m     20\u001b[0m \u001b[38;5;28;01mfor\u001b[39;00m params \u001b[38;5;129;01min\u001b[39;00m tqdm(grid):\n\u001b[0;32m---> 21\u001b[0m    predictions \u001b[38;5;241m=\u001b[39m \u001b[43mpredict_n_periods\u001b[49m\u001b[43m(\u001b[49m\u001b[43mseries_\u001b[49m\u001b[38;5;241;43m=\u001b[39;49m\u001b[43mtrain_power\u001b[49m\u001b[38;5;241;43m.\u001b[39;49m\u001b[43mto_frame\u001b[49m\u001b[43m(\u001b[49m\u001b[43m)\u001b[49m\u001b[43m,\u001b[49m\u001b[43m \u001b[49m\n\u001b[1;32m     22\u001b[0m \u001b[43m                     \u001b[49m\u001b[43mn_periods\u001b[49m\u001b[38;5;241;43m=\u001b[39;49m\u001b[38;5;28;43mlen\u001b[39;49m\u001b[43m(\u001b[49m\u001b[43mval_power\u001b[49m\u001b[38;5;241;43m.\u001b[39;49m\u001b[43mto_frame\u001b[49m\u001b[43m(\u001b[49m\u001b[43m)\u001b[49m\u001b[43m)\u001b[49m\u001b[43m,\u001b[49m\u001b[43m \u001b[49m\n\u001b[1;32m     23\u001b[0m \u001b[43m                     \u001b[49m\u001b[43mmodel\u001b[49m\u001b[38;5;241;43m=\u001b[39;49m\u001b[43mparams\u001b[49m\u001b[43m[\u001b[49m\u001b[38;5;124;43m'\u001b[39;49m\u001b[38;5;124;43mmodel\u001b[39;49m\u001b[38;5;124;43m'\u001b[39;49m\u001b[43m]\u001b[49m\u001b[43m,\u001b[49m\u001b[43m \u001b[49m\n\u001b[1;32m     24\u001b[0m \u001b[43m                     \u001b[49m\u001b[43mnum_periods_lagged\u001b[49m\u001b[38;5;241;43m=\u001b[39;49m\u001b[43mparams\u001b[49m\u001b[43m[\u001b[49m\u001b[38;5;124;43m'\u001b[39;49m\u001b[38;5;124;43mnum_periods_lagged\u001b[39;49m\u001b[38;5;124;43m'\u001b[39;49m\u001b[43m]\u001b[49m\u001b[43m,\u001b[49m\n\u001b[1;32m     25\u001b[0m \u001b[43m                     \u001b[49m\u001b[43mnum_periods_diffed\u001b[49m\u001b[38;5;241;43m=\u001b[39;49m\u001b[43mparams\u001b[49m\u001b[43m[\u001b[49m\u001b[38;5;124;43m'\u001b[39;49m\u001b[38;5;124;43mnum_periods_diffed\u001b[39;49m\u001b[38;5;124;43m'\u001b[39;49m\u001b[43m]\u001b[49m\u001b[43m,\u001b[49m\n\u001b[1;32m     26\u001b[0m \u001b[43m                     \u001b[49m\u001b[43mweekday\u001b[49m\u001b[38;5;241;43m=\u001b[39;49m\u001b[43mparams\u001b[49m\u001b[43m[\u001b[49m\u001b[38;5;124;43m'\u001b[39;49m\u001b[38;5;124;43mweekday\u001b[39;49m\u001b[38;5;124;43m'\u001b[39;49m\u001b[43m]\u001b[49m\u001b[43m,\u001b[49m\n\u001b[1;32m     27\u001b[0m \u001b[43m                     \u001b[49m\u001b[43mmonth\u001b[49m\u001b[38;5;241;43m=\u001b[39;49m\u001b[43mparams\u001b[49m\u001b[43m[\u001b[49m\u001b[38;5;124;43m'\u001b[39;49m\u001b[38;5;124;43mmonth\u001b[39;49m\u001b[38;5;124;43m'\u001b[39;49m\u001b[43m]\u001b[49m\u001b[43m,\u001b[49m\n\u001b[1;32m     28\u001b[0m \u001b[43m                     \u001b[49m\u001b[43mrolling\u001b[49m\u001b[38;5;241;43m=\u001b[39;49m\u001b[43mparams\u001b[49m\u001b[43m[\u001b[49m\u001b[38;5;124;43m'\u001b[39;49m\u001b[38;5;124;43mrolling\u001b[39;49m\u001b[38;5;124;43m'\u001b[39;49m\u001b[43m]\u001b[49m\u001b[43m,\u001b[49m\n\u001b[1;32m     29\u001b[0m \u001b[43m                     \u001b[49m\u001b[43mtarget\u001b[49m\u001b[38;5;241;43m=\u001b[39;49m\u001b[38;5;124;43m\"\u001b[39;49m\u001b[38;5;124;43mpower\u001b[39;49m\u001b[38;5;124;43m\"\u001b[39;49m\n\u001b[1;32m     30\u001b[0m \u001b[43m                   \u001b[49m\u001b[43m)\u001b[49m\n\u001b[1;32m     32\u001b[0m    error_lst\u001b[38;5;241m.\u001b[39mappend(mean_absolute_error(val_power\u001b[38;5;241m.\u001b[39mto_frame(),predictions))\n\u001b[1;32m     35\u001b[0m best_params_index \u001b[38;5;241m=\u001b[39m pd\u001b[38;5;241m.\u001b[39mSeries(error_lst)\u001b[38;5;241m.\u001b[39midxmin()\n",
      "File \u001b[0;32m~/Documents/ldssa/Hackathon 3/utils.py:112\u001b[0m, in \u001b[0;36mpredict_n_periods\u001b[0;34m(series_, n_periods, model, num_periods_lagged, num_periods_diffed, weekday, month, rolling, holidays, target)\u001b[0m\n\u001b[1;32m    109\u001b[0m predictions \u001b[38;5;241m=\u001b[39m []\n\u001b[1;32m    111\u001b[0m \u001b[38;5;28;01mfor\u001b[39;00m period_ahead \u001b[38;5;129;01min\u001b[39;00m tqdm(\u001b[38;5;28mrange\u001b[39m(\u001b[38;5;241m1\u001b[39m, n_periods\u001b[38;5;241m+\u001b[39m\u001b[38;5;241m1\u001b[39m)):\n\u001b[0;32m--> 112\u001b[0m     pred \u001b[38;5;241m=\u001b[39m \u001b[43mpredict_period_n\u001b[49m\u001b[43m(\u001b[49m\u001b[43mseries_\u001b[49m\u001b[38;5;241;43m=\u001b[39;49m\u001b[43mseries_\u001b[49m\u001b[43m,\u001b[49m\u001b[43m \u001b[49m\n\u001b[1;32m    113\u001b[0m \u001b[43m                            \u001b[49m\u001b[43mmodel\u001b[49m\u001b[38;5;241;43m=\u001b[39;49m\u001b[43mmodel\u001b[49m\u001b[43m,\u001b[49m\u001b[43m \u001b[49m\n\u001b[1;32m    114\u001b[0m \u001b[43m                            \u001b[49m\u001b[43mnumber_of_periods_ahead\u001b[49m\u001b[38;5;241;43m=\u001b[39;49m\u001b[43mperiod_ahead\u001b[49m\u001b[43m,\u001b[49m\u001b[43m \u001b[49m\n\u001b[1;32m    115\u001b[0m \u001b[43m                            \u001b[49m\u001b[43mnum_periods_lagged\u001b[49m\u001b[38;5;241;43m=\u001b[39;49m\u001b[43mnum_periods_lagged\u001b[49m\u001b[43m,\u001b[49m\n\u001b[1;32m    116\u001b[0m \u001b[43m                            \u001b[49m\u001b[43mnum_periods_diffed\u001b[49m\u001b[38;5;241;43m=\u001b[39;49m\u001b[43mnum_periods_diffed\u001b[49m\u001b[43m,\u001b[49m\n\u001b[1;32m    117\u001b[0m \u001b[43m                            \u001b[49m\u001b[43mweekday\u001b[49m\u001b[38;5;241;43m=\u001b[39;49m\u001b[43mweekday\u001b[49m\u001b[43m,\u001b[49m\n\u001b[1;32m    118\u001b[0m \u001b[43m                            \u001b[49m\u001b[43mmonth\u001b[49m\u001b[38;5;241;43m=\u001b[39;49m\u001b[43mmonth\u001b[49m\u001b[43m,\u001b[49m\n\u001b[1;32m    119\u001b[0m \u001b[43m                            \u001b[49m\u001b[43mrolling\u001b[49m\u001b[38;5;241;43m=\u001b[39;49m\u001b[43mrolling\u001b[49m\u001b[43m,\u001b[49m\n\u001b[1;32m    120\u001b[0m \u001b[43m                            \u001b[49m\u001b[43mholidays\u001b[49m\u001b[38;5;241;43m=\u001b[39;49m\u001b[43mholidays\u001b[49m\u001b[43m,\u001b[49m\n\u001b[1;32m    121\u001b[0m \u001b[43m                            \u001b[49m\u001b[43mtarget\u001b[49m\u001b[38;5;241;43m=\u001b[39;49m\u001b[43mtarget\u001b[49m\u001b[43m)\u001b[49m\n\u001b[1;32m    123\u001b[0m     predictions\u001b[38;5;241m.\u001b[39mappend(pred[\u001b[38;5;241m0\u001b[39m])\n\u001b[1;32m    125\u001b[0m \u001b[38;5;28;01mreturn\u001b[39;00m predictions\n",
      "File \u001b[0;32m~/Documents/ldssa/Hackathon 3/utils.py:105\u001b[0m, in \u001b[0;36mpredict_period_n\u001b[0;34m(series_, model, number_of_periods_ahead, num_periods_lagged, num_periods_diffed, weekday, month, rolling, holidays, target)\u001b[0m\n\u001b[1;32m     92\u001b[0m \u001b[38;5;28;01mdef\u001b[39;00m \u001b[38;5;21mpredict_period_n\u001b[39m(series_, model, number_of_periods_ahead, num_periods_lagged, num_periods_diffed, weekday, month, rolling, holidays, target): \n\u001b[1;32m     94\u001b[0m         X_train, y_train, X_last_period \u001b[38;5;241m=\u001b[39m prepare_for_prediction(series_, \n\u001b[1;32m     95\u001b[0m                                                              number_of_periods_ahead, \n\u001b[1;32m     96\u001b[0m                                                              num_periods_lagged,\n\u001b[0;32m   (...)\u001b[0m\n\u001b[1;32m    102\u001b[0m                                                              target\n\u001b[1;32m    103\u001b[0m                                                              )\n\u001b[0;32m--> 105\u001b[0m         \u001b[43mmodel\u001b[49m\u001b[38;5;241;43m.\u001b[39;49m\u001b[43mfit\u001b[49m\u001b[43m(\u001b[49m\u001b[43mX_train\u001b[49m\u001b[43m,\u001b[49m\u001b[43m \u001b[49m\u001b[43my_train\u001b[49m\u001b[43m)\u001b[49m\n\u001b[1;32m    106\u001b[0m         \u001b[38;5;28;01mreturn\u001b[39;00m model\u001b[38;5;241m.\u001b[39mpredict(X_last_period\u001b[38;5;241m.\u001b[39mvalues\u001b[38;5;241m.\u001b[39mreshape(\u001b[38;5;241m1\u001b[39m, \u001b[38;5;241m-\u001b[39m\u001b[38;5;241m1\u001b[39m))\n",
      "File \u001b[0;32m~/.virtualenvs/BLU04/lib/python3.12/site-packages/sklearn/base.py:1474\u001b[0m, in \u001b[0;36m_fit_context.<locals>.decorator.<locals>.wrapper\u001b[0;34m(estimator, *args, **kwargs)\u001b[0m\n\u001b[1;32m   1467\u001b[0m     estimator\u001b[38;5;241m.\u001b[39m_validate_params()\n\u001b[1;32m   1469\u001b[0m \u001b[38;5;28;01mwith\u001b[39;00m config_context(\n\u001b[1;32m   1470\u001b[0m     skip_parameter_validation\u001b[38;5;241m=\u001b[39m(\n\u001b[1;32m   1471\u001b[0m         prefer_skip_nested_validation \u001b[38;5;129;01mor\u001b[39;00m global_skip_validation\n\u001b[1;32m   1472\u001b[0m     )\n\u001b[1;32m   1473\u001b[0m ):\n\u001b[0;32m-> 1474\u001b[0m     \u001b[38;5;28;01mreturn\u001b[39;00m \u001b[43mfit_method\u001b[49m\u001b[43m(\u001b[49m\u001b[43mestimator\u001b[49m\u001b[43m,\u001b[49m\u001b[43m \u001b[49m\u001b[38;5;241;43m*\u001b[39;49m\u001b[43margs\u001b[49m\u001b[43m,\u001b[49m\u001b[43m \u001b[49m\u001b[38;5;241;43m*\u001b[39;49m\u001b[38;5;241;43m*\u001b[39;49m\u001b[43mkwargs\u001b[49m\u001b[43m)\u001b[49m\n",
      "File \u001b[0;32m~/.virtualenvs/BLU04/lib/python3.12/site-packages/sklearn/ensemble/_gb.py:784\u001b[0m, in \u001b[0;36mBaseGradientBoosting.fit\u001b[0;34m(self, X, y, sample_weight, monitor)\u001b[0m\n\u001b[1;32m    781\u001b[0m     \u001b[38;5;28mself\u001b[39m\u001b[38;5;241m.\u001b[39m_resize_state()\n\u001b[1;32m    783\u001b[0m \u001b[38;5;66;03m# fit the boosting stages\u001b[39;00m\n\u001b[0;32m--> 784\u001b[0m n_stages \u001b[38;5;241m=\u001b[39m \u001b[38;5;28;43mself\u001b[39;49m\u001b[38;5;241;43m.\u001b[39;49m\u001b[43m_fit_stages\u001b[49m\u001b[43m(\u001b[49m\n\u001b[1;32m    785\u001b[0m \u001b[43m    \u001b[49m\u001b[43mX_train\u001b[49m\u001b[43m,\u001b[49m\n\u001b[1;32m    786\u001b[0m \u001b[43m    \u001b[49m\u001b[43my_train\u001b[49m\u001b[43m,\u001b[49m\n\u001b[1;32m    787\u001b[0m \u001b[43m    \u001b[49m\u001b[43mraw_predictions\u001b[49m\u001b[43m,\u001b[49m\n\u001b[1;32m    788\u001b[0m \u001b[43m    \u001b[49m\u001b[43msample_weight_train\u001b[49m\u001b[43m,\u001b[49m\n\u001b[1;32m    789\u001b[0m \u001b[43m    \u001b[49m\u001b[38;5;28;43mself\u001b[39;49m\u001b[38;5;241;43m.\u001b[39;49m\u001b[43m_rng\u001b[49m\u001b[43m,\u001b[49m\n\u001b[1;32m    790\u001b[0m \u001b[43m    \u001b[49m\u001b[43mX_val\u001b[49m\u001b[43m,\u001b[49m\n\u001b[1;32m    791\u001b[0m \u001b[43m    \u001b[49m\u001b[43my_val\u001b[49m\u001b[43m,\u001b[49m\n\u001b[1;32m    792\u001b[0m \u001b[43m    \u001b[49m\u001b[43msample_weight_val\u001b[49m\u001b[43m,\u001b[49m\n\u001b[1;32m    793\u001b[0m \u001b[43m    \u001b[49m\u001b[43mbegin_at_stage\u001b[49m\u001b[43m,\u001b[49m\n\u001b[1;32m    794\u001b[0m \u001b[43m    \u001b[49m\u001b[43mmonitor\u001b[49m\u001b[43m,\u001b[49m\n\u001b[1;32m    795\u001b[0m \u001b[43m\u001b[49m\u001b[43m)\u001b[49m\n\u001b[1;32m    797\u001b[0m \u001b[38;5;66;03m# change shape of arrays after fit (early-stopping or additional ests)\u001b[39;00m\n\u001b[1;32m    798\u001b[0m \u001b[38;5;28;01mif\u001b[39;00m n_stages \u001b[38;5;241m!=\u001b[39m \u001b[38;5;28mself\u001b[39m\u001b[38;5;241m.\u001b[39mestimators_\u001b[38;5;241m.\u001b[39mshape[\u001b[38;5;241m0\u001b[39m]:\n",
      "File \u001b[0;32m~/.virtualenvs/BLU04/lib/python3.12/site-packages/sklearn/ensemble/_gb.py:880\u001b[0m, in \u001b[0;36mBaseGradientBoosting._fit_stages\u001b[0;34m(self, X, y, raw_predictions, sample_weight, random_state, X_val, y_val, sample_weight_val, begin_at_stage, monitor)\u001b[0m\n\u001b[1;32m    873\u001b[0m         initial_loss \u001b[38;5;241m=\u001b[39m factor \u001b[38;5;241m*\u001b[39m \u001b[38;5;28mself\u001b[39m\u001b[38;5;241m.\u001b[39m_loss(\n\u001b[1;32m    874\u001b[0m             y_true\u001b[38;5;241m=\u001b[39my_oob_masked,\n\u001b[1;32m    875\u001b[0m             raw_prediction\u001b[38;5;241m=\u001b[39mraw_predictions[\u001b[38;5;241m~\u001b[39msample_mask],\n\u001b[1;32m    876\u001b[0m             sample_weight\u001b[38;5;241m=\u001b[39msample_weight_oob_masked,\n\u001b[1;32m    877\u001b[0m         )\n\u001b[1;32m    879\u001b[0m \u001b[38;5;66;03m# fit next stage of trees\u001b[39;00m\n\u001b[0;32m--> 880\u001b[0m raw_predictions \u001b[38;5;241m=\u001b[39m \u001b[38;5;28;43mself\u001b[39;49m\u001b[38;5;241;43m.\u001b[39;49m\u001b[43m_fit_stage\u001b[49m\u001b[43m(\u001b[49m\n\u001b[1;32m    881\u001b[0m \u001b[43m    \u001b[49m\u001b[43mi\u001b[49m\u001b[43m,\u001b[49m\n\u001b[1;32m    882\u001b[0m \u001b[43m    \u001b[49m\u001b[43mX\u001b[49m\u001b[43m,\u001b[49m\n\u001b[1;32m    883\u001b[0m \u001b[43m    \u001b[49m\u001b[43my\u001b[49m\u001b[43m,\u001b[49m\n\u001b[1;32m    884\u001b[0m \u001b[43m    \u001b[49m\u001b[43mraw_predictions\u001b[49m\u001b[43m,\u001b[49m\n\u001b[1;32m    885\u001b[0m \u001b[43m    \u001b[49m\u001b[43msample_weight\u001b[49m\u001b[43m,\u001b[49m\n\u001b[1;32m    886\u001b[0m \u001b[43m    \u001b[49m\u001b[43msample_mask\u001b[49m\u001b[43m,\u001b[49m\n\u001b[1;32m    887\u001b[0m \u001b[43m    \u001b[49m\u001b[43mrandom_state\u001b[49m\u001b[43m,\u001b[49m\n\u001b[1;32m    888\u001b[0m \u001b[43m    \u001b[49m\u001b[43mX_csc\u001b[49m\u001b[38;5;241;43m=\u001b[39;49m\u001b[43mX_csc\u001b[49m\u001b[43m,\u001b[49m\n\u001b[1;32m    889\u001b[0m \u001b[43m    \u001b[49m\u001b[43mX_csr\u001b[49m\u001b[38;5;241;43m=\u001b[39;49m\u001b[43mX_csr\u001b[49m\u001b[43m,\u001b[49m\n\u001b[1;32m    890\u001b[0m \u001b[43m\u001b[49m\u001b[43m)\u001b[49m\n\u001b[1;32m    892\u001b[0m \u001b[38;5;66;03m# track loss\u001b[39;00m\n\u001b[1;32m    893\u001b[0m \u001b[38;5;28;01mif\u001b[39;00m do_oob:\n",
      "File \u001b[0;32m~/.virtualenvs/BLU04/lib/python3.12/site-packages/sklearn/ensemble/_gb.py:490\u001b[0m, in \u001b[0;36mBaseGradientBoosting._fit_stage\u001b[0;34m(self, i, X, y, raw_predictions, sample_weight, sample_mask, random_state, X_csc, X_csr)\u001b[0m\n\u001b[1;32m    487\u001b[0m     sample_weight \u001b[38;5;241m=\u001b[39m sample_weight \u001b[38;5;241m*\u001b[39m sample_mask\u001b[38;5;241m.\u001b[39mastype(np\u001b[38;5;241m.\u001b[39mfloat64)\n\u001b[1;32m    489\u001b[0m X \u001b[38;5;241m=\u001b[39m X_csc \u001b[38;5;28;01mif\u001b[39;00m X_csc \u001b[38;5;129;01mis\u001b[39;00m \u001b[38;5;129;01mnot\u001b[39;00m \u001b[38;5;28;01mNone\u001b[39;00m \u001b[38;5;28;01melse\u001b[39;00m X\n\u001b[0;32m--> 490\u001b[0m \u001b[43mtree\u001b[49m\u001b[38;5;241;43m.\u001b[39;49m\u001b[43mfit\u001b[49m\u001b[43m(\u001b[49m\n\u001b[1;32m    491\u001b[0m \u001b[43m    \u001b[49m\u001b[43mX\u001b[49m\u001b[43m,\u001b[49m\u001b[43m \u001b[49m\u001b[43mneg_g_view\u001b[49m\u001b[43m[\u001b[49m\u001b[43m:\u001b[49m\u001b[43m,\u001b[49m\u001b[43m \u001b[49m\u001b[43mk\u001b[49m\u001b[43m]\u001b[49m\u001b[43m,\u001b[49m\u001b[43m \u001b[49m\u001b[43msample_weight\u001b[49m\u001b[38;5;241;43m=\u001b[39;49m\u001b[43msample_weight\u001b[49m\u001b[43m,\u001b[49m\u001b[43m \u001b[49m\u001b[43mcheck_input\u001b[49m\u001b[38;5;241;43m=\u001b[39;49m\u001b[38;5;28;43;01mFalse\u001b[39;49;00m\n\u001b[1;32m    492\u001b[0m \u001b[43m\u001b[49m\u001b[43m)\u001b[49m\n\u001b[1;32m    494\u001b[0m \u001b[38;5;66;03m# update tree leaves\u001b[39;00m\n\u001b[1;32m    495\u001b[0m X_for_tree_update \u001b[38;5;241m=\u001b[39m X_csr \u001b[38;5;28;01mif\u001b[39;00m X_csr \u001b[38;5;129;01mis\u001b[39;00m \u001b[38;5;129;01mnot\u001b[39;00m \u001b[38;5;28;01mNone\u001b[39;00m \u001b[38;5;28;01melse\u001b[39;00m X\n",
      "File \u001b[0;32m~/.virtualenvs/BLU04/lib/python3.12/site-packages/sklearn/base.py:1474\u001b[0m, in \u001b[0;36m_fit_context.<locals>.decorator.<locals>.wrapper\u001b[0;34m(estimator, *args, **kwargs)\u001b[0m\n\u001b[1;32m   1467\u001b[0m     estimator\u001b[38;5;241m.\u001b[39m_validate_params()\n\u001b[1;32m   1469\u001b[0m \u001b[38;5;28;01mwith\u001b[39;00m config_context(\n\u001b[1;32m   1470\u001b[0m     skip_parameter_validation\u001b[38;5;241m=\u001b[39m(\n\u001b[1;32m   1471\u001b[0m         prefer_skip_nested_validation \u001b[38;5;129;01mor\u001b[39;00m global_skip_validation\n\u001b[1;32m   1472\u001b[0m     )\n\u001b[1;32m   1473\u001b[0m ):\n\u001b[0;32m-> 1474\u001b[0m     \u001b[38;5;28;01mreturn\u001b[39;00m \u001b[43mfit_method\u001b[49m\u001b[43m(\u001b[49m\u001b[43mestimator\u001b[49m\u001b[43m,\u001b[49m\u001b[43m \u001b[49m\u001b[38;5;241;43m*\u001b[39;49m\u001b[43margs\u001b[49m\u001b[43m,\u001b[49m\u001b[43m \u001b[49m\u001b[38;5;241;43m*\u001b[39;49m\u001b[38;5;241;43m*\u001b[39;49m\u001b[43mkwargs\u001b[49m\u001b[43m)\u001b[49m\n",
      "File \u001b[0;32m~/.virtualenvs/BLU04/lib/python3.12/site-packages/sklearn/tree/_classes.py:1377\u001b[0m, in \u001b[0;36mDecisionTreeRegressor.fit\u001b[0;34m(self, X, y, sample_weight, check_input)\u001b[0m\n\u001b[1;32m   1347\u001b[0m \u001b[38;5;129m@_fit_context\u001b[39m(prefer_skip_nested_validation\u001b[38;5;241m=\u001b[39m\u001b[38;5;28;01mTrue\u001b[39;00m)\n\u001b[1;32m   1348\u001b[0m \u001b[38;5;28;01mdef\u001b[39;00m \u001b[38;5;21mfit\u001b[39m(\u001b[38;5;28mself\u001b[39m, X, y, sample_weight\u001b[38;5;241m=\u001b[39m\u001b[38;5;28;01mNone\u001b[39;00m, check_input\u001b[38;5;241m=\u001b[39m\u001b[38;5;28;01mTrue\u001b[39;00m):\n\u001b[1;32m   1349\u001b[0m \u001b[38;5;250m    \u001b[39m\u001b[38;5;124;03m\"\"\"Build a decision tree regressor from the training set (X, y).\u001b[39;00m\n\u001b[1;32m   1350\u001b[0m \n\u001b[1;32m   1351\u001b[0m \u001b[38;5;124;03m    Parameters\u001b[39;00m\n\u001b[0;32m   (...)\u001b[0m\n\u001b[1;32m   1374\u001b[0m \u001b[38;5;124;03m        Fitted estimator.\u001b[39;00m\n\u001b[1;32m   1375\u001b[0m \u001b[38;5;124;03m    \"\"\"\u001b[39;00m\n\u001b[0;32m-> 1377\u001b[0m     \u001b[38;5;28;43msuper\u001b[39;49m\u001b[43m(\u001b[49m\u001b[43m)\u001b[49m\u001b[38;5;241;43m.\u001b[39;49m\u001b[43m_fit\u001b[49m\u001b[43m(\u001b[49m\n\u001b[1;32m   1378\u001b[0m \u001b[43m        \u001b[49m\u001b[43mX\u001b[49m\u001b[43m,\u001b[49m\n\u001b[1;32m   1379\u001b[0m \u001b[43m        \u001b[49m\u001b[43my\u001b[49m\u001b[43m,\u001b[49m\n\u001b[1;32m   1380\u001b[0m \u001b[43m        \u001b[49m\u001b[43msample_weight\u001b[49m\u001b[38;5;241;43m=\u001b[39;49m\u001b[43msample_weight\u001b[49m\u001b[43m,\u001b[49m\n\u001b[1;32m   1381\u001b[0m \u001b[43m        \u001b[49m\u001b[43mcheck_input\u001b[49m\u001b[38;5;241;43m=\u001b[39;49m\u001b[43mcheck_input\u001b[49m\u001b[43m,\u001b[49m\n\u001b[1;32m   1382\u001b[0m \u001b[43m    \u001b[49m\u001b[43m)\u001b[49m\n\u001b[1;32m   1383\u001b[0m     \u001b[38;5;28;01mreturn\u001b[39;00m \u001b[38;5;28mself\u001b[39m\n",
      "File \u001b[0;32m~/.virtualenvs/BLU04/lib/python3.12/site-packages/sklearn/tree/_classes.py:472\u001b[0m, in \u001b[0;36mBaseDecisionTree._fit\u001b[0;34m(self, X, y, sample_weight, check_input, missing_values_in_feature_mask)\u001b[0m\n\u001b[1;32m    461\u001b[0m \u001b[38;5;28;01melse\u001b[39;00m:\n\u001b[1;32m    462\u001b[0m     builder \u001b[38;5;241m=\u001b[39m BestFirstTreeBuilder(\n\u001b[1;32m    463\u001b[0m         splitter,\n\u001b[1;32m    464\u001b[0m         min_samples_split,\n\u001b[0;32m   (...)\u001b[0m\n\u001b[1;32m    469\u001b[0m         \u001b[38;5;28mself\u001b[39m\u001b[38;5;241m.\u001b[39mmin_impurity_decrease,\n\u001b[1;32m    470\u001b[0m     )\n\u001b[0;32m--> 472\u001b[0m \u001b[43mbuilder\u001b[49m\u001b[38;5;241;43m.\u001b[39;49m\u001b[43mbuild\u001b[49m\u001b[43m(\u001b[49m\u001b[38;5;28;43mself\u001b[39;49m\u001b[38;5;241;43m.\u001b[39;49m\u001b[43mtree_\u001b[49m\u001b[43m,\u001b[49m\u001b[43m \u001b[49m\u001b[43mX\u001b[49m\u001b[43m,\u001b[49m\u001b[43m \u001b[49m\u001b[43my\u001b[49m\u001b[43m,\u001b[49m\u001b[43m \u001b[49m\u001b[43msample_weight\u001b[49m\u001b[43m,\u001b[49m\u001b[43m \u001b[49m\u001b[43mmissing_values_in_feature_mask\u001b[49m\u001b[43m)\u001b[49m\n\u001b[1;32m    474\u001b[0m \u001b[38;5;28;01mif\u001b[39;00m \u001b[38;5;28mself\u001b[39m\u001b[38;5;241m.\u001b[39mn_outputs_ \u001b[38;5;241m==\u001b[39m \u001b[38;5;241m1\u001b[39m \u001b[38;5;129;01mand\u001b[39;00m is_classifier(\u001b[38;5;28mself\u001b[39m):\n\u001b[1;32m    475\u001b[0m     \u001b[38;5;28mself\u001b[39m\u001b[38;5;241m.\u001b[39mn_classes_ \u001b[38;5;241m=\u001b[39m \u001b[38;5;28mself\u001b[39m\u001b[38;5;241m.\u001b[39mn_classes_[\u001b[38;5;241m0\u001b[39m]\n",
      "\u001b[0;31mKeyboardInterrupt\u001b[0m: "
     ]
    }
   ],
   "source": [
    "from sklearn.ensemble import GradientBoostingRegressor, RandomForestRegressor\n",
    "from sklearn.svm import SVR\n",
    "from sklearn.model_selection import ParameterGrid\n",
    "\n",
    "param_grid = {\n",
    "    'model': [LinearRegression(), GradientBoostingRegressor(n_estimators=20, random_state=10), RandomForestRegressor(n_estimators=20, random_state=10), SVR()],\n",
    "    'num_periods_lagged': [3, 7, 14, 26],\n",
    "    'num_periods_diffed': [0, 1, 7, 15],\n",
    "    'weekday': [False],\n",
    "    'month': [True, False],\n",
    "    'holidays': [False],\n",
    "    'rolling': [[]]  # Empty list as we don't want rollings\n",
    "}\n",
    "\n",
    "\n",
    "grid = ParameterGrid(param_grid)\n",
    "\n",
    "error_lst = []\n",
    "\n",
    "for params in tqdm(grid):\n",
    "   predictions = predict_n_periods(series_=train_power.to_frame(), \n",
    "                     n_periods=len(val_power.to_frame()), \n",
    "                     model=params['model'], \n",
    "                     num_periods_lagged=params['num_periods_lagged'],\n",
    "                     num_periods_diffed=params['num_periods_diffed'],\n",
    "                     weekday=params['weekday'],\n",
    "                     month=params['month'],\n",
    "                     rolling=params['rolling'],\n",
    "                     target=\"power\"\n",
    "                   )\n",
    "\n",
    "   error_lst.append(mean_absolute_error(val_power.to_frame(),predictions))\n",
    "\n",
    "    \n",
    "best_params_index = pd.Series(error_lst).idxmin()\n",
    "best_params = list(grid)[best_params_index]\n",
    "#best_params = list(grid)[0]\n",
    "\n",
    "print(\"Best parameters:\", best_params)"
   ]
  },
  {
   "cell_type": "code",
   "execution_count": null,
   "metadata": {},
   "outputs": [],
   "source": [
    "predictions = predict_n_periods(series_=train_power.to_frame(), \n",
    "                  n_periods=len(val_power.to_frame()), \n",
    "                  model=LinearRegression(), \n",
    "                  holidays= False, \n",
    "                  month= False,\n",
    "                  num_periods_diffed= 0,\n",
    "                  num_periods_lagged= 3, \n",
    "                  rolling= [], \n",
    "                  weekday= False,\n",
    "                  target=\"wp\"\n",
    "                  )\n",
    "val_mae = mean_absolute_error(val_power.to_frame(),predictions)\n",
    "val_mae"
   ]
  },
  {
   "cell_type": "code",
   "execution_count": null,
   "metadata": {},
   "outputs": [],
   "source": []
  },
  {
   "cell_type": "code",
   "execution_count": null,
   "metadata": {},
   "outputs": [],
   "source": []
  },
  {
   "cell_type": "code",
   "execution_count": null,
   "metadata": {},
   "outputs": [],
   "source": [
    "predictions = predict_n_periods(series_=train_power.to_frame(), \n",
    "                  n_periods=len(test_power.to_frame()), \n",
    "                  model=GradientBoostingRegressor(), \n",
    "                  holidays= False, \n",
    "                  month= True,\n",
    "                  num_periods_diffed= 0,\n",
    "                  num_periods_lagged= 5, \n",
    "                  rolling= [], \n",
    "                  weekday= False,\n",
    "                  target=\"power\"\n",
    "                  )"
   ]
  },
  {
   "cell_type": "code",
   "execution_count": null,
   "metadata": {},
   "outputs": [],
   "source": []
  },
  {
   "cell_type": "code",
   "execution_count": 37,
   "metadata": {},
   "outputs": [
    {
     "name": "stdout",
     "output_type": "stream",
     "text": [
      "Collecting xgboost\n",
      "  Downloading xgboost-2.0.3-py3-none-macosx_12_0_arm64.whl.metadata (2.0 kB)\n",
      "Requirement already satisfied: numpy in /Users/carmensc/.pyenv/versions/3.10.6/envs/S03_BLU06/lib/python3.10/site-packages (from xgboost) (1.26.4)\n",
      "Requirement already satisfied: scipy in /Users/carmensc/.pyenv/versions/3.10.6/envs/S03_BLU06/lib/python3.10/site-packages (from xgboost) (1.12.0)\n",
      "Downloading xgboost-2.0.3-py3-none-macosx_12_0_arm64.whl (1.9 MB)\n",
      "\u001b[2K   \u001b[90m━━━━━━━━━━━━━━━━━━━━━━━━━━━━━━━━━━━━━━━━\u001b[0m \u001b[32m1.9/1.9 MB\u001b[0m \u001b[31m5.6 MB/s\u001b[0m eta \u001b[36m0:00:00\u001b[0ma \u001b[36m0:00:01\u001b[0m\n",
      "\u001b[?25hInstalling collected packages: xgboost\n",
      "Successfully installed xgboost-2.0.3\n"
     ]
    }
   ],
   "source": [
    "!pip install xgboost"
   ]
  },
  {
   "cell_type": "code",
   "execution_count": 68,
   "metadata": {},
   "outputs": [
    {
     "data": {
      "application/vnd.jupyter.widget-view+json": {
       "model_id": "eec2228d377343238e7a724ace8adf42",
       "version_major": 2,
       "version_minor": 0
      },
      "text/plain": [
       "  0%|          | 0/40 [00:00<?, ?it/s]"
      ]
     },
     "metadata": {},
     "output_type": "display_data"
    },
    {
     "data": {
      "application/vnd.jupyter.widget-view+json": {
       "model_id": "a7f16eb5a61246b79348909e4f015306",
       "version_major": 2,
       "version_minor": 0
      },
      "text/plain": [
       "  0%|          | 0/168 [00:00<?, ?it/s]"
      ]
     },
     "metadata": {},
     "output_type": "display_data"
    },
    {
     "data": {
      "application/vnd.jupyter.widget-view+json": {
       "model_id": "9ccdc4124d224daaa761e401d97536ef",
       "version_major": 2,
       "version_minor": 0
      },
      "text/plain": [
       "  0%|          | 0/168 [00:00<?, ?it/s]"
      ]
     },
     "metadata": {},
     "output_type": "display_data"
    },
    {
     "data": {
      "application/vnd.jupyter.widget-view+json": {
       "model_id": "89000fc031b44011a05b235bd0867488",
       "version_major": 2,
       "version_minor": 0
      },
      "text/plain": [
       "  0%|          | 0/168 [00:00<?, ?it/s]"
      ]
     },
     "metadata": {},
     "output_type": "display_data"
    },
    {
     "data": {
      "application/vnd.jupyter.widget-view+json": {
       "model_id": "5b494f997d064507827b2eab959fa4e3",
       "version_major": 2,
       "version_minor": 0
      },
      "text/plain": [
       "  0%|          | 0/168 [00:00<?, ?it/s]"
      ]
     },
     "metadata": {},
     "output_type": "display_data"
    },
    {
     "data": {
      "application/vnd.jupyter.widget-view+json": {
       "model_id": "0809a2850045411597c2941079c9400d",
       "version_major": 2,
       "version_minor": 0
      },
      "text/plain": [
       "  0%|          | 0/168 [00:00<?, ?it/s]"
      ]
     },
     "metadata": {},
     "output_type": "display_data"
    },
    {
     "data": {
      "application/vnd.jupyter.widget-view+json": {
       "model_id": "1a6df13a334d4cdc9873560c097b013a",
       "version_major": 2,
       "version_minor": 0
      },
      "text/plain": [
       "  0%|          | 0/168 [00:00<?, ?it/s]"
      ]
     },
     "metadata": {},
     "output_type": "display_data"
    },
    {
     "data": {
      "application/vnd.jupyter.widget-view+json": {
       "model_id": "9d8103b2c5374da79dd6cf7f87f8520c",
       "version_major": 2,
       "version_minor": 0
      },
      "text/plain": [
       "  0%|          | 0/168 [00:00<?, ?it/s]"
      ]
     },
     "metadata": {},
     "output_type": "display_data"
    },
    {
     "data": {
      "application/vnd.jupyter.widget-view+json": {
       "model_id": "6d64947551f240eeb21980fba3ac988b",
       "version_major": 2,
       "version_minor": 0
      },
      "text/plain": [
       "  0%|          | 0/168 [00:00<?, ?it/s]"
      ]
     },
     "metadata": {},
     "output_type": "display_data"
    },
    {
     "data": {
      "application/vnd.jupyter.widget-view+json": {
       "model_id": "58ecb150217b4d7b84dad5d24c40476c",
       "version_major": 2,
       "version_minor": 0
      },
      "text/plain": [
       "  0%|          | 0/168 [00:00<?, ?it/s]"
      ]
     },
     "metadata": {},
     "output_type": "display_data"
    },
    {
     "data": {
      "application/vnd.jupyter.widget-view+json": {
       "model_id": "ac7516eb52ff4e1c8c1ed9f99f777e57",
       "version_major": 2,
       "version_minor": 0
      },
      "text/plain": [
       "  0%|          | 0/168 [00:00<?, ?it/s]"
      ]
     },
     "metadata": {},
     "output_type": "display_data"
    },
    {
     "data": {
      "application/vnd.jupyter.widget-view+json": {
       "model_id": "0ad498df10fc4a83bec9a263d660a50c",
       "version_major": 2,
       "version_minor": 0
      },
      "text/plain": [
       "  0%|          | 0/168 [00:00<?, ?it/s]"
      ]
     },
     "metadata": {},
     "output_type": "display_data"
    },
    {
     "data": {
      "application/vnd.jupyter.widget-view+json": {
       "model_id": "4b5efa9ebb7345f093d3a806ab0fa08f",
       "version_major": 2,
       "version_minor": 0
      },
      "text/plain": [
       "  0%|          | 0/168 [00:00<?, ?it/s]"
      ]
     },
     "metadata": {},
     "output_type": "display_data"
    },
    {
     "data": {
      "application/vnd.jupyter.widget-view+json": {
       "model_id": "e2253c5c5b97438dba0ec338b7b746ef",
       "version_major": 2,
       "version_minor": 0
      },
      "text/plain": [
       "  0%|          | 0/168 [00:00<?, ?it/s]"
      ]
     },
     "metadata": {},
     "output_type": "display_data"
    },
    {
     "data": {
      "application/vnd.jupyter.widget-view+json": {
       "model_id": "e70605c7697d4829ae4c9d33d8d06da5",
       "version_major": 2,
       "version_minor": 0
      },
      "text/plain": [
       "  0%|          | 0/168 [00:00<?, ?it/s]"
      ]
     },
     "metadata": {},
     "output_type": "display_data"
    },
    {
     "data": {
      "application/vnd.jupyter.widget-view+json": {
       "model_id": "517ff40fd491408a90af4cfeff3f9598",
       "version_major": 2,
       "version_minor": 0
      },
      "text/plain": [
       "  0%|          | 0/168 [00:00<?, ?it/s]"
      ]
     },
     "metadata": {},
     "output_type": "display_data"
    },
    {
     "data": {
      "application/vnd.jupyter.widget-view+json": {
       "model_id": "9c0d639ece114ad4804651d5f51de06e",
       "version_major": 2,
       "version_minor": 0
      },
      "text/plain": [
       "  0%|          | 0/168 [00:00<?, ?it/s]"
      ]
     },
     "metadata": {},
     "output_type": "display_data"
    },
    {
     "data": {
      "application/vnd.jupyter.widget-view+json": {
       "model_id": "a81ed11209ba429e96d5f07fe7c8c615",
       "version_major": 2,
       "version_minor": 0
      },
      "text/plain": [
       "  0%|          | 0/168 [00:00<?, ?it/s]"
      ]
     },
     "metadata": {},
     "output_type": "display_data"
    },
    {
     "data": {
      "application/vnd.jupyter.widget-view+json": {
       "model_id": "d749bed04f114023af10a9922fbb5dcd",
       "version_major": 2,
       "version_minor": 0
      },
      "text/plain": [
       "  0%|          | 0/168 [00:00<?, ?it/s]"
      ]
     },
     "metadata": {},
     "output_type": "display_data"
    },
    {
     "data": {
      "application/vnd.jupyter.widget-view+json": {
       "model_id": "87e9d0d15132488aa2e195d1e524cec9",
       "version_major": 2,
       "version_minor": 0
      },
      "text/plain": [
       "  0%|          | 0/168 [00:00<?, ?it/s]"
      ]
     },
     "metadata": {},
     "output_type": "display_data"
    },
    {
     "data": {
      "application/vnd.jupyter.widget-view+json": {
       "model_id": "bf751cdd719b44209143d1fe619a6cf8",
       "version_major": 2,
       "version_minor": 0
      },
      "text/plain": [
       "  0%|          | 0/168 [00:00<?, ?it/s]"
      ]
     },
     "metadata": {},
     "output_type": "display_data"
    },
    {
     "data": {
      "application/vnd.jupyter.widget-view+json": {
       "model_id": "b1a78fcff9ec4ceebc8c26e21b89a630",
       "version_major": 2,
       "version_minor": 0
      },
      "text/plain": [
       "  0%|          | 0/168 [00:00<?, ?it/s]"
      ]
     },
     "metadata": {},
     "output_type": "display_data"
    },
    {
     "data": {
      "application/vnd.jupyter.widget-view+json": {
       "model_id": "02dfb69d137b46098304b05fc9e9c530",
       "version_major": 2,
       "version_minor": 0
      },
      "text/plain": [
       "  0%|          | 0/168 [00:00<?, ?it/s]"
      ]
     },
     "metadata": {},
     "output_type": "display_data"
    },
    {
     "data": {
      "application/vnd.jupyter.widget-view+json": {
       "model_id": "28f71b616e1c4addbaa47154167aa464",
       "version_major": 2,
       "version_minor": 0
      },
      "text/plain": [
       "  0%|          | 0/168 [00:00<?, ?it/s]"
      ]
     },
     "metadata": {},
     "output_type": "display_data"
    },
    {
     "data": {
      "application/vnd.jupyter.widget-view+json": {
       "model_id": "4e1f3cf8d44f4b0db2baf45f25a95e3a",
       "version_major": 2,
       "version_minor": 0
      },
      "text/plain": [
       "  0%|          | 0/168 [00:00<?, ?it/s]"
      ]
     },
     "metadata": {},
     "output_type": "display_data"
    },
    {
     "data": {
      "application/vnd.jupyter.widget-view+json": {
       "model_id": "06966a6249154295915a62d243a30758",
       "version_major": 2,
       "version_minor": 0
      },
      "text/plain": [
       "  0%|          | 0/168 [00:00<?, ?it/s]"
      ]
     },
     "metadata": {},
     "output_type": "display_data"
    },
    {
     "data": {
      "application/vnd.jupyter.widget-view+json": {
       "model_id": "b5a8288366c64dd2b0ba0a0e015d931c",
       "version_major": 2,
       "version_minor": 0
      },
      "text/plain": [
       "  0%|          | 0/168 [00:00<?, ?it/s]"
      ]
     },
     "metadata": {},
     "output_type": "display_data"
    },
    {
     "data": {
      "application/vnd.jupyter.widget-view+json": {
       "model_id": "35022a1c4e7c442280ee1c28f7b3db3c",
       "version_major": 2,
       "version_minor": 0
      },
      "text/plain": [
       "  0%|          | 0/168 [00:00<?, ?it/s]"
      ]
     },
     "metadata": {},
     "output_type": "display_data"
    },
    {
     "data": {
      "application/vnd.jupyter.widget-view+json": {
       "model_id": "a5f57ea472184316bfcf801c4b18e4f6",
       "version_major": 2,
       "version_minor": 0
      },
      "text/plain": [
       "  0%|          | 0/168 [00:00<?, ?it/s]"
      ]
     },
     "metadata": {},
     "output_type": "display_data"
    },
    {
     "data": {
      "application/vnd.jupyter.widget-view+json": {
       "model_id": "19e63676f8ac4947820780835944f210",
       "version_major": 2,
       "version_minor": 0
      },
      "text/plain": [
       "  0%|          | 0/168 [00:00<?, ?it/s]"
      ]
     },
     "metadata": {},
     "output_type": "display_data"
    },
    {
     "data": {
      "application/vnd.jupyter.widget-view+json": {
       "model_id": "3d43db5589904aab903be801bcf2697c",
       "version_major": 2,
       "version_minor": 0
      },
      "text/plain": [
       "  0%|          | 0/168 [00:00<?, ?it/s]"
      ]
     },
     "metadata": {},
     "output_type": "display_data"
    },
    {
     "data": {
      "application/vnd.jupyter.widget-view+json": {
       "model_id": "57231fe2a6294350baf6945443819be9",
       "version_major": 2,
       "version_minor": 0
      },
      "text/plain": [
       "  0%|          | 0/168 [00:00<?, ?it/s]"
      ]
     },
     "metadata": {},
     "output_type": "display_data"
    },
    {
     "data": {
      "application/vnd.jupyter.widget-view+json": {
       "model_id": "507a0294b71545768aedf3d654175901",
       "version_major": 2,
       "version_minor": 0
      },
      "text/plain": [
       "  0%|          | 0/168 [00:00<?, ?it/s]"
      ]
     },
     "metadata": {},
     "output_type": "display_data"
    },
    {
     "data": {
      "application/vnd.jupyter.widget-view+json": {
       "model_id": "c3a10a7e86ee4463b85f12fb1633269c",
       "version_major": 2,
       "version_minor": 0
      },
      "text/plain": [
       "  0%|          | 0/168 [00:00<?, ?it/s]"
      ]
     },
     "metadata": {},
     "output_type": "display_data"
    },
    {
     "data": {
      "application/vnd.jupyter.widget-view+json": {
       "model_id": "686eafe0d580459cb996fb7f2c1fc1c1",
       "version_major": 2,
       "version_minor": 0
      },
      "text/plain": [
       "  0%|          | 0/168 [00:00<?, ?it/s]"
      ]
     },
     "metadata": {},
     "output_type": "display_data"
    },
    {
     "data": {
      "application/vnd.jupyter.widget-view+json": {
       "model_id": "2f0eb509956e444e996dd4d15c4984e5",
       "version_major": 2,
       "version_minor": 0
      },
      "text/plain": [
       "  0%|          | 0/168 [00:00<?, ?it/s]"
      ]
     },
     "metadata": {},
     "output_type": "display_data"
    },
    {
     "data": {
      "application/vnd.jupyter.widget-view+json": {
       "model_id": "170a546edd854e4eae8185203d6b8c9b",
       "version_major": 2,
       "version_minor": 0
      },
      "text/plain": [
       "  0%|          | 0/168 [00:00<?, ?it/s]"
      ]
     },
     "metadata": {},
     "output_type": "display_data"
    },
    {
     "data": {
      "application/vnd.jupyter.widget-view+json": {
       "model_id": "90ed269c14be45158529b21885c3e20e",
       "version_major": 2,
       "version_minor": 0
      },
      "text/plain": [
       "  0%|          | 0/168 [00:00<?, ?it/s]"
      ]
     },
     "metadata": {},
     "output_type": "display_data"
    },
    {
     "data": {
      "application/vnd.jupyter.widget-view+json": {
       "model_id": "c79df25fef73446fb08ff9e057a054bb",
       "version_major": 2,
       "version_minor": 0
      },
      "text/plain": [
       "  0%|          | 0/168 [00:00<?, ?it/s]"
      ]
     },
     "metadata": {},
     "output_type": "display_data"
    },
    {
     "data": {
      "application/vnd.jupyter.widget-view+json": {
       "model_id": "2da959d28a3649c0b0759641f9f7511b",
       "version_major": 2,
       "version_minor": 0
      },
      "text/plain": [
       "  0%|          | 0/168 [00:00<?, ?it/s]"
      ]
     },
     "metadata": {},
     "output_type": "display_data"
    },
    {
     "data": {
      "application/vnd.jupyter.widget-view+json": {
       "model_id": "e63544ef38364b1eadb2f7beacebd15b",
       "version_major": 2,
       "version_minor": 0
      },
      "text/plain": [
       "  0%|          | 0/168 [00:00<?, ?it/s]"
      ]
     },
     "metadata": {},
     "output_type": "display_data"
    },
    {
     "name": "stdout",
     "output_type": "stream",
     "text": [
      "Best parameters: {'holidays': False, 'model': XGBRegressor(base_score=None, booster=None, callbacks=None,\n",
      "             colsample_bylevel=None, colsample_bynode=None,\n",
      "             colsample_bytree=None, device=None, early_stopping_rounds=None,\n",
      "             enable_categorical=False, eval_metric=None, feature_types=None,\n",
      "             gamma=None, grow_policy=None, importance_type=None,\n",
      "             interaction_constraints=None, learning_rate=None, max_bin=None,\n",
      "             max_cat_threshold=None, max_cat_to_onehot=None,\n",
      "             max_delta_step=None, max_depth=None, max_leaves=None,\n",
      "             min_child_weight=None, missing=nan, monotone_constraints=None,\n",
      "             multi_strategy=None, n_estimators=None, n_jobs=None,\n",
      "             num_parallel_tree=None, random_state=None, ...), 'month': True, 'num_periods_diffed': 0, 'num_periods_lagged': 1, 'rolling': [], 'weekday': False}\n"
     ]
    }
   ],
   "source": [
    "from sklearn.ensemble import GradientBoostingRegressor, RandomForestRegressor\n",
    "from sklearn.svm import SVR\n",
    "from sklearn.model_selection import ParameterGrid\n",
    "from xgboost import XGBRegressor\n",
    "\n",
    "param_grid = {\n",
    "    'model': [XGBRegressor()],\n",
    "    'num_periods_lagged': [1, 2, 3, 5, 26],\n",
    "    'num_periods_diffed': [0, 1, 7, 15],\n",
    "    'weekday': [False],\n",
    "    'month': [True,False],\n",
    "    'holidays': [False],\n",
    "    'rolling': [[]]  # Empty list as we don't want rollings\n",
    "}\n",
    "\n",
    "\n",
    "grid = ParameterGrid(param_grid)\n",
    "\n",
    "error_lst = []\n",
    "\n",
    "for params in tqdm(grid):\n",
    "   predictions = predict_n_periods(series_=train_power.to_frame(), \n",
    "                     n_periods=len(val_power.to_frame()), \n",
    "                     model=params['model'], \n",
    "                     num_periods_lagged=params['num_periods_lagged'],\n",
    "                     num_periods_diffed=params['num_periods_diffed'],\n",
    "                     weekday=params['weekday'],\n",
    "                     month=params['month'],\n",
    "                     rolling=params['rolling'],\n",
    "                     target=\"power\"\n",
    "                   )\n",
    "\n",
    "   error_lst.append(mean_absolute_error(val_power.to_frame(),predictions))\n",
    "\n",
    "    \n",
    "best_params_index = pd.Series(error_lst).idxmin()\n",
    "best_params = list(grid)[best_params_index]\n",
    "#best_params = list(grid)[0]\n",
    "\n",
    "print(\"Best parameters:\", best_params)"
   ]
  },
  {
   "cell_type": "code",
   "execution_count": 67,
   "metadata": {},
   "outputs": [
    {
     "data": {
      "application/vnd.jupyter.widget-view+json": {
       "model_id": "94222d9005424c30b861a48dc8611264",
       "version_major": 2,
       "version_minor": 0
      },
      "text/plain": [
       "  0%|          | 0/168 [00:00<?, ?it/s]"
      ]
     },
     "metadata": {},
     "output_type": "display_data"
    }
   ],
   "source": [
    "predictions = predict_n_periods(series_=train_power.to_frame(), \n",
    "                  n_periods=len(val_power.to_frame()), \n",
    "                  model=XGBRegressor(), \n",
    "                  holidays= False, \n",
    "                  month= True,\n",
    "                  num_periods_diffed= 5,\n",
    "                  num_periods_lagged= 5, \n",
    "                  rolling= [], \n",
    "                  weekday= False,\n",
    "                  target=\"power\"\n",
    "                  )"
   ]
  },
  {
   "cell_type": "code",
   "execution_count": 69,
   "metadata": {},
   "outputs": [
    {
     "data": {
      "text/plain": [
       "{'holidays': False,\n",
       " 'model': XGBRegressor(base_score=None, booster=None, callbacks=None,\n",
       "              colsample_bylevel=None, colsample_bynode=None,\n",
       "              colsample_bytree=None, device=None, early_stopping_rounds=None,\n",
       "              enable_categorical=False, eval_metric=None, feature_types=None,\n",
       "              gamma=None, grow_policy=None, importance_type=None,\n",
       "              interaction_constraints=None, learning_rate=None, max_bin=None,\n",
       "              max_cat_threshold=None, max_cat_to_onehot=None,\n",
       "              max_delta_step=None, max_depth=None, max_leaves=None,\n",
       "              min_child_weight=None, missing=nan, monotone_constraints=None,\n",
       "              multi_strategy=None, n_estimators=None, n_jobs=None,\n",
       "              num_parallel_tree=None, random_state=None, ...),\n",
       " 'month': True,\n",
       " 'num_periods_diffed': 0,\n",
       " 'num_periods_lagged': 1,\n",
       " 'rolling': [],\n",
       " 'weekday': False}"
      ]
     },
     "execution_count": 69,
     "metadata": {},
     "output_type": "execute_result"
    }
   ],
   "source": [
    "best_params"
   ]
  },
  {
   "cell_type": "code",
   "execution_count": 44,
   "metadata": {},
   "outputs": [
    {
     "data": {
      "text/plain": [
       "168"
      ]
     },
     "execution_count": 44,
     "metadata": {},
     "output_type": "execute_result"
    }
   ],
   "source": [
    "len(predictions)"
   ]
  },
  {
   "cell_type": "code",
   "execution_count": 63,
   "metadata": {},
   "outputs": [
    {
     "data": {
      "text/html": [
       "<div>\n",
       "<style scoped>\n",
       "    .dataframe tbody tr th:only-of-type {\n",
       "        vertical-align: middle;\n",
       "    }\n",
       "\n",
       "    .dataframe tbody tr th {\n",
       "        vertical-align: top;\n",
       "    }\n",
       "\n",
       "    .dataframe thead th {\n",
       "        text-align: right;\n",
       "    }\n",
       "</style>\n",
       "<table border=\"1\" class=\"dataframe\">\n",
       "  <thead>\n",
       "    <tr style=\"text-align: right;\">\n",
       "      <th></th>\n",
       "      <th>power</th>\n",
       "    </tr>\n",
       "    <tr>\n",
       "      <th>date</th>\n",
       "      <th></th>\n",
       "    </tr>\n",
       "  </thead>\n",
       "  <tbody>\n",
       "    <tr>\n",
       "      <th>2023-10-02 00:00:00</th>\n",
       "      <td>155.909637</td>\n",
       "    </tr>\n",
       "    <tr>\n",
       "      <th>2023-10-02 01:00:00</th>\n",
       "      <td>312.309082</td>\n",
       "    </tr>\n",
       "    <tr>\n",
       "      <th>2023-10-02 02:00:00</th>\n",
       "      <td>234.347610</td>\n",
       "    </tr>\n",
       "    <tr>\n",
       "      <th>2023-10-02 03:00:00</th>\n",
       "      <td>267.514343</td>\n",
       "    </tr>\n",
       "    <tr>\n",
       "      <th>2023-10-02 04:00:00</th>\n",
       "      <td>258.955872</td>\n",
       "    </tr>\n",
       "    <tr>\n",
       "      <th>...</th>\n",
       "      <td>...</td>\n",
       "    </tr>\n",
       "    <tr>\n",
       "      <th>2023-10-08 19:00:00</th>\n",
       "      <td>729.879822</td>\n",
       "    </tr>\n",
       "    <tr>\n",
       "      <th>2023-10-08 20:00:00</th>\n",
       "      <td>718.478394</td>\n",
       "    </tr>\n",
       "    <tr>\n",
       "      <th>2023-10-08 21:00:00</th>\n",
       "      <td>749.299133</td>\n",
       "    </tr>\n",
       "    <tr>\n",
       "      <th>2023-10-08 22:00:00</th>\n",
       "      <td>694.759705</td>\n",
       "    </tr>\n",
       "    <tr>\n",
       "      <th>2023-10-08 23:00:00</th>\n",
       "      <td>661.415161</td>\n",
       "    </tr>\n",
       "  </tbody>\n",
       "</table>\n",
       "<p>168 rows × 1 columns</p>\n",
       "</div>"
      ],
      "text/plain": [
       "                          power\n",
       "date                           \n",
       "2023-10-02 00:00:00  155.909637\n",
       "2023-10-02 01:00:00  312.309082\n",
       "2023-10-02 02:00:00  234.347610\n",
       "2023-10-02 03:00:00  267.514343\n",
       "2023-10-02 04:00:00  258.955872\n",
       "...                         ...\n",
       "2023-10-08 19:00:00  729.879822\n",
       "2023-10-08 20:00:00  718.478394\n",
       "2023-10-08 21:00:00  749.299133\n",
       "2023-10-08 22:00:00  694.759705\n",
       "2023-10-08 23:00:00  661.415161\n",
       "\n",
       "[168 rows x 1 columns]"
      ]
     },
     "execution_count": 63,
     "metadata": {},
     "output_type": "execute_result"
    }
   ],
   "source": [
    "pd.DataFrame({'power': predictions}, index=val_power.index)"
   ]
  },
  {
   "cell_type": "code",
   "execution_count": 62,
   "metadata": {},
   "outputs": [
    {
     "data": {
      "text/html": [
       "<div>\n",
       "<style scoped>\n",
       "    .dataframe tbody tr th:only-of-type {\n",
       "        vertical-align: middle;\n",
       "    }\n",
       "\n",
       "    .dataframe tbody tr th {\n",
       "        vertical-align: top;\n",
       "    }\n",
       "\n",
       "    .dataframe thead th {\n",
       "        text-align: right;\n",
       "    }\n",
       "</style>\n",
       "<table border=\"1\" class=\"dataframe\">\n",
       "  <thead>\n",
       "    <tr style=\"text-align: right;\">\n",
       "      <th></th>\n",
       "      <th>power</th>\n",
       "    </tr>\n",
       "    <tr>\n",
       "      <th>date</th>\n",
       "      <th></th>\n",
       "    </tr>\n",
       "  </thead>\n",
       "  <tbody>\n",
       "    <tr>\n",
       "      <th>2023-10-02 00:00:00</th>\n",
       "      <td>149.314</td>\n",
       "    </tr>\n",
       "    <tr>\n",
       "      <th>2023-10-02 01:00:00</th>\n",
       "      <td>83.634</td>\n",
       "    </tr>\n",
       "    <tr>\n",
       "      <th>2023-10-02 02:00:00</th>\n",
       "      <td>58.508</td>\n",
       "    </tr>\n",
       "    <tr>\n",
       "      <th>2023-10-02 03:00:00</th>\n",
       "      <td>17.775</td>\n",
       "    </tr>\n",
       "    <tr>\n",
       "      <th>2023-10-02 04:00:00</th>\n",
       "      <td>17.595</td>\n",
       "    </tr>\n",
       "    <tr>\n",
       "      <th>...</th>\n",
       "      <td>...</td>\n",
       "    </tr>\n",
       "    <tr>\n",
       "      <th>2023-10-08 19:00:00</th>\n",
       "      <td>551.124</td>\n",
       "    </tr>\n",
       "    <tr>\n",
       "      <th>2023-10-08 20:00:00</th>\n",
       "      <td>699.824</td>\n",
       "    </tr>\n",
       "    <tr>\n",
       "      <th>2023-10-08 21:00:00</th>\n",
       "      <td>922.044</td>\n",
       "    </tr>\n",
       "    <tr>\n",
       "      <th>2023-10-08 22:00:00</th>\n",
       "      <td>897.264</td>\n",
       "    </tr>\n",
       "    <tr>\n",
       "      <th>2023-10-08 23:00:00</th>\n",
       "      <td>797.614</td>\n",
       "    </tr>\n",
       "  </tbody>\n",
       "</table>\n",
       "<p>168 rows × 1 columns</p>\n",
       "</div>"
      ],
      "text/plain": [
       "                       power\n",
       "date                        \n",
       "2023-10-02 00:00:00  149.314\n",
       "2023-10-02 01:00:00   83.634\n",
       "2023-10-02 02:00:00   58.508\n",
       "2023-10-02 03:00:00   17.775\n",
       "2023-10-02 04:00:00   17.595\n",
       "...                      ...\n",
       "2023-10-08 19:00:00  551.124\n",
       "2023-10-08 20:00:00  699.824\n",
       "2023-10-08 21:00:00  922.044\n",
       "2023-10-08 22:00:00  897.264\n",
       "2023-10-08 23:00:00  797.614\n",
       "\n",
       "[168 rows x 1 columns]"
      ]
     },
     "execution_count": 62,
     "metadata": {},
     "output_type": "execute_result"
    }
   ],
   "source": [
    "val_power.to_frame()"
   ]
  },
  {
   "cell_type": "code",
   "execution_count": 64,
   "metadata": {},
   "outputs": [
    {
     "data": {
      "text/plain": [
       "<function sklearn.metrics._regression.mean_absolute_error(y_true, y_pred, *, sample_weight=None, multioutput='uniform_average')>"
      ]
     },
     "execution_count": 64,
     "metadata": {},
     "output_type": "execute_result"
    }
   ],
   "source": [
    "mean_absolute_error(val_power.to_frame(),pd.DataFrame({'power': predictions}, index=val_power.index))\n",
    "mean_absolute_error"
   ]
  },
  {
   "cell_type": "code",
   "execution_count": 65,
   "metadata": {},
   "outputs": [
    {
     "data": {
      "text/plain": [
       "date\n",
       "2023-10-02 00:00:00    155.909637\n",
       "2023-10-02 01:00:00    312.309082\n",
       "2023-10-02 02:00:00    234.347610\n",
       "2023-10-02 03:00:00    267.514343\n",
       "2023-10-02 04:00:00    258.955872\n",
       "                          ...    \n",
       "2023-10-08 19:00:00    729.879822\n",
       "2023-10-08 20:00:00    718.478394\n",
       "2023-10-08 21:00:00    749.299133\n",
       "2023-10-08 22:00:00    694.759705\n",
       "2023-10-08 23:00:00    661.415161\n",
       "Length: 168, dtype: float32"
      ]
     },
     "execution_count": 65,
     "metadata": {},
     "output_type": "execute_result"
    }
   ],
   "source": [
    "\n",
    "predictions_with_index = pd.Series(predictions, index=val_power.index)\n",
    "predictions_with_index"
   ]
  },
  {
   "cell_type": "code",
   "execution_count": 66,
   "metadata": {},
   "outputs": [
    {
     "data": {
      "image/png": "[encoded data removed]",
      "text/plain": [
       "<Figure size 1000x600 with 1 Axes>"
      ]
     },
     "metadata": {},
     "output_type": "display_data"
    }
   ],
   "source": [
    "\n",
    "\n",
    "plt.figure(figsize=(10, 6))\n",
    "plt.plot(val_power.index, val_power.values, label='Actual Values', color='blue')\n",
    "plt.plot(predictions_with_index.index, predictions_with_index.values, label='Predictions', color='red')\n",
    "plt.title('Actual vs Predicted Values')\n",
    "plt.xlabel('Date')\n",
    "plt.ylabel('Power')\n",
    "plt.legend()\n",
    "plt.show()"
   ]
  },
  {
   "cell_type": "code",
   "execution_count": null,
   "metadata": {},
   "outputs": [],
   "source": []
  }
 ],
 "metadata": {
  "kernelspec": {
   "display_name": "Python 3 (ipykernel)",
   "language": "python",
   "name": "python3"
  },
  "language_info": {
   "codemirror_mode": {
    "name": "ipython",
    "version": 3
   },
   "file_extension": ".py",
   "mimetype": "text/x-python",
   "name": "python",
   "nbconvert_exporter": "python",
   "pygments_lexer": "ipython3",
   "version": "3.10.6"
  },
  "toc": {
   "base_numbering": 1,
   "nav_menu": {},
   "number_sections": true,
   "sideBar": true,
   "skip_h1_title": false,
   "title_cell": "Table of Contents",
   "title_sidebar": "Contents",
   "toc_cell": false,
   "toc_position": {},
   "toc_section_display": true,
   "toc_window_display": false
  }
 },
 "nbformat": 4,
 "nbformat_minor": 2
}
