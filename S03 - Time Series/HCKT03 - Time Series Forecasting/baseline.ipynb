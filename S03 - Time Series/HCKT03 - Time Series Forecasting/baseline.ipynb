{
 "cells": [
  {
   "cell_type": "markdown",
   "metadata": {},
   "source": [
    "# Imports"
   ]
  },
  {
   "cell_type": "code",
   "execution_count": 2,
   "metadata": {},
   "outputs": [],
   "source": [
    "import pandas as pd\n",
    "#pd.options.plotting.backend = \"plotly\"\n",
    "import pandas as pd \n",
    "from sklearn.linear_model import LinearRegression\n",
    "from matplotlib import pyplot as plt \n",
    "from sklearn.ensemble import GradientBoostingRegressor\n",
    "from tqdm import tqdm_notebook as tqdm\n",
    "from sklearn.model_selection import KFold\n",
    "from sklearn.metrics import mean_absolute_error\n",
    "%matplotlib inline \n",
    "import numpy as np\n",
    "plt.rcParams['figure.figsize'] = (16, 4)\n",
    "\n",
    "import warnings\n",
    "warnings.filterwarnings(action=\"ignore\")\n",
    "warnings.filterwarnings(action=\"ignore\", module=\"scipy\", message=\"^internal gelsd\")\n",
    "\n",
    "from utils import * # We've added all the functions from the last BLU to the utils.py "
   ]
  },
  {
   "cell_type": "markdown",
   "metadata": {},
   "source": [
    "# Explore the data"
   ]
  },
  {
   "cell_type": "code",
   "execution_count": 4,
   "metadata": {},
   "outputs": [
    {
     "data": {
      "text/html": [
       "<div>\n",
       "<style scoped>\n",
       "    .dataframe tbody tr th:only-of-type {\n",
       "        vertical-align: middle;\n",
       "    }\n",
       "\n",
       "    .dataframe tbody tr th {\n",
       "        vertical-align: top;\n",
       "    }\n",
       "\n",
       "    .dataframe thead th {\n",
       "        text-align: right;\n",
       "    }\n",
       "</style>\n",
       "<table border=\"1\" class=\"dataframe\">\n",
       "  <thead>\n",
       "    <tr style=\"text-align: right;\">\n",
       "      <th></th>\n",
       "      <th>date</th>\n",
       "      <th>power</th>\n",
       "      <th>exog</th>\n",
       "    </tr>\n",
       "  </thead>\n",
       "  <tbody>\n",
       "    <tr>\n",
       "      <th>0</th>\n",
       "      <td>2020-09-20 00:00:00</td>\n",
       "      <td>976.930</td>\n",
       "      <td>11.805</td>\n",
       "    </tr>\n",
       "    <tr>\n",
       "      <th>1</th>\n",
       "      <td>2020-09-20 01:00:00</td>\n",
       "      <td>952.705</td>\n",
       "      <td>11.446</td>\n",
       "    </tr>\n",
       "    <tr>\n",
       "      <th>2</th>\n",
       "      <td>2020-09-20 02:00:00</td>\n",
       "      <td>928.813</td>\n",
       "      <td>11.218</td>\n",
       "    </tr>\n",
       "    <tr>\n",
       "      <th>3</th>\n",
       "      <td>2020-09-20 03:00:00</td>\n",
       "      <td>984.234</td>\n",
       "      <td>11.025</td>\n",
       "    </tr>\n",
       "    <tr>\n",
       "      <th>4</th>\n",
       "      <td>2020-09-20 04:00:00</td>\n",
       "      <td>1002.113</td>\n",
       "      <td>11.196</td>\n",
       "    </tr>\n",
       "  </tbody>\n",
       "</table>\n",
       "</div>"
      ],
      "text/plain": [
       "                  date     power    exog\n",
       "0  2020-09-20 00:00:00   976.930  11.805\n",
       "1  2020-09-20 01:00:00   952.705  11.446\n",
       "2  2020-09-20 02:00:00   928.813  11.218\n",
       "3  2020-09-20 03:00:00   984.234  11.025\n",
       "4  2020-09-20 04:00:00  1002.113  11.196"
      ]
     },
     "execution_count": 4,
     "metadata": {},
     "output_type": "execute_result"
    }
   ],
   "source": [
    "data = pd.read_csv(\"data/data.csv\")\n",
    "data.head(5)"
   ]
  },
  {
   "cell_type": "markdown",
   "metadata": {},
   "source": [
    "Variables:\n",
    "- date: date and hour\n",
    "- power: power readings at each hour, which is what you want to predict\n",
    "- exog: wind speed forecast, which is the exogenous data that may be useful to make your predictions\n",
    "\n",
    "First we read the data and make the date our index."
   ]
  },
  {
   "cell_type": "code",
   "execution_count": 6,
   "metadata": {},
   "outputs": [],
   "source": [
    "df = pd.read_csv(\"data/data.csv\", index_col=\"date\", parse_dates=True)\n",
    "df = df.sort_index()"
   ]
  },
  {
   "cell_type": "code",
   "execution_count": 7,
   "metadata": {},
   "outputs": [
    {
     "data": {
      "text/html": [
       "<div>\n",
       "<style scoped>\n",
       "    .dataframe tbody tr th:only-of-type {\n",
       "        vertical-align: middle;\n",
       "    }\n",
       "\n",
       "    .dataframe tbody tr th {\n",
       "        vertical-align: top;\n",
       "    }\n",
       "\n",
       "    .dataframe thead th {\n",
       "        text-align: right;\n",
       "    }\n",
       "</style>\n",
       "<table border=\"1\" class=\"dataframe\">\n",
       "  <thead>\n",
       "    <tr style=\"text-align: right;\">\n",
       "      <th></th>\n",
       "      <th>power</th>\n",
       "      <th>exog</th>\n",
       "    </tr>\n",
       "    <tr>\n",
       "      <th>date</th>\n",
       "      <th></th>\n",
       "      <th></th>\n",
       "    </tr>\n",
       "  </thead>\n",
       "  <tbody>\n",
       "    <tr>\n",
       "      <th>2020-09-20 00:00:00</th>\n",
       "      <td>976.930</td>\n",
       "      <td>11.805</td>\n",
       "    </tr>\n",
       "    <tr>\n",
       "      <th>2020-09-20 01:00:00</th>\n",
       "      <td>952.705</td>\n",
       "      <td>11.446</td>\n",
       "    </tr>\n",
       "    <tr>\n",
       "      <th>2020-09-20 02:00:00</th>\n",
       "      <td>928.813</td>\n",
       "      <td>11.218</td>\n",
       "    </tr>\n",
       "    <tr>\n",
       "      <th>2020-09-20 03:00:00</th>\n",
       "      <td>984.234</td>\n",
       "      <td>11.025</td>\n",
       "    </tr>\n",
       "    <tr>\n",
       "      <th>2020-09-20 04:00:00</th>\n",
       "      <td>1002.113</td>\n",
       "      <td>11.196</td>\n",
       "    </tr>\n",
       "  </tbody>\n",
       "</table>\n",
       "</div>"
      ],
      "text/plain": [
       "                        power    exog\n",
       "date                                 \n",
       "2020-09-20 00:00:00   976.930  11.805\n",
       "2020-09-20 01:00:00   952.705  11.446\n",
       "2020-09-20 02:00:00   928.813  11.218\n",
       "2020-09-20 03:00:00   984.234  11.025\n",
       "2020-09-20 04:00:00  1002.113  11.196"
      ]
     },
     "execution_count": 7,
     "metadata": {},
     "output_type": "execute_result"
    }
   ],
   "source": [
    "df.head(5)"
   ]
  },
  {
   "cell_type": "code",
   "execution_count": 8,
   "metadata": {},
   "outputs": [
    {
     "data": {
      "text/html": [
       "<div>\n",
       "<style scoped>\n",
       "    .dataframe tbody tr th:only-of-type {\n",
       "        vertical-align: middle;\n",
       "    }\n",
       "\n",
       "    .dataframe tbody tr th {\n",
       "        vertical-align: top;\n",
       "    }\n",
       "\n",
       "    .dataframe thead th {\n",
       "        text-align: right;\n",
       "    }\n",
       "</style>\n",
       "<table border=\"1\" class=\"dataframe\">\n",
       "  <thead>\n",
       "    <tr style=\"text-align: right;\">\n",
       "      <th></th>\n",
       "      <th>power</th>\n",
       "      <th>exog</th>\n",
       "    </tr>\n",
       "    <tr>\n",
       "      <th>date</th>\n",
       "      <th></th>\n",
       "      <th></th>\n",
       "    </tr>\n",
       "  </thead>\n",
       "  <tbody>\n",
       "    <tr>\n",
       "      <th>2023-10-15 19:00:00</th>\n",
       "      <td>NaN</td>\n",
       "      <td>10.820</td>\n",
       "    </tr>\n",
       "    <tr>\n",
       "      <th>2023-10-15 20:00:00</th>\n",
       "      <td>NaN</td>\n",
       "      <td>10.619</td>\n",
       "    </tr>\n",
       "    <tr>\n",
       "      <th>2023-10-15 21:00:00</th>\n",
       "      <td>NaN</td>\n",
       "      <td>9.535</td>\n",
       "    </tr>\n",
       "    <tr>\n",
       "      <th>2023-10-15 22:00:00</th>\n",
       "      <td>NaN</td>\n",
       "      <td>10.031</td>\n",
       "    </tr>\n",
       "    <tr>\n",
       "      <th>2023-10-15 23:00:00</th>\n",
       "      <td>NaN</td>\n",
       "      <td>9.464</td>\n",
       "    </tr>\n",
       "  </tbody>\n",
       "</table>\n",
       "</div>"
      ],
      "text/plain": [
       "                     power    exog\n",
       "date                              \n",
       "2023-10-15 19:00:00    NaN  10.820\n",
       "2023-10-15 20:00:00    NaN  10.619\n",
       "2023-10-15 21:00:00    NaN   9.535\n",
       "2023-10-15 22:00:00    NaN  10.031\n",
       "2023-10-15 23:00:00    NaN   9.464"
      ]
     },
     "execution_count": 8,
     "metadata": {},
     "output_type": "execute_result"
    }
   ],
   "source": [
    "df.tail(5)"
   ]
  },
  {
   "cell_type": "markdown",
   "metadata": {},
   "source": [
    "The power values in the last 168 entries (last 7 days) is empty as we want to predict these ones."
   ]
  },
  {
   "cell_type": "markdown",
   "metadata": {},
   "source": [
    "Check if we have duplicates"
   ]
  },
  {
   "cell_type": "code",
   "execution_count": 9,
   "metadata": {},
   "outputs": [
    {
     "data": {
      "text/html": [
       "<div>\n",
       "<style scoped>\n",
       "    .dataframe tbody tr th:only-of-type {\n",
       "        vertical-align: middle;\n",
       "    }\n",
       "\n",
       "    .dataframe tbody tr th {\n",
       "        vertical-align: top;\n",
       "    }\n",
       "\n",
       "    .dataframe thead th {\n",
       "        text-align: right;\n",
       "    }\n",
       "</style>\n",
       "<table border=\"1\" class=\"dataframe\">\n",
       "  <thead>\n",
       "    <tr style=\"text-align: right;\">\n",
       "      <th></th>\n",
       "      <th>power</th>\n",
       "      <th>exog</th>\n",
       "    </tr>\n",
       "    <tr>\n",
       "      <th>date</th>\n",
       "      <th></th>\n",
       "      <th></th>\n",
       "    </tr>\n",
       "  </thead>\n",
       "  <tbody>\n",
       "  </tbody>\n",
       "</table>\n",
       "</div>"
      ],
      "text/plain": [
       "Empty DataFrame\n",
       "Columns: [power, exog]\n",
       "Index: []"
      ]
     },
     "execution_count": 9,
     "metadata": {},
     "output_type": "execute_result"
    }
   ],
   "source": [
    "df[df.index.duplicated()]"
   ]
  },
  {
   "cell_type": "markdown",
   "metadata": {},
   "source": [
    "Check if the dataset have rows corresponding to all timestamps"
   ]
  },
  {
   "cell_type": "code",
   "execution_count": 10,
   "metadata": {},
   "outputs": [
    {
     "name": "stdout",
     "output_type": "stream",
     "text": [
      "It starts at 2020-09-20 00:00:00 and ends at 2023-10-15 23:00:00\n"
     ]
    }
   ],
   "source": [
    "start_date = df.index.min()\n",
    "end_date = df.index.max() \n",
    "print(f\"It starts at {start_date} and ends at {end_date}\")"
   ]
  },
  {
   "cell_type": "code",
   "execution_count": 11,
   "metadata": {},
   "outputs": [
    {
     "name": "stdout",
     "output_type": "stream",
     "text": [
      "All timestamps are present in the DataFrame.\n"
     ]
    }
   ],
   "source": [
    "expected_range = pd.date_range(start=start_date, end=end_date, freq='D') \n",
    "\n",
    "missing_timestamps = expected_range[~expected_range.isin(df.index)]\n",
    "\n",
    "if len(missing_timestamps) == 0:\n",
    "    print(\"All timestamps are present in the DataFrame.\")\n",
    "else:\n",
    "    print(\"Missing timestamps:\")\n",
    "    print(missing_timestamps)"
   ]
  },
  {
   "cell_type": "markdown",
   "metadata": {},
   "source": [
    "So from when to when are we trying to predict?"
   ]
  },
  {
   "cell_type": "code",
   "execution_count": 12,
   "metadata": {},
   "outputs": [
    {
     "name": "stdout",
     "output_type": "stream",
     "text": [
      "From: 2023-10-09 00:00:00 to 2023-10-15 23:00:00\n"
     ]
    }
   ],
   "source": [
    "last_168_index = df.tail(168).index\n",
    "min_index = last_168_index.min()\n",
    "max_index = last_168_index.max()\n",
    "\n",
    "print(\"From:\", min_index, \"to\", max_index)"
   ]
  },
  {
   "cell_type": "markdown",
   "metadata": {},
   "source": [
    "Let's see the range of power values"
   ]
  },
  {
   "cell_type": "code",
   "execution_count": 13,
   "metadata": {},
   "outputs": [
    {
     "name": "stdout",
     "output_type": "stream",
     "text": [
      "Power has a minimum value of 0.0 and a maximum value of 1192.596\n"
     ]
    }
   ],
   "source": [
    "power_min = df.power.min()\n",
    "power_max = df.power.max() \n",
    "print(f\"Power has a minimum value of {power_min} and a maximum value of {power_max}\")"
   ]
  },
  {
   "cell_type": "markdown",
   "metadata": {},
   "source": [
    "Let's see the range of the wind speed (exog) values"
   ]
  },
  {
   "cell_type": "code",
   "execution_count": 14,
   "metadata": {},
   "outputs": [
    {
     "name": "stdout",
     "output_type": "stream",
     "text": [
      "Wind speed has a minimum value of 0.088 and a maximum value of 31.143\n"
     ]
    }
   ],
   "source": [
    "speed_min = df.exog.min()\n",
    "speed_max = df.exog.max() \n",
    "print(f\"Wind speed has a minimum value of {speed_min} and a maximum value of {speed_max}\")"
   ]
  },
  {
   "cell_type": "markdown",
   "metadata": {},
   "source": [
    "Let's see if we have missing values in the power and exog columns."
   ]
  },
  {
   "cell_type": "code",
   "execution_count": 15,
   "metadata": {},
   "outputs": [
    {
     "name": "stdout",
     "output_type": "stream",
     "text": [
      "Number of missing values in the 'exog' column: 259\n",
      "In the indexes: DatetimeIndex(['2020-10-16 07:00:00', '2020-10-16 08:00:00',\n",
      "               '2020-12-11 07:00:00', '2020-12-11 08:00:00',\n",
      "               '2020-12-11 10:00:00', '2020-12-11 11:00:00',\n",
      "               '2020-12-13 03:00:00', '2020-12-13 06:00:00',\n",
      "               '2020-12-26 11:00:00', '2021-01-20 03:00:00',\n",
      "               ...\n",
      "               '2022-12-06 08:00:00', '2022-12-06 09:00:00',\n",
      "               '2022-12-06 10:00:00', '2022-12-06 11:00:00',\n",
      "               '2022-12-06 12:00:00', '2022-12-06 13:00:00',\n",
      "               '2022-12-06 14:00:00', '2022-12-06 15:00:00',\n",
      "               '2022-12-06 16:00:00', '2022-12-06 17:00:00'],\n",
      "              dtype='datetime64[ns]', name='date', length=259, freq=None)\n"
     ]
    }
   ],
   "source": [
    "if df['exog'].isna().any():\n",
    "    missing_values_count = df['exog'].isna().sum()\n",
    "    missing_values_indices = df[df['exog'].isna()].index\n",
    "    print(\"Number of missing values in the 'exog' column:\", missing_values_count)\n",
    "    print(\"In the indexes:\", missing_values_indices)\n",
    "    df['date'] = df.index.date\n",
    "\n",
    "else:\n",
    "    print(\"The 'exog' column does not have any missing values.\")"
   ]
  },
  {
   "cell_type": "code",
   "execution_count": 16,
   "metadata": {},
   "outputs": [
    {
     "data": {
      "image/png": "[encoded data removed]",
      "text/plain": [
       "<Figure size 1000x600 with 1 Axes>"
      ]
     },
     "metadata": {},
     "output_type": "display_data"
    }
   ],
   "source": [
    "import matplotlib.pyplot as plt\n",
    "\n",
    "# Highlight missing values\n",
    "if df['exog'].isna().any():\n",
    "    missing_values_indices = df[df['exog'].isna()].index\n",
    "\n",
    "    # Plotting missing values only\n",
    "    plt.figure(figsize=(10, 6))\n",
    "    plt.plot(missing_values_indices, [0] * len(missing_values_indices), marker='X', markersize=10, color='red', linestyle='', label='Missing Values')\n",
    "\n",
    "    plt.title('Visualization of Missing Values for Wind Speed (exog)')\n",
    "    plt.xlabel('Date')\n",
    "    plt.ylabel('Missing Values')\n",
    "    plt.legend()\n",
    "    plt.grid(False)\n",
    "    plt.yticks([])\n",
    "    plt.show()\n",
    "else:\n",
    "    print(\"No missing values found in the 'exog' column.\")\n"
   ]
  },
  {
   "cell_type": "code",
   "execution_count": 17,
   "metadata": {},
   "outputs": [
    {
     "name": "stdout",
     "output_type": "stream",
     "text": [
      "Number of missing values in the 'power' column excluding the last 168 entries: 51\n",
      "In the indexes: DatetimeIndex(['2021-11-15 00:00:00', '2021-11-15 01:00:00',\n",
      "               '2023-06-03 23:00:00', '2023-06-04 00:00:00',\n",
      "               '2023-06-04 01:00:00', '2023-06-04 02:00:00',\n",
      "               '2023-06-04 03:00:00', '2023-06-04 04:00:00',\n",
      "               '2023-06-04 05:00:00', '2023-06-04 06:00:00',\n",
      "               '2023-06-04 07:00:00', '2023-06-04 08:00:00',\n",
      "               '2023-06-04 09:00:00', '2023-06-04 10:00:00',\n",
      "               '2023-06-04 11:00:00', '2023-06-04 12:00:00',\n",
      "               '2023-06-04 13:00:00', '2023-06-04 14:00:00',\n",
      "               '2023-06-04 15:00:00', '2023-06-04 16:00:00',\n",
      "               '2023-06-04 17:00:00', '2023-06-04 18:00:00',\n",
      "               '2023-06-04 19:00:00', '2023-06-04 20:00:00',\n",
      "               '2023-06-04 21:00:00', '2023-06-04 22:00:00',\n",
      "               '2023-08-16 23:00:00', '2023-09-16 23:00:00',\n",
      "               '2023-09-17 00:00:00', '2023-09-17 01:00:00',\n",
      "               '2023-09-17 02:00:00', '2023-09-17 03:00:00',\n",
      "               '2023-09-17 04:00:00', '2023-09-17 05:00:00',\n",
      "               '2023-09-17 06:00:00', '2023-09-17 07:00:00',\n",
      "               '2023-09-17 08:00:00', '2023-09-17 09:00:00',\n",
      "               '2023-09-17 10:00:00', '2023-09-17 11:00:00',\n",
      "               '2023-09-17 12:00:00', '2023-09-17 13:00:00',\n",
      "               '2023-09-17 14:00:00', '2023-09-17 15:00:00',\n",
      "               '2023-09-17 16:00:00', '2023-09-17 17:00:00',\n",
      "               '2023-09-17 18:00:00', '2023-09-17 19:00:00',\n",
      "               '2023-09-17 20:00:00', '2023-09-17 21:00:00',\n",
      "               '2023-09-17 22:00:00'],\n",
      "              dtype='datetime64[ns]', name='date', freq=None)\n"
     ]
    }
   ],
   "source": [
    "if df['power'].isna().any():\n",
    "    missing_values_count = df['power'].isna().sum()\n",
    "    relevant_missing = missing_values_count - 168\n",
    "    missing_values_indices = df[df['power'].isna()].index[:-168]\n",
    "    print(\"Number of missing values in the 'power' column excluding the last 168 entries:\", relevant_missing)\n",
    "    print(\"In the indexes:\", missing_values_indices)\n",
    "else:\n",
    "    print(\"The 'power' column does not have any missing values.\")"
   ]
  },
  {
   "cell_type": "code",
   "execution_count": 18,
   "metadata": {},
   "outputs": [
    {
     "data": {
      "image/png": "[encoded data removed]",
      "text/plain": [
       "<Figure size 1000x600 with 1 Axes>"
      ]
     },
     "metadata": {},
     "output_type": "display_data"
    }
   ],
   "source": [
    "# Highlight missing values\n",
    "if df['power'].isna().any():\n",
    "    missing_values_indices = df[df['power'].isna()].index\n",
    "\n",
    "    # Plotting missing values only\n",
    "    plt.figure(figsize=(10, 6))\n",
    "    plt.plot(missing_values_indices, [0] * len(missing_values_indices), marker='X', markersize=10, color='red', linestyle='', label='Missing Values')\n",
    "\n",
    "    plt.title('Visualization of Missing Values for Power')\n",
    "    plt.xlabel('Date')\n",
    "    plt.ylabel('Missing Values')\n",
    "    plt.legend()\n",
    "    plt.grid(False)\n",
    "    plt.yticks([])\n",
    "    plt.show()\n",
    "else:\n",
    "    print(\"No missing values found in the 'power' column.\")\n"
   ]
  },
  {
   "cell_type": "markdown",
   "metadata": {},
   "source": [
    "So we have 51 empty values in power and 219 empty values in the wind speed forecast."
   ]
  },
  {
   "cell_type": "markdown",
   "metadata": {},
   "source": [
    "Let's input some values to the exog and power, except when in the last 168 entries where we want power to still be empty."
   ]
  },
  {
   "cell_type": "code",
   "execution_count": 20,
   "metadata": {},
   "outputs": [],
   "source": [
    "df = pd.read_csv(\"data/data.csv\", index_col=\"date\", parse_dates=True)\n",
    "df = df.sort_index()"
   ]
  },
  {
   "cell_type": "code",
   "execution_count": 21,
   "metadata": {},
   "outputs": [],
   "source": [
    "from sklearn.impute import KNNImputer\n",
    "imputer = KNNImputer() \n",
    "    \n",
    "data_imputed = imputer.fit_transform(df)\n",
    "\n",
    "# Create DataFrame with imputed values for all but the last 168 rows\n",
    "df_imputed = pd.DataFrame(imputer.fit_transform(df.iloc[:-168]), index=df.iloc[:-168].index, columns=df.columns)\n",
    "\n",
    "# Concatenate imputed data with the last 168 rows\n",
    "df_final = pd.concat([df_imputed, df.iloc[-168:]])\n",
    "\n",
    "# df_imputed.exog.plot()\n",
    "# plt.ylabel('exog')\n",
    "# plt.show()"
   ]
  },
  {
   "cell_type": "code",
   "execution_count": 22,
   "metadata": {},
   "outputs": [
    {
     "data": {
      "text/html": [
       "<div>\n",
       "<style scoped>\n",
       "    .dataframe tbody tr th:only-of-type {\n",
       "        vertical-align: middle;\n",
       "    }\n",
       "\n",
       "    .dataframe tbody tr th {\n",
       "        vertical-align: top;\n",
       "    }\n",
       "\n",
       "    .dataframe thead th {\n",
       "        text-align: right;\n",
       "    }\n",
       "</style>\n",
       "<table border=\"1\" class=\"dataframe\">\n",
       "  <thead>\n",
       "    <tr style=\"text-align: right;\">\n",
       "      <th></th>\n",
       "      <th>power</th>\n",
       "      <th>exog</th>\n",
       "    </tr>\n",
       "    <tr>\n",
       "      <th>date</th>\n",
       "      <th></th>\n",
       "      <th></th>\n",
       "    </tr>\n",
       "  </thead>\n",
       "  <tbody>\n",
       "    <tr>\n",
       "      <th>2020-09-20 00:00:00</th>\n",
       "      <td>976.930</td>\n",
       "      <td>11.805</td>\n",
       "    </tr>\n",
       "    <tr>\n",
       "      <th>2020-09-20 01:00:00</th>\n",
       "      <td>952.705</td>\n",
       "      <td>11.446</td>\n",
       "    </tr>\n",
       "    <tr>\n",
       "      <th>2020-09-20 02:00:00</th>\n",
       "      <td>928.813</td>\n",
       "      <td>11.218</td>\n",
       "    </tr>\n",
       "    <tr>\n",
       "      <th>2020-09-20 03:00:00</th>\n",
       "      <td>984.234</td>\n",
       "      <td>11.025</td>\n",
       "    </tr>\n",
       "    <tr>\n",
       "      <th>2020-09-20 04:00:00</th>\n",
       "      <td>1002.113</td>\n",
       "      <td>11.196</td>\n",
       "    </tr>\n",
       "  </tbody>\n",
       "</table>\n",
       "</div>"
      ],
      "text/plain": [
       "                        power    exog\n",
       "date                                 \n",
       "2020-09-20 00:00:00   976.930  11.805\n",
       "2020-09-20 01:00:00   952.705  11.446\n",
       "2020-09-20 02:00:00   928.813  11.218\n",
       "2020-09-20 03:00:00   984.234  11.025\n",
       "2020-09-20 04:00:00  1002.113  11.196"
      ]
     },
     "execution_count": 22,
     "metadata": {},
     "output_type": "execute_result"
    }
   ],
   "source": [
    "df_final.head(5)"
   ]
  },
  {
   "cell_type": "code",
   "execution_count": 23,
   "metadata": {},
   "outputs": [
    {
     "data": {
      "text/html": [
       "<div>\n",
       "<style scoped>\n",
       "    .dataframe tbody tr th:only-of-type {\n",
       "        vertical-align: middle;\n",
       "    }\n",
       "\n",
       "    .dataframe tbody tr th {\n",
       "        vertical-align: top;\n",
       "    }\n",
       "\n",
       "    .dataframe thead th {\n",
       "        text-align: right;\n",
       "    }\n",
       "</style>\n",
       "<table border=\"1\" class=\"dataframe\">\n",
       "  <thead>\n",
       "    <tr style=\"text-align: right;\">\n",
       "      <th></th>\n",
       "      <th>power</th>\n",
       "      <th>exog</th>\n",
       "    </tr>\n",
       "    <tr>\n",
       "      <th>date</th>\n",
       "      <th></th>\n",
       "      <th></th>\n",
       "    </tr>\n",
       "  </thead>\n",
       "  <tbody>\n",
       "    <tr>\n",
       "      <th>2023-10-15 19:00:00</th>\n",
       "      <td>NaN</td>\n",
       "      <td>10.820</td>\n",
       "    </tr>\n",
       "    <tr>\n",
       "      <th>2023-10-15 20:00:00</th>\n",
       "      <td>NaN</td>\n",
       "      <td>10.619</td>\n",
       "    </tr>\n",
       "    <tr>\n",
       "      <th>2023-10-15 21:00:00</th>\n",
       "      <td>NaN</td>\n",
       "      <td>9.535</td>\n",
       "    </tr>\n",
       "    <tr>\n",
       "      <th>2023-10-15 22:00:00</th>\n",
       "      <td>NaN</td>\n",
       "      <td>10.031</td>\n",
       "    </tr>\n",
       "    <tr>\n",
       "      <th>2023-10-15 23:00:00</th>\n",
       "      <td>NaN</td>\n",
       "      <td>9.464</td>\n",
       "    </tr>\n",
       "  </tbody>\n",
       "</table>\n",
       "</div>"
      ],
      "text/plain": [
       "                     power    exog\n",
       "date                              \n",
       "2023-10-15 19:00:00    NaN  10.820\n",
       "2023-10-15 20:00:00    NaN  10.619\n",
       "2023-10-15 21:00:00    NaN   9.535\n",
       "2023-10-15 22:00:00    NaN  10.031\n",
       "2023-10-15 23:00:00    NaN   9.464"
      ]
     },
     "execution_count": 23,
     "metadata": {},
     "output_type": "execute_result"
    }
   ],
   "source": [
    "df_final.tail(5)"
   ]
  },
  {
   "cell_type": "code",
   "execution_count": 24,
   "metadata": {},
   "outputs": [
    {
     "name": "stdout",
     "output_type": "stream",
     "text": [
      "Number of missing values in the 'power' column excluding the last 168 entries: 0\n",
      "In the indexes: DatetimeIndex([], dtype='datetime64[ns]', name='date', freq=None)\n"
     ]
    }
   ],
   "source": [
    "if df_final['power'].isna().any():\n",
    "    missing_values_count = df_final['power'].isna().sum()\n",
    "    relevant_missing = missing_values_count - 168\n",
    "    missing_values_indices = df_final[df_final['power'].isna()].index[:-168]\n",
    "    print(\"Number of missing values in the 'power' column excluding the last 168 entries:\", relevant_missing)\n",
    "    print(\"In the indexes:\", missing_values_indices)\n",
    "else:\n",
    "    print(\"The 'power' column does not have any missing values.\")"
   ]
  },
  {
   "cell_type": "code",
   "execution_count": 25,
   "metadata": {},
   "outputs": [
    {
     "name": "stdout",
     "output_type": "stream",
     "text": [
      "The 'exog' column does not have any missing values.\n"
     ]
    }
   ],
   "source": [
    "if df_final['exog'].isna().any():\n",
    "    missing_values_count = df_final['exog'].isna().sum()\n",
    "    missing_values_indices = df_final[df_final['exog'].isna()].index\n",
    "    print(\"Number of missing values in the 'exog' column:\", missing_values_count)\n",
    "    print(\"In the indexes:\", missing_values_indices)\n",
    "    df_final['date'] = df_final.index.date\n",
    "else:\n",
    "    print(\"The 'exog' column does not have any missing values.\")"
   ]
  },
  {
   "cell_type": "markdown",
   "metadata": {},
   "source": [
    "## Baseline"
   ]
  },
  {
   "cell_type": "markdown",
   "metadata": {},
   "source": [
    "### Baseline using the values of the previous 7 days"
   ]
  },
  {
   "cell_type": "markdown",
   "metadata": {},
   "source": [
    "Let's create a first baseline."
   ]
  },
  {
   "cell_type": "markdown",
   "metadata": {},
   "source": [
    "Let's start by adding lagged features to our data. We want to make predictions for the next 7 days and each day has 24 hours so 24*7, which are the 168 values that we are missing."
   ]
  },
  {
   "cell_type": "code",
   "execution_count": 26,
   "metadata": {},
   "outputs": [],
   "source": [
    "df_baseline = build_exog_features(df_final, 24*7)"
   ]
  },
  {
   "cell_type": "code",
   "execution_count": 27,
   "metadata": {},
   "outputs": [
    {
     "data": {
      "text/html": [
       "<div>\n",
       "<style scoped>\n",
       "    .dataframe tbody tr th:only-of-type {\n",
       "        vertical-align: middle;\n",
       "    }\n",
       "\n",
       "    .dataframe tbody tr th {\n",
       "        vertical-align: top;\n",
       "    }\n",
       "\n",
       "    .dataframe thead th {\n",
       "        text-align: right;\n",
       "    }\n",
       "</style>\n",
       "<table border=\"1\" class=\"dataframe\">\n",
       "  <thead>\n",
       "    <tr style=\"text-align: right;\">\n",
       "      <th></th>\n",
       "      <th>power</th>\n",
       "      <th>exog</th>\n",
       "      <th>exog_lead1</th>\n",
       "      <th>exog_lead2</th>\n",
       "      <th>exog_lead3</th>\n",
       "      <th>exog_lead4</th>\n",
       "      <th>exog_lead5</th>\n",
       "      <th>exog_lead6</th>\n",
       "      <th>exog_lead7</th>\n",
       "      <th>exog_lead8</th>\n",
       "      <th>...</th>\n",
       "      <th>exog_lead159</th>\n",
       "      <th>exog_lead160</th>\n",
       "      <th>exog_lead161</th>\n",
       "      <th>exog_lead162</th>\n",
       "      <th>exog_lead163</th>\n",
       "      <th>exog_lead164</th>\n",
       "      <th>exog_lead165</th>\n",
       "      <th>exog_lead166</th>\n",
       "      <th>exog_lead167</th>\n",
       "      <th>exog_lead168</th>\n",
       "    </tr>\n",
       "    <tr>\n",
       "      <th>date</th>\n",
       "      <th></th>\n",
       "      <th></th>\n",
       "      <th></th>\n",
       "      <th></th>\n",
       "      <th></th>\n",
       "      <th></th>\n",
       "      <th></th>\n",
       "      <th></th>\n",
       "      <th></th>\n",
       "      <th></th>\n",
       "      <th></th>\n",
       "      <th></th>\n",
       "      <th></th>\n",
       "      <th></th>\n",
       "      <th></th>\n",
       "      <th></th>\n",
       "      <th></th>\n",
       "      <th></th>\n",
       "      <th></th>\n",
       "      <th></th>\n",
       "      <th></th>\n",
       "    </tr>\n",
       "  </thead>\n",
       "  <tbody>\n",
       "    <tr>\n",
       "      <th>2020-09-20 00:00:00</th>\n",
       "      <td>976.930</td>\n",
       "      <td>11.805</td>\n",
       "      <td>11.446</td>\n",
       "      <td>11.218</td>\n",
       "      <td>11.025</td>\n",
       "      <td>11.196</td>\n",
       "      <td>11.414</td>\n",
       "      <td>11.382</td>\n",
       "      <td>10.974</td>\n",
       "      <td>10.505</td>\n",
       "      <td>...</td>\n",
       "      <td>19.099</td>\n",
       "      <td>20.280</td>\n",
       "      <td>20.287</td>\n",
       "      <td>19.097</td>\n",
       "      <td>19.163</td>\n",
       "      <td>18.757</td>\n",
       "      <td>16.223</td>\n",
       "      <td>17.853</td>\n",
       "      <td>16.920</td>\n",
       "      <td>14.621</td>\n",
       "    </tr>\n",
       "    <tr>\n",
       "      <th>2020-09-20 01:00:00</th>\n",
       "      <td>952.705</td>\n",
       "      <td>11.446</td>\n",
       "      <td>11.218</td>\n",
       "      <td>11.025</td>\n",
       "      <td>11.196</td>\n",
       "      <td>11.414</td>\n",
       "      <td>11.382</td>\n",
       "      <td>10.974</td>\n",
       "      <td>10.505</td>\n",
       "      <td>9.757</td>\n",
       "      <td>...</td>\n",
       "      <td>20.280</td>\n",
       "      <td>20.287</td>\n",
       "      <td>19.097</td>\n",
       "      <td>19.163</td>\n",
       "      <td>18.757</td>\n",
       "      <td>16.223</td>\n",
       "      <td>17.853</td>\n",
       "      <td>16.920</td>\n",
       "      <td>14.621</td>\n",
       "      <td>20.358</td>\n",
       "    </tr>\n",
       "    <tr>\n",
       "      <th>2020-09-20 02:00:00</th>\n",
       "      <td>928.813</td>\n",
       "      <td>11.218</td>\n",
       "      <td>11.025</td>\n",
       "      <td>11.196</td>\n",
       "      <td>11.414</td>\n",
       "      <td>11.382</td>\n",
       "      <td>10.974</td>\n",
       "      <td>10.505</td>\n",
       "      <td>9.757</td>\n",
       "      <td>8.988</td>\n",
       "      <td>...</td>\n",
       "      <td>20.287</td>\n",
       "      <td>19.097</td>\n",
       "      <td>19.163</td>\n",
       "      <td>18.757</td>\n",
       "      <td>16.223</td>\n",
       "      <td>17.853</td>\n",
       "      <td>16.920</td>\n",
       "      <td>14.621</td>\n",
       "      <td>20.358</td>\n",
       "      <td>20.452</td>\n",
       "    </tr>\n",
       "    <tr>\n",
       "      <th>2020-09-20 03:00:00</th>\n",
       "      <td>984.234</td>\n",
       "      <td>11.025</td>\n",
       "      <td>11.196</td>\n",
       "      <td>11.414</td>\n",
       "      <td>11.382</td>\n",
       "      <td>10.974</td>\n",
       "      <td>10.505</td>\n",
       "      <td>9.757</td>\n",
       "      <td>8.988</td>\n",
       "      <td>8.428</td>\n",
       "      <td>...</td>\n",
       "      <td>19.097</td>\n",
       "      <td>19.163</td>\n",
       "      <td>18.757</td>\n",
       "      <td>16.223</td>\n",
       "      <td>17.853</td>\n",
       "      <td>16.920</td>\n",
       "      <td>14.621</td>\n",
       "      <td>20.358</td>\n",
       "      <td>20.452</td>\n",
       "      <td>15.867</td>\n",
       "    </tr>\n",
       "    <tr>\n",
       "      <th>2020-09-20 04:00:00</th>\n",
       "      <td>1002.113</td>\n",
       "      <td>11.196</td>\n",
       "      <td>11.414</td>\n",
       "      <td>11.382</td>\n",
       "      <td>10.974</td>\n",
       "      <td>10.505</td>\n",
       "      <td>9.757</td>\n",
       "      <td>8.988</td>\n",
       "      <td>8.428</td>\n",
       "      <td>8.428</td>\n",
       "      <td>...</td>\n",
       "      <td>19.163</td>\n",
       "      <td>18.757</td>\n",
       "      <td>16.223</td>\n",
       "      <td>17.853</td>\n",
       "      <td>16.920</td>\n",
       "      <td>14.621</td>\n",
       "      <td>20.358</td>\n",
       "      <td>20.452</td>\n",
       "      <td>15.867</td>\n",
       "      <td>18.657</td>\n",
       "    </tr>\n",
       "  </tbody>\n",
       "</table>\n",
       "<p>5 rows × 170 columns</p>\n",
       "</div>"
      ],
      "text/plain": [
       "                        power    exog  exog_lead1  exog_lead2  exog_lead3  \\\n",
       "date                                                                        \n",
       "2020-09-20 00:00:00   976.930  11.805      11.446      11.218      11.025   \n",
       "2020-09-20 01:00:00   952.705  11.446      11.218      11.025      11.196   \n",
       "2020-09-20 02:00:00   928.813  11.218      11.025      11.196      11.414   \n",
       "2020-09-20 03:00:00   984.234  11.025      11.196      11.414      11.382   \n",
       "2020-09-20 04:00:00  1002.113  11.196      11.414      11.382      10.974   \n",
       "\n",
       "                     exog_lead4  exog_lead5  exog_lead6  exog_lead7  \\\n",
       "date                                                                  \n",
       "2020-09-20 00:00:00      11.196      11.414      11.382      10.974   \n",
       "2020-09-20 01:00:00      11.414      11.382      10.974      10.505   \n",
       "2020-09-20 02:00:00      11.382      10.974      10.505       9.757   \n",
       "2020-09-20 03:00:00      10.974      10.505       9.757       8.988   \n",
       "2020-09-20 04:00:00      10.505       9.757       8.988       8.428   \n",
       "\n",
       "                     exog_lead8  ...  exog_lead159  exog_lead160  \\\n",
       "date                             ...                               \n",
       "2020-09-20 00:00:00      10.505  ...        19.099        20.280   \n",
       "2020-09-20 01:00:00       9.757  ...        20.280        20.287   \n",
       "2020-09-20 02:00:00       8.988  ...        20.287        19.097   \n",
       "2020-09-20 03:00:00       8.428  ...        19.097        19.163   \n",
       "2020-09-20 04:00:00       8.428  ...        19.163        18.757   \n",
       "\n",
       "                     exog_lead161  exog_lead162  exog_lead163  exog_lead164  \\\n",
       "date                                                                          \n",
       "2020-09-20 00:00:00        20.287        19.097        19.163        18.757   \n",
       "2020-09-20 01:00:00        19.097        19.163        18.757        16.223   \n",
       "2020-09-20 02:00:00        19.163        18.757        16.223        17.853   \n",
       "2020-09-20 03:00:00        18.757        16.223        17.853        16.920   \n",
       "2020-09-20 04:00:00        16.223        17.853        16.920        14.621   \n",
       "\n",
       "                     exog_lead165  exog_lead166  exog_lead167  exog_lead168  \n",
       "date                                                                         \n",
       "2020-09-20 00:00:00        16.223        17.853        16.920        14.621  \n",
       "2020-09-20 01:00:00        17.853        16.920        14.621        20.358  \n",
       "2020-09-20 02:00:00        16.920        14.621        20.358        20.452  \n",
       "2020-09-20 03:00:00        14.621        20.358        20.452        15.867  \n",
       "2020-09-20 04:00:00        20.358        20.452        15.867        18.657  \n",
       "\n",
       "[5 rows x 170 columns]"
      ]
     },
     "execution_count": 27,
     "metadata": {},
     "output_type": "execute_result"
    }
   ],
   "source": [
    "df_baseline.head(5)"
   ]
  },
  {
   "cell_type": "markdown",
   "metadata": {},
   "source": [
    "Now that we have all thelagged features, let's create a new column called baseline. This will make the value at each row in the 'baseline' column represent the power reading from 7 days ago. The purpose of creating this 'baseline' column could be to establish a simple benchmark to compare the performance of predictive models against simpler methods like persistence forecasting (using previous values as predictions)."
   ]
  },
  {
   "cell_type": "code",
   "execution_count": 28,
   "metadata": {},
   "outputs": [],
   "source": [
    "df_baseline[\"baseline\"] = df_baseline.power.shift(24*7)"
   ]
  },
  {
   "cell_type": "code",
   "execution_count": 29,
   "metadata": {},
   "outputs": [
    {
     "data": {
      "text/html": [
       "<div>\n",
       "<style scoped>\n",
       "    .dataframe tbody tr th:only-of-type {\n",
       "        vertical-align: middle;\n",
       "    }\n",
       "\n",
       "    .dataframe tbody tr th {\n",
       "        vertical-align: top;\n",
       "    }\n",
       "\n",
       "    .dataframe thead th {\n",
       "        text-align: right;\n",
       "    }\n",
       "</style>\n",
       "<table border=\"1\" class=\"dataframe\">\n",
       "  <thead>\n",
       "    <tr style=\"text-align: right;\">\n",
       "      <th></th>\n",
       "      <th>power</th>\n",
       "      <th>exog</th>\n",
       "      <th>exog_lead1</th>\n",
       "      <th>exog_lead2</th>\n",
       "      <th>exog_lead3</th>\n",
       "      <th>exog_lead4</th>\n",
       "      <th>exog_lead5</th>\n",
       "      <th>exog_lead6</th>\n",
       "      <th>exog_lead7</th>\n",
       "      <th>exog_lead8</th>\n",
       "      <th>...</th>\n",
       "      <th>exog_lead160</th>\n",
       "      <th>exog_lead161</th>\n",
       "      <th>exog_lead162</th>\n",
       "      <th>exog_lead163</th>\n",
       "      <th>exog_lead164</th>\n",
       "      <th>exog_lead165</th>\n",
       "      <th>exog_lead166</th>\n",
       "      <th>exog_lead167</th>\n",
       "      <th>exog_lead168</th>\n",
       "      <th>baseline</th>\n",
       "    </tr>\n",
       "    <tr>\n",
       "      <th>date</th>\n",
       "      <th></th>\n",
       "      <th></th>\n",
       "      <th></th>\n",
       "      <th></th>\n",
       "      <th></th>\n",
       "      <th></th>\n",
       "      <th></th>\n",
       "      <th></th>\n",
       "      <th></th>\n",
       "      <th></th>\n",
       "      <th></th>\n",
       "      <th></th>\n",
       "      <th></th>\n",
       "      <th></th>\n",
       "      <th></th>\n",
       "      <th></th>\n",
       "      <th></th>\n",
       "      <th></th>\n",
       "      <th></th>\n",
       "      <th></th>\n",
       "      <th></th>\n",
       "    </tr>\n",
       "  </thead>\n",
       "  <tbody>\n",
       "    <tr>\n",
       "      <th>2020-09-20 00:00:00</th>\n",
       "      <td>976.930</td>\n",
       "      <td>11.805</td>\n",
       "      <td>11.446</td>\n",
       "      <td>11.218</td>\n",
       "      <td>11.025</td>\n",
       "      <td>11.196</td>\n",
       "      <td>11.414</td>\n",
       "      <td>11.382</td>\n",
       "      <td>10.974</td>\n",
       "      <td>10.505</td>\n",
       "      <td>...</td>\n",
       "      <td>20.280</td>\n",
       "      <td>20.287</td>\n",
       "      <td>19.097</td>\n",
       "      <td>19.163</td>\n",
       "      <td>18.757</td>\n",
       "      <td>16.223</td>\n",
       "      <td>17.853</td>\n",
       "      <td>16.920</td>\n",
       "      <td>14.621</td>\n",
       "      <td>NaN</td>\n",
       "    </tr>\n",
       "    <tr>\n",
       "      <th>2020-09-20 01:00:00</th>\n",
       "      <td>952.705</td>\n",
       "      <td>11.446</td>\n",
       "      <td>11.218</td>\n",
       "      <td>11.025</td>\n",
       "      <td>11.196</td>\n",
       "      <td>11.414</td>\n",
       "      <td>11.382</td>\n",
       "      <td>10.974</td>\n",
       "      <td>10.505</td>\n",
       "      <td>9.757</td>\n",
       "      <td>...</td>\n",
       "      <td>20.287</td>\n",
       "      <td>19.097</td>\n",
       "      <td>19.163</td>\n",
       "      <td>18.757</td>\n",
       "      <td>16.223</td>\n",
       "      <td>17.853</td>\n",
       "      <td>16.920</td>\n",
       "      <td>14.621</td>\n",
       "      <td>20.358</td>\n",
       "      <td>NaN</td>\n",
       "    </tr>\n",
       "    <tr>\n",
       "      <th>2020-09-20 02:00:00</th>\n",
       "      <td>928.813</td>\n",
       "      <td>11.218</td>\n",
       "      <td>11.025</td>\n",
       "      <td>11.196</td>\n",
       "      <td>11.414</td>\n",
       "      <td>11.382</td>\n",
       "      <td>10.974</td>\n",
       "      <td>10.505</td>\n",
       "      <td>9.757</td>\n",
       "      <td>8.988</td>\n",
       "      <td>...</td>\n",
       "      <td>19.097</td>\n",
       "      <td>19.163</td>\n",
       "      <td>18.757</td>\n",
       "      <td>16.223</td>\n",
       "      <td>17.853</td>\n",
       "      <td>16.920</td>\n",
       "      <td>14.621</td>\n",
       "      <td>20.358</td>\n",
       "      <td>20.452</td>\n",
       "      <td>NaN</td>\n",
       "    </tr>\n",
       "    <tr>\n",
       "      <th>2020-09-20 03:00:00</th>\n",
       "      <td>984.234</td>\n",
       "      <td>11.025</td>\n",
       "      <td>11.196</td>\n",
       "      <td>11.414</td>\n",
       "      <td>11.382</td>\n",
       "      <td>10.974</td>\n",
       "      <td>10.505</td>\n",
       "      <td>9.757</td>\n",
       "      <td>8.988</td>\n",
       "      <td>8.428</td>\n",
       "      <td>...</td>\n",
       "      <td>19.163</td>\n",
       "      <td>18.757</td>\n",
       "      <td>16.223</td>\n",
       "      <td>17.853</td>\n",
       "      <td>16.920</td>\n",
       "      <td>14.621</td>\n",
       "      <td>20.358</td>\n",
       "      <td>20.452</td>\n",
       "      <td>15.867</td>\n",
       "      <td>NaN</td>\n",
       "    </tr>\n",
       "    <tr>\n",
       "      <th>2020-09-20 04:00:00</th>\n",
       "      <td>1002.113</td>\n",
       "      <td>11.196</td>\n",
       "      <td>11.414</td>\n",
       "      <td>11.382</td>\n",
       "      <td>10.974</td>\n",
       "      <td>10.505</td>\n",
       "      <td>9.757</td>\n",
       "      <td>8.988</td>\n",
       "      <td>8.428</td>\n",
       "      <td>8.428</td>\n",
       "      <td>...</td>\n",
       "      <td>18.757</td>\n",
       "      <td>16.223</td>\n",
       "      <td>17.853</td>\n",
       "      <td>16.920</td>\n",
       "      <td>14.621</td>\n",
       "      <td>20.358</td>\n",
       "      <td>20.452</td>\n",
       "      <td>15.867</td>\n",
       "      <td>18.657</td>\n",
       "      <td>NaN</td>\n",
       "    </tr>\n",
       "  </tbody>\n",
       "</table>\n",
       "<p>5 rows × 171 columns</p>\n",
       "</div>"
      ],
      "text/plain": [
       "                        power    exog  exog_lead1  exog_lead2  exog_lead3  \\\n",
       "date                                                                        \n",
       "2020-09-20 00:00:00   976.930  11.805      11.446      11.218      11.025   \n",
       "2020-09-20 01:00:00   952.705  11.446      11.218      11.025      11.196   \n",
       "2020-09-20 02:00:00   928.813  11.218      11.025      11.196      11.414   \n",
       "2020-09-20 03:00:00   984.234  11.025      11.196      11.414      11.382   \n",
       "2020-09-20 04:00:00  1002.113  11.196      11.414      11.382      10.974   \n",
       "\n",
       "                     exog_lead4  exog_lead5  exog_lead6  exog_lead7  \\\n",
       "date                                                                  \n",
       "2020-09-20 00:00:00      11.196      11.414      11.382      10.974   \n",
       "2020-09-20 01:00:00      11.414      11.382      10.974      10.505   \n",
       "2020-09-20 02:00:00      11.382      10.974      10.505       9.757   \n",
       "2020-09-20 03:00:00      10.974      10.505       9.757       8.988   \n",
       "2020-09-20 04:00:00      10.505       9.757       8.988       8.428   \n",
       "\n",
       "                     exog_lead8  ...  exog_lead160  exog_lead161  \\\n",
       "date                             ...                               \n",
       "2020-09-20 00:00:00      10.505  ...        20.280        20.287   \n",
       "2020-09-20 01:00:00       9.757  ...        20.287        19.097   \n",
       "2020-09-20 02:00:00       8.988  ...        19.097        19.163   \n",
       "2020-09-20 03:00:00       8.428  ...        19.163        18.757   \n",
       "2020-09-20 04:00:00       8.428  ...        18.757        16.223   \n",
       "\n",
       "                     exog_lead162  exog_lead163  exog_lead164  exog_lead165  \\\n",
       "date                                                                          \n",
       "2020-09-20 00:00:00        19.097        19.163        18.757        16.223   \n",
       "2020-09-20 01:00:00        19.163        18.757        16.223        17.853   \n",
       "2020-09-20 02:00:00        18.757        16.223        17.853        16.920   \n",
       "2020-09-20 03:00:00        16.223        17.853        16.920        14.621   \n",
       "2020-09-20 04:00:00        17.853        16.920        14.621        20.358   \n",
       "\n",
       "                     exog_lead166  exog_lead167  exog_lead168  baseline  \n",
       "date                                                                     \n",
       "2020-09-20 00:00:00        17.853        16.920        14.621       NaN  \n",
       "2020-09-20 01:00:00        16.920        14.621        20.358       NaN  \n",
       "2020-09-20 02:00:00        14.621        20.358        20.452       NaN  \n",
       "2020-09-20 03:00:00        20.358        20.452        15.867       NaN  \n",
       "2020-09-20 04:00:00        20.452        15.867        18.657       NaN  \n",
       "\n",
       "[5 rows x 171 columns]"
      ]
     },
     "execution_count": 29,
     "metadata": {},
     "output_type": "execute_result"
    }
   ],
   "source": [
    "df_baseline.head(5)"
   ]
  },
  {
   "cell_type": "code",
   "execution_count": 30,
   "metadata": {},
   "outputs": [
    {
     "data": {
      "text/html": [
       "<div>\n",
       "<style scoped>\n",
       "    .dataframe tbody tr th:only-of-type {\n",
       "        vertical-align: middle;\n",
       "    }\n",
       "\n",
       "    .dataframe tbody tr th {\n",
       "        vertical-align: top;\n",
       "    }\n",
       "\n",
       "    .dataframe thead th {\n",
       "        text-align: right;\n",
       "    }\n",
       "</style>\n",
       "<table border=\"1\" class=\"dataframe\">\n",
       "  <thead>\n",
       "    <tr style=\"text-align: right;\">\n",
       "      <th></th>\n",
       "      <th>power</th>\n",
       "      <th>exog</th>\n",
       "      <th>exog_lead1</th>\n",
       "      <th>exog_lead2</th>\n",
       "      <th>exog_lead3</th>\n",
       "      <th>exog_lead4</th>\n",
       "      <th>exog_lead5</th>\n",
       "      <th>exog_lead6</th>\n",
       "      <th>exog_lead7</th>\n",
       "      <th>exog_lead8</th>\n",
       "      <th>...</th>\n",
       "      <th>exog_lead160</th>\n",
       "      <th>exog_lead161</th>\n",
       "      <th>exog_lead162</th>\n",
       "      <th>exog_lead163</th>\n",
       "      <th>exog_lead164</th>\n",
       "      <th>exog_lead165</th>\n",
       "      <th>exog_lead166</th>\n",
       "      <th>exog_lead167</th>\n",
       "      <th>exog_lead168</th>\n",
       "      <th>baseline</th>\n",
       "    </tr>\n",
       "    <tr>\n",
       "      <th>date</th>\n",
       "      <th></th>\n",
       "      <th></th>\n",
       "      <th></th>\n",
       "      <th></th>\n",
       "      <th></th>\n",
       "      <th></th>\n",
       "      <th></th>\n",
       "      <th></th>\n",
       "      <th></th>\n",
       "      <th></th>\n",
       "      <th></th>\n",
       "      <th></th>\n",
       "      <th></th>\n",
       "      <th></th>\n",
       "      <th></th>\n",
       "      <th></th>\n",
       "      <th></th>\n",
       "      <th></th>\n",
       "      <th></th>\n",
       "      <th></th>\n",
       "      <th></th>\n",
       "    </tr>\n",
       "  </thead>\n",
       "  <tbody>\n",
       "    <tr>\n",
       "      <th>2023-10-15 19:00:00</th>\n",
       "      <td>NaN</td>\n",
       "      <td>10.820</td>\n",
       "      <td>10.619</td>\n",
       "      <td>9.535</td>\n",
       "      <td>10.031</td>\n",
       "      <td>9.464</td>\n",
       "      <td>NaN</td>\n",
       "      <td>NaN</td>\n",
       "      <td>NaN</td>\n",
       "      <td>NaN</td>\n",
       "      <td>...</td>\n",
       "      <td>NaN</td>\n",
       "      <td>NaN</td>\n",
       "      <td>NaN</td>\n",
       "      <td>NaN</td>\n",
       "      <td>NaN</td>\n",
       "      <td>NaN</td>\n",
       "      <td>NaN</td>\n",
       "      <td>NaN</td>\n",
       "      <td>NaN</td>\n",
       "      <td>551.124</td>\n",
       "    </tr>\n",
       "    <tr>\n",
       "      <th>2023-10-15 20:00:00</th>\n",
       "      <td>NaN</td>\n",
       "      <td>10.619</td>\n",
       "      <td>9.535</td>\n",
       "      <td>10.031</td>\n",
       "      <td>9.464</td>\n",
       "      <td>NaN</td>\n",
       "      <td>NaN</td>\n",
       "      <td>NaN</td>\n",
       "      <td>NaN</td>\n",
       "      <td>NaN</td>\n",
       "      <td>...</td>\n",
       "      <td>NaN</td>\n",
       "      <td>NaN</td>\n",
       "      <td>NaN</td>\n",
       "      <td>NaN</td>\n",
       "      <td>NaN</td>\n",
       "      <td>NaN</td>\n",
       "      <td>NaN</td>\n",
       "      <td>NaN</td>\n",
       "      <td>NaN</td>\n",
       "      <td>699.824</td>\n",
       "    </tr>\n",
       "    <tr>\n",
       "      <th>2023-10-15 21:00:00</th>\n",
       "      <td>NaN</td>\n",
       "      <td>9.535</td>\n",
       "      <td>10.031</td>\n",
       "      <td>9.464</td>\n",
       "      <td>NaN</td>\n",
       "      <td>NaN</td>\n",
       "      <td>NaN</td>\n",
       "      <td>NaN</td>\n",
       "      <td>NaN</td>\n",
       "      <td>NaN</td>\n",
       "      <td>...</td>\n",
       "      <td>NaN</td>\n",
       "      <td>NaN</td>\n",
       "      <td>NaN</td>\n",
       "      <td>NaN</td>\n",
       "      <td>NaN</td>\n",
       "      <td>NaN</td>\n",
       "      <td>NaN</td>\n",
       "      <td>NaN</td>\n",
       "      <td>NaN</td>\n",
       "      <td>922.044</td>\n",
       "    </tr>\n",
       "    <tr>\n",
       "      <th>2023-10-15 22:00:00</th>\n",
       "      <td>NaN</td>\n",
       "      <td>10.031</td>\n",
       "      <td>9.464</td>\n",
       "      <td>NaN</td>\n",
       "      <td>NaN</td>\n",
       "      <td>NaN</td>\n",
       "      <td>NaN</td>\n",
       "      <td>NaN</td>\n",
       "      <td>NaN</td>\n",
       "      <td>NaN</td>\n",
       "      <td>...</td>\n",
       "      <td>NaN</td>\n",
       "      <td>NaN</td>\n",
       "      <td>NaN</td>\n",
       "      <td>NaN</td>\n",
       "      <td>NaN</td>\n",
       "      <td>NaN</td>\n",
       "      <td>NaN</td>\n",
       "      <td>NaN</td>\n",
       "      <td>NaN</td>\n",
       "      <td>897.264</td>\n",
       "    </tr>\n",
       "    <tr>\n",
       "      <th>2023-10-15 23:00:00</th>\n",
       "      <td>NaN</td>\n",
       "      <td>9.464</td>\n",
       "      <td>NaN</td>\n",
       "      <td>NaN</td>\n",
       "      <td>NaN</td>\n",
       "      <td>NaN</td>\n",
       "      <td>NaN</td>\n",
       "      <td>NaN</td>\n",
       "      <td>NaN</td>\n",
       "      <td>NaN</td>\n",
       "      <td>...</td>\n",
       "      <td>NaN</td>\n",
       "      <td>NaN</td>\n",
       "      <td>NaN</td>\n",
       "      <td>NaN</td>\n",
       "      <td>NaN</td>\n",
       "      <td>NaN</td>\n",
       "      <td>NaN</td>\n",
       "      <td>NaN</td>\n",
       "      <td>NaN</td>\n",
       "      <td>797.614</td>\n",
       "    </tr>\n",
       "  </tbody>\n",
       "</table>\n",
       "<p>5 rows × 171 columns</p>\n",
       "</div>"
      ],
      "text/plain": [
       "                     power    exog  exog_lead1  exog_lead2  exog_lead3  \\\n",
       "date                                                                     \n",
       "2023-10-15 19:00:00    NaN  10.820      10.619       9.535      10.031   \n",
       "2023-10-15 20:00:00    NaN  10.619       9.535      10.031       9.464   \n",
       "2023-10-15 21:00:00    NaN   9.535      10.031       9.464         NaN   \n",
       "2023-10-15 22:00:00    NaN  10.031       9.464         NaN         NaN   \n",
       "2023-10-15 23:00:00    NaN   9.464         NaN         NaN         NaN   \n",
       "\n",
       "                     exog_lead4  exog_lead5  exog_lead6  exog_lead7  \\\n",
       "date                                                                  \n",
       "2023-10-15 19:00:00       9.464         NaN         NaN         NaN   \n",
       "2023-10-15 20:00:00         NaN         NaN         NaN         NaN   \n",
       "2023-10-15 21:00:00         NaN         NaN         NaN         NaN   \n",
       "2023-10-15 22:00:00         NaN         NaN         NaN         NaN   \n",
       "2023-10-15 23:00:00         NaN         NaN         NaN         NaN   \n",
       "\n",
       "                     exog_lead8  ...  exog_lead160  exog_lead161  \\\n",
       "date                             ...                               \n",
       "2023-10-15 19:00:00         NaN  ...           NaN           NaN   \n",
       "2023-10-15 20:00:00         NaN  ...           NaN           NaN   \n",
       "2023-10-15 21:00:00         NaN  ...           NaN           NaN   \n",
       "2023-10-15 22:00:00         NaN  ...           NaN           NaN   \n",
       "2023-10-15 23:00:00         NaN  ...           NaN           NaN   \n",
       "\n",
       "                     exog_lead162  exog_lead163  exog_lead164  exog_lead165  \\\n",
       "date                                                                          \n",
       "2023-10-15 19:00:00           NaN           NaN           NaN           NaN   \n",
       "2023-10-15 20:00:00           NaN           NaN           NaN           NaN   \n",
       "2023-10-15 21:00:00           NaN           NaN           NaN           NaN   \n",
       "2023-10-15 22:00:00           NaN           NaN           NaN           NaN   \n",
       "2023-10-15 23:00:00           NaN           NaN           NaN           NaN   \n",
       "\n",
       "                     exog_lead166  exog_lead167  exog_lead168  baseline  \n",
       "date                                                                     \n",
       "2023-10-15 19:00:00           NaN           NaN           NaN   551.124  \n",
       "2023-10-15 20:00:00           NaN           NaN           NaN   699.824  \n",
       "2023-10-15 21:00:00           NaN           NaN           NaN   922.044  \n",
       "2023-10-15 22:00:00           NaN           NaN           NaN   897.264  \n",
       "2023-10-15 23:00:00           NaN           NaN           NaN   797.614  \n",
       "\n",
       "[5 rows x 171 columns]"
      ]
     },
     "execution_count": 30,
     "metadata": {},
     "output_type": "execute_result"
    }
   ],
   "source": [
    "df_baseline.tail(5)"
   ]
  },
  {
   "cell_type": "markdown",
   "metadata": {},
   "source": [
    "Let's divide the data into train, validation and test."
   ]
  },
  {
   "cell_type": "code",
   "execution_count": 31,
   "metadata": {},
   "outputs": [],
   "source": [
    "train = df_baseline.iloc[:-24*7*2] # excluding the data for the last two weeks\n",
    "val = df_baseline.iloc[-24*7*2:-24*7] # two weeks just before the test set\n",
    "train_val = df_baseline.iloc[:-24*7]  # excluding the data for the last week\n",
    "test = df_baseline.iloc[-24*7:] # last week"
   ]
  },
  {
   "cell_type": "markdown",
   "metadata": {},
   "source": [
    "Let's calculate the MAE using the power column as the real value and the baseline column we created as the predictions."
   ]
  },
  {
   "cell_type": "code",
   "execution_count": 32,
   "metadata": {},
   "outputs": [
    {
     "name": "stdout",
     "output_type": "stream",
     "text": [
      "516.824517857143\n"
     ]
    }
   ],
   "source": [
    "val_mae = mean_absolute_error(val[\"power\"],val[\"baseline\"])\n",
    "print(val_mae)"
   ]
  },
  {
   "cell_type": "code",
   "execution_count": 33,
   "metadata": {},
   "outputs": [
    {
     "data": {
      "image/png": "[encoded data removed]",
      "text/plain": [
       "<Figure size 1600x400 with 1 Axes>"
      ]
     },
     "metadata": {},
     "output_type": "display_data"
    }
   ],
   "source": [
    "plt.plot(val[\"power\"], label='original')\n",
    "plt.plot(val[\"baseline\"], label='shift')\n",
    "plt.xlabel('Time')\n",
    "plt.title('Power per hour')\n",
    "plt.legend()\n",
    "plt.show()"
   ]
  },
  {
   "cell_type": "markdown",
   "metadata": {},
   "source": [
    "### Baseline using SARIMAX"
   ]
  },
  {
   "cell_type": "code",
   "execution_count": 34,
   "metadata": {},
   "outputs": [],
   "source": [
    "train_power = df_final['power'][:-24*7*2]\n",
    "train_exog = df_final['exog'][:-24*7*2]\n",
    "\n",
    "val_power = df_final['power'][-24*7*2:-24*7]\n",
    "val_exog = df_final['exog'][-24*7*2:-24*7]\n",
    "\n",
    "test_power = df_final['power'][-24*7:]\n",
    "test_exog = df_final['exog'][-24*7:]\n",
    "\n",
    "train_log = train_power.map(np.log)\n",
    "test_log = test_power.map(np.log)"
   ]
  },
  {
   "cell_type": "markdown",
   "metadata": {},
   "source": [
    "Let's see if there is any correlation per hour."
   ]
  },
  {
   "cell_type": "code",
   "execution_count": 35,
   "metadata": {},
   "outputs": [
    {
     "data": {
      "text/plain": [
       "Text(0.5, 0, 'Lag')"
      ]
     },
     "execution_count": 35,
     "metadata": {},
     "output_type": "execute_result"
    },
    {
     "data": {
      "image/png": "[encoded data removed]",
      "text/plain": [
       "<Figure size 1600x400 with 1 Axes>"
      ]
     },
     "metadata": {},
     "output_type": "display_data"
    }
   ],
   "source": [
    "from statsmodels.graphics.tsaplots import plot_acf, plot_pacf\n",
    "\n",
    "plot_acf(train_power, lags=200, alpha=.05)\n",
    "plt.xlabel('Lag')"
   ]
  },
  {
   "cell_type": "code",
   "execution_count": 36,
   "metadata": {},
   "outputs": [
    {
     "data": {
      "image/png": "[encoded data removed]",
      "text/plain": [
       "<Figure size 1600x400 with 1 Axes>"
      ]
     },
     "metadata": {},
     "output_type": "display_data"
    }
   ],
   "source": [
    "plot_pacf(train_power, alpha=.05, lags=80)  \n",
    "plt.xlabel('Lag')\n",
    "plt.show()"
   ]
  },
  {
   "cell_type": "markdown",
   "metadata": {},
   "source": [
    "This shows a bigger correlation with the hour just before what makes sense as the wind speed of one hour tends to be similar to the one of the previous hour."
   ]
  },
  {
   "cell_type": "markdown",
   "metadata": {},
   "source": [
    "What about per day?"
   ]
  },
  {
   "cell_type": "code",
   "execution_count": 37,
   "metadata": {},
   "outputs": [
    {
     "data": {
      "image/png": "[encoded data removed]",
      "text/plain": [
       "<Figure size 1600x400 with 1 Axes>"
      ]
     },
     "metadata": {},
     "output_type": "display_data"
    }
   ],
   "source": [
    "day_power = train_power.resample('D').mean()  # or sum(), or any other aggregation function\n",
    "\n",
    "# Plot the ACF\n",
    "plot_acf(day_power)  # Adjust the number of lags as needed\n",
    "plt.xlabel('Lags (Months)')\n",
    "plt.ylabel('Autocorrelation')\n",
    "plt.title('Autocorrelation Function (Monthly)')\n",
    "plt.show()"
   ]
  },
  {
   "cell_type": "code",
   "execution_count": 38,
   "metadata": {},
   "outputs": [
    {
     "data": {
      "image/png": "[encoded data removed]",
      "text/plain": [
       "<Figure size 1600x400 with 1 Axes>"
      ]
     },
     "metadata": {},
     "output_type": "display_data"
    }
   ],
   "source": [
    "plot_pacf(day_power, alpha=.05)  \n",
    "plt.xlabel('Lag')\n",
    "plt.show()"
   ]
  },
  {
   "cell_type": "markdown",
   "metadata": {},
   "source": [
    "What about per week?"
   ]
  },
  {
   "cell_type": "code",
   "execution_count": 39,
   "metadata": {},
   "outputs": [
    {
     "data": {
      "image/png": "[encoded data removed]",
      "text/plain": [
       "<Figure size 1600x400 with 1 Axes>"
      ]
     },
     "metadata": {},
     "output_type": "display_data"
    }
   ],
   "source": [
    "weekly_power = train_power.resample('W').mean()  # or sum(), or any other aggregation function\n",
    "\n",
    "# Plot the ACF\n",
    "plot_acf(weekly_power)  # Adjust the number of lags as needed\n",
    "plt.xlabel('Lags (Months)')\n",
    "plt.ylabel('Autocorrelation')\n",
    "plt.title('Autocorrelation Function (Monthly)')\n",
    "plt.show()"
   ]
  },
  {
   "cell_type": "code",
   "execution_count": 40,
   "metadata": {},
   "outputs": [
    {
     "data": {
      "image/png": "[encoded data removed]",
      "text/plain": [
       "<Figure size 1600x400 with 1 Axes>"
      ]
     },
     "metadata": {},
     "output_type": "display_data"
    }
   ],
   "source": [
    "plot_pacf(weekly_power, alpha=.05)  \n",
    "plt.xlabel('Lag')\n",
    "plt.show()"
   ]
  },
  {
   "cell_type": "markdown",
   "metadata": {},
   "source": [
    "What about per month?"
   ]
  },
  {
   "cell_type": "code",
   "execution_count": 41,
   "metadata": {},
   "outputs": [
    {
     "data": {
      "image/png": "[encoded data removed]",
      "text/plain": [
       "<Figure size 1600x400 with 1 Axes>"
      ]
     },
     "metadata": {},
     "output_type": "display_data"
    }
   ],
   "source": [
    "monthly_power = train_power.resample('M').mean()  # or sum(), or any other aggregation function\n",
    "\n",
    "# Plot the ACF\n",
    "plot_acf(monthly_power, lags=24)  # Adjust the number of lags as needed\n",
    "plt.xlabel('Lags (Months)')\n",
    "plt.ylabel('Autocorrelation')\n",
    "plt.title('Autocorrelation Function (Monthly)')\n",
    "plt.show()\n"
   ]
  },
  {
   "cell_type": "code",
   "execution_count": 42,
   "metadata": {},
   "outputs": [
    {
     "data": {
      "image/png": "[encoded data removed]",
      "text/plain": [
       "<Figure size 1600x400 with 1 Axes>"
      ]
     },
     "metadata": {},
     "output_type": "display_data"
    }
   ],
   "source": [
    "plot_pacf(monthly_power, alpha=.05)  \n",
    "plt.xlabel('Lag')\n",
    "plt.show()"
   ]
  },
  {
   "cell_type": "code",
   "execution_count": null,
   "metadata": {},
   "outputs": [
    {
     "name": "stdout",
     "output_type": "stream",
     "text": [
      "Performing stepwise search to minimize aic\n"
     ]
    }
   ],
   "source": [
    "from pmdarima.pipeline import Pipeline\n",
    "import pmdarima as pm\n",
    "\n",
    "seasonal_period = 5 * 30 * 24  # Assuming 5 months seasonality\n",
    "\n",
    "sarimax_pipeline_exog = Pipeline([\n",
    "    ('arima', pm.AutoARIMA(trace=True,\n",
    "                           suppress_warnings=True,\n",
    "                           m=seasonal_period, \n",
    "                           maxiter=10,\n",
    "                          )\n",
    "    )\n",
    "])\n",
    "\n",
    "sarimax_pipeline_exog.fit(train_power.to_frame(),train_exog.to_frame())"
   ]
  },
  {
   "cell_type": "code",
   "execution_count": null,
   "metadata": {},
   "outputs": [],
   "source": [
    "predictions = sarimax_pipeline_exog.predict(n_periods=24*7, exogenous=val_exog)\n",
    "\n",
    "mse = mean_absolute_error(predictions, val_power)"
   ]
  },
  {
   "cell_type": "code",
   "execution_count": null,
   "metadata": {},
   "outputs": [],
   "source": [
    "import pmdarima as pm\n",
    "\n",
    "sarimax = pm.AutoARIMA(trace=True, suppress_warnings=True, m=24)\n",
    "\n",
    "sarimax_forecast_one_step_refit = []\n",
    "sarimax.fit(train_power[:5000].to_frame(), train_exog[:5000].to_frame())\n",
    "\n",
    "for i in range(len(test_power)):\n",
    "    next_step_forecast = sarimax.predict(n_periods=1, exogenous=test_exog.to_frame()[i:i+1])[0]\n",
    "    sarimax_forecast_one_step_refit.append(next_step_forecast)\n",
    "    sarimax.update(test_power.to_frame()[i:i+1], exogenous=test_exog.to_frame()[i:i+1])\n",
    "\n",
    "print(np.round(sarimax_forecast_one_step_refit, 1))\n"
   ]
  },
  {
   "cell_type": "markdown",
   "metadata": {},
   "source": [
    "Let's try linear regression"
   ]
  },
  {
   "cell_type": "code",
   "execution_count": null,
   "metadata": {},
   "outputs": [],
   "source": [
    "predictions = predict_n_periods(series_=train_power.to_frame(), \n",
    "                  n_periods=len(test_power.to_frame()), \n",
    "                  model=LinearRegression(), \n",
    "                  holidays= False, \n",
    "                  month= False,\n",
    "                  num_periods_diffed= 0,\n",
    "                  num_periods_lagged= 5, \n",
    "                  rolling= [], \n",
    "                  weekday= False,\n",
    "                  target=\"power\"\n",
    "                  )"
   ]
  },
  {
   "cell_type": "code",
   "execution_count": null,
   "metadata": {},
   "outputs": [],
   "source": [
    "predictions"
   ]
  },
  {
   "cell_type": "code",
   "execution_count": null,
   "metadata": {},
   "outputs": [],
   "source": [
    "mean_absolute_error(test_power.to_frame(),predictions)"
   ]
  },
  {
   "cell_type": "code",
   "execution_count": null,
   "metadata": {},
   "outputs": [],
   "source": [
    "plt.plot(test_power.to_frame()[\"power\"], label='original')\n",
    "plt.plot(predictions, label='shift')\n",
    "plt.xlabel('Time')\n",
    "plt.title('Power per hour')\n",
    "plt.legend()\n",
    "plt.show()"
   ]
  },
  {
   "cell_type": "markdown",
   "metadata": {},
   "source": [
    "Let's try gradient boosting regressor"
   ]
  },
  {
   "cell_type": "code",
   "execution_count": null,
   "metadata": {},
   "outputs": [],
   "source": [
    "predictions = predict_n_periods(series_=train_power.to_frame(), \n",
    "                  n_periods=len(test_power.to_frame()), \n",
    "                  model=GradientBoostingRegressor(n_estimators=20, random_state=10), \n",
    "                  holidays= False, \n",
    "                  month= False,\n",
    "                  num_periods_diffed= 0,\n",
    "                  num_periods_lagged= 5, \n",
    "                  rolling= [], \n",
    "                  weekday= False,\n",
    "                  target=\"power\"\n",
    "                  )"
   ]
  },
  {
   "cell_type": "code",
   "execution_count": null,
   "metadata": {},
   "outputs": [],
   "source": [
    "mean_absolute_error(test_power.to_frame(),predictions)"
   ]
  },
  {
   "cell_type": "code",
   "execution_count": null,
   "metadata": {},
   "outputs": [],
   "source": [
    "predictions = predict_n_periods(series_=train_power.to_frame(), \n",
    "                  n_periods=len(val_power.to_frame()), \n",
    "                  model=GradientBoostingRegressor(n_estimators=20, random_state=10), \n",
    "                  holidays= False, \n",
    "                  month= True,\n",
    "                  num_periods_diffed= 0,\n",
    "                  num_periods_lagged= 5, \n",
    "                  rolling= [], \n",
    "                  weekday= False,\n",
    "                  target=\"power\"\n",
    "                  )"
   ]
  },
  {
   "cell_type": "code",
   "execution_count": null,
   "metadata": {},
   "outputs": [],
   "source": [
    "mean_absolute_error(val_power.to_frame(),predictions)"
   ]
  },
  {
   "cell_type": "code",
   "execution_count": null,
   "metadata": {},
   "outputs": [],
   "source": [
    "predictions_with_index = pd.Series(predictions, index=val_power.index)\n",
    "predictions_with_index"
   ]
  },
  {
   "cell_type": "code",
   "execution_count": null,
   "metadata": {},
   "outputs": [],
   "source": [
    "plt.figure(figsize=(10, 6))\n",
    "plt.plot(val_power.index, val_power.values, label='Actual Values', color='blue')\n",
    "plt.plot(predictions_with_index.index, predictions_with_index.values, label='Predictions', color='red')\n",
    "plt.title('Actual vs Predicted Values')\n",
    "plt.xlabel('Date')\n",
    "plt.ylabel('Power')\n",
    "plt.legend()\n",
    "plt.show()"
   ]
  },
  {
   "cell_type": "code",
   "execution_count": null,
   "metadata": {},
   "outputs": [],
   "source": [
    "predictions = predict_n_periods(series_=train_power.to_frame(), \n",
    "                  n_periods=len(val_power.to_frame()), \n",
    "                  model=GradientBoostingRegressor(n_estimators=20, random_state=10), \n",
    "                  holidays= False, \n",
    "                  month= True,\n",
    "                  num_periods_diffed= 0,\n",
    "                  num_periods_lagged= 10, \n",
    "                  rolling= [], \n",
    "                  weekday= False,\n",
    "                  target=\"power\"\n",
    "                  )"
   ]
  },
  {
   "cell_type": "code",
   "execution_count": null,
   "metadata": {},
   "outputs": [],
   "source": [
    "mean_absolute_error(val_power.to_frame(),predictions)"
   ]
  },
  {
   "cell_type": "code",
   "execution_count": null,
   "metadata": {},
   "outputs": [],
   "source": [
    "predictions_with_index = pd.Series(predictions, index=val_power.index)\n",
    "predictions_with_index"
   ]
  },
  {
   "cell_type": "code",
   "execution_count": null,
   "metadata": {},
   "outputs": [],
   "source": [
    "plt.figure(figsize=(10, 6))\n",
    "plt.plot(val_power.index, val_power.values, label='Actual Values', color='blue')\n",
    "plt.plot(predictions_with_index.index, predictions_with_index.values, label='Predictions', color='red')\n",
    "plt.title('Actual vs Predicted Values')\n",
    "plt.xlabel('Date')\n",
    "plt.ylabel('Power')\n",
    "plt.legend()\n",
    "plt.show()"
   ]
  },
  {
   "cell_type": "code",
   "execution_count": null,
   "metadata": {},
   "outputs": [],
   "source": [
    "predictions = predict_n_periods(series_=train, \n",
    "                  n_periods=len(val), \n",
    "                  model=GradientBoostingRegressor(n_estimators=20, random_state=10), \n",
    "                  holidays= False, \n",
    "                  month= True,\n",
    "                  num_periods_diffed= 5,\n",
    "                  num_periods_lagged= 5, \n",
    "                  rolling= [], \n",
    "                  weekday= False,\n",
    "                  target=\"power\"\n",
    "                  )"
   ]
  },
  {
   "cell_type": "code",
   "execution_count": null,
   "metadata": {},
   "outputs": [],
   "source": [
    "mean_absolute_error(val_power.to_frame(),predictions)"
   ]
  },
  {
   "cell_type": "code",
   "execution_count": null,
   "metadata": {},
   "outputs": [],
   "source": [
    "predictions_with_index = pd.Series(predictions, index=val_power.index)\n",
    "predictions_with_index"
   ]
  },
  {
   "cell_type": "code",
   "execution_count": null,
   "metadata": {},
   "outputs": [],
   "source": [
    "plt.figure(figsize=(10, 6))\n",
    "plt.plot(val_power.index, val_power.values, label='Actual Values', color='blue')\n",
    "plt.plot(predictions_with_index.index, predictions_with_index.values, label='Predictions', color='red')\n",
    "plt.title('Actual vs Predicted Values')\n",
    "plt.xlabel('Date')\n",
    "plt.ylabel('Power')\n",
    "plt.legend()\n",
    "plt.show()"
   ]
  },
  {
   "cell_type": "code",
   "execution_count": null,
   "metadata": {},
   "outputs": [],
   "source": [
    "from sklearn.ensemble import GradientBoostingRegressor, RandomForestRegressor\n",
    "from sklearn.svm import SVR\n",
    "from sklearn.model_selection import ParameterGrid\n",
    "\n",
    "param_grid = {\n",
    "    'model': [LinearRegression(), GradientBoostingRegressor(n_estimators=20, random_state=10), RandomForestRegressor(n_estimators=20, random_state=10), SVR()],\n",
    "    'num_periods_lagged': [3, 7, 14, 26],\n",
    "    'num_periods_diffed': [0, 1, 7, 15],\n",
    "    'weekday': [False],\n",
    "    'month': [True, False],\n",
    "    'holidays': [False],\n",
    "    'rolling': [[]]  # Empty list as we don't want rollings\n",
    "}\n",
    "\n",
    "\n",
    "grid = ParameterGrid(param_grid)\n",
    "\n",
    "error_lst = []\n",
    "\n",
    "for params in tqdm(grid):\n",
    "   predictions = predict_n_periods(series_=train_power.to_frame(), \n",
    "                     n_periods=len(val_power.to_frame()), \n",
    "                     model=params['model'], \n",
    "                     num_periods_lagged=params['num_periods_lagged'],\n",
    "                     num_periods_diffed=params['num_periods_diffed'],\n",
    "                     weekday=params['weekday'],\n",
    "                     month=params['month'],\n",
    "                     rolling=params['rolling'],\n",
    "                     target=\"power\"\n",
    "                   )\n",
    "\n",
    "   error_lst.append(mean_absolute_error(val_power.to_frame(),predictions))\n",
    "\n",
    "    \n",
    "best_params_index = pd.Series(error_lst).idxmin()\n",
    "best_params = list(grid)[best_params_index]\n",
    "#best_params = list(grid)[0]\n",
    "\n",
    "print(\"Best parameters:\", best_params)"
   ]
  },
  {
   "cell_type": "code",
   "execution_count": null,
   "metadata": {},
   "outputs": [],
   "source": [
    "predictions = predict_n_periods(series_=train_power.to_frame(), \n",
    "                  n_periods=len(val_power.to_frame()), \n",
    "                  model=LinearRegression(), \n",
    "                  holidays= False, \n",
    "                  month= False,\n",
    "                  num_periods_diffed= 0,\n",
    "                  num_periods_lagged= 3, \n",
    "                  rolling= [], \n",
    "                  weekday= False,\n",
    "                  target=\"wp\"\n",
    "                  )\n",
    "val_mae = mean_absolute_error(val_power.to_frame(),predictions)\n",
    "val_mae"
   ]
  }
 ],
 "metadata": {
  "kernelspec": {
   "display_name": "Python 3 (ipykernel)",
   "language": "python",
   "name": "python3"
  },
  "language_info": {
   "codemirror_mode": {
    "name": "ipython",
    "version": 3
   },
   "file_extension": ".py",
   "mimetype": "text/x-python",
   "name": "python",
   "nbconvert_exporter": "python",
   "pygments_lexer": "ipython3",
   "version": "3.10.6"
  },
  "toc": {
   "base_numbering": 1,
   "nav_menu": {},
   "number_sections": true,
   "sideBar": true,
   "skip_h1_title": false,
   "title_cell": "Table of Contents",
   "title_sidebar": "Contents",
   "toc_cell": false,
   "toc_position": {},
   "toc_section_display": true,
   "toc_window_display": false
  }
 },
 "nbformat": 4,
 "nbformat_minor": 2
}
