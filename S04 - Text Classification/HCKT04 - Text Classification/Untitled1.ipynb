{
 "cells": [
  {
   "cell_type": "code",
   "execution_count": 1,
   "id": "f505f94c",
   "metadata": {
    "ExecuteTime": {
     "end_time": "2024-04-07T15:41:59.116985Z",
     "start_time": "2024-04-07T15:41:58.896423Z"
    }
   },
   "outputs": [],
   "source": [
    "import pandas as pd"
   ]
  },
  {
   "cell_type": "code",
   "execution_count": null,
   "id": "6d102d47",
   "metadata": {},
   "outputs": [],
   "source": []
  },
  {
   "cell_type": "code",
   "execution_count": null,
   "id": "5c4a6a9b",
   "metadata": {},
   "outputs": [],
   "source": []
  },
  {
   "cell_type": "code",
   "execution_count": 2,
   "id": "970714d2",
   "metadata": {
    "ExecuteTime": {
     "end_time": "2024-04-07T15:42:00.675251Z",
     "start_time": "2024-04-07T15:42:00.317218Z"
    }
   },
   "outputs": [],
   "source": [
    "data= pd.read_csv(\"data/train.csv\")"
   ]
  },
  {
   "cell_type": "code",
   "execution_count": 3,
   "id": "5a342ed6",
   "metadata": {
    "ExecuteTime": {
     "end_time": "2024-04-07T16:12:16.282647Z",
     "start_time": "2024-04-07T15:42:20.484605Z"
    }
   },
   "outputs": [
    {
     "name": "stderr",
     "output_type": "stream",
     "text": [
      "[nltk_data] Downloading package vader_lexicon to\n",
      "[nltk_data]     /Users/carmensc/nltk_data...\n"
     ]
    },
    {
     "ename": "KeyboardInterrupt",
     "evalue": "",
     "output_type": "error",
     "traceback": [
      "\u001b[0;31m---------------------------------------------------------------------------\u001b[0m",
      "\u001b[0;31mKeyboardInterrupt\u001b[0m                         Traceback (most recent call last)",
      "Cell \u001b[0;32mIn[3], line 35\u001b[0m\n\u001b[1;32m     33\u001b[0m sia \u001b[38;5;241m=\u001b[39m SentimentIntensityAnalyzer()\n\u001b[1;32m     34\u001b[0m pop_sentiment \u001b[38;5;241m=\u001b[39m sia\u001b[38;5;241m.\u001b[39mpolarity_scores(combined_pop_lyrics)\n\u001b[0;32m---> 35\u001b[0m rock_sentiment \u001b[38;5;241m=\u001b[39m \u001b[43msia\u001b[49m\u001b[38;5;241;43m.\u001b[39;49m\u001b[43mpolarity_scores\u001b[49m\u001b[43m(\u001b[49m\u001b[43mcombined_rock_lyrics\u001b[49m\u001b[43m)\u001b[49m\n\u001b[1;32m     37\u001b[0m pop_word_freq_dict, rock_word_freq_dict, pop_lexical_diversity, rock_lexical_diversity, pop_sentiment, rock_sentiment\n",
      "File \u001b[0;32m~/.pyenv/versions/S04_BLU09/lib/python3.10/site-packages/nltk/sentiment/vader.py:373\u001b[0m, in \u001b[0;36mSentimentIntensityAnalyzer.polarity_scores\u001b[0;34m(self, text)\u001b[0m\n\u001b[1;32m    371\u001b[0m \u001b[38;5;28;01mfor\u001b[39;00m item \u001b[38;5;129;01min\u001b[39;00m words_and_emoticons:\n\u001b[1;32m    372\u001b[0m     valence \u001b[38;5;241m=\u001b[39m \u001b[38;5;241m0\u001b[39m\n\u001b[0;32m--> 373\u001b[0m     i \u001b[38;5;241m=\u001b[39m \u001b[43mwords_and_emoticons\u001b[49m\u001b[38;5;241;43m.\u001b[39;49m\u001b[43mindex\u001b[49m\u001b[43m(\u001b[49m\u001b[43mitem\u001b[49m\u001b[43m)\u001b[49m\n\u001b[1;32m    374\u001b[0m     \u001b[38;5;28;01mif\u001b[39;00m (\n\u001b[1;32m    375\u001b[0m         i \u001b[38;5;241m<\u001b[39m \u001b[38;5;28mlen\u001b[39m(words_and_emoticons) \u001b[38;5;241m-\u001b[39m \u001b[38;5;241m1\u001b[39m\n\u001b[1;32m    376\u001b[0m         \u001b[38;5;129;01mand\u001b[39;00m item\u001b[38;5;241m.\u001b[39mlower() \u001b[38;5;241m==\u001b[39m \u001b[38;5;124m\"\u001b[39m\u001b[38;5;124mkind\u001b[39m\u001b[38;5;124m\"\u001b[39m\n\u001b[1;32m    377\u001b[0m         \u001b[38;5;129;01mand\u001b[39;00m words_and_emoticons[i \u001b[38;5;241m+\u001b[39m \u001b[38;5;241m1\u001b[39m]\u001b[38;5;241m.\u001b[39mlower() \u001b[38;5;241m==\u001b[39m \u001b[38;5;124m\"\u001b[39m\u001b[38;5;124mof\u001b[39m\u001b[38;5;124m\"\u001b[39m\n\u001b[1;32m    378\u001b[0m     ) \u001b[38;5;129;01mor\u001b[39;00m item\u001b[38;5;241m.\u001b[39mlower() \u001b[38;5;129;01min\u001b[39;00m \u001b[38;5;28mself\u001b[39m\u001b[38;5;241m.\u001b[39mconstants\u001b[38;5;241m.\u001b[39mBOOSTER_DICT:\n\u001b[1;32m    379\u001b[0m         sentiments\u001b[38;5;241m.\u001b[39mappend(valence)\n",
      "\u001b[0;31mKeyboardInterrupt\u001b[0m: "
     ]
    }
   ],
   "source": [
    "from sklearn.feature_extraction.text import CountVectorizer, TfidfVectorizer\n",
    "from nltk.sentiment import SentimentIntensityAnalyzer\n",
    "import nltk\n",
    "\n",
    "# Ensure that necessary NLTK resources are downloaded\n",
    "nltk.download('vader_lexicon')\n",
    "\n",
    "# Filter the dataset for Pop and Rock songs\n",
    "pop_lyrics = data[data['Genre'] == 'Pop']['Lyrics']\n",
    "rock_lyrics = data[data['Genre'] == 'Rock']['Lyrics']\n",
    "\n",
    "# Combine all lyrics for each genre into a single text for analysis\n",
    "combined_pop_lyrics = \" \".join(pop_lyrics)\n",
    "combined_rock_lyrics = \" \".join(rock_lyrics)\n",
    "\n",
    "# Word frequency analysis using CountVectorizer\n",
    "vectorizer = CountVectorizer(stop_words='english', max_features=100)\n",
    "pop_word_freq = vectorizer.fit_transform(pop_lyrics)\n",
    "rock_word_freq = vectorizer.fit_transform(rock_lyrics)\n",
    "\n",
    "# Get feature names and sum up word counts\n",
    "pop_words_sum = pop_word_freq.sum(axis=0)\n",
    "rock_words_sum = rock_word_freq.sum(axis=0)\n",
    "\n",
    "pop_word_freq_dict = {word: pop_words_sum[0, idx] for word, idx in vectorizer.vocabulary_.items()}\n",
    "rock_word_freq_dict = {word: rock_words_sum[0, idx] for word, idx in vectorizer.vocabulary_.items()}\n",
    "\n",
    "# Lexical diversity calculation (type-token ratio)\n",
    "pop_lexical_diversity = len(set(combined_pop_lyrics.split())) / len(combined_pop_lyrics.split())\n",
    "rock_lexical_diversity = len(set(combined_rock_lyrics.split())) / len(combined_rock_lyrics.split())\n",
    "\n",
    "# Sentiment analysis\n",
    "sia = SentimentIntensityAnalyzer()\n",
    "pop_sentiment = sia.polarity_scores(combined_pop_lyrics)\n",
    "rock_sentiment = sia.polarity_scores(combined_rock_lyrics)\n",
    "\n",
    "pop_word_freq_dict, rock_word_freq_dict, pop_lexical_diversity, rock_lexical_diversity, pop_sentiment, rock_sentiment\n"
   ]
  },
  {
   "cell_type": "code",
   "execution_count": null,
   "id": "e4ded924",
   "metadata": {},
   "outputs": [],
   "source": []
  }
 ],
 "metadata": {
  "kernelspec": {
   "display_name": "Python 3 (ipykernel)",
   "language": "python",
   "name": "python3"
  },
  "language_info": {
   "codemirror_mode": {
    "name": "ipython",
    "version": 3
   },
   "file_extension": ".py",
   "mimetype": "text/x-python",
   "name": "python",
   "nbconvert_exporter": "python",
   "pygments_lexer": "ipython3",
   "version": "3.10.6"
  },
  "toc": {
   "base_numbering": 1,
   "nav_menu": {},
   "number_sections": true,
   "sideBar": true,
   "skip_h1_title": false,
   "title_cell": "Table of Contents",
   "title_sidebar": "Contents",
   "toc_cell": false,
   "toc_position": {},
   "toc_section_display": true,
   "toc_window_display": false
  }
 },
 "nbformat": 4,
 "nbformat_minor": 5
}
