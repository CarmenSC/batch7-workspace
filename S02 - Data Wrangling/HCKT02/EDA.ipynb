{
 "cells": [
  {
   "cell_type": "code",
   "execution_count": 2,
   "id": "65c34bf8",
   "metadata": {
    "ExecuteTime": {
     "end_time": "2024-02-04T14:54:37.744067Z",
     "start_time": "2024-02-04T14:54:33.911928Z"
    }
   },
   "outputs": [],
   "source": [
    "import numpy as np\n",
    "import pandas as pd\n",
    "import matplotlib.pyplot as plt\n",
    "import seaborn as sns\n",
    "\n",
    "from pandas import read_csv, set_option\n",
    "from pandas.plotting import scatter_matrix\n",
    "\n",
    "import seaborn as sns\n",
    "\n",
    "from sklearn.preprocessing import RobustScaler\n",
    "from sklearn.model_selection import cross_validate, train_test_split, KFold, cross_val_score, GridSearchCV\n",
    "from sklearn.linear_model import LinearRegression\n",
    "\n",
    "from sklearn.discriminant_analysis import LinearDiscriminantAnalysis\n",
    "from sklearn.naive_bayes import GaussianNB\n",
    "\n",
    "from sklearn.svm import SVC\n",
    "from sklearn.neural_network import MLPClassifier\n",
    "from sklearn.pipeline import Pipeline\n",
    "from sklearn.compose import ColumnTransformer\n",
    "from sklearn.preprocessing import OneHotEncoder\n",
    "from sklearn.impute import SimpleImputer\n",
    "\n",
    "\n",
    "from sklearn.metrics import classification_report, confusion_matrix, accuracy_score\n",
    "from sklearn.metrics import mean_absolute_error as mae"
   ]
  },
  {
   "cell_type": "code",
   "execution_count": 3,
   "id": "a962d0e2",
   "metadata": {
    "ExecuteTime": {
     "end_time": "2024-02-04T14:54:38.702942Z",
     "start_time": "2024-02-04T14:54:38.686466Z"
    }
   },
   "outputs": [],
   "source": [
    "def check_data(df):\n",
    "    print(df.head())\n",
    "    print(\"\\n\")\n",
    "    print(\"SHAPE\")\n",
    "    print(df.shape)\n",
    "    print(\"\\n\")\n",
    "    print(\"DATA TYPES\")\n",
    "    print(df.dtypes)\n",
    "    print(\"\\n\")\n",
    "    print(\"UNIQUE VALUES\")\n",
    "    print(df.nunique())\n",
    "    print(\"\\n\")\n",
    "    print(\"MISSING VALUES\")\n",
    "    print(df.isna().sum())"
   ]
  },
  {
   "cell_type": "code",
   "execution_count": 4,
   "id": "42b54bb4",
   "metadata": {
    "ExecuteTime": {
     "end_time": "2024-02-04T14:54:42.295577Z",
     "start_time": "2024-02-04T14:54:42.244744Z"
    }
   },
   "outputs": [],
   "source": [
    "df = pd.read_csv('data/full_data.csv')"
   ]
  },
  {
   "cell_type": "code",
   "execution_count": 5,
   "id": "51ac5d3f",
   "metadata": {
    "ExecuteTime": {
     "end_time": "2024-02-04T14:54:46.908962Z",
     "start_time": "2024-02-04T14:54:46.858442Z"
    }
   },
   "outputs": [
    {
     "data": {
      "text/html": [
       "<div>\n",
       "<style scoped>\n",
       "    .dataframe tbody tr th:only-of-type {\n",
       "        vertical-align: middle;\n",
       "    }\n",
       "\n",
       "    .dataframe tbody tr th {\n",
       "        vertical-align: top;\n",
       "    }\n",
       "\n",
       "    .dataframe thead th {\n",
       "        text-align: right;\n",
       "    }\n",
       "</style>\n",
       "<table border=\"1\" class=\"dataframe\">\n",
       "  <thead>\n",
       "    <tr style=\"text-align: right;\">\n",
       "      <th></th>\n",
       "      <th>timestamp</th>\n",
       "      <th>prcp</th>\n",
       "      <th>pres</th>\n",
       "      <th>rhum</th>\n",
       "      <th>season</th>\n",
       "      <th>temp</th>\n",
       "      <th>wdir</th>\n",
       "      <th>weco</th>\n",
       "      <th>wspd</th>\n",
       "      <th>count</th>\n",
       "    </tr>\n",
       "  </thead>\n",
       "  <tbody>\n",
       "    <tr>\n",
       "      <th>0</th>\n",
       "      <td>1.617340e+09</td>\n",
       "      <td>0.0</td>\n",
       "      <td>1029.4</td>\n",
       "      <td>84.0</td>\n",
       "      <td>spring</td>\n",
       "      <td>3.0</td>\n",
       "      <td>33.0</td>\n",
       "      <td>fair</td>\n",
       "      <td>14.8</td>\n",
       "      <td>19</td>\n",
       "    </tr>\n",
       "    <tr>\n",
       "      <th>1</th>\n",
       "      <td>1.617343e+09</td>\n",
       "      <td>0.0</td>\n",
       "      <td>1029.5</td>\n",
       "      <td>81.0</td>\n",
       "      <td>spring</td>\n",
       "      <td>3.6</td>\n",
       "      <td>36.0</td>\n",
       "      <td>fair</td>\n",
       "      <td>16.7</td>\n",
       "      <td>60</td>\n",
       "    </tr>\n",
       "    <tr>\n",
       "      <th>2</th>\n",
       "      <td>1.617347e+09</td>\n",
       "      <td>0.0</td>\n",
       "      <td>1029.7</td>\n",
       "      <td>NaN</td>\n",
       "      <td>spring</td>\n",
       "      <td>4.6</td>\n",
       "      <td>39.0</td>\n",
       "      <td>fair</td>\n",
       "      <td>18.5</td>\n",
       "      <td>82</td>\n",
       "    </tr>\n",
       "    <tr>\n",
       "      <th>3</th>\n",
       "      <td>1.617350e+09</td>\n",
       "      <td>0.0</td>\n",
       "      <td>1029.9</td>\n",
       "      <td>71.0</td>\n",
       "      <td>spring</td>\n",
       "      <td>5.8</td>\n",
       "      <td>44.0</td>\n",
       "      <td>fair</td>\n",
       "      <td>20.4</td>\n",
       "      <td>82</td>\n",
       "    </tr>\n",
       "    <tr>\n",
       "      <th>4</th>\n",
       "      <td>1.617354e+09</td>\n",
       "      <td>0.0</td>\n",
       "      <td>1030.1</td>\n",
       "      <td>NaN</td>\n",
       "      <td>spring</td>\n",
       "      <td>6.7</td>\n",
       "      <td>43.0</td>\n",
       "      <td>cloudy</td>\n",
       "      <td>20.4</td>\n",
       "      <td>17</td>\n",
       "    </tr>\n",
       "  </tbody>\n",
       "</table>\n",
       "</div>"
      ],
      "text/plain": [
       "      timestamp  prcp    pres  rhum  season  temp  wdir    weco  wspd  count\n",
       "0  1.617340e+09   0.0  1029.4  84.0  spring   3.0  33.0    fair  14.8     19\n",
       "1  1.617343e+09   0.0  1029.5  81.0  spring   3.6  36.0    fair  16.7     60\n",
       "2  1.617347e+09   0.0  1029.7   NaN  spring   4.6  39.0    fair  18.5     82\n",
       "3  1.617350e+09   0.0  1029.9  71.0  spring   5.8  44.0    fair  20.4     82\n",
       "4  1.617354e+09   0.0  1030.1   NaN  spring   6.7  43.0  cloudy  20.4     17"
      ]
     },
     "execution_count": 5,
     "metadata": {},
     "output_type": "execute_result"
    }
   ],
   "source": [
    "df.head()"
   ]
  },
  {
   "cell_type": "code",
   "execution_count": 6,
   "id": "9bcb12ea",
   "metadata": {
    "ExecuteTime": {
     "end_time": "2024-02-04T14:54:48.514363Z",
     "start_time": "2024-02-04T14:54:48.418693Z"
    }
   },
   "outputs": [
    {
     "data": {
      "text/html": [
       "<div>\n",
       "<style scoped>\n",
       "    .dataframe tbody tr th:only-of-type {\n",
       "        vertical-align: middle;\n",
       "    }\n",
       "\n",
       "    .dataframe tbody tr th {\n",
       "        vertical-align: top;\n",
       "    }\n",
       "\n",
       "    .dataframe thead th {\n",
       "        text-align: right;\n",
       "    }\n",
       "</style>\n",
       "<table border=\"1\" class=\"dataframe\">\n",
       "  <thead>\n",
       "    <tr style=\"text-align: right;\">\n",
       "      <th></th>\n",
       "      <th>timestamp</th>\n",
       "      <th>prcp</th>\n",
       "      <th>pres</th>\n",
       "      <th>rhum</th>\n",
       "      <th>temp</th>\n",
       "      <th>wdir</th>\n",
       "      <th>wspd</th>\n",
       "      <th>count</th>\n",
       "    </tr>\n",
       "  </thead>\n",
       "  <tbody>\n",
       "    <tr>\n",
       "      <th>count</th>\n",
       "      <td>1.568400e+04</td>\n",
       "      <td>15684.000000</td>\n",
       "      <td>15684.000000</td>\n",
       "      <td>6261.000000</td>\n",
       "      <td>15684.000000</td>\n",
       "      <td>15684.000000</td>\n",
       "      <td>15684.000000</td>\n",
       "      <td>15684.000000</td>\n",
       "    </tr>\n",
       "    <tr>\n",
       "      <th>mean</th>\n",
       "      <td>1.657697e+09</td>\n",
       "      <td>0.071844</td>\n",
       "      <td>1016.419702</td>\n",
       "      <td>79.302508</td>\n",
       "      <td>11.794313</td>\n",
       "      <td>192.502040</td>\n",
       "      <td>14.043210</td>\n",
       "      <td>885.917304</td>\n",
       "    </tr>\n",
       "    <tr>\n",
       "      <th>std</th>\n",
       "      <td>2.338653e+07</td>\n",
       "      <td>0.318425</td>\n",
       "      <td>10.318900</td>\n",
       "      <td>15.069716</td>\n",
       "      <td>6.159160</td>\n",
       "      <td>96.061583</td>\n",
       "      <td>6.485885</td>\n",
       "      <td>4445.471671</td>\n",
       "    </tr>\n",
       "    <tr>\n",
       "      <th>min</th>\n",
       "      <td>1.617340e+09</td>\n",
       "      <td>0.000000</td>\n",
       "      <td>976.100000</td>\n",
       "      <td>20.000000</td>\n",
       "      <td>-5.600000</td>\n",
       "      <td>1.000000</td>\n",
       "      <td>1.800000</td>\n",
       "      <td>0.000000</td>\n",
       "    </tr>\n",
       "    <tr>\n",
       "      <th>25%</th>\n",
       "      <td>1.637322e+09</td>\n",
       "      <td>0.000000</td>\n",
       "      <td>1010.200000</td>\n",
       "      <td>70.000000</td>\n",
       "      <td>7.400000</td>\n",
       "      <td>116.000000</td>\n",
       "      <td>9.300000</td>\n",
       "      <td>0.000000</td>\n",
       "    </tr>\n",
       "    <tr>\n",
       "      <th>50%</th>\n",
       "      <td>1.657813e+09</td>\n",
       "      <td>0.000000</td>\n",
       "      <td>1017.100000</td>\n",
       "      <td>84.000000</td>\n",
       "      <td>11.800000</td>\n",
       "      <td>214.000000</td>\n",
       "      <td>13.000000</td>\n",
       "      <td>0.000000</td>\n",
       "    </tr>\n",
       "    <tr>\n",
       "      <th>75%</th>\n",
       "      <td>1.678108e+09</td>\n",
       "      <td>0.000000</td>\n",
       "      <td>1023.500000</td>\n",
       "      <td>91.000000</td>\n",
       "      <td>16.000000</td>\n",
       "      <td>259.000000</td>\n",
       "      <td>18.400000</td>\n",
       "      <td>109.000000</td>\n",
       "    </tr>\n",
       "    <tr>\n",
       "      <th>max</th>\n",
       "      <td>1.698005e+09</td>\n",
       "      <td>6.000000</td>\n",
       "      <td>1046.500000</td>\n",
       "      <td>100.000000</td>\n",
       "      <td>35.500000</td>\n",
       "      <td>360.000000</td>\n",
       "      <td>61.100000</td>\n",
       "      <td>95848.000000</td>\n",
       "    </tr>\n",
       "  </tbody>\n",
       "</table>\n",
       "</div>"
      ],
      "text/plain": [
       "          timestamp          prcp          pres         rhum          temp  \\\n",
       "count  1.568400e+04  15684.000000  15684.000000  6261.000000  15684.000000   \n",
       "mean   1.657697e+09      0.071844   1016.419702    79.302508     11.794313   \n",
       "std    2.338653e+07      0.318425     10.318900    15.069716      6.159160   \n",
       "min    1.617340e+09      0.000000    976.100000    20.000000     -5.600000   \n",
       "25%    1.637322e+09      0.000000   1010.200000    70.000000      7.400000   \n",
       "50%    1.657813e+09      0.000000   1017.100000    84.000000     11.800000   \n",
       "75%    1.678108e+09      0.000000   1023.500000    91.000000     16.000000   \n",
       "max    1.698005e+09      6.000000   1046.500000   100.000000     35.500000   \n",
       "\n",
       "               wdir          wspd         count  \n",
       "count  15684.000000  15684.000000  15684.000000  \n",
       "mean     192.502040     14.043210    885.917304  \n",
       "std       96.061583      6.485885   4445.471671  \n",
       "min        1.000000      1.800000      0.000000  \n",
       "25%      116.000000      9.300000      0.000000  \n",
       "50%      214.000000     13.000000      0.000000  \n",
       "75%      259.000000     18.400000    109.000000  \n",
       "max      360.000000     61.100000  95848.000000  "
      ]
     },
     "execution_count": 6,
     "metadata": {},
     "output_type": "execute_result"
    }
   ],
   "source": [
    "df.describe()"
   ]
  },
  {
   "cell_type": "code",
   "execution_count": 7,
   "id": "20eb1ee6",
   "metadata": {
    "ExecuteTime": {
     "end_time": "2024-02-04T14:54:50.534574Z",
     "start_time": "2024-02-04T14:54:50.491953Z"
    }
   },
   "outputs": [
    {
     "name": "stdout",
     "output_type": "stream",
     "text": [
      "      timestamp  prcp    pres  rhum  season  temp  wdir    weco  wspd  count\n",
      "0  1.617340e+09   0.0  1029.4  84.0  spring   3.0  33.0    fair  14.8     19\n",
      "1  1.617343e+09   0.0  1029.5  81.0  spring   3.6  36.0    fair  16.7     60\n",
      "2  1.617347e+09   0.0  1029.7   NaN  spring   4.6  39.0    fair  18.5     82\n",
      "3  1.617350e+09   0.0  1029.9  71.0  spring   5.8  44.0    fair  20.4     82\n",
      "4  1.617354e+09   0.0  1030.1   NaN  spring   6.7  43.0  cloudy  20.4     17\n",
      "\n",
      "\n",
      "SHAPE\n",
      "(15684, 10)\n",
      "\n",
      "\n",
      "DATA TYPES\n",
      "timestamp    float64\n",
      "prcp         float64\n",
      "pres         float64\n",
      "rhum         float64\n",
      "season        object\n",
      "temp         float64\n",
      "wdir         float64\n",
      "weco          object\n",
      "wspd         float64\n",
      "count          int64\n",
      "dtype: object\n",
      "\n",
      "\n",
      "UNIQUE VALUES\n",
      "timestamp    15684\n",
      "prcp            51\n",
      "pres           640\n",
      "rhum            78\n",
      "season           4\n",
      "temp           377\n",
      "wdir           360\n",
      "weco            15\n",
      "wspd            43\n",
      "count         2225\n",
      "dtype: int64\n",
      "\n",
      "\n",
      "MISSING VALUES\n",
      "timestamp       0\n",
      "prcp            0\n",
      "pres            0\n",
      "rhum         9423\n",
      "season          0\n",
      "temp            0\n",
      "wdir            0\n",
      "weco          159\n",
      "wspd            0\n",
      "count           0\n",
      "dtype: int64\n"
     ]
    }
   ],
   "source": [
    "check_data(df)"
   ]
  },
  {
   "cell_type": "code",
   "execution_count": 8,
   "id": "1f876b5a",
   "metadata": {
    "ExecuteTime": {
     "end_time": "2024-02-04T14:54:55.604152Z",
     "start_time": "2024-02-04T14:54:55.563263Z"
    }
   },
   "outputs": [
    {
     "data": {
      "text/plain": [
       "Index(['timestamp', 'prcp', 'pres', 'rhum', 'season', 'temp', 'wdir', 'weco',\n",
       "       'wspd', 'count'],\n",
       "      dtype='object')"
      ]
     },
     "execution_count": 8,
     "metadata": {},
     "output_type": "execute_result"
    }
   ],
   "source": [
    "df.columns"
   ]
  },
  {
   "cell_type": "code",
   "execution_count": 12,
   "id": "78ea6aca",
   "metadata": {
    "ExecuteTime": {
     "end_time": "2024-02-04T14:56:47.634064Z",
     "start_time": "2024-02-04T14:56:47.624139Z"
    }
   },
   "outputs": [],
   "source": [
    "dataset = df"
   ]
  },
  {
   "cell_type": "code",
   "execution_count": 13,
   "id": "120998a3",
   "metadata": {
    "ExecuteTime": {
     "end_time": "2024-02-04T14:56:48.562957Z",
     "start_time": "2024-02-04T14:56:48.535869Z"
    }
   },
   "outputs": [
    {
     "name": "stdout",
     "output_type": "stream",
     "text": [
      "Null Values = True\n",
      "Null Values = False\n"
     ]
    }
   ],
   "source": [
    "#Checking for any null values and removing the null values'''\n",
    "print('Null Values =', dataset.isnull().values.any())\n",
    "\n",
    "#dataset[dataset.columns.values] = dataset[dataset.columns.values].ffill()\n",
    "#remove the rows with null values\n",
    "dataset = dataset.dropna()\n",
    "\n",
    "#dataset=dataset.drop(columns=['Timestamp'])\n",
    "\n",
    "print('Null Values =', dataset.isnull().values.any())"
   ]
  },
  {
   "cell_type": "code",
   "execution_count": null,
   "id": "9b479ca8",
   "metadata": {},
   "outputs": [],
   "source": []
  },
  {
   "cell_type": "code",
   "execution_count": null,
   "id": "da7840d0",
   "metadata": {},
   "outputs": [],
   "source": []
  },
  {
   "cell_type": "code",
   "execution_count": 12,
   "id": "1e1cc06e",
   "metadata": {
    "ExecuteTime": {
     "end_time": "2024-02-04T13:08:12.280438Z",
     "start_time": "2024-02-04T13:08:12.236647Z"
    }
   },
   "outputs": [],
   "source": [
    "df.set_index('timestamp', inplace=True)"
   ]
  },
  {
   "cell_type": "code",
   "execution_count": 21,
   "id": "f0f75330",
   "metadata": {
    "ExecuteTime": {
     "end_time": "2024-02-04T15:59:55.493792Z",
     "start_time": "2024-02-04T15:59:52.703463Z"
    }
   },
   "outputs": [
    {
     "data": {
      "image/png": "[encoded data removed]",
      "text/plain": [
       "<Figure size 1200x600 with 1 Axes>"
      ]
     },
     "metadata": {},
     "output_type": "display_data"
    }
   ],
   "source": [
    "# Create a line plot\n",
    "plt.figure(figsize=(12, 6))\n",
    "plt.plot(df.index, df['count'], color='b')\n",
    "\n",
    "# Customize the plot\n",
    "plt.title('Count Over Time')\n",
    "plt.xlabel('Timestamp')\n",
    "plt.ylabel('Count')\n",
    "\n",
    "# Optionally, you can rotate x-axis labels for better readability\n",
    "plt.xticks(rotation=45)\n",
    "\n",
    "# Show the plot\n",
    "plt.grid(True)\n",
    "plt.tight_layout()\n",
    "plt.show()"
   ]
  },
  {
   "cell_type": "code",
   "execution_count": 14,
   "id": "e4ae2317",
   "metadata": {
    "ExecuteTime": {
     "end_time": "2024-02-04T15:00:09.845305Z",
     "start_time": "2024-02-04T15:00:06.596198Z"
    }
   },
   "outputs": [
    {
     "data": {
      "image/png": "[encoded data removed]",
      "text/plain": [
       "<Figure size 1200x1200 with 9 Axes>"
      ]
     },
     "metadata": {},
     "output_type": "display_data"
    }
   ],
   "source": [
    "# histograms\n",
    "df.hist(sharex=False, sharey=False, xlabelsize=1, ylabelsize=1, figsize=(12,12))\n",
    "plt.show()"
   ]
  },
  {
   "cell_type": "code",
   "execution_count": 16,
   "id": "ceb6760c",
   "metadata": {
    "ExecuteTime": {
     "end_time": "2024-02-04T15:01:35.481161Z",
     "start_time": "2024-02-04T15:01:35.467795Z"
    }
   },
   "outputs": [],
   "source": [
    "# Assuming df is your DataFrame\n",
    "numerical_columns = df.select_dtypes(include='number')\n"
   ]
  },
  {
   "cell_type": "code",
   "execution_count": 19,
   "id": "647297f8",
   "metadata": {
    "ExecuteTime": {
     "end_time": "2024-02-04T15:04:11.845508Z",
     "start_time": "2024-02-04T15:04:08.961606Z"
    }
   },
   "outputs": [
    {
     "data": {
      "text/plain": [
       "<Axes: title={'center': 'Correlation Matrix'}>"
      ]
     },
     "execution_count": 19,
     "metadata": {},
     "output_type": "execute_result"
    },
    {
     "data": {
      "image/png": "[encoded data removed]",
      "text/plain": [
       "<Figure size 1500x1500 with 2 Axes>"
      ]
     },
     "metadata": {},
     "output_type": "display_data"
    }
   ],
   "source": [
    "# correlation\n",
    "correlation = numerical_columns.corr()\n",
    "plt.figure(figsize=(15,15))\n",
    "plt.title('Correlation Matrix')\n",
    "sns.heatmap(correlation, vmax=1, square=True,annot=True,cmap='BrBG')"
   ]
  },
  {
   "cell_type": "code",
   "execution_count": 13,
   "id": "ff4a45e4",
   "metadata": {
    "ExecuteTime": {
     "end_time": "2024-02-04T13:08:13.045911Z",
     "start_time": "2024-02-04T13:08:12.938676Z"
    }
   },
   "outputs": [
    {
     "data": {
      "text/html": [
       "<div>\n",
       "<style scoped>\n",
       "    .dataframe tbody tr th:only-of-type {\n",
       "        vertical-align: middle;\n",
       "    }\n",
       "\n",
       "    .dataframe tbody tr th {\n",
       "        vertical-align: top;\n",
       "    }\n",
       "\n",
       "    .dataframe thead th {\n",
       "        text-align: right;\n",
       "    }\n",
       "</style>\n",
       "<table border=\"1\" class=\"dataframe\">\n",
       "  <thead>\n",
       "    <tr style=\"text-align: right;\">\n",
       "      <th></th>\n",
       "      <th>count</th>\n",
       "    </tr>\n",
       "    <tr>\n",
       "      <th>timestamp</th>\n",
       "      <th></th>\n",
       "    </tr>\n",
       "  </thead>\n",
       "  <tbody>\n",
       "    <tr>\n",
       "      <th>1.617340e+09</th>\n",
       "      <td>19</td>\n",
       "    </tr>\n",
       "    <tr>\n",
       "      <th>1.617343e+09</th>\n",
       "      <td>60</td>\n",
       "    </tr>\n",
       "    <tr>\n",
       "      <th>1.617347e+09</th>\n",
       "      <td>82</td>\n",
       "    </tr>\n",
       "    <tr>\n",
       "      <th>1.617350e+09</th>\n",
       "      <td>82</td>\n",
       "    </tr>\n",
       "    <tr>\n",
       "      <th>1.617354e+09</th>\n",
       "      <td>17</td>\n",
       "    </tr>\n",
       "  </tbody>\n",
       "</table>\n",
       "</div>"
      ],
      "text/plain": [
       "              count\n",
       "timestamp          \n",
       "1.617340e+09     19\n",
       "1.617343e+09     60\n",
       "1.617347e+09     82\n",
       "1.617350e+09     82\n",
       "1.617354e+09     17"
      ]
     },
     "execution_count": 13,
     "metadata": {},
     "output_type": "execute_result"
    }
   ],
   "source": [
    "y = df[\"count\"]\n",
    "y = y.to_frame(name=\"count\")\n",
    "y.head()"
   ]
  },
  {
   "cell_type": "code",
   "execution_count": 49,
   "id": "355e8ecd",
   "metadata": {
    "ExecuteTime": {
     "end_time": "2024-02-04T13:42:00.331252Z",
     "start_time": "2024-02-04T13:42:00.273595Z"
    },
    "scrolled": true
   },
   "outputs": [
    {
     "data": {
      "text/plain": [
       "count\n",
       "0        10731\n",
       "12          24\n",
       "11          21\n",
       "7           19\n",
       "2           18\n",
       "         ...  \n",
       "1924         1\n",
       "1918         1\n",
       "1917         1\n",
       "1914         1\n",
       "95848        1\n",
       "Name: count, Length: 2225, dtype: int64"
      ]
     },
     "execution_count": 49,
     "metadata": {},
     "output_type": "execute_result"
    }
   ],
   "source": [
    "y.value_counts()"
   ]
  },
  {
   "cell_type": "code",
   "execution_count": 25,
   "id": "c37423e5",
   "metadata": {
    "ExecuteTime": {
     "end_time": "2024-02-04T13:21:41.149908Z",
     "start_time": "2024-02-04T13:21:41.023257Z"
    }
   },
   "outputs": [
    {
     "data": {
      "text/html": [
       "<div>\n",
       "<style scoped>\n",
       "    .dataframe tbody tr th:only-of-type {\n",
       "        vertical-align: middle;\n",
       "    }\n",
       "\n",
       "    .dataframe tbody tr th {\n",
       "        vertical-align: top;\n",
       "    }\n",
       "\n",
       "    .dataframe thead th {\n",
       "        text-align: right;\n",
       "    }\n",
       "</style>\n",
       "<table border=\"1\" class=\"dataframe\">\n",
       "  <thead>\n",
       "    <tr style=\"text-align: right;\">\n",
       "      <th></th>\n",
       "      <th>prcp</th>\n",
       "      <th>pres</th>\n",
       "      <th>season</th>\n",
       "      <th>temp</th>\n",
       "      <th>wdir</th>\n",
       "      <th>weco</th>\n",
       "      <th>wspd</th>\n",
       "    </tr>\n",
       "    <tr>\n",
       "      <th>timestamp</th>\n",
       "      <th></th>\n",
       "      <th></th>\n",
       "      <th></th>\n",
       "      <th></th>\n",
       "      <th></th>\n",
       "      <th></th>\n",
       "      <th></th>\n",
       "    </tr>\n",
       "  </thead>\n",
       "  <tbody>\n",
       "    <tr>\n",
       "      <th>1.617340e+09</th>\n",
       "      <td>0.0</td>\n",
       "      <td>1029.4</td>\n",
       "      <td>spring</td>\n",
       "      <td>3.0</td>\n",
       "      <td>33.0</td>\n",
       "      <td>fair</td>\n",
       "      <td>14.8</td>\n",
       "    </tr>\n",
       "    <tr>\n",
       "      <th>1.617343e+09</th>\n",
       "      <td>0.0</td>\n",
       "      <td>1029.5</td>\n",
       "      <td>spring</td>\n",
       "      <td>3.6</td>\n",
       "      <td>36.0</td>\n",
       "      <td>fair</td>\n",
       "      <td>16.7</td>\n",
       "    </tr>\n",
       "    <tr>\n",
       "      <th>1.617347e+09</th>\n",
       "      <td>0.0</td>\n",
       "      <td>1029.7</td>\n",
       "      <td>spring</td>\n",
       "      <td>4.6</td>\n",
       "      <td>39.0</td>\n",
       "      <td>fair</td>\n",
       "      <td>18.5</td>\n",
       "    </tr>\n",
       "    <tr>\n",
       "      <th>1.617350e+09</th>\n",
       "      <td>0.0</td>\n",
       "      <td>1029.9</td>\n",
       "      <td>spring</td>\n",
       "      <td>5.8</td>\n",
       "      <td>44.0</td>\n",
       "      <td>fair</td>\n",
       "      <td>20.4</td>\n",
       "    </tr>\n",
       "    <tr>\n",
       "      <th>1.617354e+09</th>\n",
       "      <td>0.0</td>\n",
       "      <td>1030.1</td>\n",
       "      <td>spring</td>\n",
       "      <td>6.7</td>\n",
       "      <td>43.0</td>\n",
       "      <td>cloudy</td>\n",
       "      <td>20.4</td>\n",
       "    </tr>\n",
       "  </tbody>\n",
       "</table>\n",
       "</div>"
      ],
      "text/plain": [
       "              prcp    pres  season  temp  wdir    weco  wspd\n",
       "timestamp                                                   \n",
       "1.617340e+09   0.0  1029.4  spring   3.0  33.0    fair  14.8\n",
       "1.617343e+09   0.0  1029.5  spring   3.6  36.0    fair  16.7\n",
       "1.617347e+09   0.0  1029.7  spring   4.6  39.0    fair  18.5\n",
       "1.617350e+09   0.0  1029.9  spring   5.8  44.0    fair  20.4\n",
       "1.617354e+09   0.0  1030.1  spring   6.7  43.0  cloudy  20.4"
      ]
     },
     "execution_count": 25,
     "metadata": {},
     "output_type": "execute_result"
    }
   ],
   "source": [
    "X = df\n",
    "X = X.drop(columns = [\"count\", 'rhum'], axis=1)\n",
    "X.head()"
   ]
  },
  {
   "cell_type": "code",
   "execution_count": 26,
   "id": "3fe03100",
   "metadata": {
    "ExecuteTime": {
     "end_time": "2024-02-04T13:21:43.636410Z",
     "start_time": "2024-02-04T13:21:43.604430Z"
    }
   },
   "outputs": [],
   "source": [
    "num_cols = ['prcp','pres', 'temp','wdir','wspd']\n",
    "cat_cols = ['season','weco']"
   ]
  },
  {
   "cell_type": "code",
   "execution_count": 27,
   "id": "25e47225",
   "metadata": {
    "ExecuteTime": {
     "end_time": "2024-02-04T13:21:44.525212Z",
     "start_time": "2024-02-04T13:21:44.494739Z"
    }
   },
   "outputs": [],
   "source": [
    "num_transformer = Pipeline(steps=[\n",
    "    ('fillna', SimpleImputer(strategy='constant', fill_value=0)),\n",
    "    ('robust_scaler', RobustScaler())\n",
    "])\n",
    "\n",
    "cat_transformer = Pipeline(steps=[\n",
    "    ('imputer', SimpleImputer(strategy='constant', fill_value='unknown')),\n",
    "    ('OHE', OneHotEncoder(handle_unknown='ignore', sparse_output=False))\n",
    "])\n",
    "\n",
    "preprocessor = ColumnTransformer(\n",
    "    transformers = [\n",
    "        ('cat_transformer', cat_transformer, cat_cols),\n",
    "        ('num_transformer', num_transformer, num_cols)\n",
    "    ]\n",
    ")\n"
   ]
  },
  {
   "cell_type": "code",
   "execution_count": 28,
   "id": "bcf41694",
   "metadata": {
    "ExecuteTime": {
     "end_time": "2024-02-04T13:21:45.755465Z",
     "start_time": "2024-02-04T13:21:45.651559Z"
    }
   },
   "outputs": [
    {
     "data": {
      "text/html": [
       "<style>#sk-container-id-2 {color: black;}#sk-container-id-2 pre{padding: 0;}#sk-container-id-2 div.sk-toggleable {background-color: white;}#sk-container-id-2 label.sk-toggleable__label {cursor: pointer;display: block;width: 100%;margin-bottom: 0;padding: 0.3em;box-sizing: border-box;text-align: center;}#sk-container-id-2 label.sk-toggleable__label-arrow:before {content: \"▸\";float: left;margin-right: 0.25em;color: #696969;}#sk-container-id-2 label.sk-toggleable__label-arrow:hover:before {color: black;}#sk-container-id-2 div.sk-estimator:hover label.sk-toggleable__label-arrow:before {color: black;}#sk-container-id-2 div.sk-toggleable__content {max-height: 0;max-width: 0;overflow: hidden;text-align: left;background-color: #f0f8ff;}#sk-container-id-2 div.sk-toggleable__content pre {margin: 0.2em;color: black;border-radius: 0.25em;background-color: #f0f8ff;}#sk-container-id-2 input.sk-toggleable__control:checked~div.sk-toggleable__content {max-height: 200px;max-width: 100%;overflow: auto;}#sk-container-id-2 input.sk-toggleable__control:checked~label.sk-toggleable__label-arrow:before {content: \"▾\";}#sk-container-id-2 div.sk-estimator input.sk-toggleable__control:checked~label.sk-toggleable__label {background-color: #d4ebff;}#sk-container-id-2 div.sk-label input.sk-toggleable__control:checked~label.sk-toggleable__label {background-color: #d4ebff;}#sk-container-id-2 input.sk-hidden--visually {border: 0;clip: rect(1px 1px 1px 1px);clip: rect(1px, 1px, 1px, 1px);height: 1px;margin: -1px;overflow: hidden;padding: 0;position: absolute;width: 1px;}#sk-container-id-2 div.sk-estimator {font-family: monospace;background-color: #f0f8ff;border: 1px dotted black;border-radius: 0.25em;box-sizing: border-box;margin-bottom: 0.5em;}#sk-container-id-2 div.sk-estimator:hover {background-color: #d4ebff;}#sk-container-id-2 div.sk-parallel-item::after {content: \"\";width: 100%;border-bottom: 1px solid gray;flex-grow: 1;}#sk-container-id-2 div.sk-label:hover label.sk-toggleable__label {background-color: #d4ebff;}#sk-container-id-2 div.sk-serial::before {content: \"\";position: absolute;border-left: 1px solid gray;box-sizing: border-box;top: 0;bottom: 0;left: 50%;z-index: 0;}#sk-container-id-2 div.sk-serial {display: flex;flex-direction: column;align-items: center;background-color: white;padding-right: 0.2em;padding-left: 0.2em;position: relative;}#sk-container-id-2 div.sk-item {position: relative;z-index: 1;}#sk-container-id-2 div.sk-parallel {display: flex;align-items: stretch;justify-content: center;background-color: white;position: relative;}#sk-container-id-2 div.sk-item::before, #sk-container-id-2 div.sk-parallel-item::before {content: \"\";position: absolute;border-left: 1px solid gray;box-sizing: border-box;top: 0;bottom: 0;left: 50%;z-index: -1;}#sk-container-id-2 div.sk-parallel-item {display: flex;flex-direction: column;z-index: 1;position: relative;background-color: white;}#sk-container-id-2 div.sk-parallel-item:first-child::after {align-self: flex-end;width: 50%;}#sk-container-id-2 div.sk-parallel-item:last-child::after {align-self: flex-start;width: 50%;}#sk-container-id-2 div.sk-parallel-item:only-child::after {width: 0;}#sk-container-id-2 div.sk-dashed-wrapped {border: 1px dashed gray;margin: 0 0.4em 0.5em 0.4em;box-sizing: border-box;padding-bottom: 0.4em;background-color: white;}#sk-container-id-2 div.sk-label label {font-family: monospace;font-weight: bold;display: inline-block;line-height: 1.2em;}#sk-container-id-2 div.sk-label-container {text-align: center;}#sk-container-id-2 div.sk-container {/* jupyter's `normalize.less` sets `[hidden] { display: none; }` but bootstrap.min.css set `[hidden] { display: none !important; }` so we also need the `!important` here to be able to override the default hidden behavior on the sphinx rendered scikit-learn.org. See: https://github.com/scikit-learn/scikit-learn/issues/21755 */display: inline-block !important;position: relative;}#sk-container-id-2 div.sk-text-repr-fallback {display: none;}</style><div id=\"sk-container-id-2\" class=\"sk-top-container\"><div class=\"sk-text-repr-fallback\"><pre>ColumnTransformer(transformers=[(&#x27;cat_transformer&#x27;,\n",
       "                                 Pipeline(steps=[(&#x27;imputer&#x27;,\n",
       "                                                  SimpleImputer(fill_value=&#x27;unknown&#x27;,\n",
       "                                                                strategy=&#x27;constant&#x27;)),\n",
       "                                                 (&#x27;OHE&#x27;,\n",
       "                                                  OneHotEncoder(handle_unknown=&#x27;ignore&#x27;,\n",
       "                                                                sparse_output=False))]),\n",
       "                                 [&#x27;season&#x27;, &#x27;weco&#x27;]),\n",
       "                                (&#x27;num_transformer&#x27;,\n",
       "                                 Pipeline(steps=[(&#x27;fillna&#x27;,\n",
       "                                                  SimpleImputer(fill_value=0,\n",
       "                                                                strategy=&#x27;constant&#x27;)),\n",
       "                                                 (&#x27;robust_scaler&#x27;,\n",
       "                                                  RobustScaler())]),\n",
       "                                 [&#x27;prcp&#x27;, &#x27;pres&#x27;, &#x27;temp&#x27;, &#x27;wdir&#x27;, &#x27;wspd&#x27;])])</pre><b>In a Jupyter environment, please rerun this cell to show the HTML representation or trust the notebook. <br />On GitHub, the HTML representation is unable to render, please try loading this page with nbviewer.org.</b></div><div class=\"sk-container\" hidden><div class=\"sk-item sk-dashed-wrapped\"><div class=\"sk-label-container\"><div class=\"sk-label sk-toggleable\"><input class=\"sk-toggleable__control sk-hidden--visually\" id=\"sk-estimator-id-8\" type=\"checkbox\" ><label for=\"sk-estimator-id-8\" class=\"sk-toggleable__label sk-toggleable__label-arrow\">ColumnTransformer</label><div class=\"sk-toggleable__content\"><pre>ColumnTransformer(transformers=[(&#x27;cat_transformer&#x27;,\n",
       "                                 Pipeline(steps=[(&#x27;imputer&#x27;,\n",
       "                                                  SimpleImputer(fill_value=&#x27;unknown&#x27;,\n",
       "                                                                strategy=&#x27;constant&#x27;)),\n",
       "                                                 (&#x27;OHE&#x27;,\n",
       "                                                  OneHotEncoder(handle_unknown=&#x27;ignore&#x27;,\n",
       "                                                                sparse_output=False))]),\n",
       "                                 [&#x27;season&#x27;, &#x27;weco&#x27;]),\n",
       "                                (&#x27;num_transformer&#x27;,\n",
       "                                 Pipeline(steps=[(&#x27;fillna&#x27;,\n",
       "                                                  SimpleImputer(fill_value=0,\n",
       "                                                                strategy=&#x27;constant&#x27;)),\n",
       "                                                 (&#x27;robust_scaler&#x27;,\n",
       "                                                  RobustScaler())]),\n",
       "                                 [&#x27;prcp&#x27;, &#x27;pres&#x27;, &#x27;temp&#x27;, &#x27;wdir&#x27;, &#x27;wspd&#x27;])])</pre></div></div></div><div class=\"sk-parallel\"><div class=\"sk-parallel-item\"><div class=\"sk-item\"><div class=\"sk-label-container\"><div class=\"sk-label sk-toggleable\"><input class=\"sk-toggleable__control sk-hidden--visually\" id=\"sk-estimator-id-9\" type=\"checkbox\" ><label for=\"sk-estimator-id-9\" class=\"sk-toggleable__label sk-toggleable__label-arrow\">cat_transformer</label><div class=\"sk-toggleable__content\"><pre>[&#x27;season&#x27;, &#x27;weco&#x27;]</pre></div></div></div><div class=\"sk-serial\"><div class=\"sk-item\"><div class=\"sk-serial\"><div class=\"sk-item\"><div class=\"sk-estimator sk-toggleable\"><input class=\"sk-toggleable__control sk-hidden--visually\" id=\"sk-estimator-id-10\" type=\"checkbox\" ><label for=\"sk-estimator-id-10\" class=\"sk-toggleable__label sk-toggleable__label-arrow\">SimpleImputer</label><div class=\"sk-toggleable__content\"><pre>SimpleImputer(fill_value=&#x27;unknown&#x27;, strategy=&#x27;constant&#x27;)</pre></div></div></div><div class=\"sk-item\"><div class=\"sk-estimator sk-toggleable\"><input class=\"sk-toggleable__control sk-hidden--visually\" id=\"sk-estimator-id-11\" type=\"checkbox\" ><label for=\"sk-estimator-id-11\" class=\"sk-toggleable__label sk-toggleable__label-arrow\">OneHotEncoder</label><div class=\"sk-toggleable__content\"><pre>OneHotEncoder(handle_unknown=&#x27;ignore&#x27;, sparse_output=False)</pre></div></div></div></div></div></div></div></div><div class=\"sk-parallel-item\"><div class=\"sk-item\"><div class=\"sk-label-container\"><div class=\"sk-label sk-toggleable\"><input class=\"sk-toggleable__control sk-hidden--visually\" id=\"sk-estimator-id-12\" type=\"checkbox\" ><label for=\"sk-estimator-id-12\" class=\"sk-toggleable__label sk-toggleable__label-arrow\">num_transformer</label><div class=\"sk-toggleable__content\"><pre>[&#x27;prcp&#x27;, &#x27;pres&#x27;, &#x27;temp&#x27;, &#x27;wdir&#x27;, &#x27;wspd&#x27;]</pre></div></div></div><div class=\"sk-serial\"><div class=\"sk-item\"><div class=\"sk-serial\"><div class=\"sk-item\"><div class=\"sk-estimator sk-toggleable\"><input class=\"sk-toggleable__control sk-hidden--visually\" id=\"sk-estimator-id-13\" type=\"checkbox\" ><label for=\"sk-estimator-id-13\" class=\"sk-toggleable__label sk-toggleable__label-arrow\">SimpleImputer</label><div class=\"sk-toggleable__content\"><pre>SimpleImputer(fill_value=0, strategy=&#x27;constant&#x27;)</pre></div></div></div><div class=\"sk-item\"><div class=\"sk-estimator sk-toggleable\"><input class=\"sk-toggleable__control sk-hidden--visually\" id=\"sk-estimator-id-14\" type=\"checkbox\" ><label for=\"sk-estimator-id-14\" class=\"sk-toggleable__label sk-toggleable__label-arrow\">RobustScaler</label><div class=\"sk-toggleable__content\"><pre>RobustScaler()</pre></div></div></div></div></div></div></div></div></div></div></div></div>"
      ],
      "text/plain": [
       "ColumnTransformer(transformers=[('cat_transformer',\n",
       "                                 Pipeline(steps=[('imputer',\n",
       "                                                  SimpleImputer(fill_value='unknown',\n",
       "                                                                strategy='constant')),\n",
       "                                                 ('OHE',\n",
       "                                                  OneHotEncoder(handle_unknown='ignore',\n",
       "                                                                sparse_output=False))]),\n",
       "                                 ['season', 'weco']),\n",
       "                                ('num_transformer',\n",
       "                                 Pipeline(steps=[('fillna',\n",
       "                                                  SimpleImputer(fill_value=0,\n",
       "                                                                strategy='constant')),\n",
       "                                                 ('robust_scaler',\n",
       "                                                  RobustScaler())]),\n",
       "                                 ['prcp', 'pres', 'temp', 'wdir', 'wspd'])])"
      ]
     },
     "execution_count": 28,
     "metadata": {},
     "output_type": "execute_result"
    }
   ],
   "source": [
    "preprocessor"
   ]
  },
  {
   "cell_type": "code",
   "execution_count": null,
   "id": "8ed0fbe7",
   "metadata": {},
   "outputs": [],
   "source": []
  },
  {
   "cell_type": "code",
   "execution_count": 102,
   "id": "46ff71b4",
   "metadata": {
    "ExecuteTime": {
     "end_time": "2024-02-04T14:24:32.602737Z",
     "start_time": "2024-02-04T14:24:32.589223Z"
    }
   },
   "outputs": [],
   "source": [
    "model_lr = RandomForestClassifier(criterion='gini',\n",
    "                                  n_estimators=80,\n",
    "                                  max_depth=10,\n",
    "                                  n_jobs=-1,\n",
    "                                  class_weight='balanced')\n"
   ]
  },
  {
   "cell_type": "code",
   "execution_count": 103,
   "id": "0c81edb5",
   "metadata": {
    "ExecuteTime": {
     "end_time": "2024-02-04T14:24:34.072816Z",
     "start_time": "2024-02-04T14:24:34.056166Z"
    }
   },
   "outputs": [],
   "source": [
    "pipeline = Pipeline([\n",
    "    (\"preprocessor\", preprocessor),\n",
    "    ('model', model_lr)\n",
    "])"
   ]
  },
  {
   "cell_type": "code",
   "execution_count": 104,
   "id": "2b7ce86e",
   "metadata": {
    "ExecuteTime": {
     "end_time": "2024-02-04T14:24:34.992431Z",
     "start_time": "2024-02-04T14:24:34.965746Z"
    }
   },
   "outputs": [],
   "source": [
    "X_train, X_test, y_train, y_test = train_test_split(X,\n",
    "                                                    y,\n",
    "                                                    test_size=0.3)"
   ]
  },
  {
   "cell_type": "code",
   "execution_count": 105,
   "id": "659b6614",
   "metadata": {
    "ExecuteTime": {
     "end_time": "2024-02-04T14:24:58.986786Z",
     "start_time": "2024-02-04T14:24:55.397639Z"
    }
   },
   "outputs": [
    {
     "name": "stderr",
     "output_type": "stream",
     "text": [
      "/Users/Carmen/.pyenv/versions/S02_BLU03/lib/python3.10/site-packages/sklearn/base.py:1151: DataConversionWarning: A column-vector y was passed when a 1d array was expected. Please change the shape of y to (n_samples,), for example using ravel().\n",
      "  return fit_method(estimator, *args, **kwargs)\n"
     ]
    },
    {
     "data": {
      "text/html": [
       "<style>#sk-container-id-6 {color: black;}#sk-container-id-6 pre{padding: 0;}#sk-container-id-6 div.sk-toggleable {background-color: white;}#sk-container-id-6 label.sk-toggleable__label {cursor: pointer;display: block;width: 100%;margin-bottom: 0;padding: 0.3em;box-sizing: border-box;text-align: center;}#sk-container-id-6 label.sk-toggleable__label-arrow:before {content: \"▸\";float: left;margin-right: 0.25em;color: #696969;}#sk-container-id-6 label.sk-toggleable__label-arrow:hover:before {color: black;}#sk-container-id-6 div.sk-estimator:hover label.sk-toggleable__label-arrow:before {color: black;}#sk-container-id-6 div.sk-toggleable__content {max-height: 0;max-width: 0;overflow: hidden;text-align: left;background-color: #f0f8ff;}#sk-container-id-6 div.sk-toggleable__content pre {margin: 0.2em;color: black;border-radius: 0.25em;background-color: #f0f8ff;}#sk-container-id-6 input.sk-toggleable__control:checked~div.sk-toggleable__content {max-height: 200px;max-width: 100%;overflow: auto;}#sk-container-id-6 input.sk-toggleable__control:checked~label.sk-toggleable__label-arrow:before {content: \"▾\";}#sk-container-id-6 div.sk-estimator input.sk-toggleable__control:checked~label.sk-toggleable__label {background-color: #d4ebff;}#sk-container-id-6 div.sk-label input.sk-toggleable__control:checked~label.sk-toggleable__label {background-color: #d4ebff;}#sk-container-id-6 input.sk-hidden--visually {border: 0;clip: rect(1px 1px 1px 1px);clip: rect(1px, 1px, 1px, 1px);height: 1px;margin: -1px;overflow: hidden;padding: 0;position: absolute;width: 1px;}#sk-container-id-6 div.sk-estimator {font-family: monospace;background-color: #f0f8ff;border: 1px dotted black;border-radius: 0.25em;box-sizing: border-box;margin-bottom: 0.5em;}#sk-container-id-6 div.sk-estimator:hover {background-color: #d4ebff;}#sk-container-id-6 div.sk-parallel-item::after {content: \"\";width: 100%;border-bottom: 1px solid gray;flex-grow: 1;}#sk-container-id-6 div.sk-label:hover label.sk-toggleable__label {background-color: #d4ebff;}#sk-container-id-6 div.sk-serial::before {content: \"\";position: absolute;border-left: 1px solid gray;box-sizing: border-box;top: 0;bottom: 0;left: 50%;z-index: 0;}#sk-container-id-6 div.sk-serial {display: flex;flex-direction: column;align-items: center;background-color: white;padding-right: 0.2em;padding-left: 0.2em;position: relative;}#sk-container-id-6 div.sk-item {position: relative;z-index: 1;}#sk-container-id-6 div.sk-parallel {display: flex;align-items: stretch;justify-content: center;background-color: white;position: relative;}#sk-container-id-6 div.sk-item::before, #sk-container-id-6 div.sk-parallel-item::before {content: \"\";position: absolute;border-left: 1px solid gray;box-sizing: border-box;top: 0;bottom: 0;left: 50%;z-index: -1;}#sk-container-id-6 div.sk-parallel-item {display: flex;flex-direction: column;z-index: 1;position: relative;background-color: white;}#sk-container-id-6 div.sk-parallel-item:first-child::after {align-self: flex-end;width: 50%;}#sk-container-id-6 div.sk-parallel-item:last-child::after {align-self: flex-start;width: 50%;}#sk-container-id-6 div.sk-parallel-item:only-child::after {width: 0;}#sk-container-id-6 div.sk-dashed-wrapped {border: 1px dashed gray;margin: 0 0.4em 0.5em 0.4em;box-sizing: border-box;padding-bottom: 0.4em;background-color: white;}#sk-container-id-6 div.sk-label label {font-family: monospace;font-weight: bold;display: inline-block;line-height: 1.2em;}#sk-container-id-6 div.sk-label-container {text-align: center;}#sk-container-id-6 div.sk-container {/* jupyter's `normalize.less` sets `[hidden] { display: none; }` but bootstrap.min.css set `[hidden] { display: none !important; }` so we also need the `!important` here to be able to override the default hidden behavior on the sphinx rendered scikit-learn.org. See: https://github.com/scikit-learn/scikit-learn/issues/21755 */display: inline-block !important;position: relative;}#sk-container-id-6 div.sk-text-repr-fallback {display: none;}</style><div id=\"sk-container-id-6\" class=\"sk-top-container\"><div class=\"sk-text-repr-fallback\"><pre>Pipeline(steps=[(&#x27;preprocessor&#x27;,\n",
       "                 ColumnTransformer(transformers=[(&#x27;cat_transformer&#x27;,\n",
       "                                                  Pipeline(steps=[(&#x27;imputer&#x27;,\n",
       "                                                                   SimpleImputer(fill_value=&#x27;unknown&#x27;,\n",
       "                                                                                 strategy=&#x27;constant&#x27;)),\n",
       "                                                                  (&#x27;OHE&#x27;,\n",
       "                                                                   OneHotEncoder(handle_unknown=&#x27;ignore&#x27;,\n",
       "                                                                                 sparse_output=False))]),\n",
       "                                                  [&#x27;season&#x27;, &#x27;weco&#x27;]),\n",
       "                                                 (&#x27;num_transformer&#x27;,\n",
       "                                                  Pipeline(steps=[(&#x27;fillna&#x27;,\n",
       "                                                                   SimpleImputer(fill_value=0,\n",
       "                                                                                 strategy=&#x27;constant&#x27;)),\n",
       "                                                                  (&#x27;robust_scaler&#x27;,\n",
       "                                                                   RobustScaler())]),\n",
       "                                                  [&#x27;prcp&#x27;, &#x27;pres&#x27;, &#x27;temp&#x27;,\n",
       "                                                   &#x27;wdir&#x27;, &#x27;wspd&#x27;])])),\n",
       "                (&#x27;model&#x27;,\n",
       "                 RandomForestClassifier(class_weight=&#x27;balanced&#x27;, max_depth=10,\n",
       "                                        n_estimators=80, n_jobs=-1))])</pre><b>In a Jupyter environment, please rerun this cell to show the HTML representation or trust the notebook. <br />On GitHub, the HTML representation is unable to render, please try loading this page with nbviewer.org.</b></div><div class=\"sk-container\" hidden><div class=\"sk-item sk-dashed-wrapped\"><div class=\"sk-label-container\"><div class=\"sk-label sk-toggleable\"><input class=\"sk-toggleable__control sk-hidden--visually\" id=\"sk-estimator-id-42\" type=\"checkbox\" ><label for=\"sk-estimator-id-42\" class=\"sk-toggleable__label sk-toggleable__label-arrow\">Pipeline</label><div class=\"sk-toggleable__content\"><pre>Pipeline(steps=[(&#x27;preprocessor&#x27;,\n",
       "                 ColumnTransformer(transformers=[(&#x27;cat_transformer&#x27;,\n",
       "                                                  Pipeline(steps=[(&#x27;imputer&#x27;,\n",
       "                                                                   SimpleImputer(fill_value=&#x27;unknown&#x27;,\n",
       "                                                                                 strategy=&#x27;constant&#x27;)),\n",
       "                                                                  (&#x27;OHE&#x27;,\n",
       "                                                                   OneHotEncoder(handle_unknown=&#x27;ignore&#x27;,\n",
       "                                                                                 sparse_output=False))]),\n",
       "                                                  [&#x27;season&#x27;, &#x27;weco&#x27;]),\n",
       "                                                 (&#x27;num_transformer&#x27;,\n",
       "                                                  Pipeline(steps=[(&#x27;fillna&#x27;,\n",
       "                                                                   SimpleImputer(fill_value=0,\n",
       "                                                                                 strategy=&#x27;constant&#x27;)),\n",
       "                                                                  (&#x27;robust_scaler&#x27;,\n",
       "                                                                   RobustScaler())]),\n",
       "                                                  [&#x27;prcp&#x27;, &#x27;pres&#x27;, &#x27;temp&#x27;,\n",
       "                                                   &#x27;wdir&#x27;, &#x27;wspd&#x27;])])),\n",
       "                (&#x27;model&#x27;,\n",
       "                 RandomForestClassifier(class_weight=&#x27;balanced&#x27;, max_depth=10,\n",
       "                                        n_estimators=80, n_jobs=-1))])</pre></div></div></div><div class=\"sk-serial\"><div class=\"sk-item sk-dashed-wrapped\"><div class=\"sk-label-container\"><div class=\"sk-label sk-toggleable\"><input class=\"sk-toggleable__control sk-hidden--visually\" id=\"sk-estimator-id-43\" type=\"checkbox\" ><label for=\"sk-estimator-id-43\" class=\"sk-toggleable__label sk-toggleable__label-arrow\">preprocessor: ColumnTransformer</label><div class=\"sk-toggleable__content\"><pre>ColumnTransformer(transformers=[(&#x27;cat_transformer&#x27;,\n",
       "                                 Pipeline(steps=[(&#x27;imputer&#x27;,\n",
       "                                                  SimpleImputer(fill_value=&#x27;unknown&#x27;,\n",
       "                                                                strategy=&#x27;constant&#x27;)),\n",
       "                                                 (&#x27;OHE&#x27;,\n",
       "                                                  OneHotEncoder(handle_unknown=&#x27;ignore&#x27;,\n",
       "                                                                sparse_output=False))]),\n",
       "                                 [&#x27;season&#x27;, &#x27;weco&#x27;]),\n",
       "                                (&#x27;num_transformer&#x27;,\n",
       "                                 Pipeline(steps=[(&#x27;fillna&#x27;,\n",
       "                                                  SimpleImputer(fill_value=0,\n",
       "                                                                strategy=&#x27;constant&#x27;)),\n",
       "                                                 (&#x27;robust_scaler&#x27;,\n",
       "                                                  RobustScaler())]),\n",
       "                                 [&#x27;prcp&#x27;, &#x27;pres&#x27;, &#x27;temp&#x27;, &#x27;wdir&#x27;, &#x27;wspd&#x27;])])</pre></div></div></div><div class=\"sk-parallel\"><div class=\"sk-parallel-item\"><div class=\"sk-item\"><div class=\"sk-label-container\"><div class=\"sk-label sk-toggleable\"><input class=\"sk-toggleable__control sk-hidden--visually\" id=\"sk-estimator-id-44\" type=\"checkbox\" ><label for=\"sk-estimator-id-44\" class=\"sk-toggleable__label sk-toggleable__label-arrow\">cat_transformer</label><div class=\"sk-toggleable__content\"><pre>[&#x27;season&#x27;, &#x27;weco&#x27;]</pre></div></div></div><div class=\"sk-serial\"><div class=\"sk-item\"><div class=\"sk-serial\"><div class=\"sk-item\"><div class=\"sk-estimator sk-toggleable\"><input class=\"sk-toggleable__control sk-hidden--visually\" id=\"sk-estimator-id-45\" type=\"checkbox\" ><label for=\"sk-estimator-id-45\" class=\"sk-toggleable__label sk-toggleable__label-arrow\">SimpleImputer</label><div class=\"sk-toggleable__content\"><pre>SimpleImputer(fill_value=&#x27;unknown&#x27;, strategy=&#x27;constant&#x27;)</pre></div></div></div><div class=\"sk-item\"><div class=\"sk-estimator sk-toggleable\"><input class=\"sk-toggleable__control sk-hidden--visually\" id=\"sk-estimator-id-46\" type=\"checkbox\" ><label for=\"sk-estimator-id-46\" class=\"sk-toggleable__label sk-toggleable__label-arrow\">OneHotEncoder</label><div class=\"sk-toggleable__content\"><pre>OneHotEncoder(handle_unknown=&#x27;ignore&#x27;, sparse_output=False)</pre></div></div></div></div></div></div></div></div><div class=\"sk-parallel-item\"><div class=\"sk-item\"><div class=\"sk-label-container\"><div class=\"sk-label sk-toggleable\"><input class=\"sk-toggleable__control sk-hidden--visually\" id=\"sk-estimator-id-47\" type=\"checkbox\" ><label for=\"sk-estimator-id-47\" class=\"sk-toggleable__label sk-toggleable__label-arrow\">num_transformer</label><div class=\"sk-toggleable__content\"><pre>[&#x27;prcp&#x27;, &#x27;pres&#x27;, &#x27;temp&#x27;, &#x27;wdir&#x27;, &#x27;wspd&#x27;]</pre></div></div></div><div class=\"sk-serial\"><div class=\"sk-item\"><div class=\"sk-serial\"><div class=\"sk-item\"><div class=\"sk-estimator sk-toggleable\"><input class=\"sk-toggleable__control sk-hidden--visually\" id=\"sk-estimator-id-48\" type=\"checkbox\" ><label for=\"sk-estimator-id-48\" class=\"sk-toggleable__label sk-toggleable__label-arrow\">SimpleImputer</label><div class=\"sk-toggleable__content\"><pre>SimpleImputer(fill_value=0, strategy=&#x27;constant&#x27;)</pre></div></div></div><div class=\"sk-item\"><div class=\"sk-estimator sk-toggleable\"><input class=\"sk-toggleable__control sk-hidden--visually\" id=\"sk-estimator-id-49\" type=\"checkbox\" ><label for=\"sk-estimator-id-49\" class=\"sk-toggleable__label sk-toggleable__label-arrow\">RobustScaler</label><div class=\"sk-toggleable__content\"><pre>RobustScaler()</pre></div></div></div></div></div></div></div></div></div></div><div class=\"sk-item\"><div class=\"sk-estimator sk-toggleable\"><input class=\"sk-toggleable__control sk-hidden--visually\" id=\"sk-estimator-id-50\" type=\"checkbox\" ><label for=\"sk-estimator-id-50\" class=\"sk-toggleable__label sk-toggleable__label-arrow\">RandomForestClassifier</label><div class=\"sk-toggleable__content\"><pre>RandomForestClassifier(class_weight=&#x27;balanced&#x27;, max_depth=10, n_estimators=80,\n",
       "                       n_jobs=-1)</pre></div></div></div></div></div></div></div>"
      ],
      "text/plain": [
       "Pipeline(steps=[('preprocessor',\n",
       "                 ColumnTransformer(transformers=[('cat_transformer',\n",
       "                                                  Pipeline(steps=[('imputer',\n",
       "                                                                   SimpleImputer(fill_value='unknown',\n",
       "                                                                                 strategy='constant')),\n",
       "                                                                  ('OHE',\n",
       "                                                                   OneHotEncoder(handle_unknown='ignore',\n",
       "                                                                                 sparse_output=False))]),\n",
       "                                                  ['season', 'weco']),\n",
       "                                                 ('num_transformer',\n",
       "                                                  Pipeline(steps=[('fillna',\n",
       "                                                                   SimpleImputer(fill_value=0,\n",
       "                                                                                 strategy='constant')),\n",
       "                                                                  ('robust_scaler',\n",
       "                                                                   RobustScaler())]),\n",
       "                                                  ['prcp', 'pres', 'temp',\n",
       "                                                   'wdir', 'wspd'])])),\n",
       "                ('model',\n",
       "                 RandomForestClassifier(class_weight='balanced', max_depth=10,\n",
       "                                        n_estimators=80, n_jobs=-1))])"
      ]
     },
     "execution_count": 105,
     "metadata": {},
     "output_type": "execute_result"
    }
   ],
   "source": [
    "pipeline.fit(X_train, y_train)"
   ]
  },
  {
   "cell_type": "code",
   "execution_count": 106,
   "id": "4c2078eb",
   "metadata": {
    "ExecuteTime": {
     "end_time": "2024-02-04T14:25:21.415551Z",
     "start_time": "2024-02-04T14:25:01.104712Z"
    }
   },
   "outputs": [
    {
     "name": "stderr",
     "output_type": "stream",
     "text": [
      "/Users/Carmen/.pyenv/versions/S02_BLU03/lib/python3.10/site-packages/sklearn/model_selection/_split.py:725: UserWarning: The least populated class in y has only 1 members, which is less than n_splits=5.\n",
      "  warnings.warn(\n",
      "/Users/Carmen/.pyenv/versions/S02_BLU03/lib/python3.10/site-packages/sklearn/base.py:1151: DataConversionWarning: A column-vector y was passed when a 1d array was expected. Please change the shape of y to (n_samples,), for example using ravel().\n",
      "  return fit_method(estimator, *args, **kwargs)\n",
      "/Users/Carmen/.pyenv/versions/S02_BLU03/lib/python3.10/site-packages/sklearn/base.py:1151: DataConversionWarning: A column-vector y was passed when a 1d array was expected. Please change the shape of y to (n_samples,), for example using ravel().\n",
      "  return fit_method(estimator, *args, **kwargs)\n",
      "/Users/Carmen/.pyenv/versions/S02_BLU03/lib/python3.10/site-packages/sklearn/base.py:1151: DataConversionWarning: A column-vector y was passed when a 1d array was expected. Please change the shape of y to (n_samples,), for example using ravel().\n",
      "  return fit_method(estimator, *args, **kwargs)\n",
      "/Users/Carmen/.pyenv/versions/S02_BLU03/lib/python3.10/site-packages/sklearn/base.py:1151: DataConversionWarning: A column-vector y was passed when a 1d array was expected. Please change the shape of y to (n_samples,), for example using ravel().\n",
      "  return fit_method(estimator, *args, **kwargs)\n",
      "/Users/Carmen/.pyenv/versions/S02_BLU03/lib/python3.10/site-packages/sklearn/base.py:1151: DataConversionWarning: A column-vector y was passed when a 1d array was expected. Please change the shape of y to (n_samples,), for example using ravel().\n",
      "  return fit_method(estimator, *args, **kwargs)\n"
     ]
    }
   ],
   "source": [
    "cv_results = cross_validate(pipeline, X_train, y_train, scoring = ['neg_mean_absolute_error'], cv=5)"
   ]
  },
  {
   "cell_type": "code",
   "execution_count": 107,
   "id": "3de09876",
   "metadata": {
    "ExecuteTime": {
     "end_time": "2024-02-04T14:25:24.586948Z",
     "start_time": "2024-02-04T14:25:24.560258Z"
    }
   },
   "outputs": [
    {
     "data": {
      "text/plain": [
       "-3209.205565223164"
      ]
     },
     "execution_count": 107,
     "metadata": {},
     "output_type": "execute_result"
    }
   ],
   "source": [
    "cv_results['test_neg_mean_absolute_error'].mean()"
   ]
  },
  {
   "cell_type": "code",
   "execution_count": 108,
   "id": "1f858035",
   "metadata": {
    "ExecuteTime": {
     "end_time": "2024-02-04T14:25:43.365331Z",
     "start_time": "2024-02-04T14:25:38.217596Z"
    }
   },
   "outputs": [],
   "source": [
    "y_pred = pipeline.predict(X_test)"
   ]
  },
  {
   "cell_type": "code",
   "execution_count": 116,
   "id": "81fe769e",
   "metadata": {
    "ExecuteTime": {
     "end_time": "2024-02-04T14:29:04.584648Z",
     "start_time": "2024-02-04T14:29:04.571181Z"
    }
   },
   "outputs": [
    {
     "data": {
      "text/plain": [
       "(4706, 4706)"
      ]
     },
     "execution_count": 116,
     "metadata": {},
     "output_type": "execute_result"
    }
   ],
   "source": [
    "len(y_pred), len(y_test)"
   ]
  },
  {
   "cell_type": "code",
   "execution_count": 117,
   "id": "5b39b3bd",
   "metadata": {
    "ExecuteTime": {
     "end_time": "2024-02-04T14:29:14.702763Z",
     "start_time": "2024-02-04T14:29:14.655206Z"
    }
   },
   "outputs": [
    {
     "data": {
      "text/html": [
       "<div>\n",
       "<style scoped>\n",
       "    .dataframe tbody tr th:only-of-type {\n",
       "        vertical-align: middle;\n",
       "    }\n",
       "\n",
       "    .dataframe tbody tr th {\n",
       "        vertical-align: top;\n",
       "    }\n",
       "\n",
       "    .dataframe thead th {\n",
       "        text-align: right;\n",
       "    }\n",
       "</style>\n",
       "<table border=\"1\" class=\"dataframe\">\n",
       "  <thead>\n",
       "    <tr style=\"text-align: right;\">\n",
       "      <th></th>\n",
       "      <th>count</th>\n",
       "    </tr>\n",
       "    <tr>\n",
       "      <th>timestamp</th>\n",
       "      <th></th>\n",
       "    </tr>\n",
       "  </thead>\n",
       "  <tbody>\n",
       "    <tr>\n",
       "      <th>1.680163e+09</th>\n",
       "      <td>0</td>\n",
       "    </tr>\n",
       "    <tr>\n",
       "      <th>1.640534e+09</th>\n",
       "      <td>0</td>\n",
       "    </tr>\n",
       "    <tr>\n",
       "      <th>1.694016e+09</th>\n",
       "      <td>1220</td>\n",
       "    </tr>\n",
       "    <tr>\n",
       "      <th>1.683450e+09</th>\n",
       "      <td>7</td>\n",
       "    </tr>\n",
       "    <tr>\n",
       "      <th>1.676844e+09</th>\n",
       "      <td>0</td>\n",
       "    </tr>\n",
       "    <tr>\n",
       "      <th>...</th>\n",
       "      <td>...</td>\n",
       "    </tr>\n",
       "    <tr>\n",
       "      <th>1.675660e+09</th>\n",
       "      <td>0</td>\n",
       "    </tr>\n",
       "    <tr>\n",
       "      <th>1.690081e+09</th>\n",
       "      <td>0</td>\n",
       "    </tr>\n",
       "    <tr>\n",
       "      <th>1.630505e+09</th>\n",
       "      <td>441</td>\n",
       "    </tr>\n",
       "    <tr>\n",
       "      <th>1.656306e+09</th>\n",
       "      <td>651</td>\n",
       "    </tr>\n",
       "    <tr>\n",
       "      <th>1.654034e+09</th>\n",
       "      <td>0</td>\n",
       "    </tr>\n",
       "  </tbody>\n",
       "</table>\n",
       "<p>4706 rows × 1 columns</p>\n",
       "</div>"
      ],
      "text/plain": [
       "              count\n",
       "timestamp          \n",
       "1.680163e+09      0\n",
       "1.640534e+09      0\n",
       "1.694016e+09   1220\n",
       "1.683450e+09      7\n",
       "1.676844e+09      0\n",
       "...             ...\n",
       "1.675660e+09      0\n",
       "1.690081e+09      0\n",
       "1.630505e+09    441\n",
       "1.656306e+09    651\n",
       "1.654034e+09      0\n",
       "\n",
       "[4706 rows x 1 columns]"
      ]
     },
     "execution_count": 117,
     "metadata": {},
     "output_type": "execute_result"
    }
   ],
   "source": [
    "y_test"
   ]
  },
  {
   "cell_type": "code",
   "execution_count": 55,
   "id": "ed5d43c3",
   "metadata": {
    "ExecuteTime": {
     "end_time": "2024-02-04T13:57:11.751502Z",
     "start_time": "2024-02-04T13:57:11.452229Z"
    }
   },
   "outputs": [
    {
     "name": "stdout",
     "output_type": "stream",
     "text": [
      "api_data.csv     data_2.csv       full_data.csv    webscraping.csv\r\n",
      "data_0.tsv       data_3.csv       sql_data.csv     ws_data.json\r\n",
      "data_1.json      folders_data.csv test_data.csv\r\n"
     ]
    }
   ],
   "source": [
    "!ls data/"
   ]
  },
  {
   "cell_type": "code",
   "execution_count": 56,
   "id": "e0bdd709",
   "metadata": {
    "ExecuteTime": {
     "end_time": "2024-02-04T13:57:34.136950Z",
     "start_time": "2024-02-04T13:57:34.036739Z"
    }
   },
   "outputs": [],
   "source": [
    "data_test = pd.read_csv('data/test_data.csv').set_index(\"timestamp\")"
   ]
  },
  {
   "cell_type": "code",
   "execution_count": 58,
   "id": "f7b2bcd3",
   "metadata": {
    "ExecuteTime": {
     "end_time": "2024-02-04T13:59:23.903639Z",
     "start_time": "2024-02-04T13:59:23.826639Z"
    }
   },
   "outputs": [],
   "source": [
    "data_test.drop([\"Unnamed: 0\"], axis=1, inplace=True)"
   ]
  },
  {
   "cell_type": "code",
   "execution_count": 59,
   "id": "6bd6f649",
   "metadata": {
    "ExecuteTime": {
     "end_time": "2024-02-04T13:59:28.288688Z",
     "start_time": "2024-02-04T13:59:28.178499Z"
    }
   },
   "outputs": [
    {
     "data": {
      "text/html": [
       "<div>\n",
       "<style scoped>\n",
       "    .dataframe tbody tr th:only-of-type {\n",
       "        vertical-align: middle;\n",
       "    }\n",
       "\n",
       "    .dataframe tbody tr th {\n",
       "        vertical-align: top;\n",
       "    }\n",
       "\n",
       "    .dataframe thead th {\n",
       "        text-align: right;\n",
       "    }\n",
       "</style>\n",
       "<table border=\"1\" class=\"dataframe\">\n",
       "  <thead>\n",
       "    <tr style=\"text-align: right;\">\n",
       "      <th></th>\n",
       "      <th>temp</th>\n",
       "      <th>rhum</th>\n",
       "      <th>prcp</th>\n",
       "      <th>wspd</th>\n",
       "      <th>pres</th>\n",
       "      <th>wdir</th>\n",
       "      <th>weco</th>\n",
       "      <th>season</th>\n",
       "    </tr>\n",
       "    <tr>\n",
       "      <th>timestamp</th>\n",
       "      <th></th>\n",
       "      <th></th>\n",
       "      <th></th>\n",
       "      <th></th>\n",
       "      <th></th>\n",
       "      <th></th>\n",
       "      <th></th>\n",
       "      <th></th>\n",
       "    </tr>\n",
       "  </thead>\n",
       "  <tbody>\n",
       "    <tr>\n",
       "      <th>1.636621e+09</th>\n",
       "      <td>10.1</td>\n",
       "      <td>98.0</td>\n",
       "      <td>0.0</td>\n",
       "      <td>7.4</td>\n",
       "      <td>1023.9</td>\n",
       "      <td>214.0</td>\n",
       "      <td>Overcast</td>\n",
       "      <td>autumn</td>\n",
       "    </tr>\n",
       "    <tr>\n",
       "      <th>1.690999e+09</th>\n",
       "      <td>16.1</td>\n",
       "      <td>90.0</td>\n",
       "      <td>0.0</td>\n",
       "      <td>13.0</td>\n",
       "      <td>987.8</td>\n",
       "      <td>274.0</td>\n",
       "      <td>Heavy Rain Shower</td>\n",
       "      <td>summer</td>\n",
       "    </tr>\n",
       "    <tr>\n",
       "      <th>1.647054e+09</th>\n",
       "      <td>7.5</td>\n",
       "      <td>90.0</td>\n",
       "      <td>0.0</td>\n",
       "      <td>16.7</td>\n",
       "      <td>1006.1</td>\n",
       "      <td>182.0</td>\n",
       "      <td>Light Rain</td>\n",
       "      <td>winter</td>\n",
       "    </tr>\n",
       "    <tr>\n",
       "      <th>1.642018e+09</th>\n",
       "      <td>2.9</td>\n",
       "      <td>93.0</td>\n",
       "      <td>0.0</td>\n",
       "      <td>5.5</td>\n",
       "      <td>1042.4</td>\n",
       "      <td>228.0</td>\n",
       "      <td>Fair</td>\n",
       "      <td>winter</td>\n",
       "    </tr>\n",
       "    <tr>\n",
       "      <th>1.654333e+09</th>\n",
       "      <td>15.0</td>\n",
       "      <td>67.0</td>\n",
       "      <td>0.2</td>\n",
       "      <td>20.5</td>\n",
       "      <td>1021.0</td>\n",
       "      <td>60.0</td>\n",
       "      <td>NaN</td>\n",
       "      <td>spring</td>\n",
       "    </tr>\n",
       "    <tr>\n",
       "      <th>...</th>\n",
       "      <td>...</td>\n",
       "      <td>...</td>\n",
       "      <td>...</td>\n",
       "      <td>...</td>\n",
       "      <td>...</td>\n",
       "      <td>...</td>\n",
       "      <td>...</td>\n",
       "      <td>...</td>\n",
       "    </tr>\n",
       "    <tr>\n",
       "      <th>1.617732e+09</th>\n",
       "      <td>1.8</td>\n",
       "      <td>54.0</td>\n",
       "      <td>0.0</td>\n",
       "      <td>13.0</td>\n",
       "      <td>1020.5</td>\n",
       "      <td>333.0</td>\n",
       "      <td>Fair</td>\n",
       "      <td>spring</td>\n",
       "    </tr>\n",
       "    <tr>\n",
       "      <th>1.645222e+09</th>\n",
       "      <td>3.5</td>\n",
       "      <td>66.0</td>\n",
       "      <td>0.0</td>\n",
       "      <td>31.5</td>\n",
       "      <td>1007.3</td>\n",
       "      <td>266.0</td>\n",
       "      <td>Fair</td>\n",
       "      <td>winter</td>\n",
       "    </tr>\n",
       "    <tr>\n",
       "      <th>1.695200e+09</th>\n",
       "      <td>19.3</td>\n",
       "      <td>77.0</td>\n",
       "      <td>0.0</td>\n",
       "      <td>40.8</td>\n",
       "      <td>999.4</td>\n",
       "      <td>200.0</td>\n",
       "      <td>Light Rain</td>\n",
       "      <td>summer</td>\n",
       "    </tr>\n",
       "    <tr>\n",
       "      <th>1.678270e+09</th>\n",
       "      <td>1.2</td>\n",
       "      <td>97.0</td>\n",
       "      <td>0.2</td>\n",
       "      <td>16.7</td>\n",
       "      <td>990.2</td>\n",
       "      <td>68.0</td>\n",
       "      <td>Sleet</td>\n",
       "      <td>winter</td>\n",
       "    </tr>\n",
       "    <tr>\n",
       "      <th>1.625803e+09</th>\n",
       "      <td>13.3</td>\n",
       "      <td>96.0</td>\n",
       "      <td>0.0</td>\n",
       "      <td>7.4</td>\n",
       "      <td>1021.4</td>\n",
       "      <td>234.0</td>\n",
       "      <td>Cloudy</td>\n",
       "      <td>summer</td>\n",
       "    </tr>\n",
       "  </tbody>\n",
       "</table>\n",
       "<p>6722 rows × 8 columns</p>\n",
       "</div>"
      ],
      "text/plain": [
       "              temp  rhum  prcp  wspd    pres   wdir               weco  season\n",
       "timestamp                                                                     \n",
       "1.636621e+09  10.1  98.0   0.0   7.4  1023.9  214.0           Overcast  autumn\n",
       "1.690999e+09  16.1  90.0   0.0  13.0   987.8  274.0  Heavy Rain Shower  summer\n",
       "1.647054e+09   7.5  90.0   0.0  16.7  1006.1  182.0         Light Rain  winter\n",
       "1.642018e+09   2.9  93.0   0.0   5.5  1042.4  228.0               Fair  winter\n",
       "1.654333e+09  15.0  67.0   0.2  20.5  1021.0   60.0                NaN  spring\n",
       "...            ...   ...   ...   ...     ...    ...                ...     ...\n",
       "1.617732e+09   1.8  54.0   0.0  13.0  1020.5  333.0               Fair  spring\n",
       "1.645222e+09   3.5  66.0   0.0  31.5  1007.3  266.0               Fair  winter\n",
       "1.695200e+09  19.3  77.0   0.0  40.8   999.4  200.0         Light Rain  summer\n",
       "1.678270e+09   1.2  97.0   0.2  16.7   990.2   68.0              Sleet  winter\n",
       "1.625803e+09  13.3  96.0   0.0   7.4  1021.4  234.0             Cloudy  summer\n",
       "\n",
       "[6722 rows x 8 columns]"
      ]
     },
     "execution_count": 59,
     "metadata": {},
     "output_type": "execute_result"
    }
   ],
   "source": [
    "data_test"
   ]
  },
  {
   "cell_type": "code",
   "execution_count": 60,
   "id": "b36ce802",
   "metadata": {
    "ExecuteTime": {
     "end_time": "2024-02-04T14:01:10.400165Z",
     "start_time": "2024-02-04T14:01:10.103383Z"
    }
   },
   "outputs": [
    {
     "name": "stderr",
     "output_type": "stream",
     "text": [
      "/var/folders/zy/9r4gn9b574gdnv2l9zms0bz40000gn/T/ipykernel_25673/651537946.py:2: FutureWarning: DataFrame.applymap has been deprecated. Use DataFrame.map instead.\n",
      "  df = df.applymap(lambda x: x.lower() if isinstance(x, str) else x)\n"
     ]
    }
   ],
   "source": [
    "# Assuming df is your DataFrame\n",
    "df = df.applymap(lambda x: x.lower() if isinstance(x, str) else x)\n"
   ]
  },
  {
   "cell_type": "code",
   "execution_count": 61,
   "id": "620fbb31",
   "metadata": {
    "ExecuteTime": {
     "end_time": "2024-02-04T14:01:13.863990Z",
     "start_time": "2024-02-04T14:01:13.720233Z"
    }
   },
   "outputs": [
    {
     "data": {
      "text/html": [
       "<div>\n",
       "<style scoped>\n",
       "    .dataframe tbody tr th:only-of-type {\n",
       "        vertical-align: middle;\n",
       "    }\n",
       "\n",
       "    .dataframe tbody tr th {\n",
       "        vertical-align: top;\n",
       "    }\n",
       "\n",
       "    .dataframe thead th {\n",
       "        text-align: right;\n",
       "    }\n",
       "</style>\n",
       "<table border=\"1\" class=\"dataframe\">\n",
       "  <thead>\n",
       "    <tr style=\"text-align: right;\">\n",
       "      <th></th>\n",
       "      <th>prcp</th>\n",
       "      <th>pres</th>\n",
       "      <th>rhum</th>\n",
       "      <th>season</th>\n",
       "      <th>temp</th>\n",
       "      <th>wdir</th>\n",
       "      <th>weco</th>\n",
       "      <th>wspd</th>\n",
       "      <th>count</th>\n",
       "    </tr>\n",
       "    <tr>\n",
       "      <th>timestamp</th>\n",
       "      <th></th>\n",
       "      <th></th>\n",
       "      <th></th>\n",
       "      <th></th>\n",
       "      <th></th>\n",
       "      <th></th>\n",
       "      <th></th>\n",
       "      <th></th>\n",
       "      <th></th>\n",
       "    </tr>\n",
       "  </thead>\n",
       "  <tbody>\n",
       "    <tr>\n",
       "      <th>1.617340e+09</th>\n",
       "      <td>0.0</td>\n",
       "      <td>1029.4</td>\n",
       "      <td>84.0</td>\n",
       "      <td>spring</td>\n",
       "      <td>3.0</td>\n",
       "      <td>33.0</td>\n",
       "      <td>fair</td>\n",
       "      <td>14.8</td>\n",
       "      <td>19</td>\n",
       "    </tr>\n",
       "    <tr>\n",
       "      <th>1.617343e+09</th>\n",
       "      <td>0.0</td>\n",
       "      <td>1029.5</td>\n",
       "      <td>81.0</td>\n",
       "      <td>spring</td>\n",
       "      <td>3.6</td>\n",
       "      <td>36.0</td>\n",
       "      <td>fair</td>\n",
       "      <td>16.7</td>\n",
       "      <td>60</td>\n",
       "    </tr>\n",
       "    <tr>\n",
       "      <th>1.617347e+09</th>\n",
       "      <td>0.0</td>\n",
       "      <td>1029.7</td>\n",
       "      <td>NaN</td>\n",
       "      <td>spring</td>\n",
       "      <td>4.6</td>\n",
       "      <td>39.0</td>\n",
       "      <td>fair</td>\n",
       "      <td>18.5</td>\n",
       "      <td>82</td>\n",
       "    </tr>\n",
       "    <tr>\n",
       "      <th>1.617350e+09</th>\n",
       "      <td>0.0</td>\n",
       "      <td>1029.9</td>\n",
       "      <td>71.0</td>\n",
       "      <td>spring</td>\n",
       "      <td>5.8</td>\n",
       "      <td>44.0</td>\n",
       "      <td>fair</td>\n",
       "      <td>20.4</td>\n",
       "      <td>82</td>\n",
       "    </tr>\n",
       "    <tr>\n",
       "      <th>1.617354e+09</th>\n",
       "      <td>0.0</td>\n",
       "      <td>1030.1</td>\n",
       "      <td>NaN</td>\n",
       "      <td>spring</td>\n",
       "      <td>6.7</td>\n",
       "      <td>43.0</td>\n",
       "      <td>cloudy</td>\n",
       "      <td>20.4</td>\n",
       "      <td>17</td>\n",
       "    </tr>\n",
       "    <tr>\n",
       "      <th>...</th>\n",
       "      <td>...</td>\n",
       "      <td>...</td>\n",
       "      <td>...</td>\n",
       "      <td>...</td>\n",
       "      <td>...</td>\n",
       "      <td>...</td>\n",
       "      <td>...</td>\n",
       "      <td>...</td>\n",
       "      <td>...</td>\n",
       "    </tr>\n",
       "    <tr>\n",
       "      <th>1.697990e+09</th>\n",
       "      <td>0.0</td>\n",
       "      <td>1008.3</td>\n",
       "      <td>76.0</td>\n",
       "      <td>autumn</td>\n",
       "      <td>12.2</td>\n",
       "      <td>179.0</td>\n",
       "      <td>fair</td>\n",
       "      <td>7.4</td>\n",
       "      <td>20</td>\n",
       "    </tr>\n",
       "    <tr>\n",
       "      <th>1.697994e+09</th>\n",
       "      <td>0.0</td>\n",
       "      <td>1008.9</td>\n",
       "      <td>NaN</td>\n",
       "      <td>autumn</td>\n",
       "      <td>11.2</td>\n",
       "      <td>169.0</td>\n",
       "      <td>fair</td>\n",
       "      <td>7.4</td>\n",
       "      <td>9</td>\n",
       "    </tr>\n",
       "    <tr>\n",
       "      <th>1.697998e+09</th>\n",
       "      <td>0.0</td>\n",
       "      <td>1009.3</td>\n",
       "      <td>85.0</td>\n",
       "      <td>autumn</td>\n",
       "      <td>10.0</td>\n",
       "      <td>157.0</td>\n",
       "      <td>fair</td>\n",
       "      <td>7.4</td>\n",
       "      <td>16</td>\n",
       "    </tr>\n",
       "    <tr>\n",
       "      <th>1.698001e+09</th>\n",
       "      <td>0.0</td>\n",
       "      <td>1009.7</td>\n",
       "      <td>87.0</td>\n",
       "      <td>autumn</td>\n",
       "      <td>9.2</td>\n",
       "      <td>149.0</td>\n",
       "      <td>fair</td>\n",
       "      <td>7.4</td>\n",
       "      <td>12</td>\n",
       "    </tr>\n",
       "    <tr>\n",
       "      <th>1.698005e+09</th>\n",
       "      <td>0.0</td>\n",
       "      <td>1010.1</td>\n",
       "      <td>92.0</td>\n",
       "      <td>autumn</td>\n",
       "      <td>8.4</td>\n",
       "      <td>140.0</td>\n",
       "      <td>fair</td>\n",
       "      <td>5.5</td>\n",
       "      <td>11</td>\n",
       "    </tr>\n",
       "  </tbody>\n",
       "</table>\n",
       "<p>15684 rows × 9 columns</p>\n",
       "</div>"
      ],
      "text/plain": [
       "              prcp    pres  rhum  season  temp   wdir    weco  wspd  count\n",
       "timestamp                                                                 \n",
       "1.617340e+09   0.0  1029.4  84.0  spring   3.0   33.0    fair  14.8     19\n",
       "1.617343e+09   0.0  1029.5  81.0  spring   3.6   36.0    fair  16.7     60\n",
       "1.617347e+09   0.0  1029.7   NaN  spring   4.6   39.0    fair  18.5     82\n",
       "1.617350e+09   0.0  1029.9  71.0  spring   5.8   44.0    fair  20.4     82\n",
       "1.617354e+09   0.0  1030.1   NaN  spring   6.7   43.0  cloudy  20.4     17\n",
       "...            ...     ...   ...     ...   ...    ...     ...   ...    ...\n",
       "1.697990e+09   0.0  1008.3  76.0  autumn  12.2  179.0    fair   7.4     20\n",
       "1.697994e+09   0.0  1008.9   NaN  autumn  11.2  169.0    fair   7.4      9\n",
       "1.697998e+09   0.0  1009.3  85.0  autumn  10.0  157.0    fair   7.4     16\n",
       "1.698001e+09   0.0  1009.7  87.0  autumn   9.2  149.0    fair   7.4     12\n",
       "1.698005e+09   0.0  1010.1  92.0  autumn   8.4  140.0    fair   5.5     11\n",
       "\n",
       "[15684 rows x 9 columns]"
      ]
     },
     "execution_count": 61,
     "metadata": {},
     "output_type": "execute_result"
    }
   ],
   "source": [
    "df"
   ]
  },
  {
   "cell_type": "code",
   "execution_count": 62,
   "id": "dfa66e23",
   "metadata": {
    "ExecuteTime": {
     "end_time": "2024-02-04T14:02:44.971708Z",
     "start_time": "2024-02-04T14:02:44.940087Z"
    }
   },
   "outputs": [
    {
     "name": "stdout",
     "output_type": "stream",
     "text": [
      "Number of rows with NaN in any columns: 84\n",
      "Number of rows total: 6722\n"
     ]
    }
   ],
   "source": [
    "rows_with_nan = data_test[data_test.isna().any(axis=1)]\n",
    "num_rows_with_nan = len(rows_with_nan)\n",
    "print(\"Number of rows with NaN in any columns:\", num_rows_with_nan)\n",
    "print(\"Number of rows total:\", data_test.shape[0])"
   ]
  },
  {
   "cell_type": "code",
   "execution_count": 123,
   "id": "d1fa4606",
   "metadata": {
    "ExecuteTime": {
     "end_time": "2024-02-04T14:31:31.506257Z",
     "start_time": "2024-02-04T14:31:23.395055Z"
    }
   },
   "outputs": [],
   "source": [
    "y_test_data = pipeline.predict(data_test)"
   ]
  },
  {
   "cell_type": "code",
   "execution_count": 124,
   "id": "4b03c003",
   "metadata": {
    "ExecuteTime": {
     "end_time": "2024-02-04T14:31:34.384464Z",
     "start_time": "2024-02-04T14:31:34.365412Z"
    }
   },
   "outputs": [],
   "source": [
    "unique, counts = np.unique(y_test_data, return_counts=True)"
   ]
  },
  {
   "cell_type": "code",
   "execution_count": 125,
   "id": "99361168",
   "metadata": {
    "ExecuteTime": {
     "end_time": "2024-02-04T14:31:35.685278Z",
     "start_time": "2024-02-04T14:31:35.641857Z"
    }
   },
   "outputs": [
    {
     "data": {
      "text/plain": [
       "array([    0,     1,     4,     6,     9,    10,    11,    14,    19,\n",
       "          20,    21,    22,    23,    26,    28,    30,    31,    32,\n",
       "          33,    34,    35,    36,    37,    41,    42,    43,    44,\n",
       "          47,    53,    55,    57,    58,    59,    60,    64,    71,\n",
       "          72,    75,    76,    77,    79,    80,    83,    84,    85,\n",
       "          87,    88,    90,    91,    99,   103,   105,   106,   118,\n",
       "         132,   133,   141,   142,   144,   147,   154,   155,   156,\n",
       "         157,   161,   163,   164,   165,   168,   169,   176,   178,\n",
       "         180,   182,   185,   186,   187,   192,   194,   195,   199,\n",
       "         200,   201,   202,   205,   206,   208,   209,   210,   212,\n",
       "         215,   216,   220,   221,   224,   227,   233,   240,   242,\n",
       "         243,   248,   252,   260,   263,   270,   271,   279,   288,\n",
       "         289,   291,   295,   298,   300,   305,   306,   308,   309,\n",
       "         312,   316,   317,   322,   323,   324,   329,   330,   332,\n",
       "         335,   336,   348,   349,   350,   351,   352,   354,   358,\n",
       "         369,   372,   373,   378,   388,   390,   398,   401,   403,\n",
       "         406,   410,   413,   422,   430,   431,   434,   435,   437,\n",
       "         438,   440,   441,   442,   449,   452,   465,   466,   468,\n",
       "         471,   479,   485,   486,   489,   491,   493,   495,   501,\n",
       "         502,   503,   505,   512,   516,   518,   528,   539,   547,\n",
       "         557,   558,   561,   576,   580,   586,   590,   593,   595,\n",
       "         608,   616,   620,   626,   639,   640,   644,   661,   670,\n",
       "         672,   677,   684,   685,   687,   689,   693,   700,   704,\n",
       "         705,   707,   708,   725,   736,   739,   745,   747,   752,\n",
       "         759,   762,   764,   775,   786,   788,   789,   792,   799,\n",
       "         802,   809,   817,   818,   821,   833,   835,   837,   847,\n",
       "         848,   850,   856,   858,   861,   873,   877,   878,   888,\n",
       "         890,   892,   893,   900,   902,   903,   907,   908,   910,\n",
       "         913,   918,   926,   927,   938,   939,   942,   944,   945,\n",
       "         952,   953,   959,   965,   969,   971,   973,   977,   981,\n",
       "         985,   989,   990,  1001,  1004,  1024,  1028,  1029,  1032,\n",
       "        1034,  1038,  1049,  1053,  1054,  1055,  1057,  1061,  1065,\n",
       "        1066,  1079,  1084,  1088,  1103,  1107,  1109,  1116,  1122,\n",
       "        1152,  1156,  1167,  1168,  1171,  1177,  1179,  1183,  1185,\n",
       "        1197,  1201,  1203,  1207,  1218,  1219,  1226,  1230,  1243,\n",
       "        1251,  1263,  1266,  1267,  1272,  1276,  1281,  1282,  1285,\n",
       "        1288,  1297,  1301,  1304,  1306,  1321,  1330,  1336,  1337,\n",
       "        1342,  1348,  1351,  1369,  1377,  1382,  1384,  1385,  1399,\n",
       "        1408,  1409,  1416,  1417,  1423,  1431,  1438,  1460,  1476,\n",
       "        1484,  1509,  1512,  1514,  1531,  1541,  1544,  1550,  1554,\n",
       "        1568,  1573,  1583,  1618,  1619,  1623,  1634,  1665,  1680,\n",
       "        1706,  1708,  1730,  1735,  1736,  1761,  1767,  1795,  1797,\n",
       "        1808,  1829,  1856,  1872,  1887,  1951,  1956,  1962,  1973,\n",
       "        2017,  2035,  2037,  2039,  2057,  2065,  2075,  2076,  2097,\n",
       "        2124,  2140,  2154,  2162,  2187,  2200,  2223,  2227,  2246,\n",
       "        2247,  2252,  2302,  2318,  2328,  2341,  2343,  2347,  2356,\n",
       "        2371,  2374,  2385,  2395,  2401,  2413,  2437,  2439,  2441,\n",
       "        2447,  2450,  2498,  2532,  2544,  2592,  2597,  2633,  2659,\n",
       "        2665,  2691,  2711,  2732,  2739,  2763,  2799,  2800,  2824,\n",
       "        2827,  2856,  2868,  2887,  2897,  2899,  2932,  3000,  3025,\n",
       "        3088,  3092,  3115,  3175,  3212,  3242,  3341,  3364,  3439,\n",
       "        3459,  3541,  3553,  3646,  3660,  3884,  3894,  4012,  4092,\n",
       "        4146,  4148,  4179,  4243,  4299,  4456,  4495,  4540,  4970,\n",
       "        4981,  5083,  5174,  5361,  5458,  5499,  5520,  5539,  5578,\n",
       "        5605,  5884,  5892,  5984,  6030,  6040,  6244,  6419,  6472,\n",
       "        6536,  6587,  6944,  7012,  7143,  7349,  7383,  7564,  7700,\n",
       "        7875,  7929,  8004,  8129,  8201,  8385,  8389,  8418,  8493,\n",
       "        8598,  8636,  8695,  8932,  9007,  9092,  9139,  9386,  9485,\n",
       "        9516,  9538,  9786,  9881, 10147, 10316, 10565, 10652, 10669,\n",
       "       10735, 10803, 11218, 11304, 11509, 11544, 11568, 11876, 11902,\n",
       "       12254, 12312, 12389, 12602, 12865, 12959, 12971, 12986, 13601,\n",
       "       14465, 14654, 15691, 16698, 16747, 16876, 17597, 17618, 17760,\n",
       "       17782, 17811, 18316, 18389, 19179, 19246, 19418, 19522, 20184,\n",
       "       20368, 20434, 20796, 21368, 21558, 22078, 22410, 22503, 22766,\n",
       "       22902, 23197, 24111, 24287, 24323, 24510, 24772, 25305, 26415,\n",
       "       26551, 27327, 27514, 29482, 30721, 32571, 33784, 34916, 35036,\n",
       "       35230, 35613, 36510, 37694, 38221, 38630, 40459, 43939, 47895,\n",
       "       48237, 48594, 49829, 51587, 54207, 55665, 74507, 83885, 95848])"
      ]
     },
     "execution_count": 125,
     "metadata": {},
     "output_type": "execute_result"
    }
   ],
   "source": [
    "unique"
   ]
  },
  {
   "cell_type": "code",
   "execution_count": 126,
   "id": "96a1309e",
   "metadata": {
    "ExecuteTime": {
     "end_time": "2024-02-04T14:31:38.363138Z",
     "start_time": "2024-02-04T14:31:38.319050Z"
    }
   },
   "outputs": [
    {
     "data": {
      "text/plain": [
       "array([1392,    5,   13,    3,    1,    2,    5,    1,    1,   16,    1,\n",
       "          3,    6,    3,    3,    3,    7,    1,    1,    1,    1,    6,\n",
       "         12,    3,    1,   17,    1,    4,    1,    5,    1,   47,    6,\n",
       "          7,    5,    3,    7,    2,    1,    9,    3,    1,   13,    3,\n",
       "         14,    1,    3,    1,    1,    3,    2,    1,    1,    7,    2,\n",
       "          1,    2,    2,    3,    1,    1,    6,    9,    1,    1,    2,\n",
       "          1,    1,    3,   33,    1,    3,    7,    1,    1,   15,    1,\n",
       "          2,    1,   14,    1,   13,    1,   20,    1,    9,   11,    2,\n",
       "          1,    5,    1,    6,    2,   13,   28,    1,    3,    3,    2,\n",
       "          5,    4,    3,    8,   10,    4,    2,   10,    6,    1,   26,\n",
       "         12,   74,    1,    3,   13,    1,    3,    1,    1,   11,    3,\n",
       "         29,    3,    2,    1,    2,    2,    7,    1,    7,    1,    1,\n",
       "          2,   14,    1,    2,    2,   16,    2,    2,   25,    8,    1,\n",
       "          2,    2,    6,    1,    1,    5,   43,    1,   10,    8,   10,\n",
       "         13,    2,    5,   17,    4,    7,    1,   16,    4,    6,   10,\n",
       "         11,    2,   15,    1,   28,    2,    1,    2,    3,    1,    1,\n",
       "          1,    4,    2,    1,    7,    4,    1,    8,    4,    6,    4,\n",
       "         47,    3,    1,    4,    1,   14,    2,    1,    1,    5,    1,\n",
       "          5,    1,    3,    6,    1,   22,    7,    1,   12,    2,   24,\n",
       "          7,    6,    9,    1,    6,    1,    2,    9,   51,   19,   31,\n",
       "          2,    2,   18,    3,   33,    1,    1,    7,    3,    3,    6,\n",
       "          4,    4,    5,    8,    1,    1,    8,    2,    2,   73,    3,\n",
       "          2,    2,    4,   16,    2,   60,    2,    6,    9,    1,    4,\n",
       "         48,    3,    1,   16,  313,    4,    1,   34,    7,   69,    1,\n",
       "          1,    1,   53,    5,    3,    7,    6,    1,    1,    6,    1,\n",
       "          3,    1,    1,   25,   26,    3,    1,    8,    5,    3,    2,\n",
       "          1,    1,    3,    1,    1,    8,   86,   15,    3,    5,    6,\n",
       "          3,   96,    1,    2,   19,    6,    2,   18,    6,    4,    7,\n",
       "         34,    1,    2,    4,    1,    1,    8,    4,    3,    7,    1,\n",
       "          1,    4,   32,    5,    4,   11,    9,   31,   11,    5,   17,\n",
       "          2,    1,    3,    3,    5,    3,    3,   22,   10,    4,   10,\n",
       "          1,    1,    3,    7,    9,    1,    4,   20,    1,    2,   14,\n",
       "         12,    8,   10,   12,   13,    1,    2,    1,    1,    4,   12,\n",
       "         17,   15,    2,    9,    1,   10,  149,    1,    2,    3,    4,\n",
       "         10,   13,    1,   45,   28,    1,   13,    3,    1,    9,    3,\n",
       "          2,    1,    1,    1,    2,    2,   12,    1,    5,    6,   19,\n",
       "          3,   10,   35,    2,    2,    4,    5,    4,    6,    8,   10,\n",
       "         14,    3,    1,    8,    3,    1,    8,    4,    6,    1,    8,\n",
       "          7,    2,   43,    6,   11,    3,    6,    2,    6,    9,    1,\n",
       "          2,    1,    1,   15,   31,   22,   39,    9,    6,   13,    6,\n",
       "          2,   15,    1,    7,    1,   13,    5,    1,    6,    3,    4,\n",
       "          1,  111,    1,    5,   10,   16,    3,   18,    1,    4,    3,\n",
       "          3,   40,   33,   14,    2,   29,    1,    4,    2,    4,    1,\n",
       "         12,    2,    4,    2,    1,    2,    2,    3,   10,    2,   28,\n",
       "          7,   13,    1,    1,    2,    2,    1,    1,   11,    1,    1,\n",
       "          4,    1,    5,    1,    1,    4,    1,    2,    9,    1,    7,\n",
       "          1,    1,   10,    2,    2,   10,    1,    8,    1,    2,    4,\n",
       "         11,    2,    1,    3,    8,   47,    3,    1,    3,    2,    3,\n",
       "         60,    3,    1,    1,   14,    6,    2,   16,    2,    1,   17,\n",
       "          4,   22,    1,    2,   56,    2,    1,    8,    1,    2,    3,\n",
       "          5,    9,   14,    2,    2,   91,    7,    1,    2,    7,    6,\n",
       "          4,    2,    5,    1,   21,    1,    1,    3,    2,    4,    2,\n",
       "          2,    1,    2,   14,    2,    6,   55,    1,   19,    3,   13,\n",
       "          1,    1,    3,    2,    2,    1,   43,    7,    1,    3,    6,\n",
       "         12,  151,    8,    3,    1,    1,    4,    2,    2,    5,    1,\n",
       "          7,    3,    2,    3,    1,    2,   21])"
      ]
     },
     "execution_count": 126,
     "metadata": {},
     "output_type": "execute_result"
    }
   ],
   "source": [
    "counts"
   ]
  },
  {
   "cell_type": "code",
   "execution_count": 127,
   "id": "8bcd1bfe",
   "metadata": {
    "ExecuteTime": {
     "end_time": "2024-02-04T14:31:40.441251Z",
     "start_time": "2024-02-04T14:31:40.401292Z"
    }
   },
   "outputs": [
    {
     "data": {
      "text/plain": [
       "(6722, (6722, 8))"
      ]
     },
     "execution_count": 127,
     "metadata": {},
     "output_type": "execute_result"
    }
   ],
   "source": [
    "len(y_test_data), data_test.shape"
   ]
  },
  {
   "cell_type": "code",
   "execution_count": 128,
   "id": "28f130ef",
   "metadata": {
    "ExecuteTime": {
     "end_time": "2024-02-04T14:31:43.905056Z",
     "start_time": "2024-02-04T14:31:43.890977Z"
    }
   },
   "outputs": [],
   "source": [
    "test_y = pd.DataFrame(y_test_data, columns=['counts'])"
   ]
  },
  {
   "cell_type": "code",
   "execution_count": 129,
   "id": "edf74926",
   "metadata": {
    "ExecuteTime": {
     "end_time": "2024-02-04T14:31:45.579746Z",
     "start_time": "2024-02-04T14:31:45.541658Z"
    }
   },
   "outputs": [
    {
     "data": {
      "text/plain": [
       "612"
      ]
     },
     "execution_count": 129,
     "metadata": {},
     "output_type": "execute_result"
    }
   ],
   "source": [
    "len(test_y['counts'].unique())"
   ]
  },
  {
   "cell_type": "code",
   "execution_count": 130,
   "id": "512b4077",
   "metadata": {
    "ExecuteTime": {
     "end_time": "2024-02-04T14:31:48.191500Z",
     "start_time": "2024-02-04T14:31:48.165902Z"
    }
   },
   "outputs": [
    {
     "data": {
      "text/plain": [
       "6722"
      ]
     },
     "execution_count": 130,
     "metadata": {},
     "output_type": "execute_result"
    }
   ],
   "source": [
    "len(test_y)"
   ]
  },
  {
   "cell_type": "code",
   "execution_count": 131,
   "id": "3e1ebb16",
   "metadata": {
    "ExecuteTime": {
     "end_time": "2024-02-04T14:31:56.577479Z",
     "start_time": "2024-02-04T14:31:56.541738Z"
    }
   },
   "outputs": [
    {
     "data": {
      "text/plain": [
       "Index([1636621200.0, 1690999200.0, 1647054000.0, 1642017600.0, 1654333200.0,\n",
       "       1693659600.0, 1692532800.0, 1627934400.0, 1689757200.0, 1694548800.0,\n",
       "       ...\n",
       "       1669982400.0, 1656478800.0, 1631419200.0, 1665298800.0, 1644555600.0,\n",
       "       1617732000.0, 1645221600.0, 1695200400.0, 1678269600.0, 1625803200.0],\n",
       "      dtype='float64', name='timestamp', length=6722)"
      ]
     },
     "execution_count": 131,
     "metadata": {},
     "output_type": "execute_result"
    }
   ],
   "source": [
    "data_test.index"
   ]
  },
  {
   "cell_type": "code",
   "execution_count": 132,
   "id": "daeb2f89",
   "metadata": {
    "ExecuteTime": {
     "end_time": "2024-02-04T14:32:01.966029Z",
     "start_time": "2024-02-04T14:32:01.956289Z"
    }
   },
   "outputs": [],
   "source": [
    "\n",
    "df_concatenated_2 = pd.DataFrame({'timestamp': data_test.index, 'count': test_y['counts']})\n"
   ]
  },
  {
   "cell_type": "code",
   "execution_count": 133,
   "id": "0042ec41",
   "metadata": {
    "ExecuteTime": {
     "end_time": "2024-02-04T14:32:03.996549Z",
     "start_time": "2024-02-04T14:32:03.962745Z"
    }
   },
   "outputs": [
    {
     "data": {
      "text/html": [
       "<div>\n",
       "<style scoped>\n",
       "    .dataframe tbody tr th:only-of-type {\n",
       "        vertical-align: middle;\n",
       "    }\n",
       "\n",
       "    .dataframe tbody tr th {\n",
       "        vertical-align: top;\n",
       "    }\n",
       "\n",
       "    .dataframe thead th {\n",
       "        text-align: right;\n",
       "    }\n",
       "</style>\n",
       "<table border=\"1\" class=\"dataframe\">\n",
       "  <thead>\n",
       "    <tr style=\"text-align: right;\">\n",
       "      <th></th>\n",
       "      <th>timestamp</th>\n",
       "      <th>count</th>\n",
       "    </tr>\n",
       "  </thead>\n",
       "  <tbody>\n",
       "    <tr>\n",
       "      <th>0</th>\n",
       "      <td>1.636621e+09</td>\n",
       "      <td>1416</td>\n",
       "    </tr>\n",
       "    <tr>\n",
       "      <th>1</th>\n",
       "      <td>1.690999e+09</td>\n",
       "      <td>0</td>\n",
       "    </tr>\n",
       "    <tr>\n",
       "      <th>2</th>\n",
       "      <td>1.647054e+09</td>\n",
       "      <td>1618</td>\n",
       "    </tr>\n",
       "    <tr>\n",
       "      <th>3</th>\n",
       "      <td>1.642018e+09</td>\n",
       "      <td>1251</td>\n",
       "    </tr>\n",
       "    <tr>\n",
       "      <th>4</th>\n",
       "      <td>1.654333e+09</td>\n",
       "      <td>0</td>\n",
       "    </tr>\n",
       "    <tr>\n",
       "      <th>...</th>\n",
       "      <td>...</td>\n",
       "      <td>...</td>\n",
       "    </tr>\n",
       "    <tr>\n",
       "      <th>6717</th>\n",
       "      <td>1.617732e+09</td>\n",
       "      <td>20</td>\n",
       "    </tr>\n",
       "    <tr>\n",
       "      <th>6718</th>\n",
       "      <td>1.645222e+09</td>\n",
       "      <td>288</td>\n",
       "    </tr>\n",
       "    <tr>\n",
       "      <th>6719</th>\n",
       "      <td>1.695200e+09</td>\n",
       "      <td>2187</td>\n",
       "    </tr>\n",
       "    <tr>\n",
       "      <th>6720</th>\n",
       "      <td>1.678270e+09</td>\n",
       "      <td>0</td>\n",
       "    </tr>\n",
       "    <tr>\n",
       "      <th>6721</th>\n",
       "      <td>1.625803e+09</td>\n",
       "      <td>1281</td>\n",
       "    </tr>\n",
       "  </tbody>\n",
       "</table>\n",
       "<p>6722 rows × 2 columns</p>\n",
       "</div>"
      ],
      "text/plain": [
       "         timestamp  count\n",
       "0     1.636621e+09   1416\n",
       "1     1.690999e+09      0\n",
       "2     1.647054e+09   1618\n",
       "3     1.642018e+09   1251\n",
       "4     1.654333e+09      0\n",
       "...            ...    ...\n",
       "6717  1.617732e+09     20\n",
       "6718  1.645222e+09    288\n",
       "6719  1.695200e+09   2187\n",
       "6720  1.678270e+09      0\n",
       "6721  1.625803e+09   1281\n",
       "\n",
       "[6722 rows x 2 columns]"
      ]
     },
     "execution_count": 133,
     "metadata": {},
     "output_type": "execute_result"
    }
   ],
   "source": [
    "df_concatenated_2"
   ]
  },
  {
   "cell_type": "code",
   "execution_count": 134,
   "id": "934a1707",
   "metadata": {
    "ExecuteTime": {
     "end_time": "2024-02-04T14:32:20.071671Z",
     "start_time": "2024-02-04T14:32:20.014875Z"
    }
   },
   "outputs": [],
   "source": [
    "df_concatenated_2.to_csv('baseline_results_2.csv', index = False)"
   ]
  },
  {
   "cell_type": "code",
   "execution_count": null,
   "id": "2843bc04",
   "metadata": {},
   "outputs": [],
   "source": []
  }
 ],
 "metadata": {
  "kernelspec": {
   "display_name": "Python 3 (ipykernel)",
   "language": "python",
   "name": "python3"
  },
  "language_info": {
   "codemirror_mode": {
    "name": "ipython",
    "version": 3
   },
   "file_extension": ".py",
   "mimetype": "text/x-python",
   "name": "python",
   "nbconvert_exporter": "python",
   "pygments_lexer": "ipython3",
   "version": "3.10.6"
  },
  "toc": {
   "base_numbering": 1,
   "nav_menu": {},
   "number_sections": true,
   "sideBar": true,
   "skip_h1_title": false,
   "title_cell": "Table of Contents",
   "title_sidebar": "Contents",
   "toc_cell": false,
   "toc_position": {},
   "toc_section_display": true,
   "toc_window_display": false
  }
 },
 "nbformat": 4,
 "nbformat_minor": 5
}
