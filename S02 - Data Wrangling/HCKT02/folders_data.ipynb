{
 "cells": [
  {
   "cell_type": "code",
   "execution_count": 1,
   "id": "489951cb",
   "metadata": {
    "ExecuteTime": {
     "end_time": "2024-02-04T09:07:09.152136Z",
     "start_time": "2024-02-04T09:07:07.739342Z"
    }
   },
   "outputs": [],
   "source": [
    "import pandas as pd\n",
    "import numpy as np"
   ]
  },
  {
   "cell_type": "code",
   "execution_count": 29,
   "id": "eb531067",
   "metadata": {
    "ExecuteTime": {
     "end_time": "2024-02-04T09:27:53.160863Z",
     "start_time": "2024-02-04T09:27:53.130038Z"
    }
   },
   "outputs": [],
   "source": [
    "def check_data(df):\n",
    "    print(\"HEAD\")\n",
    "    print(df.head())\n",
    "    print(\"\\n\")\n",
    "    print(\"SHAPE\")\n",
    "    print(df.shape)\n",
    "    print(\"\\n\")\n",
    "    print(\"DATA TYPES\")\n",
    "    print(df.dtypes)\n",
    "    print(\"\\n\")\n",
    "    print(\"UNIQUE VALUES\")\n",
    "    print(df.nunique())\n",
    "    print(\"\\n\")\n",
    "    print(\"MISSING VALUES\")\n",
    "    print(df.isna().sum())"
   ]
  },
  {
   "cell_type": "code",
   "execution_count": 3,
   "id": "3ad392e0",
   "metadata": {
    "ExecuteTime": {
     "end_time": "2024-02-04T09:14:56.125292Z",
     "start_time": "2024-02-04T09:14:55.861188Z"
    }
   },
   "outputs": [
    {
     "name": "stdout",
     "output_type": "stream",
     "text": [
      "data_0.tsv    data_1.json   data_2.csv    data_3.csv    test_data.csv\r\n"
     ]
    }
   ],
   "source": [
    "!ls data"
   ]
  },
  {
   "cell_type": "code",
   "execution_count": 14,
   "id": "ce39e350",
   "metadata": {
    "ExecuteTime": {
     "end_time": "2024-02-04T09:19:46.986436Z",
     "start_time": "2024-02-04T09:19:46.946546Z"
    }
   },
   "outputs": [],
   "source": [
    "slice0 = pd.read_csv('data/data_0.tsv', sep= '\\t')"
   ]
  },
  {
   "cell_type": "code",
   "execution_count": 32,
   "id": "f3fceef5",
   "metadata": {
    "ExecuteTime": {
     "end_time": "2024-02-04T09:29:27.090542Z",
     "start_time": "2024-02-04T09:29:27.072222Z"
    }
   },
   "outputs": [],
   "source": [
    "slice0.drop([\"Unnamed: 0\"], axis=1, inplace=True)"
   ]
  },
  {
   "cell_type": "code",
   "execution_count": 33,
   "id": "c69d779e",
   "metadata": {
    "ExecuteTime": {
     "end_time": "2024-02-04T09:29:28.267487Z",
     "start_time": "2024-02-04T09:29:28.173088Z"
    }
   },
   "outputs": [
    {
     "name": "stdout",
     "output_type": "stream",
     "text": [
      "HEAD\n",
      "      timestamp  temp  rhum  prcp  wspd    pres   wdir  season\n",
      "0  1.618981e+09   6.4  90.0   0.0   7.4  1019.2   35.0  spring\n",
      "1  1.664172e+09  11.9   NaN   NaN   NaN     NaN    NaN  autumn\n",
      "2  1.666717e+09  14.2  84.0   0.0  11.1  1010.4  141.0  autumn\n",
      "3  1.674011e+09  -2.9  96.0   0.0  11.1   994.5  256.0  winter\n",
      "4  1.648228e+09  14.2  49.0   0.0   NaN     NaN    NaN  spring\n",
      "\n",
      "\n",
      "SHAPE\n",
      "(3921, 8)\n",
      "\n",
      "\n",
      "DATA TYPES\n",
      "timestamp    float64\n",
      "temp         float64\n",
      "rhum         float64\n",
      "prcp         float64\n",
      "wspd         float64\n",
      "pres         float64\n",
      "wdir         float64\n",
      "season        object\n",
      "dtype: object\n",
      "\n",
      "\n",
      "UNIQUE VALUES\n",
      "timestamp    3921\n",
      "temp          328\n",
      "rhum           75\n",
      "prcp           29\n",
      "wspd           37\n",
      "pres          523\n",
      "wdir          358\n",
      "season          4\n",
      "dtype: int64\n",
      "\n",
      "\n",
      "MISSING VALUES\n",
      "timestamp      0\n",
      "temp           0\n",
      "rhum         801\n",
      "prcp         801\n",
      "wspd         734\n",
      "pres         734\n",
      "wdir         734\n",
      "season         0\n",
      "dtype: int64\n"
     ]
    }
   ],
   "source": [
    "check_data(slice0)"
   ]
  },
  {
   "cell_type": "code",
   "execution_count": 25,
   "id": "069c682f",
   "metadata": {
    "ExecuteTime": {
     "end_time": "2024-02-04T09:26:51.613440Z",
     "start_time": "2024-02-04T09:26:51.440383Z"
    }
   },
   "outputs": [],
   "source": [
    "slice1 = pd.read_json(\"data/data_1.json\",orient='table')"
   ]
  },
  {
   "cell_type": "code",
   "execution_count": 75,
   "id": "9ed9cf34",
   "metadata": {
    "ExecuteTime": {
     "end_time": "2024-02-04T12:07:09.702121Z",
     "start_time": "2024-02-04T12:07:08.240451Z"
    },
    "collapsed": true
   },
   "outputs": [
    {
     "ename": "KeyError",
     "evalue": "'timestamp'",
     "output_type": "error",
     "traceback": [
      "\u001b[0;31m---------------------------------------------------------------------------\u001b[0m",
      "\u001b[0;31mKeyError\u001b[0m                                  Traceback (most recent call last)",
      "File \u001b[0;32m~/.pyenv/versions/S02_BLU03/lib/python3.10/site-packages/pandas/core/indexes/base.py:3790\u001b[0m, in \u001b[0;36mIndex.get_loc\u001b[0;34m(self, key)\u001b[0m\n\u001b[1;32m   3789\u001b[0m \u001b[38;5;28;01mtry\u001b[39;00m:\n\u001b[0;32m-> 3790\u001b[0m     \u001b[38;5;28;01mreturn\u001b[39;00m \u001b[38;5;28;43mself\u001b[39;49m\u001b[38;5;241;43m.\u001b[39;49m\u001b[43m_engine\u001b[49m\u001b[38;5;241;43m.\u001b[39;49m\u001b[43mget_loc\u001b[49m\u001b[43m(\u001b[49m\u001b[43mcasted_key\u001b[49m\u001b[43m)\u001b[49m\n\u001b[1;32m   3791\u001b[0m \u001b[38;5;28;01mexcept\u001b[39;00m \u001b[38;5;167;01mKeyError\u001b[39;00m \u001b[38;5;28;01mas\u001b[39;00m err:\n",
      "File \u001b[0;32mindex.pyx:152\u001b[0m, in \u001b[0;36mpandas._libs.index.IndexEngine.get_loc\u001b[0;34m()\u001b[0m\n",
      "File \u001b[0;32mindex.pyx:181\u001b[0m, in \u001b[0;36mpandas._libs.index.IndexEngine.get_loc\u001b[0;34m()\u001b[0m\n",
      "File \u001b[0;32mpandas/_libs/hashtable_class_helper.pxi:7080\u001b[0m, in \u001b[0;36mpandas._libs.hashtable.PyObjectHashTable.get_item\u001b[0;34m()\u001b[0m\n",
      "File \u001b[0;32mpandas/_libs/hashtable_class_helper.pxi:7088\u001b[0m, in \u001b[0;36mpandas._libs.hashtable.PyObjectHashTable.get_item\u001b[0;34m()\u001b[0m\n",
      "\u001b[0;31mKeyError\u001b[0m: 'timestamp'",
      "\nThe above exception was the direct cause of the following exception:\n",
      "\u001b[0;31mKeyError\u001b[0m                                  Traceback (most recent call last)",
      "Cell \u001b[0;32mIn[75], line 2\u001b[0m\n\u001b[1;32m      1\u001b[0m \u001b[38;5;66;03m# Convert datetime strings to Unix timestamps and leave Unix timestamps as is\u001b[39;00m\n\u001b[0;32m----> 2\u001b[0m slice1[\u001b[38;5;124m'\u001b[39m\u001b[38;5;124mtimestamp\u001b[39m\u001b[38;5;124m'\u001b[39m] \u001b[38;5;241m=\u001b[39m pd\u001b[38;5;241m.\u001b[39mto_numeric(\u001b[43mslice1\u001b[49m\u001b[43m[\u001b[49m\u001b[38;5;124;43m'\u001b[39;49m\u001b[38;5;124;43mtimestamp\u001b[39;49m\u001b[38;5;124;43m'\u001b[39;49m\u001b[43m]\u001b[49m, errors\u001b[38;5;241m=\u001b[39m\u001b[38;5;124m'\u001b[39m\u001b[38;5;124mcoerce\u001b[39m\u001b[38;5;124m'\u001b[39m)\n",
      "File \u001b[0;32m~/.pyenv/versions/S02_BLU03/lib/python3.10/site-packages/pandas/core/frame.py:3896\u001b[0m, in \u001b[0;36mDataFrame.__getitem__\u001b[0;34m(self, key)\u001b[0m\n\u001b[1;32m   3894\u001b[0m \u001b[38;5;28;01mif\u001b[39;00m \u001b[38;5;28mself\u001b[39m\u001b[38;5;241m.\u001b[39mcolumns\u001b[38;5;241m.\u001b[39mnlevels \u001b[38;5;241m>\u001b[39m \u001b[38;5;241m1\u001b[39m:\n\u001b[1;32m   3895\u001b[0m     \u001b[38;5;28;01mreturn\u001b[39;00m \u001b[38;5;28mself\u001b[39m\u001b[38;5;241m.\u001b[39m_getitem_multilevel(key)\n\u001b[0;32m-> 3896\u001b[0m indexer \u001b[38;5;241m=\u001b[39m \u001b[38;5;28;43mself\u001b[39;49m\u001b[38;5;241;43m.\u001b[39;49m\u001b[43mcolumns\u001b[49m\u001b[38;5;241;43m.\u001b[39;49m\u001b[43mget_loc\u001b[49m\u001b[43m(\u001b[49m\u001b[43mkey\u001b[49m\u001b[43m)\u001b[49m\n\u001b[1;32m   3897\u001b[0m \u001b[38;5;28;01mif\u001b[39;00m is_integer(indexer):\n\u001b[1;32m   3898\u001b[0m     indexer \u001b[38;5;241m=\u001b[39m [indexer]\n",
      "File \u001b[0;32m~/.pyenv/versions/S02_BLU03/lib/python3.10/site-packages/pandas/core/indexes/base.py:3797\u001b[0m, in \u001b[0;36mIndex.get_loc\u001b[0;34m(self, key)\u001b[0m\n\u001b[1;32m   3792\u001b[0m     \u001b[38;5;28;01mif\u001b[39;00m \u001b[38;5;28misinstance\u001b[39m(casted_key, \u001b[38;5;28mslice\u001b[39m) \u001b[38;5;129;01mor\u001b[39;00m (\n\u001b[1;32m   3793\u001b[0m         \u001b[38;5;28misinstance\u001b[39m(casted_key, abc\u001b[38;5;241m.\u001b[39mIterable)\n\u001b[1;32m   3794\u001b[0m         \u001b[38;5;129;01mand\u001b[39;00m \u001b[38;5;28many\u001b[39m(\u001b[38;5;28misinstance\u001b[39m(x, \u001b[38;5;28mslice\u001b[39m) \u001b[38;5;28;01mfor\u001b[39;00m x \u001b[38;5;129;01min\u001b[39;00m casted_key)\n\u001b[1;32m   3795\u001b[0m     ):\n\u001b[1;32m   3796\u001b[0m         \u001b[38;5;28;01mraise\u001b[39;00m InvalidIndexError(key)\n\u001b[0;32m-> 3797\u001b[0m     \u001b[38;5;28;01mraise\u001b[39;00m \u001b[38;5;167;01mKeyError\u001b[39;00m(key) \u001b[38;5;28;01mfrom\u001b[39;00m \u001b[38;5;21;01merr\u001b[39;00m\n\u001b[1;32m   3798\u001b[0m \u001b[38;5;28;01mexcept\u001b[39;00m \u001b[38;5;167;01mTypeError\u001b[39;00m:\n\u001b[1;32m   3799\u001b[0m     \u001b[38;5;66;03m# If we have a listlike key, _check_indexing_error will raise\u001b[39;00m\n\u001b[1;32m   3800\u001b[0m     \u001b[38;5;66;03m#  InvalidIndexError. Otherwise we fall through and re-raise\u001b[39;00m\n\u001b[1;32m   3801\u001b[0m     \u001b[38;5;66;03m#  the TypeError.\u001b[39;00m\n\u001b[1;32m   3802\u001b[0m     \u001b[38;5;28mself\u001b[39m\u001b[38;5;241m.\u001b[39m_check_indexing_error(key)\n",
      "\u001b[0;31mKeyError\u001b[0m: 'timestamp'"
     ]
    }
   ],
   "source": [
    "# Convert datetime strings to Unix timestamps and leave Unix timestamps as is\n",
    "slice1['timestamp'] = pd.to_numeric(slice1['timestamp'], errors='coerce')\n"
   ]
  },
  {
   "cell_type": "code",
   "execution_count": 81,
   "id": "e6bfbbee",
   "metadata": {
    "ExecuteTime": {
     "end_time": "2024-02-04T12:14:14.874783Z",
     "start_time": "2024-02-04T12:14:14.786604Z"
    }
   },
   "outputs": [],
   "source": [
    "slice1=slice1.reset_index(drop=False)"
   ]
  },
  {
   "cell_type": "code",
   "execution_count": 82,
   "id": "da1573fa",
   "metadata": {
    "ExecuteTime": {
     "end_time": "2024-02-04T12:14:21.657443Z",
     "start_time": "2024-02-04T12:14:21.379751Z"
    }
   },
   "outputs": [
    {
     "data": {
      "text/html": [
       "<div>\n",
       "<style scoped>\n",
       "    .dataframe tbody tr th:only-of-type {\n",
       "        vertical-align: middle;\n",
       "    }\n",
       "\n",
       "    .dataframe tbody tr th {\n",
       "        vertical-align: top;\n",
       "    }\n",
       "\n",
       "    .dataframe thead th {\n",
       "        text-align: right;\n",
       "    }\n",
       "</style>\n",
       "<table border=\"1\" class=\"dataframe\">\n",
       "  <thead>\n",
       "    <tr style=\"text-align: right;\">\n",
       "      <th></th>\n",
       "      <th>timestamp</th>\n",
       "      <th>temp</th>\n",
       "      <th>rhum</th>\n",
       "      <th>prcp</th>\n",
       "      <th>wspd</th>\n",
       "      <th>pres</th>\n",
       "      <th>wdir</th>\n",
       "      <th>season</th>\n",
       "    </tr>\n",
       "  </thead>\n",
       "  <tbody>\n",
       "    <tr>\n",
       "      <th>0</th>\n",
       "      <td>2022-08-02 13:00:00</td>\n",
       "      <td>26.3</td>\n",
       "      <td>53.0</td>\n",
       "      <td>0.0</td>\n",
       "      <td>27.8</td>\n",
       "      <td>1014.4</td>\n",
       "      <td>243.0</td>\n",
       "      <td>summer</td>\n",
       "    </tr>\n",
       "    <tr>\n",
       "      <th>1</th>\n",
       "      <td>2023-04-30 10:00:00</td>\n",
       "      <td>14.8</td>\n",
       "      <td>59.0</td>\n",
       "      <td>0.0</td>\n",
       "      <td>13.0</td>\n",
       "      <td>1021.3</td>\n",
       "      <td>164.0</td>\n",
       "      <td>spring</td>\n",
       "    </tr>\n",
       "    <tr>\n",
       "      <th>2</th>\n",
       "      <td>2021-06-15 19:00:00</td>\n",
       "      <td>18.1</td>\n",
       "      <td>68.0</td>\n",
       "      <td>0.0</td>\n",
       "      <td>NaN</td>\n",
       "      <td>NaN</td>\n",
       "      <td>NaN</td>\n",
       "      <td>spring</td>\n",
       "    </tr>\n",
       "    <tr>\n",
       "      <th>3</th>\n",
       "      <td>2022-06-03 11:00:00</td>\n",
       "      <td>22.0</td>\n",
       "      <td>41.0</td>\n",
       "      <td>0.0</td>\n",
       "      <td>20.5</td>\n",
       "      <td>1017.0</td>\n",
       "      <td>80.0</td>\n",
       "      <td>spring</td>\n",
       "    </tr>\n",
       "    <tr>\n",
       "      <th>4</th>\n",
       "      <td>2022-11-03 04:00:00</td>\n",
       "      <td>11.6</td>\n",
       "      <td>90.0</td>\n",
       "      <td>4.2</td>\n",
       "      <td>14.8</td>\n",
       "      <td>1003.8</td>\n",
       "      <td>200.0</td>\n",
       "      <td>autumn</td>\n",
       "    </tr>\n",
       "    <tr>\n",
       "      <th>...</th>\n",
       "      <td>...</td>\n",
       "      <td>...</td>\n",
       "      <td>...</td>\n",
       "      <td>...</td>\n",
       "      <td>...</td>\n",
       "      <td>...</td>\n",
       "      <td>...</td>\n",
       "      <td>...</td>\n",
       "    </tr>\n",
       "    <tr>\n",
       "      <th>3916</th>\n",
       "      <td>2022-07-26 04:00:00</td>\n",
       "      <td>13.2</td>\n",
       "      <td>NaN</td>\n",
       "      <td>NaN</td>\n",
       "      <td>9.3</td>\n",
       "      <td>1018.0</td>\n",
       "      <td>311.0</td>\n",
       "      <td>summer</td>\n",
       "    </tr>\n",
       "    <tr>\n",
       "      <th>3917</th>\n",
       "      <td>2023-09-29 20:00:00</td>\n",
       "      <td>12.1</td>\n",
       "      <td>84.0</td>\n",
       "      <td>0.0</td>\n",
       "      <td>5.5</td>\n",
       "      <td>1024.6</td>\n",
       "      <td>222.0</td>\n",
       "      <td>autumn</td>\n",
       "    </tr>\n",
       "    <tr>\n",
       "      <th>3918</th>\n",
       "      <td>2023-06-01 01:00:00</td>\n",
       "      <td>9.3</td>\n",
       "      <td>89.0</td>\n",
       "      <td>0.0</td>\n",
       "      <td>18.5</td>\n",
       "      <td>1026.1</td>\n",
       "      <td>31.0</td>\n",
       "      <td>spring</td>\n",
       "    </tr>\n",
       "    <tr>\n",
       "      <th>3919</th>\n",
       "      <td>2023-02-02 18:00:00</td>\n",
       "      <td>8.6</td>\n",
       "      <td>86.0</td>\n",
       "      <td>0.0</td>\n",
       "      <td>20.4</td>\n",
       "      <td>1027.3</td>\n",
       "      <td>256.0</td>\n",
       "      <td>winter</td>\n",
       "    </tr>\n",
       "    <tr>\n",
       "      <th>3920</th>\n",
       "      <td>2021-11-24 07:00:00</td>\n",
       "      <td>3.5</td>\n",
       "      <td>95.0</td>\n",
       "      <td>0.0</td>\n",
       "      <td>NaN</td>\n",
       "      <td>NaN</td>\n",
       "      <td>NaN</td>\n",
       "      <td>autumn</td>\n",
       "    </tr>\n",
       "  </tbody>\n",
       "</table>\n",
       "<p>3921 rows × 8 columns</p>\n",
       "</div>"
      ],
      "text/plain": [
       "               timestamp  temp  rhum  prcp  wspd    pres   wdir  season\n",
       "0    2022-08-02 13:00:00  26.3  53.0   0.0  27.8  1014.4  243.0  summer\n",
       "1    2023-04-30 10:00:00  14.8  59.0   0.0  13.0  1021.3  164.0  spring\n",
       "2    2021-06-15 19:00:00  18.1  68.0   0.0   NaN     NaN    NaN  spring\n",
       "3    2022-06-03 11:00:00  22.0  41.0   0.0  20.5  1017.0   80.0  spring\n",
       "4    2022-11-03 04:00:00  11.6  90.0   4.2  14.8  1003.8  200.0  autumn\n",
       "...                  ...   ...   ...   ...   ...     ...    ...     ...\n",
       "3916 2022-07-26 04:00:00  13.2   NaN   NaN   9.3  1018.0  311.0  summer\n",
       "3917 2023-09-29 20:00:00  12.1  84.0   0.0   5.5  1024.6  222.0  autumn\n",
       "3918 2023-06-01 01:00:00   9.3  89.0   0.0  18.5  1026.1   31.0  spring\n",
       "3919 2023-02-02 18:00:00   8.6  86.0   0.0  20.4  1027.3  256.0  winter\n",
       "3920 2021-11-24 07:00:00   3.5  95.0   0.0   NaN     NaN    NaN  autumn\n",
       "\n",
       "[3921 rows x 8 columns]"
      ]
     },
     "execution_count": 82,
     "metadata": {},
     "output_type": "execute_result"
    }
   ],
   "source": [
    "slice1"
   ]
  },
  {
   "cell_type": "code",
   "execution_count": 83,
   "id": "8f2e2711",
   "metadata": {
    "ExecuteTime": {
     "end_time": "2024-02-04T12:14:24.008209Z",
     "start_time": "2024-02-04T12:14:23.904365Z"
    }
   },
   "outputs": [],
   "source": [
    "\n",
    "# Assuming 'timestamp' is the column with datetime64[ns] values\n",
    "slice1['timestamp'] = (pd.to_datetime(slice1['timestamp']) - pd.Timestamp(\"1970-01-01\")) // pd.Timedelta('1s')\n"
   ]
  },
  {
   "cell_type": "code",
   "execution_count": 84,
   "id": "7de406d1",
   "metadata": {
    "ExecuteTime": {
     "end_time": "2024-02-04T12:14:27.871991Z",
     "start_time": "2024-02-04T12:14:27.760827Z"
    }
   },
   "outputs": [
    {
     "name": "stdout",
     "output_type": "stream",
     "text": [
      "HEAD\n",
      "    timestamp  temp  rhum  prcp  wspd    pres   wdir  season\n",
      "0  1659445200  26.3  53.0   0.0  27.8  1014.4  243.0  summer\n",
      "1  1682848800  14.8  59.0   0.0  13.0  1021.3  164.0  spring\n",
      "2  1623783600  18.1  68.0   0.0   NaN     NaN    NaN  spring\n",
      "3  1654254000  22.0  41.0   0.0  20.5  1017.0   80.0  spring\n",
      "4  1667448000  11.6  90.0   4.2  14.8  1003.8  200.0  autumn\n",
      "\n",
      "\n",
      "SHAPE\n",
      "(3921, 8)\n",
      "\n",
      "\n",
      "DATA TYPES\n",
      "timestamp      int64\n",
      "temp         float64\n",
      "rhum         float64\n",
      "prcp         float64\n",
      "wspd         float64\n",
      "pres         float64\n",
      "wdir         float64\n",
      "season        object\n",
      "dtype: object\n",
      "\n",
      "\n",
      "UNIQUE VALUES\n",
      "timestamp    3921\n",
      "temp          331\n",
      "rhum           76\n",
      "prcp           36\n",
      "wspd           37\n",
      "pres          514\n",
      "wdir          360\n",
      "season          4\n",
      "dtype: int64\n",
      "\n",
      "\n",
      "MISSING VALUES\n",
      "timestamp      0\n",
      "temp           0\n",
      "rhum         767\n",
      "prcp         767\n",
      "wspd         796\n",
      "pres         796\n",
      "wdir         796\n",
      "season         0\n",
      "dtype: int64\n"
     ]
    }
   ],
   "source": [
    "check_data(slice1)"
   ]
  },
  {
   "cell_type": "code",
   "execution_count": 4,
   "id": "ec2e4222",
   "metadata": {
    "ExecuteTime": {
     "end_time": "2024-02-04T09:18:16.911428Z",
     "start_time": "2024-02-04T09:18:16.782768Z"
    }
   },
   "outputs": [],
   "source": [
    "slice2 = pd.read_csv(\"data/data_2.csv\")"
   ]
  },
  {
   "cell_type": "code",
   "execution_count": 34,
   "id": "a9b2cd28",
   "metadata": {
    "ExecuteTime": {
     "end_time": "2024-02-04T09:29:46.645183Z",
     "start_time": "2024-02-04T09:29:46.615399Z"
    }
   },
   "outputs": [],
   "source": [
    "slice2.drop([\"Unnamed: 0\"], axis=1, inplace=True)"
   ]
  },
  {
   "cell_type": "code",
   "execution_count": 36,
   "id": "f3615783",
   "metadata": {
    "ExecuteTime": {
     "end_time": "2024-02-04T09:30:02.692241Z",
     "start_time": "2024-02-04T09:30:02.653330Z"
    }
   },
   "outputs": [
    {
     "name": "stdout",
     "output_type": "stream",
     "text": [
      "HEAD\n",
      "      timestamp  temp  rhum  prcp  wspd    pres   wdir  season\n",
      "0  1.624540e+09  19.6  58.0   0.0  13.0  1021.1  288.0  summer\n",
      "1  1.651237e+09  10.9  57.0   0.0   NaN     NaN    NaN  spring\n",
      "2  1.619507e+09   6.6  74.0   0.0   5.5  1012.3  112.0  spring\n",
      "3  1.639584e+09  10.4   NaN   NaN   9.3  1031.5  238.0  autumn\n",
      "4  1.622804e+09  15.9  80.0   1.0   NaN     NaN    NaN  spring\n",
      "\n",
      "\n",
      "SHAPE\n",
      "(3921, 8)\n",
      "\n",
      "\n",
      "DATA TYPES\n",
      "timestamp    float64\n",
      "temp         float64\n",
      "rhum         float64\n",
      "prcp         float64\n",
      "wspd         float64\n",
      "pres         float64\n",
      "wdir         float64\n",
      "season        object\n",
      "dtype: object\n",
      "\n",
      "\n",
      "UNIQUE VALUES\n",
      "timestamp    3921\n",
      "temp          322\n",
      "rhum           78\n",
      "prcp           30\n",
      "wspd           36\n",
      "pres          501\n",
      "wdir          360\n",
      "season          4\n",
      "dtype: int64\n",
      "\n",
      "\n",
      "MISSING VALUES\n",
      "timestamp      0\n",
      "temp           0\n",
      "rhum         772\n",
      "prcp         772\n",
      "wspd         786\n",
      "pres         786\n",
      "wdir         786\n",
      "season         0\n",
      "dtype: int64\n"
     ]
    }
   ],
   "source": [
    "check_data(slice2)"
   ]
  },
  {
   "cell_type": "code",
   "execution_count": 16,
   "id": "19aa875e",
   "metadata": {
    "ExecuteTime": {
     "end_time": "2024-02-04T09:20:56.894780Z",
     "start_time": "2024-02-04T09:20:56.813917Z"
    }
   },
   "outputs": [],
   "source": [
    "slice3 = pd.read_csv(\"data/data_3.csv\")"
   ]
  },
  {
   "cell_type": "code",
   "execution_count": 37,
   "id": "a893b2c3",
   "metadata": {
    "ExecuteTime": {
     "end_time": "2024-02-04T09:30:13.323010Z",
     "start_time": "2024-02-04T09:30:13.251330Z"
    }
   },
   "outputs": [],
   "source": [
    "slice3.drop([\"Unnamed: 0\"], axis=1, inplace=True)"
   ]
  },
  {
   "cell_type": "code",
   "execution_count": 38,
   "id": "ddc75347",
   "metadata": {
    "ExecuteTime": {
     "end_time": "2024-02-04T09:30:24.098512Z",
     "start_time": "2024-02-04T09:30:24.026941Z"
    }
   },
   "outputs": [
    {
     "name": "stdout",
     "output_type": "stream",
     "text": [
      "HEAD\n",
      "      timestamp  temp   rhum  prcp  wspd    pres   wdir  season\n",
      "0  1.684310e+09  12.9  73.0%   0.0   9.3  1029.2  330.0  Spring\n",
      "1  1.633590e+09  13.6  94.0%   0.0   9.3  1025.7  217.0  Autumn\n",
      "2  1.633694e+09  17.9  78.0%   0.0   5.5  1029.8  168.0  Autumn\n",
      "3  1.655417e+09  17.4  66.0%   0.0   9.3  1022.3  190.0  Spring\n",
      "4  1.639123e+09   4.2  86.0%   0.0  29.6   995.8  308.0  Autumn\n",
      "\n",
      "\n",
      "SHAPE\n",
      "(3921, 8)\n",
      "\n",
      "\n",
      "DATA TYPES\n",
      "timestamp    float64\n",
      "temp         float64\n",
      "rhum          object\n",
      "prcp         float64\n",
      "wspd         float64\n",
      "pres         float64\n",
      "wdir         float64\n",
      "season        object\n",
      "dtype: object\n",
      "\n",
      "\n",
      "UNIQUE VALUES\n",
      "timestamp    3921\n",
      "temp          327\n",
      "rhum           77\n",
      "prcp           36\n",
      "wspd           32\n",
      "pres          518\n",
      "wdir          359\n",
      "season          4\n",
      "dtype: int64\n",
      "\n",
      "\n",
      "MISSING VALUES\n",
      "timestamp      0\n",
      "temp           0\n",
      "rhum           0\n",
      "prcp         797\n",
      "wspd         821\n",
      "pres         821\n",
      "wdir         821\n",
      "season         0\n",
      "dtype: int64\n"
     ]
    }
   ],
   "source": [
    "check_data(slice3)"
   ]
  },
  {
   "cell_type": "code",
   "execution_count": 39,
   "id": "b7b1c954",
   "metadata": {
    "ExecuteTime": {
     "end_time": "2024-02-04T09:30:35.594410Z",
     "start_time": "2024-02-04T09:30:35.239182Z"
    }
   },
   "outputs": [
    {
     "name": "stdout",
     "output_type": "stream",
     "text": [
      "data_0.tsv    data_1.json   data_2.csv    data_3.csv    test_data.csv\r\n"
     ]
    }
   ],
   "source": [
    "!ls data"
   ]
  },
  {
   "cell_type": "code",
   "execution_count": 40,
   "id": "9566d00d",
   "metadata": {
    "ExecuteTime": {
     "end_time": "2024-02-04T09:31:05.365319Z",
     "start_time": "2024-02-04T09:31:05.278435Z"
    }
   },
   "outputs": [],
   "source": [
    "test_data = pd.read_csv(\"data/test_data.csv\")"
   ]
  },
  {
   "cell_type": "code",
   "execution_count": 43,
   "id": "9ff676d1",
   "metadata": {
    "ExecuteTime": {
     "end_time": "2024-02-04T09:31:36.779531Z",
     "start_time": "2024-02-04T09:31:36.757988Z"
    }
   },
   "outputs": [],
   "source": [
    "test_data.drop([\"Unnamed: 0\"], axis=1, inplace=True)"
   ]
  },
  {
   "cell_type": "code",
   "execution_count": 44,
   "id": "2ff8762a",
   "metadata": {
    "ExecuteTime": {
     "end_time": "2024-02-04T09:31:44.134686Z",
     "start_time": "2024-02-04T09:31:44.049472Z"
    }
   },
   "outputs": [
    {
     "name": "stdout",
     "output_type": "stream",
     "text": [
      "HEAD\n",
      "      timestamp  temp  rhum  prcp  wspd    pres   wdir               weco  \\\n",
      "0  1.636621e+09  10.1  98.0   0.0   7.4  1023.9  214.0           Overcast   \n",
      "1  1.690999e+09  16.1  90.0   0.0  13.0   987.8  274.0  Heavy Rain Shower   \n",
      "2  1.647054e+09   7.5  90.0   0.0  16.7  1006.1  182.0         Light Rain   \n",
      "3  1.642018e+09   2.9  93.0   0.0   5.5  1042.4  228.0               Fair   \n",
      "4  1.654333e+09  15.0  67.0   0.2  20.5  1021.0   60.0                NaN   \n",
      "\n",
      "   season  \n",
      "0  autumn  \n",
      "1  summer  \n",
      "2  winter  \n",
      "3  winter  \n",
      "4  spring  \n",
      "\n",
      "\n",
      "SHAPE\n",
      "(6722, 9)\n",
      "\n",
      "\n",
      "DATA TYPES\n",
      "timestamp    float64\n",
      "temp         float64\n",
      "rhum         float64\n",
      "prcp         float64\n",
      "wspd         float64\n",
      "pres         float64\n",
      "wdir         float64\n",
      "weco          object\n",
      "season        object\n",
      "dtype: object\n",
      "\n",
      "\n",
      "UNIQUE VALUES\n",
      "timestamp    6722\n",
      "temp          346\n",
      "rhum           77\n",
      "prcp           43\n",
      "wspd           40\n",
      "pres          578\n",
      "wdir          360\n",
      "weco           13\n",
      "season          4\n",
      "dtype: int64\n",
      "\n",
      "\n",
      "MISSING VALUES\n",
      "timestamp     0\n",
      "temp          0\n",
      "rhum          0\n",
      "prcp          0\n",
      "wspd          0\n",
      "pres          0\n",
      "wdir          0\n",
      "weco         84\n",
      "season        0\n",
      "dtype: int64\n"
     ]
    }
   ],
   "source": [
    "check_data(test_data)"
   ]
  },
  {
   "cell_type": "code",
   "execution_count": 85,
   "id": "f33504a8",
   "metadata": {
    "ExecuteTime": {
     "end_time": "2024-02-04T12:14:41.511443Z",
     "start_time": "2024-02-04T12:14:41.378570Z"
    }
   },
   "outputs": [],
   "source": [
    "#lowercase all colnames\n",
    "slice0 = slice0.rename(columns=str.lower)\n",
    "slice1 = slice1.rename(columns=str.lower)\n",
    "slice2 = slice2.rename(columns=str.lower)\n",
    "slice3 = slice3.rename(columns=str.lower)\n"
   ]
  },
  {
   "cell_type": "code",
   "execution_count": 87,
   "id": "bbc8851d",
   "metadata": {
    "ExecuteTime": {
     "end_time": "2024-02-04T12:15:11.624452Z",
     "start_time": "2024-02-04T12:15:11.474593Z"
    }
   },
   "outputs": [],
   "source": [
    "#slice0 = slice0.set_index(\"timestamp\")\n",
    "slice1 = slice1.set_index(\"timestamp\")\n",
    "#slice2 = slice2.set_index(\"timestamp\")\n",
    "#slice3 = slice3.set_index(\"timestamp\")"
   ]
  },
  {
   "cell_type": "code",
   "execution_count": 88,
   "id": "f69aadc9",
   "metadata": {
    "ExecuteTime": {
     "end_time": "2024-02-04T12:15:19.147099Z",
     "start_time": "2024-02-04T12:15:19.056385Z"
    }
   },
   "outputs": [
    {
     "name": "stdout",
     "output_type": "stream",
     "text": [
      "HEAD\n",
      "              temp  rhum  prcp  wspd    pres   wdir  season\n",
      "timestamp                                                  \n",
      "1.618981e+09   6.4  90.0   0.0   7.4  1019.2   35.0  spring\n",
      "1.664172e+09  11.9   NaN   NaN   NaN     NaN    NaN  autumn\n",
      "1.666717e+09  14.2  84.0   0.0  11.1  1010.4  141.0  autumn\n",
      "1.674011e+09  -2.9  96.0   0.0  11.1   994.5  256.0  winter\n",
      "1.648228e+09  14.2  49.0   0.0   NaN     NaN    NaN  spring\n",
      "\n",
      "\n",
      "SHAPE\n",
      "(15684, 7)\n",
      "\n",
      "\n",
      "DATA TYPES\n",
      "temp      float64\n",
      "rhum       object\n",
      "prcp      float64\n",
      "wspd      float64\n",
      "pres      float64\n",
      "wdir      float64\n",
      "season     object\n",
      "dtype: object\n",
      "\n",
      "\n",
      "UNIQUE VALUES\n",
      "temp      379\n",
      "rhum      158\n",
      "prcp       50\n",
      "wspd       42\n",
      "pres      624\n",
      "wdir      360\n",
      "season      8\n",
      "dtype: int64\n",
      "\n",
      "\n",
      "MISSING VALUES\n",
      "temp         0\n",
      "rhum      2340\n",
      "prcp      3137\n",
      "wspd      3137\n",
      "pres      3137\n",
      "wdir      3137\n",
      "season       0\n",
      "dtype: int64\n"
     ]
    }
   ],
   "source": [
    "df = pd.concat([slice0, slice1, slice2, slice3])\n",
    "check_data(df)\n"
   ]
  },
  {
   "cell_type": "code",
   "execution_count": 89,
   "id": "e791a5be",
   "metadata": {
    "ExecuteTime": {
     "end_time": "2024-02-04T12:15:27.103916Z",
     "start_time": "2024-02-04T12:15:27.077092Z"
    }
   },
   "outputs": [
    {
     "data": {
      "text/plain": [
       "15684"
      ]
     },
     "execution_count": 89,
     "metadata": {},
     "output_type": "execute_result"
    }
   ],
   "source": [
    "len(df.index.unique())"
   ]
  },
  {
   "cell_type": "code",
   "execution_count": 90,
   "id": "5b160651",
   "metadata": {
    "ExecuteTime": {
     "end_time": "2024-02-04T12:15:28.970600Z",
     "start_time": "2024-02-04T12:15:28.825463Z"
    }
   },
   "outputs": [
    {
     "name": "stdout",
     "output_type": "stream",
     "text": [
      "3921\n",
      "3921\n",
      "3921\n",
      "3921\n",
      "15684\n"
     ]
    }
   ],
   "source": [
    "t=0\n",
    "for s in [slice0, slice1, slice2, slice3]:\n",
    "    t+=s.shape[0]\n",
    "    print(s.shape[0])\n",
    "print(t)"
   ]
  },
  {
   "cell_type": "code",
   "execution_count": 91,
   "id": "47c16240",
   "metadata": {
    "ExecuteTime": {
     "end_time": "2024-02-04T12:15:31.531455Z",
     "start_time": "2024-02-04T12:15:31.457765Z"
    }
   },
   "outputs": [
    {
     "data": {
      "text/plain": [
       "rhum\n",
       "nan%     797\n",
       "89.0     376\n",
       "93.0     372\n",
       "90.0     369\n",
       "91.0     368\n",
       "        ... \n",
       "23.0       1\n",
       "26.0%      1\n",
       "24.0%      1\n",
       "19.0       1\n",
       "29.0%      1\n",
       "Name: count, Length: 158, dtype: int64"
      ]
     },
     "execution_count": 91,
     "metadata": {},
     "output_type": "execute_result"
    }
   ],
   "source": [
    "df.rhum.value_counts()"
   ]
  },
  {
   "cell_type": "code",
   "execution_count": 92,
   "id": "75afe23a",
   "metadata": {
    "ExecuteTime": {
     "end_time": "2024-02-04T12:15:33.844570Z",
     "start_time": "2024-02-04T12:15:33.742776Z"
    }
   },
   "outputs": [],
   "source": [
    "df['rhum'] = df['rhum'].str.replace('%', '').astype('float')\n"
   ]
  },
  {
   "cell_type": "code",
   "execution_count": 93,
   "id": "1c8d7595",
   "metadata": {
    "ExecuteTime": {
     "end_time": "2024-02-04T12:15:34.771940Z",
     "start_time": "2024-02-04T12:15:34.746487Z"
    }
   },
   "outputs": [
    {
     "data": {
      "text/plain": [
       "rhum\n",
       "91.0    127\n",
       "94.0    122\n",
       "87.0    122\n",
       "90.0    116\n",
       "92.0    114\n",
       "       ... \n",
       "34.0      1\n",
       "23.0      1\n",
       "26.0      1\n",
       "24.0      1\n",
       "29.0      1\n",
       "Name: count, Length: 76, dtype: int64"
      ]
     },
     "execution_count": 93,
     "metadata": {},
     "output_type": "execute_result"
    }
   ],
   "source": [
    "df.rhum.value_counts()"
   ]
  },
  {
   "cell_type": "code",
   "execution_count": 94,
   "id": "41fdee7e",
   "metadata": {
    "ExecuteTime": {
     "end_time": "2024-02-04T12:15:36.276217Z",
     "start_time": "2024-02-04T12:15:36.217989Z"
    }
   },
   "outputs": [
    {
     "name": "stdout",
     "output_type": "stream",
     "text": [
      "HEAD\n",
      "              temp  rhum  prcp  wspd    pres   wdir  season\n",
      "timestamp                                                  \n",
      "1.618981e+09   6.4   NaN   0.0   7.4  1019.2   35.0  spring\n",
      "1.664172e+09  11.9   NaN   NaN   NaN     NaN    NaN  autumn\n",
      "1.666717e+09  14.2   NaN   0.0  11.1  1010.4  141.0  autumn\n",
      "1.674011e+09  -2.9   NaN   0.0  11.1   994.5  256.0  winter\n",
      "1.648228e+09  14.2   NaN   0.0   NaN     NaN    NaN  spring\n",
      "\n",
      "\n",
      "SHAPE\n",
      "(15684, 7)\n",
      "\n",
      "\n",
      "DATA TYPES\n",
      "temp      float64\n",
      "rhum      float64\n",
      "prcp      float64\n",
      "wspd      float64\n",
      "pres      float64\n",
      "wdir      float64\n",
      "season     object\n",
      "dtype: object\n",
      "\n",
      "\n",
      "UNIQUE VALUES\n",
      "temp      379\n",
      "rhum       76\n",
      "prcp       50\n",
      "wspd       42\n",
      "pres      624\n",
      "wdir      360\n",
      "season      8\n",
      "dtype: int64\n",
      "\n",
      "\n",
      "MISSING VALUES\n",
      "temp          0\n",
      "rhum      12560\n",
      "prcp       3137\n",
      "wspd       3137\n",
      "pres       3137\n",
      "wdir       3137\n",
      "season        0\n",
      "dtype: int64\n"
     ]
    }
   ],
   "source": [
    "check_data(df)"
   ]
  },
  {
   "cell_type": "code",
   "execution_count": 95,
   "id": "89bb21aa",
   "metadata": {
    "ExecuteTime": {
     "end_time": "2024-02-04T12:15:41.757238Z",
     "start_time": "2024-02-04T12:15:41.693238Z"
    }
   },
   "outputs": [
    {
     "data": {
      "text/plain": [
       "season\n",
       "summer    3534\n",
       "spring    3321\n",
       "autumn    2632\n",
       "winter    2276\n",
       "Summer    1150\n",
       "Spring    1131\n",
       "Autumn     898\n",
       "Winter     742\n",
       "Name: count, dtype: int64"
      ]
     },
     "execution_count": 95,
     "metadata": {},
     "output_type": "execute_result"
    }
   ],
   "source": [
    "df.season.value_counts()"
   ]
  },
  {
   "cell_type": "code",
   "execution_count": 96,
   "id": "cc576b1f",
   "metadata": {
    "ExecuteTime": {
     "end_time": "2024-02-04T12:15:42.717620Z",
     "start_time": "2024-02-04T12:15:42.676908Z"
    }
   },
   "outputs": [],
   "source": [
    "df['season']=df['season'].str.lower()"
   ]
  },
  {
   "cell_type": "code",
   "execution_count": 97,
   "id": "c8d90c8e",
   "metadata": {
    "ExecuteTime": {
     "end_time": "2024-02-04T12:15:43.727279Z",
     "start_time": "2024-02-04T12:15:43.604520Z"
    }
   },
   "outputs": [
    {
     "data": {
      "text/plain": [
       "season\n",
       "summer    4684\n",
       "spring    4452\n",
       "autumn    3530\n",
       "winter    3018\n",
       "Name: count, dtype: int64"
      ]
     },
     "execution_count": 97,
     "metadata": {},
     "output_type": "execute_result"
    }
   ],
   "source": [
    "df.season.value_counts()"
   ]
  },
  {
   "cell_type": "code",
   "execution_count": 98,
   "id": "cfee9617",
   "metadata": {
    "ExecuteTime": {
     "end_time": "2024-02-04T12:15:45.165375Z",
     "start_time": "2024-02-04T12:15:45.083156Z"
    }
   },
   "outputs": [
    {
     "name": "stdout",
     "output_type": "stream",
     "text": [
      "HEAD\n",
      "              temp  rhum  prcp  wspd    pres   wdir  season\n",
      "timestamp                                                  \n",
      "1.618981e+09   6.4   NaN   0.0   7.4  1019.2   35.0  spring\n",
      "1.664172e+09  11.9   NaN   NaN   NaN     NaN    NaN  autumn\n",
      "1.666717e+09  14.2   NaN   0.0  11.1  1010.4  141.0  autumn\n",
      "1.674011e+09  -2.9   NaN   0.0  11.1   994.5  256.0  winter\n",
      "1.648228e+09  14.2   NaN   0.0   NaN     NaN    NaN  spring\n",
      "\n",
      "\n",
      "SHAPE\n",
      "(15684, 7)\n",
      "\n",
      "\n",
      "DATA TYPES\n",
      "temp      float64\n",
      "rhum      float64\n",
      "prcp      float64\n",
      "wspd      float64\n",
      "pres      float64\n",
      "wdir      float64\n",
      "season     object\n",
      "dtype: object\n",
      "\n",
      "\n",
      "UNIQUE VALUES\n",
      "temp      379\n",
      "rhum       76\n",
      "prcp       50\n",
      "wspd       42\n",
      "pres      624\n",
      "wdir      360\n",
      "season      4\n",
      "dtype: int64\n",
      "\n",
      "\n",
      "MISSING VALUES\n",
      "temp          0\n",
      "rhum      12560\n",
      "prcp       3137\n",
      "wspd       3137\n",
      "pres       3137\n",
      "wdir       3137\n",
      "season        0\n",
      "dtype: int64\n"
     ]
    }
   ],
   "source": [
    "check_data(df)"
   ]
  },
  {
   "cell_type": "code",
   "execution_count": 99,
   "id": "c77e29d3",
   "metadata": {
    "ExecuteTime": {
     "end_time": "2024-02-04T12:15:48.349984Z",
     "start_time": "2024-02-04T12:15:48.303608Z"
    }
   },
   "outputs": [
    {
     "data": {
      "text/plain": [
       "Index([1618981200.0, 1664172000.0, 1666717200.0, 1674010800.0, 1648227600.0,\n",
       "       1674820800.0, 1636567200.0, 1691906400.0, 1662202800.0, 1688497200.0,\n",
       "       ...\n",
       "       1670266800.0, 1691208000.0, 1635559200.0, 1648983600.0, 1683846000.0,\n",
       "       1651770000.0, 1622361600.0, 1648652400.0, 1646308800.0, 1640181600.0],\n",
       "      dtype='float64', name='timestamp', length=15684)"
      ]
     },
     "execution_count": 99,
     "metadata": {},
     "output_type": "execute_result"
    }
   ],
   "source": [
    "df.index.unique()"
   ]
  },
  {
   "cell_type": "code",
   "execution_count": 100,
   "id": "ec2f3580",
   "metadata": {
    "ExecuteTime": {
     "end_time": "2024-02-04T12:15:54.864032Z",
     "start_time": "2024-02-04T12:15:54.766475Z"
    }
   },
   "outputs": [],
   "source": [
    "df1 = df.reset_index(drop=False)"
   ]
  },
  {
   "cell_type": "code",
   "execution_count": 102,
   "id": "92cfb42f",
   "metadata": {
    "ExecuteTime": {
     "end_time": "2024-02-04T12:16:12.077965Z",
     "start_time": "2024-02-04T12:16:11.922550Z"
    }
   },
   "outputs": [
    {
     "data": {
      "text/html": [
       "<div>\n",
       "<style scoped>\n",
       "    .dataframe tbody tr th:only-of-type {\n",
       "        vertical-align: middle;\n",
       "    }\n",
       "\n",
       "    .dataframe tbody tr th {\n",
       "        vertical-align: top;\n",
       "    }\n",
       "\n",
       "    .dataframe thead th {\n",
       "        text-align: right;\n",
       "    }\n",
       "</style>\n",
       "<table border=\"1\" class=\"dataframe\">\n",
       "  <thead>\n",
       "    <tr style=\"text-align: right;\">\n",
       "      <th></th>\n",
       "      <th>temp</th>\n",
       "      <th>rhum</th>\n",
       "      <th>prcp</th>\n",
       "      <th>wspd</th>\n",
       "      <th>pres</th>\n",
       "      <th>wdir</th>\n",
       "      <th>season</th>\n",
       "    </tr>\n",
       "    <tr>\n",
       "      <th>timestamp</th>\n",
       "      <th></th>\n",
       "      <th></th>\n",
       "      <th></th>\n",
       "      <th></th>\n",
       "      <th></th>\n",
       "      <th></th>\n",
       "      <th></th>\n",
       "    </tr>\n",
       "  </thead>\n",
       "  <tbody>\n",
       "    <tr>\n",
       "      <th>1.618981e+09</th>\n",
       "      <td>6.4</td>\n",
       "      <td>NaN</td>\n",
       "      <td>0.0</td>\n",
       "      <td>7.4</td>\n",
       "      <td>1019.2</td>\n",
       "      <td>35.0</td>\n",
       "      <td>spring</td>\n",
       "    </tr>\n",
       "    <tr>\n",
       "      <th>1.664172e+09</th>\n",
       "      <td>11.9</td>\n",
       "      <td>NaN</td>\n",
       "      <td>NaN</td>\n",
       "      <td>NaN</td>\n",
       "      <td>NaN</td>\n",
       "      <td>NaN</td>\n",
       "      <td>autumn</td>\n",
       "    </tr>\n",
       "    <tr>\n",
       "      <th>1.666717e+09</th>\n",
       "      <td>14.2</td>\n",
       "      <td>NaN</td>\n",
       "      <td>0.0</td>\n",
       "      <td>11.1</td>\n",
       "      <td>1010.4</td>\n",
       "      <td>141.0</td>\n",
       "      <td>autumn</td>\n",
       "    </tr>\n",
       "    <tr>\n",
       "      <th>1.674011e+09</th>\n",
       "      <td>-2.9</td>\n",
       "      <td>NaN</td>\n",
       "      <td>0.0</td>\n",
       "      <td>11.1</td>\n",
       "      <td>994.5</td>\n",
       "      <td>256.0</td>\n",
       "      <td>winter</td>\n",
       "    </tr>\n",
       "    <tr>\n",
       "      <th>1.648228e+09</th>\n",
       "      <td>14.2</td>\n",
       "      <td>NaN</td>\n",
       "      <td>0.0</td>\n",
       "      <td>NaN</td>\n",
       "      <td>NaN</td>\n",
       "      <td>NaN</td>\n",
       "      <td>spring</td>\n",
       "    </tr>\n",
       "    <tr>\n",
       "      <th>...</th>\n",
       "      <td>...</td>\n",
       "      <td>...</td>\n",
       "      <td>...</td>\n",
       "      <td>...</td>\n",
       "      <td>...</td>\n",
       "      <td>...</td>\n",
       "      <td>...</td>\n",
       "    </tr>\n",
       "    <tr>\n",
       "      <th>1.651770e+09</th>\n",
       "      <td>16.5</td>\n",
       "      <td>60.0</td>\n",
       "      <td>0.0</td>\n",
       "      <td>11.1</td>\n",
       "      <td>1024.5</td>\n",
       "      <td>328.0</td>\n",
       "      <td>spring</td>\n",
       "    </tr>\n",
       "    <tr>\n",
       "      <th>1.622362e+09</th>\n",
       "      <td>13.5</td>\n",
       "      <td>71.0</td>\n",
       "      <td>0.0</td>\n",
       "      <td>13.0</td>\n",
       "      <td>1028.8</td>\n",
       "      <td>62.0</td>\n",
       "      <td>spring</td>\n",
       "    </tr>\n",
       "    <tr>\n",
       "      <th>1.648652e+09</th>\n",
       "      <td>8.1</td>\n",
       "      <td>80.0</td>\n",
       "      <td>1.3</td>\n",
       "      <td>14.8</td>\n",
       "      <td>1004.5</td>\n",
       "      <td>5.0</td>\n",
       "      <td>spring</td>\n",
       "    </tr>\n",
       "    <tr>\n",
       "      <th>1.646309e+09</th>\n",
       "      <td>10.0</td>\n",
       "      <td>82.0</td>\n",
       "      <td>0.1</td>\n",
       "      <td>11.1</td>\n",
       "      <td>1014.6</td>\n",
       "      <td>157.0</td>\n",
       "      <td>winter</td>\n",
       "    </tr>\n",
       "    <tr>\n",
       "      <th>1.640182e+09</th>\n",
       "      <td>2.9</td>\n",
       "      <td>86.0</td>\n",
       "      <td>0.0</td>\n",
       "      <td>NaN</td>\n",
       "      <td>NaN</td>\n",
       "      <td>NaN</td>\n",
       "      <td>winter</td>\n",
       "    </tr>\n",
       "  </tbody>\n",
       "</table>\n",
       "<p>15684 rows × 7 columns</p>\n",
       "</div>"
      ],
      "text/plain": [
       "              temp  rhum  prcp  wspd    pres   wdir  season\n",
       "timestamp                                                  \n",
       "1.618981e+09   6.4   NaN   0.0   7.4  1019.2   35.0  spring\n",
       "1.664172e+09  11.9   NaN   NaN   NaN     NaN    NaN  autumn\n",
       "1.666717e+09  14.2   NaN   0.0  11.1  1010.4  141.0  autumn\n",
       "1.674011e+09  -2.9   NaN   0.0  11.1   994.5  256.0  winter\n",
       "1.648228e+09  14.2   NaN   0.0   NaN     NaN    NaN  spring\n",
       "...            ...   ...   ...   ...     ...    ...     ...\n",
       "1.651770e+09  16.5  60.0   0.0  11.1  1024.5  328.0  spring\n",
       "1.622362e+09  13.5  71.0   0.0  13.0  1028.8   62.0  spring\n",
       "1.648652e+09   8.1  80.0   1.3  14.8  1004.5    5.0  spring\n",
       "1.646309e+09  10.0  82.0   0.1  11.1  1014.6  157.0  winter\n",
       "1.640182e+09   2.9  86.0   0.0   NaN     NaN    NaN  winter\n",
       "\n",
       "[15684 rows x 7 columns]"
      ]
     },
     "execution_count": 102,
     "metadata": {},
     "output_type": "execute_result"
    }
   ],
   "source": [
    "df"
   ]
  },
  {
   "cell_type": "code",
   "execution_count": 103,
   "id": "c5182d6f",
   "metadata": {
    "ExecuteTime": {
     "end_time": "2024-02-04T12:16:16.403652Z",
     "start_time": "2024-02-04T12:16:16.080559Z"
    }
   },
   "outputs": [],
   "source": [
    "df.to_csv(\"data/folders_data.csv\")"
   ]
  },
  {
   "cell_type": "code",
   "execution_count": null,
   "id": "946e079d",
   "metadata": {},
   "outputs": [],
   "source": []
  }
 ],
 "metadata": {
  "kernelspec": {
   "display_name": "Python 3 (ipykernel)",
   "language": "python",
   "name": "python3"
  },
  "language_info": {
   "codemirror_mode": {
    "name": "ipython",
    "version": 3
   },
   "file_extension": ".py",
   "mimetype": "text/x-python",
   "name": "python",
   "nbconvert_exporter": "python",
   "pygments_lexer": "ipython3",
   "version": "3.10.6"
  },
  "toc": {
   "base_numbering": 1,
   "nav_menu": {},
   "number_sections": true,
   "sideBar": true,
   "skip_h1_title": false,
   "title_cell": "Table of Contents",
   "title_sidebar": "Contents",
   "toc_cell": false,
   "toc_position": {},
   "toc_section_display": true,
   "toc_window_display": false
  }
 },
 "nbformat": 4,
 "nbformat_minor": 5
}
