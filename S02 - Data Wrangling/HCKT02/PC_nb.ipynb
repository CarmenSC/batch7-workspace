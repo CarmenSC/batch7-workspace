{
 "cells": [
  {
   "cell_type": "markdown",
   "id": "94cd5ec0",
   "metadata": {},
   "source": [
    "# Imports\n",
    "nothing special just copy paste from some random BLU"
   ]
  },
  {
   "cell_type": "code",
   "execution_count": 1,
   "id": "f56e51ad",
   "metadata": {},
   "outputs": [],
   "source": [
    "import numpy as np\n",
    "import pandas as pd\n",
    "import matplotlib.pyplot as plt\n",
    "from pandas import read_csv, set_option\n",
    "from pandas.plotting import scatter_matrix\n",
    "import seaborn as sns\n",
    "from sklearn.preprocessing import StandardScaler\n",
    "from sklearn.model_selection import train_test_split, KFold, cross_val_score, GridSearchCV\n",
    "from sklearn.linear_model import LogisticRegression\n",
    "from sklearn.tree import DecisionTreeClassifier\n",
    "from sklearn.neighbors import KNeighborsClassifier\n",
    "from sklearn.discriminant_analysis import LinearDiscriminantAnalysis\n",
    "from sklearn.naive_bayes import GaussianNB\n",
    "from sklearn.svm import SVC\n",
    "from sklearn.neural_network import MLPClassifier\n",
    "from sklearn.pipeline import Pipeline\n",
    "from sklearn.ensemble import AdaBoostClassifier, GradientBoostingClassifier, RandomForestClassifier, ExtraTreesClassifier\n",
    "from sklearn.metrics import classification_report, confusion_matrix, accuracy_score, roc_auc_score"
   ]
  },
  {
   "cell_type": "markdown",
   "id": "24046354",
   "metadata": {},
   "source": [
    "more imports needed"
   ]
  },
  {
   "cell_type": "code",
   "execution_count": 2,
   "id": "e7076eda",
   "metadata": {},
   "outputs": [],
   "source": [
    "import requests\n",
    "import sqlalchemy"
   ]
  },
  {
   "cell_type": "markdown",
   "id": "76dc3a36",
   "metadata": {},
   "source": [
    "# Database"
   ]
  },
  {
   "cell_type": "code",
   "execution_count": 3,
   "id": "6d90a1b4",
   "metadata": {},
   "outputs": [],
   "source": [
    "# host=batch4-s02-db-instance.ctq2kxc7kx1i.eu-west-1.rds.amazonaws.com\n",
    "# port=5432\n",
    "# username=ldsa_student\n",
    "# password=<same as in specialization 2>\n",
    "# dbname=hckt2_students\n",
    "# schema=public\n",
    "\n",
    "username = 'ldsa_student'\n",
    "password = 'R4Fr4P3aAgMYBqqP'  \n",
    "host_name = 'batch4-s02-db-instance.ctq2kxc7kx1i.eu-west-1.rds.amazonaws.com'\n",
    "port = 5432\n",
    "db_name = 'hckt2_students'\n",
    "schema = 'public'\n",
    "\n",
    "conn_str = 'postgresql://{}:{}@{}:{}/{}'.format(username, password, host_name, port, db_name)\n",
    "conn_args = {'options': '-csearch_path={}'.format(schema)}\n",
    "\n",
    "engine = sqlalchemy.create_engine(conn_str, connect_args=conn_args)\n",
    "\n",
    "query = '''select *\n",
    "from water w \n",
    "\tnatural join wind w2 '''\n",
    "\n",
    "db_data = pd.read_sql_query(query, engine)"
   ]
  },
  {
   "cell_type": "code",
   "execution_count": 4,
   "id": "1d2fe22a",
   "metadata": {},
   "outputs": [],
   "source": [
    "# query = '''select *\n",
    "# from water w \n",
    "# \tnatural join wind w2 '''\n",
    "\n",
    "# db_data = pd.read_sql_query(query, engine)\n",
    "\n",
    "query = '''select coalesce( w.timestamp,w2.timestamp) as timestamp,w.rhum_db,w.prcp_db,w2.wspd_db,w2.wdir_db,w2.pres_db\n",
    "from water w\n",
    "full join wind w2 on w.timestamp = w2.timestamp '''\n",
    "\n",
    "db_data = pd.read_sql_query(query, engine)"
   ]
  },
  {
   "cell_type": "markdown",
   "id": "b60123ae",
   "metadata": {},
   "source": [
    "# API"
   ]
  },
  {
   "cell_type": "code",
   "execution_count": 5,
   "id": "8d011267",
   "metadata": {},
   "outputs": [],
   "source": [
    "base_url = 'https://hckt02-api.lisbondatascience.org/hckt_api_batch/'\n",
    "\n",
    "response_list = list()\n",
    "for page in range(157):\n",
    "    url = base_url + str(page)\n",
    "    response_list.append(requests.get(url).json())"
   ]
  },
  {
   "cell_type": "code",
   "execution_count": 6,
   "id": "0f518ecf",
   "metadata": {},
   "outputs": [],
   "source": [
    "# api_time_stamp = list()\n",
    "# api_count = list()\n",
    "# for ele in response.json():\n",
    "#     api_time_stamp.append(ele['timestamp'])\n",
    "#     api_count.append(ele['count'])\n",
    "\n",
    "# api_data = pd.DataFrame({'timestamp': api_time_stamp, 'count': api_count})\n",
    "\n",
    "api_time_stamp = list()\n",
    "api_count = list()\n",
    "for response in response_list:\n",
    "    for ele in response:\n",
    "        api_time_stamp.append(ele['timestamp'])\n",
    "        api_count.append(ele['count'])\n",
    "\n",
    "api_data = pd.DataFrame({'timestamp': api_time_stamp, 'count': api_count})"
   ]
  },
  {
   "cell_type": "code",
   "execution_count": 7,
   "id": "b1f86610",
   "metadata": {},
   "outputs": [
    {
     "data": {
      "text/html": [
       "<div>\n",
       "<style scoped>\n",
       "    .dataframe tbody tr th:only-of-type {\n",
       "        vertical-align: middle;\n",
       "    }\n",
       "\n",
       "    .dataframe tbody tr th {\n",
       "        vertical-align: top;\n",
       "    }\n",
       "\n",
       "    .dataframe thead th {\n",
       "        text-align: right;\n",
       "    }\n",
       "</style>\n",
       "<table border=\"1\" class=\"dataframe\">\n",
       "  <thead>\n",
       "    <tr style=\"text-align: right;\">\n",
       "      <th></th>\n",
       "      <th>timestamp</th>\n",
       "      <th>rhum_db</th>\n",
       "      <th>prcp_db</th>\n",
       "      <th>wspd_db</th>\n",
       "      <th>wdir_db</th>\n",
       "      <th>pres_db</th>\n",
       "    </tr>\n",
       "  </thead>\n",
       "  <tbody>\n",
       "    <tr>\n",
       "      <th>0</th>\n",
       "      <td>1654621200</td>\n",
       "      <td>NaN</td>\n",
       "      <td>NaN</td>\n",
       "      <td>18.4</td>\n",
       "      <td>200.0</td>\n",
       "      <td>1010.0</td>\n",
       "    </tr>\n",
       "    <tr>\n",
       "      <th>1</th>\n",
       "      <td>1650416400</td>\n",
       "      <td>NaN</td>\n",
       "      <td>NaN</td>\n",
       "      <td>14.8</td>\n",
       "      <td>19.0</td>\n",
       "      <td>1017.3</td>\n",
       "    </tr>\n",
       "    <tr>\n",
       "      <th>2</th>\n",
       "      <td>1695322800</td>\n",
       "      <td>NaN</td>\n",
       "      <td>NaN</td>\n",
       "      <td>5.5</td>\n",
       "      <td>170.0</td>\n",
       "      <td>995.6</td>\n",
       "    </tr>\n",
       "    <tr>\n",
       "      <th>3</th>\n",
       "      <td>1668279600</td>\n",
       "      <td>NaN</td>\n",
       "      <td>NaN</td>\n",
       "      <td>9.3</td>\n",
       "      <td>130.0</td>\n",
       "      <td>1025.3</td>\n",
       "    </tr>\n",
       "    <tr>\n",
       "      <th>4</th>\n",
       "      <td>1629108000</td>\n",
       "      <td>NaN</td>\n",
       "      <td>NaN</td>\n",
       "      <td>24.1</td>\n",
       "      <td>313.0</td>\n",
       "      <td>1016.5</td>\n",
       "    </tr>\n",
       "    <tr>\n",
       "      <th>...</th>\n",
       "      <td>...</td>\n",
       "      <td>...</td>\n",
       "      <td>...</td>\n",
       "      <td>...</td>\n",
       "      <td>...</td>\n",
       "      <td>...</td>\n",
       "    </tr>\n",
       "    <tr>\n",
       "      <th>5626</th>\n",
       "      <td>1668729600</td>\n",
       "      <td>85.0</td>\n",
       "      <td>0.8</td>\n",
       "      <td>NaN</td>\n",
       "      <td>NaN</td>\n",
       "      <td>NaN</td>\n",
       "    </tr>\n",
       "    <tr>\n",
       "      <th>5627</th>\n",
       "      <td>1678100400</td>\n",
       "      <td>88.0</td>\n",
       "      <td>0.0</td>\n",
       "      <td>NaN</td>\n",
       "      <td>NaN</td>\n",
       "      <td>NaN</td>\n",
       "    </tr>\n",
       "    <tr>\n",
       "      <th>5628</th>\n",
       "      <td>1628118000</td>\n",
       "      <td>90.0</td>\n",
       "      <td>0.0</td>\n",
       "      <td>NaN</td>\n",
       "      <td>NaN</td>\n",
       "      <td>NaN</td>\n",
       "    </tr>\n",
       "    <tr>\n",
       "      <th>5629</th>\n",
       "      <td>1670403600</td>\n",
       "      <td>97.0</td>\n",
       "      <td>0.0</td>\n",
       "      <td>NaN</td>\n",
       "      <td>NaN</td>\n",
       "      <td>NaN</td>\n",
       "    </tr>\n",
       "    <tr>\n",
       "      <th>5630</th>\n",
       "      <td>1676358000</td>\n",
       "      <td>95.0</td>\n",
       "      <td>0.0</td>\n",
       "      <td>NaN</td>\n",
       "      <td>NaN</td>\n",
       "      <td>NaN</td>\n",
       "    </tr>\n",
       "  </tbody>\n",
       "</table>\n",
       "<p>5631 rows × 6 columns</p>\n",
       "</div>"
      ],
      "text/plain": [
       "       timestamp  rhum_db  prcp_db  wspd_db  wdir_db  pres_db\n",
       "0     1654621200      NaN      NaN     18.4    200.0   1010.0\n",
       "1     1650416400      NaN      NaN     14.8     19.0   1017.3\n",
       "2     1695322800      NaN      NaN      5.5    170.0    995.6\n",
       "3     1668279600      NaN      NaN      9.3    130.0   1025.3\n",
       "4     1629108000      NaN      NaN     24.1    313.0   1016.5\n",
       "...          ...      ...      ...      ...      ...      ...\n",
       "5626  1668729600     85.0      0.8      NaN      NaN      NaN\n",
       "5627  1678100400     88.0      0.0      NaN      NaN      NaN\n",
       "5628  1628118000     90.0      0.0      NaN      NaN      NaN\n",
       "5629  1670403600     97.0      0.0      NaN      NaN      NaN\n",
       "5630  1676358000     95.0      0.0      NaN      NaN      NaN\n",
       "\n",
       "[5631 rows x 6 columns]"
      ]
     },
     "execution_count": 7,
     "metadata": {},
     "output_type": "execute_result"
    }
   ],
   "source": [
    "db_data"
   ]
  },
  {
   "cell_type": "code",
   "execution_count": 8,
   "id": "8c96dae9",
   "metadata": {},
   "outputs": [],
   "source": [
    "# api_data.to_csv(\"api_data.csv\")"
   ]
  },
  {
   "cell_type": "markdown",
   "id": "be4173fd",
   "metadata": {},
   "source": [
    "# web scraping"
   ]
  },
  {
   "cell_type": "code",
   "execution_count": 9,
   "id": "2f7497aa",
   "metadata": {},
   "outputs": [],
   "source": [
    "import utils\n",
    "from bs4 import BeautifulSoup"
   ]
  },
  {
   "cell_type": "code",
   "execution_count": 10,
   "id": "183b2c11",
   "metadata": {},
   "outputs": [],
   "source": [
    "# response = requests.get(\"https://s02-infrastructure.s3.eu-west-1.amazonaws.com/hackathon-02-batch7/index.html\")\n",
    "# utils.friendly_print_string(response.content)\n"
   ]
  },
  {
   "cell_type": "code",
   "execution_count": 11,
   "id": "eec4c4cf",
   "metadata": {},
   "outputs": [],
   "source": [
    "# soup = BeautifulSoup(response.content, 'html.parser')\n",
    "# soup"
   ]
  },
  {
   "cell_type": "code",
   "execution_count": 12,
   "id": "f1594647",
   "metadata": {},
   "outputs": [],
   "source": [
    "ws_data = pd.read_json('ws_data.json')"
   ]
  },
  {
   "cell_type": "code",
   "execution_count": 13,
   "id": "e8ec11d7",
   "metadata": {},
   "outputs": [],
   "source": [
    "# response = requests.get(\"https://s02-infrastructure.s3.eu-west-1.amazonaws.com/hackathon-02-batch7/index.html\")\n",
    "# soup = BeautifulSoup(response.content, 'html.parser')\n",
    "# table = soup.find_all(\"table\")[1]\n",
    "# df = pd.read_html(str(table))[0]\n",
    "# df"
   ]
  },
  {
   "cell_type": "markdown",
   "id": "ed061a8b",
   "metadata": {},
   "source": [
    "# Files"
   ]
  },
  {
   "cell_type": "code",
   "execution_count": 14,
   "id": "d0541b17",
   "metadata": {},
   "outputs": [],
   "source": [
    "# directory = 'data/'\n",
    "# file_names = ['data_0.tsv', 'data_1.json', 'data_2_csv', 'data_3.csv']"
   ]
  },
  {
   "cell_type": "code",
   "execution_count": 15,
   "id": "4dcaff11",
   "metadata": {},
   "outputs": [],
   "source": [
    "# f0_data = pd.read_csv((directory+file_names[0]), sep='\\t')\n",
    "# f0_data"
   ]
  },
  {
   "cell_type": "markdown",
   "id": "c500d431",
   "metadata": {},
   "source": [
    "# Data"
   ]
  },
  {
   "cell_type": "code",
   "execution_count": 16,
   "id": "5db237b5",
   "metadata": {},
   "outputs": [
    {
     "data": {
      "text/html": [
       "<div>\n",
       "<style scoped>\n",
       "    .dataframe tbody tr th:only-of-type {\n",
       "        vertical-align: middle;\n",
       "    }\n",
       "\n",
       "    .dataframe tbody tr th {\n",
       "        vertical-align: top;\n",
       "    }\n",
       "\n",
       "    .dataframe thead th {\n",
       "        text-align: right;\n",
       "    }\n",
       "</style>\n",
       "<table border=\"1\" class=\"dataframe\">\n",
       "  <thead>\n",
       "    <tr style=\"text-align: right;\">\n",
       "      <th></th>\n",
       "      <th>weather codes</th>\n",
       "      <th>what it looks like</th>\n",
       "    </tr>\n",
       "  </thead>\n",
       "  <tbody>\n",
       "    <tr>\n",
       "      <th>0</th>\n",
       "      <td>1656896400</td>\n",
       "      <td>Fair</td>\n",
       "    </tr>\n",
       "    <tr>\n",
       "      <th>1</th>\n",
       "      <td>1685127600</td>\n",
       "      <td>Clear</td>\n",
       "    </tr>\n",
       "    <tr>\n",
       "      <th>2</th>\n",
       "      <td>1622311200</td>\n",
       "      <td>Fair</td>\n",
       "    </tr>\n",
       "    <tr>\n",
       "      <th>3</th>\n",
       "      <td>1666148400</td>\n",
       "      <td>Cloudy</td>\n",
       "    </tr>\n",
       "    <tr>\n",
       "      <th>4</th>\n",
       "      <td>1624255200</td>\n",
       "      <td>Light Rain</td>\n",
       "    </tr>\n",
       "    <tr>\n",
       "      <th>...</th>\n",
       "      <td>...</td>\n",
       "      <td>...</td>\n",
       "    </tr>\n",
       "    <tr>\n",
       "      <th>15679</th>\n",
       "      <td>1676451600</td>\n",
       "      <td>Cloudy</td>\n",
       "    </tr>\n",
       "    <tr>\n",
       "      <th>15680</th>\n",
       "      <td>1635807600</td>\n",
       "      <td>Fair</td>\n",
       "    </tr>\n",
       "    <tr>\n",
       "      <th>15681</th>\n",
       "      <td>1630807200</td>\n",
       "      <td>Cloudy</td>\n",
       "    </tr>\n",
       "    <tr>\n",
       "      <th>15682</th>\n",
       "      <td>1629262800</td>\n",
       "      <td>Overcast</td>\n",
       "    </tr>\n",
       "    <tr>\n",
       "      <th>15683</th>\n",
       "      <td>1668686400</td>\n",
       "      <td>Light Rain</td>\n",
       "    </tr>\n",
       "  </tbody>\n",
       "</table>\n",
       "<p>15684 rows × 2 columns</p>\n",
       "</div>"
      ],
      "text/plain": [
       "       weather codes what it looks like\n",
       "0         1656896400               Fair\n",
       "1         1685127600              Clear\n",
       "2         1622311200               Fair\n",
       "3         1666148400             Cloudy\n",
       "4         1624255200         Light Rain\n",
       "...              ...                ...\n",
       "15679     1676451600             Cloudy\n",
       "15680     1635807600               Fair\n",
       "15681     1630807200             Cloudy\n",
       "15682     1629262800           Overcast\n",
       "15683     1668686400         Light Rain\n",
       "\n",
       "[15684 rows x 2 columns]"
      ]
     },
     "execution_count": 16,
     "metadata": {},
     "output_type": "execute_result"
    }
   ],
   "source": [
    "ws_data"
   ]
  },
  {
   "cell_type": "code",
   "execution_count": 17,
   "id": "06b2408c",
   "metadata": {},
   "outputs": [
    {
     "data": {
      "text/html": [
       "<div>\n",
       "<style scoped>\n",
       "    .dataframe tbody tr th:only-of-type {\n",
       "        vertical-align: middle;\n",
       "    }\n",
       "\n",
       "    .dataframe tbody tr th {\n",
       "        vertical-align: top;\n",
       "    }\n",
       "\n",
       "    .dataframe thead th {\n",
       "        text-align: right;\n",
       "    }\n",
       "</style>\n",
       "<table border=\"1\" class=\"dataframe\">\n",
       "  <thead>\n",
       "    <tr style=\"text-align: right;\">\n",
       "      <th></th>\n",
       "      <th>timestamp</th>\n",
       "      <th>count</th>\n",
       "    </tr>\n",
       "  </thead>\n",
       "  <tbody>\n",
       "    <tr>\n",
       "      <th>0</th>\n",
       "      <td>1656896400</td>\n",
       "      <td>0</td>\n",
       "    </tr>\n",
       "    <tr>\n",
       "      <th>1</th>\n",
       "      <td>1685127600</td>\n",
       "      <td>157</td>\n",
       "    </tr>\n",
       "    <tr>\n",
       "      <th>2</th>\n",
       "      <td>1622311200</td>\n",
       "      <td>0</td>\n",
       "    </tr>\n",
       "    <tr>\n",
       "      <th>3</th>\n",
       "      <td>1666148400</td>\n",
       "      <td>0</td>\n",
       "    </tr>\n",
       "    <tr>\n",
       "      <th>4</th>\n",
       "      <td>1624255200</td>\n",
       "      <td>1342</td>\n",
       "    </tr>\n",
       "    <tr>\n",
       "      <th>...</th>\n",
       "      <td>...</td>\n",
       "      <td>...</td>\n",
       "    </tr>\n",
       "    <tr>\n",
       "      <th>15679</th>\n",
       "      <td>1676451600</td>\n",
       "      <td>0</td>\n",
       "    </tr>\n",
       "    <tr>\n",
       "      <th>15680</th>\n",
       "      <td>1635807600</td>\n",
       "      <td>0</td>\n",
       "    </tr>\n",
       "    <tr>\n",
       "      <th>15681</th>\n",
       "      <td>1630807200</td>\n",
       "      <td>0</td>\n",
       "    </tr>\n",
       "    <tr>\n",
       "      <th>15682</th>\n",
       "      <td>1629262800</td>\n",
       "      <td>125</td>\n",
       "    </tr>\n",
       "    <tr>\n",
       "      <th>15683</th>\n",
       "      <td>1668686400</td>\n",
       "      <td>0</td>\n",
       "    </tr>\n",
       "  </tbody>\n",
       "</table>\n",
       "<p>15684 rows × 2 columns</p>\n",
       "</div>"
      ],
      "text/plain": [
       "        timestamp  count\n",
       "0      1656896400      0\n",
       "1      1685127600    157\n",
       "2      1622311200      0\n",
       "3      1666148400      0\n",
       "4      1624255200   1342\n",
       "...           ...    ...\n",
       "15679  1676451600      0\n",
       "15680  1635807600      0\n",
       "15681  1630807200      0\n",
       "15682  1629262800    125\n",
       "15683  1668686400      0\n",
       "\n",
       "[15684 rows x 2 columns]"
      ]
     },
     "execution_count": 17,
     "metadata": {},
     "output_type": "execute_result"
    }
   ],
   "source": [
    "api_data"
   ]
  },
  {
   "cell_type": "code",
   "execution_count": 18,
   "id": "8ad372b0",
   "metadata": {},
   "outputs": [
    {
     "data": {
      "text/html": [
       "<div>\n",
       "<style scoped>\n",
       "    .dataframe tbody tr th:only-of-type {\n",
       "        vertical-align: middle;\n",
       "    }\n",
       "\n",
       "    .dataframe tbody tr th {\n",
       "        vertical-align: top;\n",
       "    }\n",
       "\n",
       "    .dataframe thead th {\n",
       "        text-align: right;\n",
       "    }\n",
       "</style>\n",
       "<table border=\"1\" class=\"dataframe\">\n",
       "  <thead>\n",
       "    <tr style=\"text-align: right;\">\n",
       "      <th></th>\n",
       "      <th>timestamp</th>\n",
       "      <th>rhum_db</th>\n",
       "      <th>prcp_db</th>\n",
       "      <th>wspd_db</th>\n",
       "      <th>wdir_db</th>\n",
       "      <th>pres_db</th>\n",
       "    </tr>\n",
       "  </thead>\n",
       "  <tbody>\n",
       "    <tr>\n",
       "      <th>0</th>\n",
       "      <td>1654621200</td>\n",
       "      <td>NaN</td>\n",
       "      <td>NaN</td>\n",
       "      <td>18.4</td>\n",
       "      <td>200.0</td>\n",
       "      <td>1010.0</td>\n",
       "    </tr>\n",
       "    <tr>\n",
       "      <th>1</th>\n",
       "      <td>1650416400</td>\n",
       "      <td>NaN</td>\n",
       "      <td>NaN</td>\n",
       "      <td>14.8</td>\n",
       "      <td>19.0</td>\n",
       "      <td>1017.3</td>\n",
       "    </tr>\n",
       "    <tr>\n",
       "      <th>2</th>\n",
       "      <td>1695322800</td>\n",
       "      <td>NaN</td>\n",
       "      <td>NaN</td>\n",
       "      <td>5.5</td>\n",
       "      <td>170.0</td>\n",
       "      <td>995.6</td>\n",
       "    </tr>\n",
       "    <tr>\n",
       "      <th>3</th>\n",
       "      <td>1668279600</td>\n",
       "      <td>NaN</td>\n",
       "      <td>NaN</td>\n",
       "      <td>9.3</td>\n",
       "      <td>130.0</td>\n",
       "      <td>1025.3</td>\n",
       "    </tr>\n",
       "    <tr>\n",
       "      <th>4</th>\n",
       "      <td>1629108000</td>\n",
       "      <td>NaN</td>\n",
       "      <td>NaN</td>\n",
       "      <td>24.1</td>\n",
       "      <td>313.0</td>\n",
       "      <td>1016.5</td>\n",
       "    </tr>\n",
       "    <tr>\n",
       "      <th>...</th>\n",
       "      <td>...</td>\n",
       "      <td>...</td>\n",
       "      <td>...</td>\n",
       "      <td>...</td>\n",
       "      <td>...</td>\n",
       "      <td>...</td>\n",
       "    </tr>\n",
       "    <tr>\n",
       "      <th>5626</th>\n",
       "      <td>1668729600</td>\n",
       "      <td>85.0</td>\n",
       "      <td>0.8</td>\n",
       "      <td>NaN</td>\n",
       "      <td>NaN</td>\n",
       "      <td>NaN</td>\n",
       "    </tr>\n",
       "    <tr>\n",
       "      <th>5627</th>\n",
       "      <td>1678100400</td>\n",
       "      <td>88.0</td>\n",
       "      <td>0.0</td>\n",
       "      <td>NaN</td>\n",
       "      <td>NaN</td>\n",
       "      <td>NaN</td>\n",
       "    </tr>\n",
       "    <tr>\n",
       "      <th>5628</th>\n",
       "      <td>1628118000</td>\n",
       "      <td>90.0</td>\n",
       "      <td>0.0</td>\n",
       "      <td>NaN</td>\n",
       "      <td>NaN</td>\n",
       "      <td>NaN</td>\n",
       "    </tr>\n",
       "    <tr>\n",
       "      <th>5629</th>\n",
       "      <td>1670403600</td>\n",
       "      <td>97.0</td>\n",
       "      <td>0.0</td>\n",
       "      <td>NaN</td>\n",
       "      <td>NaN</td>\n",
       "      <td>NaN</td>\n",
       "    </tr>\n",
       "    <tr>\n",
       "      <th>5630</th>\n",
       "      <td>1676358000</td>\n",
       "      <td>95.0</td>\n",
       "      <td>0.0</td>\n",
       "      <td>NaN</td>\n",
       "      <td>NaN</td>\n",
       "      <td>NaN</td>\n",
       "    </tr>\n",
       "  </tbody>\n",
       "</table>\n",
       "<p>5631 rows × 6 columns</p>\n",
       "</div>"
      ],
      "text/plain": [
       "       timestamp  rhum_db  prcp_db  wspd_db  wdir_db  pres_db\n",
       "0     1654621200      NaN      NaN     18.4    200.0   1010.0\n",
       "1     1650416400      NaN      NaN     14.8     19.0   1017.3\n",
       "2     1695322800      NaN      NaN      5.5    170.0    995.6\n",
       "3     1668279600      NaN      NaN      9.3    130.0   1025.3\n",
       "4     1629108000      NaN      NaN     24.1    313.0   1016.5\n",
       "...          ...      ...      ...      ...      ...      ...\n",
       "5626  1668729600     85.0      0.8      NaN      NaN      NaN\n",
       "5627  1678100400     88.0      0.0      NaN      NaN      NaN\n",
       "5628  1628118000     90.0      0.0      NaN      NaN      NaN\n",
       "5629  1670403600     97.0      0.0      NaN      NaN      NaN\n",
       "5630  1676358000     95.0      0.0      NaN      NaN      NaN\n",
       "\n",
       "[5631 rows x 6 columns]"
      ]
     },
     "execution_count": 18,
     "metadata": {},
     "output_type": "execute_result"
    }
   ],
   "source": [
    "db_data"
   ]
  },
  {
   "cell_type": "markdown",
   "id": "b02d3239",
   "metadata": {},
   "source": [
    "## (not) Final Table"
   ]
  },
  {
   "cell_type": "code",
   "execution_count": 19,
   "id": "a2b057fc",
   "metadata": {},
   "outputs": [],
   "source": [
    "Final_merge = pd.read_csv('Final_merge.csv')\n",
    "\n",
    "Final_merge['datetime'] = pd.to_datetime(Final_merge['timestamp'], unit='s')\n",
    "Final_merge['year'] = Final_merge['datetime'].dt.year\n",
    "Final_merge['month'] = Final_merge['datetime'].dt.month\n",
    "Final_merge['weekday'] = Final_merge['datetime'].dt.weekday\n",
    "Final_merge['hour'] = Final_merge['datetime'].dt.hour\n",
    "Final_merge = Final_merge.drop(columns='Unnamed: 0')"
   ]
  },
  {
   "cell_type": "code",
   "execution_count": 20,
   "id": "26326a42",
   "metadata": {},
   "outputs": [
    {
     "data": {
      "text/html": [
       "<div>\n",
       "<style scoped>\n",
       "    .dataframe tbody tr th:only-of-type {\n",
       "        vertical-align: middle;\n",
       "    }\n",
       "\n",
       "    .dataframe tbody tr th {\n",
       "        vertical-align: top;\n",
       "    }\n",
       "\n",
       "    .dataframe thead th {\n",
       "        text-align: right;\n",
       "    }\n",
       "</style>\n",
       "<table border=\"1\" class=\"dataframe\">\n",
       "  <thead>\n",
       "    <tr style=\"text-align: right;\">\n",
       "      <th></th>\n",
       "      <th>timestamp</th>\n",
       "      <th>weco</th>\n",
       "      <th>count</th>\n",
       "      <th>rhum_db</th>\n",
       "      <th>prcp_db</th>\n",
       "      <th>wspd_db</th>\n",
       "      <th>wdir_db</th>\n",
       "      <th>pres_db</th>\n",
       "      <th>datetime</th>\n",
       "      <th>year</th>\n",
       "      <th>month</th>\n",
       "      <th>weekday</th>\n",
       "      <th>hour</th>\n",
       "    </tr>\n",
       "  </thead>\n",
       "  <tbody>\n",
       "    <tr>\n",
       "      <th>0</th>\n",
       "      <td>1656896400</td>\n",
       "      <td>Fair</td>\n",
       "      <td>0</td>\n",
       "      <td>NaN</td>\n",
       "      <td>NaN</td>\n",
       "      <td>NaN</td>\n",
       "      <td>NaN</td>\n",
       "      <td>NaN</td>\n",
       "      <td>2022-07-04 01:00:00</td>\n",
       "      <td>2022</td>\n",
       "      <td>7</td>\n",
       "      <td>0</td>\n",
       "      <td>1</td>\n",
       "    </tr>\n",
       "    <tr>\n",
       "      <th>1</th>\n",
       "      <td>1685127600</td>\n",
       "      <td>Clear</td>\n",
       "      <td>157</td>\n",
       "      <td>NaN</td>\n",
       "      <td>NaN</td>\n",
       "      <td>NaN</td>\n",
       "      <td>NaN</td>\n",
       "      <td>NaN</td>\n",
       "      <td>2023-05-26 19:00:00</td>\n",
       "      <td>2023</td>\n",
       "      <td>5</td>\n",
       "      <td>4</td>\n",
       "      <td>19</td>\n",
       "    </tr>\n",
       "    <tr>\n",
       "      <th>2</th>\n",
       "      <td>1622311200</td>\n",
       "      <td>Fair</td>\n",
       "      <td>0</td>\n",
       "      <td>NaN</td>\n",
       "      <td>NaN</td>\n",
       "      <td>NaN</td>\n",
       "      <td>NaN</td>\n",
       "      <td>NaN</td>\n",
       "      <td>2021-05-29 18:00:00</td>\n",
       "      <td>2021</td>\n",
       "      <td>5</td>\n",
       "      <td>5</td>\n",
       "      <td>18</td>\n",
       "    </tr>\n",
       "    <tr>\n",
       "      <th>3</th>\n",
       "      <td>1666148400</td>\n",
       "      <td>Cloudy</td>\n",
       "      <td>0</td>\n",
       "      <td>NaN</td>\n",
       "      <td>NaN</td>\n",
       "      <td>NaN</td>\n",
       "      <td>NaN</td>\n",
       "      <td>NaN</td>\n",
       "      <td>2022-10-19 03:00:00</td>\n",
       "      <td>2022</td>\n",
       "      <td>10</td>\n",
       "      <td>2</td>\n",
       "      <td>3</td>\n",
       "    </tr>\n",
       "    <tr>\n",
       "      <th>4</th>\n",
       "      <td>1624255200</td>\n",
       "      <td>Light Rain</td>\n",
       "      <td>1342</td>\n",
       "      <td>NaN</td>\n",
       "      <td>NaN</td>\n",
       "      <td>NaN</td>\n",
       "      <td>NaN</td>\n",
       "      <td>NaN</td>\n",
       "      <td>2021-06-21 06:00:00</td>\n",
       "      <td>2021</td>\n",
       "      <td>6</td>\n",
       "      <td>0</td>\n",
       "      <td>6</td>\n",
       "    </tr>\n",
       "  </tbody>\n",
       "</table>\n",
       "</div>"
      ],
      "text/plain": [
       "    timestamp        weco  count  rhum_db  prcp_db  wspd_db  wdir_db  pres_db  \\\n",
       "0  1656896400        Fair      0      NaN      NaN      NaN      NaN      NaN   \n",
       "1  1685127600       Clear    157      NaN      NaN      NaN      NaN      NaN   \n",
       "2  1622311200        Fair      0      NaN      NaN      NaN      NaN      NaN   \n",
       "3  1666148400      Cloudy      0      NaN      NaN      NaN      NaN      NaN   \n",
       "4  1624255200  Light Rain   1342      NaN      NaN      NaN      NaN      NaN   \n",
       "\n",
       "             datetime  year  month  weekday  hour  \n",
       "0 2022-07-04 01:00:00  2022      7        0     1  \n",
       "1 2023-05-26 19:00:00  2023      5        4    19  \n",
       "2 2021-05-29 18:00:00  2021      5        5    18  \n",
       "3 2022-10-19 03:00:00  2022     10        2     3  \n",
       "4 2021-06-21 06:00:00  2021      6        0     6  "
      ]
     },
     "execution_count": 20,
     "metadata": {},
     "output_type": "execute_result"
    }
   ],
   "source": [
    "Final_merge.head()"
   ]
  },
  {
   "cell_type": "code",
   "execution_count": 21,
   "id": "fe83a716",
   "metadata": {},
   "outputs": [
    {
     "data": {
      "text/plain": [
       "timestamp             int64\n",
       "weco                 object\n",
       "count                 int64\n",
       "rhum_db             float64\n",
       "prcp_db             float64\n",
       "wspd_db             float64\n",
       "wdir_db             float64\n",
       "pres_db             float64\n",
       "datetime     datetime64[ns]\n",
       "year                  int32\n",
       "month                 int32\n",
       "weekday               int32\n",
       "hour                  int32\n",
       "dtype: object"
      ]
     },
     "execution_count": 21,
     "metadata": {},
     "output_type": "execute_result"
    }
   ],
   "source": [
    "# data.dtypes\n",
    "# data.nunique()\n",
    "# data.isna().sum()\n",
    "\n",
    "Final_merge.dtypes"
   ]
  },
  {
   "cell_type": "code",
   "execution_count": 22,
   "id": "f5c07c12",
   "metadata": {},
   "outputs": [
    {
     "data": {
      "text/plain": [
       "timestamp    15684\n",
       "weco            15\n",
       "count         2225\n",
       "rhum_db         72\n",
       "prcp_db         32\n",
       "wspd_db         35\n",
       "wdir_db        358\n",
       "pres_db        506\n",
       "datetime     15684\n",
       "year             3\n",
       "month           12\n",
       "weekday          7\n",
       "hour            24\n",
       "dtype: int64"
      ]
     },
     "execution_count": 22,
     "metadata": {},
     "output_type": "execute_result"
    }
   ],
   "source": [
    "Final_merge.nunique()\n"
   ]
  },
  {
   "cell_type": "code",
   "execution_count": 23,
   "id": "ac358687",
   "metadata": {},
   "outputs": [
    {
     "data": {
      "text/plain": [
       "timestamp        0\n",
       "weco           159\n",
       "count            0\n",
       "rhum_db      12547\n",
       "prcp_db      12547\n",
       "wspd_db      12547\n",
       "wdir_db      12547\n",
       "pres_db      12547\n",
       "datetime         0\n",
       "year             0\n",
       "month            0\n",
       "weekday          0\n",
       "hour             0\n",
       "dtype: int64"
      ]
     },
     "execution_count": 23,
     "metadata": {},
     "output_type": "execute_result"
    }
   ],
   "source": [
    "Final_merge.isna().sum()"
   ]
  },
  {
   "cell_type": "markdown",
   "id": "b8d65d4f",
   "metadata": {},
   "source": [
    "## check columns"
   ]
  },
  {
   "cell_type": "code",
   "execution_count": 28,
   "id": "6e3c736a",
   "metadata": {},
   "outputs": [
    {
     "data": {
      "text/plain": [
       "weco\n",
       "Fair                 4971\n",
       "Cloudy               4137\n",
       "Overcast             2835\n",
       "Light Rain           1957\n",
       "Clear                 829\n",
       "Rain                  262\n",
       "Rain Shower           169\n",
       "Fog                   157\n",
       "Heavy Rain Shower     130\n",
       "Heavy Rain             51\n",
       "Sleet                  11\n",
       "Lihgt Snowfall          6\n",
       "Snow Shower             6\n",
       "Freezing Rain           2\n",
       "Sleet Shower            2\n",
       "Name: count, dtype: int64"
      ]
     },
     "execution_count": 28,
     "metadata": {},
     "output_type": "execute_result"
    }
   ],
   "source": [
    "Final_merge.weco.value_counts()"
   ]
  },
  {
   "cell_type": "code",
   "execution_count": 40,
   "id": "0249380d",
   "metadata": {},
   "outputs": [
    {
     "data": {
      "text/plain": [
       "<Axes: >"
      ]
     },
     "execution_count": 40,
     "metadata": {},
     "output_type": "execute_result"
    },
    {
     "data": {
      "image/png": "[encoded data removed]",
      "text/plain": [
       "<Figure size 640x480 with 1 Axes>"
      ]
     },
     "metadata": {},
     "output_type": "display_data"
    }
   ],
   "source": [
    "Final_merge.rhum_db.hist()\n",
    "Final_merge['rhum_db'] = Final_merge['rhum_db'].fillna(Final_merge['rhum_db'].median())\n",
    "Final_merge['rhum_db']\n",
    "Final_merge.rhum_db.hist()"
   ]
  },
  {
   "cell_type": "code",
   "execution_count": 45,
   "id": "881266c9",
   "metadata": {},
   "outputs": [
    {
     "data": {
      "image/png": "[encoded data removed]",
      "text/plain": [
       "<Figure size 640x480 with 1 Axes>"
      ]
     },
     "metadata": {},
     "output_type": "display_data"
    }
   ],
   "source": [
    "Final_merge.prcp_db.hist()\n",
    "Final_merge['prcp_db'] = Final_merge['prcp_db'].fillna(Final_merge['prcp_db'].median())"
   ]
  },
  {
   "cell_type": "code",
   "execution_count": 46,
   "id": "1e879334",
   "metadata": {},
   "outputs": [
    {
     "data": {
      "image/png": "[encoded data removed]",
      "text/plain": [
       "<Figure size 640x480 with 1 Axes>"
      ]
     },
     "metadata": {},
     "output_type": "display_data"
    }
   ],
   "source": [
    "Final_merge.wspd_db.hist()\n",
    "Final_merge['wspd_db'] = Final_merge['wspd_db'].fillna(Final_merge['wspd_db'].median())"
   ]
  },
  {
   "cell_type": "code",
   "execution_count": 37,
   "id": "c1ba9894",
   "metadata": {},
   "outputs": [
    {
     "data": {
      "text/plain": [
       "<Axes: >"
      ]
     },
     "execution_count": 37,
     "metadata": {},
     "output_type": "execute_result"
    },
    {
     "data": {
      "image/png": "[encoded data removed]",
      "text/plain": [
       "<Figure size 640x480 with 1 Axes>"
      ]
     },
     "metadata": {},
     "output_type": "display_data"
    }
   ],
   "source": [
    "Final_merge.wdir_db.hist()"
   ]
  },
  {
   "cell_type": "code",
   "execution_count": 38,
   "id": "cb3b6404",
   "metadata": {},
   "outputs": [
    {
     "data": {
      "text/plain": [
       "<Axes: >"
      ]
     },
     "execution_count": 38,
     "metadata": {},
     "output_type": "execute_result"
    },
    {
     "data": {
      "image/png": "[encoded data removed]",
      "text/plain": [
       "<Figure size 640x480 with 1 Axes>"
      ]
     },
     "metadata": {},
     "output_type": "display_data"
    }
   ],
   "source": [
    "Final_merge.pres_db.hist()"
   ]
  },
  {
   "cell_type": "code",
   "execution_count": 43,
   "id": "d747b58f",
   "metadata": {},
   "outputs": [
    {
     "data": {
      "text/plain": [
       "prcp_db\n",
       "0.0    2710\n",
       "0.1     147\n",
       "0.2      75\n",
       "0.3      46\n",
       "0.4      30\n",
       "0.5      22\n",
       "0.6      16\n",
       "0.7      13\n",
       "0.8      10\n",
       "0.9       9\n",
       "1.2       5\n",
       "1.6       5\n",
       "1.3       5\n",
       "2.8       4\n",
       "1.9       4\n",
       "1.1       4\n",
       "1.8       4\n",
       "1.0       3\n",
       "1.5       3\n",
       "2.5       3\n",
       "1.7       3\n",
       "2.7       2\n",
       "2.1       2\n",
       "2.4       2\n",
       "4.2       2\n",
       "2.3       2\n",
       "3.4       1\n",
       "1.4       1\n",
       "4.4       1\n",
       "2.2       1\n",
       "3.1       1\n",
       "2.0       1\n",
       "Name: count, dtype: int64"
      ]
     },
     "execution_count": 43,
     "metadata": {},
     "output_type": "execute_result"
    }
   ],
   "source": [
    "Final_merge.prcp_db.value_counts()"
   ]
  },
  {
   "cell_type": "code",
   "execution_count": null,
   "id": "c7150ad1",
   "metadata": {},
   "outputs": [],
   "source": []
  }
 ],
 "metadata": {
  "kernelspec": {
   "display_name": "Python 3 (ipykernel)",
   "language": "python",
   "name": "python3"
  },
  "language_info": {
   "codemirror_mode": {
    "name": "ipython",
    "version": 3
   },
   "file_extension": ".py",
   "mimetype": "text/x-python",
   "name": "python",
   "nbconvert_exporter": "python",
   "pygments_lexer": "ipython3",
   "version": "3.10.6"
  },
  "toc": {
   "base_numbering": 1,
   "nav_menu": {},
   "number_sections": true,
   "sideBar": true,
   "skip_h1_title": false,
   "title_cell": "Table of Contents",
   "title_sidebar": "Contents",
   "toc_cell": false,
   "toc_position": {},
   "toc_section_display": true,
   "toc_window_display": false
  }
 },
 "nbformat": 4,
 "nbformat_minor": 5
}
