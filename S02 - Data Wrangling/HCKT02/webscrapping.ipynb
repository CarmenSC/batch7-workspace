{
 "cells": [
  {
   "cell_type": "code",
   "execution_count": 1,
   "id": "47e6bcb0",
   "metadata": {
    "ExecuteTime": {
     "end_time": "2024-02-04T10:47:35.106573Z",
     "start_time": "2024-02-04T10:47:30.949214Z"
    }
   },
   "outputs": [],
   "source": [
    "import pandas as pd\n",
    "import numpy as np\n",
    "\n",
    "import requests\n",
    "from bs4 import BeautifulSoup"
   ]
  },
  {
   "cell_type": "code",
   "execution_count": 3,
   "id": "dd9bfb22",
   "metadata": {
    "ExecuteTime": {
     "end_time": "2024-02-04T10:48:54.012420Z",
     "start_time": "2024-02-04T10:48:53.939297Z"
    }
   },
   "outputs": [],
   "source": [
    "def check_data(df):\n",
    "    print(\"HEAD\")\n",
    "    print(df.head())\n",
    "    print(\"\\n\")\n",
    "    print(\"SHAPE\")\n",
    "    print(df.shape)\n",
    "    print(\"\\n\")\n",
    "    print(\"DATA TYPES\")\n",
    "    print(df.dtypes)\n",
    "    print(\"\\n\")\n",
    "    print(\"UNIQUE VALUES\")\n",
    "    print(df.nunique())\n",
    "    print(\"\\n\")\n",
    "    print(\"MISSING VALUES\")\n",
    "    print(df.isna().sum())"
   ]
  },
  {
   "cell_type": "code",
   "execution_count": 7,
   "id": "3cf6f08d",
   "metadata": {
    "ExecuteTime": {
     "end_time": "2024-02-04T10:52:24.400157Z",
     "start_time": "2024-02-04T10:52:13.463824Z"
    }
   },
   "outputs": [
    {
     "name": "stdout",
     "output_type": "stream",
     "text": [
      "        timestamp        weco\n",
      "0      1656896400        Fair\n",
      "1      1685127600       Clear\n",
      "2      1622311200        Fair\n",
      "3      1666148400      Cloudy\n",
      "4      1624255200  Light Rain\n",
      "...           ...         ...\n",
      "15679  1676451600      Cloudy\n",
      "15680  1635807600        Fair\n",
      "15681  1630807200      Cloudy\n",
      "15682  1629262800    Overcast\n",
      "15683  1668686400  Light Rain\n",
      "\n",
      "[15684 rows x 2 columns]\n"
     ]
    }
   ],
   "source": [
    "response = requests.get(\"https://s02-infrastructure.s3.eu-west-1.amazonaws.com/hackathon-02-batch7/index.html\")\n",
    "soup = BeautifulSoup(response.content, 'html.parser')\n",
    "table = soup.find('table', {'id': 'data-table'})\n",
    "data = []\n",
    "for row in table.find_all('tr'):\n",
    "    cols = row.find_all('td')\n",
    "    if len(cols) == 2:\n",
    "        timestamp = cols[0].text.strip()\n",
    "        weco = cols[1].text.strip()\n",
    "        data.append([timestamp, weco])\n",
    "df = pd.DataFrame(data, columns=['timestamp', 'weco'])\n",
    "print(df)"
   ]
  },
  {
   "cell_type": "code",
   "execution_count": 8,
   "id": "5ddedfaf",
   "metadata": {
    "ExecuteTime": {
     "end_time": "2024-02-04T10:52:27.107290Z",
     "start_time": "2024-02-04T10:52:27.003456Z"
    }
   },
   "outputs": [
    {
     "name": "stdout",
     "output_type": "stream",
     "text": [
      "HEAD\n",
      "                  weco\n",
      "timestamp             \n",
      "1656896400        fair\n",
      "1685127600       clear\n",
      "1622311200        fair\n",
      "1666148400      cloudy\n",
      "1624255200  light rain\n",
      "\n",
      "\n",
      "SHAPE\n",
      "(15684, 1)\n",
      "\n",
      "\n",
      "DATA TYPES\n",
      "weco    object\n",
      "dtype: object\n",
      "\n",
      "\n",
      "UNIQUE VALUES\n",
      "weco    16\n",
      "dtype: int64\n",
      "\n",
      "\n",
      "MISSING VALUES\n",
      "weco    0\n",
      "dtype: int64\n"
     ]
    }
   ],
   "source": [
    "df['weco']=df['weco'].str.lower()\n",
    "df = df.rename(columns=str.lower)\n",
    "df = df.set_index(\"timestamp\")\n",
    "check_data(df)"
   ]
  },
  {
   "cell_type": "code",
   "execution_count": 14,
   "id": "c6901bd8",
   "metadata": {
    "ExecuteTime": {
     "end_time": "2024-02-04T10:55:24.788500Z",
     "start_time": "2024-02-04T10:55:24.738796Z"
    }
   },
   "outputs": [
    {
     "data": {
      "text/html": [
       "<div>\n",
       "<style scoped>\n",
       "    .dataframe tbody tr th:only-of-type {\n",
       "        vertical-align: middle;\n",
       "    }\n",
       "\n",
       "    .dataframe tbody tr th {\n",
       "        vertical-align: top;\n",
       "    }\n",
       "\n",
       "    .dataframe thead th {\n",
       "        text-align: right;\n",
       "    }\n",
       "</style>\n",
       "<table border=\"1\" class=\"dataframe\">\n",
       "  <thead>\n",
       "    <tr style=\"text-align: right;\">\n",
       "      <th></th>\n",
       "      <th>weco</th>\n",
       "      <th>count</th>\n",
       "    </tr>\n",
       "  </thead>\n",
       "  <tbody>\n",
       "    <tr>\n",
       "      <th>7</th>\n",
       "      <td></td>\n",
       "      <td>159</td>\n",
       "    </tr>\n",
       "    <tr>\n",
       "      <th>4</th>\n",
       "      <td>clear</td>\n",
       "      <td>829</td>\n",
       "    </tr>\n",
       "    <tr>\n",
       "      <th>1</th>\n",
       "      <td>cloudy</td>\n",
       "      <td>4137</td>\n",
       "    </tr>\n",
       "    <tr>\n",
       "      <th>0</th>\n",
       "      <td>fair</td>\n",
       "      <td>4971</td>\n",
       "    </tr>\n",
       "    <tr>\n",
       "      <th>8</th>\n",
       "      <td>fog</td>\n",
       "      <td>157</td>\n",
       "    </tr>\n",
       "    <tr>\n",
       "      <th>14</th>\n",
       "      <td>freezing rain</td>\n",
       "      <td>2</td>\n",
       "    </tr>\n",
       "    <tr>\n",
       "      <th>10</th>\n",
       "      <td>heavy rain</td>\n",
       "      <td>51</td>\n",
       "    </tr>\n",
       "    <tr>\n",
       "      <th>9</th>\n",
       "      <td>heavy rain shower</td>\n",
       "      <td>130</td>\n",
       "    </tr>\n",
       "    <tr>\n",
       "      <th>3</th>\n",
       "      <td>light rain</td>\n",
       "      <td>1957</td>\n",
       "    </tr>\n",
       "    <tr>\n",
       "      <th>12</th>\n",
       "      <td>lihgt snowfall</td>\n",
       "      <td>6</td>\n",
       "    </tr>\n",
       "    <tr>\n",
       "      <th>2</th>\n",
       "      <td>overcast</td>\n",
       "      <td>2835</td>\n",
       "    </tr>\n",
       "    <tr>\n",
       "      <th>5</th>\n",
       "      <td>rain</td>\n",
       "      <td>262</td>\n",
       "    </tr>\n",
       "    <tr>\n",
       "      <th>6</th>\n",
       "      <td>rain shower</td>\n",
       "      <td>169</td>\n",
       "    </tr>\n",
       "    <tr>\n",
       "      <th>11</th>\n",
       "      <td>sleet</td>\n",
       "      <td>11</td>\n",
       "    </tr>\n",
       "    <tr>\n",
       "      <th>15</th>\n",
       "      <td>sleet shower</td>\n",
       "      <td>2</td>\n",
       "    </tr>\n",
       "    <tr>\n",
       "      <th>13</th>\n",
       "      <td>snow shower</td>\n",
       "      <td>6</td>\n",
       "    </tr>\n",
       "  </tbody>\n",
       "</table>\n",
       "</div>"
      ],
      "text/plain": [
       "                 weco  count\n",
       "7                        159\n",
       "4               clear    829\n",
       "1              cloudy   4137\n",
       "0                fair   4971\n",
       "8                 fog    157\n",
       "14      freezing rain      2\n",
       "10         heavy rain     51\n",
       "9   heavy rain shower    130\n",
       "3          light rain   1957\n",
       "12     lihgt snowfall      6\n",
       "2            overcast   2835\n",
       "5                rain    262\n",
       "6         rain shower    169\n",
       "11              sleet     11\n",
       "15       sleet shower      2\n",
       "13        snow shower      6"
      ]
     },
     "execution_count": 14,
     "metadata": {},
     "output_type": "execute_result"
    }
   ],
   "source": [
    "df['weco'].value_counts().reset_index().sort_values(by='weco')"
   ]
  },
  {
   "cell_type": "code",
   "execution_count": 15,
   "id": "b32d18c0",
   "metadata": {
    "ExecuteTime": {
     "end_time": "2024-02-04T10:55:51.509960Z",
     "start_time": "2024-02-04T10:55:51.482886Z"
    }
   },
   "outputs": [
    {
     "data": {
      "text/plain": [
       "weco\n",
       "fair                 4971\n",
       "cloudy               4137\n",
       "overcast             2835\n",
       "light rain           1957\n",
       "clear                 829\n",
       "rain                  262\n",
       "rain shower           169\n",
       "                      159\n",
       "fog                   157\n",
       "heavy rain shower     130\n",
       "heavy rain             51\n",
       "sleet                  11\n",
       "lihgt snowfall          6\n",
       "snow shower             6\n",
       "freezing rain           2\n",
       "sleet shower            2\n",
       "Name: count, dtype: int64"
      ]
     },
     "execution_count": 15,
     "metadata": {},
     "output_type": "execute_result"
    }
   ],
   "source": [
    "df['weco'].value_counts(dropna=False)"
   ]
  },
  {
   "cell_type": "code",
   "execution_count": 16,
   "id": "5aa073fc",
   "metadata": {
    "ExecuteTime": {
     "end_time": "2024-02-04T10:56:11.147034Z",
     "start_time": "2024-02-04T10:56:11.112961Z"
    }
   },
   "outputs": [
    {
     "data": {
      "text/html": [
       "<div>\n",
       "<style scoped>\n",
       "    .dataframe tbody tr th:only-of-type {\n",
       "        vertical-align: middle;\n",
       "    }\n",
       "\n",
       "    .dataframe tbody tr th {\n",
       "        vertical-align: top;\n",
       "    }\n",
       "\n",
       "    .dataframe thead th {\n",
       "        text-align: right;\n",
       "    }\n",
       "</style>\n",
       "<table border=\"1\" class=\"dataframe\">\n",
       "  <thead>\n",
       "    <tr style=\"text-align: right;\">\n",
       "      <th></th>\n",
       "      <th>weco</th>\n",
       "    </tr>\n",
       "    <tr>\n",
       "      <th>timestamp</th>\n",
       "      <th></th>\n",
       "    </tr>\n",
       "  </thead>\n",
       "  <tbody>\n",
       "    <tr>\n",
       "      <th>1656896400</th>\n",
       "      <td>fair</td>\n",
       "    </tr>\n",
       "    <tr>\n",
       "      <th>1685127600</th>\n",
       "      <td>clear</td>\n",
       "    </tr>\n",
       "    <tr>\n",
       "      <th>1622311200</th>\n",
       "      <td>fair</td>\n",
       "    </tr>\n",
       "    <tr>\n",
       "      <th>1666148400</th>\n",
       "      <td>cloudy</td>\n",
       "    </tr>\n",
       "    <tr>\n",
       "      <th>1624255200</th>\n",
       "      <td>light rain</td>\n",
       "    </tr>\n",
       "    <tr>\n",
       "      <th>...</th>\n",
       "      <td>...</td>\n",
       "    </tr>\n",
       "    <tr>\n",
       "      <th>1676451600</th>\n",
       "      <td>cloudy</td>\n",
       "    </tr>\n",
       "    <tr>\n",
       "      <th>1635807600</th>\n",
       "      <td>fair</td>\n",
       "    </tr>\n",
       "    <tr>\n",
       "      <th>1630807200</th>\n",
       "      <td>cloudy</td>\n",
       "    </tr>\n",
       "    <tr>\n",
       "      <th>1629262800</th>\n",
       "      <td>overcast</td>\n",
       "    </tr>\n",
       "    <tr>\n",
       "      <th>1668686400</th>\n",
       "      <td>light rain</td>\n",
       "    </tr>\n",
       "  </tbody>\n",
       "</table>\n",
       "<p>15684 rows × 1 columns</p>\n",
       "</div>"
      ],
      "text/plain": [
       "                  weco\n",
       "timestamp             \n",
       "1656896400        fair\n",
       "1685127600       clear\n",
       "1622311200        fair\n",
       "1666148400      cloudy\n",
       "1624255200  light rain\n",
       "...                ...\n",
       "1676451600      cloudy\n",
       "1635807600        fair\n",
       "1630807200      cloudy\n",
       "1629262800    overcast\n",
       "1668686400  light rain\n",
       "\n",
       "[15684 rows x 1 columns]"
      ]
     },
     "execution_count": 16,
     "metadata": {},
     "output_type": "execute_result"
    }
   ],
   "source": [
    "df"
   ]
  },
  {
   "cell_type": "code",
   "execution_count": 17,
   "id": "ad877c29",
   "metadata": {
    "ExecuteTime": {
     "end_time": "2024-02-04T10:57:04.150803Z",
     "start_time": "2024-02-04T10:57:04.013334Z"
    }
   },
   "outputs": [],
   "source": [
    "df.to_csv('data/webscraping.csv')"
   ]
  },
  {
   "cell_type": "code",
   "execution_count": null,
   "id": "8829c2e7",
   "metadata": {},
   "outputs": [],
   "source": []
  }
 ],
 "metadata": {
  "kernelspec": {
   "display_name": "Python 3 (ipykernel)",
   "language": "python",
   "name": "python3"
  },
  "language_info": {
   "codemirror_mode": {
    "name": "ipython",
    "version": 3
   },
   "file_extension": ".py",
   "mimetype": "text/x-python",
   "name": "python",
   "nbconvert_exporter": "python",
   "pygments_lexer": "ipython3",
   "version": "3.10.6"
  },
  "toc": {
   "base_numbering": 1,
   "nav_menu": {},
   "number_sections": true,
   "sideBar": true,
   "skip_h1_title": false,
   "title_cell": "Table of Contents",
   "title_sidebar": "Contents",
   "toc_cell": false,
   "toc_position": {},
   "toc_section_display": true,
   "toc_window_display": false
  }
 },
 "nbformat": 4,
 "nbformat_minor": 5
}
