{
 "cells": [
  {
   "cell_type": "code",
   "execution_count": 73,
   "id": "cab22130",
   "metadata": {
    "ExecuteTime": {
     "end_time": "2024-02-04T11:51:13.827958Z",
     "start_time": "2024-02-04T11:51:13.820614Z"
    }
   },
   "outputs": [],
   "source": [
    "import pandas as pd\n",
    "from datetime import datetime"
   ]
  },
  {
   "cell_type": "code",
   "execution_count": 2,
   "id": "ab2e1a17",
   "metadata": {
    "ExecuteTime": {
     "end_time": "2024-02-04T10:18:30.609005Z",
     "start_time": "2024-02-04T10:18:30.491060Z"
    }
   },
   "outputs": [],
   "source": [
    "def check_data(df):\n",
    "    print(df.head())\n",
    "    print(\"\\n\")\n",
    "    print(\"SHAPE\")\n",
    "    print(df.shape)\n",
    "    print(\"\\n\")\n",
    "    print(\"DATA TYPES\")\n",
    "    print(df.dtypes)\n",
    "    print(\"\\n\")\n",
    "    print(\"UNIQUE VALUES\")\n",
    "    print(df.nunique())\n",
    "    print(\"\\n\")\n",
    "    print(\"MISSING VALUES\")\n",
    "    print(df.isna().sum())"
   ]
  },
  {
   "cell_type": "code",
   "execution_count": 5,
   "id": "0da059e5",
   "metadata": {
    "ExecuteTime": {
     "end_time": "2024-02-04T10:28:53.623529Z",
     "start_time": "2024-02-04T10:28:53.421175Z"
    }
   },
   "outputs": [
    {
     "name": "stdout",
     "output_type": "stream",
     "text": [
      "api_data.csv     data_1.json      data_3.csv       sql_data.csv\r\n",
      "data_0.tsv       data_2.csv       folders_data.csv test_data.csv\r\n"
     ]
    }
   ],
   "source": [
    "!ls data"
   ]
  },
  {
   "cell_type": "code",
   "execution_count": 102,
   "id": "97ef3eb5",
   "metadata": {
    "ExecuteTime": {
     "end_time": "2024-02-04T12:18:28.028436Z",
     "start_time": "2024-02-04T12:18:27.951326Z"
    }
   },
   "outputs": [],
   "source": [
    "# Specify the column to use as index and its type\n",
    "#dtype_dict = {'timestamp': float}\n",
    "folders_data = pd.read_csv('data/folders_data.csv')"
   ]
  },
  {
   "cell_type": "code",
   "execution_count": 103,
   "id": "24c7da2e",
   "metadata": {
    "ExecuteTime": {
     "end_time": "2024-02-04T12:18:31.550111Z",
     "start_time": "2024-02-04T12:18:31.509973Z"
    }
   },
   "outputs": [
    {
     "name": "stdout",
     "output_type": "stream",
     "text": [
      "      timestamp  temp  rhum  prcp  wspd    pres   wdir  season\n",
      "0  1.618981e+09   6.4   NaN   0.0   7.4  1019.2   35.0  spring\n",
      "1  1.664172e+09  11.9   NaN   NaN   NaN     NaN    NaN  autumn\n",
      "2  1.666717e+09  14.2   NaN   0.0  11.1  1010.4  141.0  autumn\n",
      "3  1.674011e+09  -2.9   NaN   0.0  11.1   994.5  256.0  winter\n",
      "4  1.648228e+09  14.2   NaN   0.0   NaN     NaN    NaN  spring\n",
      "\n",
      "\n",
      "SHAPE\n",
      "(15684, 8)\n",
      "\n",
      "\n",
      "DATA TYPES\n",
      "timestamp    float64\n",
      "temp         float64\n",
      "rhum         float64\n",
      "prcp         float64\n",
      "wspd         float64\n",
      "pres         float64\n",
      "wdir         float64\n",
      "season        object\n",
      "dtype: object\n",
      "\n",
      "\n",
      "UNIQUE VALUES\n",
      "timestamp    15684\n",
      "temp           377\n",
      "rhum            76\n",
      "prcp            49\n",
      "wspd            42\n",
      "pres           624\n",
      "wdir           360\n",
      "season           4\n",
      "dtype: int64\n",
      "\n",
      "\n",
      "MISSING VALUES\n",
      "timestamp        0\n",
      "temp             0\n",
      "rhum         12560\n",
      "prcp          3137\n",
      "wspd          3137\n",
      "pres          3137\n",
      "wdir          3137\n",
      "season           0\n",
      "dtype: int64\n"
     ]
    }
   ],
   "source": [
    "check_data(folders_data)"
   ]
  },
  {
   "cell_type": "code",
   "execution_count": 104,
   "id": "77f748ea",
   "metadata": {
    "ExecuteTime": {
     "end_time": "2024-02-04T12:18:35.902564Z",
     "start_time": "2024-02-04T12:18:35.796662Z"
    }
   },
   "outputs": [
    {
     "data": {
      "text/plain": [
       "dtype('float64')"
      ]
     },
     "execution_count": 104,
     "metadata": {},
     "output_type": "execute_result"
    }
   ],
   "source": [
    "folders_data['timestamp'].dtype"
   ]
  },
  {
   "cell_type": "code",
   "execution_count": 93,
   "id": "99064042",
   "metadata": {
    "ExecuteTime": {
     "end_time": "2024-02-04T12:05:44.747985Z",
     "start_time": "2024-02-04T12:05:44.647126Z"
    }
   },
   "outputs": [],
   "source": [
    "# Convert datetime strings to Unix timestamps and leave Unix timestamps as is\n",
    "#folders_data['timestamp'] = pd.to_numeric(folders_data['timestamp'], errors='coerce')\n"
   ]
  },
  {
   "cell_type": "code",
   "execution_count": 82,
   "id": "da686ffb",
   "metadata": {
    "ExecuteTime": {
     "end_time": "2024-02-04T11:55:40.282767Z",
     "start_time": "2024-02-04T11:55:38.499371Z"
    }
   },
   "outputs": [],
   "source": [
    "#folders_data['timestamp'] = folders_data['timestamp'].apply(pd.to_numeric, errors='coerce')"
   ]
  },
  {
   "cell_type": "code",
   "execution_count": 84,
   "id": "5fa029dc",
   "metadata": {
    "ExecuteTime": {
     "end_time": "2024-02-04T11:59:14.351204Z",
     "start_time": "2024-02-04T11:59:14.291043Z"
    }
   },
   "outputs": [],
   "source": [
    "#folders_data['timestamp'] = pd.to_numeric(folders_data['timestamp'], errors='coerce').astype('float64')"
   ]
  },
  {
   "cell_type": "code",
   "execution_count": 105,
   "id": "ed4a8973",
   "metadata": {
    "ExecuteTime": {
     "end_time": "2024-02-04T12:18:39.516342Z",
     "start_time": "2024-02-04T12:18:39.435948Z"
    }
   },
   "outputs": [
    {
     "name": "stdout",
     "output_type": "stream",
     "text": [
      "      timestamp  temp  rhum  prcp  wspd    pres   wdir  season\n",
      "0  1.618981e+09   6.4   NaN   0.0   7.4  1019.2   35.0  spring\n",
      "1  1.664172e+09  11.9   NaN   NaN   NaN     NaN    NaN  autumn\n",
      "2  1.666717e+09  14.2   NaN   0.0  11.1  1010.4  141.0  autumn\n",
      "3  1.674011e+09  -2.9   NaN   0.0  11.1   994.5  256.0  winter\n",
      "4  1.648228e+09  14.2   NaN   0.0   NaN     NaN    NaN  spring\n",
      "\n",
      "\n",
      "SHAPE\n",
      "(15684, 8)\n",
      "\n",
      "\n",
      "DATA TYPES\n",
      "timestamp    float64\n",
      "temp         float64\n",
      "rhum         float64\n",
      "prcp         float64\n",
      "wspd         float64\n",
      "pres         float64\n",
      "wdir         float64\n",
      "season        object\n",
      "dtype: object\n",
      "\n",
      "\n",
      "UNIQUE VALUES\n",
      "timestamp    15684\n",
      "temp           377\n",
      "rhum            76\n",
      "prcp            49\n",
      "wspd            42\n",
      "pres           624\n",
      "wdir           360\n",
      "season           4\n",
      "dtype: int64\n",
      "\n",
      "\n",
      "MISSING VALUES\n",
      "timestamp        0\n",
      "temp             0\n",
      "rhum         12560\n",
      "prcp          3137\n",
      "wspd          3137\n",
      "pres          3137\n",
      "wdir          3137\n",
      "season           0\n",
      "dtype: int64\n"
     ]
    }
   ],
   "source": [
    "check_data(folders_data)"
   ]
  },
  {
   "cell_type": "code",
   "execution_count": 106,
   "id": "a0f78396",
   "metadata": {
    "ExecuteTime": {
     "end_time": "2024-02-04T12:18:45.519577Z",
     "start_time": "2024-02-04T12:18:45.375310Z"
    }
   },
   "outputs": [],
   "source": [
    "folders_data = pd.read_csv(\"data/folders_data.csv\", index_col = \"timestamp\")\n",
    "webscraping_data = pd.read_csv(\"data/webscraping.csv\", index_col = \"timestamp\")\n",
    "sql_data = pd.read_csv(\"data/sql_data.csv\", index_col = \"timestamp\")\n",
    "api_data = pd.read_csv(\"data/api_data.csv\", index_col = \"timestamp\")"
   ]
  },
  {
   "cell_type": "code",
   "execution_count": 107,
   "id": "13dfda24",
   "metadata": {
    "ExecuteTime": {
     "end_time": "2024-02-04T12:18:48.502663Z",
     "start_time": "2024-02-04T12:18:48.404029Z"
    }
   },
   "outputs": [],
   "source": [
    "api_data.drop([\"Unnamed: 0\"], axis=1, inplace=True)"
   ]
  },
  {
   "cell_type": "code",
   "execution_count": 108,
   "id": "daa74d52",
   "metadata": {
    "ExecuteTime": {
     "end_time": "2024-02-04T12:18:49.874390Z",
     "start_time": "2024-02-04T12:18:49.844633Z"
    }
   },
   "outputs": [
    {
     "name": "stdout",
     "output_type": "stream",
     "text": [
      "            count\n",
      "timestamp        \n",
      "1656896400      0\n",
      "1685127600    157\n",
      "1622311200      0\n",
      "1666148400      0\n",
      "1624255200   1342\n",
      "\n",
      "\n",
      "SHAPE\n",
      "(15684, 1)\n",
      "\n",
      "\n",
      "DATA TYPES\n",
      "count    int64\n",
      "dtype: object\n",
      "\n",
      "\n",
      "UNIQUE VALUES\n",
      "count    2225\n",
      "dtype: int64\n",
      "\n",
      "\n",
      "MISSING VALUES\n",
      "count    0\n",
      "dtype: int64\n"
     ]
    }
   ],
   "source": [
    "check_data(api_data)"
   ]
  },
  {
   "cell_type": "code",
   "execution_count": 109,
   "id": "492a5027",
   "metadata": {
    "ExecuteTime": {
     "end_time": "2024-02-04T12:18:52.800669Z",
     "start_time": "2024-02-04T12:18:52.699443Z"
    }
   },
   "outputs": [
    {
     "name": "stdout",
     "output_type": "stream",
     "text": [
      "                  weco\n",
      "timestamp             \n",
      "1656896400        fair\n",
      "1685127600       clear\n",
      "1622311200        fair\n",
      "1666148400      cloudy\n",
      "1624255200  light rain\n",
      "\n",
      "\n",
      "SHAPE\n",
      "(15684, 1)\n",
      "\n",
      "\n",
      "DATA TYPES\n",
      "weco    object\n",
      "dtype: object\n",
      "\n",
      "\n",
      "UNIQUE VALUES\n",
      "weco    15\n",
      "dtype: int64\n",
      "\n",
      "\n",
      "MISSING VALUES\n",
      "weco    159\n",
      "dtype: int64\n"
     ]
    }
   ],
   "source": [
    "check_data(webscraping_data)"
   ]
  },
  {
   "cell_type": "code",
   "execution_count": 110,
   "id": "74a17303",
   "metadata": {
    "ExecuteTime": {
     "end_time": "2024-02-04T12:18:57.555733Z",
     "start_time": "2024-02-04T12:18:57.446389Z"
    }
   },
   "outputs": [
    {
     "name": "stdout",
     "output_type": "stream",
     "text": [
      "              temp  rhum  prcp  wspd    pres   wdir  season\n",
      "timestamp                                                  \n",
      "1.618981e+09   6.4   NaN   0.0   7.4  1019.2   35.0  spring\n",
      "1.664172e+09  11.9   NaN   NaN   NaN     NaN    NaN  autumn\n",
      "1.666717e+09  14.2   NaN   0.0  11.1  1010.4  141.0  autumn\n",
      "1.674011e+09  -2.9   NaN   0.0  11.1   994.5  256.0  winter\n",
      "1.648228e+09  14.2   NaN   0.0   NaN     NaN    NaN  spring\n",
      "\n",
      "\n",
      "SHAPE\n",
      "(15684, 7)\n",
      "\n",
      "\n",
      "DATA TYPES\n",
      "temp      float64\n",
      "rhum      float64\n",
      "prcp      float64\n",
      "wspd      float64\n",
      "pres      float64\n",
      "wdir      float64\n",
      "season     object\n",
      "dtype: object\n",
      "\n",
      "\n",
      "UNIQUE VALUES\n",
      "temp      377\n",
      "rhum       76\n",
      "prcp       49\n",
      "wspd       42\n",
      "pres      624\n",
      "wdir      360\n",
      "season      4\n",
      "dtype: int64\n",
      "\n",
      "\n",
      "MISSING VALUES\n",
      "temp          0\n",
      "rhum      12560\n",
      "prcp       3137\n",
      "wspd       3137\n",
      "pres       3137\n",
      "wdir       3137\n",
      "season        0\n",
      "dtype: int64\n"
     ]
    }
   ],
   "source": [
    "check_data(folders_data)"
   ]
  },
  {
   "cell_type": "code",
   "execution_count": 111,
   "id": "54139603",
   "metadata": {
    "ExecuteTime": {
     "end_time": "2024-02-04T12:19:02.733577Z",
     "start_time": "2024-02-04T12:19:02.700404Z"
    }
   },
   "outputs": [],
   "source": [
    "sql_data.drop([\"Unnamed: 0\"], axis=1, inplace=True)"
   ]
  },
  {
   "cell_type": "code",
   "execution_count": 112,
   "id": "770f8522",
   "metadata": {
    "ExecuteTime": {
     "end_time": "2024-02-04T12:19:04.149719Z",
     "start_time": "2024-02-04T12:19:04.089878Z"
    }
   },
   "outputs": [],
   "source": [
    "sql_data =sql_data.rename(columns=lambda x: x.replace('_db', ''))"
   ]
  },
  {
   "cell_type": "code",
   "execution_count": 113,
   "id": "0bfd2266",
   "metadata": {
    "ExecuteTime": {
     "end_time": "2024-02-04T12:19:06.588063Z",
     "start_time": "2024-02-04T12:19:06.537872Z"
    }
   },
   "outputs": [
    {
     "name": "stdout",
     "output_type": "stream",
     "text": [
      "            rhum  prcp  wspd   wdir    pres\n",
      "timestamp                                  \n",
      "1654621200   NaN   NaN  18.4  200.0  1010.0\n",
      "1650416400   NaN   NaN  14.8   19.0  1017.3\n",
      "1695322800   NaN   NaN   5.5  170.0   995.6\n",
      "1668279600   NaN   NaN   9.3  130.0  1025.3\n",
      "1629108000   NaN   NaN  24.1  313.0  1016.5\n",
      "\n",
      "\n",
      "SHAPE\n",
      "(5631, 5)\n",
      "\n",
      "\n",
      "DATA TYPES\n",
      "rhum    float64\n",
      "prcp    float64\n",
      "wspd    float64\n",
      "wdir    float64\n",
      "pres    float64\n",
      "dtype: object\n",
      "\n",
      "\n",
      "UNIQUE VALUES\n",
      "rhum     72\n",
      "prcp     32\n",
      "wspd     35\n",
      "wdir    358\n",
      "pres    506\n",
      "dtype: int64\n",
      "\n",
      "\n",
      "MISSING VALUES\n",
      "rhum    2494\n",
      "prcp    2494\n",
      "wspd    2494\n",
      "wdir    2494\n",
      "pres    2494\n",
      "dtype: int64\n"
     ]
    }
   ],
   "source": [
    "check_data(sql_data)"
   ]
  },
  {
   "cell_type": "code",
   "execution_count": 115,
   "id": "239ab27a",
   "metadata": {
    "ExecuteTime": {
     "end_time": "2024-02-04T12:19:16.065678Z",
     "start_time": "2024-02-04T12:19:15.959789Z"
    }
   },
   "outputs": [
    {
     "data": {
      "text/plain": [
       "['wspd', 'wdir', 'pres', 'rhum', 'prcp']"
      ]
     },
     "execution_count": 115,
     "metadata": {},
     "output_type": "execute_result"
    }
   ],
   "source": [
    "list(set(sql_data.columns) & set(folders_data.columns))"
   ]
  },
  {
   "cell_type": "code",
   "execution_count": 38,
   "id": "df66c29d",
   "metadata": {
    "ExecuteTime": {
     "end_time": "2024-02-04T11:26:33.898793Z",
     "start_time": "2024-02-04T11:26:33.871211Z"
    },
    "scrolled": true
   },
   "outputs": [],
   "source": [
    "#folders_data = folders_data.reset_index(drop=False)\n",
    "#sql_data = sql_data.reset_index(drop=False)\n",
    "#webscraping_data = webscraping_data.reset_index(drop=False)\n",
    "#api_data = api_data.reset_index(drop=False)"
   ]
  },
  {
   "cell_type": "code",
   "execution_count": 101,
   "id": "ab3d12fe",
   "metadata": {
    "ExecuteTime": {
     "end_time": "2024-02-04T12:18:02.483791Z",
     "start_time": "2024-02-04T12:18:02.435623Z"
    }
   },
   "outputs": [
    {
     "data": {
      "text/plain": [
       "(Index(['temp', 'rhum', 'prcp', 'wspd', 'pres', 'wdir', 'season'], dtype='object'),\n",
       " Index(['Unnamed: 0', 'rhum_db', 'prcp_db', 'wspd_db', 'wdir_db', 'pres_db'], dtype='object'),\n",
       " Index(['weco'], dtype='object'),\n",
       " Index(['Unnamed: 0', 'count'], dtype='object'))"
      ]
     },
     "execution_count": 101,
     "metadata": {},
     "output_type": "execute_result"
    }
   ],
   "source": [
    "folders_data.columns, sql_data.columns, webscraping_data.columns, api_data.columns"
   ]
  },
  {
   "cell_type": "code",
   "execution_count": 53,
   "id": "3f0169e4",
   "metadata": {
    "ExecuteTime": {
     "end_time": "2024-02-04T11:34:19.875874Z",
     "start_time": "2024-02-04T11:34:19.834901Z"
    }
   },
   "outputs": [],
   "source": [
    "#sql_data.timestamp = sql_data.timestamp.astype(float).astype(int)\n",
    "#webscraping_data.timestamp = webscraping_data.timestamp.astype(float).astype(int)\n",
    "#api_data.timestamp = api_data.timestamp.astype(float).astype(int)"
   ]
  },
  {
   "cell_type": "code",
   "execution_count": 59,
   "id": "c48e6218",
   "metadata": {
    "ExecuteTime": {
     "end_time": "2024-02-04T11:36:10.821604Z",
     "start_time": "2024-02-04T11:36:10.584742Z"
    },
    "collapsed": true
   },
   "outputs": [
    {
     "ename": "ValueError",
     "evalue": "could not convert string to float: '2022-08-02 13:00:00'",
     "output_type": "error",
     "traceback": [
      "\u001b[0;31m---------------------------------------------------------------------------\u001b[0m",
      "\u001b[0;31mValueError\u001b[0m                                Traceback (most recent call last)",
      "Cell \u001b[0;32mIn[59], line 1\u001b[0m\n\u001b[0;32m----> 1\u001b[0m \u001b[43mfolders_data\u001b[49m\u001b[38;5;241;43m.\u001b[39;49m\u001b[43mtimestamp\u001b[49m\u001b[38;5;241;43m.\u001b[39;49m\u001b[43mastype\u001b[49m\u001b[43m(\u001b[49m\u001b[38;5;28;43mfloat\u001b[39;49m\u001b[43m)\u001b[49m\n",
      "File \u001b[0;32m~/.pyenv/versions/S02_BLU03/lib/python3.10/site-packages/pandas/core/generic.py:6532\u001b[0m, in \u001b[0;36mNDFrame.astype\u001b[0;34m(self, dtype, copy, errors)\u001b[0m\n\u001b[1;32m   6528\u001b[0m     results \u001b[38;5;241m=\u001b[39m [ser\u001b[38;5;241m.\u001b[39mastype(dtype, copy\u001b[38;5;241m=\u001b[39mcopy) \u001b[38;5;28;01mfor\u001b[39;00m _, ser \u001b[38;5;129;01min\u001b[39;00m \u001b[38;5;28mself\u001b[39m\u001b[38;5;241m.\u001b[39mitems()]\n\u001b[1;32m   6530\u001b[0m \u001b[38;5;28;01melse\u001b[39;00m:\n\u001b[1;32m   6531\u001b[0m     \u001b[38;5;66;03m# else, only a single dtype is given\u001b[39;00m\n\u001b[0;32m-> 6532\u001b[0m     new_data \u001b[38;5;241m=\u001b[39m \u001b[38;5;28;43mself\u001b[39;49m\u001b[38;5;241;43m.\u001b[39;49m\u001b[43m_mgr\u001b[49m\u001b[38;5;241;43m.\u001b[39;49m\u001b[43mastype\u001b[49m\u001b[43m(\u001b[49m\u001b[43mdtype\u001b[49m\u001b[38;5;241;43m=\u001b[39;49m\u001b[43mdtype\u001b[49m\u001b[43m,\u001b[49m\u001b[43m \u001b[49m\u001b[43mcopy\u001b[49m\u001b[38;5;241;43m=\u001b[39;49m\u001b[43mcopy\u001b[49m\u001b[43m,\u001b[49m\u001b[43m \u001b[49m\u001b[43merrors\u001b[49m\u001b[38;5;241;43m=\u001b[39;49m\u001b[43merrors\u001b[49m\u001b[43m)\u001b[49m\n\u001b[1;32m   6533\u001b[0m     res \u001b[38;5;241m=\u001b[39m \u001b[38;5;28mself\u001b[39m\u001b[38;5;241m.\u001b[39m_constructor_from_mgr(new_data, axes\u001b[38;5;241m=\u001b[39mnew_data\u001b[38;5;241m.\u001b[39maxes)\n\u001b[1;32m   6534\u001b[0m     \u001b[38;5;28;01mreturn\u001b[39;00m res\u001b[38;5;241m.\u001b[39m__finalize__(\u001b[38;5;28mself\u001b[39m, method\u001b[38;5;241m=\u001b[39m\u001b[38;5;124m\"\u001b[39m\u001b[38;5;124mastype\u001b[39m\u001b[38;5;124m\"\u001b[39m)\n",
      "File \u001b[0;32m~/.pyenv/versions/S02_BLU03/lib/python3.10/site-packages/pandas/core/internals/managers.py:414\u001b[0m, in \u001b[0;36mBaseBlockManager.astype\u001b[0;34m(self, dtype, copy, errors)\u001b[0m\n\u001b[1;32m    411\u001b[0m \u001b[38;5;28;01melif\u001b[39;00m using_copy_on_write():\n\u001b[1;32m    412\u001b[0m     copy \u001b[38;5;241m=\u001b[39m \u001b[38;5;28;01mFalse\u001b[39;00m\n\u001b[0;32m--> 414\u001b[0m \u001b[38;5;28;01mreturn\u001b[39;00m \u001b[38;5;28;43mself\u001b[39;49m\u001b[38;5;241;43m.\u001b[39;49m\u001b[43mapply\u001b[49m\u001b[43m(\u001b[49m\n\u001b[1;32m    415\u001b[0m \u001b[43m    \u001b[49m\u001b[38;5;124;43m\"\u001b[39;49m\u001b[38;5;124;43mastype\u001b[39;49m\u001b[38;5;124;43m\"\u001b[39;49m\u001b[43m,\u001b[49m\n\u001b[1;32m    416\u001b[0m \u001b[43m    \u001b[49m\u001b[43mdtype\u001b[49m\u001b[38;5;241;43m=\u001b[39;49m\u001b[43mdtype\u001b[49m\u001b[43m,\u001b[49m\n\u001b[1;32m    417\u001b[0m \u001b[43m    \u001b[49m\u001b[43mcopy\u001b[49m\u001b[38;5;241;43m=\u001b[39;49m\u001b[43mcopy\u001b[49m\u001b[43m,\u001b[49m\n\u001b[1;32m    418\u001b[0m \u001b[43m    \u001b[49m\u001b[43merrors\u001b[49m\u001b[38;5;241;43m=\u001b[39;49m\u001b[43merrors\u001b[49m\u001b[43m,\u001b[49m\n\u001b[1;32m    419\u001b[0m \u001b[43m    \u001b[49m\u001b[43musing_cow\u001b[49m\u001b[38;5;241;43m=\u001b[39;49m\u001b[43musing_copy_on_write\u001b[49m\u001b[43m(\u001b[49m\u001b[43m)\u001b[49m\u001b[43m,\u001b[49m\n\u001b[1;32m    420\u001b[0m \u001b[43m\u001b[49m\u001b[43m)\u001b[49m\n",
      "File \u001b[0;32m~/.pyenv/versions/S02_BLU03/lib/python3.10/site-packages/pandas/core/internals/managers.py:354\u001b[0m, in \u001b[0;36mBaseBlockManager.apply\u001b[0;34m(self, f, align_keys, **kwargs)\u001b[0m\n\u001b[1;32m    352\u001b[0m         applied \u001b[38;5;241m=\u001b[39m b\u001b[38;5;241m.\u001b[39mapply(f, \u001b[38;5;241m*\u001b[39m\u001b[38;5;241m*\u001b[39mkwargs)\n\u001b[1;32m    353\u001b[0m     \u001b[38;5;28;01melse\u001b[39;00m:\n\u001b[0;32m--> 354\u001b[0m         applied \u001b[38;5;241m=\u001b[39m \u001b[38;5;28;43mgetattr\u001b[39;49m\u001b[43m(\u001b[49m\u001b[43mb\u001b[49m\u001b[43m,\u001b[49m\u001b[43m \u001b[49m\u001b[43mf\u001b[49m\u001b[43m)\u001b[49m\u001b[43m(\u001b[49m\u001b[38;5;241;43m*\u001b[39;49m\u001b[38;5;241;43m*\u001b[39;49m\u001b[43mkwargs\u001b[49m\u001b[43m)\u001b[49m\n\u001b[1;32m    355\u001b[0m     result_blocks \u001b[38;5;241m=\u001b[39m extend_blocks(applied, result_blocks)\n\u001b[1;32m    357\u001b[0m out \u001b[38;5;241m=\u001b[39m \u001b[38;5;28mtype\u001b[39m(\u001b[38;5;28mself\u001b[39m)\u001b[38;5;241m.\u001b[39mfrom_blocks(result_blocks, \u001b[38;5;28mself\u001b[39m\u001b[38;5;241m.\u001b[39maxes)\n",
      "File \u001b[0;32m~/.pyenv/versions/S02_BLU03/lib/python3.10/site-packages/pandas/core/internals/blocks.py:616\u001b[0m, in \u001b[0;36mBlock.astype\u001b[0;34m(self, dtype, copy, errors, using_cow)\u001b[0m\n\u001b[1;32m    596\u001b[0m \u001b[38;5;250m\u001b[39m\u001b[38;5;124;03m\"\"\"\u001b[39;00m\n\u001b[1;32m    597\u001b[0m \u001b[38;5;124;03mCoerce to the new dtype.\u001b[39;00m\n\u001b[1;32m    598\u001b[0m \n\u001b[0;32m   (...)\u001b[0m\n\u001b[1;32m    612\u001b[0m \u001b[38;5;124;03mBlock\u001b[39;00m\n\u001b[1;32m    613\u001b[0m \u001b[38;5;124;03m\"\"\"\u001b[39;00m\n\u001b[1;32m    614\u001b[0m values \u001b[38;5;241m=\u001b[39m \u001b[38;5;28mself\u001b[39m\u001b[38;5;241m.\u001b[39mvalues\n\u001b[0;32m--> 616\u001b[0m new_values \u001b[38;5;241m=\u001b[39m \u001b[43mastype_array_safe\u001b[49m\u001b[43m(\u001b[49m\u001b[43mvalues\u001b[49m\u001b[43m,\u001b[49m\u001b[43m \u001b[49m\u001b[43mdtype\u001b[49m\u001b[43m,\u001b[49m\u001b[43m \u001b[49m\u001b[43mcopy\u001b[49m\u001b[38;5;241;43m=\u001b[39;49m\u001b[43mcopy\u001b[49m\u001b[43m,\u001b[49m\u001b[43m \u001b[49m\u001b[43merrors\u001b[49m\u001b[38;5;241;43m=\u001b[39;49m\u001b[43merrors\u001b[49m\u001b[43m)\u001b[49m\n\u001b[1;32m    618\u001b[0m new_values \u001b[38;5;241m=\u001b[39m maybe_coerce_values(new_values)\n\u001b[1;32m    620\u001b[0m refs \u001b[38;5;241m=\u001b[39m \u001b[38;5;28;01mNone\u001b[39;00m\n",
      "File \u001b[0;32m~/.pyenv/versions/S02_BLU03/lib/python3.10/site-packages/pandas/core/dtypes/astype.py:238\u001b[0m, in \u001b[0;36mastype_array_safe\u001b[0;34m(values, dtype, copy, errors)\u001b[0m\n\u001b[1;32m    235\u001b[0m     dtype \u001b[38;5;241m=\u001b[39m dtype\u001b[38;5;241m.\u001b[39mnumpy_dtype\n\u001b[1;32m    237\u001b[0m \u001b[38;5;28;01mtry\u001b[39;00m:\n\u001b[0;32m--> 238\u001b[0m     new_values \u001b[38;5;241m=\u001b[39m \u001b[43mastype_array\u001b[49m\u001b[43m(\u001b[49m\u001b[43mvalues\u001b[49m\u001b[43m,\u001b[49m\u001b[43m \u001b[49m\u001b[43mdtype\u001b[49m\u001b[43m,\u001b[49m\u001b[43m \u001b[49m\u001b[43mcopy\u001b[49m\u001b[38;5;241;43m=\u001b[39;49m\u001b[43mcopy\u001b[49m\u001b[43m)\u001b[49m\n\u001b[1;32m    239\u001b[0m \u001b[38;5;28;01mexcept\u001b[39;00m (\u001b[38;5;167;01mValueError\u001b[39;00m, \u001b[38;5;167;01mTypeError\u001b[39;00m):\n\u001b[1;32m    240\u001b[0m     \u001b[38;5;66;03m# e.g. _astype_nansafe can fail on object-dtype of strings\u001b[39;00m\n\u001b[1;32m    241\u001b[0m     \u001b[38;5;66;03m#  trying to convert to float\u001b[39;00m\n\u001b[1;32m    242\u001b[0m     \u001b[38;5;28;01mif\u001b[39;00m errors \u001b[38;5;241m==\u001b[39m \u001b[38;5;124m\"\u001b[39m\u001b[38;5;124mignore\u001b[39m\u001b[38;5;124m\"\u001b[39m:\n",
      "File \u001b[0;32m~/.pyenv/versions/S02_BLU03/lib/python3.10/site-packages/pandas/core/dtypes/astype.py:183\u001b[0m, in \u001b[0;36mastype_array\u001b[0;34m(values, dtype, copy)\u001b[0m\n\u001b[1;32m    180\u001b[0m     values \u001b[38;5;241m=\u001b[39m values\u001b[38;5;241m.\u001b[39mastype(dtype, copy\u001b[38;5;241m=\u001b[39mcopy)\n\u001b[1;32m    182\u001b[0m \u001b[38;5;28;01melse\u001b[39;00m:\n\u001b[0;32m--> 183\u001b[0m     values \u001b[38;5;241m=\u001b[39m \u001b[43m_astype_nansafe\u001b[49m\u001b[43m(\u001b[49m\u001b[43mvalues\u001b[49m\u001b[43m,\u001b[49m\u001b[43m \u001b[49m\u001b[43mdtype\u001b[49m\u001b[43m,\u001b[49m\u001b[43m \u001b[49m\u001b[43mcopy\u001b[49m\u001b[38;5;241;43m=\u001b[39;49m\u001b[43mcopy\u001b[49m\u001b[43m)\u001b[49m\n\u001b[1;32m    185\u001b[0m \u001b[38;5;66;03m# in pandas we don't store numpy str dtypes, so convert to object\u001b[39;00m\n\u001b[1;32m    186\u001b[0m \u001b[38;5;28;01mif\u001b[39;00m \u001b[38;5;28misinstance\u001b[39m(dtype, np\u001b[38;5;241m.\u001b[39mdtype) \u001b[38;5;129;01mand\u001b[39;00m \u001b[38;5;28missubclass\u001b[39m(values\u001b[38;5;241m.\u001b[39mdtype\u001b[38;5;241m.\u001b[39mtype, \u001b[38;5;28mstr\u001b[39m):\n",
      "File \u001b[0;32m~/.pyenv/versions/S02_BLU03/lib/python3.10/site-packages/pandas/core/dtypes/astype.py:134\u001b[0m, in \u001b[0;36m_astype_nansafe\u001b[0;34m(arr, dtype, copy, skipna)\u001b[0m\n\u001b[1;32m    130\u001b[0m     \u001b[38;5;28;01mraise\u001b[39;00m \u001b[38;5;167;01mValueError\u001b[39;00m(msg)\n\u001b[1;32m    132\u001b[0m \u001b[38;5;28;01mif\u001b[39;00m copy \u001b[38;5;129;01mor\u001b[39;00m arr\u001b[38;5;241m.\u001b[39mdtype \u001b[38;5;241m==\u001b[39m \u001b[38;5;28mobject\u001b[39m \u001b[38;5;129;01mor\u001b[39;00m dtype \u001b[38;5;241m==\u001b[39m \u001b[38;5;28mobject\u001b[39m:\n\u001b[1;32m    133\u001b[0m     \u001b[38;5;66;03m# Explicit copy, or required since NumPy can't view from / to object.\u001b[39;00m\n\u001b[0;32m--> 134\u001b[0m     \u001b[38;5;28;01mreturn\u001b[39;00m \u001b[43marr\u001b[49m\u001b[38;5;241;43m.\u001b[39;49m\u001b[43mastype\u001b[49m\u001b[43m(\u001b[49m\u001b[43mdtype\u001b[49m\u001b[43m,\u001b[49m\u001b[43m \u001b[49m\u001b[43mcopy\u001b[49m\u001b[38;5;241;43m=\u001b[39;49m\u001b[38;5;28;43;01mTrue\u001b[39;49;00m\u001b[43m)\u001b[49m\n\u001b[1;32m    136\u001b[0m \u001b[38;5;28;01mreturn\u001b[39;00m arr\u001b[38;5;241m.\u001b[39mastype(dtype, copy\u001b[38;5;241m=\u001b[39mcopy)\n",
      "\u001b[0;31mValueError\u001b[0m: could not convert string to float: '2022-08-02 13:00:00'"
     ]
    }
   ],
   "source": [
    "#folders_data.timestamp.astype(float)"
   ]
  },
  {
   "cell_type": "code",
   "execution_count": 120,
   "id": "5df8a36c",
   "metadata": {
    "ExecuteTime": {
     "end_time": "2024-02-04T12:26:03.202023Z",
     "start_time": "2024-02-04T12:26:03.072919Z"
    }
   },
   "outputs": [
    {
     "name": "stdout",
     "output_type": "stream",
     "text": [
      "Concatenated shape:  (36999, 8)\n"
     ]
    }
   ],
   "source": [
    "# concatenate dataframes - by default, pd.concat uses an outer join on the index. pd.merge could be an alternative\n",
    "#all_data_df = pd.concat([folders_data, sql_data, webscraping_data],  axis=0).sort_index()\n",
    "#print(\"Concatenated shape: \", all_data_df.shape)"
   ]
  },
  {
   "cell_type": "code",
   "execution_count": 128,
   "id": "1cef6f50",
   "metadata": {
    "ExecuteTime": {
     "end_time": "2024-02-04T12:30:13.118771Z",
     "start_time": "2024-02-04T12:30:13.071505Z"
    }
   },
   "outputs": [],
   "source": [
    "#first_merge = folders_data.merge(sql_data, on=\"timestamp\", how = \"inner\")"
   ]
  },
  {
   "cell_type": "code",
   "execution_count": 129,
   "id": "907fd637",
   "metadata": {
    "ExecuteTime": {
     "end_time": "2024-02-04T12:30:14.163940Z",
     "start_time": "2024-02-04T12:30:13.992385Z"
    }
   },
   "outputs": [
    {
     "data": {
      "text/html": [
       "<div>\n",
       "<style scoped>\n",
       "    .dataframe tbody tr th:only-of-type {\n",
       "        vertical-align: middle;\n",
       "    }\n",
       "\n",
       "    .dataframe tbody tr th {\n",
       "        vertical-align: top;\n",
       "    }\n",
       "\n",
       "    .dataframe thead th {\n",
       "        text-align: right;\n",
       "    }\n",
       "</style>\n",
       "<table border=\"1\" class=\"dataframe\">\n",
       "  <thead>\n",
       "    <tr style=\"text-align: right;\">\n",
       "      <th></th>\n",
       "      <th>temp</th>\n",
       "      <th>rhum_x</th>\n",
       "      <th>prcp_x</th>\n",
       "      <th>wspd_x</th>\n",
       "      <th>pres_x</th>\n",
       "      <th>wdir_x</th>\n",
       "      <th>season</th>\n",
       "      <th>rhum_y</th>\n",
       "      <th>prcp_y</th>\n",
       "      <th>wspd_y</th>\n",
       "      <th>wdir_y</th>\n",
       "      <th>pres_y</th>\n",
       "    </tr>\n",
       "    <tr>\n",
       "      <th>timestamp</th>\n",
       "      <th></th>\n",
       "      <th></th>\n",
       "      <th></th>\n",
       "      <th></th>\n",
       "      <th></th>\n",
       "      <th></th>\n",
       "      <th></th>\n",
       "      <th></th>\n",
       "      <th></th>\n",
       "      <th></th>\n",
       "      <th></th>\n",
       "      <th></th>\n",
       "    </tr>\n",
       "  </thead>\n",
       "  <tbody>\n",
       "    <tr>\n",
       "      <th>1.664172e+09</th>\n",
       "      <td>11.9</td>\n",
       "      <td>NaN</td>\n",
       "      <td>NaN</td>\n",
       "      <td>NaN</td>\n",
       "      <td>NaN</td>\n",
       "      <td>NaN</td>\n",
       "      <td>autumn</td>\n",
       "      <td>86.0</td>\n",
       "      <td>0.3</td>\n",
       "      <td>18.5</td>\n",
       "      <td>264.0</td>\n",
       "      <td>1001.0</td>\n",
       "    </tr>\n",
       "    <tr>\n",
       "      <th>1.648228e+09</th>\n",
       "      <td>14.2</td>\n",
       "      <td>NaN</td>\n",
       "      <td>0.0</td>\n",
       "      <td>NaN</td>\n",
       "      <td>NaN</td>\n",
       "      <td>NaN</td>\n",
       "      <td>spring</td>\n",
       "      <td>NaN</td>\n",
       "      <td>NaN</td>\n",
       "      <td>13.0</td>\n",
       "      <td>80.0</td>\n",
       "      <td>1031.1</td>\n",
       "    </tr>\n",
       "    <tr>\n",
       "      <th>1.639386e+09</th>\n",
       "      <td>9.9</td>\n",
       "      <td>NaN</td>\n",
       "      <td>NaN</td>\n",
       "      <td>NaN</td>\n",
       "      <td>NaN</td>\n",
       "      <td>NaN</td>\n",
       "      <td>autumn</td>\n",
       "      <td>93.0</td>\n",
       "      <td>0.0</td>\n",
       "      <td>14.8</td>\n",
       "      <td>200.0</td>\n",
       "      <td>1023.3</td>\n",
       "    </tr>\n",
       "    <tr>\n",
       "      <th>1.663182e+09</th>\n",
       "      <td>15.6</td>\n",
       "      <td>NaN</td>\n",
       "      <td>NaN</td>\n",
       "      <td>11.1</td>\n",
       "      <td>1008.3</td>\n",
       "      <td>335.0</td>\n",
       "      <td>summer</td>\n",
       "      <td>77.0</td>\n",
       "      <td>0.0</td>\n",
       "      <td>NaN</td>\n",
       "      <td>NaN</td>\n",
       "      <td>NaN</td>\n",
       "    </tr>\n",
       "    <tr>\n",
       "      <th>1.678147e+09</th>\n",
       "      <td>4.3</td>\n",
       "      <td>NaN</td>\n",
       "      <td>NaN</td>\n",
       "      <td>13.0</td>\n",
       "      <td>1001.2</td>\n",
       "      <td>250.0</td>\n",
       "      <td>winter</td>\n",
       "      <td>92.0</td>\n",
       "      <td>0.0</td>\n",
       "      <td>NaN</td>\n",
       "      <td>NaN</td>\n",
       "      <td>NaN</td>\n",
       "    </tr>\n",
       "  </tbody>\n",
       "</table>\n",
       "</div>"
      ],
      "text/plain": [
       "              temp  rhum_x  prcp_x  wspd_x  pres_x  wdir_x  season  rhum_y  \\\n",
       "timestamp                                                                    \n",
       "1.664172e+09  11.9     NaN     NaN     NaN     NaN     NaN  autumn    86.0   \n",
       "1.648228e+09  14.2     NaN     0.0     NaN     NaN     NaN  spring     NaN   \n",
       "1.639386e+09   9.9     NaN     NaN     NaN     NaN     NaN  autumn    93.0   \n",
       "1.663182e+09  15.6     NaN     NaN    11.1  1008.3   335.0  summer    77.0   \n",
       "1.678147e+09   4.3     NaN     NaN    13.0  1001.2   250.0  winter    92.0   \n",
       "\n",
       "              prcp_y  wspd_y  wdir_y  pres_y  \n",
       "timestamp                                     \n",
       "1.664172e+09     0.3    18.5   264.0  1001.0  \n",
       "1.648228e+09     NaN    13.0    80.0  1031.1  \n",
       "1.639386e+09     0.0    14.8   200.0  1023.3  \n",
       "1.663182e+09     0.0     NaN     NaN     NaN  \n",
       "1.678147e+09     0.0     NaN     NaN     NaN  "
      ]
     },
     "execution_count": 129,
     "metadata": {},
     "output_type": "execute_result"
    }
   ],
   "source": [
    "#first_merge.head()"
   ]
  },
  {
   "cell_type": "code",
   "execution_count": null,
   "id": "15260693",
   "metadata": {},
   "outputs": [],
   "source": [
    "#second_merge = first_merge.merge(webscraping_data, on=\"timestamp\", left_index=False, right_index=False, how = \"outer\")"
   ]
  },
  {
   "cell_type": "code",
   "execution_count": 132,
   "id": "02fd3325",
   "metadata": {
    "ExecuteTime": {
     "end_time": "2024-02-04T12:33:34.823750Z",
     "start_time": "2024-02-04T12:33:34.696319Z"
    },
    "scrolled": true
   },
   "outputs": [
    {
     "data": {
      "text/html": [
       "<div>\n",
       "<style scoped>\n",
       "    .dataframe tbody tr th:only-of-type {\n",
       "        vertical-align: middle;\n",
       "    }\n",
       "\n",
       "    .dataframe tbody tr th {\n",
       "        vertical-align: top;\n",
       "    }\n",
       "\n",
       "    .dataframe thead th {\n",
       "        text-align: right;\n",
       "    }\n",
       "</style>\n",
       "<table border=\"1\" class=\"dataframe\">\n",
       "  <thead>\n",
       "    <tr style=\"text-align: right;\">\n",
       "      <th></th>\n",
       "      <th>temp</th>\n",
       "      <th>rhum</th>\n",
       "      <th>prcp</th>\n",
       "      <th>wspd</th>\n",
       "      <th>pres</th>\n",
       "      <th>wdir</th>\n",
       "      <th>season</th>\n",
       "      <th>rhum_other</th>\n",
       "      <th>prcp_other</th>\n",
       "      <th>wspd_other</th>\n",
       "      <th>wdir_other</th>\n",
       "      <th>pres_other</th>\n",
       "    </tr>\n",
       "    <tr>\n",
       "      <th>timestamp</th>\n",
       "      <th></th>\n",
       "      <th></th>\n",
       "      <th></th>\n",
       "      <th></th>\n",
       "      <th></th>\n",
       "      <th></th>\n",
       "      <th></th>\n",
       "      <th></th>\n",
       "      <th></th>\n",
       "      <th></th>\n",
       "      <th></th>\n",
       "      <th></th>\n",
       "    </tr>\n",
       "  </thead>\n",
       "  <tbody>\n",
       "    <tr>\n",
       "      <th>1.664172e+09</th>\n",
       "      <td>11.9</td>\n",
       "      <td>NaN</td>\n",
       "      <td>NaN</td>\n",
       "      <td>NaN</td>\n",
       "      <td>NaN</td>\n",
       "      <td>NaN</td>\n",
       "      <td>autumn</td>\n",
       "      <td>86.0</td>\n",
       "      <td>0.3</td>\n",
       "      <td>18.5</td>\n",
       "      <td>264.0</td>\n",
       "      <td>1001.0</td>\n",
       "    </tr>\n",
       "    <tr>\n",
       "      <th>1.648228e+09</th>\n",
       "      <td>14.2</td>\n",
       "      <td>NaN</td>\n",
       "      <td>0.0</td>\n",
       "      <td>NaN</td>\n",
       "      <td>NaN</td>\n",
       "      <td>NaN</td>\n",
       "      <td>spring</td>\n",
       "      <td>NaN</td>\n",
       "      <td>NaN</td>\n",
       "      <td>13.0</td>\n",
       "      <td>80.0</td>\n",
       "      <td>1031.1</td>\n",
       "    </tr>\n",
       "    <tr>\n",
       "      <th>1.639386e+09</th>\n",
       "      <td>9.9</td>\n",
       "      <td>NaN</td>\n",
       "      <td>NaN</td>\n",
       "      <td>NaN</td>\n",
       "      <td>NaN</td>\n",
       "      <td>NaN</td>\n",
       "      <td>autumn</td>\n",
       "      <td>93.0</td>\n",
       "      <td>0.0</td>\n",
       "      <td>14.8</td>\n",
       "      <td>200.0</td>\n",
       "      <td>1023.3</td>\n",
       "    </tr>\n",
       "    <tr>\n",
       "      <th>1.663182e+09</th>\n",
       "      <td>15.6</td>\n",
       "      <td>NaN</td>\n",
       "      <td>NaN</td>\n",
       "      <td>11.1</td>\n",
       "      <td>1008.3</td>\n",
       "      <td>335.0</td>\n",
       "      <td>summer</td>\n",
       "      <td>77.0</td>\n",
       "      <td>0.0</td>\n",
       "      <td>NaN</td>\n",
       "      <td>NaN</td>\n",
       "      <td>NaN</td>\n",
       "    </tr>\n",
       "    <tr>\n",
       "      <th>1.678147e+09</th>\n",
       "      <td>4.3</td>\n",
       "      <td>NaN</td>\n",
       "      <td>NaN</td>\n",
       "      <td>13.0</td>\n",
       "      <td>1001.2</td>\n",
       "      <td>250.0</td>\n",
       "      <td>winter</td>\n",
       "      <td>92.0</td>\n",
       "      <td>0.0</td>\n",
       "      <td>NaN</td>\n",
       "      <td>NaN</td>\n",
       "      <td>NaN</td>\n",
       "    </tr>\n",
       "    <tr>\n",
       "      <th>...</th>\n",
       "      <td>...</td>\n",
       "      <td>...</td>\n",
       "      <td>...</td>\n",
       "      <td>...</td>\n",
       "      <td>...</td>\n",
       "      <td>...</td>\n",
       "      <td>...</td>\n",
       "      <td>...</td>\n",
       "      <td>...</td>\n",
       "      <td>...</td>\n",
       "      <td>...</td>\n",
       "      <td>...</td>\n",
       "    </tr>\n",
       "    <tr>\n",
       "      <th>1.643310e+09</th>\n",
       "      <td>5.9</td>\n",
       "      <td>NaN</td>\n",
       "      <td>NaN</td>\n",
       "      <td>11.1</td>\n",
       "      <td>1031.2</td>\n",
       "      <td>296.0</td>\n",
       "      <td>winter</td>\n",
       "      <td>86.0</td>\n",
       "      <td>0.0</td>\n",
       "      <td>NaN</td>\n",
       "      <td>NaN</td>\n",
       "      <td>NaN</td>\n",
       "    </tr>\n",
       "    <tr>\n",
       "      <th>1.654304e+09</th>\n",
       "      <td>13.0</td>\n",
       "      <td>NaN</td>\n",
       "      <td>NaN</td>\n",
       "      <td>20.5</td>\n",
       "      <td>1020.0</td>\n",
       "      <td>50.0</td>\n",
       "      <td>spring</td>\n",
       "      <td>77.0</td>\n",
       "      <td>2.5</td>\n",
       "      <td>NaN</td>\n",
       "      <td>NaN</td>\n",
       "      <td>NaN</td>\n",
       "    </tr>\n",
       "    <tr>\n",
       "      <th>1.619237e+09</th>\n",
       "      <td>4.4</td>\n",
       "      <td>NaN</td>\n",
       "      <td>NaN</td>\n",
       "      <td>NaN</td>\n",
       "      <td>NaN</td>\n",
       "      <td>NaN</td>\n",
       "      <td>spring</td>\n",
       "      <td>89.0</td>\n",
       "      <td>0.0</td>\n",
       "      <td>9.3</td>\n",
       "      <td>72.0</td>\n",
       "      <td>1027.9</td>\n",
       "    </tr>\n",
       "    <tr>\n",
       "      <th>1.657094e+09</th>\n",
       "      <td>17.4</td>\n",
       "      <td>69.0</td>\n",
       "      <td>0.0</td>\n",
       "      <td>NaN</td>\n",
       "      <td>NaN</td>\n",
       "      <td>NaN</td>\n",
       "      <td>summer</td>\n",
       "      <td>NaN</td>\n",
       "      <td>NaN</td>\n",
       "      <td>13.0</td>\n",
       "      <td>295.0</td>\n",
       "      <td>1027.5</td>\n",
       "    </tr>\n",
       "    <tr>\n",
       "      <th>1.640182e+09</th>\n",
       "      <td>2.9</td>\n",
       "      <td>86.0</td>\n",
       "      <td>0.0</td>\n",
       "      <td>NaN</td>\n",
       "      <td>NaN</td>\n",
       "      <td>NaN</td>\n",
       "      <td>winter</td>\n",
       "      <td>NaN</td>\n",
       "      <td>NaN</td>\n",
       "      <td>13.0</td>\n",
       "      <td>144.0</td>\n",
       "      <td>1018.3</td>\n",
       "    </tr>\n",
       "  </tbody>\n",
       "</table>\n",
       "<p>5631 rows × 12 columns</p>\n",
       "</div>"
      ],
      "text/plain": [
       "              temp  rhum  prcp  wspd    pres   wdir  season  rhum_other  \\\n",
       "timestamp                                                                 \n",
       "1.664172e+09  11.9   NaN   NaN   NaN     NaN    NaN  autumn        86.0   \n",
       "1.648228e+09  14.2   NaN   0.0   NaN     NaN    NaN  spring         NaN   \n",
       "1.639386e+09   9.9   NaN   NaN   NaN     NaN    NaN  autumn        93.0   \n",
       "1.663182e+09  15.6   NaN   NaN  11.1  1008.3  335.0  summer        77.0   \n",
       "1.678147e+09   4.3   NaN   NaN  13.0  1001.2  250.0  winter        92.0   \n",
       "...            ...   ...   ...   ...     ...    ...     ...         ...   \n",
       "1.643310e+09   5.9   NaN   NaN  11.1  1031.2  296.0  winter        86.0   \n",
       "1.654304e+09  13.0   NaN   NaN  20.5  1020.0   50.0  spring        77.0   \n",
       "1.619237e+09   4.4   NaN   NaN   NaN     NaN    NaN  spring        89.0   \n",
       "1.657094e+09  17.4  69.0   0.0   NaN     NaN    NaN  summer         NaN   \n",
       "1.640182e+09   2.9  86.0   0.0   NaN     NaN    NaN  winter         NaN   \n",
       "\n",
       "              prcp_other  wspd_other  wdir_other  pres_other  \n",
       "timestamp                                                     \n",
       "1.664172e+09         0.3        18.5       264.0      1001.0  \n",
       "1.648228e+09         NaN        13.0        80.0      1031.1  \n",
       "1.639386e+09         0.0        14.8       200.0      1023.3  \n",
       "1.663182e+09         0.0         NaN         NaN         NaN  \n",
       "1.678147e+09         0.0         NaN         NaN         NaN  \n",
       "...                  ...         ...         ...         ...  \n",
       "1.643310e+09         0.0         NaN         NaN         NaN  \n",
       "1.654304e+09         2.5         NaN         NaN         NaN  \n",
       "1.619237e+09         0.0         9.3        72.0      1027.9  \n",
       "1.657094e+09         NaN        13.0       295.0      1027.5  \n",
       "1.640182e+09         NaN        13.0       144.0      1018.3  \n",
       "\n",
       "[5631 rows x 12 columns]"
      ]
     },
     "execution_count": 132,
     "metadata": {},
     "output_type": "execute_result"
    }
   ],
   "source": [
    "#merged_data = pd.merge(folders_data, sql_data, on='timestamp', suffixes=('', '_other'))\n",
    "#merged_data"
   ]
  },
  {
   "cell_type": "code",
   "execution_count": 136,
   "id": "92cd6236",
   "metadata": {
    "ExecuteTime": {
     "end_time": "2024-02-04T12:42:16.282414Z",
     "start_time": "2024-02-04T12:42:16.035697Z"
    }
   },
   "outputs": [
    {
     "data": {
      "text/html": [
       "<div>\n",
       "<style scoped>\n",
       "    .dataframe tbody tr th:only-of-type {\n",
       "        vertical-align: middle;\n",
       "    }\n",
       "\n",
       "    .dataframe tbody tr th {\n",
       "        vertical-align: top;\n",
       "    }\n",
       "\n",
       "    .dataframe thead th {\n",
       "        text-align: right;\n",
       "    }\n",
       "</style>\n",
       "<table border=\"1\" class=\"dataframe\">\n",
       "  <thead>\n",
       "    <tr style=\"text-align: right;\">\n",
       "      <th></th>\n",
       "      <th>prcp</th>\n",
       "      <th>pres</th>\n",
       "      <th>rhum</th>\n",
       "      <th>season</th>\n",
       "      <th>temp</th>\n",
       "      <th>wdir</th>\n",
       "      <th>wspd</th>\n",
       "    </tr>\n",
       "    <tr>\n",
       "      <th>timestamp</th>\n",
       "      <th></th>\n",
       "      <th></th>\n",
       "      <th></th>\n",
       "      <th></th>\n",
       "      <th></th>\n",
       "      <th></th>\n",
       "      <th></th>\n",
       "    </tr>\n",
       "  </thead>\n",
       "  <tbody>\n",
       "    <tr>\n",
       "      <th>1.617340e+09</th>\n",
       "      <td>0.0</td>\n",
       "      <td>1029.4</td>\n",
       "      <td>84.0</td>\n",
       "      <td>spring</td>\n",
       "      <td>3.0</td>\n",
       "      <td>33.0</td>\n",
       "      <td>14.8</td>\n",
       "    </tr>\n",
       "    <tr>\n",
       "      <th>1.617343e+09</th>\n",
       "      <td>0.0</td>\n",
       "      <td>1029.5</td>\n",
       "      <td>81.0</td>\n",
       "      <td>spring</td>\n",
       "      <td>3.6</td>\n",
       "      <td>36.0</td>\n",
       "      <td>16.7</td>\n",
       "    </tr>\n",
       "    <tr>\n",
       "      <th>1.617347e+09</th>\n",
       "      <td>0.0</td>\n",
       "      <td>1029.7</td>\n",
       "      <td>NaN</td>\n",
       "      <td>spring</td>\n",
       "      <td>4.6</td>\n",
       "      <td>39.0</td>\n",
       "      <td>18.5</td>\n",
       "    </tr>\n",
       "    <tr>\n",
       "      <th>1.617350e+09</th>\n",
       "      <td>0.0</td>\n",
       "      <td>1029.9</td>\n",
       "      <td>71.0</td>\n",
       "      <td>spring</td>\n",
       "      <td>5.8</td>\n",
       "      <td>44.0</td>\n",
       "      <td>20.4</td>\n",
       "    </tr>\n",
       "    <tr>\n",
       "      <th>1.617354e+09</th>\n",
       "      <td>0.0</td>\n",
       "      <td>1030.1</td>\n",
       "      <td>NaN</td>\n",
       "      <td>spring</td>\n",
       "      <td>6.7</td>\n",
       "      <td>43.0</td>\n",
       "      <td>20.4</td>\n",
       "    </tr>\n",
       "    <tr>\n",
       "      <th>...</th>\n",
       "      <td>...</td>\n",
       "      <td>...</td>\n",
       "      <td>...</td>\n",
       "      <td>...</td>\n",
       "      <td>...</td>\n",
       "      <td>...</td>\n",
       "      <td>...</td>\n",
       "    </tr>\n",
       "    <tr>\n",
       "      <th>1.697990e+09</th>\n",
       "      <td>0.0</td>\n",
       "      <td>1008.3</td>\n",
       "      <td>76.0</td>\n",
       "      <td>autumn</td>\n",
       "      <td>12.2</td>\n",
       "      <td>179.0</td>\n",
       "      <td>7.4</td>\n",
       "    </tr>\n",
       "    <tr>\n",
       "      <th>1.697994e+09</th>\n",
       "      <td>0.0</td>\n",
       "      <td>1008.9</td>\n",
       "      <td>NaN</td>\n",
       "      <td>autumn</td>\n",
       "      <td>11.2</td>\n",
       "      <td>169.0</td>\n",
       "      <td>7.4</td>\n",
       "    </tr>\n",
       "    <tr>\n",
       "      <th>1.697998e+09</th>\n",
       "      <td>0.0</td>\n",
       "      <td>1009.3</td>\n",
       "      <td>85.0</td>\n",
       "      <td>autumn</td>\n",
       "      <td>10.0</td>\n",
       "      <td>157.0</td>\n",
       "      <td>7.4</td>\n",
       "    </tr>\n",
       "    <tr>\n",
       "      <th>1.698001e+09</th>\n",
       "      <td>0.0</td>\n",
       "      <td>1009.7</td>\n",
       "      <td>87.0</td>\n",
       "      <td>autumn</td>\n",
       "      <td>9.2</td>\n",
       "      <td>149.0</td>\n",
       "      <td>7.4</td>\n",
       "    </tr>\n",
       "    <tr>\n",
       "      <th>1.698005e+09</th>\n",
       "      <td>0.0</td>\n",
       "      <td>1010.1</td>\n",
       "      <td>92.0</td>\n",
       "      <td>autumn</td>\n",
       "      <td>8.4</td>\n",
       "      <td>140.0</td>\n",
       "      <td>5.5</td>\n",
       "    </tr>\n",
       "  </tbody>\n",
       "</table>\n",
       "<p>15684 rows × 7 columns</p>\n",
       "</div>"
      ],
      "text/plain": [
       "              prcp    pres  rhum  season  temp   wdir  wspd\n",
       "timestamp                                                  \n",
       "1.617340e+09   0.0  1029.4  84.0  spring   3.0   33.0  14.8\n",
       "1.617343e+09   0.0  1029.5  81.0  spring   3.6   36.0  16.7\n",
       "1.617347e+09   0.0  1029.7   NaN  spring   4.6   39.0  18.5\n",
       "1.617350e+09   0.0  1029.9  71.0  spring   5.8   44.0  20.4\n",
       "1.617354e+09   0.0  1030.1   NaN  spring   6.7   43.0  20.4\n",
       "...            ...     ...   ...     ...   ...    ...   ...\n",
       "1.697990e+09   0.0  1008.3  76.0  autumn  12.2  179.0   7.4\n",
       "1.697994e+09   0.0  1008.9   NaN  autumn  11.2  169.0   7.4\n",
       "1.697998e+09   0.0  1009.3  85.0  autumn  10.0  157.0   7.4\n",
       "1.698001e+09   0.0  1009.7  87.0  autumn   9.2  149.0   7.4\n",
       "1.698005e+09   0.0  1010.1  92.0  autumn   8.4  140.0   5.5\n",
       "\n",
       "[15684 rows x 7 columns]"
      ]
     },
     "execution_count": 136,
     "metadata": {},
     "output_type": "execute_result"
    }
   ],
   "source": [
    "Final_merge_1 = folders_data.combine_first(sql_data)\n",
    "\n",
    "Final_merge_1"
   ]
  },
  {
   "cell_type": "code",
   "execution_count": 138,
   "id": "d32cd393",
   "metadata": {
    "ExecuteTime": {
     "end_time": "2024-02-04T12:42:40.135189Z",
     "start_time": "2024-02-04T12:42:39.552145Z"
    }
   },
   "outputs": [
    {
     "data": {
      "text/html": [
       "<div>\n",
       "<style scoped>\n",
       "    .dataframe tbody tr th:only-of-type {\n",
       "        vertical-align: middle;\n",
       "    }\n",
       "\n",
       "    .dataframe tbody tr th {\n",
       "        vertical-align: top;\n",
       "    }\n",
       "\n",
       "    .dataframe thead th {\n",
       "        text-align: right;\n",
       "    }\n",
       "</style>\n",
       "<table border=\"1\" class=\"dataframe\">\n",
       "  <thead>\n",
       "    <tr style=\"text-align: right;\">\n",
       "      <th></th>\n",
       "      <th>prcp</th>\n",
       "      <th>pres</th>\n",
       "      <th>rhum</th>\n",
       "      <th>season</th>\n",
       "      <th>temp</th>\n",
       "      <th>wdir</th>\n",
       "      <th>weco</th>\n",
       "      <th>wspd</th>\n",
       "    </tr>\n",
       "    <tr>\n",
       "      <th>timestamp</th>\n",
       "      <th></th>\n",
       "      <th></th>\n",
       "      <th></th>\n",
       "      <th></th>\n",
       "      <th></th>\n",
       "      <th></th>\n",
       "      <th></th>\n",
       "      <th></th>\n",
       "    </tr>\n",
       "  </thead>\n",
       "  <tbody>\n",
       "    <tr>\n",
       "      <th>1.617340e+09</th>\n",
       "      <td>0.0</td>\n",
       "      <td>1029.4</td>\n",
       "      <td>84.0</td>\n",
       "      <td>spring</td>\n",
       "      <td>3.0</td>\n",
       "      <td>33.0</td>\n",
       "      <td>fair</td>\n",
       "      <td>14.8</td>\n",
       "    </tr>\n",
       "    <tr>\n",
       "      <th>1.617343e+09</th>\n",
       "      <td>0.0</td>\n",
       "      <td>1029.5</td>\n",
       "      <td>81.0</td>\n",
       "      <td>spring</td>\n",
       "      <td>3.6</td>\n",
       "      <td>36.0</td>\n",
       "      <td>fair</td>\n",
       "      <td>16.7</td>\n",
       "    </tr>\n",
       "    <tr>\n",
       "      <th>1.617347e+09</th>\n",
       "      <td>0.0</td>\n",
       "      <td>1029.7</td>\n",
       "      <td>NaN</td>\n",
       "      <td>spring</td>\n",
       "      <td>4.6</td>\n",
       "      <td>39.0</td>\n",
       "      <td>fair</td>\n",
       "      <td>18.5</td>\n",
       "    </tr>\n",
       "    <tr>\n",
       "      <th>1.617350e+09</th>\n",
       "      <td>0.0</td>\n",
       "      <td>1029.9</td>\n",
       "      <td>71.0</td>\n",
       "      <td>spring</td>\n",
       "      <td>5.8</td>\n",
       "      <td>44.0</td>\n",
       "      <td>fair</td>\n",
       "      <td>20.4</td>\n",
       "    </tr>\n",
       "    <tr>\n",
       "      <th>1.617354e+09</th>\n",
       "      <td>0.0</td>\n",
       "      <td>1030.1</td>\n",
       "      <td>NaN</td>\n",
       "      <td>spring</td>\n",
       "      <td>6.7</td>\n",
       "      <td>43.0</td>\n",
       "      <td>cloudy</td>\n",
       "      <td>20.4</td>\n",
       "    </tr>\n",
       "    <tr>\n",
       "      <th>...</th>\n",
       "      <td>...</td>\n",
       "      <td>...</td>\n",
       "      <td>...</td>\n",
       "      <td>...</td>\n",
       "      <td>...</td>\n",
       "      <td>...</td>\n",
       "      <td>...</td>\n",
       "      <td>...</td>\n",
       "    </tr>\n",
       "    <tr>\n",
       "      <th>1.697990e+09</th>\n",
       "      <td>0.0</td>\n",
       "      <td>1008.3</td>\n",
       "      <td>76.0</td>\n",
       "      <td>autumn</td>\n",
       "      <td>12.2</td>\n",
       "      <td>179.0</td>\n",
       "      <td>fair</td>\n",
       "      <td>7.4</td>\n",
       "    </tr>\n",
       "    <tr>\n",
       "      <th>1.697994e+09</th>\n",
       "      <td>0.0</td>\n",
       "      <td>1008.9</td>\n",
       "      <td>NaN</td>\n",
       "      <td>autumn</td>\n",
       "      <td>11.2</td>\n",
       "      <td>169.0</td>\n",
       "      <td>fair</td>\n",
       "      <td>7.4</td>\n",
       "    </tr>\n",
       "    <tr>\n",
       "      <th>1.697998e+09</th>\n",
       "      <td>0.0</td>\n",
       "      <td>1009.3</td>\n",
       "      <td>85.0</td>\n",
       "      <td>autumn</td>\n",
       "      <td>10.0</td>\n",
       "      <td>157.0</td>\n",
       "      <td>fair</td>\n",
       "      <td>7.4</td>\n",
       "    </tr>\n",
       "    <tr>\n",
       "      <th>1.698001e+09</th>\n",
       "      <td>0.0</td>\n",
       "      <td>1009.7</td>\n",
       "      <td>87.0</td>\n",
       "      <td>autumn</td>\n",
       "      <td>9.2</td>\n",
       "      <td>149.0</td>\n",
       "      <td>fair</td>\n",
       "      <td>7.4</td>\n",
       "    </tr>\n",
       "    <tr>\n",
       "      <th>1.698005e+09</th>\n",
       "      <td>0.0</td>\n",
       "      <td>1010.1</td>\n",
       "      <td>92.0</td>\n",
       "      <td>autumn</td>\n",
       "      <td>8.4</td>\n",
       "      <td>140.0</td>\n",
       "      <td>fair</td>\n",
       "      <td>5.5</td>\n",
       "    </tr>\n",
       "  </tbody>\n",
       "</table>\n",
       "<p>15684 rows × 8 columns</p>\n",
       "</div>"
      ],
      "text/plain": [
       "              prcp    pres  rhum  season  temp   wdir    weco  wspd\n",
       "timestamp                                                          \n",
       "1.617340e+09   0.0  1029.4  84.0  spring   3.0   33.0    fair  14.8\n",
       "1.617343e+09   0.0  1029.5  81.0  spring   3.6   36.0    fair  16.7\n",
       "1.617347e+09   0.0  1029.7   NaN  spring   4.6   39.0    fair  18.5\n",
       "1.617350e+09   0.0  1029.9  71.0  spring   5.8   44.0    fair  20.4\n",
       "1.617354e+09   0.0  1030.1   NaN  spring   6.7   43.0  cloudy  20.4\n",
       "...            ...     ...   ...     ...   ...    ...     ...   ...\n",
       "1.697990e+09   0.0  1008.3  76.0  autumn  12.2  179.0    fair   7.4\n",
       "1.697994e+09   0.0  1008.9   NaN  autumn  11.2  169.0    fair   7.4\n",
       "1.697998e+09   0.0  1009.3  85.0  autumn  10.0  157.0    fair   7.4\n",
       "1.698001e+09   0.0  1009.7  87.0  autumn   9.2  149.0    fair   7.4\n",
       "1.698005e+09   0.0  1010.1  92.0  autumn   8.4  140.0    fair   5.5\n",
       "\n",
       "[15684 rows x 8 columns]"
      ]
     },
     "execution_count": 138,
     "metadata": {},
     "output_type": "execute_result"
    }
   ],
   "source": [
    "all_data_df = Final_merge_1.combine_first(webscraping_data)\n",
    "all_data_df"
   ]
  },
  {
   "cell_type": "code",
   "execution_count": 139,
   "id": "f520f1e6",
   "metadata": {
    "ExecuteTime": {
     "end_time": "2024-02-04T12:43:16.678774Z",
     "start_time": "2024-02-04T12:43:16.416561Z"
    }
   },
   "outputs": [
    {
     "name": "stdout",
     "output_type": "stream",
     "text": [
      "              prcp    pres  rhum  season  temp  wdir    weco  wspd\n",
      "timestamp                                                         \n",
      "1.617340e+09   0.0  1029.4  84.0  spring   3.0  33.0    fair  14.8\n",
      "1.617343e+09   0.0  1029.5  81.0  spring   3.6  36.0    fair  16.7\n",
      "1.617347e+09   0.0  1029.7   NaN  spring   4.6  39.0    fair  18.5\n",
      "1.617350e+09   0.0  1029.9  71.0  spring   5.8  44.0    fair  20.4\n",
      "1.617354e+09   0.0  1030.1   NaN  spring   6.7  43.0  cloudy  20.4\n",
      "\n",
      "\n",
      "SHAPE\n",
      "(15684, 8)\n",
      "\n",
      "\n",
      "DATA TYPES\n",
      "prcp      float64\n",
      "pres      float64\n",
      "rhum      float64\n",
      "season     object\n",
      "temp      float64\n",
      "wdir      float64\n",
      "weco       object\n",
      "wspd      float64\n",
      "dtype: object\n",
      "\n",
      "\n",
      "UNIQUE VALUES\n",
      "prcp       51\n",
      "pres      640\n",
      "rhum       78\n",
      "season      4\n",
      "temp      377\n",
      "wdir      360\n",
      "weco       15\n",
      "wspd       43\n",
      "dtype: int64\n",
      "\n",
      "\n",
      "MISSING VALUES\n",
      "prcp         0\n",
      "pres         0\n",
      "rhum      9423\n",
      "season       0\n",
      "temp         0\n",
      "wdir         0\n",
      "weco       159\n",
      "wspd         0\n",
      "dtype: int64\n"
     ]
    }
   ],
   "source": [
    "check_data(all_data_df)"
   ]
  },
  {
   "cell_type": "code",
   "execution_count": 140,
   "id": "00a72a08",
   "metadata": {
    "ExecuteTime": {
     "end_time": "2024-02-04T12:44:03.523511Z",
     "start_time": "2024-02-04T12:44:03.379098Z"
    }
   },
   "outputs": [
    {
     "data": {
      "text/plain": [
       "weco\n",
       "fair                 4971\n",
       "cloudy               4137\n",
       "overcast             2835\n",
       "light rain           1957\n",
       "clear                 829\n",
       "rain                  262\n",
       "rain shower           169\n",
       "fog                   157\n",
       "heavy rain shower     130\n",
       "heavy rain             51\n",
       "sleet                  11\n",
       "snow shower             6\n",
       "lihgt snowfall          6\n",
       "sleet shower            2\n",
       "freezing rain           2\n",
       "Name: count, dtype: int64"
      ]
     },
     "execution_count": 140,
     "metadata": {},
     "output_type": "execute_result"
    }
   ],
   "source": [
    "all_data_df.weco.value_counts()"
   ]
  },
  {
   "cell_type": "code",
   "execution_count": 141,
   "id": "1fccd70d",
   "metadata": {
    "ExecuteTime": {
     "end_time": "2024-02-04T12:44:20.107828Z",
     "start_time": "2024-02-04T12:44:19.793592Z"
    },
    "scrolled": true
   },
   "outputs": [
    {
     "data": {
      "text/html": [
       "<div>\n",
       "<style scoped>\n",
       "    .dataframe tbody tr th:only-of-type {\n",
       "        vertical-align: middle;\n",
       "    }\n",
       "\n",
       "    .dataframe tbody tr th {\n",
       "        vertical-align: top;\n",
       "    }\n",
       "\n",
       "    .dataframe thead th {\n",
       "        text-align: right;\n",
       "    }\n",
       "</style>\n",
       "<table border=\"1\" class=\"dataframe\">\n",
       "  <thead>\n",
       "    <tr style=\"text-align: right;\">\n",
       "      <th></th>\n",
       "      <th>prcp</th>\n",
       "      <th>pres</th>\n",
       "      <th>rhum</th>\n",
       "      <th>season</th>\n",
       "      <th>temp</th>\n",
       "      <th>wdir</th>\n",
       "      <th>weco</th>\n",
       "      <th>wspd</th>\n",
       "      <th>count</th>\n",
       "    </tr>\n",
       "    <tr>\n",
       "      <th>timestamp</th>\n",
       "      <th></th>\n",
       "      <th></th>\n",
       "      <th></th>\n",
       "      <th></th>\n",
       "      <th></th>\n",
       "      <th></th>\n",
       "      <th></th>\n",
       "      <th></th>\n",
       "      <th></th>\n",
       "    </tr>\n",
       "  </thead>\n",
       "  <tbody>\n",
       "    <tr>\n",
       "      <th>1.617340e+09</th>\n",
       "      <td>0.0</td>\n",
       "      <td>1029.4</td>\n",
       "      <td>84.0</td>\n",
       "      <td>spring</td>\n",
       "      <td>3.0</td>\n",
       "      <td>33.0</td>\n",
       "      <td>fair</td>\n",
       "      <td>14.8</td>\n",
       "      <td>19</td>\n",
       "    </tr>\n",
       "    <tr>\n",
       "      <th>1.617343e+09</th>\n",
       "      <td>0.0</td>\n",
       "      <td>1029.5</td>\n",
       "      <td>81.0</td>\n",
       "      <td>spring</td>\n",
       "      <td>3.6</td>\n",
       "      <td>36.0</td>\n",
       "      <td>fair</td>\n",
       "      <td>16.7</td>\n",
       "      <td>60</td>\n",
       "    </tr>\n",
       "    <tr>\n",
       "      <th>1.617347e+09</th>\n",
       "      <td>0.0</td>\n",
       "      <td>1029.7</td>\n",
       "      <td>NaN</td>\n",
       "      <td>spring</td>\n",
       "      <td>4.6</td>\n",
       "      <td>39.0</td>\n",
       "      <td>fair</td>\n",
       "      <td>18.5</td>\n",
       "      <td>82</td>\n",
       "    </tr>\n",
       "    <tr>\n",
       "      <th>1.617350e+09</th>\n",
       "      <td>0.0</td>\n",
       "      <td>1029.9</td>\n",
       "      <td>71.0</td>\n",
       "      <td>spring</td>\n",
       "      <td>5.8</td>\n",
       "      <td>44.0</td>\n",
       "      <td>fair</td>\n",
       "      <td>20.4</td>\n",
       "      <td>82</td>\n",
       "    </tr>\n",
       "    <tr>\n",
       "      <th>1.617354e+09</th>\n",
       "      <td>0.0</td>\n",
       "      <td>1030.1</td>\n",
       "      <td>NaN</td>\n",
       "      <td>spring</td>\n",
       "      <td>6.7</td>\n",
       "      <td>43.0</td>\n",
       "      <td>cloudy</td>\n",
       "      <td>20.4</td>\n",
       "      <td>17</td>\n",
       "    </tr>\n",
       "    <tr>\n",
       "      <th>...</th>\n",
       "      <td>...</td>\n",
       "      <td>...</td>\n",
       "      <td>...</td>\n",
       "      <td>...</td>\n",
       "      <td>...</td>\n",
       "      <td>...</td>\n",
       "      <td>...</td>\n",
       "      <td>...</td>\n",
       "      <td>...</td>\n",
       "    </tr>\n",
       "    <tr>\n",
       "      <th>1.697990e+09</th>\n",
       "      <td>0.0</td>\n",
       "      <td>1008.3</td>\n",
       "      <td>76.0</td>\n",
       "      <td>autumn</td>\n",
       "      <td>12.2</td>\n",
       "      <td>179.0</td>\n",
       "      <td>fair</td>\n",
       "      <td>7.4</td>\n",
       "      <td>20</td>\n",
       "    </tr>\n",
       "    <tr>\n",
       "      <th>1.697994e+09</th>\n",
       "      <td>0.0</td>\n",
       "      <td>1008.9</td>\n",
       "      <td>NaN</td>\n",
       "      <td>autumn</td>\n",
       "      <td>11.2</td>\n",
       "      <td>169.0</td>\n",
       "      <td>fair</td>\n",
       "      <td>7.4</td>\n",
       "      <td>9</td>\n",
       "    </tr>\n",
       "    <tr>\n",
       "      <th>1.697998e+09</th>\n",
       "      <td>0.0</td>\n",
       "      <td>1009.3</td>\n",
       "      <td>85.0</td>\n",
       "      <td>autumn</td>\n",
       "      <td>10.0</td>\n",
       "      <td>157.0</td>\n",
       "      <td>fair</td>\n",
       "      <td>7.4</td>\n",
       "      <td>16</td>\n",
       "    </tr>\n",
       "    <tr>\n",
       "      <th>1.698001e+09</th>\n",
       "      <td>0.0</td>\n",
       "      <td>1009.7</td>\n",
       "      <td>87.0</td>\n",
       "      <td>autumn</td>\n",
       "      <td>9.2</td>\n",
       "      <td>149.0</td>\n",
       "      <td>fair</td>\n",
       "      <td>7.4</td>\n",
       "      <td>12</td>\n",
       "    </tr>\n",
       "    <tr>\n",
       "      <th>1.698005e+09</th>\n",
       "      <td>0.0</td>\n",
       "      <td>1010.1</td>\n",
       "      <td>92.0</td>\n",
       "      <td>autumn</td>\n",
       "      <td>8.4</td>\n",
       "      <td>140.0</td>\n",
       "      <td>fair</td>\n",
       "      <td>5.5</td>\n",
       "      <td>11</td>\n",
       "    </tr>\n",
       "  </tbody>\n",
       "</table>\n",
       "<p>15684 rows × 9 columns</p>\n",
       "</div>"
      ],
      "text/plain": [
       "              prcp    pres  rhum  season  temp   wdir    weco  wspd  count\n",
       "timestamp                                                                 \n",
       "1.617340e+09   0.0  1029.4  84.0  spring   3.0   33.0    fair  14.8     19\n",
       "1.617343e+09   0.0  1029.5  81.0  spring   3.6   36.0    fair  16.7     60\n",
       "1.617347e+09   0.0  1029.7   NaN  spring   4.6   39.0    fair  18.5     82\n",
       "1.617350e+09   0.0  1029.9  71.0  spring   5.8   44.0    fair  20.4     82\n",
       "1.617354e+09   0.0  1030.1   NaN  spring   6.7   43.0  cloudy  20.4     17\n",
       "...            ...     ...   ...     ...   ...    ...     ...   ...    ...\n",
       "1.697990e+09   0.0  1008.3  76.0  autumn  12.2  179.0    fair   7.4     20\n",
       "1.697994e+09   0.0  1008.9   NaN  autumn  11.2  169.0    fair   7.4      9\n",
       "1.697998e+09   0.0  1009.3  85.0  autumn  10.0  157.0    fair   7.4     16\n",
       "1.698001e+09   0.0  1009.7  87.0  autumn   9.2  149.0    fair   7.4     12\n",
       "1.698005e+09   0.0  1010.1  92.0  autumn   8.4  140.0    fair   5.5     11\n",
       "\n",
       "[15684 rows x 9 columns]"
      ]
     },
     "execution_count": 141,
     "metadata": {},
     "output_type": "execute_result"
    }
   ],
   "source": [
    "feats_full = all_data_df.merge(api_data, on= \"timestamp\", left_index=False, right_index=False, how = \"inner\")\n",
    "feats_full"
   ]
  },
  {
   "cell_type": "code",
   "execution_count": 142,
   "id": "2d42dfde",
   "metadata": {
    "ExecuteTime": {
     "end_time": "2024-02-04T12:44:47.909580Z",
     "start_time": "2024-02-04T12:44:47.797871Z"
    }
   },
   "outputs": [
    {
     "name": "stdout",
     "output_type": "stream",
     "text": [
      "              prcp    pres  rhum  season  temp  wdir    weco  wspd  count\n",
      "timestamp                                                                \n",
      "1.617340e+09   0.0  1029.4  84.0  spring   3.0  33.0    fair  14.8     19\n",
      "1.617343e+09   0.0  1029.5  81.0  spring   3.6  36.0    fair  16.7     60\n",
      "1.617347e+09   0.0  1029.7   NaN  spring   4.6  39.0    fair  18.5     82\n",
      "1.617350e+09   0.0  1029.9  71.0  spring   5.8  44.0    fair  20.4     82\n",
      "1.617354e+09   0.0  1030.1   NaN  spring   6.7  43.0  cloudy  20.4     17\n",
      "\n",
      "\n",
      "SHAPE\n",
      "(15684, 9)\n",
      "\n",
      "\n",
      "DATA TYPES\n",
      "prcp      float64\n",
      "pres      float64\n",
      "rhum      float64\n",
      "season     object\n",
      "temp      float64\n",
      "wdir      float64\n",
      "weco       object\n",
      "wspd      float64\n",
      "count       int64\n",
      "dtype: object\n",
      "\n",
      "\n",
      "UNIQUE VALUES\n",
      "prcp        51\n",
      "pres       640\n",
      "rhum        78\n",
      "season       4\n",
      "temp       377\n",
      "wdir       360\n",
      "weco        15\n",
      "wspd        43\n",
      "count     2225\n",
      "dtype: int64\n",
      "\n",
      "\n",
      "MISSING VALUES\n",
      "prcp         0\n",
      "pres         0\n",
      "rhum      9423\n",
      "season       0\n",
      "temp         0\n",
      "wdir         0\n",
      "weco       159\n",
      "wspd         0\n",
      "count        0\n",
      "dtype: int64\n"
     ]
    }
   ],
   "source": [
    "check_data(feats_full)"
   ]
  },
  {
   "cell_type": "code",
   "execution_count": 143,
   "id": "e730b1f3",
   "metadata": {
    "ExecuteTime": {
     "end_time": "2024-02-04T12:45:26.932478Z",
     "start_time": "2024-02-04T12:45:26.355591Z"
    }
   },
   "outputs": [],
   "source": [
    "feats_full.to_csv(\"data/full_data.csv\")"
   ]
  },
  {
   "cell_type": "code",
   "execution_count": null,
   "id": "bc035ef5",
   "metadata": {},
   "outputs": [],
   "source": []
  }
 ],
 "metadata": {
  "kernelspec": {
   "display_name": "Python 3 (ipykernel)",
   "language": "python",
   "name": "python3"
  },
  "language_info": {
   "codemirror_mode": {
    "name": "ipython",
    "version": 3
   },
   "file_extension": ".py",
   "mimetype": "text/x-python",
   "name": "python",
   "nbconvert_exporter": "python",
   "pygments_lexer": "ipython3",
   "version": "3.10.6"
  },
  "toc": {
   "base_numbering": 1,
   "nav_menu": {},
   "number_sections": true,
   "sideBar": true,
   "skip_h1_title": false,
   "title_cell": "Table of Contents",
   "title_sidebar": "Contents",
   "toc_cell": false,
   "toc_position": {},
   "toc_section_display": true,
   "toc_window_display": false
  }
 },
 "nbformat": 4,
 "nbformat_minor": 5
}
