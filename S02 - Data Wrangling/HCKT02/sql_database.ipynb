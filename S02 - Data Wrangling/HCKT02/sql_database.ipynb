{
 "cells": [
  {
   "cell_type": "code",
   "execution_count": 1,
   "id": "d2a43b27",
   "metadata": {
    "ExecuteTime": {
     "end_time": "2024-02-04T10:07:50.620780Z",
     "start_time": "2024-02-04T10:07:46.112872Z"
    }
   },
   "outputs": [],
   "source": [
    "import pandas as pd\n",
    "from sqlalchemy import create_engine"
   ]
  },
  {
   "cell_type": "code",
   "execution_count": 2,
   "id": "b50bb618",
   "metadata": {
    "ExecuteTime": {
     "end_time": "2024-02-04T10:07:52.561657Z",
     "start_time": "2024-02-04T10:07:52.412611Z"
    }
   },
   "outputs": [],
   "source": [
    "def check_data(df):\n",
    "    print(df.head())\n",
    "    print(\"\\n\")\n",
    "    print(\"SHAPE\")\n",
    "    print(df.shape)\n",
    "    print(\"\\n\")\n",
    "    print(\"DATA TYPES\")\n",
    "    print(df.dtypes)\n",
    "    print(\"\\n\")\n",
    "    print(\"UNIQUE VALUES\")\n",
    "    print(df.nunique())\n",
    "    print(\"\\n\")\n",
    "    print(\"MISSING VALUES\")\n",
    "    print(df.isna().sum())"
   ]
  },
  {
   "cell_type": "code",
   "execution_count": 4,
   "id": "9eb195fe",
   "metadata": {
    "ExecuteTime": {
     "end_time": "2024-02-04T10:08:35.517655Z",
     "start_time": "2024-02-04T10:08:35.055322Z"
    }
   },
   "outputs": [],
   "source": [
    "username = 'ldsa_student'\n",
    "password = 'R4Fr4P3aAgMYBqqP'\n",
    "host_name = 'batch4-s02-db-instance.ctq2kxc7kx1i.eu-west-1.rds.amazonaws.com'\n",
    "port = 5432\n",
    "db_name = 'hckt2_students'\n",
    "schema = 'public'\n",
    "\n",
    "conn_str = 'postgresql://{}:{}@{}:{}/{}'.format(username, password, host_name, port, db_name)\n",
    "conn_args = {'options': '-csearch_path={}'.format(schema)}\n",
    "engine = create_engine(conn_str, connect_args=conn_args)\n"
   ]
  },
  {
   "cell_type": "code",
   "execution_count": 6,
   "id": "2abe5b4e",
   "metadata": {
    "ExecuteTime": {
     "end_time": "2024-02-04T10:12:07.780399Z",
     "start_time": "2024-02-04T10:12:07.505806Z"
    }
   },
   "outputs": [],
   "source": [
    "query = '''\n",
    "select *\n",
    "from water w\n",
    "natural join wind w2\n",
    "'''\n",
    "db_data = pd.read_sql_query(query, engine)"
   ]
  },
  {
   "cell_type": "code",
   "execution_count": 7,
   "id": "1b06cf07",
   "metadata": {
    "ExecuteTime": {
     "end_time": "2024-02-04T10:12:12.522921Z",
     "start_time": "2024-02-04T10:12:12.424098Z"
    }
   },
   "outputs": [
    {
     "data": {
      "text/html": [
       "<div>\n",
       "<style scoped>\n",
       "    .dataframe tbody tr th:only-of-type {\n",
       "        vertical-align: middle;\n",
       "    }\n",
       "\n",
       "    .dataframe tbody tr th {\n",
       "        vertical-align: top;\n",
       "    }\n",
       "\n",
       "    .dataframe thead th {\n",
       "        text-align: right;\n",
       "    }\n",
       "</style>\n",
       "<table border=\"1\" class=\"dataframe\">\n",
       "  <thead>\n",
       "    <tr style=\"text-align: right;\">\n",
       "      <th></th>\n",
       "      <th>timestamp</th>\n",
       "      <th>rhum_db</th>\n",
       "      <th>prcp_db</th>\n",
       "      <th>wspd_db</th>\n",
       "      <th>wdir_db</th>\n",
       "      <th>pres_db</th>\n",
       "    </tr>\n",
       "  </thead>\n",
       "  <tbody>\n",
       "    <tr>\n",
       "      <th>0</th>\n",
       "      <td>1621951200</td>\n",
       "      <td>57</td>\n",
       "      <td>0.0</td>\n",
       "      <td>25.9</td>\n",
       "      <td>281</td>\n",
       "      <td>1014.4</td>\n",
       "    </tr>\n",
       "    <tr>\n",
       "      <th>1</th>\n",
       "      <td>1620547200</td>\n",
       "      <td>70</td>\n",
       "      <td>0.0</td>\n",
       "      <td>20.4</td>\n",
       "      <td>201</td>\n",
       "      <td>997.6</td>\n",
       "    </tr>\n",
       "    <tr>\n",
       "      <th>2</th>\n",
       "      <td>1668826800</td>\n",
       "      <td>96</td>\n",
       "      <td>0.0</td>\n",
       "      <td>13.0</td>\n",
       "      <td>308</td>\n",
       "      <td>1011.3</td>\n",
       "    </tr>\n",
       "    <tr>\n",
       "      <th>3</th>\n",
       "      <td>1643324400</td>\n",
       "      <td>93</td>\n",
       "      <td>0.0</td>\n",
       "      <td>9.3</td>\n",
       "      <td>289</td>\n",
       "      <td>1033.7</td>\n",
       "    </tr>\n",
       "    <tr>\n",
       "      <th>4</th>\n",
       "      <td>1626919200</td>\n",
       "      <td>89</td>\n",
       "      <td>0.0</td>\n",
       "      <td>7.4</td>\n",
       "      <td>76</td>\n",
       "      <td>1024.0</td>\n",
       "    </tr>\n",
       "    <tr>\n",
       "      <th>...</th>\n",
       "      <td>...</td>\n",
       "      <td>...</td>\n",
       "      <td>...</td>\n",
       "      <td>...</td>\n",
       "      <td>...</td>\n",
       "      <td>...</td>\n",
       "    </tr>\n",
       "    <tr>\n",
       "      <th>638</th>\n",
       "      <td>1670954400</td>\n",
       "      <td>89</td>\n",
       "      <td>0.0</td>\n",
       "      <td>11.1</td>\n",
       "      <td>56</td>\n",
       "      <td>1005.4</td>\n",
       "    </tr>\n",
       "    <tr>\n",
       "      <th>639</th>\n",
       "      <td>1652565600</td>\n",
       "      <td>75</td>\n",
       "      <td>0.0</td>\n",
       "      <td>9.3</td>\n",
       "      <td>111</td>\n",
       "      <td>1019.4</td>\n",
       "    </tr>\n",
       "    <tr>\n",
       "      <th>640</th>\n",
       "      <td>1631019600</td>\n",
       "      <td>41</td>\n",
       "      <td>0.0</td>\n",
       "      <td>14.8</td>\n",
       "      <td>130</td>\n",
       "      <td>1020.3</td>\n",
       "    </tr>\n",
       "    <tr>\n",
       "      <th>641</th>\n",
       "      <td>1638943200</td>\n",
       "      <td>80</td>\n",
       "      <td>0.0</td>\n",
       "      <td>25.9</td>\n",
       "      <td>222</td>\n",
       "      <td>986.4</td>\n",
       "    </tr>\n",
       "    <tr>\n",
       "      <th>642</th>\n",
       "      <td>1662516000</td>\n",
       "      <td>95</td>\n",
       "      <td>0.0</td>\n",
       "      <td>11.1</td>\n",
       "      <td>177</td>\n",
       "      <td>1009.2</td>\n",
       "    </tr>\n",
       "  </tbody>\n",
       "</table>\n",
       "<p>643 rows × 6 columns</p>\n",
       "</div>"
      ],
      "text/plain": [
       "      timestamp  rhum_db  prcp_db  wspd_db  wdir_db  pres_db\n",
       "0    1621951200       57      0.0     25.9      281   1014.4\n",
       "1    1620547200       70      0.0     20.4      201    997.6\n",
       "2    1668826800       96      0.0     13.0      308   1011.3\n",
       "3    1643324400       93      0.0      9.3      289   1033.7\n",
       "4    1626919200       89      0.0      7.4       76   1024.0\n",
       "..          ...      ...      ...      ...      ...      ...\n",
       "638  1670954400       89      0.0     11.1       56   1005.4\n",
       "639  1652565600       75      0.0      9.3      111   1019.4\n",
       "640  1631019600       41      0.0     14.8      130   1020.3\n",
       "641  1638943200       80      0.0     25.9      222    986.4\n",
       "642  1662516000       95      0.0     11.1      177   1009.2\n",
       "\n",
       "[643 rows x 6 columns]"
      ]
     },
     "execution_count": 7,
     "metadata": {},
     "output_type": "execute_result"
    }
   ],
   "source": [
    "db_data"
   ]
  },
  {
   "cell_type": "code",
   "execution_count": 8,
   "id": "64d59530",
   "metadata": {
    "ExecuteTime": {
     "end_time": "2024-02-04T10:13:29.967066Z",
     "start_time": "2024-02-04T10:13:29.897623Z"
    }
   },
   "outputs": [
    {
     "name": "stdout",
     "output_type": "stream",
     "text": [
      "    timestamp  rhum_db  prcp_db  wspd_db  wdir_db  pres_db\n",
      "0  1621951200       57      0.0     25.9      281   1014.4\n",
      "1  1620547200       70      0.0     20.4      201    997.6\n",
      "2  1668826800       96      0.0     13.0      308   1011.3\n",
      "3  1643324400       93      0.0      9.3      289   1033.7\n",
      "4  1626919200       89      0.0      7.4       76   1024.0\n",
      "\n",
      "\n",
      "SHAPE\n",
      "(643, 6)\n",
      "\n",
      "\n",
      "DATA TYPES\n",
      "timestamp      int64\n",
      "rhum_db        int64\n",
      "prcp_db      float64\n",
      "wspd_db      float64\n",
      "wdir_db        int64\n",
      "pres_db      float64\n",
      "dtype: object\n",
      "\n",
      "\n",
      "UNIQUE VALUES\n",
      "timestamp    643\n",
      "rhum_db       63\n",
      "prcp_db       14\n",
      "wspd_db       24\n",
      "wdir_db      276\n",
      "pres_db      314\n",
      "dtype: int64\n",
      "\n",
      "\n",
      "MISSING VALUES\n",
      "timestamp    0\n",
      "rhum_db      0\n",
      "prcp_db      0\n",
      "wspd_db      0\n",
      "wdir_db      0\n",
      "pres_db      0\n",
      "dtype: int64\n"
     ]
    }
   ],
   "source": [
    "check_data(db_data)"
   ]
  },
  {
   "cell_type": "code",
   "execution_count": 9,
   "id": "40e6794e",
   "metadata": {
    "ExecuteTime": {
     "end_time": "2024-02-04T10:20:56.337501Z",
     "start_time": "2024-02-04T10:20:55.499946Z"
    }
   },
   "outputs": [
    {
     "data": {
      "text/html": [
       "<div>\n",
       "<style scoped>\n",
       "    .dataframe tbody tr th:only-of-type {\n",
       "        vertical-align: middle;\n",
       "    }\n",
       "\n",
       "    .dataframe tbody tr th {\n",
       "        vertical-align: top;\n",
       "    }\n",
       "\n",
       "    .dataframe thead th {\n",
       "        text-align: right;\n",
       "    }\n",
       "</style>\n",
       "<table border=\"1\" class=\"dataframe\">\n",
       "  <thead>\n",
       "    <tr style=\"text-align: right;\">\n",
       "      <th></th>\n",
       "      <th>timestamp</th>\n",
       "      <th>rhum_db</th>\n",
       "      <th>prcp_db</th>\n",
       "      <th>wspd_db</th>\n",
       "      <th>wdir_db</th>\n",
       "      <th>pres_db</th>\n",
       "    </tr>\n",
       "  </thead>\n",
       "  <tbody>\n",
       "    <tr>\n",
       "      <th>0</th>\n",
       "      <td>1654621200</td>\n",
       "      <td>NaN</td>\n",
       "      <td>NaN</td>\n",
       "      <td>18.4</td>\n",
       "      <td>200.0</td>\n",
       "      <td>1010.0</td>\n",
       "    </tr>\n",
       "    <tr>\n",
       "      <th>1</th>\n",
       "      <td>1650416400</td>\n",
       "      <td>NaN</td>\n",
       "      <td>NaN</td>\n",
       "      <td>14.8</td>\n",
       "      <td>19.0</td>\n",
       "      <td>1017.3</td>\n",
       "    </tr>\n",
       "    <tr>\n",
       "      <th>2</th>\n",
       "      <td>1695322800</td>\n",
       "      <td>NaN</td>\n",
       "      <td>NaN</td>\n",
       "      <td>5.5</td>\n",
       "      <td>170.0</td>\n",
       "      <td>995.6</td>\n",
       "    </tr>\n",
       "    <tr>\n",
       "      <th>3</th>\n",
       "      <td>1668279600</td>\n",
       "      <td>NaN</td>\n",
       "      <td>NaN</td>\n",
       "      <td>9.3</td>\n",
       "      <td>130.0</td>\n",
       "      <td>1025.3</td>\n",
       "    </tr>\n",
       "    <tr>\n",
       "      <th>4</th>\n",
       "      <td>1629108000</td>\n",
       "      <td>NaN</td>\n",
       "      <td>NaN</td>\n",
       "      <td>24.1</td>\n",
       "      <td>313.0</td>\n",
       "      <td>1016.5</td>\n",
       "    </tr>\n",
       "    <tr>\n",
       "      <th>...</th>\n",
       "      <td>...</td>\n",
       "      <td>...</td>\n",
       "      <td>...</td>\n",
       "      <td>...</td>\n",
       "      <td>...</td>\n",
       "      <td>...</td>\n",
       "    </tr>\n",
       "    <tr>\n",
       "      <th>5626</th>\n",
       "      <td>1668729600</td>\n",
       "      <td>85.0</td>\n",
       "      <td>0.8</td>\n",
       "      <td>NaN</td>\n",
       "      <td>NaN</td>\n",
       "      <td>NaN</td>\n",
       "    </tr>\n",
       "    <tr>\n",
       "      <th>5627</th>\n",
       "      <td>1678100400</td>\n",
       "      <td>88.0</td>\n",
       "      <td>0.0</td>\n",
       "      <td>NaN</td>\n",
       "      <td>NaN</td>\n",
       "      <td>NaN</td>\n",
       "    </tr>\n",
       "    <tr>\n",
       "      <th>5628</th>\n",
       "      <td>1628118000</td>\n",
       "      <td>90.0</td>\n",
       "      <td>0.0</td>\n",
       "      <td>NaN</td>\n",
       "      <td>NaN</td>\n",
       "      <td>NaN</td>\n",
       "    </tr>\n",
       "    <tr>\n",
       "      <th>5629</th>\n",
       "      <td>1670403600</td>\n",
       "      <td>97.0</td>\n",
       "      <td>0.0</td>\n",
       "      <td>NaN</td>\n",
       "      <td>NaN</td>\n",
       "      <td>NaN</td>\n",
       "    </tr>\n",
       "    <tr>\n",
       "      <th>5630</th>\n",
       "      <td>1676358000</td>\n",
       "      <td>95.0</td>\n",
       "      <td>0.0</td>\n",
       "      <td>NaN</td>\n",
       "      <td>NaN</td>\n",
       "      <td>NaN</td>\n",
       "    </tr>\n",
       "  </tbody>\n",
       "</table>\n",
       "<p>5631 rows × 6 columns</p>\n",
       "</div>"
      ],
      "text/plain": [
       "       timestamp  rhum_db  prcp_db  wspd_db  wdir_db  pres_db\n",
       "0     1654621200      NaN      NaN     18.4    200.0   1010.0\n",
       "1     1650416400      NaN      NaN     14.8     19.0   1017.3\n",
       "2     1695322800      NaN      NaN      5.5    170.0    995.6\n",
       "3     1668279600      NaN      NaN      9.3    130.0   1025.3\n",
       "4     1629108000      NaN      NaN     24.1    313.0   1016.5\n",
       "...          ...      ...      ...      ...      ...      ...\n",
       "5626  1668729600     85.0      0.8      NaN      NaN      NaN\n",
       "5627  1678100400     88.0      0.0      NaN      NaN      NaN\n",
       "5628  1628118000     90.0      0.0      NaN      NaN      NaN\n",
       "5629  1670403600     97.0      0.0      NaN      NaN      NaN\n",
       "5630  1676358000     95.0      0.0      NaN      NaN      NaN\n",
       "\n",
       "[5631 rows x 6 columns]"
      ]
     },
     "execution_count": 9,
     "metadata": {},
     "output_type": "execute_result"
    }
   ],
   "source": [
    "query = '''select coalesce( w.timestamp,w2.timestamp) as timestamp,w.rhum_db,w.prcp_db,w2.wspd_db,w2.wdir_db,w2.pres_db\n",
    "from water w\n",
    "full join wind w2 on w.timestamp = w2.timestamp '''\n",
    "db_data2 = pd.read_sql_query(query, engine)\n",
    "db_data2"
   ]
  },
  {
   "cell_type": "code",
   "execution_count": 10,
   "id": "f9e43d2d",
   "metadata": {
    "ExecuteTime": {
     "end_time": "2024-02-04T10:21:33.849774Z",
     "start_time": "2024-02-04T10:21:33.735230Z"
    }
   },
   "outputs": [
    {
     "name": "stdout",
     "output_type": "stream",
     "text": [
      "    timestamp  rhum_db  prcp_db  wspd_db  wdir_db  pres_db\n",
      "0  1654621200      NaN      NaN     18.4    200.0   1010.0\n",
      "1  1650416400      NaN      NaN     14.8     19.0   1017.3\n",
      "2  1695322800      NaN      NaN      5.5    170.0    995.6\n",
      "3  1668279600      NaN      NaN      9.3    130.0   1025.3\n",
      "4  1629108000      NaN      NaN     24.1    313.0   1016.5\n",
      "\n",
      "\n",
      "SHAPE\n",
      "(5631, 6)\n",
      "\n",
      "\n",
      "DATA TYPES\n",
      "timestamp      int64\n",
      "rhum_db      float64\n",
      "prcp_db      float64\n",
      "wspd_db      float64\n",
      "wdir_db      float64\n",
      "pres_db      float64\n",
      "dtype: object\n",
      "\n",
      "\n",
      "UNIQUE VALUES\n",
      "timestamp    5631\n",
      "rhum_db        72\n",
      "prcp_db        32\n",
      "wspd_db        35\n",
      "wdir_db       358\n",
      "pres_db       506\n",
      "dtype: int64\n",
      "\n",
      "\n",
      "MISSING VALUES\n",
      "timestamp       0\n",
      "rhum_db      2494\n",
      "prcp_db      2494\n",
      "wspd_db      2494\n",
      "wdir_db      2494\n",
      "pres_db      2494\n",
      "dtype: int64\n"
     ]
    }
   ],
   "source": [
    "check_data(db_data2)"
   ]
  },
  {
   "cell_type": "code",
   "execution_count": 14,
   "id": "791a3852",
   "metadata": {
    "ExecuteTime": {
     "end_time": "2024-02-04T10:24:03.252341Z",
     "start_time": "2024-02-04T10:24:03.192291Z"
    }
   },
   "outputs": [
    {
     "data": {
      "text/plain": [
       "5631"
      ]
     },
     "execution_count": 14,
     "metadata": {},
     "output_type": "execute_result"
    }
   ],
   "source": [
    "len(db_data2.timestamp.unique())"
   ]
  },
  {
   "cell_type": "code",
   "execution_count": 17,
   "id": "f3ecca39",
   "metadata": {
    "ExecuteTime": {
     "end_time": "2024-02-04T10:28:44.917886Z",
     "start_time": "2024-02-04T10:28:44.815453Z"
    }
   },
   "outputs": [],
   "source": [
    "db_data2.to_csv(\"data/sql_data.csv\")"
   ]
  },
  {
   "cell_type": "code",
   "execution_count": null,
   "id": "79944b76",
   "metadata": {},
   "outputs": [],
   "source": []
  }
 ],
 "metadata": {
  "kernelspec": {
   "display_name": "Python 3 (ipykernel)",
   "language": "python",
   "name": "python3"
  },
  "language_info": {
   "codemirror_mode": {
    "name": "ipython",
    "version": 3
   },
   "file_extension": ".py",
   "mimetype": "text/x-python",
   "name": "python",
   "nbconvert_exporter": "python",
   "pygments_lexer": "ipython3",
   "version": "3.10.6"
  },
  "toc": {
   "base_numbering": 1,
   "nav_menu": {},
   "number_sections": true,
   "sideBar": true,
   "skip_h1_title": false,
   "title_cell": "Table of Contents",
   "title_sidebar": "Contents",
   "toc_cell": false,
   "toc_position": {},
   "toc_section_display": true,
   "toc_window_display": false
  }
 },
 "nbformat": 4,
 "nbformat_minor": 5
}
