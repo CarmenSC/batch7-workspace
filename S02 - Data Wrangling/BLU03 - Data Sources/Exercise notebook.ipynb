{
 "cells": [
  {
   "cell_type": "markdown",
   "metadata": {
    "deletable": false,
    "editable": false,
    "nbgrader": {
     "grade": false,
     "grade_id": "cell-1b6b75485105e36c",
     "locked": true,
     "schema_version": 3,
     "solution": false
    }
   },
   "source": [
    "# BLU03 - Exercises Notebook"
   ]
  },
  {
   "cell_type": "code",
   "execution_count": 1,
   "metadata": {
    "ExecuteTime": {
     "end_time": "2024-02-03T15:10:47.130239Z",
     "start_time": "2024-02-03T15:10:46.260505Z"
    },
    "deletable": false,
    "editable": false,
    "nbgrader": {
     "grade": false,
     "grade_id": "cell-ee9dcdd4eb1308b9",
     "locked": true,
     "schema_version": 3,
     "solution": false
    }
   },
   "outputs": [],
   "source": [
    "import hashlib # for grading purposes\n",
    "import math\n",
    "import numpy as np\n",
    "import pandas as pd\n",
    "import requests\n",
    "import sqlalchemy\n",
    "\n",
    "from bs4 import BeautifulSoup"
   ]
  },
  {
   "cell_type": "markdown",
   "metadata": {
    "deletable": false,
    "editable": false,
    "nbgrader": {
     "grade": false,
     "grade_id": "cell-cc67f3fcb340fbcd",
     "locked": true,
     "schema_version": 3,
     "solution": false
    }
   },
   "source": [
    "## Part A - SQL exercises\n",
    "\n",
    "### Querying a StockDatabase with a SQL client\n",
    "\n",
    "Open your favorite SQL client and connect to the StockDatabase.\n",
    "The connection settings are the following.\n",
    "\n",
    "* host: batch4-s02-db-instance.ctq2kxc7kx1i.eu-west-1.rds.amazonaws.com\n",
    "* port: 5432\n",
    "* user: ldsa_student\n",
    "* database: s02_db\n",
    "* schema: public\n",
    "* password: XXX (shared through slack)\n",
    "\n",
    "This is a different schema than the one we used in the learning notebooks (don't forget to change to this schema, see the Learning Notebook). This schema contains information about stock tickers, including their location, some financial information, and whether they are in certain indices.\n",
    "\n",
    "The tables in this schema are the following:\n",
    "\n",
    "1. Stock: has information on ticker, stock name, and sector and industry information.\n",
    "2. Financial: contains latest price and marketcap of all tickers.\n",
    "3. Location: contains information about where the company is located.\n",
    "4. Info: contains information about if a given company is in a certain index (SP500 for example).\n",
    "\n",
    "You can preview these tables using the SQL client.\n",
    "\n",
    "## Note:\n",
    "\n",
    "Since some of the table and column names are reserved names, so they have to be written in double quotes in\n",
    "the queries.  For example in the Financial table (as financial), you can call the Name column using\n",
    "`financial.\"Name\"`\n",
    "\n",
    "### Q1. What is the Ticker of the company with name \"ExlService Holdings, Inc.\"\n",
    "\n",
    "Write a query that selects the ticker of the company \"ExlService Holdings, Inc.\", and run it in the SQL client.\n",
    "\n",
    "Then, assign the result to variable q1_answer (just copy and paste the name you obtained)."
   ]
  },
  {
   "cell_type": "code",
   "execution_count": 2,
   "metadata": {
    "ExecuteTime": {
     "end_time": "2024-02-03T15:10:47.141145Z",
     "start_time": "2024-02-03T15:10:47.133906Z"
    }
   },
   "outputs": [],
   "source": [
    "password = 'R4Fr4P3aAgMYBqqP'"
   ]
  },
  {
   "cell_type": "code",
   "execution_count": 3,
   "metadata": {
    "ExecuteTime": {
     "end_time": "2024-02-03T15:10:47.156757Z",
     "start_time": "2024-02-03T15:10:47.149002Z"
    },
    "deletable": false,
    "nbgrader": {
     "grade": false,
     "grade_id": "cell-03b22b93be7b587e",
     "locked": false,
     "schema_version": 3,
     "solution": true
    }
   },
   "outputs": [],
   "source": [
    "# YOUR CODE HERE\n",
    "username = 'ldsa_student'\n",
    "password = 'R4Fr4P3aAgMYBqqP'  # the password is not XXX by the way\n",
    "host_name = 'batch4-s02-db-instance.ctq2kxc7kx1i.eu-west-1.rds.amazonaws.com'\n",
    "port = 5432\n",
    "db_name = 's02_db'\n",
    "schema = 'public'\n",
    "\n",
    "conn_str = 'postgresql://{}:{}@{}:{}/{}'.format(username, password, host_name, port, db_name)\n",
    "conn_args = {'options': '-csearch_path={}'.format(schema)}"
   ]
  },
  {
   "cell_type": "code",
   "execution_count": 4,
   "metadata": {
    "ExecuteTime": {
     "end_time": "2024-02-03T15:10:48.402168Z",
     "start_time": "2024-02-03T15:10:47.161984Z"
    }
   },
   "outputs": [
    {
     "data": {
      "text/plain": [
       "'EXLS'"
      ]
     },
     "execution_count": 4,
     "metadata": {},
     "output_type": "execute_result"
    }
   ],
   "source": [
    "# Create the connection string\n",
    "conn_str = f'postgresql://{username}:{password}@{host_name}:{port}/{db_name}'\n",
    "conn_args = {'options': f'-csearch_path={schema}'}\n",
    "\n",
    "# Create the engine\n",
    "engine = sqlalchemy.create_engine(conn_str, connect_args=conn_args)\n",
    "\n",
    "# Query\n",
    "query = 'SELECT \"Ticker\" FROM stock WHERE \"Name\" = \\'ExlService Holdings, Inc.\\';'\n",
    "\n",
    "# Execute the query and fetch the result\n",
    "q1_answer_df = pd.read_sql_query(query, engine)\n",
    "\n",
    "# Extract the ticker value\n",
    "q1_answer = q1_answer_df['Ticker'].iloc[0] if not q1_answer_df.empty else \"No result found\"\n",
    "\n",
    "q1_answer"
   ]
  },
  {
   "cell_type": "code",
   "execution_count": 5,
   "metadata": {
    "ExecuteTime": {
     "end_time": "2024-02-03T15:10:48.415489Z",
     "start_time": "2024-02-03T15:10:48.407234Z"
    },
    "deletable": false,
    "editable": false,
    "nbgrader": {
     "grade": true,
     "grade_id": "cell-92e8f002ca863db1",
     "locked": true,
     "points": 3,
     "schema_version": 3,
     "solution": false
    }
   },
   "outputs": [],
   "source": [
    "expected_hash = '404fd7677ca78c286e29c4156fdcf26468198af98e94bbb7ce9686e674f4c0ec'\n",
    "assert hashlib.sha256(q1_answer.encode()).hexdigest() == expected_hash"
   ]
  },
  {
   "cell_type": "markdown",
   "metadata": {
    "deletable": false,
    "editable": false,
    "nbgrader": {
     "grade": false,
     "grade_id": "cell-010c418f563b3408",
     "locked": true,
     "schema_version": 3,
     "solution": false
    }
   },
   "source": [
    "### Q2. Count how many companies hare located in State 'CA'\n",
    "\n",
    "Write a query that counts the number companies that are located in state (`State`) 'CA'\n",
    "\n",
    "Then, assign the result to variable q2_answer (just copy and paste the value)."
   ]
  },
  {
   "cell_type": "code",
   "execution_count": 6,
   "metadata": {
    "ExecuteTime": {
     "end_time": "2024-02-03T15:10:48.589553Z",
     "start_time": "2024-02-03T15:10:48.420243Z"
    },
    "deletable": false,
    "nbgrader": {
     "grade": false,
     "grade_id": "cell-be58fad2af1735bd",
     "locked": false,
     "schema_version": 3,
     "solution": true
    }
   },
   "outputs": [
    {
     "data": {
      "text/plain": [
       "531"
      ]
     },
     "execution_count": 6,
     "metadata": {},
     "output_type": "execute_result"
    }
   ],
   "source": [
    "# YOUR CODE HERE\n",
    "query = 'SELECT COUNT(*) AS company_count FROM location WHERE \"State\" = \\'CA\\';'\n",
    "\n",
    "# Execute the query and fetch the result\n",
    "q2_answer_df = pd.read_sql_query(query, engine)\n",
    "\n",
    "# Extract the count value\n",
    "q2_answer = q2_answer_df['company_count'].iloc[0]\n",
    "\n",
    "q2_answer"
   ]
  },
  {
   "cell_type": "code",
   "execution_count": 7,
   "metadata": {
    "ExecuteTime": {
     "end_time": "2024-02-03T15:10:48.603196Z",
     "start_time": "2024-02-03T15:10:48.596449Z"
    },
    "deletable": false,
    "editable": false,
    "nbgrader": {
     "grade": true,
     "grade_id": "cell-1f2f87262d1b5fc4",
     "locked": true,
     "points": 3,
     "schema_version": 3,
     "solution": false
    }
   },
   "outputs": [],
   "source": [
    "expected_hash = '891d46993a36d78392247c642138cede01d9841daab1d945709755b5194597c4'\n",
    "assert hashlib.sha256(str(q2_answer).encode()).hexdigest() == expected_hash"
   ]
  },
  {
   "cell_type": "markdown",
   "metadata": {
    "deletable": false,
    "editable": false,
    "nbgrader": {
     "grade": false,
     "grade_id": "cell-010c418f565b3108",
     "locked": true,
     "schema_version": 3,
     "solution": false
    }
   },
   "source": [
    "### Q3. Find the name of the 3 texas financial sector companies that have the highest lastprice.\n",
    "\n",
    "Find the names of the 3 financial sector (`Sector`) companies that have the highest lastprice (`Lastprice`) and are located in state (`State`) 'TX'\n",
    "\n",
    "That's quite a lot to ask!\n",
    "\n",
    "Let's break it down. Write a query that:\n",
    "\n",
    "* Finds the companies that are located in state 'TX'\n",
    "* Filters only based on the 'Financial' sector\n",
    "* Sorts by lastprice and gets the 3 highest\n",
    "\n",
    "Hint: Be carefull with the NULL values in `Lastprice`\n",
    "\n",
    "Then, create a list with the results ordered and assign it to variable q3_answer.\n"
   ]
  },
  {
   "cell_type": "code",
   "execution_count": 8,
   "metadata": {
    "ExecuteTime": {
     "end_time": "2024-02-03T15:10:48.780458Z",
     "start_time": "2024-02-03T15:10:48.608105Z"
    },
    "deletable": false,
    "nbgrader": {
     "grade": false,
     "grade_id": "cell-3a7464176782e2cb",
     "locked": false,
     "schema_version": 3,
     "solution": true
    }
   },
   "outputs": [],
   "source": [
    "# YOUR CODE HERE\n",
    "\n",
    "\n",
    "#  SQL query\n",
    "query = \"\"\"\n",
    "SELECT s.\"Name\"\n",
    "FROM stock s\n",
    "JOIN location l ON s.\"Name\" = l.\"Name\"\n",
    "JOIN financial f ON s.\"Name\" = f.\"Name\"\n",
    "WHERE l.\"State\" = 'TX'\n",
    "AND s.\"Sector\" = 'Financial'\n",
    "AND f.\"Lastprice\" IS NOT NULL\n",
    "ORDER BY f.\"Lastprice\" DESC\n",
    "LIMIT 3;\n",
    "\"\"\"\n",
    "\n",
    "# Execute the query and fetch the results\n",
    "q3_answer_df = pd.read_sql_query(query, engine)\n",
    "\n",
    "# Extract the names into a list\n",
    "q3_answer = q3_answer_df['Name'].tolist()\n"
   ]
  },
  {
   "cell_type": "code",
   "execution_count": 9,
   "metadata": {
    "ExecuteTime": {
     "end_time": "2024-02-03T15:10:48.797506Z",
     "start_time": "2024-02-03T15:10:48.790212Z"
    },
    "deletable": false,
    "editable": false,
    "nbgrader": {
     "grade": true,
     "grade_id": "cell-f1f24a46b0d15dc9",
     "locked": true,
     "points": 2,
     "schema_version": 3,
     "solution": false
    }
   },
   "outputs": [],
   "source": [
    "expected_hash = '1467aec780d9e25a7a2b49d528bfe51ed9a166ae3b5362e58f2b59cb85ecc7c8'\n",
    "assert hashlib.sha256(str(q3_answer).encode()).hexdigest() == expected_hash"
   ]
  },
  {
   "cell_type": "markdown",
   "metadata": {
    "deletable": false,
    "editable": false,
    "nbgrader": {
     "grade": false,
     "grade_id": "cell-f1ef8aaf001e8015",
     "locked": true,
     "schema_version": 3,
     "solution": false
    }
   },
   "source": [
    "### Q4. Find out what industries have companies that have both stocks in th the Nasdaq100 and a total marketcap below 50.\n",
    "\n",
    "Write a query to retrieve the names of industries that have companies that meet both the following criteria:\n",
    "- The companies have stocks listed in the Nasdaq100.\n",
    "- The total marketcap of those companies is below 50.\n",
    "\n",
    "\n",
    "Order the results by the total marketcap in ascending order (meaning the industry that contains the companies with the lowest total marketcap first). Create a list with the results, and assign it to variable q4_answer."
   ]
  },
  {
   "cell_type": "code",
   "execution_count": 10,
   "metadata": {
    "ExecuteTime": {
     "end_time": "2024-02-03T15:10:48.969922Z",
     "start_time": "2024-02-03T15:10:48.801965Z"
    },
    "deletable": false,
    "nbgrader": {
     "grade": false,
     "grade_id": "cell-645c2fbe3b16c880",
     "locked": false,
     "schema_version": 3,
     "solution": true
    }
   },
   "outputs": [],
   "source": [
    "\n",
    "# SQL query\n",
    "query = \"\"\"\n",
    "SELECT s.\"Industry\"\n",
    "FROM \"stock\" s\n",
    "JOIN \"financial\" f ON s.\"Name\" = f.\"Name\"\n",
    "JOIN \"info\" i ON s.\"Name\" = i.\"Name\"\n",
    "WHERE i.\"Nasdaq100\" = '1'\n",
    "GROUP BY s.\"Industry\"\n",
    "HAVING SUM(f.\"Marketcap\") < 50\n",
    "ORDER BY SUM(f.\"Marketcap\");\n",
    "\"\"\"\n",
    "\n",
    "# Execute the query and fetch the results\n",
    "q4_answer_df = pd.read_sql_query(query, engine)\n",
    "\n",
    "# Extract the industry names into a list\n",
    "q4_answer = q4_answer_df['Industry'].tolist()\n",
    "\n"
   ]
  },
  {
   "cell_type": "code",
   "execution_count": 11,
   "metadata": {
    "ExecuteTime": {
     "end_time": "2024-02-03T15:10:48.981575Z",
     "start_time": "2024-02-03T15:10:48.973655Z"
    },
    "deletable": false,
    "editable": false,
    "nbgrader": {
     "grade": true,
     "grade_id": "cell-41d99aabd53c87e7",
     "locked": true,
     "points": 2,
     "schema_version": 3,
     "solution": false
    }
   },
   "outputs": [],
   "source": [
    "expected_hash = '73c5fee314b6a6dfcb6392933fd5174152f172e73e66ae0a83b713c26c325a36'\n",
    "assert hashlib.sha256(str(q4_answer).encode()).hexdigest() == expected_hash"
   ]
  },
  {
   "cell_type": "markdown",
   "metadata": {
    "deletable": false,
    "editable": false,
    "nbgrader": {
     "grade": false,
     "grade_id": "cell-24c0142cc3082a0c",
     "locked": true,
     "schema_version": 3,
     "solution": false
    }
   },
   "source": [
    "### Q5. Find out what sector had the highest average stock price (`lastprice`)\n",
    "\n",
    "Find out which state has the healthcare companies with the highest average marketcap.\n",
    "\n",
    "Assign this state to variable q5_answer_1.\n",
    "\n",
    "Also find out the max lastprice of the healthcare companies on that state and assign the result to q5_answer_2\n"
   ]
  },
  {
   "cell_type": "code",
   "execution_count": 12,
   "metadata": {
    "ExecuteTime": {
     "end_time": "2024-02-03T15:10:49.339528Z",
     "start_time": "2024-02-03T15:10:48.988247Z"
    },
    "deletable": false,
    "nbgrader": {
     "grade": false,
     "grade_id": "cell-c5ef88aa51ea99f6",
     "locked": false,
     "schema_version": 3,
     "solution": true
    }
   },
   "outputs": [
    {
     "data": {
      "text/plain": [
       "('RI', 102.15)"
      ]
     },
     "execution_count": 12,
     "metadata": {},
     "output_type": "execute_result"
    }
   ],
   "source": [
    "# YOUR CODE HERE\n",
    "query = '''\n",
    "SELECT l.\"State\", AVG(f.\"Marketcap\") as avg_marketcap\n",
    "FROM \"location\" l\n",
    "JOIN \"stock\" s ON l.\"Name\" = s.\"Name\"\n",
    "JOIN \"financial\" f ON s.\"Name\" = f.\"Name\"\n",
    "WHERE s.\"Sector\" = 'Healthcare'\n",
    "GROUP BY l.\"State\"\n",
    "ORDER BY avg_marketcap DESC\n",
    "LIMIT 1;\n",
    "'''\n",
    "q5_answer_1= pd.read_sql_query(query, engine)\n",
    "q5_answer_1= q5_answer_1['State'][0]\n",
    "\n",
    "query = '''\n",
    "SELECT MAX(f.\"Lastprice\") as max_last_price\n",
    "FROM \"location\" l\n",
    "JOIN \"stock\" s ON l.\"Name\" = s.\"Name\"\n",
    "JOIN \"financial\" f ON s.\"Name\" = f.\"Name\"\n",
    "WHERE s.\"Sector\" = 'Healthcare'\n",
    "AND l.\"State\" = 'RI';\n",
    "'''\n",
    "q5_answer_2= pd.read_sql_query(query, engine)['max_last_price'][0]\n",
    "\n",
    "\n",
    "\n",
    "q5_answer_1, q5_answer_2"
   ]
  },
  {
   "cell_type": "code",
   "execution_count": 13,
   "metadata": {
    "ExecuteTime": {
     "end_time": "2024-02-03T15:10:49.356379Z",
     "start_time": "2024-02-03T15:10:49.347054Z"
    },
    "deletable": false,
    "editable": false,
    "nbgrader": {
     "grade": true,
     "grade_id": "cell-f0f9a337b81de14a",
     "locked": true,
     "points": 2,
     "schema_version": 3,
     "solution": false
    }
   },
   "outputs": [],
   "source": [
    "expected_sector_hash = '91d19006c4397461ab9912a25f8d7b52ad39d438d884005edd54006f576d7869'\n",
    "assert hashlib.sha256(q5_answer_1.encode()).hexdigest() == expected_sector_hash, \"Wrong sector!\"\n",
    "\n",
    "expected_max_price_hash = '420608fcbb711208c6c09c388ea97562c285fc86359069e79b8bb583bd2aacf6'\n",
    "assert hashlib.sha256(str(q5_answer_2).encode()).hexdigest() == expected_max_price_hash, \"Wrong max price!\""
   ]
  },
  {
   "cell_type": "markdown",
   "metadata": {
    "deletable": false,
    "editable": false,
    "nbgrader": {
     "grade": false,
     "grade_id": "cell-a63384ff91b49abf",
     "locked": true,
     "schema_version": 3,
     "solution": false
    }
   },
   "source": [
    "## Part B - Public APIs\n",
    "\n",
    "\n",
    "-----------------------------------\n",
    "\n",
    "In this exercises, the goal is to get data from a public API. We'll go full geek, and use a Pokemon API hosted by the LDSA for this BLU! (credit for the data goes to user `fanzeyi` on Github)\n",
    "\n",
    "The base URL of the API is the following: https://pokemon-api.lisbondatascience.org/\n",
    "\n",
    "In order to complete the exercises, you'll have to navigate to the API's documentation (`ui` endpoint) on your browser. More specifically, you'll have to learn what are the different endpoints from which you can GET information.\n",
    "\n",
    "<br>\n",
    "\n",
    "<img src=\"media/api-image.jpg\" width=600>\n",
    "\n",
    "<br>\n",
    "\n",
    "### Q6. Find all of Pikachu's evolutions!\n",
    "\n",
    "As you might know, Pokemon evolve as they grow. Several Pokemon keep a similar name when they evolve. Let's consider the most famous Pokemon, Pikachu:\n",
    "\n",
    "<br>\n",
    "\n",
    "<img src=\"media/pikachu.png\" width=300>\n",
    "\n",
    "<br>\n",
    "\n",
    "Use the API to find all Pikachu's evolutions! The names of Pikachu evolutions all end in `chu`, so you need to get the pokemons whose names contain that substring. However, you'll also have to filter for \"Electric\" type Pokemon, since there are a couple of results unrelated to Pikachu.\n",
    "\n",
    "Extract their ids from the `[\"id\"]` attribute of each result, in the order they are returned, and assign the resulting list to the `q6_answer_ids` variable.\n",
    "Also extract their attack scores (`[\"base\"][\"Attack\"]`) and assign them to variable `q6_answer_attack`"
   ]
  },
  {
   "cell_type": "code",
   "execution_count": 14,
   "metadata": {
    "ExecuteTime": {
     "end_time": "2024-02-03T15:10:49.368537Z",
     "start_time": "2024-02-03T15:10:49.362922Z"
    }
   },
   "outputs": [],
   "source": [
    "base_url = \"https://pokemon-api.lisbondatascience.org/\""
   ]
  },
  {
   "cell_type": "code",
   "execution_count": 15,
   "metadata": {
    "ExecuteTime": {
     "end_time": "2024-02-03T15:10:49.593406Z",
     "start_time": "2024-02-03T15:10:49.374689Z"
    },
    "deletable": false,
    "nbgrader": {
     "grade": false,
     "grade_id": "cell-b3fbb5fc9e8f475e",
     "locked": false,
     "schema_version": 3,
     "solution": true,
     "task": false
    }
   },
   "outputs": [
    {
     "data": {
      "text/plain": [
       "([25, 26, 172], [55, 90, 40])"
      ]
     },
     "execution_count": 15,
     "metadata": {},
     "output_type": "execute_result"
    }
   ],
   "source": [
    "# Do an HTTP GET request to the Pokemon API to get information about \n",
    "# all Pokemons with \"chu\" in their name\n",
    "# response = ...\n",
    "# q6_answer_names = ...\n",
    "# q6_answer_speeds = ...\n",
    "\n",
    "# YOUR CODE HERE\n",
    "\n",
    "\n",
    "# Base URL of the Pokemon API\n",
    "base_url = \"https://pokemon-api.lisbondatascience.org/\"\n",
    "endpoint = 'pokemon'\n",
    "\n",
    "# Parameters for the GET request\n",
    "params = {\n",
    "    'name': 'chu',\n",
    "    'exact': False,\n",
    "    'poke_type': 'Electric'\n",
    "}\n",
    "\n",
    "# Execute the GET request\n",
    "response = requests.get(f'{base_url}{endpoint}', params=params)\n",
    "\n",
    "# Check if the request was successful\n",
    "if response.status_code == 200:\n",
    "    # Extracting Pokemon IDs and Attack scores from the response\n",
    "    pokemons = response.json()\n",
    "    q6_answer_ids = [pokemon['id'] for pokemon in pokemons if 'chu' in pokemon['name']['english'].lower()]\n",
    "    q6_answer_attacks = [pokemon['base']['Attack'] for pokemon in pokemons if 'chu' in pokemon['name']['english'].lower()]\n",
    "else:\n",
    "    q6_answer_ids = []\n",
    "    q6_answer_attacks = []\n",
    "\n",
    "q6_answer_ids, q6_answer_attacks\n"
   ]
  },
  {
   "cell_type": "code",
   "execution_count": 16,
   "metadata": {
    "ExecuteTime": {
     "end_time": "2024-02-03T15:10:49.606698Z",
     "start_time": "2024-02-03T15:10:49.599115Z"
    },
    "deletable": false,
    "editable": false,
    "nbgrader": {
     "grade": true,
     "grade_id": "cell-50d051ce26525944",
     "locked": true,
     "points": 2,
     "schema_version": 3,
     "solution": false,
     "task": false
    }
   },
   "outputs": [],
   "source": [
    "assert type(q6_answer_ids) == list, \"Ids must be in a list\"\n",
    "assert type(q6_answer_attacks) == list, \"Attacks must be in a list\"\n",
    "\n",
    "expected_ids_hash = 'a160dccf2a5c35ac2760e9846997d5898bd6474af6fe776da487c5ed6b2961e5'\n",
    "assert hashlib.sha256(str(q6_answer_ids).encode()).hexdigest() == expected_ids_hash, \"Wrong names!\"\n",
    "\n",
    "expected_attacks_hash = '4ab8649e9e835ddbcafe15be29b95ff7994be34434a366ac731add7a53b12921'\n",
    "assert hashlib.sha256(str(q6_answer_attacks).encode()).hexdigest() == expected_attacks_hash, \"Wrong speeds!\""
   ]
  },
  {
   "cell_type": "markdown",
   "metadata": {
    "deletable": false,
    "editable": false,
    "nbgrader": {
     "grade": false,
     "grade_id": "cell-90ff2db8962c1d5b",
     "locked": true,
     "schema_version": 3,
     "solution": false
    }
   },
   "source": [
    "### Q7 Find the the strongest and most accurate Pokemon move!\n",
    "\n",
    "Now, use a different endpoint to find out which Pokemon moves have an `accuracy` higher than 95  and `power` stat of 200 or higher.\n",
    "\n",
    "Extract their `enames` (english names) and `types` and assign the resulting lists to variables `q7_answer_names` and `q7_answer_types` respectively."
   ]
  },
  {
   "cell_type": "code",
   "execution_count": null,
   "metadata": {},
   "outputs": [],
   "source": []
  },
  {
   "cell_type": "code",
   "execution_count": 17,
   "metadata": {
    "ExecuteTime": {
     "end_time": "2024-02-03T15:10:49.832560Z",
     "start_time": "2024-02-03T15:10:49.611647Z"
    },
    "deletable": false,
    "nbgrader": {
     "grade": false,
     "grade_id": "cell-3c68a66b3b6b56d0",
     "locked": false,
     "schema_version": 3,
     "solution": true,
     "task": false
    }
   },
   "outputs": [
    {
     "name": "stdout",
     "output_type": "stream",
     "text": [
      "['Self-Destruct', 'Explosion']\n",
      "['Normal', 'Normal']\n"
     ]
    }
   ],
   "source": [
    "# Do an HTTP GET request to find which Pokemon moves have 200 or more power.\n",
    "\n",
    "# YOUR CODE HERE\n",
    "\n",
    "\n",
    "# Base URL of the Pokemon API\n",
    "base_url = \"https://pokemon-api.lisbondatascience.org/\"\n",
    "endpoint = 'moves'\n",
    "\n",
    "# Parameters for the GET request\n",
    "params = {\n",
    "    'accuracy': 95,\n",
    "    'power': 200,\n",
    "    'power_operator': 'gte',\n",
    "    'accuracy_operator': 'gt'\n",
    "}\n",
    "\n",
    "# Execute the GET request\n",
    "response = requests.get(f'{base_url}{endpoint}', params=params)\n",
    "\n",
    "# If the request was successful, proceed to extract the information\n",
    "if response.status_code == 200:\n",
    "    moves = response.json()\n",
    "    q7_answer_names = [move['ename'] for move in moves]\n",
    "    q7_answer_types = [move['type'] for move in moves]\n",
    "else:\n",
    "    print(\"Failed to retrieve data:\", response.status_code)\n",
    "\n",
    "# Print the result or process it as needed\n",
    "print(q7_answer_names)\n",
    "print(q7_answer_types)\n"
   ]
  },
  {
   "cell_type": "code",
   "execution_count": 18,
   "metadata": {
    "ExecuteTime": {
     "end_time": "2024-02-03T15:10:49.850822Z",
     "start_time": "2024-02-03T15:10:49.838189Z"
    },
    "deletable": false,
    "editable": false,
    "nbgrader": {
     "grade": true,
     "grade_id": "cell-15c07449c3238657",
     "locked": true,
     "points": 2,
     "schema_version": 3,
     "solution": false,
     "task": false
    }
   },
   "outputs": [],
   "source": [
    "assert type(q7_answer_names) == list, \"Moves names must be in a list!\"\n",
    "assert len(q7_answer_names) == 2, \"Wrong number of moves!\"\n",
    "\n",
    "expected_moves_hash = 'a7b4c8bc5e6e205ab29e8255537e3bb8ae04269b5b329a3e7c5984ff45542df1'\n",
    "assert hashlib.sha256(str(q7_answer_names).encode()).hexdigest() == expected_moves_hash\n",
    "\n",
    "assert type(q7_answer_types) == list, \"Moves types must be in a list!\"\n",
    "assert len(q7_answer_types) == 2, \"Wrong number of moves!\"\n",
    "\n",
    "expected_types_hash = '45a4bf1d2f50d7a4844324b44de10a89b916280b1c42475b429c587f825802a6'\n",
    "assert hashlib.sha256(str(q7_answer_types).encode()).hexdigest() == expected_types_hash"
   ]
  },
  {
   "cell_type": "markdown",
   "metadata": {
    "deletable": false,
    "editable": false,
    "nbgrader": {
     "grade": false,
     "grade_id": "cell-91ec6c1c0bc1f4f5",
     "locked": true,
     "schema_version": 3,
     "solution": false
    }
   },
   "source": [
    "## Part C - Web scraping\n",
    "\n",
    "In this exercise, we're going to use web scraping to get data from the page of a former LDSA student, Bork Pawson!\n",
    "Bork has kindly made his very simple and amateurish website available for us to scrape!\n",
    "\n",
    "You can find his website here: https://s02-infrastructure.s3.eu-west-1.amazonaws.com/ldsa-bork/index.html\n",
    "\n",
    "### Q8. Scrape Bork's AWESOME honourable mentions\n",
    "\n",
    "Bork has written 3 things that didn't fit in the webpage. You can find them listed on the top of the images.\n",
    "Scrape the 3 items in order, using the `requests` and `BeautifulSoup` library, store them in a list, and assign it to the `q10_answer` variable. No cheating! "
   ]
  },
  {
   "cell_type": "code",
   "execution_count": 19,
   "metadata": {
    "ExecuteTime": {
     "end_time": "2024-02-03T15:10:50.181151Z",
     "start_time": "2024-02-03T15:10:49.858274Z"
    },
    "deletable": false,
    "nbgrader": {
     "grade": false,
     "grade_id": "cell-362ea675c44a647c",
     "locked": false,
     "schema_version": 3,
     "solution": true,
     "task": false
    }
   },
   "outputs": [
    {
     "name": "stdout",
     "output_type": "stream",
     "text": [
      "['puddles', 'sniffing butts', 'dog park']\n"
     ]
    }
   ],
   "source": [
    "# Assign the URL of the page to be scraped to variable url\n",
    "# url = ...\n",
    "# YOUR CODE HERE\n",
    "url = \"https://s02-infrastructure.s3.eu-west-1.amazonaws.com/ldsa-bork/index.html\"\n",
    "\n",
    "# Do a GET request to get the page content, using the url we've just defined\n",
    "# response = ...\n",
    "# YOUR CODE HERE\n",
    "response = requests.get(url)\n",
    "\n",
    "# Instantiate a soup object using the response of the GET request\n",
    "# YOUR CODE HERE\n",
    "# Check if the request was successful\n",
    "if response.status_code == 200:\n",
    "    # Instantiate a soup object using the response of the GET request\n",
    "    soup = BeautifulSoup(response.content, 'html.parser')\n",
    "    \n",
    "# Now it's the tricky part!\n",
    "# Parse the soup in order to retrieve the list of things.\n",
    "# In the end, store the favourite things in a list and assign it to variable q10_answer.\n",
    "# YOUR CODE HERE\n",
    "# Find the unordered list by class name 'honourable-mentions'\n",
    "honourable_mentions_list = soup.find('ul', class_='honourable-mentions')\n",
    "\n",
    "# Extract the text of each list item within the unordered list\n",
    "q8_answer = [item.text for item in honourable_mentions_list.find_all('li')]\n",
    "\n",
    "# q8_answer now contains the 3 honourable mentions\n",
    "print(q8_answer)"
   ]
  },
  {
   "cell_type": "code",
   "execution_count": 20,
   "metadata": {
    "ExecuteTime": {
     "end_time": "2024-02-03T15:10:50.194149Z",
     "start_time": "2024-02-03T15:10:50.185698Z"
    },
    "deletable": false,
    "editable": false,
    "nbgrader": {
     "grade": true,
     "grade_id": "cell-335a90721257cd1a",
     "locked": true,
     "points": 2,
     "schema_version": 3,
     "solution": false
    }
   },
   "outputs": [],
   "source": [
    "expected_hash = 'ae34341c0912945834a9d489f0b0b1a3d42117e00521db4abbdbdda15e0ce6c3'\n",
    "assert hashlib.sha256(str(sorted(q8_answer)).encode()).hexdigest() == expected_hash"
   ]
  },
  {
   "cell_type": "markdown",
   "metadata": {
    "deletable": false,
    "editable": false,
    "nbgrader": {
     "grade": false,
     "grade_id": "cell-ff83f6395e265feb",
     "locked": true,
     "schema_version": 3,
     "solution": false
    }
   },
   "source": [
    "### Q9. Find the tennis ball tag\n",
    "\n",
    "Scrape the tag containing the tennis ball image that is on the center of the grid with Bork's favourite things.\n",
    "Assign the tag (not the image content) to variable `q9_answer`.\n",
    "\n",
    "Note: You'll have to find a different way to pass the attribute you want to filter, since the attribute name conflicts with an argument of the `find` function. You can figure out how to do this in the [BeautifulSoup documentation](https://beautiful-soup-4.readthedocs.io/en/latest/index.html?highlight=find#the-keyword-arguments)!"
   ]
  },
  {
   "cell_type": "code",
   "execution_count": 21,
   "metadata": {
    "ExecuteTime": {
     "end_time": "2024-02-03T15:10:50.469652Z",
     "start_time": "2024-02-03T15:10:50.200234Z"
    },
    "deletable": false,
    "nbgrader": {
     "grade": false,
     "grade_id": "cell-88e2603722dac1e3",
     "locked": false,
     "schema_version": 3,
     "solution": true
    }
   },
   "outputs": [],
   "source": [
    "# Assign the URL of the page to be scraped to variable url\n",
    "# url = ...\n",
    "# YOUR CODE HERE\n",
    "url = \"https://s02-infrastructure.s3.eu-west-1.amazonaws.com/ldsa-bork/index.html\"\n",
    "\n",
    "# Do a GET request to get the page content, using the url we've just defined\n",
    "# response = ...\n",
    "# YOUR CODE HERE\n",
    "response = requests.get(url)\n",
    "\n",
    "# Instanciate a soup object using the response of the GET request\n",
    "# YOUR CODE HERE\n",
    "if response.status_code == 200:\n",
    "    # Instantiate a soup object using the response of the GET request\n",
    "    soup = BeautifulSoup(response.content, 'html.parser')\n",
    "\n",
    "# Parse the soup in order to retrieve the tag of the tennis ball image.\n",
    "# Assign it to variable q11_answer.\n",
    "# YOUR CODE HERE\n",
    "q9_answer = soup.find('img', attrs={'name': 'ball'})"
   ]
  },
  {
   "cell_type": "code",
   "execution_count": 22,
   "metadata": {
    "ExecuteTime": {
     "end_time": "2024-02-03T15:10:50.482233Z",
     "start_time": "2024-02-03T15:10:50.474136Z"
    },
    "deletable": false,
    "editable": false,
    "nbgrader": {
     "grade": true,
     "grade_id": "cell-f78d31cd4e4779eb",
     "locked": true,
     "points": 2,
     "schema_version": 3,
     "solution": false
    },
    "pycharm": {
     "name": "#%%\n"
    }
   },
   "outputs": [],
   "source": [
    "expected_hash = '369917cf8ea4d7906841cb6e6c264b124911e6d805bd122a23ffcee8fcb67de7'\n",
    "assert hashlib.sha256(str(q9_answer).encode()).hexdigest() == expected_hash"
   ]
  },
  {
   "cell_type": "code",
   "execution_count": null,
   "metadata": {},
   "outputs": [],
   "source": []
  }
 ],
 "metadata": {
  "kernelspec": {
   "display_name": "Python 3 (ipykernel)",
   "language": "python",
   "name": "python3"
  },
  "language_info": {
   "codemirror_mode": {
    "name": "ipython",
    "version": 3
   },
   "file_extension": ".py",
   "mimetype": "text/x-python",
   "name": "python",
   "nbconvert_exporter": "python",
   "pygments_lexer": "ipython3",
   "version": "3.10.6"
  },
  "toc": {
   "base_numbering": 1,
   "nav_menu": {},
   "number_sections": true,
   "sideBar": true,
   "skip_h1_title": false,
   "title_cell": "Table of Contents",
   "title_sidebar": "Contents",
   "toc_cell": false,
   "toc_position": {},
   "toc_section_display": true,
   "toc_window_display": false
  }
 },
 "nbformat": 4,
 "nbformat_minor": 2
}
