{
 "cells": [
  {
   "cell_type": "code",
   "execution_count": 1,
   "id": "f5c8656d",
   "metadata": {
    "ExecuteTime": {
     "end_time": "2024-02-03T18:30:01.254508Z",
     "start_time": "2024-02-03T18:30:00.730131Z"
    }
   },
   "outputs": [
    {
     "name": "stderr",
     "output_type": "stream",
     "text": [
      "/Users/Carmen/.pyenv/versions/S02_BLU02/lib/python3.10/site-packages/nbformat/__init__.py:129: MissingIDFieldWarning: Code cell is missing an id field, this will become a hard error in future nbformat versions. You may want to use `normalize()` on your notebooks before validations (available since nbformat 5.1.4). Previous versions of nbformat are fixing this issue transparently, and will stop doing so in the future.\n",
      "  validate(nb)\n"
     ]
    }
   ],
   "source": [
    "import nbformat\n",
    "from nbformat.v4 import new_notebook\n",
    "\n",
    "def merge_notebooks(notebooks, output_file):\n",
    "    merged_nb = new_notebook()\n",
    "    for nb_path in notebooks:\n",
    "        with open(nb_path, 'r', encoding='utf-8') as f:\n",
    "            nb = nbformat.read(f, as_version=4)\n",
    "            merged_nb.cells.extend(nb.cells)\n",
    "            # Optionally, add a cell dividing notebooks\n",
    "            merged_nb.cells.append(nbformat.v4.new_markdown_cell(f\"\\n<hr>\\n<h2>{nb_path}</h2>\"))\n",
    "    with open(output_file, 'w', encoding='utf-8') as f:\n",
    "        nbformat.write(merged_nb, f)\n",
    "\n",
    "# List all notebook files you want to merge (this part you'd need to adjust for dynamic matching)\n",
    "notebooks = [\"Learning notebook - Part 1 of 3 - Data wrangling workflows.ipynb\", \n",
    "             \"Learning notebook - Part 2 of 3 - Combining dataframes.ipynb\", \n",
    "             \"Learning notebook - Part 3 of 3 - Advanced pipelines.ipynb\", \n",
    "             \"Exercise notebook.ipynb\"]\n",
    "\n",
    "merge_notebooks(notebooks, \"BLU2_notebooks_merged.ipynb\")\n"
   ]
  },
  {
   "cell_type": "code",
   "execution_count": 2,
   "id": "c190f7c0",
   "metadata": {
    "ExecuteTime": {
     "end_time": "2024-02-03T18:30:11.177597Z",
     "start_time": "2024-02-03T18:30:11.160077Z"
    }
   },
   "outputs": [
    {
     "data": {
      "text/plain": [
       "['Learning notebook - Part 1 of 3 - Data wrangling workflows.ipynb',\n",
       " 'Learning notebook - Part 2 of 3 - Combining dataframes.ipynb',\n",
       " 'Learning notebook - Part 3 of 3 - Advanced pipelines.ipynb',\n",
       " 'Exercise notebook.ipynb']"
      ]
     },
     "execution_count": 2,
     "metadata": {},
     "output_type": "execute_result"
    }
   ],
   "source": [
    "notebooks"
   ]
  },
  {
   "cell_type": "code",
   "execution_count": 3,
   "id": "c455da74",
   "metadata": {
    "ExecuteTime": {
     "end_time": "2024-02-03T18:30:15.540435Z",
     "start_time": "2024-02-03T18:30:15.375620Z"
    }
   },
   "outputs": [
    {
     "name": "stdout",
     "output_type": "stream",
     "text": [
      "BLU2_notebooks_merged.ipynb\r\n",
      "Exercise notebook.ipynb\r\n",
      "Learning notebook - Part 1 of 3 - Data wrangling workflows.ipynb\r\n",
      "Learning notebook - Part 2 of 3 - Combining dataframes.ipynb\r\n",
      "Learning notebook - Part 3 of 3 - Advanced pipelines.ipynb\r\n",
      "README.md\r\n",
      "Untitled.ipynb\r\n",
      "\u001b[1m\u001b[36mdata\u001b[m\u001b[m\r\n",
      "\u001b[1m\u001b[36mmedia\u001b[m\u001b[m\r\n",
      "requirements.txt\r\n"
     ]
    }
   ],
   "source": [
    "!ls"
   ]
  },
  {
   "cell_type": "code",
   "execution_count": 10,
   "id": "3845d186",
   "metadata": {
    "ExecuteTime": {
     "end_time": "2024-02-03T19:51:45.436487Z",
     "start_time": "2024-02-03T19:51:44.833744Z"
    }
   },
   "outputs": [
    {
     "name": "stderr",
     "output_type": "stream",
     "text": [
      "/Users/Carmen/.pyenv/versions/S02_BLU02/lib/python3.10/site-packages/nbformat/__init__.py:129: DuplicateCellId: Non-unique cell id '8bb7ef14' detected. Corrected to '72a67744'.\n",
      "  validate(nb)\n",
      "/Users/Carmen/.pyenv/versions/S02_BLU02/lib/python3.10/site-packages/nbformat/__init__.py:129: DuplicateCellId: Non-unique cell id '70400ebf' detected. Corrected to '5375c1b5'.\n",
      "  validate(nb)\n",
      "/Users/Carmen/.pyenv/versions/S02_BLU02/lib/python3.10/site-packages/nbformat/__init__.py:129: DuplicateCellId: Non-unique cell id '92b2109d' detected. Corrected to '978495e4'.\n",
      "  validate(nb)\n",
      "/Users/Carmen/.pyenv/versions/S02_BLU02/lib/python3.10/site-packages/nbformat/__init__.py:129: DuplicateCellId: Non-unique cell id 'd9f3f0c3' detected. Corrected to 'ff663963'.\n",
      "  validate(nb)\n",
      "/Users/Carmen/.pyenv/versions/S02_BLU02/lib/python3.10/site-packages/nbformat/__init__.py:129: DuplicateCellId: Non-unique cell id '8bb7ef14' detected. Corrected to '6f64db9f'.\n",
      "  validate(nb)\n",
      "/Users/Carmen/.pyenv/versions/S02_BLU02/lib/python3.10/site-packages/nbformat/__init__.py:129: DuplicateCellId: Non-unique cell id '70400ebf' detected. Corrected to '1b83d245'.\n",
      "  validate(nb)\n",
      "/Users/Carmen/.pyenv/versions/S02_BLU02/lib/python3.10/site-packages/nbformat/__init__.py:129: DuplicateCellId: Non-unique cell id 'd9f3f0c3' detected. Corrected to '7f43a31b'.\n",
      "  validate(nb)\n",
      "/Users/Carmen/.pyenv/versions/S02_BLU02/lib/python3.10/site-packages/nbformat/__init__.py:129: DuplicateCellId: Non-unique cell id '8bb7ef14' detected. Corrected to '8a576945'.\n",
      "  validate(nb)\n",
      "/Users/Carmen/.pyenv/versions/S02_BLU02/lib/python3.10/site-packages/nbformat/__init__.py:129: DuplicateCellId: Non-unique cell id '70400ebf' detected. Corrected to '4cebc681'.\n",
      "  validate(nb)\n",
      "/Users/Carmen/.pyenv/versions/S02_BLU02/lib/python3.10/site-packages/nbformat/__init__.py:129: DuplicateCellId: Non-unique cell id '92b2109d' detected. Corrected to 'f13f9d8e'.\n",
      "  validate(nb)\n",
      "/Users/Carmen/.pyenv/versions/S02_BLU02/lib/python3.10/site-packages/nbformat/__init__.py:129: DuplicateCellId: Non-unique cell id 'd9f3f0c3' detected. Corrected to '73ddbc99'.\n",
      "  validate(nb)\n",
      "/Users/Carmen/.pyenv/versions/S02_BLU02/lib/python3.10/site-packages/nbformat/__init__.py:129: DuplicateCellId: Non-unique cell id '8bb7ef14' detected. Corrected to 'd4b0506c'.\n",
      "  validate(nb)\n",
      "/Users/Carmen/.pyenv/versions/S02_BLU02/lib/python3.10/site-packages/nbformat/__init__.py:129: DuplicateCellId: Non-unique cell id '70400ebf' detected. Corrected to 'b791d473'.\n",
      "  validate(nb)\n",
      "/Users/Carmen/.pyenv/versions/S02_BLU02/lib/python3.10/site-packages/nbformat/__init__.py:129: DuplicateCellId: Non-unique cell id '92b2109d' detected. Corrected to '6409fca4'.\n",
      "  validate(nb)\n",
      "/Users/Carmen/.pyenv/versions/S02_BLU02/lib/python3.10/site-packages/nbformat/__init__.py:129: DuplicateCellId: Non-unique cell id '2ae02db6' detected. Corrected to '99e00878'.\n",
      "  validate(nb)\n",
      "/Users/Carmen/.pyenv/versions/S02_BLU02/lib/python3.10/site-packages/nbformat/__init__.py:129: DuplicateCellId: Non-unique cell id 'd9f3f0c3' detected. Corrected to '8473ef88'.\n",
      "  validate(nb)\n",
      "/Users/Carmen/.pyenv/versions/S02_BLU02/lib/python3.10/site-packages/nbformat/__init__.py:129: DuplicateCellId: Non-unique cell id '8bb7ef14' detected. Corrected to '0b08056a'.\n",
      "  validate(nb)\n",
      "/Users/Carmen/.pyenv/versions/S02_BLU02/lib/python3.10/site-packages/nbformat/__init__.py:129: DuplicateCellId: Non-unique cell id '70400ebf' detected. Corrected to 'a2e566fe'.\n",
      "  validate(nb)\n",
      "/Users/Carmen/.pyenv/versions/S02_BLU02/lib/python3.10/site-packages/nbformat/__init__.py:129: DuplicateCellId: Non-unique cell id '92b2109d' detected. Corrected to '0147a358'.\n",
      "  validate(nb)\n",
      "/Users/Carmen/.pyenv/versions/S02_BLU02/lib/python3.10/site-packages/nbformat/__init__.py:129: DuplicateCellId: Non-unique cell id '4952a8a9' detected. Corrected to '09c73f53'.\n",
      "  validate(nb)\n",
      "/Users/Carmen/.pyenv/versions/S02_BLU02/lib/python3.10/site-packages/nbformat/__init__.py:129: DuplicateCellId: Non-unique cell id '02c6bf0a' detected. Corrected to '2f13461e'.\n",
      "  validate(nb)\n",
      "/Users/Carmen/.pyenv/versions/S02_BLU02/lib/python3.10/site-packages/nbformat/__init__.py:129: DuplicateCellId: Non-unique cell id 'bff6244d' detected. Corrected to '166500f8'.\n",
      "  validate(nb)\n",
      "/Users/Carmen/.pyenv/versions/S02_BLU02/lib/python3.10/site-packages/nbformat/__init__.py:129: DuplicateCellId: Non-unique cell id 'ecd853c1' detected. Corrected to '1bbf11bf'.\n",
      "  validate(nb)\n",
      "/Users/Carmen/.pyenv/versions/S02_BLU02/lib/python3.10/site-packages/nbformat/__init__.py:129: DuplicateCellId: Non-unique cell id '1aa6af27' detected. Corrected to '23678bd0'.\n",
      "  validate(nb)\n",
      "/Users/Carmen/.pyenv/versions/S02_BLU02/lib/python3.10/site-packages/nbformat/__init__.py:129: DuplicateCellId: Non-unique cell id '7206bb80' detected. Corrected to '724d99e1'.\n",
      "  validate(nb)\n",
      "/Users/Carmen/.pyenv/versions/S02_BLU02/lib/python3.10/site-packages/nbformat/__init__.py:129: DuplicateCellId: Non-unique cell id 'f8b47980' detected. Corrected to '5f0f26f1'.\n",
      "  validate(nb)\n",
      "/Users/Carmen/.pyenv/versions/S02_BLU02/lib/python3.10/site-packages/nbformat/__init__.py:129: DuplicateCellId: Non-unique cell id '6fdc7f88' detected. Corrected to '32958860'.\n",
      "  validate(nb)\n",
      "/Users/Carmen/.pyenv/versions/S02_BLU02/lib/python3.10/site-packages/nbformat/__init__.py:129: DuplicateCellId: Non-unique cell id '7c96688a' detected. Corrected to '96090dd1'.\n",
      "  validate(nb)\n",
      "/Users/Carmen/.pyenv/versions/S02_BLU02/lib/python3.10/site-packages/nbformat/__init__.py:129: DuplicateCellId: Non-unique cell id '132815ce' detected. Corrected to '8aaee5ae'.\n",
      "  validate(nb)\n",
      "/Users/Carmen/.pyenv/versions/S02_BLU02/lib/python3.10/site-packages/nbformat/__init__.py:129: DuplicateCellId: Non-unique cell id '19825c97' detected. Corrected to '46d795c7'.\n",
      "  validate(nb)\n",
      "/Users/Carmen/.pyenv/versions/S02_BLU02/lib/python3.10/site-packages/nbformat/__init__.py:129: DuplicateCellId: Non-unique cell id 'a83c2127' detected. Corrected to '9107ee05'.\n",
      "  validate(nb)\n",
      "/Users/Carmen/.pyenv/versions/S02_BLU02/lib/python3.10/site-packages/nbformat/__init__.py:129: DuplicateCellId: Non-unique cell id 'b289c593' detected. Corrected to 'df566be5'.\n",
      "  validate(nb)\n",
      "/Users/Carmen/.pyenv/versions/S02_BLU02/lib/python3.10/site-packages/nbformat/__init__.py:129: DuplicateCellId: Non-unique cell id 'b38ebbe0' detected. Corrected to 'df5e30be'.\n",
      "  validate(nb)\n",
      "/Users/Carmen/.pyenv/versions/S02_BLU02/lib/python3.10/site-packages/nbformat/__init__.py:129: DuplicateCellId: Non-unique cell id '902841d4' detected. Corrected to '9434adbc'.\n",
      "  validate(nb)\n",
      "/Users/Carmen/.pyenv/versions/S02_BLU02/lib/python3.10/site-packages/nbformat/__init__.py:129: DuplicateCellId: Non-unique cell id '7311eafd' detected. Corrected to '5572f367'.\n",
      "  validate(nb)\n",
      "/Users/Carmen/.pyenv/versions/S02_BLU02/lib/python3.10/site-packages/nbformat/__init__.py:129: DuplicateCellId: Non-unique cell id '2f57b3bd' detected. Corrected to '11813f88'.\n",
      "  validate(nb)\n",
      "/Users/Carmen/.pyenv/versions/S02_BLU02/lib/python3.10/site-packages/nbformat/__init__.py:129: DuplicateCellId: Non-unique cell id '8bb7ef14' detected. Corrected to '650dfa70'.\n",
      "  validate(nb)\n",
      "/Users/Carmen/.pyenv/versions/S02_BLU02/lib/python3.10/site-packages/nbformat/__init__.py:129: DuplicateCellId: Non-unique cell id '70400ebf' detected. Corrected to 'd98f837e'.\n",
      "  validate(nb)\n",
      "/Users/Carmen/.pyenv/versions/S02_BLU02/lib/python3.10/site-packages/nbformat/__init__.py:129: DuplicateCellId: Non-unique cell id 'b88f7276' detected. Corrected to '5c14aa21'.\n",
      "  validate(nb)\n",
      "/Users/Carmen/.pyenv/versions/S02_BLU02/lib/python3.10/site-packages/nbformat/__init__.py:129: DuplicateCellId: Non-unique cell id '92b2109d' detected. Corrected to '1c9ebe62'.\n",
      "  validate(nb)\n",
      "/Users/Carmen/.pyenv/versions/S02_BLU02/lib/python3.10/site-packages/nbformat/__init__.py:129: DuplicateCellId: Non-unique cell id '5f586184' detected. Corrected to 'a93e92ff'.\n",
      "  validate(nb)\n",
      "/Users/Carmen/.pyenv/versions/S02_BLU02/lib/python3.10/site-packages/nbformat/__init__.py:129: DuplicateCellId: Non-unique cell id '34ad7ece' detected. Corrected to '8f776e0c'.\n",
      "  validate(nb)\n",
      "/Users/Carmen/.pyenv/versions/S02_BLU02/lib/python3.10/site-packages/nbformat/__init__.py:129: DuplicateCellId: Non-unique cell id '3610b325' detected. Corrected to 'bfa59df0'.\n",
      "  validate(nb)\n",
      "/Users/Carmen/.pyenv/versions/S02_BLU02/lib/python3.10/site-packages/nbformat/__init__.py:129: DuplicateCellId: Non-unique cell id '2211140a' detected. Corrected to '844396b4'.\n",
      "  validate(nb)\n",
      "/Users/Carmen/.pyenv/versions/S02_BLU02/lib/python3.10/site-packages/nbformat/__init__.py:129: DuplicateCellId: Non-unique cell id 'fc0fcd22' detected. Corrected to '93068e73'.\n",
      "  validate(nb)\n",
      "/Users/Carmen/.pyenv/versions/S02_BLU02/lib/python3.10/site-packages/nbformat/__init__.py:129: DuplicateCellId: Non-unique cell id 'e309a487' detected. Corrected to '5b04e49f'.\n",
      "  validate(nb)\n",
      "/Users/Carmen/.pyenv/versions/S02_BLU02/lib/python3.10/site-packages/nbformat/__init__.py:129: DuplicateCellId: Non-unique cell id 'bd410ee7' detected. Corrected to '3f225325'.\n",
      "  validate(nb)\n",
      "/Users/Carmen/.pyenv/versions/S02_BLU02/lib/python3.10/site-packages/nbformat/__init__.py:129: DuplicateCellId: Non-unique cell id '9f9d26f8' detected. Corrected to '2ea8d6dc'.\n",
      "  validate(nb)\n",
      "/Users/Carmen/.pyenv/versions/S02_BLU02/lib/python3.10/site-packages/nbformat/__init__.py:129: DuplicateCellId: Non-unique cell id '8bb7ef14' detected. Corrected to '22932ad8'.\n",
      "  validate(nb)\n",
      "/Users/Carmen/.pyenv/versions/S02_BLU02/lib/python3.10/site-packages/nbformat/__init__.py:129: DuplicateCellId: Non-unique cell id '70400ebf' detected. Corrected to '4973c09c'.\n",
      "  validate(nb)\n",
      "/Users/Carmen/.pyenv/versions/S02_BLU02/lib/python3.10/site-packages/nbformat/__init__.py:129: DuplicateCellId: Non-unique cell id 'a1017eee' detected. Corrected to '3d649785'.\n",
      "  validate(nb)\n",
      "/Users/Carmen/.pyenv/versions/S02_BLU02/lib/python3.10/site-packages/nbformat/__init__.py:129: DuplicateCellId: Non-unique cell id '95e45909' detected. Corrected to '1fbb876d'.\n",
      "  validate(nb)\n",
      "/Users/Carmen/.pyenv/versions/S02_BLU02/lib/python3.10/site-packages/nbformat/__init__.py:129: DuplicateCellId: Non-unique cell id 'ac362bf8' detected. Corrected to '2e9b62aa'.\n",
      "  validate(nb)\n",
      "/Users/Carmen/.pyenv/versions/S02_BLU02/lib/python3.10/site-packages/nbformat/__init__.py:129: DuplicateCellId: Non-unique cell id 'e1863450' detected. Corrected to '1ebd895e'.\n",
      "  validate(nb)\n",
      "/Users/Carmen/.pyenv/versions/S02_BLU02/lib/python3.10/site-packages/nbformat/__init__.py:129: DuplicateCellId: Non-unique cell id '6c3ca1d0' detected. Corrected to 'c8a2105b'.\n",
      "  validate(nb)\n",
      "/Users/Carmen/.pyenv/versions/S02_BLU02/lib/python3.10/site-packages/nbformat/__init__.py:129: DuplicateCellId: Non-unique cell id '8bb7ef14' detected. Corrected to '33106ef2'.\n",
      "  validate(nb)\n",
      "/Users/Carmen/.pyenv/versions/S02_BLU02/lib/python3.10/site-packages/nbformat/__init__.py:129: DuplicateCellId: Non-unique cell id '70400ebf' detected. Corrected to '4f4a8f47'.\n",
      "  validate(nb)\n",
      "/Users/Carmen/.pyenv/versions/S02_BLU02/lib/python3.10/site-packages/nbformat/__init__.py:129: DuplicateCellId: Non-unique cell id '92b2109d' detected. Corrected to '7deaedaa'.\n",
      "  validate(nb)\n",
      "/Users/Carmen/.pyenv/versions/S02_BLU02/lib/python3.10/site-packages/nbformat/__init__.py:129: DuplicateCellId: Non-unique cell id '9c95eac9' detected. Corrected to 'b444071b'.\n",
      "  validate(nb)\n",
      "/Users/Carmen/.pyenv/versions/S02_BLU02/lib/python3.10/site-packages/nbformat/__init__.py:129: DuplicateCellId: Non-unique cell id '2a99a983' detected. Corrected to 'd6ebedf1'.\n",
      "  validate(nb)\n",
      "/Users/Carmen/.pyenv/versions/S02_BLU02/lib/python3.10/site-packages/nbformat/__init__.py:129: DuplicateCellId: Non-unique cell id 'd9f3f0c3' detected. Corrected to '204ed93e'.\n",
      "  validate(nb)\n"
     ]
    }
   ],
   "source": [
    "import nbformat\n",
    "from nbformat.v4 import new_notebook\n",
    "\n",
    "def merge_notebooks(notebooks, output_file):\n",
    "    merged_nb = new_notebook()\n",
    "    for nb_path in notebooks:\n",
    "        with open(nb_path, 'r', encoding='utf-8') as f:\n",
    "            nb = nbformat.read(f, as_version=4)\n",
    "            # Optionally, add a cell dividing notebooks\n",
    "            merged_nb.cells.append(nbformat.v4.new_markdown_cell(f\"\\n<hr>\\n<h2>{nb_path}</h2>\"))\n",
    "            merged_nb.cells.extend(nb.cells)\n",
    "    with open(output_file, 'w', encoding='utf-8') as f:\n",
    "        nbformat.write(merged_nb, f)\n",
    "\n",
    "# Define the list of notebook filenames to merge in the specified order with full paths\n",
    "notebooks_to_merge = [\n",
    "    \"../BLU01 - Messy Data/Learning notebook - Part 1 of 3 - Dealing with csv's... and beyond.ipynb\",\n",
    "    \"../BLU01 - Messy Data/Learning notebook - Part 2 of 3 - Common problems and solutions.ipynb\",\n",
    "    \"../BLU01 - Messy Data/Learning notebook - Part 3 of 3 - Dealing with larger datasets.ipynb\",\n",
    "    \"../BLU01 - Messy Data/Exercise notebook.ipynb\",\n",
    "    \"../BLU03 - Data Sources/Learning notebook - Part 1 of 3 - Relational databases and SQL.ipynb\",\n",
    "    \"../BLU03 - Data Sources/Learning notebook - Part 2 of 3 - HTTP requests.ipynb\",\n",
    "    \"../BLU03 - Data Sources/Learning notebook - Part 3 of 3 - Web scraping.ipynb\",\n",
    "    \"../BLU03 - Data Sources/Exercise notebook.ipynb\",\n",
    "    \"/Users/Carmen/projects/previous_batches/previous_batches_workspace/batch5-workspace-main/S02 - Data Wrangling/HCKT02 - Data Wrangling/my_solution/get_data_from_folders.ipynb\",\n",
    "    \"/Users/Carmen/projects/previous_batches/previous_batches_workspace/batch5-workspace-main/S02 - Data Wrangling/HCKT02 - Data Wrangling/my_solution/merge_data.ipynb\",\n",
    "    \"/Users/Carmen/projects/previous_batches/previous_batches_workspace/batch5-workspace-main/S02 - Data Wrangling/HCKT02 - Data Wrangling/my_solution/sql_database.ipynb\",\n",
    "    \"/Users/Carmen/projects/previous_batches/previous_batches_workspace/batch5-workspace-main/S02 - Data Wrangling/HCKT02 - Data Wrangling/my_solution/webscraping.ipynb\",\n",
    "    \"/Users/Carmen/projects/previous_batches/previous_batches_workspace/batch3-workspace-master/S02 - Data Wrangling/HCKT02 - Data Wrangling/hckt2_complete_script.ipynb\",\n",
    "    \"/Users/Carmen/projects/previous_batches/previus_batches_students_folders/batch3-students-master/S02 - Data Wrangling/HCKT02 - Data Wrangling/instructor_solution/1.local_files.ipynb\",\n",
    "    \"/Users/Carmen/projects/previous_batches/previus_batches_students_folders/batch3-students-master/S02 - Data Wrangling/HCKT02 - Data Wrangling/instructor_solution/2.scraping.ipynb\",\n",
    "    \"/Users/Carmen/projects/previous_batches/previus_batches_students_folders/batch3-students-master/S02 - Data Wrangling/HCKT02 - Data Wrangling/instructor_solution/3.api.ipynb\",\n",
    "    \"/Users/Carmen/projects/previous_batches/previus_batches_students_folders/batch3-students-master/S02 - Data Wrangling/HCKT02 - Data Wrangling/instructor_solution/4.database.ipynb\",\n",
    "    \"/Users/Carmen/projects/previous_batches/previus_batches_students_folders/batch3-students-master/S02 - Data Wrangling/HCKT02 - Data Wrangling/instructor_solution/5.putting_all_together.ipynb\",\n",
    "    \"/Users/Carmen/projects/previous_batches/previus_batches_students_folders/batch3-students-master/S02 - Data Wrangling/HCKT02 - Data Wrangling/instructor_solution/6.test_dataset.ipynb\",\n",
    "    \"/Users/Carmen/projects/previous_batches/previus_batches_students_folders/batch3-students-master/S02 - Data Wrangling/HCKT02 - Data Wrangling/instructor_solution/7.baseline_model.ipynb\",\n",
    "    \"/Users/Carmen/projects/previous_batches/previus_batches_students_folders/batch5-students-main/S02 - Data Wrangling/HCKT02 - Data Wrangling/instructor-solution/1 - file_data.ipynb\",\n",
    "    \"/Users/Carmen/projects/previous_batches/previus_batches_students_folders/batch5-students-main/S02 - Data Wrangling/HCKT02 - Data Wrangling/instructor-solution/2 - database_data.ipynb\",\n",
    "    \"/Users/Carmen/projects/previous_batches/previus_batches_students_folders/batch5-students-main/S02 - Data Wrangling/HCKT02 - Data Wrangling/instructor-solution/3 - website_data.ipynb\",\n",
    "    \"/Users/Carmen/projects/previous_batches/previus_batches_students_folders/batch5-students-main/S02 - Data Wrangling/HCKT02 - Data Wrangling/instructor-solution/4 - api_data.ipynb\",\n",
    "    \"/Users/Carmen/projects/previous_batches/previus_batches_students_folders/batch5-students-main/S02 - Data Wrangling/HCKT02 - Data Wrangling/instructor-solution/5 - merge_data.ipynb\",\n",
    "    \"/Users/Carmen/projects/previous_batches/previus_batches_students_folders/batch5-students-main/S02 - Data Wrangling/HCKT02 - Data Wrangling/instructor-solution/6 - baseline.ipynb\",\n",
    "    \"/Users/Carmen/projects/previous_batches/previus_batches_students_folders/batch6-students-main/S02 - Data Wrangling/HCKT02 - Data Wrangling/instructor-solution/1 - file_data.ipynb\",\n",
    "    \"/Users/Carmen/projects/previous_batches/previus_batches_students_folders/batch6-students-main/S02 - Data Wrangling/HCKT02 - Data Wrangling/instructor-solution/2 - database_data.ipynb\",\n",
    "    \"/Users/Carmen/projects/previous_batches/previus_batches_students_folders/batch6-students-main/S02 - Data Wrangling/HCKT02 - Data Wrangling/instructor-solution/3 - website_data.ipynb\",\n",
    "    \"/Users/Carmen/projects/previous_batches/previus_batches_students_folders/batch6-students-main/S02 - Data Wrangling/HCKT02 - Data Wrangling/instructor-solution/4 - api_data.ipynb\",\n",
    "    \"/Users/Carmen/projects/previous_batches/previus_batches_students_folders/batch6-students-main/S02 - Data Wrangling/HCKT02 - Data Wrangling/instructor-solution/5 - Merge files.ipynb\",\n",
    "    \"/Users/Carmen/projects/previous_batches/previus_batches_students_folders/batch6-students-main/S02 - Data Wrangling/HCKT02 - Data Wrangling/instructor-solution/5. Merge everything together.ipynb\",\n",
    "    \"/Users/Carmen/projects/previous_batches/previus_batches_students_folders/batch6-students-main/S02 - Data Wrangling/HCKT02 - Data Wrangling/instructor-solution/price_prediction_answerkey.ipynb\"\n",
    "]\n",
    "\n",
    "# Specify the output filename for the merged notebook\n",
    "output_filename = \"All_S02_notebooks_merged.ipynb\"\n",
    "\n",
    "merge_notebooks(notebooks_to_merge,output_filename)"
   ]
  },
  {
   "cell_type": "code",
   "execution_count": 11,
   "id": "3bbd5b69",
   "metadata": {
    "ExecuteTime": {
     "end_time": "2024-02-03T19:51:48.224093Z",
     "start_time": "2024-02-03T19:51:48.068387Z"
    }
   },
   "outputs": [
    {
     "name": "stdout",
     "output_type": "stream",
     "text": [
      "All_S02_notebooks_merged.ipynb \u001b[1m\u001b[36mBLU03 - Data Sources\u001b[m\u001b[m\r\n",
      "\u001b[1m\u001b[36mBLU01 - Messy Data\u001b[m\u001b[m             \u001b[1m\u001b[36mmerged\u001b[m\u001b[m\r\n",
      "\u001b[1m\u001b[36mBLU02 - Advanced Wrangling\u001b[m\u001b[m\r\n"
     ]
    }
   ],
   "source": [
    "!ls .."
   ]
  },
  {
   "cell_type": "code",
   "execution_count": null,
   "id": "2b829bde",
   "metadata": {},
   "outputs": [],
   "source": []
  }
 ],
 "metadata": {
  "kernelspec": {
   "display_name": "Python 3 (ipykernel)",
   "language": "python",
   "name": "python3"
  },
  "language_info": {
   "codemirror_mode": {
    "name": "ipython",
    "version": 3
   },
   "file_extension": ".py",
   "mimetype": "text/x-python",
   "name": "python",
   "nbconvert_exporter": "python",
   "pygments_lexer": "ipython3",
   "version": "3.10.6"
  },
  "toc": {
   "base_numbering": 1,
   "nav_menu": {},
   "number_sections": true,
   "sideBar": true,
   "skip_h1_title": false,
   "title_cell": "Table of Contents",
   "title_sidebar": "Contents",
   "toc_cell": false,
   "toc_position": {},
   "toc_section_display": true,
   "toc_window_display": false
  }
 },
 "nbformat": 4,
 "nbformat_minor": 5
}
