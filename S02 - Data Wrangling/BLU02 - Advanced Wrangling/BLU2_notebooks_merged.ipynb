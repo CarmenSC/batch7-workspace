{
 "cells": [
  {
   "cell_type": "markdown",
   "id": "b08c999d",
   "metadata": {},
   "source": [
    "\n",
    "\n",
    "\n",
    "\n",
    "\n",
    "\n",
    "\n",
    "\n",
    "\n",
    "\n",
    "\n",
    "\n",
    "\n",
    "\n",
    "\n",
    "\n",
    "\n",
    "\n",
    "# BLU02 - Learning Notebook - Data wrangling workflows - Part 1 of 3"
   ]
  },
  {
   "cell_type": "code",
   "execution_count": 1,
   "id": "de4a115e",
   "metadata": {},
   "outputs": [],
   "source": [
    "import numpy as np\n",
    "import pandas as pd\n",
    "import os\n",
    "\n",
    "from sklearn.datasets import load_iris"
   ]
  },
  {
   "cell_type": "markdown",
   "id": "7ac35541",
   "metadata": {},
   "source": [
    "# About the BLU \n",
    "\n",
    "## Data wrangling workflows\n",
    "\n",
    "A typical data science workflow goes as follows: you get data from a source, you clean it, and then you continuously iterate on it.\n",
    "\n",
    "![data_transformation_workflow](./media/data_processing_workflow.png)\n",
    "\n",
    "On the previous learning unit in this specialization, we focused mostly on getting and cleaning data (the blue boxes above). \n",
    "\n",
    "At this point, we got a dataset and performed the necessary data cleaning. Our data is, therefore, in an interim state:\n",
    "* You have a *tidy dataset* (observations as rows and features as columns), comprised of one or more tables\n",
    "* You know how to import such tables into Pandas, regardless of the format they are stored.\n",
    "\n",
    "Now, to explore, visualize and model the data, we have to perform transformations on it quick and efficiently, balancing:\n",
    "* Speed of iteration, testing different hypothesis fast and easy\n",
    "* Consistency, ensuring our pipeline doesn't collapse along the way.\n",
    "\n",
    "In this first part, we'll go into how to transform the dataset and explore it in Pandas.\n",
    "\n",
    "Then, we'll learn how to combine dataframes.\n",
    "\n",
    "Finally, we'll move to scikit-learn to build efficient pipelines for modeling."
   ]
  },
  {
   "cell_type": "markdown",
   "id": "011b3306",
   "metadata": {},
   "source": [
    "# About the data\n",
    "\n",
    "The New York Philharmonic played its first concert on December 7, 1842.\n",
    "\n",
    "The data documents all known concerts, amounting to more than 20,000 performances. Some considerations:\n",
    "* The Program is the top-most level element in the dataset\n",
    "* A Program is defined as performances in which the repertoire, conductors, and soloists are the same\n",
    "* A Program is associated with an Orchestra (e.g., New York Philharmonic) and a Season (e.g., 1842-43)\n",
    "* A Program may have multiple Concerts with different dates, times and locations\n",
    "* A Program's repertoire may contain various Works (e.g., two different symphonies by Beethoven)\n",
    "* A Work can have multiple Soloists (e.g., Mahler on the harpsichord, Strauss or Bernstein on the piano).\n",
    "\n",
    "**For more information about the dataset, including the data dictionary, please head to the README.**\n",
    "\n",
    "In this unit, we will be using Works and Concerts, imported as follows."
   ]
  },
  {
   "cell_type": "code",
   "execution_count": 2,
   "id": "7152fe93",
   "metadata": {},
   "outputs": [],
   "source": [
    "works = pd.read_csv('./data/works.csv')\n",
    "concerts = pd.read_csv('./data/concerts.csv')"
   ]
  },
  {
   "cell_type": "code",
   "execution_count": 3,
   "id": "8a27df05",
   "metadata": {},
   "outputs": [
    {
     "data": {
      "text/html": [
       "<div>\n",
       "<style scoped>\n",
       "    .dataframe tbody tr th:only-of-type {\n",
       "        vertical-align: middle;\n",
       "    }\n",
       "\n",
       "    .dataframe tbody tr th {\n",
       "        vertical-align: top;\n",
       "    }\n",
       "\n",
       "    .dataframe thead th {\n",
       "        text-align: right;\n",
       "    }\n",
       "</style>\n",
       "<table border=\"1\" class=\"dataframe\">\n",
       "  <thead>\n",
       "    <tr style=\"text-align: right;\">\n",
       "      <th></th>\n",
       "      <th>GUID</th>\n",
       "      <th>ProgramID</th>\n",
       "      <th>WorkID</th>\n",
       "      <th>MovementID</th>\n",
       "      <th>ComposerName</th>\n",
       "      <th>WorkTitle</th>\n",
       "      <th>Movement</th>\n",
       "      <th>ConductorName</th>\n",
       "      <th>Interval</th>\n",
       "      <th>isInterval</th>\n",
       "    </tr>\n",
       "  </thead>\n",
       "  <tbody>\n",
       "    <tr>\n",
       "      <th>0</th>\n",
       "      <td>38e072a7-8fc9-4f9a-8eac-3957905c0002</td>\n",
       "      <td>3853</td>\n",
       "      <td>52446</td>\n",
       "      <td>NaN</td>\n",
       "      <td>Beethoven,  Ludwig  van</td>\n",
       "      <td>SYMPHONY NO. 5 IN C MINOR, OP.67</td>\n",
       "      <td>NaN</td>\n",
       "      <td>Hill, Ureli Corelli</td>\n",
       "      <td>NaN</td>\n",
       "      <td>False</td>\n",
       "    </tr>\n",
       "    <tr>\n",
       "      <th>1</th>\n",
       "      <td>c7b2b95c-5e0b-431c-a340-5b37fc860b34</td>\n",
       "      <td>5178</td>\n",
       "      <td>52437</td>\n",
       "      <td>NaN</td>\n",
       "      <td>Beethoven,  Ludwig  van</td>\n",
       "      <td>SYMPHONY NO. 3 IN E FLAT MAJOR, OP. 55 (EROICA)</td>\n",
       "      <td>NaN</td>\n",
       "      <td>Hill, Ureli Corelli</td>\n",
       "      <td>NaN</td>\n",
       "      <td>False</td>\n",
       "    </tr>\n",
       "    <tr>\n",
       "      <th>2</th>\n",
       "      <td>894e1a52-1ae5-4fa7-aec0-b99997555a37</td>\n",
       "      <td>10785</td>\n",
       "      <td>52364</td>\n",
       "      <td>1.0</td>\n",
       "      <td>Beethoven,  Ludwig  van</td>\n",
       "      <td>EGMONT, OP.84</td>\n",
       "      <td>Overture</td>\n",
       "      <td>Hill, Ureli Corelli</td>\n",
       "      <td>NaN</td>\n",
       "      <td>False</td>\n",
       "    </tr>\n",
       "    <tr>\n",
       "      <th>3</th>\n",
       "      <td>34ec2c2b-3297-4716-9831-b538310462b7</td>\n",
       "      <td>5887</td>\n",
       "      <td>52434</td>\n",
       "      <td>NaN</td>\n",
       "      <td>Beethoven,  Ludwig  van</td>\n",
       "      <td>SYMPHONY NO. 2 IN D MAJOR, OP.36</td>\n",
       "      <td>NaN</td>\n",
       "      <td>Boucher, Alfred</td>\n",
       "      <td>NaN</td>\n",
       "      <td>False</td>\n",
       "    </tr>\n",
       "    <tr>\n",
       "      <th>4</th>\n",
       "      <td>610a4acc-94e4-4cd6-bdc1-8ad020edc7e9</td>\n",
       "      <td>305</td>\n",
       "      <td>52453</td>\n",
       "      <td>NaN</td>\n",
       "      <td>Beethoven,  Ludwig  van</td>\n",
       "      <td>SYMPHONY NO. 7 IN A MAJOR, OP.92</td>\n",
       "      <td>NaN</td>\n",
       "      <td>Hill, Ureli Corelli</td>\n",
       "      <td>NaN</td>\n",
       "      <td>False</td>\n",
       "    </tr>\n",
       "  </tbody>\n",
       "</table>\n",
       "</div>"
      ],
      "text/plain": [
       "                                   GUID  ProgramID  WorkID  MovementID  \\\n",
       "0  38e072a7-8fc9-4f9a-8eac-3957905c0002       3853   52446         NaN   \n",
       "1  c7b2b95c-5e0b-431c-a340-5b37fc860b34       5178   52437         NaN   \n",
       "2  894e1a52-1ae5-4fa7-aec0-b99997555a37      10785   52364         1.0   \n",
       "3  34ec2c2b-3297-4716-9831-b538310462b7       5887   52434         NaN   \n",
       "4  610a4acc-94e4-4cd6-bdc1-8ad020edc7e9        305   52453         NaN   \n",
       "\n",
       "              ComposerName                                        WorkTitle  \\\n",
       "0  Beethoven,  Ludwig  van                 SYMPHONY NO. 5 IN C MINOR, OP.67   \n",
       "1  Beethoven,  Ludwig  van  SYMPHONY NO. 3 IN E FLAT MAJOR, OP. 55 (EROICA)   \n",
       "2  Beethoven,  Ludwig  van                                    EGMONT, OP.84   \n",
       "3  Beethoven,  Ludwig  van                 SYMPHONY NO. 2 IN D MAJOR, OP.36   \n",
       "4  Beethoven,  Ludwig  van                 SYMPHONY NO. 7 IN A MAJOR, OP.92   \n",
       "\n",
       "   Movement        ConductorName Interval  isInterval  \n",
       "0       NaN  Hill, Ureli Corelli      NaN       False  \n",
       "1       NaN  Hill, Ureli Corelli      NaN       False  \n",
       "2  Overture  Hill, Ureli Corelli      NaN       False  \n",
       "3       NaN      Boucher, Alfred      NaN       False  \n",
       "4       NaN  Hill, Ureli Corelli      NaN       False  "
      ]
     },
     "execution_count": 3,
     "metadata": {},
     "output_type": "execute_result"
    }
   ],
   "source": [
    "works.head()"
   ]
  },
  {
   "cell_type": "code",
   "execution_count": 4,
   "id": "adf5e989",
   "metadata": {},
   "outputs": [
    {
     "data": {
      "text/html": [
       "<div>\n",
       "<style scoped>\n",
       "    .dataframe tbody tr th:only-of-type {\n",
       "        vertical-align: middle;\n",
       "    }\n",
       "\n",
       "    .dataframe tbody tr th {\n",
       "        vertical-align: top;\n",
       "    }\n",
       "\n",
       "    .dataframe thead th {\n",
       "        text-align: right;\n",
       "    }\n",
       "</style>\n",
       "<table border=\"1\" class=\"dataframe\">\n",
       "  <thead>\n",
       "    <tr style=\"text-align: right;\">\n",
       "      <th></th>\n",
       "      <th>GUID</th>\n",
       "      <th>ProgramID</th>\n",
       "      <th>ConcertID</th>\n",
       "      <th>EventType</th>\n",
       "      <th>Location</th>\n",
       "      <th>Venue</th>\n",
       "      <th>Date</th>\n",
       "      <th>Time</th>\n",
       "    </tr>\n",
       "  </thead>\n",
       "  <tbody>\n",
       "    <tr>\n",
       "      <th>0</th>\n",
       "      <td>38e072a7-8fc9-4f9a-8eac-3957905c0002</td>\n",
       "      <td>3853</td>\n",
       "      <td>0</td>\n",
       "      <td>Subscription Season</td>\n",
       "      <td>Manhattan, NY</td>\n",
       "      <td>Apollo Rooms</td>\n",
       "      <td>1842-12-07T05:00:00+00:00</td>\n",
       "      <td>8:00PM</td>\n",
       "    </tr>\n",
       "    <tr>\n",
       "      <th>1</th>\n",
       "      <td>c7b2b95c-5e0b-431c-a340-5b37fc860b34</td>\n",
       "      <td>5178</td>\n",
       "      <td>0</td>\n",
       "      <td>Subscription Season</td>\n",
       "      <td>Manhattan, NY</td>\n",
       "      <td>Apollo Rooms</td>\n",
       "      <td>1843-02-18T05:00:00+00:00</td>\n",
       "      <td>8:00PM</td>\n",
       "    </tr>\n",
       "    <tr>\n",
       "      <th>2</th>\n",
       "      <td>894e1a52-1ae5-4fa7-aec0-b99997555a37</td>\n",
       "      <td>10785</td>\n",
       "      <td>0</td>\n",
       "      <td>Special</td>\n",
       "      <td>Manhattan, NY</td>\n",
       "      <td>Apollo Rooms</td>\n",
       "      <td>1843-04-07T05:00:00+00:00</td>\n",
       "      <td>8:00PM</td>\n",
       "    </tr>\n",
       "    <tr>\n",
       "      <th>3</th>\n",
       "      <td>34ec2c2b-3297-4716-9831-b538310462b7</td>\n",
       "      <td>5887</td>\n",
       "      <td>0</td>\n",
       "      <td>Subscription Season</td>\n",
       "      <td>Manhattan, NY</td>\n",
       "      <td>Apollo Rooms</td>\n",
       "      <td>1843-04-22T05:00:00+00:00</td>\n",
       "      <td>8:00PM</td>\n",
       "    </tr>\n",
       "    <tr>\n",
       "      <th>4</th>\n",
       "      <td>610a4acc-94e4-4cd6-bdc1-8ad020edc7e9</td>\n",
       "      <td>305</td>\n",
       "      <td>0</td>\n",
       "      <td>Subscription Season</td>\n",
       "      <td>Manhattan, NY</td>\n",
       "      <td>Apollo Rooms</td>\n",
       "      <td>1843-11-18T05:00:00+00:00</td>\n",
       "      <td>NaN</td>\n",
       "    </tr>\n",
       "  </tbody>\n",
       "</table>\n",
       "</div>"
      ],
      "text/plain": [
       "                                   GUID  ProgramID  ConcertID  \\\n",
       "0  38e072a7-8fc9-4f9a-8eac-3957905c0002       3853          0   \n",
       "1  c7b2b95c-5e0b-431c-a340-5b37fc860b34       5178          0   \n",
       "2  894e1a52-1ae5-4fa7-aec0-b99997555a37      10785          0   \n",
       "3  34ec2c2b-3297-4716-9831-b538310462b7       5887          0   \n",
       "4  610a4acc-94e4-4cd6-bdc1-8ad020edc7e9        305          0   \n",
       "\n",
       "             EventType       Location         Venue  \\\n",
       "0  Subscription Season  Manhattan, NY  Apollo Rooms   \n",
       "1  Subscription Season  Manhattan, NY  Apollo Rooms   \n",
       "2              Special  Manhattan, NY  Apollo Rooms   \n",
       "3  Subscription Season  Manhattan, NY  Apollo Rooms   \n",
       "4  Subscription Season  Manhattan, NY  Apollo Rooms   \n",
       "\n",
       "                        Date    Time  \n",
       "0  1842-12-07T05:00:00+00:00  8:00PM  \n",
       "1  1843-02-18T05:00:00+00:00  8:00PM  \n",
       "2  1843-04-07T05:00:00+00:00  8:00PM  \n",
       "3  1843-04-22T05:00:00+00:00  8:00PM  \n",
       "4  1843-11-18T05:00:00+00:00     NaN  "
      ]
     },
     "execution_count": 4,
     "metadata": {},
     "output_type": "execute_result"
    }
   ],
   "source": [
    "concerts.head()"
   ]
  },
  {
   "cell_type": "markdown",
   "id": "5b207b1c",
   "metadata": {},
   "source": [
    "# 1 Data transformation\n",
    "\n",
    "## 1.1 Transformations as functions \n",
    "\n",
    "Most data transformations operate on dataframes: they receive a local dataframe, transform it and return a new one.\n",
    "\n",
    "In its simplest form, this is the signature of a generic data transformer."
   ]
  },
  {
   "cell_type": "code",
   "execution_count": 5,
   "id": "8bf63004",
   "metadata": {},
   "outputs": [],
   "source": [
    "def data_transformer(df):\n",
    "    df = df.copy()\n",
    "    # df = ...\n",
    "    return df"
   ]
  },
  {
   "cell_type": "markdown",
   "id": "f7072025",
   "metadata": {},
   "source": [
    "Such transformations have no side effects and operate as functions on immutable data (i.e., they keep the original dataframe unchanged).\n",
    "\n",
    "Since the output depends only on the arguments, calling them with the same arguments always produces the same result.\n",
    "\n",
    "Confusing? Not really."
   ]
  },
  {
   "cell_type": "code",
   "execution_count": 6,
   "id": "6aebd4f4",
   "metadata": {},
   "outputs": [
    {
     "data": {
      "text/html": [
       "<div>\n",
       "<style scoped>\n",
       "    .dataframe tbody tr th:only-of-type {\n",
       "        vertical-align: middle;\n",
       "    }\n",
       "\n",
       "    .dataframe tbody tr th {\n",
       "        vertical-align: top;\n",
       "    }\n",
       "\n",
       "    .dataframe thead th {\n",
       "        text-align: right;\n",
       "    }\n",
       "</style>\n",
       "<table border=\"1\" class=\"dataframe\">\n",
       "  <thead>\n",
       "    <tr style=\"text-align: right;\">\n",
       "      <th></th>\n",
       "      <th>B</th>\n",
       "      <th>C</th>\n",
       "      <th>D</th>\n",
       "      <th>Z</th>\n",
       "    </tr>\n",
       "  </thead>\n",
       "  <tbody>\n",
       "    <tr>\n",
       "      <th>0</th>\n",
       "      <td>-1.488442</td>\n",
       "      <td>0.799666</td>\n",
       "      <td>-0.042266</td>\n",
       "      <td>1.037882</td>\n",
       "    </tr>\n",
       "    <tr>\n",
       "      <th>1</th>\n",
       "      <td>1.116918</td>\n",
       "      <td>-1.959217</td>\n",
       "      <td>-0.138462</td>\n",
       "      <td>1.117641</td>\n",
       "    </tr>\n",
       "    <tr>\n",
       "      <th>2</th>\n",
       "      <td>-2.199247</td>\n",
       "      <td>1.467545</td>\n",
       "      <td>-0.116170</td>\n",
       "      <td>0.899697</td>\n",
       "    </tr>\n",
       "    <tr>\n",
       "      <th>3</th>\n",
       "      <td>0.744084</td>\n",
       "      <td>-0.030172</td>\n",
       "      <td>1.402548</td>\n",
       "      <td>-1.595142</td>\n",
       "    </tr>\n",
       "    <tr>\n",
       "      <th>4</th>\n",
       "      <td>-0.549713</td>\n",
       "      <td>0.659230</td>\n",
       "      <td>-0.131932</td>\n",
       "      <td>-0.903793</td>\n",
       "    </tr>\n",
       "    <tr>\n",
       "      <th>5</th>\n",
       "      <td>-0.052519</td>\n",
       "      <td>-0.449401</td>\n",
       "      <td>1.333927</td>\n",
       "      <td>0.303467</td>\n",
       "    </tr>\n",
       "  </tbody>\n",
       "</table>\n",
       "</div>"
      ],
      "text/plain": [
       "          B         C         D         Z\n",
       "0 -1.488442  0.799666 -0.042266  1.037882\n",
       "1  1.116918 -1.959217 -0.138462  1.117641\n",
       "2 -2.199247  1.467545 -0.116170  0.899697\n",
       "3  0.744084 -0.030172  1.402548 -1.595142\n",
       "4 -0.549713  0.659230 -0.131932 -0.903793\n",
       "5 -0.052519 -0.449401  1.333927  0.303467"
      ]
     },
     "execution_count": 6,
     "metadata": {},
     "output_type": "execute_result"
    }
   ],
   "source": [
    "def rename_column(df, new_name, old_name):\n",
    "    df = df.copy()\n",
    "    df[new_name] = df[old_name]\n",
    "    df = df.drop(columns=old_name)\n",
    "    return df\n",
    "\n",
    "def test_dataframe():\n",
    "    data = np.random.randn(6, 4)\n",
    "    columns = ['A', 'B', 'C', 'D']\n",
    "    return pd.DataFrame(data=data, columns=columns)\n",
    "\n",
    "df = test_dataframe()\n",
    "\n",
    "rename_column(df, 'Z', 'A')"
   ]
  },
  {
   "cell_type": "code",
   "execution_count": 7,
   "id": "6492ac85",
   "metadata": {},
   "outputs": [
    {
     "data": {
      "text/html": [
       "<div>\n",
       "<style scoped>\n",
       "    .dataframe tbody tr th:only-of-type {\n",
       "        vertical-align: middle;\n",
       "    }\n",
       "\n",
       "    .dataframe tbody tr th {\n",
       "        vertical-align: top;\n",
       "    }\n",
       "\n",
       "    .dataframe thead th {\n",
       "        text-align: right;\n",
       "    }\n",
       "</style>\n",
       "<table border=\"1\" class=\"dataframe\">\n",
       "  <thead>\n",
       "    <tr style=\"text-align: right;\">\n",
       "      <th></th>\n",
       "      <th>B</th>\n",
       "      <th>C</th>\n",
       "      <th>D</th>\n",
       "      <th>Z</th>\n",
       "    </tr>\n",
       "  </thead>\n",
       "  <tbody>\n",
       "    <tr>\n",
       "      <th>0</th>\n",
       "      <td>-1.488442</td>\n",
       "      <td>0.799666</td>\n",
       "      <td>-0.042266</td>\n",
       "      <td>1.037882</td>\n",
       "    </tr>\n",
       "    <tr>\n",
       "      <th>1</th>\n",
       "      <td>1.116918</td>\n",
       "      <td>-1.959217</td>\n",
       "      <td>-0.138462</td>\n",
       "      <td>1.117641</td>\n",
       "    </tr>\n",
       "    <tr>\n",
       "      <th>2</th>\n",
       "      <td>-2.199247</td>\n",
       "      <td>1.467545</td>\n",
       "      <td>-0.116170</td>\n",
       "      <td>0.899697</td>\n",
       "    </tr>\n",
       "    <tr>\n",
       "      <th>3</th>\n",
       "      <td>0.744084</td>\n",
       "      <td>-0.030172</td>\n",
       "      <td>1.402548</td>\n",
       "      <td>-1.595142</td>\n",
       "    </tr>\n",
       "    <tr>\n",
       "      <th>4</th>\n",
       "      <td>-0.549713</td>\n",
       "      <td>0.659230</td>\n",
       "      <td>-0.131932</td>\n",
       "      <td>-0.903793</td>\n",
       "    </tr>\n",
       "    <tr>\n",
       "      <th>5</th>\n",
       "      <td>-0.052519</td>\n",
       "      <td>-0.449401</td>\n",
       "      <td>1.333927</td>\n",
       "      <td>0.303467</td>\n",
       "    </tr>\n",
       "  </tbody>\n",
       "</table>\n",
       "</div>"
      ],
      "text/plain": [
       "          B         C         D         Z\n",
       "0 -1.488442  0.799666 -0.042266  1.037882\n",
       "1  1.116918 -1.959217 -0.138462  1.117641\n",
       "2 -2.199247  1.467545 -0.116170  0.899697\n",
       "3  0.744084 -0.030172  1.402548 -1.595142\n",
       "4 -0.549713  0.659230 -0.131932 -0.903793\n",
       "5 -0.052519 -0.449401  1.333927  0.303467"
      ]
     },
     "execution_count": 7,
     "metadata": {},
     "output_type": "execute_result"
    }
   ],
   "source": [
    "rename_column(df, 'Z', 'A')"
   ]
  },
  {
   "cell_type": "markdown",
   "id": "85538fb0",
   "metadata": {},
   "source": [
    "The same result, see! The program (or Notebook) remembers nothing but the original data and the function itself: a white canvas!\n",
    "\n",
    "What about the original dataframe?"
   ]
  },
  {
   "cell_type": "code",
   "execution_count": 8,
   "id": "1b5c8ef8",
   "metadata": {},
   "outputs": [
    {
     "data": {
      "text/html": [
       "<div>\n",
       "<style scoped>\n",
       "    .dataframe tbody tr th:only-of-type {\n",
       "        vertical-align: middle;\n",
       "    }\n",
       "\n",
       "    .dataframe tbody tr th {\n",
       "        vertical-align: top;\n",
       "    }\n",
       "\n",
       "    .dataframe thead th {\n",
       "        text-align: right;\n",
       "    }\n",
       "</style>\n",
       "<table border=\"1\" class=\"dataframe\">\n",
       "  <thead>\n",
       "    <tr style=\"text-align: right;\">\n",
       "      <th></th>\n",
       "      <th>A</th>\n",
       "      <th>B</th>\n",
       "      <th>C</th>\n",
       "      <th>D</th>\n",
       "    </tr>\n",
       "  </thead>\n",
       "  <tbody>\n",
       "    <tr>\n",
       "      <th>0</th>\n",
       "      <td>1.037882</td>\n",
       "      <td>-1.488442</td>\n",
       "      <td>0.799666</td>\n",
       "      <td>-0.042266</td>\n",
       "    </tr>\n",
       "    <tr>\n",
       "      <th>1</th>\n",
       "      <td>1.117641</td>\n",
       "      <td>1.116918</td>\n",
       "      <td>-1.959217</td>\n",
       "      <td>-0.138462</td>\n",
       "    </tr>\n",
       "    <tr>\n",
       "      <th>2</th>\n",
       "      <td>0.899697</td>\n",
       "      <td>-2.199247</td>\n",
       "      <td>1.467545</td>\n",
       "      <td>-0.116170</td>\n",
       "    </tr>\n",
       "    <tr>\n",
       "      <th>3</th>\n",
       "      <td>-1.595142</td>\n",
       "      <td>0.744084</td>\n",
       "      <td>-0.030172</td>\n",
       "      <td>1.402548</td>\n",
       "    </tr>\n",
       "    <tr>\n",
       "      <th>4</th>\n",
       "      <td>-0.903793</td>\n",
       "      <td>-0.549713</td>\n",
       "      <td>0.659230</td>\n",
       "      <td>-0.131932</td>\n",
       "    </tr>\n",
       "    <tr>\n",
       "      <th>5</th>\n",
       "      <td>0.303467</td>\n",
       "      <td>-0.052519</td>\n",
       "      <td>-0.449401</td>\n",
       "      <td>1.333927</td>\n",
       "    </tr>\n",
       "  </tbody>\n",
       "</table>\n",
       "</div>"
      ],
      "text/plain": [
       "          A         B         C         D\n",
       "0  1.037882 -1.488442  0.799666 -0.042266\n",
       "1  1.117641  1.116918 -1.959217 -0.138462\n",
       "2  0.899697 -2.199247  1.467545 -0.116170\n",
       "3 -1.595142  0.744084 -0.030172  1.402548\n",
       "4 -0.903793 -0.549713  0.659230 -0.131932\n",
       "5  0.303467 -0.052519 -0.449401  1.333927"
      ]
     },
     "execution_count": 8,
     "metadata": {},
     "output_type": "execute_result"
    }
   ],
   "source": [
    "df"
   ]
  },
  {
   "cell_type": "markdown",
   "id": "1bc4f691",
   "metadata": {},
   "source": [
    "After each call, the *state* of the program (or Notebook) is the same as it was before (no new objects, no changes, no nothing!), as if nothing happened.\n",
    "\n",
    "This property is valid for as long as we don't explicitly overwrite the original dataframe outside the function, using an assignment."
   ]
  },
  {
   "cell_type": "code",
   "execution_count": 9,
   "id": "9b7cee4d",
   "metadata": {},
   "outputs": [
    {
     "name": "stdout",
     "output_type": "stream",
     "text": [
      "For some reason this doesn't work. Why is that?\n"
     ]
    }
   ],
   "source": [
    "df = test_dataframe()\n",
    "df = rename_column(df, 'Z', 'A')\n",
    "\n",
    "try:\n",
    "    rename_column(df, 'Z', 'A')\n",
    "except:\n",
    "    print(\"For some reason this doesn't work. Why is that?\")"
   ]
  },
  {
   "cell_type": "markdown",
   "id": "e98f8463",
   "metadata": {},
   "source": [
    "Mutable data is dangerous because it makes programs unpredictable. And this is why you should avoid modifying objects after creation.\n",
    "\n",
    "Such pitfall is common in Notebooks, especially when you re-run cells, run them in a different order or restart the Kernel. (Am I right?)\n",
    "\n",
    "**Data transformation is a *pipeline***\n",
    "\n",
    "Another problem is that data transformation is about applying multiple, sequential changes to the data (i.e., a multistep process).\n",
    "\n",
    "![data_transformation_pipeline](./media/data_transformation_pipeline.png)\n",
    "\n",
    "*Fig 2. - A data transformation pipeline is a multistep process.*\n",
    "\n",
    "And once we realize this, how do we go about it?"
   ]
  },
  {
   "cell_type": "code",
   "execution_count": 10,
   "id": "d1b34653",
   "metadata": {},
   "outputs": [
    {
     "data": {
      "text/html": [
       "<div>\n",
       "<style scoped>\n",
       "    .dataframe tbody tr th:only-of-type {\n",
       "        vertical-align: middle;\n",
       "    }\n",
       "\n",
       "    .dataframe tbody tr th {\n",
       "        vertical-align: top;\n",
       "    }\n",
       "\n",
       "    .dataframe thead th {\n",
       "        text-align: right;\n",
       "    }\n",
       "</style>\n",
       "<table border=\"1\" class=\"dataframe\">\n",
       "  <thead>\n",
       "    <tr style=\"text-align: right;\">\n",
       "      <th></th>\n",
       "      <th>C</th>\n",
       "      <th>D</th>\n",
       "      <th>Z</th>\n",
       "    </tr>\n",
       "  </thead>\n",
       "  <tbody>\n",
       "    <tr>\n",
       "      <th>0</th>\n",
       "      <td>NaN</td>\n",
       "      <td>1.096540</td>\n",
       "      <td>NaN</td>\n",
       "    </tr>\n",
       "    <tr>\n",
       "      <th>1</th>\n",
       "      <td>0.088410</td>\n",
       "      <td>NaN</td>\n",
       "      <td>NaN</td>\n",
       "    </tr>\n",
       "    <tr>\n",
       "      <th>2</th>\n",
       "      <td>1.570576</td>\n",
       "      <td>1.529113</td>\n",
       "      <td>0.400533</td>\n",
       "    </tr>\n",
       "    <tr>\n",
       "      <th>3</th>\n",
       "      <td>0.564976</td>\n",
       "      <td>1.721350</td>\n",
       "      <td>NaN</td>\n",
       "    </tr>\n",
       "    <tr>\n",
       "      <th>4</th>\n",
       "      <td>NaN</td>\n",
       "      <td>NaN</td>\n",
       "      <td>0.924495</td>\n",
       "    </tr>\n",
       "    <tr>\n",
       "      <th>5</th>\n",
       "      <td>NaN</td>\n",
       "      <td>NaN</td>\n",
       "      <td>0.736827</td>\n",
       "    </tr>\n",
       "  </tbody>\n",
       "</table>\n",
       "</div>"
      ],
      "text/plain": [
       "          C         D         Z\n",
       "0       NaN  1.096540       NaN\n",
       "1  0.088410       NaN       NaN\n",
       "2  1.570576  1.529113  0.400533\n",
       "3  0.564976  1.721350       NaN\n",
       "4       NaN       NaN  0.924495\n",
       "5       NaN       NaN  0.736827"
      ]
     },
     "execution_count": 10,
     "metadata": {},
     "output_type": "execute_result"
    }
   ],
   "source": [
    "df = test_dataframe()\n",
    "\n",
    "df_renamed = rename_column(df, 'Z', 'A')\n",
    "# Code happens. Ideas are tested, hours go by.\n",
    "df_renamed_without_b = df_renamed.drop(columns='B')\n",
    "# More code happens. We keep on testing ideas, days go by.\n",
    "df_renamed_without_b_positive = df_renamed_without_b[df_renamed_without_b > 0]\n",
    "# There's a lot of code. Ideas come and go, we've been doing this for a week.\n",
    "df_renamed_without_b_positive_no_nans = df_renamed_without_b_positive.dropna(how='all')\n",
    "# Can we honestly trace back how to get from df to here? Probably not.\n",
    "df_renamed_without_b_positive_no_nans"
   ]
  },
  {
   "cell_type": "markdown",
   "id": "b48cca2b",
   "metadata": {},
   "source": [
    "Using functions instead, you concisely encapsulate everything. \n",
    "\n",
    "(Also, you spend less time naming things, unless you want to.)"
   ]
  },
  {
   "cell_type": "code",
   "execution_count": 11,
   "id": "7749172d",
   "metadata": {},
   "outputs": [
    {
     "data": {
      "text/html": [
       "<div>\n",
       "<style scoped>\n",
       "    .dataframe tbody tr th:only-of-type {\n",
       "        vertical-align: middle;\n",
       "    }\n",
       "\n",
       "    .dataframe tbody tr th {\n",
       "        vertical-align: top;\n",
       "    }\n",
       "\n",
       "    .dataframe thead th {\n",
       "        text-align: right;\n",
       "    }\n",
       "</style>\n",
       "<table border=\"1\" class=\"dataframe\">\n",
       "  <thead>\n",
       "    <tr style=\"text-align: right;\">\n",
       "      <th></th>\n",
       "      <th>C</th>\n",
       "      <th>D</th>\n",
       "      <th>Z</th>\n",
       "    </tr>\n",
       "  </thead>\n",
       "  <tbody>\n",
       "    <tr>\n",
       "      <th>0</th>\n",
       "      <td>NaN</td>\n",
       "      <td>1.096540</td>\n",
       "      <td>NaN</td>\n",
       "    </tr>\n",
       "    <tr>\n",
       "      <th>1</th>\n",
       "      <td>0.088410</td>\n",
       "      <td>NaN</td>\n",
       "      <td>NaN</td>\n",
       "    </tr>\n",
       "    <tr>\n",
       "      <th>2</th>\n",
       "      <td>1.570576</td>\n",
       "      <td>1.529113</td>\n",
       "      <td>0.400533</td>\n",
       "    </tr>\n",
       "    <tr>\n",
       "      <th>3</th>\n",
       "      <td>0.564976</td>\n",
       "      <td>1.721350</td>\n",
       "      <td>NaN</td>\n",
       "    </tr>\n",
       "    <tr>\n",
       "      <th>4</th>\n",
       "      <td>NaN</td>\n",
       "      <td>NaN</td>\n",
       "      <td>0.924495</td>\n",
       "    </tr>\n",
       "    <tr>\n",
       "      <th>5</th>\n",
       "      <td>NaN</td>\n",
       "      <td>NaN</td>\n",
       "      <td>0.736827</td>\n",
       "    </tr>\n",
       "  </tbody>\n",
       "</table>\n",
       "</div>"
      ],
      "text/plain": [
       "          C         D         Z\n",
       "0       NaN  1.096540       NaN\n",
       "1  0.088410       NaN       NaN\n",
       "2  1.570576  1.529113  0.400533\n",
       "3  0.564976  1.721350       NaN\n",
       "4       NaN       NaN  0.924495\n",
       "5       NaN       NaN  0.736827"
      ]
     },
     "execution_count": 11,
     "metadata": {},
     "output_type": "execute_result"
    }
   ],
   "source": [
    "def data_transformer(df, how_to_dropna):\n",
    "    df = df.copy()\n",
    "    df = rename_column(df, 'Z', 'A')\n",
    "    df = df.drop(columns='B')\n",
    "    df = df[df > 0]\n",
    "    df = df.dropna(how=how_to_dropna)\n",
    "    return df\n",
    "\n",
    "data_transformer(df, how_to_dropna='all')"
   ]
  },
  {
   "cell_type": "markdown",
   "id": "358027a3",
   "metadata": {},
   "source": [
    "This function is a bad one: names are not explicit, and there are no apparent blocks of logic.\n",
    "\n",
    "Functions should organize and document our codebase (*what* you are doing and how).\n",
    "\n",
    "Using functions, immutable data and avoiding side effects is a smart choice to manage complexity and keep things understandable.\n",
    "\n",
    "Alternatively, we could structure our functions more like this."
   ]
  },
  {
   "cell_type": "code",
   "execution_count": 12,
   "id": "ce27b01e",
   "metadata": {},
   "outputs": [],
   "source": [
    "def preprocess_data():\n",
    "    df = df.copy()\n",
    "    # df = rename_misspelled_columns(df)\n",
    "    # df = drop_unnecessary_columns(df)\n",
    "    # df = keep_only_positive_values(df)\n",
    "    # df = removemissing_values(df)\n",
    "    return df"
   ]
  },
  {
   "cell_type": "markdown",
   "id": "8559a886",
   "metadata": {},
   "source": [
    "## 1.2 Data transformation in Pandas\n",
    "\n",
    "Pandas provides convenient methods for most data transformation tasks, with a unified, well-known syntax and consistent interfaces.\n",
    "\n",
    "For example, we don't need to create a `rename_column()` function, since Pandas already provides a `df.rename()` method for us."
   ]
  },
  {
   "cell_type": "code",
   "execution_count": 13,
   "id": "0dc00ceb",
   "metadata": {},
   "outputs": [
    {
     "data": {
      "text/html": [
       "<div>\n",
       "<style scoped>\n",
       "    .dataframe tbody tr th:only-of-type {\n",
       "        vertical-align: middle;\n",
       "    }\n",
       "\n",
       "    .dataframe tbody tr th {\n",
       "        vertical-align: top;\n",
       "    }\n",
       "\n",
       "    .dataframe thead th {\n",
       "        text-align: right;\n",
       "    }\n",
       "</style>\n",
       "<table border=\"1\" class=\"dataframe\">\n",
       "  <thead>\n",
       "    <tr style=\"text-align: right;\">\n",
       "      <th></th>\n",
       "      <th>Z</th>\n",
       "      <th>B</th>\n",
       "      <th>C</th>\n",
       "      <th>D</th>\n",
       "    </tr>\n",
       "  </thead>\n",
       "  <tbody>\n",
       "    <tr>\n",
       "      <th>0</th>\n",
       "      <td>-0.084453</td>\n",
       "      <td>0.832133</td>\n",
       "      <td>0.276746</td>\n",
       "      <td>0.055949</td>\n",
       "    </tr>\n",
       "    <tr>\n",
       "      <th>1</th>\n",
       "      <td>-0.550430</td>\n",
       "      <td>0.592676</td>\n",
       "      <td>-0.467930</td>\n",
       "      <td>-1.477691</td>\n",
       "    </tr>\n",
       "    <tr>\n",
       "      <th>2</th>\n",
       "      <td>0.514518</td>\n",
       "      <td>-0.303274</td>\n",
       "      <td>0.573453</td>\n",
       "      <td>-1.287461</td>\n",
       "    </tr>\n",
       "    <tr>\n",
       "      <th>3</th>\n",
       "      <td>-0.622986</td>\n",
       "      <td>0.629390</td>\n",
       "      <td>-0.315170</td>\n",
       "      <td>-1.542120</td>\n",
       "    </tr>\n",
       "    <tr>\n",
       "      <th>4</th>\n",
       "      <td>-0.424627</td>\n",
       "      <td>0.355939</td>\n",
       "      <td>-0.242733</td>\n",
       "      <td>-1.013048</td>\n",
       "    </tr>\n",
       "    <tr>\n",
       "      <th>5</th>\n",
       "      <td>0.224436</td>\n",
       "      <td>0.849439</td>\n",
       "      <td>0.338250</td>\n",
       "      <td>0.127834</td>\n",
       "    </tr>\n",
       "  </tbody>\n",
       "</table>\n",
       "</div>"
      ],
      "text/plain": [
       "          Z         B         C         D\n",
       "0 -0.084453  0.832133  0.276746  0.055949\n",
       "1 -0.550430  0.592676 -0.467930 -1.477691\n",
       "2  0.514518 -0.303274  0.573453 -1.287461\n",
       "3 -0.622986  0.629390 -0.315170 -1.542120\n",
       "4 -0.424627  0.355939 -0.242733 -1.013048\n",
       "5  0.224436  0.849439  0.338250  0.127834"
      ]
     },
     "execution_count": 13,
     "metadata": {},
     "output_type": "execute_result"
    }
   ],
   "source": [
    "df = test_dataframe()\n",
    "\n",
    "df.rename({'A': 'Z'}, axis=1)"
   ]
  },
  {
   "cell_type": "markdown",
   "id": "aa5b9f0f",
   "metadata": {},
   "source": [
    "As a recap: `df.rename()` follows our transformer signature:\n",
    "* It takes a dataframe as input \n",
    "* And returns a new one as output.\n",
    "\n",
    "This predictable input/output is what we mean by consistent interfaces! \n",
    "\n",
    "It seems very promising to build and multistep pipelines, no? What transformations can we perform this way?"
   ]
  },
  {
   "cell_type": "markdown",
   "id": "3442ddb5",
   "metadata": {},
   "source": [
    "### 1.2.1 Subsetting columns or the index\n",
    "\n",
    "#### Take a subset of indexes or columns\n",
    "\n",
    "Pandas implements this functionality, somewhat counterintuitively, as `df.filter()`.\n",
    "\n",
    "Imagine that we want only the columns related to the work itself, excluding IDs."
   ]
  },
  {
   "cell_type": "code",
   "execution_count": 14,
   "id": "3e77e2fa",
   "metadata": {},
   "outputs": [
    {
     "data": {
      "text/html": [
       "<div>\n",
       "<style scoped>\n",
       "    .dataframe tbody tr th:only-of-type {\n",
       "        vertical-align: middle;\n",
       "    }\n",
       "\n",
       "    .dataframe tbody tr th {\n",
       "        vertical-align: top;\n",
       "    }\n",
       "\n",
       "    .dataframe thead th {\n",
       "        text-align: right;\n",
       "    }\n",
       "</style>\n",
       "<table border=\"1\" class=\"dataframe\">\n",
       "  <thead>\n",
       "    <tr style=\"text-align: right;\">\n",
       "      <th></th>\n",
       "      <th>ComposerName</th>\n",
       "      <th>WorkTitle</th>\n",
       "      <th>Movement</th>\n",
       "    </tr>\n",
       "  </thead>\n",
       "  <tbody>\n",
       "    <tr>\n",
       "      <th>0</th>\n",
       "      <td>Beethoven,  Ludwig  van</td>\n",
       "      <td>SYMPHONY NO. 5 IN C MINOR, OP.67</td>\n",
       "      <td>NaN</td>\n",
       "    </tr>\n",
       "    <tr>\n",
       "      <th>1</th>\n",
       "      <td>Beethoven,  Ludwig  van</td>\n",
       "      <td>SYMPHONY NO. 3 IN E FLAT MAJOR, OP. 55 (EROICA)</td>\n",
       "      <td>NaN</td>\n",
       "    </tr>\n",
       "    <tr>\n",
       "      <th>2</th>\n",
       "      <td>Beethoven,  Ludwig  van</td>\n",
       "      <td>EGMONT, OP.84</td>\n",
       "      <td>Overture</td>\n",
       "    </tr>\n",
       "    <tr>\n",
       "      <th>3</th>\n",
       "      <td>Beethoven,  Ludwig  van</td>\n",
       "      <td>SYMPHONY NO. 2 IN D MAJOR, OP.36</td>\n",
       "      <td>NaN</td>\n",
       "    </tr>\n",
       "    <tr>\n",
       "      <th>4</th>\n",
       "      <td>Beethoven,  Ludwig  van</td>\n",
       "      <td>SYMPHONY NO. 7 IN A MAJOR, OP.92</td>\n",
       "      <td>NaN</td>\n",
       "    </tr>\n",
       "  </tbody>\n",
       "</table>\n",
       "</div>"
      ],
      "text/plain": [
       "              ComposerName                                        WorkTitle  \\\n",
       "0  Beethoven,  Ludwig  van                 SYMPHONY NO. 5 IN C MINOR, OP.67   \n",
       "1  Beethoven,  Ludwig  van  SYMPHONY NO. 3 IN E FLAT MAJOR, OP. 55 (EROICA)   \n",
       "2  Beethoven,  Ludwig  van                                    EGMONT, OP.84   \n",
       "3  Beethoven,  Ludwig  van                 SYMPHONY NO. 2 IN D MAJOR, OP.36   \n",
       "4  Beethoven,  Ludwig  van                 SYMPHONY NO. 7 IN A MAJOR, OP.92   \n",
       "\n",
       "   Movement  \n",
       "0       NaN  \n",
       "1       NaN  \n",
       "2  Overture  \n",
       "3       NaN  \n",
       "4       NaN  "
      ]
     },
     "execution_count": 14,
     "metadata": {},
     "output_type": "execute_result"
    }
   ],
   "source": [
    "work_related_columns = ['ComposerName', 'WorkTitle', 'Movement']\n",
    "# Select columns by name.\n",
    "works.filter(items=work_related_columns).head()"
   ]
  },
  {
   "cell_type": "markdown",
   "id": "6e84f2b0",
   "metadata": {},
   "source": [
    "We can also use it to subset our dataframe based on the index."
   ]
  },
  {
   "cell_type": "code",
   "execution_count": 15,
   "id": "7b337367",
   "metadata": {},
   "outputs": [
    {
     "data": {
      "text/html": [
       "<div>\n",
       "<style scoped>\n",
       "    .dataframe tbody tr th:only-of-type {\n",
       "        vertical-align: middle;\n",
       "    }\n",
       "\n",
       "    .dataframe tbody tr th {\n",
       "        vertical-align: top;\n",
       "    }\n",
       "\n",
       "    .dataframe thead th {\n",
       "        text-align: right;\n",
       "    }\n",
       "</style>\n",
       "<table border=\"1\" class=\"dataframe\">\n",
       "  <thead>\n",
       "    <tr style=\"text-align: right;\">\n",
       "      <th></th>\n",
       "      <th>ComposerName</th>\n",
       "      <th>GUID</th>\n",
       "      <th>ProgramID</th>\n",
       "      <th>WorkID</th>\n",
       "      <th>MovementID</th>\n",
       "      <th>WorkTitle</th>\n",
       "      <th>Movement</th>\n",
       "      <th>ConductorName</th>\n",
       "      <th>Interval</th>\n",
       "      <th>isInterval</th>\n",
       "    </tr>\n",
       "  </thead>\n",
       "  <tbody>\n",
       "    <tr>\n",
       "      <th>0</th>\n",
       "      <td>Glass,  Philip</td>\n",
       "      <td>cf230066-2cd2-4093-8b78-b91b8dda3cbf</td>\n",
       "      <td>11639</td>\n",
       "      <td>5729</td>\n",
       "      <td>NaN</td>\n",
       "      <td>KOYAANISQATSI</td>\n",
       "      <td>NaN</td>\n",
       "      <td>Riesman, Michael</td>\n",
       "      <td>NaN</td>\n",
       "      <td>False</td>\n",
       "    </tr>\n",
       "    <tr>\n",
       "      <th>1</th>\n",
       "      <td>Glass,  Philip</td>\n",
       "      <td>adf68bf5-db9d-4b24-aac6-c9b7c398cf06</td>\n",
       "      <td>14047</td>\n",
       "      <td>12401</td>\n",
       "      <td>NaN</td>\n",
       "      <td>\"FATHER DEATH BLUES\" FROM HYDROGEN JUKEBOX</td>\n",
       "      <td>NaN</td>\n",
       "      <td>Sainte-Agathe, Valérie</td>\n",
       "      <td>NaN</td>\n",
       "      <td>False</td>\n",
       "    </tr>\n",
       "    <tr>\n",
       "      <th>2</th>\n",
       "      <td>Glass,  Philip</td>\n",
       "      <td>990a8f66-cd5f-466e-b3b6-800baa6c0b47-0.1</td>\n",
       "      <td>14189</td>\n",
       "      <td>12547</td>\n",
       "      <td>NaN</td>\n",
       "      <td>QUARTET, STRING, NO. 3 (MISHIMA)</td>\n",
       "      <td>NaN</td>\n",
       "      <td>NaN</td>\n",
       "      <td>NaN</td>\n",
       "      <td>False</td>\n",
       "    </tr>\n",
       "    <tr>\n",
       "      <th>3</th>\n",
       "      <td>Glass,  Philip</td>\n",
       "      <td>3d50968c-2e8b-405f-969c-ba36f941f393</td>\n",
       "      <td>14189</td>\n",
       "      <td>12547</td>\n",
       "      <td>NaN</td>\n",
       "      <td>QUARTET, STRING, NO. 3 (MISHIMA)</td>\n",
       "      <td>NaN</td>\n",
       "      <td>NaN</td>\n",
       "      <td>NaN</td>\n",
       "      <td>False</td>\n",
       "    </tr>\n",
       "    <tr>\n",
       "      <th>4</th>\n",
       "      <td>Glass,  Philip</td>\n",
       "      <td>fb8e7125-7ef9-492e-a820-914467475701</td>\n",
       "      <td>14025</td>\n",
       "      <td>12327</td>\n",
       "      <td>NaN</td>\n",
       "      <td>SARABANDE IN COMMON TIME (SOLO VIOLIN)</td>\n",
       "      <td>NaN</td>\n",
       "      <td>NaN</td>\n",
       "      <td>NaN</td>\n",
       "      <td>False</td>\n",
       "    </tr>\n",
       "  </tbody>\n",
       "</table>\n",
       "</div>"
      ],
      "text/plain": [
       "     ComposerName                                      GUID  ProgramID  \\\n",
       "0  Glass,  Philip      cf230066-2cd2-4093-8b78-b91b8dda3cbf      11639   \n",
       "1  Glass,  Philip      adf68bf5-db9d-4b24-aac6-c9b7c398cf06      14047   \n",
       "2  Glass,  Philip  990a8f66-cd5f-466e-b3b6-800baa6c0b47-0.1      14189   \n",
       "3  Glass,  Philip      3d50968c-2e8b-405f-969c-ba36f941f393      14189   \n",
       "4  Glass,  Philip      fb8e7125-7ef9-492e-a820-914467475701      14025   \n",
       "\n",
       "   WorkID  MovementID                                   WorkTitle Movement  \\\n",
       "0    5729         NaN                               KOYAANISQATSI      NaN   \n",
       "1   12401         NaN  \"FATHER DEATH BLUES\" FROM HYDROGEN JUKEBOX      NaN   \n",
       "2   12547         NaN            QUARTET, STRING, NO. 3 (MISHIMA)      NaN   \n",
       "3   12547         NaN            QUARTET, STRING, NO. 3 (MISHIMA)      NaN   \n",
       "4   12327         NaN      SARABANDE IN COMMON TIME (SOLO VIOLIN)      NaN   \n",
       "\n",
       "            ConductorName Interval  isInterval  \n",
       "0        Riesman, Michael      NaN       False  \n",
       "1  Sainte-Agathe, Valérie      NaN       False  \n",
       "2                     NaN      NaN       False  \n",
       "3                     NaN      NaN       False  \n",
       "4                     NaN      NaN       False  "
      ]
     },
     "execution_count": 15,
     "metadata": {},
     "output_type": "execute_result"
    }
   ],
   "source": [
    "# Select rows containing 'Glass' on the index.\n",
    "works.set_index('ComposerName').filter(like='Glass', axis=0).reset_index().head()"
   ]
  },
  {
   "cell_type": "markdown",
   "id": "2b07ebde",
   "metadata": {},
   "source": [
    "### 1.2.2 Drop columns\n",
    "\n",
    "Additionally, `GUID` and `ProgramID` are pretty redundant. We can get rid of `GUID`."
   ]
  },
  {
   "cell_type": "code",
   "execution_count": 16,
   "id": "b57a17b4",
   "metadata": {},
   "outputs": [
    {
     "data": {
      "text/html": [
       "<div>\n",
       "<style scoped>\n",
       "    .dataframe tbody tr th:only-of-type {\n",
       "        vertical-align: middle;\n",
       "    }\n",
       "\n",
       "    .dataframe tbody tr th {\n",
       "        vertical-align: top;\n",
       "    }\n",
       "\n",
       "    .dataframe thead th {\n",
       "        text-align: right;\n",
       "    }\n",
       "</style>\n",
       "<table border=\"1\" class=\"dataframe\">\n",
       "  <thead>\n",
       "    <tr style=\"text-align: right;\">\n",
       "      <th></th>\n",
       "      <th>ProgramID</th>\n",
       "      <th>WorkID</th>\n",
       "      <th>MovementID</th>\n",
       "      <th>ComposerName</th>\n",
       "      <th>WorkTitle</th>\n",
       "      <th>Movement</th>\n",
       "      <th>ConductorName</th>\n",
       "      <th>Interval</th>\n",
       "      <th>isInterval</th>\n",
       "    </tr>\n",
       "  </thead>\n",
       "  <tbody>\n",
       "    <tr>\n",
       "      <th>0</th>\n",
       "      <td>3853</td>\n",
       "      <td>52446</td>\n",
       "      <td>NaN</td>\n",
       "      <td>Beethoven,  Ludwig  van</td>\n",
       "      <td>SYMPHONY NO. 5 IN C MINOR, OP.67</td>\n",
       "      <td>NaN</td>\n",
       "      <td>Hill, Ureli Corelli</td>\n",
       "      <td>NaN</td>\n",
       "      <td>False</td>\n",
       "    </tr>\n",
       "    <tr>\n",
       "      <th>1</th>\n",
       "      <td>5178</td>\n",
       "      <td>52437</td>\n",
       "      <td>NaN</td>\n",
       "      <td>Beethoven,  Ludwig  van</td>\n",
       "      <td>SYMPHONY NO. 3 IN E FLAT MAJOR, OP. 55 (EROICA)</td>\n",
       "      <td>NaN</td>\n",
       "      <td>Hill, Ureli Corelli</td>\n",
       "      <td>NaN</td>\n",
       "      <td>False</td>\n",
       "    </tr>\n",
       "    <tr>\n",
       "      <th>2</th>\n",
       "      <td>10785</td>\n",
       "      <td>52364</td>\n",
       "      <td>1.0</td>\n",
       "      <td>Beethoven,  Ludwig  van</td>\n",
       "      <td>EGMONT, OP.84</td>\n",
       "      <td>Overture</td>\n",
       "      <td>Hill, Ureli Corelli</td>\n",
       "      <td>NaN</td>\n",
       "      <td>False</td>\n",
       "    </tr>\n",
       "    <tr>\n",
       "      <th>3</th>\n",
       "      <td>5887</td>\n",
       "      <td>52434</td>\n",
       "      <td>NaN</td>\n",
       "      <td>Beethoven,  Ludwig  van</td>\n",
       "      <td>SYMPHONY NO. 2 IN D MAJOR, OP.36</td>\n",
       "      <td>NaN</td>\n",
       "      <td>Boucher, Alfred</td>\n",
       "      <td>NaN</td>\n",
       "      <td>False</td>\n",
       "    </tr>\n",
       "    <tr>\n",
       "      <th>4</th>\n",
       "      <td>305</td>\n",
       "      <td>52453</td>\n",
       "      <td>NaN</td>\n",
       "      <td>Beethoven,  Ludwig  van</td>\n",
       "      <td>SYMPHONY NO. 7 IN A MAJOR, OP.92</td>\n",
       "      <td>NaN</td>\n",
       "      <td>Hill, Ureli Corelli</td>\n",
       "      <td>NaN</td>\n",
       "      <td>False</td>\n",
       "    </tr>\n",
       "  </tbody>\n",
       "</table>\n",
       "</div>"
      ],
      "text/plain": [
       "   ProgramID  WorkID  MovementID             ComposerName  \\\n",
       "0       3853   52446         NaN  Beethoven,  Ludwig  van   \n",
       "1       5178   52437         NaN  Beethoven,  Ludwig  van   \n",
       "2      10785   52364         1.0  Beethoven,  Ludwig  van   \n",
       "3       5887   52434         NaN  Beethoven,  Ludwig  van   \n",
       "4        305   52453         NaN  Beethoven,  Ludwig  van   \n",
       "\n",
       "                                         WorkTitle  Movement  \\\n",
       "0                 SYMPHONY NO. 5 IN C MINOR, OP.67       NaN   \n",
       "1  SYMPHONY NO. 3 IN E FLAT MAJOR, OP. 55 (EROICA)       NaN   \n",
       "2                                    EGMONT, OP.84  Overture   \n",
       "3                 SYMPHONY NO. 2 IN D MAJOR, OP.36       NaN   \n",
       "4                 SYMPHONY NO. 7 IN A MAJOR, OP.92       NaN   \n",
       "\n",
       "         ConductorName Interval  isInterval  \n",
       "0  Hill, Ureli Corelli      NaN       False  \n",
       "1  Hill, Ureli Corelli      NaN       False  \n",
       "2  Hill, Ureli Corelli      NaN       False  \n",
       "3      Boucher, Alfred      NaN       False  \n",
       "4  Hill, Ureli Corelli      NaN       False  "
      ]
     },
     "execution_count": 16,
     "metadata": {},
     "output_type": "execute_result"
    }
   ],
   "source": [
    "works.drop(columns='GUID').head()"
   ]
  },
  {
   "cell_type": "markdown",
   "id": "ecee82fb",
   "metadata": {},
   "source": [
    "### 1.2.3 Group By\n",
    "\n",
    "This is a very extensive topic, and we'll just touch it's surface here, so that you know that exists and can explore it further later on your own.\n",
    "\n",
    "In case you've worked with SQL before, you'll find this very familiar :)\n",
    "\n",
    "So, in Pandas there is a process of three chained steps called split-apply-combine:\n",
    "\n",
    "- split: splitting the DataFrame into groups (this is the groupby), we need to specify the column or the columns that will be used to form the groups.\n",
    "- apply: apply a function to each group (aggregation, transformation and filtration)\n",
    "- combine: create a DataFrame with the results\n",
    "\n",
    "With this out of the way, it's time to focus on three types of functions you may want to apply:\n",
    "* Aggregation (e.g., sum, count, mean)\n",
    "* Transformation (e.g., filling missing values)\n",
    "* Filtration (e.g., discard data from underrepresented groups).\n",
    "\n",
    "We will drill-down into each one of them. For this next part, we will use be using the `concerts` data.\n",
    "\n"
   ]
  },
  {
   "cell_type": "markdown",
   "id": "e61faeb4",
   "metadata": {},
   "source": [
    "**Aggregation** (e.g., sum, count, mean)\n",
    "\n",
    "We want to start by uncovering the most popular programs, by the number of performances.\n",
    "\n",
    "So the first step is to group our data by `ProgramID`. This returns a DataFrameGroupBy object that by itself doesn't tell us much.\n",
    "\n",
    "However, we can use the group property of the DataFrameGroupBy object to inspect the groups.\n"
   ]
  },
  {
   "cell_type": "code",
   "execution_count": 17,
   "id": "7c373ea4",
   "metadata": {},
   "outputs": [
    {
     "data": {
      "text/plain": [
       "<pandas.core.groupby.generic.DataFrameGroupBy object at 0x122bcf3a0>"
      ]
     },
     "execution_count": 17,
     "metadata": {},
     "output_type": "execute_result"
    }
   ],
   "source": [
    "concerts_grouped_by_ProgramID = concerts.groupby('ProgramID')\n",
    "concerts_grouped_by_ProgramID"
   ]
  },
  {
   "cell_type": "code",
   "execution_count": 18,
   "id": "4476ff5e",
   "metadata": {},
   "outputs": [
    {
     "data": {
      "text/plain": [
       "{1: [474, 14097], 2: [1578], 3: [1579], 4: [1580, 14382], 5: [10075], 6: [1581], 7: [10076, 16815, 19224, 20893], 8: [10066], 9: [9471], 10: [7565], 11: [1582], 12: [10077, 16816, 19225, 20894], 13: [10058], 14: [9473], 15: [7566], 16: [154], 17: [3797, 14812], 18: [1583], 19: [10065], 20: [10078, 16817, 19226], 21: [9475], 22: [7567, 15738], 24: [1584], 25: [10063], 26: [10433], 27: [7568], 28: [1585, 14383], 29: [3799, 14813], 30: [10434], 31: [8604, 16117, 18674], 32: [7570, 15739], 33: [3800, 14814], 34: [4466], 35: [1589], 36: [10244], 37: [10435, 16978, 19355, 20978], 38: [8605], 39: [7571, 15740], 40: [4467, 14985, 18285], 41: [3801, 14815], 42: [334], 43: [1164], 44: [10436, 16979, 19356, 20979], 45: [8606, 16118], 46: [7572, 15741], 47: [19], 48: [4470, 14986, 18286], 49: [3803, 14816], 50: [1165, 14308], 51: [9549], 52: [10437, 16980, 19357], 53: [7573], 54: [1168], 55: [4472, 14987], 56: [3805, 14817], 57: [5101, 15174], 58: [9331, 16496, 18968, 20712], 59: [10439, 16981, 19358], 60: [7574], 61: [1169], 62: [4474], 63: [5103], 64: [9332], 65: [9218], 66: [7035, 15632], 67: [5104, 15175], 68: [4592, 15040, 18299], 69: [4475, 14988, 18287], 70: [312], 71: [1170, 14309, 18202], 72: [9333, 16497, 18969], 73: [9219], 74: [7036], 75: [5106], 76: [107], 78: [9334], 79: [9220], 80: [7037], 81: [5107, 15176], 82: [1179], 83: [9335, 16498, 18970], 84: [7038, 15633], 85: [1180, 14311], 86: [5109], 87: [9337, 16499, 18971, 20713], 88: [7039], 89: [5111, 15177], 90: [1876], 91: [7561], 92: [7040], 93: [7028], 94: [6722], 95: [5112], 96: [3031], 97: [1877], 98: [7042, 15634], 99: [6723], 100: [5113, 15178], 101: [1880], 102: [7044], ...}"
      ]
     },
     "execution_count": 18,
     "metadata": {},
     "output_type": "execute_result"
    }
   ],
   "source": [
    "concerts_grouped_by_ProgramID.groups"
   ]
  },
  {
   "cell_type": "markdown",
   "id": "41d701bd",
   "metadata": {},
   "source": [
    "Now, if we want to know the number of performances per program we can simply call `DataFrameGroupBy.size()`"
   ]
  },
  {
   "cell_type": "code",
   "execution_count": 19,
   "id": "b66374de",
   "metadata": {
    "scrolled": true
   },
   "outputs": [
    {
     "data": {
      "text/plain": [
       "ProgramID\n",
       "1        2\n",
       "2        1\n",
       "3        1\n",
       "4        2\n",
       "5        1\n",
       "        ..\n",
       "14191    2\n",
       "14192    1\n",
       "14193    1\n",
       "14194    1\n",
       "14195    1\n",
       "Length: 13932, dtype: int64"
      ]
     },
     "execution_count": 19,
     "metadata": {},
     "output_type": "execute_result"
    }
   ],
   "source": [
    "concerts_grouped_by_ProgramID.size()"
   ]
  },
  {
   "cell_type": "markdown",
   "id": "535ca991",
   "metadata": {},
   "source": [
    "The same result but using all the operations together"
   ]
  },
  {
   "cell_type": "code",
   "execution_count": 20,
   "id": "e3cebe2e",
   "metadata": {},
   "outputs": [
    {
     "data": {
      "text/plain": [
       "ProgramID\n",
       "1        2\n",
       "2        1\n",
       "3        1\n",
       "4        2\n",
       "5        1\n",
       "        ..\n",
       "14191    2\n",
       "14192    1\n",
       "14193    1\n",
       "14194    1\n",
       "14195    1\n",
       "Length: 13932, dtype: int64"
      ]
     },
     "execution_count": 20,
     "metadata": {},
     "output_type": "execute_result"
    }
   ],
   "source": [
    "concerts.groupby('ProgramID').size()"
   ]
  },
  {
   "cell_type": "markdown",
   "id": "b0ae0521",
   "metadata": {},
   "source": [
    "With the operation above we obtain a Dataframe with the number of performances per `ProgramID`. If we want to know the most popular ones we need to use `pd.DataFrame.nlargest()`"
   ]
  },
  {
   "cell_type": "code",
   "execution_count": 21,
   "id": "77c86d95",
   "metadata": {},
   "outputs": [
    {
     "data": {
      "text/plain": [
       "ProgramID\n",
       "3128     16\n",
       "3139     16\n",
       "10700    16\n",
       "10702    16\n",
       "3134     12\n",
       "dtype: int64"
      ]
     },
     "execution_count": 21,
     "metadata": {},
     "output_type": "execute_result"
    }
   ],
   "source": [
    "concerts.groupby('ProgramID').size().nlargest()"
   ]
  },
  {
   "cell_type": "markdown",
   "id": "6858517a",
   "metadata": {},
   "source": [
    "We use `GroupBy.size()` to count the number of elements in each group. A list of available methods:\n",
    "* `mean()`\n",
    "* `sum()`\n",
    "* `size()`\n",
    "* `count()`\n",
    "* `std()`\n",
    "* `var()`\n",
    "* `sem()`\n",
    "* `describe()`\n",
    "* `first()`\n",
    "* `last()`\n",
    "* `nth()`\n",
    "* `min()`\n",
    "* `max()`.\n",
    "\n",
    "Alternatively, we can use `GroupBy.agg()` as a more general method. Check out the [docs](http://pandas.pydata.org/pandas-docs/version/0.22/generated/pandas.core.groupby.DataFrameGroupBy.agg.html).\n",
    "\n",
    "You could even define your own aggregation function using the lambda nomenclature, we will see an example of it in the transformation topic."
   ]
  },
  {
   "cell_type": "markdown",
   "id": "f9f9595f",
   "metadata": {},
   "source": [
    "Let's now imagine that we want to know when each program was performed for the first time.\n",
    "We start by `groupby` the shows by `ProgramID` and then, for each group we take the `min` of the Date column. "
   ]
  },
  {
   "cell_type": "code",
   "execution_count": 22,
   "id": "1c9d2cb0",
   "metadata": {},
   "outputs": [
    {
     "data": {
      "text/plain": [
       "ProgramID\n",
       "1        1897-02-05T05:00:00+00:00\n",
       "2        1916-12-03T05:00:00+00:00\n",
       "3        1916-12-06T05:00:00+00:00\n",
       "4        1916-12-07T05:00:00+00:00\n",
       "5        1983-09-14T04:00:00+00:00\n",
       "                   ...            \n",
       "14191    2016-12-11T05:00:00+00:00\n",
       "14192    2017-01-15T05:00:00+00:00\n",
       "14193    2017-02-03T05:00:00+00:00\n",
       "14194    2017-03-13T04:00:00+00:00\n",
       "14195    2017-04-18T04:00:00+00:00\n",
       "Name: Date, Length: 13932, dtype: object"
      ]
     },
     "execution_count": 22,
     "metadata": {},
     "output_type": "execute_result"
    }
   ],
   "source": [
    "concerts.groupby('ProgramID').Date.min()"
   ]
  },
  {
   "cell_type": "markdown",
   "id": "d0b29bd4",
   "metadata": {},
   "source": [
    "And if we want to know when it was the last performance?"
   ]
  },
  {
   "cell_type": "code",
   "execution_count": 23,
   "id": "dbc36a80",
   "metadata": {},
   "outputs": [
    {
     "data": {
      "text/plain": [
       "ProgramID\n",
       "1        1897-02-06T05:00:00+00:00\n",
       "2        1916-12-03T05:00:00+00:00\n",
       "3        1916-12-06T05:00:00+00:00\n",
       "4        1916-12-08T05:00:00+00:00\n",
       "5        1983-09-14T04:00:00+00:00\n",
       "                   ...            \n",
       "14191    2016-12-11T05:00:00+00:00\n",
       "14192    2017-01-15T05:00:00+00:00\n",
       "14193    2017-02-03T05:00:00+00:00\n",
       "14194    2017-03-13T04:00:00+00:00\n",
       "14195    2017-04-18T04:00:00+00:00\n",
       "Name: Date, Length: 13932, dtype: object"
      ]
     },
     "execution_count": 23,
     "metadata": {},
     "output_type": "execute_result"
    }
   ],
   "source": [
    "concerts.groupby('ProgramID').Date.max()"
   ]
  },
  {
   "cell_type": "markdown",
   "id": "19adaf68",
   "metadata": {},
   "source": [
    "**Transformation**\n",
    "\n",
    "The inherent difference between aggregation and transformation is that the latter returns an object the same size as the original input.\n",
    "\n",
    "We don't have an excellent example in our dataset, so let's use the [Iris](https://archive.ics.uci.edu/ml/datasets/iris) dataset to exemplify a possible use case."
   ]
  },
  {
   "cell_type": "markdown",
   "id": "3986473f",
   "metadata": {},
   "source": [
    "To assign new columns to a DataFrame, you can take advantage of the [`assign`](https://pandas.pydata.org/pandas-docs/stable/reference/api/pandas.DataFrame.assign.html) method from pandas; it accepts the column names as keywords. \n",
    "\n",
    "If the column already exists, the current column will be overwritten by the newly assigned values. It is possible to assign multiple columns using the same assign. You can simply pass in multiple columns, separated by a coma."
   ]
  },
  {
   "cell_type": "code",
   "execution_count": 24,
   "id": "e1a88972",
   "metadata": {},
   "outputs": [
    {
     "data": {
      "text/html": [
       "<div>\n",
       "<style scoped>\n",
       "    .dataframe tbody tr th:only-of-type {\n",
       "        vertical-align: middle;\n",
       "    }\n",
       "\n",
       "    .dataframe tbody tr th {\n",
       "        vertical-align: top;\n",
       "    }\n",
       "\n",
       "    .dataframe thead th {\n",
       "        text-align: right;\n",
       "    }\n",
       "</style>\n",
       "<table border=\"1\" class=\"dataframe\">\n",
       "  <thead>\n",
       "    <tr style=\"text-align: right;\">\n",
       "      <th></th>\n",
       "      <th>sepal length (cm)</th>\n",
       "      <th>sepal width (cm)</th>\n",
       "      <th>petal length (cm)</th>\n",
       "      <th>petal width (cm)</th>\n",
       "      <th>Target</th>\n",
       "    </tr>\n",
       "  </thead>\n",
       "  <tbody>\n",
       "    <tr>\n",
       "      <th>0</th>\n",
       "      <td>5.1</td>\n",
       "      <td>3.5</td>\n",
       "      <td>1.4</td>\n",
       "      <td>0.2</td>\n",
       "      <td>0</td>\n",
       "    </tr>\n",
       "    <tr>\n",
       "      <th>1</th>\n",
       "      <td>4.9</td>\n",
       "      <td>3.0</td>\n",
       "      <td>1.4</td>\n",
       "      <td>0.2</td>\n",
       "      <td>0</td>\n",
       "    </tr>\n",
       "    <tr>\n",
       "      <th>2</th>\n",
       "      <td>4.7</td>\n",
       "      <td>3.2</td>\n",
       "      <td>1.3</td>\n",
       "      <td>0.2</td>\n",
       "      <td>0</td>\n",
       "    </tr>\n",
       "    <tr>\n",
       "      <th>3</th>\n",
       "      <td>4.6</td>\n",
       "      <td>3.1</td>\n",
       "      <td>1.5</td>\n",
       "      <td>0.2</td>\n",
       "      <td>0</td>\n",
       "    </tr>\n",
       "    <tr>\n",
       "      <th>4</th>\n",
       "      <td>5.0</td>\n",
       "      <td>3.6</td>\n",
       "      <td>1.4</td>\n",
       "      <td>0.2</td>\n",
       "      <td>0</td>\n",
       "    </tr>\n",
       "  </tbody>\n",
       "</table>\n",
       "</div>"
      ],
      "text/plain": [
       "   sepal length (cm)  sepal width (cm)  petal length (cm)  petal width (cm)  \\\n",
       "0                5.1               3.5                1.4               0.2   \n",
       "1                4.9               3.0                1.4               0.2   \n",
       "2                4.7               3.2                1.3               0.2   \n",
       "3                4.6               3.1                1.5               0.2   \n",
       "4                5.0               3.6                1.4               0.2   \n",
       "\n",
       "   Target  \n",
       "0       0  \n",
       "1       0  \n",
       "2       0  \n",
       "3       0  \n",
       "4       0  "
      ]
     },
     "execution_count": 24,
     "metadata": {},
     "output_type": "execute_result"
    }
   ],
   "source": [
    "iris = load_iris()\n",
    "df = pd.DataFrame(data=iris.data, columns=iris.feature_names)\n",
    "df = df.assign(Target=iris.target)\n",
    "df.head()"
   ]
  },
  {
   "cell_type": "markdown",
   "id": "9e0eb5aa",
   "metadata": {},
   "source": [
    "Now, imagine that we want to standardize the data, but using the statistics for each group:\n",
    "* We take the mean and the standard deviation *inside each group*\n",
    "* We want to standardize each value according to that.\n",
    "\n",
    "We implement it as a lambda function, that will be applied to each group separately."
   ]
  },
  {
   "cell_type": "code",
   "execution_count": 25,
   "id": "f6f7c199",
   "metadata": {},
   "outputs": [
    {
     "data": {
      "text/html": [
       "<div>\n",
       "<style scoped>\n",
       "    .dataframe tbody tr th:only-of-type {\n",
       "        vertical-align: middle;\n",
       "    }\n",
       "\n",
       "    .dataframe tbody tr th {\n",
       "        vertical-align: top;\n",
       "    }\n",
       "\n",
       "    .dataframe thead th {\n",
       "        text-align: right;\n",
       "    }\n",
       "</style>\n",
       "<table border=\"1\" class=\"dataframe\">\n",
       "  <thead>\n",
       "    <tr style=\"text-align: right;\">\n",
       "      <th></th>\n",
       "      <th>sepal length (cm)</th>\n",
       "      <th>sepal width (cm)</th>\n",
       "      <th>petal length (cm)</th>\n",
       "      <th>petal width (cm)</th>\n",
       "      <th>Target</th>\n",
       "    </tr>\n",
       "  </thead>\n",
       "  <tbody>\n",
       "    <tr>\n",
       "      <th>0</th>\n",
       "      <td>5.1</td>\n",
       "      <td>3.5</td>\n",
       "      <td>1.4</td>\n",
       "      <td>0.2</td>\n",
       "      <td>0</td>\n",
       "    </tr>\n",
       "    <tr>\n",
       "      <th>1</th>\n",
       "      <td>4.9</td>\n",
       "      <td>3.0</td>\n",
       "      <td>1.4</td>\n",
       "      <td>0.2</td>\n",
       "      <td>0</td>\n",
       "    </tr>\n",
       "    <tr>\n",
       "      <th>2</th>\n",
       "      <td>4.7</td>\n",
       "      <td>3.2</td>\n",
       "      <td>1.3</td>\n",
       "      <td>0.2</td>\n",
       "      <td>0</td>\n",
       "    </tr>\n",
       "    <tr>\n",
       "      <th>3</th>\n",
       "      <td>4.6</td>\n",
       "      <td>3.1</td>\n",
       "      <td>1.5</td>\n",
       "      <td>0.2</td>\n",
       "      <td>0</td>\n",
       "    </tr>\n",
       "    <tr>\n",
       "      <th>4</th>\n",
       "      <td>5.0</td>\n",
       "      <td>3.6</td>\n",
       "      <td>1.4</td>\n",
       "      <td>0.2</td>\n",
       "      <td>0</td>\n",
       "    </tr>\n",
       "    <tr>\n",
       "      <th>...</th>\n",
       "      <td>...</td>\n",
       "      <td>...</td>\n",
       "      <td>...</td>\n",
       "      <td>...</td>\n",
       "      <td>...</td>\n",
       "    </tr>\n",
       "    <tr>\n",
       "      <th>145</th>\n",
       "      <td>6.7</td>\n",
       "      <td>3.0</td>\n",
       "      <td>5.2</td>\n",
       "      <td>2.3</td>\n",
       "      <td>2</td>\n",
       "    </tr>\n",
       "    <tr>\n",
       "      <th>146</th>\n",
       "      <td>6.3</td>\n",
       "      <td>2.5</td>\n",
       "      <td>5.0</td>\n",
       "      <td>1.9</td>\n",
       "      <td>2</td>\n",
       "    </tr>\n",
       "    <tr>\n",
       "      <th>147</th>\n",
       "      <td>6.5</td>\n",
       "      <td>3.0</td>\n",
       "      <td>5.2</td>\n",
       "      <td>2.0</td>\n",
       "      <td>2</td>\n",
       "    </tr>\n",
       "    <tr>\n",
       "      <th>148</th>\n",
       "      <td>6.2</td>\n",
       "      <td>3.4</td>\n",
       "      <td>5.4</td>\n",
       "      <td>2.3</td>\n",
       "      <td>2</td>\n",
       "    </tr>\n",
       "    <tr>\n",
       "      <th>149</th>\n",
       "      <td>5.9</td>\n",
       "      <td>3.0</td>\n",
       "      <td>5.1</td>\n",
       "      <td>1.8</td>\n",
       "      <td>2</td>\n",
       "    </tr>\n",
       "  </tbody>\n",
       "</table>\n",
       "<p>150 rows × 5 columns</p>\n",
       "</div>"
      ],
      "text/plain": [
       "     sepal length (cm)  sepal width (cm)  petal length (cm)  petal width (cm)  \\\n",
       "0                  5.1               3.5                1.4               0.2   \n",
       "1                  4.9               3.0                1.4               0.2   \n",
       "2                  4.7               3.2                1.3               0.2   \n",
       "3                  4.6               3.1                1.5               0.2   \n",
       "4                  5.0               3.6                1.4               0.2   \n",
       "..                 ...               ...                ...               ...   \n",
       "145                6.7               3.0                5.2               2.3   \n",
       "146                6.3               2.5                5.0               1.9   \n",
       "147                6.5               3.0                5.2               2.0   \n",
       "148                6.2               3.4                5.4               2.3   \n",
       "149                5.9               3.0                5.1               1.8   \n",
       "\n",
       "     Target  \n",
       "0         0  \n",
       "1         0  \n",
       "2         0  \n",
       "3         0  \n",
       "4         0  \n",
       "..      ...  \n",
       "145       2  \n",
       "146       2  \n",
       "147       2  \n",
       "148       2  \n",
       "149       2  \n",
       "\n",
       "[150 rows x 5 columns]"
      ]
     },
     "execution_count": 25,
     "metadata": {},
     "output_type": "execute_result"
    }
   ],
   "source": [
    "df"
   ]
  },
  {
   "cell_type": "code",
   "execution_count": 26,
   "id": "e749d9f5",
   "metadata": {},
   "outputs": [
    {
     "data": {
      "text/html": [
       "<div>\n",
       "<style scoped>\n",
       "    .dataframe tbody tr th:only-of-type {\n",
       "        vertical-align: middle;\n",
       "    }\n",
       "\n",
       "    .dataframe tbody tr th {\n",
       "        vertical-align: top;\n",
       "    }\n",
       "\n",
       "    .dataframe thead th {\n",
       "        text-align: right;\n",
       "    }\n",
       "</style>\n",
       "<table border=\"1\" class=\"dataframe\">\n",
       "  <thead>\n",
       "    <tr style=\"text-align: right;\">\n",
       "      <th></th>\n",
       "      <th>sepal length (cm)</th>\n",
       "      <th>sepal width (cm)</th>\n",
       "      <th>petal length (cm)</th>\n",
       "      <th>petal width (cm)</th>\n",
       "    </tr>\n",
       "  </thead>\n",
       "  <tbody>\n",
       "    <tr>\n",
       "      <th>0</th>\n",
       "      <td>0.266674</td>\n",
       "      <td>0.189941</td>\n",
       "      <td>-0.357011</td>\n",
       "      <td>-0.436492</td>\n",
       "    </tr>\n",
       "    <tr>\n",
       "      <th>1</th>\n",
       "      <td>-0.300718</td>\n",
       "      <td>-1.129096</td>\n",
       "      <td>-0.357011</td>\n",
       "      <td>-0.436492</td>\n",
       "    </tr>\n",
       "    <tr>\n",
       "      <th>2</th>\n",
       "      <td>-0.868111</td>\n",
       "      <td>-0.601481</td>\n",
       "      <td>-0.932836</td>\n",
       "      <td>-0.436492</td>\n",
       "    </tr>\n",
       "    <tr>\n",
       "      <th>3</th>\n",
       "      <td>-1.151807</td>\n",
       "      <td>-0.865288</td>\n",
       "      <td>0.218813</td>\n",
       "      <td>-0.436492</td>\n",
       "    </tr>\n",
       "    <tr>\n",
       "      <th>4</th>\n",
       "      <td>-0.017022</td>\n",
       "      <td>0.453749</td>\n",
       "      <td>-0.357011</td>\n",
       "      <td>-0.436492</td>\n",
       "    </tr>\n",
       "  </tbody>\n",
       "</table>\n",
       "</div>"
      ],
      "text/plain": [
       "   sepal length (cm)  sepal width (cm)  petal length (cm)  petal width (cm)\n",
       "0           0.266674          0.189941          -0.357011         -0.436492\n",
       "1          -0.300718         -1.129096          -0.357011         -0.436492\n",
       "2          -0.868111         -0.601481          -0.932836         -0.436492\n",
       "3          -1.151807         -0.865288           0.218813         -0.436492\n",
       "4          -0.017022          0.453749          -0.357011         -0.436492"
      ]
     },
     "execution_count": 26,
     "metadata": {},
     "output_type": "execute_result"
    }
   ],
   "source": [
    "zscore = lambda x: (x - x.mean()) / x.std()\n",
    "\n",
    "df.groupby('Target').transform(zscore).head()"
   ]
  },
  {
   "cell_type": "markdown",
   "id": "14cebaab",
   "metadata": {},
   "source": [
    "The downside is that the returned dataframe no longer has `Target` as the column.\n",
    "\n",
    "Let's try a different approach that allows us to keep the `Target` column"
   ]
  },
  {
   "cell_type": "code",
   "execution_count": 27,
   "id": "0c1a9fed",
   "metadata": {},
   "outputs": [
    {
     "data": {
      "text/html": [
       "<div>\n",
       "<style scoped>\n",
       "    .dataframe tbody tr th:only-of-type {\n",
       "        vertical-align: middle;\n",
       "    }\n",
       "\n",
       "    .dataframe tbody tr th {\n",
       "        vertical-align: top;\n",
       "    }\n",
       "\n",
       "    .dataframe thead tr th {\n",
       "        text-align: left;\n",
       "    }\n",
       "\n",
       "    .dataframe thead tr:last-of-type th {\n",
       "        text-align: right;\n",
       "    }\n",
       "</style>\n",
       "<table border=\"1\" class=\"dataframe\">\n",
       "  <thead>\n",
       "    <tr>\n",
       "      <th></th>\n",
       "      <th colspan=\"2\" halign=\"left\">sepal length (cm)</th>\n",
       "      <th colspan=\"2\" halign=\"left\">sepal width (cm)</th>\n",
       "      <th colspan=\"2\" halign=\"left\">petal length (cm)</th>\n",
       "      <th colspan=\"2\" halign=\"left\">petal width (cm)</th>\n",
       "    </tr>\n",
       "    <tr>\n",
       "      <th></th>\n",
       "      <th>mean</th>\n",
       "      <th>std</th>\n",
       "      <th>mean</th>\n",
       "      <th>std</th>\n",
       "      <th>mean</th>\n",
       "      <th>std</th>\n",
       "      <th>mean</th>\n",
       "      <th>std</th>\n",
       "    </tr>\n",
       "    <tr>\n",
       "      <th>Target</th>\n",
       "      <th></th>\n",
       "      <th></th>\n",
       "      <th></th>\n",
       "      <th></th>\n",
       "      <th></th>\n",
       "      <th></th>\n",
       "      <th></th>\n",
       "      <th></th>\n",
       "    </tr>\n",
       "  </thead>\n",
       "  <tbody>\n",
       "    <tr>\n",
       "      <th>0</th>\n",
       "      <td>-6.917383e-16</td>\n",
       "      <td>1.0</td>\n",
       "      <td>1.576517e-16</td>\n",
       "      <td>1.0</td>\n",
       "      <td>-1.159073e-15</td>\n",
       "      <td>1.0</td>\n",
       "      <td>3.796963e-16</td>\n",
       "      <td>1.0</td>\n",
       "    </tr>\n",
       "    <tr>\n",
       "      <th>1</th>\n",
       "      <td>5.440093e-17</td>\n",
       "      <td>1.0</td>\n",
       "      <td>-1.513234e-15</td>\n",
       "      <td>1.0</td>\n",
       "      <td>4.529710e-16</td>\n",
       "      <td>1.0</td>\n",
       "      <td>8.032464e-16</td>\n",
       "      <td>1.0</td>\n",
       "    </tr>\n",
       "    <tr>\n",
       "      <th>2</th>\n",
       "      <td>2.753353e-15</td>\n",
       "      <td>1.0</td>\n",
       "      <td>-6.178391e-16</td>\n",
       "      <td>1.0</td>\n",
       "      <td>-9.880985e-16</td>\n",
       "      <td>1.0</td>\n",
       "      <td>-9.547918e-16</td>\n",
       "      <td>1.0</td>\n",
       "    </tr>\n",
       "  </tbody>\n",
       "</table>\n",
       "</div>"
      ],
      "text/plain": [
       "       sepal length (cm)      sepal width (cm)      petal length (cm)       \\\n",
       "                    mean  std             mean  std              mean  std   \n",
       "Target                                                                       \n",
       "0          -6.917383e-16  1.0     1.576517e-16  1.0     -1.159073e-15  1.0   \n",
       "1           5.440093e-17  1.0    -1.513234e-15  1.0      4.529710e-16  1.0   \n",
       "2           2.753353e-15  1.0    -6.178391e-16  1.0     -9.880985e-16  1.0   \n",
       "\n",
       "       petal width (cm)       \n",
       "                   mean  std  \n",
       "Target                        \n",
       "0          3.796963e-16  1.0  \n",
       "1          8.032464e-16  1.0  \n",
       "2         -9.547918e-16  1.0  "
      ]
     },
     "execution_count": 27,
     "metadata": {},
     "output_type": "execute_result"
    }
   ],
   "source": [
    "df_transformed = df.groupby('Target').transform(zscore)\n",
    "\n",
    "df_transformed.groupby(df['Target']).agg(['mean', 'std'])"
   ]
  },
  {
   "cell_type": "markdown",
   "id": "ba79eccb",
   "metadata": {},
   "source": [
    "We did it! Zero mean and standard deviation equal to one *inside each group*.\n",
    "\n",
    "Now, if this use case doesn't ring a bell, think about replacing missing values with the group mean, for example. Useful, right?"
   ]
  },
  {
   "cell_type": "markdown",
   "id": "2c3cc885",
   "metadata": {},
   "source": [
    "**Filtration**\n",
    "\n",
    "The `DataFrameGroupBy.filter()` method provides a convenient way to filter out elements that belong to underrepresented groups."
   ]
  },
  {
   "cell_type": "code",
   "execution_count": 28,
   "id": "f94058f5",
   "metadata": {},
   "outputs": [
    {
     "data": {
      "text/html": [
       "<div>\n",
       "<style scoped>\n",
       "    .dataframe tbody tr th:only-of-type {\n",
       "        vertical-align: middle;\n",
       "    }\n",
       "\n",
       "    .dataframe tbody tr th {\n",
       "        vertical-align: top;\n",
       "    }\n",
       "\n",
       "    .dataframe thead th {\n",
       "        text-align: right;\n",
       "    }\n",
       "</style>\n",
       "<table border=\"1\" class=\"dataframe\">\n",
       "  <thead>\n",
       "    <tr style=\"text-align: right;\">\n",
       "      <th></th>\n",
       "      <th>GUID</th>\n",
       "      <th>ProgramID</th>\n",
       "      <th>ConcertID</th>\n",
       "      <th>EventType</th>\n",
       "      <th>Location</th>\n",
       "      <th>Venue</th>\n",
       "      <th>Date</th>\n",
       "      <th>Time</th>\n",
       "    </tr>\n",
       "  </thead>\n",
       "  <tbody>\n",
       "    <tr>\n",
       "      <th>6608</th>\n",
       "      <td>8ad0bfa4-09b9-4b18-889b-d0c426410cbb</td>\n",
       "      <td>3128</td>\n",
       "      <td>0</td>\n",
       "      <td>Special</td>\n",
       "      <td>Manhattan, NY</td>\n",
       "      <td>Roxy Theatre</td>\n",
       "      <td>1950-09-01T04:00:00+00:00</td>\n",
       "      <td>12:00PM</td>\n",
       "    </tr>\n",
       "    <tr>\n",
       "      <th>6610</th>\n",
       "      <td>1e1114aa-7152-4305-a357-7aac149b8599</td>\n",
       "      <td>3139</td>\n",
       "      <td>0</td>\n",
       "      <td>Special</td>\n",
       "      <td>Manhattan, NY</td>\n",
       "      <td>Roxy Theatre</td>\n",
       "      <td>1950-09-08T04:00:00+00:00</td>\n",
       "      <td>NaN</td>\n",
       "    </tr>\n",
       "    <tr>\n",
       "      <th>6689</th>\n",
       "      <td>b37d1833-3252-41a6-9f3e-fbd596b215b0</td>\n",
       "      <td>10700</td>\n",
       "      <td>0</td>\n",
       "      <td>Special</td>\n",
       "      <td>Manhattan, NY</td>\n",
       "      <td>Roxy Theatre</td>\n",
       "      <td>1951-05-09T04:00:00+00:00</td>\n",
       "      <td>12:40PM</td>\n",
       "    </tr>\n",
       "    <tr>\n",
       "      <th>6691</th>\n",
       "      <td>35fda061-f4c4-423c-a8ab-feb792caee34</td>\n",
       "      <td>10702</td>\n",
       "      <td>0</td>\n",
       "      <td>Special</td>\n",
       "      <td>Manhattan, NY</td>\n",
       "      <td>Roxy Theatre</td>\n",
       "      <td>1951-05-16T04:00:00+00:00</td>\n",
       "      <td>NaN</td>\n",
       "    </tr>\n",
       "    <tr>\n",
       "      <th>15517</th>\n",
       "      <td>8ad0bfa4-09b9-4b18-889b-d0c426410cbb</td>\n",
       "      <td>3128</td>\n",
       "      <td>1</td>\n",
       "      <td>Special</td>\n",
       "      <td>Manhattan, NY</td>\n",
       "      <td>Roxy Theatre</td>\n",
       "      <td>1950-09-01T04:00:00+00:00</td>\n",
       "      <td>NaN</td>\n",
       "    </tr>\n",
       "  </tbody>\n",
       "</table>\n",
       "</div>"
      ],
      "text/plain": [
       "                                       GUID  ProgramID  ConcertID EventType  \\\n",
       "6608   8ad0bfa4-09b9-4b18-889b-d0c426410cbb       3128          0   Special   \n",
       "6610   1e1114aa-7152-4305-a357-7aac149b8599       3139          0   Special   \n",
       "6689   b37d1833-3252-41a6-9f3e-fbd596b215b0      10700          0   Special   \n",
       "6691   35fda061-f4c4-423c-a8ab-feb792caee34      10702          0   Special   \n",
       "15517  8ad0bfa4-09b9-4b18-889b-d0c426410cbb       3128          1   Special   \n",
       "\n",
       "            Location         Venue                       Date     Time  \n",
       "6608   Manhattan, NY  Roxy Theatre  1950-09-01T04:00:00+00:00  12:00PM  \n",
       "6610   Manhattan, NY  Roxy Theatre  1950-09-08T04:00:00+00:00      NaN  \n",
       "6689   Manhattan, NY  Roxy Theatre  1951-05-09T04:00:00+00:00  12:40PM  \n",
       "6691   Manhattan, NY  Roxy Theatre  1951-05-16T04:00:00+00:00      NaN  \n",
       "15517  Manhattan, NY  Roxy Theatre  1950-09-01T04:00:00+00:00      NaN  "
      ]
     },
     "execution_count": 28,
     "metadata": {},
     "output_type": "execute_result"
    }
   ],
   "source": [
    "concerts.groupby('ProgramID').filter(lambda x: x.shape[0] > 15).head()"
   ]
  },
  {
   "cell_type": "markdown",
   "id": "bb7ac67c",
   "metadata": {},
   "source": [
    "It returns a subset of the original dataframe, depending on a function applied to the group as a whole."
   ]
  },
  {
   "cell_type": "markdown",
   "id": "c44fbfb9",
   "metadata": {},
   "source": [
    "### 1.2.4 Method chaining\n",
    "\n",
    "Now we know about some of the most common individual transformations we can use. But how can we combine them?\n",
    "\n",
    "Data transformation is a pipeline, i.e., some sequential transformations, *chained* together.\n",
    "\n",
    "This chaining means that each transformation returns an object that will be consumed by the next one, and so on, in a pre-defined order.\n",
    "\n",
    "As we've seen, a familiar syntax is to declare intermediate variables for each output, used as input to the next function."
   ]
  },
  {
   "cell_type": "markdown",
   "id": "0ecf2daf",
   "metadata": {},
   "source": [
    "As an example, let's define a simple function that creates the subset of a dataframe based on a mask"
   ]
  },
  {
   "cell_type": "code",
   "execution_count": 29,
   "id": "a152297b",
   "metadata": {},
   "outputs": [],
   "source": [
    "def subset(df, mask):\n",
    "    return df[mask]"
   ]
  },
  {
   "cell_type": "code",
   "execution_count": 30,
   "id": "3a95399c",
   "metadata": {},
   "outputs": [
    {
     "data": {
      "text/plain": [
       "ComposerName\n",
       "Traditional,                  640\n",
       "Bach,  Johann  Sebastian      306\n",
       "Mozart,  Wolfgang  Amadeus    242\n",
       "Schubert,  Franz              158\n",
       "Beethoven,  Ludwig  van       144\n",
       "dtype: int64"
      ]
     },
     "execution_count": 30,
     "metadata": {},
     "output_type": "execute_result"
    }
   ],
   "source": [
    "mask = works['Interval'].isnull()\n",
    "df_no_intervals = subset(works,mask)\n",
    "\n",
    "df_exclude_minor_composers = df_no_intervals.groupby('ComposerName').filter(lambda x: x.shape[0] > 10)\n",
    "\n",
    "df_work_related = df_exclude_minor_composers.filter(items=work_related_columns)\n",
    "df_work_related_no_movement = df_work_related.drop(columns='Movement')\n",
    "df_work_related_no_movement_unique = df_work_related_no_movement.drop_duplicates()\n",
    "\n",
    "works_per_composer = df_work_related_no_movement_unique.groupby('ComposerName').size()\n",
    "works_per_composer_sorted = works_per_composer.nlargest()\n",
    "works_per_composer_sorted"
   ]
  },
  {
   "cell_type": "markdown",
   "id": "b3d310cf",
   "metadata": {},
   "source": [
    "These declarations are syntactic sugar: they make it easier to read and express confusing things such as data pipelines. Some downsides:\n",
    "* We need to create an extra variable per intermediate step\n",
    "* Cognitive burden of naming each variable and keeping them in mind\n",
    "* They make the code less fluid\n",
    "* They make it harder to visualize the whole picture of what your program (or Notebook) is doing\n",
    "* They are error-prone and heavily reliant on the state, which is dangerous as we've seen.\n",
    "\n",
    "What if there was an alternative?\n",
    "\n",
    "Method chaining allows invoking multiple method calls chained together in a single statement, each receiving and returning an object.\n",
    "\n",
    "This syntax has always been possible with Pandas, but more and more methods are being added to allow you to:\n",
    "* Receive a dataframe\n",
    "* Return a transformed dataframe."
   ]
  },
  {
   "cell_type": "code",
   "execution_count": 31,
   "id": "149220f3",
   "metadata": {},
   "outputs": [
    {
     "data": {
      "image/png": "[encoded data removed]",
      "text/plain": [
       "<Figure size 640x480 with 1 Axes>"
      ]
     },
     "metadata": {},
     "output_type": "display_data"
    }
   ],
   "source": [
    "no_intervals = works['Interval'].isnull()\n",
    "df_no_intervals = subset(works,mask)\n",
    "\n",
    "df_work_related = df_no_intervals.filter(items=work_related_columns)\n",
    "\n",
    "(df_work_related.groupby('ComposerName').filter(lambda x: x.shape[0] > 10)\n",
    "                .drop(columns='Movement')\n",
    "                .drop_duplicates()\n",
    "                .groupby('ComposerName').size()\n",
    "                .nlargest()\n",
    "                .plot(kind='bar'));"
   ]
  },
  {
   "cell_type": "markdown",
   "id": "48ac2858",
   "metadata": {},
   "source": [
    "Code flows from top to bottom, and the function parameters are always near the function. \n",
    "\n",
    "Also, you eliminate an extra variable for each intermediate step.\n",
    "\n",
    "Now, explicitly naming things is good. Ideally, you want to chain functions that make sense together and encapsulate them in logically."
   ]
  },
  {
   "cell_type": "code",
   "execution_count": 32,
   "id": "014cbd94",
   "metadata": {},
   "outputs": [
    {
     "data": {
      "text/plain": [
       "ComposerName\n",
       "Traditional,                  640\n",
       "Bach,  Johann  Sebastian      306\n",
       "Mozart,  Wolfgang  Amadeus    242\n",
       "Schubert,  Franz              158\n",
       "Beethoven,  Ludwig  van       144\n",
       "dtype: int64"
      ]
     },
     "execution_count": 32,
     "metadata": {},
     "output_type": "execute_result"
    }
   ],
   "source": [
    "def get_top_5_composers(df):\n",
    "    df = df.copy()\n",
    "    \n",
    "    no_intervals = df['Interval'].isnull()\n",
    "    df = subset(df, no_intervals)\n",
    "    \n",
    "    work_related_columns = ['ComposerName', 'WorkTitle', 'Movement']\n",
    "    \n",
    "    df = (df.filter(work_related_columns)\n",
    "            .groupby('ComposerName').filter(lambda x: x.shape[0] > 10)\n",
    "            .drop(columns='Movement')\n",
    "            .drop_duplicates()\n",
    "            .groupby('ComposerName').size()\n",
    "            .nlargest())\n",
    "    return df\n",
    "\n",
    "top_5_composers = get_top_5_composers(works)\n",
    "top_5_composers"
   ]
  },
  {
   "cell_type": "markdown",
   "id": "a5e84e8f",
   "metadata": {},
   "source": [
    "Another drawback to excessively long chains is that debugging is harder, as there are no intermediate values to inspect.\n",
    "\n",
    "**Segregate your code to avoid long chains and keep only together what belongs together.**\n",
    "\n",
    "(In case of doubt, read [The Zen of Python](https://www.python.org/dev/peps/pep-0020/) out loud ten times.)\n",
    "\n",
    "### 1.2.5 Custom methods and pipes\n",
    "\n",
    "Now, for the final trick.\n",
    "\n",
    "The function `subset()` has the exact signature we want, again:\n",
    "* It receives a dataframe\n",
    "* It returns a transformed dataframe.\n",
    "\n",
    "What if Pandas had a way to include such functions in pipelines? Meet [`df.pipe()`](https://pandas.pydata.org/docs/reference/api/pandas.DataFrame.pipe.html)!\n",
    "\n",
    "The method `df.pipe()` allows us to include user-defined functions in method chains (aka pipelines).\n",
    "\n",
    "It works like this."
   ]
  },
  {
   "cell_type": "code",
   "execution_count": 33,
   "id": "355ecd23",
   "metadata": {},
   "outputs": [
    {
     "name": "stderr",
     "output_type": "stream",
     "text": [
      "/var/folders/vr/h0tx7q8j69zgbwswj_d_cxgm0000gp/T/ipykernel_40103/1755469157.py:2: UserWarning: Boolean Series key will be reindexed to match DataFrame index.\n",
      "  return df[mask]\n"
     ]
    },
    {
     "data": {
      "image/png": "[encoded data removed]",
      "text/plain": [
       "<Figure size 640x480 with 1 Axes>"
      ]
     },
     "metadata": {},
     "output_type": "display_data"
    }
   ],
   "source": [
    "(df_work_related.pipe(subset, no_intervals)\n",
    "                .filter(items=work_related_columns)\n",
    "                .groupby('ComposerName').filter(lambda x: x.shape[0] > 10)\n",
    "                .drop(columns='Movement')\n",
    "                .drop_duplicates()\n",
    "                .groupby('ComposerName').size()\n",
    "                .nlargest()\n",
    "                .plot(kind='bar'));"
   ]
  },
  {
   "cell_type": "markdown",
   "id": "07afcad5",
   "metadata": {},
   "source": [
    "So, this should work."
   ]
  },
  {
   "cell_type": "code",
   "execution_count": 34,
   "id": "d0b793b5",
   "metadata": {},
   "outputs": [
    {
     "data": {
      "text/plain": [
       "ComposerName\n",
       "Traditional,                  640\n",
       "Bach,  Johann  Sebastian      306\n",
       "Mozart,  Wolfgang  Amadeus    242\n",
       "Schubert,  Franz              158\n",
       "Beethoven,  Ludwig  van       144\n",
       "dtype: int64"
      ]
     },
     "execution_count": 34,
     "metadata": {},
     "output_type": "execute_result"
    }
   ],
   "source": [
    "def get_top_5_composers(df):\n",
    "    no_intervals = df['Interval'].isnull()\n",
    "    work_related_columns = ['ComposerName', 'WorkTitle', 'Movement']\n",
    "    \n",
    "    df = df.copy()\n",
    "    df = (df.pipe(subset, no_intervals)\n",
    "            .filter(items=work_related_columns)\n",
    "            .groupby('ComposerName').filter(lambda x: x.shape[0] > 10)\n",
    "            .drop(columns='Movement')\n",
    "            .drop_duplicates()\n",
    "            .groupby('ComposerName').size()\n",
    "            .nlargest())\n",
    "    \n",
    "    return df\n",
    "\n",
    "top_5_composers = get_top_5_composers(works)\n",
    "top_5_composers"
   ]
  },
  {
   "cell_type": "markdown",
   "id": "72072ace",
   "metadata": {},
   "source": [
    "And it does!\n",
    "\n",
    "Now, we have all the tools we need to build robust data transformation pipelines in Pandas.\n",
    "\n",
    "In the next Notebook, you will learn how to combine dataframes."
   ]
  },
  {
   "cell_type": "markdown",
   "id": "394d595b",
   "metadata": {},
   "source": [
    "\n",
    "<hr>\n",
    "<h2>Learning notebook - Part 1 of 3 - Data wrangling workflows.ipynb</h2>"
   ]
  },
  {
   "cell_type": "markdown",
   "id": "a691d774",
   "metadata": {},
   "source": [
    "# BLU02 - Learning Notebook - Data wrangling workflows - Part 2 of 3"
   ]
  },
  {
   "cell_type": "code",
   "execution_count": 1,
   "id": "d2264000",
   "metadata": {},
   "outputs": [],
   "source": [
    "import matplotlib.pyplot as plt\n",
    "\n",
    "import pandas as pd\n",
    "import os"
   ]
  },
  {
   "cell_type": "markdown",
   "id": "c0b9b2f4",
   "metadata": {},
   "source": [
    "# 2 Combining dataframes in Pandas\n",
    "\n",
    "## 2.1 How many programs are there per season?\n",
    "\n",
    "How many different programs does the NYP typically present per season?\n",
    "\n",
    "Programs are under `/data/programs/` which contains a file per Season.\n",
    "\n",
    "### Concatenate\n",
    "\n",
    "To analyze how many programs there are per season, over time, we need a single dataframe containing *all* seasons.\n",
    "\n",
    "Concatenation means, in short, to unite multiple dataframes (or series) in one. \n",
    "\n",
    "The `pd.concat()` function performs concatenation operations along an axis (`axis=0` for index and `axis=1` for columns)."
   ]
  },
  {
   "cell_type": "code",
   "execution_count": 2,
   "id": "bc5bb1e0",
   "metadata": {},
   "outputs": [],
   "source": [
    "season_0 = pd.read_csv('./data/programs/1842-43.csv')\n",
    "season_1 = pd.read_csv('./data/programs/1843-44.csv')"
   ]
  },
  {
   "cell_type": "code",
   "execution_count": 3,
   "id": "fb076842",
   "metadata": {},
   "outputs": [
    {
     "data": {
      "text/html": [
       "<div>\n",
       "<style scoped>\n",
       "    .dataframe tbody tr th:only-of-type {\n",
       "        vertical-align: middle;\n",
       "    }\n",
       "\n",
       "    .dataframe tbody tr th {\n",
       "        vertical-align: top;\n",
       "    }\n",
       "\n",
       "    .dataframe thead th {\n",
       "        text-align: right;\n",
       "    }\n",
       "</style>\n",
       "<table border=\"1\" class=\"dataframe\">\n",
       "  <thead>\n",
       "    <tr style=\"text-align: right;\">\n",
       "      <th></th>\n",
       "      <th>GUID</th>\n",
       "      <th>ProgramID</th>\n",
       "      <th>Orchestra</th>\n",
       "      <th>Season</th>\n",
       "    </tr>\n",
       "  </thead>\n",
       "  <tbody>\n",
       "    <tr>\n",
       "      <th>0</th>\n",
       "      <td>38e072a7-8fc9-4f9a-8eac-3957905c0002</td>\n",
       "      <td>3853</td>\n",
       "      <td>New York Philharmonic</td>\n",
       "      <td>1842-43</td>\n",
       "    </tr>\n",
       "    <tr>\n",
       "      <th>1</th>\n",
       "      <td>c7b2b95c-5e0b-431c-a340-5b37fc860b34</td>\n",
       "      <td>5178</td>\n",
       "      <td>New York Philharmonic</td>\n",
       "      <td>1842-43</td>\n",
       "    </tr>\n",
       "    <tr>\n",
       "      <th>2</th>\n",
       "      <td>894e1a52-1ae5-4fa7-aec0-b99997555a37</td>\n",
       "      <td>10785</td>\n",
       "      <td>Musicians from the New York Philharmonic</td>\n",
       "      <td>1842-43</td>\n",
       "    </tr>\n",
       "    <tr>\n",
       "      <th>3</th>\n",
       "      <td>34ec2c2b-3297-4716-9831-b538310462b7</td>\n",
       "      <td>5887</td>\n",
       "      <td>New York Philharmonic</td>\n",
       "      <td>1842-43</td>\n",
       "    </tr>\n",
       "  </tbody>\n",
       "</table>\n",
       "</div>"
      ],
      "text/plain": [
       "                                   GUID  ProgramID  \\\n",
       "0  38e072a7-8fc9-4f9a-8eac-3957905c0002       3853   \n",
       "1  c7b2b95c-5e0b-431c-a340-5b37fc860b34       5178   \n",
       "2  894e1a52-1ae5-4fa7-aec0-b99997555a37      10785   \n",
       "3  34ec2c2b-3297-4716-9831-b538310462b7       5887   \n",
       "\n",
       "                                  Orchestra   Season  \n",
       "0                     New York Philharmonic  1842-43  \n",
       "1                     New York Philharmonic  1842-43  \n",
       "2  Musicians from the New York Philharmonic  1842-43  \n",
       "3                     New York Philharmonic  1842-43  "
      ]
     },
     "execution_count": 3,
     "metadata": {},
     "output_type": "execute_result"
    }
   ],
   "source": [
    "season_0"
   ]
  },
  {
   "cell_type": "code",
   "execution_count": 4,
   "id": "4fe34792",
   "metadata": {},
   "outputs": [
    {
     "data": {
      "text/html": [
       "<div>\n",
       "<style scoped>\n",
       "    .dataframe tbody tr th:only-of-type {\n",
       "        vertical-align: middle;\n",
       "    }\n",
       "\n",
       "    .dataframe tbody tr th {\n",
       "        vertical-align: top;\n",
       "    }\n",
       "\n",
       "    .dataframe thead th {\n",
       "        text-align: right;\n",
       "    }\n",
       "</style>\n",
       "<table border=\"1\" class=\"dataframe\">\n",
       "  <thead>\n",
       "    <tr style=\"text-align: right;\">\n",
       "      <th></th>\n",
       "      <th>GUID</th>\n",
       "      <th>ProgramID</th>\n",
       "      <th>Orchestra</th>\n",
       "      <th>Season</th>\n",
       "    </tr>\n",
       "  </thead>\n",
       "  <tbody>\n",
       "    <tr>\n",
       "      <th>0</th>\n",
       "      <td>610a4acc-94e4-4cd6-bdc1-8ad020edc7e9</td>\n",
       "      <td>305</td>\n",
       "      <td>New York Philharmonic</td>\n",
       "      <td>1843-44</td>\n",
       "    </tr>\n",
       "    <tr>\n",
       "      <th>1</th>\n",
       "      <td>47b6e9e8-3b18-49ea-ae2a-b9b0ca18902c</td>\n",
       "      <td>3368</td>\n",
       "      <td>New York Philharmonic</td>\n",
       "      <td>1843-44</td>\n",
       "    </tr>\n",
       "    <tr>\n",
       "      <th>2</th>\n",
       "      <td>5e533e4f-d4ac-4aaa-b8d2-e189f6806655</td>\n",
       "      <td>4226</td>\n",
       "      <td>New York Philharmonic</td>\n",
       "      <td>1843-44</td>\n",
       "    </tr>\n",
       "    <tr>\n",
       "      <th>3</th>\n",
       "      <td>7550f75e-5c0c-4519-9196-05a6c4e2612c</td>\n",
       "      <td>5087</td>\n",
       "      <td>New York Philharmonic</td>\n",
       "      <td>1843-44</td>\n",
       "    </tr>\n",
       "  </tbody>\n",
       "</table>\n",
       "</div>"
      ],
      "text/plain": [
       "                                   GUID  ProgramID              Orchestra  \\\n",
       "0  610a4acc-94e4-4cd6-bdc1-8ad020edc7e9        305  New York Philharmonic   \n",
       "1  47b6e9e8-3b18-49ea-ae2a-b9b0ca18902c       3368  New York Philharmonic   \n",
       "2  5e533e4f-d4ac-4aaa-b8d2-e189f6806655       4226  New York Philharmonic   \n",
       "3  7550f75e-5c0c-4519-9196-05a6c4e2612c       5087  New York Philharmonic   \n",
       "\n",
       "    Season  \n",
       "0  1843-44  \n",
       "1  1843-44  \n",
       "2  1843-44  \n",
       "3  1843-44  "
      ]
     },
     "execution_count": 4,
     "metadata": {},
     "output_type": "execute_result"
    }
   ],
   "source": [
    "season_1"
   ]
  },
  {
   "cell_type": "code",
   "execution_count": 5,
   "id": "ca56d1ab",
   "metadata": {},
   "outputs": [
    {
     "data": {
      "text/html": [
       "<div>\n",
       "<style scoped>\n",
       "    .dataframe tbody tr th:only-of-type {\n",
       "        vertical-align: middle;\n",
       "    }\n",
       "\n",
       "    .dataframe tbody tr th {\n",
       "        vertical-align: top;\n",
       "    }\n",
       "\n",
       "    .dataframe thead th {\n",
       "        text-align: right;\n",
       "    }\n",
       "</style>\n",
       "<table border=\"1\" class=\"dataframe\">\n",
       "  <thead>\n",
       "    <tr style=\"text-align: right;\">\n",
       "      <th></th>\n",
       "      <th>GUID</th>\n",
       "      <th>ProgramID</th>\n",
       "      <th>Orchestra</th>\n",
       "      <th>Season</th>\n",
       "      <th>GUID</th>\n",
       "      <th>ProgramID</th>\n",
       "      <th>Orchestra</th>\n",
       "      <th>Season</th>\n",
       "    </tr>\n",
       "  </thead>\n",
       "  <tbody>\n",
       "    <tr>\n",
       "      <th>0</th>\n",
       "      <td>38e072a7-8fc9-4f9a-8eac-3957905c0002</td>\n",
       "      <td>3853</td>\n",
       "      <td>New York Philharmonic</td>\n",
       "      <td>1842-43</td>\n",
       "      <td>610a4acc-94e4-4cd6-bdc1-8ad020edc7e9</td>\n",
       "      <td>305</td>\n",
       "      <td>New York Philharmonic</td>\n",
       "      <td>1843-44</td>\n",
       "    </tr>\n",
       "    <tr>\n",
       "      <th>1</th>\n",
       "      <td>c7b2b95c-5e0b-431c-a340-5b37fc860b34</td>\n",
       "      <td>5178</td>\n",
       "      <td>New York Philharmonic</td>\n",
       "      <td>1842-43</td>\n",
       "      <td>47b6e9e8-3b18-49ea-ae2a-b9b0ca18902c</td>\n",
       "      <td>3368</td>\n",
       "      <td>New York Philharmonic</td>\n",
       "      <td>1843-44</td>\n",
       "    </tr>\n",
       "    <tr>\n",
       "      <th>2</th>\n",
       "      <td>894e1a52-1ae5-4fa7-aec0-b99997555a37</td>\n",
       "      <td>10785</td>\n",
       "      <td>Musicians from the New York Philharmonic</td>\n",
       "      <td>1842-43</td>\n",
       "      <td>5e533e4f-d4ac-4aaa-b8d2-e189f6806655</td>\n",
       "      <td>4226</td>\n",
       "      <td>New York Philharmonic</td>\n",
       "      <td>1843-44</td>\n",
       "    </tr>\n",
       "    <tr>\n",
       "      <th>3</th>\n",
       "      <td>34ec2c2b-3297-4716-9831-b538310462b7</td>\n",
       "      <td>5887</td>\n",
       "      <td>New York Philharmonic</td>\n",
       "      <td>1842-43</td>\n",
       "      <td>7550f75e-5c0c-4519-9196-05a6c4e2612c</td>\n",
       "      <td>5087</td>\n",
       "      <td>New York Philharmonic</td>\n",
       "      <td>1843-44</td>\n",
       "    </tr>\n",
       "  </tbody>\n",
       "</table>\n",
       "</div>"
      ],
      "text/plain": [
       "                                   GUID  ProgramID  \\\n",
       "0  38e072a7-8fc9-4f9a-8eac-3957905c0002       3853   \n",
       "1  c7b2b95c-5e0b-431c-a340-5b37fc860b34       5178   \n",
       "2  894e1a52-1ae5-4fa7-aec0-b99997555a37      10785   \n",
       "3  34ec2c2b-3297-4716-9831-b538310462b7       5887   \n",
       "\n",
       "                                  Orchestra   Season  \\\n",
       "0                     New York Philharmonic  1842-43   \n",
       "1                     New York Philharmonic  1842-43   \n",
       "2  Musicians from the New York Philharmonic  1842-43   \n",
       "3                     New York Philharmonic  1842-43   \n",
       "\n",
       "                                   GUID  ProgramID              Orchestra  \\\n",
       "0  610a4acc-94e4-4cd6-bdc1-8ad020edc7e9        305  New York Philharmonic   \n",
       "1  47b6e9e8-3b18-49ea-ae2a-b9b0ca18902c       3368  New York Philharmonic   \n",
       "2  5e533e4f-d4ac-4aaa-b8d2-e189f6806655       4226  New York Philharmonic   \n",
       "3  7550f75e-5c0c-4519-9196-05a6c4e2612c       5087  New York Philharmonic   \n",
       "\n",
       "    Season  \n",
       "0  1843-44  \n",
       "1  1843-44  \n",
       "2  1843-44  \n",
       "3  1843-44  "
      ]
     },
     "execution_count": 5,
     "metadata": {},
     "output_type": "execute_result"
    }
   ],
   "source": [
    "seasons = [season_0, season_1]\n",
    "pd.concat(seasons, axis=1)"
   ]
  },
  {
   "cell_type": "markdown",
   "id": "b44654b7",
   "metadata": {},
   "source": [
    "Concatenating like this makes no sense, as we no longer have a single observation per row.\n",
    "\n",
    "What we want to do instead is to concatenate the dataframe along the index."
   ]
  },
  {
   "cell_type": "code",
   "execution_count": 6,
   "id": "39b0b286",
   "metadata": {},
   "outputs": [
    {
     "data": {
      "text/html": [
       "<div>\n",
       "<style scoped>\n",
       "    .dataframe tbody tr th:only-of-type {\n",
       "        vertical-align: middle;\n",
       "    }\n",
       "\n",
       "    .dataframe tbody tr th {\n",
       "        vertical-align: top;\n",
       "    }\n",
       "\n",
       "    .dataframe thead th {\n",
       "        text-align: right;\n",
       "    }\n",
       "</style>\n",
       "<table border=\"1\" class=\"dataframe\">\n",
       "  <thead>\n",
       "    <tr style=\"text-align: right;\">\n",
       "      <th></th>\n",
       "      <th>GUID</th>\n",
       "      <th>ProgramID</th>\n",
       "      <th>Orchestra</th>\n",
       "      <th>Season</th>\n",
       "    </tr>\n",
       "  </thead>\n",
       "  <tbody>\n",
       "    <tr>\n",
       "      <th>0</th>\n",
       "      <td>38e072a7-8fc9-4f9a-8eac-3957905c0002</td>\n",
       "      <td>3853</td>\n",
       "      <td>New York Philharmonic</td>\n",
       "      <td>1842-43</td>\n",
       "    </tr>\n",
       "    <tr>\n",
       "      <th>1</th>\n",
       "      <td>c7b2b95c-5e0b-431c-a340-5b37fc860b34</td>\n",
       "      <td>5178</td>\n",
       "      <td>New York Philharmonic</td>\n",
       "      <td>1842-43</td>\n",
       "    </tr>\n",
       "    <tr>\n",
       "      <th>2</th>\n",
       "      <td>894e1a52-1ae5-4fa7-aec0-b99997555a37</td>\n",
       "      <td>10785</td>\n",
       "      <td>Musicians from the New York Philharmonic</td>\n",
       "      <td>1842-43</td>\n",
       "    </tr>\n",
       "    <tr>\n",
       "      <th>3</th>\n",
       "      <td>34ec2c2b-3297-4716-9831-b538310462b7</td>\n",
       "      <td>5887</td>\n",
       "      <td>New York Philharmonic</td>\n",
       "      <td>1842-43</td>\n",
       "    </tr>\n",
       "    <tr>\n",
       "      <th>0</th>\n",
       "      <td>610a4acc-94e4-4cd6-bdc1-8ad020edc7e9</td>\n",
       "      <td>305</td>\n",
       "      <td>New York Philharmonic</td>\n",
       "      <td>1843-44</td>\n",
       "    </tr>\n",
       "    <tr>\n",
       "      <th>1</th>\n",
       "      <td>47b6e9e8-3b18-49ea-ae2a-b9b0ca18902c</td>\n",
       "      <td>3368</td>\n",
       "      <td>New York Philharmonic</td>\n",
       "      <td>1843-44</td>\n",
       "    </tr>\n",
       "    <tr>\n",
       "      <th>2</th>\n",
       "      <td>5e533e4f-d4ac-4aaa-b8d2-e189f6806655</td>\n",
       "      <td>4226</td>\n",
       "      <td>New York Philharmonic</td>\n",
       "      <td>1843-44</td>\n",
       "    </tr>\n",
       "    <tr>\n",
       "      <th>3</th>\n",
       "      <td>7550f75e-5c0c-4519-9196-05a6c4e2612c</td>\n",
       "      <td>5087</td>\n",
       "      <td>New York Philharmonic</td>\n",
       "      <td>1843-44</td>\n",
       "    </tr>\n",
       "  </tbody>\n",
       "</table>\n",
       "</div>"
      ],
      "text/plain": [
       "                                   GUID  ProgramID  \\\n",
       "0  38e072a7-8fc9-4f9a-8eac-3957905c0002       3853   \n",
       "1  c7b2b95c-5e0b-431c-a340-5b37fc860b34       5178   \n",
       "2  894e1a52-1ae5-4fa7-aec0-b99997555a37      10785   \n",
       "3  34ec2c2b-3297-4716-9831-b538310462b7       5887   \n",
       "0  610a4acc-94e4-4cd6-bdc1-8ad020edc7e9        305   \n",
       "1  47b6e9e8-3b18-49ea-ae2a-b9b0ca18902c       3368   \n",
       "2  5e533e4f-d4ac-4aaa-b8d2-e189f6806655       4226   \n",
       "3  7550f75e-5c0c-4519-9196-05a6c4e2612c       5087   \n",
       "\n",
       "                                  Orchestra   Season  \n",
       "0                     New York Philharmonic  1842-43  \n",
       "1                     New York Philharmonic  1842-43  \n",
       "2  Musicians from the New York Philharmonic  1842-43  \n",
       "3                     New York Philharmonic  1842-43  \n",
       "0                     New York Philharmonic  1843-44  \n",
       "1                     New York Philharmonic  1843-44  \n",
       "2                     New York Philharmonic  1843-44  \n",
       "3                     New York Philharmonic  1843-44  "
      ]
     },
     "execution_count": 6,
     "metadata": {},
     "output_type": "execute_result"
    }
   ],
   "source": [
    "pd.concat(seasons, axis=0)"
   ]
  },
  {
   "cell_type": "markdown",
   "id": "ef42a316",
   "metadata": {},
   "source": [
    "This dataframe looks better, but there's something weird with the index: it's not unique anymore.\n",
    "\n",
    "Different observations share the same index. Not cool.\n",
    "\n",
    "For dataframes that don't have a meaningful index, you may wish to ignore the indexes altogether."
   ]
  },
  {
   "cell_type": "code",
   "execution_count": 7,
   "id": "ab5f314f",
   "metadata": {},
   "outputs": [
    {
     "data": {
      "text/html": [
       "<div>\n",
       "<style scoped>\n",
       "    .dataframe tbody tr th:only-of-type {\n",
       "        vertical-align: middle;\n",
       "    }\n",
       "\n",
       "    .dataframe tbody tr th {\n",
       "        vertical-align: top;\n",
       "    }\n",
       "\n",
       "    .dataframe thead th {\n",
       "        text-align: right;\n",
       "    }\n",
       "</style>\n",
       "<table border=\"1\" class=\"dataframe\">\n",
       "  <thead>\n",
       "    <tr style=\"text-align: right;\">\n",
       "      <th></th>\n",
       "      <th>GUID</th>\n",
       "      <th>ProgramID</th>\n",
       "      <th>Orchestra</th>\n",
       "      <th>Season</th>\n",
       "    </tr>\n",
       "  </thead>\n",
       "  <tbody>\n",
       "    <tr>\n",
       "      <th>0</th>\n",
       "      <td>38e072a7-8fc9-4f9a-8eac-3957905c0002</td>\n",
       "      <td>3853</td>\n",
       "      <td>New York Philharmonic</td>\n",
       "      <td>1842-43</td>\n",
       "    </tr>\n",
       "    <tr>\n",
       "      <th>1</th>\n",
       "      <td>c7b2b95c-5e0b-431c-a340-5b37fc860b34</td>\n",
       "      <td>5178</td>\n",
       "      <td>New York Philharmonic</td>\n",
       "      <td>1842-43</td>\n",
       "    </tr>\n",
       "    <tr>\n",
       "      <th>2</th>\n",
       "      <td>894e1a52-1ae5-4fa7-aec0-b99997555a37</td>\n",
       "      <td>10785</td>\n",
       "      <td>Musicians from the New York Philharmonic</td>\n",
       "      <td>1842-43</td>\n",
       "    </tr>\n",
       "    <tr>\n",
       "      <th>3</th>\n",
       "      <td>34ec2c2b-3297-4716-9831-b538310462b7</td>\n",
       "      <td>5887</td>\n",
       "      <td>New York Philharmonic</td>\n",
       "      <td>1842-43</td>\n",
       "    </tr>\n",
       "    <tr>\n",
       "      <th>4</th>\n",
       "      <td>610a4acc-94e4-4cd6-bdc1-8ad020edc7e9</td>\n",
       "      <td>305</td>\n",
       "      <td>New York Philharmonic</td>\n",
       "      <td>1843-44</td>\n",
       "    </tr>\n",
       "    <tr>\n",
       "      <th>5</th>\n",
       "      <td>47b6e9e8-3b18-49ea-ae2a-b9b0ca18902c</td>\n",
       "      <td>3368</td>\n",
       "      <td>New York Philharmonic</td>\n",
       "      <td>1843-44</td>\n",
       "    </tr>\n",
       "    <tr>\n",
       "      <th>6</th>\n",
       "      <td>5e533e4f-d4ac-4aaa-b8d2-e189f6806655</td>\n",
       "      <td>4226</td>\n",
       "      <td>New York Philharmonic</td>\n",
       "      <td>1843-44</td>\n",
       "    </tr>\n",
       "    <tr>\n",
       "      <th>7</th>\n",
       "      <td>7550f75e-5c0c-4519-9196-05a6c4e2612c</td>\n",
       "      <td>5087</td>\n",
       "      <td>New York Philharmonic</td>\n",
       "      <td>1843-44</td>\n",
       "    </tr>\n",
       "  </tbody>\n",
       "</table>\n",
       "</div>"
      ],
      "text/plain": [
       "                                   GUID  ProgramID  \\\n",
       "0  38e072a7-8fc9-4f9a-8eac-3957905c0002       3853   \n",
       "1  c7b2b95c-5e0b-431c-a340-5b37fc860b34       5178   \n",
       "2  894e1a52-1ae5-4fa7-aec0-b99997555a37      10785   \n",
       "3  34ec2c2b-3297-4716-9831-b538310462b7       5887   \n",
       "4  610a4acc-94e4-4cd6-bdc1-8ad020edc7e9        305   \n",
       "5  47b6e9e8-3b18-49ea-ae2a-b9b0ca18902c       3368   \n",
       "6  5e533e4f-d4ac-4aaa-b8d2-e189f6806655       4226   \n",
       "7  7550f75e-5c0c-4519-9196-05a6c4e2612c       5087   \n",
       "\n",
       "                                  Orchestra   Season  \n",
       "0                     New York Philharmonic  1842-43  \n",
       "1                     New York Philharmonic  1842-43  \n",
       "2  Musicians from the New York Philharmonic  1842-43  \n",
       "3                     New York Philharmonic  1842-43  \n",
       "4                     New York Philharmonic  1843-44  \n",
       "5                     New York Philharmonic  1843-44  \n",
       "6                     New York Philharmonic  1843-44  \n",
       "7                     New York Philharmonic  1843-44  "
      ]
     },
     "execution_count": 7,
     "metadata": {},
     "output_type": "execute_result"
    }
   ],
   "source": [
    "pd.concat(seasons, axis=0, ignore_index=True)"
   ]
  },
  {
   "cell_type": "markdown",
   "id": "a025e420",
   "metadata": {},
   "source": [
    "Now, let's try something different. \n",
    "\n",
    "Let's try to change the name of the columns, so that each dataframe has different ones, before concatenating."
   ]
  },
  {
   "cell_type": "code",
   "execution_count": 8,
   "id": "8b69fb55",
   "metadata": {},
   "outputs": [
    {
     "data": {
      "text/html": [
       "<div>\n",
       "<style scoped>\n",
       "    .dataframe tbody tr th:only-of-type {\n",
       "        vertical-align: middle;\n",
       "    }\n",
       "\n",
       "    .dataframe tbody tr th {\n",
       "        vertical-align: top;\n",
       "    }\n",
       "\n",
       "    .dataframe thead th {\n",
       "        text-align: right;\n",
       "    }\n",
       "</style>\n",
       "<table border=\"1\" class=\"dataframe\">\n",
       "  <thead>\n",
       "    <tr style=\"text-align: right;\">\n",
       "      <th></th>\n",
       "      <th>0</th>\n",
       "      <th>1</th>\n",
       "      <th>2</th>\n",
       "      <th>Season</th>\n",
       "      <th>GUID</th>\n",
       "      <th>ProgramID</th>\n",
       "      <th>Orchestra</th>\n",
       "    </tr>\n",
       "  </thead>\n",
       "  <tbody>\n",
       "    <tr>\n",
       "      <th>0</th>\n",
       "      <td>38e072a7-8fc9-4f9a-8eac-3957905c0002</td>\n",
       "      <td>3853.0</td>\n",
       "      <td>New York Philharmonic</td>\n",
       "      <td>1842-43</td>\n",
       "      <td>NaN</td>\n",
       "      <td>NaN</td>\n",
       "      <td>NaN</td>\n",
       "    </tr>\n",
       "    <tr>\n",
       "      <th>1</th>\n",
       "      <td>c7b2b95c-5e0b-431c-a340-5b37fc860b34</td>\n",
       "      <td>5178.0</td>\n",
       "      <td>New York Philharmonic</td>\n",
       "      <td>1842-43</td>\n",
       "      <td>NaN</td>\n",
       "      <td>NaN</td>\n",
       "      <td>NaN</td>\n",
       "    </tr>\n",
       "    <tr>\n",
       "      <th>2</th>\n",
       "      <td>894e1a52-1ae5-4fa7-aec0-b99997555a37</td>\n",
       "      <td>10785.0</td>\n",
       "      <td>Musicians from the New York Philharmonic</td>\n",
       "      <td>1842-43</td>\n",
       "      <td>NaN</td>\n",
       "      <td>NaN</td>\n",
       "      <td>NaN</td>\n",
       "    </tr>\n",
       "    <tr>\n",
       "      <th>3</th>\n",
       "      <td>34ec2c2b-3297-4716-9831-b538310462b7</td>\n",
       "      <td>5887.0</td>\n",
       "      <td>New York Philharmonic</td>\n",
       "      <td>1842-43</td>\n",
       "      <td>NaN</td>\n",
       "      <td>NaN</td>\n",
       "      <td>NaN</td>\n",
       "    </tr>\n",
       "    <tr>\n",
       "      <th>0</th>\n",
       "      <td>NaN</td>\n",
       "      <td>NaN</td>\n",
       "      <td>NaN</td>\n",
       "      <td>1843-44</td>\n",
       "      <td>610a4acc-94e4-4cd6-bdc1-8ad020edc7e9</td>\n",
       "      <td>305.0</td>\n",
       "      <td>New York Philharmonic</td>\n",
       "    </tr>\n",
       "    <tr>\n",
       "      <th>1</th>\n",
       "      <td>NaN</td>\n",
       "      <td>NaN</td>\n",
       "      <td>NaN</td>\n",
       "      <td>1843-44</td>\n",
       "      <td>47b6e9e8-3b18-49ea-ae2a-b9b0ca18902c</td>\n",
       "      <td>3368.0</td>\n",
       "      <td>New York Philharmonic</td>\n",
       "    </tr>\n",
       "    <tr>\n",
       "      <th>2</th>\n",
       "      <td>NaN</td>\n",
       "      <td>NaN</td>\n",
       "      <td>NaN</td>\n",
       "      <td>1843-44</td>\n",
       "      <td>5e533e4f-d4ac-4aaa-b8d2-e189f6806655</td>\n",
       "      <td>4226.0</td>\n",
       "      <td>New York Philharmonic</td>\n",
       "    </tr>\n",
       "    <tr>\n",
       "      <th>3</th>\n",
       "      <td>NaN</td>\n",
       "      <td>NaN</td>\n",
       "      <td>NaN</td>\n",
       "      <td>1843-44</td>\n",
       "      <td>7550f75e-5c0c-4519-9196-05a6c4e2612c</td>\n",
       "      <td>5087.0</td>\n",
       "      <td>New York Philharmonic</td>\n",
       "    </tr>\n",
       "  </tbody>\n",
       "</table>\n",
       "</div>"
      ],
      "text/plain": [
       "                                      0        1  \\\n",
       "0  38e072a7-8fc9-4f9a-8eac-3957905c0002   3853.0   \n",
       "1  c7b2b95c-5e0b-431c-a340-5b37fc860b34   5178.0   \n",
       "2  894e1a52-1ae5-4fa7-aec0-b99997555a37  10785.0   \n",
       "3  34ec2c2b-3297-4716-9831-b538310462b7   5887.0   \n",
       "0                                   NaN      NaN   \n",
       "1                                   NaN      NaN   \n",
       "2                                   NaN      NaN   \n",
       "3                                   NaN      NaN   \n",
       "\n",
       "                                          2   Season  \\\n",
       "0                     New York Philharmonic  1842-43   \n",
       "1                     New York Philharmonic  1842-43   \n",
       "2  Musicians from the New York Philharmonic  1842-43   \n",
       "3                     New York Philharmonic  1842-43   \n",
       "0                                       NaN  1843-44   \n",
       "1                                       NaN  1843-44   \n",
       "2                                       NaN  1843-44   \n",
       "3                                       NaN  1843-44   \n",
       "\n",
       "                                   GUID  ProgramID              Orchestra  \n",
       "0                                   NaN        NaN                    NaN  \n",
       "1                                   NaN        NaN                    NaN  \n",
       "2                                   NaN        NaN                    NaN  \n",
       "3                                   NaN        NaN                    NaN  \n",
       "0  610a4acc-94e4-4cd6-bdc1-8ad020edc7e9      305.0  New York Philharmonic  \n",
       "1  47b6e9e8-3b18-49ea-ae2a-b9b0ca18902c     3368.0  New York Philharmonic  \n",
       "2  5e533e4f-d4ac-4aaa-b8d2-e189f6806655     4226.0  New York Philharmonic  \n",
       "3  7550f75e-5c0c-4519-9196-05a6c4e2612c     5087.0  New York Philharmonic  "
      ]
     },
     "execution_count": 8,
     "metadata": {},
     "output_type": "execute_result"
    }
   ],
   "source": [
    "season_0_ = season_0.copy()\n",
    "season_0_.columns = [0, 1, 2, 'Season']\n",
    "seasons_ = [season_0_, season_1]\n",
    "pd.concat(seasons_, axis=0)"
   ]
  },
  {
   "cell_type": "markdown",
   "id": "60fc7803",
   "metadata": {},
   "source": [
    "What a mess! What did we learn?\n",
    "\n",
    "* When the dataframes have different columns, `pd.concat()` will take the union of all dataframes by default (no information loss)\n",
    "* Concatenation will fill columns that are not present for specific dataframes with `np.NaN` (missing values).\n",
    "\n",
    "The good news is that you can set how you want to glue the dataframes in regards to the other axis, the one not being concatenated. \n",
    "\n",
    "Setting `join='inner'` will take the intersection, i.e., the columns that are present in all dataframes."
   ]
  },
  {
   "cell_type": "code",
   "execution_count": 9,
   "id": "1ef2d659",
   "metadata": {},
   "outputs": [
    {
     "data": {
      "text/html": [
       "<div>\n",
       "<style scoped>\n",
       "    .dataframe tbody tr th:only-of-type {\n",
       "        vertical-align: middle;\n",
       "    }\n",
       "\n",
       "    .dataframe tbody tr th {\n",
       "        vertical-align: top;\n",
       "    }\n",
       "\n",
       "    .dataframe thead th {\n",
       "        text-align: right;\n",
       "    }\n",
       "</style>\n",
       "<table border=\"1\" class=\"dataframe\">\n",
       "  <thead>\n",
       "    <tr style=\"text-align: right;\">\n",
       "      <th></th>\n",
       "      <th>Season</th>\n",
       "    </tr>\n",
       "  </thead>\n",
       "  <tbody>\n",
       "    <tr>\n",
       "      <th>0</th>\n",
       "      <td>1842-43</td>\n",
       "    </tr>\n",
       "    <tr>\n",
       "      <th>1</th>\n",
       "      <td>1842-43</td>\n",
       "    </tr>\n",
       "    <tr>\n",
       "      <th>2</th>\n",
       "      <td>1842-43</td>\n",
       "    </tr>\n",
       "    <tr>\n",
       "      <th>3</th>\n",
       "      <td>1842-43</td>\n",
       "    </tr>\n",
       "    <tr>\n",
       "      <th>0</th>\n",
       "      <td>1843-44</td>\n",
       "    </tr>\n",
       "    <tr>\n",
       "      <th>1</th>\n",
       "      <td>1843-44</td>\n",
       "    </tr>\n",
       "    <tr>\n",
       "      <th>2</th>\n",
       "      <td>1843-44</td>\n",
       "    </tr>\n",
       "    <tr>\n",
       "      <th>3</th>\n",
       "      <td>1843-44</td>\n",
       "    </tr>\n",
       "  </tbody>\n",
       "</table>\n",
       "</div>"
      ],
      "text/plain": [
       "    Season\n",
       "0  1842-43\n",
       "1  1842-43\n",
       "2  1842-43\n",
       "3  1842-43\n",
       "0  1843-44\n",
       "1  1843-44\n",
       "2  1843-44\n",
       "3  1843-44"
      ]
     },
     "execution_count": 9,
     "metadata": {},
     "output_type": "execute_result"
    }
   ],
   "source": [
    "pd.concat(seasons_, axis=0, join='inner')"
   ]
  },
  {
   "cell_type": "markdown",
   "id": "ef582338",
   "metadata": {},
   "source": [
    "There you go. Concatenation complete."
   ]
  },
  {
   "cell_type": "markdown",
   "id": "ebc3e0ec",
   "metadata": {},
   "source": [
    "Let's use `pd.concat` to combine all seasons into a great dataframe."
   ]
  },
  {
   "cell_type": "code",
   "execution_count": 10,
   "id": "841009f2",
   "metadata": {},
   "outputs": [],
   "source": [
    "def read_season(file):\n",
    "    path = os.path.join('.', 'data', 'programs', file)\n",
    "    return pd.read_csv(path)\n",
    "\n",
    "files = os.listdir('./data/programs/')\n",
    "files = [f for f in files if '.csv' in f]"
   ]
  },
  {
   "cell_type": "markdown",
   "id": "2c632727",
   "metadata": {},
   "source": [
    "A logical approach would be to iterate over all files and concatenating all of them into a single dataframe."
   ]
  },
  {
   "cell_type": "code",
   "execution_count": 11,
   "id": "9829e3c0",
   "metadata": {},
   "outputs": [
    {
     "name": "stdout",
     "output_type": "stream",
     "text": [
      "244 ms ± 8.48 ms per loop (mean ± std. dev. of 7 runs, 1 loop each)\n"
     ]
    }
   ],
   "source": [
    "%%timeit\n",
    "\n",
    "programs = pd.DataFrame()\n",
    "for file in files:\n",
    "    season = read_season(file)\n",
    "    programs = pd.concat([programs, season], ignore_index=True, axis=0)"
   ]
  },
  {
   "cell_type": "markdown",
   "id": "20a0b1f5",
   "metadata": {},
   "source": [
    "It is worth nothing that `pd.concat()` makes a full copy of the data, and continually reusing this function can create a significant performance hit. \n",
    "\n",
    "Instead, use a list comprehension if you need to use the operation several times. \n",
    "\n",
    "This way, you only call `pd.concat()` once."
   ]
  },
  {
   "cell_type": "code",
   "execution_count": 12,
   "id": "084cda32",
   "metadata": {},
   "outputs": [
    {
     "name": "stdout",
     "output_type": "stream",
     "text": [
      "171 ms ± 2.02 ms per loop (mean ± std. dev. of 7 runs, 10 loops each)\n"
     ]
    }
   ],
   "source": [
    "%%timeit\n",
    "\n",
    "seasons = [read_season(f) for f in files if '.csv' in f]\n",
    "programs = pd.concat(seasons, axis=0, ignore_index=True)"
   ]
  },
  {
   "cell_type": "code",
   "execution_count": 13,
   "id": "6564f80b",
   "metadata": {},
   "outputs": [],
   "source": [
    "seasons = [read_season(f) for f in files if '.csv' in f]\n",
    "programs = pd.concat(seasons, axis=0, ignore_index=True)"
   ]
  },
  {
   "cell_type": "markdown",
   "id": "66807f4e",
   "metadata": {},
   "source": [
    "Now that we have the final `programs` dataframe, we can see how the number of distinct programs changes over time."
   ]
  },
  {
   "cell_type": "code",
   "execution_count": 14,
   "id": "d688e5d3",
   "metadata": {},
   "outputs": [
    {
     "data": {
      "image/png": "[encoded data removed]",
      "text/plain": [
       "<Figure size 1000x700 with 1 Axes>"
      ]
     },
     "metadata": {},
     "output_type": "display_data"
    }
   ],
   "source": [
    "programs['Season'] = pd.to_datetime(programs['Season'].str[:4])\n",
    "\n",
    "(programs.groupby('Season')\n",
    "         .size()\n",
    "         .plot(legend=False, use_index=True, figsize=(10, 7),\n",
    "               title='Number of programs per season (from 1842-43 to 2016-17)'));"
   ]
  },
  {
   "cell_type": "markdown",
   "id": "c84edb1b",
   "metadata": {},
   "source": [
    "The NYP appears to be investing in increasing the number of distinct programs per season since '95. "
   ]
  },
  {
   "cell_type": "markdown",
   "id": "1035ac22",
   "metadata": {},
   "source": [
    "## 2.2 How many concerts are there per season?\n",
    "\n",
    "What about the number of concerts? The first thing we need to do is to import the `concerts.csv` data."
   ]
  },
  {
   "cell_type": "code",
   "execution_count": 15,
   "id": "eca0909d",
   "metadata": {},
   "outputs": [
    {
     "data": {
      "text/html": [
       "<div>\n",
       "<style scoped>\n",
       "    .dataframe tbody tr th:only-of-type {\n",
       "        vertical-align: middle;\n",
       "    }\n",
       "\n",
       "    .dataframe tbody tr th {\n",
       "        vertical-align: top;\n",
       "    }\n",
       "\n",
       "    .dataframe thead th {\n",
       "        text-align: right;\n",
       "    }\n",
       "</style>\n",
       "<table border=\"1\" class=\"dataframe\">\n",
       "  <thead>\n",
       "    <tr style=\"text-align: right;\">\n",
       "      <th></th>\n",
       "      <th>GUID</th>\n",
       "      <th>ProgramID</th>\n",
       "      <th>ConcertID</th>\n",
       "      <th>EventType</th>\n",
       "      <th>Location</th>\n",
       "      <th>Venue</th>\n",
       "      <th>Date</th>\n",
       "      <th>Time</th>\n",
       "    </tr>\n",
       "  </thead>\n",
       "  <tbody>\n",
       "    <tr>\n",
       "      <th>0</th>\n",
       "      <td>38e072a7-8fc9-4f9a-8eac-3957905c0002</td>\n",
       "      <td>3853</td>\n",
       "      <td>0</td>\n",
       "      <td>Subscription Season</td>\n",
       "      <td>Manhattan, NY</td>\n",
       "      <td>Apollo Rooms</td>\n",
       "      <td>1842-12-07T05:00:00+00:00</td>\n",
       "      <td>8:00PM</td>\n",
       "    </tr>\n",
       "    <tr>\n",
       "      <th>1</th>\n",
       "      <td>c7b2b95c-5e0b-431c-a340-5b37fc860b34</td>\n",
       "      <td>5178</td>\n",
       "      <td>0</td>\n",
       "      <td>Subscription Season</td>\n",
       "      <td>Manhattan, NY</td>\n",
       "      <td>Apollo Rooms</td>\n",
       "      <td>1843-02-18T05:00:00+00:00</td>\n",
       "      <td>8:00PM</td>\n",
       "    </tr>\n",
       "    <tr>\n",
       "      <th>2</th>\n",
       "      <td>894e1a52-1ae5-4fa7-aec0-b99997555a37</td>\n",
       "      <td>10785</td>\n",
       "      <td>0</td>\n",
       "      <td>Special</td>\n",
       "      <td>Manhattan, NY</td>\n",
       "      <td>Apollo Rooms</td>\n",
       "      <td>1843-04-07T05:00:00+00:00</td>\n",
       "      <td>8:00PM</td>\n",
       "    </tr>\n",
       "    <tr>\n",
       "      <th>3</th>\n",
       "      <td>34ec2c2b-3297-4716-9831-b538310462b7</td>\n",
       "      <td>5887</td>\n",
       "      <td>0</td>\n",
       "      <td>Subscription Season</td>\n",
       "      <td>Manhattan, NY</td>\n",
       "      <td>Apollo Rooms</td>\n",
       "      <td>1843-04-22T05:00:00+00:00</td>\n",
       "      <td>8:00PM</td>\n",
       "    </tr>\n",
       "    <tr>\n",
       "      <th>4</th>\n",
       "      <td>610a4acc-94e4-4cd6-bdc1-8ad020edc7e9</td>\n",
       "      <td>305</td>\n",
       "      <td>0</td>\n",
       "      <td>Subscription Season</td>\n",
       "      <td>Manhattan, NY</td>\n",
       "      <td>Apollo Rooms</td>\n",
       "      <td>1843-11-18T05:00:00+00:00</td>\n",
       "      <td>NaN</td>\n",
       "    </tr>\n",
       "  </tbody>\n",
       "</table>\n",
       "</div>"
      ],
      "text/plain": [
       "                                   GUID  ProgramID  ConcertID  \\\n",
       "0  38e072a7-8fc9-4f9a-8eac-3957905c0002       3853          0   \n",
       "1  c7b2b95c-5e0b-431c-a340-5b37fc860b34       5178          0   \n",
       "2  894e1a52-1ae5-4fa7-aec0-b99997555a37      10785          0   \n",
       "3  34ec2c2b-3297-4716-9831-b538310462b7       5887          0   \n",
       "4  610a4acc-94e4-4cd6-bdc1-8ad020edc7e9        305          0   \n",
       "\n",
       "             EventType       Location         Venue  \\\n",
       "0  Subscription Season  Manhattan, NY  Apollo Rooms   \n",
       "1  Subscription Season  Manhattan, NY  Apollo Rooms   \n",
       "2              Special  Manhattan, NY  Apollo Rooms   \n",
       "3  Subscription Season  Manhattan, NY  Apollo Rooms   \n",
       "4  Subscription Season  Manhattan, NY  Apollo Rooms   \n",
       "\n",
       "                        Date    Time  \n",
       "0  1842-12-07T05:00:00+00:00  8:00PM  \n",
       "1  1843-02-18T05:00:00+00:00  8:00PM  \n",
       "2  1843-04-07T05:00:00+00:00  8:00PM  \n",
       "3  1843-04-22T05:00:00+00:00  8:00PM  \n",
       "4  1843-11-18T05:00:00+00:00     NaN  "
      ]
     },
     "execution_count": 15,
     "metadata": {},
     "output_type": "execute_result"
    }
   ],
   "source": [
    "concerts = pd.read_csv('./data/concerts.csv')\n",
    "concerts.head()"
   ]
  },
  {
   "cell_type": "markdown",
   "id": "df6f94ca",
   "metadata": {},
   "source": [
    "We will use the Leon Levy Digital Archives ID (`GUID`) to identify each program.\n",
    "\n",
    "Now, we have information regarding all the concerts that took place and the season for each program.\n",
    "\n",
    "The problem? Information about the concert and the season are in different tables, and the program is the glue between the two. Familiar?\n",
    "\n",
    "### Merge\n",
    "\n",
    "Pandas provides high-performance join operations, very similar to SQL.\n",
    "\n",
    "The method `df.merge()` provides an interface for all database-like join methods. If you ever wonder how to use a certain method from pandas (or any library), put a question mark before the method to check for its documentation."
   ]
  },
  {
   "cell_type": "code",
   "execution_count": 16,
   "id": "ac8c1772",
   "metadata": {},
   "outputs": [],
   "source": [
    "?pd.merge"
   ]
  },
  {
   "cell_type": "markdown",
   "id": "dc1063a4",
   "metadata": {},
   "source": [
    "We can call `pd.merge` to join both tables on `GUID`, as well as `ProgramID`, which provides similar info)."
   ]
  },
  {
   "cell_type": "code",
   "execution_count": 17,
   "id": "8dd28599",
   "metadata": {},
   "outputs": [
    {
     "data": {
      "text/html": [
       "<div>\n",
       "<style scoped>\n",
       "    .dataframe tbody tr th:only-of-type {\n",
       "        vertical-align: middle;\n",
       "    }\n",
       "\n",
       "    .dataframe tbody tr th {\n",
       "        vertical-align: top;\n",
       "    }\n",
       "\n",
       "    .dataframe thead th {\n",
       "        text-align: right;\n",
       "    }\n",
       "</style>\n",
       "<table border=\"1\" class=\"dataframe\">\n",
       "  <thead>\n",
       "    <tr style=\"text-align: right;\">\n",
       "      <th></th>\n",
       "      <th>GUID</th>\n",
       "      <th>Orchestra</th>\n",
       "      <th>Season</th>\n",
       "      <th>ProgramID</th>\n",
       "      <th>ConcertID</th>\n",
       "      <th>EventType</th>\n",
       "      <th>Location</th>\n",
       "      <th>Venue</th>\n",
       "      <th>Date</th>\n",
       "      <th>Time</th>\n",
       "    </tr>\n",
       "  </thead>\n",
       "  <tbody>\n",
       "    <tr>\n",
       "      <th>0</th>\n",
       "      <td>add7e348-110f-4db2-a1b1-ff2d977ae000</td>\n",
       "      <td>New York Philharmonic</td>\n",
       "      <td>2016-01-01</td>\n",
       "      <td>13889</td>\n",
       "      <td>0</td>\n",
       "      <td>Non-Subscription</td>\n",
       "      <td>Manhattan, NY</td>\n",
       "      <td>David Geffen Hall</td>\n",
       "      <td>2016-09-13T04:00:00+00:00</td>\n",
       "      <td>7:30PM</td>\n",
       "    </tr>\n",
       "    <tr>\n",
       "      <th>1</th>\n",
       "      <td>add7e348-110f-4db2-a1b1-ff2d977ae000</td>\n",
       "      <td>New York Philharmonic</td>\n",
       "      <td>2016-01-01</td>\n",
       "      <td>13889</td>\n",
       "      <td>1</td>\n",
       "      <td>Non-Subscription</td>\n",
       "      <td>Manhattan, NY</td>\n",
       "      <td>David Geffen Hall</td>\n",
       "      <td>2016-09-14T04:00:00+00:00</td>\n",
       "      <td>7:30PM</td>\n",
       "    </tr>\n",
       "    <tr>\n",
       "      <th>2</th>\n",
       "      <td>add7e348-110f-4db2-a1b1-ff2d977ae000</td>\n",
       "      <td>New York Philharmonic</td>\n",
       "      <td>2016-01-01</td>\n",
       "      <td>13889</td>\n",
       "      <td>2</td>\n",
       "      <td>Non-Subscription</td>\n",
       "      <td>Manhattan, NY</td>\n",
       "      <td>David Geffen Hall</td>\n",
       "      <td>2016-09-15T04:00:00+00:00</td>\n",
       "      <td>7:30PM</td>\n",
       "    </tr>\n",
       "    <tr>\n",
       "      <th>3</th>\n",
       "      <td>ff89e300-b0f2-40cd-b1ab-4b43f02047d3</td>\n",
       "      <td>New York Philharmonic</td>\n",
       "      <td>2016-01-01</td>\n",
       "      <td>13890</td>\n",
       "      <td>0</td>\n",
       "      <td>Non-Subscription</td>\n",
       "      <td>Manhattan, NY</td>\n",
       "      <td>David Geffen Hall</td>\n",
       "      <td>2016-09-16T04:00:00+00:00</td>\n",
       "      <td>8:00PM</td>\n",
       "    </tr>\n",
       "    <tr>\n",
       "      <th>4</th>\n",
       "      <td>2b5083e6-806e-47dc-81ce-00086f2b4377</td>\n",
       "      <td>New York Philharmonic</td>\n",
       "      <td>2016-01-01</td>\n",
       "      <td>14068</td>\n",
       "      <td>0</td>\n",
       "      <td>Non-Subscription</td>\n",
       "      <td>Manhattan, NY</td>\n",
       "      <td>David Geffen Hall</td>\n",
       "      <td>2016-09-17T04:00:00+00:00</td>\n",
       "      <td>8:00PM</td>\n",
       "    </tr>\n",
       "  </tbody>\n",
       "</table>\n",
       "</div>"
      ],
      "text/plain": [
       "                                   GUID              Orchestra     Season  \\\n",
       "0  add7e348-110f-4db2-a1b1-ff2d977ae000  New York Philharmonic 2016-01-01   \n",
       "1  add7e348-110f-4db2-a1b1-ff2d977ae000  New York Philharmonic 2016-01-01   \n",
       "2  add7e348-110f-4db2-a1b1-ff2d977ae000  New York Philharmonic 2016-01-01   \n",
       "3  ff89e300-b0f2-40cd-b1ab-4b43f02047d3  New York Philharmonic 2016-01-01   \n",
       "4  2b5083e6-806e-47dc-81ce-00086f2b4377  New York Philharmonic 2016-01-01   \n",
       "\n",
       "   ProgramID  ConcertID         EventType       Location              Venue  \\\n",
       "0      13889          0  Non-Subscription  Manhattan, NY  David Geffen Hall   \n",
       "1      13889          1  Non-Subscription  Manhattan, NY  David Geffen Hall   \n",
       "2      13889          2  Non-Subscription  Manhattan, NY  David Geffen Hall   \n",
       "3      13890          0  Non-Subscription  Manhattan, NY  David Geffen Hall   \n",
       "4      14068          0  Non-Subscription  Manhattan, NY  David Geffen Hall   \n",
       "\n",
       "                        Date    Time  \n",
       "0  2016-09-13T04:00:00+00:00  7:30PM  \n",
       "1  2016-09-14T04:00:00+00:00  7:30PM  \n",
       "2  2016-09-15T04:00:00+00:00  7:30PM  \n",
       "3  2016-09-16T04:00:00+00:00  8:00PM  \n",
       "4  2016-09-17T04:00:00+00:00  8:00PM  "
      ]
     },
     "execution_count": 17,
     "metadata": {},
     "output_type": "execute_result"
    }
   ],
   "source": [
    "# Since GUID and ProgramID offer similar info, we will drop the latter.\n",
    "programs = programs.drop(columns='ProgramID')\n",
    "\n",
    "df = pd.merge(programs, concerts, on='GUID')\n",
    "df.head()"
   ]
  },
  {
   "cell_type": "markdown",
   "id": "6ec1d188",
   "metadata": {},
   "source": [
    "Or, alternatively, we can call `merge()` directly on the dataframe."
   ]
  },
  {
   "cell_type": "code",
   "execution_count": 18,
   "id": "8011586a",
   "metadata": {},
   "outputs": [
    {
     "data": {
      "text/html": [
       "<div>\n",
       "<style scoped>\n",
       "    .dataframe tbody tr th:only-of-type {\n",
       "        vertical-align: middle;\n",
       "    }\n",
       "\n",
       "    .dataframe tbody tr th {\n",
       "        vertical-align: top;\n",
       "    }\n",
       "\n",
       "    .dataframe thead th {\n",
       "        text-align: right;\n",
       "    }\n",
       "</style>\n",
       "<table border=\"1\" class=\"dataframe\">\n",
       "  <thead>\n",
       "    <tr style=\"text-align: right;\">\n",
       "      <th></th>\n",
       "      <th>GUID</th>\n",
       "      <th>Orchestra</th>\n",
       "      <th>Season</th>\n",
       "      <th>ProgramID</th>\n",
       "      <th>ConcertID</th>\n",
       "      <th>EventType</th>\n",
       "      <th>Location</th>\n",
       "      <th>Venue</th>\n",
       "      <th>Date</th>\n",
       "      <th>Time</th>\n",
       "    </tr>\n",
       "  </thead>\n",
       "  <tbody>\n",
       "    <tr>\n",
       "      <th>0</th>\n",
       "      <td>add7e348-110f-4db2-a1b1-ff2d977ae000</td>\n",
       "      <td>New York Philharmonic</td>\n",
       "      <td>2016-01-01</td>\n",
       "      <td>13889</td>\n",
       "      <td>0</td>\n",
       "      <td>Non-Subscription</td>\n",
       "      <td>Manhattan, NY</td>\n",
       "      <td>David Geffen Hall</td>\n",
       "      <td>2016-09-13T04:00:00+00:00</td>\n",
       "      <td>7:30PM</td>\n",
       "    </tr>\n",
       "    <tr>\n",
       "      <th>1</th>\n",
       "      <td>add7e348-110f-4db2-a1b1-ff2d977ae000</td>\n",
       "      <td>New York Philharmonic</td>\n",
       "      <td>2016-01-01</td>\n",
       "      <td>13889</td>\n",
       "      <td>1</td>\n",
       "      <td>Non-Subscription</td>\n",
       "      <td>Manhattan, NY</td>\n",
       "      <td>David Geffen Hall</td>\n",
       "      <td>2016-09-14T04:00:00+00:00</td>\n",
       "      <td>7:30PM</td>\n",
       "    </tr>\n",
       "    <tr>\n",
       "      <th>2</th>\n",
       "      <td>add7e348-110f-4db2-a1b1-ff2d977ae000</td>\n",
       "      <td>New York Philharmonic</td>\n",
       "      <td>2016-01-01</td>\n",
       "      <td>13889</td>\n",
       "      <td>2</td>\n",
       "      <td>Non-Subscription</td>\n",
       "      <td>Manhattan, NY</td>\n",
       "      <td>David Geffen Hall</td>\n",
       "      <td>2016-09-15T04:00:00+00:00</td>\n",
       "      <td>7:30PM</td>\n",
       "    </tr>\n",
       "    <tr>\n",
       "      <th>3</th>\n",
       "      <td>ff89e300-b0f2-40cd-b1ab-4b43f02047d3</td>\n",
       "      <td>New York Philharmonic</td>\n",
       "      <td>2016-01-01</td>\n",
       "      <td>13890</td>\n",
       "      <td>0</td>\n",
       "      <td>Non-Subscription</td>\n",
       "      <td>Manhattan, NY</td>\n",
       "      <td>David Geffen Hall</td>\n",
       "      <td>2016-09-16T04:00:00+00:00</td>\n",
       "      <td>8:00PM</td>\n",
       "    </tr>\n",
       "    <tr>\n",
       "      <th>4</th>\n",
       "      <td>2b5083e6-806e-47dc-81ce-00086f2b4377</td>\n",
       "      <td>New York Philharmonic</td>\n",
       "      <td>2016-01-01</td>\n",
       "      <td>14068</td>\n",
       "      <td>0</td>\n",
       "      <td>Non-Subscription</td>\n",
       "      <td>Manhattan, NY</td>\n",
       "      <td>David Geffen Hall</td>\n",
       "      <td>2016-09-17T04:00:00+00:00</td>\n",
       "      <td>8:00PM</td>\n",
       "    </tr>\n",
       "  </tbody>\n",
       "</table>\n",
       "</div>"
      ],
      "text/plain": [
       "                                   GUID              Orchestra     Season  \\\n",
       "0  add7e348-110f-4db2-a1b1-ff2d977ae000  New York Philharmonic 2016-01-01   \n",
       "1  add7e348-110f-4db2-a1b1-ff2d977ae000  New York Philharmonic 2016-01-01   \n",
       "2  add7e348-110f-4db2-a1b1-ff2d977ae000  New York Philharmonic 2016-01-01   \n",
       "3  ff89e300-b0f2-40cd-b1ab-4b43f02047d3  New York Philharmonic 2016-01-01   \n",
       "4  2b5083e6-806e-47dc-81ce-00086f2b4377  New York Philharmonic 2016-01-01   \n",
       "\n",
       "   ProgramID  ConcertID         EventType       Location              Venue  \\\n",
       "0      13889          0  Non-Subscription  Manhattan, NY  David Geffen Hall   \n",
       "1      13889          1  Non-Subscription  Manhattan, NY  David Geffen Hall   \n",
       "2      13889          2  Non-Subscription  Manhattan, NY  David Geffen Hall   \n",
       "3      13890          0  Non-Subscription  Manhattan, NY  David Geffen Hall   \n",
       "4      14068          0  Non-Subscription  Manhattan, NY  David Geffen Hall   \n",
       "\n",
       "                        Date    Time  \n",
       "0  2016-09-13T04:00:00+00:00  7:30PM  \n",
       "1  2016-09-14T04:00:00+00:00  7:30PM  \n",
       "2  2016-09-15T04:00:00+00:00  7:30PM  \n",
       "3  2016-09-16T04:00:00+00:00  8:00PM  \n",
       "4  2016-09-17T04:00:00+00:00  8:00PM  "
      ]
     },
     "execution_count": 18,
     "metadata": {},
     "output_type": "execute_result"
    }
   ],
   "source": [
    "df_ = programs.merge(concerts, on='GUID')\n",
    "df_.head()"
   ]
  },
  {
   "cell_type": "markdown",
   "id": "22c3bdfc",
   "metadata": {},
   "source": [
    "The critical parameter here is the `how`. Since we are not explicitly using it, the merge defaults to `inner` (for inner-join).\n",
    "\n",
    "But, in fact, you can use any join, just like you did in SQL: `left`, `right`, `outer`, and `inner`.\n",
    "\n",
    "Remember?\n",
    "\n",
    "![](./media/types_of_joins.jpg)\n",
    "\n",
    "*Fig. 1 - Types of joins in SQL; note how left, right, outer and inner translate directly to Pandas.*\n",
    "\n",
    "A refresher on different types of joins, all supported by Pandas:\n",
    "\n",
    "| Pandas                                         | SQL              | What it does                              |\n",
    "| ---------------------------------------------- | ---------------- | ----------------------------------------- |\n",
    "| `pd.merge(right, left, on='key', how='left')`  | LEFT OUTER JOIN  | Use all keys from left frame only         |\n",
    "| `pd.merge(right, left, on='key', how='right')` | RIGHT OUTER JOIN | Use all keys from right frame only        |\n",
    "| `pd.merge(right, left, on='key', how='outer')` | FULL OUTER JOIN  | Use union of keys from both frames        |\n",
    "| `pd.merge(right, left, on='key', how='inner')` | INNER JOIN       | Use intersection of keys from both frames |\n",
    "\n",
    "In this particular case, we have:\n",
    "* A one-to-many relationship (i.e., one program to many concerts)\n",
    "* Since every single show in `concerts` has a match in `programs`, the type of join we use doesn't matter.\n",
    "\n",
    "We can use the `validate` argument to automatically check whether there are unexpected duplicates in the merge keys and check their uniqueness."
   ]
  },
  {
   "cell_type": "code",
   "execution_count": 19,
   "id": "f6218841",
   "metadata": {},
   "outputs": [],
   "source": [
    "df__ = pd.merge(programs, concerts, on='GUID', how='outer', validate=\"one_to_many\")\n",
    "assert(concerts.shape[0] == df_.shape[0] == df__.shape[0])"
   ]
  },
  {
   "cell_type": "markdown",
   "id": "77069d1a",
   "metadata": {},
   "source": [
    "Back to our question, how is the number of concerts per season evolving?"
   ]
  },
  {
   "cell_type": "code",
   "execution_count": 20,
   "id": "a555c983",
   "metadata": {},
   "outputs": [
    {
     "data": {
      "image/png": "[encoded data removed]",
      "text/plain": [
       "<Figure size 1000x700 with 1 Axes>"
      ]
     },
     "metadata": {},
     "output_type": "display_data"
    }
   ],
   "source": [
    "(programs.merge(concerts, on='GUID')\n",
    "         .groupby('Season')\n",
    "         .size()\n",
    "         .plot(legend=False, use_index=True, figsize=(10, 7),\n",
    "               title='Number of concerts per season (from 1842-43 to 2016-17)'));"
   ]
  },
  {
   "cell_type": "markdown",
   "id": "4a21e356",
   "metadata": {},
   "source": [
    "Likewise, the number of concerts seems to be trending upwards since about 1995, which could be a sign of growing interest in the genre.\n",
    "\n",
    "### Join\n",
    "\n",
    "Now, we want the top-3 composer in total appearances.\n",
    "\n",
    "Without surprise, we start by importing `works.csv`."
   ]
  },
  {
   "cell_type": "code",
   "execution_count": 21,
   "id": "389d5b91",
   "metadata": {},
   "outputs": [],
   "source": [
    "works = pd.read_csv('./data/works.csv',index_col='GUID')"
   ]
  },
  {
   "cell_type": "markdown",
   "id": "113c8d7b",
   "metadata": {},
   "source": [
    "Alternatively, we can use `df.join()` instead of `df.merge()`. \n",
    "\n",
    "There are, however, differences in the default behavior: for example `df.join` uses `how='left'` by default."
   ]
  },
  {
   "cell_type": "markdown",
   "id": "cf7900b0",
   "metadata": {},
   "source": [
    "Let's try to perform the merge."
   ]
  },
  {
   "cell_type": "code",
   "execution_count": 22,
   "id": "dc9d79ac",
   "metadata": {},
   "outputs": [
    {
     "data": {
      "text/html": [
       "<div>\n",
       "<style scoped>\n",
       "    .dataframe tbody tr th:only-of-type {\n",
       "        vertical-align: middle;\n",
       "    }\n",
       "\n",
       "    .dataframe tbody tr th {\n",
       "        vertical-align: top;\n",
       "    }\n",
       "\n",
       "    .dataframe thead th {\n",
       "        text-align: right;\n",
       "    }\n",
       "</style>\n",
       "<table border=\"1\" class=\"dataframe\">\n",
       "  <thead>\n",
       "    <tr style=\"text-align: right;\">\n",
       "      <th></th>\n",
       "      <th>GUID</th>\n",
       "      <th>Orchestra</th>\n",
       "      <th>Season</th>\n",
       "      <th>ProgramID</th>\n",
       "      <th>WorkID</th>\n",
       "      <th>MovementID</th>\n",
       "      <th>ComposerName</th>\n",
       "      <th>WorkTitle</th>\n",
       "      <th>Movement</th>\n",
       "      <th>ConductorName</th>\n",
       "      <th>Interval</th>\n",
       "      <th>isInterval</th>\n",
       "    </tr>\n",
       "  </thead>\n",
       "  <tbody>\n",
       "    <tr>\n",
       "      <th>0</th>\n",
       "      <td>add7e348-110f-4db2-a1b1-ff2d977ae000</td>\n",
       "      <td>New York Philharmonic</td>\n",
       "      <td>2016-01-01</td>\n",
       "      <td>13889</td>\n",
       "      <td>5733</td>\n",
       "      <td>NaN</td>\n",
       "      <td>Bernstein,  Leonard</td>\n",
       "      <td>WEST SIDE STORY (WITH FILM)</td>\n",
       "      <td>NaN</td>\n",
       "      <td>Newman, David</td>\n",
       "      <td>NaN</td>\n",
       "      <td>False</td>\n",
       "    </tr>\n",
       "    <tr>\n",
       "      <th>1</th>\n",
       "      <td>add7e348-110f-4db2-a1b1-ff2d977ae000</td>\n",
       "      <td>New York Philharmonic</td>\n",
       "      <td>2016-01-01</td>\n",
       "      <td>13889</td>\n",
       "      <td>0</td>\n",
       "      <td>NaN</td>\n",
       "      <td>NaN</td>\n",
       "      <td>NaN</td>\n",
       "      <td>NaN</td>\n",
       "      <td>NaN</td>\n",
       "      <td>Intermission</td>\n",
       "      <td>True</td>\n",
       "    </tr>\n",
       "    <tr>\n",
       "      <th>2</th>\n",
       "      <td>ff89e300-b0f2-40cd-b1ab-4b43f02047d3</td>\n",
       "      <td>New York Philharmonic</td>\n",
       "      <td>2016-01-01</td>\n",
       "      <td>13890</td>\n",
       "      <td>12070</td>\n",
       "      <td>NaN</td>\n",
       "      <td>Gershwin,  George</td>\n",
       "      <td>MANHATTAN (FILM) (ARR. Pierson)</td>\n",
       "      <td>NaN</td>\n",
       "      <td>Gilbert, Alan</td>\n",
       "      <td>NaN</td>\n",
       "      <td>False</td>\n",
       "    </tr>\n",
       "  </tbody>\n",
       "</table>\n",
       "</div>"
      ],
      "text/plain": [
       "                                   GUID              Orchestra     Season  \\\n",
       "0  add7e348-110f-4db2-a1b1-ff2d977ae000  New York Philharmonic 2016-01-01   \n",
       "1  add7e348-110f-4db2-a1b1-ff2d977ae000  New York Philharmonic 2016-01-01   \n",
       "2  ff89e300-b0f2-40cd-b1ab-4b43f02047d3  New York Philharmonic 2016-01-01   \n",
       "\n",
       "   ProgramID  WorkID  MovementID         ComposerName  \\\n",
       "0      13889    5733         NaN  Bernstein,  Leonard   \n",
       "1      13889       0         NaN                  NaN   \n",
       "2      13890   12070         NaN    Gershwin,  George   \n",
       "\n",
       "                         WorkTitle Movement  ConductorName      Interval  \\\n",
       "0      WEST SIDE STORY (WITH FILM)      NaN  Newman, David           NaN   \n",
       "1                              NaN      NaN            NaN  Intermission   \n",
       "2  MANHATTAN (FILM) (ARR. Pierson)      NaN  Gilbert, Alan           NaN   \n",
       "\n",
       "   isInterval  \n",
       "0       False  \n",
       "1        True  \n",
       "2       False  "
      ]
     },
     "execution_count": 22,
     "metadata": {},
     "output_type": "execute_result"
    }
   ],
   "source": [
    "(programs.merge(works, on=\"GUID\")\n",
    "         .head(n=3))"
   ]
  },
  {
   "cell_type": "code",
   "execution_count": 23,
   "id": "d3e7dee6",
   "metadata": {},
   "outputs": [
    {
     "data": {
      "text/plain": [
       "(82576, 12)"
      ]
     },
     "execution_count": 23,
     "metadata": {},
     "output_type": "execute_result"
    }
   ],
   "source": [
    "programs.merge(works, on=\"GUID\").shape"
   ]
  },
  {
   "cell_type": "code",
   "execution_count": 24,
   "id": "222e7772",
   "metadata": {},
   "outputs": [
    {
     "data": {
      "text/html": [
       "<div>\n",
       "<style scoped>\n",
       "    .dataframe tbody tr th:only-of-type {\n",
       "        vertical-align: middle;\n",
       "    }\n",
       "\n",
       "    .dataframe tbody tr th {\n",
       "        vertical-align: top;\n",
       "    }\n",
       "\n",
       "    .dataframe thead th {\n",
       "        text-align: right;\n",
       "    }\n",
       "</style>\n",
       "<table border=\"1\" class=\"dataframe\">\n",
       "  <thead>\n",
       "    <tr style=\"text-align: right;\">\n",
       "      <th></th>\n",
       "      <th>GUID</th>\n",
       "      <th>Orchestra</th>\n",
       "      <th>Season</th>\n",
       "      <th>ProgramID</th>\n",
       "      <th>WorkID</th>\n",
       "      <th>MovementID</th>\n",
       "      <th>ComposerName</th>\n",
       "      <th>WorkTitle</th>\n",
       "      <th>Movement</th>\n",
       "      <th>ConductorName</th>\n",
       "      <th>Interval</th>\n",
       "      <th>isInterval</th>\n",
       "    </tr>\n",
       "  </thead>\n",
       "  <tbody>\n",
       "    <tr>\n",
       "      <th>0</th>\n",
       "      <td>add7e348-110f-4db2-a1b1-ff2d977ae000</td>\n",
       "      <td>New York Philharmonic</td>\n",
       "      <td>2016-01-01</td>\n",
       "      <td>13889.0</td>\n",
       "      <td>5733.0</td>\n",
       "      <td>NaN</td>\n",
       "      <td>Bernstein,  Leonard</td>\n",
       "      <td>WEST SIDE STORY (WITH FILM)</td>\n",
       "      <td>NaN</td>\n",
       "      <td>Newman, David</td>\n",
       "      <td>NaN</td>\n",
       "      <td>False</td>\n",
       "    </tr>\n",
       "    <tr>\n",
       "      <th>0</th>\n",
       "      <td>add7e348-110f-4db2-a1b1-ff2d977ae000</td>\n",
       "      <td>New York Philharmonic</td>\n",
       "      <td>2016-01-01</td>\n",
       "      <td>13889.0</td>\n",
       "      <td>0.0</td>\n",
       "      <td>NaN</td>\n",
       "      <td>NaN</td>\n",
       "      <td>NaN</td>\n",
       "      <td>NaN</td>\n",
       "      <td>NaN</td>\n",
       "      <td>Intermission</td>\n",
       "      <td>True</td>\n",
       "    </tr>\n",
       "    <tr>\n",
       "      <th>1</th>\n",
       "      <td>ff89e300-b0f2-40cd-b1ab-4b43f02047d3</td>\n",
       "      <td>New York Philharmonic</td>\n",
       "      <td>2016-01-01</td>\n",
       "      <td>13890.0</td>\n",
       "      <td>12070.0</td>\n",
       "      <td>NaN</td>\n",
       "      <td>Gershwin,  George</td>\n",
       "      <td>MANHATTAN (FILM) (ARR. Pierson)</td>\n",
       "      <td>NaN</td>\n",
       "      <td>Gilbert, Alan</td>\n",
       "      <td>NaN</td>\n",
       "      <td>False</td>\n",
       "    </tr>\n",
       "  </tbody>\n",
       "</table>\n",
       "</div>"
      ],
      "text/plain": [
       "                                   GUID              Orchestra     Season  \\\n",
       "0  add7e348-110f-4db2-a1b1-ff2d977ae000  New York Philharmonic 2016-01-01   \n",
       "0  add7e348-110f-4db2-a1b1-ff2d977ae000  New York Philharmonic 2016-01-01   \n",
       "1  ff89e300-b0f2-40cd-b1ab-4b43f02047d3  New York Philharmonic 2016-01-01   \n",
       "\n",
       "   ProgramID   WorkID  MovementID         ComposerName  \\\n",
       "0    13889.0   5733.0         NaN  Bernstein,  Leonard   \n",
       "0    13889.0      0.0         NaN                  NaN   \n",
       "1    13890.0  12070.0         NaN    Gershwin,  George   \n",
       "\n",
       "                         WorkTitle Movement  ConductorName      Interval  \\\n",
       "0      WEST SIDE STORY (WITH FILM)      NaN  Newman, David           NaN   \n",
       "0                              NaN      NaN            NaN  Intermission   \n",
       "1  MANHATTAN (FILM) (ARR. Pierson)      NaN  Gilbert, Alan           NaN   \n",
       "\n",
       "  isInterval  \n",
       "0      False  \n",
       "0       True  \n",
       "1      False  "
      ]
     },
     "execution_count": 24,
     "metadata": {},
     "output_type": "execute_result"
    }
   ],
   "source": [
    "(programs.join(works, on='GUID')\n",
    "         .head(n=3))\n",
    "\n",
    "# equivalent to\n",
    "# pd.merge(programs, works, left_on='GUID', right_index=True,\n",
    "#          how='left').head(n=3)"
   ]
  },
  {
   "cell_type": "code",
   "execution_count": 25,
   "id": "57858ac7",
   "metadata": {},
   "outputs": [
    {
     "data": {
      "text/plain": [
       "(82623, 12)"
      ]
     },
     "execution_count": 25,
     "metadata": {},
     "output_type": "execute_result"
    }
   ],
   "source": [
    "programs.join(works, on=\"GUID\").shape"
   ]
  },
  {
   "cell_type": "markdown",
   "id": "6199cad6",
   "metadata": {},
   "source": [
    "We noticed that the shape of the results is diferent, since we have a different number of lines in each one of the methods.\n",
    "Typically, you would use `df.join()` when you want to do a left join or when you want to join on the index of the dataframe on the right.\n",
    "\n",
    "Now for our goal: what are the top-3 composers?"
   ]
  },
  {
   "cell_type": "code",
   "execution_count": 26,
   "id": "b1b0a5de",
   "metadata": {},
   "outputs": [
    {
     "data": {
      "text/plain": [
       "ComposerName\n",
       "Wagner,  Richard               4923\n",
       "Beethoven,  Ludwig  van        4534\n",
       "Tchaikovsky,  Pyotr  Ilyich    3700\n",
       "dtype: int64"
      ]
     },
     "execution_count": 26,
     "metadata": {},
     "output_type": "execute_result"
    }
   ],
   "source": [
    "(programs.join(works, on='GUID')\n",
    "         .groupby('ComposerName')\n",
    "         .size()\n",
    "         .nlargest(n=3))"
   ]
  },
  {
   "cell_type": "markdown",
   "id": "3abd1b32",
   "metadata": {},
   "source": [
    "Wagner wins!\n",
    "\n",
    "What about the top-3 works?"
   ]
  },
  {
   "cell_type": "code",
   "execution_count": 27,
   "id": "4b025bce",
   "metadata": {},
   "outputs": [
    {
     "data": {
      "text/plain": [
       "ComposerName      WorkTitle                        \n",
       "Wagner,  Richard  MEISTERSINGER, DIE, WWV 96           784\n",
       "                  TANNHAUSER, WWV 70                   599\n",
       "                  GOTTERDAMMERUNG [GÖTTERDÄMMERUNG]    592\n",
       "dtype: int64"
      ]
     },
     "execution_count": 27,
     "metadata": {},
     "output_type": "execute_result"
    }
   ],
   "source": [
    "(programs.join(works, on='GUID')\n",
    "         .groupby(['ComposerName', 'WorkTitle'])\n",
    "         .size()\n",
    "         .nlargest(n=3))"
   ]
  },
  {
   "cell_type": "markdown",
   "id": "8d8d3d2f",
   "metadata": {},
   "source": [
    "Wagner wins again!"
   ]
  },
  {
   "cell_type": "markdown",
   "id": "6b107edf",
   "metadata": {},
   "source": [
    "\n",
    "<hr>\n",
    "<h2>Learning notebook - Part 2 of 3 - Combining dataframes.ipynb</h2>"
   ]
  },
  {
   "cell_type": "markdown",
   "id": "32831aed",
   "metadata": {},
   "source": [
    "# BLU02 - Learning Notebook - Data wrangling workflows - Part 3 of 3"
   ]
  },
  {
   "cell_type": "code",
   "execution_count": 1,
   "id": "3fd57c74",
   "metadata": {},
   "outputs": [],
   "source": [
    "import matplotlib.pyplot as plt\n",
    "\n",
    "import pandas as pd\n",
    "import os\n",
    "\n",
    "from category_encoders.ordinal import OrdinalEncoder\n",
    "\n",
    "from sklearn.base import BaseEstimator, TransformerMixin\n",
    "from sklearn.cluster import KMeans\n",
    "from sklearn.impute import SimpleImputer\n",
    "from sklearn.model_selection import train_test_split\n",
    "from sklearn.pipeline import Pipeline"
   ]
  },
  {
   "cell_type": "markdown",
   "id": "f7ce002f",
   "metadata": {},
   "source": [
    "# 3 Advanced pipelines in scikit-learn\n",
    "\n",
    "Remember our workflow diagram? Let's look at it again.\n",
    "\n",
    "![data_transformation_workflow](./media/data_processing_workflow.png)\n",
    "\n",
    "*Fig 1. - A standard workflow (again).*\n",
    "\n",
    "Pandas, as amazing as it is, can only take us so far.\n",
    "\n",
    "There, beyond the known universe, lies **modeling**.\n",
    "\n",
    "Where we are at this point:\n",
    "* We are able to perform transformations on data, setting up robust pipelines using nothing but Pandas\n",
    "* We can combine different dataframes, to enrich our datasets or generate new ones.\n",
    "\n",
    "Thus, here we are, with modeling lying right ahead of us. What's exactly new about modeling though?\n",
    "\n",
    "We will be using the same dataset, but this time we will create a train-test split, as we would do before modeling."
   ]
  },
  {
   "cell_type": "code",
   "execution_count": 2,
   "id": "e6ec2b34",
   "metadata": {},
   "outputs": [
    {
     "data": {
      "text/html": [
       "<div>\n",
       "<style scoped>\n",
       "    .dataframe tbody tr th:only-of-type {\n",
       "        vertical-align: middle;\n",
       "    }\n",
       "\n",
       "    .dataframe tbody tr th {\n",
       "        vertical-align: top;\n",
       "    }\n",
       "\n",
       "    .dataframe thead th {\n",
       "        text-align: right;\n",
       "    }\n",
       "</style>\n",
       "<table border=\"1\" class=\"dataframe\">\n",
       "  <thead>\n",
       "    <tr style=\"text-align: right;\">\n",
       "      <th></th>\n",
       "      <th>GUID</th>\n",
       "      <th>ProgramID</th>\n",
       "      <th>WorkID</th>\n",
       "      <th>MovementID</th>\n",
       "      <th>ComposerName</th>\n",
       "      <th>WorkTitle</th>\n",
       "      <th>Movement</th>\n",
       "      <th>ConductorName</th>\n",
       "      <th>Interval</th>\n",
       "      <th>isInterval</th>\n",
       "    </tr>\n",
       "  </thead>\n",
       "  <tbody>\n",
       "    <tr>\n",
       "      <th>0</th>\n",
       "      <td>38e072a7-8fc9-4f9a-8eac-3957905c0002</td>\n",
       "      <td>3853</td>\n",
       "      <td>52446</td>\n",
       "      <td>NaN</td>\n",
       "      <td>Beethoven,  Ludwig  van</td>\n",
       "      <td>SYMPHONY NO. 5 IN C MINOR, OP.67</td>\n",
       "      <td>NaN</td>\n",
       "      <td>Hill, Ureli Corelli</td>\n",
       "      <td>NaN</td>\n",
       "      <td>False</td>\n",
       "    </tr>\n",
       "    <tr>\n",
       "      <th>1</th>\n",
       "      <td>c7b2b95c-5e0b-431c-a340-5b37fc860b34</td>\n",
       "      <td>5178</td>\n",
       "      <td>52437</td>\n",
       "      <td>NaN</td>\n",
       "      <td>Beethoven,  Ludwig  van</td>\n",
       "      <td>SYMPHONY NO. 3 IN E FLAT MAJOR, OP. 55 (EROICA)</td>\n",
       "      <td>NaN</td>\n",
       "      <td>Hill, Ureli Corelli</td>\n",
       "      <td>NaN</td>\n",
       "      <td>False</td>\n",
       "    </tr>\n",
       "    <tr>\n",
       "      <th>2</th>\n",
       "      <td>894e1a52-1ae5-4fa7-aec0-b99997555a37</td>\n",
       "      <td>10785</td>\n",
       "      <td>52364</td>\n",
       "      <td>1.0</td>\n",
       "      <td>Beethoven,  Ludwig  van</td>\n",
       "      <td>EGMONT, OP.84</td>\n",
       "      <td>Overture</td>\n",
       "      <td>Hill, Ureli Corelli</td>\n",
       "      <td>NaN</td>\n",
       "      <td>False</td>\n",
       "    </tr>\n",
       "    <tr>\n",
       "      <th>3</th>\n",
       "      <td>34ec2c2b-3297-4716-9831-b538310462b7</td>\n",
       "      <td>5887</td>\n",
       "      <td>52434</td>\n",
       "      <td>NaN</td>\n",
       "      <td>Beethoven,  Ludwig  van</td>\n",
       "      <td>SYMPHONY NO. 2 IN D MAJOR, OP.36</td>\n",
       "      <td>NaN</td>\n",
       "      <td>Boucher, Alfred</td>\n",
       "      <td>NaN</td>\n",
       "      <td>False</td>\n",
       "    </tr>\n",
       "    <tr>\n",
       "      <th>4</th>\n",
       "      <td>610a4acc-94e4-4cd6-bdc1-8ad020edc7e9</td>\n",
       "      <td>305</td>\n",
       "      <td>52453</td>\n",
       "      <td>NaN</td>\n",
       "      <td>Beethoven,  Ludwig  van</td>\n",
       "      <td>SYMPHONY NO. 7 IN A MAJOR, OP.92</td>\n",
       "      <td>NaN</td>\n",
       "      <td>Hill, Ureli Corelli</td>\n",
       "      <td>NaN</td>\n",
       "      <td>False</td>\n",
       "    </tr>\n",
       "    <tr>\n",
       "      <th>...</th>\n",
       "      <td>...</td>\n",
       "      <td>...</td>\n",
       "      <td>...</td>\n",
       "      <td>...</td>\n",
       "      <td>...</td>\n",
       "      <td>...</td>\n",
       "      <td>...</td>\n",
       "      <td>...</td>\n",
       "      <td>...</td>\n",
       "      <td>...</td>\n",
       "    </tr>\n",
       "    <tr>\n",
       "      <th>82571</th>\n",
       "      <td>734c1116-0caf-4f8b-80d0-5e423cd1bcc6</td>\n",
       "      <td>9678</td>\n",
       "      <td>53976</td>\n",
       "      <td>47.0</td>\n",
       "      <td>Handel,  George  Frideric</td>\n",
       "      <td>MESSIAH</td>\n",
       "      <td>Chorus: Worthy is the Lamb that was slain</td>\n",
       "      <td>McGegan, Nicholas</td>\n",
       "      <td>NaN</td>\n",
       "      <td>False</td>\n",
       "    </tr>\n",
       "    <tr>\n",
       "      <th>82572</th>\n",
       "      <td>884c64d6-1768-4cf1-85f1-0ac2f79bbe5c</td>\n",
       "      <td>10608</td>\n",
       "      <td>53976</td>\n",
       "      <td>47.0</td>\n",
       "      <td>Handel,  George  Frideric</td>\n",
       "      <td>MESSIAH</td>\n",
       "      <td>Chorus: Worthy is the Lamb that was slain</td>\n",
       "      <td>Labadie, Bernard</td>\n",
       "      <td>NaN</td>\n",
       "      <td>False</td>\n",
       "    </tr>\n",
       "    <tr>\n",
       "      <th>82573</th>\n",
       "      <td>f549e93f-b35f-4824-b0d5-d543953535f8</td>\n",
       "      <td>9542</td>\n",
       "      <td>53976</td>\n",
       "      <td>51.0</td>\n",
       "      <td>Handel,  George  Frideric</td>\n",
       "      <td>MESSIAH</td>\n",
       "      <td>Chorus: Amen</td>\n",
       "      <td>Bicket, Harry</td>\n",
       "      <td>NaN</td>\n",
       "      <td>False</td>\n",
       "    </tr>\n",
       "    <tr>\n",
       "      <th>82574</th>\n",
       "      <td>734c1116-0caf-4f8b-80d0-5e423cd1bcc6</td>\n",
       "      <td>9678</td>\n",
       "      <td>53976</td>\n",
       "      <td>51.0</td>\n",
       "      <td>Handel,  George  Frideric</td>\n",
       "      <td>MESSIAH</td>\n",
       "      <td>Chorus: Amen</td>\n",
       "      <td>McGegan, Nicholas</td>\n",
       "      <td>NaN</td>\n",
       "      <td>False</td>\n",
       "    </tr>\n",
       "    <tr>\n",
       "      <th>82575</th>\n",
       "      <td>884c64d6-1768-4cf1-85f1-0ac2f79bbe5c</td>\n",
       "      <td>10608</td>\n",
       "      <td>53976</td>\n",
       "      <td>51.0</td>\n",
       "      <td>Handel,  George  Frideric</td>\n",
       "      <td>MESSIAH</td>\n",
       "      <td>Chorus: Amen</td>\n",
       "      <td>Labadie, Bernard</td>\n",
       "      <td>NaN</td>\n",
       "      <td>False</td>\n",
       "    </tr>\n",
       "  </tbody>\n",
       "</table>\n",
       "<p>82576 rows × 10 columns</p>\n",
       "</div>"
      ],
      "text/plain": [
       "                                       GUID  ProgramID  WorkID  MovementID  \\\n",
       "0      38e072a7-8fc9-4f9a-8eac-3957905c0002       3853   52446         NaN   \n",
       "1      c7b2b95c-5e0b-431c-a340-5b37fc860b34       5178   52437         NaN   \n",
       "2      894e1a52-1ae5-4fa7-aec0-b99997555a37      10785   52364         1.0   \n",
       "3      34ec2c2b-3297-4716-9831-b538310462b7       5887   52434         NaN   \n",
       "4      610a4acc-94e4-4cd6-bdc1-8ad020edc7e9        305   52453         NaN   \n",
       "...                                     ...        ...     ...         ...   \n",
       "82571  734c1116-0caf-4f8b-80d0-5e423cd1bcc6       9678   53976        47.0   \n",
       "82572  884c64d6-1768-4cf1-85f1-0ac2f79bbe5c      10608   53976        47.0   \n",
       "82573  f549e93f-b35f-4824-b0d5-d543953535f8       9542   53976        51.0   \n",
       "82574  734c1116-0caf-4f8b-80d0-5e423cd1bcc6       9678   53976        51.0   \n",
       "82575  884c64d6-1768-4cf1-85f1-0ac2f79bbe5c      10608   53976        51.0   \n",
       "\n",
       "                    ComposerName  \\\n",
       "0        Beethoven,  Ludwig  van   \n",
       "1        Beethoven,  Ludwig  van   \n",
       "2        Beethoven,  Ludwig  van   \n",
       "3        Beethoven,  Ludwig  van   \n",
       "4        Beethoven,  Ludwig  van   \n",
       "...                          ...   \n",
       "82571  Handel,  George  Frideric   \n",
       "82572  Handel,  George  Frideric   \n",
       "82573  Handel,  George  Frideric   \n",
       "82574  Handel,  George  Frideric   \n",
       "82575  Handel,  George  Frideric   \n",
       "\n",
       "                                             WorkTitle  \\\n",
       "0                     SYMPHONY NO. 5 IN C MINOR, OP.67   \n",
       "1      SYMPHONY NO. 3 IN E FLAT MAJOR, OP. 55 (EROICA)   \n",
       "2                                        EGMONT, OP.84   \n",
       "3                     SYMPHONY NO. 2 IN D MAJOR, OP.36   \n",
       "4                     SYMPHONY NO. 7 IN A MAJOR, OP.92   \n",
       "...                                                ...   \n",
       "82571                                          MESSIAH   \n",
       "82572                                          MESSIAH   \n",
       "82573                                          MESSIAH   \n",
       "82574                                          MESSIAH   \n",
       "82575                                          MESSIAH   \n",
       "\n",
       "                                        Movement        ConductorName  \\\n",
       "0                                            NaN  Hill, Ureli Corelli   \n",
       "1                                            NaN  Hill, Ureli Corelli   \n",
       "2                                       Overture  Hill, Ureli Corelli   \n",
       "3                                            NaN      Boucher, Alfred   \n",
       "4                                            NaN  Hill, Ureli Corelli   \n",
       "...                                          ...                  ...   \n",
       "82571  Chorus: Worthy is the Lamb that was slain    McGegan, Nicholas   \n",
       "82572  Chorus: Worthy is the Lamb that was slain     Labadie, Bernard   \n",
       "82573                               Chorus: Amen        Bicket, Harry   \n",
       "82574                               Chorus: Amen    McGegan, Nicholas   \n",
       "82575                               Chorus: Amen     Labadie, Bernard   \n",
       "\n",
       "      Interval  isInterval  \n",
       "0          NaN       False  \n",
       "1          NaN       False  \n",
       "2          NaN       False  \n",
       "3          NaN       False  \n",
       "4          NaN       False  \n",
       "...        ...         ...  \n",
       "82571      NaN       False  \n",
       "82572      NaN       False  \n",
       "82573      NaN       False  \n",
       "82574      NaN       False  \n",
       "82575      NaN       False  \n",
       "\n",
       "[82576 rows x 10 columns]"
      ]
     },
     "execution_count": 2,
     "metadata": {},
     "output_type": "execute_result"
    }
   ],
   "source": [
    "works = pd.read_csv('./data/works.csv')\n",
    "works"
   ]
  },
  {
   "cell_type": "code",
   "execution_count": 3,
   "id": "9d8d1067",
   "metadata": {},
   "outputs": [
    {
     "name": "stdout",
     "output_type": "stream",
     "text": [
      "Train dataset: 61932 rows \n",
      "Test dataset: 20644 rows\n"
     ]
    }
   ],
   "source": [
    "X_train, X_test = train_test_split(works)\n",
    "print(f'Train dataset: {X_train.shape[0]} rows \\nTest dataset: {X_test.shape[0]} rows')\n"
   ]
  },
  {
   "cell_type": "markdown",
   "id": "01740ef8",
   "metadata": {},
   "source": [
    "## 3.1 How is modeling different from transformation\n",
    "\n",
    "In Pandas, we merely transformed the original dataframe into a new one.\n",
    "\n",
    "But sometimes, this isn't possible. Let's start with an example: encoding categorical variables.\n",
    "\n",
    "Remember: we need to perform the same transformations on train and test data (and whatever data comes next)."
   ]
  },
  {
   "cell_type": "code",
   "execution_count": 4,
   "id": "9994b027",
   "metadata": {},
   "outputs": [
    {
     "data": {
      "text/html": [
       "<div>\n",
       "<style scoped>\n",
       "    .dataframe tbody tr th:only-of-type {\n",
       "        vertical-align: middle;\n",
       "    }\n",
       "\n",
       "    .dataframe tbody tr th {\n",
       "        vertical-align: top;\n",
       "    }\n",
       "\n",
       "    .dataframe thead th {\n",
       "        text-align: right;\n",
       "    }\n",
       "</style>\n",
       "<table border=\"1\" class=\"dataframe\">\n",
       "  <thead>\n",
       "    <tr style=\"text-align: right;\">\n",
       "      <th></th>\n",
       "      <th>ComposerName</th>\n",
       "      <th>ComposerNameEncoded</th>\n",
       "    </tr>\n",
       "  </thead>\n",
       "  <tbody>\n",
       "    <tr>\n",
       "      <th>48364</th>\n",
       "      <td>Berg,  Alban</td>\n",
       "      <td>177</td>\n",
       "    </tr>\n",
       "  </tbody>\n",
       "</table>\n",
       "</div>"
      ],
      "text/plain": [
       "       ComposerName  ComposerNameEncoded\n",
       "48364  Berg,  Alban                  177"
      ]
     },
     "execution_count": 4,
     "metadata": {},
     "output_type": "execute_result"
    }
   ],
   "source": [
    "def transform_data(df):\n",
    "    \"\"\"\n",
    "        This function transforms the dataframe by removing the intervals and\n",
    "        encoding the categorical columns\n",
    "    \"\"\"\n",
    "    df = df.copy()\n",
    "    df = (df.pipe(remove_intervals)\n",
    "            .pipe(label_encoder, 'ComposerName'))\n",
    "    return df\n",
    "\n",
    "\n",
    "def remove_intervals(df):\n",
    "    \"\"\"\n",
    "        This function remove the intervals from the dataframe\n",
    "    \"\"\"\n",
    "    df = df.copy()\n",
    "    mask = df['Interval'].isnull()\n",
    "    df = (df.loc[mask, :]\n",
    "            .drop(columns='Interval'))\n",
    "    return df\n",
    "    \n",
    "\n",
    "def label_encoder(df, column):\n",
    "    \"\"\"\n",
    "        This function encodes a given categorical column\n",
    "    \"\"\"\n",
    "    df = df.copy()\n",
    "    df[column + 'Encoded'] = df[column].astype('category').cat.codes\n",
    "    return df\n",
    "\n",
    "\n",
    "X_train_ = transform_data(X_train)\n",
    "\n",
    "train_alban_berg = X_train_['ComposerName'] == 'Berg,  Alban'\n",
    "(X_train_.loc[train_alban_berg, ['ComposerName', 'ComposerNameEncoded']]\n",
    "         .drop_duplicates())"
   ]
  },
  {
   "cell_type": "markdown",
   "id": "2babed28",
   "metadata": {},
   "source": [
    "All is good. We removed the intervals (just like we did previously), and we transformed the original dataframe.\n",
    "\n",
    "For convenience, we are keeping only the `ComposerName` and `ComposerNameEncoded` columns and removing duplicates.\n",
    "\n",
    "Let's do the same to the test data."
   ]
  },
  {
   "cell_type": "code",
   "execution_count": 5,
   "id": "9bebe0d2",
   "metadata": {},
   "outputs": [
    {
     "data": {
      "text/html": [
       "<div>\n",
       "<style scoped>\n",
       "    .dataframe tbody tr th:only-of-type {\n",
       "        vertical-align: middle;\n",
       "    }\n",
       "\n",
       "    .dataframe tbody tr th {\n",
       "        vertical-align: top;\n",
       "    }\n",
       "\n",
       "    .dataframe thead th {\n",
       "        text-align: right;\n",
       "    }\n",
       "</style>\n",
       "<table border=\"1\" class=\"dataframe\">\n",
       "  <thead>\n",
       "    <tr style=\"text-align: right;\">\n",
       "      <th></th>\n",
       "      <th>ComposerName</th>\n",
       "      <th>ComposerNameEncoded</th>\n",
       "    </tr>\n",
       "  </thead>\n",
       "  <tbody>\n",
       "    <tr>\n",
       "      <th>23114</th>\n",
       "      <td>Berg,  Alban</td>\n",
       "      <td>91</td>\n",
       "    </tr>\n",
       "  </tbody>\n",
       "</table>\n",
       "</div>"
      ],
      "text/plain": [
       "       ComposerName  ComposerNameEncoded\n",
       "23114  Berg,  Alban                   91"
      ]
     },
     "execution_count": 5,
     "metadata": {},
     "output_type": "execute_result"
    }
   ],
   "source": [
    "X_test_ = transform_data(X_test)\n",
    "\n",
    "test_alban_berg = X_test_['ComposerName'] == 'Berg,  Alban'\n",
    "(X_test_.loc[test_alban_berg, ['ComposerName', 'ComposerNameEncoded']]\n",
    "        .drop_duplicates())"
   ]
  },
  {
   "cell_type": "markdown",
   "id": "5a6bb78a",
   "metadata": {},
   "source": [
    "Do you see the problem? The same `ComposerName` can (and will, in all probability) get different encodings.\n",
    "\n",
    "This problem is significant, as it would lead us to make wrong predictions!!\n",
    "\n",
    "There are other cases in which this kind of problems arises. For instance, when replacing missing values with the mean:\n",
    "* You are supposed to compute the mean on the training set and use it to transform both train and test sets\n",
    "* Otherwise, you end up underestimating your correct generalization error.\n",
    "\n",
    "This particular learning unit is not about modeling at a conceptual level, but you get the point: \n",
    "* Somehow, you need to fit the transformer on your training data first (e.g., define the encodings, compute the means)\n",
    "* Transform both train and test sets (and any data that might come in, really) using the pre-fitted transformers.\n",
    "\n",
    "These transformations are more like modeling. In fact, all of this *is* modeling and part of your model. \n",
    "\n",
    "How do we solve this? **We need transformers that are more like models.**\n",
    "\n",
    "## 3.2 Meet the sklearn-like transformers\n",
    "\n",
    "There are three fundamental verbs in scikit-learn and sklearn-like libraries:\n",
    "* `.fit()`\n",
    "* `.transform()`\n",
    "* `.predict()`.\n",
    "\n",
    "You are already familiar with `.fit()` and `.predict()`, from the Bootcamp and the Hackathon #1.  We use them to train models and make predictions.\n",
    "\n",
    "Here, we will explore a new combo: `.fit()` and `.transform()`. This is how it works.\n",
    "\n",
    "![sklearn_like_transformation_pipeline](./media/sklearn_like_transformation_pipeline.png)\n",
    "\n",
    "*Fig 2. - A data pipeline with consistent transformers, fitted on the training set.*\n",
    "\n",
    "In short, we fit a transformer on the training data and use it to transform the training data.\n",
    "\n",
    "We will, however, return the transformer so we can use it to transform new, incoming data as well. Confusing? Perhaps.\n",
    "\n",
    "Time to get practical: meet the `categorical_encoders`, a set of transformers for encoding categorical variables."
   ]
  },
  {
   "cell_type": "code",
   "execution_count": 6,
   "id": "5996aed8",
   "metadata": {},
   "outputs": [
    {
     "data": {
      "text/html": [
       "<div>\n",
       "<style scoped>\n",
       "    .dataframe tbody tr th:only-of-type {\n",
       "        vertical-align: middle;\n",
       "    }\n",
       "\n",
       "    .dataframe tbody tr th {\n",
       "        vertical-align: top;\n",
       "    }\n",
       "\n",
       "    .dataframe thead th {\n",
       "        text-align: right;\n",
       "    }\n",
       "</style>\n",
       "<table border=\"1\" class=\"dataframe\">\n",
       "  <thead>\n",
       "    <tr style=\"text-align: right;\">\n",
       "      <th></th>\n",
       "      <th>GUID</th>\n",
       "      <th>ProgramID</th>\n",
       "      <th>WorkID</th>\n",
       "      <th>MovementID</th>\n",
       "      <th>ComposerName</th>\n",
       "      <th>WorkTitle</th>\n",
       "      <th>Movement</th>\n",
       "      <th>ConductorName</th>\n",
       "      <th>Interval</th>\n",
       "      <th>isInterval</th>\n",
       "    </tr>\n",
       "  </thead>\n",
       "  <tbody>\n",
       "    <tr>\n",
       "      <th>63424</th>\n",
       "      <td>f433ebb7-ce15-493e-b7e4-fa20c7d9ffcf</td>\n",
       "      <td>4140</td>\n",
       "      <td>9006</td>\n",
       "      <td>10.0</td>\n",
       "      <td>1</td>\n",
       "      <td>GOTTERDAMMERUNG [GÖTTERDÄMMERUNG]</td>\n",
       "      <td>Siegfried's Funeral Music, ACT III, scene ii</td>\n",
       "      <td>Barbirolli, John</td>\n",
       "      <td>NaN</td>\n",
       "      <td>False</td>\n",
       "    </tr>\n",
       "    <tr>\n",
       "      <th>41769</th>\n",
       "      <td>ed4130ea-a91d-414d-bd47-8b86bb5b6dd0</td>\n",
       "      <td>1016</td>\n",
       "      <td>9194</td>\n",
       "      <td>1.0</td>\n",
       "      <td>2</td>\n",
       "      <td>BARTERED BRIDE, THE</td>\n",
       "      <td>Overture (\"Overture to a Comedy\")</td>\n",
       "      <td>Stransky, Josef</td>\n",
       "      <td>NaN</td>\n",
       "      <td>False</td>\n",
       "    </tr>\n",
       "    <tr>\n",
       "      <th>15638</th>\n",
       "      <td>16814952-bc58-45eb-b0de-211e499022d7</td>\n",
       "      <td>10357</td>\n",
       "      <td>50027</td>\n",
       "      <td>NaN</td>\n",
       "      <td>3</td>\n",
       "      <td>SERENADE FOR STRINGS, OP.48</td>\n",
       "      <td>NaN</td>\n",
       "      <td>Damrosch, Walter</td>\n",
       "      <td>NaN</td>\n",
       "      <td>False</td>\n",
       "    </tr>\n",
       "    <tr>\n",
       "      <th>39300</th>\n",
       "      <td>19ec976d-3245-4b9e-bf70-246c8000ea7a</td>\n",
       "      <td>10342</td>\n",
       "      <td>8088</td>\n",
       "      <td>NaN</td>\n",
       "      <td>4</td>\n",
       "      <td>EARLE OF OXFORD'S MARCH, THE (BRASS AND PERCUS...</td>\n",
       "      <td>NaN</td>\n",
       "      <td>Holtan, Timothy J.</td>\n",
       "      <td>NaN</td>\n",
       "      <td>False</td>\n",
       "    </tr>\n",
       "    <tr>\n",
       "      <th>30773</th>\n",
       "      <td>e49104fe-e447-4d6d-b6db-b6b60dbd28dd</td>\n",
       "      <td>12731</td>\n",
       "      <td>51965</td>\n",
       "      <td>NaN</td>\n",
       "      <td>5</td>\n",
       "      <td>TILL EULENSPIEGELS LUSTIGE STREICHE, OP. 28</td>\n",
       "      <td>NaN</td>\n",
       "      <td>Coates, Albert</td>\n",
       "      <td>NaN</td>\n",
       "      <td>False</td>\n",
       "    </tr>\n",
       "  </tbody>\n",
       "</table>\n",
       "</div>"
      ],
      "text/plain": [
       "                                       GUID  ProgramID  WorkID  MovementID  \\\n",
       "63424  f433ebb7-ce15-493e-b7e4-fa20c7d9ffcf       4140    9006        10.0   \n",
       "41769  ed4130ea-a91d-414d-bd47-8b86bb5b6dd0       1016    9194         1.0   \n",
       "15638  16814952-bc58-45eb-b0de-211e499022d7      10357   50027         NaN   \n",
       "39300  19ec976d-3245-4b9e-bf70-246c8000ea7a      10342    8088         NaN   \n",
       "30773  e49104fe-e447-4d6d-b6db-b6b60dbd28dd      12731   51965         NaN   \n",
       "\n",
       "       ComposerName                                          WorkTitle  \\\n",
       "63424             1                  GOTTERDAMMERUNG [GÖTTERDÄMMERUNG]   \n",
       "41769             2                                BARTERED BRIDE, THE   \n",
       "15638             3                        SERENADE FOR STRINGS, OP.48   \n",
       "39300             4  EARLE OF OXFORD'S MARCH, THE (BRASS AND PERCUS...   \n",
       "30773             5        TILL EULENSPIEGELS LUSTIGE STREICHE, OP. 28   \n",
       "\n",
       "                                           Movement       ConductorName  \\\n",
       "63424  Siegfried's Funeral Music, ACT III, scene ii    Barbirolli, John   \n",
       "41769             Overture (\"Overture to a Comedy\")     Stransky, Josef   \n",
       "15638                                           NaN    Damrosch, Walter   \n",
       "39300                                           NaN  Holtan, Timothy J.   \n",
       "30773                                           NaN      Coates, Albert   \n",
       "\n",
       "      Interval  isInterval  \n",
       "63424      NaN       False  \n",
       "41769      NaN       False  \n",
       "15638      NaN       False  \n",
       "39300      NaN       False  \n",
       "30773      NaN       False  "
      ]
     },
     "execution_count": 6,
     "metadata": {},
     "output_type": "execute_result"
    }
   ],
   "source": [
    "encoder = OrdinalEncoder(cols=['ComposerName'])\n",
    "X_train_ = encoder.fit_transform(X_train)\n",
    "X_train_.head()"
   ]
  },
  {
   "cell_type": "markdown",
   "id": "e365274b",
   "metadata": {},
   "source": [
    "We can now use it transform our test set."
   ]
  },
  {
   "cell_type": "code",
   "execution_count": 7,
   "id": "2b3f4b94",
   "metadata": {},
   "outputs": [
    {
     "data": {
      "text/html": [
       "<div>\n",
       "<style scoped>\n",
       "    .dataframe tbody tr th:only-of-type {\n",
       "        vertical-align: middle;\n",
       "    }\n",
       "\n",
       "    .dataframe tbody tr th {\n",
       "        vertical-align: top;\n",
       "    }\n",
       "\n",
       "    .dataframe thead th {\n",
       "        text-align: right;\n",
       "    }\n",
       "</style>\n",
       "<table border=\"1\" class=\"dataframe\">\n",
       "  <thead>\n",
       "    <tr style=\"text-align: right;\">\n",
       "      <th></th>\n",
       "      <th>GUID</th>\n",
       "      <th>ProgramID</th>\n",
       "      <th>WorkID</th>\n",
       "      <th>MovementID</th>\n",
       "      <th>ComposerName</th>\n",
       "      <th>WorkTitle</th>\n",
       "      <th>Movement</th>\n",
       "      <th>ConductorName</th>\n",
       "      <th>Interval</th>\n",
       "      <th>isInterval</th>\n",
       "    </tr>\n",
       "  </thead>\n",
       "  <tbody>\n",
       "    <tr>\n",
       "      <th>1699</th>\n",
       "      <td>035494fc-6d33-4761-bb40-c6c39fce5386</td>\n",
       "      <td>5445</td>\n",
       "      <td>53344</td>\n",
       "      <td>NaN</td>\n",
       "      <td>44.0</td>\n",
       "      <td>SYMPHONY NO. 8, G MAJOR, OP.88 (OLD NO. 4)</td>\n",
       "      <td>NaN</td>\n",
       "      <td>Stransky, Josef</td>\n",
       "      <td>NaN</td>\n",
       "      <td>False</td>\n",
       "    </tr>\n",
       "    <tr>\n",
       "      <th>62165</th>\n",
       "      <td>98445cf7-55c3-4aeb-aeac-dfe87eb6ec63</td>\n",
       "      <td>2526</td>\n",
       "      <td>50064</td>\n",
       "      <td>NaN</td>\n",
       "      <td>3.0</td>\n",
       "      <td>SYMPHONY NO. 4, F MINOR, OP. 36</td>\n",
       "      <td>NaN</td>\n",
       "      <td>Stransky, Josef</td>\n",
       "      <td>NaN</td>\n",
       "      <td>False</td>\n",
       "    </tr>\n",
       "    <tr>\n",
       "      <th>58368</th>\n",
       "      <td>c8e8ef33-dc28-4f96-b676-83747e6974d7</td>\n",
       "      <td>439</td>\n",
       "      <td>5637</td>\n",
       "      <td>NaN</td>\n",
       "      <td>9.0</td>\n",
       "      <td>IN THE SILENT NIGHT, OP. 4, NO. 3</td>\n",
       "      <td>NaN</td>\n",
       "      <td>Kostelanetz, Andre</td>\n",
       "      <td>NaN</td>\n",
       "      <td>False</td>\n",
       "    </tr>\n",
       "    <tr>\n",
       "      <th>21605</th>\n",
       "      <td>d00dde6c-e183-469b-adad-a4bad9dd55c4</td>\n",
       "      <td>843</td>\n",
       "      <td>5801</td>\n",
       "      <td>8.0</td>\n",
       "      <td>108.0</td>\n",
       "      <td>MIDSUMMER NIGHT'S DREAM, OP. 61</td>\n",
       "      <td>7. Nocturne: Andante tranquillo</td>\n",
       "      <td>Gamson, Arnold</td>\n",
       "      <td>NaN</td>\n",
       "      <td>False</td>\n",
       "    </tr>\n",
       "    <tr>\n",
       "      <th>50487</th>\n",
       "      <td>eb369a99-904c-45a1-9a1a-079cc8bffa02</td>\n",
       "      <td>8788</td>\n",
       "      <td>53254</td>\n",
       "      <td>NaN</td>\n",
       "      <td>58.0</td>\n",
       "      <td>SYMPHONY NO. 2, D MAJOR, OP. 43</td>\n",
       "      <td>NaN</td>\n",
       "      <td>Volkov, Ilan</td>\n",
       "      <td>NaN</td>\n",
       "      <td>False</td>\n",
       "    </tr>\n",
       "  </tbody>\n",
       "</table>\n",
       "</div>"
      ],
      "text/plain": [
       "                                       GUID  ProgramID  WorkID  MovementID  \\\n",
       "1699   035494fc-6d33-4761-bb40-c6c39fce5386       5445   53344         NaN   \n",
       "62165  98445cf7-55c3-4aeb-aeac-dfe87eb6ec63       2526   50064         NaN   \n",
       "58368  c8e8ef33-dc28-4f96-b676-83747e6974d7        439    5637         NaN   \n",
       "21605  d00dde6c-e183-469b-adad-a4bad9dd55c4        843    5801         8.0   \n",
       "50487  eb369a99-904c-45a1-9a1a-079cc8bffa02       8788   53254         NaN   \n",
       "\n",
       "       ComposerName                                   WorkTitle  \\\n",
       "1699           44.0  SYMPHONY NO. 8, G MAJOR, OP.88 (OLD NO. 4)   \n",
       "62165           3.0             SYMPHONY NO. 4, F MINOR, OP. 36   \n",
       "58368           9.0           IN THE SILENT NIGHT, OP. 4, NO. 3   \n",
       "21605         108.0             MIDSUMMER NIGHT'S DREAM, OP. 61   \n",
       "50487          58.0             SYMPHONY NO. 2, D MAJOR, OP. 43   \n",
       "\n",
       "                              Movement       ConductorName Interval  \\\n",
       "1699                               NaN     Stransky, Josef      NaN   \n",
       "62165                              NaN     Stransky, Josef      NaN   \n",
       "58368                              NaN  Kostelanetz, Andre      NaN   \n",
       "21605  7. Nocturne: Andante tranquillo      Gamson, Arnold      NaN   \n",
       "50487                              NaN        Volkov, Ilan      NaN   \n",
       "\n",
       "       isInterval  \n",
       "1699        False  \n",
       "62165       False  \n",
       "58368       False  \n",
       "21605       False  \n",
       "50487       False  "
      ]
     },
     "execution_count": 7,
     "metadata": {},
     "output_type": "execute_result"
    }
   ],
   "source": [
    "X_test_ = encoder.transform(X_test)\n",
    "X_test_.head()"
   ]
  },
  {
   "cell_type": "markdown",
   "id": "87406c64",
   "metadata": {},
   "source": [
    "Let's re-do our transformer functions so that they can either fit a transformer or accept a pre-fitted one.\n",
    "\n",
    "We have to change our `label_encoder()` first to incorporate this logic. Then we need to adapt `transform_data()`."
   ]
  },
  {
   "cell_type": "code",
   "execution_count": 8,
   "id": "5d100de5",
   "metadata": {},
   "outputs": [
    {
     "name": "stdout",
     "output_type": "stream",
     "text": [
      "Encodings: Wagner,  Richard               1\n",
      "Smetana,  Bedrich              2\n",
      "Tchaikovsky,  Pyotr  Ilyich    3\n",
      "Byrd,  William                 4\n",
      "dtype: int64\n"
     ]
    }
   ],
   "source": [
    "def transform_data(df, encoder=None):\n",
    "    df = df.copy()\n",
    "    df, encoder = (df.pipe(remove_intervals)\n",
    "                     .pipe(label_encoder, 'ComposerName', encoder))\n",
    "    \n",
    "    return df, encoder\n",
    "\n",
    "\n",
    "def label_encoder(df, columns, encoder=None):\n",
    "    if not encoder:\n",
    "        encoder = OrdinalEncoder(cols=[columns])\n",
    "        encoder.fit(df)\n",
    "        \n",
    "    preview_encodings(encoder)\n",
    "\n",
    "    df = df.copy()\n",
    "    df = encoder.transform(df)\n",
    "\n",
    "    return df, encoder\n",
    "\n",
    "    \n",
    "def preview_encodings(encoder):\n",
    "    encodings = encoder.category_mapping[0]['mapping'][:4]\n",
    "    print('Encodings: {}'.format(encodings))\n",
    "    return None\n",
    "\n",
    "X_train_, encoder = transform_data(X_train)"
   ]
  },
  {
   "cell_type": "markdown",
   "id": "ba79cdd6",
   "metadata": {},
   "source": [
    "In the code above, we changed our functions so that they can receive an encoder. \n",
    "\n",
    "Otherwise, they fit and return the new one for re-use.\n",
    "\n",
    "From a consistency standpoint, things should be looking good. Nonetheless, you are previewing the encoder as a sanity check."
   ]
  },
  {
   "cell_type": "code",
   "execution_count": 9,
   "id": "84d5fc81",
   "metadata": {},
   "outputs": [
    {
     "name": "stdout",
     "output_type": "stream",
     "text": [
      "Encodings: Wagner,  Richard               1\n",
      "Smetana,  Bedrich              2\n",
      "Tchaikovsky,  Pyotr  Ilyich    3\n",
      "Byrd,  William                 4\n",
      "dtype: int64\n"
     ]
    }
   ],
   "source": [
    "X_test_ = transform_data(X_test, encoder=encoder)"
   ]
  },
  {
   "cell_type": "markdown",
   "id": "4bf2e526",
   "metadata": {},
   "source": [
    "What kind of transformations do you need to perform this way? Some widespread ones are:\n",
    "* Encoding (as we've seen)\n",
    "* Scaling\n",
    "* Vectorization (you will learn about this in the next specialization!)\n",
    "* Missing data imputation.\n",
    "\n",
    "Now, this changes things (right?):\n",
    "* We lose the ability to do method chaining, as we have to return encodings as intermediate outputs\n",
    "* We need to segregate pipelines for training (fit and transform) and test (transform), which adds complexity and it's error-prone.\n",
    "\n",
    "Since we want to perform the same transformations on all datasets, storing all the correct steps is critical for reproducibility and consistency.\n",
    "\n",
    "As it turns out, scikit-learn provides us with a distinctive take on pipelines, allowing us to wrap all of this in a single META-TRANSFORMER.\n",
    "\n",
    "Meet the Megazord.\n",
    "\n",
    "![megazord](./media/megazord.png)\n",
    "\n",
    "*Fig 3. - A meta-transformer in practice.*\n",
    "\n"
   ]
  },
  {
   "cell_type": "markdown",
   "id": "3dc9d11d",
   "metadata": {},
   "source": [
    "## 3.3 Pipelines\n",
    "\n",
    "The sklearn's `Pipelines` provide a higher level of abstraction than the individual building blocks.\n",
    "\n",
    "Let's tie together all these sequential transformers and run `Megazord.fit()` and `Megazord.transform()` on the whole thing. This should make managing our code much easier, right?\n",
    "\n",
    "Let's do it:\n",
    "* We want to replace the missing values with the mode\n",
    "* We want to one-hot-encode all categorical variables.\n",
    "\n",
    "First things first, some Pandas magic: let's drop the ID columns and exclude the intervals."
   ]
  },
  {
   "cell_type": "code",
   "execution_count": 10,
   "id": "57d2ddd8",
   "metadata": {},
   "outputs": [
    {
     "data": {
      "text/html": [
       "<div>\n",
       "<style scoped>\n",
       "    .dataframe tbody tr th:only-of-type {\n",
       "        vertical-align: middle;\n",
       "    }\n",
       "\n",
       "    .dataframe tbody tr th {\n",
       "        vertical-align: top;\n",
       "    }\n",
       "\n",
       "    .dataframe thead th {\n",
       "        text-align: right;\n",
       "    }\n",
       "</style>\n",
       "<table border=\"1\" class=\"dataframe\">\n",
       "  <thead>\n",
       "    <tr style=\"text-align: right;\">\n",
       "      <th></th>\n",
       "      <th>ComposerName</th>\n",
       "      <th>WorkTitle</th>\n",
       "      <th>Movement</th>\n",
       "      <th>ConductorName</th>\n",
       "      <th>isInterval</th>\n",
       "    </tr>\n",
       "  </thead>\n",
       "  <tbody>\n",
       "    <tr>\n",
       "      <th>63424</th>\n",
       "      <td>Wagner,  Richard</td>\n",
       "      <td>GOTTERDAMMERUNG [GÖTTERDÄMMERUNG]</td>\n",
       "      <td>Siegfried's Funeral Music, ACT III, scene ii</td>\n",
       "      <td>Barbirolli, John</td>\n",
       "      <td>False</td>\n",
       "    </tr>\n",
       "    <tr>\n",
       "      <th>41769</th>\n",
       "      <td>Smetana,  Bedrich</td>\n",
       "      <td>BARTERED BRIDE, THE</td>\n",
       "      <td>Overture (\"Overture to a Comedy\")</td>\n",
       "      <td>Stransky, Josef</td>\n",
       "      <td>False</td>\n",
       "    </tr>\n",
       "    <tr>\n",
       "      <th>15638</th>\n",
       "      <td>Tchaikovsky,  Pyotr  Ilyich</td>\n",
       "      <td>SERENADE FOR STRINGS, OP.48</td>\n",
       "      <td>NaN</td>\n",
       "      <td>Damrosch, Walter</td>\n",
       "      <td>False</td>\n",
       "    </tr>\n",
       "    <tr>\n",
       "      <th>39300</th>\n",
       "      <td>Byrd,  William</td>\n",
       "      <td>EARLE OF OXFORD'S MARCH, THE (BRASS AND PERCUS...</td>\n",
       "      <td>NaN</td>\n",
       "      <td>Holtan, Timothy J.</td>\n",
       "      <td>False</td>\n",
       "    </tr>\n",
       "    <tr>\n",
       "      <th>30773</th>\n",
       "      <td>Strauss,  Richard</td>\n",
       "      <td>TILL EULENSPIEGELS LUSTIGE STREICHE, OP. 28</td>\n",
       "      <td>NaN</td>\n",
       "      <td>Coates, Albert</td>\n",
       "      <td>False</td>\n",
       "    </tr>\n",
       "  </tbody>\n",
       "</table>\n",
       "</div>"
      ],
      "text/plain": [
       "                      ComposerName  \\\n",
       "63424             Wagner,  Richard   \n",
       "41769            Smetana,  Bedrich   \n",
       "15638  Tchaikovsky,  Pyotr  Ilyich   \n",
       "39300               Byrd,  William   \n",
       "30773            Strauss,  Richard   \n",
       "\n",
       "                                               WorkTitle  \\\n",
       "63424                  GOTTERDAMMERUNG [GÖTTERDÄMMERUNG]   \n",
       "41769                                BARTERED BRIDE, THE   \n",
       "15638                        SERENADE FOR STRINGS, OP.48   \n",
       "39300  EARLE OF OXFORD'S MARCH, THE (BRASS AND PERCUS...   \n",
       "30773        TILL EULENSPIEGELS LUSTIGE STREICHE, OP. 28   \n",
       "\n",
       "                                           Movement       ConductorName  \\\n",
       "63424  Siegfried's Funeral Music, ACT III, scene ii    Barbirolli, John   \n",
       "41769             Overture (\"Overture to a Comedy\")     Stransky, Josef   \n",
       "15638                                           NaN    Damrosch, Walter   \n",
       "39300                                           NaN  Holtan, Timothy J.   \n",
       "30773                                           NaN      Coates, Albert   \n",
       "\n",
       "      isInterval  \n",
       "63424      False  \n",
       "41769      False  \n",
       "15638      False  \n",
       "39300      False  \n",
       "30773      False  "
      ]
     },
     "execution_count": 10,
     "metadata": {},
     "output_type": "execute_result"
    }
   ],
   "source": [
    "def prepare_data(df):\n",
    "    df = df.copy()\n",
    "    df = (df.pipe(drop_id_fields)\n",
    "            .pipe(remove_intervals)\n",
    "            .drop_duplicates())\n",
    "    \n",
    "    df[\"isInterval\"] = df[\"isInterval\"].astype(\"category\")\n",
    "    return df\n",
    "\n",
    "def drop_id_fields(df):\n",
    "    columns = ['GUID', 'ProgramID', 'WorkID', 'MovementID']\n",
    "    df = df.copy()\n",
    "    df = df.drop(columns=columns)\n",
    "    return df\n",
    "\n",
    "X_train_ = prepare_data(X_train)\n",
    "X_train_.head()"
   ]
  },
  {
   "cell_type": "code",
   "execution_count": 11,
   "id": "eed20c9c",
   "metadata": {},
   "outputs": [
    {
     "data": {
      "text/html": [
       "<div>\n",
       "<style scoped>\n",
       "    .dataframe tbody tr th:only-of-type {\n",
       "        vertical-align: middle;\n",
       "    }\n",
       "\n",
       "    .dataframe tbody tr th {\n",
       "        vertical-align: top;\n",
       "    }\n",
       "\n",
       "    .dataframe thead th {\n",
       "        text-align: right;\n",
       "    }\n",
       "</style>\n",
       "<table border=\"1\" class=\"dataframe\">\n",
       "  <thead>\n",
       "    <tr style=\"text-align: right;\">\n",
       "      <th></th>\n",
       "      <th>ComposerName</th>\n",
       "      <th>WorkTitle</th>\n",
       "      <th>Movement</th>\n",
       "      <th>ConductorName</th>\n",
       "      <th>isInterval</th>\n",
       "    </tr>\n",
       "  </thead>\n",
       "  <tbody>\n",
       "    <tr>\n",
       "      <th>1699</th>\n",
       "      <td>Dvorak,  Antonín</td>\n",
       "      <td>SYMPHONY NO. 8, G MAJOR, OP.88 (OLD NO. 4)</td>\n",
       "      <td>NaN</td>\n",
       "      <td>Stransky, Josef</td>\n",
       "      <td>False</td>\n",
       "    </tr>\n",
       "    <tr>\n",
       "      <th>62165</th>\n",
       "      <td>Tchaikovsky,  Pyotr  Ilyich</td>\n",
       "      <td>SYMPHONY NO. 4, F MINOR, OP. 36</td>\n",
       "      <td>NaN</td>\n",
       "      <td>Stransky, Josef</td>\n",
       "      <td>False</td>\n",
       "    </tr>\n",
       "    <tr>\n",
       "      <th>58368</th>\n",
       "      <td>Rachmaninoff,  Sergei</td>\n",
       "      <td>IN THE SILENT NIGHT, OP. 4, NO. 3</td>\n",
       "      <td>NaN</td>\n",
       "      <td>Kostelanetz, Andre</td>\n",
       "      <td>False</td>\n",
       "    </tr>\n",
       "    <tr>\n",
       "      <th>21605</th>\n",
       "      <td>Mendelssohn,  Felix</td>\n",
       "      <td>MIDSUMMER NIGHT'S DREAM, OP. 61</td>\n",
       "      <td>7. Nocturne: Andante tranquillo</td>\n",
       "      <td>Gamson, Arnold</td>\n",
       "      <td>False</td>\n",
       "    </tr>\n",
       "    <tr>\n",
       "      <th>50487</th>\n",
       "      <td>Sibelius,  Jean</td>\n",
       "      <td>SYMPHONY NO. 2, D MAJOR, OP. 43</td>\n",
       "      <td>NaN</td>\n",
       "      <td>Volkov, Ilan</td>\n",
       "      <td>False</td>\n",
       "    </tr>\n",
       "  </tbody>\n",
       "</table>\n",
       "</div>"
      ],
      "text/plain": [
       "                      ComposerName  \\\n",
       "1699              Dvorak,  Antonín   \n",
       "62165  Tchaikovsky,  Pyotr  Ilyich   \n",
       "58368        Rachmaninoff,  Sergei   \n",
       "21605          Mendelssohn,  Felix   \n",
       "50487              Sibelius,  Jean   \n",
       "\n",
       "                                        WorkTitle  \\\n",
       "1699   SYMPHONY NO. 8, G MAJOR, OP.88 (OLD NO. 4)   \n",
       "62165             SYMPHONY NO. 4, F MINOR, OP. 36   \n",
       "58368           IN THE SILENT NIGHT, OP. 4, NO. 3   \n",
       "21605             MIDSUMMER NIGHT'S DREAM, OP. 61   \n",
       "50487             SYMPHONY NO. 2, D MAJOR, OP. 43   \n",
       "\n",
       "                              Movement       ConductorName isInterval  \n",
       "1699                               NaN     Stransky, Josef      False  \n",
       "62165                              NaN     Stransky, Josef      False  \n",
       "58368                              NaN  Kostelanetz, Andre      False  \n",
       "21605  7. Nocturne: Andante tranquillo      Gamson, Arnold      False  \n",
       "50487                              NaN        Volkov, Ilan      False  "
      ]
     },
     "execution_count": 11,
     "metadata": {},
     "output_type": "execute_result"
    }
   ],
   "source": [
    "X_test_ = prepare_data(X_test)\n",
    "X_test_.head()"
   ]
  },
  {
   "cell_type": "markdown",
   "id": "ec322803",
   "metadata": {},
   "source": [
    "Here's how we are going to do it:\n",
    "1. Create an `Imputer` that replaces missing values with the mode of the column\n",
    "2. Use said `SimpleImputer` to impute the missing values\n",
    "3. Ordinal encode all the categorical features.\n",
    "\n",
    "All in one, single, amazing, Megazord.\n",
    "\n",
    "## 3.4 Custom transformers\n",
    "\n",
    "We can build our own custom transformers, for as long as they follow the usual blueprint:\n",
    "* Implement `Transformer.fit()`\n",
    "* And `Transformer.transform()`.\n",
    "\n",
    "All scikit-learn estimators have `get_params()` and `set_params()` functions. \n",
    "\n",
    "The easiest way to implement these functions sensibly is to inherit from `sklearn.base.BaseEstimator`, as we're doing below.\n",
    "\n",
    "And `Pipeline` compatibility requires a `fit_transform()` method that we are inheriting from `sklearn.base.TransformerMixin`."
   ]
  },
  {
   "cell_type": "code",
   "execution_count": 12,
   "id": "784d6ead",
   "metadata": {},
   "outputs": [],
   "source": [
    "class FeatureMultiplier(BaseEstimator, TransformerMixin):\n",
    "    def __init__(self, some_parameter):\n",
    "        self.some_parameter = some_parameter\n",
    "\n",
    "    def fit(self, X, y=None):\n",
    "        # Fit the transformer and store it.\n",
    "        return self\n",
    "        \n",
    "    def transform(self, X):\n",
    "        # Transform X.\n",
    "        return X"
   ]
  },
  {
   "cell_type": "markdown",
   "id": "484d911d",
   "metadata": {},
   "source": [
    "Also, we may want our transformer to accept some parameters. That's what we are doing when we include `some_parameter` in the `__init__`.\n",
    "\n",
    "Back to our transformers. Our blueprint:\n",
    "* We want the imputer to be able to take a `strategy` parameter, although we will support only the mode\n",
    "* Fitting requires taking the mode of each column and storing it\n",
    "* Transform implies replacing missing values with the given column modes.\n",
    "\n",
    "How are we going to compute the modes? Pandas, as always, provides a convenient `.mode()` method."
   ]
  },
  {
   "cell_type": "code",
   "execution_count": 13,
   "id": "ec8966ed",
   "metadata": {},
   "outputs": [
    {
     "data": {
      "text/html": [
       "<div>\n",
       "<style scoped>\n",
       "    .dataframe tbody tr th:only-of-type {\n",
       "        vertical-align: middle;\n",
       "    }\n",
       "\n",
       "    .dataframe tbody tr th {\n",
       "        vertical-align: top;\n",
       "    }\n",
       "\n",
       "    .dataframe thead th {\n",
       "        text-align: right;\n",
       "    }\n",
       "</style>\n",
       "<table border=\"1\" class=\"dataframe\">\n",
       "  <thead>\n",
       "    <tr style=\"text-align: right;\">\n",
       "      <th></th>\n",
       "      <th>ComposerName</th>\n",
       "      <th>WorkTitle</th>\n",
       "      <th>Movement</th>\n",
       "      <th>ConductorName</th>\n",
       "      <th>isInterval</th>\n",
       "    </tr>\n",
       "  </thead>\n",
       "  <tbody>\n",
       "    <tr>\n",
       "      <th>0</th>\n",
       "      <td>Beethoven,  Ludwig  van</td>\n",
       "      <td>MESSIAH</td>\n",
       "      <td>Overture</td>\n",
       "      <td>Damrosch, Walter</td>\n",
       "      <td>False</td>\n",
       "    </tr>\n",
       "  </tbody>\n",
       "</table>\n",
       "</div>"
      ],
      "text/plain": [
       "              ComposerName WorkTitle  Movement     ConductorName isInterval\n",
       "0  Beethoven,  Ludwig  van   MESSIAH  Overture  Damrosch, Walter      False"
      ]
     },
     "execution_count": 13,
     "metadata": {},
     "output_type": "execute_result"
    }
   ],
   "source": [
    "X_train_.mode()"
   ]
  },
  {
   "cell_type": "markdown",
   "id": "4c7cd5e2",
   "metadata": {},
   "source": [
    "To be able to use indexing we will use `df.squeeze()`, a convenient method to transform our dataframe into a `pd.Series`."
   ]
  },
  {
   "cell_type": "code",
   "execution_count": 14,
   "id": "026c6027",
   "metadata": {},
   "outputs": [
    {
     "data": {
      "text/plain": [
       "ComposerName     Beethoven,  Ludwig  van\n",
       "WorkTitle                        MESSIAH\n",
       "Movement                        Overture\n",
       "ConductorName           Damrosch, Walter\n",
       "isInterval                         False\n",
       "Name: 0, dtype: object"
      ]
     },
     "execution_count": 14,
     "metadata": {},
     "output_type": "execute_result"
    }
   ],
   "source": [
    "X_train_.mode().squeeze()"
   ]
  },
  {
   "cell_type": "markdown",
   "id": "555e0c83",
   "metadata": {},
   "source": [
    "We have everything we need."
   ]
  },
  {
   "cell_type": "code",
   "execution_count": 15,
   "id": "493540de",
   "metadata": {},
   "outputs": [
    {
     "data": {
      "text/html": [
       "<div>\n",
       "<style scoped>\n",
       "    .dataframe tbody tr th:only-of-type {\n",
       "        vertical-align: middle;\n",
       "    }\n",
       "\n",
       "    .dataframe tbody tr th {\n",
       "        vertical-align: top;\n",
       "    }\n",
       "\n",
       "    .dataframe thead th {\n",
       "        text-align: right;\n",
       "    }\n",
       "</style>\n",
       "<table border=\"1\" class=\"dataframe\">\n",
       "  <thead>\n",
       "    <tr style=\"text-align: right;\">\n",
       "      <th></th>\n",
       "      <th>GUID</th>\n",
       "      <th>ProgramID</th>\n",
       "      <th>WorkID</th>\n",
       "      <th>MovementID</th>\n",
       "      <th>ComposerName</th>\n",
       "      <th>WorkTitle</th>\n",
       "      <th>Movement</th>\n",
       "      <th>ConductorName</th>\n",
       "      <th>Interval</th>\n",
       "      <th>isInterval</th>\n",
       "    </tr>\n",
       "  </thead>\n",
       "  <tbody>\n",
       "    <tr>\n",
       "      <th>63424</th>\n",
       "      <td>f433ebb7-ce15-493e-b7e4-fa20c7d9ffcf</td>\n",
       "      <td>4140</td>\n",
       "      <td>9006</td>\n",
       "      <td>10.0</td>\n",
       "      <td>Wagner,  Richard</td>\n",
       "      <td>GOTTERDAMMERUNG [GÖTTERDÄMMERUNG]</td>\n",
       "      <td>Siegfried's Funeral Music, ACT III, scene ii</td>\n",
       "      <td>Barbirolli, John</td>\n",
       "      <td>Intermission</td>\n",
       "      <td>False</td>\n",
       "    </tr>\n",
       "    <tr>\n",
       "      <th>41769</th>\n",
       "      <td>ed4130ea-a91d-414d-bd47-8b86bb5b6dd0</td>\n",
       "      <td>1016</td>\n",
       "      <td>9194</td>\n",
       "      <td>1.0</td>\n",
       "      <td>Smetana,  Bedrich</td>\n",
       "      <td>BARTERED BRIDE, THE</td>\n",
       "      <td>Overture (\"Overture to a Comedy\")</td>\n",
       "      <td>Stransky, Josef</td>\n",
       "      <td>Intermission</td>\n",
       "      <td>False</td>\n",
       "    </tr>\n",
       "    <tr>\n",
       "      <th>15638</th>\n",
       "      <td>16814952-bc58-45eb-b0de-211e499022d7</td>\n",
       "      <td>10357</td>\n",
       "      <td>50027</td>\n",
       "      <td>1.0</td>\n",
       "      <td>Tchaikovsky,  Pyotr  Ilyich</td>\n",
       "      <td>SERENADE FOR STRINGS, OP.48</td>\n",
       "      <td>Overture</td>\n",
       "      <td>Damrosch, Walter</td>\n",
       "      <td>Intermission</td>\n",
       "      <td>False</td>\n",
       "    </tr>\n",
       "    <tr>\n",
       "      <th>39300</th>\n",
       "      <td>19ec976d-3245-4b9e-bf70-246c8000ea7a</td>\n",
       "      <td>10342</td>\n",
       "      <td>8088</td>\n",
       "      <td>1.0</td>\n",
       "      <td>Byrd,  William</td>\n",
       "      <td>EARLE OF OXFORD'S MARCH, THE (BRASS AND PERCUS...</td>\n",
       "      <td>Overture</td>\n",
       "      <td>Holtan, Timothy J.</td>\n",
       "      <td>Intermission</td>\n",
       "      <td>False</td>\n",
       "    </tr>\n",
       "    <tr>\n",
       "      <th>30773</th>\n",
       "      <td>e49104fe-e447-4d6d-b6db-b6b60dbd28dd</td>\n",
       "      <td>12731</td>\n",
       "      <td>51965</td>\n",
       "      <td>1.0</td>\n",
       "      <td>Strauss,  Richard</td>\n",
       "      <td>TILL EULENSPIEGELS LUSTIGE STREICHE, OP. 28</td>\n",
       "      <td>Overture</td>\n",
       "      <td>Coates, Albert</td>\n",
       "      <td>Intermission</td>\n",
       "      <td>False</td>\n",
       "    </tr>\n",
       "  </tbody>\n",
       "</table>\n",
       "</div>"
      ],
      "text/plain": [
       "                                       GUID  ProgramID  WorkID  MovementID  \\\n",
       "63424  f433ebb7-ce15-493e-b7e4-fa20c7d9ffcf       4140    9006        10.0   \n",
       "41769  ed4130ea-a91d-414d-bd47-8b86bb5b6dd0       1016    9194         1.0   \n",
       "15638  16814952-bc58-45eb-b0de-211e499022d7      10357   50027         1.0   \n",
       "39300  19ec976d-3245-4b9e-bf70-246c8000ea7a      10342    8088         1.0   \n",
       "30773  e49104fe-e447-4d6d-b6db-b6b60dbd28dd      12731   51965         1.0   \n",
       "\n",
       "                      ComposerName  \\\n",
       "63424             Wagner,  Richard   \n",
       "41769            Smetana,  Bedrich   \n",
       "15638  Tchaikovsky,  Pyotr  Ilyich   \n",
       "39300               Byrd,  William   \n",
       "30773            Strauss,  Richard   \n",
       "\n",
       "                                               WorkTitle  \\\n",
       "63424                  GOTTERDAMMERUNG [GÖTTERDÄMMERUNG]   \n",
       "41769                                BARTERED BRIDE, THE   \n",
       "15638                        SERENADE FOR STRINGS, OP.48   \n",
       "39300  EARLE OF OXFORD'S MARCH, THE (BRASS AND PERCUS...   \n",
       "30773        TILL EULENSPIEGELS LUSTIGE STREICHE, OP. 28   \n",
       "\n",
       "                                           Movement       ConductorName  \\\n",
       "63424  Siegfried's Funeral Music, ACT III, scene ii    Barbirolli, John   \n",
       "41769             Overture (\"Overture to a Comedy\")     Stransky, Josef   \n",
       "15638                                      Overture    Damrosch, Walter   \n",
       "39300                                      Overture  Holtan, Timothy J.   \n",
       "30773                                      Overture      Coates, Albert   \n",
       "\n",
       "           Interval  isInterval  \n",
       "63424  Intermission       False  \n",
       "41769  Intermission       False  \n",
       "15638  Intermission       False  \n",
       "39300  Intermission       False  \n",
       "30773  Intermission       False  "
      ]
     },
     "execution_count": 15,
     "metadata": {},
     "output_type": "execute_result"
    }
   ],
   "source": [
    "class CategoryImputer(BaseEstimator, TransformerMixin):\n",
    "    def __init__(self, strategy=None):\n",
    "        if strategy:\n",
    "            self.strategy = strategy\n",
    "        else:\n",
    "            self.strategy = 'most_frequent'\n",
    "\n",
    "    def fit(self, X, y=None):\n",
    "        if self.strategy == 'most_frequent':\n",
    "            self.fills = X.mode(axis=0).squeeze()\n",
    "            return self\n",
    "        else:\n",
    "            return 'Strategy not supported.'\n",
    "\n",
    "    def transform(self, X):\n",
    "        return pd.DataFrame(X).fillna(self.fills)\n",
    "\n",
    "\n",
    "imputer = CategoryImputer()\n",
    "X_train_ = imputer.fit_transform(X_train)\n",
    "X_train_.head()"
   ]
  },
  {
   "cell_type": "code",
   "execution_count": 16,
   "id": "361eac03",
   "metadata": {},
   "outputs": [
    {
     "data": {
      "text/plain": [
       "GUID             0\n",
       "ProgramID        0\n",
       "WorkID           0\n",
       "MovementID       0\n",
       "ComposerName     0\n",
       "WorkTitle        0\n",
       "Movement         0\n",
       "ConductorName    0\n",
       "Interval         0\n",
       "isInterval       0\n",
       "dtype: int64"
      ]
     },
     "execution_count": 16,
     "metadata": {},
     "output_type": "execute_result"
    }
   ],
   "source": [
    "X_train_.isnull().sum()"
   ]
  },
  {
   "cell_type": "markdown",
   "id": "9f4bda54",
   "metadata": {},
   "source": [
    "There we go! What about the test set?"
   ]
  },
  {
   "cell_type": "code",
   "execution_count": 17,
   "id": "1e068f68",
   "metadata": {},
   "outputs": [
    {
     "data": {
      "text/plain": [
       "GUID             0\n",
       "ProgramID        0\n",
       "WorkID           0\n",
       "MovementID       0\n",
       "ComposerName     0\n",
       "WorkTitle        0\n",
       "Movement         0\n",
       "ConductorName    0\n",
       "Interval         0\n",
       "isInterval       0\n",
       "dtype: int64"
      ]
     },
     "execution_count": 17,
     "metadata": {},
     "output_type": "execute_result"
    }
   ],
   "source": [
    "X_test_ = imputer.transform(X_test)\n",
    "X_test_.isnull().sum()"
   ]
  },
  {
   "cell_type": "markdown",
   "id": "74887c7b",
   "metadata": {},
   "source": [
    "Victory awaits!"
   ]
  },
  {
   "cell_type": "markdown",
   "id": "6faa0a6b",
   "metadata": {},
   "source": [
    "## 3.5 Everything together\n",
    "\n",
    "Now, we want to fill in missing values and use one-hot-encoding (remember?), all at the same time. We are reaching our destination!"
   ]
  },
  {
   "cell_type": "code",
   "execution_count": 18,
   "id": "aaeee3c9",
   "metadata": {},
   "outputs": [],
   "source": [
    "megazord = Pipeline([('fill_na', CategoryImputer(strategy='most_frequent')),\n",
    "                     ('encode', OrdinalEncoder())])\n",
    "\n",
    "X_train_ = megazord.fit_transform(X_train)\n",
    "X_test_ = megazord.transform(X_test)"
   ]
  },
  {
   "cell_type": "markdown",
   "id": "2ce971f9",
   "metadata": {},
   "source": [
    "This way we abstract all the logic of passing transformers around.\n",
    "\n",
    "Now, can we throw a model in there? Perhaps we can.\n",
    "\n",
    "(But we shouldn't, in a way, since we are exemplifying data wrangling workflows.)"
   ]
  },
  {
   "cell_type": "code",
   "execution_count": 19,
   "id": "aadd0640",
   "metadata": {},
   "outputs": [
    {
     "data": {
      "text/plain": [
       "array([5, 6, 4, ..., 5, 5, 3], dtype=int32)"
      ]
     },
     "execution_count": 19,
     "metadata": {},
     "output_type": "execute_result"
    }
   ],
   "source": [
    "megazord = Pipeline([('fill_na', CategoryImputer(strategy='most_frequent')),\n",
    "                     ('encode', OrdinalEncoder()),\n",
    "                     ('k_means', KMeans(n_init = 10)),\n",
    "                    ])\n",
    "\n",
    "megazord.fit(X_train)\n",
    "megazord.predict(X_test)"
   ]
  },
  {
   "cell_type": "markdown",
   "id": "c039c391",
   "metadata": {},
   "source": [
    "For the sake of simplicity, we are encoding categorical variables as if they were ordinal, instead of using one-hot-encoding, as recommended.\n",
    "\n",
    "Take this for what it is: an example on how to build end-to-end pipelines for modeling in scikit-learn."
   ]
  },
  {
   "cell_type": "markdown",
   "id": "613b75f3",
   "metadata": {},
   "source": [
    "## 3.6. Accessing Pipeline steps"
   ]
  },
  {
   "cell_type": "markdown",
   "id": "b5cc1acb",
   "metadata": {},
   "source": [
    "`Pipeline` is great! Now you're wondering, how you can access individual steps in a pipeline.\n",
    "\n",
    "For example, let's say you want to access the KMeans transformer and verify the number of features seen during fit.\n",
    "\n",
    "You can access it via `named_steps` and pass the assigned name in the pipeline"
   ]
  },
  {
   "cell_type": "code",
   "execution_count": 20,
   "id": "0e60817d",
   "metadata": {},
   "outputs": [
    {
     "data": {
      "text/plain": [
       "10"
      ]
     },
     "execution_count": 20,
     "metadata": {},
     "output_type": "execute_result"
    }
   ],
   "source": [
    "megazord.named_steps['k_means'].n_features_in_"
   ]
  },
  {
   "cell_type": "code",
   "execution_count": 21,
   "id": "97bdd62c",
   "metadata": {},
   "outputs": [
    {
     "data": {
      "text/plain": [
       "(61932, 10)"
      ]
     },
     "execution_count": 21,
     "metadata": {},
     "output_type": "execute_result"
    }
   ],
   "source": [
    "X_train.shape"
   ]
  },
  {
   "cell_type": "markdown",
   "id": "7d254b65",
   "metadata": {},
   "source": [
    "Noice! This is the same as the number of features in our train\n",
    "\n",
    "![noice](./media/noice.gif)\n"
   ]
  },
  {
   "cell_type": "markdown",
   "id": "043915fd",
   "metadata": {},
   "source": [
    "\n",
    "<hr>\n",
    "<h2>Learning notebook - Part 3 of 3 - Advanced pipelines.ipynb</h2>"
   ]
  },
  {
   "cell_type": "markdown",
   "id": "b66f2958",
   "metadata": {
    "deletable": false,
    "editable": false,
    "nbgrader": {
     "grade": false,
     "grade_id": "cell-3bf24e7ba2c45b1c",
     "locked": true,
     "schema_version": 3,
     "solution": false,
     "task": false
    }
   },
   "source": [
    "# BLU02 - Exercises Notebook"
   ]
  },
  {
   "cell_type": "code",
   "execution_count": 1,
   "id": "fd525da6",
   "metadata": {
    "ExecuteTime": {
     "end_time": "2024-02-01T00:29:49.034238Z",
     "start_time": "2024-02-01T00:29:46.883477Z"
    },
    "deletable": false,
    "editable": false,
    "nbgrader": {
     "grade": false,
     "grade_id": "cell-bebba7f87f4f151b",
     "locked": true,
     "schema_version": 3,
     "solution": false,
     "task": false
    }
   },
   "outputs": [],
   "source": [
    "import hashlib # for grading\n",
    "\n",
    "import os\n",
    "import pandas as pd\n",
    "import numpy as np\n",
    "import datetime\n",
    "from sklearn.model_selection import train_test_split\n",
    "from sklearn.base import BaseEstimator, TransformerMixin\n",
    "from sklearn.pipeline import Pipeline\n",
    "from sklearn.preprocessing import StandardScaler, RobustScaler\n",
    "from sklearn.linear_model import LinearRegression\n",
    "from sklearn.metrics import mean_absolute_error"
   ]
  },
  {
   "cell_type": "markdown",
   "id": "c6b2b87c",
   "metadata": {
    "deletable": false,
    "editable": false,
    "nbgrader": {
     "grade": false,
     "grade_id": "cell-a23783765364606a",
     "locked": true,
     "schema_version": 3,
     "solution": false,
     "task": false
    }
   },
   "source": [
    "## 1 Read the Oscars data (graded)\n",
    "\n",
    "In this first exercise, we aim to create a single dataframe, combining all Oscar nominees from all ceremonies.\n",
    "\n",
    "With a caveat though: **we want to include seasons from the year 1960 onwards**."
   ]
  },
  {
   "cell_type": "code",
   "execution_count": 2,
   "id": "e539f29e",
   "metadata": {
    "ExecuteTime": {
     "end_time": "2024-02-01T00:29:49.270327Z",
     "start_time": "2024-02-01T00:29:49.038564Z"
    },
    "deletable": false,
    "nbgrader": {
     "grade": false,
     "grade_id": "cell-e16abeb47fc4ea37",
     "locked": false,
     "schema_version": 3,
     "solution": true,
     "task": false
    }
   },
   "outputs": [],
   "source": [
    "def read_year(folder_path, file_name):\n",
    "    path = os.path.join(folder_path, file_name)\n",
    "    return pd.read_csv(path, index_col = 0)\n",
    "\n",
    "def read_nominees(folder_path):\n",
    "    files = os.listdir(folder_path)\n",
    "    # Create a list with the name of all files containing annual nominees from\n",
    "    # 1960 inclusive and onwards (just the filename, no complete path.)\n",
    "    # files_from_1960: List[str] = ...\n",
    "    # YOUR CODE HERE\n",
    "    files_from_1960: List[str] =[file for file in os.listdir(folder_path) if int(file[0:4])>=1960]\n",
    "\n",
    "    # Create a list with the dataframes\n",
    "    # nominees_year: List[pd.DataFrame] = ...\n",
    "    # YOUR CODE HERE\n",
    "    nominees_year: List[pd.DataFrame] =  [read_year(folder_path, file) for file in files_from_1960]\n",
    "        \n",
    "    # Use pd.concat to create a single dataframe.\n",
    "    # nominees: pd.DataFrame = ...\n",
    "    # YOUR CODE HERE\n",
    "\n",
    "    nominees: pd.DataFrame =  pd.concat(nominees_year, ignore_index=True)\n",
    "    # Drop the column 'ceremony'.\n",
    "    # nominees = ...\n",
    "    # YOUR CODE HERE\n",
    "    nominees = nominees.drop(columns=['ceremony'])\n",
    "    \n",
    "    ## Remove missing values.\n",
    "    # nominees = ...\n",
    "    # YOUR CODE HERE\n",
    "    nominees = nominees.dropna()\n",
    "    return nominees\n",
    "\n",
    "\n",
    "nominees = read_nominees(os.path.join('data', 'oscars'))"
   ]
  },
  {
   "cell_type": "code",
   "execution_count": 3,
   "id": "6d5b3ffb",
   "metadata": {
    "ExecuteTime": {
     "end_time": "2024-02-01T00:29:49.290742Z",
     "start_time": "2024-02-01T00:29:49.275518Z"
    },
    "deletable": false,
    "editable": false,
    "nbgrader": {
     "grade": true,
     "grade_id": "cell-2656708135a5a5e4",
     "locked": true,
     "points": 2,
     "schema_version": 3,
     "solution": false,
     "task": false
    }
   },
   "outputs": [],
   "source": [
    "assert nominees['year_ceremony'].min() == 1960\n",
    "assert nominees['year_ceremony'].max() == 2023\n",
    "assert nominees.isna().sum().sum() == 0\n",
    "assert nominees.shape == (7116, 6)"
   ]
  },
  {
   "cell_type": "markdown",
   "id": "31920670",
   "metadata": {
    "deletable": false,
    "editable": false,
    "nbgrader": {
     "grade": false,
     "grade_id": "cell-3383047fa18f453e",
     "locked": true,
     "schema_version": 3,
     "solution": false,
     "task": false
    }
   },
   "source": [
    "## 2 Read the IMDB Ratings data (graded)"
   ]
  },
  {
   "cell_type": "code",
   "execution_count": 4,
   "id": "d0f86c9d",
   "metadata": {
    "ExecuteTime": {
     "end_time": "2024-02-01T00:29:49.331880Z",
     "start_time": "2024-02-01T00:29:49.300944Z"
    },
    "deletable": false,
    "nbgrader": {
     "grade": false,
     "grade_id": "cell-e228c2d82463c6b4",
     "locked": false,
     "schema_version": 3,
     "solution": true,
     "task": false
    }
   },
   "outputs": [],
   "source": [
    "def read_ratings(file_path): \n",
    "    # Read the ratings data and drop the 'director', 'star1', 'star2', 'star3', and 'star4' columns.\n",
    "    # top_rated: pd.DataFrame = ...\n",
    "    # YOUR CODE HERE\n",
    "    top_rated: pd.DataFrame = pd.read_csv(file_path)\n",
    "        \n",
    "    columns_to_drop = ['director', 'star1', 'star2', 'star3', 'star4']\n",
    "    top_rated = top_rated.drop(columns=columns_to_drop)\n",
    "        \n",
    "    # Please make the necessary changes and convert the 'runtime' column to int\n",
    "    # YOUR CODE HERE\n",
    "\n",
    "    top_rated['runtime'] = top_rated['runtime'].str.replace(' min', '').astype(int)    \n",
    "    ## Remove the lines with no metascore info.\n",
    "    # YOUR CODE HERE\n",
    "    top_rated = top_rated.dropna(subset=['metascore'])\n",
    "    \n",
    "    return top_rated\n",
    "\n",
    "top_rated = read_ratings(os.path.join('data','imdb_top_1000.csv'))"
   ]
  },
  {
   "cell_type": "code",
   "execution_count": 5,
   "id": "52e0b5f0",
   "metadata": {
    "ExecuteTime": {
     "end_time": "2024-02-01T00:29:49.345106Z",
     "start_time": "2024-02-01T00:29:49.335490Z"
    },
    "deletable": false,
    "editable": false,
    "nbgrader": {
     "grade": true,
     "grade_id": "cell-3d21007e725ab889",
     "locked": true,
     "points": 2,
     "schema_version": 3,
     "solution": false,
     "task": false
    }
   },
   "outputs": [],
   "source": [
    "assert top_rated.shape == (843, 5)\n",
    "assert top_rated.runtime.min() == 64\n",
    "assert top_rated.runtime.max() == 321\n",
    "assert top_rated.metascore.isna().sum() == 0\n",
    "assert set(top_rated.columns) == set([\n",
    "    'film', 'metascore', 'no_votes', 'rating', 'runtime'\n",
    "])"
   ]
  },
  {
   "cell_type": "markdown",
   "id": "04d6c904",
   "metadata": {
    "deletable": false,
    "editable": false,
    "nbgrader": {
     "grade": false,
     "grade_id": "cell-2ae195e6dd100fc5",
     "locked": true,
     "schema_version": 3,
     "solution": false,
     "task": false
    }
   },
   "source": [
    "## 3 Combine Oscars and Ratings data (graded)\n",
    "\n",
    "Let's combine both dataframes into a single dataset, using an inner join."
   ]
  },
  {
   "cell_type": "code",
   "execution_count": 6,
   "id": "3b12dc70",
   "metadata": {
    "ExecuteTime": {
     "end_time": "2024-02-01T00:29:49.372911Z",
     "start_time": "2024-02-01T00:29:49.355137Z"
    }
   },
   "outputs": [
    {
     "data": {
      "text/plain": [
       "(Index(['year_film', 'year_ceremony', 'category', 'name', 'film', 'winner'], dtype='object'),\n",
       " Index(['film', 'runtime', 'rating', 'metascore', 'no_votes'], dtype='object'))"
      ]
     },
     "execution_count": 6,
     "metadata": {},
     "output_type": "execute_result"
    }
   ],
   "source": [
    "nominees.columns, top_rated.columns"
   ]
  },
  {
   "cell_type": "code",
   "execution_count": 7,
   "id": "61a56101",
   "metadata": {
    "ExecuteTime": {
     "end_time": "2024-02-01T00:29:49.395200Z",
     "start_time": "2024-02-01T00:29:49.376702Z"
    },
    "deletable": false,
    "nbgrader": {
     "grade": false,
     "grade_id": "cell-a65f1464b4525a8b",
     "locked": false,
     "schema_version": 3,
     "solution": true,
     "task": false
    }
   },
   "outputs": [],
   "source": [
    "# Remember that you want use a column of both dataframes to combine them.\n",
    "# Join only the nominees of films present on the ratings list\n",
    "# best_rated_nominees = ...\n",
    "# YOUR CODE HERE\n",
    "best_rated_nominees: pd.DataFrame = pd.merge(nominees, top_rated, how='inner', on='film')"
   ]
  },
  {
   "cell_type": "code",
   "execution_count": 8,
   "id": "26483891",
   "metadata": {
    "ExecuteTime": {
     "end_time": "2024-02-01T00:29:49.412391Z",
     "start_time": "2024-02-01T00:29:49.404869Z"
    },
    "deletable": false,
    "editable": false,
    "nbgrader": {
     "grade": true,
     "grade_id": "cell-ac9aef3d5251e36c",
     "locked": true,
     "points": 2,
     "schema_version": 3,
     "solution": false,
     "task": false
    }
   },
   "outputs": [],
   "source": [
    "assert best_rated_nominees.shape == (1919, 10)\n",
    "assert set(best_rated_nominees.columns) == set(['year_film', 'year_ceremony', 'category', 'name', 'film', 'winner',\n",
    "       'runtime', 'rating', 'metascore', 'no_votes'])"
   ]
  },
  {
   "cell_type": "markdown",
   "id": "71271ecf",
   "metadata": {
    "deletable": false,
    "editable": false,
    "nbgrader": {
     "grade": false,
     "grade_id": "cell-1fd4cd11d5139889",
     "locked": true,
     "schema_version": 3,
     "solution": false,
     "task": false
    }
   },
   "source": [
    "## 4 Read top grossing and budget films data (graded)\n",
    "\n",
    "We will read the two remaining pieces of data. \n",
    "\n",
    "Again, albeit the step-by-step description, we encourage you to use method chaining."
   ]
  },
  {
   "cell_type": "code",
   "execution_count": 9,
   "id": "cb533fb6",
   "metadata": {
    "ExecuteTime": {
     "end_time": "2024-02-01T00:29:49.441589Z",
     "start_time": "2024-02-01T00:29:49.417200Z"
    },
    "deletable": false,
    "nbgrader": {
     "grade": false,
     "grade_id": "cell-503e208490ff38e0",
     "locked": false,
     "schema_version": 3,
     "solution": true,
     "task": false
    }
   },
   "outputs": [],
   "source": [
    "def read_gross(file_path):\n",
    "    # Read the works data.\n",
    "    # top_grossing: pd.DataFrame = ...\n",
    "        # Remove the year column.\n",
    "    # gross: pd.DataFrame = ...\n",
    "\n",
    "    ## Ensure that the gross data is read as int.\n",
    "     # top_grossing: pd.DataFrame = ...\n",
    "      # YOUR CODE HERE\n",
    "    top_grossing = (pd.read_csv(file_path)\n",
    "                    # Ensure that the 'gross' data is read as int\n",
    "                    .assign(gross=lambda df: df['gross'].str.replace(',', '').astype(int))\n",
    "                    # Remove the 'year' column\n",
    "                    .drop(columns=['year'])\n",
    "                    )\n",
    "    return top_grossing\n",
    "\n",
    "\n",
    "def read_budget(file_path):\n",
    "    # Read the top budget data and drop the 'runtime', 'theaters', and 'year' Columns\n",
    "\n",
    "    ## Please make the necessary changes and convert the 'budget_rank' column to int\n",
    "    # YOUR CODE HERE\n",
    "    top_budget = (pd.read_csv(file_path)\n",
    "                  .drop(columns=['runtime', 'theaters', 'year'])\n",
    "                  # Remove non-numeric characters and convert 'budget_rank' to int\n",
    "                  .assign(budget_rank=lambda df: df['budget_rank'].str.replace('#', '').astype(int))\n",
    "                  )\n",
    "    return top_budget\n",
    "\n",
    "\n",
    "top_grossing = read_gross('data/gross_top_200.csv')\n",
    "top_budget = read_budget('data/budget_top_500.csv')"
   ]
  },
  {
   "cell_type": "code",
   "execution_count": 10,
   "id": "11f60f07",
   "metadata": {
    "ExecuteTime": {
     "end_time": "2024-02-01T00:29:49.480186Z",
     "start_time": "2024-02-01T00:29:49.457519Z"
    },
    "deletable": false,
    "editable": false,
    "nbgrader": {
     "grade": true,
     "grade_id": "cell-b8389314995f18ea",
     "locked": true,
     "points": 2,
     "schema_version": 3,
     "solution": false,
     "task": false
    }
   },
   "outputs": [],
   "source": [
    "assert top_grossing.shape == (200, 3)\n",
    "assert set(top_grossing.columns) == set([\n",
    "    'gross_rank', 'film', 'gross'\n",
    "])\n",
    "\n",
    "assert top_budget.shape == (500, 3)\n",
    "assert set(top_budget.columns) == set([\n",
    "   'budget_rank', 'film', 'production_cost'\n",
    "])"
   ]
  },
  {
   "cell_type": "markdown",
   "id": "839081fe",
   "metadata": {
    "deletable": false,
    "editable": false,
    "nbgrader": {
     "grade": false,
     "grade_id": "cell-c16e4e26e68cd019",
     "locked": true,
     "schema_version": 3,
     "solution": false,
     "task": false
    }
   },
   "source": [
    "## 5 Combine the top grossing and budget films\n",
    "\n",
    "Like we did for Oscar nominees and top rated films, now we combine the top budget and grossing films."
   ]
  },
  {
   "cell_type": "code",
   "execution_count": 11,
   "id": "dfae5297",
   "metadata": {
    "ExecuteTime": {
     "end_time": "2024-02-01T00:29:49.504393Z",
     "start_time": "2024-02-01T00:29:49.487271Z"
    },
    "deletable": false,
    "nbgrader": {
     "grade": false,
     "grade_id": "cell-08d9a086cc5646cf",
     "locked": false,
     "schema_version": 3,
     "solution": true,
     "task": false
    }
   },
   "outputs": [],
   "source": [
    "# Combine both dataframes, again using an inner type of join\n",
    "# top_grossing_budget : pd.DataFrame = ....\n",
    "# YOUR CODE HERE\n",
    "def combine_grossing_and_budget(grossing_df, budget_df):\n",
    "    # Combine dataframes using an inner join\n",
    "    top_grossing_budget = pd.merge(grossing_df, budget_df, how='inner', on='film')\n",
    "    \n",
    "    return top_grossing_budget\n",
    "\n",
    "\n",
    "top_grossing_budget = combine_grossing_and_budget(top_grossing, top_budget)\n"
   ]
  },
  {
   "cell_type": "code",
   "execution_count": 12,
   "id": "7184d4cd",
   "metadata": {
    "ExecuteTime": {
     "end_time": "2024-02-01T00:29:49.517909Z",
     "start_time": "2024-02-01T00:29:49.508757Z"
    },
    "deletable": false,
    "editable": false,
    "nbgrader": {
     "grade": true,
     "grade_id": "cell-4d9f103dfffd311b",
     "locked": true,
     "points": 2,
     "schema_version": 3,
     "solution": false,
     "task": false
    }
   },
   "outputs": [],
   "source": [
    "assert top_grossing_budget.shape == (129, 5)\n",
    "assert set(top_grossing_budget.columns) == set(\n",
    "    [\n",
    "        'budget_rank', 'film', 'production_cost', 'gross_rank', 'gross'\n",
    "    ]\n",
    ")"
   ]
  },
  {
   "cell_type": "markdown",
   "id": "6cddd282",
   "metadata": {
    "deletable": false,
    "editable": false,
    "nbgrader": {
     "grade": false,
     "grade_id": "cell-ab79800d6e447f1e",
     "locked": true,
     "schema_version": 3,
     "solution": false,
     "task": false
    }
   },
   "source": [
    "## 6 Combine everything (graded)\n",
    "\n",
    "The final goal here is to create a single dataframe."
   ]
  },
  {
   "cell_type": "code",
   "execution_count": 13,
   "id": "f167ab69",
   "metadata": {
    "ExecuteTime": {
     "end_time": "2024-02-01T00:29:49.534288Z",
     "start_time": "2024-02-01T00:29:49.522444Z"
    }
   },
   "outputs": [
    {
     "data": {
      "text/plain": [
       "(Index(['year_film', 'year_ceremony', 'category', 'name', 'film', 'winner',\n",
       "        'runtime', 'rating', 'metascore', 'no_votes'],\n",
       "       dtype='object'),\n",
       " Index(['gross_rank', 'film', 'gross', 'budget_rank', 'production_cost'], dtype='object'))"
      ]
     },
     "execution_count": 13,
     "metadata": {},
     "output_type": "execute_result"
    }
   ],
   "source": [
    "best_rated_nominees.columns, top_grossing_budget.columns"
   ]
  },
  {
   "cell_type": "code",
   "execution_count": 14,
   "id": "18b11400",
   "metadata": {
    "ExecuteTime": {
     "end_time": "2024-02-01T00:29:49.553169Z",
     "start_time": "2024-02-01T00:29:49.539257Z"
    }
   },
   "outputs": [],
   "source": [
    "def get_common_columns(df1, df2):\n",
    "    \"\"\"\n",
    "    Identify common columns in two dataframes.\n",
    "\n",
    "    Parameters:\n",
    "    df1 (pd.DataFrame): The first dataframe.\n",
    "    df2 (pd.DataFrame): The second dataframe.\n",
    "\n",
    "    Returns:\n",
    "    List[str]: A list of common column names.\n",
    "    \"\"\"\n",
    "    # Get the set of columns for each dataframe\n",
    "    columns_df1 = set(df1.columns)\n",
    "    columns_df2 = set(df2.columns)\n",
    "\n",
    "    # Find the intersection (common columns) between the two sets\n",
    "    common_columns = list(columns_df1.intersection(columns_df2))\n",
    "\n",
    "    return common_columns\n",
    "\n",
    "# Usage example:\n",
    "# common_cols = get_common_columns(dataframe1, dataframe2)\n",
    "# print(common_cols)\n"
   ]
  },
  {
   "cell_type": "code",
   "execution_count": 15,
   "id": "6a4eee72",
   "metadata": {
    "ExecuteTime": {
     "end_time": "2024-02-01T00:29:49.574711Z",
     "start_time": "2024-02-01T00:29:49.557742Z"
    },
    "deletable": false,
    "nbgrader": {
     "grade": false,
     "grade_id": "cell-ce1f05022e8cd63a",
     "locked": false,
     "schema_version": 3,
     "solution": true,
     "task": false
    }
   },
   "outputs": [],
   "source": [
    "# Combine best_rated_nominees and nyp into a single dataframe.\n",
    "# You need to figure out the common column shared between the two dataframes\n",
    "# top_films = ...\n",
    "# YOUR CODE HERE\n",
    "def combine_all_dataframes(rated_nominees_df, grossing_budget_df):\n",
    "    # Combine dataframes using an inner join\n",
    "    top_films = pd.merge(rated_nominees_df, grossing_budget_df, how='inner', on='film')\n",
    "    \n",
    "    return top_films\n",
    "\n",
    "\n",
    "top_films = combine_all_dataframes(best_rated_nominees, top_grossing_budget)"
   ]
  },
  {
   "cell_type": "code",
   "execution_count": 16,
   "id": "55c7dc60",
   "metadata": {
    "ExecuteTime": {
     "end_time": "2024-02-01T00:29:49.593750Z",
     "start_time": "2024-02-01T00:29:49.580414Z"
    },
    "deletable": false,
    "editable": false,
    "nbgrader": {
     "grade": true,
     "grade_id": "cell-ce29fa3aec1c244e",
     "locked": true,
     "points": 2,
     "schema_version": 3,
     "solution": false,
     "task": false
    }
   },
   "outputs": [],
   "source": [
    "assert top_films.shape == (184, 14)\n",
    "assert set(top_films.columns) == set(\n",
    "    [\n",
    "       'year_film', 'year_ceremony', 'category', 'name', 'film', 'winner',\n",
    "       'runtime', 'rating', 'metascore', 'no_votes', 'budget_rank',\n",
    "       'production_cost', 'gross_rank', 'gross'\n",
    "    ]\n",
    ")"
   ]
  },
  {
   "cell_type": "markdown",
   "id": "d73c7125",
   "metadata": {
    "deletable": false,
    "editable": false,
    "nbgrader": {
     "grade": false,
     "grade_id": "cell-4407d9518b0d6e2e",
     "locked": true,
     "schema_version": 3,
     "solution": false,
     "task": false
    }
   },
   "source": [
    "## 7 Final transformations (graded)\n",
    "\n",
    "Now, we perform the train-test split.\n",
    "\n",
    "We also perform some final transformations on both datasets:\n",
    "\n",
    "* Tranform \"winner\" into a binary feature\n",
    "* Create a new feature, rating_rank, from the rating column. \n",
    "* Filter out the movies that appear less than 10 times in the DataFrame.\n",
    "* Keep only 'film', 'winner', 'category', 'runtime', 'rating', 'metascore', 'no_votes', 'budget_rank', 'production_cost', 'gross_rank', 'rating_rank' and 'gross' columns."
   ]
  },
  {
   "cell_type": "code",
   "execution_count": 17,
   "id": "1d5094ff",
   "metadata": {
    "ExecuteTime": {
     "end_time": "2024-02-01T00:29:49.622361Z",
     "start_time": "2024-02-01T00:29:49.599740Z"
    },
    "deletable": false,
    "nbgrader": {
     "grade": false,
     "grade_id": "cell-1c1ab0d912e615ca",
     "locked": false,
     "schema_version": 3,
     "solution": true,
     "task": false
    }
   },
   "outputs": [],
   "source": [
    "def transform_winner(df):\n",
    "    df = df.copy()\n",
    "    # df = ...\n",
    "    # YOUR CODE HERE\n",
    "    df['winner'] = df['winner'].apply(lambda x: 1 if x == 'Yes' else 0)\n",
    "    return df\n",
    "\n",
    "def create_rating_rank(df):\n",
    "    df = df.copy()\n",
    "    # df['rating_rank'] = \n",
    "    # YOUR CODE HERE\n",
    "    df['rating_rank'] = df['rating'].rank(ascending=True)\n",
    "    return df\n",
    "\n",
    "def preprocess_data(df):\n",
    "    # You should follow these exact steps:\n",
    "    #   1 - Binarize 'winner'\n",
    "    #   2 - Filter out rows that have a film that appear is less than 10 times in the DataFrame.\n",
    "    #   3 - Keep only the 'film', 'winner', category', 'runtime', 'rating', 'metascore', 'no_votes', \n",
    "    #      'budget_rank', 'production_cost', 'gross_rank', 'rating_rank' and 'gross' columns\n",
    "    #   5 - Create a new feature, rating_rank, from the ranking column. \n",
    "    #   6 - Sort the DataFrame by 'rating' in ascending order\n",
    "    # YOUR CODE HERE\n",
    "    df = df.copy()\n",
    "\n",
    "    # Binarize 'winner'\n",
    "    df = transform_winner(df)\n",
    "\n",
    "    # Filter out rows that have a film that appears less than 10 times\n",
    "    film_count = df['film'].value_counts()\n",
    "    df = df[df['film'].isin(film_count.index[film_count >= 10])]\n",
    "\n",
    "    # Keep only the specified columns\n",
    "    columns_to_keep = ['film', 'winner', 'category', 'runtime', 'rating', 'metascore', \n",
    "                       'no_votes', 'budget_rank', 'production_cost', 'gross_rank', \n",
    "                       'gross']\n",
    "    df = df[columns_to_keep]\n",
    "\n",
    "    # Create 'rating_rank' and sort by 'rating'\n",
    "    df = create_rating_rank(df).sort_values('rating', ascending=True)\n",
    "\n",
    "    return df\n",
    "\n",
    "\n",
    "\n",
    "top_films_preprocessed = preprocess_data(top_films)"
   ]
  },
  {
   "cell_type": "code",
   "execution_count": 18,
   "id": "ee21e1d5",
   "metadata": {
    "ExecuteTime": {
     "end_time": "2024-02-01T00:29:49.655174Z",
     "start_time": "2024-02-01T00:29:49.634229Z"
    },
    "deletable": false,
    "editable": false,
    "nbgrader": {
     "grade": true,
     "grade_id": "cell-9d9c75c48e4eaf63",
     "locked": true,
     "points": 2,
     "schema_version": 3,
     "solution": false,
     "task": false
    }
   },
   "outputs": [],
   "source": [
    "assert top_films_preprocessed.shape == (59, 12)\n",
    "assert set(top_films_preprocessed.columns) == {\n",
    "       'category', 'film', 'runtime', 'rating', 'metascore', 'no_votes',\n",
    "       'budget_rank', 'production_cost', 'gross_rank', 'gross', 'rating_rank','winner'\n",
    "}\n",
    "assert top_films_preprocessed.budget_rank.min() == 49\n",
    "assert top_films_preprocessed.gross_rank.max() == 180\n",
    "assert top_films_preprocessed.iloc[0].no_votes == 769145"
   ]
  },
  {
   "cell_type": "markdown",
   "id": "fc4918d1",
   "metadata": {
    "deletable": false,
    "editable": false,
    "nbgrader": {
     "grade": false,
     "grade_id": "cell-4557c57da6142038",
     "locked": true,
     "schema_version": 3,
     "solution": false,
     "task": false
    }
   },
   "source": [
    "# The house prices dataset\n",
    "\n",
    "A dataset containing several characteristics of several houses and their selling price \n",
    "\n",
    "* LotFrontage: Linear feet of street connected to property\n",
    "* LotArea: Lot size in square feet\n",
    "* OverallQual: Rates the overall material and finish of the house\n",
    "       10  Very Excellent\n",
    "       9\tExcellent\n",
    "       8\tVery Good\n",
    "       7\tGood\n",
    "       6\tAbove Average\n",
    "       5\tAverage\n",
    "       4\tBelow Average\n",
    "       3\tFair\n",
    "       2\tPoor\n",
    "       1\tVery Poor\n",
    "* OverallCond: Rates the overall condition of the house\n",
    "\n",
    "       10\tVery Excellent\n",
    "       9\tExcellent\n",
    "       8\tVery Good\n",
    "       7\tGood\n",
    "       6\tAbove Average\t\n",
    "       5\tAverage\n",
    "       4\tBelow Average\t\n",
    "       3\tFair\n",
    "       2\tPoor\n",
    "       1\tVery Poor\n",
    "* MasVnrArea: Masonry veneer area in square feet\n",
    "* BsmtFinSF1: Type 1 finished square feet\n",
    "* BsmtUnfSF: Unfinished square feet of basement area\n",
    "* TotalBsmtSF: Total square feet of basement area\n",
    "* 1stFlrSF: First Floor square feet\n",
    "* 2ndFlrSF: Second floor square feet\n",
    "* LowQualFinSF: Low quality finished square feet (all floors)\n",
    "* GrLivArea: Above grade (ground) living area square feet\n",
    "* BsmtFullBath: Basement full bathrooms\n",
    "* BsmtHalfBath: Basement half bathrooms\n",
    "* FullBath: Full bathrooms above grade\n",
    "* HalfBath: Half baths above grade\n",
    "* BedroomAbvGr: Bedrooms above grade (does NOT include basement bedrooms)\n",
    "* KitchenAbvGr: Kitchens above grade\n",
    "* TotRmsAbvGrd: Total rooms above grade (does not include bathrooms)\n",
    "* Fireplaces: Number of fireplaces\n",
    "* GarageCars: Size of garage in car capacity\n",
    "* GarageArea: Size of garage in square feet\n",
    "* WoodDeckSF: Wood deck area in square feet\n",
    "* OpenPorchSF: Open porch area in square feet\n",
    "* EnclosedPorch: Enclosed porch area in square feet\n",
    "* 3SsnPorch: Three season porch area in square feet\n",
    "* ScreenPorch: Screen porch area in square feet\n",
    "* PoolArea: Pool area in square feet\n",
    "* MiscVal: $Value of miscellaneous feature \n",
    "* SellingDate: Date when the house was sold\n",
    "* BuildingDate: Date when the house was built\n",
    "* RemodAddDate: Remodel date (same as construction date if no remodeling or additions)\n",
    "* SalePrice: The house price at the selling date (our target variable)"
   ]
  },
  {
   "cell_type": "markdown",
   "id": "0efd8c63",
   "metadata": {
    "deletable": false,
    "editable": false,
    "nbgrader": {
     "grade": false,
     "grade_id": "cell-2f274d778f5887e9",
     "locked": true,
     "schema_version": 3,
     "solution": false,
     "task": false
    }
   },
   "source": [
    "Let's read the csv and create our train-test-split"
   ]
  },
  {
   "cell_type": "code",
   "execution_count": 19,
   "id": "049fd662",
   "metadata": {
    "ExecuteTime": {
     "end_time": "2024-02-01T00:29:49.717356Z",
     "start_time": "2024-02-01T00:29:49.668848Z"
    },
    "deletable": false,
    "editable": false,
    "nbgrader": {
     "grade": false,
     "grade_id": "cell-7582e93ac7adb85f",
     "locked": true,
     "schema_version": 3,
     "solution": false,
     "task": false
    }
   },
   "outputs": [],
   "source": [
    "def house_price_dataset():\n",
    "    return pd.read_csv(\n",
    "    'data/housePrices.csv', \n",
    "        parse_dates=[\n",
    "            'SellingDate',\n",
    "            'BuildingDate',\n",
    "            'RemodAddDate'\n",
    "        ]\n",
    "    )\n",
    "\n",
    "dataset = house_price_dataset()\n",
    "dataset_train, dataset_test = train_test_split(dataset, random_state=0)\n",
    "X_train = dataset_train.drop(columns='SalePrice')\n",
    "y_train = dataset_train.SalePrice\n",
    "X_test = dataset_test.drop(columns='SalePrice')\n",
    "y_test = dataset_test.SalePrice"
   ]
  },
  {
   "cell_type": "markdown",
   "id": "c7fa1fe4",
   "metadata": {
    "deletable": false,
    "editable": false,
    "nbgrader": {
     "grade": false,
     "grade_id": "cell-425695b0c9d45ae9",
     "locked": true,
     "schema_version": 3,
     "solution": false,
     "task": false
    }
   },
   "source": [
    "## 8 Build a DateTransformer transformer (graded)\n",
    "\n",
    "A simple transformer that transforms dates into timedeltas can be useful, from times to times, when modeling. Usually when you have features that are Dates you compute a time delta between the feature and a given refence date.\n",
    "\n",
    "e.g Imagine that your clients have a loyalty period that ends at a given date. When your model is doing some predictions, one of the features that you can use is the number of days until the end of the loyalty period. i.e the date when the loyalty ends minus the date when your model is running. \n",
    "\n",
    "In the house prices dataset, the selling date will be the reference data, since we want to predict the house price at the selling date. For instance, two houses with the exact same features can vary in prices if the construction year is different. So we should input this information and feed into the model. Then we need to convert the other dates using our transformer\n",
    "\n",
    "Hint: Result should be integers"
   ]
  },
  {
   "cell_type": "code",
   "execution_count": 20,
   "id": "43b78c45",
   "metadata": {
    "ExecuteTime": {
     "end_time": "2024-02-01T00:29:49.732114Z",
     "start_time": "2024-02-01T00:29:49.723282Z"
    },
    "deletable": false,
    "nbgrader": {
     "grade": false,
     "grade_id": "cell-d9538038181ba578",
     "locked": false,
     "schema_version": 3,
     "solution": true,
     "task": false
    }
   },
   "outputs": [],
   "source": [
    "#class DateTransformer(BaseEstimator, TransformerMixin):\n",
    "#    # Implement the __init__ method.\n",
    "#    # Our DateTransformer must be able to receive two parameters: \n",
    "#    # datetime_cols: a list, that contains the datetime cols that should be converted\n",
    "#    # ref_date_col: indicates the name of the column that should be used as reference date,\n",
    "#    # YOUR CODE HERE\n",
    "#    def __init__(self, datetime_cols: List[str], ref_date_col: str) -> None:\n",
    "#        # Initialize with datetime columns and reference date column\n",
    "#        self.datetime_cols = datetime_cols\n",
    "#        self.ref_date_col = ref_date_col\n",
    "#        \n",
    "#    # There's no need for a fit method in this case, it does nothing.\n",
    "#    # We should be able to call fit without any explicit parameters.\n",
    "#    # Meaning: we should be able to call fit() on the transformer.\n",
    "#    # YOUR CODE HERE\n",
    "#    def fit(self, X: pd.DataFrame, y=None)-> None:\n",
    "#        # Fit does nothing in this case, just returns self\n",
    "#        return self\n",
    "#\n",
    "#    # Transform should transform all datetime columns into the difference in days to the reference date.\n",
    "#    # The reference date column should be dropped. \n",
    "#    # YOUR CODE HERE\n",
    "#    def transform(self, X: pd.DataFrame) -> pd.DataFrame:\n",
    "#        # Ensure working on a copy of the data to avoid altering original dataframe\n",
    "#        X_transformed = X.copy()\n",
    "#\n",
    "#        # Check if the reference date column exists\n",
    "#        if self.ref_date_col not in X_transformed.columns:\n",
    "#            raise ValueError(f\"Reference date column '{self.ref_date_col}' not found in the dataframe.\")\n",
    "#\n",
    "#        # Convert each datetime column to timedelta in days relative to the reference date\n",
    "#        for col in self.datetime_cols:\n",
    "#            if col not in X_transformed.columns:\n",
    "#                raise ValueError(f\"Column '{col}' not found in the dataframe.\")\n",
    "#\n",
    "#            X_transformed[col] = (X_transformed[self.ref_date_col] - X_transformed[col]).dt.days\n",
    "#        \n",
    "#        # Drop the reference date column\n",
    "#        X_transformed.drop(columns=[self.ref_date_col], inplace=True)\n",
    "#\n",
    "#        # Convert to int64\n",
    "#        for col in self.datetime_cols:\n",
    "#            X_transformed[col] = X_transformed[col].astype(np.int64)\n",
    "#\n",
    "#        return X_transformed"
   ]
  },
  {
   "cell_type": "code",
   "execution_count": 21,
   "id": "6fd4008a",
   "metadata": {
    "ExecuteTime": {
     "end_time": "2024-02-01T00:29:49.753815Z",
     "start_time": "2024-02-01T00:29:49.737555Z"
    }
   },
   "outputs": [],
   "source": [
    "from typing import List\n",
    "\n",
    "\n",
    "class DateTransformer(BaseEstimator, TransformerMixin):\n",
    "    # Implement the __init__ method.\n",
    "    # Our DateTransformer must be able to receive two parameters: \n",
    "    # datetime_cols: a list, that contains the datetime cols that should be converted\n",
    "    # ref_date_col - indicates the name of the column that should be used as reference date,\n",
    "    # YOUR CODE HERE\n",
    "    # raise NotImplementedError()\n",
    "    def __init__(self, datetime_cols: List[str], ref_date_col: str) -> None:\n",
    "        self.datetime_cols = datetime_cols\n",
    "        self.ref_date_col = ref_date_col\n",
    "        \n",
    "        \n",
    "    # There's no need for a fit method in this case, it does nothing.\n",
    "    # We should be able to call fit without any explicit parameters.\n",
    "    # Meaning: we should be able to call transformer.fit().\n",
    "    # YOUR CODE HERE\n",
    "    # raise NotImplementedError()\n",
    "    def fit(self, X: pd.DataFrame, y=None)-> None:\n",
    "        return self\n",
    "\n",
    "    # Transform should transform all datetime columns into the difference in days to the reference date.\n",
    "    # The reference date column should be dropped. \n",
    "    # YOUR CODE HERE\n",
    "    # raise NotImplementedError()\n",
    "    def transform(self, X: pd.DataFrame) -> pd.DataFrame:\n",
    "        X = X.copy()\n",
    "        for datetime_col in self.datetime_cols:\n",
    "            X[datetime_col] = (pd.to_datetime(X[datetime_col]) - pd.to_datetime(X[self.ref_date_col])).dt.days.astype(int)\n",
    "        return X.drop(self.ref_date_col, axis=1)\n"
   ]
  },
  {
   "cell_type": "code",
   "execution_count": 22,
   "id": "bab1d26c",
   "metadata": {
    "ExecuteTime": {
     "end_time": "2024-02-01T00:29:49.781581Z",
     "start_time": "2024-02-01T00:29:49.759538Z"
    },
    "deletable": false,
    "editable": false,
    "nbgrader": {
     "grade": true,
     "grade_id": "cell-b64b26753ecd8561",
     "locked": true,
     "points": 2,
     "schema_version": 3,
     "solution": false,
     "task": false
    }
   },
   "outputs": [],
   "source": [
    "X_train_transformed = DateTransformer(\n",
    "    datetime_cols=['BuildingDate', 'RemodAddDate'], \n",
    "    ref_date_col='SellingDate'\n",
    ").fit_transform(X_train)\n",
    "assert X_train_transformed.BuildingDate.min() == -49008\n",
    "assert X_train_transformed.BuildingDate.max() == -1\n",
    "assert 'SellingDate' not in X_train_transformed.columns\n",
    "assert X_train_transformed.dtypes.BuildingDate == np.dtype('int64')\n",
    "assert X_train_transformed.dtypes.RemodAddDate == np.dtype('int64')"
   ]
  },
  {
   "cell_type": "markdown",
   "id": "37dc7b15",
   "metadata": {
    "deletable": false,
    "editable": false,
    "nbgrader": {
     "grade": false,
     "grade_id": "cell-5989c2b51d38b449",
     "locked": true,
     "schema_version": 3,
     "solution": false,
     "task": false
    }
   },
   "source": [
    "You might be wondering why we have to implement it as a Transformer Class, and not using functions.\n",
    "You'll understand the reason in the next section, we're we can tie them all together in a `Pipeline`."
   ]
  },
  {
   "cell_type": "markdown",
   "id": "714780de",
   "metadata": {
    "deletable": false,
    "editable": false,
    "nbgrader": {
     "grade": false,
     "grade_id": "cell-46fe8c71f80d2717",
     "locked": true,
     "schema_version": 3,
     "solution": false,
     "task": false
    }
   },
   "source": [
    "## 9 Building the pipeline (graded)\n",
    "\n",
    "Finally, we want to use the two transformers together and run a linear regression on top. We want to:\n",
    "\n",
    "* Convert the dates to time deltas relative to the Selling Date.\n",
    "\n",
    "* Scale all features to the same range, using `sklearn.preprocessing.RobustScaler()`.\n",
    "\n",
    "* Estimate the SellingPrice using a Linear Regression.\n",
    "\n",
    "Standardization of datasets is a common requirement for many machine learning estimators implemented in scikit-learn; they might behave badly if the individual features do not more or less look like standard normally distributed data (i.e., Gaussian with zero mean and unit variance).\n",
    "\n",
    "In practice we often ignore the shape of the distribution and just transform the data to center it by removing the mean value of each feature, then scale it by dividing non-constant features by their standard deviation.\n",
    "\n",
    "For instance, many elements used in the objective function of a learning algorithm (such as the RBF kernel of Support Vector Machines or the l1 and l2 regularizers of linear models) assume that all features are centered around zero and have variance in the same order. If a feature has a variance that is orders of magnitude larger than others, it might dominate the objective function and make the estimator unable to learn from other features correctly as expected.\n",
    "\n"
   ]
  },
  {
   "cell_type": "code",
   "execution_count": 23,
   "id": "697faf63",
   "metadata": {
    "ExecuteTime": {
     "end_time": "2024-02-01T00:29:49.917567Z",
     "start_time": "2024-02-01T00:29:49.787661Z"
    }
   },
   "outputs": [
    {
     "data": {
      "text/html": [
       "<div>\n",
       "<style scoped>\n",
       "    .dataframe tbody tr th:only-of-type {\n",
       "        vertical-align: middle;\n",
       "    }\n",
       "\n",
       "    .dataframe tbody tr th {\n",
       "        vertical-align: top;\n",
       "    }\n",
       "\n",
       "    .dataframe thead th {\n",
       "        text-align: right;\n",
       "    }\n",
       "</style>\n",
       "<table border=\"1\" class=\"dataframe\">\n",
       "  <thead>\n",
       "    <tr style=\"text-align: right;\">\n",
       "      <th></th>\n",
       "      <th>LotFrontage</th>\n",
       "      <th>LotArea</th>\n",
       "      <th>OverallQual</th>\n",
       "      <th>OverallCond</th>\n",
       "      <th>MasVnrArea</th>\n",
       "      <th>BsmtUnfSF</th>\n",
       "      <th>TotalBsmtSF</th>\n",
       "      <th>1stFlrSF</th>\n",
       "      <th>2ndFlrSF</th>\n",
       "      <th>LowQualFinSF</th>\n",
       "      <th>...</th>\n",
       "      <th>WoodDeckSF</th>\n",
       "      <th>OpenPorchSF</th>\n",
       "      <th>EnclosedPorch</th>\n",
       "      <th>3SsnPorch</th>\n",
       "      <th>ScreenPorch</th>\n",
       "      <th>PoolArea</th>\n",
       "      <th>MiscVal</th>\n",
       "      <th>SellingDate</th>\n",
       "      <th>BuildingDate</th>\n",
       "      <th>RemodAddDate</th>\n",
       "    </tr>\n",
       "  </thead>\n",
       "  <tbody>\n",
       "    <tr>\n",
       "      <th>count</th>\n",
       "      <td>1051.000000</td>\n",
       "      <td>1051.000000</td>\n",
       "      <td>1051.000000</td>\n",
       "      <td>1051.000000</td>\n",
       "      <td>1051.000000</td>\n",
       "      <td>1051.000000</td>\n",
       "      <td>1051.000000</td>\n",
       "      <td>1051.000000</td>\n",
       "      <td>1051.000000</td>\n",
       "      <td>1051.000000</td>\n",
       "      <td>...</td>\n",
       "      <td>1051.000000</td>\n",
       "      <td>1051.000000</td>\n",
       "      <td>1051.000000</td>\n",
       "      <td>1051.000000</td>\n",
       "      <td>1051.000000</td>\n",
       "      <td>1051.000000</td>\n",
       "      <td>1051.000000</td>\n",
       "      <td>1051</td>\n",
       "      <td>1051</td>\n",
       "      <td>1051</td>\n",
       "    </tr>\n",
       "    <tr>\n",
       "      <th>mean</th>\n",
       "      <td>56.516651</td>\n",
       "      <td>10165.033302</td>\n",
       "      <td>6.095147</td>\n",
       "      <td>5.594672</td>\n",
       "      <td>102.087536</td>\n",
       "      <td>564.330162</td>\n",
       "      <td>1046.601332</td>\n",
       "      <td>1159.809705</td>\n",
       "      <td>351.509039</td>\n",
       "      <td>6.424358</td>\n",
       "      <td>...</td>\n",
       "      <td>97.315890</td>\n",
       "      <td>44.084681</td>\n",
       "      <td>21.963844</td>\n",
       "      <td>3.058991</td>\n",
       "      <td>15.811608</td>\n",
       "      <td>2.394862</td>\n",
       "      <td>28.690771</td>\n",
       "      <td>2007-11-05 04:29:54.862035968</td>\n",
       "      <td>1970-06-04 20:34:28.886774500</td>\n",
       "      <td>1984-04-20 15:15:14.557564224</td>\n",
       "    </tr>\n",
       "    <tr>\n",
       "      <th>min</th>\n",
       "      <td>0.000000</td>\n",
       "      <td>1491.000000</td>\n",
       "      <td>1.000000</td>\n",
       "      <td>2.000000</td>\n",
       "      <td>0.000000</td>\n",
       "      <td>0.000000</td>\n",
       "      <td>0.000000</td>\n",
       "      <td>334.000000</td>\n",
       "      <td>0.000000</td>\n",
       "      <td>0.000000</td>\n",
       "      <td>...</td>\n",
       "      <td>0.000000</td>\n",
       "      <td>0.000000</td>\n",
       "      <td>0.000000</td>\n",
       "      <td>0.000000</td>\n",
       "      <td>0.000000</td>\n",
       "      <td>0.000000</td>\n",
       "      <td>0.000000</td>\n",
       "      <td>2006-01-01 00:00:00</td>\n",
       "      <td>1875-11-01 00:00:00</td>\n",
       "      <td>1950-01-01 00:00:00</td>\n",
       "    </tr>\n",
       "    <tr>\n",
       "      <th>25%</th>\n",
       "      <td>40.000000</td>\n",
       "      <td>7500.000000</td>\n",
       "      <td>5.000000</td>\n",
       "      <td>5.000000</td>\n",
       "      <td>0.000000</td>\n",
       "      <td>217.500000</td>\n",
       "      <td>792.500000</td>\n",
       "      <td>876.000000</td>\n",
       "      <td>0.000000</td>\n",
       "      <td>0.000000</td>\n",
       "      <td>...</td>\n",
       "      <td>0.000000</td>\n",
       "      <td>0.000000</td>\n",
       "      <td>0.000000</td>\n",
       "      <td>0.000000</td>\n",
       "      <td>0.000000</td>\n",
       "      <td>0.000000</td>\n",
       "      <td>0.000000</td>\n",
       "      <td>2007-01-04 00:00:00</td>\n",
       "      <td>1953-01-11 00:00:00</td>\n",
       "      <td>1967-01-03 00:00:00</td>\n",
       "    </tr>\n",
       "    <tr>\n",
       "      <th>50%</th>\n",
       "      <td>61.000000</td>\n",
       "      <td>9505.000000</td>\n",
       "      <td>6.000000</td>\n",
       "      <td>5.000000</td>\n",
       "      <td>0.000000</td>\n",
       "      <td>463.000000</td>\n",
       "      <td>990.000000</td>\n",
       "      <td>1077.000000</td>\n",
       "      <td>0.000000</td>\n",
       "      <td>0.000000</td>\n",
       "      <td>...</td>\n",
       "      <td>0.000000</td>\n",
       "      <td>24.000000</td>\n",
       "      <td>0.000000</td>\n",
       "      <td>0.000000</td>\n",
       "      <td>0.000000</td>\n",
       "      <td>0.000000</td>\n",
       "      <td>0.000000</td>\n",
       "      <td>2008-01-05 00:00:00</td>\n",
       "      <td>1972-01-09 00:00:00</td>\n",
       "      <td>1992-01-12 00:00:00</td>\n",
       "    </tr>\n",
       "    <tr>\n",
       "      <th>75%</th>\n",
       "      <td>78.000000</td>\n",
       "      <td>11635.000000</td>\n",
       "      <td>7.000000</td>\n",
       "      <td>6.000000</td>\n",
       "      <td>161.000000</td>\n",
       "      <td>808.000000</td>\n",
       "      <td>1282.500000</td>\n",
       "      <td>1382.500000</td>\n",
       "      <td>736.000000</td>\n",
       "      <td>0.000000</td>\n",
       "      <td>...</td>\n",
       "      <td>177.500000</td>\n",
       "      <td>64.500000</td>\n",
       "      <td>0.000000</td>\n",
       "      <td>0.000000</td>\n",
       "      <td>0.000000</td>\n",
       "      <td>0.000000</td>\n",
       "      <td>0.000000</td>\n",
       "      <td>2009-01-06 00:00:00</td>\n",
       "      <td>1999-01-07 00:00:00</td>\n",
       "      <td>2003-01-05 00:00:00</td>\n",
       "    </tr>\n",
       "    <tr>\n",
       "      <th>max</th>\n",
       "      <td>182.000000</td>\n",
       "      <td>115149.000000</td>\n",
       "      <td>10.000000</td>\n",
       "      <td>9.000000</td>\n",
       "      <td>1600.000000</td>\n",
       "      <td>2336.000000</td>\n",
       "      <td>3200.000000</td>\n",
       "      <td>3228.000000</td>\n",
       "      <td>2065.000000</td>\n",
       "      <td>572.000000</td>\n",
       "      <td>...</td>\n",
       "      <td>728.000000</td>\n",
       "      <td>547.000000</td>\n",
       "      <td>386.000000</td>\n",
       "      <td>508.000000</td>\n",
       "      <td>480.000000</td>\n",
       "      <td>738.000000</td>\n",
       "      <td>3500.000000</td>\n",
       "      <td>2010-01-07 00:00:00</td>\n",
       "      <td>2009-01-12 00:00:00</td>\n",
       "      <td>2010-01-04 00:00:00</td>\n",
       "    </tr>\n",
       "    <tr>\n",
       "      <th>std</th>\n",
       "      <td>33.228422</td>\n",
       "      <td>6319.536187</td>\n",
       "      <td>1.365732</td>\n",
       "      <td>1.120939</td>\n",
       "      <td>179.723470</td>\n",
       "      <td>442.621653</td>\n",
       "      <td>418.210100</td>\n",
       "      <td>380.318077</td>\n",
       "      <td>437.579545</td>\n",
       "      <td>52.580304</td>\n",
       "      <td>...</td>\n",
       "      <td>124.988613</td>\n",
       "      <td>62.975199</td>\n",
       "      <td>60.397025</td>\n",
       "      <td>27.657847</td>\n",
       "      <td>56.470192</td>\n",
       "      <td>39.015517</td>\n",
       "      <td>190.231875</td>\n",
       "      <td>NaN</td>\n",
       "      <td>NaN</td>\n",
       "      <td>NaN</td>\n",
       "    </tr>\n",
       "  </tbody>\n",
       "</table>\n",
       "<p>8 rows × 31 columns</p>\n",
       "</div>"
      ],
      "text/plain": [
       "       LotFrontage        LotArea  OverallQual  OverallCond   MasVnrArea  \\\n",
       "count  1051.000000    1051.000000  1051.000000  1051.000000  1051.000000   \n",
       "mean     56.516651   10165.033302     6.095147     5.594672   102.087536   \n",
       "min       0.000000    1491.000000     1.000000     2.000000     0.000000   \n",
       "25%      40.000000    7500.000000     5.000000     5.000000     0.000000   \n",
       "50%      61.000000    9505.000000     6.000000     5.000000     0.000000   \n",
       "75%      78.000000   11635.000000     7.000000     6.000000   161.000000   \n",
       "max     182.000000  115149.000000    10.000000     9.000000  1600.000000   \n",
       "std      33.228422    6319.536187     1.365732     1.120939   179.723470   \n",
       "\n",
       "         BsmtUnfSF  TotalBsmtSF     1stFlrSF     2ndFlrSF  LowQualFinSF  ...  \\\n",
       "count  1051.000000  1051.000000  1051.000000  1051.000000   1051.000000  ...   \n",
       "mean    564.330162  1046.601332  1159.809705   351.509039      6.424358  ...   \n",
       "min       0.000000     0.000000   334.000000     0.000000      0.000000  ...   \n",
       "25%     217.500000   792.500000   876.000000     0.000000      0.000000  ...   \n",
       "50%     463.000000   990.000000  1077.000000     0.000000      0.000000  ...   \n",
       "75%     808.000000  1282.500000  1382.500000   736.000000      0.000000  ...   \n",
       "max    2336.000000  3200.000000  3228.000000  2065.000000    572.000000  ...   \n",
       "std     442.621653   418.210100   380.318077   437.579545     52.580304  ...   \n",
       "\n",
       "        WoodDeckSF  OpenPorchSF  EnclosedPorch    3SsnPorch  ScreenPorch  \\\n",
       "count  1051.000000  1051.000000    1051.000000  1051.000000  1051.000000   \n",
       "mean     97.315890    44.084681      21.963844     3.058991    15.811608   \n",
       "min       0.000000     0.000000       0.000000     0.000000     0.000000   \n",
       "25%       0.000000     0.000000       0.000000     0.000000     0.000000   \n",
       "50%       0.000000    24.000000       0.000000     0.000000     0.000000   \n",
       "75%     177.500000    64.500000       0.000000     0.000000     0.000000   \n",
       "max     728.000000   547.000000     386.000000   508.000000   480.000000   \n",
       "std     124.988613    62.975199      60.397025    27.657847    56.470192   \n",
       "\n",
       "          PoolArea      MiscVal                    SellingDate  \\\n",
       "count  1051.000000  1051.000000                           1051   \n",
       "mean      2.394862    28.690771  2007-11-05 04:29:54.862035968   \n",
       "min       0.000000     0.000000            2006-01-01 00:00:00   \n",
       "25%       0.000000     0.000000            2007-01-04 00:00:00   \n",
       "50%       0.000000     0.000000            2008-01-05 00:00:00   \n",
       "75%       0.000000     0.000000            2009-01-06 00:00:00   \n",
       "max     738.000000  3500.000000            2010-01-07 00:00:00   \n",
       "std      39.015517   190.231875                            NaN   \n",
       "\n",
       "                        BuildingDate                   RemodAddDate  \n",
       "count                           1051                           1051  \n",
       "mean   1970-06-04 20:34:28.886774500  1984-04-20 15:15:14.557564224  \n",
       "min              1875-11-01 00:00:00            1950-01-01 00:00:00  \n",
       "25%              1953-01-11 00:00:00            1967-01-03 00:00:00  \n",
       "50%              1972-01-09 00:00:00            1992-01-12 00:00:00  \n",
       "75%              1999-01-07 00:00:00            2003-01-05 00:00:00  \n",
       "max              2009-01-12 00:00:00            2010-01-04 00:00:00  \n",
       "std                              NaN                            NaN  \n",
       "\n",
       "[8 rows x 31 columns]"
      ]
     },
     "execution_count": 23,
     "metadata": {},
     "output_type": "execute_result"
    }
   ],
   "source": [
    "X_train.describe()"
   ]
  },
  {
   "cell_type": "code",
   "execution_count": 24,
   "id": "ec0afe11",
   "metadata": {
    "ExecuteTime": {
     "end_time": "2024-02-01T00:29:49.977700Z",
     "start_time": "2024-02-01T00:29:49.922336Z"
    },
    "deletable": false,
    "nbgrader": {
     "grade": false,
     "grade_id": "cell-6bc09de5e71383d3",
     "locked": false,
     "schema_version": 3,
     "solution": true,
     "task": false
    }
   },
   "outputs": [
    {
     "name": "stdout",
     "output_type": "stream",
     "text": [
      "MAE: 20737.06019314779\n"
     ]
    }
   ],
   "source": [
    "# Create a pipeline including:\n",
    "#   1 - 'date_converter', DateTransformer(['BuildingDate', 'RemodAddDate'], ref_date_col='SellingDate')\n",
    "#   2 - 'robust_scaler', RobustScaler() with the default parameters\n",
    "#   3 - 'model', LinearRegression\n",
    "# YOUR CODE HERE\n",
    "pipeline = Pipeline(\n",
    "        [\n",
    "        ('date_converter', DateTransformer(datetime_cols=['BuildingDate', 'RemodAddDate'], ref_date_col='SellingDate')),\n",
    "        ('robust_scaler', RobustScaler()),\n",
    "        ('model', LinearRegression())\n",
    "        ]\n",
    "    )\n",
    "\n",
    "\n",
    "pipeline.fit(X_train, y_train)\n",
    "y_pred = pipeline.predict(X_test)\n",
    "\n",
    "mae = mean_absolute_error(y_test, y_pred)\n",
    "print('MAE: {}'.format(mae))"
   ]
  },
  {
   "cell_type": "code",
   "execution_count": 25,
   "id": "01715551",
   "metadata": {
    "ExecuteTime": {
     "end_time": "2024-02-01T00:29:49.991950Z",
     "start_time": "2024-02-01T00:29:49.982486Z"
    },
    "deletable": false,
    "editable": false,
    "nbgrader": {
     "grade": true,
     "grade_id": "cell-5d21dcdd34a13d24",
     "locked": true,
     "points": 4,
     "schema_version": 3,
     "solution": false,
     "task": false
    }
   },
   "outputs": [],
   "source": [
    "assert type(pipeline) == Pipeline\n",
    "assert type(pipeline.named_steps['date_converter']) == DateTransformer\n",
    "assert type(pipeline.named_steps['robust_scaler']) == RobustScaler\n",
    "assert pipeline.named_steps['date_converter'].get_params()['ref_date_col'] == 'SellingDate'\n",
    "assert set(\n",
    "    pipeline.named_steps['date_converter'].get_params()['datetime_cols']\n",
    ") == {'BuildingDate', 'RemodAddDate'}\n",
    "assert type(pipeline.named_steps['model']) == LinearRegression "
   ]
  },
  {
   "cell_type": "markdown",
   "id": "b97367e2",
   "metadata": {
    "deletable": false,
    "editable": false,
    "nbgrader": {
     "grade": false,
     "grade_id": "cell-154280375c499868",
     "locked": true,
     "schema_version": 3,
     "solution": false,
     "task": false
    }
   },
   "source": [
    "## 10. Access the cofficients from the pipeline (ungraded)"
   ]
  },
  {
   "cell_type": "markdown",
   "id": "ff0f0738",
   "metadata": {
    "deletable": false,
    "editable": false,
    "nbgrader": {
     "grade": false,
     "grade_id": "cell-9a913e812dcb37ff",
     "locked": true,
     "schema_version": 3,
     "solution": false,
     "task": false
    }
   },
   "source": [
    "Now we would want to obtain the coefficients from the model to understand features with the most predictive power."
   ]
  },
  {
   "cell_type": "code",
   "execution_count": 26,
   "id": "6404b9be",
   "metadata": {
    "ExecuteTime": {
     "end_time": "2024-02-01T00:29:50.003812Z",
     "start_time": "2024-02-01T00:29:49.997503Z"
    },
    "deletable": false,
    "nbgrader": {
     "grade": false,
     "grade_id": "cell-58083ef8ab8d97c7",
     "locked": false,
     "schema_version": 3,
     "solution": true,
     "task": false
    }
   },
   "outputs": [],
   "source": [
    "#coefs = ....\n",
    "# YOUR CODE HERE\n",
    "coefs = pipeline.named_steps['model'].coef_"
   ]
  },
  {
   "cell_type": "code",
   "execution_count": 27,
   "id": "8810e2d4",
   "metadata": {
    "ExecuteTime": {
     "end_time": "2024-02-01T00:29:50.015219Z",
     "start_time": "2024-02-01T00:29:50.008548Z"
    },
    "deletable": false,
    "editable": false,
    "nbgrader": {
     "grade": true,
     "grade_id": "cell-f42cbedb988b6aa8",
     "locked": true,
     "points": 0,
     "schema_version": 3,
     "solution": false,
     "task": false
    }
   },
   "outputs": [],
   "source": [
    "assert coefs.shape == (30,), 'Wrong number of coefficients. Did you select the features correctly?'"
   ]
  },
  {
   "cell_type": "markdown",
   "id": "4c3facfa",
   "metadata": {
    "deletable": false,
    "editable": false,
    "nbgrader": {
     "grade": false,
     "grade_id": "cell-57f2ca220627e218",
     "locked": true,
     "schema_version": 3,
     "solution": false,
     "task": false
    }
   },
   "source": [
    "Exercises complete, congratulations! You are about to become a certified data wrangler."
   ]
  },
  {
   "cell_type": "markdown",
   "id": "84bcf3c4",
   "metadata": {},
   "source": [
    "\n",
    "<hr>\n",
    "<h2>Exercise notebook.ipynb</h2>"
   ]
  }
 ],
 "metadata": {},
 "nbformat": 4,
 "nbformat_minor": 5
}
