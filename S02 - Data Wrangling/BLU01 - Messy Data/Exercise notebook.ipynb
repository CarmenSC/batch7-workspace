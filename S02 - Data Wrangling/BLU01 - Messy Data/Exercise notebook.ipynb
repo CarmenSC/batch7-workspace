{
 "cells": [
  {
   "cell_type": "markdown",
   "metadata": {
    "deletable": false,
    "editable": false,
    "nbgrader": {
     "grade": false,
     "grade_id": "cell-1b6b75485105e36c",
     "locked": true,
     "schema_version": 3,
     "solution": false
    }
   },
   "source": [
    "# BLU01 - Exercises Notebook"
   ]
  },
  {
   "cell_type": "markdown",
   "metadata": {},
   "source": [
    "**Important Note**\n",
    "\n",
    "Attention Windows users: The grader will run on Linux, and using power shell statements will not work."
   ]
  },
  {
   "cell_type": "code",
   "execution_count": 1,
   "metadata": {
    "ExecuteTime": {
     "end_time": "2024-01-30T21:32:34.333930Z",
     "start_time": "2024-01-30T21:32:33.820528Z"
    },
    "deletable": false,
    "editable": false,
    "nbgrader": {
     "grade": false,
     "grade_id": "cell-0240afddd4fae69d",
     "locked": true,
     "schema_version": 3,
     "solution": false
    }
   },
   "outputs": [],
   "source": [
    "import chardet\n",
    "import hashlib # for grading purposes\n",
    "import math\n",
    "import numpy as np\n",
    "import csv\n",
    "import pandas as pd\n",
    "import random"
   ]
  },
  {
   "cell_type": "markdown",
   "metadata": {
    "deletable": false,
    "editable": false,
    "nbgrader": {
     "grade": false,
     "grade_id": "cell-93e0b4e1a40ebaaa",
     "locked": true,
     "schema_version": 3,
     "solution": false
    }
   },
   "source": [
    "## Q1: Use a shell command to count lines\n",
    "\n",
    "Count the total number of lines of files data/exercises/dog.txt and data/exercises/dog_intelligence.txt and store the result in variable called count_total.  \n",
    "There is more than one way to do this. Hint: concatenate both files.\n",
    "\n",
    "\n",
    "\n"
   ]
  },
  {
   "cell_type": "code",
   "execution_count": 2,
   "metadata": {
    "ExecuteTime": {
     "end_time": "2024-01-30T21:32:34.384338Z",
     "start_time": "2024-01-30T21:32:34.338714Z"
    },
    "deletable": false,
    "nbgrader": {
     "grade": false,
     "grade_id": "cell-05a3d2245d57305d",
     "locked": false,
     "schema_version": 3,
     "solution": true
    }
   },
   "outputs": [
    {
     "data": {
      "text/plain": [
       "8"
      ]
     },
     "execution_count": 2,
     "metadata": {},
     "output_type": "execute_result"
    }
   ],
   "source": [
    "# count_total = ...\n",
    "first_file = !wc -l < data/exercises/dog.txt\n",
    "second_file = !wc -l < data/exercises/dog_intelligence.txt\n",
    "count_total = int(first_file[0]) + int(second_file[0])\n",
    "count_total"
   ]
  },
  {
   "cell_type": "code",
   "execution_count": 3,
   "metadata": {
    "ExecuteTime": {
     "end_time": "2024-01-30T21:32:34.430883Z",
     "start_time": "2024-01-30T21:32:34.389573Z"
    }
   },
   "outputs": [
    {
     "data": {
      "text/plain": [
       "8"
      ]
     },
     "execution_count": 3,
     "metadata": {},
     "output_type": "execute_result"
    }
   ],
   "source": [
    "count_total = !cat data/exercises/dog.txt data/exercises/dog_intelligence.txt | wc -l\n",
    "count_total = int(count_total[0])\n",
    "count_total"
   ]
  },
  {
   "cell_type": "code",
   "execution_count": 4,
   "metadata": {
    "ExecuteTime": {
     "end_time": "2024-01-30T21:32:34.444785Z",
     "start_time": "2024-01-30T21:32:34.438810Z"
    },
    "deletable": false,
    "editable": false,
    "nbgrader": {
     "grade": true,
     "grade_id": "cell-2e69c6137e73d90c",
     "locked": true,
     "points": 2,
     "schema_version": 3,
     "solution": false
    }
   },
   "outputs": [],
   "source": [
    "expected_hash = '2c624232cdd221771294dfbb310aca000a0df6ac8b66b696d90ef06fdefb64a3'\n",
    "assert hashlib.sha256(str(count_total).encode()).hexdigest() == expected_hash, \"count_total is wrong\""
   ]
  },
  {
   "cell_type": "markdown",
   "metadata": {},
   "source": [
    "![title](./media/dog_1.jpeg)\n",
    "\n",
    "\n",
    "Now store in 2 variables the first fourth and the last fourth of the lines of the file data/exercises/dog.txt."
   ]
  },
  {
   "cell_type": "code",
   "execution_count": 5,
   "metadata": {
    "ExecuteTime": {
     "end_time": "2024-01-30T21:32:34.561279Z",
     "start_time": "2024-01-30T21:32:34.449829Z"
    },
    "code_folding": [],
    "deletable": false,
    "nbgrader": {
     "grade": false,
     "grade_id": "cell-14cf2619322a8763",
     "locked": false,
     "schema_version": 3,
     "solution": true
    }
   },
   "outputs": [],
   "source": [
    "# NOT GRADED optional exercise!!\n",
    "# Add the first and last fourth of the lines to the variables first_third and last_third. \n",
    "# Make it work to any files using count_total_dog / 4 for instance in the bash commands\n",
    "# count_total_dog = \n",
    "# first_fourth = ...\n",
    "# last_fourth = ...\n",
    "# YOUR CODE HERE\n",
    "filename = \"./data/exercises/dog.txt\"\n",
    "# Count total lines in dog.txt\n",
    "count_total_dog = !wc -l < {filename}\n",
    "count_total_dog = int(count_total_dog[0])\n",
    "\n",
    "# Calculate one-fourth of the total line count\n",
    "one_fourth = count_total_dog // 4\n",
    "\n",
    "# Extract the first and last fourth of the lines\n",
    "first_fourth = !head -n {one_fourth} {filename}\n",
    "last_fourth = !tail -n {one_fourth} {filename}"
   ]
  },
  {
   "cell_type": "code",
   "execution_count": 6,
   "metadata": {
    "ExecuteTime": {
     "end_time": "2024-01-30T21:32:34.636207Z",
     "start_time": "2024-01-30T21:32:34.567487Z"
    }
   },
   "outputs": [],
   "source": [
    "\n",
    "filename = \"./data/exercises/dog.txt\"\n",
    "\n",
    "count_total_dog =!wc -l < {filename}\n",
    "\n",
    "first_fourth = !head -{int(int(count_total_dog[0])/4)} < {filename}\n",
    "\n",
    "last_fourth = !tail -{int(int(count_total_dog[0])/4)} < {filename}"
   ]
  },
  {
   "cell_type": "code",
   "execution_count": 7,
   "metadata": {
    "ExecuteTime": {
     "end_time": "2024-01-30T21:32:34.658082Z",
     "start_time": "2024-01-30T21:32:34.642777Z"
    },
    "deletable": false,
    "editable": false,
    "nbgrader": {
     "grade": true,
     "grade_id": "cell-20d96111430874d4",
     "locked": true,
     "points": 0,
     "schema_version": 3,
     "solution": false,
     "task": false
    }
   },
   "outputs": [],
   "source": [
    "# Test the first_fourth and last_fourth exercise by running the following (ungraded) asserts.\n",
    "assert first_fourth[-1][0] == 'T'\n",
    "assert last_fourth[0][0] == 'S'"
   ]
  },
  {
   "cell_type": "markdown",
   "metadata": {
    "deletable": false,
    "editable": false,
    "nbgrader": {
     "grade": false,
     "grade_id": "cell-e27cb8588bb5fd40",
     "locked": true,
     "schema_version": 3,
     "solution": false
    }
   },
   "source": [
    "## Q2: Read a file with specific delimiter\n",
    "\n",
    "Read file **data/exercises/breed_info.csv** into a pandas DataFrame. This file contains information about dog breeds, including minimum and maximum heights and weights.\n",
    "\n",
    "First, you should preview the file using a shell command in order to find out the used delimiter, and other properties of this file.\n",
    "\n",
    "Then, you should use the function read_csv to read the data into a DataFrame. The resulting DataFrame should have the first column as index."
   ]
  },
  {
   "cell_type": "code",
   "execution_count": 8,
   "metadata": {
    "ExecuteTime": {
     "end_time": "2024-01-30T21:32:34.708013Z",
     "start_time": "2024-01-30T21:32:34.663862Z"
    },
    "deletable": false,
    "nbgrader": {
     "grade": false,
     "grade_id": "cell-942e0590467e20d9",
     "locked": false,
     "schema_version": 3,
     "solution": true
    },
    "tags": []
   },
   "outputs": [
    {
     "data": {
      "text/html": [
       "<div>\n",
       "<style scoped>\n",
       "    .dataframe tbody tr th:only-of-type {\n",
       "        vertical-align: middle;\n",
       "    }\n",
       "\n",
       "    .dataframe tbody tr th {\n",
       "        vertical-align: top;\n",
       "    }\n",
       "\n",
       "    .dataframe thead th {\n",
       "        text-align: right;\n",
       "    }\n",
       "</style>\n",
       "<table border=\"1\" class=\"dataframe\">\n",
       "  <thead>\n",
       "    <tr style=\"text-align: right;\">\n",
       "      <th></th>\n",
       "      <th>index</th>\n",
       "      <th>height_low_inches</th>\n",
       "      <th>height_high_inches</th>\n",
       "      <th>weight_low_lbs</th>\n",
       "      <th>weight_high_lbs</th>\n",
       "    </tr>\n",
       "    <tr>\n",
       "      <th>Breed</th>\n",
       "      <th></th>\n",
       "      <th></th>\n",
       "      <th></th>\n",
       "      <th></th>\n",
       "      <th></th>\n",
       "    </tr>\n",
       "  </thead>\n",
       "  <tbody>\n",
       "    <tr>\n",
       "      <th>Akita</th>\n",
       "      <td>0</td>\n",
       "      <td>26.0</td>\n",
       "      <td>28.0</td>\n",
       "      <td>80</td>\n",
       "      <td>120</td>\n",
       "    </tr>\n",
       "    <tr>\n",
       "      <th>Anatolian Sheepdog</th>\n",
       "      <td>1</td>\n",
       "      <td>27.0</td>\n",
       "      <td>29.0</td>\n",
       "      <td>100</td>\n",
       "      <td>150</td>\n",
       "    </tr>\n",
       "    <tr>\n",
       "      <th>Bernese Mountain Dog</th>\n",
       "      <td>2</td>\n",
       "      <td>23.0</td>\n",
       "      <td>27.0</td>\n",
       "      <td>85</td>\n",
       "      <td>110</td>\n",
       "    </tr>\n",
       "    <tr>\n",
       "      <th>Bloodhound</th>\n",
       "      <td>3</td>\n",
       "      <td>24.0</td>\n",
       "      <td>26.0</td>\n",
       "      <td>80</td>\n",
       "      <td>120</td>\n",
       "    </tr>\n",
       "    <tr>\n",
       "      <th>Borzoi</th>\n",
       "      <td>4</td>\n",
       "      <td>26.0</td>\n",
       "      <td>28.0</td>\n",
       "      <td>70</td>\n",
       "      <td>100</td>\n",
       "    </tr>\n",
       "    <tr>\n",
       "      <th>...</th>\n",
       "      <td>...</td>\n",
       "      <td>...</td>\n",
       "      <td>...</td>\n",
       "      <td>...</td>\n",
       "      <td>...</td>\n",
       "    </tr>\n",
       "    <tr>\n",
       "      <th>Papillon</th>\n",
       "      <td>145</td>\n",
       "      <td>8.0</td>\n",
       "      <td>11.0</td>\n",
       "      <td>5</td>\n",
       "      <td>10</td>\n",
       "    </tr>\n",
       "    <tr>\n",
       "      <th>Pomeranian</th>\n",
       "      <td>146</td>\n",
       "      <td>12.0</td>\n",
       "      <td>12.0</td>\n",
       "      <td>3</td>\n",
       "      <td>7</td>\n",
       "    </tr>\n",
       "    <tr>\n",
       "      <th>Poodle Toy</th>\n",
       "      <td>147</td>\n",
       "      <td>10.0</td>\n",
       "      <td>10.0</td>\n",
       "      <td>10</td>\n",
       "      <td>10</td>\n",
       "    </tr>\n",
       "    <tr>\n",
       "      <th>Toy Fox Terrier</th>\n",
       "      <td>148</td>\n",
       "      <td>10.0</td>\n",
       "      <td>10.0</td>\n",
       "      <td>4</td>\n",
       "      <td>7</td>\n",
       "    </tr>\n",
       "    <tr>\n",
       "      <th>Yorkshire Terrier</th>\n",
       "      <td>149</td>\n",
       "      <td>8.0</td>\n",
       "      <td>8.0</td>\n",
       "      <td>3</td>\n",
       "      <td>7</td>\n",
       "    </tr>\n",
       "  </tbody>\n",
       "</table>\n",
       "<p>148 rows × 5 columns</p>\n",
       "</div>"
      ],
      "text/plain": [
       "                      index  height_low_inches  height_high_inches  \\\n",
       "Breed                                                                \n",
       "Akita                     0               26.0                28.0   \n",
       "Anatolian Sheepdog        1               27.0                29.0   \n",
       "Bernese Mountain Dog      2               23.0                27.0   \n",
       "Bloodhound                3               24.0                26.0   \n",
       "Borzoi                    4               26.0                28.0   \n",
       "...                     ...                ...                 ...   \n",
       "Papillon                145                8.0                11.0   \n",
       "Pomeranian              146               12.0                12.0   \n",
       "Poodle Toy              147               10.0                10.0   \n",
       "Toy Fox Terrier         148               10.0                10.0   \n",
       "Yorkshire Terrier       149                8.0                 8.0   \n",
       "\n",
       "                      weight_low_lbs  weight_high_lbs  \n",
       "Breed                                                  \n",
       "Akita                             80              120  \n",
       "Anatolian Sheepdog               100              150  \n",
       "Bernese Mountain Dog              85              110  \n",
       "Bloodhound                        80              120  \n",
       "Borzoi                            70              100  \n",
       "...                              ...              ...  \n",
       "Papillon                           5               10  \n",
       "Pomeranian                         3                7  \n",
       "Poodle Toy                        10               10  \n",
       "Toy Fox Terrier                    4                7  \n",
       "Yorkshire Terrier                  3                7  \n",
       "\n",
       "[148 rows x 5 columns]"
      ]
     },
     "execution_count": 8,
     "metadata": {},
     "output_type": "execute_result"
    }
   ],
   "source": [
    "# Use a shell command to preview the data\n",
    "# ! ...\n",
    "# YOUR CODE HERE\n",
    "#!cat data/exercises/breed_info.csv\n",
    "\n",
    "# Use function read_csv to read the data into a DataFrame\n",
    "# df2 = pd.read_csv(...)\n",
    "# YOUR CODE HERE\n",
    "df2 = pd.read_csv('data/exercises/breed_info.csv', sep=';',index_col=1)\n",
    "df2"
   ]
  },
  {
   "cell_type": "code",
   "execution_count": 9,
   "metadata": {
    "ExecuteTime": {
     "end_time": "2024-01-30T21:32:34.726715Z",
     "start_time": "2024-01-30T21:32:34.712195Z"
    },
    "deletable": false,
    "editable": false,
    "nbgrader": {
     "grade": true,
     "grade_id": "cell-0c275c9acaa9c74d",
     "locked": true,
     "points": 2,
     "schema_version": 3,
     "solution": false
    }
   },
   "outputs": [],
   "source": [
    "assert df2.loc['Bernese Mountain Dog', 'height_low_inches'] == 23.0, \"df2 data is wrong, the lower range of the height of the Bernese Mountain Dog is incorrect.\"\n",
    "assert len(df2.columns) == 5, \"df2 data is wrong, the number of columns does not match what is expected.\"\n",
    "assert len(df2) == 148, \"df2 data is wrong, the length is different than expected.\"\n",
    "assert df2.index[34] == 'English Setter', \"df2 data is wrong, the positions are wrong.\"\n",
    "\n",
    "expected_hash = 'd1ac8a80937c65bd103bb3aab437b45ee947eff75901f671d68f895e35eb09d2'\n",
    "assert hashlib.sha256(df2.index.name.encode()).hexdigest() == expected_hash"
   ]
  },
  {
   "cell_type": "markdown",
   "metadata": {
    "deletable": false,
    "editable": false,
    "nbgrader": {
     "grade": false,
     "grade_id": "cell-f6f9efef818e4a83",
     "locked": true,
     "schema_version": 3,
     "solution": false
    }
   },
   "source": [
    "## Q3: Read a csv file with problems\n",
    "\n",
    "Read file **data/exercises/breed_info_w_problems.csv** using function `read_csv`. Pay attention to the following:\n",
    "* use the first column as index\n",
    "* there are some inputs in the file that should be interpreted as NaN, make sure you select the right one when reading the file!"
   ]
  },
  {
   "cell_type": "code",
   "execution_count": 10,
   "metadata": {
    "ExecuteTime": {
     "end_time": "2024-01-30T21:32:34.879146Z",
     "start_time": "2024-01-30T21:32:34.744728Z"
    }
   },
   "outputs": [
    {
     "name": "stdout",
     "output_type": "stream",
     "text": [
      "index;Breed;height_low_inches;height_high_inches;weight_low_lbs;weight_high_lbs\r",
      "\r\n",
      "0;Akita;26;28;80;120\r",
      "\r\n",
      "1;Anatolian Sheepdog;27;29;100;150\r",
      "\r\n",
      "2;Bernese Mountain Dog;23;27;85;110\r",
      "\r\n",
      "3;Bloodhound;24;26;80;120\r",
      "\r\n",
      "4;Borzoi;26;28;70;100\r",
      "\r\n",
      "5;Bullmastiff;25;27;100;130\r",
      "\r\n",
      "6;Great Dane;32;32;120;160\r",
      "\r\n",
      "7;Great Pyrenees;27;32;95;120\r",
      "\r\n",
      "8;Great Swiss Mountain Dog;23;28;130;150\r",
      "\r\n",
      "9;Irish Wolfhound;28;35;90;150\r",
      "\r\n",
      "10;Kuvasz;28;30;70;120\r",
      "\r\n",
      "11;Mastiff;27;30;175;190\r",
      "\r\n",
      "12;Neopolitan Mastiff;24;30;100;150\r",
      "\r\n",
      "13;Newfoundland;26;28;100;150\r",
      "\r\n",
      "14;Otter Hound;24;26;65;110\r",
      "\r\n",
      "15;Rottweiler;22;27;90;110\r",
      "\r\n",
      "16;Saint Bernard;25;28;110;190\r",
      "\r\n",
      "17;Afghan Hound;25;27;50;60\r",
      "\r\n",
      "18;Alaskan Malamute;na;na;na;na\r",
      "\r\n",
      "19;American Foxhound;22;25;65;70\r",
      "\r\n",
      "20;Beauceron;24;27;100;120\r",
      "\r\n",
      "21;Belgian Malinois;22;26;60;65\r",
      "\r\n",
      "22;Belgian Sheepdog;22;26;60;75\r",
      "\r\n",
      "23;Belgian Tervuren;22;26;60;75\r",
      "\r\n",
      "24;Black And Tan Coonhound;na;27;50;75\r",
      "\r\n",
      "25;Black Russian Terrier;25;29;80;140\r",
      "\r\n",
      "26;Bouvier Des Flandres;23;27;75;95\r",
      "\r\n",
      "27;Boxer;21;25;65;70\r",
      "\r\n",
      "28;Briard;23;27;74;76\r",
      "\r\n",
      "29;Chesapeake Bay Retriever;21;26;55;75\r",
      "\r\n",
      "30;Clumber Spaniel;19;20;35;65\r",
      "\r\n",
      "31;Collie (Rough) & (Smooth);22;26;50;75\r",
      "\r\n",
      "32;Curly Coated Retriever;25;27;65;80\r",
      "\r\n",
      "33;Doberman Pinscher;26;28;60;100\r",
      "\r\n",
      "34;English Foxhound;22;25;65;70\r",
      "\r\n",
      "35;English Setter;23;27;na;80\r",
      "\r\n",
      "36;German Shepherd Dog;22;26;75;90\r",
      "\r\n",
      "37;German Shorthaired Pointer;20;27;50;80\r",
      "\r\n",
      "38;German Wirehaired Pointer;22;26;60;70\r",
      "\r\n",
      "39;Giant Schnauzer;25;28;70;75\r",
      "\r\n",
      "40;Golden Retriever;21;24;55;75\r",
      "\r\n",
      "41;Gordon Setter;23;27;45;80\r",
      "\r\n",
      "42;Greyhound;27;30;60;70\r",
      "\r\n",
      "43;Irish Setter;25;27;60;70\r",
      "\r\n",
      "44;Komondor;26.5;35.5;80;135\r",
      "\r\n",
      "45;Labrador Retriever;21;24;55;80\r",
      "\r\n",
      "46;Old English Sheepdog (Bobtail);20;24;60;65\r",
      "\r\n",
      "47;Poodle Standard;15;25;45;not found\r",
      "\r\n",
      "48;Rhodesian Ridgeback;24;27;70;85\r",
      "\r\n",
      "49;Scottish Deerhound;28;32;75;110\r",
      "\r\n",
      "50;Spinone Italiano;23;28;65;80\r",
      "\r\n",
      "51;Tibetan Mastiff;24;26;140;170\r",
      "\r\n",
      "52;Weimaraner;25;27;70;85\r",
      "\r\n",
      "53;Airdale Terrier;22;24;45;45\r",
      "\r\n",
      "54;American Staffordshire Terrier;17;19;40;50\r",
      "\r\n",
      "55;American Water Spaniel;not found;18;25;45\r",
      "\r\n",
      "56;Australian Cattle Dog;17;20;35;45\r",
      "\r\n",
      "57;Australian Shepherd;18;23;40;60\r",
      "\r\n",
      "58;Basset Hound;14;14;40;50\r",
      "\r\n",
      "59;Bearded Collie;20;22;40;60\r",
      "\r\n",
      "60;Border Collie;19;21;40;40\r",
      "\r\n",
      "61;Brittany;17;21;30;40\r",
      "\r\n",
      "62;Bull Dog;12;16;50;60\r",
      "\r\n",
      "63;Bull Terrier;21;22;50;70\r",
      "\r\n",
      "64;Canaan Dog;19;24;35;55\r",
      "\r\n",
      "65;Chinese Shar Pei;18;20;45;55\r",
      "\r\n",
      "66;Chow Chow;19;22;45;55\r",
      "\r\n",
      "67;Cocker Spaniel-American;15;16;22;28\r",
      "\r\n",
      "68;Cocker Spaniel-English;15;17;25;35\r",
      "\r\n",
      "69;Dalmatian;19;23;45;70\r",
      "\r\n",
      "70;English Springer Spaniel;20;20;45;55\r",
      "\r\n",
      "71;Field Spaniel;18;18;35;50\r",
      "\r\n",
      "72;Flat Coated Retriever;22;23;60;70\r",
      "\r\n",
      "73;Finnish Spitz;15;20;31;35\r",
      "\r\n",
      "74;Harrier;19;21;40;60\r",
      "\r\n",
      "75;Ibizan Hound;22;29;42;55\r",
      "\r\n",
      "76;Irish Terrier;18;19;25;27\r",
      "\r\n",
      "77;Irish Water Spaniel;10;23;45;65\r",
      "\r\n",
      "78;Keeshond;17;19;35;50\r",
      "\r\n",
      "79;Kerry Blue Terrier;17;21;30;45\r",
      "\r\n",
      "80;Norwegian Elkhound;19;20;40;60\r",
      "\r\n",
      "81;Nova Scotia Duck Tolling Retriever;17;21;35;50\r",
      "\r\n",
      "82;Petit Basset Griffon Vendeen;13;15;30;40\r",
      "\r\n",
      "83;Pharaoh Hound;21;25;45;55\r",
      "\r\n",
      "84;Plott Hound;20;24;45;55\r",
      "\r\n",
      "85;Pointer;21;24;44;66\r",
      "\r\n",
      "86;Polish Lowland Sheepdog;16;20;30;35\r",
      "\r\n",
      "87;Portuguese Water Dog;20;23;42;60\r",
      "\r\n",
      "88;Redbone Coonhound;21;27;50;70\r",
      "\r\n",
      "89;Saluki;23;28;35;70\r",
      "\r\n",
      "90;Samoyed;19;24;50;65\r",
      "\r\n",
      "91;Siberian Husky;20;23;40;60\r",
      "\r\n",
      "92;Soft-Coated Wheaten Terrier;18;20;35;45\r",
      "\r\n",
      "93;Staffordshire Bull Terrier;14;16;24;28\r",
      "\r\n",
      "94;Standard Schnauzer;17;19;33;33\r",
      "\r\n",
      "95;Sussex Spaniel;15;16;40;45\r",
      "\r\n",
      "96;Vizsla;48;66;22;25\r",
      "\r\n",
      "97;Welsh Springer Spaniel;16;19;35;45\r",
      "\r\n",
      "98;Wirehaired Pointing Griffon;20;24;45;60\r",
      "\r\n",
      "99;American Eskimo;9;19;25;30\r",
      "\r\n",
      "100;Australian Terrier;10;10;10;14\r",
      "\r\n",
      "101;Basenji;17;17;20;22\r",
      "\r\n",
      "102;Beagle;13;16;18;30\r",
      "\r\n",
      "103;Bedlington Terrier;15;16;18;23\r",
      "\r\n",
      "104;Bichon Frise;9.5;11.5;10;18\r",
      "\r\n",
      "105;Border Terrier;12;15;12;15\r",
      "\r\n",
      "106;Boston Terrier;14;15;15;25\r",
      "\r\n",
      "107;Brussels Griffon;7;8;6;12\r",
      "\r\n",
      "108;Cairn Terrier;9;10;14;14\r",
      "\r\n",
      "109;Cardigan Welsh Corgi;10;12;25;35\r",
      "\r\n",
      "110;Cavalier King Charles Spaniel;10;15;15;20\r",
      "\r\n",
      "111;Coton de Tulear;not found;not found;not found;not found\r",
      "\r\n",
      "112;Dachshund;7;10;16;32\r",
      "\r\n",
      "113;Dandie Dinmont Terrier;18;24;8;11\r",
      "\r\n",
      "114;English Toy Spaniel;10;10;9;15\r",
      "\r\n",
      "115;Fox Terrier ‰ÛÒ Smooth;13;16;15;20\r",
      "\r\n",
      "116;Fox Terrier ‰ÛÒ Wirehair;13;16;15;20\r",
      "\r\n",
      "117;French Bulldog;11;12;17;28\r",
      "\r\n",
      "118;German Pinscher;16;19;25;35\r",
      "\r\n",
      "119;Glen Imaal Terrier;14;14;34;36\r",
      "\r\n",
      "120;Lakeland Terrier;13;14;15;17\r",
      "\r\n",
      "121;Manchester Terrier (Standard);15;16;17;18\r",
      "\r\n",
      "122;Poodle Miniature;10;15;20;20\r",
      "\r\n",
      "123;Pug;10;11;14;22\r",
      "\r\n",
      "124;Puli;16;17;29;33\r",
      "\r\n",
      "125;Schipperke;10;13;12;18\r",
      "\r\n",
      "126;Scottish Terrier;10;12;18;22\r",
      "\r\n",
      "127;Sealyham Terrier;12;12;18;20\r",
      "\r\n",
      "128;Shetland Sheepdog (Sheltie);13;16;14;20\r",
      "\r\n",
      "129;Shiba Inu;13;16;15;30\r",
      "\r\n",
      "130;Shih Tzu;8;11;9;16\r",
      "\r\n",
      "131;Silky Terrier;9;10;8;11\r",
      "\r\n",
      "132;Skye Terrier;10;10;25;25\r",
      "\r\n",
      "133;Tibetan Spaniel;10;10;9;15\r",
      "\r\n",
      "134;Tibetan Terrier;14;17;20;30\r",
      "\r\n",
      "135;Welsh Terrier;15;15;20;21\r",
      "\r\n",
      "136;West Highland White Terrier;11;11;13;15\r",
      "\r\n",
      "137;Whippet;18;22;27;30\r",
      "\r\n",
      "138;Affenpinscher;9;12;8;12\r",
      "\r\n",
      "139;Chihuahua;6;9;2;5\r",
      "\r\n",
      "140;Chinese Crested;11;13;5;12\r",
      "\r\n",
      "141;Italian Greyhound;12;15;6;10\r",
      "\r\n",
      "142;Japanese Chin;8;11;4;11\r",
      "\r\n",
      "143;Maltese;8;10;4;6\r",
      "\r\n",
      "144;Manchester Terrier (Toy);10;12;6;8\r",
      "\r\n",
      "145;Papillon;8;11;5;10\r",
      "\r\n",
      "146;Pomeranian;12;12;3;7\r",
      "\r\n",
      "147;Poodle Toy;10;10;10;10\r",
      "\r\n",
      "148;Toy Fox Terrier;10;10;4;7\r",
      "\r\n",
      "149;Yorkshire Terrier;8;8;3;7"
     ]
    }
   ],
   "source": [
    "!cat data/exercises/breed_info_w_problems.csv"
   ]
  },
  {
   "cell_type": "code",
   "execution_count": 11,
   "metadata": {
    "ExecuteTime": {
     "end_time": "2024-01-30T21:32:34.920142Z",
     "start_time": "2024-01-30T21:32:34.884668Z"
    },
    "deletable": false,
    "nbgrader": {
     "grade": false,
     "grade_id": "cell-2771b707556c08d2",
     "locked": false,
     "schema_version": 3,
     "solution": true
    }
   },
   "outputs": [
    {
     "data": {
      "text/html": [
       "<div>\n",
       "<style scoped>\n",
       "    .dataframe tbody tr th:only-of-type {\n",
       "        vertical-align: middle;\n",
       "    }\n",
       "\n",
       "    .dataframe tbody tr th {\n",
       "        vertical-align: top;\n",
       "    }\n",
       "\n",
       "    .dataframe thead th {\n",
       "        text-align: right;\n",
       "    }\n",
       "</style>\n",
       "<table border=\"1\" class=\"dataframe\">\n",
       "  <thead>\n",
       "    <tr style=\"text-align: right;\">\n",
       "      <th></th>\n",
       "      <th>index</th>\n",
       "      <th>height_low_inches</th>\n",
       "      <th>height_high_inches</th>\n",
       "      <th>weight_low_lbs</th>\n",
       "      <th>weight_high_lbs</th>\n",
       "    </tr>\n",
       "    <tr>\n",
       "      <th>Breed</th>\n",
       "      <th></th>\n",
       "      <th></th>\n",
       "      <th></th>\n",
       "      <th></th>\n",
       "      <th></th>\n",
       "    </tr>\n",
       "  </thead>\n",
       "  <tbody>\n",
       "    <tr>\n",
       "      <th>Akita</th>\n",
       "      <td>0</td>\n",
       "      <td>26.0</td>\n",
       "      <td>28.0</td>\n",
       "      <td>80.0</td>\n",
       "      <td>120.0</td>\n",
       "    </tr>\n",
       "    <tr>\n",
       "      <th>Anatolian Sheepdog</th>\n",
       "      <td>1</td>\n",
       "      <td>27.0</td>\n",
       "      <td>29.0</td>\n",
       "      <td>100.0</td>\n",
       "      <td>150.0</td>\n",
       "    </tr>\n",
       "    <tr>\n",
       "      <th>Bernese Mountain Dog</th>\n",
       "      <td>2</td>\n",
       "      <td>23.0</td>\n",
       "      <td>27.0</td>\n",
       "      <td>85.0</td>\n",
       "      <td>110.0</td>\n",
       "    </tr>\n",
       "    <tr>\n",
       "      <th>Bloodhound</th>\n",
       "      <td>3</td>\n",
       "      <td>24.0</td>\n",
       "      <td>26.0</td>\n",
       "      <td>80.0</td>\n",
       "      <td>120.0</td>\n",
       "    </tr>\n",
       "    <tr>\n",
       "      <th>Borzoi</th>\n",
       "      <td>4</td>\n",
       "      <td>26.0</td>\n",
       "      <td>28.0</td>\n",
       "      <td>70.0</td>\n",
       "      <td>100.0</td>\n",
       "    </tr>\n",
       "    <tr>\n",
       "      <th>...</th>\n",
       "      <td>...</td>\n",
       "      <td>...</td>\n",
       "      <td>...</td>\n",
       "      <td>...</td>\n",
       "      <td>...</td>\n",
       "    </tr>\n",
       "    <tr>\n",
       "      <th>Papillon</th>\n",
       "      <td>145</td>\n",
       "      <td>8.0</td>\n",
       "      <td>11.0</td>\n",
       "      <td>5.0</td>\n",
       "      <td>10.0</td>\n",
       "    </tr>\n",
       "    <tr>\n",
       "      <th>Pomeranian</th>\n",
       "      <td>146</td>\n",
       "      <td>12.0</td>\n",
       "      <td>12.0</td>\n",
       "      <td>3.0</td>\n",
       "      <td>7.0</td>\n",
       "    </tr>\n",
       "    <tr>\n",
       "      <th>Poodle Toy</th>\n",
       "      <td>147</td>\n",
       "      <td>10.0</td>\n",
       "      <td>10.0</td>\n",
       "      <td>10.0</td>\n",
       "      <td>10.0</td>\n",
       "    </tr>\n",
       "    <tr>\n",
       "      <th>Toy Fox Terrier</th>\n",
       "      <td>148</td>\n",
       "      <td>10.0</td>\n",
       "      <td>10.0</td>\n",
       "      <td>4.0</td>\n",
       "      <td>7.0</td>\n",
       "    </tr>\n",
       "    <tr>\n",
       "      <th>Yorkshire Terrier</th>\n",
       "      <td>149</td>\n",
       "      <td>8.0</td>\n",
       "      <td>8.0</td>\n",
       "      <td>3.0</td>\n",
       "      <td>7.0</td>\n",
       "    </tr>\n",
       "  </tbody>\n",
       "</table>\n",
       "<p>150 rows × 5 columns</p>\n",
       "</div>"
      ],
      "text/plain": [
       "                      index  height_low_inches  height_high_inches  \\\n",
       "Breed                                                                \n",
       "Akita                     0               26.0                28.0   \n",
       "Anatolian Sheepdog        1               27.0                29.0   \n",
       "Bernese Mountain Dog      2               23.0                27.0   \n",
       "Bloodhound                3               24.0                26.0   \n",
       "Borzoi                    4               26.0                28.0   \n",
       "...                     ...                ...                 ...   \n",
       "Papillon                145                8.0                11.0   \n",
       "Pomeranian              146               12.0                12.0   \n",
       "Poodle Toy              147               10.0                10.0   \n",
       "Toy Fox Terrier         148               10.0                10.0   \n",
       "Yorkshire Terrier       149                8.0                 8.0   \n",
       "\n",
       "                      weight_low_lbs  weight_high_lbs  \n",
       "Breed                                                  \n",
       "Akita                           80.0            120.0  \n",
       "Anatolian Sheepdog             100.0            150.0  \n",
       "Bernese Mountain Dog            85.0            110.0  \n",
       "Bloodhound                      80.0            120.0  \n",
       "Borzoi                          70.0            100.0  \n",
       "...                              ...              ...  \n",
       "Papillon                         5.0             10.0  \n",
       "Pomeranian                       3.0              7.0  \n",
       "Poodle Toy                      10.0             10.0  \n",
       "Toy Fox Terrier                  4.0              7.0  \n",
       "Yorkshire Terrier                3.0              7.0  \n",
       "\n",
       "[150 rows x 5 columns]"
      ]
     },
     "execution_count": 11,
     "metadata": {},
     "output_type": "execute_result"
    }
   ],
   "source": [
    "# Read file data/exercises/breed_info_w_problems.csv with read_csv\n",
    "# df3 = pd.read_csv(...)\n",
    "# YOUR CODE HERE\n",
    "df3 = pd.read_csv(\"data/exercises/breed_info_w_problems.csv\",\n",
    "                  sep=\";\",\n",
    "                  index_col=1,\n",
    "                 na_values=['na','not found'])\n",
    "df3"
   ]
  },
  {
   "cell_type": "code",
   "execution_count": 12,
   "metadata": {
    "ExecuteTime": {
     "end_time": "2024-01-30T21:32:34.936068Z",
     "start_time": "2024-01-30T21:32:34.925586Z"
    },
    "deletable": false,
    "editable": false,
    "nbgrader": {
     "grade": true,
     "grade_id": "cell-601b354802964776",
     "locked": true,
     "points": 2,
     "schema_version": 3,
     "solution": false
    }
   },
   "outputs": [],
   "source": [
    "assert np.isnan(df3.loc['Poodle Standard','weight_high_lbs']), \"df3 data is wrong, there seems to be inputs that were not interpreted as NaN.\"\n",
    "assert df3.loc['Kuvasz', 'weight_low_lbs'] == 70, \"df3  data is wrong, the lower range of the weight of the Kuvasz cannot be found.\"\n",
    "assert df3.index[3] == 'Bloodhound', \"df3 data is wrong, the positions of the object are wrong.\"\n",
    "\n",
    "expected_hash = 'd1ac8a80937c65bd103bb3aab437b45ee947eff75901f671d68f895e35eb09d2'\n",
    "assert hashlib.sha256(df3.index.name.encode()).hexdigest() == expected_hash"
   ]
  },
  {
   "cell_type": "markdown",
   "metadata": {
    "deletable": false,
    "editable": false,
    "nbgrader": {
     "grade": false,
     "grade_id": "cell-5cfd5a97b1c49a0e",
     "locked": true,
     "schema_version": 3,
     "solution": false
    }
   },
   "source": [
    "## Q4: Repair a csv file after importing\n",
    "Read a new file **data/exercises/pet_stats.csv** using the function `csv.reader()`. This file includes information about the different pet populations. Be sure you don't miss any lines with relevant information! \n",
    "\n",
    "* use the csv module to import everything to a list of lists\n",
    "* create a df with information from the first four columns (countries)\n",
    "* format the columns with the right type (don't forget to change the date from a string)\n",
    "* set the index of the df to the `country`"
   ]
  },
  {
   "cell_type": "code",
   "execution_count": 13,
   "metadata": {
    "ExecuteTime": {
     "end_time": "2024-01-30T21:32:35.075102Z",
     "start_time": "2024-01-30T21:32:34.940559Z"
    }
   },
   "outputs": [
    {
     "name": "stdout",
     "output_type": "stream",
     "text": [
      "country,dog_pop,cat_pop,bird_pop,aquaria_pop,small_mammal_pop,terraria_pop\r",
      "\r\n",
      "India,10200000,,,,,\r",
      "\r\n",
      "China,27400000,53100000,,,,\r",
      "\r\n",
      "United States,69929000,74059000,8300000,,,\r",
      "\r\n",
      "Brazil,191001000,,,,,\r",
      "\r\n",
      "Russia,23150000,3280000,3750000,6601000,1076000,\r",
      "\r\n",
      "Ethiopia,5000000,,,,,\r",
      "\r\n",
      "Japan,12000000,7300000,,,,\r",
      "\r\n",
      "Philippines,11600000,,,,,\r",
      "\r\n",
      "Turkey,1386000,4660000,11291000,850000,808000,157000\r",
      "\r\n",
      "Germany,10600000,15200000,4900000,2300000,4900000,1300000\r",
      "\r\n",
      "United Kingdom,13000000,12000000,1600000,8000000,2200000,\r",
      "\r\n",
      "France,7600000,14900000,5800000,1252000,2800000,2100000\r",
      "\r\n",
      "South Africa,7400000,2000000,,,,\r",
      "\r\n",
      "Italy,8755000,10228000,12882000,1500000,1816000,1366000\r",
      "\r\n",
      "Spain,9313000,5859000,6991000,691000,1523000,1464000\r",
      "\r\n",
      "Argentina,9200000,3000000,,,,\r",
      "\r\n",
      "Poland,8019000,7125000,1144000,380000,1217000,215000\r",
      "\r\n",
      "Ukraine,4984000,7630000,784000,450000,899000,903000\r",
      "\r\n",
      "Australia,3700000,2200000,7800000,,,\r",
      "\r\n",
      "Romania,4371000,292000,150000,93000,32000,\r",
      "\r\n",
      "Netherlands,1500000,1900000,230000,339000,346000,59000\r",
      "\r\n",
      "Belgium,2029000,2536000,331000,320000,1026000,160000\r",
      "\r\n",
      "Sweden,1044000,1703000,309000,260000,494000,60000\r",
      "\r\n",
      "Czech Republic,2211000,1364000,69000,80000,5000,\r",
      "\r\n",
      "Greece,657000,608000,974000,90000,417000,6000\r",
      "\r\n",
      "Portugal,2605000,1795000,641000,83000,218000,39000\r",
      "\r\n",
      "Hungary,2172000,2388000,412000,90000,398000,60000\r",
      "\r\n",
      "Austria,766000,0,195000,310000,508000,129000\r",
      "\r\n",
      "Switzerland,554000,1793000,304000,380000,655000,27000\r",
      "\r\n",
      "Bulgaria,750000,815000,45000,70000,60000,14000\r",
      "\r\n",
      "Denmark,617000,669000,202000,280000,373000,110000\r",
      "\r\n",
      "Slovakia,540000,32000,51000,46000,4000,\r",
      "\r\n",
      "Finland,781000,982000,56000,40000,157000,29000\r",
      "\r\n",
      "Norway,494000,783000,195000,125000,169000,94000\r",
      "\r\n",
      "Ireland,355000,92000,27000,162000,20000,\r",
      "\r\n",
      "Lithuania,550000,605000,,,,\r",
      "\r\n",
      "Slovenia,295000,455000,40000,35000,85000,3500\r",
      "\r\n",
      "Latvia,270000,410000,,,,\r",
      "\r\n",
      "Estonia,235000,290000,,,,"
     ]
    }
   ],
   "source": [
    "!cat data/exercises/pet_stats.csv "
   ]
  },
  {
   "cell_type": "code",
   "execution_count": 14,
   "metadata": {
    "ExecuteTime": {
     "end_time": "2024-01-30T21:32:35.113859Z",
     "start_time": "2024-01-30T21:32:35.079635Z"
    },
    "deletable": false,
    "nbgrader": {
     "grade": false,
     "grade_id": "cell-119041388e17fb72",
     "locked": false,
     "schema_version": 3,
     "solution": true
    }
   },
   "outputs": [
    {
     "data": {
      "text/html": [
       "<div>\n",
       "<style scoped>\n",
       "    .dataframe tbody tr th:only-of-type {\n",
       "        vertical-align: middle;\n",
       "    }\n",
       "\n",
       "    .dataframe tbody tr th {\n",
       "        vertical-align: top;\n",
       "    }\n",
       "\n",
       "    .dataframe thead th {\n",
       "        text-align: right;\n",
       "    }\n",
       "</style>\n",
       "<table border=\"1\" class=\"dataframe\">\n",
       "  <thead>\n",
       "    <tr style=\"text-align: right;\">\n",
       "      <th></th>\n",
       "      <th>dog_pop</th>\n",
       "      <th>cat_pop</th>\n",
       "      <th>bird_pop</th>\n",
       "      <th>aquaria_pop</th>\n",
       "      <th>small_mammal_pop</th>\n",
       "      <th>terraria_pop</th>\n",
       "    </tr>\n",
       "    <tr>\n",
       "      <th>country</th>\n",
       "      <th></th>\n",
       "      <th></th>\n",
       "      <th></th>\n",
       "      <th></th>\n",
       "      <th></th>\n",
       "      <th></th>\n",
       "    </tr>\n",
       "  </thead>\n",
       "  <tbody>\n",
       "    <tr>\n",
       "      <th>India</th>\n",
       "      <td>10200000.0</td>\n",
       "      <td>NaN</td>\n",
       "      <td>NaN</td>\n",
       "      <td>NaN</td>\n",
       "      <td>NaN</td>\n",
       "      <td>NaN</td>\n",
       "    </tr>\n",
       "    <tr>\n",
       "      <th>China</th>\n",
       "      <td>27400000.0</td>\n",
       "      <td>53100000.0</td>\n",
       "      <td>NaN</td>\n",
       "      <td>NaN</td>\n",
       "      <td>NaN</td>\n",
       "      <td>NaN</td>\n",
       "    </tr>\n",
       "    <tr>\n",
       "      <th>United States</th>\n",
       "      <td>69929000.0</td>\n",
       "      <td>74059000.0</td>\n",
       "      <td>8300000.0</td>\n",
       "      <td>NaN</td>\n",
       "      <td>NaN</td>\n",
       "      <td>NaN</td>\n",
       "    </tr>\n",
       "    <tr>\n",
       "      <th>Brazil</th>\n",
       "      <td>191001000.0</td>\n",
       "      <td>NaN</td>\n",
       "      <td>NaN</td>\n",
       "      <td>NaN</td>\n",
       "      <td>NaN</td>\n",
       "      <td>NaN</td>\n",
       "    </tr>\n",
       "    <tr>\n",
       "      <th>Russia</th>\n",
       "      <td>23150000.0</td>\n",
       "      <td>3280000.0</td>\n",
       "      <td>3750000.0</td>\n",
       "      <td>6601000.0</td>\n",
       "      <td>1076000.0</td>\n",
       "      <td>NaN</td>\n",
       "    </tr>\n",
       "  </tbody>\n",
       "</table>\n",
       "</div>"
      ],
      "text/plain": [
       "                   dog_pop     cat_pop   bird_pop  aquaria_pop  \\\n",
       "country                                                          \n",
       "India           10200000.0         NaN        NaN          NaN   \n",
       "China           27400000.0  53100000.0        NaN          NaN   \n",
       "United States   69929000.0  74059000.0  8300000.0          NaN   \n",
       "Brazil         191001000.0         NaN        NaN          NaN   \n",
       "Russia          23150000.0   3280000.0  3750000.0    6601000.0   \n",
       "\n",
       "               small_mammal_pop  terraria_pop  \n",
       "country                                        \n",
       "India                       NaN           NaN  \n",
       "China                       NaN           NaN  \n",
       "United States               NaN           NaN  \n",
       "Brazil                      NaN           NaN  \n",
       "Russia                1076000.0           NaN  "
      ]
     },
     "execution_count": 14,
     "metadata": {},
     "output_type": "execute_result"
    }
   ],
   "source": [
    "# Read file data/exercises/microsoft_info_w_problems.csv using csv.reader() and add result to\n",
    "# lines = ...\n",
    "# YOUR CODE HERE\n",
    "# Read the CSV file\n",
    "file_path = 'data/exercises/pet_stats.csv'\n",
    "lines = []\n",
    "\n",
    "with open(file_path, mode='r', encoding='utf-8') as file:\n",
    "    reader = csv.reader(file)\n",
    "    for row in reader:\n",
    "        lines.append(row)\n",
    "        \n",
    "# create a dataframe using the line list with only 7 columns (country and pet types)\n",
    "# df4 = pd.DataFrame(...\n",
    "# YOUR CODE HERE\n",
    "# Creating a dataframe with the correct column names\n",
    "df4 = pd.DataFrame(lines[1:], columns=lines[0])\n",
    "\n",
    "# Ensuring we only have 7 columns (including 'country')\n",
    "df4 = df4.iloc[:, :7]\n",
    "\n",
    "\n",
    "# replace empty values with nan (np.nan)\n",
    "# YOUR CODE HERE\n",
    "# Replace empty values with np.nan\n",
    "df4.replace('', np.nan, inplace=True)\n",
    "\n",
    "# set types per dataframe column, including the country. Always use float64 when floats are needed.\n",
    "# YOUR CODE HERE\n",
    "# Set types per dataframe column\n",
    "for column in df4.columns:\n",
    "    if column == 'country':\n",
    "        df4[column] = df4[column].astype(str)\n",
    "    else:\n",
    "        # Using errors='coerce' to convert non-convertible values to NaN\n",
    "        df4[column] = pd.to_numeric(df4[column], errors='coerce').astype('float64')\n",
    "\n",
    "\n",
    "# set country as the new index of the dataframe\n",
    "# YOUR CODE HERE\n",
    "# Set 'country' as the new index\n",
    "df4.set_index('country', inplace=True)\n",
    "\n",
    "df4.head()\n",
    "\n"
   ]
  },
  {
   "cell_type": "code",
   "execution_count": 15,
   "metadata": {
    "ExecuteTime": {
     "end_time": "2024-01-30T21:32:35.128178Z",
     "start_time": "2024-01-30T21:32:35.118914Z"
    },
    "deletable": false,
    "editable": false,
    "nbgrader": {
     "grade": true,
     "grade_id": "cell-a42299f9047590d5",
     "locked": true,
     "points": 2,
     "schema_version": 3,
     "solution": false
    }
   },
   "outputs": [],
   "source": [
    "assert np.isnan(df4.loc['Estonia', 'bird_pop']), \"df4 content is wrong\"\n",
    "assert df4.loc['Slovakia', 'cat_pop'] == 32000, \"df4 content is wrong\"\n",
    "\n",
    "mean_cat_pop = df4['cat_pop'].mean()\n",
    "assert math.isclose(6915800.0, mean_cat_pop, rel_tol=1e-3), \"df4 content is wrong\"\n",
    "\n",
    "assert df4['bird_pop'].dtype == np.float64, \"df4 types are wrong\"\n",
    "assert df4.index.dtype == np.dtype('object'), \"df4 types are wrong\"\n",
    "\n",
    "expected_hash = 'aff64e4fd520bd185cb01adab98d2d20060f621c62d5cad5204712cfa2294ef7'\n",
    "assert hashlib.sha256(df4.index.name.encode()).hexdigest() == expected_hash"
   ]
  },
  {
   "cell_type": "markdown",
   "metadata": {
    "deletable": false,
    "editable": false,
    "nbgrader": {
     "grade": false,
     "grade_id": "cell-389bc42fe462c70e",
     "locked": true,
     "schema_version": 3,
     "solution": false
    }
   },
   "source": [
    "## Q5: Read a JSON file\n",
    "\n",
    "Read the file **data/exercises/dog_pop_country_2023.json**."
   ]
  },
  {
   "cell_type": "code",
   "execution_count": 16,
   "metadata": {
    "ExecuteTime": {
     "end_time": "2024-01-30T21:32:35.148074Z",
     "start_time": "2024-01-30T21:32:35.132799Z"
    },
    "deletable": false,
    "nbgrader": {
     "grade": false,
     "grade_id": "cell-5c2125479f7e50e5",
     "locked": false,
     "schema_version": 3,
     "solution": true
    }
   },
   "outputs": [],
   "source": [
    "# Read file data/exercises/dog_pop_country_2023.json with read_json\n",
    "# df5 = read_json(...)\n",
    "# YOUR CODE HERE\n",
    "# Reading the JSON file\n",
    "file_path_json = 'data/exercises/dog_pop_country_2023.json'\n",
    "df5 = pd.read_json(file_path_json)"
   ]
  },
  {
   "cell_type": "code",
   "execution_count": 17,
   "metadata": {
    "ExecuteTime": {
     "end_time": "2024-01-30T21:32:35.160782Z",
     "start_time": "2024-01-30T21:32:35.152434Z"
    },
    "deletable": false,
    "editable": false,
    "nbgrader": {
     "grade": true,
     "grade_id": "cell-3f085fa2cdad9319",
     "locked": true,
     "points": 2,
     "schema_version": 3,
     "solution": false
    }
   },
   "outputs": [],
   "source": [
    "assert len(df5) == 37\n",
    "assert set(df5.columns) == {'EstimatedDogPopulation', 'dogsPerPerson'}, \"df5 columns are wrong\"\n",
    "\n",
    "expected_hash = 'fab1d9dc541cefd3541a1ca75af65d04d5eb3e035369c8ef7d50c4b12282d121'\n",
    "assert hashlib.sha256(str(df5.loc[:,'dogsPerPerson'].sum()).encode()).hexdigest() == expected_hash, \"df5 content is wrong\""
   ]
  },
  {
   "cell_type": "markdown",
   "metadata": {
    "deletable": false,
    "editable": false,
    "nbgrader": {
     "grade": false,
     "grade_id": "cell-4d4b970f55b3e427",
     "locked": true,
     "schema_version": 3,
     "solution": false
    }
   },
   "source": [
    "## Q6: Read an Excel file\n",
    "\n",
    "Read file **data/exercises/dog_breeds.xlsx** using function read_excel. This file has info on different dog breeds, namely behavioural and size characteristics. In this exercise, please do the following:\n",
    "\n",
    "* you should grab the dat in sheet \"breed_info\"\n",
    "* use column 'Name' as index\n",
    "* make sure you keep only the rows and columns with data\n",
    "* set the variable best_dogs_w_children with the number of dogs with the maximum score for 'good_with_children'"
   ]
  },
  {
   "cell_type": "code",
   "execution_count": 18,
   "metadata": {
    "ExecuteTime": {
     "end_time": "2024-01-30T21:32:35.550143Z",
     "start_time": "2024-01-30T21:32:35.164728Z"
    },
    "deletable": false,
    "nbgrader": {
     "grade": false,
     "grade_id": "cell-017a7c31b0ddc38e",
     "locked": false,
     "schema_version": 3,
     "solution": true
    }
   },
   "outputs": [
    {
     "data": {
      "text/plain": [
       "42"
      ]
     },
     "execution_count": 18,
     "metadata": {},
     "output_type": "execute_result"
    }
   ],
   "source": [
    "# Read file data/exercises/dog_breeds.xlsx with read_excel\n",
    "# df6 = read_excel(...)\n",
    "# YOUR CODE HERE\n",
    "\n",
    "\n",
    "# best_dogs_w_children = ...\n",
    "# YOUR CODE HERE\n",
    "\n",
    "# Reading the Excel file\n",
    "file_path_excel = 'data/exercises/dog_breeds.xlsx'\n",
    "df6 = pd.read_excel(file_path_excel, sheet_name='breed_info', index_col='Name')\n",
    "\n",
    "# Keeping only the rows and columns with data (removing NaN values)\n",
    "df6.dropna(axis=0, how='any', inplace=True)\n",
    "df6.dropna(axis=1, how='any', inplace=True)\n",
    "\n",
    "# Setting the variable best_dogs_w_children with the number of dogs with the maximum score for 'good_with_children'\n",
    "max_good_with_children_score = df6['good_with_children'].max()\n",
    "best_dogs_w_children = (df6['good_with_children'] == max_good_with_children_score).sum()\n",
    "\n",
    "best_dogs_w_children"
   ]
  },
  {
   "cell_type": "code",
   "execution_count": 19,
   "metadata": {
    "ExecuteTime": {
     "end_time": "2024-01-30T21:32:35.572579Z",
     "start_time": "2024-01-30T21:32:35.555238Z"
    },
    "deletable": false,
    "editable": false,
    "nbgrader": {
     "grade": true,
     "grade_id": "cell-91d5f07e40585680",
     "locked": true,
     "points": 2,
     "schema_version": 3,
     "solution": false
    }
   },
   "outputs": [],
   "source": [
    "assert best_dogs_w_children == 42\n",
    "assert isinstance(df6, pd.DataFrame)\n",
    "expected_hash = 'f0a0278e4372459cca6159cd5e71cfee638302a7b9ca9b05c34181ac0a65ac5d'\n",
    "assert hashlib.sha256(\n",
    "        df6.loc['Hovawart', 'good_with_strangers']\n",
    "    ).hexdigest() == expected_hash, \"df6 is wrong\""
   ]
  },
  {
   "cell_type": "markdown",
   "metadata": {
    "deletable": false,
    "editable": false,
    "nbgrader": {
     "grade": false,
     "grade_id": "cell-4a7407517d4d92c3",
     "locked": true,
     "schema_version": 3,
     "solution": false
    }
   },
   "source": [
    "## Q7: Find the encoding of a file\n",
    "\n",
    "Find the encoding used in file **data/exercises/dogs_intelligence_sample.csv**, using the method that was shown in the Learning Units.\n",
    "\n",
    "Then, read the data into a DataFrame, using the read_csv method and find the `Breed` with an upper limit of repetitions to understand new commands (`reps_upper`) of 15."
   ]
  },
  {
   "cell_type": "code",
   "execution_count": 20,
   "metadata": {
    "ExecuteTime": {
     "end_time": "2024-01-30T21:32:35.595605Z",
     "start_time": "2024-01-30T21:32:35.579387Z"
    },
    "deletable": false,
    "nbgrader": {
     "grade": false,
     "grade_id": "cell-bd6944fd63bb38d8",
     "locked": false,
     "schema_version": 3,
     "solution": true
    }
   },
   "outputs": [],
   "source": [
    "# Find the encoding of file data/exercises/dogs_intelligence_sample.csv\n",
    "# encoding = ...\n",
    "# YOUR CODE HERE\n",
    "filename=\"data/exercises/dogs_intelligence_sample.csv\"\n",
    "\n",
    "\n",
    "encoding = chardet.detect(open(filename, 'rb').read())[\"encoding\"]\n",
    "\n",
    "\n",
    "# Read the file into a DataFrame\n",
    "# df7 = ...\n",
    "# YOUR CODE HERE\n",
    "df7 = pd.read_csv(filename, encoding=encoding)\n",
    "df7[df7.reps_upper==15].Breed\n",
    "\n",
    "# Breed with reps_upper equal to 15\n",
    "# breed_found = .... (assign a string)\n",
    "# YOUR CODE HERE\n",
    "breed_found = df7[df7.reps_upper==15].Breed.reset_index().Breed[0]\n"
   ]
  },
  {
   "cell_type": "code",
   "execution_count": 21,
   "metadata": {
    "ExecuteTime": {
     "end_time": "2024-01-30T21:32:35.648254Z",
     "start_time": "2024-01-30T21:32:35.624818Z"
    },
    "deletable": false,
    "editable": false,
    "nbgrader": {
     "grade": true,
     "grade_id": "cell-687fb83c97e03355",
     "locked": true,
     "points": 2,
     "schema_version": 3,
     "solution": false
    }
   },
   "outputs": [],
   "source": [
    "assert isinstance(df7, pd.DataFrame)\n",
    "\n",
    "expected_hash_1 = 'c543ece81605c7d202121c62080a0db4020fc2c75bfac35d101d7f3e93c93949'\n",
    "assert hashlib.sha256(encoding.encode()).hexdigest() == expected_hash_1, \"encoding is wrong\"\n",
    "\n",
    "expected_hash_2 = '0d9abf1f6b31fb0cdc875d352b47751ce91ca57075087365502ea648b3329a19'\n",
    "assert hashlib.sha256(breed_found.encode()).hexdigest() == expected_hash_2, \"breed_found is wrong\""
   ]
  },
  {
   "cell_type": "markdown",
   "metadata": {
    "deletable": false,
    "editable": false,
    "nbgrader": {
     "grade": false,
     "grade_id": "cell-d103dfae3d5e11fe",
     "locked": true,
     "schema_version": 3,
     "solution": false
    }
   },
   "source": [
    "## Q8: Import a Random Sample of a Big File\n",
    "\n",
    "Consider the file **data/exercises/dog_intelligence.tsv**. Let's imagine this file is really huge, with a lot of rows!  Read the file using a random sample of 10 rows. Count the actual lines with `wc` "
   ]
  },
  {
   "cell_type": "code",
   "execution_count": 22,
   "metadata": {
    "ExecuteTime": {
     "end_time": "2024-01-30T21:32:35.744358Z",
     "start_time": "2024-01-30T21:32:35.652997Z"
    },
    "deletable": false,
    "nbgrader": {
     "grade": false,
     "grade_id": "cell-fb39107093dd73fb",
     "locked": false,
     "schema_version": 3,
     "solution": true
    }
   },
   "outputs": [
    {
     "data": {
      "text/html": [
       "<div>\n",
       "<style scoped>\n",
       "    .dataframe tbody tr th:only-of-type {\n",
       "        vertical-align: middle;\n",
       "    }\n",
       "\n",
       "    .dataframe tbody tr th {\n",
       "        vertical-align: top;\n",
       "    }\n",
       "\n",
       "    .dataframe thead th {\n",
       "        text-align: right;\n",
       "    }\n",
       "</style>\n",
       "<table border=\"1\" class=\"dataframe\">\n",
       "  <thead>\n",
       "    <tr style=\"text-align: right;\">\n",
       "      <th></th>\n",
       "      <th>index</th>\n",
       "      <th>Breed</th>\n",
       "      <th>Classification</th>\n",
       "      <th>obey</th>\n",
       "      <th>reps_lower</th>\n",
       "      <th>reps_upper</th>\n",
       "    </tr>\n",
       "  </thead>\n",
       "  <tbody>\n",
       "    <tr>\n",
       "      <th>0</th>\n",
       "      <td>7</td>\n",
       "      <td>Papillon</td>\n",
       "      <td>Brightest Dogs</td>\n",
       "      <td>95%</td>\n",
       "      <td>#1</td>\n",
       "      <td>4</td>\n",
       "    </tr>\n",
       "    <tr>\n",
       "      <th>1</th>\n",
       "      <td>16</td>\n",
       "      <td>Collie</td>\n",
       "      <td>Excellent Working Dogs</td>\n",
       "      <td>85%</td>\n",
       "      <td>#5</td>\n",
       "      <td>15</td>\n",
       "    </tr>\n",
       "    <tr>\n",
       "      <th>2</th>\n",
       "      <td>23</td>\n",
       "      <td>Cocker Spaniel</td>\n",
       "      <td>Excellent Working Dogs</td>\n",
       "      <td>85%</td>\n",
       "      <td>#5</td>\n",
       "      <td>15</td>\n",
       "    </tr>\n",
       "    <tr>\n",
       "      <th>3</th>\n",
       "      <td>35</td>\n",
       "      <td>Portuguese Water Dog</td>\n",
       "      <td>Above Average Working Dogs</td>\n",
       "      <td>70%</td>\n",
       "      <td>#16</td>\n",
       "      <td>25</td>\n",
       "    </tr>\n",
       "    <tr>\n",
       "      <th>4</th>\n",
       "      <td>49</td>\n",
       "      <td>Cairn Terrier</td>\n",
       "      <td>Above Average Working Dogs</td>\n",
       "      <td>70%</td>\n",
       "      <td>#16</td>\n",
       "      <td>25</td>\n",
       "    </tr>\n",
       "    <tr>\n",
       "      <th>5</th>\n",
       "      <td>81</td>\n",
       "      <td>Jack Russell terrier</td>\n",
       "      <td>Average Working/Obedience Intelligence</td>\n",
       "      <td>50%</td>\n",
       "      <td>#26</td>\n",
       "      <td>40</td>\n",
       "    </tr>\n",
       "    <tr>\n",
       "      <th>6</th>\n",
       "      <td>96</td>\n",
       "      <td>Wire Fox Terrier</td>\n",
       "      <td>Average Working/Obedience Intelligence</td>\n",
       "      <td>50%</td>\n",
       "      <td>#26</td>\n",
       "      <td>40</td>\n",
       "    </tr>\n",
       "    <tr>\n",
       "      <th>7</th>\n",
       "      <td>111</td>\n",
       "      <td>Chinese Crested</td>\n",
       "      <td>Fair Working/Obedience Intelligence</td>\n",
       "      <td>30%</td>\n",
       "      <td>#41</td>\n",
       "      <td>80</td>\n",
       "    </tr>\n",
       "    <tr>\n",
       "      <th>8</th>\n",
       "      <td>114</td>\n",
       "      <td>Tibetan Terrier</td>\n",
       "      <td>Fair Working/Obedience Intelligence</td>\n",
       "      <td>30%</td>\n",
       "      <td>#41</td>\n",
       "      <td>80</td>\n",
       "    </tr>\n",
       "    <tr>\n",
       "      <th>9</th>\n",
       "      <td>125</td>\n",
       "      <td>Shih Tzu</td>\n",
       "      <td>Lowest Degree of Working/Obedience Intelligence</td>\n",
       "      <td>10%</td>\n",
       "      <td>#81</td>\n",
       "      <td>100</td>\n",
       "    </tr>\n",
       "    <tr>\n",
       "      <th>10</th>\n",
       "      <td>135</td>\n",
       "      <td>Afghan Hound</td>\n",
       "      <td>Lowest Degree of Working/Obedience Intelligence</td>\n",
       "      <td>10%</td>\n",
       "      <td>#81</td>\n",
       "      <td>100</td>\n",
       "    </tr>\n",
       "  </tbody>\n",
       "</table>\n",
       "</div>"
      ],
      "text/plain": [
       "    index                 Breed  \\\n",
       "0       7              Papillon   \n",
       "1      16                Collie   \n",
       "2      23        Cocker Spaniel   \n",
       "3      35  Portuguese Water Dog   \n",
       "4      49         Cairn Terrier   \n",
       "5      81  Jack Russell terrier   \n",
       "6      96      Wire Fox Terrier   \n",
       "7     111       Chinese Crested   \n",
       "8     114       Tibetan Terrier   \n",
       "9     125              Shih Tzu   \n",
       "10    135          Afghan Hound   \n",
       "\n",
       "                                      Classification obey reps_lower  \\\n",
       "0                                     Brightest Dogs  95%         #1   \n",
       "1                             Excellent Working Dogs  85%         #5   \n",
       "2                             Excellent Working Dogs  85%         #5   \n",
       "3                         Above Average Working Dogs  70%        #16   \n",
       "4                         Above Average Working Dogs  70%        #16   \n",
       "5             Average Working/Obedience Intelligence  50%        #26   \n",
       "6             Average Working/Obedience Intelligence  50%        #26   \n",
       "7                Fair Working/Obedience Intelligence  30%        #41   \n",
       "8                Fair Working/Obedience Intelligence  30%        #41   \n",
       "9   Lowest Degree of Working/Obedience Intelligence   10%        #81   \n",
       "10  Lowest Degree of Working/Obedience Intelligence   10%        #81   \n",
       "\n",
       "    reps_upper  \n",
       "0            4  \n",
       "1           15  \n",
       "2           15  \n",
       "3           25  \n",
       "4           25  \n",
       "5           40  \n",
       "6           40  \n",
       "7           80  \n",
       "8           80  \n",
       "9          100  \n",
       "10         100  "
      ]
     },
     "execution_count": 22,
     "metadata": {},
     "output_type": "execute_result"
    }
   ],
   "source": [
    "# Read file data/exercises/dog_intelligence.tsv with wc and save the number of lines\n",
    "# in lines_in_file (as an integer), using \n",
    "# lines_in_file = ...\n",
    "# Notice that the header is not a line..\n",
    "\n",
    "# YOUR CODE HERE\n",
    "filename = \"data/exercises/dog_intelligence.tsv\"\n",
    "\n",
    "#!cat <{filename}\n",
    "lines_in_file = !wc -l < {filename}\n",
    "lines_in_file = int(lines_in_file[0])-1\n",
    "\n",
    "# make parameter rows_to_skip equal to the lines you want to skip loading \n",
    "# don't forget: 10 rows should be fetched\n",
    "# rows_to_skip = ...\n",
    "# YOUR CODE HERE\n",
    "sample_number = 10\n",
    "n_rows_to_skip = lines_in_file - sample_number\n",
    "\n",
    "rows_to_skip = random.sample(range(1, lines_in_file+1), n_rows_to_skip)\n",
    "\n",
    "\n",
    "# Create a df8 dataframe with the sampled values\n",
    "# don't forget: you want to keep the header plus 10 rows in the new dataframe.\n",
    "# YOUR CODE HERE\n",
    "df8 = pd.read_csv(filename, sep=\"\\t\", skiprows=rows_to_skip)\n",
    "df8"
   ]
  },
  {
   "cell_type": "code",
   "execution_count": 23,
   "metadata": {
    "ExecuteTime": {
     "end_time": "2024-01-30T21:32:35.770516Z",
     "start_time": "2024-01-30T21:32:35.755787Z"
    },
    "deletable": false,
    "editable": false,
    "nbgrader": {
     "grade": true,
     "grade_id": "cell-ec15a8be42137a01",
     "locked": true,
     "points": 2,
     "schema_version": 3,
     "solution": false
    }
   },
   "outputs": [],
   "source": [
    "# getting remaining list of dog breeds, removing rows_to_skip from the file\n",
    "df_helper = pd.read_csv( \n",
    "    'data/exercises/dog_intelligence.tsv', \n",
    "    sep='\\t',\n",
    "    header=0 \n",
    ")\n",
    "\n",
    "total_indexes = list(df_helper.index)\n",
    "for s in rows_to_skip:\n",
    "    total_indexes.remove(s-1)\n",
    "\n",
    "expected_hash = '13671077b66a29874a2578b5240319092ef2a1043228e433e9b006b5e53e7513'\n",
    "assert hashlib.sha256(str(lines_in_file).encode()).hexdigest() == expected_hash, \"lines_in_file are wrong\"\n",
    "assert isinstance(df8, pd.DataFrame)\n",
    "assert list(df8['Breed'])==list(df_helper.iloc[total_indexes]['Breed'])\n",
    "assert df8.shape[0]==11, \"df8 size is wrong\"\n",
    "\n",
    "expected_hash = 'e7f6c011776e8db7cd330b54174fd76f7d0216b612387a5ffcfb81e6f0919683'\n",
    "assert  hashlib.sha256(str(df8.shape[1]).encode()).hexdigest() == expected_hash\n"
   ]
  },
  {
   "cell_type": "markdown",
   "metadata": {
    "deletable": false,
    "editable": false,
    "nbgrader": {
     "grade": false,
     "grade_id": "cell-f87e07a7b2cacd9d",
     "locked": true,
     "schema_version": 3,
     "solution": false
    }
   },
   "source": [
    "## Q9: Loading a Big File\n",
    "\n",
    "Read file **data/exercises/dog_intelligence.tsv** using chunks keep only the columns `Breed`, `Classification`, and `obey`.\n",
    "\n",
    "Note that:\n",
    "* the file should be read in chunks of 20 breeds\n",
    "* the missing values for `Classification` should be removed (filtered in each chunk)\n",
    "* the `obey` should be converted to type float (in each chunk)\n",
    "* the index should be incremental starting from 0 (i.e, you don't need to read any column as the index)\n",
    "\n",
    "At the end, calculate the average `obey`\n",
    "\n",
    "Tip: Be sure you investigate the data you are about to load before doing any code."
   ]
  },
  {
   "cell_type": "code",
   "execution_count": 24,
   "metadata": {
    "ExecuteTime": {
     "end_time": "2024-01-30T21:32:35.843850Z",
     "start_time": "2024-01-30T21:32:35.779563Z"
    },
    "deletable": false,
    "nbgrader": {
     "grade": false,
     "grade_id": "cell-5106c25a705296e8",
     "locked": false,
     "schema_version": 3,
     "solution": true
    }
   },
   "outputs": [
    {
     "name": "stderr",
     "output_type": "stream",
     "text": [
      "/var/folders/zy/9r4gn9b574gdnv2l9zms0bz40000gn/T/ipykernel_48137/4214639302.py:21: SettingWithCopyWarning: \n",
      "A value is trying to be set on a copy of a slice from a DataFrame.\n",
      "Try using .loc[row_indexer,col_indexer] = value instead\n",
      "\n",
      "See the caveats in the documentation: https://pandas.pydata.org/pandas-docs/stable/user_guide/indexing.html#returning-a-view-versus-a-copy\n",
      "  chunk['obey']=chunk['obey'].astype('float')\n",
      "/var/folders/zy/9r4gn9b574gdnv2l9zms0bz40000gn/T/ipykernel_48137/4214639302.py:21: SettingWithCopyWarning: \n",
      "A value is trying to be set on a copy of a slice from a DataFrame.\n",
      "Try using .loc[row_indexer,col_indexer] = value instead\n",
      "\n",
      "See the caveats in the documentation: https://pandas.pydata.org/pandas-docs/stable/user_guide/indexing.html#returning-a-view-versus-a-copy\n",
      "  chunk['obey']=chunk['obey'].astype('float')\n",
      "/var/folders/zy/9r4gn9b574gdnv2l9zms0bz40000gn/T/ipykernel_48137/4214639302.py:21: SettingWithCopyWarning: \n",
      "A value is trying to be set on a copy of a slice from a DataFrame.\n",
      "Try using .loc[row_indexer,col_indexer] = value instead\n",
      "\n",
      "See the caveats in the documentation: https://pandas.pydata.org/pandas-docs/stable/user_guide/indexing.html#returning-a-view-versus-a-copy\n",
      "  chunk['obey']=chunk['obey'].astype('float')\n",
      "/var/folders/zy/9r4gn9b574gdnv2l9zms0bz40000gn/T/ipykernel_48137/4214639302.py:21: SettingWithCopyWarning: \n",
      "A value is trying to be set on a copy of a slice from a DataFrame.\n",
      "Try using .loc[row_indexer,col_indexer] = value instead\n",
      "\n",
      "See the caveats in the documentation: https://pandas.pydata.org/pandas-docs/stable/user_guide/indexing.html#returning-a-view-versus-a-copy\n",
      "  chunk['obey']=chunk['obey'].astype('float')\n"
     ]
    },
    {
     "data": {
      "text/plain": [
       "(               Breed  Classification  obey\n",
       " 0      Border Collie  Brightest Dogs  95.0\n",
       " 1             Poodle  Brightest Dogs  95.0\n",
       " 2    German Shepherd  Brightest Dogs  95.0\n",
       " 3   Golden Retriever  Brightest Dogs  95.0\n",
       " 4  Doberman Pinscher  Brightest Dogs  95.0,\n",
       " Breed              object\n",
       " Classification     object\n",
       " obey              float64\n",
       " dtype: object,\n",
       " 56.43939393939394)"
      ]
     },
     "execution_count": 24,
     "metadata": {},
     "output_type": "execute_result"
    }
   ],
   "source": [
    "# Read file data/exercises/dog_intelligence.tsv\n",
    "# the chunks should be appended in a list called chunk_arr\n",
    "# YOUR CODE HERE\n",
    "# Reading the 'dog_intelligence.tsv' file in chunks\n",
    "file_path_dog_intelligence = 'data/exercises/dog_intelligence.tsv'\n",
    "\n",
    "# Initializing the chunk iterator\n",
    "chunks_iter = pd.read_csv(\n",
    "    file_path_dog_intelligence,\n",
    "    sep=\"\\t\",\n",
    "    usecols=['Breed', 'Classification', 'obey'],\n",
    "    chunksize=20\n",
    ")\n",
    "\n",
    "# Function to process each chunk\n",
    "def process_chunk(chunk):\n",
    "    # Filtering out rows where 'Classification' is NaN or 'Not-classified'\n",
    "    chunk = chunk[~chunk['Classification'].isin([np.nan, 'Not-classified'])]\n",
    "    # Converting 'obey' to float after removing '%'\n",
    "    chunk.loc[:,'obey'] = chunk['obey'].str.replace('%', '')\n",
    "    chunk['obey']=chunk['obey'].astype('float')\n",
    "    return chunk\n",
    "\n",
    "chunk_arr = []\n",
    "for data_chunk in chunks_iter:\n",
    "    data_chunk_filtered = process_chunk(data_chunk)\n",
    "    chunk_arr.append(data_chunk_filtered)\n",
    "\n",
    "# df9 should be the final dataframe with concatenated chunks\n",
    "# Resulting average should go on lit_avg variable\n",
    "# YOUR CODE HERE\n",
    "# Concatenating the chunks into a final DataFrame\n",
    "df9 = pd.concat(chunk_arr, ignore_index=True)  # ignore_index to ensure incremental index starting from 0\n",
    "\n",
    "# Calculating the average of 'obey'\n",
    "lit_avg = df9['obey'].mean()\n",
    "\n",
    "df9.head(), df9.dtypes, lit_avg  # Displaying the first few rows of the DataFrame and the calculated average\n",
    "\n"
   ]
  },
  {
   "cell_type": "code",
   "execution_count": 25,
   "metadata": {
    "ExecuteTime": {
     "end_time": "2024-01-30T21:32:35.858919Z",
     "start_time": "2024-01-30T21:32:35.847936Z"
    },
    "deletable": false,
    "editable": false,
    "nbgrader": {
     "grade": true,
     "grade_id": "cell-f60a22c3465d5b83",
     "locked": true,
     "points": 2,
     "schema_version": 3,
     "solution": false
    }
   },
   "outputs": [],
   "source": [
    "expected_hash = 'f66229d92035c72b54407f3bc882eaadff7e3b97969f785c4b5caf4bca46e84f'\n",
    "assert hashlib.sha256(str([len(c) for c in chunk_arr]).encode()).hexdigest() == expected_hash, \"error on chunk_arr sizes, did you correctly remove the missing values?\"\n",
    "\n",
    "assert df9.loc[df9['Breed']=='Basenji', 'obey'].values[0] == 10.0, \"df9 data is wrong\"\n",
    "assert df9.dtypes['Breed'] == object, \"df9 structure is wrong, check data types\"\n",
    "assert df9.dtypes['obey'] == float, \"df9 structure is wrong, check data types\" \n",
    "\n",
    "assert math.isclose(56.43, lit_avg, rel_tol=1e-3), \"lit_avg is wrong\""
   ]
  },
  {
   "cell_type": "markdown",
   "metadata": {
    "deletable": false,
    "editable": false,
    "nbgrader": {
     "grade": false,
     "grade_id": "cell-e990312f7cddd0b2",
     "locked": true,
     "schema_version": 3,
     "solution": false
    }
   },
   "source": [
    "## Q10: Calculate average values of `reps_lower` using chunks and avoiding a complete data frame in memory.\n",
    "\n",
    "Using chunks, read file **data/exercises/dog_intelligence.tsv**, avoid incomplete rows within `reps_lower` and calculate the average of `reps_lower` without loading all data simultaneously. \n",
    "\n",
    "Use a similar approach of the previous question but don't create any dataframe neither any list with chunks; ***Hint: Use the average definition***\n",
    "\n"
   ]
  },
  {
   "cell_type": "code",
   "execution_count": 26,
   "metadata": {
    "ExecuteTime": {
     "end_time": "2024-01-30T21:32:35.902749Z",
     "start_time": "2024-01-30T21:32:35.863445Z"
    },
    "deletable": false,
    "nbgrader": {
     "grade": false,
     "grade_id": "cell-57fd7700885246eb",
     "locked": false,
     "schema_version": 3,
     "solution": true
    },
    "scrolled": true
   },
   "outputs": [
    {
     "data": {
      "text/plain": [
       "(25.58823529411765, 136, 3480.0)"
      ]
     },
     "execution_count": 26,
     "metadata": {},
     "output_type": "execute_result"
    }
   ],
   "source": [
    "# Read file data/exercises/dog_intelligence.tsv\n",
    "# the final average should be in the variable final_avg\n",
    "# You should increment 2 variables in each chunk and use them at the end to calculate final_avg, call them rep_a, rep_b\n",
    "# YOUR CODE HERE\n",
    "# Reading the 'dog_intelligence.tsv' file in chunks and calculating the average of 'reps_lower'\n",
    "\n",
    "# Initializing the chunk iterator\n",
    "chunks_iter = pd.read_csv(\n",
    "    'data/exercises/dog_intelligence.tsv',\n",
    "    sep=\"\\t\",\n",
    "    chunksize=20\n",
    ")\n",
    "\n",
    "# Defining the function to process each chunk\n",
    "def filter_data(data):\n",
    "    data.dropna(inplace=True)\n",
    "    # Using regex to remove non-numeric characters and then converting to float\n",
    "    data['reps_lower'] = data['reps_lower'].str.extract('(\\d+)').astype(float)\n",
    "    return data\n",
    "\n",
    "# Initializing variables to accumulate the sum of 'reps_lower' and the count of valid entries\n",
    "rep_a = 0  # Sum of 'reps_lower'\n",
    "rep_b = 0  # Count of valid entries\n",
    "\n",
    "# Processing each chunk\n",
    "for chunk in chunks_iter:\n",
    "    # Processing the chunk with the filter_data function\n",
    "    filtered_chunk = filter_data(chunk)\n",
    "    \n",
    "    # Summing the 'reps_lower' values and counting the valid entries\n",
    "   \n",
    "    rep_b += np.sum(filtered_chunk['reps_lower'])\n",
    "    rep_a += filtered_chunk['reps_lower'].shape[0]\n",
    "\n",
    "# Calculating the final average\n",
    "final_avg = rep_b / rep_a\n",
    "\n",
    "final_avg, rep_a, rep_b  # Displaying the final average and the accumulated values"
   ]
  },
  {
   "cell_type": "code",
   "execution_count": 27,
   "metadata": {
    "ExecuteTime": {
     "end_time": "2024-01-30T21:32:35.913919Z",
     "start_time": "2024-01-30T21:32:35.907150Z"
    },
    "deletable": false,
    "editable": false,
    "nbgrader": {
     "grade": true,
     "grade_id": "cell-0edcf1260d7886c9",
     "locked": true,
     "points": 2,
     "schema_version": 3,
     "solution": false
    }
   },
   "outputs": [],
   "source": [
    "assert math.isclose(25.58823529411765, final_avg, rel_tol=1e-1), \"final_avg is wrong\"\n",
    "assert int(rep_b) == 3480 or int(rep_a)==136, \"rep_a or rep_b is wrong is wrong\""
   ]
  },
  {
   "cell_type": "markdown",
   "metadata": {},
   "source": [
    "Congrats, you were able to deal with all the messy data of this notebook!\n",
    "\n",
    "![title](./media/dog_2.jpeg)"
   ]
  },
  {
   "cell_type": "code",
   "execution_count": null,
   "metadata": {},
   "outputs": [],
   "source": []
  }
 ],
 "metadata": {
  "kernelspec": {
   "display_name": "Python 3 (ipykernel)",
   "language": "python",
   "name": "python3"
  },
  "language_info": {
   "codemirror_mode": {
    "name": "ipython",
    "version": 3
   },
   "file_extension": ".py",
   "mimetype": "text/x-python",
   "name": "python",
   "nbconvert_exporter": "python",
   "pygments_lexer": "ipython3",
   "version": "3.10.6"
  },
  "toc": {
   "base_numbering": 1,
   "nav_menu": {},
   "number_sections": true,
   "sideBar": true,
   "skip_h1_title": false,
   "title_cell": "Table of Contents",
   "title_sidebar": "Contents",
   "toc_cell": false,
   "toc_position": {},
   "toc_section_display": true,
   "toc_window_display": false
  }
 },
 "nbformat": 4,
 "nbformat_minor": 4
}
