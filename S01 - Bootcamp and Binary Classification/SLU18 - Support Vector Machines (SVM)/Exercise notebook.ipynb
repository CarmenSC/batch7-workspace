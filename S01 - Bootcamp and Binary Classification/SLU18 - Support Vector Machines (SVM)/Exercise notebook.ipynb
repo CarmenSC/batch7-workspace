{
 "cells": [
  {
   "cell_type": "markdown",
   "metadata": {
    "colab_type": "text",
    "deletable": false,
    "editable": false,
    "id": "rgxop-ItOnj4",
    "nbgrader": {
     "grade": false,
     "grade_id": "cell-254bd7a206376bba",
     "locked": true,
     "schema_version": 3,
     "solution": false
    }
   },
   "source": [
    "# SLU18 - Support Vector Machines (SVM): Exercise notebook\n",
    "\n",
    "New tools in this unit\n",
    "\n",
    "* [SVC](https://scikit-learn.org/stable/modules/generated/sklearn.svm.SVC.html)\n",
    "* [SVR](https://scikit-learn.org/stable/modules/generated/sklearn.svm.SVR.html)"
   ]
  },
  {
   "cell_type": "code",
   "execution_count": 1,
   "metadata": {
    "ExecuteTime": {
     "end_time": "2023-12-10T23:46:20.905060Z",
     "start_time": "2023-12-10T23:46:18.974483Z"
    },
    "colab": {},
    "colab_type": "code",
    "deletable": false,
    "editable": false,
    "id": "fqe0JO39wGW2",
    "nbgrader": {
     "grade": false,
     "grade_id": "cell-57ac5b1f8841f297",
     "locked": true,
     "schema_version": 3,
     "solution": false
    }
   },
   "outputs": [],
   "source": [
    "import pandas as pd\n",
    "import numpy as np\n",
    "from hashlib import sha256\n",
    "import json\n",
    "\n",
    "import sklearn\n",
    "# These will be needed to prepare the dataset\n",
    "from sklearn.model_selection import train_test_split\n",
    "from sklearn.preprocessing import StandardScaler\n",
    "\n",
    "# Seed for reproducibility\n",
    "np.random.seed(42)"
   ]
  },
  {
   "cell_type": "markdown",
   "metadata": {
    "colab_type": "text",
    "deletable": false,
    "editable": false,
    "id": "C_gLpKpCOJNy",
    "nbgrader": {
     "grade": false,
     "grade_id": "cell-3cdfa45b797d48d4",
     "locked": true,
     "schema_version": 3,
     "solution": false
    }
   },
   "source": [
    "**Let the Music Play**\n",
    "\n",
    "The year is 2020 and due to the Covid-19 pandemic you spend a lot more time inside than you used to. You realize that one of the few things that people can still do (almost) the same way as before is listen to music. Thus, you decide to use your data skills to surprise one of your friends. To do so, you use data about your friend's listening habits and try to make a classifier that predicts whether your friend will like a song based on some attributes. "
   ]
  },
  {
   "cell_type": "code",
   "execution_count": 2,
   "metadata": {
    "ExecuteTime": {
     "end_time": "2023-12-10T23:46:20.971570Z",
     "start_time": "2023-12-10T23:46:20.908054Z"
    },
    "colab": {
     "base_uri": "https://localhost:8080/",
     "height": 306
    },
    "colab_type": "code",
    "deletable": false,
    "editable": false,
    "id": "kVbOYdE0la1K",
    "nbgrader": {
     "grade": false,
     "grade_id": "cell-87ba0a3136253b02",
     "locked": true,
     "schema_version": 3,
     "solution": false
    },
    "outputId": "29caa707-c737-4f16-eae7-1b9b17a8ff33"
   },
   "outputs": [
    {
     "name": "stdout",
     "output_type": "stream",
     "text": [
      "(2017, 16)\n"
     ]
    },
    {
     "data": {
      "text/html": [
       "<div>\n",
       "<style scoped>\n",
       "    .dataframe tbody tr th:only-of-type {\n",
       "        vertical-align: middle;\n",
       "    }\n",
       "\n",
       "    .dataframe tbody tr th {\n",
       "        vertical-align: top;\n",
       "    }\n",
       "\n",
       "    .dataframe thead th {\n",
       "        text-align: right;\n",
       "    }\n",
       "</style>\n",
       "<table border=\"1\" class=\"dataframe\">\n",
       "  <thead>\n",
       "    <tr style=\"text-align: right;\">\n",
       "      <th></th>\n",
       "      <th>acousticness</th>\n",
       "      <th>danceability</th>\n",
       "      <th>duration_ms</th>\n",
       "      <th>energy</th>\n",
       "      <th>instrumentalness</th>\n",
       "      <th>key</th>\n",
       "      <th>liveness</th>\n",
       "      <th>loudness</th>\n",
       "      <th>mode</th>\n",
       "      <th>speechiness</th>\n",
       "      <th>tempo</th>\n",
       "      <th>time_signature</th>\n",
       "      <th>valence</th>\n",
       "      <th>target</th>\n",
       "      <th>song_title</th>\n",
       "      <th>artist</th>\n",
       "    </tr>\n",
       "    <tr>\n",
       "      <th>id</th>\n",
       "      <th></th>\n",
       "      <th></th>\n",
       "      <th></th>\n",
       "      <th></th>\n",
       "      <th></th>\n",
       "      <th></th>\n",
       "      <th></th>\n",
       "      <th></th>\n",
       "      <th></th>\n",
       "      <th></th>\n",
       "      <th></th>\n",
       "      <th></th>\n",
       "      <th></th>\n",
       "      <th></th>\n",
       "      <th></th>\n",
       "      <th></th>\n",
       "    </tr>\n",
       "  </thead>\n",
       "  <tbody>\n",
       "    <tr>\n",
       "      <th>0</th>\n",
       "      <td>0.0102</td>\n",
       "      <td>0.833</td>\n",
       "      <td>204600</td>\n",
       "      <td>0.434</td>\n",
       "      <td>0.021900</td>\n",
       "      <td>2</td>\n",
       "      <td>0.1650</td>\n",
       "      <td>-8.795</td>\n",
       "      <td>1</td>\n",
       "      <td>0.4310</td>\n",
       "      <td>150.062</td>\n",
       "      <td>4.0</td>\n",
       "      <td>0.286</td>\n",
       "      <td>1</td>\n",
       "      <td>Mask Off</td>\n",
       "      <td>Future</td>\n",
       "    </tr>\n",
       "    <tr>\n",
       "      <th>1</th>\n",
       "      <td>0.1990</td>\n",
       "      <td>0.743</td>\n",
       "      <td>326933</td>\n",
       "      <td>0.359</td>\n",
       "      <td>0.006110</td>\n",
       "      <td>1</td>\n",
       "      <td>0.1370</td>\n",
       "      <td>-10.401</td>\n",
       "      <td>1</td>\n",
       "      <td>0.0794</td>\n",
       "      <td>160.083</td>\n",
       "      <td>4.0</td>\n",
       "      <td>0.588</td>\n",
       "      <td>1</td>\n",
       "      <td>Redbone</td>\n",
       "      <td>Childish Gambino</td>\n",
       "    </tr>\n",
       "    <tr>\n",
       "      <th>2</th>\n",
       "      <td>0.0344</td>\n",
       "      <td>0.838</td>\n",
       "      <td>185707</td>\n",
       "      <td>0.412</td>\n",
       "      <td>0.000234</td>\n",
       "      <td>2</td>\n",
       "      <td>0.1590</td>\n",
       "      <td>-7.148</td>\n",
       "      <td>1</td>\n",
       "      <td>0.2890</td>\n",
       "      <td>75.044</td>\n",
       "      <td>4.0</td>\n",
       "      <td>0.173</td>\n",
       "      <td>1</td>\n",
       "      <td>Xanny Family</td>\n",
       "      <td>Future</td>\n",
       "    </tr>\n",
       "    <tr>\n",
       "      <th>3</th>\n",
       "      <td>0.6040</td>\n",
       "      <td>0.494</td>\n",
       "      <td>199413</td>\n",
       "      <td>0.338</td>\n",
       "      <td>0.510000</td>\n",
       "      <td>5</td>\n",
       "      <td>0.0922</td>\n",
       "      <td>-15.236</td>\n",
       "      <td>1</td>\n",
       "      <td>0.0261</td>\n",
       "      <td>86.468</td>\n",
       "      <td>4.0</td>\n",
       "      <td>0.230</td>\n",
       "      <td>1</td>\n",
       "      <td>Master Of None</td>\n",
       "      <td>Beach House</td>\n",
       "    </tr>\n",
       "    <tr>\n",
       "      <th>4</th>\n",
       "      <td>0.1800</td>\n",
       "      <td>0.678</td>\n",
       "      <td>392893</td>\n",
       "      <td>0.561</td>\n",
       "      <td>0.512000</td>\n",
       "      <td>5</td>\n",
       "      <td>0.4390</td>\n",
       "      <td>-11.648</td>\n",
       "      <td>0</td>\n",
       "      <td>0.0694</td>\n",
       "      <td>174.004</td>\n",
       "      <td>4.0</td>\n",
       "      <td>0.904</td>\n",
       "      <td>1</td>\n",
       "      <td>Parallel Lines</td>\n",
       "      <td>Junior Boys</td>\n",
       "    </tr>\n",
       "  </tbody>\n",
       "</table>\n",
       "</div>"
      ],
      "text/plain": [
       "    acousticness  danceability  duration_ms  energy  instrumentalness  key  \\\n",
       "id                                                                           \n",
       "0         0.0102         0.833       204600   0.434          0.021900    2   \n",
       "1         0.1990         0.743       326933   0.359          0.006110    1   \n",
       "2         0.0344         0.838       185707   0.412          0.000234    2   \n",
       "3         0.6040         0.494       199413   0.338          0.510000    5   \n",
       "4         0.1800         0.678       392893   0.561          0.512000    5   \n",
       "\n",
       "    liveness  loudness  mode  speechiness    tempo  time_signature  valence  \\\n",
       "id                                                                            \n",
       "0     0.1650    -8.795     1       0.4310  150.062             4.0    0.286   \n",
       "1     0.1370   -10.401     1       0.0794  160.083             4.0    0.588   \n",
       "2     0.1590    -7.148     1       0.2890   75.044             4.0    0.173   \n",
       "3     0.0922   -15.236     1       0.0261   86.468             4.0    0.230   \n",
       "4     0.4390   -11.648     0       0.0694  174.004             4.0    0.904   \n",
       "\n",
       "    target      song_title            artist  \n",
       "id                                            \n",
       "0        1        Mask Off            Future  \n",
       "1        1         Redbone  Childish Gambino  \n",
       "2        1    Xanny Family            Future  \n",
       "3        1  Master Of None       Beach House  \n",
       "4        1  Parallel Lines       Junior Boys  "
      ]
     },
     "execution_count": 2,
     "metadata": {},
     "output_type": "execute_result"
    }
   ],
   "source": [
    "songs_df = pd.read_csv(\"data/song_data.csv\", index_col=\"id\")\n",
    "print(songs_df.shape)\n",
    "songs_df.head()"
   ]
  },
  {
   "cell_type": "markdown",
   "metadata": {
    "colab_type": "text",
    "deletable": false,
    "editable": false,
    "id": "yaEYIRyowGXC",
    "nbgrader": {
     "grade": false,
     "grade_id": "cell-617054ceb45eb34a",
     "locked": true,
     "schema_version": 3,
     "solution": false
    }
   },
   "source": [
    "The data contains information about which songs your friend liked or not in the `target` column. It also contains several attributes about each song that you suspect will be useful to infer your friend's musical taste. In this case, you decide to drop the song title and artist as you are more interested in the musical attributes. "
   ]
  },
  {
   "cell_type": "code",
   "execution_count": 3,
   "metadata": {
    "ExecuteTime": {
     "end_time": "2023-12-10T23:46:20.989578Z",
     "start_time": "2023-12-10T23:46:20.981014Z"
    },
    "colab": {},
    "colab_type": "code",
    "deletable": false,
    "editable": false,
    "id": "ulNZK6YBOOC5",
    "nbgrader": {
     "grade": false,
     "grade_id": "cell-d0dbd914f45ecd5c",
     "locked": true,
     "schema_version": 3,
     "solution": false
    }
   },
   "outputs": [],
   "source": [
    "songs_df = songs_df.drop(columns=[\"song_title\", \"artist\"])"
   ]
  },
  {
   "cell_type": "code",
   "execution_count": 4,
   "metadata": {
    "ExecuteTime": {
     "end_time": "2023-12-10T23:46:21.034131Z",
     "start_time": "2023-12-10T23:46:20.993275Z"
    },
    "deletable": false,
    "editable": false,
    "nbgrader": {
     "grade": false,
     "grade_id": "cell-23833cecb94b54dd",
     "locked": true,
     "schema_version": 3,
     "solution": false,
     "task": false
    }
   },
   "outputs": [
    {
     "data": {
      "text/html": [
       "<div>\n",
       "<style scoped>\n",
       "    .dataframe tbody tr th:only-of-type {\n",
       "        vertical-align: middle;\n",
       "    }\n",
       "\n",
       "    .dataframe tbody tr th {\n",
       "        vertical-align: top;\n",
       "    }\n",
       "\n",
       "    .dataframe thead th {\n",
       "        text-align: right;\n",
       "    }\n",
       "</style>\n",
       "<table border=\"1\" class=\"dataframe\">\n",
       "  <thead>\n",
       "    <tr style=\"text-align: right;\">\n",
       "      <th></th>\n",
       "      <th>acousticness</th>\n",
       "      <th>danceability</th>\n",
       "      <th>duration_ms</th>\n",
       "      <th>energy</th>\n",
       "      <th>instrumentalness</th>\n",
       "      <th>key</th>\n",
       "      <th>liveness</th>\n",
       "      <th>loudness</th>\n",
       "      <th>mode</th>\n",
       "      <th>speechiness</th>\n",
       "      <th>tempo</th>\n",
       "      <th>time_signature</th>\n",
       "      <th>valence</th>\n",
       "      <th>target</th>\n",
       "    </tr>\n",
       "    <tr>\n",
       "      <th>id</th>\n",
       "      <th></th>\n",
       "      <th></th>\n",
       "      <th></th>\n",
       "      <th></th>\n",
       "      <th></th>\n",
       "      <th></th>\n",
       "      <th></th>\n",
       "      <th></th>\n",
       "      <th></th>\n",
       "      <th></th>\n",
       "      <th></th>\n",
       "      <th></th>\n",
       "      <th></th>\n",
       "      <th></th>\n",
       "    </tr>\n",
       "  </thead>\n",
       "  <tbody>\n",
       "    <tr>\n",
       "      <th>0</th>\n",
       "      <td>0.0102</td>\n",
       "      <td>0.833</td>\n",
       "      <td>204600</td>\n",
       "      <td>0.434</td>\n",
       "      <td>0.021900</td>\n",
       "      <td>2</td>\n",
       "      <td>0.1650</td>\n",
       "      <td>-8.795</td>\n",
       "      <td>1</td>\n",
       "      <td>0.4310</td>\n",
       "      <td>150.062</td>\n",
       "      <td>4.0</td>\n",
       "      <td>0.286</td>\n",
       "      <td>1</td>\n",
       "    </tr>\n",
       "    <tr>\n",
       "      <th>1</th>\n",
       "      <td>0.1990</td>\n",
       "      <td>0.743</td>\n",
       "      <td>326933</td>\n",
       "      <td>0.359</td>\n",
       "      <td>0.006110</td>\n",
       "      <td>1</td>\n",
       "      <td>0.1370</td>\n",
       "      <td>-10.401</td>\n",
       "      <td>1</td>\n",
       "      <td>0.0794</td>\n",
       "      <td>160.083</td>\n",
       "      <td>4.0</td>\n",
       "      <td>0.588</td>\n",
       "      <td>1</td>\n",
       "    </tr>\n",
       "    <tr>\n",
       "      <th>2</th>\n",
       "      <td>0.0344</td>\n",
       "      <td>0.838</td>\n",
       "      <td>185707</td>\n",
       "      <td>0.412</td>\n",
       "      <td>0.000234</td>\n",
       "      <td>2</td>\n",
       "      <td>0.1590</td>\n",
       "      <td>-7.148</td>\n",
       "      <td>1</td>\n",
       "      <td>0.2890</td>\n",
       "      <td>75.044</td>\n",
       "      <td>4.0</td>\n",
       "      <td>0.173</td>\n",
       "      <td>1</td>\n",
       "    </tr>\n",
       "    <tr>\n",
       "      <th>3</th>\n",
       "      <td>0.6040</td>\n",
       "      <td>0.494</td>\n",
       "      <td>199413</td>\n",
       "      <td>0.338</td>\n",
       "      <td>0.510000</td>\n",
       "      <td>5</td>\n",
       "      <td>0.0922</td>\n",
       "      <td>-15.236</td>\n",
       "      <td>1</td>\n",
       "      <td>0.0261</td>\n",
       "      <td>86.468</td>\n",
       "      <td>4.0</td>\n",
       "      <td>0.230</td>\n",
       "      <td>1</td>\n",
       "    </tr>\n",
       "    <tr>\n",
       "      <th>4</th>\n",
       "      <td>0.1800</td>\n",
       "      <td>0.678</td>\n",
       "      <td>392893</td>\n",
       "      <td>0.561</td>\n",
       "      <td>0.512000</td>\n",
       "      <td>5</td>\n",
       "      <td>0.4390</td>\n",
       "      <td>-11.648</td>\n",
       "      <td>0</td>\n",
       "      <td>0.0694</td>\n",
       "      <td>174.004</td>\n",
       "      <td>4.0</td>\n",
       "      <td>0.904</td>\n",
       "      <td>1</td>\n",
       "    </tr>\n",
       "  </tbody>\n",
       "</table>\n",
       "</div>"
      ],
      "text/plain": [
       "    acousticness  danceability  duration_ms  energy  instrumentalness  key  \\\n",
       "id                                                                           \n",
       "0         0.0102         0.833       204600   0.434          0.021900    2   \n",
       "1         0.1990         0.743       326933   0.359          0.006110    1   \n",
       "2         0.0344         0.838       185707   0.412          0.000234    2   \n",
       "3         0.6040         0.494       199413   0.338          0.510000    5   \n",
       "4         0.1800         0.678       392893   0.561          0.512000    5   \n",
       "\n",
       "    liveness  loudness  mode  speechiness    tempo  time_signature  valence  \\\n",
       "id                                                                            \n",
       "0     0.1650    -8.795     1       0.4310  150.062             4.0    0.286   \n",
       "1     0.1370   -10.401     1       0.0794  160.083             4.0    0.588   \n",
       "2     0.1590    -7.148     1       0.2890   75.044             4.0    0.173   \n",
       "3     0.0922   -15.236     1       0.0261   86.468             4.0    0.230   \n",
       "4     0.4390   -11.648     0       0.0694  174.004             4.0    0.904   \n",
       "\n",
       "    target  \n",
       "id          \n",
       "0        1  \n",
       "1        1  \n",
       "2        1  \n",
       "3        1  \n",
       "4        1  "
      ]
     },
     "execution_count": 4,
     "metadata": {},
     "output_type": "execute_result"
    }
   ],
   "source": [
    "songs_df.head()"
   ]
  },
  {
   "cell_type": "code",
   "execution_count": 5,
   "metadata": {
    "ExecuteTime": {
     "end_time": "2023-12-10T23:46:21.054885Z",
     "start_time": "2023-12-10T23:46:21.041018Z"
    },
    "colab": {
     "base_uri": "https://localhost:8080/",
     "height": 68
    },
    "colab_type": "code",
    "deletable": false,
    "editable": false,
    "id": "V0d5O097OXVh",
    "nbgrader": {
     "grade": false,
     "grade_id": "cell-b3232f22b831bc24",
     "locked": true,
     "schema_version": 3,
     "solution": false
    },
    "outputId": "38ea7a86-4f01-4a13-847f-eb0f7f84e269"
   },
   "outputs": [
    {
     "data": {
      "text/plain": [
       "target\n",
       "1    0.505702\n",
       "0    0.494298\n",
       "Name: proportion, dtype: float64"
      ]
     },
     "execution_count": 5,
     "metadata": {},
     "output_type": "execute_result"
    }
   ],
   "source": [
    "songs_df.target.value_counts(normalize=True)"
   ]
  },
  {
   "cell_type": "markdown",
   "metadata": {
    "colab_type": "text",
    "deletable": false,
    "editable": false,
    "id": "ezi2npWAO7AQ",
    "nbgrader": {
     "grade": false,
     "grade_id": "cell-e8df8f9f8ae9ed8e",
     "locked": true,
     "schema_version": 3,
     "solution": false
    }
   },
   "source": [
    "Since the target variable is binary, you are faced with a binary classification problem. You remember that really cool support vector machines and decide to give them a shot. \n",
    "\n",
    "In order to properly train and evaluate your models, you split your dataset into train set and test set and scale the data."
   ]
  },
  {
   "cell_type": "code",
   "execution_count": 6,
   "metadata": {
    "ExecuteTime": {
     "end_time": "2023-12-10T23:46:21.071017Z",
     "start_time": "2023-12-10T23:46:21.059410Z"
    },
    "colab": {
     "base_uri": "https://localhost:8080/",
     "height": 85
    },
    "colab_type": "code",
    "deletable": false,
    "editable": false,
    "id": "1CGdOhv54GzY",
    "nbgrader": {
     "grade": false,
     "grade_id": "cell-7085934969b8c3d5",
     "locked": true,
     "schema_version": 3,
     "solution": false
    },
    "outputId": "77e4a3a7-cb07-4bfd-cf03-8edd23a1fa43"
   },
   "outputs": [],
   "source": [
    "def get_X_y_train_test(df, target_col):\n",
    "    \"\"\"\n",
    "    Convert the input dataframe df into the\n",
    "    train and test features and targets\n",
    "    \"\"\"\n",
    "    X = df.drop(target_col, axis=1)\n",
    "    y = df[target_col]\n",
    "    # train test split\n",
    "    X_train, X_test, y_train, y_test = train_test_split(X, y, test_size=0.2, random_state=42)\n",
    "\n",
    "    # SVMs are not scale invariant, so you scale your data beforehand\n",
    "    scaler = StandardScaler()\n",
    "    X_train = scaler.fit_transform(X_train)\n",
    "    X_test = scaler.transform(X_test)\n",
    "\n",
    "    print(\"X_train of shape \", X_train.shape)\n",
    "    print(\"y_train of shape \", y_train.shape)\n",
    "    print(\"X_test of shape  \", X_test.shape)\n",
    "    print(\"y_test of shape  \", y_test.shape)\n",
    "    \n",
    "    return X_train, X_test, y_train, y_test "
   ]
  },
  {
   "cell_type": "code",
   "execution_count": 7,
   "metadata": {
    "ExecuteTime": {
     "end_time": "2023-12-10T23:46:21.112333Z",
     "start_time": "2023-12-10T23:46:21.078870Z"
    },
    "deletable": false,
    "editable": false,
    "nbgrader": {
     "grade": false,
     "grade_id": "cell-b8c950c92122ae2b",
     "locked": true,
     "schema_version": 3,
     "solution": false,
     "task": false
    }
   },
   "outputs": [
    {
     "name": "stdout",
     "output_type": "stream",
     "text": [
      "X_train of shape  (1613, 13)\n",
      "y_train of shape  (1613,)\n",
      "X_test of shape   (404, 13)\n",
      "y_test of shape   (404,)\n"
     ]
    }
   ],
   "source": [
    "X_train, X_test, y_train, y_test = get_X_y_train_test(songs_df, target_col=\"target\")"
   ]
  },
  {
   "cell_type": "markdown",
   "metadata": {
    "colab_type": "text",
    "deletable": false,
    "editable": false,
    "id": "QsMIFwDxKG5i",
    "nbgrader": {
     "grade": false,
     "grade_id": "cell-0cc9714058c33112",
     "locked": true,
     "schema_version": 3,
     "solution": false
    }
   },
   "source": [
    "## Exercise 1: Support Vector Classifier\n",
    "\n",
    "### Exercise 1.1: Train the classifier \n",
    "Use a support vector classifier to predict which songs your friend will like. Keep all the other arguments at default values. Instantiate the classifier and fit it to the data. Calculate the score of the classifier."
   ]
  },
  {
   "cell_type": "code",
   "execution_count": 8,
   "metadata": {
    "ExecuteTime": {
     "end_time": "2023-12-10T23:46:21.541384Z",
     "start_time": "2023-12-10T23:46:21.116609Z"
    },
    "colab": {
     "base_uri": "https://localhost:8080/",
     "height": 51
    },
    "colab_type": "code",
    "deletable": false,
    "id": "qUZJGsBURQhi",
    "nbgrader": {
     "grade": false,
     "grade_id": "cell-8920bb9ecefbc8b4",
     "locked": false,
     "schema_version": 3,
     "solution": true
    },
    "outputId": "528b3417-3213-462c-de16-1d870d9ddb4e"
   },
   "outputs": [],
   "source": [
    "# svc_linear = ...\n",
    "# svc_linear_score = ...\n",
    "# YOUR CODE HERE\n",
    "from sklearn.svm import SVC\n",
    "svc_linear = SVC(kernel=\"linear\", C=1)\n",
    "svc_linear.fit(X_train, y_train)\n",
    "\n",
    "svc_linear_score = svc_linear.score(X_test, y_test)"
   ]
  },
  {
   "cell_type": "code",
   "execution_count": 9,
   "metadata": {
    "ExecuteTime": {
     "end_time": "2023-12-10T23:46:21.554520Z",
     "start_time": "2023-12-10T23:46:21.549208Z"
    },
    "colab": {},
    "colab_type": "code",
    "deletable": false,
    "editable": false,
    "id": "jRt00Vo26BkT",
    "nbgrader": {
     "grade": true,
     "grade_id": "cell-0ebe02e7c2c3ed67",
     "locked": true,
     "points": 3,
     "schema_version": 3,
     "solution": false
    }
   },
   "outputs": [],
   "source": [
    "assert isinstance(svc_linear, sklearn.svm.SVC), 'The classifier is not a SVC.'\n",
    "assert sha256(svc_linear.kernel.encode()).hexdigest() == '7f2fe580edb35154041fa3d4b41dd6d3adaef0c85d2ff6309f1d4b520eeecda3', 'The kernel is not correct.'\n",
    "np.testing.assert_almost_equal(svc_linear_score, 0.65, decimal = 2, err_msg='The score is not correct.')"
   ]
  },
  {
   "cell_type": "markdown",
   "metadata": {
    "colab_type": "text",
    "deletable": false,
    "editable": false,
    "id": "ug9wiVNbINMT",
    "nbgrader": {
     "grade": false,
     "grade_id": "cell-d8c4a03ff9f9cd4e",
     "locked": true,
     "schema_version": 3,
     "solution": false
    }
   },
   "source": [
    "### Exercise 1.2: Number of support vectors\n",
    "Obtain the number of support vectors for each class. You will need to check the documentation."
   ]
  },
  {
   "cell_type": "code",
   "execution_count": 10,
   "metadata": {
    "ExecuteTime": {
     "end_time": "2023-12-10T23:46:21.571489Z",
     "start_time": "2023-12-10T23:46:21.562274Z"
    },
    "colab": {
     "base_uri": "https://localhost:8080/",
     "height": 34
    },
    "colab_type": "code",
    "deletable": false,
    "id": "i88Ec-I-IL9G",
    "nbgrader": {
     "grade": false,
     "grade_id": "cell-efb40a29deffe5e8",
     "locked": false,
     "schema_version": 3,
     "solution": true
    },
    "outputId": "a2ad1241-4e8a-4050-9c1b-ab5e0d4d945e"
   },
   "outputs": [],
   "source": [
    "# sv_class_1 = ...\n",
    "# sv_class_2 = ...\n",
    "\n",
    "# YOUR CODE HERE\n",
    "n_s_vectors = svc_linear.n_support_\n",
    "sv_class_1 = svc_linear.n_support_[0]  # Number of support vectors for the first class\n",
    "sv_class_2 = svc_linear.n_support_[1]  # Number of support vectors for the second class\n"
   ]
  },
  {
   "cell_type": "code",
   "execution_count": 11,
   "metadata": {
    "ExecuteTime": {
     "end_time": "2023-12-10T23:46:21.587710Z",
     "start_time": "2023-12-10T23:46:21.577466Z"
    },
    "colab": {},
    "colab_type": "code",
    "deletable": false,
    "editable": false,
    "id": "Jar15WRuIfxz",
    "nbgrader": {
     "grade": true,
     "grade_id": "cell-4ce8206f82589201",
     "locked": true,
     "points": 2,
     "schema_version": 3,
     "solution": false
    }
   },
   "outputs": [],
   "source": [
    "assert sha256(str(sv_class_1).encode()).hexdigest() == 'fc47b34e36f4032acd1ca2192a7b9b097011ccbfe3d8e27b04bb6999e000578d', 'Number of support vectors of class 1 is not correct.'\n",
    "assert sha256(str(sv_class_2).encode()).hexdigest() == '524148f24802f8c68974c2e1ecc8b8f47d0d60b7a0d1948951c050a25b5a8e59', 'Number of support vectors of class  is not correct.'"
   ]
  },
  {
   "cell_type": "markdown",
   "metadata": {
    "colab_type": "text",
    "deletable": false,
    "editable": false,
    "id": "Y8xtMvfbHkFX",
    "nbgrader": {
     "grade": false,
     "grade_id": "cell-ef314c4189559471",
     "locked": true,
     "schema_version": 3,
     "solution": false
    }
   },
   "source": [
    "### Exercise 1.3: Support vectors\n",
    "Obtain the array of the support vectors for the classifier from exercise 1.1."
   ]
  },
  {
   "cell_type": "code",
   "execution_count": 12,
   "metadata": {
    "ExecuteTime": {
     "end_time": "2023-12-10T23:46:21.602587Z",
     "start_time": "2023-12-10T23:46:21.594406Z"
    },
    "colab": {
     "base_uri": "https://localhost:8080/",
     "height": 34
    },
    "colab_type": "code",
    "deletable": false,
    "id": "KBmNh9nlHrdN",
    "nbgrader": {
     "grade": false,
     "grade_id": "cell-c1c38a43fdc6fac5",
     "locked": false,
     "schema_version": 3,
     "solution": true
    },
    "outputId": "fa7eaf0d-62ff-4cb9-99a1-6f1d04fd0889"
   },
   "outputs": [],
   "source": [
    "# s_vectors = ...\n",
    "\n",
    "# YOUR CODE HERE\n",
    "s_vectors = svc_linear.support_vectors_"
   ]
  },
  {
   "cell_type": "code",
   "execution_count": 13,
   "metadata": {
    "ExecuteTime": {
     "end_time": "2023-12-10T23:46:21.622412Z",
     "start_time": "2023-12-10T23:46:21.609246Z"
    },
    "colab": {},
    "colab_type": "code",
    "deletable": false,
    "editable": false,
    "id": "VhZYExZNH8tE",
    "nbgrader": {
     "grade": true,
     "grade_id": "cell-c25c5fd4aae06e2a",
     "locked": true,
     "points": 2,
     "schema_version": 3,
     "solution": false
    }
   },
   "outputs": [],
   "source": [
    "assert s_vectors.shape == (1242,13), 'The shape of the array is not correct.'\n",
    "np.testing.assert_almost_equal(s_vectors.mean(), -0.009, decimal = 3, err_msg='The support vectors are not correct.')\n",
    "np.testing.assert_almost_equal(s_vectors.var(), 0.93, decimal = 2, err_msg='The support vectors are not correct.')\n",
    "np.testing.assert_almost_equal(s_vectors.max(), 9.03, decimal = 2, err_msg='The support vectors are not correct.')\n",
    "np.testing.assert_almost_equal(s_vectors.min(), -6.958, decimal = 3, err_msg='The support vectors are not correct.')"
   ]
  },
  {
   "cell_type": "markdown",
   "metadata": {
    "colab_type": "text",
    "deletable": false,
    "editable": false,
    "id": "b6D_b8UaLp7P",
    "nbgrader": {
     "grade": false,
     "grade_id": "cell-482d56ba7fd11545",
     "locked": true,
     "schema_version": 3,
     "solution": false
    }
   },
   "source": [
    "### Exercise 1.4 : Tuning parameter\n",
    "Create a SVC classifier and set the tuning parameter value to 100. Calculate the score of the classifier."
   ]
  },
  {
   "cell_type": "code",
   "execution_count": 14,
   "metadata": {
    "ExecuteTime": {
     "end_time": "2023-12-10T23:46:25.260617Z",
     "start_time": "2023-12-10T23:46:21.629447Z"
    },
    "colab": {
     "base_uri": "https://localhost:8080/",
     "height": 51
    },
    "colab_type": "code",
    "deletable": false,
    "id": "01FdtEXpLpYS",
    "nbgrader": {
     "grade": false,
     "grade_id": "cell-c14bf9c897aec687",
     "locked": false,
     "schema_version": 3,
     "solution": true
    },
    "outputId": "98491b7b-17c6-4e43-e8da-d846756603c4"
   },
   "outputs": [],
   "source": [
    "# svc_linear_100 = ...\n",
    "# svc_linear_100_score = ...\n",
    "\n",
    "# YOUR CODE HERE\n",
    "svc_linear_100 = SVC(kernel=\"linear\", C=100)\n",
    "svc_linear_100.fit(X_train, y_train)\n",
    "\n",
    "svc_linear_100_score = svc_linear_100.score(X_test, y_test)\n"
   ]
  },
  {
   "cell_type": "code",
   "execution_count": 15,
   "metadata": {
    "ExecuteTime": {
     "end_time": "2023-12-10T23:46:25.270795Z",
     "start_time": "2023-12-10T23:46:25.263589Z"
    },
    "colab": {},
    "colab_type": "code",
    "deletable": false,
    "editable": false,
    "id": "pp4GGNg-wGX0",
    "nbgrader": {
     "grade": true,
     "grade_id": "cell-b93d3d54a5cf248d",
     "locked": true,
     "points": 2,
     "schema_version": 3,
     "solution": false
    }
   },
   "outputs": [],
   "source": [
    "assert isinstance(svc_linear_100, sklearn.svm.SVC), 'The classifier is not a SVC.'\n",
    "assert sha256(svc_linear_100.kernel.encode()).hexdigest() == '7f2fe580edb35154041fa3d4b41dd6d3adaef0c85d2ff6309f1d4b520eeecda3', 'The kernel is not correct.'\n",
    "np.testing.assert_almost_equal(svc_linear_100_score, 0.65, decimal = 2, err_msg='The score is not correct.')"
   ]
  },
  {
   "cell_type": "markdown",
   "metadata": {
    "colab_type": "text",
    "deletable": false,
    "editable": false,
    "id": "iGYGZszuLvSu",
    "nbgrader": {
     "grade": false,
     "grade_id": "cell-54e36a9e1dc6257d",
     "locked": true,
     "schema_version": 3,
     "solution": false
    }
   },
   "source": [
    "## Exercise 2 : Support Vector Machine\n",
    "Having tried the Support Vector Classifier, you turn to Support Vector Machine to see if they peform better. You wonder which kernel you should use, and decide to start with the polynomial kernel."
   ]
  },
  {
   "cell_type": "markdown",
   "metadata": {
    "colab_type": "text",
    "deletable": false,
    "editable": false,
    "id": "yjQbXoiDrvZ6",
    "nbgrader": {
     "grade": false,
     "grade_id": "cell-3e43d60fe3d99a1c",
     "locked": true,
     "schema_version": 3,
     "solution": false
    }
   },
   "source": [
    "### Exercise 1.2: Polynomial SVM \n",
    "Create an SVM with polynomial kernel of degree 2. Fit the model to the data and create the predictions."
   ]
  },
  {
   "cell_type": "code",
   "execution_count": 16,
   "metadata": {
    "ExecuteTime": {
     "end_time": "2023-12-10T23:46:25.393058Z",
     "start_time": "2023-12-10T23:46:25.282116Z"
    },
    "colab": {
     "base_uri": "https://localhost:8080/",
     "height": 68
    },
    "colab_type": "code",
    "deletable": false,
    "id": "Ek8trgJ77dkG",
    "nbgrader": {
     "grade": false,
     "grade_id": "cell-172e3bd2b364b440",
     "locked": false,
     "schema_version": 3,
     "solution": true
    },
    "outputId": "534bae8e-3d4d-4314-cb18-1390b34e1d33"
   },
   "outputs": [],
   "source": [
    "# Use these variables for the classifier and the predictions.\n",
    "# svm_poly = ...\n",
    "# svm_poly_preds = ...\n",
    "\n",
    "# YOUR CODE HERE\n",
    "svm_poly = SVC(kernel=\"poly\", degree=2)\n",
    "svm_poly.fit(X_train, y_train)\n",
    "svm_poly_preds = svm_poly.predict(X_test)"
   ]
  },
  {
   "cell_type": "code",
   "execution_count": 17,
   "metadata": {
    "ExecuteTime": {
     "end_time": "2023-12-10T23:46:25.422017Z",
     "start_time": "2023-12-10T23:46:25.395890Z"
    },
    "colab": {},
    "colab_type": "code",
    "deletable": false,
    "editable": false,
    "id": "dR8vE1EE73fd",
    "nbgrader": {
     "grade": true,
     "grade_id": "cell-4cbba809efaac32d",
     "locked": true,
     "points": 4,
     "schema_version": 3,
     "solution": false
    }
   },
   "outputs": [
    {
     "name": "stdout",
     "output_type": "stream",
     "text": [
      "The score of the polynomial SVM is 0.7079207920792079.\n"
     ]
    }
   ],
   "source": [
    "assert isinstance(svm_poly, sklearn.svm.SVC), 'The classifier is not of the correct type.'\n",
    "assert sha256(svm_poly.kernel.encode()).hexdigest() == '2e68a8e49fe8b9e6e94c2fbdec0f227acaecc5cdc3c5e2e411e2bbe49b440ae2', 'The kernel is not correct.'\n",
    "assert svm_poly.degree == 2, 'Incorrect polynomial degree.'\n",
    "assert sha256(''.join([str(i) for i in svm_poly_preds]).encode()).hexdigest() == '775aa4cf134658977edc34aefe6ea47b86962f4fccb9d44116f6a7520e53dcea', 'The predictions are not correct.'\n",
    "print(f'The score of the polynomial SVM is {svm_poly.score(X_test,y_test)}.')"
   ]
  },
  {
   "cell_type": "markdown",
   "metadata": {},
   "source": [
    "### Exercise 2.2: Radial SVM\n",
    "Create an SVM with a radial kernel. Fit it to the data and create the predictions."
   ]
  },
  {
   "cell_type": "code",
   "execution_count": 18,
   "metadata": {
    "ExecuteTime": {
     "end_time": "2023-12-10T23:46:25.618768Z",
     "start_time": "2023-12-10T23:46:25.426808Z"
    },
    "colab": {
     "base_uri": "https://localhost:8080/",
     "height": 51
    },
    "colab_type": "code",
    "deletable": false,
    "id": "5F_zDFNyEzHl",
    "nbgrader": {
     "grade": false,
     "grade_id": "cell-67987e9e5c2a81e8",
     "locked": false,
     "schema_version": 3,
     "solution": true
    },
    "outputId": "c530dab8-4c09-47d9-dea2-914a416b87a3"
   },
   "outputs": [],
   "source": [
    "# svm_radial = ...\n",
    "# svm_radial_preds = ...\n",
    "# YOUR CODE HERE\n",
    "svm_radial = SVC(kernel=\"rbf\")\n",
    "svm_radial.fit(X_train, y_train)\n",
    "svm_radial_preds = svm_radial.predict(X_test)"
   ]
  },
  {
   "cell_type": "code",
   "execution_count": 19,
   "metadata": {
    "ExecuteTime": {
     "end_time": "2023-12-10T23:46:25.730103Z",
     "start_time": "2023-12-10T23:46:25.626876Z"
    },
    "colab": {},
    "colab_type": "code",
    "deletable": false,
    "editable": false,
    "id": "pWXBFNDH7oFl",
    "nbgrader": {
     "grade": true,
     "grade_id": "cell-7762a654a5c9e0bb",
     "locked": true,
     "points": 4,
     "schema_version": 3,
     "solution": false
    }
   },
   "outputs": [
    {
     "name": "stdout",
     "output_type": "stream",
     "text": [
      "The score of the radial SVM is 0.7376237623762376.\n"
     ]
    }
   ],
   "source": [
    "assert isinstance(svm_radial, sklearn.svm.SVC), 'The classifier is not of the correct type.'\n",
    "assert sha256(svm_radial.kernel.encode()).hexdigest() == '01a0d0e53b2345784a5f47788c5187e466a5fba8310cd265267ad7ed5810bd51', 'The kernel is not correct.'\n",
    "assert sha256(''.join([str(i) for i in svm_radial_preds]).encode()).hexdigest() == '391e22acee70ee903a8ae5324dea544e27ed02c72ab8b6b0fa6b3a8cdfecf138', 'The predictions are not correct.'\n",
    "print(f'The score of the radial SVM is {svm_radial.score(X_test,y_test)}.')"
   ]
  },
  {
   "cell_type": "markdown",
   "metadata": {
    "colab_type": "text",
    "deletable": false,
    "editable": false,
    "id": "2FmpIyQttmLp",
    "nbgrader": {
     "grade": false,
     "grade_id": "cell-3b0c71d3ba6db0f9",
     "locked": true,
     "schema_version": 3,
     "solution": false
    }
   },
   "source": [
    "## Exercise 3 : Support Vector Regression\n",
    "\n",
    "You also wonder whether the energy of a song can be predicted by the remaining attributes. Let's prepare the dataset:"
   ]
  },
  {
   "cell_type": "code",
   "execution_count": 20,
   "metadata": {
    "ExecuteTime": {
     "end_time": "2023-12-10T23:46:25.811852Z",
     "start_time": "2023-12-10T23:46:25.773866Z"
    },
    "colab": {},
    "colab_type": "code",
    "deletable": false,
    "editable": false,
    "id": "vViB5RiGDYnX",
    "nbgrader": {
     "grade": false,
     "grade_id": "cell-6b785fdd612dcc66",
     "locked": true,
     "schema_version": 3,
     "solution": false
    }
   },
   "outputs": [
    {
     "name": "stdout",
     "output_type": "stream",
     "text": [
      "X_train of shape  (1613, 12)\n",
      "y_train of shape  (1613,)\n",
      "X_test of shape   (404, 12)\n",
      "y_test of shape   (404,)\n"
     ]
    }
   ],
   "source": [
    "X_train, X_test, y_train, y_test = get_X_y_train_test(songs_df.drop(\"target\", axis=1), target_col=\"energy\")"
   ]
  },
  {
   "cell_type": "markdown",
   "metadata": {
    "deletable": false,
    "editable": false,
    "nbgrader": {
     "grade": false,
     "grade_id": "cell-ed88bc7a91512397",
     "locked": true,
     "schema_version": 3,
     "solution": false,
     "task": false
    }
   },
   "source": [
    "### Exercise 3.1: Energy of a song.\n",
    "Use an SVR estimator with a radial kernel to predict the energy of a song. Create and fit an SVR estimator, then calculate the score and the predictions."
   ]
  },
  {
   "cell_type": "code",
   "execution_count": 21,
   "metadata": {
    "ExecuteTime": {
     "end_time": "2023-12-10T23:46:26.110636Z",
     "start_time": "2023-12-10T23:46:25.846160Z"
    },
    "colab": {
     "base_uri": "https://localhost:8080/",
     "height": 51
    },
    "colab_type": "code",
    "deletable": false,
    "id": "4z2-thS0t6Xs",
    "nbgrader": {
     "grade": false,
     "grade_id": "cell-cfd65728579ba0e4",
     "locked": false,
     "schema_version": 3,
     "solution": true
    },
    "outputId": "b7286a2b-fcd9-498a-d805-7f6d5b77311c"
   },
   "outputs": [],
   "source": [
    "# svr = ...\n",
    "# svr_score = ...\n",
    "# svr_predictions = ...\n",
    "\n",
    "# YOUR CODE HERE\n",
    "from sklearn.svm import SVR\n",
    "\n",
    "svr = SVR()\n",
    "svr.fit(X_train, y_train)\n",
    "\n",
    "svr_score = svr.score(X_test, y_test)\n",
    "svr_predictions = svr.predict(X_test)\n",
    "svr_preds=svr_predictions"
   ]
  },
  {
   "cell_type": "code",
   "execution_count": 22,
   "metadata": {
    "ExecuteTime": {
     "end_time": "2023-12-10T23:46:26.208313Z",
     "start_time": "2023-12-10T23:46:26.131604Z"
    },
    "colab": {},
    "colab_type": "code",
    "deletable": false,
    "editable": false,
    "id": "nO24zB78Dg_y",
    "nbgrader": {
     "grade": true,
     "grade_id": "cell-471b594b90665f4b",
     "locked": true,
     "points": 3,
     "schema_version": 3,
     "solution": false
    }
   },
   "outputs": [],
   "source": [
    "assert isinstance(svr, sklearn.svm.SVR), 'The estimator is not the correct type.'\n",
    "assert sha256(svr.kernel.encode()).hexdigest() == '01a0d0e53b2345784a5f47788c5187e466a5fba8310cd265267ad7ed5810bd51', 'The estimator is not correct type.'\n",
    "np.testing.assert_almost_equal(svr_preds.mean(), 0.67, decimal = 2, err_msg='The predictions are not correct.')\n",
    "np.testing.assert_almost_equal(svr_preds.var(), 0.028, decimal = 3, err_msg='The predictions are not correct.')\n",
    "np.testing.assert_almost_equal(svr_preds.max(), 0.996, decimal = 3, err_msg='The predictions are not correct.')\n",
    "np.testing.assert_almost_equal(svr_preds.min(), 0.076, decimal = 3, err_msg='The predictions are not correct.')\n",
    "np.testing.assert_almost_equal(svr.score(X_test, y_test), 0.73, decimal = 2, err_msg = 'The score is not correct.')"
   ]
  },
  {
   "cell_type": "code",
   "execution_count": null,
   "metadata": {},
   "outputs": [],
   "source": []
  }
 ],
 "metadata": {
  "colab": {
   "collapsed_sections": [],
   "name": "Exercise notebook.ipynb",
   "provenance": [],
   "toc_visible": true,
   "version": "0.3.2"
  },
  "kernelspec": {
   "display_name": "Python 3 (ipykernel)",
   "language": "python",
   "name": "python3"
  },
  "language_info": {
   "codemirror_mode": {
    "name": "ipython",
    "version": 3
   },
   "file_extension": ".py",
   "mimetype": "text/x-python",
   "name": "python",
   "nbconvert_exporter": "python",
   "pygments_lexer": "ipython3",
   "version": "3.10.6"
  },
  "toc": {
   "base_numbering": 1,
   "nav_menu": {},
   "number_sections": true,
   "sideBar": true,
   "skip_h1_title": false,
   "title_cell": "Table of Contents",
   "title_sidebar": "Contents",
   "toc_cell": false,
   "toc_position": {},
   "toc_section_display": true,
   "toc_window_display": false
  }
 },
 "nbformat": 4,
 "nbformat_minor": 1
}
