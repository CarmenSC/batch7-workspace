{
 "cells": [
  {
   "cell_type": "code",
   "execution_count": 2,
   "id": "5f9a6ac5",
   "metadata": {
    "ExecuteTime": {
     "end_time": "2023-12-17T12:43:16.195408Z",
     "start_time": "2023-12-17T12:43:16.171006Z"
    }
   },
   "outputs": [],
   "source": [
    "# Import basic libraries\n",
    "import pandas as pd\n",
    "import numpy as np\n",
    "import matplotlib.pyplot as plt\n",
    "import seaborn as sns\n",
    "\n",
    "# Sklearn libraries\n",
    "from sklearn.pipeline import Pipeline\n",
    "from sklearn.model_selection import train_test_split\n",
    "from sklearn.impute import SimpleImputer\n",
    "from sklearn.ensemble import RandomForestClassifier\n",
    "from sklearn.metrics import roc_auc_score,confusion_matrix,roc_auc_score,roc_curve,classification_report,auc\n",
    "from sklearn.base import BaseEstimator, TransformerMixin # to create classes\n",
    "from sklearn.preprocessing import RobustScaler\n",
    "from sklearn.linear_model import LogisticRegression\n",
    "from sklearn.compose import ColumnTransformer\n",
    "\n",
    "# Category encoders\n",
    "from sklearn.preprocessing import OneHotEncoder\n",
    "\n",
    "\n",
    "from sklearn.metrics import accuracy_score, precision_score, recall_score, f1_score\n",
    "\n",
    "#from sklearn.ensemble import RandomForestClassifier\n",
    "from sklearn.model_selection import RandomizedSearchCV, GridSearchCV, cross_validate\n"
   ]
  },
  {
   "cell_type": "code",
   "execution_count": 3,
   "id": "c0d95a87",
   "metadata": {
    "ExecuteTime": {
     "end_time": "2023-12-17T09:19:01.382759Z",
     "start_time": "2023-12-17T09:19:01.229366Z"
    }
   },
   "outputs": [
    {
     "name": "stdout",
     "output_type": "stream",
     "text": [
      "sample_submission.csv test.csv              train.csv\n"
     ]
    }
   ],
   "source": [
    "!ls data"
   ]
  },
  {
   "cell_type": "code",
   "execution_count": 16,
   "id": "9c398af4",
   "metadata": {
    "ExecuteTime": {
     "end_time": "2023-12-17T12:21:58.753338Z",
     "start_time": "2023-12-17T12:21:58.073359Z"
    }
   },
   "outputs": [],
   "source": [
    "# You might have to change this path or the location of this file\n",
    "data = pd.read_csv('data/train.csv')#.set_index(\"order_id\")"
   ]
  },
  {
   "cell_type": "code",
   "execution_count": 17,
   "id": "5e1a124e",
   "metadata": {
    "ExecuteTime": {
     "end_time": "2023-12-17T12:21:58.997186Z",
     "start_time": "2023-12-17T12:21:58.943765Z"
    }
   },
   "outputs": [
    {
     "data": {
      "text/html": [
       "<div>\n",
       "<style scoped>\n",
       "    .dataframe tbody tr th:only-of-type {\n",
       "        vertical-align: middle;\n",
       "    }\n",
       "\n",
       "    .dataframe tbody tr th {\n",
       "        vertical-align: top;\n",
       "    }\n",
       "\n",
       "    .dataframe thead th {\n",
       "        text-align: right;\n",
       "    }\n",
       "</style>\n",
       "<table border=\"1\" class=\"dataframe\">\n",
       "  <thead>\n",
       "    <tr style=\"text-align: right;\">\n",
       "      <th></th>\n",
       "      <th>order_id</th>\n",
       "      <th>order_date</th>\n",
       "      <th>amount_usd</th>\n",
       "      <th>payment_method</th>\n",
       "      <th>billing_address_country_code</th>\n",
       "      <th>shipping_address_country_code</th>\n",
       "      <th>avs_code</th>\n",
       "      <th>email_amount_spent_avg_180d</th>\n",
       "      <th>email_orders_count_180d</th>\n",
       "      <th>session_visitor_type</th>\n",
       "      <th>shipping_method_type</th>\n",
       "      <th>card_expiration_date</th>\n",
       "      <th>bin_brand</th>\n",
       "      <th>bin_type</th>\n",
       "      <th>label</th>\n",
       "      <th>suspicious_activity_score</th>\n",
       "    </tr>\n",
       "  </thead>\n",
       "  <tbody>\n",
       "    <tr>\n",
       "      <th>0</th>\n",
       "      <td>181852054</td>\n",
       "      <td>2022-06-02 15:28:13</td>\n",
       "      <td>611.03</td>\n",
       "      <td>payment_method_2</td>\n",
       "      <td>SA</td>\n",
       "      <td>SA</td>\n",
       "      <td>avs_code_8</td>\n",
       "      <td>NaN</td>\n",
       "      <td>NaN</td>\n",
       "      <td>returning</td>\n",
       "      <td>E</td>\n",
       "      <td>05/2025</td>\n",
       "      <td>mastercard</td>\n",
       "      <td>credit</td>\n",
       "      <td>0.0</td>\n",
       "      <td>7.801596</td>\n",
       "    </tr>\n",
       "    <tr>\n",
       "      <th>1</th>\n",
       "      <td>181265052</td>\n",
       "      <td>2022-05-21 15:53:20</td>\n",
       "      <td>334.44</td>\n",
       "      <td>payment_method_1</td>\n",
       "      <td>FR</td>\n",
       "      <td>FR</td>\n",
       "      <td>avs_code_1</td>\n",
       "      <td>591.141667</td>\n",
       "      <td>6.0</td>\n",
       "      <td>returning</td>\n",
       "      <td>S</td>\n",
       "      <td>NaN</td>\n",
       "      <td>NaN</td>\n",
       "      <td>NaN</td>\n",
       "      <td>0.0</td>\n",
       "      <td>8.117476</td>\n",
       "    </tr>\n",
       "    <tr>\n",
       "      <th>2</th>\n",
       "      <td>149633145</td>\n",
       "      <td>2021-09-30 09:05:06</td>\n",
       "      <td>611.85</td>\n",
       "      <td>payment_method_1</td>\n",
       "      <td>HK</td>\n",
       "      <td>HK</td>\n",
       "      <td>avs_code_1</td>\n",
       "      <td>NaN</td>\n",
       "      <td>NaN</td>\n",
       "      <td>returning</td>\n",
       "      <td>E;E</td>\n",
       "      <td>NaN</td>\n",
       "      <td>NaN</td>\n",
       "      <td>NaN</td>\n",
       "      <td>0.0</td>\n",
       "      <td>6.240885</td>\n",
       "    </tr>\n",
       "    <tr>\n",
       "      <th>3</th>\n",
       "      <td>149158895</td>\n",
       "      <td>2021-09-22 15:19:15</td>\n",
       "      <td>198.18</td>\n",
       "      <td>payment_method_2</td>\n",
       "      <td>RU</td>\n",
       "      <td>RU</td>\n",
       "      <td>avs_code_5</td>\n",
       "      <td>473.027368</td>\n",
       "      <td>38.0</td>\n",
       "      <td>returning</td>\n",
       "      <td>E</td>\n",
       "      <td>03/2023</td>\n",
       "      <td>visa</td>\n",
       "      <td>debit</td>\n",
       "      <td>0.0</td>\n",
       "      <td>5.188745</td>\n",
       "    </tr>\n",
       "    <tr>\n",
       "      <th>4</th>\n",
       "      <td>169664695</td>\n",
       "      <td>2022-02-18 08:59:32</td>\n",
       "      <td>434.71</td>\n",
       "      <td>payment_method_3</td>\n",
       "      <td>HK</td>\n",
       "      <td>HK</td>\n",
       "      <td>avs_code_5</td>\n",
       "      <td>NaN</td>\n",
       "      <td>NaN</td>\n",
       "      <td>returning</td>\n",
       "      <td>E</td>\n",
       "      <td>NaN</td>\n",
       "      <td>NaN</td>\n",
       "      <td>NaN</td>\n",
       "      <td>0.0</td>\n",
       "      <td>5.738602</td>\n",
       "    </tr>\n",
       "    <tr>\n",
       "      <th>...</th>\n",
       "      <td>...</td>\n",
       "      <td>...</td>\n",
       "      <td>...</td>\n",
       "      <td>...</td>\n",
       "      <td>...</td>\n",
       "      <td>...</td>\n",
       "      <td>...</td>\n",
       "      <td>...</td>\n",
       "      <td>...</td>\n",
       "      <td>...</td>\n",
       "      <td>...</td>\n",
       "      <td>...</td>\n",
       "      <td>...</td>\n",
       "      <td>...</td>\n",
       "      <td>...</td>\n",
       "      <td>...</td>\n",
       "    </tr>\n",
       "    <tr>\n",
       "      <th>195396</th>\n",
       "      <td>149431312</td>\n",
       "      <td>2021-09-26 20:45:39</td>\n",
       "      <td>265.93</td>\n",
       "      <td>payment_method_2</td>\n",
       "      <td>FR</td>\n",
       "      <td>FR</td>\n",
       "      <td>avs_code_5</td>\n",
       "      <td>228.550000</td>\n",
       "      <td>1.0</td>\n",
       "      <td>returning</td>\n",
       "      <td>S</td>\n",
       "      <td>09/2024</td>\n",
       "      <td>visa</td>\n",
       "      <td>debit</td>\n",
       "      <td>0.0</td>\n",
       "      <td>4.827303</td>\n",
       "    </tr>\n",
       "    <tr>\n",
       "      <th>195397</th>\n",
       "      <td>163902126</td>\n",
       "      <td>2022-01-03 20:30:02</td>\n",
       "      <td>180.00</td>\n",
       "      <td>payment_method_2</td>\n",
       "      <td>KW</td>\n",
       "      <td>KW</td>\n",
       "      <td>avs_code_8</td>\n",
       "      <td>152.850000</td>\n",
       "      <td>10.0</td>\n",
       "      <td>NaN</td>\n",
       "      <td>E</td>\n",
       "      <td>02/2023</td>\n",
       "      <td>mastercard</td>\n",
       "      <td>credit</td>\n",
       "      <td>0.0</td>\n",
       "      <td>4.127653</td>\n",
       "    </tr>\n",
       "    <tr>\n",
       "      <th>195398</th>\n",
       "      <td>153618478</td>\n",
       "      <td>2021-11-09 10:47:54</td>\n",
       "      <td>656.64</td>\n",
       "      <td>payment_method_3</td>\n",
       "      <td>SA</td>\n",
       "      <td>SA</td>\n",
       "      <td>avs_code_8</td>\n",
       "      <td>617.120000</td>\n",
       "      <td>1.0</td>\n",
       "      <td>returning</td>\n",
       "      <td>E</td>\n",
       "      <td>NaN</td>\n",
       "      <td>NaN</td>\n",
       "      <td>NaN</td>\n",
       "      <td>0.0</td>\n",
       "      <td>8.002003</td>\n",
       "    </tr>\n",
       "    <tr>\n",
       "      <th>195399</th>\n",
       "      <td>159333719</td>\n",
       "      <td>2021-12-02 15:45:51</td>\n",
       "      <td>179.14</td>\n",
       "      <td>payment_method_2</td>\n",
       "      <td>MC</td>\n",
       "      <td>FR</td>\n",
       "      <td>avs_code_8</td>\n",
       "      <td>NaN</td>\n",
       "      <td>NaN</td>\n",
       "      <td>new</td>\n",
       "      <td>S</td>\n",
       "      <td>10/2024</td>\n",
       "      <td>visa</td>\n",
       "      <td>debit</td>\n",
       "      <td>0.0</td>\n",
       "      <td>4.078712</td>\n",
       "    </tr>\n",
       "    <tr>\n",
       "      <th>195400</th>\n",
       "      <td>183307855</td>\n",
       "      <td>2022-06-10 01:50:24</td>\n",
       "      <td>208.59</td>\n",
       "      <td>payment_method_2</td>\n",
       "      <td>BR</td>\n",
       "      <td>BR</td>\n",
       "      <td>avs_code_4</td>\n",
       "      <td>NaN</td>\n",
       "      <td>NaN</td>\n",
       "      <td>returning</td>\n",
       "      <td>E</td>\n",
       "      <td>02/2028</td>\n",
       "      <td>visa</td>\n",
       "      <td>credit</td>\n",
       "      <td>0.0</td>\n",
       "      <td>6.418027</td>\n",
       "    </tr>\n",
       "  </tbody>\n",
       "</table>\n",
       "<p>195401 rows × 16 columns</p>\n",
       "</div>"
      ],
      "text/plain": [
       "         order_id           order_date  amount_usd    payment_method  \\\n",
       "0       181852054  2022-06-02 15:28:13      611.03  payment_method_2   \n",
       "1       181265052  2022-05-21 15:53:20      334.44  payment_method_1   \n",
       "2       149633145  2021-09-30 09:05:06      611.85  payment_method_1   \n",
       "3       149158895  2021-09-22 15:19:15      198.18  payment_method_2   \n",
       "4       169664695  2022-02-18 08:59:32      434.71  payment_method_3   \n",
       "...           ...                  ...         ...               ...   \n",
       "195396  149431312  2021-09-26 20:45:39      265.93  payment_method_2   \n",
       "195397  163902126  2022-01-03 20:30:02      180.00  payment_method_2   \n",
       "195398  153618478  2021-11-09 10:47:54      656.64  payment_method_3   \n",
       "195399  159333719  2021-12-02 15:45:51      179.14  payment_method_2   \n",
       "195400  183307855  2022-06-10 01:50:24      208.59  payment_method_2   \n",
       "\n",
       "       billing_address_country_code shipping_address_country_code    avs_code  \\\n",
       "0                                SA                            SA  avs_code_8   \n",
       "1                                FR                            FR  avs_code_1   \n",
       "2                                HK                            HK  avs_code_1   \n",
       "3                                RU                            RU  avs_code_5   \n",
       "4                                HK                            HK  avs_code_5   \n",
       "...                             ...                           ...         ...   \n",
       "195396                           FR                            FR  avs_code_5   \n",
       "195397                           KW                            KW  avs_code_8   \n",
       "195398                           SA                            SA  avs_code_8   \n",
       "195399                           MC                            FR  avs_code_8   \n",
       "195400                           BR                            BR  avs_code_4   \n",
       "\n",
       "        email_amount_spent_avg_180d  email_orders_count_180d  \\\n",
       "0                               NaN                      NaN   \n",
       "1                        591.141667                      6.0   \n",
       "2                               NaN                      NaN   \n",
       "3                        473.027368                     38.0   \n",
       "4                               NaN                      NaN   \n",
       "...                             ...                      ...   \n",
       "195396                   228.550000                      1.0   \n",
       "195397                   152.850000                     10.0   \n",
       "195398                   617.120000                      1.0   \n",
       "195399                          NaN                      NaN   \n",
       "195400                          NaN                      NaN   \n",
       "\n",
       "       session_visitor_type shipping_method_type card_expiration_date  \\\n",
       "0                 returning                    E              05/2025   \n",
       "1                 returning                    S                  NaN   \n",
       "2                 returning                  E;E                  NaN   \n",
       "3                 returning                    E              03/2023   \n",
       "4                 returning                    E                  NaN   \n",
       "...                     ...                  ...                  ...   \n",
       "195396            returning                    S              09/2024   \n",
       "195397                  NaN                    E              02/2023   \n",
       "195398            returning                    E                  NaN   \n",
       "195399                  new                    S              10/2024   \n",
       "195400            returning                    E              02/2028   \n",
       "\n",
       "         bin_brand bin_type  label  suspicious_activity_score  \n",
       "0       mastercard   credit    0.0                   7.801596  \n",
       "1              NaN      NaN    0.0                   8.117476  \n",
       "2              NaN      NaN    0.0                   6.240885  \n",
       "3             visa    debit    0.0                   5.188745  \n",
       "4              NaN      NaN    0.0                   5.738602  \n",
       "...            ...      ...    ...                        ...  \n",
       "195396        visa    debit    0.0                   4.827303  \n",
       "195397  mastercard   credit    0.0                   4.127653  \n",
       "195398         NaN      NaN    0.0                   8.002003  \n",
       "195399        visa    debit    0.0                   4.078712  \n",
       "195400        visa   credit    0.0                   6.418027  \n",
       "\n",
       "[195401 rows x 16 columns]"
      ]
     },
     "execution_count": 17,
     "metadata": {},
     "output_type": "execute_result"
    }
   ],
   "source": [
    "data"
   ]
  },
  {
   "cell_type": "code",
   "execution_count": 18,
   "id": "45047549",
   "metadata": {
    "ExecuteTime": {
     "end_time": "2023-12-17T10:15:29.189257Z",
     "start_time": "2023-12-17T10:15:28.752957Z"
    }
   },
   "outputs": [],
   "source": [
    "data=data.drop_duplicates()"
   ]
  },
  {
   "cell_type": "code",
   "execution_count": 19,
   "id": "134b3706",
   "metadata": {
    "ExecuteTime": {
     "end_time": "2023-12-17T10:34:40.571909Z",
     "start_time": "2023-12-17T10:34:40.533183Z"
    }
   },
   "outputs": [
    {
     "data": {
      "text/plain": [
       "190266"
      ]
     },
     "execution_count": 19,
     "metadata": {},
     "output_type": "execute_result"
    }
   ],
   "source": [
    "data.order_id.nunique()"
   ]
  },
  {
   "cell_type": "code",
   "execution_count": 20,
   "id": "eec8b766",
   "metadata": {
    "ExecuteTime": {
     "end_time": "2023-12-17T10:35:45.749906Z",
     "start_time": "2023-12-17T10:35:45.733176Z"
    }
   },
   "outputs": [
    {
     "data": {
      "text/plain": [
       "82"
      ]
     },
     "execution_count": 20,
     "metadata": {},
     "output_type": "execute_result"
    }
   ],
   "source": [
    "data.order_id.duplicated().sum()"
   ]
  },
  {
   "cell_type": "code",
   "execution_count": 21,
   "id": "74ecd848",
   "metadata": {
    "ExecuteTime": {
     "end_time": "2023-12-17T10:35:46.663549Z",
     "start_time": "2023-12-17T10:35:46.343845Z"
    }
   },
   "outputs": [
    {
     "data": {
      "text/plain": [
       "0"
      ]
     },
     "execution_count": 21,
     "metadata": {},
     "output_type": "execute_result"
    }
   ],
   "source": [
    "data.duplicated().sum()"
   ]
  },
  {
   "cell_type": "code",
   "execution_count": 22,
   "id": "d19e7a7d",
   "metadata": {
    "ExecuteTime": {
     "end_time": "2023-12-17T10:35:47.473388Z",
     "start_time": "2023-12-17T10:35:47.457412Z"
    }
   },
   "outputs": [
    {
     "data": {
      "text/plain": [
       "(190348, 16)"
      ]
     },
     "execution_count": 22,
     "metadata": {},
     "output_type": "execute_result"
    }
   ],
   "source": [
    "data.shape"
   ]
  },
  {
   "cell_type": "code",
   "execution_count": 23,
   "id": "fa40eef9",
   "metadata": {
    "ExecuteTime": {
     "end_time": "2023-12-17T10:35:50.147445Z",
     "start_time": "2023-12-17T10:35:49.818231Z"
    }
   },
   "outputs": [
    {
     "data": {
      "text/html": [
       "<div>\n",
       "<style scoped>\n",
       "    .dataframe tbody tr th:only-of-type {\n",
       "        vertical-align: middle;\n",
       "    }\n",
       "\n",
       "    .dataframe tbody tr th {\n",
       "        vertical-align: top;\n",
       "    }\n",
       "\n",
       "    .dataframe thead th {\n",
       "        text-align: right;\n",
       "    }\n",
       "</style>\n",
       "<table border=\"1\" class=\"dataframe\">\n",
       "  <thead>\n",
       "    <tr style=\"text-align: right;\">\n",
       "      <th></th>\n",
       "      <th>order_id</th>\n",
       "      <th>order_date</th>\n",
       "      <th>amount_usd</th>\n",
       "      <th>payment_method</th>\n",
       "      <th>billing_address_country_code</th>\n",
       "      <th>shipping_address_country_code</th>\n",
       "      <th>avs_code</th>\n",
       "      <th>email_amount_spent_avg_180d</th>\n",
       "      <th>email_orders_count_180d</th>\n",
       "      <th>session_visitor_type</th>\n",
       "      <th>shipping_method_type</th>\n",
       "      <th>card_expiration_date</th>\n",
       "      <th>bin_brand</th>\n",
       "      <th>bin_type</th>\n",
       "      <th>label</th>\n",
       "      <th>suspicious_activity_score</th>\n",
       "    </tr>\n",
       "  </thead>\n",
       "  <tbody>\n",
       "  </tbody>\n",
       "</table>\n",
       "</div>"
      ],
      "text/plain": [
       "Empty DataFrame\n",
       "Columns: [order_id, order_date, amount_usd, payment_method, billing_address_country_code, shipping_address_country_code, avs_code, email_amount_spent_avg_180d, email_orders_count_180d, session_visitor_type, shipping_method_type, card_expiration_date, bin_brand, bin_type, label, suspicious_activity_score]\n",
       "Index: []"
      ]
     },
     "execution_count": 23,
     "metadata": {},
     "output_type": "execute_result"
    }
   ],
   "source": [
    "data[data.duplicated()]"
   ]
  },
  {
   "cell_type": "code",
   "execution_count": 24,
   "id": "e05e50cb",
   "metadata": {
    "ExecuteTime": {
     "end_time": "2023-12-17T10:35:52.465223Z",
     "start_time": "2023-12-17T10:35:52.430660Z"
    }
   },
   "outputs": [
    {
     "data": {
      "text/plain": [
       "E                                    87580\n",
       "S                                    51790\n",
       "E;E                                  19876\n",
       "S;S                                   8671\n",
       "E;E;E                                 7406\n",
       "                                     ...  \n",
       "S;E;E;E;E;S;S;S;S;S                      1\n",
       "S;S;S;S;E;E;S;S                          1\n",
       "S;S;S;S;S;S;S;S;S;S;S;S;S;S;S;S;S        1\n",
       "E;S;S;E;S                                1\n",
       "S;S;S;S;E;S;E;S                          1\n",
       "Name: shipping_method_type, Length: 156, dtype: int64"
      ]
     },
     "execution_count": 24,
     "metadata": {},
     "output_type": "execute_result"
    }
   ],
   "source": [
    "data.shipping_method_type.value_counts(dropna=False)"
   ]
  },
  {
   "cell_type": "code",
   "execution_count": 25,
   "id": "63ec2677",
   "metadata": {
    "ExecuteTime": {
     "end_time": "2023-12-17T10:35:53.317615Z",
     "start_time": "2023-12-17T10:35:53.293808Z"
    }
   },
   "outputs": [
    {
     "data": {
      "text/plain": [
       "Index(['order_id', 'order_date', 'amount_usd', 'payment_method',\n",
       "       'billing_address_country_code', 'shipping_address_country_code',\n",
       "       'avs_code', 'email_amount_spent_avg_180d', 'email_orders_count_180d',\n",
       "       'session_visitor_type', 'shipping_method_type', 'card_expiration_date',\n",
       "       'bin_brand', 'bin_type', 'label', 'suspicious_activity_score'],\n",
       "      dtype='object')"
      ]
     },
     "execution_count": 25,
     "metadata": {},
     "output_type": "execute_result"
    }
   ],
   "source": [
    "data.columns"
   ]
  },
  {
   "cell_type": "code",
   "execution_count": 26,
   "id": "d836dc33",
   "metadata": {
    "ExecuteTime": {
     "end_time": "2023-12-17T10:35:54.529902Z",
     "start_time": "2023-12-17T10:35:54.430632Z"
    }
   },
   "outputs": [
    {
     "name": "stdout",
     "output_type": "stream",
     "text": [
      "<class 'pandas.core.frame.DataFrame'>\n",
      "Int64Index: 190348 entries, 0 to 195357\n",
      "Data columns (total 16 columns):\n",
      " #   Column                         Non-Null Count   Dtype  \n",
      "---  ------                         --------------   -----  \n",
      " 0   order_id                       190348 non-null  int64  \n",
      " 1   order_date                     190348 non-null  object \n",
      " 2   amount_usd                     190348 non-null  float64\n",
      " 3   payment_method                 189738 non-null  object \n",
      " 4   billing_address_country_code   190328 non-null  object \n",
      " 5   shipping_address_country_code  190332 non-null  object \n",
      " 6   avs_code                       186971 non-null  object \n",
      " 7   email_amount_spent_avg_180d    97330 non-null   float64\n",
      " 8   email_orders_count_180d        96643 non-null   float64\n",
      " 9   session_visitor_type           155500 non-null  object \n",
      " 10  shipping_method_type           190348 non-null  object \n",
      " 11  card_expiration_date           131403 non-null  object \n",
      " 12  bin_brand                      130345 non-null  object \n",
      " 13  bin_type                       129940 non-null  object \n",
      " 14  label                          190343 non-null  float64\n",
      " 15  suspicious_activity_score      190348 non-null  float64\n",
      "dtypes: float64(5), int64(1), object(10)\n",
      "memory usage: 24.7+ MB\n"
     ]
    }
   ],
   "source": [
    "data.info()"
   ]
  },
  {
   "cell_type": "code",
   "execution_count": 27,
   "id": "86875038",
   "metadata": {
    "ExecuteTime": {
     "end_time": "2023-12-17T10:35:56.159338Z",
     "start_time": "2023-12-17T10:35:55.960661Z"
    }
   },
   "outputs": [
    {
     "data": {
      "text/plain": [
       "order_id                         190266\n",
       "order_date                       174799\n",
       "amount_usd                        83602\n",
       "payment_method                        8\n",
       "billing_address_country_code        166\n",
       "shipping_address_country_code       166\n",
       "avs_code                             24\n",
       "email_amount_spent_avg_180d       82105\n",
       "email_orders_count_180d             665\n",
       "session_visitor_type                  2\n",
       "shipping_method_type                156\n",
       "card_expiration_date                187\n",
       "bin_brand                            10\n",
       "bin_type                              3\n",
       "label                                 2\n",
       "suspicious_activity_score        190343\n",
       "dtype: int64"
      ]
     },
     "execution_count": 27,
     "metadata": {},
     "output_type": "execute_result"
    }
   ],
   "source": [
    "data.nunique()"
   ]
  },
  {
   "cell_type": "code",
   "execution_count": 28,
   "id": "c167c568",
   "metadata": {
    "ExecuteTime": {
     "end_time": "2023-12-17T10:35:57.782212Z",
     "start_time": "2023-12-17T10:35:57.759856Z"
    }
   },
   "outputs": [
    {
     "data": {
      "text/plain": [
       "(190348, 16)"
      ]
     },
     "execution_count": 28,
     "metadata": {},
     "output_type": "execute_result"
    }
   ],
   "source": [
    "data.shape"
   ]
  },
  {
   "cell_type": "code",
   "execution_count": 29,
   "id": "94de899a",
   "metadata": {
    "ExecuteTime": {
     "end_time": "2023-12-17T10:35:58.679858Z",
     "start_time": "2023-12-17T10:35:58.591682Z"
    }
   },
   "outputs": [
    {
     "data": {
      "text/plain": [
       "order_id                         0.000000\n",
       "order_date                       0.000000\n",
       "amount_usd                       0.000000\n",
       "payment_method                   0.003205\n",
       "billing_address_country_code     0.000105\n",
       "shipping_address_country_code    0.000084\n",
       "avs_code                         0.017741\n",
       "email_amount_spent_avg_180d      0.488673\n",
       "email_orders_count_180d          0.492283\n",
       "session_visitor_type             0.183075\n",
       "shipping_method_type             0.000000\n",
       "card_expiration_date             0.309670\n",
       "bin_brand                        0.315228\n",
       "bin_type                         0.317356\n",
       "label                            0.000026\n",
       "suspicious_activity_score        0.000000\n",
       "dtype: float64"
      ]
     },
     "execution_count": 29,
     "metadata": {},
     "output_type": "execute_result"
    }
   ],
   "source": [
    "data.isna().sum()/data.shape[0]"
   ]
  },
  {
   "cell_type": "code",
   "execution_count": 30,
   "id": "4612e41b",
   "metadata": {
    "ExecuteTime": {
     "end_time": "2023-12-17T10:36:00.662498Z",
     "start_time": "2023-12-17T10:36:00.100602Z"
    }
   },
   "outputs": [
    {
     "data": {
      "text/plain": [
       "<AxesSubplot:>"
      ]
     },
     "execution_count": 30,
     "metadata": {},
     "output_type": "execute_result"
    },
    {
     "data": {
      "image/png": "[encoded data removed]",
      "text/plain": [
       "<Figure size 640x480 with 2 Axes>"
      ]
     },
     "metadata": {},
     "output_type": "display_data"
    }
   ],
   "source": [
    "sns.heatmap(data.select_dtypes(include=np.number).corr())"
   ]
  },
  {
   "cell_type": "markdown",
   "id": "ffe07189",
   "metadata": {},
   "source": [
    "# Transformations for the features"
   ]
  },
  {
   "cell_type": "code",
   "execution_count": 103,
   "id": "a970a782",
   "metadata": {},
   "outputs": [],
   "source": [
    "class PaymentMethod(BaseEstimator, TransformerMixin):\n",
    "    def __init__(self):\n",
    "        pass\n",
    "    def fit(self, X=None, y=None, **fit_params):\n",
    "        return self\n",
    "\n",
    "    def transform(self, data):\n",
    "        X = data.copy()\n",
    "        columns_to_replace = ['card_expiration_date', 'bin_brand', 'bin_type']\n",
    "        condition = (X['payment_method'] == 'payment_method_2')\n",
    "\n",
    "        X.loc[condition, columns_to_replace] = X.loc[condition, columns_to_replace].fillna('missing')\n",
    "\n",
    "        return X"
   ]
  },
  {
   "cell_type": "code",
   "execution_count": 104,
   "id": "9e57d90a",
   "metadata": {},
   "outputs": [],
   "source": [
    "class SameCountry(BaseEstimator, TransformerMixin):\n",
    "    def __init__(self):\n",
    "        pass\n",
    "    def fit(self, X=None, y=None, **fit_params):\n",
    "        return self\n",
    "\n",
    "    def transform(self, data):\n",
    "        X = data.copy()\n",
    "        # remove capitalization\n",
    "        X[\"is_same_country\"] = (X['billing_address_country_code'] == X['shipping_address_country_code']).astype(int)\n",
    "        return X"
   ]
  },
  {
   "cell_type": "code",
   "execution_count": 105,
   "id": "9b1dc528",
   "metadata": {},
   "outputs": [],
   "source": [
    "class DateTime(BaseEstimator, TransformerMixin):\n",
    "    def __init__(self):\n",
    "        pass\n",
    "    def fit(self, X=None, y=None, **fit_params):\n",
    "        return self\n",
    "\n",
    "    def transform(self, data):\n",
    "        X = data.copy()\n",
    "        # remove capitalization\n",
    "        # Convert 'order_datetime' to datetime format\n",
    "        X['order_datetime'] = pd.to_datetime(X['order_date'])\n",
    "        X['card_expiration_date'] = pd.to_datetime(X['card_expiration_date'])\n",
    "\n",
    "\n",
    "        #Create Year, Month, Day columns\n",
    "        X['year'] = X['order_datetime'].dt.year\n",
    "        X['month'] = X['order_datetime'].dt.month\n",
    "        X['day'] = X['order_datetime'].dt.day\n",
    "\n",
    "\n",
    "        # Create 'order_date' and 'order_time' columns\n",
    "        X['order_date'] = X['order_datetime'].dt.date\n",
    "        X['order_time'] = X['order_datetime'].dt.time\n",
    "\n",
    "        # Extract time in seconds from midnight\n",
    "        X['order_time_seconds'] = (X['order_datetime'] - X['order_datetime'].dt.normalize()).dt.total_seconds()\n",
    "\n",
    "        # Apply cosine transformation to the time column\n",
    "        X['time_transformed'] = np.cos(2 * np.pi * X['order_time_seconds'] / 86400)  # 86400 seconds in a day\n",
    "        return X"
   ]
  },
  {
   "cell_type": "code",
   "execution_count": 106,
   "id": "ac4aaf1a",
   "metadata": {},
   "outputs": [],
   "source": [
    "class AvgAmountSpentPerOrder180d(BaseEstimator, TransformerMixin):\n",
    "    def __init__(self):\n",
    "        pass\n",
    "    def fit(self, X=None, y=None, **fit_params):\n",
    "        return self\n",
    "\n",
    "    def transform(self, data):\n",
    "        X = data.copy()\n",
    "        # remove capitalization\n",
    "        X['avg_amount_spent_per_order_180d']= (X['email_amount_spent_avg_180d'] / X['email_orders_count_180d'])\n",
    "        return X"
   ]
  },
  {
   "cell_type": "code",
   "execution_count": 107,
   "id": "f07d9bee",
   "metadata": {},
   "outputs": [],
   "source": [
    "class shippingMethodType(BaseEstimator, TransformerMixin):\n",
    "    def __init__(self):\n",
    "        pass\n",
    "    def fit(self, X=None, y=None, **fit_params):\n",
    "        return self\n",
    "\n",
    "    def transform(self, data):\n",
    "        X = data.copy()\n",
    "\n",
    "        X['shipping_method_type'] = X['shipping_method_type'].str.replace('u;n;k;n;o;w;n;_;0', 'Unknown')\n",
    "\n",
    "        X['n_order_items']=X['shipping_method_type'].str.split(';', expand=True).count(axis=1)\n",
    "\n",
    "        X['shipping_method_type']=X['shipping_method_type'].str.split(';')\n",
    "\n",
    "        def count_occurrences(lst, value):\n",
    "            return lst.count(value)\n",
    "\n",
    "        # Apply the counting function for each value and create new columns\n",
    "        # Possble valeus are: 9\tC\tD\tE\tN\tS\tV and unknown\n",
    "        X['Count_9'] = X['shipping_method_type'].apply(lambda x: count_occurrences(x, '9'))\n",
    "        X['Count_C'] = X['shipping_method_type'].apply(lambda x: count_occurrences(x, 'C'))\n",
    "        X['Count_D'] = X['shipping_method_type'].apply(lambda x: count_occurrences(x, 'D'))\n",
    "        X['Count_E'] = X['shipping_method_type'].apply(lambda x: count_occurrences(x, 'E'))\n",
    "        X['Count_N'] = X['shipping_method_type'].apply(lambda x: count_occurrences(x, 'N'))\n",
    "        X['Count_V'] = X['shipping_method_type'].apply(lambda x: count_occurrences(x, 'V'))\n",
    "        X['Count_unknown'] = X['shipping_method_type'].apply(lambda x: count_occurrences(x, 'Unknown'))\n",
    "\n",
    "        X['shipping_method_type']=X['shipping_method_type'].apply(lambda x: ','.join(map(str, x)))\n",
    "        # this converts the list into a string again (but now cleaned)\n",
    "\n",
    "        df_dummies = X['shipping_method_type'].str.get_dummies(',')\n",
    "\n",
    "        X = pd.concat([X, df_dummies], axis=1)\n",
    "\n",
    "        return X"
   ]
  },
  {
   "cell_type": "code",
   "execution_count": 108,
   "id": "f3c6023f",
   "metadata": {},
   "outputs": [],
   "source": [
    "class Duplicates(BaseEstimator, TransformerMixin):\n",
    "    def __init__(self):\n",
    "        pass\n",
    "    def fit(self, X=None, y=None, **fit_params):\n",
    "        return self\n",
    "    def transform(self, data):\n",
    "        X = data.copy()\n",
    "        X = X.drop_duplicates()\n",
    "        return X"
   ]
  },
  {
   "cell_type": "code",
   "execution_count": 168,
   "id": "0dd0c36f",
   "metadata": {},
   "outputs": [],
   "source": [
    "num_cols = [\n",
    "    'amount_usd',\n",
    "    'email_amount_spent_avg_180d',\n",
    "    'email_orders_count_180d',\n",
    "    'avg_amount_spent_per_order_180d', #new column\n",
    "    'time_transformed', #new column\n",
    "    'n_order_items', #new column\n",
    "]\n",
    "\n",
    "categorical_columns=['payment_method',\n",
    "                     'billing_address_country_code',\n",
    "                     'shipping_address_country_code',\n",
    "                     'avs_code',\n",
    "                     'session_visitor_type',\n",
    "                     'bin_brand',\n",
    "                     'bin_type']\n",
    "\n",
    "\n",
    "num_transformer = Pipeline(steps=[\n",
    "    ('fillna', SimpleImputer(strategy='constant', fill_value=0)),\n",
    "    ('robust_scaler', RobustScaler())\n",
    "])\n",
    "\n",
    "cat_transformer = Pipeline(steps=[\n",
    "    ('imputer', SimpleImputer(strategy='constant', fill_value='unknown')),\n",
    "    ('OHE', OneHotEncoder(handle_unknown='ignore',sparse_output=False))\n",
    "])\n",
    "\n",
    "\n",
    "\n",
    "preprocessor = ColumnTransformer(\n",
    "    transformers = [\n",
    "        ('num', num_transformer, num_cols),\n",
    "        ('cat_transformer', cat_transformer, categorical_columns),\n",
    "        ('num_transformer', num_transformer, num_cols)\n",
    "    ]\n",
    ")\n"
   ]
  },
  {
   "cell_type": "code",
   "execution_count": 169,
   "metadata": {},
   "outputs": [],
   "source": [
    "model_rf = RandomForestClassifier(n_estimators=100,\n",
    "                                  max_depth=5,\n",
    "                                  min_samples_leaf=5,\n",
    "                                  class_weight='balanced')\n"
   ]
  },
  {
   "cell_type": "code",
   "execution_count": 170,
   "id": "8f242daf",
   "metadata": {},
   "outputs": [],
   "source": [
    "\n",
    "pipeline = Pipeline([\n",
    "    (\"remove_duplicates\", Duplicates()),\n",
    "    (\"new_column_same_country\", SameCountry()),\n",
    "    (\"new_column_AvgAmountSpentPerOrder180d\", AvgAmountSpentPerOrder180d()),\n",
    "    (\"new_column_time_transformed\", DateTime()),\n",
    "    (\"new_column_shippingMethod\", shippingMethodType()),\n",
    "    (\"Payment_Method_Transformed\", PaymentMethod()),\n",
    "    (\"preprocessor\", preprocessor),\n",
    "    ('model', model_rf)\n",
    "])"
   ]
  },
  {
   "cell_type": "code",
   "execution_count": null,
   "metadata": {},
   "outputs": [],
   "source": []
  },
  {
   "cell_type": "code",
   "execution_count": null,
   "metadata": {},
   "outputs": [],
   "source": []
  },
  {
   "cell_type": "code",
   "execution_count": null,
   "id": "a0301b7e",
   "metadata": {},
   "outputs": [],
   "source": []
  },
  {
   "cell_type": "markdown",
   "id": "b53abc03",
   "metadata": {},
   "source": [
    "# y = label"
   ]
  },
  {
   "cell_type": "code",
   "execution_count": 31,
   "id": "7bdbebb7",
   "metadata": {
    "ExecuteTime": {
     "end_time": "2023-12-17T10:36:34.550095Z",
     "start_time": "2023-12-17T10:36:34.527066Z"
    }
   },
   "outputs": [
    {
     "data": {
      "text/plain": [
       "0.0    0.907845\n",
       "1.0    0.092155\n",
       "Name: label, dtype: float64"
      ]
     },
     "execution_count": 31,
     "metadata": {},
     "output_type": "execute_result"
    }
   ],
   "source": [
    "data.label.value_counts(normalize=True)"
   ]
  },
  {
   "cell_type": "code",
   "execution_count": 114,
   "id": "e542b682",
   "metadata": {
    "ExecuteTime": {
     "end_time": "2023-12-17T10:36:35.985698Z",
     "start_time": "2023-12-17T10:36:35.651778Z"
    }
   },
   "outputs": [],
   "source": [
    "#data.suspicious_activity_score.hist()"
   ]
  },
  {
   "cell_type": "code",
   "execution_count": 33,
   "id": "7ac29ab2",
   "metadata": {
    "ExecuteTime": {
     "end_time": "2023-12-17T10:36:51.360940Z",
     "start_time": "2023-12-17T10:36:51.052482Z"
    }
   },
   "outputs": [
    {
     "data": {
      "image/png": "[encoded data removed]",
      "text/plain": [
       "<Figure size 640x480 with 1 Axes>"
      ]
     },
     "metadata": {},
     "output_type": "display_data"
    }
   ],
   "source": [
    "# Checking if the dataset is imbalanced\n",
    "data[\"label\"].value_counts(normalize=True).plot(kind=\"bar\")\n",
    "plt.title('Target Distribution')\n",
    "plt.xlabel(\"Fraudulent (No=0, Yes=1)\");"
   ]
  },
  {
   "cell_type": "code",
   "execution_count": 34,
   "id": "227afdba",
   "metadata": {
    "ExecuteTime": {
     "end_time": "2023-12-17T10:36:55.137225Z",
     "start_time": "2023-12-17T10:36:55.104311Z"
    }
   },
   "outputs": [
    {
     "data": {
      "text/plain": [
       "E                                    0.460105\n",
       "S                                    0.272081\n",
       "E;E                                  0.104419\n",
       "S;S                                  0.045553\n",
       "E;E;E                                0.038908\n",
       "                                       ...   \n",
       "S;E;E;E;E;S;S;S;S;S                  0.000005\n",
       "S;S;S;S;E;E;S;S                      0.000005\n",
       "S;S;S;S;S;S;S;S;S;S;S;S;S;S;S;S;S    0.000005\n",
       "E;S;S;E;S                            0.000005\n",
       "S;S;S;S;E;S;E;S                      0.000005\n",
       "Name: shipping_method_type, Length: 156, dtype: float64"
      ]
     },
     "execution_count": 34,
     "metadata": {},
     "output_type": "execute_result"
    }
   ],
   "source": [
    "data.shipping_method_type.value_counts(normalize=True)"
   ]
  },
  {
   "cell_type": "markdown",
   "id": "250e3f8e",
   "metadata": {
    "ExecuteTime": {
     "end_time": "2023-12-17T10:37:05.360272Z",
     "start_time": "2023-12-17T10:37:05.352599Z"
    }
   },
   "source": [
    "# Rndom Forest baseline"
   ]
  },
  {
   "cell_type": "code",
   "execution_count": 167,
   "id": "00c7065f",
   "metadata": {},
   "outputs": [
    {
     "data": {
      "text/html": [
       "<div>\n",
       "<style scoped>\n",
       "    .dataframe tbody tr th:only-of-type {\n",
       "        vertical-align: middle;\n",
       "    }\n",
       "\n",
       "    .dataframe tbody tr th {\n",
       "        vertical-align: top;\n",
       "    }\n",
       "\n",
       "    .dataframe thead th {\n",
       "        text-align: right;\n",
       "    }\n",
       "</style>\n",
       "<table border=\"1\" class=\"dataframe\">\n",
       "  <thead>\n",
       "    <tr style=\"text-align: right;\">\n",
       "      <th></th>\n",
       "      <th>order_id</th>\n",
       "      <th>order_date</th>\n",
       "      <th>amount_usd</th>\n",
       "      <th>payment_method</th>\n",
       "      <th>billing_address_country_code</th>\n",
       "      <th>shipping_address_country_code</th>\n",
       "      <th>avs_code</th>\n",
       "      <th>email_amount_spent_avg_180d</th>\n",
       "      <th>email_orders_count_180d</th>\n",
       "      <th>session_visitor_type</th>\n",
       "      <th>shipping_method_type</th>\n",
       "      <th>card_expiration_date</th>\n",
       "      <th>bin_brand</th>\n",
       "      <th>bin_type</th>\n",
       "      <th>label</th>\n",
       "      <th>suspicious_activity_score</th>\n",
       "    </tr>\n",
       "  </thead>\n",
       "  <tbody>\n",
       "    <tr>\n",
       "      <th>0</th>\n",
       "      <td>181852054</td>\n",
       "      <td>2022-06-02 15:28:13</td>\n",
       "      <td>611.03</td>\n",
       "      <td>payment_method_2</td>\n",
       "      <td>SA</td>\n",
       "      <td>SA</td>\n",
       "      <td>avs_code_8</td>\n",
       "      <td>NaN</td>\n",
       "      <td>NaN</td>\n",
       "      <td>returning</td>\n",
       "      <td>E</td>\n",
       "      <td>05/2025</td>\n",
       "      <td>mastercard</td>\n",
       "      <td>credit</td>\n",
       "      <td>0.0</td>\n",
       "      <td>7.801596</td>\n",
       "    </tr>\n",
       "    <tr>\n",
       "      <th>1</th>\n",
       "      <td>181265052</td>\n",
       "      <td>2022-05-21 15:53:20</td>\n",
       "      <td>334.44</td>\n",
       "      <td>payment_method_1</td>\n",
       "      <td>FR</td>\n",
       "      <td>FR</td>\n",
       "      <td>avs_code_1</td>\n",
       "      <td>591.141667</td>\n",
       "      <td>6.0</td>\n",
       "      <td>returning</td>\n",
       "      <td>S</td>\n",
       "      <td>NaN</td>\n",
       "      <td>NaN</td>\n",
       "      <td>NaN</td>\n",
       "      <td>0.0</td>\n",
       "      <td>8.117476</td>\n",
       "    </tr>\n",
       "    <tr>\n",
       "      <th>2</th>\n",
       "      <td>149633145</td>\n",
       "      <td>2021-09-30 09:05:06</td>\n",
       "      <td>611.85</td>\n",
       "      <td>payment_method_1</td>\n",
       "      <td>HK</td>\n",
       "      <td>HK</td>\n",
       "      <td>avs_code_1</td>\n",
       "      <td>NaN</td>\n",
       "      <td>NaN</td>\n",
       "      <td>returning</td>\n",
       "      <td>E;E</td>\n",
       "      <td>NaN</td>\n",
       "      <td>NaN</td>\n",
       "      <td>NaN</td>\n",
       "      <td>0.0</td>\n",
       "      <td>6.240885</td>\n",
       "    </tr>\n",
       "    <tr>\n",
       "      <th>3</th>\n",
       "      <td>149158895</td>\n",
       "      <td>2021-09-22 15:19:15</td>\n",
       "      <td>198.18</td>\n",
       "      <td>payment_method_2</td>\n",
       "      <td>RU</td>\n",
       "      <td>RU</td>\n",
       "      <td>avs_code_5</td>\n",
       "      <td>473.027368</td>\n",
       "      <td>38.0</td>\n",
       "      <td>returning</td>\n",
       "      <td>E</td>\n",
       "      <td>03/2023</td>\n",
       "      <td>visa</td>\n",
       "      <td>debit</td>\n",
       "      <td>0.0</td>\n",
       "      <td>5.188745</td>\n",
       "    </tr>\n",
       "    <tr>\n",
       "      <th>4</th>\n",
       "      <td>169664695</td>\n",
       "      <td>2022-02-18 08:59:32</td>\n",
       "      <td>434.71</td>\n",
       "      <td>payment_method_3</td>\n",
       "      <td>HK</td>\n",
       "      <td>HK</td>\n",
       "      <td>avs_code_5</td>\n",
       "      <td>NaN</td>\n",
       "      <td>NaN</td>\n",
       "      <td>returning</td>\n",
       "      <td>E</td>\n",
       "      <td>NaN</td>\n",
       "      <td>NaN</td>\n",
       "      <td>NaN</td>\n",
       "      <td>0.0</td>\n",
       "      <td>5.738602</td>\n",
       "    </tr>\n",
       "    <tr>\n",
       "      <th>...</th>\n",
       "      <td>...</td>\n",
       "      <td>...</td>\n",
       "      <td>...</td>\n",
       "      <td>...</td>\n",
       "      <td>...</td>\n",
       "      <td>...</td>\n",
       "      <td>...</td>\n",
       "      <td>...</td>\n",
       "      <td>...</td>\n",
       "      <td>...</td>\n",
       "      <td>...</td>\n",
       "      <td>...</td>\n",
       "      <td>...</td>\n",
       "      <td>...</td>\n",
       "      <td>...</td>\n",
       "      <td>...</td>\n",
       "    </tr>\n",
       "    <tr>\n",
       "      <th>195353</th>\n",
       "      <td>167149142</td>\n",
       "      <td>2022-03-01 13:19:06</td>\n",
       "      <td>726.69</td>\n",
       "      <td>payment_method_2</td>\n",
       "      <td>GB</td>\n",
       "      <td>GB</td>\n",
       "      <td>avs_code_4</td>\n",
       "      <td>NaN</td>\n",
       "      <td>NaN</td>\n",
       "      <td>returning</td>\n",
       "      <td>S</td>\n",
       "      <td>11/2026</td>\n",
       "      <td>mastercard</td>\n",
       "      <td>credit</td>\n",
       "      <td>0.0</td>\n",
       "      <td>11.782501</td>\n",
       "    </tr>\n",
       "    <tr>\n",
       "      <th>195354</th>\n",
       "      <td>165263810</td>\n",
       "      <td>2022-01-16 19:22:01</td>\n",
       "      <td>86.15</td>\n",
       "      <td>payment_method_2</td>\n",
       "      <td>GB</td>\n",
       "      <td>GB</td>\n",
       "      <td>avs_code_3</td>\n",
       "      <td>NaN</td>\n",
       "      <td>NaN</td>\n",
       "      <td>returning</td>\n",
       "      <td>S</td>\n",
       "      <td>05/2025</td>\n",
       "      <td>visa</td>\n",
       "      <td>debit</td>\n",
       "      <td>0.0</td>\n",
       "      <td>3.927349</td>\n",
       "    </tr>\n",
       "    <tr>\n",
       "      <th>195355</th>\n",
       "      <td>173236621</td>\n",
       "      <td>2022-03-26 11:27:15</td>\n",
       "      <td>911.78</td>\n",
       "      <td>payment_method_2</td>\n",
       "      <td>CH</td>\n",
       "      <td>CH</td>\n",
       "      <td>avs_code_6</td>\n",
       "      <td>NaN</td>\n",
       "      <td>NaN</td>\n",
       "      <td>returning</td>\n",
       "      <td>E</td>\n",
       "      <td>02/2025</td>\n",
       "      <td>mastercard</td>\n",
       "      <td>credit</td>\n",
       "      <td>0.0</td>\n",
       "      <td>11.589668</td>\n",
       "    </tr>\n",
       "    <tr>\n",
       "      <th>195356</th>\n",
       "      <td>180836679</td>\n",
       "      <td>2022-05-26 20:38:21</td>\n",
       "      <td>768.00</td>\n",
       "      <td>payment_method_2</td>\n",
       "      <td>US</td>\n",
       "      <td>US</td>\n",
       "      <td>avs_code_8</td>\n",
       "      <td>NaN</td>\n",
       "      <td>NaN</td>\n",
       "      <td>NaN</td>\n",
       "      <td>E</td>\n",
       "      <td>03/2025</td>\n",
       "      <td>visa</td>\n",
       "      <td>credit</td>\n",
       "      <td>1.0</td>\n",
       "      <td>57.867662</td>\n",
       "    </tr>\n",
       "    <tr>\n",
       "      <th>195357</th>\n",
       "      <td>176524088</td>\n",
       "      <td>2022-04-19 23:17:11</td>\n",
       "      <td>668.28</td>\n",
       "      <td>payment_method_2</td>\n",
       "      <td>CA</td>\n",
       "      <td>CA</td>\n",
       "      <td>avs_code_11</td>\n",
       "      <td>527.553333</td>\n",
       "      <td>12.0</td>\n",
       "      <td>returning</td>\n",
       "      <td>E</td>\n",
       "      <td>07/2024</td>\n",
       "      <td>visa</td>\n",
       "      <td>debit</td>\n",
       "      <td>0.0</td>\n",
       "      <td>8.074252</td>\n",
       "    </tr>\n",
       "  </tbody>\n",
       "</table>\n",
       "<p>190343 rows × 16 columns</p>\n",
       "</div>"
      ],
      "text/plain": [
       "         order_id           order_date  amount_usd    payment_method  \\\n",
       "0       181852054  2022-06-02 15:28:13      611.03  payment_method_2   \n",
       "1       181265052  2022-05-21 15:53:20      334.44  payment_method_1   \n",
       "2       149633145  2021-09-30 09:05:06      611.85  payment_method_1   \n",
       "3       149158895  2021-09-22 15:19:15      198.18  payment_method_2   \n",
       "4       169664695  2022-02-18 08:59:32      434.71  payment_method_3   \n",
       "...           ...                  ...         ...               ...   \n",
       "195353  167149142  2022-03-01 13:19:06      726.69  payment_method_2   \n",
       "195354  165263810  2022-01-16 19:22:01       86.15  payment_method_2   \n",
       "195355  173236621  2022-03-26 11:27:15      911.78  payment_method_2   \n",
       "195356  180836679  2022-05-26 20:38:21      768.00  payment_method_2   \n",
       "195357  176524088  2022-04-19 23:17:11      668.28  payment_method_2   \n",
       "\n",
       "       billing_address_country_code shipping_address_country_code  \\\n",
       "0                                SA                            SA   \n",
       "1                                FR                            FR   \n",
       "2                                HK                            HK   \n",
       "3                                RU                            RU   \n",
       "4                                HK                            HK   \n",
       "...                             ...                           ...   \n",
       "195353                           GB                            GB   \n",
       "195354                           GB                            GB   \n",
       "195355                           CH                            CH   \n",
       "195356                           US                            US   \n",
       "195357                           CA                            CA   \n",
       "\n",
       "           avs_code  email_amount_spent_avg_180d  email_orders_count_180d  \\\n",
       "0        avs_code_8                          NaN                      NaN   \n",
       "1        avs_code_1                   591.141667                      6.0   \n",
       "2        avs_code_1                          NaN                      NaN   \n",
       "3        avs_code_5                   473.027368                     38.0   \n",
       "4        avs_code_5                          NaN                      NaN   \n",
       "...             ...                          ...                      ...   \n",
       "195353   avs_code_4                          NaN                      NaN   \n",
       "195354   avs_code_3                          NaN                      NaN   \n",
       "195355   avs_code_6                          NaN                      NaN   \n",
       "195356   avs_code_8                          NaN                      NaN   \n",
       "195357  avs_code_11                   527.553333                     12.0   \n",
       "\n",
       "       session_visitor_type shipping_method_type card_expiration_date  \\\n",
       "0                 returning                    E              05/2025   \n",
       "1                 returning                    S                  NaN   \n",
       "2                 returning                  E;E                  NaN   \n",
       "3                 returning                    E              03/2023   \n",
       "4                 returning                    E                  NaN   \n",
       "...                     ...                  ...                  ...   \n",
       "195353            returning                    S              11/2026   \n",
       "195354            returning                    S              05/2025   \n",
       "195355            returning                    E              02/2025   \n",
       "195356                  NaN                    E              03/2025   \n",
       "195357            returning                    E              07/2024   \n",
       "\n",
       "         bin_brand bin_type  label  suspicious_activity_score  \n",
       "0       mastercard   credit    0.0                   7.801596  \n",
       "1              NaN      NaN    0.0                   8.117476  \n",
       "2              NaN      NaN    0.0                   6.240885  \n",
       "3             visa    debit    0.0                   5.188745  \n",
       "4              NaN      NaN    0.0                   5.738602  \n",
       "...            ...      ...    ...                        ...  \n",
       "195353  mastercard   credit    0.0                  11.782501  \n",
       "195354        visa    debit    0.0                   3.927349  \n",
       "195355  mastercard   credit    0.0                  11.589668  \n",
       "195356        visa   credit    1.0                  57.867662  \n",
       "195357        visa    debit    0.0                   8.074252  \n",
       "\n",
       "[190343 rows x 16 columns]"
      ]
     },
     "execution_count": 167,
     "metadata": {},
     "output_type": "execute_result"
    }
   ],
   "source": [
    "data"
   ]
  },
  {
   "cell_type": "code",
   "execution_count": 171,
   "id": "acf7d135",
   "metadata": {
    "ExecuteTime": {
     "end_time": "2023-12-17T10:38:08.881376Z",
     "start_time": "2023-12-17T10:38:08.871103Z"
    }
   },
   "outputs": [],
   "source": [
    "X = data.drop(columns=['label', 'suspicious_activity_score'])\n",
    "y = data['label']"
   ]
  },
  {
   "cell_type": "code",
   "execution_count": 172,
   "id": "3013a198",
   "metadata": {},
   "outputs": [],
   "source": [
    "X_train, X_test, y_train, y_test = train_test_split(X,\n",
    "                                                    y,\n",
    "                                                    test_size=0.3)"
   ]
  },
  {
   "cell_type": "code",
   "execution_count": 173,
   "id": "461dac8e",
   "metadata": {},
   "outputs": [
    {
     "data": {
      "text/html": [
       "<div>\n",
       "<style scoped>\n",
       "    .dataframe tbody tr th:only-of-type {\n",
       "        vertical-align: middle;\n",
       "    }\n",
       "\n",
       "    .dataframe tbody tr th {\n",
       "        vertical-align: top;\n",
       "    }\n",
       "\n",
       "    .dataframe thead th {\n",
       "        text-align: right;\n",
       "    }\n",
       "</style>\n",
       "<table border=\"1\" class=\"dataframe\">\n",
       "  <thead>\n",
       "    <tr style=\"text-align: right;\">\n",
       "      <th></th>\n",
       "      <th>order_id</th>\n",
       "      <th>order_date</th>\n",
       "      <th>amount_usd</th>\n",
       "      <th>payment_method</th>\n",
       "      <th>billing_address_country_code</th>\n",
       "      <th>shipping_address_country_code</th>\n",
       "      <th>avs_code</th>\n",
       "      <th>email_amount_spent_avg_180d</th>\n",
       "      <th>email_orders_count_180d</th>\n",
       "      <th>session_visitor_type</th>\n",
       "      <th>shipping_method_type</th>\n",
       "      <th>card_expiration_date</th>\n",
       "      <th>bin_brand</th>\n",
       "      <th>bin_type</th>\n",
       "    </tr>\n",
       "  </thead>\n",
       "  <tbody>\n",
       "    <tr>\n",
       "      <th>112013</th>\n",
       "      <td>149271370</td>\n",
       "      <td>2021-09-24 02:22:04</td>\n",
       "      <td>197.530000</td>\n",
       "      <td>payment_method_3</td>\n",
       "      <td>RU</td>\n",
       "      <td>RU</td>\n",
       "      <td>avs_code_5</td>\n",
       "      <td>NaN</td>\n",
       "      <td>NaN</td>\n",
       "      <td>returning</td>\n",
       "      <td>E</td>\n",
       "      <td>NaN</td>\n",
       "      <td>NaN</td>\n",
       "      <td>NaN</td>\n",
       "    </tr>\n",
       "    <tr>\n",
       "      <th>37946</th>\n",
       "      <td>171598073</td>\n",
       "      <td>2022-03-13 13:16:10</td>\n",
       "      <td>511.310000</td>\n",
       "      <td>payment_method_2</td>\n",
       "      <td>KR</td>\n",
       "      <td>KR</td>\n",
       "      <td>avs_code_6</td>\n",
       "      <td>780.03</td>\n",
       "      <td>5.0</td>\n",
       "      <td>returning</td>\n",
       "      <td>E;E;E</td>\n",
       "      <td>06/2024</td>\n",
       "      <td>mastercard</td>\n",
       "      <td>credit</td>\n",
       "    </tr>\n",
       "    <tr>\n",
       "      <th>183361</th>\n",
       "      <td>188070888</td>\n",
       "      <td>2022-05-31 15:07:55</td>\n",
       "      <td>663.855714</td>\n",
       "      <td>payment_method_2</td>\n",
       "      <td>BR</td>\n",
       "      <td>BR</td>\n",
       "      <td>avs_code_4</td>\n",
       "      <td>NaN</td>\n",
       "      <td>NaN</td>\n",
       "      <td>returning</td>\n",
       "      <td>E</td>\n",
       "      <td>10/2025</td>\n",
       "      <td>visa</td>\n",
       "      <td>credit</td>\n",
       "    </tr>\n",
       "    <tr>\n",
       "      <th>50768</th>\n",
       "      <td>188404475</td>\n",
       "      <td>2022-07-19 16:57:25</td>\n",
       "      <td>518.230000</td>\n",
       "      <td>payment_method_2</td>\n",
       "      <td>TW</td>\n",
       "      <td>TW</td>\n",
       "      <td>avs_code_5</td>\n",
       "      <td>NaN</td>\n",
       "      <td>NaN</td>\n",
       "      <td>returning</td>\n",
       "      <td>E</td>\n",
       "      <td>09/2022</td>\n",
       "      <td>visa</td>\n",
       "      <td>credit</td>\n",
       "    </tr>\n",
       "    <tr>\n",
       "      <th>113615</th>\n",
       "      <td>172999962</td>\n",
       "      <td>2022-04-01 12:38:44</td>\n",
       "      <td>41.730000</td>\n",
       "      <td>payment_method_2</td>\n",
       "      <td>GB</td>\n",
       "      <td>GB</td>\n",
       "      <td>avs_code_13</td>\n",
       "      <td>NaN</td>\n",
       "      <td>NaN</td>\n",
       "      <td>NaN</td>\n",
       "      <td>N</td>\n",
       "      <td>04/2024</td>\n",
       "      <td>amex</td>\n",
       "      <td>credit</td>\n",
       "    </tr>\n",
       "  </tbody>\n",
       "</table>\n",
       "</div>"
      ],
      "text/plain": [
       "         order_id           order_date  amount_usd    payment_method  \\\n",
       "112013  149271370  2021-09-24 02:22:04  197.530000  payment_method_3   \n",
       "37946   171598073  2022-03-13 13:16:10  511.310000  payment_method_2   \n",
       "183361  188070888  2022-05-31 15:07:55  663.855714  payment_method_2   \n",
       "50768   188404475  2022-07-19 16:57:25  518.230000  payment_method_2   \n",
       "113615  172999962  2022-04-01 12:38:44   41.730000  payment_method_2   \n",
       "\n",
       "       billing_address_country_code shipping_address_country_code  \\\n",
       "112013                           RU                            RU   \n",
       "37946                            KR                            KR   \n",
       "183361                           BR                            BR   \n",
       "50768                            TW                            TW   \n",
       "113615                           GB                            GB   \n",
       "\n",
       "           avs_code  email_amount_spent_avg_180d  email_orders_count_180d  \\\n",
       "112013   avs_code_5                          NaN                      NaN   \n",
       "37946    avs_code_6                       780.03                      5.0   \n",
       "183361   avs_code_4                          NaN                      NaN   \n",
       "50768    avs_code_5                          NaN                      NaN   \n",
       "113615  avs_code_13                          NaN                      NaN   \n",
       "\n",
       "       session_visitor_type shipping_method_type card_expiration_date  \\\n",
       "112013            returning                    E                  NaN   \n",
       "37946             returning                E;E;E              06/2024   \n",
       "183361            returning                    E              10/2025   \n",
       "50768             returning                    E              09/2022   \n",
       "113615                  NaN                    N              04/2024   \n",
       "\n",
       "         bin_brand bin_type  \n",
       "112013         NaN      NaN  \n",
       "37946   mastercard   credit  \n",
       "183361        visa   credit  \n",
       "50768         visa   credit  \n",
       "113615        amex   credit  "
      ]
     },
     "execution_count": 173,
     "metadata": {},
     "output_type": "execute_result"
    }
   ],
   "source": [
    "X_train.head()"
   ]
  },
  {
   "cell_type": "code",
   "execution_count": 174,
   "id": "53496b22",
   "metadata": {},
   "outputs": [
    {
     "data": {
      "text/html": [
       "<style>#sk-container-id-6 {color: black;}#sk-container-id-6 pre{padding: 0;}#sk-container-id-6 div.sk-toggleable {background-color: white;}#sk-container-id-6 label.sk-toggleable__label {cursor: pointer;display: block;width: 100%;margin-bottom: 0;padding: 0.3em;box-sizing: border-box;text-align: center;}#sk-container-id-6 label.sk-toggleable__label-arrow:before {content: \"▸\";float: left;margin-right: 0.25em;color: #696969;}#sk-container-id-6 label.sk-toggleable__label-arrow:hover:before {color: black;}#sk-container-id-6 div.sk-estimator:hover label.sk-toggleable__label-arrow:before {color: black;}#sk-container-id-6 div.sk-toggleable__content {max-height: 0;max-width: 0;overflow: hidden;text-align: left;background-color: #f0f8ff;}#sk-container-id-6 div.sk-toggleable__content pre {margin: 0.2em;color: black;border-radius: 0.25em;background-color: #f0f8ff;}#sk-container-id-6 input.sk-toggleable__control:checked~div.sk-toggleable__content {max-height: 200px;max-width: 100%;overflow: auto;}#sk-container-id-6 input.sk-toggleable__control:checked~label.sk-toggleable__label-arrow:before {content: \"▾\";}#sk-container-id-6 div.sk-estimator input.sk-toggleable__control:checked~label.sk-toggleable__label {background-color: #d4ebff;}#sk-container-id-6 div.sk-label input.sk-toggleable__control:checked~label.sk-toggleable__label {background-color: #d4ebff;}#sk-container-id-6 input.sk-hidden--visually {border: 0;clip: rect(1px 1px 1px 1px);clip: rect(1px, 1px, 1px, 1px);height: 1px;margin: -1px;overflow: hidden;padding: 0;position: absolute;width: 1px;}#sk-container-id-6 div.sk-estimator {font-family: monospace;background-color: #f0f8ff;border: 1px dotted black;border-radius: 0.25em;box-sizing: border-box;margin-bottom: 0.5em;}#sk-container-id-6 div.sk-estimator:hover {background-color: #d4ebff;}#sk-container-id-6 div.sk-parallel-item::after {content: \"\";width: 100%;border-bottom: 1px solid gray;flex-grow: 1;}#sk-container-id-6 div.sk-label:hover label.sk-toggleable__label {background-color: #d4ebff;}#sk-container-id-6 div.sk-serial::before {content: \"\";position: absolute;border-left: 1px solid gray;box-sizing: border-box;top: 0;bottom: 0;left: 50%;z-index: 0;}#sk-container-id-6 div.sk-serial {display: flex;flex-direction: column;align-items: center;background-color: white;padding-right: 0.2em;padding-left: 0.2em;position: relative;}#sk-container-id-6 div.sk-item {position: relative;z-index: 1;}#sk-container-id-6 div.sk-parallel {display: flex;align-items: stretch;justify-content: center;background-color: white;position: relative;}#sk-container-id-6 div.sk-item::before, #sk-container-id-6 div.sk-parallel-item::before {content: \"\";position: absolute;border-left: 1px solid gray;box-sizing: border-box;top: 0;bottom: 0;left: 50%;z-index: -1;}#sk-container-id-6 div.sk-parallel-item {display: flex;flex-direction: column;z-index: 1;position: relative;background-color: white;}#sk-container-id-6 div.sk-parallel-item:first-child::after {align-self: flex-end;width: 50%;}#sk-container-id-6 div.sk-parallel-item:last-child::after {align-self: flex-start;width: 50%;}#sk-container-id-6 div.sk-parallel-item:only-child::after {width: 0;}#sk-container-id-6 div.sk-dashed-wrapped {border: 1px dashed gray;margin: 0 0.4em 0.5em 0.4em;box-sizing: border-box;padding-bottom: 0.4em;background-color: white;}#sk-container-id-6 div.sk-label label {font-family: monospace;font-weight: bold;display: inline-block;line-height: 1.2em;}#sk-container-id-6 div.sk-label-container {text-align: center;}#sk-container-id-6 div.sk-container {/* jupyter's `normalize.less` sets `[hidden] { display: none; }` but bootstrap.min.css set `[hidden] { display: none !important; }` so we also need the `!important` here to be able to override the default hidden behavior on the sphinx rendered scikit-learn.org. See: https://github.com/scikit-learn/scikit-learn/issues/21755 */display: inline-block !important;position: relative;}#sk-container-id-6 div.sk-text-repr-fallback {display: none;}</style><div id=\"sk-container-id-6\" class=\"sk-top-container\"><div class=\"sk-text-repr-fallback\"><pre>Pipeline(steps=[(&#x27;remove_duplicates&#x27;, Duplicates()),\n",
       "                (&#x27;new_column_same_country&#x27;, SameCountry()),\n",
       "                (&#x27;new_column_AvgAmountSpentPerOrder180d&#x27;,\n",
       "                 AvgAmountSpentPerOrder180d()),\n",
       "                (&#x27;new_column_time_transformed&#x27;, DateTime()),\n",
       "                (&#x27;new_column_shippingMethod&#x27;, shippingMethodType()),\n",
       "                (&#x27;Payment_Method_Transformed&#x27;, PaymentMethod()),\n",
       "                (&#x27;preprocessor&#x27;,\n",
       "                 ColumnTransformer(transformer...\n",
       "                                                 (&#x27;num_transformer&#x27;,\n",
       "                                                  Pipeline(steps=[(&#x27;fillna&#x27;,\n",
       "                                                                   SimpleImputer(fill_value=0,\n",
       "                                                                                 strategy=&#x27;constant&#x27;)),\n",
       "                                                                  (&#x27;robust_scaler&#x27;,\n",
       "                                                                   RobustScaler())]),\n",
       "                                                  [&#x27;amount_usd&#x27;,\n",
       "                                                   &#x27;email_amount_spent_avg_180d&#x27;,\n",
       "                                                   &#x27;email_orders_count_180d&#x27;,\n",
       "                                                   &#x27;avg_amount_spent_per_order_180d&#x27;,\n",
       "                                                   &#x27;time_transformed&#x27;,\n",
       "                                                   &#x27;n_order_items&#x27;])])),\n",
       "                (&#x27;model&#x27;,\n",
       "                 RandomForestClassifier(class_weight=&#x27;balanced&#x27;, max_depth=5,\n",
       "                                        min_samples_leaf=5))])</pre><b>In a Jupyter environment, please rerun this cell to show the HTML representation or trust the notebook. <br />On GitHub, the HTML representation is unable to render, please try loading this page with nbviewer.org.</b></div><div class=\"sk-container\" hidden><div class=\"sk-item sk-dashed-wrapped\"><div class=\"sk-label-container\"><div class=\"sk-label sk-toggleable\"><input class=\"sk-toggleable__control sk-hidden--visually\" id=\"sk-estimator-id-56\" type=\"checkbox\" ><label for=\"sk-estimator-id-56\" class=\"sk-toggleable__label sk-toggleable__label-arrow\">Pipeline</label><div class=\"sk-toggleable__content\"><pre>Pipeline(steps=[(&#x27;remove_duplicates&#x27;, Duplicates()),\n",
       "                (&#x27;new_column_same_country&#x27;, SameCountry()),\n",
       "                (&#x27;new_column_AvgAmountSpentPerOrder180d&#x27;,\n",
       "                 AvgAmountSpentPerOrder180d()),\n",
       "                (&#x27;new_column_time_transformed&#x27;, DateTime()),\n",
       "                (&#x27;new_column_shippingMethod&#x27;, shippingMethodType()),\n",
       "                (&#x27;Payment_Method_Transformed&#x27;, PaymentMethod()),\n",
       "                (&#x27;preprocessor&#x27;,\n",
       "                 ColumnTransformer(transformer...\n",
       "                                                 (&#x27;num_transformer&#x27;,\n",
       "                                                  Pipeline(steps=[(&#x27;fillna&#x27;,\n",
       "                                                                   SimpleImputer(fill_value=0,\n",
       "                                                                                 strategy=&#x27;constant&#x27;)),\n",
       "                                                                  (&#x27;robust_scaler&#x27;,\n",
       "                                                                   RobustScaler())]),\n",
       "                                                  [&#x27;amount_usd&#x27;,\n",
       "                                                   &#x27;email_amount_spent_avg_180d&#x27;,\n",
       "                                                   &#x27;email_orders_count_180d&#x27;,\n",
       "                                                   &#x27;avg_amount_spent_per_order_180d&#x27;,\n",
       "                                                   &#x27;time_transformed&#x27;,\n",
       "                                                   &#x27;n_order_items&#x27;])])),\n",
       "                (&#x27;model&#x27;,\n",
       "                 RandomForestClassifier(class_weight=&#x27;balanced&#x27;, max_depth=5,\n",
       "                                        min_samples_leaf=5))])</pre></div></div></div><div class=\"sk-serial\"><div class=\"sk-item\"><div class=\"sk-estimator sk-toggleable\"><input class=\"sk-toggleable__control sk-hidden--visually\" id=\"sk-estimator-id-57\" type=\"checkbox\" ><label for=\"sk-estimator-id-57\" class=\"sk-toggleable__label sk-toggleable__label-arrow\">Duplicates</label><div class=\"sk-toggleable__content\"><pre>Duplicates()</pre></div></div></div><div class=\"sk-item\"><div class=\"sk-estimator sk-toggleable\"><input class=\"sk-toggleable__control sk-hidden--visually\" id=\"sk-estimator-id-58\" type=\"checkbox\" ><label for=\"sk-estimator-id-58\" class=\"sk-toggleable__label sk-toggleable__label-arrow\">SameCountry</label><div class=\"sk-toggleable__content\"><pre>SameCountry()</pre></div></div></div><div class=\"sk-item\"><div class=\"sk-estimator sk-toggleable\"><input class=\"sk-toggleable__control sk-hidden--visually\" id=\"sk-estimator-id-59\" type=\"checkbox\" ><label for=\"sk-estimator-id-59\" class=\"sk-toggleable__label sk-toggleable__label-arrow\">AvgAmountSpentPerOrder180d</label><div class=\"sk-toggleable__content\"><pre>AvgAmountSpentPerOrder180d()</pre></div></div></div><div class=\"sk-item\"><div class=\"sk-estimator sk-toggleable\"><input class=\"sk-toggleable__control sk-hidden--visually\" id=\"sk-estimator-id-60\" type=\"checkbox\" ><label for=\"sk-estimator-id-60\" class=\"sk-toggleable__label sk-toggleable__label-arrow\">DateTime</label><div class=\"sk-toggleable__content\"><pre>DateTime()</pre></div></div></div><div class=\"sk-item\"><div class=\"sk-estimator sk-toggleable\"><input class=\"sk-toggleable__control sk-hidden--visually\" id=\"sk-estimator-id-61\" type=\"checkbox\" ><label for=\"sk-estimator-id-61\" class=\"sk-toggleable__label sk-toggleable__label-arrow\">shippingMethodType</label><div class=\"sk-toggleable__content\"><pre>shippingMethodType()</pre></div></div></div><div class=\"sk-item\"><div class=\"sk-estimator sk-toggleable\"><input class=\"sk-toggleable__control sk-hidden--visually\" id=\"sk-estimator-id-62\" type=\"checkbox\" ><label for=\"sk-estimator-id-62\" class=\"sk-toggleable__label sk-toggleable__label-arrow\">PaymentMethod</label><div class=\"sk-toggleable__content\"><pre>PaymentMethod()</pre></div></div></div><div class=\"sk-item sk-dashed-wrapped\"><div class=\"sk-label-container\"><div class=\"sk-label sk-toggleable\"><input class=\"sk-toggleable__control sk-hidden--visually\" id=\"sk-estimator-id-63\" type=\"checkbox\" ><label for=\"sk-estimator-id-63\" class=\"sk-toggleable__label sk-toggleable__label-arrow\">preprocessor: ColumnTransformer</label><div class=\"sk-toggleable__content\"><pre>ColumnTransformer(transformers=[(&#x27;num&#x27;,\n",
       "                                 Pipeline(steps=[(&#x27;fillna&#x27;,\n",
       "                                                  SimpleImputer(fill_value=0,\n",
       "                                                                strategy=&#x27;constant&#x27;)),\n",
       "                                                 (&#x27;robust_scaler&#x27;,\n",
       "                                                  RobustScaler())]),\n",
       "                                 [&#x27;amount_usd&#x27;, &#x27;email_amount_spent_avg_180d&#x27;,\n",
       "                                  &#x27;email_orders_count_180d&#x27;,\n",
       "                                  &#x27;avg_amount_spent_per_order_180d&#x27;,\n",
       "                                  &#x27;time_transformed&#x27;, &#x27;n_order_items&#x27;]),\n",
       "                                (&#x27;cat_transformer&#x27;,\n",
       "                                 Pipeline(steps=[(&#x27;imputer&#x27;,\n",
       "                                                  SimpleImputer(...\n",
       "                                  &#x27;shipping_address_country_code&#x27;, &#x27;avs_code&#x27;,\n",
       "                                  &#x27;session_visitor_type&#x27;, &#x27;bin_brand&#x27;,\n",
       "                                  &#x27;bin_type&#x27;]),\n",
       "                                (&#x27;num_transformer&#x27;,\n",
       "                                 Pipeline(steps=[(&#x27;fillna&#x27;,\n",
       "                                                  SimpleImputer(fill_value=0,\n",
       "                                                                strategy=&#x27;constant&#x27;)),\n",
       "                                                 (&#x27;robust_scaler&#x27;,\n",
       "                                                  RobustScaler())]),\n",
       "                                 [&#x27;amount_usd&#x27;, &#x27;email_amount_spent_avg_180d&#x27;,\n",
       "                                  &#x27;email_orders_count_180d&#x27;,\n",
       "                                  &#x27;avg_amount_spent_per_order_180d&#x27;,\n",
       "                                  &#x27;time_transformed&#x27;, &#x27;n_order_items&#x27;])])</pre></div></div></div><div class=\"sk-parallel\"><div class=\"sk-parallel-item\"><div class=\"sk-item\"><div class=\"sk-label-container\"><div class=\"sk-label sk-toggleable\"><input class=\"sk-toggleable__control sk-hidden--visually\" id=\"sk-estimator-id-64\" type=\"checkbox\" ><label for=\"sk-estimator-id-64\" class=\"sk-toggleable__label sk-toggleable__label-arrow\">num</label><div class=\"sk-toggleable__content\"><pre>[&#x27;amount_usd&#x27;, &#x27;email_amount_spent_avg_180d&#x27;, &#x27;email_orders_count_180d&#x27;, &#x27;avg_amount_spent_per_order_180d&#x27;, &#x27;time_transformed&#x27;, &#x27;n_order_items&#x27;]</pre></div></div></div><div class=\"sk-serial\"><div class=\"sk-item\"><div class=\"sk-serial\"><div class=\"sk-item\"><div class=\"sk-estimator sk-toggleable\"><input class=\"sk-toggleable__control sk-hidden--visually\" id=\"sk-estimator-id-65\" type=\"checkbox\" ><label for=\"sk-estimator-id-65\" class=\"sk-toggleable__label sk-toggleable__label-arrow\">SimpleImputer</label><div class=\"sk-toggleable__content\"><pre>SimpleImputer(fill_value=0, strategy=&#x27;constant&#x27;)</pre></div></div></div><div class=\"sk-item\"><div class=\"sk-estimator sk-toggleable\"><input class=\"sk-toggleable__control sk-hidden--visually\" id=\"sk-estimator-id-66\" type=\"checkbox\" ><label for=\"sk-estimator-id-66\" class=\"sk-toggleable__label sk-toggleable__label-arrow\">RobustScaler</label><div class=\"sk-toggleable__content\"><pre>RobustScaler()</pre></div></div></div></div></div></div></div></div><div class=\"sk-parallel-item\"><div class=\"sk-item\"><div class=\"sk-label-container\"><div class=\"sk-label sk-toggleable\"><input class=\"sk-toggleable__control sk-hidden--visually\" id=\"sk-estimator-id-67\" type=\"checkbox\" ><label for=\"sk-estimator-id-67\" class=\"sk-toggleable__label sk-toggleable__label-arrow\">cat_transformer</label><div class=\"sk-toggleable__content\"><pre>[&#x27;payment_method&#x27;, &#x27;billing_address_country_code&#x27;, &#x27;shipping_address_country_code&#x27;, &#x27;avs_code&#x27;, &#x27;session_visitor_type&#x27;, &#x27;bin_brand&#x27;, &#x27;bin_type&#x27;]</pre></div></div></div><div class=\"sk-serial\"><div class=\"sk-item\"><div class=\"sk-serial\"><div class=\"sk-item\"><div class=\"sk-estimator sk-toggleable\"><input class=\"sk-toggleable__control sk-hidden--visually\" id=\"sk-estimator-id-68\" type=\"checkbox\" ><label for=\"sk-estimator-id-68\" class=\"sk-toggleable__label sk-toggleable__label-arrow\">SimpleImputer</label><div class=\"sk-toggleable__content\"><pre>SimpleImputer(fill_value=&#x27;unknown&#x27;, strategy=&#x27;constant&#x27;)</pre></div></div></div><div class=\"sk-item\"><div class=\"sk-estimator sk-toggleable\"><input class=\"sk-toggleable__control sk-hidden--visually\" id=\"sk-estimator-id-69\" type=\"checkbox\" ><label for=\"sk-estimator-id-69\" class=\"sk-toggleable__label sk-toggleable__label-arrow\">OneHotEncoder</label><div class=\"sk-toggleable__content\"><pre>OneHotEncoder(handle_unknown=&#x27;ignore&#x27;, sparse_output=False)</pre></div></div></div></div></div></div></div></div><div class=\"sk-parallel-item\"><div class=\"sk-item\"><div class=\"sk-label-container\"><div class=\"sk-label sk-toggleable\"><input class=\"sk-toggleable__control sk-hidden--visually\" id=\"sk-estimator-id-70\" type=\"checkbox\" ><label for=\"sk-estimator-id-70\" class=\"sk-toggleable__label sk-toggleable__label-arrow\">num_transformer</label><div class=\"sk-toggleable__content\"><pre>[&#x27;amount_usd&#x27;, &#x27;email_amount_spent_avg_180d&#x27;, &#x27;email_orders_count_180d&#x27;, &#x27;avg_amount_spent_per_order_180d&#x27;, &#x27;time_transformed&#x27;, &#x27;n_order_items&#x27;]</pre></div></div></div><div class=\"sk-serial\"><div class=\"sk-item\"><div class=\"sk-serial\"><div class=\"sk-item\"><div class=\"sk-estimator sk-toggleable\"><input class=\"sk-toggleable__control sk-hidden--visually\" id=\"sk-estimator-id-71\" type=\"checkbox\" ><label for=\"sk-estimator-id-71\" class=\"sk-toggleable__label sk-toggleable__label-arrow\">SimpleImputer</label><div class=\"sk-toggleable__content\"><pre>SimpleImputer(fill_value=0, strategy=&#x27;constant&#x27;)</pre></div></div></div><div class=\"sk-item\"><div class=\"sk-estimator sk-toggleable\"><input class=\"sk-toggleable__control sk-hidden--visually\" id=\"sk-estimator-id-72\" type=\"checkbox\" ><label for=\"sk-estimator-id-72\" class=\"sk-toggleable__label sk-toggleable__label-arrow\">RobustScaler</label><div class=\"sk-toggleable__content\"><pre>RobustScaler()</pre></div></div></div></div></div></div></div></div></div></div><div class=\"sk-item\"><div class=\"sk-estimator sk-toggleable\"><input class=\"sk-toggleable__control sk-hidden--visually\" id=\"sk-estimator-id-73\" type=\"checkbox\" ><label for=\"sk-estimator-id-73\" class=\"sk-toggleable__label sk-toggleable__label-arrow\">RandomForestClassifier</label><div class=\"sk-toggleable__content\"><pre>RandomForestClassifier(class_weight=&#x27;balanced&#x27;, max_depth=5, min_samples_leaf=5)</pre></div></div></div></div></div></div></div>"
      ],
      "text/plain": [
       "Pipeline(steps=[('remove_duplicates', Duplicates()),\n",
       "                ('new_column_same_country', SameCountry()),\n",
       "                ('new_column_AvgAmountSpentPerOrder180d',\n",
       "                 AvgAmountSpentPerOrder180d()),\n",
       "                ('new_column_time_transformed', DateTime()),\n",
       "                ('new_column_shippingMethod', shippingMethodType()),\n",
       "                ('Payment_Method_Transformed', PaymentMethod()),\n",
       "                ('preprocessor',\n",
       "                 ColumnTransformer(transformer...\n",
       "                                                 ('num_transformer',\n",
       "                                                  Pipeline(steps=[('fillna',\n",
       "                                                                   SimpleImputer(fill_value=0,\n",
       "                                                                                 strategy='constant')),\n",
       "                                                                  ('robust_scaler',\n",
       "                                                                   RobustScaler())]),\n",
       "                                                  ['amount_usd',\n",
       "                                                   'email_amount_spent_avg_180d',\n",
       "                                                   'email_orders_count_180d',\n",
       "                                                   'avg_amount_spent_per_order_180d',\n",
       "                                                   'time_transformed',\n",
       "                                                   'n_order_items'])])),\n",
       "                ('model',\n",
       "                 RandomForestClassifier(class_weight='balanced', max_depth=5,\n",
       "                                        min_samples_leaf=5))])"
      ]
     },
     "execution_count": 174,
     "metadata": {},
     "output_type": "execute_result"
    }
   ],
   "source": [
    "# Fit the model\n",
    "pipeline.fit(X_train, y_train)"
   ]
  },
  {
   "cell_type": "code",
   "execution_count": 175,
   "id": "72414b09",
   "metadata": {},
   "outputs": [],
   "source": [
    "cv_results = cross_validate(pipeline, X_train, y_train, scoring = ['roc_auc'], cv=5)\n",
    "#['accuracy', 'f1', 'roc_auc','recall','precision', 'f1_macro']"
   ]
  },
  {
   "cell_type": "code",
   "execution_count": 176,
   "id": "06324f7b",
   "metadata": {},
   "outputs": [
    {
     "data": {
      "text/plain": [
       "{'fit_time': array([146.43497491, 145.16392779, 161.1237812 ,  62.54116988,\n",
       "        106.18001699]),\n",
       " 'score_time': array([5.8000319 , 9.2318902 , 7.97697091, 6.00857115, 8.6855278 ]),\n",
       " 'test_roc_auc': array([0.89584821, 0.8991369 , 0.89816463, 0.89932857, 0.89745648])}"
      ]
     },
     "execution_count": 176,
     "metadata": {},
     "output_type": "execute_result"
    }
   ],
   "source": [
    "cv_results"
   ]
  },
  {
   "cell_type": "code",
   "execution_count": 179,
   "id": "9ec0ec07",
   "metadata": {},
   "outputs": [
    {
     "data": {
      "text/plain": [
       "0.8979869559154776"
      ]
     },
     "execution_count": 179,
     "metadata": {},
     "output_type": "execute_result"
    }
   ],
   "source": [
    "cv_results['test_roc_auc'].mean()"
   ]
  },
  {
   "cell_type": "code",
   "execution_count": 180,
   "id": "b6b45df4",
   "metadata": {},
   "outputs": [],
   "source": [
    "y_pred = pipeline.predict(X_test)"
   ]
  },
  {
   "cell_type": "code",
   "execution_count": 181,
   "id": "0139ca0a",
   "metadata": {},
   "outputs": [
    {
     "name": "stdout",
     "output_type": "stream",
     "text": [
      "Number of correct predictions: 41135 \n",
      " Percentage: 0.7203649545558026\n"
     ]
    }
   ],
   "source": [
    "correct_predictions = (y_pred == y_test).sum()\n",
    "print(f\"Number of correct predictions: {correct_predictions} \\n Percentage: {correct_predictions/y_test.shape[0]}\")\n"
   ]
  },
  {
   "cell_type": "code",
   "execution_count": 182,
   "id": "a2c41e24",
   "metadata": {},
   "outputs": [
    {
     "name": "stdout",
     "output_type": "stream",
     "text": [
      "Score: 0.81\n"
     ]
    },
    {
     "data": {
      "image/png": "[encoded data removed]",
      "text/plain": [
       "<Figure size 640x480 with 1 Axes>"
      ]
     },
     "metadata": {},
     "output_type": "display_data"
    }
   ],
   "source": [
    "fpr, tpr, threshold = roc_curve(y_test, y_pred)\n",
    "roc_auc = auc(fpr, tpr)\n",
    "\n",
    "plt.title('Receiver Operating Characteristic')\n",
    "plt.plot(fpr, tpr, 'b', label = 'AUC = %0.2f' % roc_auc)\n",
    "plt.legend(loc = 'lower right')\n",
    "plt.plot([0, 1], [0, 1],'r--')\n",
    "plt.xlim([0, 1])\n",
    "plt.ylim([0, 1])\n",
    "plt.ylabel('True Positive Rate')\n",
    "plt.xlabel('False Positive Rate')\n",
    "print(\"Score: \"+ str(round(roc_auc,3)))\n",
    "plt.show()"
   ]
  },
  {
   "cell_type": "markdown",
   "id": "f66433e5",
   "metadata": {},
   "source": [
    "# Plots"
   ]
  },
  {
   "cell_type": "code",
   "execution_count": 38,
   "id": "cc406a0c",
   "metadata": {
    "ExecuteTime": {
     "end_time": "2023-12-17T10:56:22.146578Z",
     "start_time": "2023-12-17T10:56:21.450217Z"
    }
   },
   "outputs": [
    {
     "data": {
      "image/png": "[encoded data removed]",
      "text/plain": [
       "<Figure size 1200x500 with 2 Axes>"
      ]
     },
     "metadata": {},
     "output_type": "display_data"
    }
   ],
   "source": [
    "# Create a figure and axis for the plots\n",
    "fig, axs = plt.subplots(1, 2, figsize=(12, 5))\n",
    "\n",
    "# Plot the box plot on the first axis\n",
    "data.amount_usd.plot(kind='box', ax=axs[0])\n",
    "axs[0].set_title('Box Plot')\n",
    "\n",
    "# Plot the histogram on the second axis\n",
    "data.amount_usd.hist(ax=axs[1])\n",
    "axs[1].set_title('Histogram')\n",
    "\n",
    "# Adjust layout for better spacing\n",
    "plt.tight_layout()\n",
    "\n",
    "# Show the plots\n",
    "plt.show()"
   ]
  },
  {
   "cell_type": "code",
   "execution_count": 39,
   "id": "abfd4f03",
   "metadata": {
    "ExecuteTime": {
     "end_time": "2023-12-17T10:56:42.537337Z",
     "start_time": "2023-12-17T10:56:41.958827Z"
    }
   },
   "outputs": [
    {
     "data": {
      "image/png": "[encoded data removed]",
      "text/plain": [
       "<Figure size 1200x500 with 2 Axes>"
      ]
     },
     "metadata": {},
     "output_type": "display_data"
    }
   ],
   "source": [
    "# Create a figure and axis for the plots\n",
    "fig, axs = plt.subplots(1, 2, figsize=(12, 5))\n",
    "\n",
    "# Plot the box plot on the first axis\n",
    "data.email_amount_spent_avg_180d.plot(kind='box', ax=axs[0])\n",
    "axs[0].set_title('Box Plot')\n",
    "\n",
    "# Plot the histogram on the second axis\n",
    "data.email_amount_spent_avg_180d.hist(ax=axs[1])\n",
    "axs[1].set_title('Histogram')\n",
    "\n",
    "# Adjust layout for better spacing\n",
    "plt.tight_layout()\n",
    "\n",
    "# Show the plots\n",
    "plt.show()"
   ]
  },
  {
   "cell_type": "code",
   "execution_count": 40,
   "id": "db17fd4b",
   "metadata": {
    "ExecuteTime": {
     "end_time": "2023-12-17T10:57:12.769148Z",
     "start_time": "2023-12-17T10:57:12.737742Z"
    }
   },
   "outputs": [
    {
     "data": {
      "text/plain": [
       "count    97330.000000\n",
       "mean       601.481166\n",
       "std        613.035292\n",
       "min          1.480000\n",
       "25%        290.040000\n",
       "50%        459.951591\n",
       "75%        729.676012\n",
       "max      50585.300000\n",
       "Name: email_amount_spent_avg_180d, dtype: float64"
      ]
     },
     "execution_count": 40,
     "metadata": {},
     "output_type": "execute_result"
    }
   ],
   "source": [
    "data.email_amount_spent_avg_180d.describe()"
   ]
  },
  {
   "cell_type": "code",
   "execution_count": 41,
   "id": "29610007",
   "metadata": {
    "ExecuteTime": {
     "end_time": "2023-12-17T10:58:05.568501Z",
     "start_time": "2023-12-17T10:58:04.961678Z"
    }
   },
   "outputs": [
    {
     "data": {
      "image/png": "[encoded data removed]",
      "text/plain": [
       "<Figure size 1200x500 with 2 Axes>"
      ]
     },
     "metadata": {},
     "output_type": "display_data"
    }
   ],
   "source": [
    "# Create a figure and axis for the plots\n",
    "fig, axs = plt.subplots(1, 2, figsize=(12, 5))\n",
    "\n",
    "# Plot the box plot on the first axis\n",
    "data.email_orders_count_180d.plot(kind='box', ax=axs[0])\n",
    "axs[0].set_title('Box Plot')\n",
    "\n",
    "# Plot the histogram on the second axis\n",
    "data.email_orders_count_180d.hist(ax=axs[1])\n",
    "axs[1].set_title('Histogram')\n",
    "\n",
    "# Adjust layout for better spacing\n",
    "plt.tight_layout()\n",
    "\n",
    "# Show the plots\n",
    "plt.show()"
   ]
  },
  {
   "cell_type": "code",
   "execution_count": 42,
   "id": "da553fe5",
   "metadata": {
    "ExecuteTime": {
     "end_time": "2023-12-17T10:58:20.257695Z",
     "start_time": "2023-12-17T10:58:20.228180Z"
    }
   },
   "outputs": [
    {
     "data": {
      "text/plain": [
       "count    96643.000000\n",
       "mean        16.579369\n",
       "std         59.206061\n",
       "min          1.000000\n",
       "25%          1.000000\n",
       "50%          4.000000\n",
       "75%         10.000000\n",
       "max       1355.000000\n",
       "Name: email_orders_count_180d, dtype: float64"
      ]
     },
     "execution_count": 42,
     "metadata": {},
     "output_type": "execute_result"
    }
   ],
   "source": [
    "data.email_orders_count_180d.describe()"
   ]
  },
  {
   "cell_type": "code",
   "execution_count": 43,
   "id": "3a7c7c13",
   "metadata": {
    "ExecuteTime": {
     "end_time": "2023-12-17T10:59:06.280787Z",
     "start_time": "2023-12-17T10:59:05.521260Z"
    }
   },
   "outputs": [
    {
     "data": {
      "image/png": "[encoded data removed]",
      "text/plain": [
       "<Figure size 1200x500 with 2 Axes>"
      ]
     },
     "metadata": {},
     "output_type": "display_data"
    }
   ],
   "source": [
    "# Create a figure and axis for the plots\n",
    "fig, axs = plt.subplots(1, 2, figsize=(12, 5))\n",
    "\n",
    "# Plot the box plot on the first axis\n",
    "data.suspicious_activity_score.plot(kind='box', ax=axs[0])\n",
    "axs[0].set_title('Box Plot')\n",
    "\n",
    "# Plot the histogram on the second axis\n",
    "data.suspicious_activity_score.hist(ax=axs[1])\n",
    "axs[1].set_title('Histogram')\n",
    "\n",
    "# Adjust layout for better spacing\n",
    "plt.tight_layout()\n",
    "\n",
    "# Show the plots\n",
    "plt.show()"
   ]
  },
  {
   "cell_type": "code",
   "execution_count": 44,
   "id": "6189e7e4",
   "metadata": {
    "ExecuteTime": {
     "end_time": "2023-12-17T10:58:48.721499Z",
     "start_time": "2023-12-17T10:58:48.700532Z"
    }
   },
   "outputs": [
    {
     "data": {
      "text/plain": [
       "count    190348.000000\n",
       "mean         11.273443\n",
       "std          15.030916\n",
       "min           0.177196\n",
       "25%           4.414114\n",
       "50%           6.325071\n",
       "75%           9.487706\n",
       "max          69.523928\n",
       "Name: suspicious_activity_score, dtype: float64"
      ]
     },
     "execution_count": 44,
     "metadata": {},
     "output_type": "execute_result"
    }
   ],
   "source": [
    "data.suspicious_activity_score.describe()"
   ]
  },
  {
   "cell_type": "code",
   "execution_count": 45,
   "id": "2ec46be2",
   "metadata": {
    "ExecuteTime": {
     "end_time": "2023-12-17T11:01:07.155431Z",
     "start_time": "2023-12-17T11:01:06.839916Z"
    }
   },
   "outputs": [
    {
     "data": {
      "image/png": "[encoded data removed]",
      "text/plain": [
       "<Figure size 640x480 with 1 Axes>"
      ]
     },
     "metadata": {},
     "output_type": "display_data"
    }
   ],
   "source": [
    "data.payment_method.value_counts(dropna=False).plot(kind='bar', color='skyblue');"
   ]
  },
  {
   "cell_type": "code",
   "execution_count": 46,
   "id": "0168c64f",
   "metadata": {
    "ExecuteTime": {
     "end_time": "2023-12-17T11:01:38.598661Z",
     "start_time": "2023-12-17T11:01:38.104813Z"
    }
   },
   "outputs": [
    {
     "data": {
      "image/png": "[encoded data removed]",
      "text/plain": [
       "<Figure size 640x480 with 1 Axes>"
      ]
     },
     "metadata": {},
     "output_type": "display_data"
    }
   ],
   "source": [
    "data.avs_code.value_counts(dropna=False).plot(kind='bar');"
   ]
  },
  {
   "cell_type": "code",
   "execution_count": 47,
   "id": "02650e94",
   "metadata": {
    "ExecuteTime": {
     "end_time": "2023-12-17T11:01:54.008592Z",
     "start_time": "2023-12-17T11:01:53.666086Z"
    }
   },
   "outputs": [
    {
     "data": {
      "image/png": "[encoded data removed]",
      "text/plain": [
       "<Figure size 640x480 with 1 Axes>"
      ]
     },
     "metadata": {},
     "output_type": "display_data"
    }
   ],
   "source": [
    "data.bin_brand.value_counts(dropna=False).plot(kind='bar');"
   ]
  },
  {
   "cell_type": "code",
   "execution_count": 48,
   "id": "d62c69f7",
   "metadata": {
    "ExecuteTime": {
     "end_time": "2023-12-17T11:02:12.691170Z",
     "start_time": "2023-12-17T11:02:12.405157Z"
    }
   },
   "outputs": [
    {
     "data": {
      "image/png": "[encoded data removed]",
      "text/plain": [
       "<Figure size 640x480 with 1 Axes>"
      ]
     },
     "metadata": {},
     "output_type": "display_data"
    }
   ],
   "source": [
    "data.bin_type.value_counts(dropna=False).plot(kind='bar');"
   ]
  },
  {
   "cell_type": "code",
   "execution_count": 49,
   "id": "f0d051be",
   "metadata": {
    "ExecuteTime": {
     "end_time": "2023-12-17T11:02:24.437705Z",
     "start_time": "2023-12-17T11:02:24.174468Z"
    }
   },
   "outputs": [
    {
     "data": {
      "image/png": "[encoded data removed]",
      "text/plain": [
       "<Figure size 640x480 with 1 Axes>"
      ]
     },
     "metadata": {},
     "output_type": "display_data"
    }
   ],
   "source": [
    "data.session_visitor_type.value_counts(dropna=False).plot(kind='bar');"
   ]
  },
  {
   "cell_type": "markdown",
   "id": "250ee1aa",
   "metadata": {},
   "source": [
    "# Test model"
   ]
  },
  {
   "cell_type": "code",
   "execution_count": 51,
   "id": "f673c4e1",
   "metadata": {
    "ExecuteTime": {
     "end_time": "2023-12-17T12:22:15.506051Z",
     "start_time": "2023-12-17T12:22:15.500247Z"
    }
   },
   "outputs": [],
   "source": [
    "columns_to_keep = ['amount_usd','email_amount_spent_avg_180d',\n",
    "                   'email_orders_count_180d', 'suspicious_activity_score',\n",
    "                   'payment_method', 'avs_code',\n",
    "                   'bin_brand' , 'bin_type',\n",
    "                   'session_visitor_type']"
   ]
  },
  {
   "cell_type": "code",
   "execution_count": 52,
   "id": "f8362150",
   "metadata": {
    "ExecuteTime": {
     "end_time": "2023-12-17T12:22:16.508145Z",
     "start_time": "2023-12-17T12:22:16.449433Z"
    }
   },
   "outputs": [
    {
     "name": "stderr",
     "output_type": "stream",
     "text": [
      "/var/folders/zy/9r4gn9b574gdnv2l9zms0bz40000gn/T/ipykernel_35549/2831706733.py:1: SettingWithCopyWarning: \n",
      "A value is trying to be set on a copy of a slice from a DataFrame\n",
      "\n",
      "See the caveats in the documentation: https://pandas.pydata.org/pandas-docs/stable/user_guide/indexing.html#returning-a-view-versus-a-copy\n",
      "  data.dropna(subset = ['label'],inplace=True)\n"
     ]
    }
   ],
   "source": [
    "data.dropna(subset = ['label'],inplace=True)\n"
   ]
  },
  {
   "cell_type": "code",
   "execution_count": 53,
   "id": "2a5e7f8c",
   "metadata": {
    "ExecuteTime": {
     "end_time": "2023-12-17T12:23:37.802137Z",
     "start_time": "2023-12-17T12:23:37.785357Z"
    }
   },
   "outputs": [],
   "source": [
    "#X = data[columns_to_keep]\n",
    "#y = data['label']"
   ]
  },
  {
   "cell_type": "code",
   "execution_count": null,
   "id": "c39f2903",
   "metadata": {},
   "outputs": [],
   "source": []
  },
  {
   "cell_type": "code",
   "execution_count": 54,
   "id": "11b3c023",
   "metadata": {
    "ExecuteTime": {
     "end_time": "2023-12-17T12:23:43.549920Z",
     "start_time": "2023-12-17T12:23:43.536561Z"
    }
   },
   "outputs": [
    {
     "data": {
      "text/plain": [
       "0.0    172802\n",
       "1.0     17541\n",
       "Name: label, dtype: int64"
      ]
     },
     "execution_count": 54,
     "metadata": {},
     "output_type": "execute_result"
    }
   ],
   "source": [
    "y.value_counts(dropna=False)"
   ]
  },
  {
   "cell_type": "code",
   "execution_count": 55,
   "id": "35b4af3e",
   "metadata": {
    "ExecuteTime": {
     "end_time": "2023-12-17T12:23:44.902895Z",
     "start_time": "2023-12-17T12:23:44.747256Z"
    }
   },
   "outputs": [],
   "source": [
    "X_train, X_test, y_train, y_test = train_test_split(X, y, test_size=0.3, random_state=42, stratify=y)\n"
   ]
  },
  {
   "cell_type": "code",
   "execution_count": 56,
   "id": "2f875ba5",
   "metadata": {
    "ExecuteTime": {
     "end_time": "2023-12-17T12:23:46.315626Z",
     "start_time": "2023-12-17T12:23:46.301674Z"
    }
   },
   "outputs": [],
   "source": [
    "num_cols = ['amount_usd',\n",
    "'email_amount_spent_avg_180d',\n",
    "'email_orders_count_180d',\n",
    "'suspicious_activity_score']\n",
    "\n",
    "cat_cols = ['payment_method', 'avs_code',\n",
    "            'bin_brand' , 'bin_type',\n",
    "            'session_visitor_type']"
   ]
  },
  {
   "cell_type": "code",
   "execution_count": 68,
   "id": "342f7081",
   "metadata": {
    "ExecuteTime": {
     "end_time": "2023-12-17T12:23:47.561792Z",
     "start_time": "2023-12-17T12:23:47.550284Z"
    }
   },
   "outputs": [],
   "source": [
    "# Scale then numerical values:\n",
    "num_transformer = Pipeline(steps=[\n",
    "    ('imputer', SimpleImputer(strategy='median')),  # Impute with media\n",
    "    ('Robust_scaler', RobustScaler())\n",
    "])\n",
    "\n",
    "# Encode categorical values\n",
    "cat_transformer = Pipeline(steps=[\n",
    "    ('imputer', SimpleImputer(strategy='most_frequent')),\n",
    "    ('OHE', OneHotEncoder(handle_unknown='ignore', sparse_output=False))\n",
    "\n",
    "])\n",
    "\n",
    "# Define column transformer\n",
    "# Parallelize \"num_transformer\" and \"cat_transfomer\"\n",
    "preprocessor = ColumnTransformer(\n",
    "    transformers = [\n",
    "        ('cat_transformer', cat_transformer, cat_cols),\n",
    "        ('num_transformer', num_transformer, num_cols)\n",
    "    ]\n",
    ")"
   ]
  },
  {
   "cell_type": "code",
   "execution_count": 69,
   "id": "a22fff60",
   "metadata": {
    "ExecuteTime": {
     "end_time": "2023-12-17T12:23:48.143375Z",
     "start_time": "2023-12-17T12:23:48.132947Z"
    }
   },
   "outputs": [],
   "source": [
    "model_rf = RandomForestClassifier(n_estimators=100,\n",
    "                                  max_depth=5,\n",
    "                                  min_samples_leaf=5,\n",
    "                                  class_weight='balanced')\n"
   ]
  },
  {
   "cell_type": "code",
   "execution_count": 70,
   "id": "ec0fd648",
   "metadata": {
    "ExecuteTime": {
     "end_time": "2023-12-17T12:23:49.654955Z",
     "start_time": "2023-12-17T12:23:49.641941Z"
    }
   },
   "outputs": [],
   "source": [
    "# Create pipeline\n",
    "pipeline = Pipeline(steps=[('preprocessor', preprocessor),\n",
    "                           ('classifier', model_rf)])\n"
   ]
  },
  {
   "cell_type": "code",
   "execution_count": 71,
   "id": "24d925dd",
   "metadata": {
    "ExecuteTime": {
     "end_time": "2023-12-17T12:23:50.726716Z",
     "start_time": "2023-12-17T12:23:50.708738Z"
    }
   },
   "outputs": [
    {
     "data": {
      "text/plain": [
       "((133240, 9), (133240,))"
      ]
     },
     "execution_count": 71,
     "metadata": {},
     "output_type": "execute_result"
    }
   ],
   "source": [
    "X_train.shape, y_train.shape"
   ]
  },
  {
   "cell_type": "code",
   "execution_count": 72,
   "id": "dbce67a4",
   "metadata": {
    "ExecuteTime": {
     "end_time": "2023-12-17T12:24:05.239900Z",
     "start_time": "2023-12-17T12:23:53.791943Z"
    }
   },
   "outputs": [
    {
     "data": {
      "text/html": [
       "<style>#sk-container-id-2 {color: black;}#sk-container-id-2 pre{padding: 0;}#sk-container-id-2 div.sk-toggleable {background-color: white;}#sk-container-id-2 label.sk-toggleable__label {cursor: pointer;display: block;width: 100%;margin-bottom: 0;padding: 0.3em;box-sizing: border-box;text-align: center;}#sk-container-id-2 label.sk-toggleable__label-arrow:before {content: \"▸\";float: left;margin-right: 0.25em;color: #696969;}#sk-container-id-2 label.sk-toggleable__label-arrow:hover:before {color: black;}#sk-container-id-2 div.sk-estimator:hover label.sk-toggleable__label-arrow:before {color: black;}#sk-container-id-2 div.sk-toggleable__content {max-height: 0;max-width: 0;overflow: hidden;text-align: left;background-color: #f0f8ff;}#sk-container-id-2 div.sk-toggleable__content pre {margin: 0.2em;color: black;border-radius: 0.25em;background-color: #f0f8ff;}#sk-container-id-2 input.sk-toggleable__control:checked~div.sk-toggleable__content {max-height: 200px;max-width: 100%;overflow: auto;}#sk-container-id-2 input.sk-toggleable__control:checked~label.sk-toggleable__label-arrow:before {content: \"▾\";}#sk-container-id-2 div.sk-estimator input.sk-toggleable__control:checked~label.sk-toggleable__label {background-color: #d4ebff;}#sk-container-id-2 div.sk-label input.sk-toggleable__control:checked~label.sk-toggleable__label {background-color: #d4ebff;}#sk-container-id-2 input.sk-hidden--visually {border: 0;clip: rect(1px 1px 1px 1px);clip: rect(1px, 1px, 1px, 1px);height: 1px;margin: -1px;overflow: hidden;padding: 0;position: absolute;width: 1px;}#sk-container-id-2 div.sk-estimator {font-family: monospace;background-color: #f0f8ff;border: 1px dotted black;border-radius: 0.25em;box-sizing: border-box;margin-bottom: 0.5em;}#sk-container-id-2 div.sk-estimator:hover {background-color: #d4ebff;}#sk-container-id-2 div.sk-parallel-item::after {content: \"\";width: 100%;border-bottom: 1px solid gray;flex-grow: 1;}#sk-container-id-2 div.sk-label:hover label.sk-toggleable__label {background-color: #d4ebff;}#sk-container-id-2 div.sk-serial::before {content: \"\";position: absolute;border-left: 1px solid gray;box-sizing: border-box;top: 0;bottom: 0;left: 50%;z-index: 0;}#sk-container-id-2 div.sk-serial {display: flex;flex-direction: column;align-items: center;background-color: white;padding-right: 0.2em;padding-left: 0.2em;position: relative;}#sk-container-id-2 div.sk-item {position: relative;z-index: 1;}#sk-container-id-2 div.sk-parallel {display: flex;align-items: stretch;justify-content: center;background-color: white;position: relative;}#sk-container-id-2 div.sk-item::before, #sk-container-id-2 div.sk-parallel-item::before {content: \"\";position: absolute;border-left: 1px solid gray;box-sizing: border-box;top: 0;bottom: 0;left: 50%;z-index: -1;}#sk-container-id-2 div.sk-parallel-item {display: flex;flex-direction: column;z-index: 1;position: relative;background-color: white;}#sk-container-id-2 div.sk-parallel-item:first-child::after {align-self: flex-end;width: 50%;}#sk-container-id-2 div.sk-parallel-item:last-child::after {align-self: flex-start;width: 50%;}#sk-container-id-2 div.sk-parallel-item:only-child::after {width: 0;}#sk-container-id-2 div.sk-dashed-wrapped {border: 1px dashed gray;margin: 0 0.4em 0.5em 0.4em;box-sizing: border-box;padding-bottom: 0.4em;background-color: white;}#sk-container-id-2 div.sk-label label {font-family: monospace;font-weight: bold;display: inline-block;line-height: 1.2em;}#sk-container-id-2 div.sk-label-container {text-align: center;}#sk-container-id-2 div.sk-container {/* jupyter's `normalize.less` sets `[hidden] { display: none; }` but bootstrap.min.css set `[hidden] { display: none !important; }` so we also need the `!important` here to be able to override the default hidden behavior on the sphinx rendered scikit-learn.org. See: https://github.com/scikit-learn/scikit-learn/issues/21755 */display: inline-block !important;position: relative;}#sk-container-id-2 div.sk-text-repr-fallback {display: none;}</style><div id=\"sk-container-id-2\" class=\"sk-top-container\"><div class=\"sk-text-repr-fallback\"><pre>Pipeline(steps=[(&#x27;preprocessor&#x27;,\n",
       "                 ColumnTransformer(transformers=[(&#x27;cat_transformer&#x27;,\n",
       "                                                  Pipeline(steps=[(&#x27;imputer&#x27;,\n",
       "                                                                   SimpleImputer(strategy=&#x27;most_frequent&#x27;)),\n",
       "                                                                  (&#x27;OHE&#x27;,\n",
       "                                                                   OneHotEncoder(handle_unknown=&#x27;ignore&#x27;,\n",
       "                                                                                 sparse_output=False))]),\n",
       "                                                  [&#x27;payment_method&#x27;, &#x27;avs_code&#x27;,\n",
       "                                                   &#x27;bin_brand&#x27;, &#x27;bin_type&#x27;,\n",
       "                                                   &#x27;session_visitor_type&#x27;]),\n",
       "                                                 (&#x27;num_transformer&#x27;,\n",
       "                                                  Pipeline(steps=[(&#x27;imputer&#x27;,\n",
       "                                                                   SimpleImputer(strategy=&#x27;median&#x27;)),\n",
       "                                                                  (&#x27;Robust_scaler&#x27;,\n",
       "                                                                   RobustScaler())]),\n",
       "                                                  [&#x27;amount_usd&#x27;,\n",
       "                                                   &#x27;email_amount_spent_avg_180d&#x27;,\n",
       "                                                   &#x27;email_orders_count_180d&#x27;,\n",
       "                                                   &#x27;suspicious_activity_score&#x27;])])),\n",
       "                (&#x27;classifier&#x27;,\n",
       "                 RandomForestClassifier(class_weight=&#x27;balanced&#x27;, max_depth=5,\n",
       "                                        min_samples_leaf=5))])</pre><b>In a Jupyter environment, please rerun this cell to show the HTML representation or trust the notebook. <br />On GitHub, the HTML representation is unable to render, please try loading this page with nbviewer.org.</b></div><div class=\"sk-container\" hidden><div class=\"sk-item sk-dashed-wrapped\"><div class=\"sk-label-container\"><div class=\"sk-label sk-toggleable\"><input class=\"sk-toggleable__control sk-hidden--visually\" id=\"sk-estimator-id-10\" type=\"checkbox\" ><label for=\"sk-estimator-id-10\" class=\"sk-toggleable__label sk-toggleable__label-arrow\">Pipeline</label><div class=\"sk-toggleable__content\"><pre>Pipeline(steps=[(&#x27;preprocessor&#x27;,\n",
       "                 ColumnTransformer(transformers=[(&#x27;cat_transformer&#x27;,\n",
       "                                                  Pipeline(steps=[(&#x27;imputer&#x27;,\n",
       "                                                                   SimpleImputer(strategy=&#x27;most_frequent&#x27;)),\n",
       "                                                                  (&#x27;OHE&#x27;,\n",
       "                                                                   OneHotEncoder(handle_unknown=&#x27;ignore&#x27;,\n",
       "                                                                                 sparse_output=False))]),\n",
       "                                                  [&#x27;payment_method&#x27;, &#x27;avs_code&#x27;,\n",
       "                                                   &#x27;bin_brand&#x27;, &#x27;bin_type&#x27;,\n",
       "                                                   &#x27;session_visitor_type&#x27;]),\n",
       "                                                 (&#x27;num_transformer&#x27;,\n",
       "                                                  Pipeline(steps=[(&#x27;imputer&#x27;,\n",
       "                                                                   SimpleImputer(strategy=&#x27;median&#x27;)),\n",
       "                                                                  (&#x27;Robust_scaler&#x27;,\n",
       "                                                                   RobustScaler())]),\n",
       "                                                  [&#x27;amount_usd&#x27;,\n",
       "                                                   &#x27;email_amount_spent_avg_180d&#x27;,\n",
       "                                                   &#x27;email_orders_count_180d&#x27;,\n",
       "                                                   &#x27;suspicious_activity_score&#x27;])])),\n",
       "                (&#x27;classifier&#x27;,\n",
       "                 RandomForestClassifier(class_weight=&#x27;balanced&#x27;, max_depth=5,\n",
       "                                        min_samples_leaf=5))])</pre></div></div></div><div class=\"sk-serial\"><div class=\"sk-item sk-dashed-wrapped\"><div class=\"sk-label-container\"><div class=\"sk-label sk-toggleable\"><input class=\"sk-toggleable__control sk-hidden--visually\" id=\"sk-estimator-id-11\" type=\"checkbox\" ><label for=\"sk-estimator-id-11\" class=\"sk-toggleable__label sk-toggleable__label-arrow\">preprocessor: ColumnTransformer</label><div class=\"sk-toggleable__content\"><pre>ColumnTransformer(transformers=[(&#x27;cat_transformer&#x27;,\n",
       "                                 Pipeline(steps=[(&#x27;imputer&#x27;,\n",
       "                                                  SimpleImputer(strategy=&#x27;most_frequent&#x27;)),\n",
       "                                                 (&#x27;OHE&#x27;,\n",
       "                                                  OneHotEncoder(handle_unknown=&#x27;ignore&#x27;,\n",
       "                                                                sparse_output=False))]),\n",
       "                                 [&#x27;payment_method&#x27;, &#x27;avs_code&#x27;, &#x27;bin_brand&#x27;,\n",
       "                                  &#x27;bin_type&#x27;, &#x27;session_visitor_type&#x27;]),\n",
       "                                (&#x27;num_transformer&#x27;,\n",
       "                                 Pipeline(steps=[(&#x27;imputer&#x27;,\n",
       "                                                  SimpleImputer(strategy=&#x27;median&#x27;)),\n",
       "                                                 (&#x27;Robust_scaler&#x27;,\n",
       "                                                  RobustScaler())]),\n",
       "                                 [&#x27;amount_usd&#x27;, &#x27;email_amount_spent_avg_180d&#x27;,\n",
       "                                  &#x27;email_orders_count_180d&#x27;,\n",
       "                                  &#x27;suspicious_activity_score&#x27;])])</pre></div></div></div><div class=\"sk-parallel\"><div class=\"sk-parallel-item\"><div class=\"sk-item\"><div class=\"sk-label-container\"><div class=\"sk-label sk-toggleable\"><input class=\"sk-toggleable__control sk-hidden--visually\" id=\"sk-estimator-id-12\" type=\"checkbox\" ><label for=\"sk-estimator-id-12\" class=\"sk-toggleable__label sk-toggleable__label-arrow\">cat_transformer</label><div class=\"sk-toggleable__content\"><pre>[&#x27;payment_method&#x27;, &#x27;avs_code&#x27;, &#x27;bin_brand&#x27;, &#x27;bin_type&#x27;, &#x27;session_visitor_type&#x27;]</pre></div></div></div><div class=\"sk-serial\"><div class=\"sk-item\"><div class=\"sk-serial\"><div class=\"sk-item\"><div class=\"sk-estimator sk-toggleable\"><input class=\"sk-toggleable__control sk-hidden--visually\" id=\"sk-estimator-id-13\" type=\"checkbox\" ><label for=\"sk-estimator-id-13\" class=\"sk-toggleable__label sk-toggleable__label-arrow\">SimpleImputer</label><div class=\"sk-toggleable__content\"><pre>SimpleImputer(strategy=&#x27;most_frequent&#x27;)</pre></div></div></div><div class=\"sk-item\"><div class=\"sk-estimator sk-toggleable\"><input class=\"sk-toggleable__control sk-hidden--visually\" id=\"sk-estimator-id-14\" type=\"checkbox\" ><label for=\"sk-estimator-id-14\" class=\"sk-toggleable__label sk-toggleable__label-arrow\">OneHotEncoder</label><div class=\"sk-toggleable__content\"><pre>OneHotEncoder(handle_unknown=&#x27;ignore&#x27;, sparse_output=False)</pre></div></div></div></div></div></div></div></div><div class=\"sk-parallel-item\"><div class=\"sk-item\"><div class=\"sk-label-container\"><div class=\"sk-label sk-toggleable\"><input class=\"sk-toggleable__control sk-hidden--visually\" id=\"sk-estimator-id-15\" type=\"checkbox\" ><label for=\"sk-estimator-id-15\" class=\"sk-toggleable__label sk-toggleable__label-arrow\">num_transformer</label><div class=\"sk-toggleable__content\"><pre>[&#x27;amount_usd&#x27;, &#x27;email_amount_spent_avg_180d&#x27;, &#x27;email_orders_count_180d&#x27;, &#x27;suspicious_activity_score&#x27;]</pre></div></div></div><div class=\"sk-serial\"><div class=\"sk-item\"><div class=\"sk-serial\"><div class=\"sk-item\"><div class=\"sk-estimator sk-toggleable\"><input class=\"sk-toggleable__control sk-hidden--visually\" id=\"sk-estimator-id-16\" type=\"checkbox\" ><label for=\"sk-estimator-id-16\" class=\"sk-toggleable__label sk-toggleable__label-arrow\">SimpleImputer</label><div class=\"sk-toggleable__content\"><pre>SimpleImputer(strategy=&#x27;median&#x27;)</pre></div></div></div><div class=\"sk-item\"><div class=\"sk-estimator sk-toggleable\"><input class=\"sk-toggleable__control sk-hidden--visually\" id=\"sk-estimator-id-17\" type=\"checkbox\" ><label for=\"sk-estimator-id-17\" class=\"sk-toggleable__label sk-toggleable__label-arrow\">RobustScaler</label><div class=\"sk-toggleable__content\"><pre>RobustScaler()</pre></div></div></div></div></div></div></div></div></div></div><div class=\"sk-item\"><div class=\"sk-estimator sk-toggleable\"><input class=\"sk-toggleable__control sk-hidden--visually\" id=\"sk-estimator-id-18\" type=\"checkbox\" ><label for=\"sk-estimator-id-18\" class=\"sk-toggleable__label sk-toggleable__label-arrow\">RandomForestClassifier</label><div class=\"sk-toggleable__content\"><pre>RandomForestClassifier(class_weight=&#x27;balanced&#x27;, max_depth=5, min_samples_leaf=5)</pre></div></div></div></div></div></div></div>"
      ],
      "text/plain": [
       "Pipeline(steps=[('preprocessor',\n",
       "                 ColumnTransformer(transformers=[('cat_transformer',\n",
       "                                                  Pipeline(steps=[('imputer',\n",
       "                                                                   SimpleImputer(strategy='most_frequent')),\n",
       "                                                                  ('OHE',\n",
       "                                                                   OneHotEncoder(handle_unknown='ignore',\n",
       "                                                                                 sparse_output=False))]),\n",
       "                                                  ['payment_method', 'avs_code',\n",
       "                                                   'bin_brand', 'bin_type',\n",
       "                                                   'session_visitor_type']),\n",
       "                                                 ('num_transformer',\n",
       "                                                  Pipeline(steps=[('imputer',\n",
       "                                                                   SimpleImputer(strategy='median')),\n",
       "                                                                  ('Robust_scaler',\n",
       "                                                                   RobustScaler())]),\n",
       "                                                  ['amount_usd',\n",
       "                                                   'email_amount_spent_avg_180d',\n",
       "                                                   'email_orders_count_180d',\n",
       "                                                   'suspicious_activity_score'])])),\n",
       "                ('classifier',\n",
       "                 RandomForestClassifier(class_weight='balanced', max_depth=5,\n",
       "                                        min_samples_leaf=5))])"
      ]
     },
     "execution_count": 72,
     "metadata": {},
     "output_type": "execute_result"
    }
   ],
   "source": [
    "# Fit the model\n",
    "pipeline.fit(X_train, y_train)"
   ]
  },
  {
   "cell_type": "markdown",
   "id": "31e58031",
   "metadata": {},
   "source": [
    "# Cross val"
   ]
  },
  {
   "cell_type": "code",
   "execution_count": 73,
   "id": "83ec0add",
   "metadata": {
    "ExecuteTime": {
     "end_time": "2023-12-17T12:51:49.126542Z",
     "start_time": "2023-12-17T12:51:02.886763Z"
    }
   },
   "outputs": [],
   "source": [
    "#cv_results = cross_validate(pipeline, X_train, y_train, scoring = ['roc_auc'], cv=5)\n",
    "#['accuracy', 'f1', 'roc_auc','recall','precision', 'f1_macro']"
   ]
  },
  {
   "cell_type": "code",
   "execution_count": 75,
   "id": "29321ea5",
   "metadata": {
    "ExecuteTime": {
     "end_time": "2023-12-17T12:51:49.182488Z",
     "start_time": "2023-12-17T12:51:49.130884Z"
    }
   },
   "outputs": [
    {
     "name": "stdout",
     "output_type": "stream",
     "text": [
      " fit_time: 13.91954231262207\n",
      " score_time: 0.49178643226623536\n",
      " test_roc_auc: 1.0\n"
     ]
    }
   ],
   "source": [
    "#cv_results\n",
    "#for i in cv_results:\n",
    "#    print(f' {i}: {cv_results[i].mean()}')"
   ]
  },
  {
   "cell_type": "code",
   "execution_count": 76,
   "id": "a900cb5d",
   "metadata": {
    "ExecuteTime": {
     "end_time": "2023-12-17T12:52:50.158965Z",
     "start_time": "2023-12-17T12:52:47.446291Z"
    }
   },
   "outputs": [],
   "source": [
    "#X_train_proc = pd.DataFrame(preprocessor.fit_transform(X_train),\n",
    "#            columns=preprocessor.get_feature_names_out())\n",
    "#"
   ]
  },
  {
   "cell_type": "code",
   "execution_count": 122,
   "id": "5058d8b7",
   "metadata": {
    "ExecuteTime": {
     "end_time": "2023-12-17T12:53:27.737002Z",
     "start_time": "2023-12-17T12:52:55.687257Z"
    }
   },
   "outputs": [],
   "source": [
    "#cv_results = cross_validate(model_rf, X_train_proc, y_train, scoring = ['accuracy', 'f1', 'roc_auc','recall','precision'], cv=5)\n"
   ]
  },
  {
   "cell_type": "code",
   "execution_count": 123,
   "id": "705625aa",
   "metadata": {},
   "outputs": [
    {
     "name": "stdout",
     "output_type": "stream",
     "text": [
      " fit_time: 51.463960027694704\n",
      " score_time: 3.719663619995117\n",
      " test_roc_auc: 0.9999978320231359\n"
     ]
    }
   ],
   "source": [
    "\n",
    "cv_results\n",
    "for i in cv_results:\n",
    "    print(f' {i}: {cv_results[i].mean()}')\n"
   ]
  },
  {
   "cell_type": "code",
   "execution_count": 124,
   "id": "b36669ea",
   "metadata": {
    "ExecuteTime": {
     "end_time": "2023-12-17T12:53:48.748879Z",
     "start_time": "2023-12-17T12:53:41.239419Z"
    }
   },
   "outputs": [],
   "source": [
    "#model_rf.fit(X_train_proc,y_train)"
   ]
  },
  {
   "cell_type": "code",
   "execution_count": 125,
   "id": "4c9a99c2",
   "metadata": {
    "ExecuteTime": {
     "end_time": "2023-12-17T12:53:50.855025Z",
     "start_time": "2023-12-17T12:53:49.976942Z"
    }
   },
   "outputs": [],
   "source": [
    "#model_rf.score(preprocessor.transform(X_test), y_test)"
   ]
  },
  {
   "cell_type": "code",
   "execution_count": 126,
   "id": "cf2b3f9e",
   "metadata": {
    "ExecuteTime": {
     "end_time": "2023-12-17T12:53:56.086151Z",
     "start_time": "2023-12-17T12:53:55.061766Z"
    }
   },
   "outputs": [],
   "source": [
    "#y_pred = model_rf.predict(preprocessor.transform(X_test))\n"
   ]
  },
  {
   "cell_type": "code",
   "execution_count": 183,
   "id": "2c997b3c",
   "metadata": {
    "ExecuteTime": {
     "end_time": "2023-12-17T12:53:57.223408Z",
     "start_time": "2023-12-17T12:53:57.210873Z"
    }
   },
   "outputs": [
    {
     "data": {
      "text/plain": [
       "((57103,), (57103,))"
      ]
     },
     "execution_count": 183,
     "metadata": {},
     "output_type": "execute_result"
    }
   ],
   "source": [
    "y_test.shape, y_pred.shape"
   ]
  },
  {
   "cell_type": "code",
   "execution_count": 185,
   "id": "4601691c",
   "metadata": {
    "ExecuteTime": {
     "end_time": "2023-12-17T12:53:58.992080Z",
     "start_time": "2023-12-17T12:53:58.980903Z"
    }
   },
   "outputs": [
    {
     "name": "stdout",
     "output_type": "stream",
     "text": [
      "Number of correct predictions: 41135 \n",
      " Percentage: 0.7203649545558026\n"
     ]
    }
   ],
   "source": [
    "correct_predictions = (y_pred == y_test).sum()\n",
    "print(f\"Number of correct predictions: {correct_predictions} \\n Percentage: {correct_predictions/y_test.shape[0]}\")\n"
   ]
  },
  {
   "cell_type": "code",
   "execution_count": 186,
   "id": "a4c4b69a",
   "metadata": {
    "ExecuteTime": {
     "end_time": "2023-12-17T12:54:00.905786Z",
     "start_time": "2023-12-17T12:54:00.485628Z"
    }
   },
   "outputs": [
    {
     "data": {
      "image/png": "[encoded data removed]",
      "text/plain": [
       "<Figure size 800x600 with 2 Axes>"
      ]
     },
     "metadata": {},
     "output_type": "display_data"
    }
   ],
   "source": [
    "cm = confusion_matrix(y_test, y_pred)\n",
    "\n",
    "# Plotting using seaborn for better aesthetics\n",
    "plt.figure(figsize=(8, 6))\n",
    "sns.heatmap(cm, annot=True, fmt=\"d\", cmap=\"Blues\")\n",
    "plt.title(\"Confusion Matrix\")\n",
    "plt.ylabel(\"True Labels\")\n",
    "plt.xlabel(\"Predicted Labels\")\n",
    "plt.show()"
   ]
  },
  {
   "cell_type": "code",
   "execution_count": 187,
   "id": "bf1df075",
   "metadata": {
    "ExecuteTime": {
     "end_time": "2023-12-17T12:54:03.273056Z",
     "start_time": "2023-12-17T12:54:03.060109Z"
    }
   },
   "outputs": [
    {
     "name": "stdout",
     "output_type": "stream",
     "text": [
      "              precision    recall  f1-score   support\n",
      "\n",
      "         0.0       0.99      0.70      0.82     51925\n",
      "         1.0       0.23      0.92      0.37      5178\n",
      "\n",
      "    accuracy                           0.72     57103\n",
      "   macro avg       0.61      0.81      0.60     57103\n",
      "weighted avg       0.92      0.72      0.78     57103\n",
      "\n"
     ]
    }
   ],
   "source": [
    "print(classification_report(y_test, y_pred))"
   ]
  },
  {
   "cell_type": "code",
   "execution_count": 188,
   "id": "bb1acba3",
   "metadata": {
    "ExecuteTime": {
     "end_time": "2023-12-17T12:54:05.205433Z",
     "start_time": "2023-12-17T12:54:05.174794Z"
    }
   },
   "outputs": [
    {
     "name": "stdout",
     "output_type": "stream",
     "text": [
      "Percentage of correct predictions for label 0: 70.06%\n",
      "Percentage of correct predictions for label 1: 91.85%\n"
     ]
    }
   ],
   "source": [
    "TN, FP, FN, TP = cm.ravel()\n",
    "\n",
    "percentage_correct_0 = TN / (TN + FP) * 100\n",
    "percentage_correct_1 = TP / (TP + FN) * 100\n",
    "\n",
    "print(f\"Percentage of correct predictions for label 0: {percentage_correct_0:.2f}%\")\n",
    "print(f\"Percentage of correct predictions for label 1: {percentage_correct_1:.2f}%\")\n"
   ]
  },
  {
   "cell_type": "code",
   "execution_count": 189,
   "id": "b295ba77",
   "metadata": {
    "ExecuteTime": {
     "end_time": "2023-12-17T12:54:06.427845Z",
     "start_time": "2023-12-17T12:54:06.118007Z"
    }
   },
   "outputs": [
    {
     "data": {
      "image/png": "[encoded data removed]",
      "text/plain": [
       "<Figure size 640x480 with 1 Axes>"
      ]
     },
     "metadata": {},
     "output_type": "display_data"
    }
   ],
   "source": [
    "labels = ['Label 0 (legal)', 'Label 1 (fraudulent)']\n",
    "percentages = [percentage_correct_0, percentage_correct_1]\n",
    "\n",
    "plt.bar(labels, percentages, color=['blue', 'green'])\n",
    "plt.xlabel('Labels')\n",
    "plt.ylabel('Percentage of Correct Predictions')\n",
    "plt.title('Correct Predictions Percentage')\n",
    "plt.ylim(0, 100)  # Optional: set the y-axis to range from 0 to 100\n",
    "for i, v in enumerate(percentages):\n",
    "    plt.text(i, v + 3, f\"{v:.2f}%\", ha='center')  # Add text for each bar\n",
    "plt.show()"
   ]
  },
  {
   "cell_type": "markdown",
   "id": "d9aaf274",
   "metadata": {
    "ExecuteTime": {
     "end_time": "2023-12-17T12:32:44.271761Z",
     "start_time": "2023-12-17T12:32:44.253975Z"
    }
   },
   "source": [
    "# Testing usinf test.csv"
   ]
  },
  {
   "cell_type": "code",
   "execution_count": null,
   "id": "7f4e6802",
   "metadata": {
    "ExecuteTime": {
     "end_time": "2023-12-17T12:30:57.430882Z",
     "start_time": "2023-12-17T12:30:57.271261Z"
    }
   },
   "outputs": [
    {
     "name": "stdout",
     "output_type": "stream",
     "text": [
      "sample_submission.csv test.csv              train.csv\r\n"
     ]
    }
   ],
   "source": [
    "!ls data"
   ]
  },
  {
   "cell_type": "code",
   "execution_count": 190,
   "id": "a8ea62b1",
   "metadata": {
    "ExecuteTime": {
     "end_time": "2023-12-17T12:54:14.110333Z",
     "start_time": "2023-12-17T12:54:13.894364Z"
    }
   },
   "outputs": [],
   "source": [
    "data_test = pd.read_csv('data/test.csv').set_index(\"order_id\")"
   ]
  },
  {
   "cell_type": "code",
   "execution_count": 191,
   "id": "ed07458c",
   "metadata": {},
   "outputs": [
    {
     "data": {
      "text/html": [
       "<div>\n",
       "<style scoped>\n",
       "    .dataframe tbody tr th:only-of-type {\n",
       "        vertical-align: middle;\n",
       "    }\n",
       "\n",
       "    .dataframe tbody tr th {\n",
       "        vertical-align: top;\n",
       "    }\n",
       "\n",
       "    .dataframe thead th {\n",
       "        text-align: right;\n",
       "    }\n",
       "</style>\n",
       "<table border=\"1\" class=\"dataframe\">\n",
       "  <thead>\n",
       "    <tr style=\"text-align: right;\">\n",
       "      <th></th>\n",
       "      <th>order_date</th>\n",
       "      <th>amount_usd</th>\n",
       "      <th>payment_method</th>\n",
       "      <th>billing_address_country_code</th>\n",
       "      <th>shipping_address_country_code</th>\n",
       "      <th>avs_code</th>\n",
       "      <th>email_amount_spent_avg_180d</th>\n",
       "      <th>email_orders_count_180d</th>\n",
       "      <th>session_visitor_type</th>\n",
       "      <th>shipping_method_type</th>\n",
       "      <th>card_expiration_date</th>\n",
       "      <th>bin_brand</th>\n",
       "      <th>bin_type</th>\n",
       "      <th>suspicious_activity_score</th>\n",
       "    </tr>\n",
       "    <tr>\n",
       "      <th>order_id</th>\n",
       "      <th></th>\n",
       "      <th></th>\n",
       "      <th></th>\n",
       "      <th></th>\n",
       "      <th></th>\n",
       "      <th></th>\n",
       "      <th></th>\n",
       "      <th></th>\n",
       "      <th></th>\n",
       "      <th></th>\n",
       "      <th></th>\n",
       "      <th></th>\n",
       "      <th></th>\n",
       "      <th></th>\n",
       "    </tr>\n",
       "  </thead>\n",
       "  <tbody>\n",
       "    <tr>\n",
       "      <th>191025041</th>\n",
       "      <td>2022-08-02 18:32:51</td>\n",
       "      <td>121.90</td>\n",
       "      <td>payment_method_1</td>\n",
       "      <td>GB</td>\n",
       "      <td>GB</td>\n",
       "      <td>avs_code_1</td>\n",
       "      <td>NaN</td>\n",
       "      <td>NaN</td>\n",
       "      <td>returning</td>\n",
       "      <td>S</td>\n",
       "      <td>NaN</td>\n",
       "      <td>NaN</td>\n",
       "      <td>NaN</td>\n",
       "      <td>0</td>\n",
       "    </tr>\n",
       "    <tr>\n",
       "      <th>191796174</th>\n",
       "      <td>2022-08-16 14:00:44</td>\n",
       "      <td>98.74</td>\n",
       "      <td>payment_method_1</td>\n",
       "      <td>GB</td>\n",
       "      <td>GB</td>\n",
       "      <td>avs_code_1</td>\n",
       "      <td>NaN</td>\n",
       "      <td>NaN</td>\n",
       "      <td>new</td>\n",
       "      <td>S</td>\n",
       "      <td>NaN</td>\n",
       "      <td>NaN</td>\n",
       "      <td>NaN</td>\n",
       "      <td>0</td>\n",
       "    </tr>\n",
       "    <tr>\n",
       "      <th>202905772</th>\n",
       "      <td>2022-11-22 02:49:31</td>\n",
       "      <td>117.03</td>\n",
       "      <td>payment_method_2</td>\n",
       "      <td>MX</td>\n",
       "      <td>MX</td>\n",
       "      <td>avs_code_3</td>\n",
       "      <td>NaN</td>\n",
       "      <td>NaN</td>\n",
       "      <td>returning</td>\n",
       "      <td>E</td>\n",
       "      <td>09/2026</td>\n",
       "      <td>mastercard</td>\n",
       "      <td>credit</td>\n",
       "      <td>0</td>\n",
       "    </tr>\n",
       "    <tr>\n",
       "      <th>204355210</th>\n",
       "      <td>2022-11-25 09:49:33</td>\n",
       "      <td>629.51</td>\n",
       "      <td>payment_method_1</td>\n",
       "      <td>GB</td>\n",
       "      <td>GB</td>\n",
       "      <td>avs_code_1</td>\n",
       "      <td>NaN</td>\n",
       "      <td>NaN</td>\n",
       "      <td>returning</td>\n",
       "      <td>S</td>\n",
       "      <td>NaN</td>\n",
       "      <td>NaN</td>\n",
       "      <td>NaN</td>\n",
       "      <td>0</td>\n",
       "    </tr>\n",
       "    <tr>\n",
       "      <th>190036435</th>\n",
       "      <td>2022-08-01 14:21:45</td>\n",
       "      <td>427.32</td>\n",
       "      <td>payment_method_2</td>\n",
       "      <td>BE</td>\n",
       "      <td>BE</td>\n",
       "      <td>avs_code_3</td>\n",
       "      <td>NaN</td>\n",
       "      <td>NaN</td>\n",
       "      <td>returning</td>\n",
       "      <td>S</td>\n",
       "      <td>05/2027</td>\n",
       "      <td>visa</td>\n",
       "      <td>debit</td>\n",
       "      <td>0</td>\n",
       "    </tr>\n",
       "  </tbody>\n",
       "</table>\n",
       "</div>"
      ],
      "text/plain": [
       "                    order_date  amount_usd    payment_method  \\\n",
       "order_id                                                       \n",
       "191025041  2022-08-02 18:32:51      121.90  payment_method_1   \n",
       "191796174  2022-08-16 14:00:44       98.74  payment_method_1   \n",
       "202905772  2022-11-22 02:49:31      117.03  payment_method_2   \n",
       "204355210  2022-11-25 09:49:33      629.51  payment_method_1   \n",
       "190036435  2022-08-01 14:21:45      427.32  payment_method_2   \n",
       "\n",
       "          billing_address_country_code shipping_address_country_code  \\\n",
       "order_id                                                               \n",
       "191025041                           GB                            GB   \n",
       "191796174                           GB                            GB   \n",
       "202905772                           MX                            MX   \n",
       "204355210                           GB                            GB   \n",
       "190036435                           BE                            BE   \n",
       "\n",
       "             avs_code  email_amount_spent_avg_180d  email_orders_count_180d  \\\n",
       "order_id                                                                      \n",
       "191025041  avs_code_1                          NaN                      NaN   \n",
       "191796174  avs_code_1                          NaN                      NaN   \n",
       "202905772  avs_code_3                          NaN                      NaN   \n",
       "204355210  avs_code_1                          NaN                      NaN   \n",
       "190036435  avs_code_3                          NaN                      NaN   \n",
       "\n",
       "          session_visitor_type shipping_method_type card_expiration_date  \\\n",
       "order_id                                                                   \n",
       "191025041            returning                    S                  NaN   \n",
       "191796174                  new                    S                  NaN   \n",
       "202905772            returning                    E              09/2026   \n",
       "204355210            returning                    S                  NaN   \n",
       "190036435            returning                    S              05/2027   \n",
       "\n",
       "            bin_brand bin_type  suspicious_activity_score  \n",
       "order_id                                                   \n",
       "191025041         NaN      NaN                          0  \n",
       "191796174         NaN      NaN                          0  \n",
       "202905772  mastercard   credit                          0  \n",
       "204355210         NaN      NaN                          0  \n",
       "190036435        visa    debit                          0  "
      ]
     },
     "execution_count": 191,
     "metadata": {},
     "output_type": "execute_result"
    }
   ],
   "source": [
    "data_test.head()"
   ]
  },
  {
   "cell_type": "code",
   "execution_count": 192,
   "id": "c3d92827",
   "metadata": {
    "ExecuteTime": {
     "end_time": "2023-12-17T12:54:18.643445Z",
     "start_time": "2023-12-17T12:54:18.627677Z"
    }
   },
   "outputs": [
    {
     "data": {
      "text/plain": [
       "Index(['order_date', 'amount_usd', 'payment_method',\n",
       "       'billing_address_country_code', 'shipping_address_country_code',\n",
       "       'avs_code', 'email_amount_spent_avg_180d', 'email_orders_count_180d',\n",
       "       'session_visitor_type', 'shipping_method_type', 'card_expiration_date',\n",
       "       'bin_brand', 'bin_type', 'suspicious_activity_score'],\n",
       "      dtype='object')"
      ]
     },
     "execution_count": 192,
     "metadata": {},
     "output_type": "execute_result"
    }
   ],
   "source": [
    "data_test.columns"
   ]
  },
  {
   "cell_type": "code",
   "execution_count": 193,
   "id": "ebb9f66d",
   "metadata": {
    "ExecuteTime": {
     "end_time": "2023-12-17T13:47:45.499607Z",
     "start_time": "2023-12-17T13:47:45.448624Z"
    }
   },
   "outputs": [
    {
     "name": "stdout",
     "output_type": "stream",
     "text": [
      "Number of rows with NaN in any columns: 42024\n",
      "Number of rows total: 58216\n"
     ]
    }
   ],
   "source": [
    "rows_with_nan = data_test[data_test.isna().any(axis=1)]\n",
    "num_rows_with_nan = len(rows_with_nan)\n",
    "print(\"Number of rows with NaN in any columns:\", num_rows_with_nan)\n",
    "print(\"Number of rows total:\", data_test.shape[0])"
   ]
  },
  {
   "cell_type": "code",
   "execution_count": 138,
   "id": "febed5b4",
   "metadata": {},
   "outputs": [
    {
     "data": {
      "text/html": [
       "<style>#sk-container-id-5 {color: black;}#sk-container-id-5 pre{padding: 0;}#sk-container-id-5 div.sk-toggleable {background-color: white;}#sk-container-id-5 label.sk-toggleable__label {cursor: pointer;display: block;width: 100%;margin-bottom: 0;padding: 0.3em;box-sizing: border-box;text-align: center;}#sk-container-id-5 label.sk-toggleable__label-arrow:before {content: \"▸\";float: left;margin-right: 0.25em;color: #696969;}#sk-container-id-5 label.sk-toggleable__label-arrow:hover:before {color: black;}#sk-container-id-5 div.sk-estimator:hover label.sk-toggleable__label-arrow:before {color: black;}#sk-container-id-5 div.sk-toggleable__content {max-height: 0;max-width: 0;overflow: hidden;text-align: left;background-color: #f0f8ff;}#sk-container-id-5 div.sk-toggleable__content pre {margin: 0.2em;color: black;border-radius: 0.25em;background-color: #f0f8ff;}#sk-container-id-5 input.sk-toggleable__control:checked~div.sk-toggleable__content {max-height: 200px;max-width: 100%;overflow: auto;}#sk-container-id-5 input.sk-toggleable__control:checked~label.sk-toggleable__label-arrow:before {content: \"▾\";}#sk-container-id-5 div.sk-estimator input.sk-toggleable__control:checked~label.sk-toggleable__label {background-color: #d4ebff;}#sk-container-id-5 div.sk-label input.sk-toggleable__control:checked~label.sk-toggleable__label {background-color: #d4ebff;}#sk-container-id-5 input.sk-hidden--visually {border: 0;clip: rect(1px 1px 1px 1px);clip: rect(1px, 1px, 1px, 1px);height: 1px;margin: -1px;overflow: hidden;padding: 0;position: absolute;width: 1px;}#sk-container-id-5 div.sk-estimator {font-family: monospace;background-color: #f0f8ff;border: 1px dotted black;border-radius: 0.25em;box-sizing: border-box;margin-bottom: 0.5em;}#sk-container-id-5 div.sk-estimator:hover {background-color: #d4ebff;}#sk-container-id-5 div.sk-parallel-item::after {content: \"\";width: 100%;border-bottom: 1px solid gray;flex-grow: 1;}#sk-container-id-5 div.sk-label:hover label.sk-toggleable__label {background-color: #d4ebff;}#sk-container-id-5 div.sk-serial::before {content: \"\";position: absolute;border-left: 1px solid gray;box-sizing: border-box;top: 0;bottom: 0;left: 50%;z-index: 0;}#sk-container-id-5 div.sk-serial {display: flex;flex-direction: column;align-items: center;background-color: white;padding-right: 0.2em;padding-left: 0.2em;position: relative;}#sk-container-id-5 div.sk-item {position: relative;z-index: 1;}#sk-container-id-5 div.sk-parallel {display: flex;align-items: stretch;justify-content: center;background-color: white;position: relative;}#sk-container-id-5 div.sk-item::before, #sk-container-id-5 div.sk-parallel-item::before {content: \"\";position: absolute;border-left: 1px solid gray;box-sizing: border-box;top: 0;bottom: 0;left: 50%;z-index: -1;}#sk-container-id-5 div.sk-parallel-item {display: flex;flex-direction: column;z-index: 1;position: relative;background-color: white;}#sk-container-id-5 div.sk-parallel-item:first-child::after {align-self: flex-end;width: 50%;}#sk-container-id-5 div.sk-parallel-item:last-child::after {align-self: flex-start;width: 50%;}#sk-container-id-5 div.sk-parallel-item:only-child::after {width: 0;}#sk-container-id-5 div.sk-dashed-wrapped {border: 1px dashed gray;margin: 0 0.4em 0.5em 0.4em;box-sizing: border-box;padding-bottom: 0.4em;background-color: white;}#sk-container-id-5 div.sk-label label {font-family: monospace;font-weight: bold;display: inline-block;line-height: 1.2em;}#sk-container-id-5 div.sk-label-container {text-align: center;}#sk-container-id-5 div.sk-container {/* jupyter's `normalize.less` sets `[hidden] { display: none; }` but bootstrap.min.css set `[hidden] { display: none !important; }` so we also need the `!important` here to be able to override the default hidden behavior on the sphinx rendered scikit-learn.org. See: https://github.com/scikit-learn/scikit-learn/issues/21755 */display: inline-block !important;position: relative;}#sk-container-id-5 div.sk-text-repr-fallback {display: none;}</style><div id=\"sk-container-id-5\" class=\"sk-top-container\"><div class=\"sk-text-repr-fallback\"><pre>Pipeline(steps=[(&#x27;remove_duplicates&#x27;, Duplicates()),\n",
       "                (&#x27;new_column_same_country&#x27;, SameCountry()),\n",
       "                (&#x27;new_column_AvgAmountSpentPerOrder180d&#x27;,\n",
       "                 AvgAmountSpentPerOrder180d()),\n",
       "                (&#x27;new_column_time_transformed&#x27;, DateTime()),\n",
       "                (&#x27;new_column_shippingMethod&#x27;, shippingMethodType()),\n",
       "                (&#x27;Payment_Method_Transformed&#x27;, PaymentMethod()),\n",
       "                (&#x27;preprocessor&#x27;,\n",
       "                 ColumnTransformer(transformer...\n",
       "                                                  Pipeline(steps=[(&#x27;fillna&#x27;,\n",
       "                                                                   SimpleImputer(fill_value=0,\n",
       "                                                                                 strategy=&#x27;constant&#x27;)),\n",
       "                                                                  (&#x27;robust_scaler&#x27;,\n",
       "                                                                   RobustScaler())]),\n",
       "                                                  [&#x27;amount_usd&#x27;,\n",
       "                                                   &#x27;email_amount_spent_avg_180d&#x27;,\n",
       "                                                   &#x27;email_orders_count_180d&#x27;,\n",
       "                                                   &#x27;avg_amount_spent_per_order_180d&#x27;,\n",
       "                                                   &#x27;time_transformed&#x27;,\n",
       "                                                   &#x27;n_order_items&#x27;,\n",
       "                                                   &#x27;suspicious_activity_score&#x27;])])),\n",
       "                (&#x27;model&#x27;,\n",
       "                 RandomForestClassifier(class_weight=&#x27;balanced&#x27;, max_depth=5,\n",
       "                                        min_samples_leaf=5))])</pre><b>In a Jupyter environment, please rerun this cell to show the HTML representation or trust the notebook. <br />On GitHub, the HTML representation is unable to render, please try loading this page with nbviewer.org.</b></div><div class=\"sk-container\" hidden><div class=\"sk-item sk-dashed-wrapped\"><div class=\"sk-label-container\"><div class=\"sk-label sk-toggleable\"><input class=\"sk-toggleable__control sk-hidden--visually\" id=\"sk-estimator-id-38\" type=\"checkbox\" ><label for=\"sk-estimator-id-38\" class=\"sk-toggleable__label sk-toggleable__label-arrow\">Pipeline</label><div class=\"sk-toggleable__content\"><pre>Pipeline(steps=[(&#x27;remove_duplicates&#x27;, Duplicates()),\n",
       "                (&#x27;new_column_same_country&#x27;, SameCountry()),\n",
       "                (&#x27;new_column_AvgAmountSpentPerOrder180d&#x27;,\n",
       "                 AvgAmountSpentPerOrder180d()),\n",
       "                (&#x27;new_column_time_transformed&#x27;, DateTime()),\n",
       "                (&#x27;new_column_shippingMethod&#x27;, shippingMethodType()),\n",
       "                (&#x27;Payment_Method_Transformed&#x27;, PaymentMethod()),\n",
       "                (&#x27;preprocessor&#x27;,\n",
       "                 ColumnTransformer(transformer...\n",
       "                                                  Pipeline(steps=[(&#x27;fillna&#x27;,\n",
       "                                                                   SimpleImputer(fill_value=0,\n",
       "                                                                                 strategy=&#x27;constant&#x27;)),\n",
       "                                                                  (&#x27;robust_scaler&#x27;,\n",
       "                                                                   RobustScaler())]),\n",
       "                                                  [&#x27;amount_usd&#x27;,\n",
       "                                                   &#x27;email_amount_spent_avg_180d&#x27;,\n",
       "                                                   &#x27;email_orders_count_180d&#x27;,\n",
       "                                                   &#x27;avg_amount_spent_per_order_180d&#x27;,\n",
       "                                                   &#x27;time_transformed&#x27;,\n",
       "                                                   &#x27;n_order_items&#x27;,\n",
       "                                                   &#x27;suspicious_activity_score&#x27;])])),\n",
       "                (&#x27;model&#x27;,\n",
       "                 RandomForestClassifier(class_weight=&#x27;balanced&#x27;, max_depth=5,\n",
       "                                        min_samples_leaf=5))])</pre></div></div></div><div class=\"sk-serial\"><div class=\"sk-item\"><div class=\"sk-estimator sk-toggleable\"><input class=\"sk-toggleable__control sk-hidden--visually\" id=\"sk-estimator-id-39\" type=\"checkbox\" ><label for=\"sk-estimator-id-39\" class=\"sk-toggleable__label sk-toggleable__label-arrow\">Duplicates</label><div class=\"sk-toggleable__content\"><pre>Duplicates()</pre></div></div></div><div class=\"sk-item\"><div class=\"sk-estimator sk-toggleable\"><input class=\"sk-toggleable__control sk-hidden--visually\" id=\"sk-estimator-id-40\" type=\"checkbox\" ><label for=\"sk-estimator-id-40\" class=\"sk-toggleable__label sk-toggleable__label-arrow\">SameCountry</label><div class=\"sk-toggleable__content\"><pre>SameCountry()</pre></div></div></div><div class=\"sk-item\"><div class=\"sk-estimator sk-toggleable\"><input class=\"sk-toggleable__control sk-hidden--visually\" id=\"sk-estimator-id-41\" type=\"checkbox\" ><label for=\"sk-estimator-id-41\" class=\"sk-toggleable__label sk-toggleable__label-arrow\">AvgAmountSpentPerOrder180d</label><div class=\"sk-toggleable__content\"><pre>AvgAmountSpentPerOrder180d()</pre></div></div></div><div class=\"sk-item\"><div class=\"sk-estimator sk-toggleable\"><input class=\"sk-toggleable__control sk-hidden--visually\" id=\"sk-estimator-id-42\" type=\"checkbox\" ><label for=\"sk-estimator-id-42\" class=\"sk-toggleable__label sk-toggleable__label-arrow\">DateTime</label><div class=\"sk-toggleable__content\"><pre>DateTime()</pre></div></div></div><div class=\"sk-item\"><div class=\"sk-estimator sk-toggleable\"><input class=\"sk-toggleable__control sk-hidden--visually\" id=\"sk-estimator-id-43\" type=\"checkbox\" ><label for=\"sk-estimator-id-43\" class=\"sk-toggleable__label sk-toggleable__label-arrow\">shippingMethodType</label><div class=\"sk-toggleable__content\"><pre>shippingMethodType()</pre></div></div></div><div class=\"sk-item\"><div class=\"sk-estimator sk-toggleable\"><input class=\"sk-toggleable__control sk-hidden--visually\" id=\"sk-estimator-id-44\" type=\"checkbox\" ><label for=\"sk-estimator-id-44\" class=\"sk-toggleable__label sk-toggleable__label-arrow\">PaymentMethod</label><div class=\"sk-toggleable__content\"><pre>PaymentMethod()</pre></div></div></div><div class=\"sk-item sk-dashed-wrapped\"><div class=\"sk-label-container\"><div class=\"sk-label sk-toggleable\"><input class=\"sk-toggleable__control sk-hidden--visually\" id=\"sk-estimator-id-45\" type=\"checkbox\" ><label for=\"sk-estimator-id-45\" class=\"sk-toggleable__label sk-toggleable__label-arrow\">preprocessor: ColumnTransformer</label><div class=\"sk-toggleable__content\"><pre>ColumnTransformer(transformers=[(&#x27;num&#x27;,\n",
       "                                 Pipeline(steps=[(&#x27;fillna&#x27;,\n",
       "                                                  SimpleImputer(fill_value=0,\n",
       "                                                                strategy=&#x27;constant&#x27;)),\n",
       "                                                 (&#x27;robust_scaler&#x27;,\n",
       "                                                  RobustScaler())]),\n",
       "                                 [&#x27;amount_usd&#x27;, &#x27;email_amount_spent_avg_180d&#x27;,\n",
       "                                  &#x27;email_orders_count_180d&#x27;,\n",
       "                                  &#x27;avg_amount_spent_per_order_180d&#x27;,\n",
       "                                  &#x27;time_transformed&#x27;, &#x27;n_order_items&#x27;,\n",
       "                                  &#x27;suspicious_activity_score&#x27;]),\n",
       "                                (&#x27;cat_transformer&#x27;,\n",
       "                                 Pipeline(step...\n",
       "                                  &#x27;shipping_address_country_code&#x27;, &#x27;avs_code&#x27;,\n",
       "                                  &#x27;session_visitor_type&#x27;, &#x27;bin_brand&#x27;,\n",
       "                                  &#x27;bin_type&#x27;]),\n",
       "                                (&#x27;num_transformer&#x27;,\n",
       "                                 Pipeline(steps=[(&#x27;fillna&#x27;,\n",
       "                                                  SimpleImputer(fill_value=0,\n",
       "                                                                strategy=&#x27;constant&#x27;)),\n",
       "                                                 (&#x27;robust_scaler&#x27;,\n",
       "                                                  RobustScaler())]),\n",
       "                                 [&#x27;amount_usd&#x27;, &#x27;email_amount_spent_avg_180d&#x27;,\n",
       "                                  &#x27;email_orders_count_180d&#x27;,\n",
       "                                  &#x27;avg_amount_spent_per_order_180d&#x27;,\n",
       "                                  &#x27;time_transformed&#x27;, &#x27;n_order_items&#x27;,\n",
       "                                  &#x27;suspicious_activity_score&#x27;])])</pre></div></div></div><div class=\"sk-parallel\"><div class=\"sk-parallel-item\"><div class=\"sk-item\"><div class=\"sk-label-container\"><div class=\"sk-label sk-toggleable\"><input class=\"sk-toggleable__control sk-hidden--visually\" id=\"sk-estimator-id-46\" type=\"checkbox\" ><label for=\"sk-estimator-id-46\" class=\"sk-toggleable__label sk-toggleable__label-arrow\">num</label><div class=\"sk-toggleable__content\"><pre>[&#x27;amount_usd&#x27;, &#x27;email_amount_spent_avg_180d&#x27;, &#x27;email_orders_count_180d&#x27;, &#x27;avg_amount_spent_per_order_180d&#x27;, &#x27;time_transformed&#x27;, &#x27;n_order_items&#x27;, &#x27;suspicious_activity_score&#x27;]</pre></div></div></div><div class=\"sk-serial\"><div class=\"sk-item\"><div class=\"sk-serial\"><div class=\"sk-item\"><div class=\"sk-estimator sk-toggleable\"><input class=\"sk-toggleable__control sk-hidden--visually\" id=\"sk-estimator-id-47\" type=\"checkbox\" ><label for=\"sk-estimator-id-47\" class=\"sk-toggleable__label sk-toggleable__label-arrow\">SimpleImputer</label><div class=\"sk-toggleable__content\"><pre>SimpleImputer(fill_value=0, strategy=&#x27;constant&#x27;)</pre></div></div></div><div class=\"sk-item\"><div class=\"sk-estimator sk-toggleable\"><input class=\"sk-toggleable__control sk-hidden--visually\" id=\"sk-estimator-id-48\" type=\"checkbox\" ><label for=\"sk-estimator-id-48\" class=\"sk-toggleable__label sk-toggleable__label-arrow\">RobustScaler</label><div class=\"sk-toggleable__content\"><pre>RobustScaler()</pre></div></div></div></div></div></div></div></div><div class=\"sk-parallel-item\"><div class=\"sk-item\"><div class=\"sk-label-container\"><div class=\"sk-label sk-toggleable\"><input class=\"sk-toggleable__control sk-hidden--visually\" id=\"sk-estimator-id-49\" type=\"checkbox\" ><label for=\"sk-estimator-id-49\" class=\"sk-toggleable__label sk-toggleable__label-arrow\">cat_transformer</label><div class=\"sk-toggleable__content\"><pre>[&#x27;payment_method&#x27;, &#x27;billing_address_country_code&#x27;, &#x27;shipping_address_country_code&#x27;, &#x27;avs_code&#x27;, &#x27;session_visitor_type&#x27;, &#x27;bin_brand&#x27;, &#x27;bin_type&#x27;]</pre></div></div></div><div class=\"sk-serial\"><div class=\"sk-item\"><div class=\"sk-serial\"><div class=\"sk-item\"><div class=\"sk-estimator sk-toggleable\"><input class=\"sk-toggleable__control sk-hidden--visually\" id=\"sk-estimator-id-50\" type=\"checkbox\" ><label for=\"sk-estimator-id-50\" class=\"sk-toggleable__label sk-toggleable__label-arrow\">SimpleImputer</label><div class=\"sk-toggleable__content\"><pre>SimpleImputer(fill_value=&#x27;unknown&#x27;, strategy=&#x27;constant&#x27;)</pre></div></div></div><div class=\"sk-item\"><div class=\"sk-estimator sk-toggleable\"><input class=\"sk-toggleable__control sk-hidden--visually\" id=\"sk-estimator-id-51\" type=\"checkbox\" ><label for=\"sk-estimator-id-51\" class=\"sk-toggleable__label sk-toggleable__label-arrow\">OneHotEncoder</label><div class=\"sk-toggleable__content\"><pre>OneHotEncoder(handle_unknown=&#x27;ignore&#x27;, sparse_output=False)</pre></div></div></div></div></div></div></div></div><div class=\"sk-parallel-item\"><div class=\"sk-item\"><div class=\"sk-label-container\"><div class=\"sk-label sk-toggleable\"><input class=\"sk-toggleable__control sk-hidden--visually\" id=\"sk-estimator-id-52\" type=\"checkbox\" ><label for=\"sk-estimator-id-52\" class=\"sk-toggleable__label sk-toggleable__label-arrow\">num_transformer</label><div class=\"sk-toggleable__content\"><pre>[&#x27;amount_usd&#x27;, &#x27;email_amount_spent_avg_180d&#x27;, &#x27;email_orders_count_180d&#x27;, &#x27;avg_amount_spent_per_order_180d&#x27;, &#x27;time_transformed&#x27;, &#x27;n_order_items&#x27;, &#x27;suspicious_activity_score&#x27;]</pre></div></div></div><div class=\"sk-serial\"><div class=\"sk-item\"><div class=\"sk-serial\"><div class=\"sk-item\"><div class=\"sk-estimator sk-toggleable\"><input class=\"sk-toggleable__control sk-hidden--visually\" id=\"sk-estimator-id-53\" type=\"checkbox\" ><label for=\"sk-estimator-id-53\" class=\"sk-toggleable__label sk-toggleable__label-arrow\">SimpleImputer</label><div class=\"sk-toggleable__content\"><pre>SimpleImputer(fill_value=0, strategy=&#x27;constant&#x27;)</pre></div></div></div><div class=\"sk-item\"><div class=\"sk-estimator sk-toggleable\"><input class=\"sk-toggleable__control sk-hidden--visually\" id=\"sk-estimator-id-54\" type=\"checkbox\" ><label for=\"sk-estimator-id-54\" class=\"sk-toggleable__label sk-toggleable__label-arrow\">RobustScaler</label><div class=\"sk-toggleable__content\"><pre>RobustScaler()</pre></div></div></div></div></div></div></div></div></div></div><div class=\"sk-item\"><div class=\"sk-estimator sk-toggleable\"><input class=\"sk-toggleable__control sk-hidden--visually\" id=\"sk-estimator-id-55\" type=\"checkbox\" ><label for=\"sk-estimator-id-55\" class=\"sk-toggleable__label sk-toggleable__label-arrow\">RandomForestClassifier</label><div class=\"sk-toggleable__content\"><pre>RandomForestClassifier(class_weight=&#x27;balanced&#x27;, max_depth=5, min_samples_leaf=5)</pre></div></div></div></div></div></div></div>"
      ],
      "text/plain": [
       "Pipeline(steps=[('remove_duplicates', Duplicates()),\n",
       "                ('new_column_same_country', SameCountry()),\n",
       "                ('new_column_AvgAmountSpentPerOrder180d',\n",
       "                 AvgAmountSpentPerOrder180d()),\n",
       "                ('new_column_time_transformed', DateTime()),\n",
       "                ('new_column_shippingMethod', shippingMethodType()),\n",
       "                ('Payment_Method_Transformed', PaymentMethod()),\n",
       "                ('preprocessor',\n",
       "                 ColumnTransformer(transformer...\n",
       "                                                  Pipeline(steps=[('fillna',\n",
       "                                                                   SimpleImputer(fill_value=0,\n",
       "                                                                                 strategy='constant')),\n",
       "                                                                  ('robust_scaler',\n",
       "                                                                   RobustScaler())]),\n",
       "                                                  ['amount_usd',\n",
       "                                                   'email_amount_spent_avg_180d',\n",
       "                                                   'email_orders_count_180d',\n",
       "                                                   'avg_amount_spent_per_order_180d',\n",
       "                                                   'time_transformed',\n",
       "                                                   'n_order_items',\n",
       "                                                   'suspicious_activity_score'])])),\n",
       "                ('model',\n",
       "                 RandomForestClassifier(class_weight='balanced', max_depth=5,\n",
       "                                        min_samples_leaf=5))])"
      ]
     },
     "execution_count": 138,
     "metadata": {},
     "output_type": "execute_result"
    }
   ],
   "source": [
    "pipeline"
   ]
  },
  {
   "cell_type": "code",
   "execution_count": 194,
   "id": "382ae1c3",
   "metadata": {},
   "outputs": [],
   "source": [
    "y_test_data = pipeline.predict(data_test)"
   ]
  },
  {
   "cell_type": "code",
   "execution_count": null,
   "id": "f6adef55",
   "metadata": {},
   "outputs": [],
   "source": []
  },
  {
   "cell_type": "code",
   "execution_count": 136,
   "id": "be9e7642",
   "metadata": {
    "ExecuteTime": {
     "end_time": "2023-12-17T13:48:28.059703Z",
     "start_time": "2023-12-17T13:48:27.374696Z"
    }
   },
   "outputs": [
    {
     "name": "stderr",
     "output_type": "stream",
     "text": [
      "/Users/Carmen/.pyenv/versions/3.10.6/envs/lewagon/lib/python3.10/site-packages/sklearn/base.py:458: UserWarning: X has feature names, but RandomForestClassifier was fitted without feature names\n",
      "  warnings.warn(\n"
     ]
    },
    {
     "ename": "ValueError",
     "evalue": "could not convert string to float: '2022-08-02 18:32:51'",
     "output_type": "error",
     "traceback": [
      "\u001b[0;31m---------------------------------------------------------------------------\u001b[0m",
      "\u001b[0;31mValueError\u001b[0m                                Traceback (most recent call last)",
      "Cell \u001b[0;32mIn [136], line 1\u001b[0m\n\u001b[0;32m----> 1\u001b[0m y_pred_test_data \u001b[38;5;241m=\u001b[39m \u001b[43mmodel_rf\u001b[49m\u001b[38;5;241;43m.\u001b[39;49m\u001b[43mpredict\u001b[49m\u001b[43m(\u001b[49m\u001b[43mdata_test\u001b[49m\u001b[43m)\u001b[49m\n",
      "File \u001b[0;32m~/.pyenv/versions/3.10.6/envs/lewagon/lib/python3.10/site-packages/sklearn/ensemble/_forest.py:823\u001b[0m, in \u001b[0;36mForestClassifier.predict\u001b[0;34m(self, X)\u001b[0m\n\u001b[1;32m    802\u001b[0m \u001b[38;5;28;01mdef\u001b[39;00m \u001b[38;5;21mpredict\u001b[39m(\u001b[38;5;28mself\u001b[39m, X):\n\u001b[1;32m    803\u001b[0m     \u001b[38;5;124;03m\"\"\"\u001b[39;00m\n\u001b[1;32m    804\u001b[0m \u001b[38;5;124;03m    Predict class for X.\u001b[39;00m\n\u001b[1;32m    805\u001b[0m \n\u001b[0;32m   (...)\u001b[0m\n\u001b[1;32m    821\u001b[0m \u001b[38;5;124;03m        The predicted classes.\u001b[39;00m\n\u001b[1;32m    822\u001b[0m \u001b[38;5;124;03m    \"\"\"\u001b[39;00m\n\u001b[0;32m--> 823\u001b[0m     proba \u001b[38;5;241m=\u001b[39m \u001b[38;5;28;43mself\u001b[39;49m\u001b[38;5;241;43m.\u001b[39;49m\u001b[43mpredict_proba\u001b[49m\u001b[43m(\u001b[49m\u001b[43mX\u001b[49m\u001b[43m)\u001b[49m\n\u001b[1;32m    825\u001b[0m     \u001b[38;5;28;01mif\u001b[39;00m \u001b[38;5;28mself\u001b[39m\u001b[38;5;241m.\u001b[39mn_outputs_ \u001b[38;5;241m==\u001b[39m \u001b[38;5;241m1\u001b[39m:\n\u001b[1;32m    826\u001b[0m         \u001b[38;5;28;01mreturn\u001b[39;00m \u001b[38;5;28mself\u001b[39m\u001b[38;5;241m.\u001b[39mclasses_\u001b[38;5;241m.\u001b[39mtake(np\u001b[38;5;241m.\u001b[39margmax(proba, axis\u001b[38;5;241m=\u001b[39m\u001b[38;5;241m1\u001b[39m), axis\u001b[38;5;241m=\u001b[39m\u001b[38;5;241m0\u001b[39m)\n",
      "File \u001b[0;32m~/.pyenv/versions/3.10.6/envs/lewagon/lib/python3.10/site-packages/sklearn/ensemble/_forest.py:865\u001b[0m, in \u001b[0;36mForestClassifier.predict_proba\u001b[0;34m(self, X)\u001b[0m\n\u001b[1;32m    863\u001b[0m check_is_fitted(\u001b[38;5;28mself\u001b[39m)\n\u001b[1;32m    864\u001b[0m \u001b[38;5;66;03m# Check data\u001b[39;00m\n\u001b[0;32m--> 865\u001b[0m X \u001b[38;5;241m=\u001b[39m \u001b[38;5;28;43mself\u001b[39;49m\u001b[38;5;241;43m.\u001b[39;49m\u001b[43m_validate_X_predict\u001b[49m\u001b[43m(\u001b[49m\u001b[43mX\u001b[49m\u001b[43m)\u001b[49m\n\u001b[1;32m    867\u001b[0m \u001b[38;5;66;03m# Assign chunk of trees to jobs\u001b[39;00m\n\u001b[1;32m    868\u001b[0m n_jobs, _, _ \u001b[38;5;241m=\u001b[39m _partition_estimators(\u001b[38;5;28mself\u001b[39m\u001b[38;5;241m.\u001b[39mn_estimators, \u001b[38;5;28mself\u001b[39m\u001b[38;5;241m.\u001b[39mn_jobs)\n",
      "File \u001b[0;32m~/.pyenv/versions/3.10.6/envs/lewagon/lib/python3.10/site-packages/sklearn/ensemble/_forest.py:599\u001b[0m, in \u001b[0;36mBaseForest._validate_X_predict\u001b[0;34m(self, X)\u001b[0m\n\u001b[1;32m    596\u001b[0m \u001b[38;5;124;03m\"\"\"\u001b[39;00m\n\u001b[1;32m    597\u001b[0m \u001b[38;5;124;03mValidate X whenever one tries to predict, apply, predict_proba.\"\"\"\u001b[39;00m\n\u001b[1;32m    598\u001b[0m check_is_fitted(\u001b[38;5;28mself\u001b[39m)\n\u001b[0;32m--> 599\u001b[0m X \u001b[38;5;241m=\u001b[39m \u001b[38;5;28;43mself\u001b[39;49m\u001b[38;5;241;43m.\u001b[39;49m\u001b[43m_validate_data\u001b[49m\u001b[43m(\u001b[49m\u001b[43mX\u001b[49m\u001b[43m,\u001b[49m\u001b[43m \u001b[49m\u001b[43mdtype\u001b[49m\u001b[38;5;241;43m=\u001b[39;49m\u001b[43mDTYPE\u001b[49m\u001b[43m,\u001b[49m\u001b[43m \u001b[49m\u001b[43maccept_sparse\u001b[49m\u001b[38;5;241;43m=\u001b[39;49m\u001b[38;5;124;43m\"\u001b[39;49m\u001b[38;5;124;43mcsr\u001b[39;49m\u001b[38;5;124;43m\"\u001b[39;49m\u001b[43m,\u001b[49m\u001b[43m \u001b[49m\u001b[43mreset\u001b[49m\u001b[38;5;241;43m=\u001b[39;49m\u001b[38;5;28;43;01mFalse\u001b[39;49;00m\u001b[43m)\u001b[49m\n\u001b[1;32m    600\u001b[0m \u001b[38;5;28;01mif\u001b[39;00m issparse(X) \u001b[38;5;129;01mand\u001b[39;00m (X\u001b[38;5;241m.\u001b[39mindices\u001b[38;5;241m.\u001b[39mdtype \u001b[38;5;241m!=\u001b[39m np\u001b[38;5;241m.\u001b[39mintc \u001b[38;5;129;01mor\u001b[39;00m X\u001b[38;5;241m.\u001b[39mindptr\u001b[38;5;241m.\u001b[39mdtype \u001b[38;5;241m!=\u001b[39m np\u001b[38;5;241m.\u001b[39mintc):\n\u001b[1;32m    601\u001b[0m     \u001b[38;5;28;01mraise\u001b[39;00m \u001b[38;5;167;01mValueError\u001b[39;00m(\u001b[38;5;124m\"\u001b[39m\u001b[38;5;124mNo support for np.int64 index based sparse matrices\u001b[39m\u001b[38;5;124m\"\u001b[39m)\n",
      "File \u001b[0;32m~/.pyenv/versions/3.10.6/envs/lewagon/lib/python3.10/site-packages/sklearn/base.py:605\u001b[0m, in \u001b[0;36mBaseEstimator._validate_data\u001b[0;34m(self, X, y, reset, validate_separately, cast_to_ndarray, **check_params)\u001b[0m\n\u001b[1;32m    603\u001b[0m         out \u001b[38;5;241m=\u001b[39m X, y\n\u001b[1;32m    604\u001b[0m \u001b[38;5;28;01melif\u001b[39;00m \u001b[38;5;129;01mnot\u001b[39;00m no_val_X \u001b[38;5;129;01mand\u001b[39;00m no_val_y:\n\u001b[0;32m--> 605\u001b[0m     out \u001b[38;5;241m=\u001b[39m \u001b[43mcheck_array\u001b[49m\u001b[43m(\u001b[49m\u001b[43mX\u001b[49m\u001b[43m,\u001b[49m\u001b[43m \u001b[49m\u001b[43minput_name\u001b[49m\u001b[38;5;241;43m=\u001b[39;49m\u001b[38;5;124;43m\"\u001b[39;49m\u001b[38;5;124;43mX\u001b[39;49m\u001b[38;5;124;43m\"\u001b[39;49m\u001b[43m,\u001b[49m\u001b[43m \u001b[49m\u001b[38;5;241;43m*\u001b[39;49m\u001b[38;5;241;43m*\u001b[39;49m\u001b[43mcheck_params\u001b[49m\u001b[43m)\u001b[49m\n\u001b[1;32m    606\u001b[0m \u001b[38;5;28;01melif\u001b[39;00m no_val_X \u001b[38;5;129;01mand\u001b[39;00m \u001b[38;5;129;01mnot\u001b[39;00m no_val_y:\n\u001b[1;32m    607\u001b[0m     out \u001b[38;5;241m=\u001b[39m _check_y(y, \u001b[38;5;241m*\u001b[39m\u001b[38;5;241m*\u001b[39mcheck_params)\n",
      "File \u001b[0;32m~/.pyenv/versions/3.10.6/envs/lewagon/lib/python3.10/site-packages/sklearn/utils/validation.py:915\u001b[0m, in \u001b[0;36mcheck_array\u001b[0;34m(array, accept_sparse, accept_large_sparse, dtype, order, copy, force_all_finite, ensure_2d, allow_nd, ensure_min_samples, ensure_min_features, estimator, input_name)\u001b[0m\n\u001b[1;32m    913\u001b[0m         array \u001b[38;5;241m=\u001b[39m xp\u001b[38;5;241m.\u001b[39mastype(array, dtype, copy\u001b[38;5;241m=\u001b[39m\u001b[38;5;28;01mFalse\u001b[39;00m)\n\u001b[1;32m    914\u001b[0m     \u001b[38;5;28;01melse\u001b[39;00m:\n\u001b[0;32m--> 915\u001b[0m         array \u001b[38;5;241m=\u001b[39m \u001b[43m_asarray_with_order\u001b[49m\u001b[43m(\u001b[49m\u001b[43marray\u001b[49m\u001b[43m,\u001b[49m\u001b[43m \u001b[49m\u001b[43morder\u001b[49m\u001b[38;5;241;43m=\u001b[39;49m\u001b[43morder\u001b[49m\u001b[43m,\u001b[49m\u001b[43m \u001b[49m\u001b[43mdtype\u001b[49m\u001b[38;5;241;43m=\u001b[39;49m\u001b[43mdtype\u001b[49m\u001b[43m,\u001b[49m\u001b[43m \u001b[49m\u001b[43mxp\u001b[49m\u001b[38;5;241;43m=\u001b[39;49m\u001b[43mxp\u001b[49m\u001b[43m)\u001b[49m\n\u001b[1;32m    916\u001b[0m \u001b[38;5;28;01mexcept\u001b[39;00m ComplexWarning \u001b[38;5;28;01mas\u001b[39;00m complex_warning:\n\u001b[1;32m    917\u001b[0m     \u001b[38;5;28;01mraise\u001b[39;00m \u001b[38;5;167;01mValueError\u001b[39;00m(\n\u001b[1;32m    918\u001b[0m         \u001b[38;5;124m\"\u001b[39m\u001b[38;5;124mComplex data not supported\u001b[39m\u001b[38;5;130;01m\\n\u001b[39;00m\u001b[38;5;132;01m{}\u001b[39;00m\u001b[38;5;130;01m\\n\u001b[39;00m\u001b[38;5;124m\"\u001b[39m\u001b[38;5;241m.\u001b[39mformat(array)\n\u001b[1;32m    919\u001b[0m     ) \u001b[38;5;28;01mfrom\u001b[39;00m \u001b[38;5;21;01mcomplex_warning\u001b[39;00m\n",
      "File \u001b[0;32m~/.pyenv/versions/3.10.6/envs/lewagon/lib/python3.10/site-packages/sklearn/utils/_array_api.py:380\u001b[0m, in \u001b[0;36m_asarray_with_order\u001b[0;34m(array, dtype, order, copy, xp)\u001b[0m\n\u001b[1;32m    378\u001b[0m     array \u001b[38;5;241m=\u001b[39m numpy\u001b[38;5;241m.\u001b[39marray(array, order\u001b[38;5;241m=\u001b[39morder, dtype\u001b[38;5;241m=\u001b[39mdtype)\n\u001b[1;32m    379\u001b[0m \u001b[38;5;28;01melse\u001b[39;00m:\n\u001b[0;32m--> 380\u001b[0m     array \u001b[38;5;241m=\u001b[39m \u001b[43mnumpy\u001b[49m\u001b[38;5;241;43m.\u001b[39;49m\u001b[43masarray\u001b[49m\u001b[43m(\u001b[49m\u001b[43marray\u001b[49m\u001b[43m,\u001b[49m\u001b[43m \u001b[49m\u001b[43morder\u001b[49m\u001b[38;5;241;43m=\u001b[39;49m\u001b[43morder\u001b[49m\u001b[43m,\u001b[49m\u001b[43m \u001b[49m\u001b[43mdtype\u001b[49m\u001b[38;5;241;43m=\u001b[39;49m\u001b[43mdtype\u001b[49m\u001b[43m)\u001b[49m\n\u001b[1;32m    382\u001b[0m \u001b[38;5;66;03m# At this point array is a NumPy ndarray. We convert it to an array\u001b[39;00m\n\u001b[1;32m    383\u001b[0m \u001b[38;5;66;03m# container that is consistent with the input's namespace.\u001b[39;00m\n\u001b[1;32m    384\u001b[0m \u001b[38;5;28;01mreturn\u001b[39;00m xp\u001b[38;5;241m.\u001b[39masarray(array)\n",
      "File \u001b[0;32m~/.pyenv/versions/3.10.6/envs/lewagon/lib/python3.10/site-packages/pandas/core/generic.py:2064\u001b[0m, in \u001b[0;36mNDFrame.__array__\u001b[0;34m(self, dtype)\u001b[0m\n\u001b[1;32m   2063\u001b[0m \u001b[38;5;28;01mdef\u001b[39;00m \u001b[38;5;21m__array__\u001b[39m(\u001b[38;5;28mself\u001b[39m, dtype: npt\u001b[38;5;241m.\u001b[39mDTypeLike \u001b[38;5;241m|\u001b[39m \u001b[38;5;28;01mNone\u001b[39;00m \u001b[38;5;241m=\u001b[39m \u001b[38;5;28;01mNone\u001b[39;00m) \u001b[38;5;241m-\u001b[39m\u001b[38;5;241m>\u001b[39m np\u001b[38;5;241m.\u001b[39mndarray:\n\u001b[0;32m-> 2064\u001b[0m     \u001b[38;5;28;01mreturn\u001b[39;00m \u001b[43mnp\u001b[49m\u001b[38;5;241;43m.\u001b[39;49m\u001b[43masarray\u001b[49m\u001b[43m(\u001b[49m\u001b[38;5;28;43mself\u001b[39;49m\u001b[38;5;241;43m.\u001b[39;49m\u001b[43m_values\u001b[49m\u001b[43m,\u001b[49m\u001b[43m \u001b[49m\u001b[43mdtype\u001b[49m\u001b[38;5;241;43m=\u001b[39;49m\u001b[43mdtype\u001b[49m\u001b[43m)\u001b[49m\n",
      "\u001b[0;31mValueError\u001b[0m: could not convert string to float: '2022-08-02 18:32:51'"
     ]
    }
   ],
   "source": [
    "#y_pred_test_data = model_rf.predict(data_test)"
   ]
  },
  {
   "cell_type": "code",
   "execution_count": 142,
   "id": "82cf2f49",
   "metadata": {
    "ExecuteTime": {
     "end_time": "2023-12-17T12:38:18.488901Z",
     "start_time": "2023-12-17T12:38:18.459359Z"
    }
   },
   "outputs": [
    {
     "data": {
      "text/plain": [
       "array([0., 0., 0., ..., 0., 0., 0.])"
      ]
     },
     "execution_count": 142,
     "metadata": {},
     "output_type": "execute_result"
    }
   ],
   "source": [
    "y_test_data"
   ]
  },
  {
   "cell_type": "code",
   "execution_count": 195,
   "id": "8488a1cf",
   "metadata": {},
   "outputs": [],
   "source": [
    "unique, counts = np.unique(y_test_data, return_counts=True)"
   ]
  },
  {
   "cell_type": "code",
   "execution_count": 196,
   "id": "a71ae271",
   "metadata": {},
   "outputs": [
    {
     "data": {
      "text/plain": [
       "(array([0., 1.]), array([37701, 20515]))"
      ]
     },
     "execution_count": 196,
     "metadata": {},
     "output_type": "execute_result"
    }
   ],
   "source": [
    "unique, counts"
   ]
  },
  {
   "cell_type": "code",
   "execution_count": 197,
   "id": "612b5213",
   "metadata": {},
   "outputs": [
    {
     "data": {
      "text/plain": [
       "array([0., 1.])"
      ]
     },
     "execution_count": 197,
     "metadata": {},
     "output_type": "execute_result"
    }
   ],
   "source": [
    "np.unique(y_test_data)"
   ]
  },
  {
   "cell_type": "code",
   "execution_count": 198,
   "id": "7e376b68",
   "metadata": {},
   "outputs": [
    {
     "data": {
      "text/plain": [
       "array([0., 0., 1., ..., 1., 1., 1.])"
      ]
     },
     "execution_count": 198,
     "metadata": {},
     "output_type": "execute_result"
    }
   ],
   "source": [
    "y_test_data"
   ]
  },
  {
   "cell_type": "code",
   "execution_count": 199,
   "id": "8352f325",
   "metadata": {},
   "outputs": [
    {
     "data": {
      "text/plain": [
       "(58216, (58216, 14))"
      ]
     },
     "execution_count": 199,
     "metadata": {},
     "output_type": "execute_result"
    }
   ],
   "source": [
    "len(y_test_data), data_test.shape"
   ]
  },
  {
   "cell_type": "code",
   "execution_count": 200,
   "id": "63aac814",
   "metadata": {},
   "outputs": [],
   "source": [
    "series_data = pd.Series(y_test_data)"
   ]
  },
  {
   "cell_type": "code",
   "execution_count": 201,
   "id": "2e22e5ca",
   "metadata": {},
   "outputs": [
    {
     "data": {
      "text/plain": [
       "0        0.0\n",
       "1        0.0\n",
       "2        1.0\n",
       "3        0.0\n",
       "4        1.0\n",
       "        ... \n",
       "58211    1.0\n",
       "58212    1.0\n",
       "58213    1.0\n",
       "58214    1.0\n",
       "58215    1.0\n",
       "Length: 58216, dtype: float64"
      ]
     },
     "execution_count": 201,
     "metadata": {},
     "output_type": "execute_result"
    }
   ],
   "source": [
    "series_data"
   ]
  },
  {
   "cell_type": "code",
   "execution_count": 202,
   "id": "8f25e79d",
   "metadata": {},
   "outputs": [
    {
     "data": {
      "text/plain": [
       "Int64Index([191025041, 191796174, 202905772, 204355210, 190036435, 204286109,\n",
       "            205136686, 198416671, 200845417, 200770171,\n",
       "            ...\n",
       "            153629784, 150192184, 188715309, 197006120, 176424602, 179298794,\n",
       "            177741593, 171698657, 160426868, 172447939],\n",
       "           dtype='int64', name='order_id', length=58216)"
      ]
     },
     "execution_count": 202,
     "metadata": {},
     "output_type": "execute_result"
    }
   ],
   "source": [
    "data_test.index"
   ]
  },
  {
   "cell_type": "code",
   "execution_count": 203,
   "id": "04758d7b",
   "metadata": {},
   "outputs": [],
   "source": [
    "# Method 2: Using pd.DataFrame constructor\n",
    "df_concatenated_2 = pd.DataFrame({'id': data_test.index, 'result': series_data})\n"
   ]
  },
  {
   "cell_type": "code",
   "execution_count": 204,
   "id": "c8937015",
   "metadata": {},
   "outputs": [
    {
     "data": {
      "text/html": [
       "<div>\n",
       "<style scoped>\n",
       "    .dataframe tbody tr th:only-of-type {\n",
       "        vertical-align: middle;\n",
       "    }\n",
       "\n",
       "    .dataframe tbody tr th {\n",
       "        vertical-align: top;\n",
       "    }\n",
       "\n",
       "    .dataframe thead th {\n",
       "        text-align: right;\n",
       "    }\n",
       "</style>\n",
       "<table border=\"1\" class=\"dataframe\">\n",
       "  <thead>\n",
       "    <tr style=\"text-align: right;\">\n",
       "      <th></th>\n",
       "      <th>id</th>\n",
       "      <th>result</th>\n",
       "    </tr>\n",
       "  </thead>\n",
       "  <tbody>\n",
       "    <tr>\n",
       "      <th>0</th>\n",
       "      <td>191025041</td>\n",
       "      <td>0.0</td>\n",
       "    </tr>\n",
       "    <tr>\n",
       "      <th>1</th>\n",
       "      <td>191796174</td>\n",
       "      <td>0.0</td>\n",
       "    </tr>\n",
       "    <tr>\n",
       "      <th>2</th>\n",
       "      <td>202905772</td>\n",
       "      <td>1.0</td>\n",
       "    </tr>\n",
       "    <tr>\n",
       "      <th>3</th>\n",
       "      <td>204355210</td>\n",
       "      <td>0.0</td>\n",
       "    </tr>\n",
       "    <tr>\n",
       "      <th>4</th>\n",
       "      <td>190036435</td>\n",
       "      <td>1.0</td>\n",
       "    </tr>\n",
       "    <tr>\n",
       "      <th>...</th>\n",
       "      <td>...</td>\n",
       "      <td>...</td>\n",
       "    </tr>\n",
       "    <tr>\n",
       "      <th>58211</th>\n",
       "      <td>179298794</td>\n",
       "      <td>1.0</td>\n",
       "    </tr>\n",
       "    <tr>\n",
       "      <th>58212</th>\n",
       "      <td>177741593</td>\n",
       "      <td>1.0</td>\n",
       "    </tr>\n",
       "    <tr>\n",
       "      <th>58213</th>\n",
       "      <td>171698657</td>\n",
       "      <td>1.0</td>\n",
       "    </tr>\n",
       "    <tr>\n",
       "      <th>58214</th>\n",
       "      <td>160426868</td>\n",
       "      <td>1.0</td>\n",
       "    </tr>\n",
       "    <tr>\n",
       "      <th>58215</th>\n",
       "      <td>172447939</td>\n",
       "      <td>1.0</td>\n",
       "    </tr>\n",
       "  </tbody>\n",
       "</table>\n",
       "<p>58216 rows × 2 columns</p>\n",
       "</div>"
      ],
      "text/plain": [
       "              id  result\n",
       "0      191025041     0.0\n",
       "1      191796174     0.0\n",
       "2      202905772     1.0\n",
       "3      204355210     0.0\n",
       "4      190036435     1.0\n",
       "...          ...     ...\n",
       "58211  179298794     1.0\n",
       "58212  177741593     1.0\n",
       "58213  171698657     1.0\n",
       "58214  160426868     1.0\n",
       "58215  172447939     1.0\n",
       "\n",
       "[58216 rows x 2 columns]"
      ]
     },
     "execution_count": 204,
     "metadata": {},
     "output_type": "execute_result"
    }
   ],
   "source": [
    "df_concatenated_2"
   ]
  },
  {
   "cell_type": "code",
   "execution_count": 205,
   "id": "6064e5dd",
   "metadata": {},
   "outputs": [],
   "source": [
    "df_concatenated_2.to_csv('baseline_results2.csv', index = False)"
   ]
  },
  {
   "cell_type": "code",
   "execution_count": 206,
   "id": "0cd6d7db",
   "metadata": {},
   "outputs": [
    {
     "name": "stdout",
     "output_type": "stream",
     "text": [
      "HCKTON1 copy.ipynb    README.md             baseline_results2.csv\n",
      "HCKTON1.ipynb         baseline_results.csv  \u001b[1m\u001b[34mdata\u001b[m\u001b[m\n"
     ]
    }
   ],
   "source": [
    "!ls"
   ]
  },
  {
   "cell_type": "code",
   "execution_count": null,
   "id": "0a9ff9fc",
   "metadata": {},
   "outputs": [],
   "source": []
  }
 ],
 "metadata": {
  "kernelspec": {
   "display_name": "Python 3 (ipykernel)",
   "language": "python",
   "name": "python3"
  },
  "language_info": {
   "codemirror_mode": {
    "name": "ipython",
    "version": 3
   },
   "file_extension": ".py",
   "mimetype": "text/x-python",
   "name": "python",
   "nbconvert_exporter": "python",
   "pygments_lexer": "ipython3",
   "version": "3.10.6"
  },
  "toc": {
   "base_numbering": 1,
   "nav_menu": {},
   "number_sections": true,
   "sideBar": true,
   "skip_h1_title": false,
   "title_cell": "Table of Contents",
   "title_sidebar": "Contents",
   "toc_cell": false,
   "toc_position": {},
   "toc_section_display": true,
   "toc_window_display": false
  }
 },
 "nbformat": 4,
 "nbformat_minor": 5
}
