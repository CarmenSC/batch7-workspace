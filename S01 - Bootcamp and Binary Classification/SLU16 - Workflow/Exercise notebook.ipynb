{
 "cells": [
  {
   "cell_type": "markdown",
   "id": "fba84fc3",
   "metadata": {
    "deletable": false,
    "editable": false,
    "nbgrader": {
     "grade": false,
     "grade_id": "cell-95630bbc79890e36",
     "locked": true,
     "schema_version": 3,
     "solution": false,
     "task": false
    }
   },
   "source": [
    "# SLU16 - Workflow: Exercise Notebook"
   ]
  },
  {
   "cell_type": "code",
   "execution_count": 17,
   "id": "09ef698a",
   "metadata": {
    "ExecuteTime": {
     "end_time": "2023-12-10T21:38:29.660611Z",
     "start_time": "2023-12-10T21:38:29.648899Z"
    },
    "deletable": false,
    "editable": false,
    "nbgrader": {
     "grade": false,
     "grade_id": "cell-2f7d8358f51a95c7",
     "locked": true,
     "schema_version": 3,
     "solution": false,
     "task": false
    }
   },
   "outputs": [],
   "source": [
    "import random\n",
    "import math\n",
    "import pandas as pd\n",
    "import matplotlib.pyplot as plt\n",
    "\n",
    "from sklearn import linear_model\n",
    "from sklearn.pipeline import make_pipeline\n",
    "from sklearn.preprocessing import MinMaxScaler\n",
    "from sklearn.ensemble import RandomForestClassifier\n",
    "from sklearn.metrics import accuracy_score\n",
    "from sklearn.base import TransformerMixin\n",
    "from sklearn.model_selection import train_test_split\n",
    "from sklearn.impute import SimpleImputer\n",
    "\n",
    "from hashlib import sha1 # just for grading purposes\n",
    "import json # just for grading purposes\n",
    "\n",
    "from utils import workflow_steps, data_analysis_steps\n",
    "from utils import get_dataset\n",
    "from utils import plot_confusion_matrix\n",
    "\n",
    "def _hash(obj, salt='none'):\n",
    "    if type(obj) is not str:\n",
    "        obj = json.dumps(obj)\n",
    "    to_encode = obj + salt\n",
    "    return sha1(to_encode.encode()).hexdigest()\n",
    "import warnings\n",
    "warnings.filterwarnings('ignore')"
   ]
  },
  {
   "cell_type": "markdown",
   "id": "4a2bbc27",
   "metadata": {
    "deletable": false,
    "editable": false,
    "nbgrader": {
     "grade": false,
     "grade_id": "cell-fa8e9c716561a3a0",
     "locked": true,
     "schema_version": 3,
     "solution": false,
     "task": false
    }
   },
   "source": [
    "In this notebook we will be covering the following:\n",
    "\n",
    "* **1. Workflow**\n",
    " * Step 1: Get the data\n",
    " * Step 2: Data analysis and preparation\n",
    "   * Step 2.1 Data analysis\n",
    "   * Step 2.2 Dealing with data problems\n",
    "   * Step 2.3 Feature engineering\n",
    "   * Step 2.4 Feature selection\n",
    " * Step 3: Model training\n",
    " * Step 4: Evaluate results\n",
    "* **2. Pipelines and Custom Objects**\n",
    "    * Step 2.1: Pipelines \n",
    "        * Step 2.1.1: Doing it \"the hard way\"\n",
    "        * Step 2.1.2: What is a pipeline\n",
    "        * Step 2.1.3: Setting up a pipeline\n",
    "    * Step 2.2: Custom Objects\n",
    "        * Step 2.2.1: Custom Transformers\n",
    "        * Step 2.2.2: Custom Estimators"
   ]
  },
  {
   "cell_type": "markdown",
   "id": "fa0379fe",
   "metadata": {
    "deletable": false,
    "editable": false,
    "nbgrader": {
     "grade": false,
     "grade_id": "cell-017c07341b261351",
     "locked": true,
     "schema_version": 3,
     "solution": false,
     "task": false
    }
   },
   "source": [
    "<div class=\"alert alert-info\">\n",
    "    A <b>data science workflow</b> defines the phases (or steps) in a data science project. Using a well-defined data science workflow is useful not only to you, but your teammates as it provides a simple way to clearly structure and organize a data science project. Across this specialization we've been covering the different steps in this workflow, but how well are you familiarised with them?\n",
    "</div>"
   ]
  },
  {
   "cell_type": "markdown",
   "id": "b32cf131",
   "metadata": {
    "deletable": false,
    "editable": false,
    "nbgrader": {
     "grade": false,
     "grade_id": "cell-cc4e9e934ce2b450",
     "locked": true,
     "schema_version": 3,
     "solution": false,
     "task": false
    }
   },
   "source": [
    "## Exercise 1: Workflow"
   ]
  },
  {
   "cell_type": "markdown",
   "id": "66022a78",
   "metadata": {
    "deletable": false,
    "editable": false,
    "nbgrader": {
     "grade": false,
     "grade_id": "cell-cab312b59a379771",
     "locked": true,
     "schema_version": 3,
     "solution": false,
     "task": false
    }
   },
   "source": [
    "### Exercise 1.1 - Overall workflow steps"
   ]
  },
  {
   "cell_type": "markdown",
   "id": "1eb7ce91",
   "metadata": {
    "deletable": false,
    "editable": false,
    "nbgrader": {
     "grade": false,
     "grade_id": "cell-43d6817e1deb33e3",
     "locked": true,
     "schema_version": 3,
     "solution": false,
     "task": false
    }
   },
   "source": [
    "What are the basic workflow steps?\n",
    "\n",
    "You probably know them already, but we want you to really internalize them. We've given you a list of steps in `workflow_steps`, but it appears that, not only does it have too many steps, some are _probably_ wrong, as well.\n",
    "\n",
    "Select the correct ones and reorder them!"
   ]
  },
  {
   "cell_type": "code",
   "execution_count": 18,
   "id": "2ae1b06d",
   "metadata": {
    "ExecuteTime": {
     "end_time": "2023-12-10T21:38:29.677337Z",
     "start_time": "2023-12-10T21:38:29.667814Z"
    },
    "deletable": false,
    "editable": false,
    "nbgrader": {
     "grade": false,
     "grade_id": "cell-c5101e47a4828368",
     "locked": true,
     "schema_version": 3,
     "solution": false,
     "task": false
    }
   },
   "outputs": [
    {
     "name": "stdout",
     "output_type": "stream",
     "text": [
      "Workflow steps:\n",
      "1 :  Watch Netflix\n",
      "2 :  Get the data\n",
      "3 :  Establish a Baseline\n",
      "4 :  Spam\n",
      "5 :  Increase complexity\n",
      "6 :  Data analysis and preparation\n",
      "7 :  Evaluate results\n",
      "8 :  Google Hackathon solutions\n",
      "9 :  Iterate\n",
      "10 :  Train model\n"
     ]
    }
   ],
   "source": [
    "print(\"Workflow steps:\")\n",
    "for i in range(len(workflow_steps)):\n",
    "    print(i+1, ': ', workflow_steps[i])"
   ]
  },
  {
   "cell_type": "code",
   "execution_count": 19,
   "id": "d50e8f62",
   "metadata": {
    "ExecuteTime": {
     "end_time": "2023-12-10T21:38:29.690647Z",
     "start_time": "2023-12-10T21:38:29.681385Z"
    },
    "deletable": false,
    "nbgrader": {
     "grade": false,
     "grade_id": "cell-eb636145aa25eef4",
     "locked": false,
     "schema_version": 3,
     "solution": true,
     "task": false
    }
   },
   "outputs": [],
   "source": [
    "# Exercise 1.1. Filter and sort the names of the steps in the workflow_steps list\n",
    "# workflow_steps_answer = [...]\n",
    "\n",
    "# YOUR CODE HERE\n",
    "workflow_steps_answer = [\"Get the data\", \"Data analysis and preparation\", \"Train model\", \"Evaluate results\",\"Iterate\"]"
   ]
  },
  {
   "cell_type": "code",
   "execution_count": 20,
   "id": "ce2728e0",
   "metadata": {
    "ExecuteTime": {
     "end_time": "2023-12-10T21:38:29.702387Z",
     "start_time": "2023-12-10T21:38:29.697604Z"
    },
    "deletable": false,
    "editable": false,
    "nbgrader": {
     "grade": true,
     "grade_id": "cell-8c9ae302d2c9c48c",
     "locked": true,
     "points": 1,
     "schema_version": 3,
     "solution": false,
     "task": false
    }
   },
   "outputs": [],
   "source": [
    "assert _hash(len(workflow_steps_answer), 'salt0') == '253bd16d7f97f7d7295d404825e32985d257e11f', \"your workflow size doesn't look right! Don't forget to remove steps that shouldn't be there\"\n",
    "assert _hash([step.lower() for step in workflow_steps_answer], 'salt0') == '701e2306da9bfde36382bdb6feb80a354916ebf4', \"your workflow order doesn't look right! Some steps might be out of place\"\n"
   ]
  },
  {
   "cell_type": "markdown",
   "id": "d6f7c415",
   "metadata": {
    "deletable": false,
    "editable": false,
    "nbgrader": {
     "grade": false,
     "grade_id": "cell-9794a05f48292719",
     "locked": true,
     "schema_version": 3,
     "solution": false,
     "task": false
    }
   },
   "source": [
    "## Exercise 1.2: Data Analysis and Preparation"
   ]
  },
  {
   "cell_type": "markdown",
   "id": "ab02f4fa",
   "metadata": {
    "deletable": false,
    "editable": false,
    "nbgrader": {
     "grade": false,
     "grade_id": "cell-f258575f6c7a6dc6",
     "locked": true,
     "schema_version": 3,
     "solution": false,
     "task": false
    }
   },
   "source": [
    "There are way too many substeps in the **Data Analysis and Preparation** step to group them all under a single category. We've given you another list of steps: `data_analysis_steps`.\n",
    "\n",
    "Aside from being shuffled, it should be fine but keep an eye out. You never know what to expect..."
   ]
  },
  {
   "cell_type": "code",
   "execution_count": 21,
   "id": "397e0bfa",
   "metadata": {
    "ExecuteTime": {
     "end_time": "2023-12-10T21:38:29.712829Z",
     "start_time": "2023-12-10T21:38:29.706540Z"
    },
    "deletable": false,
    "editable": false,
    "nbgrader": {
     "grade": false,
     "grade_id": "cell-28be987a3be96809",
     "locked": true,
     "schema_version": 3,
     "solution": false,
     "task": false
    }
   },
   "outputs": [
    {
     "name": "stdout",
     "output_type": "stream",
     "text": [
      "Data Analysis and Preparation steps:\n",
      "1 :  Dealing with data problems\n",
      "2 :  Data analysis\n",
      "3 :  Spanish Inquisition\n",
      "4 :  Feature engineering\n",
      "5 :  Feature selection\n"
     ]
    }
   ],
   "source": [
    "print(\"Data Analysis and Preparation steps:\")\n",
    "for i in range(len(data_analysis_steps)):\n",
    "    print(i+1, ': ', data_analysis_steps[i])"
   ]
  },
  {
   "cell_type": "code",
   "execution_count": 22,
   "id": "b4116241",
   "metadata": {
    "ExecuteTime": {
     "end_time": "2023-12-10T21:38:29.721842Z",
     "start_time": "2023-12-10T21:38:29.717019Z"
    },
    "deletable": false,
    "nbgrader": {
     "grade": false,
     "grade_id": "cell-2dab17640925e0d9",
     "locked": false,
     "schema_version": 3,
     "solution": true,
     "task": false
    }
   },
   "outputs": [],
   "source": [
    "# Exercise 1.2. Filter and sort the names of the steps in the data_analysis_steps list\n",
    "# data_analysis_steps_answer = [...]\n",
    "\n",
    "# YOUR CODE HERE\n",
    "data_analysis_steps_answer = [\"Data analysis\",\"Dealing with data problems\",\"Feature engineering\", \"Feature selection\"]"
   ]
  },
  {
   "cell_type": "code",
   "execution_count": 23,
   "id": "09b060a6",
   "metadata": {
    "ExecuteTime": {
     "end_time": "2023-12-10T21:38:29.731985Z",
     "start_time": "2023-12-10T21:38:29.726462Z"
    },
    "deletable": false,
    "editable": false,
    "nbgrader": {
     "grade": true,
     "grade_id": "cell-6d6087c6110d2371",
     "locked": true,
     "points": 1,
     "schema_version": 3,
     "solution": false,
     "task": false
    }
   },
   "outputs": [],
   "source": [
    "assert _hash(len(data_analysis_steps_answer), 'salt0') == '3aa298b947129ff226ba1e3f545f8b5ffaa6e557', \"your workflow size doesn't look right! Don't forget to remove steps that shouldn't be there\"\n",
    "assert _hash([step.lower() for step in data_analysis_steps_answer], 'salt0') == '658ab90eff4a0cea2bfb51cc89c8db5b4121fa86', \"your workflow order doesn't look right! Some steps might be out of place\"\n"
   ]
  },
  {
   "cell_type": "markdown",
   "id": "23109fc9",
   "metadata": {
    "deletable": false,
    "editable": false,
    "nbgrader": {
     "grade": false,
     "grade_id": "cell-010003b31ea0fd27",
     "locked": true,
     "schema_version": 3,
     "solution": false,
     "task": false
    }
   },
   "source": [
    "<img src=\"media/spanish_inquisition.gif\" width=\"400\" />"
   ]
  },
  {
   "cell_type": "markdown",
   "id": "b4bb77b6",
   "metadata": {
    "deletable": false,
    "editable": false,
    "nbgrader": {
     "grade": false,
     "grade_id": "cell-7152f046d21dcd9d",
     "locked": true,
     "schema_version": 3,
     "solution": false,
     "task": false
    }
   },
   "source": [
    "## Exercise 2 - Walking down the yellow (workflow) path"
   ]
  },
  {
   "cell_type": "markdown",
   "id": "5ee5d448",
   "metadata": {
    "deletable": false,
    "editable": false,
    "nbgrader": {
     "grade": false,
     "grade_id": "cell-ba6650bcf67a8fa3",
     "locked": true,
     "schema_version": 3,
     "solution": false,
     "task": false
    }
   },
   "source": [
    "There is no template for solving a data science problem. The roadmap changes with every new dataset and new problem. But we do see similar steps in many different projects. Regardless, some steps are fairly common in any process. Let's go through them one by one."
   ]
  },
  {
   "cell_type": "markdown",
   "id": "8032e7fb",
   "metadata": {
    "deletable": false,
    "editable": false,
    "nbgrader": {
     "grade": false,
     "grade_id": "cell-bb496988687ae3d6",
     "locked": true,
     "schema_version": 3,
     "solution": false,
     "task": false
    }
   },
   "source": [
    "### Exercise 2.1 - Objective"
   ]
  },
  {
   "cell_type": "markdown",
   "id": "474c2754",
   "metadata": {
    "deletable": false,
    "editable": false,
    "nbgrader": {
     "grade": false,
     "grade_id": "cell-7a140029ef4d8d6c",
     "locked": true,
     "schema_version": 3,
     "solution": false,
     "task": false
    }
   },
   "source": [
    "Every DS analysis should start with one question: **What is the problem you are trying to solve?** Clearly stating your problem is the first step to solving it and without a clear problem, you could find yourself down a data-science rabbit-hole.\n",
    "\n",
    "For this workflow, we are going to analyze a **a randomly generated dataset**. The objective? \n",
    "\n",
    "<div class=\"alert alert-info\">\n",
    "    Build a model to predict the <b>value of y</b> given a set of features.\n",
    "</div>"
   ]
  },
  {
   "cell_type": "markdown",
   "id": "5369123f",
   "metadata": {
    "deletable": false,
    "editable": false,
    "nbgrader": {
     "grade": false,
     "grade_id": "cell-91bc71f2573aaaaf",
     "locked": true,
     "schema_version": 3,
     "solution": false,
     "task": false
    }
   },
   "source": [
    "#### Exercise 2.1.1 - Objective\n",
    "Let's start by importing the dataset"
   ]
  },
  {
   "cell_type": "code",
   "execution_count": 24,
   "id": "18917a09",
   "metadata": {
    "ExecuteTime": {
     "end_time": "2023-12-10T21:38:29.792658Z",
     "start_time": "2023-12-10T21:38:29.736286Z"
    },
    "deletable": false,
    "editable": false,
    "nbgrader": {
     "grade": false,
     "grade_id": "cell-a7a6a16a20aec456",
     "locked": true,
     "schema_version": 3,
     "solution": false,
     "task": false
    }
   },
   "outputs": [
    {
     "data": {
      "text/html": [
       "<div>\n",
       "<style scoped>\n",
       "    .dataframe tbody tr th:only-of-type {\n",
       "        vertical-align: middle;\n",
       "    }\n",
       "\n",
       "    .dataframe tbody tr th {\n",
       "        vertical-align: top;\n",
       "    }\n",
       "\n",
       "    .dataframe thead th {\n",
       "        text-align: right;\n",
       "    }\n",
       "</style>\n",
       "<table border=\"1\" class=\"dataframe\">\n",
       "  <thead>\n",
       "    <tr style=\"text-align: right;\">\n",
       "      <th></th>\n",
       "      <th>17</th>\n",
       "      <th>leg_1</th>\n",
       "      <th>7</th>\n",
       "      <th>arm_2</th>\n",
       "      <th>2</th>\n",
       "      <th>11</th>\n",
       "      <th>4</th>\n",
       "      <th>16</th>\n",
       "      <th>0</th>\n",
       "      <th>14</th>\n",
       "      <th>...</th>\n",
       "      <th>10</th>\n",
       "      <th>15</th>\n",
       "      <th>9</th>\n",
       "      <th>19</th>\n",
       "      <th>18</th>\n",
       "      <th>8</th>\n",
       "      <th>6</th>\n",
       "      <th>arm_0</th>\n",
       "      <th>1</th>\n",
       "      <th>y</th>\n",
       "    </tr>\n",
       "  </thead>\n",
       "  <tbody>\n",
       "    <tr>\n",
       "      <th>0</th>\n",
       "      <td>-0.334501</td>\n",
       "      <td>lee</td>\n",
       "      <td>-0.653329</td>\n",
       "      <td>Betsey</td>\n",
       "      <td>-0.474945</td>\n",
       "      <td>2.143944</td>\n",
       "      <td>0.504987</td>\n",
       "      <td>-0.792521</td>\n",
       "      <td>NaN</td>\n",
       "      <td>0.633919</td>\n",
       "      <td>...</td>\n",
       "      <td>-0.071335</td>\n",
       "      <td>0.087142</td>\n",
       "      <td>-0.661786</td>\n",
       "      <td>-1.200296</td>\n",
       "      <td>0.865755</td>\n",
       "      <td>0.186454</td>\n",
       "      <td>0.404982</td>\n",
       "      <td>tribesman</td>\n",
       "      <td>0.029102</td>\n",
       "      <td>0</td>\n",
       "    </tr>\n",
       "    <tr>\n",
       "      <th>1</th>\n",
       "      <td>1.375707</td>\n",
       "      <td>Runge</td>\n",
       "      <td>0.125576</td>\n",
       "      <td>bottleneck</td>\n",
       "      <td>-0.150056</td>\n",
       "      <td>0.321357</td>\n",
       "      <td>NaN</td>\n",
       "      <td>1.189470</td>\n",
       "      <td>1.613711</td>\n",
       "      <td>0.421921</td>\n",
       "      <td>...</td>\n",
       "      <td>-1.158068</td>\n",
       "      <td>0.963360</td>\n",
       "      <td>-0.244157</td>\n",
       "      <td>-0.297564</td>\n",
       "      <td>0.701173</td>\n",
       "      <td>0.453534</td>\n",
       "      <td>0.015579</td>\n",
       "      <td>sloven</td>\n",
       "      <td>0.659924</td>\n",
       "      <td>0</td>\n",
       "    </tr>\n",
       "    <tr>\n",
       "      <th>2</th>\n",
       "      <td>1.189017</td>\n",
       "      <td>Hackett</td>\n",
       "      <td>-0.570746</td>\n",
       "      <td>neuropsychiatric</td>\n",
       "      <td>1.420504</td>\n",
       "      <td>-1.122722</td>\n",
       "      <td>-0.623141</td>\n",
       "      <td>-0.637740</td>\n",
       "      <td>NaN</td>\n",
       "      <td>0.382410</td>\n",
       "      <td>...</td>\n",
       "      <td>-0.270624</td>\n",
       "      <td>-1.692005</td>\n",
       "      <td>0.289169</td>\n",
       "      <td>-0.637387</td>\n",
       "      <td>-0.555477</td>\n",
       "      <td>0.492451</td>\n",
       "      <td>0.471416</td>\n",
       "      <td>Shakespearian</td>\n",
       "      <td>0.950573</td>\n",
       "      <td>1</td>\n",
       "    </tr>\n",
       "    <tr>\n",
       "      <th>3</th>\n",
       "      <td>-0.689188</td>\n",
       "      <td>woodchuck</td>\n",
       "      <td>0.197911</td>\n",
       "      <td>systematic</td>\n",
       "      <td>1.735964</td>\n",
       "      <td>0.059630</td>\n",
       "      <td>1.317394</td>\n",
       "      <td>1.049553</td>\n",
       "      <td>0.698223</td>\n",
       "      <td>-0.646937</td>\n",
       "      <td>...</td>\n",
       "      <td>0.852392</td>\n",
       "      <td>-1.106450</td>\n",
       "      <td>0.895193</td>\n",
       "      <td>2.075261</td>\n",
       "      <td>0.197600</td>\n",
       "      <td>0.393485</td>\n",
       "      <td>-0.483886</td>\n",
       "      <td>semper</td>\n",
       "      <td>-0.320670</td>\n",
       "      <td>1</td>\n",
       "    </tr>\n",
       "    <tr>\n",
       "      <th>4</th>\n",
       "      <td>-0.968344</td>\n",
       "      <td>inkling</td>\n",
       "      <td>-1.334025</td>\n",
       "      <td>kingpin</td>\n",
       "      <td>0.105376</td>\n",
       "      <td>-0.988591</td>\n",
       "      <td>-0.982487</td>\n",
       "      <td>-0.989628</td>\n",
       "      <td>0.179894</td>\n",
       "      <td>-1.103589</td>\n",
       "      <td>...</td>\n",
       "      <td>-0.348985</td>\n",
       "      <td>1.303736</td>\n",
       "      <td>0.918317</td>\n",
       "      <td>0.550052</td>\n",
       "      <td>-0.224633</td>\n",
       "      <td>1.392002</td>\n",
       "      <td>0.319782</td>\n",
       "      <td>compensable</td>\n",
       "      <td>-0.222100</td>\n",
       "      <td>0</td>\n",
       "    </tr>\n",
       "  </tbody>\n",
       "</table>\n",
       "<p>5 rows × 25 columns</p>\n",
       "</div>"
      ],
      "text/plain": [
       "         17      leg_1         7             arm_2         2        11  \\\n",
       "0 -0.334501        lee -0.653329            Betsey -0.474945  2.143944   \n",
       "1  1.375707      Runge  0.125576        bottleneck -0.150056  0.321357   \n",
       "2  1.189017    Hackett -0.570746  neuropsychiatric  1.420504 -1.122722   \n",
       "3 -0.689188  woodchuck  0.197911        systematic  1.735964  0.059630   \n",
       "4 -0.968344    inkling -1.334025           kingpin  0.105376 -0.988591   \n",
       "\n",
       "          4        16         0        14  ...        10        15         9  \\\n",
       "0  0.504987 -0.792521       NaN  0.633919  ... -0.071335  0.087142 -0.661786   \n",
       "1       NaN  1.189470  1.613711  0.421921  ... -1.158068  0.963360 -0.244157   \n",
       "2 -0.623141 -0.637740       NaN  0.382410  ... -0.270624 -1.692005  0.289169   \n",
       "3  1.317394  1.049553  0.698223 -0.646937  ...  0.852392 -1.106450  0.895193   \n",
       "4 -0.982487 -0.989628  0.179894 -1.103589  ... -0.348985  1.303736  0.918317   \n",
       "\n",
       "         19        18         8         6          arm_0         1  y  \n",
       "0 -1.200296  0.865755  0.186454  0.404982      tribesman  0.029102  0  \n",
       "1 -0.297564  0.701173  0.453534  0.015579         sloven  0.659924  0  \n",
       "2 -0.637387 -0.555477  0.492451  0.471416  Shakespearian  0.950573  1  \n",
       "3  2.075261  0.197600  0.393485 -0.483886         semper -0.320670  1  \n",
       "4  0.550052 -0.224633  1.392002  0.319782    compensable -0.222100  0  \n",
       "\n",
       "[5 rows x 25 columns]"
      ]
     },
     "execution_count": 24,
     "metadata": {},
     "output_type": "execute_result"
    }
   ],
   "source": [
    "df, y = get_dataset()  # preloaded dataset\n",
    "df['y'] = y\n",
    "df.head()\n"
   ]
  },
  {
   "cell_type": "markdown",
   "id": "5c1bee47",
   "metadata": {
    "deletable": false,
    "editable": false,
    "nbgrader": {
     "grade": false,
     "grade_id": "cell-8c90322f33f668bd",
     "locked": true,
     "schema_version": 3,
     "solution": false,
     "task": false
    }
   },
   "source": [
    "<div class=\"alert alert-warning\">\n",
    "⚠️ Is the objective clear to you?\n",
    "This is just a yes or no question, no need for code here! :P \n",
    "</div>"
   ]
  },
  {
   "cell_type": "code",
   "execution_count": 25,
   "id": "0e5a2f49",
   "metadata": {
    "ExecuteTime": {
     "end_time": "2023-12-10T21:38:29.811660Z",
     "start_time": "2023-12-10T21:38:29.804335Z"
    },
    "deletable": false,
    "nbgrader": {
     "grade": false,
     "grade_id": "cell-7bac9e5a5b30e333",
     "locked": false,
     "schema_version": 3,
     "solution": true,
     "task": false
    }
   },
   "outputs": [],
   "source": [
    "#answer_2_1_1=False\n",
    "# YOUR CODE HERE\n",
    "answer_2_1_1=True"
   ]
  },
  {
   "cell_type": "code",
   "execution_count": 26,
   "id": "8d55c39b",
   "metadata": {
    "ExecuteTime": {
     "end_time": "2023-12-10T21:38:29.825905Z",
     "start_time": "2023-12-10T21:38:29.818745Z"
    },
    "deletable": false,
    "editable": false,
    "nbgrader": {
     "grade": true,
     "grade_id": "cell-dad9e0e457bf29a1",
     "locked": true,
     "points": 0,
     "schema_version": 3,
     "solution": false,
     "task": false
    }
   },
   "outputs": [],
   "source": [
    "assert answer_2_1_1, \"Don't make the panda sad!\""
   ]
  },
  {
   "cell_type": "markdown",
   "id": "332cb222",
   "metadata": {
    "deletable": false,
    "editable": false,
    "nbgrader": {
     "grade": false,
     "grade_id": "cell-58ea5ecaae02df01",
     "locked": true,
     "schema_version": 3,
     "solution": false,
     "task": false
    }
   },
   "source": [
    "#### Exercise 2.1.2 - Clasifying the problem\n",
    "Now that we have our data imported into Pandas and we've checked out the first few rows of our dataframe, there's a few questions we need to answer before we move on:\n",
    "\n",
    "- *A*: Is this **supervised learning** or **unsupervised learning**? \n",
    "- *B*: Is this a **classification problem** or is it a **regression problem**? \n",
    "- *C*: Is this a **prediction problem** or an **inference problem**?\n",
    "\n",
    "Keeping our **objective in mind** how would you classify this problem?\n",
    "\n",
    "In our example, we are going to be using **regression** to **predict** value y from the set of features.\n",
    "\n",
    "Save, in `answer_2_1_2`, the value from **A, B and C** that apply to our problem!"
   ]
  },
  {
   "cell_type": "code",
   "execution_count": 27,
   "id": "c6af8f33",
   "metadata": {
    "ExecuteTime": {
     "end_time": "2023-12-10T21:38:29.843041Z",
     "start_time": "2023-12-10T21:38:29.830804Z"
    },
    "deletable": false,
    "nbgrader": {
     "grade": false,
     "grade_id": "cell-26745fdc9dca03d8",
     "locked": false,
     "schema_version": 3,
     "solution": true,
     "task": false
    }
   },
   "outputs": [],
   "source": [
    "# Remove from the string what doesn't apply to our problem (including the '/')\n",
    "#answer_2_1_2 = [\"supervised/unsupervised learning\",\"classification/regression problem\", \"prediction/inference problem\"]\n",
    "# YOUR CODE HERE\n",
    "answer_2_1_2 = [\"supervised learning\",\"classification problem\", \"prediction problem\"]\n"
   ]
  },
  {
   "cell_type": "code",
   "execution_count": 28,
   "id": "52df5101",
   "metadata": {
    "ExecuteTime": {
     "end_time": "2023-12-10T21:38:29.856401Z",
     "start_time": "2023-12-10T21:38:29.847473Z"
    },
    "deletable": false,
    "editable": false,
    "nbgrader": {
     "grade": true,
     "grade_id": "cell-80d1e9191be2cad6",
     "locked": true,
     "points": 1,
     "schema_version": 3,
     "solution": false,
     "task": false
    }
   },
   "outputs": [],
   "source": [
    "assert _hash(len(answer_2_1_2), 'salt0') == 'bb6591f296df2e5dd0324184f4348795b760f11d', \"your answer doesn't have the correct size. I've asked you to pick the correct option for three questions\"\n",
    "assert _hash([step.lower() for step in answer_2_1_2], 'salt0') == 'd5cf73be53ec62d0d1ca23376f66f5a30cce8f67', \"One or more of your answers is incorrect.\""
   ]
  },
  {
   "cell_type": "markdown",
   "id": "d12f2d77",
   "metadata": {
    "deletable": false,
    "editable": false,
    "nbgrader": {
     "grade": false,
     "grade_id": "cell-8b336c0b944c04c4",
     "locked": true,
     "schema_version": 3,
     "solution": false,
     "task": false
    }
   },
   "source": [
    "### Exercise 2.2 - Data Exploration and Data Cleaning"
   ]
  },
  {
   "cell_type": "markdown",
   "id": "61809799",
   "metadata": {
    "deletable": false,
    "editable": false,
    "nbgrader": {
     "grade": false,
     "grade_id": "cell-3cab1bebd529a56a",
     "locked": true,
     "schema_version": 3,
     "solution": false,
     "task": false
    }
   },
   "source": [
    "Back to our data! Let’s determine which variable is our target and which features we think are important.\n",
    "Our target is going to be the column titled **y** and our features are going to be the columns not containing the words **arm** or **leg** (assume we got this information from our boss or client). Remove all of the columns we don’t need for this analysis. Order the columns lexicographically.\n",
    "\n",
    "<div class=\"alert alert-warning\"> \n",
    "⚠️ <b>NOTE: </b>lexicographic sorting means basically that the language treats the variables as strings and compares character by character (\"200\" is greater than \"19999\" because '2' is greater than '1').\n",
    "</div>\n",
    "    \n",
    "Save the resulting dataframe in `df_clean`. \n",
    "\n",
    "Remember, in this case we're telling you what columns are to be kept, but this is something that is part of your workflow process. **A good data exploration and data cleaning is a key factor in the outcome of your model!**"
   ]
  },
  {
   "cell_type": "code",
   "execution_count": 31,
   "id": "f4f580ee",
   "metadata": {
    "ExecuteTime": {
     "end_time": "2023-12-10T21:40:38.326576Z",
     "start_time": "2023-12-10T21:40:38.319256Z"
    },
    "deletable": false,
    "nbgrader": {
     "grade": false,
     "grade_id": "cell-138aa6edcbd29190",
     "locked": false,
     "schema_version": 3,
     "solution": true,
     "task": false
    }
   },
   "outputs": [],
   "source": [
    "#df_clean = ...\n",
    "# YOUR CODE HERE\n",
    "columns_to_remove = [col for col in df.columns if 'arm' in col or 'leg' in col]\n",
    "df_clean = df.drop(columns=columns_to_remove)\n",
    "\n",
    "# Order the columns lexicographically\n",
    "df_clean = df_clean.reindex(sorted(df_clean.columns), axis=1)"
   ]
  },
  {
   "cell_type": "code",
   "execution_count": 32,
   "id": "d2460fe8",
   "metadata": {
    "ExecuteTime": {
     "end_time": "2023-12-10T21:40:38.777005Z",
     "start_time": "2023-12-10T21:40:38.766055Z"
    },
    "deletable": false,
    "editable": false,
    "nbgrader": {
     "grade": true,
     "grade_id": "cell-797514f689b49b52",
     "locked": true,
     "points": 2,
     "schema_version": 3,
     "solution": false,
     "task": false
    }
   },
   "outputs": [],
   "source": [
    "assert isinstance(df_clean, pd.DataFrame), \"Should be a dataframe\"\n",
    "assert df_clean.shape == (100, 21), \"The shape of the dataframe is different than expected. Have you dropped the uncessessary columns?\"\n",
    "assert _hash([step.lower() for step in df_clean.columns], 'salt0') == '64d0d2fe9259036f208c2ef818f158ee866a1968', \"One or more of your column headers is incorrect.\"\n"
   ]
  },
  {
   "cell_type": "markdown",
   "id": "14b9d300",
   "metadata": {
    "deletable": false,
    "editable": false,
    "nbgrader": {
     "grade": false,
     "grade_id": "cell-0febe6071b3fff48",
     "locked": true,
     "schema_version": 3,
     "solution": false,
     "task": false
    }
   },
   "source": [
    "### Exercise 2.3 - EDA\n",
    "\n",
    "Exploratory data analysis (EDA) gives the data scientist an opportunity to really learn about the data they are working with. \n",
    "\n",
    "Throughout the EDA process, I clean the data. Data from the real world is *very messy*. As I work through the EDA process and learn about the data, I take notes on things I need to fix in order to conduct my analysis. Most times, **Data cleaning and EDA go hand in hand for me**."
   ]
  },
  {
   "cell_type": "markdown",
   "id": "1a41caa6",
   "metadata": {
    "deletable": false,
    "editable": false,
    "nbgrader": {
     "grade": false,
     "grade_id": "cell-a19ce7391b2591cd",
     "locked": true,
     "schema_version": 3,
     "solution": false,
     "task": false
    }
   },
   "source": [
    "The first things I check are data types. Getting all of the values in the correct format is important. This can involve stripping characters from strings, converting integers to floats, or many other things."
   ]
  },
  {
   "cell_type": "code",
   "execution_count": 33,
   "id": "4eaa3ce2",
   "metadata": {
    "ExecuteTime": {
     "end_time": "2023-12-10T21:40:46.541883Z",
     "start_time": "2023-12-10T21:40:46.528712Z"
    }
   },
   "outputs": [
    {
     "name": "stdout",
     "output_type": "stream",
     "text": [
      "<class 'pandas.core.frame.DataFrame'>\n",
      "RangeIndex: 100 entries, 0 to 99\n",
      "Data columns (total 21 columns):\n",
      " #   Column  Non-Null Count  Dtype  \n",
      "---  ------  --------------  -----  \n",
      " 0   0       87 non-null     float64\n",
      " 1   1       100 non-null    float64\n",
      " 2   10      100 non-null    float64\n",
      " 3   11      100 non-null    float64\n",
      " 4   12      86 non-null     float64\n",
      " 5   13      100 non-null    float64\n",
      " 6   14      86 non-null     float64\n",
      " 7   15      100 non-null    float64\n",
      " 8   16      100 non-null    float64\n",
      " 9   17      100 non-null    float64\n",
      " 10  18      100 non-null    float64\n",
      " 11  19      100 non-null    float64\n",
      " 12  2       100 non-null    float64\n",
      " 13  3       100 non-null    float64\n",
      " 14  4       88 non-null     float64\n",
      " 15  5       86 non-null     float64\n",
      " 16  6       100 non-null    float64\n",
      " 17  7       100 non-null    float64\n",
      " 18  8       100 non-null    float64\n",
      " 19  9       100 non-null    float64\n",
      " 20  y       100 non-null    int64  \n",
      "dtypes: float64(20), int64(1)\n",
      "memory usage: 16.5 KB\n"
     ]
    }
   ],
   "source": [
    "df_clean.info()"
   ]
  },
  {
   "cell_type": "markdown",
   "id": "ac25c74d",
   "metadata": {
    "deletable": false,
    "editable": false,
    "nbgrader": {
     "grade": false,
     "grade_id": "cell-c1df6eb16892c268",
     "locked": true,
     "schema_version": 3,
     "solution": false,
     "task": false
    }
   },
   "source": [
    "What type of variables are our features? "
   ]
  },
  {
   "cell_type": "code",
   "execution_count": 34,
   "id": "0c9a4d86",
   "metadata": {
    "ExecuteTime": {
     "end_time": "2023-12-10T21:40:58.468792Z",
     "start_time": "2023-12-10T21:40:58.464597Z"
    },
    "deletable": false,
    "nbgrader": {
     "grade": false,
     "grade_id": "cell-4dfbeeaad55f42af",
     "locked": false,
     "schema_version": 3,
     "solution": true,
     "task": false
    }
   },
   "outputs": [],
   "source": [
    "#answer_2_3 = ...\n",
    "# YOUR CODE HERE\n",
    "answer_2_3 = 'float64'"
   ]
  },
  {
   "cell_type": "code",
   "execution_count": 35,
   "id": "27647936",
   "metadata": {
    "ExecuteTime": {
     "end_time": "2023-12-10T21:40:58.780416Z",
     "start_time": "2023-12-10T21:40:58.771452Z"
    },
    "deletable": false,
    "editable": false,
    "nbgrader": {
     "grade": true,
     "grade_id": "cell-e82bcea511e8aa79",
     "locked": true,
     "points": 2,
     "schema_version": 3,
     "solution": false,
     "task": false
    }
   },
   "outputs": [],
   "source": [
    "assert _hash(answer_2_3, 'salt0') == '70d410ba8247cfc821d4442f5ad0b48d983138e0', \"Data type is incorrect.\""
   ]
  },
  {
   "cell_type": "markdown",
   "id": "08897511",
   "metadata": {
    "deletable": false,
    "editable": false,
    "nbgrader": {
     "grade": false,
     "grade_id": "cell-c44cf8d3b12a8ec6",
     "locked": true,
     "schema_version": 3,
     "solution": false,
     "task": false
    }
   },
   "source": [
    "### Exercise 2.4 - Impute missing values\n",
    "Finding missing values is quite common. Just replace them in our clean dataframe with the mean of the corresponding column/feature."
   ]
  },
  {
   "cell_type": "code",
   "execution_count": 59,
   "id": "40c6d756",
   "metadata": {
    "ExecuteTime": {
     "end_time": "2023-12-10T21:51:17.638057Z",
     "start_time": "2023-12-10T21:51:17.593141Z"
    },
    "deletable": false,
    "nbgrader": {
     "grade": false,
     "grade_id": "cell-fc4703b89bf0d85b",
     "locked": false,
     "schema_version": 3,
     "solution": true,
     "task": false
    }
   },
   "outputs": [],
   "source": [
    "#df_clean = ...\n",
    "# YOUR CODE HERE\n",
    "imputer = SimpleImputer(strategy='mean')\n",
    "# Fit the imputer to your data and transform it\n",
    "df_clean = pd.DataFrame(imputer.fit_transform(df_clean), columns=df_clean.columns)\n"
   ]
  },
  {
   "cell_type": "code",
   "execution_count": 60,
   "id": "14446f9b",
   "metadata": {
    "ExecuteTime": {
     "end_time": "2023-12-10T21:51:18.416235Z",
     "start_time": "2023-12-10T21:51:18.409010Z"
    },
    "deletable": false,
    "editable": false,
    "nbgrader": {
     "grade": true,
     "grade_id": "cell-8443173a170a44d8",
     "locked": true,
     "points": 2,
     "schema_version": 3,
     "solution": false,
     "task": false
    }
   },
   "outputs": [],
   "source": [
    "assert isinstance(df_clean, pd.DataFrame), \"Should be a dataframe\"\n",
    "assert df_clean.isna().sum().sum() == 0, \"Missing values are still present\"\n",
    "assert df_clean.shape == (100, 21), \"The shape of the dataframe is different than expected. Have you dropped the rows with missing data?\"\n",
    "assert math.isclose(df_clean.values.sum(), 127.511, abs_tol=0.01), \"Are you repleacing the missing values by the mean of each column?\" "
   ]
  },
  {
   "cell_type": "markdown",
   "id": "349b8a99",
   "metadata": {
    "deletable": false,
    "editable": false,
    "nbgrader": {
     "grade": false,
     "grade_id": "cell-ddc782874c5a987a",
     "locked": true,
     "schema_version": 3,
     "solution": false,
     "task": false
    }
   },
   "source": [
    "Uff! That took quite some time, but now we have a clean and tidy dataframe to work with!"
   ]
  },
  {
   "cell_type": "markdown",
   "id": "82902ada",
   "metadata": {
    "deletable": false,
    "editable": false,
    "nbgrader": {
     "grade": false,
     "grade_id": "cell-b3cceed7311b4e1f",
     "locked": true,
     "schema_version": 3,
     "solution": false,
     "task": false
    }
   },
   "source": [
    "## Exercise 3 - Baseline modeling"
   ]
  },
  {
   "cell_type": "markdown",
   "id": "db9f1320",
   "metadata": {
    "deletable": false,
    "editable": false,
    "nbgrader": {
     "grade": false,
     "grade_id": "cell-91d8e0995fb8cfe9",
     "locked": true,
     "schema_version": 3,
     "solution": false,
     "task": false
    }
   },
   "source": [
    "As a data scientist, you will build a lot of models. You will use a variety of algorithms to perform a wide variety of tasks. You will need to use intuition and experience to decide when certain models are appropriate! \n",
    "\n",
    "But when constructing your baseline model, the simpler, the better! \n",
    "\n",
    "Let's start!"
   ]
  },
  {
   "cell_type": "markdown",
   "id": "5a454a96",
   "metadata": {
    "deletable": false,
    "editable": false,
    "nbgrader": {
     "grade": false,
     "grade_id": "cell-5cb59cec192c4d69",
     "locked": true,
     "schema_version": 3,
     "solution": false,
     "task": false
    }
   },
   "source": [
    "### Exercise 3.1 - Separate your target value \n",
    "\n",
    "Separate into `X` and `y` your features and your target. Order the columns in `X` as in exercise 2.2. "
   ]
  },
  {
   "cell_type": "code",
   "execution_count": 42,
   "id": "76b5b76a",
   "metadata": {
    "ExecuteTime": {
     "end_time": "2023-12-10T21:46:31.315062Z",
     "start_time": "2023-12-10T21:46:31.264709Z"
    }
   },
   "outputs": [
    {
     "data": {
      "text/html": [
       "<div>\n",
       "<style scoped>\n",
       "    .dataframe tbody tr th:only-of-type {\n",
       "        vertical-align: middle;\n",
       "    }\n",
       "\n",
       "    .dataframe tbody tr th {\n",
       "        vertical-align: top;\n",
       "    }\n",
       "\n",
       "    .dataframe thead th {\n",
       "        text-align: right;\n",
       "    }\n",
       "</style>\n",
       "<table border=\"1\" class=\"dataframe\">\n",
       "  <thead>\n",
       "    <tr style=\"text-align: right;\">\n",
       "      <th></th>\n",
       "      <th>0</th>\n",
       "      <th>1</th>\n",
       "      <th>10</th>\n",
       "      <th>11</th>\n",
       "      <th>12</th>\n",
       "      <th>13</th>\n",
       "      <th>14</th>\n",
       "      <th>15</th>\n",
       "      <th>16</th>\n",
       "      <th>17</th>\n",
       "      <th>...</th>\n",
       "      <th>19</th>\n",
       "      <th>2</th>\n",
       "      <th>3</th>\n",
       "      <th>4</th>\n",
       "      <th>5</th>\n",
       "      <th>6</th>\n",
       "      <th>7</th>\n",
       "      <th>8</th>\n",
       "      <th>9</th>\n",
       "      <th>y</th>\n",
       "    </tr>\n",
       "  </thead>\n",
       "  <tbody>\n",
       "    <tr>\n",
       "      <th>0</th>\n",
       "      <td>0.285991</td>\n",
       "      <td>0.029102</td>\n",
       "      <td>-0.071335</td>\n",
       "      <td>2.143944</td>\n",
       "      <td>1.765454</td>\n",
       "      <td>0.852433</td>\n",
       "      <td>0.633919</td>\n",
       "      <td>0.087142</td>\n",
       "      <td>-0.792521</td>\n",
       "      <td>-0.334501</td>\n",
       "      <td>...</td>\n",
       "      <td>-1.200296</td>\n",
       "      <td>-0.474945</td>\n",
       "      <td>-0.114736</td>\n",
       "      <td>0.504987</td>\n",
       "      <td>0.088962</td>\n",
       "      <td>0.404982</td>\n",
       "      <td>-0.653329</td>\n",
       "      <td>0.186454</td>\n",
       "      <td>-0.661786</td>\n",
       "      <td>0.0</td>\n",
       "    </tr>\n",
       "    <tr>\n",
       "      <th>1</th>\n",
       "      <td>1.613711</td>\n",
       "      <td>0.659924</td>\n",
       "      <td>-1.158068</td>\n",
       "      <td>0.321357</td>\n",
       "      <td>-0.173072</td>\n",
       "      <td>0.964087</td>\n",
       "      <td>0.421921</td>\n",
       "      <td>0.963360</td>\n",
       "      <td>1.189470</td>\n",
       "      <td>1.375707</td>\n",
       "      <td>...</td>\n",
       "      <td>-0.297564</td>\n",
       "      <td>-0.150056</td>\n",
       "      <td>-1.227608</td>\n",
       "      <td>-0.012186</td>\n",
       "      <td>0.865620</td>\n",
       "      <td>0.015579</td>\n",
       "      <td>0.125576</td>\n",
       "      <td>0.453534</td>\n",
       "      <td>-0.244157</td>\n",
       "      <td>0.0</td>\n",
       "    </tr>\n",
       "    <tr>\n",
       "      <th>2</th>\n",
       "      <td>0.285991</td>\n",
       "      <td>0.950573</td>\n",
       "      <td>-0.270624</td>\n",
       "      <td>-1.122722</td>\n",
       "      <td>-0.832356</td>\n",
       "      <td>2.455300</td>\n",
       "      <td>0.382410</td>\n",
       "      <td>-1.692005</td>\n",
       "      <td>-0.637740</td>\n",
       "      <td>1.189017</td>\n",
       "      <td>...</td>\n",
       "      <td>-0.637387</td>\n",
       "      <td>1.420504</td>\n",
       "      <td>-0.530997</td>\n",
       "      <td>-0.623141</td>\n",
       "      <td>-2.255540</td>\n",
       "      <td>0.471416</td>\n",
       "      <td>-0.570746</td>\n",
       "      <td>0.492451</td>\n",
       "      <td>0.289169</td>\n",
       "      <td>1.0</td>\n",
       "    </tr>\n",
       "    <tr>\n",
       "      <th>3</th>\n",
       "      <td>0.698223</td>\n",
       "      <td>-0.320670</td>\n",
       "      <td>0.852392</td>\n",
       "      <td>0.059630</td>\n",
       "      <td>-0.651418</td>\n",
       "      <td>0.635172</td>\n",
       "      <td>-0.646937</td>\n",
       "      <td>-1.106450</td>\n",
       "      <td>1.049553</td>\n",
       "      <td>-0.689188</td>\n",
       "      <td>...</td>\n",
       "      <td>2.075261</td>\n",
       "      <td>1.735964</td>\n",
       "      <td>-0.535235</td>\n",
       "      <td>1.317394</td>\n",
       "      <td>-1.146581</td>\n",
       "      <td>-0.483886</td>\n",
       "      <td>0.197911</td>\n",
       "      <td>0.393485</td>\n",
       "      <td>0.895193</td>\n",
       "      <td>1.0</td>\n",
       "    </tr>\n",
       "    <tr>\n",
       "      <th>4</th>\n",
       "      <td>0.179894</td>\n",
       "      <td>-0.222100</td>\n",
       "      <td>-0.348985</td>\n",
       "      <td>-0.988591</td>\n",
       "      <td>-0.601368</td>\n",
       "      <td>-1.570501</td>\n",
       "      <td>-1.103589</td>\n",
       "      <td>1.303736</td>\n",
       "      <td>-0.989628</td>\n",
       "      <td>-0.968344</td>\n",
       "      <td>...</td>\n",
       "      <td>0.550052</td>\n",
       "      <td>0.105376</td>\n",
       "      <td>0.940771</td>\n",
       "      <td>-0.982487</td>\n",
       "      <td>1.560103</td>\n",
       "      <td>0.319782</td>\n",
       "      <td>-1.334025</td>\n",
       "      <td>1.392002</td>\n",
       "      <td>0.918317</td>\n",
       "      <td>0.0</td>\n",
       "    </tr>\n",
       "    <tr>\n",
       "      <th>...</th>\n",
       "      <td>...</td>\n",
       "      <td>...</td>\n",
       "      <td>...</td>\n",
       "      <td>...</td>\n",
       "      <td>...</td>\n",
       "      <td>...</td>\n",
       "      <td>...</td>\n",
       "      <td>...</td>\n",
       "      <td>...</td>\n",
       "      <td>...</td>\n",
       "      <td>...</td>\n",
       "      <td>...</td>\n",
       "      <td>...</td>\n",
       "      <td>...</td>\n",
       "      <td>...</td>\n",
       "      <td>...</td>\n",
       "      <td>...</td>\n",
       "      <td>...</td>\n",
       "      <td>...</td>\n",
       "      <td>...</td>\n",
       "      <td>...</td>\n",
       "    </tr>\n",
       "    <tr>\n",
       "      <th>95</th>\n",
       "      <td>-1.534114</td>\n",
       "      <td>1.431401</td>\n",
       "      <td>-1.217220</td>\n",
       "      <td>0.711615</td>\n",
       "      <td>0.645376</td>\n",
       "      <td>-0.748487</td>\n",
       "      <td>-1.124642</td>\n",
       "      <td>-0.763516</td>\n",
       "      <td>1.551152</td>\n",
       "      <td>1.755341</td>\n",
       "      <td>...</td>\n",
       "      <td>2.060748</td>\n",
       "      <td>-0.248964</td>\n",
       "      <td>0.115675</td>\n",
       "      <td>1.179297</td>\n",
       "      <td>-0.071726</td>\n",
       "      <td>1.368632</td>\n",
       "      <td>0.971571</td>\n",
       "      <td>1.277677</td>\n",
       "      <td>0.332314</td>\n",
       "      <td>0.0</td>\n",
       "    </tr>\n",
       "    <tr>\n",
       "      <th>96</th>\n",
       "      <td>-0.220964</td>\n",
       "      <td>-0.545612</td>\n",
       "      <td>1.039670</td>\n",
       "      <td>1.503398</td>\n",
       "      <td>1.399355</td>\n",
       "      <td>-2.041735</td>\n",
       "      <td>0.877362</td>\n",
       "      <td>-0.977637</td>\n",
       "      <td>-0.247177</td>\n",
       "      <td>0.640843</td>\n",
       "      <td>...</td>\n",
       "      <td>1.797687</td>\n",
       "      <td>-0.571179</td>\n",
       "      <td>-0.681984</td>\n",
       "      <td>-1.001620</td>\n",
       "      <td>-0.921694</td>\n",
       "      <td>0.924634</td>\n",
       "      <td>0.572583</td>\n",
       "      <td>0.026886</td>\n",
       "      <td>0.208383</td>\n",
       "      <td>1.0</td>\n",
       "    </tr>\n",
       "    <tr>\n",
       "      <th>97</th>\n",
       "      <td>-0.039555</td>\n",
       "      <td>-1.604993</td>\n",
       "      <td>1.985223</td>\n",
       "      <td>-1.081057</td>\n",
       "      <td>1.255756</td>\n",
       "      <td>0.029756</td>\n",
       "      <td>1.053153</td>\n",
       "      <td>-0.511036</td>\n",
       "      <td>0.938284</td>\n",
       "      <td>-0.309172</td>\n",
       "      <td>...</td>\n",
       "      <td>-0.434496</td>\n",
       "      <td>0.222134</td>\n",
       "      <td>-0.516045</td>\n",
       "      <td>0.096121</td>\n",
       "      <td>-0.021852</td>\n",
       "      <td>-0.894607</td>\n",
       "      <td>-0.478749</td>\n",
       "      <td>0.681501</td>\n",
       "      <td>0.028318</td>\n",
       "      <td>1.0</td>\n",
       "    </tr>\n",
       "    <tr>\n",
       "      <th>98</th>\n",
       "      <td>1.085896</td>\n",
       "      <td>1.203166</td>\n",
       "      <td>-1.648321</td>\n",
       "      <td>0.028181</td>\n",
       "      <td>0.056650</td>\n",
       "      <td>0.817766</td>\n",
       "      <td>-0.009119</td>\n",
       "      <td>0.735948</td>\n",
       "      <td>1.390208</td>\n",
       "      <td>-0.305225</td>\n",
       "      <td>...</td>\n",
       "      <td>-1.065114</td>\n",
       "      <td>-0.609512</td>\n",
       "      <td>0.557810</td>\n",
       "      <td>0.010353</td>\n",
       "      <td>0.417673</td>\n",
       "      <td>0.529693</td>\n",
       "      <td>-0.186971</td>\n",
       "      <td>0.474698</td>\n",
       "      <td>-0.025027</td>\n",
       "      <td>0.0</td>\n",
       "    </tr>\n",
       "    <tr>\n",
       "      <th>99</th>\n",
       "      <td>-0.006071</td>\n",
       "      <td>1.308576</td>\n",
       "      <td>-1.755186</td>\n",
       "      <td>0.388579</td>\n",
       "      <td>0.536510</td>\n",
       "      <td>-0.098890</td>\n",
       "      <td>2.493000</td>\n",
       "      <td>0.717686</td>\n",
       "      <td>0.919076</td>\n",
       "      <td>0.992042</td>\n",
       "      <td>...</td>\n",
       "      <td>-0.668090</td>\n",
       "      <td>-0.174960</td>\n",
       "      <td>-0.290275</td>\n",
       "      <td>-0.012186</td>\n",
       "      <td>0.360170</td>\n",
       "      <td>-0.898468</td>\n",
       "      <td>-0.755745</td>\n",
       "      <td>0.838491</td>\n",
       "      <td>0.081829</td>\n",
       "      <td>0.0</td>\n",
       "    </tr>\n",
       "  </tbody>\n",
       "</table>\n",
       "<p>100 rows × 21 columns</p>\n",
       "</div>"
      ],
      "text/plain": [
       "           0         1        10        11        12        13        14  \\\n",
       "0   0.285991  0.029102 -0.071335  2.143944  1.765454  0.852433  0.633919   \n",
       "1   1.613711  0.659924 -1.158068  0.321357 -0.173072  0.964087  0.421921   \n",
       "2   0.285991  0.950573 -0.270624 -1.122722 -0.832356  2.455300  0.382410   \n",
       "3   0.698223 -0.320670  0.852392  0.059630 -0.651418  0.635172 -0.646937   \n",
       "4   0.179894 -0.222100 -0.348985 -0.988591 -0.601368 -1.570501 -1.103589   \n",
       "..       ...       ...       ...       ...       ...       ...       ...   \n",
       "95 -1.534114  1.431401 -1.217220  0.711615  0.645376 -0.748487 -1.124642   \n",
       "96 -0.220964 -0.545612  1.039670  1.503398  1.399355 -2.041735  0.877362   \n",
       "97 -0.039555 -1.604993  1.985223 -1.081057  1.255756  0.029756  1.053153   \n",
       "98  1.085896  1.203166 -1.648321  0.028181  0.056650  0.817766 -0.009119   \n",
       "99 -0.006071  1.308576 -1.755186  0.388579  0.536510 -0.098890  2.493000   \n",
       "\n",
       "          15        16        17  ...        19         2         3         4  \\\n",
       "0   0.087142 -0.792521 -0.334501  ... -1.200296 -0.474945 -0.114736  0.504987   \n",
       "1   0.963360  1.189470  1.375707  ... -0.297564 -0.150056 -1.227608 -0.012186   \n",
       "2  -1.692005 -0.637740  1.189017  ... -0.637387  1.420504 -0.530997 -0.623141   \n",
       "3  -1.106450  1.049553 -0.689188  ...  2.075261  1.735964 -0.535235  1.317394   \n",
       "4   1.303736 -0.989628 -0.968344  ...  0.550052  0.105376  0.940771 -0.982487   \n",
       "..       ...       ...       ...  ...       ...       ...       ...       ...   \n",
       "95 -0.763516  1.551152  1.755341  ...  2.060748 -0.248964  0.115675  1.179297   \n",
       "96 -0.977637 -0.247177  0.640843  ...  1.797687 -0.571179 -0.681984 -1.001620   \n",
       "97 -0.511036  0.938284 -0.309172  ... -0.434496  0.222134 -0.516045  0.096121   \n",
       "98  0.735948  1.390208 -0.305225  ... -1.065114 -0.609512  0.557810  0.010353   \n",
       "99  0.717686  0.919076  0.992042  ... -0.668090 -0.174960 -0.290275 -0.012186   \n",
       "\n",
       "           5         6         7         8         9    y  \n",
       "0   0.088962  0.404982 -0.653329  0.186454 -0.661786  0.0  \n",
       "1   0.865620  0.015579  0.125576  0.453534 -0.244157  0.0  \n",
       "2  -2.255540  0.471416 -0.570746  0.492451  0.289169  1.0  \n",
       "3  -1.146581 -0.483886  0.197911  0.393485  0.895193  1.0  \n",
       "4   1.560103  0.319782 -1.334025  1.392002  0.918317  0.0  \n",
       "..       ...       ...       ...       ...       ...  ...  \n",
       "95 -0.071726  1.368632  0.971571  1.277677  0.332314  0.0  \n",
       "96 -0.921694  0.924634  0.572583  0.026886  0.208383  1.0  \n",
       "97 -0.021852 -0.894607 -0.478749  0.681501  0.028318  1.0  \n",
       "98  0.417673  0.529693 -0.186971  0.474698 -0.025027  0.0  \n",
       "99  0.360170 -0.898468 -0.755745  0.838491  0.081829  0.0  \n",
       "\n",
       "[100 rows x 21 columns]"
      ]
     },
     "execution_count": 42,
     "metadata": {},
     "output_type": "execute_result"
    }
   ],
   "source": [
    "df_clean"
   ]
  },
  {
   "cell_type": "code",
   "execution_count": 61,
   "id": "940e099a",
   "metadata": {
    "ExecuteTime": {
     "end_time": "2023-12-10T21:52:27.874412Z",
     "start_time": "2023-12-10T21:52:27.867137Z"
    },
    "deletable": false,
    "nbgrader": {
     "grade": false,
     "grade_id": "cell-c1c072726b679fe8",
     "locked": false,
     "schema_version": 3,
     "solution": true,
     "task": false
    }
   },
   "outputs": [],
   "source": [
    "#X = ...\n",
    "#y = ...\n",
    "\n",
    "# YOUR CODE HERE\n",
    "# Separate the target variable 'y'\n",
    "y = df_clean['y'].astype('int64')\n",
    "\n",
    "# Drop the target column from the dataset to get the features\n",
    "X = df_clean.drop('y', axis=1)\n",
    "\n",
    "# Order the columns of X lexicographically\n",
    "X = X.reindex(sorted(X.columns), axis=1)"
   ]
  },
  {
   "cell_type": "code",
   "execution_count": 62,
   "id": "873fcce5",
   "metadata": {
    "ExecuteTime": {
     "end_time": "2023-12-10T21:52:28.461522Z",
     "start_time": "2023-12-10T21:52:28.451879Z"
    }
   },
   "outputs": [
    {
     "data": {
      "text/plain": [
       "0     0\n",
       "1     0\n",
       "2     1\n",
       "3     1\n",
       "4     0\n",
       "     ..\n",
       "95    0\n",
       "96    1\n",
       "97    1\n",
       "98    0\n",
       "99    0\n",
       "Name: y, Length: 100, dtype: int64"
      ]
     },
     "execution_count": 62,
     "metadata": {},
     "output_type": "execute_result"
    }
   ],
   "source": [
    "y"
   ]
  },
  {
   "cell_type": "code",
   "execution_count": 63,
   "id": "30212e96",
   "metadata": {
    "ExecuteTime": {
     "end_time": "2023-12-10T21:52:29.684060Z",
     "start_time": "2023-12-10T21:52:29.678114Z"
    },
    "deletable": false,
    "editable": false,
    "nbgrader": {
     "grade": true,
     "grade_id": "cell-d02011f7f3426b07",
     "locked": true,
     "points": 1,
     "schema_version": 3,
     "solution": false,
     "task": false
    }
   },
   "outputs": [],
   "source": [
    "assert _hash(list(y), 'salt0') == '917a4dd4b91497ba8c83f4d64b5d27642af0ce4f', \"Have you picked the right column as the target?\"\n",
    "assert X.shape == (100, 20), \"The shape of the dataframe is different than expected. Have you dropped the target?\"\n",
    "assert _hash(sorted(X.columns), 'salt0') == 'df65a7cdfbc4e774e8e18dbc46c7faeb42dc4c27', \"Have you included the right columns in X?\""
   ]
  },
  {
   "cell_type": "markdown",
   "id": "3dc49702",
   "metadata": {
    "deletable": false,
    "editable": false,
    "nbgrader": {
     "grade": false,
     "grade_id": "cell-7ad60c0b0b46ef11",
     "locked": true,
     "schema_version": 3,
     "solution": false,
     "task": false
    }
   },
   "source": [
    "### Exercise 3.2 - Split data\n",
    "\n",
    "Split your dataset into test and train data, using `test_size=0.2` and `random_state=42` on your `train_test_split()`"
   ]
  },
  {
   "cell_type": "code",
   "execution_count": 64,
   "id": "61bdd29d",
   "metadata": {
    "ExecuteTime": {
     "end_time": "2023-12-10T21:53:33.473827Z",
     "start_time": "2023-12-10T21:53:33.466498Z"
    },
    "deletable": false,
    "nbgrader": {
     "grade": false,
     "grade_id": "cell-0a59ceb29b6e7a7b",
     "locked": false,
     "schema_version": 3,
     "solution": true,
     "task": false
    }
   },
   "outputs": [],
   "source": [
    "#X_train, X_test, y_train, y_test = ...\n",
    "# YOUR CODE HERE\n",
    "X_train, X_test, y_train, y_test = train_test_split(X, y, test_size=0.2, random_state=42)\n"
   ]
  },
  {
   "cell_type": "code",
   "execution_count": 65,
   "id": "0876dc7d",
   "metadata": {
    "ExecuteTime": {
     "end_time": "2023-12-10T21:53:33.954672Z",
     "start_time": "2023-12-10T21:53:33.949634Z"
    },
    "deletable": false,
    "editable": false,
    "nbgrader": {
     "grade": true,
     "grade_id": "cell-eda4965289c315c6",
     "locked": true,
     "points": 1,
     "schema_version": 3,
     "solution": false,
     "task": false
    }
   },
   "outputs": [],
   "source": [
    "assert (X_train.shape, X_test.shape, y_train.shape, y_test.shape) == ((80, 20), (20, 20), (80,), (20,)), \"have you split the data correctly? Test size should be 0.2\""
   ]
  },
  {
   "cell_type": "markdown",
   "id": "d12f74a3",
   "metadata": {
    "deletable": false,
    "editable": false,
    "nbgrader": {
     "grade": false,
     "grade_id": "cell-cbbe2d32e51c944c",
     "locked": true,
     "schema_version": 3,
     "solution": false,
     "task": false
    }
   },
   "source": [
    "### Exercise 3.3 - Scale your data\n",
    "As we are not sure whether the features units of measures are in the same scale, you should scale your X_train and X_test dataframes separately. Use `MinMaxScaler`."
   ]
  },
  {
   "cell_type": "code",
   "execution_count": 66,
   "id": "1aab4a81",
   "metadata": {
    "ExecuteTime": {
     "end_time": "2023-12-10T21:54:53.471258Z",
     "start_time": "2023-12-10T21:54:53.455734Z"
    },
    "deletable": false,
    "nbgrader": {
     "grade": false,
     "grade_id": "cell-fe58c296cca28681",
     "locked": false,
     "schema_version": 3,
     "solution": true,
     "task": false
    }
   },
   "outputs": [],
   "source": [
    "# scaler = ...\n",
    "# X_train_scaled = ...\n",
    "# X_test_scaled = ...\n",
    "\n",
    "# YOUR CODE HERE\n",
    "# Initialize the MinMaxScaler\n",
    "scaler = MinMaxScaler()\n",
    "\n",
    "# Fit the scaler on the training data and transform it\n",
    "X_train_scaled = scaler.fit_transform(X_train)\n",
    "\n",
    "# Transform the test data using the same scaler\n",
    "X_test_scaled = scaler.transform(X_test)"
   ]
  },
  {
   "cell_type": "code",
   "execution_count": 67,
   "id": "632e4395",
   "metadata": {
    "ExecuteTime": {
     "end_time": "2023-12-10T21:54:54.021290Z",
     "start_time": "2023-12-10T21:54:54.015429Z"
    },
    "deletable": false,
    "editable": false,
    "nbgrader": {
     "grade": true,
     "grade_id": "cell-cc5e79e6d94f3521",
     "locked": true,
     "points": 1,
     "schema_version": 3,
     "solution": false,
     "task": false
    }
   },
   "outputs": [],
   "source": [
    "assert math.isclose(sum(X_train_scaled[:,1]), 42.14, abs_tol=0.01), \"have you used the correct scaler?\"\n",
    "assert math.isclose(sum(X_test_scaled[:,4]), 13.56, abs_tol=0.01), \"have you used the correct scaler?\"\n"
   ]
  },
  {
   "cell_type": "markdown",
   "id": "a406d6aa",
   "metadata": {
    "deletable": false,
    "editable": false,
    "nbgrader": {
     "grade": false,
     "grade_id": "cell-46502ca5406d2e19",
     "locked": true,
     "schema_version": 3,
     "solution": false,
     "task": false
    }
   },
   "source": [
    "### Exercise 3.4 - Finally! The model!\n",
    "\n",
    "We can finally make our predictions with a simple Random Forest Classifier!"
   ]
  },
  {
   "cell_type": "code",
   "execution_count": 68,
   "id": "7fd43740",
   "metadata": {
    "ExecuteTime": {
     "end_time": "2023-12-10T21:56:00.319655Z",
     "start_time": "2023-12-10T21:56:00.121904Z"
    },
    "deletable": false,
    "nbgrader": {
     "grade": false,
     "grade_id": "cell-6423f554ffdba88d",
     "locked": false,
     "schema_version": 3,
     "solution": true,
     "task": false
    }
   },
   "outputs": [],
   "source": [
    "#rf = RandomForestClassifier()\n",
    "#model = rf.fit(..., ... )\n",
    "#predictions = rf.predict(...)\n",
    "# YOUR CODE HERE\n",
    "# Initialize the RandomForestClassifier\n",
    "rf = RandomForestClassifier()\n",
    "\n",
    "# Fit the model to the scaled training data\n",
    "model = rf.fit(X_train_scaled, y_train)\n",
    "\n",
    "# Make predictions on the scaled test data\n",
    "predictions = model.predict(X_test_scaled)\n",
    "\n",
    "# Now 'predictions' contains the predicted labels for the test set"
   ]
  },
  {
   "cell_type": "code",
   "execution_count": 69,
   "id": "6d54b964",
   "metadata": {
    "ExecuteTime": {
     "end_time": "2023-12-10T21:56:01.201192Z",
     "start_time": "2023-12-10T21:56:00.885947Z"
    },
    "deletable": false,
    "editable": false,
    "nbgrader": {
     "grade": true,
     "grade_id": "cell-408ce12cfa728ad1",
     "locked": true,
     "points": 2,
     "schema_version": 3,
     "solution": false,
     "task": false
    }
   },
   "outputs": [
    {
     "data": {
      "image/png": "[encoded data removed]",
      "text/plain": [
       "<Figure size 400x400 with 1 Axes>"
      ]
     },
     "metadata": {},
     "output_type": "display_data"
    },
    {
     "name": "stdout",
     "output_type": "stream",
     "text": [
      "Accuracy score: 0.85\n"
     ]
    }
   ],
   "source": [
    "assert predictions.size == 20\n",
    "plot_confusion_matrix(y_test, predictions)\n",
    "\n",
    "print ('Accuracy score:', accuracy_score(y_test, predictions)) "
   ]
  },
  {
   "cell_type": "markdown",
   "id": "13696d98",
   "metadata": {
    "deletable": false,
    "editable": false,
    "nbgrader": {
     "grade": false,
     "grade_id": "cell-92d7a5fdbef2f1a3",
     "locked": true,
     "schema_version": 3,
     "solution": false,
     "task": false
    }
   },
   "source": [
    "Our model is not performing bad at all! If you want to improve it, you should make **small alterations**, **one at a time**! Keeping track of your changes is crucial to know exactly what change is helping or hurting your model! "
   ]
  },
  {
   "cell_type": "markdown",
   "id": "be092b5e",
   "metadata": {
    "deletable": false,
    "editable": false,
    "nbgrader": {
     "grade": false,
     "grade_id": "cell-75dbbef7bea9c43b",
     "locked": true,
     "schema_version": 3,
     "solution": false,
     "task": false
    }
   },
   "source": [
    "## Exercise 4 - Pipelines!!!!! "
   ]
  },
  {
   "cell_type": "markdown",
   "id": "b6eed118",
   "metadata": {
    "deletable": false,
    "editable": false,
    "nbgrader": {
     "grade": false,
     "grade_id": "cell-953febcd52772794",
     "locked": true,
     "schema_version": 3,
     "solution": false,
     "task": false
    }
   },
   "source": [
    "We've already loaded and splitted a dataset for the following exercises. They're stored in the `new_X_train`, `new_X_test`, `new_y_train` and `new_y_test` variables.\n",
    "\n",
    "In a perfect world, where you have all your data clean and ready-to-go, you can create your pipeline with just Scikit-learn's Transformers. However, in the real world, that's not the case, and you'll need to create custom Transformers to get the job done. Take a look at the data set, what do you see?"
   ]
  },
  {
   "cell_type": "code",
   "execution_count": 72,
   "id": "b11d317e",
   "metadata": {
    "ExecuteTime": {
     "end_time": "2023-12-10T22:01:41.214682Z",
     "start_time": "2023-12-10T22:01:41.199332Z"
    },
    "deletable": false,
    "editable": false,
    "nbgrader": {
     "grade": false,
     "grade_id": "cell-a3811573c704e68e",
     "locked": true,
     "schema_version": 3,
     "solution": false,
     "task": false
    }
   },
   "outputs": [],
   "source": [
    "new_X, new_y = get_dataset()  # preloaded dataset\n",
    "new_X_train, new_X_test, new_y_train, new_y_test = train_test_split(new_X, new_y, test_size=0.33)"
   ]
  },
  {
   "cell_type": "code",
   "execution_count": null,
   "id": "95ce38ba",
   "metadata": {},
   "outputs": [],
   "source": [
    "# use this cell to explore the data\n",
    "# do you notice something interesting in the data?"
   ]
  },
  {
   "cell_type": "markdown",
   "id": "f926376c",
   "metadata": {
    "deletable": false,
    "editable": false,
    "nbgrader": {
     "grade": false,
     "grade_id": "cell-bab71226281048e5",
     "locked": true,
     "schema_version": 3,
     "solution": false,
     "task": false
    }
   },
   "source": [
    "As you can see, it's the exact same dataset from the previous exercises! The same issues have returned:\n",
    "\n",
    "- There are 4 columns whose name starts with either arm or leg which are all filled with gibberish.\n",
    "- There are some missing values in some columns.\n",
    "\n",
    "So, first things first, let's get rid of those columns with gibberish through a **Custom Transformer**, so we can plug it in a Scikit Pipeline after."
   ]
  },
  {
   "cell_type": "markdown",
   "id": "94e89ddb",
   "metadata": {
    "deletable": false,
    "editable": false,
    "nbgrader": {
     "grade": false,
     "grade_id": "cell-c111570451988ca9",
     "locked": true,
     "schema_version": 3,
     "solution": false,
     "task": false
    }
   },
   "source": [
    "### Exercise 4.1 - Custom Transformer"
   ]
  },
  {
   "cell_type": "code",
   "execution_count": 73,
   "id": "376cfb92",
   "metadata": {
    "ExecuteTime": {
     "end_time": "2023-12-10T22:01:44.805739Z",
     "start_time": "2023-12-10T22:01:44.799212Z"
    },
    "deletable": false,
    "nbgrader": {
     "grade": false,
     "grade_id": "cell-dc3fa4786483541e",
     "locked": false,
     "schema_version": 3,
     "solution": true,
     "task": false
    }
   },
   "outputs": [],
   "source": [
    "# Create a pipeline step called RemoveLimbs that removes any\n",
    "# column whose name starts with the string 'arm' or ´leg´\n",
    "\n",
    "# YOUR CODE HERE\n",
    "class RemoveLimbs(TransformerMixin):\n",
    "    def fit(self, X, y=None):\n",
    "        # Nothing to fit, so just return self\n",
    "        return self\n",
    "\n",
    "    def transform(self, X):\n",
    "        # Remove columns starting with 'arm' or 'leg'\n",
    "        columns_to_remove = [col for col in X.columns if col.startswith('arm') or col.startswith('leg')]\n",
    "        return X.drop(columns=columns_to_remove)"
   ]
  },
  {
   "cell_type": "code",
   "execution_count": 74,
   "id": "d68742df",
   "metadata": {
    "ExecuteTime": {
     "end_time": "2023-12-10T22:01:45.504733Z",
     "start_time": "2023-12-10T22:01:45.496431Z"
    },
    "deletable": false,
    "editable": false,
    "nbgrader": {
     "grade": true,
     "grade_id": "cell-b91664f72233c2c7",
     "locked": true,
     "points": 3,
     "schema_version": 3,
     "solution": false,
     "task": false
    }
   },
   "outputs": [],
   "source": [
    "assert issubclass(RemoveLimbs, TransformerMixin)\n",
    "assert _hash(sorted(RemoveLimbs().fit_transform(new_X).columns), 'salt5') == '71443dfc3077d773d4c74e958dadf91dc2cc148a'\n",
    "assert _hash(list(map(lambda col: col.startswith('arm') or col.startswith('leg'), RemoveLimbs().fit_transform(new_X_train).columns)), 'salt6') == 'ce45cf3759d2210f2d1315f1673b18f34e3ac711'"
   ]
  },
  {
   "cell_type": "markdown",
   "id": "b4d6b7a6",
   "metadata": {
    "deletable": false,
    "editable": false,
    "nbgrader": {
     "grade": false,
     "grade_id": "cell-57a63eb58da3b85b",
     "locked": true,
     "schema_version": 3,
     "solution": false,
     "task": false
    }
   },
   "source": [
    "### Exercise 4.2 - Pipelines are the best!\n",
    "\n",
    "Now that we have our Custom Transformer in place, we can design our pipeline! \n",
    "\n",
    "Create a pipeline with the following steps:\n",
    "\n",
    "1. Removes limbs columns\n",
    "2. Imputes missing values with the mean\n",
    "3. Has a Random Forest Classifier as the last step\n",
    "\n",
    "You may use `make_pipeline` to create your pipeline with as many steps as you want as long as the first two are the Custom Transformer you developed previously, a `SimpleImputer` as the second step, and a `RandomForestClassifier` as the last step. Save your pipeline into a variable named `pipeline`!"
   ]
  },
  {
   "cell_type": "code",
   "execution_count": 75,
   "id": "3f2502c2",
   "metadata": {
    "ExecuteTime": {
     "end_time": "2023-12-10T22:02:36.408146Z",
     "start_time": "2023-12-10T22:02:36.403226Z"
    },
    "deletable": false,
    "nbgrader": {
     "grade": false,
     "grade_id": "cell-178a0f61ec49c4ac",
     "locked": false,
     "schema_version": 3,
     "solution": true,
     "task": false
    }
   },
   "outputs": [],
   "source": [
    "# pipeline = make_pipeline(...)\n",
    "# YOUR CODE HERE\n",
    "\n",
    "pipeline = make_pipeline(\n",
    "    RemoveLimbs(),                          # Step 1: Custom Transformer to remove 'arm' and 'leg' columns\n",
    "    SimpleImputer(strategy='mean'),        # Step 2: Impute missing values with the mean\n",
    "    RandomForestClassifier()               # Step 3: RandomForestClassifier\n",
    ")\n"
   ]
  },
  {
   "cell_type": "code",
   "execution_count": 76,
   "id": "d86f2a3d",
   "metadata": {
    "ExecuteTime": {
     "end_time": "2023-12-10T22:02:37.263048Z",
     "start_time": "2023-12-10T22:02:37.256939Z"
    },
    "deletable": false,
    "editable": false,
    "nbgrader": {
     "grade": true,
     "grade_id": "cell-3939f2f56f82f742",
     "locked": true,
     "points": 3,
     "schema_version": 3,
     "solution": false,
     "task": false
    }
   },
   "outputs": [],
   "source": [
    "assert _hash(pipeline.steps[0][0], 'salt7') == '471b02068ac2c4f479c2e9f85f4b3dc2179bb841'\n",
    "assert _hash(pipeline.steps[1][0], 'salt8') == 'ca83eaea1a7e243fa5574cfa6f52831166ee0f32'\n",
    "assert _hash(pipeline.steps[-1][0], 'salt9') == '0d66ba4309ad4939673169e74f87088dcadd510b'"
   ]
  },
  {
   "cell_type": "markdown",
   "id": "b64ba237",
   "metadata": {
    "deletable": false,
    "editable": false,
    "nbgrader": {
     "grade": false,
     "grade_id": "cell-b813e89a08b2880e",
     "locked": true,
     "schema_version": 3,
     "solution": false,
     "task": false
    }
   },
   "source": [
    "Does it work? Let's check it out on our dataset!"
   ]
  },
  {
   "cell_type": "code",
   "execution_count": 77,
   "id": "21ecbaec",
   "metadata": {
    "ExecuteTime": {
     "end_time": "2023-12-10T22:02:39.276917Z",
     "start_time": "2023-12-10T22:02:39.067627Z"
    },
    "deletable": false,
    "editable": false,
    "nbgrader": {
     "grade": false,
     "grade_id": "cell-aa9293b40285d113",
     "locked": true,
     "schema_version": 3,
     "solution": false,
     "task": false
    }
   },
   "outputs": [
    {
     "data": {
      "text/plain": [
       "0.9090909090909091"
      ]
     },
     "execution_count": 77,
     "metadata": {},
     "output_type": "execute_result"
    }
   ],
   "source": [
    "pipeline.fit(new_X_train, new_y_train)\n",
    "new_y_pred = pipeline.predict(new_X_test)\n",
    "accuracy_score(new_y_test, new_y_pred)"
   ]
  },
  {
   "cell_type": "markdown",
   "id": "5cb9341e",
   "metadata": {
    "deletable": false,
    "editable": false,
    "nbgrader": {
     "grade": false,
     "grade_id": "cell-20bc44001d7869f9",
     "locked": true,
     "schema_version": 3,
     "solution": false,
     "task": false
    }
   },
   "source": [
    "It doesn't get much simpler that this, does it?\n",
    "\n",
    "For an extra challenge, go back to exercises 2 and 3 and follow our workflow but with a Pipeline! For each special processing we've done, you can create a custom transformer for that column! \n",
    "\n",
    "Dominating pipelines and custom transformers can be a huge time saver! And there's the hackathon ahead...\n",
    "\n",
    "**Good luck!**"
   ]
  }
 ],
 "metadata": {
  "kernelspec": {
   "display_name": "Python 3 (ipykernel)",
   "language": "python",
   "name": "python3"
  },
  "language_info": {
   "codemirror_mode": {
    "name": "ipython",
    "version": 3
   },
   "file_extension": ".py",
   "mimetype": "text/x-python",
   "name": "python",
   "nbconvert_exporter": "python",
   "pygments_lexer": "ipython3",
   "version": "3.10.6"
  },
  "toc": {
   "base_numbering": 1,
   "nav_menu": {},
   "number_sections": true,
   "sideBar": true,
   "skip_h1_title": false,
   "title_cell": "Table of Contents",
   "title_sidebar": "Contents",
   "toc_cell": false,
   "toc_position": {},
   "toc_section_display": true,
   "toc_window_display": false
  }
 },
 "nbformat": 4,
 "nbformat_minor": 5
}
