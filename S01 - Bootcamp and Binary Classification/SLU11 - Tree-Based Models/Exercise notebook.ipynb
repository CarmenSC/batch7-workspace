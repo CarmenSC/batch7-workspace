{
 "cells": [
  {
   "cell_type": "markdown",
   "metadata": {
    "deletable": false,
    "editable": false,
    "nbgrader": {
     "grade": false,
     "grade_id": "cell-ad1289a5a69aed06",
     "locked": true,
     "schema_version": 3,
     "solution": false
    }
   },
   "source": [
    "# SLU11 - Tree-based models: Exercises"
   ]
  },
  {
   "cell_type": "code",
   "execution_count": 2,
   "metadata": {
    "ExecuteTime": {
     "end_time": "2023-12-10T19:35:49.850957Z",
     "start_time": "2023-12-10T19:35:49.844671Z"
    }
   },
   "outputs": [],
   "source": [
    "#!pip install -r requirements.txt"
   ]
  },
  {
   "cell_type": "code",
   "execution_count": 3,
   "metadata": {
    "ExecuteTime": {
     "end_time": "2023-12-10T19:35:56.309892Z",
     "start_time": "2023-12-10T19:35:50.506602Z"
    },
    "deletable": false,
    "editable": false,
    "nbgrader": {
     "grade": false,
     "grade_id": "cell-0de77c0206c013f9",
     "locked": true,
     "schema_version": 3,
     "solution": false
    }
   },
   "outputs": [],
   "source": [
    "import inspect\n",
    "import warnings\n",
    "warnings.filterwarnings(\"ignore\")\n",
    "\n",
    "import hashlib\n",
    "\n",
    "import pandas as pd\n",
    "import numpy as np\n",
    "\n",
    "from IPython.display import Image\n",
    "\n",
    "from utils.utils import (\n",
    "    make_data,\n",
    "    make_exercise_data,\n",
    "    separate_target_variable,\n",
    "    process_categorical_features,\n",
    "    visualize_tree\n",
    ")"
   ]
  },
  {
   "cell_type": "markdown",
   "metadata": {
    "deletable": false,
    "editable": false,
    "nbgrader": {
     "grade": false,
     "grade_id": "cell-5bd781fc92eff09b",
     "locked": true,
     "schema_version": 3,
     "solution": false
    }
   },
   "source": [
    "# Exercise 1 - Decision Trees\n",
    "\n",
    "## 1.1 Gini impurity\n",
    "\n",
    "Used by the CART algorithm for classification, Gini impurity is an alternative to entropy.\n",
    "\n",
    "Similarly to entropy, it is a way to measure node homogeneity. As such, it can be used to identify promising splits.\n",
    "\n",
    "Take $p$ as the probability of the positive class, i.e., the proportion of positive cases in the set. The Gini impurity is given by:\n",
    "\n",
    "$$I_G(p)= 1 - p^2 - (1-p)^2$$\n",
    "\n",
    "It measures how often a randomly chosen element from the set would be incorrectly labeled."
   ]
  },
  {
   "cell_type": "code",
   "execution_count": 4,
   "metadata": {
    "ExecuteTime": {
     "end_time": "2023-12-10T19:37:39.042356Z",
     "start_time": "2023-12-10T19:37:39.035258Z"
    },
    "deletable": false,
    "nbgrader": {
     "grade": false,
     "grade_id": "cell-096c9f233958084b",
     "locked": false,
     "schema_version": 3,
     "solution": true
    }
   },
   "outputs": [],
   "source": [
    "def gini(p):\n",
    "    #return the Gini impurity\n",
    "    \n",
    "    # YOUR CODE HERE\n",
    "    return 1-np.square(p)-np.square(1-p)    \n",
    "    \n",
    "data = make_data()"
   ]
  },
  {
   "cell_type": "code",
   "execution_count": 5,
   "metadata": {
    "ExecuteTime": {
     "end_time": "2023-12-10T19:37:39.879232Z",
     "start_time": "2023-12-10T19:37:39.867948Z"
    },
    "deletable": false,
    "editable": false,
    "nbgrader": {
     "grade": true,
     "grade_id": "cell-cd65813e62272b59",
     "locked": true,
     "points": 2,
     "schema_version": 3,
     "solution": false
    }
   },
   "outputs": [],
   "source": [
    "expected_hash_1 = '5feceb66ffc86f38d952786c6d696c79c2dbc239dd4e91b46729d73a27fb57e9'\n",
    "assert hashlib.sha256(str(round(gini(p=0), 4)).encode('utf-8')).hexdigest() == expected_hash_1\n",
    "\n",
    "expected_hash_2 = 'fa0caf4143366743bd4e6038047902f64d769e3e3efec2bb32aecf1d0c7c6201'\n",
    "assert hashlib.sha256(str(round(gini(p=1/6), 4)).encode('utf-8')).hexdigest() == expected_hash_2\n",
    "\n",
    "expected_hash_3 = '26135280b4d9cae287edf7dec0cde84815fd61414f9509d6a4376b09eb946862'\n",
    "assert hashlib.sha256(str(round(gini(p=1/3), 4)).encode('utf-8')).hexdigest() == expected_hash_3\n",
    "\n",
    "expected_hash_4 = 'd2cbad71ff333de67d07ec676e352ab7f38248eb69c942950157220607c55e84'\n",
    "assert hashlib.sha256(str(round(gini(p=1/2), 4)).encode('utf-8')).hexdigest() == expected_hash_4"
   ]
  },
  {
   "cell_type": "markdown",
   "metadata": {
    "deletable": false,
    "editable": false,
    "nbgrader": {
     "grade": false,
     "grade_id": "cell-04b84fddb28c08cc",
     "locked": true,
     "schema_version": 3,
     "solution": false
    }
   },
   "source": [
    "## 1.2 Applying the Gini \n",
    "\n",
    "### 1.2.1 Single node\n",
    "\n",
    "Compute the impurity of a node that includes all instances where $x_i^{Humidity}$ is `'normal'`.\n",
    "\n",
    "(Note that `'normal'` is a string, not a boolean.)"
   ]
  },
  {
   "cell_type": "code",
   "execution_count": 6,
   "metadata": {
    "ExecuteTime": {
     "end_time": "2023-12-10T19:58:19.072507Z",
     "start_time": "2023-12-10T19:58:19.056912Z"
    },
    "deletable": false,
    "nbgrader": {
     "grade": false,
     "grade_id": "cell-1eb99a6c8f5fd94d",
     "locked": false,
     "schema_version": 3,
     "solution": true
    }
   },
   "outputs": [],
   "source": [
    "def compute_probability(node):\n",
    "    # YOUR CODE HERE\n",
    "    new_data = data[data[\"Humidity\"] == \"normal\"]\n",
    "    \n",
    "    n = new_data.shape[0]\n",
    "    f = (new_data['Class'] == 1).sum()\n",
    "    return f / n\n",
    "\n",
    "# single_node_gini = ...\n",
    "# YOUR CODE HERE\n",
    "single_node_gini = gini(compute_probability(data))"
   ]
  },
  {
   "cell_type": "code",
   "execution_count": 7,
   "metadata": {
    "ExecuteTime": {
     "end_time": "2023-12-10T19:58:19.841328Z",
     "start_time": "2023-12-10T19:58:19.833837Z"
    },
    "deletable": false,
    "editable": false,
    "nbgrader": {
     "grade": true,
     "grade_id": "cell-f847f2e82a8bd209",
     "locked": true,
     "points": 3,
     "schema_version": 3,
     "solution": false
    }
   },
   "outputs": [],
   "source": [
    "expected_hash_5 = '6382e07f9de0c85293aee2a45b88c61c28589419682ecc2f8c097f750e861a24'\n",
    "wrong_condition_hash = 'd2cbad71ff333de67d07ec676e352ab7f38248eb69c942950157220607c55e84'\n",
    "\n",
    "assert hashlib.sha256(str(round(single_node_gini, 2)).encode('utf-8')).hexdigest() != wrong_condition_hash, \"Are you checking all instances where Class is TRUE?\"\n",
    "assert hashlib.sha256(str(round(single_node_gini, 2)).encode('utf-8')).hexdigest() == expected_hash_5, \"Are you computing the probability for the right node?\""
   ]
  },
  {
   "cell_type": "markdown",
   "metadata": {
    "deletable": false,
    "editable": false,
    "nbgrader": {
     "grade": false,
     "grade_id": "cell-be5197a0bc4535d5",
     "locked": true,
     "schema_version": 3,
     "solution": false
    }
   },
   "source": [
    "### 1.2.2 Single feature\n",
    "\n",
    "Write a function to compute the mean impurity of branching on a given feature."
   ]
  },
  {
   "cell_type": "code",
   "execution_count": 8,
   "metadata": {
    "ExecuteTime": {
     "end_time": "2023-12-10T19:58:34.015100Z",
     "start_time": "2023-12-10T19:58:33.975066Z"
    },
    "deletable": false,
    "nbgrader": {
     "grade": false,
     "grade_id": "cell-ca4c34be595ebcb3",
     "locked": false,
     "schema_version": 3,
     "solution": true
    }
   },
   "outputs": [],
   "source": [
    "from statistics import mean\n",
    "\n",
    "\n",
    "def mean_impurity(data, feature_name):\n",
    "    \n",
    "    all_probs = []\n",
    "    values = data[feature_name].unique()\n",
    "    for value in values:\n",
    "        new_data = data[data[feature_name]==value]\n",
    "        n = new_data.shape[0]\n",
    "        f = (new_data['Class'] == 1).sum()\n",
    "        all_probs.append(gini(f/n))\n",
    "    \n",
    "    return mean(all_probs)"
   ]
  },
  {
   "cell_type": "code",
   "execution_count": 9,
   "metadata": {
    "ExecuteTime": {
     "end_time": "2023-12-10T19:58:35.122585Z",
     "start_time": "2023-12-10T19:58:35.099294Z"
    },
    "deletable": false,
    "editable": false,
    "nbgrader": {
     "grade": true,
     "grade_id": "cell-92d7465bbb671305",
     "locked": true,
     "points": 2,
     "schema_version": 3,
     "solution": false
    }
   },
   "outputs": [],
   "source": [
    "assert 'mean(' in inspect.getsource(mean_impurity), \"Are you using the mean function that was imported?\"\n",
    "\n",
    "expected_hash_6 = '60bb8f6c52a2aca85b1a3ae08e71f97dd3fa8603b55abefb09ebb0edfe5294d1'\n",
    "assert hashlib.sha256(str(round(mean_impurity(data, 'Outlook'), 4)).encode('utf-8')).hexdigest() == expected_hash_6\n",
    "\n",
    "expected_hash_7 = '944f11aadeebc86111e0d537211a68e2e559f194ca0b99186a345af21afda3bf'\n",
    "assert hashlib.sha256(str(round(mean_impurity(data, 'Humidity'), 4)).encode('utf-8')).hexdigest() == expected_hash_7\n",
    "\n",
    "expected_hash_8 = 'ad9dadb817c4ea957beef59cc28b49ccb843c8c0996b1492547942a1cc6925ba'\n",
    "assert hashlib.sha256(str(round(mean_impurity(data, 'Windy'), 4)).encode('utf-8')).hexdigest() == expected_hash_8\n",
    "\n",
    "expected_hash_9 = 'de6e0e452f9c1acd679e0b2a4b40bc40cad2cdf48541764e622ff50c8b7a3957'\n",
    "assert hashlib.sha256(str(round(mean_impurity(data, 'Temperature'), 4)).encode('utf-8')).hexdigest() == expected_hash_9"
   ]
  },
  {
   "cell_type": "markdown",
   "metadata": {
    "deletable": false,
    "editable": false,
    "nbgrader": {
     "grade": false,
     "grade_id": "cell-64e25603766a0f61",
     "locked": true,
     "schema_version": 3,
     "solution": false
    }
   },
   "source": [
    "## 1.3 Analyzing a decision tree"
   ]
  },
  {
   "cell_type": "markdown",
   "metadata": {
    "deletable": false,
    "editable": false,
    "nbgrader": {
     "grade": false,
     "grade_id": "cell-9d9dffe94d0699b0",
     "locked": true,
     "schema_version": 3,
     "solution": false,
     "task": false
    }
   },
   "source": [
    "### 1.3.1 Import and train a DecisionTreeClassifier using the features in X, and the class in y. \n",
    "\n",
    "Notes:\n",
    "\n",
    "* Set `random_state = 101`\n",
    "* use the `entropy`criterion"
   ]
  },
  {
   "cell_type": "code",
   "execution_count": 10,
   "metadata": {
    "ExecuteTime": {
     "end_time": "2023-12-10T19:58:57.174243Z",
     "start_time": "2023-12-10T19:58:57.138465Z"
    },
    "deletable": false,
    "nbgrader": {
     "grade": false,
     "grade_id": "cell-1adca6f8556b71f2",
     "locked": false,
     "schema_version": 3,
     "solution": true
    }
   },
   "outputs": [
    {
     "data": {
      "text/html": [
       "<style>#sk-container-id-1 {color: black;}#sk-container-id-1 pre{padding: 0;}#sk-container-id-1 div.sk-toggleable {background-color: white;}#sk-container-id-1 label.sk-toggleable__label {cursor: pointer;display: block;width: 100%;margin-bottom: 0;padding: 0.3em;box-sizing: border-box;text-align: center;}#sk-container-id-1 label.sk-toggleable__label-arrow:before {content: \"▸\";float: left;margin-right: 0.25em;color: #696969;}#sk-container-id-1 label.sk-toggleable__label-arrow:hover:before {color: black;}#sk-container-id-1 div.sk-estimator:hover label.sk-toggleable__label-arrow:before {color: black;}#sk-container-id-1 div.sk-toggleable__content {max-height: 0;max-width: 0;overflow: hidden;text-align: left;background-color: #f0f8ff;}#sk-container-id-1 div.sk-toggleable__content pre {margin: 0.2em;color: black;border-radius: 0.25em;background-color: #f0f8ff;}#sk-container-id-1 input.sk-toggleable__control:checked~div.sk-toggleable__content {max-height: 200px;max-width: 100%;overflow: auto;}#sk-container-id-1 input.sk-toggleable__control:checked~label.sk-toggleable__label-arrow:before {content: \"▾\";}#sk-container-id-1 div.sk-estimator input.sk-toggleable__control:checked~label.sk-toggleable__label {background-color: #d4ebff;}#sk-container-id-1 div.sk-label input.sk-toggleable__control:checked~label.sk-toggleable__label {background-color: #d4ebff;}#sk-container-id-1 input.sk-hidden--visually {border: 0;clip: rect(1px 1px 1px 1px);clip: rect(1px, 1px, 1px, 1px);height: 1px;margin: -1px;overflow: hidden;padding: 0;position: absolute;width: 1px;}#sk-container-id-1 div.sk-estimator {font-family: monospace;background-color: #f0f8ff;border: 1px dotted black;border-radius: 0.25em;box-sizing: border-box;margin-bottom: 0.5em;}#sk-container-id-1 div.sk-estimator:hover {background-color: #d4ebff;}#sk-container-id-1 div.sk-parallel-item::after {content: \"\";width: 100%;border-bottom: 1px solid gray;flex-grow: 1;}#sk-container-id-1 div.sk-label:hover label.sk-toggleable__label {background-color: #d4ebff;}#sk-container-id-1 div.sk-serial::before {content: \"\";position: absolute;border-left: 1px solid gray;box-sizing: border-box;top: 0;bottom: 0;left: 50%;z-index: 0;}#sk-container-id-1 div.sk-serial {display: flex;flex-direction: column;align-items: center;background-color: white;padding-right: 0.2em;padding-left: 0.2em;position: relative;}#sk-container-id-1 div.sk-item {position: relative;z-index: 1;}#sk-container-id-1 div.sk-parallel {display: flex;align-items: stretch;justify-content: center;background-color: white;position: relative;}#sk-container-id-1 div.sk-item::before, #sk-container-id-1 div.sk-parallel-item::before {content: \"\";position: absolute;border-left: 1px solid gray;box-sizing: border-box;top: 0;bottom: 0;left: 50%;z-index: -1;}#sk-container-id-1 div.sk-parallel-item {display: flex;flex-direction: column;z-index: 1;position: relative;background-color: white;}#sk-container-id-1 div.sk-parallel-item:first-child::after {align-self: flex-end;width: 50%;}#sk-container-id-1 div.sk-parallel-item:last-child::after {align-self: flex-start;width: 50%;}#sk-container-id-1 div.sk-parallel-item:only-child::after {width: 0;}#sk-container-id-1 div.sk-dashed-wrapped {border: 1px dashed gray;margin: 0 0.4em 0.5em 0.4em;box-sizing: border-box;padding-bottom: 0.4em;background-color: white;}#sk-container-id-1 div.sk-label label {font-family: monospace;font-weight: bold;display: inline-block;line-height: 1.2em;}#sk-container-id-1 div.sk-label-container {text-align: center;}#sk-container-id-1 div.sk-container {/* jupyter's `normalize.less` sets `[hidden] { display: none; }` but bootstrap.min.css set `[hidden] { display: none !important; }` so we also need the `!important` here to be able to override the default hidden behavior on the sphinx rendered scikit-learn.org. See: https://github.com/scikit-learn/scikit-learn/issues/21755 */display: inline-block !important;position: relative;}#sk-container-id-1 div.sk-text-repr-fallback {display: none;}</style><div id=\"sk-container-id-1\" class=\"sk-top-container\"><div class=\"sk-text-repr-fallback\"><pre>DecisionTreeClassifier(criterion=&#x27;entropy&#x27;, random_state=101)</pre><b>In a Jupyter environment, please rerun this cell to show the HTML representation or trust the notebook. <br />On GitHub, the HTML representation is unable to render, please try loading this page with nbviewer.org.</b></div><div class=\"sk-container\" hidden><div class=\"sk-item\"><div class=\"sk-estimator sk-toggleable\"><input class=\"sk-toggleable__control sk-hidden--visually\" id=\"sk-estimator-id-1\" type=\"checkbox\" checked><label for=\"sk-estimator-id-1\" class=\"sk-toggleable__label sk-toggleable__label-arrow\">DecisionTreeClassifier</label><div class=\"sk-toggleable__content\"><pre>DecisionTreeClassifier(criterion=&#x27;entropy&#x27;, random_state=101)</pre></div></div></div></div></div>"
      ],
      "text/plain": [
       "DecisionTreeClassifier(criterion='entropy', random_state=101)"
      ]
     },
     "execution_count": 10,
     "metadata": {},
     "output_type": "execute_result"
    }
   ],
   "source": [
    "exercise_data = make_exercise_data()\n",
    "X, y = separate_target_variable(exercise_data)\n",
    "X = process_categorical_features(X)\n",
    "\n",
    "# Import the model\n",
    "# YOUR CODE HERE\n",
    "from sklearn.tree import DecisionTreeClassifier\n",
    "\n",
    "\n",
    "# Instantiate the model with random_state=101, and assign it to variable \"model\". Then fit it to the data\n",
    "# model = ...\n",
    "# YOUR CODE HERE\n",
    "model = DecisionTreeClassifier(criterion='entropy', random_state=101)\n",
    "model.fit(X, y)"
   ]
  },
  {
   "cell_type": "code",
   "execution_count": 11,
   "metadata": {
    "ExecuteTime": {
     "end_time": "2023-12-10T19:58:57.624174Z",
     "start_time": "2023-12-10T19:58:57.611156Z"
    },
    "deletable": false,
    "editable": false,
    "nbgrader": {
     "grade": true,
     "grade_id": "cell-2b25486151a99ff4",
     "locked": true,
     "points": 3,
     "schema_version": 3,
     "solution": false
    }
   },
   "outputs": [],
   "source": [
    "params_hash = 'b36370dbaaeacc0c3ecce968a9facd8dfe2188ee3237bc97e6552d08bbaa293a'\n",
    "assert hashlib.sha256(str(model.get_params()).encode('utf-8')).hexdigest() == params_hash, \"Did you set all the required parameters?\""
   ]
  },
  {
   "cell_type": "markdown",
   "metadata": {
    "deletable": false,
    "editable": false,
    "nbgrader": {
     "grade": false,
     "grade_id": "cell-2b16bb4342d9273f",
     "locked": true,
     "schema_version": 3,
     "solution": false,
     "task": false
    }
   },
   "source": [
    "### 1.3.2 Analyze the resulting tree, and answer questions."
   ]
  },
  {
   "cell_type": "code",
   "execution_count": 12,
   "metadata": {
    "ExecuteTime": {
     "end_time": "2023-12-10T19:59:06.531464Z",
     "start_time": "2023-12-10T19:59:02.110631Z"
    },
    "deletable": false,
    "editable": false,
    "nbgrader": {
     "grade": false,
     "grade_id": "cell-305f6ceccf83d72f",
     "locked": true,
     "schema_version": 3,
     "solution": false,
     "task": false
    }
   },
   "outputs": [
    {
     "data": {
      "image/png": "[encoded data removed]",
      "text/plain": [
       "<IPython.core.display.Image object>"
      ]
     },
     "execution_count": 12,
     "metadata": {},
     "output_type": "execute_result"
    }
   ],
   "source": [
    "tree = visualize_tree(model, X.columns, [\"negative_class\", \"positive_class\"])\n",
    "Image(tree)"
   ]
  },
  {
   "cell_type": "markdown",
   "metadata": {
    "deletable": false,
    "editable": false,
    "nbgrader": {
     "grade": false,
     "grade_id": "cell-6071b6c8ab8707a9",
     "locked": true,
     "schema_version": 3,
     "solution": false,
     "task": false
    }
   },
   "source": [
    "a) A new instance of data has the following features: \n",
    "\n",
    "* `fruit` is not equal to `papaya`;\n",
    "* `Region` is not equal to `Central America`;\n",
    "* `sweet` is not equal to `y`.\n",
    "\n",
    "What class does this new instance belong to? ('positive_class' or 'negative_class'). \n",
    "Assign the answer to variable `a_answer`"
   ]
  },
  {
   "cell_type": "code",
   "execution_count": 13,
   "metadata": {
    "ExecuteTime": {
     "end_time": "2023-12-10T19:59:30.106814Z",
     "start_time": "2023-12-10T19:59:30.101481Z"
    },
    "deletable": false,
    "nbgrader": {
     "grade": false,
     "grade_id": "cell-3121ada0143f47eb",
     "locked": false,
     "schema_version": 3,
     "solution": true,
     "task": false
    }
   },
   "outputs": [],
   "source": [
    "# a_answer = ...\n",
    "# YOUR CODE HERE\n",
    "a_answer = \"positive_class\""
   ]
  },
  {
   "cell_type": "markdown",
   "metadata": {
    "deletable": false,
    "editable": false,
    "nbgrader": {
     "grade": false,
     "grade_id": "cell-b5731dacae1388ca",
     "locked": true,
     "schema_version": 3,
     "solution": false,
     "task": false
    }
   },
   "source": [
    "b)  There is a **false sentence** in the options bellow. Please, **assign the number (1, 2, 3 or 4)** of the FALSE statement you think it is to variable b_answer:\n",
    "\n",
    "1. When building a decision tree using the ID3 algorithm,  at each split, we select the attribute test that leads to the highest information gain.\n",
    "2. Decision trees aren't extremely robust to overfitting.\n",
    "3. We can use a decision tree to represent a set of complex rules.\n",
    "4. Entropy can be seen as a measure of homogeneity in a set of values. The more entropy, the more homogeneous it will be."
   ]
  },
  {
   "cell_type": "code",
   "execution_count": 14,
   "metadata": {
    "ExecuteTime": {
     "end_time": "2023-12-10T19:59:39.705587Z",
     "start_time": "2023-12-10T19:59:39.698599Z"
    },
    "deletable": false,
    "nbgrader": {
     "grade": false,
     "grade_id": "cell-8dc20adf21b9b42a",
     "locked": false,
     "schema_version": 3,
     "solution": true,
     "task": false
    }
   },
   "outputs": [],
   "source": [
    "# b_answer = ...\n",
    "# YOUR CODE HERE\n",
    "b_answer = 4"
   ]
  },
  {
   "cell_type": "markdown",
   "metadata": {
    "deletable": false,
    "editable": false,
    "nbgrader": {
     "grade": false,
     "grade_id": "cell-62ffd43b55d81c25",
     "locked": true,
     "schema_version": 3,
     "solution": false,
     "task": false
    }
   },
   "source": [
    "c) What is the name of the most important_feature? Assign it to variable `c_answer`. Feel free to use any functions/methods needed to obtain this answer."
   ]
  },
  {
   "cell_type": "code",
   "execution_count": 16,
   "metadata": {
    "ExecuteTime": {
     "end_time": "2023-12-10T20:00:07.220736Z",
     "start_time": "2023-12-10T20:00:07.203049Z"
    },
    "deletable": false,
    "nbgrader": {
     "grade": false,
     "grade_id": "cell-d69772097f40e125",
     "locked": false,
     "schema_version": 3,
     "solution": true,
     "task": false
    }
   },
   "outputs": [
    {
     "data": {
      "text/plain": [
       "sweet_n                   0.340730\n",
       "fruit_papaya              0.326225\n",
       "Region_Central America    0.236225\n",
       "sweet_y                   0.096820\n",
       "fruit_oranges             0.000000\n",
       "Region_Central Asia       0.000000\n",
       "dtype: float64"
      ]
     },
     "execution_count": 16,
     "metadata": {},
     "output_type": "execute_result"
    }
   ],
   "source": [
    "# feature_importances = ...\n",
    "# c_answer = ...\n",
    "\n",
    "# YOUR CODE HERE\n",
    "c_answer = \"sweet_n\"\n",
    "\n",
    "feature_importances = pd.Series(data=model.feature_importances_, index=X.columns)\n",
    "feature_importances.sort_values(ascending=False)"
   ]
  },
  {
   "cell_type": "code",
   "execution_count": 17,
   "metadata": {
    "ExecuteTime": {
     "end_time": "2023-12-10T20:00:07.727833Z",
     "start_time": "2023-12-10T20:00:07.720205Z"
    },
    "deletable": false,
    "editable": false,
    "nbgrader": {
     "grade": true,
     "grade_id": "cell-9f9ede8eb23ecb90",
     "locked": true,
     "points": 5,
     "schema_version": 3,
     "solution": false,
     "task": false
    }
   },
   "outputs": [],
   "source": [
    "all_answers_hash = '1994fd1728d54357ea19c30343ce6f08efe1d793ca0d8f238fb646bb22f3a550'\n",
    "final_answer = str(b_answer) + a_answer + c_answer\n",
    "assert hashlib.sha256(final_answer.encode('utf-8')).hexdigest() == all_answers_hash, \"One or more of the answers are wrong!\""
   ]
  },
  {
   "cell_type": "markdown",
   "metadata": {
    "deletable": false,
    "editable": false,
    "nbgrader": {
     "grade": false,
     "grade_id": "cell-fd2ce5a9573d00ff",
     "locked": true,
     "schema_version": 3,
     "solution": false
    }
   },
   "source": [
    "# Exercise 2 - Random Forests"
   ]
  },
  {
   "cell_type": "markdown",
   "metadata": {
    "deletable": false,
    "editable": false,
    "nbgrader": {
     "grade": false,
     "grade_id": "cell-2367f357f5eb7f4a",
     "locked": true,
     "schema_version": 3,
     "solution": false
    }
   },
   "source": [
    "## 2.1 Bagging\n",
    "\n",
    "Assign the lowercase letter of the **incorrect statement** to variable `bagging_answer`:\n",
    "\n",
    "a) Bagging is an ensemble method in which the predictions of several weak learners are combined to generate a final prediction.\n",
    "\n",
    "b) Bagging involves creating multiple data sets by sampling columns.\n",
    "\n",
    "c) Bootstrapping, often used when bagging, is the creation of several datasets through row sampling of a main dataset.\n",
    "\n",
    "d) Bagging helps to deal with overfitting, which is a big risk when using Decision Trees."
   ]
  },
  {
   "cell_type": "code",
   "execution_count": 18,
   "metadata": {
    "ExecuteTime": {
     "end_time": "2023-12-10T20:00:20.641432Z",
     "start_time": "2023-12-10T20:00:20.636078Z"
    },
    "deletable": false,
    "nbgrader": {
     "grade": false,
     "grade_id": "cell-c734638ada0323ab",
     "locked": false,
     "schema_version": 3,
     "solution": true
    }
   },
   "outputs": [],
   "source": [
    "# bagging_answer = ...\n",
    "# YOUR CODE HERE\n",
    "bagging_answer = \"b\""
   ]
  },
  {
   "cell_type": "code",
   "execution_count": 19,
   "metadata": {
    "ExecuteTime": {
     "end_time": "2023-12-10T20:00:21.789138Z",
     "start_time": "2023-12-10T20:00:21.783220Z"
    },
    "deletable": false,
    "editable": false,
    "nbgrader": {
     "grade": true,
     "grade_id": "cell-f0ee1005cf77cd42",
     "locked": true,
     "points": 2,
     "schema_version": 3,
     "solution": false
    }
   },
   "outputs": [],
   "source": [
    "bagging_hash = '3e23e8160039594a33894f6564e1b1348bbd7a0088d42c4acb73eeaed59c009d'\n",
    "assert hashlib.sha256(bagging_answer.encode('utf-8')).hexdigest() == bagging_hash"
   ]
  },
  {
   "cell_type": "markdown",
   "metadata": {
    "deletable": false,
    "editable": false,
    "nbgrader": {
     "grade": false,
     "grade_id": "cell-0eaa70d393975c48",
     "locked": true,
     "schema_version": 3,
     "solution": false
    }
   },
   "source": [
    "## 2.2 Random forests\n",
    "\n",
    "Assign the lowercase letter of the **incorrect statement** to variable `forest_answer`:\n",
    "\n",
    "a) We use random feature selection with random forests to force our models to be \"creative\" and adapt to not having access to the full information, thus increasing diversity inside the ensemble.\n",
    "\n",
    "b) Random forests aggregate the predictions of multiple models running in parallel\n",
    "\n",
    "c) Random forests aggregates the predictions of multiple models running sequentially.\n",
    "\n",
    "d) Random forests rely on random feature selection before each split."
   ]
  },
  {
   "cell_type": "code",
   "execution_count": 20,
   "metadata": {
    "ExecuteTime": {
     "end_time": "2023-12-10T20:00:31.701486Z",
     "start_time": "2023-12-10T20:00:31.697066Z"
    },
    "deletable": false,
    "nbgrader": {
     "grade": false,
     "grade_id": "cell-7841ec3e8a3d8ab4",
     "locked": false,
     "schema_version": 3,
     "solution": true
    }
   },
   "outputs": [],
   "source": [
    "# forest_answer = ...\n",
    "# YOUR CODE HERE\n",
    "forest_answer = \"c\""
   ]
  },
  {
   "cell_type": "code",
   "execution_count": 21,
   "metadata": {
    "ExecuteTime": {
     "end_time": "2023-12-10T20:00:33.634287Z",
     "start_time": "2023-12-10T20:00:33.629267Z"
    },
    "deletable": false,
    "editable": false,
    "nbgrader": {
     "grade": true,
     "grade_id": "cell-d7e4db2d6899e82f",
     "locked": true,
     "points": 1,
     "schema_version": 3,
     "solution": false
    }
   },
   "outputs": [],
   "source": [
    "expected_hash_11 = '2e7d2c03a9507ae265ecf5b5356885a53393a2029d241394997265a1a25aefc6'\n",
    "assert hashlib.sha256(forest_answer.encode('utf-8')).hexdigest() == expected_hash_11"
   ]
  },
  {
   "cell_type": "markdown",
   "metadata": {
    "deletable": false,
    "editable": false,
    "nbgrader": {
     "grade": false,
     "grade_id": "cell-d81f6f19292ecf56",
     "locked": true,
     "schema_version": 3,
     "solution": false,
     "task": false
    }
   },
   "source": [
    "# Exercise 3 - Gradient boosting\n",
    "\n",
    "Assign the lowercase letter of the **incorrect statement** to variable `boosting_answer`:\n",
    "\n",
    "a) Gradient boosting fits individual trees sequentially, to the negative gradients of the previous tree.\n",
    "\n",
    "b) Gradient boosting is fairly robust to over-fitting so a large number of estimators usually results in worst performance.\n",
    "\n",
    "c) Gradient boosting can only be used to optimize the squared error loss function.\n",
    "\n",
    "d) Gradient boosting fits individual trees on the pseudo-residuals of the previous tree."
   ]
  },
  {
   "cell_type": "code",
   "execution_count": 22,
   "metadata": {
    "ExecuteTime": {
     "end_time": "2023-12-10T20:00:42.084141Z",
     "start_time": "2023-12-10T20:00:42.078270Z"
    },
    "deletable": false,
    "nbgrader": {
     "grade": false,
     "grade_id": "cell-19d101619190adb0",
     "locked": false,
     "schema_version": 3,
     "solution": true
    }
   },
   "outputs": [],
   "source": [
    "# boosting_answer = ...\n",
    "# YOUR CODE HERE\n",
    "boosting_answer = \"b\"\n"
   ]
  },
  {
   "cell_type": "code",
   "execution_count": 23,
   "metadata": {
    "ExecuteTime": {
     "end_time": "2023-12-10T20:00:42.588915Z",
     "start_time": "2023-12-10T20:00:42.583446Z"
    },
    "deletable": false,
    "editable": false,
    "nbgrader": {
     "grade": true,
     "grade_id": "cell-2aa78ad9cfadcba8",
     "locked": true,
     "points": 2,
     "schema_version": 3,
     "solution": false
    }
   },
   "outputs": [],
   "source": [
    "expected_hash_12 = '3e23e8160039594a33894f6564e1b1348bbd7a0088d42c4acb73eeaed59c009d'\n",
    "assert hashlib.sha256(boosting_answer.encode('utf-8')).hexdigest() == expected_hash_12"
   ]
  },
  {
   "cell_type": "markdown",
   "metadata": {
    "deletable": false,
    "editable": false,
    "nbgrader": {
     "grade": false,
     "grade_id": "cell-77e081ecbdb73194",
     "locked": true,
     "schema_version": 3,
     "solution": false,
     "task": false
    }
   },
   "source": [
    "---"
   ]
  }
 ],
 "metadata": {
  "kernelspec": {
   "display_name": "Python 3 (ipykernel)",
   "language": "python",
   "name": "python3"
  },
  "language_info": {
   "codemirror_mode": {
    "name": "ipython",
    "version": 3
   },
   "file_extension": ".py",
   "mimetype": "text/x-python",
   "name": "python",
   "nbconvert_exporter": "python",
   "pygments_lexer": "ipython3",
   "version": "3.10.6"
  },
  "toc": {
   "base_numbering": 1,
   "nav_menu": {},
   "number_sections": true,
   "sideBar": true,
   "skip_h1_title": false,
   "title_cell": "Table of Contents",
   "title_sidebar": "Contents",
   "toc_cell": false,
   "toc_position": {},
   "toc_section_display": true,
   "toc_window_display": false
  }
 },
 "nbformat": 4,
 "nbformat_minor": 2
}
