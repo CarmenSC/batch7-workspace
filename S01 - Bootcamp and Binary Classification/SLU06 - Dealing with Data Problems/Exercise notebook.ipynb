{
 "cells": [
  {
   "cell_type": "markdown",
   "id": "29fa1514",
   "metadata": {
    "deletable": false,
    "editable": false,
    "nbgrader": {
     "grade": false,
     "grade_id": "cell-1bd4194db78c2f35",
     "locked": true,
     "schema_version": 3,
     "solution": false,
     "task": false
    }
   },
   "source": [
    "# SLU06 - Dealing with Data Problems\n"
   ]
  },
  {
   "cell_type": "code",
   "execution_count": 19,
   "id": "8c941627",
   "metadata": {
    "ExecuteTime": {
     "end_time": "2023-12-04T00:52:00.410598Z",
     "start_time": "2023-12-04T00:51:50.129031Z"
    }
   },
   "outputs": [
    {
     "name": "stdout",
     "output_type": "stream",
     "text": [
      "Requirement already satisfied: nbgrader==0.8.4 in /Users/Carmen/.pyenv/versions/3.10.6/envs/s01/lib/python3.10/site-packages (from -r requirements.txt (line 1)) (0.8.4)\n",
      "Requirement already satisfied: pandas==2.1.0 in /Users/Carmen/.pyenv/versions/3.10.6/envs/s01/lib/python3.10/site-packages (from -r requirements.txt (line 2)) (2.1.0)\n",
      "Requirement already satisfied: matplotlib==3.7.2 in /Users/Carmen/.pyenv/versions/3.10.6/envs/s01/lib/python3.10/site-packages (from -r requirements.txt (line 3)) (3.7.2)\n",
      "Requirement already satisfied: scikit-learn==1.3.0 in /Users/Carmen/.pyenv/versions/3.10.6/envs/s01/lib/python3.10/site-packages (from -r requirements.txt (line 4)) (1.3.0)\n",
      "Requirement already satisfied: seaborn==0.12.2 in /Users/Carmen/.pyenv/versions/3.10.6/envs/s01/lib/python3.10/site-packages (from -r requirements.txt (line 5)) (0.12.2)\n",
      "Requirement already satisfied: category-encoders==2.6.2 in /Users/Carmen/.pyenv/versions/3.10.6/envs/s01/lib/python3.10/site-packages (from -r requirements.txt (line 6)) (2.6.2)\n",
      "Requirement already satisfied: plotchecker==0.2.0 in /Users/Carmen/.pyenv/versions/3.10.6/envs/s01/lib/python3.10/site-packages (from -r requirements.txt (line 8)) (0.2.0)\n",
      "Requirement already satisfied: pycountry-convert==0.7.2 in /Users/Carmen/.pyenv/versions/3.10.6/envs/s01/lib/python3.10/site-packages (from -r requirements.txt (line 9)) (0.7.2)\n",
      "Requirement already satisfied: pydotplus==2.0.2 in /Users/Carmen/.pyenv/versions/3.10.6/envs/s01/lib/python3.10/site-packages (from -r requirements.txt (line 10)) (2.0.2)\n",
      "Requirement already satisfied: mlxtend==0.22.0 in /Users/Carmen/.pyenv/versions/3.10.6/envs/s01/lib/python3.10/site-packages (from -r requirements.txt (line 11)) (0.22.0)\n",
      "Requirement already satisfied: imbalanced-learn==0.11.0 in /Users/Carmen/.pyenv/versions/3.10.6/envs/s01/lib/python3.10/site-packages (from -r requirements.txt (line 12)) (0.11.0)\n",
      "Requirement already satisfied: alembic>=1.7 in /Users/Carmen/.pyenv/versions/3.10.6/envs/s01/lib/python3.10/site-packages (from nbgrader==0.8.4->-r requirements.txt (line 1)) (1.12.1)\n",
      "Requirement already satisfied: ipython>=8.10.0 in /Users/Carmen/.pyenv/versions/3.10.6/envs/s01/lib/python3.10/site-packages (from nbgrader==0.8.4->-r requirements.txt (line 1)) (8.16.1)\n",
      "Requirement already satisfied: ipywidgets>=7.6 in /Users/Carmen/.pyenv/versions/3.10.6/envs/s01/lib/python3.10/site-packages (from nbgrader==0.8.4->-r requirements.txt (line 1)) (8.1.1)\n",
      "Requirement already satisfied: jinja2>=3 in /Users/Carmen/.pyenv/versions/3.10.6/envs/s01/lib/python3.10/site-packages (from nbgrader==0.8.4->-r requirements.txt (line 1)) (3.1.2)\n",
      "Requirement already satisfied: jsonschema>=3 in /Users/Carmen/.pyenv/versions/3.10.6/envs/s01/lib/python3.10/site-packages (from nbgrader==0.8.4->-r requirements.txt (line 1)) (4.19.1)\n",
      "Requirement already satisfied: jupyter-client<9 in /Users/Carmen/.pyenv/versions/3.10.6/envs/s01/lib/python3.10/site-packages (from nbgrader==0.8.4->-r requirements.txt (line 1)) (7.4.9)\n",
      "Requirement already satisfied: jupyter-server<2,>=1.12 in /Users/Carmen/.pyenv/versions/3.10.6/envs/s01/lib/python3.10/site-packages (from nbgrader==0.8.4->-r requirements.txt (line 1)) (1.24.0)\n",
      "Requirement already satisfied: jupyterlab-server in /Users/Carmen/.pyenv/versions/3.10.6/envs/s01/lib/python3.10/site-packages (from nbgrader==0.8.4->-r requirements.txt (line 1)) (2.25.0)\n",
      "Requirement already satisfied: jupyterlab<4 in /Users/Carmen/.pyenv/versions/3.10.6/envs/s01/lib/python3.10/site-packages (from nbgrader==0.8.4->-r requirements.txt (line 1)) (3.6.6)\n",
      "Requirement already satisfied: nbclient>=0.6.1 in /Users/Carmen/.pyenv/versions/3.10.6/envs/s01/lib/python3.10/site-packages (from nbgrader==0.8.4->-r requirements.txt (line 1)) (0.8.0)\n",
      "Requirement already satisfied: nbconvert>=6 in /Users/Carmen/.pyenv/versions/3.10.6/envs/s01/lib/python3.10/site-packages (from nbgrader==0.8.4->-r requirements.txt (line 1)) (7.9.2)\n",
      "Requirement already satisfied: notebook<7,>=6.4 in /Users/Carmen/.pyenv/versions/3.10.6/envs/s01/lib/python3.10/site-packages (from nbgrader==0.8.4->-r requirements.txt (line 1)) (6.5.6)\n",
      "Requirement already satisfied: python-dateutil>=2.8 in /Users/Carmen/.pyenv/versions/3.10.6/envs/s01/lib/python3.10/site-packages (from nbgrader==0.8.4->-r requirements.txt (line 1)) (2.8.2)\n",
      "Requirement already satisfied: rapidfuzz>=1.8 in /Users/Carmen/.pyenv/versions/3.10.6/envs/s01/lib/python3.10/site-packages (from nbgrader==0.8.4->-r requirements.txt (line 1)) (3.4.0)\n",
      "Requirement already satisfied: requests>=2.26 in /Users/Carmen/.pyenv/versions/3.10.6/envs/s01/lib/python3.10/site-packages (from nbgrader==0.8.4->-r requirements.txt (line 1)) (2.31.0)\n",
      "Requirement already satisfied: sqlalchemy<3,>=1.4 in /Users/Carmen/.pyenv/versions/3.10.6/envs/s01/lib/python3.10/site-packages (from nbgrader==0.8.4->-r requirements.txt (line 1)) (2.0.22)\n",
      "Requirement already satisfied: traitlets<6,>5.0 in /Users/Carmen/.pyenv/versions/3.10.6/envs/s01/lib/python3.10/site-packages (from nbgrader==0.8.4->-r requirements.txt (line 1)) (5.12.0)\n",
      "Requirement already satisfied: numpy>=1.22.4 in /Users/Carmen/.pyenv/versions/3.10.6/envs/s01/lib/python3.10/site-packages (from pandas==2.1.0->-r requirements.txt (line 2)) (1.26.1)\n",
      "Requirement already satisfied: pytz>=2020.1 in /Users/Carmen/.pyenv/versions/3.10.6/envs/s01/lib/python3.10/site-packages (from pandas==2.1.0->-r requirements.txt (line 2)) (2023.3.post1)\n",
      "Requirement already satisfied: tzdata>=2022.1 in /Users/Carmen/.pyenv/versions/3.10.6/envs/s01/lib/python3.10/site-packages (from pandas==2.1.0->-r requirements.txt (line 2)) (2023.3)\n",
      "Requirement already satisfied: contourpy>=1.0.1 in /Users/Carmen/.pyenv/versions/3.10.6/envs/s01/lib/python3.10/site-packages (from matplotlib==3.7.2->-r requirements.txt (line 3)) (1.1.1)\n",
      "Requirement already satisfied: cycler>=0.10 in /Users/Carmen/.pyenv/versions/3.10.6/envs/s01/lib/python3.10/site-packages (from matplotlib==3.7.2->-r requirements.txt (line 3)) (0.12.1)\n",
      "Requirement already satisfied: fonttools>=4.22.0 in /Users/Carmen/.pyenv/versions/3.10.6/envs/s01/lib/python3.10/site-packages (from matplotlib==3.7.2->-r requirements.txt (line 3)) (4.43.1)\n",
      "Requirement already satisfied: kiwisolver>=1.0.1 in /Users/Carmen/.pyenv/versions/3.10.6/envs/s01/lib/python3.10/site-packages (from matplotlib==3.7.2->-r requirements.txt (line 3)) (1.4.5)\n",
      "Requirement already satisfied: packaging>=20.0 in /Users/Carmen/.pyenv/versions/3.10.6/envs/s01/lib/python3.10/site-packages (from matplotlib==3.7.2->-r requirements.txt (line 3)) (23.2)\n",
      "Requirement already satisfied: pillow>=6.2.0 in /Users/Carmen/.pyenv/versions/3.10.6/envs/s01/lib/python3.10/site-packages (from matplotlib==3.7.2->-r requirements.txt (line 3)) (10.1.0)\n",
      "Requirement already satisfied: pyparsing<3.1,>=2.3.1 in /Users/Carmen/.pyenv/versions/3.10.6/envs/s01/lib/python3.10/site-packages (from matplotlib==3.7.2->-r requirements.txt (line 3)) (3.0.9)\n",
      "Requirement already satisfied: scipy>=1.5.0 in /Users/Carmen/.pyenv/versions/3.10.6/envs/s01/lib/python3.10/site-packages (from scikit-learn==1.3.0->-r requirements.txt (line 4)) (1.11.3)\n",
      "Requirement already satisfied: joblib>=1.1.1 in /Users/Carmen/.pyenv/versions/3.10.6/envs/s01/lib/python3.10/site-packages (from scikit-learn==1.3.0->-r requirements.txt (line 4)) (1.3.2)\n",
      "Requirement already satisfied: threadpoolctl>=2.0.0 in /Users/Carmen/.pyenv/versions/3.10.6/envs/s01/lib/python3.10/site-packages (from scikit-learn==1.3.0->-r requirements.txt (line 4)) (3.2.0)\n",
      "Requirement already satisfied: statsmodels>=0.9.0 in /Users/Carmen/.pyenv/versions/3.10.6/envs/s01/lib/python3.10/site-packages (from category-encoders==2.6.2->-r requirements.txt (line 6)) (0.14.0)\n",
      "Requirement already satisfied: patsy>=0.5.1 in /Users/Carmen/.pyenv/versions/3.10.6/envs/s01/lib/python3.10/site-packages (from category-encoders==2.6.2->-r requirements.txt (line 6)) (0.5.3)\n",
      "Requirement already satisfied: six in /Users/Carmen/.pyenv/versions/3.10.6/envs/s01/lib/python3.10/site-packages (from plotchecker==0.2.0->-r requirements.txt (line 8)) (1.16.0)\n",
      "Requirement already satisfied: pprintpp>=0.3.0 in /Users/Carmen/.pyenv/versions/3.10.6/envs/s01/lib/python3.10/site-packages (from pycountry-convert==0.7.2->-r requirements.txt (line 9)) (0.4.0)\n",
      "Requirement already satisfied: pycountry>=16.11.27.1 in /Users/Carmen/.pyenv/versions/3.10.6/envs/s01/lib/python3.10/site-packages (from pycountry-convert==0.7.2->-r requirements.txt (line 9)) (22.3.5)\n"
     ]
    },
    {
     "name": "stdout",
     "output_type": "stream",
     "text": [
      "Requirement already satisfied: pytest>=3.4.0 in /Users/Carmen/.pyenv/versions/3.10.6/envs/s01/lib/python3.10/site-packages (from pycountry-convert==0.7.2->-r requirements.txt (line 9)) (7.4.3)\n",
      "Requirement already satisfied: pytest-mock>=1.6.3 in /Users/Carmen/.pyenv/versions/3.10.6/envs/s01/lib/python3.10/site-packages (from pycountry-convert==0.7.2->-r requirements.txt (line 9)) (3.12.0)\n",
      "Requirement already satisfied: pytest-cov>=2.5.1 in /Users/Carmen/.pyenv/versions/3.10.6/envs/s01/lib/python3.10/site-packages (from pycountry-convert==0.7.2->-r requirements.txt (line 9)) (4.1.0)\n",
      "Requirement already satisfied: repoze.lru>=0.7 in /Users/Carmen/.pyenv/versions/3.10.6/envs/s01/lib/python3.10/site-packages (from pycountry-convert==0.7.2->-r requirements.txt (line 9)) (0.7)\n",
      "Requirement already satisfied: wheel>=0.30.0 in /Users/Carmen/.pyenv/versions/3.10.6/envs/s01/lib/python3.10/site-packages (from pycountry-convert==0.7.2->-r requirements.txt (line 9)) (0.41.2)\n",
      "Requirement already satisfied: setuptools in /Users/Carmen/.pyenv/versions/3.10.6/envs/s01/lib/python3.10/site-packages (from mlxtend==0.22.0->-r requirements.txt (line 11)) (68.2.2)\n",
      "Requirement already satisfied: Mako in /Users/Carmen/.pyenv/versions/3.10.6/envs/s01/lib/python3.10/site-packages (from alembic>=1.7->nbgrader==0.8.4->-r requirements.txt (line 1)) (1.2.4)\n",
      "Requirement already satisfied: typing-extensions>=4 in /Users/Carmen/.pyenv/versions/3.10.6/envs/s01/lib/python3.10/site-packages (from alembic>=1.7->nbgrader==0.8.4->-r requirements.txt (line 1)) (4.8.0)\n",
      "Requirement already satisfied: backcall in /Users/Carmen/.pyenv/versions/3.10.6/envs/s01/lib/python3.10/site-packages (from ipython>=8.10.0->nbgrader==0.8.4->-r requirements.txt (line 1)) (0.2.0)\n",
      "Requirement already satisfied: decorator in /Users/Carmen/.pyenv/versions/3.10.6/envs/s01/lib/python3.10/site-packages (from ipython>=8.10.0->nbgrader==0.8.4->-r requirements.txt (line 1)) (5.1.1)\n",
      "Requirement already satisfied: jedi>=0.16 in /Users/Carmen/.pyenv/versions/3.10.6/envs/s01/lib/python3.10/site-packages (from ipython>=8.10.0->nbgrader==0.8.4->-r requirements.txt (line 1)) (0.19.1)\n",
      "Requirement already satisfied: matplotlib-inline in /Users/Carmen/.pyenv/versions/3.10.6/envs/s01/lib/python3.10/site-packages (from ipython>=8.10.0->nbgrader==0.8.4->-r requirements.txt (line 1)) (0.1.6)\n",
      "Requirement already satisfied: pickleshare in /Users/Carmen/.pyenv/versions/3.10.6/envs/s01/lib/python3.10/site-packages (from ipython>=8.10.0->nbgrader==0.8.4->-r requirements.txt (line 1)) (0.7.5)\n",
      "Requirement already satisfied: prompt-toolkit!=3.0.37,<3.1.0,>=3.0.30 in /Users/Carmen/.pyenv/versions/3.10.6/envs/s01/lib/python3.10/site-packages (from ipython>=8.10.0->nbgrader==0.8.4->-r requirements.txt (line 1)) (3.0.39)\n",
      "Requirement already satisfied: pygments>=2.4.0 in /Users/Carmen/.pyenv/versions/3.10.6/envs/s01/lib/python3.10/site-packages (from ipython>=8.10.0->nbgrader==0.8.4->-r requirements.txt (line 1)) (2.16.1)\n",
      "Requirement already satisfied: stack-data in /Users/Carmen/.pyenv/versions/3.10.6/envs/s01/lib/python3.10/site-packages (from ipython>=8.10.0->nbgrader==0.8.4->-r requirements.txt (line 1)) (0.6.3)\n",
      "Requirement already satisfied: exceptiongroup in /Users/Carmen/.pyenv/versions/3.10.6/envs/s01/lib/python3.10/site-packages (from ipython>=8.10.0->nbgrader==0.8.4->-r requirements.txt (line 1)) (1.1.3)\n",
      "Requirement already satisfied: pexpect>4.3 in /Users/Carmen/.pyenv/versions/3.10.6/envs/s01/lib/python3.10/site-packages (from ipython>=8.10.0->nbgrader==0.8.4->-r requirements.txt (line 1)) (4.8.0)\n",
      "Requirement already satisfied: appnope in /Users/Carmen/.pyenv/versions/3.10.6/envs/s01/lib/python3.10/site-packages (from ipython>=8.10.0->nbgrader==0.8.4->-r requirements.txt (line 1)) (0.1.3)\n",
      "Requirement already satisfied: comm>=0.1.3 in /Users/Carmen/.pyenv/versions/3.10.6/envs/s01/lib/python3.10/site-packages (from ipywidgets>=7.6->nbgrader==0.8.4->-r requirements.txt (line 1)) (0.1.4)\n",
      "Requirement already satisfied: widgetsnbextension~=4.0.9 in /Users/Carmen/.pyenv/versions/3.10.6/envs/s01/lib/python3.10/site-packages (from ipywidgets>=7.6->nbgrader==0.8.4->-r requirements.txt (line 1)) (4.0.9)\n",
      "Requirement already satisfied: jupyterlab-widgets~=3.0.9 in /Users/Carmen/.pyenv/versions/3.10.6/envs/s01/lib/python3.10/site-packages (from ipywidgets>=7.6->nbgrader==0.8.4->-r requirements.txt (line 1)) (3.0.9)\n",
      "Requirement already satisfied: MarkupSafe>=2.0 in /Users/Carmen/.pyenv/versions/3.10.6/envs/s01/lib/python3.10/site-packages (from jinja2>=3->nbgrader==0.8.4->-r requirements.txt (line 1)) (2.1.3)\n",
      "Requirement already satisfied: attrs>=22.2.0 in /Users/Carmen/.pyenv/versions/3.10.6/envs/s01/lib/python3.10/site-packages (from jsonschema>=3->nbgrader==0.8.4->-r requirements.txt (line 1)) (23.1.0)\n",
      "Requirement already satisfied: jsonschema-specifications>=2023.03.6 in /Users/Carmen/.pyenv/versions/3.10.6/envs/s01/lib/python3.10/site-packages (from jsonschema>=3->nbgrader==0.8.4->-r requirements.txt (line 1)) (2023.7.1)\n",
      "Requirement already satisfied: referencing>=0.28.4 in /Users/Carmen/.pyenv/versions/3.10.6/envs/s01/lib/python3.10/site-packages (from jsonschema>=3->nbgrader==0.8.4->-r requirements.txt (line 1)) (0.30.2)\n",
      "Requirement already satisfied: rpds-py>=0.7.1 in /Users/Carmen/.pyenv/versions/3.10.6/envs/s01/lib/python3.10/site-packages (from jsonschema>=3->nbgrader==0.8.4->-r requirements.txt (line 1)) (0.10.6)\n",
      "Requirement already satisfied: entrypoints in /Users/Carmen/.pyenv/versions/3.10.6/envs/s01/lib/python3.10/site-packages (from jupyter-client<9->nbgrader==0.8.4->-r requirements.txt (line 1)) (0.4)\n",
      "Requirement already satisfied: jupyter-core>=4.9.2 in /Users/Carmen/.pyenv/versions/3.10.6/envs/s01/lib/python3.10/site-packages (from jupyter-client<9->nbgrader==0.8.4->-r requirements.txt (line 1)) (5.4.0)\n",
      "Requirement already satisfied: nest-asyncio>=1.5.4 in /Users/Carmen/.pyenv/versions/3.10.6/envs/s01/lib/python3.10/site-packages (from jupyter-client<9->nbgrader==0.8.4->-r requirements.txt (line 1)) (1.5.8)\n",
      "Requirement already satisfied: pyzmq>=23.0 in /Users/Carmen/.pyenv/versions/3.10.6/envs/s01/lib/python3.10/site-packages (from jupyter-client<9->nbgrader==0.8.4->-r requirements.txt (line 1)) (24.0.1)\n",
      "Requirement already satisfied: tornado>=6.2 in /Users/Carmen/.pyenv/versions/3.10.6/envs/s01/lib/python3.10/site-packages (from jupyter-client<9->nbgrader==0.8.4->-r requirements.txt (line 1)) (6.3.3)\n",
      "Requirement already satisfied: anyio<4,>=3.1.0 in /Users/Carmen/.pyenv/versions/3.10.6/envs/s01/lib/python3.10/site-packages (from jupyter-server<2,>=1.12->nbgrader==0.8.4->-r requirements.txt (line 1)) (3.7.1)\n",
      "Requirement already satisfied: argon2-cffi in /Users/Carmen/.pyenv/versions/3.10.6/envs/s01/lib/python3.10/site-packages (from jupyter-server<2,>=1.12->nbgrader==0.8.4->-r requirements.txt (line 1)) (23.1.0)\n",
      "Requirement already satisfied: nbformat>=5.2.0 in /Users/Carmen/.pyenv/versions/3.10.6/envs/s01/lib/python3.10/site-packages (from jupyter-server<2,>=1.12->nbgrader==0.8.4->-r requirements.txt (line 1)) (5.9.2)\n",
      "Requirement already satisfied: prometheus-client in /Users/Carmen/.pyenv/versions/3.10.6/envs/s01/lib/python3.10/site-packages (from jupyter-server<2,>=1.12->nbgrader==0.8.4->-r requirements.txt (line 1)) (0.17.1)\n",
      "Requirement already satisfied: Send2Trash in /Users/Carmen/.pyenv/versions/3.10.6/envs/s01/lib/python3.10/site-packages (from jupyter-server<2,>=1.12->nbgrader==0.8.4->-r requirements.txt (line 1)) (1.8.2)\n",
      "Requirement already satisfied: terminado>=0.8.3 in /Users/Carmen/.pyenv/versions/3.10.6/envs/s01/lib/python3.10/site-packages (from jupyter-server<2,>=1.12->nbgrader==0.8.4->-r requirements.txt (line 1)) (0.17.1)\n",
      "Requirement already satisfied: websocket-client in /Users/Carmen/.pyenv/versions/3.10.6/envs/s01/lib/python3.10/site-packages (from jupyter-server<2,>=1.12->nbgrader==0.8.4->-r requirements.txt (line 1)) (1.6.4)\n",
      "Requirement already satisfied: jupyter-ydoc~=0.2.4 in /Users/Carmen/.pyenv/versions/3.10.6/envs/s01/lib/python3.10/site-packages (from jupyterlab<4->nbgrader==0.8.4->-r requirements.txt (line 1)) (0.2.5)\n",
      "Requirement already satisfied: jupyter-server-ydoc~=0.8.0 in /Users/Carmen/.pyenv/versions/3.10.6/envs/s01/lib/python3.10/site-packages (from jupyterlab<4->nbgrader==0.8.4->-r requirements.txt (line 1)) (0.8.0)\n",
      "Requirement already satisfied: nbclassic in /Users/Carmen/.pyenv/versions/3.10.6/envs/s01/lib/python3.10/site-packages (from jupyterlab<4->nbgrader==0.8.4->-r requirements.txt (line 1)) (1.0.0)\n",
      "Requirement already satisfied: tomli in /Users/Carmen/.pyenv/versions/3.10.6/envs/s01/lib/python3.10/site-packages (from jupyterlab<4->nbgrader==0.8.4->-r requirements.txt (line 1)) (2.0.1)\n"
     ]
    },
    {
     "name": "stdout",
     "output_type": "stream",
     "text": [
      "Requirement already satisfied: babel>=2.10 in /Users/Carmen/.pyenv/versions/3.10.6/envs/s01/lib/python3.10/site-packages (from jupyterlab-server->nbgrader==0.8.4->-r requirements.txt (line 1)) (2.13.1)\n",
      "Requirement already satisfied: json5>=0.9.0 in /Users/Carmen/.pyenv/versions/3.10.6/envs/s01/lib/python3.10/site-packages (from jupyterlab-server->nbgrader==0.8.4->-r requirements.txt (line 1)) (0.9.14)\n",
      "Requirement already satisfied: beautifulsoup4 in /Users/Carmen/.pyenv/versions/3.10.6/envs/s01/lib/python3.10/site-packages (from nbconvert>=6->nbgrader==0.8.4->-r requirements.txt (line 1)) (4.12.2)\n",
      "Requirement already satisfied: bleach!=5.0.0 in /Users/Carmen/.pyenv/versions/3.10.6/envs/s01/lib/python3.10/site-packages (from nbconvert>=6->nbgrader==0.8.4->-r requirements.txt (line 1)) (6.1.0)\n",
      "Requirement already satisfied: defusedxml in /Users/Carmen/.pyenv/versions/3.10.6/envs/s01/lib/python3.10/site-packages (from nbconvert>=6->nbgrader==0.8.4->-r requirements.txt (line 1)) (0.7.1)\n",
      "Requirement already satisfied: jupyterlab-pygments in /Users/Carmen/.pyenv/versions/3.10.6/envs/s01/lib/python3.10/site-packages (from nbconvert>=6->nbgrader==0.8.4->-r requirements.txt (line 1)) (0.2.2)\n",
      "Requirement already satisfied: mistune<4,>=2.0.3 in /Users/Carmen/.pyenv/versions/3.10.6/envs/s01/lib/python3.10/site-packages (from nbconvert>=6->nbgrader==0.8.4->-r requirements.txt (line 1)) (3.0.2)\n",
      "Requirement already satisfied: pandocfilters>=1.4.1 in /Users/Carmen/.pyenv/versions/3.10.6/envs/s01/lib/python3.10/site-packages (from nbconvert>=6->nbgrader==0.8.4->-r requirements.txt (line 1)) (1.5.0)\n",
      "Requirement already satisfied: tinycss2 in /Users/Carmen/.pyenv/versions/3.10.6/envs/s01/lib/python3.10/site-packages (from nbconvert>=6->nbgrader==0.8.4->-r requirements.txt (line 1)) (1.2.1)\n",
      "Requirement already satisfied: ipython-genutils in /Users/Carmen/.pyenv/versions/3.10.6/envs/s01/lib/python3.10/site-packages (from notebook<7,>=6.4->nbgrader==0.8.4->-r requirements.txt (line 1)) (0.2.0)\n",
      "Requirement already satisfied: ipykernel in /Users/Carmen/.pyenv/versions/3.10.6/envs/s01/lib/python3.10/site-packages (from notebook<7,>=6.4->nbgrader==0.8.4->-r requirements.txt (line 1)) (6.26.0)\n",
      "Requirement already satisfied: iniconfig in /Users/Carmen/.pyenv/versions/3.10.6/envs/s01/lib/python3.10/site-packages (from pytest>=3.4.0->pycountry-convert==0.7.2->-r requirements.txt (line 9)) (2.0.0)\n",
      "Requirement already satisfied: pluggy<2.0,>=0.12 in /Users/Carmen/.pyenv/versions/3.10.6/envs/s01/lib/python3.10/site-packages (from pytest>=3.4.0->pycountry-convert==0.7.2->-r requirements.txt (line 9)) (1.3.0)\n",
      "Requirement already satisfied: coverage>=5.2.1 in /Users/Carmen/.pyenv/versions/3.10.6/envs/s01/lib/python3.10/site-packages (from coverage[toml]>=5.2.1->pytest-cov>=2.5.1->pycountry-convert==0.7.2->-r requirements.txt (line 9)) (7.3.2)\n",
      "Requirement already satisfied: charset-normalizer<4,>=2 in /Users/Carmen/.pyenv/versions/3.10.6/envs/s01/lib/python3.10/site-packages (from requests>=2.26->nbgrader==0.8.4->-r requirements.txt (line 1)) (3.3.1)\n",
      "Requirement already satisfied: idna<4,>=2.5 in /Users/Carmen/.pyenv/versions/3.10.6/envs/s01/lib/python3.10/site-packages (from requests>=2.26->nbgrader==0.8.4->-r requirements.txt (line 1)) (3.4)\n",
      "Requirement already satisfied: urllib3<3,>=1.21.1 in /Users/Carmen/.pyenv/versions/3.10.6/envs/s01/lib/python3.10/site-packages (from requests>=2.26->nbgrader==0.8.4->-r requirements.txt (line 1)) (2.0.7)\n",
      "Requirement already satisfied: certifi>=2017.4.17 in /Users/Carmen/.pyenv/versions/3.10.6/envs/s01/lib/python3.10/site-packages (from requests>=2.26->nbgrader==0.8.4->-r requirements.txt (line 1)) (2023.7.22)\n",
      "Requirement already satisfied: greenlet!=0.4.17 in /Users/Carmen/.pyenv/versions/3.10.6/envs/s01/lib/python3.10/site-packages (from sqlalchemy<3,>=1.4->nbgrader==0.8.4->-r requirements.txt (line 1)) (3.0.1)\n",
      "Requirement already satisfied: sniffio>=1.1 in /Users/Carmen/.pyenv/versions/3.10.6/envs/s01/lib/python3.10/site-packages (from anyio<4,>=3.1.0->jupyter-server<2,>=1.12->nbgrader==0.8.4->-r requirements.txt (line 1)) (1.3.0)\n",
      "Requirement already satisfied: webencodings in /Users/Carmen/.pyenv/versions/3.10.6/envs/s01/lib/python3.10/site-packages (from bleach!=5.0.0->nbconvert>=6->nbgrader==0.8.4->-r requirements.txt (line 1)) (0.5.1)\n",
      "Requirement already satisfied: parso<0.9.0,>=0.8.3 in /Users/Carmen/.pyenv/versions/3.10.6/envs/s01/lib/python3.10/site-packages (from jedi>=0.16->ipython>=8.10.0->nbgrader==0.8.4->-r requirements.txt (line 1)) (0.8.3)\n",
      "Requirement already satisfied: platformdirs>=2.5 in /Users/Carmen/.pyenv/versions/3.10.6/envs/s01/lib/python3.10/site-packages (from jupyter-core>=4.9.2->jupyter-client<9->nbgrader==0.8.4->-r requirements.txt (line 1)) (3.11.0)\n",
      "Requirement already satisfied: jupyter-server-fileid<1,>=0.6.0 in /Users/Carmen/.pyenv/versions/3.10.6/envs/s01/lib/python3.10/site-packages (from jupyter-server-ydoc~=0.8.0->jupyterlab<4->nbgrader==0.8.4->-r requirements.txt (line 1)) (0.9.0)\n",
      "Requirement already satisfied: ypy-websocket<0.9.0,>=0.8.2 in /Users/Carmen/.pyenv/versions/3.10.6/envs/s01/lib/python3.10/site-packages (from jupyter-server-ydoc~=0.8.0->jupyterlab<4->nbgrader==0.8.4->-r requirements.txt (line 1)) (0.8.4)\n",
      "Requirement already satisfied: y-py<0.7.0,>=0.6.0 in /Users/Carmen/.pyenv/versions/3.10.6/envs/s01/lib/python3.10/site-packages (from jupyter-ydoc~=0.2.4->jupyterlab<4->nbgrader==0.8.4->-r requirements.txt (line 1)) (0.6.2)\n",
      "Requirement already satisfied: notebook-shim>=0.2.3 in /Users/Carmen/.pyenv/versions/3.10.6/envs/s01/lib/python3.10/site-packages (from nbclassic->jupyterlab<4->nbgrader==0.8.4->-r requirements.txt (line 1)) (0.2.3)\n",
      "Requirement already satisfied: fastjsonschema in /Users/Carmen/.pyenv/versions/3.10.6/envs/s01/lib/python3.10/site-packages (from nbformat>=5.2.0->jupyter-server<2,>=1.12->nbgrader==0.8.4->-r requirements.txt (line 1)) (2.18.1)\n",
      "Requirement already satisfied: ptyprocess>=0.5 in /Users/Carmen/.pyenv/versions/3.10.6/envs/s01/lib/python3.10/site-packages (from pexpect>4.3->ipython>=8.10.0->nbgrader==0.8.4->-r requirements.txt (line 1)) (0.7.0)\n",
      "Requirement already satisfied: wcwidth in /Users/Carmen/.pyenv/versions/3.10.6/envs/s01/lib/python3.10/site-packages (from prompt-toolkit!=3.0.37,<3.1.0,>=3.0.30->ipython>=8.10.0->nbgrader==0.8.4->-r requirements.txt (line 1)) (0.2.8)\n",
      "Requirement already satisfied: argon2-cffi-bindings in /Users/Carmen/.pyenv/versions/3.10.6/envs/s01/lib/python3.10/site-packages (from argon2-cffi->jupyter-server<2,>=1.12->nbgrader==0.8.4->-r requirements.txt (line 1)) (21.2.0)\n",
      "Requirement already satisfied: soupsieve>1.2 in /Users/Carmen/.pyenv/versions/3.10.6/envs/s01/lib/python3.10/site-packages (from beautifulsoup4->nbconvert>=6->nbgrader==0.8.4->-r requirements.txt (line 1)) (2.5)\n",
      "Requirement already satisfied: debugpy>=1.6.5 in /Users/Carmen/.pyenv/versions/3.10.6/envs/s01/lib/python3.10/site-packages (from ipykernel->notebook<7,>=6.4->nbgrader==0.8.4->-r requirements.txt (line 1)) (1.8.0)\n",
      "Requirement already satisfied: psutil in /Users/Carmen/.pyenv/versions/3.10.6/envs/s01/lib/python3.10/site-packages (from ipykernel->notebook<7,>=6.4->nbgrader==0.8.4->-r requirements.txt (line 1)) (5.9.6)\n",
      "Requirement already satisfied: executing>=1.2.0 in /Users/Carmen/.pyenv/versions/3.10.6/envs/s01/lib/python3.10/site-packages (from stack-data->ipython>=8.10.0->nbgrader==0.8.4->-r requirements.txt (line 1)) (2.0.0)\n",
      "Requirement already satisfied: asttokens>=2.1.0 in /Users/Carmen/.pyenv/versions/3.10.6/envs/s01/lib/python3.10/site-packages (from stack-data->ipython>=8.10.0->nbgrader==0.8.4->-r requirements.txt (line 1)) (2.4.1)\n",
      "Requirement already satisfied: pure-eval in /Users/Carmen/.pyenv/versions/3.10.6/envs/s01/lib/python3.10/site-packages (from stack-data->ipython>=8.10.0->nbgrader==0.8.4->-r requirements.txt (line 1)) (0.2.2)\n",
      "Requirement already satisfied: jupyter-events>=0.5.0 in /Users/Carmen/.pyenv/versions/3.10.6/envs/s01/lib/python3.10/site-packages (from jupyter-server-fileid<1,>=0.6.0->jupyter-server-ydoc~=0.8.0->jupyterlab<4->nbgrader==0.8.4->-r requirements.txt (line 1)) (0.8.0)\n",
      "Requirement already satisfied: aiofiles<23,>=22.1.0 in /Users/Carmen/.pyenv/versions/3.10.6/envs/s01/lib/python3.10/site-packages (from ypy-websocket<0.9.0,>=0.8.2->jupyter-server-ydoc~=0.8.0->jupyterlab<4->nbgrader==0.8.4->-r requirements.txt (line 1)) (22.1.0)\n",
      "Requirement already satisfied: aiosqlite<1,>=0.17.0 in /Users/Carmen/.pyenv/versions/3.10.6/envs/s01/lib/python3.10/site-packages (from ypy-websocket<0.9.0,>=0.8.2->jupyter-server-ydoc~=0.8.0->jupyterlab<4->nbgrader==0.8.4->-r requirements.txt (line 1)) (0.19.0)\n"
     ]
    },
    {
     "name": "stdout",
     "output_type": "stream",
     "text": [
      "Requirement already satisfied: cffi>=1.0.1 in /Users/Carmen/.pyenv/versions/3.10.6/envs/s01/lib/python3.10/site-packages (from argon2-cffi-bindings->argon2-cffi->jupyter-server<2,>=1.12->nbgrader==0.8.4->-r requirements.txt (line 1)) (1.16.0)\n",
      "Requirement already satisfied: pycparser in /Users/Carmen/.pyenv/versions/3.10.6/envs/s01/lib/python3.10/site-packages (from cffi>=1.0.1->argon2-cffi-bindings->argon2-cffi->jupyter-server<2,>=1.12->nbgrader==0.8.4->-r requirements.txt (line 1)) (2.21)\n",
      "Requirement already satisfied: python-json-logger>=2.0.4 in /Users/Carmen/.pyenv/versions/3.10.6/envs/s01/lib/python3.10/site-packages (from jupyter-events>=0.5.0->jupyter-server-fileid<1,>=0.6.0->jupyter-server-ydoc~=0.8.0->jupyterlab<4->nbgrader==0.8.4->-r requirements.txt (line 1)) (2.0.7)\n",
      "Requirement already satisfied: pyyaml>=5.3 in /Users/Carmen/.pyenv/versions/3.10.6/envs/s01/lib/python3.10/site-packages (from jupyter-events>=0.5.0->jupyter-server-fileid<1,>=0.6.0->jupyter-server-ydoc~=0.8.0->jupyterlab<4->nbgrader==0.8.4->-r requirements.txt (line 1)) (6.0.1)\n",
      "Requirement already satisfied: rfc3339-validator in /Users/Carmen/.pyenv/versions/3.10.6/envs/s01/lib/python3.10/site-packages (from jupyter-events>=0.5.0->jupyter-server-fileid<1,>=0.6.0->jupyter-server-ydoc~=0.8.0->jupyterlab<4->nbgrader==0.8.4->-r requirements.txt (line 1)) (0.1.4)\n",
      "Requirement already satisfied: rfc3986-validator>=0.1.1 in /Users/Carmen/.pyenv/versions/3.10.6/envs/s01/lib/python3.10/site-packages (from jupyter-events>=0.5.0->jupyter-server-fileid<1,>=0.6.0->jupyter-server-ydoc~=0.8.0->jupyterlab<4->nbgrader==0.8.4->-r requirements.txt (line 1)) (0.1.1)\n",
      "Requirement already satisfied: fqdn in /Users/Carmen/.pyenv/versions/3.10.6/envs/s01/lib/python3.10/site-packages (from jsonschema[format-nongpl]>=4.18.0->jupyter-events>=0.5.0->jupyter-server-fileid<1,>=0.6.0->jupyter-server-ydoc~=0.8.0->jupyterlab<4->nbgrader==0.8.4->-r requirements.txt (line 1)) (1.5.1)\n",
      "Requirement already satisfied: isoduration in /Users/Carmen/.pyenv/versions/3.10.6/envs/s01/lib/python3.10/site-packages (from jsonschema[format-nongpl]>=4.18.0->jupyter-events>=0.5.0->jupyter-server-fileid<1,>=0.6.0->jupyter-server-ydoc~=0.8.0->jupyterlab<4->nbgrader==0.8.4->-r requirements.txt (line 1)) (20.11.0)\n",
      "Requirement already satisfied: jsonpointer>1.13 in /Users/Carmen/.pyenv/versions/3.10.6/envs/s01/lib/python3.10/site-packages (from jsonschema[format-nongpl]>=4.18.0->jupyter-events>=0.5.0->jupyter-server-fileid<1,>=0.6.0->jupyter-server-ydoc~=0.8.0->jupyterlab<4->nbgrader==0.8.4->-r requirements.txt (line 1)) (2.4)\n",
      "Requirement already satisfied: uri-template in /Users/Carmen/.pyenv/versions/3.10.6/envs/s01/lib/python3.10/site-packages (from jsonschema[format-nongpl]>=4.18.0->jupyter-events>=0.5.0->jupyter-server-fileid<1,>=0.6.0->jupyter-server-ydoc~=0.8.0->jupyterlab<4->nbgrader==0.8.4->-r requirements.txt (line 1)) (1.3.0)\n",
      "Requirement already satisfied: webcolors>=1.11 in /Users/Carmen/.pyenv/versions/3.10.6/envs/s01/lib/python3.10/site-packages (from jsonschema[format-nongpl]>=4.18.0->jupyter-events>=0.5.0->jupyter-server-fileid<1,>=0.6.0->jupyter-server-ydoc~=0.8.0->jupyterlab<4->nbgrader==0.8.4->-r requirements.txt (line 1)) (1.13)\n",
      "Requirement already satisfied: arrow>=0.15.0 in /Users/Carmen/.pyenv/versions/3.10.6/envs/s01/lib/python3.10/site-packages (from isoduration->jsonschema[format-nongpl]>=4.18.0->jupyter-events>=0.5.0->jupyter-server-fileid<1,>=0.6.0->jupyter-server-ydoc~=0.8.0->jupyterlab<4->nbgrader==0.8.4->-r requirements.txt (line 1)) (1.3.0)\n",
      "Requirement already satisfied: types-python-dateutil>=2.8.10 in /Users/Carmen/.pyenv/versions/3.10.6/envs/s01/lib/python3.10/site-packages (from arrow>=0.15.0->isoduration->jsonschema[format-nongpl]>=4.18.0->jupyter-events>=0.5.0->jupyter-server-fileid<1,>=0.6.0->jupyter-server-ydoc~=0.8.0->jupyterlab<4->nbgrader==0.8.4->-r requirements.txt (line 1)) (2.8.19.14)\n"
     ]
    }
   ],
   "source": [
    "!pip install -r requirements.txt"
   ]
  },
  {
   "cell_type": "code",
   "execution_count": 20,
   "id": "12fd71c2",
   "metadata": {
    "ExecuteTime": {
     "end_time": "2023-12-04T00:52:00.437076Z",
     "start_time": "2023-12-04T00:52:00.422211Z"
    },
    "deletable": false,
    "editable": false,
    "nbgrader": {
     "grade": false,
     "grade_id": "cell-b15be3cd61e549f0",
     "locked": true,
     "schema_version": 3,
     "solution": false,
     "task": false
    }
   },
   "outputs": [],
   "source": [
    "import os\n",
    "import pandas as pd\n",
    "import numpy as np\n",
    "import copy\n",
    "import hashlib\n",
    "import json\n",
    "import warnings\n",
    "import calendar\n",
    "import datetime\n",
    "warnings.filterwarnings('ignore')\n",
    "import pycountry_convert as cc"
   ]
  },
  {
   "cell_type": "markdown",
   "id": "55edcc82",
   "metadata": {
    "deletable": false,
    "editable": false,
    "nbgrader": {
     "grade": false,
     "grade_id": "cell-37c8582828957176",
     "locked": true,
     "schema_version": 3,
     "solution": false,
     "task": false
    }
   },
   "source": [
    "Welcome to the wonderful world of Data Cleanup! In the real would, a lot of good people are spending a lot of time  cleaning datasets and getting them down to a form with which they can work. \n",
    "\n",
    "There is one thing that you should always keep in mind when working with data:\n",
    "\n",
    "<img src=\"media/clean-you-must.jpg\"/>\n",
    "\n",
    "Let's get our hands dirty."
   ]
  },
  {
   "cell_type": "markdown",
   "id": "33154d65",
   "metadata": {
    "deletable": false,
    "editable": false,
    "nbgrader": {
     "grade": false,
     "grade_id": "cell-6c0c96d2c5e113da",
     "locked": true,
     "schema_version": 3,
     "solution": false,
     "task": false
    }
   },
   "source": [
    "## The CR hotels\n",
    "\n",
    "You took a job as a data scientist in the fancy CR hotel imperium. Your first task is to clean a dataset of reservations from 2015 to 2017. You need to get it nice and tidy before it can be analysed.\n",
    "\n",
    "Here is the data dictionary for the dataset:\n",
    "- **hotel:** Resort Hotel or City Hotel\n",
    "- **is_canceled:** Value indicating if the booking was canceled (1) or not (0)\n",
    "- **lead_time:** Number of days that elapsed between the date of the booking and the arrival date\n",
    "- **arrival_date**: Arrival date formatted as \"Month Day Year\"\n",
    "- **stays_in_weekend_nights:** Number of weekend nights (Saturday or Sunday) the guest booked at the hotel\n",
    "- **stays_in_week_nights:** Number of week nights (Monday to Friday) the guest booked at the hotel\n",
    "- **adults**: Number of adults\n",
    "- **is_repeated_guest:** Value indicating if the booking is from a repeated guest (1) or not (0)\n",
    "- **previous_cancelations:** Number of previous bookings that were canceled by the customer prior to the current booking\n",
    "- **agent:** ID of the travel agency that made the booking\n",
    "- **adr:** Average Daily Rate defined as the total price of the stay divided by the number of staying nights\n",
    "- **total_of_special_requests:** Number of special requests made by the customer (e.g. twin bed or high floor)\n",
    "- **reservation_status:** Last status of the reservation, assuming one of three categories: Canceled – booking was canceled by the customer; Check-Out – customer checked in and out of the hotel; No-Show – customer did not check in and did not inform the hotel of the reason why\n",
    "- **reservation_status_date:** Date at which the last status was set. This variable can be used in conjunction with the ReservationStatus to understand when was the booking canceled or when did the customer check out of the hotel"
   ]
  },
  {
   "cell_type": "markdown",
   "id": "67a1322c",
   "metadata": {
    "deletable": false,
    "editable": false,
    "nbgrader": {
     "grade": false,
     "grade_id": "cell-ed9eb16417949aa8",
     "locked": true,
     "schema_version": 3,
     "solution": false,
     "task": false
    }
   },
   "source": [
    "### Exercise 1.1\n",
    "\n",
    "Let's start by importing the dataset and taking a look at it. The dataset is located in the `data` folder, in a file named `crset_hotel_bookings.csv`. This file came straight out of MS Excel, so the values are separated by semicolons. Load the dataset into the `df_crset` dataframe."
   ]
  },
  {
   "cell_type": "code",
   "execution_count": 21,
   "id": "e073e7ea",
   "metadata": {
    "ExecuteTime": {
     "end_time": "2023-12-04T00:52:00.774510Z",
     "start_time": "2023-12-04T00:52:00.448465Z"
    },
    "deletable": false,
    "nbgrader": {
     "grade": false,
     "grade_id": "cell-5a996a1055302b2b",
     "locked": false,
     "schema_version": 3,
     "solution": true,
     "task": false
    }
   },
   "outputs": [],
   "source": [
    "# use pandas to load the data into the df_crset dataframe\n",
    "# df_crset = ... \n",
    "\n",
    "# YOUR CODE HERE\n",
    "df_crset = pd.read_csv('data/crset_hotel_bookings.csv', sep=';')"
   ]
  },
  {
   "cell_type": "code",
   "execution_count": 22,
   "id": "b766b271",
   "metadata": {
    "ExecuteTime": {
     "end_time": "2023-12-04T00:52:00.838823Z",
     "start_time": "2023-12-04T00:52:00.786466Z"
    }
   },
   "outputs": [
    {
     "data": {
      "text/html": [
       "<div>\n",
       "<style scoped>\n",
       "    .dataframe tbody tr th:only-of-type {\n",
       "        vertical-align: middle;\n",
       "    }\n",
       "\n",
       "    .dataframe tbody tr th {\n",
       "        vertical-align: top;\n",
       "    }\n",
       "\n",
       "    .dataframe thead th {\n",
       "        text-align: right;\n",
       "    }\n",
       "</style>\n",
       "<table border=\"1\" class=\"dataframe\">\n",
       "  <thead>\n",
       "    <tr style=\"text-align: right;\">\n",
       "      <th></th>\n",
       "      <th>hotel</th>\n",
       "      <th>is_canceled</th>\n",
       "      <th>lead_time</th>\n",
       "      <th>arrival_date</th>\n",
       "      <th>stays_in_weekend_nights</th>\n",
       "      <th>stays_in_week_nights</th>\n",
       "      <th>adults</th>\n",
       "      <th>is_repeated_guest</th>\n",
       "      <th>previous_cancelations</th>\n",
       "      <th>agent</th>\n",
       "      <th>adr</th>\n",
       "      <th>total_of_special_requests</th>\n",
       "      <th>reservation_status</th>\n",
       "      <th>reservation_status_date</th>\n",
       "    </tr>\n",
       "  </thead>\n",
       "  <tbody>\n",
       "    <tr>\n",
       "      <th>0</th>\n",
       "      <td>Resort Hotel</td>\n",
       "      <td>0</td>\n",
       "      <td>342</td>\n",
       "      <td>July 1 2015</td>\n",
       "      <td>0</td>\n",
       "      <td>0</td>\n",
       "      <td>2</td>\n",
       "      <td>0</td>\n",
       "      <td>0</td>\n",
       "      <td>NaN</td>\n",
       "      <td>0.0</td>\n",
       "      <td>0</td>\n",
       "      <td>Check-Out</td>\n",
       "      <td>01/07/2015</td>\n",
       "    </tr>\n",
       "    <tr>\n",
       "      <th>1</th>\n",
       "      <td>Resort Hotel</td>\n",
       "      <td>0</td>\n",
       "      <td>737</td>\n",
       "      <td>July 1 2015</td>\n",
       "      <td>0</td>\n",
       "      <td>0</td>\n",
       "      <td>2</td>\n",
       "      <td>0</td>\n",
       "      <td>0</td>\n",
       "      <td>NaN</td>\n",
       "      <td>0.0</td>\n",
       "      <td>0</td>\n",
       "      <td>Check-Out</td>\n",
       "      <td>01/07/2015</td>\n",
       "    </tr>\n",
       "    <tr>\n",
       "      <th>2</th>\n",
       "      <td>Resort Hotel</td>\n",
       "      <td>0</td>\n",
       "      <td>7</td>\n",
       "      <td>July 1 2015</td>\n",
       "      <td>0</td>\n",
       "      <td>1</td>\n",
       "      <td>1</td>\n",
       "      <td>0</td>\n",
       "      <td>0</td>\n",
       "      <td>NaN</td>\n",
       "      <td>75.0</td>\n",
       "      <td>0</td>\n",
       "      <td>Check-Out</td>\n",
       "      <td>02/07/2015</td>\n",
       "    </tr>\n",
       "    <tr>\n",
       "      <th>3</th>\n",
       "      <td>Resort Hotel</td>\n",
       "      <td>0</td>\n",
       "      <td>13</td>\n",
       "      <td>July 1 2015</td>\n",
       "      <td>0</td>\n",
       "      <td>1</td>\n",
       "      <td>1</td>\n",
       "      <td>0</td>\n",
       "      <td>0</td>\n",
       "      <td>304.0</td>\n",
       "      <td>75.0</td>\n",
       "      <td>0</td>\n",
       "      <td>Check-Out</td>\n",
       "      <td>02/07/2015</td>\n",
       "    </tr>\n",
       "    <tr>\n",
       "      <th>4</th>\n",
       "      <td>Resort Hotel</td>\n",
       "      <td>0</td>\n",
       "      <td>14</td>\n",
       "      <td>July 1 2015</td>\n",
       "      <td>0</td>\n",
       "      <td>2</td>\n",
       "      <td>2</td>\n",
       "      <td>0</td>\n",
       "      <td>0</td>\n",
       "      <td>240.0</td>\n",
       "      <td>98.0</td>\n",
       "      <td>1</td>\n",
       "      <td>Check-Out</td>\n",
       "      <td>03/07/2015</td>\n",
       "    </tr>\n",
       "  </tbody>\n",
       "</table>\n",
       "</div>"
      ],
      "text/plain": [
       "          hotel  is_canceled  lead_time arrival_date  stays_in_weekend_nights  \\\n",
       "0  Resort Hotel            0        342  July 1 2015                        0   \n",
       "1  Resort Hotel            0        737  July 1 2015                        0   \n",
       "2  Resort Hotel            0          7  July 1 2015                        0   \n",
       "3  Resort Hotel            0         13  July 1 2015                        0   \n",
       "4  Resort Hotel            0         14  July 1 2015                        0   \n",
       "\n",
       "   stays_in_week_nights  adults  is_repeated_guest  previous_cancelations  \\\n",
       "0                     0       2                  0                      0   \n",
       "1                     0       2                  0                      0   \n",
       "2                     1       1                  0                      0   \n",
       "3                     1       1                  0                      0   \n",
       "4                     2       2                  0                      0   \n",
       "\n",
       "   agent   adr  total_of_special_requests reservation_status  \\\n",
       "0    NaN   0.0                          0          Check-Out   \n",
       "1    NaN   0.0                          0          Check-Out   \n",
       "2    NaN  75.0                          0          Check-Out   \n",
       "3  304.0  75.0                          0          Check-Out   \n",
       "4  240.0  98.0                          1          Check-Out   \n",
       "\n",
       "  reservation_status_date  \n",
       "0              01/07/2015  \n",
       "1              01/07/2015  \n",
       "2              02/07/2015  \n",
       "3              02/07/2015  \n",
       "4              03/07/2015  "
      ]
     },
     "execution_count": 22,
     "metadata": {},
     "output_type": "execute_result"
    }
   ],
   "source": [
    "df_crset.head()"
   ]
  },
  {
   "cell_type": "code",
   "execution_count": 23,
   "id": "1d4ae9f8",
   "metadata": {
    "ExecuteTime": {
     "end_time": "2023-12-04T00:52:00.935812Z",
     "start_time": "2023-12-04T00:52:00.892551Z"
    },
    "deletable": false,
    "editable": false,
    "nbgrader": {
     "grade": true,
     "grade_id": "cell-fe56bb53bb1f1d79",
     "locked": true,
     "points": 1,
     "schema_version": 3,
     "solution": false,
     "task": false
    }
   },
   "outputs": [
    {
     "data": {
      "text/html": [
       "<div>\n",
       "<style scoped>\n",
       "    .dataframe tbody tr th:only-of-type {\n",
       "        vertical-align: middle;\n",
       "    }\n",
       "\n",
       "    .dataframe tbody tr th {\n",
       "        vertical-align: top;\n",
       "    }\n",
       "\n",
       "    .dataframe thead th {\n",
       "        text-align: right;\n",
       "    }\n",
       "</style>\n",
       "<table border=\"1\" class=\"dataframe\">\n",
       "  <thead>\n",
       "    <tr style=\"text-align: right;\">\n",
       "      <th></th>\n",
       "      <th>hotel</th>\n",
       "      <th>is_canceled</th>\n",
       "      <th>lead_time</th>\n",
       "      <th>arrival_date</th>\n",
       "      <th>stays_in_weekend_nights</th>\n",
       "      <th>stays_in_week_nights</th>\n",
       "      <th>adults</th>\n",
       "      <th>is_repeated_guest</th>\n",
       "      <th>previous_cancelations</th>\n",
       "      <th>agent</th>\n",
       "      <th>adr</th>\n",
       "      <th>total_of_special_requests</th>\n",
       "      <th>reservation_status</th>\n",
       "      <th>reservation_status_date</th>\n",
       "    </tr>\n",
       "  </thead>\n",
       "  <tbody>\n",
       "    <tr>\n",
       "      <th>0</th>\n",
       "      <td>Resort Hotel</td>\n",
       "      <td>0</td>\n",
       "      <td>342</td>\n",
       "      <td>July 1 2015</td>\n",
       "      <td>0</td>\n",
       "      <td>0</td>\n",
       "      <td>2</td>\n",
       "      <td>0</td>\n",
       "      <td>0</td>\n",
       "      <td>NaN</td>\n",
       "      <td>0.0</td>\n",
       "      <td>0</td>\n",
       "      <td>Check-Out</td>\n",
       "      <td>01/07/2015</td>\n",
       "    </tr>\n",
       "    <tr>\n",
       "      <th>1</th>\n",
       "      <td>Resort Hotel</td>\n",
       "      <td>0</td>\n",
       "      <td>737</td>\n",
       "      <td>July 1 2015</td>\n",
       "      <td>0</td>\n",
       "      <td>0</td>\n",
       "      <td>2</td>\n",
       "      <td>0</td>\n",
       "      <td>0</td>\n",
       "      <td>NaN</td>\n",
       "      <td>0.0</td>\n",
       "      <td>0</td>\n",
       "      <td>Check-Out</td>\n",
       "      <td>01/07/2015</td>\n",
       "    </tr>\n",
       "    <tr>\n",
       "      <th>2</th>\n",
       "      <td>Resort Hotel</td>\n",
       "      <td>0</td>\n",
       "      <td>7</td>\n",
       "      <td>July 1 2015</td>\n",
       "      <td>0</td>\n",
       "      <td>1</td>\n",
       "      <td>1</td>\n",
       "      <td>0</td>\n",
       "      <td>0</td>\n",
       "      <td>NaN</td>\n",
       "      <td>75.0</td>\n",
       "      <td>0</td>\n",
       "      <td>Check-Out</td>\n",
       "      <td>02/07/2015</td>\n",
       "    </tr>\n",
       "    <tr>\n",
       "      <th>3</th>\n",
       "      <td>Resort Hotel</td>\n",
       "      <td>0</td>\n",
       "      <td>13</td>\n",
       "      <td>July 1 2015</td>\n",
       "      <td>0</td>\n",
       "      <td>1</td>\n",
       "      <td>1</td>\n",
       "      <td>0</td>\n",
       "      <td>0</td>\n",
       "      <td>304.0</td>\n",
       "      <td>75.0</td>\n",
       "      <td>0</td>\n",
       "      <td>Check-Out</td>\n",
       "      <td>02/07/2015</td>\n",
       "    </tr>\n",
       "    <tr>\n",
       "      <th>4</th>\n",
       "      <td>Resort Hotel</td>\n",
       "      <td>0</td>\n",
       "      <td>14</td>\n",
       "      <td>July 1 2015</td>\n",
       "      <td>0</td>\n",
       "      <td>2</td>\n",
       "      <td>2</td>\n",
       "      <td>0</td>\n",
       "      <td>0</td>\n",
       "      <td>240.0</td>\n",
       "      <td>98.0</td>\n",
       "      <td>1</td>\n",
       "      <td>Check-Out</td>\n",
       "      <td>03/07/2015</td>\n",
       "    </tr>\n",
       "  </tbody>\n",
       "</table>\n",
       "</div>"
      ],
      "text/plain": [
       "          hotel  is_canceled  lead_time arrival_date  stays_in_weekend_nights  \\\n",
       "0  Resort Hotel            0        342  July 1 2015                        0   \n",
       "1  Resort Hotel            0        737  July 1 2015                        0   \n",
       "2  Resort Hotel            0          7  July 1 2015                        0   \n",
       "3  Resort Hotel            0         13  July 1 2015                        0   \n",
       "4  Resort Hotel            0         14  July 1 2015                        0   \n",
       "\n",
       "   stays_in_week_nights  adults  is_repeated_guest  previous_cancelations  \\\n",
       "0                     0       2                  0                      0   \n",
       "1                     0       2                  0                      0   \n",
       "2                     1       1                  0                      0   \n",
       "3                     1       1                  0                      0   \n",
       "4                     2       2                  0                      0   \n",
       "\n",
       "   agent   adr  total_of_special_requests reservation_status  \\\n",
       "0    NaN   0.0                          0          Check-Out   \n",
       "1    NaN   0.0                          0          Check-Out   \n",
       "2    NaN  75.0                          0          Check-Out   \n",
       "3  304.0  75.0                          0          Check-Out   \n",
       "4  240.0  98.0                          1          Check-Out   \n",
       "\n",
       "  reservation_status_date  \n",
       "0              01/07/2015  \n",
       "1              01/07/2015  \n",
       "2              02/07/2015  \n",
       "3              02/07/2015  \n",
       "4              03/07/2015  "
      ]
     },
     "execution_count": 23,
     "metadata": {},
     "output_type": "execute_result"
    }
   ],
   "source": [
    "assert isinstance(df_crset, pd.DataFrame), \"df_crset should be a dataframe\"\n",
    "assert df_crset.shape == (119390, 14), \"The shape of the dataframe is different then expected. Are you using the right separator?\"\n",
    "df_crset.head()"
   ]
  },
  {
   "cell_type": "markdown",
   "id": "b09543de",
   "metadata": {
    "deletable": false,
    "editable": false,
    "nbgrader": {
     "grade": false,
     "grade_id": "cell-146cafc7a2652077",
     "locked": true,
     "schema_version": 3,
     "solution": false,
     "task": false
    }
   },
   "source": [
    "### Exercise 1.2 - Arrival Date \n",
    "\n",
    "Let's start by cleaning the arrival date. According to the data dictionary and the first 5 rows of the dataframe, the `arrival_date` stores a string with the month spelled out, the day in numeral and the year in numeral.\n",
    "\n",
    "Create a function called `format_arrival_date()` that extracts the day, month, and year values from this column and stores this information in new columns `arrival_date_month`, `arrival_date_day` and `arrival_date_year`. All values should be integers. Remove the  `arrival_data` column and return the cleaned dataframe. \n",
    "\n",
    "You can use the `calendar.month_name` function from the [calendar python module](https://docs.python.org/3/library/calendar.html#module-calendar) and pandas `map()` method."
   ]
  },
  {
   "cell_type": "code",
   "execution_count": 24,
   "id": "0ae86bdd",
   "metadata": {
    "ExecuteTime": {
     "end_time": "2023-12-04T00:52:00.957327Z",
     "start_time": "2023-12-04T00:52:00.946978Z"
    }
   },
   "outputs": [
    {
     "data": {
      "text/plain": [
       "'July'"
      ]
     },
     "execution_count": 24,
     "metadata": {},
     "output_type": "execute_result"
    }
   ],
   "source": [
    "calendar.month_name[7]"
   ]
  },
  {
   "cell_type": "code",
   "execution_count": 25,
   "id": "bf1b2b7d",
   "metadata": {
    "ExecuteTime": {
     "end_time": "2023-12-04T00:52:01.007241Z",
     "start_time": "2023-12-04T00:52:00.971307Z"
    }
   },
   "outputs": [
    {
     "data": {
      "text/plain": [
       "{'January': 1,\n",
       " 'February': 2,\n",
       " 'March': 3,\n",
       " 'April': 4,\n",
       " 'May': 5,\n",
       " 'June': 6,\n",
       " 'July': 7,\n",
       " 'August': 8,\n",
       " 'September': 9,\n",
       " 'October': 10,\n",
       " 'November': 11,\n",
       " 'December': 12}"
      ]
     },
     "execution_count": 25,
     "metadata": {},
     "output_type": "execute_result"
    }
   ],
   "source": [
    "{name: num for num, name in enumerate(calendar.month_name) if name}\n"
   ]
  },
  {
   "cell_type": "code",
   "execution_count": 26,
   "id": "8c0c9ecc",
   "metadata": {
    "ExecuteTime": {
     "end_time": "2023-12-04T00:52:01.028246Z",
     "start_time": "2023-12-04T00:52:01.018343Z"
    },
    "deletable": false,
    "nbgrader": {
     "grade": false,
     "grade_id": "cell-1a9e5315472efa42",
     "locked": false,
     "schema_version": 3,
     "solution": true,
     "task": false
    }
   },
   "outputs": [],
   "source": [
    "#def format_arrival_date(df: pd.DataFrame) -> pd.DataFrame:\n",
    "#    \"\"\"\n",
    "#    This function cleans the \"arrival_date\" column\n",
    "#    \"\"\"\n",
    "#    # YOUR CODE HERE\n",
    "#\n",
    "#    # Define a mapping from month name to month number\n",
    "#    month_to_num = {name: num for num, name in enumerate(calendar.month_name) if name}\n",
    "#\n",
    "#    # Function to extract day, month, and year\n",
    "#    def extract_date_components(date_str):\n",
    "#        parts = date_str.split()\n",
    "#        month = month_to_num[parts[0]]\n",
    "#        day = int(parts[1])\n",
    "#        year = int(parts[2])\n",
    "#        return month, day, year\n",
    "#\n",
    "#    # Apply the function to the arrival_date column\n",
    "#    df[['arrival_date_month', 'arrival_date_day', 'arrival_date_year']] = \\\n",
    "#        df['arrival_date'].map(lambda x: extract_date_components(x)).tolist()\n",
    "#\n",
    "#    # Drop the original arrival_date column\n",
    "#    df.drop(columns=['arrival_date'], inplace=True)\n",
    "#\n",
    "#    return df\n",
    "#"
   ]
  },
  {
   "cell_type": "code",
   "execution_count": 27,
   "id": "9860b5aa",
   "metadata": {
    "ExecuteTime": {
     "end_time": "2023-12-04T00:52:01.050239Z",
     "start_time": "2023-12-04T00:52:01.037272Z"
    }
   },
   "outputs": [],
   "source": [
    "def format_arrival_date(df: pd.DataFrame) -> pd.DataFrame:\n",
    "    \"\"\"\n",
    "    This function cleans the 'arrival_date' column\n",
    "    \"\"\"\n",
    "    # Define a mapping from month name to month number\n",
    "    month_to_num = {name: num for num, name in enumerate(calendar.month_name) if name}\n",
    "\n",
    "    # Apply a lambda function to extract day, month, and year\n",
    "    df[['arrival_date_month', 'arrival_date_day', 'arrival_date_year']] = df['arrival_date'].map(\n",
    "        lambda date_str: (month_to_num[date_str.split()[0]], int(date_str.split()[1]), int(date_str.split()[2]))\n",
    "    ).tolist()\n",
    "\n",
    "    # Drop the original arrival_date column\n",
    "    df.drop(columns=['arrival_date'], inplace=True)\n",
    "\n",
    "    return df"
   ]
  },
  {
   "cell_type": "code",
   "execution_count": 28,
   "id": "22a496df",
   "metadata": {
    "ExecuteTime": {
     "end_time": "2023-12-04T00:52:02.010337Z",
     "start_time": "2023-12-04T00:52:01.096661Z"
    },
    "deletable": false,
    "editable": false,
    "nbgrader": {
     "grade": true,
     "grade_id": "cell-84b728608f1e6121",
     "locked": true,
     "points": 3,
     "schema_version": 3,
     "solution": false,
     "task": false
    }
   },
   "outputs": [],
   "source": [
    "clean_arrival = format_arrival_date(df_crset)\n",
    "assert isinstance(clean_arrival, pd.DataFrame), \"The function should return a dataframe.\"\n",
    "assert clean_arrival.shape == (119390, 16), \"The shape of the dataframe is different then expected.\"\n",
    "assert 'arrival_date' not in clean_arrival.columns, \"You should remove the old arrival_date column.\"\n",
    "assert 'arrival_date_month' in clean_arrival.columns, \"You're missing the arrival_date_month column. Have you named the new column correctly?\"\n",
    "assert 'arrival_date_day' in clean_arrival.columns, \"You're missing the arrival_date_day column. Have you named the new column correctly?\"\n",
    "assert 'arrival_date_year'  in clean_arrival.columns, \"You're missing the arrival_date_year column. Have you named the new column correctly?\"\n",
    "assert all(isinstance(item, int) for item in clean_arrival.arrival_date_month), \"Months should be saved as integers.\" \n",
    "assert all(isinstance(item, int) for item in clean_arrival.arrival_date_day), \"Days should be saved as integers.\"\n",
    "assert all(isinstance(item, int) for item in clean_arrival.arrival_date_year), \"Years should be saved as integers.\"\n",
    "assert hashlib.sha256(json.dumps(str(clean_arrival.arrival_date_month.sum())).encode()).hexdigest() == 'd3d4cd02abe661b2bc608a13cc791e7543da035d1c729ce171b1fda52effd8c8', \"Something is wrong with your month conversion.\"\n",
    "assert hashlib.sha256(json.dumps(str(clean_arrival.arrival_date_day.sum())).encode()).hexdigest() == '4db570fffca303e3eeb7ec3bc940a3812f8466a3b6e0d8b44633eaabde411ed4', \"Something is wrong with your day conversion.\"\n",
    "assert hashlib.sha256(json.dumps(str(clean_arrival.arrival_date_year.sum())).encode()).hexdigest() == '2f83dbe44d408f6735bc778eed604edf730377524018bb9f6a176e503511d033', \"Something is wrong with your year conversion.\""
   ]
  },
  {
   "cell_type": "markdown",
   "id": "1f21efdb",
   "metadata": {
    "deletable": false,
    "editable": false,
    "nbgrader": {
     "grade": false,
     "grade_id": "cell-0aae65323a8f3cd7",
     "locked": true,
     "schema_version": 3,
     "solution": false,
     "task": false
    }
   },
   "source": [
    "### Exercise 1.3 - Week of year \n",
    "\n",
    "Create a function named `get_week_of_year` that takes the newly created columns `arrival_date_month`, `arrival_date_day` and `arrival_date_year` and creates a new variable in the same dataframe called `arrival_date_week_number` with the week number of the arrival date.\n",
    "\n",
    "You can use the `date.isocalendar()` method from the [datetime python module](https://docs.python.org/3/library/datetime.html) and pandas `apply()` method."
   ]
  },
  {
   "cell_type": "code",
   "execution_count": 29,
   "id": "6ec4b219",
   "metadata": {
    "ExecuteTime": {
     "end_time": "2023-12-04T00:52:02.062076Z",
     "start_time": "2023-12-04T00:52:02.032957Z"
    },
    "deletable": false,
    "nbgrader": {
     "grade": false,
     "grade_id": "cell-17e544d51f94b90d",
     "locked": false,
     "schema_version": 3,
     "solution": true,
     "task": false
    }
   },
   "outputs": [
    {
     "data": {
      "text/plain": [
       "datetime.date(2015, 7, 1)"
      ]
     },
     "execution_count": 29,
     "metadata": {},
     "output_type": "execute_result"
    }
   ],
   "source": [
    "datetime.date(df_crset['arrival_date_year'][0], df_crset['arrival_date_month'][0], df_crset['arrival_date_day'][0])\n"
   ]
  },
  {
   "cell_type": "code",
   "execution_count": 30,
   "id": "6dbddd42",
   "metadata": {
    "ExecuteTime": {
     "end_time": "2023-12-04T00:52:02.148920Z",
     "start_time": "2023-12-04T00:52:02.101159Z"
    }
   },
   "outputs": [],
   "source": [
    "#def get_week_of_year(df: pd.DataFrame) -> pd.DataFrame:\n",
    "#    # Function to calculate the week number\n",
    "#    def calculate_week_number(row):\n",
    "#        # Create a date object\n",
    "#        d = datetime.date(row['arrival_date_year'], row['arrival_date_month'], row['arrival_date_day'])\n",
    "#        # Get the week number\n",
    "#        return d.isocalendar()[1]\n",
    "#\n",
    "#    # Apply the function to each row and create a new column\n",
    "#    df['arrival_date_week_number'] = df.apply(calculate_week_number, axis=1)\n",
    "#\n",
    "#    return df"
   ]
  },
  {
   "cell_type": "code",
   "execution_count": 31,
   "id": "0c8456f2",
   "metadata": {
    "ExecuteTime": {
     "end_time": "2023-12-04T00:52:02.178953Z",
     "start_time": "2023-12-04T00:52:02.168870Z"
    }
   },
   "outputs": [],
   "source": [
    "def get_week_of_year(df: pd.DataFrame) -> pd.DataFrame:\n",
    "    # Apply a lambda function to calculate the week number directly\n",
    "    df['arrival_date_week_number'] = df.apply(\n",
    "        lambda row: datetime.date(row['arrival_date_year'], row['arrival_date_month'], row['arrival_date_day']).isocalendar()[1], \n",
    "        axis=1\n",
    "    )\n",
    "    return df\n"
   ]
  },
  {
   "cell_type": "code",
   "execution_count": 32,
   "id": "4c7b45ef",
   "metadata": {
    "ExecuteTime": {
     "end_time": "2023-12-04T00:52:06.207070Z",
     "start_time": "2023-12-04T00:52:02.187293Z"
    },
    "deletable": false,
    "editable": false,
    "nbgrader": {
     "grade": true,
     "grade_id": "cell-95be98d8d4000854",
     "locked": true,
     "points": 2,
     "schema_version": 3,
     "solution": false,
     "task": false
    }
   },
   "outputs": [],
   "source": [
    "clean_arrival_week_of_year = get_week_of_year(clean_arrival)\n",
    "assert isinstance(clean_arrival_week_of_year, pd.DataFrame), \"The function should return a dataframe.\"\n",
    "assert clean_arrival_week_of_year.shape == (119390, 17), \"The shape of the dataframe is different then expected. Have you saved the new column?\"\n",
    "assert 'arrival_date_week_number' in clean_arrival_week_of_year.columns, \"You're missing the clean_arrival_week_of_year column. Have you named the new column correctly?\"\n",
    "assert all(isinstance(item, int) for item in clean_arrival_week_of_year.arrival_date_week_number), \"The values in the new column should be integers.\" \n",
    "assert hashlib.sha256(json.dumps(str(clean_arrival_week_of_year.arrival_date_week_number)).encode()).hexdigest() == 'fbd3bdce9f2b3a1aff60369c351a1ceb63a167a80d78b140859af7f687cd76a3', \"Something is wrong with your data conversion.\""
   ]
  },
  {
   "cell_type": "markdown",
   "id": "d9ec2745",
   "metadata": {
    "deletable": false,
    "editable": false,
    "nbgrader": {
     "grade": false,
     "grade_id": "cell-369a1d17c3e8446e",
     "locked": true,
     "schema_version": 3,
     "solution": false,
     "task": false
    }
   },
   "source": [
    "### Exercise 1.4 - The reservation status date\n",
    "\n",
    "Do the same processing as for the `arrival_date` column but this time for the `reservation_status_date` - extract the day, month, year, and week number and store them in new columns as integers. The columns should be named `reservation_status_date_day`, `reservation_status_date_month` and so on. Remove the `reservation_status_date` column and return the cleaned dataframe.\n",
    "\n",
    "All the steps should be done in a single function named `process_reservation_status_date()`. "
   ]
  },
  {
   "cell_type": "code",
   "execution_count": 15,
   "id": "0c8251ce",
   "metadata": {
    "ExecuteTime": {
     "end_time": "2023-12-04T00:48:23.312600Z",
     "start_time": "2023-12-04T00:48:23.298691Z"
    },
    "deletable": false,
    "nbgrader": {
     "grade": false,
     "grade_id": "cell-ee2bd2e0dd4325d4",
     "locked": false,
     "schema_version": 3,
     "solution": true,
     "task": false
    }
   },
   "outputs": [],
   "source": [
    "#def process_reservation_status_date(df: pd.DataFrame) -> pd.DataFrame:\n",
    "#    \"\"\"\n",
    "#    This function cleans \"reservation_status_date\" column\n",
    "#    \"\"\"\n",
    "#    # Function to parse the date and extract components\n",
    "#    def parse_date(date_str):\n",
    "#        parsed_date = datetime.datetime.strptime(date_str, '%d/%m/%Y')\n",
    "#        return parsed_date.day, parsed_date.month, parsed_date.year, parsed_date.isocalendar()[1]\n",
    "#\n",
    "#    # Apply the function to the reservation_status_date column and create new columns\n",
    "#    df[['reservation_status_date_day', \n",
    "#        'reservation_status_date_month', \n",
    "#        'reservation_status_date_year', \n",
    "#        'reservation_status_date_week_number']] = df['reservation_status_date'].apply(lambda x: parse_date(x)).tolist()\n",
    "#\n",
    "#    # Drop the original reservation_status_date column\n",
    "#    df.drop(columns=['reservation_status_date'], inplace=True)\n",
    "#\n",
    "#    return df\n"
   ]
  },
  {
   "cell_type": "code",
   "execution_count": 35,
   "id": "93b96065",
   "metadata": {
    "ExecuteTime": {
     "end_time": "2023-12-04T00:52:31.948794Z",
     "start_time": "2023-12-04T00:52:31.921758Z"
    }
   },
   "outputs": [],
   "source": [
    "def process_reservation_status_date(df: pd.DataFrame) -> pd.DataFrame:\n",
    "    \"\"\"\n",
    "    This function cleans the 'reservation_status_date' column\n",
    "    \"\"\"\n",
    "\n",
    "    # Apply a lambda function to parse the date and extract components\n",
    "    date_components = df['reservation_status_date'].apply(\n",
    "        lambda x: datetime.datetime.strptime(x, '%d/%m/%Y')\n",
    "    )\n",
    "\n",
    "    # Extract and assign components to new columns\n",
    "    df['reservation_status_date_day'] = date_components.dt.day\n",
    "    df['reservation_status_date_month'] = date_components.dt.month\n",
    "    df['reservation_status_date_year'] = date_components.dt.year\n",
    "    df['reservation_status_date_week_number'] = date_components.apply(lambda x: x.isocalendar()[1])\n",
    "\n",
    "    # Drop the original reservation_status_date column\n",
    "    df.drop(columns=['reservation_status_date'], inplace=True)\n",
    "\n",
    "    return df"
   ]
  },
  {
   "cell_type": "code",
   "execution_count": 36,
   "id": "10a9da7f",
   "metadata": {
    "ExecuteTime": {
     "end_time": "2023-12-04T00:52:35.846262Z",
     "start_time": "2023-12-04T00:52:32.437022Z"
    },
    "deletable": false,
    "editable": false,
    "nbgrader": {
     "grade": true,
     "grade_id": "cell-193cad2450ea0bf1",
     "locked": true,
     "points": 2,
     "schema_version": 3,
     "solution": false,
     "task": false
    }
   },
   "outputs": [],
   "source": [
    "clean_status_date = process_reservation_status_date(clean_arrival_week_of_year)\n",
    "assert isinstance(clean_status_date, pd.DataFrame), \"The function should return a dataframe.\"\n",
    "assert clean_status_date.shape == (119390, 20), \"The shape of the dataframe is different then expected. Have you dropped the old reservation_status_date column?\"\n",
    "assert 'reservation_status_date' not in clean_status_date.columns, \"You should remove the old reservation_status_date column.\"\n",
    "assert 'reservation_status_date_day' in clean_status_date.columns, \"You're missing the day column. Have you named the new column correctly?\"\n",
    "assert 'reservation_status_date_month' in clean_status_date.columns, \"You're missing the month column. Have you named the new column correctly?\"\n",
    "assert 'reservation_status_date_year'  in clean_status_date.columns, \"You're missing the year column. Have you named the new column correctly?\"\n",
    "assert 'reservation_status_date_week_number'  in clean_status_date.columns, \"You're missing the week number column. Have you named the new column correctly?\"\n",
    "assert all(isinstance(item, int) for item in clean_status_date.reservation_status_date_day), \"Days should be integers.\" \n",
    "assert all(isinstance(item, int) for item in clean_status_date.reservation_status_date_month), \"Months should be integers.\"\n",
    "assert all(isinstance(item, int) for item in clean_status_date.reservation_status_date_year), \"Years should be integers.\"\n",
    "assert all(isinstance(item, int) for item in clean_status_date.reservation_status_date_week_number), \"Week of the year should an integer.\"\n",
    "assert hashlib.sha256(json.dumps(str(clean_status_date.reservation_status_date_week_number)).encode()).hexdigest() == '035d73f3bf98929a3e2d1ea7b1dd02645a86cc8f1d751dd088533b0e11de0352', \"Something is wrong with your data conversion in reservation_status_date_week_number.\"\n",
    "assert hashlib.sha256(json.dumps(str(clean_status_date.reservation_status_date_month.sum())).encode()).hexdigest() == '8505858d4a9ee251ff772f4486d8b18f63e2d2015da3ab435371a604800b8f69', \"Something is wrong with your month conversion.\"\n",
    "assert hashlib.sha256(json.dumps(str(clean_status_date.reservation_status_date_day.sum())).encode()).hexdigest() == 'f8c8d1439b0d0d51ea8a9dc900dc4309b7364a5c4791b417c0e6a5cc093fc9b8', \"Something is wrong with your day conversion.\"\n",
    "assert hashlib.sha256(json.dumps(str(clean_status_date.reservation_status_date_year.sum())).encode()).hexdigest() == '0c1465052551cc91c40abbd465ae0337ebc526a00b5b536b9d8bfbe8cc35ef3f', \"Something is wrong with your year conversion.\""
   ]
  },
  {
   "cell_type": "markdown",
   "id": "4da3a726",
   "metadata": {
    "deletable": false,
    "editable": false,
    "nbgrader": {
     "grade": false,
     "grade_id": "cell-d69a24deae33480f",
     "locked": true,
     "schema_version": 3,
     "solution": false,
     "task": false
    }
   },
   "source": [
    "### Exercise 2 - Missing data\n",
    "\n",
    "Let's now look at missing data."
   ]
  },
  {
   "cell_type": "code",
   "execution_count": 37,
   "id": "8cb40a1c",
   "metadata": {
    "ExecuteTime": {
     "end_time": "2023-12-04T00:52:42.924391Z",
     "start_time": "2023-12-04T00:52:42.899052Z"
    },
    "deletable": false,
    "editable": false,
    "nbgrader": {
     "grade": false,
     "grade_id": "cell-ce64ab16d825c70a",
     "locked": true,
     "schema_version": 3,
     "solution": false,
     "task": false
    }
   },
   "outputs": [
    {
     "data": {
      "text/plain": [
       "hotel                                      0\n",
       "is_canceled                                0\n",
       "lead_time                                  0\n",
       "stays_in_weekend_nights                    0\n",
       "stays_in_week_nights                       0\n",
       "adults                                     0\n",
       "is_repeated_guest                          0\n",
       "previous_cancelations                      0\n",
       "agent                                  16340\n",
       "adr                                        0\n",
       "total_of_special_requests                  0\n",
       "reservation_status                         0\n",
       "arrival_date_month                         0\n",
       "arrival_date_day                           0\n",
       "arrival_date_year                          0\n",
       "arrival_date_week_number                   0\n",
       "reservation_status_date_day                0\n",
       "reservation_status_date_month              0\n",
       "reservation_status_date_year               0\n",
       "reservation_status_date_week_number        0\n",
       "dtype: int64"
      ]
     },
     "execution_count": 37,
     "metadata": {},
     "output_type": "execute_result"
    }
   ],
   "source": [
    "np.sum(clean_status_date.isnull())"
   ]
  },
  {
   "cell_type": "markdown",
   "id": "3eb30d33",
   "metadata": {
    "deletable": false,
    "editable": false,
    "nbgrader": {
     "grade": false,
     "grade_id": "cell-353131a991a26281",
     "locked": true,
     "schema_version": 3,
     "solution": false,
     "task": false
    }
   },
   "source": [
    "There's over 16000 missing values in the `agent` column, representing over 10% of the total observations and we need to do something about it. \n",
    "\n",
    "Usually if more than 70% of values in a column are missing and there is no way to fill them in, then the column can be completely dropped from the dataset. Our `agent` column is a categorical variable that represents the ID of the travel agency that made the booking. We can fill out the missing values with a new category named `unknown`.\n",
    "\n",
    "Create a new function named `impute_agents` that does exactly that."
   ]
  },
  {
   "cell_type": "code",
   "execution_count": null,
   "id": "207e2f67",
   "metadata": {
    "deletable": false,
    "nbgrader": {
     "grade": false,
     "grade_id": "cell-d68349ea8576483b",
     "locked": false,
     "schema_version": 3,
     "solution": true,
     "task": false
    }
   },
   "outputs": [],
   "source": [
    "def impute_agents(df: pd.DataFrame)->pd.DataFrame:\n",
    "    \"\"\"\n",
    "    This function imputs the missing values in the agents column with a new 'unknown' category\n",
    "    \"\"\"\n",
    "\n",
    "    # YOUR CODE HERE\n",
    "    raise NotImplementedError()\n"
   ]
  },
  {
   "cell_type": "code",
   "execution_count": null,
   "id": "741ba7af",
   "metadata": {
    "deletable": false,
    "editable": false,
    "nbgrader": {
     "grade": true,
     "grade_id": "cell-9f1a5fbc7a6ae9af",
     "locked": true,
     "points": 1,
     "schema_version": 3,
     "solution": false,
     "task": false
    }
   },
   "outputs": [],
   "source": [
    "imputed_df = impute_agents(clean_status_date) \n",
    "assert isinstance(imputed_df, pd.DataFrame), \"The fucntion should return a dataframe.\"\n",
    "assert hashlib.sha256(json.dumps(str(imputed_df.agent)).encode()).hexdigest() == 'e88eaebe8668246fc74259c12ea8e38311c86ec96a73e2a8de26eb30bb7aefb9', \"Something is wrong with your data imputation.\" \n",
    "assert hashlib.sha256(json.dumps(sorted(imputed_df.agent[imputed_df.agent == 'unknown'].sum())).encode()).hexdigest() == 'bb80fda4a664ce06ee5d39edb0488f95a9496f1a7dde86e8b750246967e5a921', \"Did you fill in all the missing values?\""
   ]
  },
  {
   "cell_type": "markdown",
   "id": "e54052ae",
   "metadata": {
    "deletable": false,
    "editable": false,
    "nbgrader": {
     "grade": false,
     "grade_id": "cell-1104cbd5e6c54200",
     "locked": true,
     "schema_version": 3,
     "solution": false,
     "task": false
    }
   },
   "source": [
    "## Exercise 3 - Drop duplicates\n",
    "\n",
    "The last thing you need to ensure is that your dataset doesn't have any duplicated data.\n",
    "Create a short function to remove duplicates!"
   ]
  },
  {
   "cell_type": "code",
   "execution_count": null,
   "id": "06e2c0d0",
   "metadata": {
    "deletable": false,
    "nbgrader": {
     "grade": false,
     "grade_id": "cell-f5a89d600ba6117e",
     "locked": false,
     "schema_version": 3,
     "solution": true,
     "task": false
    }
   },
   "outputs": [],
   "source": [
    "def drop_duplicated_entries(df: pd.DataFrame)->pd.DataFrame:\n",
    "    \"\"\"\n",
    "    This function drops duplicates from the dataframe\n",
    "    \"\"\"\n",
    "\n",
    "    # YOUR CODE HERE\n",
    "    raise NotImplementedError()\n",
    "    "
   ]
  },
  {
   "cell_type": "code",
   "execution_count": null,
   "id": "22a0142c",
   "metadata": {
    "deletable": false,
    "editable": false,
    "nbgrader": {
     "grade": true,
     "grade_id": "cell-922e485e37aa2f9f",
     "locked": true,
     "points": 1,
     "schema_version": 3,
     "solution": false,
     "task": false
    }
   },
   "outputs": [],
   "source": [
    "clean_crset_df = drop_duplicated_entries(imputed_df)\n",
    "assert isinstance(clean_crset_df, pd.DataFrame), \"The function should return a dataframe.\"\n",
    "assert clean_crset_df.shape == (82870, 20), \"The shape of the dataframe is different then expected. Have you removed all the duplicated rows?\" "
   ]
  },
  {
   "cell_type": "markdown",
   "id": "6ba45d4f",
   "metadata": {
    "deletable": false,
    "editable": false,
    "nbgrader": {
     "grade": false,
     "grade_id": "cell-30d6a0e2608a4104",
     "locked": true,
     "schema_version": 3,
     "solution": false,
     "task": false
    }
   },
   "source": [
    "Congratulations! The *CRSet() Hotel* dataset is looking very clean and tidy!\n",
    "<img src=\"media/CRset.png\" width=\"400\">"
   ]
  },
  {
   "cell_type": "markdown",
   "id": "df04f119",
   "metadata": {
    "deletable": false,
    "editable": false,
    "nbgrader": {
     "grade": false,
     "grade_id": "cell-a40891aaf441e092",
     "locked": true,
     "schema_version": 3,
     "solution": false,
     "task": false
    }
   },
   "source": [
    "## A mess to be tidied up\n",
    "\n",
    "You decided to switch to a more interesting job with the World Health Organization analyzing disease incidence across the world. Your first task is to analyse the incidence of tuberculosis between 1989 and 2008. WHO has been recording the cases all over the world. They have good intentions, but not very good methods to store data."
   ]
  },
  {
   "cell_type": "markdown",
   "id": "a6b64653",
   "metadata": {
    "deletable": false,
    "editable": false,
    "nbgrader": {
     "grade": false,
     "grade_id": "cell-a98e3be81938db57",
     "locked": true,
     "schema_version": 3,
     "solution": false,
     "task": false
    }
   },
   "source": [
    "<img src=\"media/tbc.png\"  width=\"400\">"
   ]
  },
  {
   "cell_type": "markdown",
   "id": "c4e4567e",
   "metadata": {
    "deletable": false,
    "editable": false,
    "nbgrader": {
     "grade": false,
     "grade_id": "cell-c6502825d7d92e1b",
     "locked": true,
     "schema_version": 3,
     "solution": false,
     "task": false
    }
   },
   "source": [
    "Let's have a look:"
   ]
  },
  {
   "cell_type": "code",
   "execution_count": null,
   "id": "28dd3487",
   "metadata": {
    "deletable": false,
    "editable": false,
    "nbgrader": {
     "grade": false,
     "grade_id": "cell-a9540248bf5e9462",
     "locked": true,
     "schema_version": 3,
     "solution": false,
     "task": false
    }
   },
   "outputs": [],
   "source": [
    "df_tb_who = pd.read_csv(os.path.join('data', 'tb.csv'), sep=',')\n",
    "df_tb_who.head()"
   ]
  },
  {
   "cell_type": "markdown",
   "id": "b2572cda",
   "metadata": {
    "deletable": false,
    "editable": false,
    "nbgrader": {
     "grade": false,
     "grade_id": "cell-6ca615b5895620ad",
     "locked": true,
     "schema_version": 3,
     "solution": false,
     "task": false
    }
   },
   "source": [
    "The dataset contains counts of confirmed tuberculosis cases by country, year and demographic group. The demographic data contains information on sex (*m* for male and *f* for female)  and age (*0-14, 15-24, 25-34, 35-44, 45-54, 55-64* and *65+*). Except for the column `year`, the column names are not very intuitive. The column `iso2` contains the country code in [iso2 format](https://www.iso.org/iso-3166-country-codes.html). The remaining columns are actually joint realizations of two variables: `sex` and `age`. "
   ]
  },
  {
   "cell_type": "markdown",
   "id": "4469df8f",
   "metadata": {
    "deletable": false,
    "editable": false,
    "nbgrader": {
     "grade": false,
     "grade_id": "cell-49eb1d7688de9aaf",
     "locked": true,
     "schema_version": 3,
     "solution": false,
     "task": false
    }
   },
   "source": [
    "## Exercise 4 - Country \n",
    "\n",
    "Start by addressing the `iso2` column. Save in a new `country` column the corresponding country name from the iso2 code. The [pycountry-convert](https://pypi.org/project/pycountry-convert/) package is your friend! It's already imported as `cc`.\n",
    "\n",
    "First, create a function `get_country` that converts the iso2 code to country name. If the name cannot be retrieved, the function should return the original iso2 code as a `string`. Afterwards copy the who dataframe to new `df_tb_who_country` dataframe, apply the function and drop the `iso2` column."
   ]
  },
  {
   "cell_type": "code",
   "execution_count": null,
   "id": "ecc1c7c2",
   "metadata": {
    "deletable": false,
    "nbgrader": {
     "grade": false,
     "grade_id": "cell-c70d7302fbae72b0",
     "locked": false,
     "schema_version": 3,
     "solution": true,
     "task": false
    }
   },
   "outputs": [],
   "source": [
    "# YOUR CODE HERE\n",
    "raise NotImplementedError()\n",
    "\n",
    "#def get_country():\n",
    "\n",
    "#df_tb_who_country = ..."
   ]
  },
  {
   "cell_type": "code",
   "execution_count": null,
   "id": "59c2191b",
   "metadata": {
    "deletable": false,
    "editable": false,
    "nbgrader": {
     "grade": true,
     "grade_id": "cell-78a9eaeaa51da8b0",
     "locked": true,
     "points": 2,
     "schema_version": 3,
     "solution": false,
     "task": false
    }
   },
   "outputs": [],
   "source": [
    "assert isinstance(df_tb_who_country, pd.DataFrame), \"The result should be a dataframe.\"\n",
    "assert 'iso2' not in df_tb_who_country.columns, \"You should drop the original iso2 column.\"\n",
    "assert 'country' in df_tb_who_country.columns, \"Have you stored the results in a new column named 'country'?\"\n",
    "assert hashlib.sha256(json.dumps(sorted(df_tb_who_country['country'].unique())).encode()).hexdigest() == '40515e68a196feaac974999d8d4fa9f3dd814e1bde66243a968fadf41a8e84de', \"Have you converted the iso2 codes to the country NAME?\""
   ]
  },
  {
   "cell_type": "markdown",
   "id": "7cc97eb6",
   "metadata": {
    "deletable": false,
    "editable": false,
    "nbgrader": {
     "grade": false,
     "grade_id": "cell-2a3a6625daad01dc",
     "locked": true,
     "schema_version": 3,
     "solution": false,
     "task": false
    }
   },
   "source": [
    "## Exercise 5 - the melt function\n",
    "\n",
    "This is our dataframe with country names:"
   ]
  },
  {
   "cell_type": "code",
   "execution_count": null,
   "id": "ade46c46",
   "metadata": {
    "deletable": false,
    "editable": false,
    "nbgrader": {
     "grade": false,
     "grade_id": "cell-6398f5af771f0b5e",
     "locked": true,
     "schema_version": 3,
     "solution": false,
     "task": false
    }
   },
   "outputs": [],
   "source": [
    "df_tb_who_country.head()"
   ]
  },
  {
   "cell_type": "markdown",
   "id": "81c86519",
   "metadata": {
    "deletable": false,
    "editable": false,
    "nbgrader": {
     "grade": false,
     "grade_id": "cell-5ef9ec3150c7e630",
     "locked": true,
     "schema_version": 3,
     "solution": false,
     "task": false
    }
   },
   "source": [
    "Before we can continue, we need to tidy it up. Of all the columns, only two are variables, `year` and `country`. All the other column names are values. \n",
    "\n",
    "Use the function `melt()` to tidy the dataframe and store it in `tidy_tb`. Keep the `country` and `year` columns and melt all the other columns. Store the melted column names in the variable `column_name` and their values in variable `cases`."
   ]
  },
  {
   "cell_type": "code",
   "execution_count": null,
   "id": "628adf15",
   "metadata": {
    "deletable": false,
    "nbgrader": {
     "grade": false,
     "grade_id": "cell-6fd55136526d1de2",
     "locked": false,
     "schema_version": 3,
     "solution": true,
     "task": false
    }
   },
   "outputs": [],
   "source": [
    "#tidy_tb = pd.melt(...)\n",
    "# YOUR CODE HERE\n",
    "raise NotImplementedError()"
   ]
  },
  {
   "cell_type": "code",
   "execution_count": null,
   "id": "5386385b",
   "metadata": {
    "deletable": false,
    "editable": false,
    "nbgrader": {
     "grade": true,
     "grade_id": "cell-c7b7f19a19d6be01",
     "locked": true,
     "points": 2,
     "schema_version": 3,
     "solution": false,
     "task": false
    }
   },
   "outputs": [],
   "source": [
    "assert isinstance(tidy_tb, pd.DataFrame), \"The result should be a dataframe.\"\n",
    "assert tidy_tb.shape == (121149, 4), \"Your dataframe doesn't have the expected shape. Have you melted the dataframe correctly?\"\n",
    "assert \"column_name\" in tidy_tb.columns, \"The variables other than 'country' and 'year' should be stored in a column named 'column_name'.\"\n",
    "assert \"cases\" in tidy_tb.columns, \"Number of cases should be stored in a column named 'cases'.\"\n",
    "assert hashlib.sha256(json.dumps(sorted(tidy_tb['column_name'])).encode()).hexdigest() == '4ba594d958d63b5bab87fe50944b16f30a93824e56fa331d5d9b59dddf285e35', \"The column_name column doesn't look as expected\" \n",
    "assert hashlib.sha256(json.dumps(sorted(tidy_tb['cases'])).encode()).hexdigest() == '8a294cd49c8fc1b29b60893e45426a80cb9681be4c699ae950c7103552cc7153', \"The cases column doesn't look as expected\""
   ]
  },
  {
   "cell_type": "markdown",
   "id": "0e50503c",
   "metadata": {
    "deletable": false,
    "editable": false,
    "nbgrader": {
     "grade": false,
     "grade_id": "cell-a3c6930dbf5b9ef6",
     "locked": true,
     "schema_version": 3,
     "solution": false,
     "task": false
    }
   },
   "source": [
    "## Exercise 6 - Data cleanup\n",
    "\n",
    "Our dataframe is tidy, but it's not clean. From the `tidy_tb` dataframe, drop all the rows where `cases` **OR** `country` is null, as we just don't have any information and we cannot guess the number of cases or the country of origin. Convert the `cases` column to `int`. Note that in the Exercise 4, the `country` column was converted to string. Consequently, the NaN values are now \"nan\" strings. These will affect the behaviour of the .isnull() or .notnull methods. Save the final dataframe in `clean_tidy_tb` sorted by `country`, `year`, and `column_name`. The indexes should be reset (with `drop=True`)."
   ]
  },
  {
   "cell_type": "code",
   "execution_count": null,
   "id": "4c0eed30",
   "metadata": {
    "deletable": false,
    "nbgrader": {
     "grade": false,
     "grade_id": "cell-9577b6eba97000ae",
     "locked": false,
     "schema_version": 3,
     "solution": true,
     "task": false
    }
   },
   "outputs": [],
   "source": [
    "# YOUR CODE HERE\n",
    "raise NotImplementedError()"
   ]
  },
  {
   "cell_type": "code",
   "execution_count": null,
   "id": "54623e4e",
   "metadata": {
    "deletable": false,
    "editable": false,
    "nbgrader": {
     "grade": true,
     "grade_id": "cell-42fd7bf741b61410",
     "locked": true,
     "points": 2,
     "schema_version": 3,
     "solution": false,
     "task": false
    }
   },
   "outputs": [],
   "source": [
    "assert isinstance(clean_tidy_tb, pd.DataFrame), \"The result should be a dataframe.\"\n",
    "assert clean_tidy_tb.shape == (38619, 4), \"The shape of the dataframe is not correct.\"\n",
    "assert hashlib.sha256(json.dumps(sorted(tidy_tb['country'])).encode()).hexdigest() == '43543c9e06fe9846897c269db635da02fc76dae4527775062a2f66efc707e87e', \"There is something wrong with the values in the country column.\"\n",
    "assert hashlib.sha256(json.dumps(sorted(tidy_tb['cases'])).encode()).hexdigest() == '8a294cd49c8fc1b29b60893e45426a80cb9681be4c699ae950c7103552cc7153', \"There is something wrong with the values in the cases column.\""
   ]
  },
  {
   "cell_type": "markdown",
   "id": "64d5939a",
   "metadata": {
    "deletable": false,
    "editable": false,
    "nbgrader": {
     "grade": false,
     "grade_id": "cell-efe3c1f80a242099",
     "locked": true,
     "schema_version": 3,
     "solution": false,
     "task": false
    }
   },
   "source": [
    "## Exercise 7 - Multiple Variables stored in one Column\n",
    "\n",
    "Our `clean_tidy_tb` is looking better, but now we need to address the problem of having multiple variables stored in the `column_name` column. Let's fix that in a few steps."
   ]
  },
  {
   "cell_type": "markdown",
   "id": "2cd605ef",
   "metadata": {
    "deletable": false,
    "editable": false,
    "nbgrader": {
     "grade": false,
     "grade_id": "cell-29b2aec2de48149d",
     "locked": true,
     "schema_version": 3,
     "solution": false,
     "task": false
    }
   },
   "source": [
    "### Exercise 7.1 \n",
    "\n",
    "From the `column_name` column, extract the codes for female/male to a new column named `sex` and the codes for the age to a new column `age`. Use pandas `str.extract` to do this. Drop all missing values afterwards."
   ]
  },
  {
   "cell_type": "code",
   "execution_count": null,
   "id": "93348cec",
   "metadata": {
    "deletable": false,
    "nbgrader": {
     "grade": false,
     "grade_id": "cell-010b213892a15dcd",
     "locked": false,
     "schema_version": 3,
     "solution": true,
     "task": false
    }
   },
   "outputs": [],
   "source": [
    "#clean_tidy_tb[[\"sex\", \"age\"]] =\n",
    "\n",
    "# YOUR CODE HERE\n",
    "raise NotImplementedError()"
   ]
  },
  {
   "cell_type": "code",
   "execution_count": null,
   "id": "99c275ac",
   "metadata": {
    "deletable": false,
    "editable": false,
    "nbgrader": {
     "grade": true,
     "grade_id": "cell-59b3a28814a74234",
     "locked": true,
     "points": 2,
     "schema_version": 3,
     "solution": false,
     "task": false
    }
   },
   "outputs": [],
   "source": [
    "assert isinstance(clean_tidy_tb, pd.DataFrame), \"The result should be a dataframe.\"\n",
    "assert clean_tidy_tb.shape == (35552, 6), \"The shape of your dataframe is off. Have you dropped the missing values?\"\n",
    "assert hashlib.sha256(json.dumps(sorted(clean_tidy_tb['sex'].unique())).encode()).hexdigest() == '1a336f5ee71cf591bfd047e8facc048011b4b2bb760743e979ebe7c445dacf1b', \"The values in the sex column are not ok.\"\n",
    "assert hashlib.sha256(json.dumps(sorted(clean_tidy_tb['age'].unique())).encode()).hexdigest() == '70a6918917681862857b955b14e70f7bc68d0050382ef81945fe963e48135f10', \"The values in the age column are not ok.\""
   ]
  },
  {
   "cell_type": "markdown",
   "id": "58e9fade",
   "metadata": {
    "deletable": false,
    "editable": false,
    "nbgrader": {
     "grade": false,
     "grade_id": "cell-bda729060158f3aa",
     "locked": true,
     "schema_version": 3,
     "solution": false,
     "task": false
    }
   },
   "source": [
    "### Exercise 7.2\n",
    "\n",
    "The values in the `age` column are not very easy to understand. Use the `decode_age` dictionary to convert them to a more readable format. Drop any row where the values could not be converted."
   ]
  },
  {
   "cell_type": "code",
   "execution_count": null,
   "id": "bdb47e10",
   "metadata": {
    "deletable": false,
    "editable": false,
    "nbgrader": {
     "grade": false,
     "grade_id": "cell-dc2eced9420c20b8",
     "locked": true,
     "schema_version": 3,
     "solution": false,
     "task": false
    }
   },
   "outputs": [],
   "source": [
    "decode_age =   {\n",
    "        \"014\": \"0-14\",\n",
    "        \"1524\": \"15-24\",\n",
    "        \"2534\": \"25-34\",\n",
    "        \"3544\": \"35-44\",\n",
    "        \"4554\": \"45-54\",\n",
    "        \"5564\": \"55-64\",\n",
    "        \"65\": \"65+\",\n",
    "        \"u\": \"unknown\",\n",
    "    }"
   ]
  },
  {
   "cell_type": "code",
   "execution_count": null,
   "id": "65beb34c",
   "metadata": {
    "deletable": false,
    "nbgrader": {
     "grade": false,
     "grade_id": "cell-5da3dd934bfb0944",
     "locked": false,
     "schema_version": 3,
     "solution": true,
     "task": false
    }
   },
   "outputs": [],
   "source": [
    "# clean_tidy_tb[\"age\"] = ...\n",
    "\n",
    "# YOUR CODE HERE\n",
    "raise NotImplementedError()"
   ]
  },
  {
   "cell_type": "code",
   "execution_count": null,
   "id": "f9b7800d",
   "metadata": {
    "deletable": false,
    "editable": false,
    "nbgrader": {
     "grade": true,
     "grade_id": "cell-d6f8a9b49d1bb1f6",
     "locked": true,
     "points": 1,
     "schema_version": 3,
     "solution": false,
     "task": false
    }
   },
   "outputs": [],
   "source": [
    "assert clean_tidy_tb.shape == (33962, 6), \"The shape of your dataframe is off. Have you dropped the missing values?\"\n",
    "assert hashlib.sha256(json.dumps(sorted(clean_tidy_tb['age'].unique())).encode()).hexdigest() == '8135dd0c090f9073cbb69a7bbacefd8ad0ecdb6e26415ece93e3fb5f8f5d17e6', \"The decoding did not work as expected.\""
   ]
  },
  {
   "cell_type": "markdown",
   "id": "0a5e8e05",
   "metadata": {
    "deletable": false,
    "editable": false,
    "nbgrader": {
     "grade": false,
     "grade_id": "cell-33c22bb906ad7ae8",
     "locked": true,
     "schema_version": 3,
     "solution": false,
     "task": false
    }
   },
   "source": [
    "### Exercise 7.3\n",
    "\n",
    "Finally, save in `final_tb_df` the dataframe with just the columns \"country\", \"year\", \"sex\", \"age\" and \"cases\"."
   ]
  },
  {
   "cell_type": "code",
   "execution_count": null,
   "id": "d7260cee",
   "metadata": {
    "deletable": false,
    "nbgrader": {
     "grade": false,
     "grade_id": "cell-740d1b402b3e1cdd",
     "locked": false,
     "schema_version": 3,
     "solution": true,
     "task": false
    }
   },
   "outputs": [],
   "source": [
    "# final_tb_df = ...\n",
    "# YOUR CODE HERE\n",
    "raise NotImplementedError()"
   ]
  },
  {
   "cell_type": "code",
   "execution_count": null,
   "id": "858119af",
   "metadata": {
    "deletable": false,
    "editable": false,
    "nbgrader": {
     "grade": true,
     "grade_id": "cell-ebe6d59edb53d1bf",
     "locked": true,
     "points": 1,
     "schema_version": 3,
     "solution": false,
     "task": false
    }
   },
   "outputs": [],
   "source": [
    "assert isinstance(final_tb_df, pd.DataFrame), \"The result should be a dataframe.\"\n",
    "assert final_tb_df.shape == (33962, 5), \"The shape of your dataframe is off.\"\n",
    "assert sorted(final_tb_df.columns) == ['age', 'cases', 'country', 'sex', 'year'], \"The column names are not as expected.\""
   ]
  },
  {
   "cell_type": "markdown",
   "id": "412717aa",
   "metadata": {
    "deletable": false,
    "editable": false,
    "nbgrader": {
     "grade": false,
     "grade_id": "cell-e4c77887957ce018",
     "locked": true,
     "schema_version": 3,
     "solution": false,
     "task": false
    }
   },
   "source": [
    "Congratulations!!! You're a data cleaning master!"
   ]
  },
  {
   "cell_type": "markdown",
   "id": "0381a077",
   "metadata": {
    "deletable": false,
    "editable": false,
    "nbgrader": {
     "grade": false,
     "grade_id": "cell-5b67eb1dc4a3d834",
     "locked": true,
     "schema_version": 3,
     "solution": false,
     "task": false
    }
   },
   "source": [
    "<img src=\"media/good-job.jpg\"  width=\"400\">"
   ]
  }
 ],
 "metadata": {
  "kernelspec": {
   "display_name": "Python 3 (ipykernel)",
   "language": "python",
   "name": "python3"
  },
  "language_info": {
   "codemirror_mode": {
    "name": "ipython",
    "version": 3
   },
   "file_extension": ".py",
   "mimetype": "text/x-python",
   "name": "python",
   "nbconvert_exporter": "python",
   "pygments_lexer": "ipython3",
   "version": "3.10.6"
  },
  "toc": {
   "base_numbering": 1,
   "nav_menu": {},
   "number_sections": true,
   "sideBar": true,
   "skip_h1_title": false,
   "title_cell": "Table of Contents",
   "title_sidebar": "Contents",
   "toc_cell": false,
   "toc_position": {},
   "toc_section_display": true,
   "toc_window_display": false
  }
 },
 "nbformat": 4,
 "nbformat_minor": 5
}
