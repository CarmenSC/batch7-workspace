{
 "cells": [
  {
   "cell_type": "markdown",
   "id": "29fa1514",
   "metadata": {
    "deletable": false,
    "editable": false,
    "nbgrader": {
     "grade": false,
     "grade_id": "cell-1bd4194db78c2f35",
     "locked": true,
     "schema_version": 3,
     "solution": false,
     "task": false
    }
   },
   "source": [
    "# SLU06 - Dealing with Data Problems\n"
   ]
  },
  {
   "cell_type": "code",
   "execution_count": 1,
   "id": "8c941627",
   "metadata": {
    "ExecuteTime": {
     "end_time": "2023-12-04T22:50:39.464505Z",
     "start_time": "2023-12-04T22:50:39.453379Z"
    }
   },
   "outputs": [],
   "source": [
    "#!pip install -r requirements.txt"
   ]
  },
  {
   "cell_type": "code",
   "execution_count": 2,
   "id": "12fd71c2",
   "metadata": {
    "ExecuteTime": {
     "end_time": "2023-12-04T22:50:40.443205Z",
     "start_time": "2023-12-04T22:50:39.473799Z"
    },
    "deletable": false,
    "editable": false,
    "nbgrader": {
     "grade": false,
     "grade_id": "cell-b15be3cd61e549f0",
     "locked": true,
     "schema_version": 3,
     "solution": false,
     "task": false
    }
   },
   "outputs": [],
   "source": [
    "import os\n",
    "import pandas as pd\n",
    "import numpy as np\n",
    "import copy\n",
    "import hashlib\n",
    "import json\n",
    "import warnings\n",
    "import calendar\n",
    "import datetime\n",
    "warnings.filterwarnings('ignore')\n",
    "import pycountry_convert as cc"
   ]
  },
  {
   "cell_type": "markdown",
   "id": "55edcc82",
   "metadata": {
    "deletable": false,
    "editable": false,
    "nbgrader": {
     "grade": false,
     "grade_id": "cell-37c8582828957176",
     "locked": true,
     "schema_version": 3,
     "solution": false,
     "task": false
    }
   },
   "source": [
    "Welcome to the wonderful world of Data Cleanup! In the real would, a lot of good people are spending a lot of time  cleaning datasets and getting them down to a form with which they can work. \n",
    "\n",
    "There is one thing that you should always keep in mind when working with data:\n",
    "\n",
    "<img src=\"media/clean-you-must.jpg\"/>\n",
    "\n",
    "Let's get our hands dirty."
   ]
  },
  {
   "cell_type": "markdown",
   "id": "33154d65",
   "metadata": {
    "deletable": false,
    "editable": false,
    "nbgrader": {
     "grade": false,
     "grade_id": "cell-6c0c96d2c5e113da",
     "locked": true,
     "schema_version": 3,
     "solution": false,
     "task": false
    }
   },
   "source": [
    "## The CR hotels\n",
    "\n",
    "You took a job as a data scientist in the fancy CR hotel imperium. Your first task is to clean a dataset of reservations from 2015 to 2017. You need to get it nice and tidy before it can be analysed.\n",
    "\n",
    "Here is the data dictionary for the dataset:\n",
    "- **hotel:** Resort Hotel or City Hotel\n",
    "- **is_canceled:** Value indicating if the booking was canceled (1) or not (0)\n",
    "- **lead_time:** Number of days that elapsed between the date of the booking and the arrival date\n",
    "- **arrival_date**: Arrival date formatted as \"Month Day Year\"\n",
    "- **stays_in_weekend_nights:** Number of weekend nights (Saturday or Sunday) the guest booked at the hotel\n",
    "- **stays_in_week_nights:** Number of week nights (Monday to Friday) the guest booked at the hotel\n",
    "- **adults**: Number of adults\n",
    "- **is_repeated_guest:** Value indicating if the booking is from a repeated guest (1) or not (0)\n",
    "- **previous_cancelations:** Number of previous bookings that were canceled by the customer prior to the current booking\n",
    "- **agent:** ID of the travel agency that made the booking\n",
    "- **adr:** Average Daily Rate defined as the total price of the stay divided by the number of staying nights\n",
    "- **total_of_special_requests:** Number of special requests made by the customer (e.g. twin bed or high floor)\n",
    "- **reservation_status:** Last status of the reservation, assuming one of three categories: Canceled – booking was canceled by the customer; Check-Out – customer checked in and out of the hotel; No-Show – customer did not check in and did not inform the hotel of the reason why\n",
    "- **reservation_status_date:** Date at which the last status was set. This variable can be used in conjunction with the ReservationStatus to understand when was the booking canceled or when did the customer check out of the hotel"
   ]
  },
  {
   "cell_type": "markdown",
   "id": "67a1322c",
   "metadata": {
    "deletable": false,
    "editable": false,
    "nbgrader": {
     "grade": false,
     "grade_id": "cell-ed9eb16417949aa8",
     "locked": true,
     "schema_version": 3,
     "solution": false,
     "task": false
    }
   },
   "source": [
    "### Exercise 1.1\n",
    "\n",
    "Let's start by importing the dataset and taking a look at it. The dataset is located in the `data` folder, in a file named `crset_hotel_bookings.csv`. This file came straight out of MS Excel, so the values are separated by semicolons. Load the dataset into the `df_crset` dataframe."
   ]
  },
  {
   "cell_type": "code",
   "execution_count": 3,
   "id": "e073e7ea",
   "metadata": {
    "ExecuteTime": {
     "end_time": "2023-12-04T22:50:40.649922Z",
     "start_time": "2023-12-04T22:50:40.448878Z"
    },
    "deletable": false,
    "nbgrader": {
     "grade": false,
     "grade_id": "cell-5a996a1055302b2b",
     "locked": false,
     "schema_version": 3,
     "solution": true,
     "task": false
    }
   },
   "outputs": [],
   "source": [
    "# use pandas to load the data into the df_crset dataframe\n",
    "# df_crset = ... \n",
    "\n",
    "# YOUR CODE HERE\n",
    "df_crset = pd.read_csv('data/crset_hotel_bookings.csv', sep=';')"
   ]
  },
  {
   "cell_type": "code",
   "execution_count": 4,
   "id": "b766b271",
   "metadata": {
    "ExecuteTime": {
     "end_time": "2023-12-04T22:50:40.685500Z",
     "start_time": "2023-12-04T22:50:40.657512Z"
    }
   },
   "outputs": [
    {
     "data": {
      "text/html": [
       "<div>\n",
       "<style scoped>\n",
       "    .dataframe tbody tr th:only-of-type {\n",
       "        vertical-align: middle;\n",
       "    }\n",
       "\n",
       "    .dataframe tbody tr th {\n",
       "        vertical-align: top;\n",
       "    }\n",
       "\n",
       "    .dataframe thead th {\n",
       "        text-align: right;\n",
       "    }\n",
       "</style>\n",
       "<table border=\"1\" class=\"dataframe\">\n",
       "  <thead>\n",
       "    <tr style=\"text-align: right;\">\n",
       "      <th></th>\n",
       "      <th>hotel</th>\n",
       "      <th>is_canceled</th>\n",
       "      <th>lead_time</th>\n",
       "      <th>arrival_date</th>\n",
       "      <th>stays_in_weekend_nights</th>\n",
       "      <th>stays_in_week_nights</th>\n",
       "      <th>adults</th>\n",
       "      <th>is_repeated_guest</th>\n",
       "      <th>previous_cancelations</th>\n",
       "      <th>agent</th>\n",
       "      <th>adr</th>\n",
       "      <th>total_of_special_requests</th>\n",
       "      <th>reservation_status</th>\n",
       "      <th>reservation_status_date</th>\n",
       "    </tr>\n",
       "  </thead>\n",
       "  <tbody>\n",
       "    <tr>\n",
       "      <th>0</th>\n",
       "      <td>Resort Hotel</td>\n",
       "      <td>0</td>\n",
       "      <td>342</td>\n",
       "      <td>July 1 2015</td>\n",
       "      <td>0</td>\n",
       "      <td>0</td>\n",
       "      <td>2</td>\n",
       "      <td>0</td>\n",
       "      <td>0</td>\n",
       "      <td>NaN</td>\n",
       "      <td>0.0</td>\n",
       "      <td>0</td>\n",
       "      <td>Check-Out</td>\n",
       "      <td>01/07/2015</td>\n",
       "    </tr>\n",
       "    <tr>\n",
       "      <th>1</th>\n",
       "      <td>Resort Hotel</td>\n",
       "      <td>0</td>\n",
       "      <td>737</td>\n",
       "      <td>July 1 2015</td>\n",
       "      <td>0</td>\n",
       "      <td>0</td>\n",
       "      <td>2</td>\n",
       "      <td>0</td>\n",
       "      <td>0</td>\n",
       "      <td>NaN</td>\n",
       "      <td>0.0</td>\n",
       "      <td>0</td>\n",
       "      <td>Check-Out</td>\n",
       "      <td>01/07/2015</td>\n",
       "    </tr>\n",
       "    <tr>\n",
       "      <th>2</th>\n",
       "      <td>Resort Hotel</td>\n",
       "      <td>0</td>\n",
       "      <td>7</td>\n",
       "      <td>July 1 2015</td>\n",
       "      <td>0</td>\n",
       "      <td>1</td>\n",
       "      <td>1</td>\n",
       "      <td>0</td>\n",
       "      <td>0</td>\n",
       "      <td>NaN</td>\n",
       "      <td>75.0</td>\n",
       "      <td>0</td>\n",
       "      <td>Check-Out</td>\n",
       "      <td>02/07/2015</td>\n",
       "    </tr>\n",
       "    <tr>\n",
       "      <th>3</th>\n",
       "      <td>Resort Hotel</td>\n",
       "      <td>0</td>\n",
       "      <td>13</td>\n",
       "      <td>July 1 2015</td>\n",
       "      <td>0</td>\n",
       "      <td>1</td>\n",
       "      <td>1</td>\n",
       "      <td>0</td>\n",
       "      <td>0</td>\n",
       "      <td>304.0</td>\n",
       "      <td>75.0</td>\n",
       "      <td>0</td>\n",
       "      <td>Check-Out</td>\n",
       "      <td>02/07/2015</td>\n",
       "    </tr>\n",
       "    <tr>\n",
       "      <th>4</th>\n",
       "      <td>Resort Hotel</td>\n",
       "      <td>0</td>\n",
       "      <td>14</td>\n",
       "      <td>July 1 2015</td>\n",
       "      <td>0</td>\n",
       "      <td>2</td>\n",
       "      <td>2</td>\n",
       "      <td>0</td>\n",
       "      <td>0</td>\n",
       "      <td>240.0</td>\n",
       "      <td>98.0</td>\n",
       "      <td>1</td>\n",
       "      <td>Check-Out</td>\n",
       "      <td>03/07/2015</td>\n",
       "    </tr>\n",
       "  </tbody>\n",
       "</table>\n",
       "</div>"
      ],
      "text/plain": [
       "          hotel  is_canceled  lead_time arrival_date  stays_in_weekend_nights  \\\n",
       "0  Resort Hotel            0        342  July 1 2015                        0   \n",
       "1  Resort Hotel            0        737  July 1 2015                        0   \n",
       "2  Resort Hotel            0          7  July 1 2015                        0   \n",
       "3  Resort Hotel            0         13  July 1 2015                        0   \n",
       "4  Resort Hotel            0         14  July 1 2015                        0   \n",
       "\n",
       "   stays_in_week_nights  adults  is_repeated_guest  previous_cancelations  \\\n",
       "0                     0       2                  0                      0   \n",
       "1                     0       2                  0                      0   \n",
       "2                     1       1                  0                      0   \n",
       "3                     1       1                  0                      0   \n",
       "4                     2       2                  0                      0   \n",
       "\n",
       "   agent   adr  total_of_special_requests reservation_status  \\\n",
       "0    NaN   0.0                          0          Check-Out   \n",
       "1    NaN   0.0                          0          Check-Out   \n",
       "2    NaN  75.0                          0          Check-Out   \n",
       "3  304.0  75.0                          0          Check-Out   \n",
       "4  240.0  98.0                          1          Check-Out   \n",
       "\n",
       "  reservation_status_date  \n",
       "0              01/07/2015  \n",
       "1              01/07/2015  \n",
       "2              02/07/2015  \n",
       "3              02/07/2015  \n",
       "4              03/07/2015  "
      ]
     },
     "execution_count": 4,
     "metadata": {},
     "output_type": "execute_result"
    }
   ],
   "source": [
    "df_crset.head()"
   ]
  },
  {
   "cell_type": "code",
   "execution_count": 5,
   "id": "1d4ae9f8",
   "metadata": {
    "ExecuteTime": {
     "end_time": "2023-12-04T22:50:40.710832Z",
     "start_time": "2023-12-04T22:50:40.692438Z"
    },
    "deletable": false,
    "editable": false,
    "nbgrader": {
     "grade": true,
     "grade_id": "cell-fe56bb53bb1f1d79",
     "locked": true,
     "points": 1,
     "schema_version": 3,
     "solution": false,
     "task": false
    }
   },
   "outputs": [
    {
     "data": {
      "text/html": [
       "<div>\n",
       "<style scoped>\n",
       "    .dataframe tbody tr th:only-of-type {\n",
       "        vertical-align: middle;\n",
       "    }\n",
       "\n",
       "    .dataframe tbody tr th {\n",
       "        vertical-align: top;\n",
       "    }\n",
       "\n",
       "    .dataframe thead th {\n",
       "        text-align: right;\n",
       "    }\n",
       "</style>\n",
       "<table border=\"1\" class=\"dataframe\">\n",
       "  <thead>\n",
       "    <tr style=\"text-align: right;\">\n",
       "      <th></th>\n",
       "      <th>hotel</th>\n",
       "      <th>is_canceled</th>\n",
       "      <th>lead_time</th>\n",
       "      <th>arrival_date</th>\n",
       "      <th>stays_in_weekend_nights</th>\n",
       "      <th>stays_in_week_nights</th>\n",
       "      <th>adults</th>\n",
       "      <th>is_repeated_guest</th>\n",
       "      <th>previous_cancelations</th>\n",
       "      <th>agent</th>\n",
       "      <th>adr</th>\n",
       "      <th>total_of_special_requests</th>\n",
       "      <th>reservation_status</th>\n",
       "      <th>reservation_status_date</th>\n",
       "    </tr>\n",
       "  </thead>\n",
       "  <tbody>\n",
       "    <tr>\n",
       "      <th>0</th>\n",
       "      <td>Resort Hotel</td>\n",
       "      <td>0</td>\n",
       "      <td>342</td>\n",
       "      <td>July 1 2015</td>\n",
       "      <td>0</td>\n",
       "      <td>0</td>\n",
       "      <td>2</td>\n",
       "      <td>0</td>\n",
       "      <td>0</td>\n",
       "      <td>NaN</td>\n",
       "      <td>0.0</td>\n",
       "      <td>0</td>\n",
       "      <td>Check-Out</td>\n",
       "      <td>01/07/2015</td>\n",
       "    </tr>\n",
       "    <tr>\n",
       "      <th>1</th>\n",
       "      <td>Resort Hotel</td>\n",
       "      <td>0</td>\n",
       "      <td>737</td>\n",
       "      <td>July 1 2015</td>\n",
       "      <td>0</td>\n",
       "      <td>0</td>\n",
       "      <td>2</td>\n",
       "      <td>0</td>\n",
       "      <td>0</td>\n",
       "      <td>NaN</td>\n",
       "      <td>0.0</td>\n",
       "      <td>0</td>\n",
       "      <td>Check-Out</td>\n",
       "      <td>01/07/2015</td>\n",
       "    </tr>\n",
       "    <tr>\n",
       "      <th>2</th>\n",
       "      <td>Resort Hotel</td>\n",
       "      <td>0</td>\n",
       "      <td>7</td>\n",
       "      <td>July 1 2015</td>\n",
       "      <td>0</td>\n",
       "      <td>1</td>\n",
       "      <td>1</td>\n",
       "      <td>0</td>\n",
       "      <td>0</td>\n",
       "      <td>NaN</td>\n",
       "      <td>75.0</td>\n",
       "      <td>0</td>\n",
       "      <td>Check-Out</td>\n",
       "      <td>02/07/2015</td>\n",
       "    </tr>\n",
       "    <tr>\n",
       "      <th>3</th>\n",
       "      <td>Resort Hotel</td>\n",
       "      <td>0</td>\n",
       "      <td>13</td>\n",
       "      <td>July 1 2015</td>\n",
       "      <td>0</td>\n",
       "      <td>1</td>\n",
       "      <td>1</td>\n",
       "      <td>0</td>\n",
       "      <td>0</td>\n",
       "      <td>304.0</td>\n",
       "      <td>75.0</td>\n",
       "      <td>0</td>\n",
       "      <td>Check-Out</td>\n",
       "      <td>02/07/2015</td>\n",
       "    </tr>\n",
       "    <tr>\n",
       "      <th>4</th>\n",
       "      <td>Resort Hotel</td>\n",
       "      <td>0</td>\n",
       "      <td>14</td>\n",
       "      <td>July 1 2015</td>\n",
       "      <td>0</td>\n",
       "      <td>2</td>\n",
       "      <td>2</td>\n",
       "      <td>0</td>\n",
       "      <td>0</td>\n",
       "      <td>240.0</td>\n",
       "      <td>98.0</td>\n",
       "      <td>1</td>\n",
       "      <td>Check-Out</td>\n",
       "      <td>03/07/2015</td>\n",
       "    </tr>\n",
       "  </tbody>\n",
       "</table>\n",
       "</div>"
      ],
      "text/plain": [
       "          hotel  is_canceled  lead_time arrival_date  stays_in_weekend_nights  \\\n",
       "0  Resort Hotel            0        342  July 1 2015                        0   \n",
       "1  Resort Hotel            0        737  July 1 2015                        0   \n",
       "2  Resort Hotel            0          7  July 1 2015                        0   \n",
       "3  Resort Hotel            0         13  July 1 2015                        0   \n",
       "4  Resort Hotel            0         14  July 1 2015                        0   \n",
       "\n",
       "   stays_in_week_nights  adults  is_repeated_guest  previous_cancelations  \\\n",
       "0                     0       2                  0                      0   \n",
       "1                     0       2                  0                      0   \n",
       "2                     1       1                  0                      0   \n",
       "3                     1       1                  0                      0   \n",
       "4                     2       2                  0                      0   \n",
       "\n",
       "   agent   adr  total_of_special_requests reservation_status  \\\n",
       "0    NaN   0.0                          0          Check-Out   \n",
       "1    NaN   0.0                          0          Check-Out   \n",
       "2    NaN  75.0                          0          Check-Out   \n",
       "3  304.0  75.0                          0          Check-Out   \n",
       "4  240.0  98.0                          1          Check-Out   \n",
       "\n",
       "  reservation_status_date  \n",
       "0              01/07/2015  \n",
       "1              01/07/2015  \n",
       "2              02/07/2015  \n",
       "3              02/07/2015  \n",
       "4              03/07/2015  "
      ]
     },
     "execution_count": 5,
     "metadata": {},
     "output_type": "execute_result"
    }
   ],
   "source": [
    "assert isinstance(df_crset, pd.DataFrame), \"df_crset should be a dataframe\"\n",
    "assert df_crset.shape == (119390, 14), \"The shape of the dataframe is different then expected. Are you using the right separator?\"\n",
    "df_crset.head()"
   ]
  },
  {
   "cell_type": "markdown",
   "id": "b09543de",
   "metadata": {
    "deletable": false,
    "editable": false,
    "nbgrader": {
     "grade": false,
     "grade_id": "cell-146cafc7a2652077",
     "locked": true,
     "schema_version": 3,
     "solution": false,
     "task": false
    }
   },
   "source": [
    "### Exercise 1.2 - Arrival Date \n",
    "\n",
    "Let's start by cleaning the arrival date. According to the data dictionary and the first 5 rows of the dataframe, the `arrival_date` stores a string with the month spelled out, the day in numeral and the year in numeral.\n",
    "\n",
    "Create a function called `format_arrival_date()` that extracts the day, month, and year values from this column and stores this information in new columns `arrival_date_month`, `arrival_date_day` and `arrival_date_year`. All values should be integers. Remove the  `arrival_data` column and return the cleaned dataframe. \n",
    "\n",
    "You can use the `calendar.month_name` function from the [calendar python module](https://docs.python.org/3/library/calendar.html#module-calendar) and pandas `map()` method."
   ]
  },
  {
   "cell_type": "code",
   "execution_count": 6,
   "id": "0ae86bdd",
   "metadata": {
    "ExecuteTime": {
     "end_time": "2023-12-04T22:50:40.735082Z",
     "start_time": "2023-12-04T22:50:40.716270Z"
    }
   },
   "outputs": [
    {
     "data": {
      "text/plain": [
       "'July'"
      ]
     },
     "execution_count": 6,
     "metadata": {},
     "output_type": "execute_result"
    }
   ],
   "source": [
    "calendar.month_name[7]"
   ]
  },
  {
   "cell_type": "code",
   "execution_count": 7,
   "id": "bf1b2b7d",
   "metadata": {
    "ExecuteTime": {
     "end_time": "2023-12-04T22:50:40.751892Z",
     "start_time": "2023-12-04T22:50:40.740867Z"
    }
   },
   "outputs": [
    {
     "data": {
      "text/plain": [
       "{'January': 1,\n",
       " 'February': 2,\n",
       " 'March': 3,\n",
       " 'April': 4,\n",
       " 'May': 5,\n",
       " 'June': 6,\n",
       " 'July': 7,\n",
       " 'August': 8,\n",
       " 'September': 9,\n",
       " 'October': 10,\n",
       " 'November': 11,\n",
       " 'December': 12}"
      ]
     },
     "execution_count": 7,
     "metadata": {},
     "output_type": "execute_result"
    }
   ],
   "source": [
    "{name: num for num, name in enumerate(calendar.month_name) if name}\n"
   ]
  },
  {
   "cell_type": "code",
   "execution_count": 8,
   "id": "8c0c9ecc",
   "metadata": {
    "ExecuteTime": {
     "end_time": "2023-12-04T22:50:40.786310Z",
     "start_time": "2023-12-04T22:50:40.775897Z"
    },
    "deletable": false,
    "nbgrader": {
     "grade": false,
     "grade_id": "cell-1a9e5315472efa42",
     "locked": false,
     "schema_version": 3,
     "solution": true,
     "task": false
    }
   },
   "outputs": [],
   "source": [
    "#def format_arrival_date(df: pd.DataFrame) -> pd.DataFrame:\n",
    "#    \"\"\"\n",
    "#    This function cleans the \"arrival_date\" column\n",
    "#    \"\"\"\n",
    "#    # YOUR CODE HERE\n",
    "#\n",
    "#    # Define a mapping from month name to month number\n",
    "#    month_to_num = {name: num for num, name in enumerate(calendar.month_name) if name}\n",
    "#\n",
    "#    # Function to extract day, month, and year\n",
    "#    def extract_date_components(date_str):\n",
    "#        parts = date_str.split()\n",
    "#        month = month_to_num[parts[0]]\n",
    "#        day = int(parts[1])\n",
    "#        year = int(parts[2])\n",
    "#        return month, day, year\n",
    "#\n",
    "#    # Apply the function to the arrival_date column\n",
    "#    df[['arrival_date_month', 'arrival_date_day', 'arrival_date_year']] = \\\n",
    "#        df['arrival_date'].map(lambda x: extract_date_components(x)).tolist()\n",
    "#\n",
    "#    # Drop the original arrival_date column\n",
    "#    df.drop(columns=['arrival_date'], inplace=True)\n",
    "#\n",
    "#    return df\n",
    "#"
   ]
  },
  {
   "cell_type": "code",
   "execution_count": 9,
   "id": "9860b5aa",
   "metadata": {
    "ExecuteTime": {
     "end_time": "2023-12-04T22:50:40.801829Z",
     "start_time": "2023-12-04T22:50:40.793199Z"
    }
   },
   "outputs": [],
   "source": [
    "def format_arrival_date(df: pd.DataFrame) -> pd.DataFrame:\n",
    "    \"\"\"\n",
    "    This function cleans the 'arrival_date' column\n",
    "    \"\"\"\n",
    "    # Define a mapping from month name to month number\n",
    "    month_to_num = {name: num for num, name in enumerate(calendar.month_name) if name}\n",
    "\n",
    "    # Apply a lambda function to extract day, month, and year\n",
    "    df[['arrival_date_month', 'arrival_date_day', 'arrival_date_year']] = df['arrival_date'].map(\n",
    "        lambda date_str: (month_to_num[date_str.split()[0]], int(date_str.split()[1]), int(date_str.split()[2]))\n",
    "    ).tolist()\n",
    "\n",
    "    # Drop the original arrival_date column\n",
    "    df.drop(columns=['arrival_date'], inplace=True)\n",
    "\n",
    "    return df"
   ]
  },
  {
   "cell_type": "code",
   "execution_count": 10,
   "id": "22a496df",
   "metadata": {
    "ExecuteTime": {
     "end_time": "2023-12-04T22:50:41.394240Z",
     "start_time": "2023-12-04T22:50:40.806285Z"
    },
    "deletable": false,
    "editable": false,
    "nbgrader": {
     "grade": true,
     "grade_id": "cell-84b728608f1e6121",
     "locked": true,
     "points": 3,
     "schema_version": 3,
     "solution": false,
     "task": false
    }
   },
   "outputs": [],
   "source": [
    "clean_arrival = format_arrival_date(df_crset)\n",
    "assert isinstance(clean_arrival, pd.DataFrame), \"The function should return a dataframe.\"\n",
    "assert clean_arrival.shape == (119390, 16), \"The shape of the dataframe is different then expected.\"\n",
    "assert 'arrival_date' not in clean_arrival.columns, \"You should remove the old arrival_date column.\"\n",
    "assert 'arrival_date_month' in clean_arrival.columns, \"You're missing the arrival_date_month column. Have you named the new column correctly?\"\n",
    "assert 'arrival_date_day' in clean_arrival.columns, \"You're missing the arrival_date_day column. Have you named the new column correctly?\"\n",
    "assert 'arrival_date_year'  in clean_arrival.columns, \"You're missing the arrival_date_year column. Have you named the new column correctly?\"\n",
    "assert all(isinstance(item, int) for item in clean_arrival.arrival_date_month), \"Months should be saved as integers.\" \n",
    "assert all(isinstance(item, int) for item in clean_arrival.arrival_date_day), \"Days should be saved as integers.\"\n",
    "assert all(isinstance(item, int) for item in clean_arrival.arrival_date_year), \"Years should be saved as integers.\"\n",
    "assert hashlib.sha256(json.dumps(str(clean_arrival.arrival_date_month.sum())).encode()).hexdigest() == 'd3d4cd02abe661b2bc608a13cc791e7543da035d1c729ce171b1fda52effd8c8', \"Something is wrong with your month conversion.\"\n",
    "assert hashlib.sha256(json.dumps(str(clean_arrival.arrival_date_day.sum())).encode()).hexdigest() == '4db570fffca303e3eeb7ec3bc940a3812f8466a3b6e0d8b44633eaabde411ed4', \"Something is wrong with your day conversion.\"\n",
    "assert hashlib.sha256(json.dumps(str(clean_arrival.arrival_date_year.sum())).encode()).hexdigest() == '2f83dbe44d408f6735bc778eed604edf730377524018bb9f6a176e503511d033', \"Something is wrong with your year conversion.\""
   ]
  },
  {
   "cell_type": "markdown",
   "id": "1f21efdb",
   "metadata": {
    "deletable": false,
    "editable": false,
    "nbgrader": {
     "grade": false,
     "grade_id": "cell-0aae65323a8f3cd7",
     "locked": true,
     "schema_version": 3,
     "solution": false,
     "task": false
    }
   },
   "source": [
    "### Exercise 1.3 - Week of year \n",
    "\n",
    "Create a function named `get_week_of_year` that takes the newly created columns `arrival_date_month`, `arrival_date_day` and `arrival_date_year` and creates a new variable in the same dataframe called `arrival_date_week_number` with the week number of the arrival date.\n",
    "\n",
    "You can use the `date.isocalendar()` method from the [datetime python module](https://docs.python.org/3/library/datetime.html) and pandas `apply()` method."
   ]
  },
  {
   "cell_type": "code",
   "execution_count": 11,
   "id": "6ec4b219",
   "metadata": {
    "ExecuteTime": {
     "end_time": "2023-12-04T22:50:41.424376Z",
     "start_time": "2023-12-04T22:50:41.404832Z"
    },
    "deletable": false,
    "nbgrader": {
     "grade": false,
     "grade_id": "cell-17e544d51f94b90d",
     "locked": false,
     "schema_version": 3,
     "solution": true,
     "task": false
    }
   },
   "outputs": [
    {
     "data": {
      "text/plain": [
       "datetime.date(2015, 7, 1)"
      ]
     },
     "execution_count": 11,
     "metadata": {},
     "output_type": "execute_result"
    }
   ],
   "source": [
    "datetime.date(df_crset['arrival_date_year'][0], df_crset['arrival_date_month'][0], df_crset['arrival_date_day'][0])\n"
   ]
  },
  {
   "cell_type": "code",
   "execution_count": 12,
   "id": "6dbddd42",
   "metadata": {
    "ExecuteTime": {
     "end_time": "2023-12-04T22:50:41.474122Z",
     "start_time": "2023-12-04T22:50:41.444176Z"
    }
   },
   "outputs": [],
   "source": [
    "#def get_week_of_year(df: pd.DataFrame) -> pd.DataFrame:\n",
    "#    # Function to calculate the week number\n",
    "#    def calculate_week_number(row):\n",
    "#        # Create a date object\n",
    "#        d = datetime.date(row['arrival_date_year'], row['arrival_date_month'], row['arrival_date_day'])\n",
    "#        # Get the week number\n",
    "#        return d.isocalendar()[1]\n",
    "#\n",
    "#    # Apply the function to each row and create a new column\n",
    "#    df['arrival_date_week_number'] = df.apply(calculate_week_number, axis=1)\n",
    "#\n",
    "#    return df"
   ]
  },
  {
   "cell_type": "code",
   "execution_count": 13,
   "id": "0c8456f2",
   "metadata": {
    "ExecuteTime": {
     "end_time": "2023-12-04T22:50:41.516824Z",
     "start_time": "2023-12-04T22:50:41.500449Z"
    }
   },
   "outputs": [],
   "source": [
    "def get_week_of_year(df: pd.DataFrame) -> pd.DataFrame:\n",
    "    # Apply a lambda function to calculate the week number directly\n",
    "    df['arrival_date_week_number'] = df.apply(\n",
    "        lambda row: datetime.date(row['arrival_date_year'], row['arrival_date_month'], row['arrival_date_day']).isocalendar()[1], \n",
    "        axis=1\n",
    "    )\n",
    "    return df\n"
   ]
  },
  {
   "cell_type": "code",
   "execution_count": 14,
   "id": "4c7b45ef",
   "metadata": {
    "ExecuteTime": {
     "end_time": "2023-12-04T22:50:44.522559Z",
     "start_time": "2023-12-04T22:50:41.525064Z"
    },
    "deletable": false,
    "editable": false,
    "nbgrader": {
     "grade": true,
     "grade_id": "cell-95be98d8d4000854",
     "locked": true,
     "points": 2,
     "schema_version": 3,
     "solution": false,
     "task": false
    }
   },
   "outputs": [],
   "source": [
    "clean_arrival_week_of_year = get_week_of_year(clean_arrival)\n",
    "assert isinstance(clean_arrival_week_of_year, pd.DataFrame), \"The function should return a dataframe.\"\n",
    "assert clean_arrival_week_of_year.shape == (119390, 17), \"The shape of the dataframe is different then expected. Have you saved the new column?\"\n",
    "assert 'arrival_date_week_number' in clean_arrival_week_of_year.columns, \"You're missing the clean_arrival_week_of_year column. Have you named the new column correctly?\"\n",
    "assert all(isinstance(item, int) for item in clean_arrival_week_of_year.arrival_date_week_number), \"The values in the new column should be integers.\" \n",
    "assert hashlib.sha256(json.dumps(str(clean_arrival_week_of_year.arrival_date_week_number)).encode()).hexdigest() == 'fbd3bdce9f2b3a1aff60369c351a1ceb63a167a80d78b140859af7f687cd76a3', \"Something is wrong with your data conversion.\""
   ]
  },
  {
   "cell_type": "markdown",
   "id": "d9ec2745",
   "metadata": {
    "deletable": false,
    "editable": false,
    "nbgrader": {
     "grade": false,
     "grade_id": "cell-369a1d17c3e8446e",
     "locked": true,
     "schema_version": 3,
     "solution": false,
     "task": false
    }
   },
   "source": [
    "### Exercise 1.4 - The reservation status date\n",
    "\n",
    "Do the same processing as for the `arrival_date` column but this time for the `reservation_status_date` - extract the day, month, year, and week number and store them in new columns as integers. The columns should be named `reservation_status_date_day`, `reservation_status_date_month` and so on. Remove the `reservation_status_date` column and return the cleaned dataframe.\n",
    "\n",
    "All the steps should be done in a single function named `process_reservation_status_date()`. "
   ]
  },
  {
   "cell_type": "code",
   "execution_count": 15,
   "id": "0c8251ce",
   "metadata": {
    "ExecuteTime": {
     "end_time": "2023-12-04T22:50:44.542994Z",
     "start_time": "2023-12-04T22:50:44.527150Z"
    },
    "deletable": false,
    "nbgrader": {
     "grade": false,
     "grade_id": "cell-ee2bd2e0dd4325d4",
     "locked": false,
     "schema_version": 3,
     "solution": true,
     "task": false
    }
   },
   "outputs": [],
   "source": [
    "#def process_reservation_status_date(df: pd.DataFrame) -> pd.DataFrame:\n",
    "#    \"\"\"\n",
    "#    This function cleans \"reservation_status_date\" column\n",
    "#    \"\"\"\n",
    "#    # Function to parse the date and extract components\n",
    "#    def parse_date(date_str):\n",
    "#        parsed_date = datetime.datetime.strptime(date_str, '%d/%m/%Y')\n",
    "#        return parsed_date.day, parsed_date.month, parsed_date.year, parsed_date.isocalendar()[1]\n",
    "#\n",
    "#    # Apply the function to the reservation_status_date column and create new columns\n",
    "#    df[['reservation_status_date_day', \n",
    "#        'reservation_status_date_month', \n",
    "#        'reservation_status_date_year', \n",
    "#        'reservation_status_date_week_number']] = df['reservation_status_date'].apply(lambda x: parse_date(x)).tolist()\n",
    "#\n",
    "#    # Drop the original reservation_status_date column\n",
    "#    df.drop(columns=['reservation_status_date'], inplace=True)\n",
    "#\n",
    "#    return df\n"
   ]
  },
  {
   "cell_type": "code",
   "execution_count": 16,
   "id": "93b96065",
   "metadata": {
    "ExecuteTime": {
     "end_time": "2023-12-04T22:50:44.558520Z",
     "start_time": "2023-12-04T22:50:44.549109Z"
    }
   },
   "outputs": [],
   "source": [
    "def process_reservation_status_date(df: pd.DataFrame) -> pd.DataFrame:\n",
    "    \"\"\"\n",
    "    This function cleans the 'reservation_status_date' column\n",
    "    \"\"\"\n",
    "\n",
    "    # Apply a lambda function to parse the date and extract components\n",
    "    date_components = df['reservation_status_date'].apply(\n",
    "        lambda x: datetime.datetime.strptime(x, '%d/%m/%Y')\n",
    "    )\n",
    "\n",
    "    # Extract and assign components to new columns\n",
    "    df['reservation_status_date_day'] = date_components.dt.day\n",
    "    df['reservation_status_date_month'] = date_components.dt.month\n",
    "    df['reservation_status_date_year'] = date_components.dt.year\n",
    "    df['reservation_status_date_week_number'] = date_components.apply(lambda x: x.isocalendar()[1])\n",
    "\n",
    "    # Drop the original reservation_status_date column\n",
    "    df.drop(columns=['reservation_status_date'], inplace=True)\n",
    "\n",
    "    return df"
   ]
  },
  {
   "cell_type": "code",
   "execution_count": 17,
   "id": "10a9da7f",
   "metadata": {
    "ExecuteTime": {
     "end_time": "2023-12-04T22:50:46.939298Z",
     "start_time": "2023-12-04T22:50:44.562572Z"
    },
    "deletable": false,
    "editable": false,
    "nbgrader": {
     "grade": true,
     "grade_id": "cell-193cad2450ea0bf1",
     "locked": true,
     "points": 2,
     "schema_version": 3,
     "solution": false,
     "task": false
    }
   },
   "outputs": [],
   "source": [
    "clean_status_date = process_reservation_status_date(clean_arrival_week_of_year)\n",
    "assert isinstance(clean_status_date, pd.DataFrame), \"The function should return a dataframe.\"\n",
    "assert clean_status_date.shape == (119390, 20), \"The shape of the dataframe is different then expected. Have you dropped the old reservation_status_date column?\"\n",
    "assert 'reservation_status_date' not in clean_status_date.columns, \"You should remove the old reservation_status_date column.\"\n",
    "assert 'reservation_status_date_day' in clean_status_date.columns, \"You're missing the day column. Have you named the new column correctly?\"\n",
    "assert 'reservation_status_date_month' in clean_status_date.columns, \"You're missing the month column. Have you named the new column correctly?\"\n",
    "assert 'reservation_status_date_year'  in clean_status_date.columns, \"You're missing the year column. Have you named the new column correctly?\"\n",
    "assert 'reservation_status_date_week_number'  in clean_status_date.columns, \"You're missing the week number column. Have you named the new column correctly?\"\n",
    "assert all(isinstance(item, int) for item in clean_status_date.reservation_status_date_day), \"Days should be integers.\" \n",
    "assert all(isinstance(item, int) for item in clean_status_date.reservation_status_date_month), \"Months should be integers.\"\n",
    "assert all(isinstance(item, int) for item in clean_status_date.reservation_status_date_year), \"Years should be integers.\"\n",
    "assert all(isinstance(item, int) for item in clean_status_date.reservation_status_date_week_number), \"Week of the year should an integer.\"\n",
    "assert hashlib.sha256(json.dumps(str(clean_status_date.reservation_status_date_week_number)).encode()).hexdigest() == '035d73f3bf98929a3e2d1ea7b1dd02645a86cc8f1d751dd088533b0e11de0352', \"Something is wrong with your data conversion in reservation_status_date_week_number.\"\n",
    "assert hashlib.sha256(json.dumps(str(clean_status_date.reservation_status_date_month.sum())).encode()).hexdigest() == '8505858d4a9ee251ff772f4486d8b18f63e2d2015da3ab435371a604800b8f69', \"Something is wrong with your month conversion.\"\n",
    "assert hashlib.sha256(json.dumps(str(clean_status_date.reservation_status_date_day.sum())).encode()).hexdigest() == 'f8c8d1439b0d0d51ea8a9dc900dc4309b7364a5c4791b417c0e6a5cc093fc9b8', \"Something is wrong with your day conversion.\"\n",
    "assert hashlib.sha256(json.dumps(str(clean_status_date.reservation_status_date_year.sum())).encode()).hexdigest() == '0c1465052551cc91c40abbd465ae0337ebc526a00b5b536b9d8bfbe8cc35ef3f', \"Something is wrong with your year conversion.\""
   ]
  },
  {
   "cell_type": "markdown",
   "id": "4da3a726",
   "metadata": {
    "deletable": false,
    "editable": false,
    "nbgrader": {
     "grade": false,
     "grade_id": "cell-d69a24deae33480f",
     "locked": true,
     "schema_version": 3,
     "solution": false,
     "task": false
    }
   },
   "source": [
    "### Exercise 2 - Missing data\n",
    "\n",
    "Let's now look at missing data."
   ]
  },
  {
   "cell_type": "code",
   "execution_count": 18,
   "id": "8cb40a1c",
   "metadata": {
    "ExecuteTime": {
     "end_time": "2023-12-04T22:50:46.968780Z",
     "start_time": "2023-12-04T22:50:46.942177Z"
    },
    "deletable": false,
    "editable": false,
    "nbgrader": {
     "grade": false,
     "grade_id": "cell-ce64ab16d825c70a",
     "locked": true,
     "schema_version": 3,
     "solution": false,
     "task": false
    }
   },
   "outputs": [
    {
     "data": {
      "text/plain": [
       "hotel                                      0\n",
       "is_canceled                                0\n",
       "lead_time                                  0\n",
       "stays_in_weekend_nights                    0\n",
       "stays_in_week_nights                       0\n",
       "adults                                     0\n",
       "is_repeated_guest                          0\n",
       "previous_cancelations                      0\n",
       "agent                                  16340\n",
       "adr                                        0\n",
       "total_of_special_requests                  0\n",
       "reservation_status                         0\n",
       "arrival_date_month                         0\n",
       "arrival_date_day                           0\n",
       "arrival_date_year                          0\n",
       "arrival_date_week_number                   0\n",
       "reservation_status_date_day                0\n",
       "reservation_status_date_month              0\n",
       "reservation_status_date_year               0\n",
       "reservation_status_date_week_number        0\n",
       "dtype: int64"
      ]
     },
     "execution_count": 18,
     "metadata": {},
     "output_type": "execute_result"
    }
   ],
   "source": [
    "np.sum(clean_status_date.isnull())"
   ]
  },
  {
   "cell_type": "markdown",
   "id": "3eb30d33",
   "metadata": {
    "deletable": false,
    "editable": false,
    "nbgrader": {
     "grade": false,
     "grade_id": "cell-353131a991a26281",
     "locked": true,
     "schema_version": 3,
     "solution": false,
     "task": false
    }
   },
   "source": [
    "There's over 16000 missing values in the `agent` column, representing over 10% of the total observations and we need to do something about it. \n",
    "\n",
    "Usually if more than 70% of values in a column are missing and there is no way to fill them in, then the column can be completely dropped from the dataset. Our `agent` column is a categorical variable that represents the ID of the travel agency that made the booking. We can fill out the missing values with a new category named `unknown`.\n",
    "\n",
    "Create a new function named `impute_agents` that does exactly that."
   ]
  },
  {
   "cell_type": "code",
   "execution_count": 19,
   "id": "207e2f67",
   "metadata": {
    "ExecuteTime": {
     "end_time": "2023-12-04T22:50:46.981517Z",
     "start_time": "2023-12-04T22:50:46.974747Z"
    },
    "deletable": false,
    "nbgrader": {
     "grade": false,
     "grade_id": "cell-d68349ea8576483b",
     "locked": false,
     "schema_version": 3,
     "solution": true,
     "task": false
    }
   },
   "outputs": [],
   "source": [
    "def impute_agents(df: pd.DataFrame)->pd.DataFrame:\n",
    "    \"\"\"\n",
    "    This function imputs the missing values in the agents column with a new 'unknown' category\n",
    "    \"\"\"\n",
    "\n",
    "    # YOUR CODE HERE\n",
    "    new_df = df.fillna({\n",
    "        'agent': 'unknown'\n",
    "    })\n",
    "    \n",
    "    return new_df\n"
   ]
  },
  {
   "cell_type": "code",
   "execution_count": 20,
   "id": "741ba7af",
   "metadata": {
    "ExecuteTime": {
     "end_time": "2023-12-04T22:50:47.138494Z",
     "start_time": "2023-12-04T22:50:46.985255Z"
    },
    "deletable": false,
    "editable": false,
    "nbgrader": {
     "grade": true,
     "grade_id": "cell-9f1a5fbc7a6ae9af",
     "locked": true,
     "points": 1,
     "schema_version": 3,
     "solution": false,
     "task": false
    }
   },
   "outputs": [],
   "source": [
    "imputed_df = impute_agents(clean_status_date) \n",
    "assert isinstance(imputed_df, pd.DataFrame), \"The fucntion should return a dataframe.\"\n",
    "assert hashlib.sha256(json.dumps(str(imputed_df.agent)).encode()).hexdigest() == 'e88eaebe8668246fc74259c12ea8e38311c86ec96a73e2a8de26eb30bb7aefb9', \"Something is wrong with your data imputation.\" \n",
    "assert hashlib.sha256(json.dumps(sorted(imputed_df.agent[imputed_df.agent == 'unknown'].sum())).encode()).hexdigest() == 'bb80fda4a664ce06ee5d39edb0488f95a9496f1a7dde86e8b750246967e5a921', \"Did you fill in all the missing values?\""
   ]
  },
  {
   "cell_type": "markdown",
   "id": "e54052ae",
   "metadata": {
    "deletable": false,
    "editable": false,
    "nbgrader": {
     "grade": false,
     "grade_id": "cell-1104cbd5e6c54200",
     "locked": true,
     "schema_version": 3,
     "solution": false,
     "task": false
    }
   },
   "source": [
    "## Exercise 3 - Drop duplicates\n",
    "\n",
    "The last thing you need to ensure is that your dataset doesn't have any duplicated data.\n",
    "Create a short function to remove duplicates!"
   ]
  },
  {
   "cell_type": "code",
   "execution_count": 21,
   "id": "06e2c0d0",
   "metadata": {
    "ExecuteTime": {
     "end_time": "2023-12-04T22:50:47.158309Z",
     "start_time": "2023-12-04T22:50:47.144112Z"
    },
    "deletable": false,
    "nbgrader": {
     "grade": false,
     "grade_id": "cell-f5a89d600ba6117e",
     "locked": false,
     "schema_version": 3,
     "solution": true,
     "task": false
    }
   },
   "outputs": [],
   "source": [
    "def drop_duplicated_entries(df: pd.DataFrame)->pd.DataFrame:\n",
    "    \"\"\"\n",
    "    This function drops duplicates from the dataframe\n",
    "    \"\"\"\n",
    "\n",
    "    # YOUR CODE HERE\n",
    "    return df.drop_duplicates()\n",
    "    "
   ]
  },
  {
   "cell_type": "code",
   "execution_count": 22,
   "id": "22a0142c",
   "metadata": {
    "ExecuteTime": {
     "end_time": "2023-12-04T22:50:47.265293Z",
     "start_time": "2023-12-04T22:50:47.164978Z"
    },
    "deletable": false,
    "editable": false,
    "nbgrader": {
     "grade": true,
     "grade_id": "cell-922e485e37aa2f9f",
     "locked": true,
     "points": 1,
     "schema_version": 3,
     "solution": false,
     "task": false
    }
   },
   "outputs": [],
   "source": [
    "clean_crset_df = drop_duplicated_entries(imputed_df)\n",
    "assert isinstance(clean_crset_df, pd.DataFrame), \"The function should return a dataframe.\"\n",
    "assert clean_crset_df.shape == (82870, 20), \"The shape of the dataframe is different then expected. Have you removed all the duplicated rows?\" "
   ]
  },
  {
   "cell_type": "markdown",
   "id": "6ba45d4f",
   "metadata": {
    "deletable": false,
    "editable": false,
    "nbgrader": {
     "grade": false,
     "grade_id": "cell-30d6a0e2608a4104",
     "locked": true,
     "schema_version": 3,
     "solution": false,
     "task": false
    }
   },
   "source": [
    "Congratulations! The *CRSet() Hotel* dataset is looking very clean and tidy!\n",
    "<img src=\"media/CRset.png\" width=\"400\">"
   ]
  },
  {
   "cell_type": "markdown",
   "id": "df04f119",
   "metadata": {
    "deletable": false,
    "editable": false,
    "nbgrader": {
     "grade": false,
     "grade_id": "cell-a40891aaf441e092",
     "locked": true,
     "schema_version": 3,
     "solution": false,
     "task": false
    }
   },
   "source": [
    "## A mess to be tidied up\n",
    "\n",
    "You decided to switch to a more interesting job with the World Health Organization analyzing disease incidence across the world. Your first task is to analyse the incidence of tuberculosis between 1989 and 2008. WHO has been recording the cases all over the world. They have good intentions, but not very good methods to store data."
   ]
  },
  {
   "cell_type": "markdown",
   "id": "a6b64653",
   "metadata": {
    "deletable": false,
    "editable": false,
    "nbgrader": {
     "grade": false,
     "grade_id": "cell-a98e3be81938db57",
     "locked": true,
     "schema_version": 3,
     "solution": false,
     "task": false
    }
   },
   "source": [
    "<img src=\"media/tbc.png\"  width=\"400\">"
   ]
  },
  {
   "cell_type": "markdown",
   "id": "c4e4567e",
   "metadata": {
    "deletable": false,
    "editable": false,
    "nbgrader": {
     "grade": false,
     "grade_id": "cell-c6502825d7d92e1b",
     "locked": true,
     "schema_version": 3,
     "solution": false,
     "task": false
    }
   },
   "source": [
    "Let's have a look:"
   ]
  },
  {
   "cell_type": "code",
   "execution_count": 23,
   "id": "28dd3487",
   "metadata": {
    "ExecuteTime": {
     "end_time": "2023-12-04T22:50:47.328272Z",
     "start_time": "2023-12-04T22:50:47.272090Z"
    },
    "deletable": false,
    "editable": false,
    "nbgrader": {
     "grade": false,
     "grade_id": "cell-a9540248bf5e9462",
     "locked": true,
     "schema_version": 3,
     "solution": false,
     "task": false
    }
   },
   "outputs": [
    {
     "data": {
      "text/html": [
       "<div>\n",
       "<style scoped>\n",
       "    .dataframe tbody tr th:only-of-type {\n",
       "        vertical-align: middle;\n",
       "    }\n",
       "\n",
       "    .dataframe tbody tr th {\n",
       "        vertical-align: top;\n",
       "    }\n",
       "\n",
       "    .dataframe thead th {\n",
       "        text-align: right;\n",
       "    }\n",
       "</style>\n",
       "<table border=\"1\" class=\"dataframe\">\n",
       "  <thead>\n",
       "    <tr style=\"text-align: right;\">\n",
       "      <th></th>\n",
       "      <th>iso2</th>\n",
       "      <th>year</th>\n",
       "      <th>new_sp</th>\n",
       "      <th>new_sp_m04</th>\n",
       "      <th>new_sp_m514</th>\n",
       "      <th>new_sp_m014</th>\n",
       "      <th>new_sp_m1524</th>\n",
       "      <th>new_sp_m2534</th>\n",
       "      <th>new_sp_m3544</th>\n",
       "      <th>new_sp_m4554</th>\n",
       "      <th>...</th>\n",
       "      <th>new_sp_f04</th>\n",
       "      <th>new_sp_f514</th>\n",
       "      <th>new_sp_f014</th>\n",
       "      <th>new_sp_f1524</th>\n",
       "      <th>new_sp_f2534</th>\n",
       "      <th>new_sp_f3544</th>\n",
       "      <th>new_sp_f4554</th>\n",
       "      <th>new_sp_f5564</th>\n",
       "      <th>new_sp_f65</th>\n",
       "      <th>new_sp_fu</th>\n",
       "    </tr>\n",
       "  </thead>\n",
       "  <tbody>\n",
       "    <tr>\n",
       "      <th>0</th>\n",
       "      <td>AD</td>\n",
       "      <td>1989</td>\n",
       "      <td>NaN</td>\n",
       "      <td>NaN</td>\n",
       "      <td>NaN</td>\n",
       "      <td>NaN</td>\n",
       "      <td>NaN</td>\n",
       "      <td>NaN</td>\n",
       "      <td>NaN</td>\n",
       "      <td>NaN</td>\n",
       "      <td>...</td>\n",
       "      <td>NaN</td>\n",
       "      <td>NaN</td>\n",
       "      <td>NaN</td>\n",
       "      <td>NaN</td>\n",
       "      <td>NaN</td>\n",
       "      <td>NaN</td>\n",
       "      <td>NaN</td>\n",
       "      <td>NaN</td>\n",
       "      <td>NaN</td>\n",
       "      <td>NaN</td>\n",
       "    </tr>\n",
       "    <tr>\n",
       "      <th>1</th>\n",
       "      <td>AD</td>\n",
       "      <td>1990</td>\n",
       "      <td>NaN</td>\n",
       "      <td>NaN</td>\n",
       "      <td>NaN</td>\n",
       "      <td>NaN</td>\n",
       "      <td>NaN</td>\n",
       "      <td>NaN</td>\n",
       "      <td>NaN</td>\n",
       "      <td>NaN</td>\n",
       "      <td>...</td>\n",
       "      <td>NaN</td>\n",
       "      <td>NaN</td>\n",
       "      <td>NaN</td>\n",
       "      <td>NaN</td>\n",
       "      <td>NaN</td>\n",
       "      <td>NaN</td>\n",
       "      <td>NaN</td>\n",
       "      <td>NaN</td>\n",
       "      <td>NaN</td>\n",
       "      <td>NaN</td>\n",
       "    </tr>\n",
       "    <tr>\n",
       "      <th>2</th>\n",
       "      <td>AD</td>\n",
       "      <td>1991</td>\n",
       "      <td>NaN</td>\n",
       "      <td>NaN</td>\n",
       "      <td>NaN</td>\n",
       "      <td>NaN</td>\n",
       "      <td>NaN</td>\n",
       "      <td>NaN</td>\n",
       "      <td>NaN</td>\n",
       "      <td>NaN</td>\n",
       "      <td>...</td>\n",
       "      <td>NaN</td>\n",
       "      <td>NaN</td>\n",
       "      <td>NaN</td>\n",
       "      <td>NaN</td>\n",
       "      <td>NaN</td>\n",
       "      <td>NaN</td>\n",
       "      <td>NaN</td>\n",
       "      <td>NaN</td>\n",
       "      <td>NaN</td>\n",
       "      <td>NaN</td>\n",
       "    </tr>\n",
       "    <tr>\n",
       "      <th>3</th>\n",
       "      <td>AD</td>\n",
       "      <td>1992</td>\n",
       "      <td>NaN</td>\n",
       "      <td>NaN</td>\n",
       "      <td>NaN</td>\n",
       "      <td>NaN</td>\n",
       "      <td>NaN</td>\n",
       "      <td>NaN</td>\n",
       "      <td>NaN</td>\n",
       "      <td>NaN</td>\n",
       "      <td>...</td>\n",
       "      <td>NaN</td>\n",
       "      <td>NaN</td>\n",
       "      <td>NaN</td>\n",
       "      <td>NaN</td>\n",
       "      <td>NaN</td>\n",
       "      <td>NaN</td>\n",
       "      <td>NaN</td>\n",
       "      <td>NaN</td>\n",
       "      <td>NaN</td>\n",
       "      <td>NaN</td>\n",
       "    </tr>\n",
       "    <tr>\n",
       "      <th>4</th>\n",
       "      <td>AD</td>\n",
       "      <td>1993</td>\n",
       "      <td>15.0</td>\n",
       "      <td>NaN</td>\n",
       "      <td>NaN</td>\n",
       "      <td>NaN</td>\n",
       "      <td>NaN</td>\n",
       "      <td>NaN</td>\n",
       "      <td>NaN</td>\n",
       "      <td>NaN</td>\n",
       "      <td>...</td>\n",
       "      <td>NaN</td>\n",
       "      <td>NaN</td>\n",
       "      <td>NaN</td>\n",
       "      <td>NaN</td>\n",
       "      <td>NaN</td>\n",
       "      <td>NaN</td>\n",
       "      <td>NaN</td>\n",
       "      <td>NaN</td>\n",
       "      <td>NaN</td>\n",
       "      <td>NaN</td>\n",
       "    </tr>\n",
       "  </tbody>\n",
       "</table>\n",
       "<p>5 rows × 23 columns</p>\n",
       "</div>"
      ],
      "text/plain": [
       "  iso2  year  new_sp  new_sp_m04  new_sp_m514  new_sp_m014  new_sp_m1524  \\\n",
       "0   AD  1989     NaN         NaN          NaN          NaN           NaN   \n",
       "1   AD  1990     NaN         NaN          NaN          NaN           NaN   \n",
       "2   AD  1991     NaN         NaN          NaN          NaN           NaN   \n",
       "3   AD  1992     NaN         NaN          NaN          NaN           NaN   \n",
       "4   AD  1993    15.0         NaN          NaN          NaN           NaN   \n",
       "\n",
       "   new_sp_m2534  new_sp_m3544  new_sp_m4554  ...  new_sp_f04  new_sp_f514  \\\n",
       "0           NaN           NaN           NaN  ...         NaN          NaN   \n",
       "1           NaN           NaN           NaN  ...         NaN          NaN   \n",
       "2           NaN           NaN           NaN  ...         NaN          NaN   \n",
       "3           NaN           NaN           NaN  ...         NaN          NaN   \n",
       "4           NaN           NaN           NaN  ...         NaN          NaN   \n",
       "\n",
       "   new_sp_f014  new_sp_f1524  new_sp_f2534  new_sp_f3544  new_sp_f4554  \\\n",
       "0          NaN           NaN           NaN           NaN           NaN   \n",
       "1          NaN           NaN           NaN           NaN           NaN   \n",
       "2          NaN           NaN           NaN           NaN           NaN   \n",
       "3          NaN           NaN           NaN           NaN           NaN   \n",
       "4          NaN           NaN           NaN           NaN           NaN   \n",
       "\n",
       "   new_sp_f5564  new_sp_f65  new_sp_fu  \n",
       "0           NaN         NaN        NaN  \n",
       "1           NaN         NaN        NaN  \n",
       "2           NaN         NaN        NaN  \n",
       "3           NaN         NaN        NaN  \n",
       "4           NaN         NaN        NaN  \n",
       "\n",
       "[5 rows x 23 columns]"
      ]
     },
     "execution_count": 23,
     "metadata": {},
     "output_type": "execute_result"
    }
   ],
   "source": [
    "df_tb_who = pd.read_csv(os.path.join('data', 'tb.csv'), sep=',')\n",
    "df_tb_who.head()"
   ]
  },
  {
   "cell_type": "markdown",
   "id": "b2572cda",
   "metadata": {
    "deletable": false,
    "editable": false,
    "nbgrader": {
     "grade": false,
     "grade_id": "cell-6ca615b5895620ad",
     "locked": true,
     "schema_version": 3,
     "solution": false,
     "task": false
    }
   },
   "source": [
    "The dataset contains counts of confirmed tuberculosis cases by country, year and demographic group. The demographic data contains information on sex (*m* for male and *f* for female)  and age (*0-14, 15-24, 25-34, 35-44, 45-54, 55-64* and *65+*). Except for the column `year`, the column names are not very intuitive. The column `iso2` contains the country code in [iso2 format](https://www.iso.org/iso-3166-country-codes.html). The remaining columns are actually joint realizations of two variables: `sex` and `age`. "
   ]
  },
  {
   "cell_type": "markdown",
   "id": "4469df8f",
   "metadata": {
    "deletable": false,
    "editable": false,
    "nbgrader": {
     "grade": false,
     "grade_id": "cell-49eb1d7688de9aaf",
     "locked": true,
     "schema_version": 3,
     "solution": false,
     "task": false
    }
   },
   "source": [
    "## Exercise 4 - Country \n",
    "\n",
    "Start by addressing the `iso2` column. Save in a new `country` column the corresponding country name from the iso2 code. The [pycountry-convert](https://pypi.org/project/pycountry-convert/) package is your friend! It's already imported as `cc`.\n",
    "\n",
    "First, create a function `get_country` that converts the iso2 code to country name. If the name cannot be retrieved, the function should return the original iso2 code as a `string`. Afterwards copy the who dataframe to new `df_tb_who_country` dataframe, apply the function and drop the `iso2` column."
   ]
  },
  {
   "cell_type": "code",
   "execution_count": 24,
   "id": "268035e3",
   "metadata": {
    "ExecuteTime": {
     "end_time": "2023-12-04T22:50:47.343421Z",
     "start_time": "2023-12-04T22:50:47.332296Z"
    }
   },
   "outputs": [
    {
     "data": {
      "text/plain": [
       "'AD'"
      ]
     },
     "execution_count": 24,
     "metadata": {},
     "output_type": "execute_result"
    }
   ],
   "source": [
    "df_tb_who['iso2'][0]"
   ]
  },
  {
   "cell_type": "code",
   "execution_count": 25,
   "id": "0f49c18d",
   "metadata": {
    "ExecuteTime": {
     "end_time": "2023-12-04T22:50:47.661422Z",
     "start_time": "2023-12-04T22:50:47.348926Z"
    }
   },
   "outputs": [],
   "source": [
    "try:\n",
    "    x = cc.country_alpha2_to_country_name('PT')\n",
    "except: print('dfsdfs')"
   ]
  },
  {
   "cell_type": "code",
   "execution_count": 26,
   "id": "ecc1c7c2",
   "metadata": {
    "ExecuteTime": {
     "end_time": "2023-12-04T22:50:47.730870Z",
     "start_time": "2023-12-04T22:50:47.675878Z"
    },
    "deletable": false,
    "nbgrader": {
     "grade": false,
     "grade_id": "cell-c70d7302fbae72b0",
     "locked": false,
     "schema_version": 3,
     "solution": true,
     "task": false
    }
   },
   "outputs": [
    {
     "data": {
      "text/html": [
       "<div>\n",
       "<style scoped>\n",
       "    .dataframe tbody tr th:only-of-type {\n",
       "        vertical-align: middle;\n",
       "    }\n",
       "\n",
       "    .dataframe tbody tr th {\n",
       "        vertical-align: top;\n",
       "    }\n",
       "\n",
       "    .dataframe thead th {\n",
       "        text-align: right;\n",
       "    }\n",
       "</style>\n",
       "<table border=\"1\" class=\"dataframe\">\n",
       "  <thead>\n",
       "    <tr style=\"text-align: right;\">\n",
       "      <th></th>\n",
       "      <th>year</th>\n",
       "      <th>new_sp</th>\n",
       "      <th>new_sp_m04</th>\n",
       "      <th>new_sp_m514</th>\n",
       "      <th>new_sp_m014</th>\n",
       "      <th>new_sp_m1524</th>\n",
       "      <th>new_sp_m2534</th>\n",
       "      <th>new_sp_m3544</th>\n",
       "      <th>new_sp_m4554</th>\n",
       "      <th>new_sp_m5564</th>\n",
       "      <th>...</th>\n",
       "      <th>new_sp_f514</th>\n",
       "      <th>new_sp_f014</th>\n",
       "      <th>new_sp_f1524</th>\n",
       "      <th>new_sp_f2534</th>\n",
       "      <th>new_sp_f3544</th>\n",
       "      <th>new_sp_f4554</th>\n",
       "      <th>new_sp_f5564</th>\n",
       "      <th>new_sp_f65</th>\n",
       "      <th>new_sp_fu</th>\n",
       "      <th>country</th>\n",
       "    </tr>\n",
       "  </thead>\n",
       "  <tbody>\n",
       "    <tr>\n",
       "      <th>0</th>\n",
       "      <td>1989</td>\n",
       "      <td>NaN</td>\n",
       "      <td>NaN</td>\n",
       "      <td>NaN</td>\n",
       "      <td>NaN</td>\n",
       "      <td>NaN</td>\n",
       "      <td>NaN</td>\n",
       "      <td>NaN</td>\n",
       "      <td>NaN</td>\n",
       "      <td>NaN</td>\n",
       "      <td>...</td>\n",
       "      <td>NaN</td>\n",
       "      <td>NaN</td>\n",
       "      <td>NaN</td>\n",
       "      <td>NaN</td>\n",
       "      <td>NaN</td>\n",
       "      <td>NaN</td>\n",
       "      <td>NaN</td>\n",
       "      <td>NaN</td>\n",
       "      <td>NaN</td>\n",
       "      <td>Andorra</td>\n",
       "    </tr>\n",
       "    <tr>\n",
       "      <th>1</th>\n",
       "      <td>1990</td>\n",
       "      <td>NaN</td>\n",
       "      <td>NaN</td>\n",
       "      <td>NaN</td>\n",
       "      <td>NaN</td>\n",
       "      <td>NaN</td>\n",
       "      <td>NaN</td>\n",
       "      <td>NaN</td>\n",
       "      <td>NaN</td>\n",
       "      <td>NaN</td>\n",
       "      <td>...</td>\n",
       "      <td>NaN</td>\n",
       "      <td>NaN</td>\n",
       "      <td>NaN</td>\n",
       "      <td>NaN</td>\n",
       "      <td>NaN</td>\n",
       "      <td>NaN</td>\n",
       "      <td>NaN</td>\n",
       "      <td>NaN</td>\n",
       "      <td>NaN</td>\n",
       "      <td>Andorra</td>\n",
       "    </tr>\n",
       "    <tr>\n",
       "      <th>2</th>\n",
       "      <td>1991</td>\n",
       "      <td>NaN</td>\n",
       "      <td>NaN</td>\n",
       "      <td>NaN</td>\n",
       "      <td>NaN</td>\n",
       "      <td>NaN</td>\n",
       "      <td>NaN</td>\n",
       "      <td>NaN</td>\n",
       "      <td>NaN</td>\n",
       "      <td>NaN</td>\n",
       "      <td>...</td>\n",
       "      <td>NaN</td>\n",
       "      <td>NaN</td>\n",
       "      <td>NaN</td>\n",
       "      <td>NaN</td>\n",
       "      <td>NaN</td>\n",
       "      <td>NaN</td>\n",
       "      <td>NaN</td>\n",
       "      <td>NaN</td>\n",
       "      <td>NaN</td>\n",
       "      <td>Andorra</td>\n",
       "    </tr>\n",
       "    <tr>\n",
       "      <th>3</th>\n",
       "      <td>1992</td>\n",
       "      <td>NaN</td>\n",
       "      <td>NaN</td>\n",
       "      <td>NaN</td>\n",
       "      <td>NaN</td>\n",
       "      <td>NaN</td>\n",
       "      <td>NaN</td>\n",
       "      <td>NaN</td>\n",
       "      <td>NaN</td>\n",
       "      <td>NaN</td>\n",
       "      <td>...</td>\n",
       "      <td>NaN</td>\n",
       "      <td>NaN</td>\n",
       "      <td>NaN</td>\n",
       "      <td>NaN</td>\n",
       "      <td>NaN</td>\n",
       "      <td>NaN</td>\n",
       "      <td>NaN</td>\n",
       "      <td>NaN</td>\n",
       "      <td>NaN</td>\n",
       "      <td>Andorra</td>\n",
       "    </tr>\n",
       "    <tr>\n",
       "      <th>4</th>\n",
       "      <td>1993</td>\n",
       "      <td>15.0</td>\n",
       "      <td>NaN</td>\n",
       "      <td>NaN</td>\n",
       "      <td>NaN</td>\n",
       "      <td>NaN</td>\n",
       "      <td>NaN</td>\n",
       "      <td>NaN</td>\n",
       "      <td>NaN</td>\n",
       "      <td>NaN</td>\n",
       "      <td>...</td>\n",
       "      <td>NaN</td>\n",
       "      <td>NaN</td>\n",
       "      <td>NaN</td>\n",
       "      <td>NaN</td>\n",
       "      <td>NaN</td>\n",
       "      <td>NaN</td>\n",
       "      <td>NaN</td>\n",
       "      <td>NaN</td>\n",
       "      <td>NaN</td>\n",
       "      <td>Andorra</td>\n",
       "    </tr>\n",
       "  </tbody>\n",
       "</table>\n",
       "<p>5 rows × 23 columns</p>\n",
       "</div>"
      ],
      "text/plain": [
       "   year  new_sp  new_sp_m04  new_sp_m514  new_sp_m014  new_sp_m1524  \\\n",
       "0  1989     NaN         NaN          NaN          NaN           NaN   \n",
       "1  1990     NaN         NaN          NaN          NaN           NaN   \n",
       "2  1991     NaN         NaN          NaN          NaN           NaN   \n",
       "3  1992     NaN         NaN          NaN          NaN           NaN   \n",
       "4  1993    15.0         NaN          NaN          NaN           NaN   \n",
       "\n",
       "   new_sp_m2534  new_sp_m3544  new_sp_m4554  new_sp_m5564  ...  new_sp_f514  \\\n",
       "0           NaN           NaN           NaN           NaN  ...          NaN   \n",
       "1           NaN           NaN           NaN           NaN  ...          NaN   \n",
       "2           NaN           NaN           NaN           NaN  ...          NaN   \n",
       "3           NaN           NaN           NaN           NaN  ...          NaN   \n",
       "4           NaN           NaN           NaN           NaN  ...          NaN   \n",
       "\n",
       "   new_sp_f014  new_sp_f1524  new_sp_f2534  new_sp_f3544  new_sp_f4554  \\\n",
       "0          NaN           NaN           NaN           NaN           NaN   \n",
       "1          NaN           NaN           NaN           NaN           NaN   \n",
       "2          NaN           NaN           NaN           NaN           NaN   \n",
       "3          NaN           NaN           NaN           NaN           NaN   \n",
       "4          NaN           NaN           NaN           NaN           NaN   \n",
       "\n",
       "   new_sp_f5564  new_sp_f65  new_sp_fu  country  \n",
       "0           NaN         NaN        NaN  Andorra  \n",
       "1           NaN         NaN        NaN  Andorra  \n",
       "2           NaN         NaN        NaN  Andorra  \n",
       "3           NaN         NaN        NaN  Andorra  \n",
       "4           NaN         NaN        NaN  Andorra  \n",
       "\n",
       "[5 rows x 23 columns]"
      ]
     },
     "execution_count": 26,
     "metadata": {},
     "output_type": "execute_result"
    }
   ],
   "source": [
    "#start by creating a function that recieves a iso2 code and returns the country name \n",
    "#hint: when a name can't be retrieved, the original code should be returned, as str\n",
    "#hint2: make sure to return the value as a string! \n",
    "\n",
    "def get_country(x):\n",
    "    try: return str(cc.country_alpha2_to_country_name(x, cn_name_format=\"default\"))\n",
    "    except: return str(x)\n",
    "    \n",
    "# copy the dataframe\n",
    "_df = df_tb_who\n",
    "\n",
    "# apply the `get_country()` function and store the results in a new column named \"country\"\n",
    "_df['country'] = _df.iso2.apply(get_country)\n",
    "\n",
    "\n",
    "# drop the original \"iso2\" column and store the resulting dataframe in df_tb_who_country\n",
    "df_tb_who_country = _df.drop(\"iso2\", axis=1)\n",
    "\n",
    "df_tb_who_country.head()"
   ]
  },
  {
   "cell_type": "code",
   "execution_count": 27,
   "id": "59c2191b",
   "metadata": {
    "ExecuteTime": {
     "end_time": "2023-12-04T22:50:47.745115Z",
     "start_time": "2023-12-04T22:50:47.736377Z"
    },
    "deletable": false,
    "editable": false,
    "nbgrader": {
     "grade": true,
     "grade_id": "cell-78a9eaeaa51da8b0",
     "locked": true,
     "points": 2,
     "schema_version": 3,
     "solution": false,
     "task": false
    }
   },
   "outputs": [],
   "source": [
    "assert isinstance(df_tb_who_country, pd.DataFrame), \"The result should be a dataframe.\"\n",
    "assert 'iso2' not in df_tb_who_country.columns, \"You should drop the original iso2 column.\"\n",
    "assert 'country' in df_tb_who_country.columns, \"Have you stored the results in a new column named 'country'?\"\n",
    "assert hashlib.sha256(json.dumps(sorted(df_tb_who_country['country'].unique())).encode()).hexdigest() == '40515e68a196feaac974999d8d4fa9f3dd814e1bde66243a968fadf41a8e84de', \"Have you converted the iso2 codes to the country NAME?\""
   ]
  },
  {
   "cell_type": "markdown",
   "id": "7cc97eb6",
   "metadata": {
    "deletable": false,
    "editable": false,
    "nbgrader": {
     "grade": false,
     "grade_id": "cell-2a3a6625daad01dc",
     "locked": true,
     "schema_version": 3,
     "solution": false,
     "task": false
    }
   },
   "source": [
    "## Exercise 5 - the melt function\n",
    "\n",
    "This is our dataframe with country names:"
   ]
  },
  {
   "cell_type": "code",
   "execution_count": 28,
   "id": "ade46c46",
   "metadata": {
    "ExecuteTime": {
     "end_time": "2023-12-04T22:50:47.793748Z",
     "start_time": "2023-12-04T22:50:47.748890Z"
    },
    "deletable": false,
    "editable": false,
    "nbgrader": {
     "grade": false,
     "grade_id": "cell-6398f5af771f0b5e",
     "locked": true,
     "schema_version": 3,
     "solution": false,
     "task": false
    }
   },
   "outputs": [
    {
     "data": {
      "text/html": [
       "<div>\n",
       "<style scoped>\n",
       "    .dataframe tbody tr th:only-of-type {\n",
       "        vertical-align: middle;\n",
       "    }\n",
       "\n",
       "    .dataframe tbody tr th {\n",
       "        vertical-align: top;\n",
       "    }\n",
       "\n",
       "    .dataframe thead th {\n",
       "        text-align: right;\n",
       "    }\n",
       "</style>\n",
       "<table border=\"1\" class=\"dataframe\">\n",
       "  <thead>\n",
       "    <tr style=\"text-align: right;\">\n",
       "      <th></th>\n",
       "      <th>year</th>\n",
       "      <th>new_sp</th>\n",
       "      <th>new_sp_m04</th>\n",
       "      <th>new_sp_m514</th>\n",
       "      <th>new_sp_m014</th>\n",
       "      <th>new_sp_m1524</th>\n",
       "      <th>new_sp_m2534</th>\n",
       "      <th>new_sp_m3544</th>\n",
       "      <th>new_sp_m4554</th>\n",
       "      <th>new_sp_m5564</th>\n",
       "      <th>...</th>\n",
       "      <th>new_sp_f514</th>\n",
       "      <th>new_sp_f014</th>\n",
       "      <th>new_sp_f1524</th>\n",
       "      <th>new_sp_f2534</th>\n",
       "      <th>new_sp_f3544</th>\n",
       "      <th>new_sp_f4554</th>\n",
       "      <th>new_sp_f5564</th>\n",
       "      <th>new_sp_f65</th>\n",
       "      <th>new_sp_fu</th>\n",
       "      <th>country</th>\n",
       "    </tr>\n",
       "  </thead>\n",
       "  <tbody>\n",
       "    <tr>\n",
       "      <th>0</th>\n",
       "      <td>1989</td>\n",
       "      <td>NaN</td>\n",
       "      <td>NaN</td>\n",
       "      <td>NaN</td>\n",
       "      <td>NaN</td>\n",
       "      <td>NaN</td>\n",
       "      <td>NaN</td>\n",
       "      <td>NaN</td>\n",
       "      <td>NaN</td>\n",
       "      <td>NaN</td>\n",
       "      <td>...</td>\n",
       "      <td>NaN</td>\n",
       "      <td>NaN</td>\n",
       "      <td>NaN</td>\n",
       "      <td>NaN</td>\n",
       "      <td>NaN</td>\n",
       "      <td>NaN</td>\n",
       "      <td>NaN</td>\n",
       "      <td>NaN</td>\n",
       "      <td>NaN</td>\n",
       "      <td>Andorra</td>\n",
       "    </tr>\n",
       "    <tr>\n",
       "      <th>1</th>\n",
       "      <td>1990</td>\n",
       "      <td>NaN</td>\n",
       "      <td>NaN</td>\n",
       "      <td>NaN</td>\n",
       "      <td>NaN</td>\n",
       "      <td>NaN</td>\n",
       "      <td>NaN</td>\n",
       "      <td>NaN</td>\n",
       "      <td>NaN</td>\n",
       "      <td>NaN</td>\n",
       "      <td>...</td>\n",
       "      <td>NaN</td>\n",
       "      <td>NaN</td>\n",
       "      <td>NaN</td>\n",
       "      <td>NaN</td>\n",
       "      <td>NaN</td>\n",
       "      <td>NaN</td>\n",
       "      <td>NaN</td>\n",
       "      <td>NaN</td>\n",
       "      <td>NaN</td>\n",
       "      <td>Andorra</td>\n",
       "    </tr>\n",
       "    <tr>\n",
       "      <th>2</th>\n",
       "      <td>1991</td>\n",
       "      <td>NaN</td>\n",
       "      <td>NaN</td>\n",
       "      <td>NaN</td>\n",
       "      <td>NaN</td>\n",
       "      <td>NaN</td>\n",
       "      <td>NaN</td>\n",
       "      <td>NaN</td>\n",
       "      <td>NaN</td>\n",
       "      <td>NaN</td>\n",
       "      <td>...</td>\n",
       "      <td>NaN</td>\n",
       "      <td>NaN</td>\n",
       "      <td>NaN</td>\n",
       "      <td>NaN</td>\n",
       "      <td>NaN</td>\n",
       "      <td>NaN</td>\n",
       "      <td>NaN</td>\n",
       "      <td>NaN</td>\n",
       "      <td>NaN</td>\n",
       "      <td>Andorra</td>\n",
       "    </tr>\n",
       "    <tr>\n",
       "      <th>3</th>\n",
       "      <td>1992</td>\n",
       "      <td>NaN</td>\n",
       "      <td>NaN</td>\n",
       "      <td>NaN</td>\n",
       "      <td>NaN</td>\n",
       "      <td>NaN</td>\n",
       "      <td>NaN</td>\n",
       "      <td>NaN</td>\n",
       "      <td>NaN</td>\n",
       "      <td>NaN</td>\n",
       "      <td>...</td>\n",
       "      <td>NaN</td>\n",
       "      <td>NaN</td>\n",
       "      <td>NaN</td>\n",
       "      <td>NaN</td>\n",
       "      <td>NaN</td>\n",
       "      <td>NaN</td>\n",
       "      <td>NaN</td>\n",
       "      <td>NaN</td>\n",
       "      <td>NaN</td>\n",
       "      <td>Andorra</td>\n",
       "    </tr>\n",
       "    <tr>\n",
       "      <th>4</th>\n",
       "      <td>1993</td>\n",
       "      <td>15.0</td>\n",
       "      <td>NaN</td>\n",
       "      <td>NaN</td>\n",
       "      <td>NaN</td>\n",
       "      <td>NaN</td>\n",
       "      <td>NaN</td>\n",
       "      <td>NaN</td>\n",
       "      <td>NaN</td>\n",
       "      <td>NaN</td>\n",
       "      <td>...</td>\n",
       "      <td>NaN</td>\n",
       "      <td>NaN</td>\n",
       "      <td>NaN</td>\n",
       "      <td>NaN</td>\n",
       "      <td>NaN</td>\n",
       "      <td>NaN</td>\n",
       "      <td>NaN</td>\n",
       "      <td>NaN</td>\n",
       "      <td>NaN</td>\n",
       "      <td>Andorra</td>\n",
       "    </tr>\n",
       "  </tbody>\n",
       "</table>\n",
       "<p>5 rows × 23 columns</p>\n",
       "</div>"
      ],
      "text/plain": [
       "   year  new_sp  new_sp_m04  new_sp_m514  new_sp_m014  new_sp_m1524  \\\n",
       "0  1989     NaN         NaN          NaN          NaN           NaN   \n",
       "1  1990     NaN         NaN          NaN          NaN           NaN   \n",
       "2  1991     NaN         NaN          NaN          NaN           NaN   \n",
       "3  1992     NaN         NaN          NaN          NaN           NaN   \n",
       "4  1993    15.0         NaN          NaN          NaN           NaN   \n",
       "\n",
       "   new_sp_m2534  new_sp_m3544  new_sp_m4554  new_sp_m5564  ...  new_sp_f514  \\\n",
       "0           NaN           NaN           NaN           NaN  ...          NaN   \n",
       "1           NaN           NaN           NaN           NaN  ...          NaN   \n",
       "2           NaN           NaN           NaN           NaN  ...          NaN   \n",
       "3           NaN           NaN           NaN           NaN  ...          NaN   \n",
       "4           NaN           NaN           NaN           NaN  ...          NaN   \n",
       "\n",
       "   new_sp_f014  new_sp_f1524  new_sp_f2534  new_sp_f3544  new_sp_f4554  \\\n",
       "0          NaN           NaN           NaN           NaN           NaN   \n",
       "1          NaN           NaN           NaN           NaN           NaN   \n",
       "2          NaN           NaN           NaN           NaN           NaN   \n",
       "3          NaN           NaN           NaN           NaN           NaN   \n",
       "4          NaN           NaN           NaN           NaN           NaN   \n",
       "\n",
       "   new_sp_f5564  new_sp_f65  new_sp_fu  country  \n",
       "0           NaN         NaN        NaN  Andorra  \n",
       "1           NaN         NaN        NaN  Andorra  \n",
       "2           NaN         NaN        NaN  Andorra  \n",
       "3           NaN         NaN        NaN  Andorra  \n",
       "4           NaN         NaN        NaN  Andorra  \n",
       "\n",
       "[5 rows x 23 columns]"
      ]
     },
     "execution_count": 28,
     "metadata": {},
     "output_type": "execute_result"
    }
   ],
   "source": [
    "df_tb_who_country.head()"
   ]
  },
  {
   "cell_type": "markdown",
   "id": "81c86519",
   "metadata": {
    "deletable": false,
    "editable": false,
    "nbgrader": {
     "grade": false,
     "grade_id": "cell-5ef9ec3150c7e630",
     "locked": true,
     "schema_version": 3,
     "solution": false,
     "task": false
    }
   },
   "source": [
    "Before we can continue, we need to tidy it up. Of all the columns, only two are variables, `year` and `country`. All the other column names are values. \n",
    "\n",
    "Use the function `melt()` to tidy the dataframe and store it in `tidy_tb`. Keep the `country` and `year` columns and melt all the other columns. Store the melted column names in the variable `column_name` and their values in variable `cases`."
   ]
  },
  {
   "cell_type": "code",
   "execution_count": 29,
   "id": "8edec5b6",
   "metadata": {
    "ExecuteTime": {
     "end_time": "2023-12-04T22:50:47.817085Z",
     "start_time": "2023-12-04T22:50:47.800579Z"
    }
   },
   "outputs": [],
   "source": [
    "column_name = df_tb_who_country.columns.tolist()\n"
   ]
  },
  {
   "cell_type": "code",
   "execution_count": 30,
   "id": "94d6132b",
   "metadata": {
    "ExecuteTime": {
     "end_time": "2023-12-04T22:50:47.843154Z",
     "start_time": "2023-12-04T22:50:47.834841Z"
    }
   },
   "outputs": [],
   "source": [
    "column_name.remove('year')"
   ]
  },
  {
   "cell_type": "code",
   "execution_count": 31,
   "id": "b0154f51",
   "metadata": {
    "ExecuteTime": {
     "end_time": "2023-12-04T22:50:47.857385Z",
     "start_time": "2023-12-04T22:50:47.847764Z"
    }
   },
   "outputs": [],
   "source": [
    "column_name.remove('country')"
   ]
  },
  {
   "cell_type": "code",
   "execution_count": 32,
   "id": "da8c8203",
   "metadata": {
    "ExecuteTime": {
     "end_time": "2023-12-04T22:50:47.887109Z",
     "start_time": "2023-12-04T22:50:47.862381Z"
    }
   },
   "outputs": [
    {
     "data": {
      "text/plain": [
       "['new_sp',\n",
       " 'new_sp_m04',\n",
       " 'new_sp_m514',\n",
       " 'new_sp_m014',\n",
       " 'new_sp_m1524',\n",
       " 'new_sp_m2534',\n",
       " 'new_sp_m3544',\n",
       " 'new_sp_m4554',\n",
       " 'new_sp_m5564',\n",
       " 'new_sp_m65',\n",
       " 'new_sp_mu',\n",
       " 'new_sp_f04',\n",
       " 'new_sp_f514',\n",
       " 'new_sp_f014',\n",
       " 'new_sp_f1524',\n",
       " 'new_sp_f2534',\n",
       " 'new_sp_f3544',\n",
       " 'new_sp_f4554',\n",
       " 'new_sp_f5564',\n",
       " 'new_sp_f65',\n",
       " 'new_sp_fu']"
      ]
     },
     "execution_count": 32,
     "metadata": {},
     "output_type": "execute_result"
    }
   ],
   "source": [
    "column_name"
   ]
  },
  {
   "cell_type": "code",
   "execution_count": 33,
   "id": "628adf15",
   "metadata": {
    "ExecuteTime": {
     "end_time": "2023-12-04T22:50:47.924225Z",
     "start_time": "2023-12-04T22:50:47.894154Z"
    },
    "deletable": false,
    "nbgrader": {
     "grade": false,
     "grade_id": "cell-6fd55136526d1de2",
     "locked": false,
     "schema_version": 3,
     "solution": true,
     "task": false
    }
   },
   "outputs": [],
   "source": [
    "tidy_tb = pd.melt(\n",
    "    df_tb_who_country,\n",
    "    id_vars=['year','country'],\n",
    "    value_vars=list(column_name),\n",
    "    var_name='column_name',\n",
    "    value_name='cases'\n",
    ")"
   ]
  },
  {
   "cell_type": "code",
   "execution_count": 34,
   "id": "5386385b",
   "metadata": {
    "ExecuteTime": {
     "end_time": "2023-12-04T22:50:48.141959Z",
     "start_time": "2023-12-04T22:50:47.933496Z"
    },
    "deletable": false,
    "editable": false,
    "nbgrader": {
     "grade": true,
     "grade_id": "cell-c7b7f19a19d6be01",
     "locked": true,
     "points": 2,
     "schema_version": 3,
     "solution": false,
     "task": false
    }
   },
   "outputs": [],
   "source": [
    "assert isinstance(tidy_tb, pd.DataFrame), \"The result should be a dataframe.\"\n",
    "assert tidy_tb.shape == (121149, 4), \"Your dataframe doesn't have the expected shape. Have you melted the dataframe correctly?\"\n",
    "assert \"column_name\" in tidy_tb.columns, \"The variables other than 'country' and 'year' should be stored in a column named 'column_name'.\"\n",
    "assert \"cases\" in tidy_tb.columns, \"Number of cases should be stored in a column named 'cases'.\"\n",
    "assert hashlib.sha256(json.dumps(sorted(tidy_tb['column_name'])).encode()).hexdigest() == '4ba594d958d63b5bab87fe50944b16f30a93824e56fa331d5d9b59dddf285e35', \"The column_name column doesn't look as expected\" \n",
    "assert hashlib.sha256(json.dumps(sorted(tidy_tb['cases'])).encode()).hexdigest() == '8a294cd49c8fc1b29b60893e45426a80cb9681be4c699ae950c7103552cc7153', \"The cases column doesn't look as expected\""
   ]
  },
  {
   "cell_type": "markdown",
   "id": "0e50503c",
   "metadata": {
    "deletable": false,
    "editable": false,
    "nbgrader": {
     "grade": false,
     "grade_id": "cell-a3c6930dbf5b9ef6",
     "locked": true,
     "schema_version": 3,
     "solution": false,
     "task": false
    }
   },
   "source": [
    "## Exercise 6 - Data cleanup\n",
    "\n",
    "Our dataframe is tidy, but it's not clean. From the `tidy_tb` dataframe, drop all the rows where `cases` **OR** `country` is null, as we just don't have any information and we cannot guess the number of cases or the country of origin. Convert the `cases` column to `int`. Note that in the Exercise 4, the `country` column was converted to string. Consequently, the NaN values are now \"nan\" strings. These will affect the behaviour of the .isnull() or .notnull methods. Save the final dataframe in `clean_tidy_tb` sorted by `country`, `year`, and `column_name`. The indexes should be reset (with `drop=True`)."
   ]
  },
  {
   "cell_type": "code",
   "execution_count": 35,
   "id": "af17152b",
   "metadata": {
    "ExecuteTime": {
     "end_time": "2023-12-04T22:50:48.161050Z",
     "start_time": "2023-12-04T22:50:48.149766Z"
    }
   },
   "outputs": [],
   "source": [
    "tidy_tb_backup = tidy_tb.copy()"
   ]
  },
  {
   "cell_type": "code",
   "execution_count": 36,
   "id": "ada53867",
   "metadata": {
    "ExecuteTime": {
     "end_time": "2023-12-04T22:50:48.193585Z",
     "start_time": "2023-12-04T22:50:48.166206Z"
    }
   },
   "outputs": [],
   "source": [
    "tidy_tb[['country', 'year']] = tidy_tb[['country', 'year']].replace('nan', np.nan)"
   ]
  },
  {
   "cell_type": "code",
   "execution_count": 37,
   "id": "4c0eed30",
   "metadata": {
    "ExecuteTime": {
     "end_time": "2023-12-04T22:50:48.228182Z",
     "start_time": "2023-12-04T22:50:48.203749Z"
    },
    "deletable": false,
    "nbgrader": {
     "grade": false,
     "grade_id": "cell-9577b6eba97000ae",
     "locked": false,
     "schema_version": 3,
     "solution": true,
     "task": false
    }
   },
   "outputs": [],
   "source": [
    "tidy_tb.dropna(axis=0, how='any', subset=['cases','country'], inplace=True)"
   ]
  },
  {
   "cell_type": "code",
   "execution_count": 38,
   "id": "75098638",
   "metadata": {
    "ExecuteTime": {
     "end_time": "2023-12-04T22:50:48.253504Z",
     "start_time": "2023-12-04T22:50:48.241057Z"
    }
   },
   "outputs": [],
   "source": [
    "tidy_tb = tidy_tb.astype({\"cases\": int})"
   ]
  },
  {
   "cell_type": "code",
   "execution_count": 39,
   "id": "46809c0c",
   "metadata": {
    "ExecuteTime": {
     "end_time": "2023-12-04T22:50:48.291215Z",
     "start_time": "2023-12-04T22:50:48.260876Z"
    }
   },
   "outputs": [
    {
     "name": "stdout",
     "output_type": "stream",
     "text": [
      "<class 'pandas.core.frame.DataFrame'>\n",
      "Index: 38619 entries, 4 to 121148\n",
      "Data columns (total 4 columns):\n",
      " #   Column       Non-Null Count  Dtype \n",
      "---  ------       --------------  ----- \n",
      " 0   year         38619 non-null  int64 \n",
      " 1   country      38619 non-null  object\n",
      " 2   column_name  38619 non-null  object\n",
      " 3   cases        38619 non-null  int64 \n",
      "dtypes: int64(2), object(2)\n",
      "memory usage: 1.5+ MB\n"
     ]
    }
   ],
   "source": [
    "tidy_tb.info()"
   ]
  },
  {
   "cell_type": "code",
   "execution_count": 40,
   "id": "e17637fe",
   "metadata": {
    "ExecuteTime": {
     "end_time": "2023-12-04T22:50:48.333929Z",
     "start_time": "2023-12-04T22:50:48.299358Z"
    }
   },
   "outputs": [],
   "source": [
    "clean_tidy_tb = tidy_tb.sort_values(by=['country','year','column_name'],\n",
    "                                    ignore_index=True)"
   ]
  },
  {
   "cell_type": "code",
   "execution_count": 41,
   "id": "43c550c1",
   "metadata": {
    "ExecuteTime": {
     "end_time": "2023-12-04T22:50:48.360210Z",
     "start_time": "2023-12-04T22:50:48.339630Z"
    }
   },
   "outputs": [
    {
     "data": {
      "text/plain": [
       "(38619, 4)"
      ]
     },
     "execution_count": 41,
     "metadata": {},
     "output_type": "execute_result"
    }
   ],
   "source": [
    "clean_tidy_tb.shape"
   ]
  },
  {
   "cell_type": "code",
   "execution_count": 42,
   "id": "982b7655",
   "metadata": {
    "ExecuteTime": {
     "end_time": "2023-12-04T22:50:48.379195Z",
     "start_time": "2023-12-04T22:50:48.367255Z"
    }
   },
   "outputs": [],
   "source": [
    "tidy_tb=tidy_tb_backup.copy()"
   ]
  },
  {
   "cell_type": "code",
   "execution_count": 43,
   "id": "54623e4e",
   "metadata": {
    "ExecuteTime": {
     "end_time": "2023-12-04T22:50:48.505843Z",
     "start_time": "2023-12-04T22:50:48.384320Z"
    },
    "deletable": false,
    "editable": false,
    "nbgrader": {
     "grade": true,
     "grade_id": "cell-42fd7bf741b61410",
     "locked": true,
     "points": 2,
     "schema_version": 3,
     "solution": false,
     "task": false
    }
   },
   "outputs": [],
   "source": [
    "assert isinstance(clean_tidy_tb, pd.DataFrame), \"The result should be a dataframe.\"\n",
    "assert clean_tidy_tb.shape == (38619, 4), \"The shape of the dataframe is not correct.\"\n",
    "assert hashlib.sha256(json.dumps(sorted(tidy_tb['country'])).encode()).hexdigest() == '43543c9e06fe9846897c269db635da02fc76dae4527775062a2f66efc707e87e', \"There is something wrong with the values in the country column.\"\n",
    "assert hashlib.sha256(json.dumps(sorted(tidy_tb['cases'])).encode()).hexdigest() == '8a294cd49c8fc1b29b60893e45426a80cb9681be4c699ae950c7103552cc7153', \"There is something wrong with the values in the cases column.\""
   ]
  },
  {
   "cell_type": "markdown",
   "id": "64d5939a",
   "metadata": {
    "deletable": false,
    "editable": false,
    "nbgrader": {
     "grade": false,
     "grade_id": "cell-efe3c1f80a242099",
     "locked": true,
     "schema_version": 3,
     "solution": false,
     "task": false
    }
   },
   "source": [
    "## Exercise 7 - Multiple Variables stored in one Column\n",
    "\n",
    "Our `clean_tidy_tb` is looking better, but now we need to address the problem of having multiple variables stored in the `column_name` column. Let's fix that in a few steps."
   ]
  },
  {
   "cell_type": "markdown",
   "id": "2cd605ef",
   "metadata": {
    "deletable": false,
    "editable": false,
    "nbgrader": {
     "grade": false,
     "grade_id": "cell-29b2aec2de48149d",
     "locked": true,
     "schema_version": 3,
     "solution": false,
     "task": false
    }
   },
   "source": [
    "### Exercise 7.1 \n",
    "\n",
    "From the `column_name` column, extract the codes for female/male to a new column named `sex` and the codes for the age to a new column `age`. Use pandas `str.extract` to do this. Drop all missing values afterwards."
   ]
  },
  {
   "cell_type": "code",
   "execution_count": 44,
   "id": "93348cec",
   "metadata": {
    "ExecuteTime": {
     "end_time": "2023-12-04T22:50:48.612364Z",
     "start_time": "2023-12-04T22:50:48.511174Z"
    },
    "deletable": false,
    "nbgrader": {
     "grade": false,
     "grade_id": "cell-010b213892a15dcd",
     "locked": false,
     "schema_version": 3,
     "solution": true,
     "task": false
    }
   },
   "outputs": [],
   "source": [
    "#clean_tidy_tb[[\"sex\", \"age\"]] =\n",
    "clean_tidy_tb[[\"sex\", \"age\"]] = clean_tidy_tb[\"column_name\"].str.extract(r'([fm])(\\S*)')\n",
    "\n",
    "#drop all missing values\n",
    "clean_tidy_tb.dropna(inplace=True)"
   ]
  },
  {
   "cell_type": "code",
   "execution_count": 45,
   "id": "0108cbdc",
   "metadata": {
    "ExecuteTime": {
     "end_time": "2023-12-04T22:50:48.634159Z",
     "start_time": "2023-12-04T22:50:48.616067Z"
    }
   },
   "outputs": [
    {
     "data": {
      "text/html": [
       "<div>\n",
       "<style scoped>\n",
       "    .dataframe tbody tr th:only-of-type {\n",
       "        vertical-align: middle;\n",
       "    }\n",
       "\n",
       "    .dataframe tbody tr th {\n",
       "        vertical-align: top;\n",
       "    }\n",
       "\n",
       "    .dataframe thead th {\n",
       "        text-align: right;\n",
       "    }\n",
       "</style>\n",
       "<table border=\"1\" class=\"dataframe\">\n",
       "  <thead>\n",
       "    <tr style=\"text-align: right;\">\n",
       "      <th></th>\n",
       "      <th>year</th>\n",
       "      <th>country</th>\n",
       "      <th>column_name</th>\n",
       "      <th>cases</th>\n",
       "      <th>sex</th>\n",
       "      <th>age</th>\n",
       "    </tr>\n",
       "  </thead>\n",
       "  <tbody>\n",
       "    <tr>\n",
       "      <th>1</th>\n",
       "      <td>1996</td>\n",
       "      <td>AN</td>\n",
       "      <td>new_sp_f014</td>\n",
       "      <td>0</td>\n",
       "      <td>f</td>\n",
       "      <td>014</td>\n",
       "    </tr>\n",
       "    <tr>\n",
       "      <th>2</th>\n",
       "      <td>1996</td>\n",
       "      <td>AN</td>\n",
       "      <td>new_sp_f1524</td>\n",
       "      <td>0</td>\n",
       "      <td>f</td>\n",
       "      <td>1524</td>\n",
       "    </tr>\n",
       "    <tr>\n",
       "      <th>3</th>\n",
       "      <td>1996</td>\n",
       "      <td>AN</td>\n",
       "      <td>new_sp_f2534</td>\n",
       "      <td>0</td>\n",
       "      <td>f</td>\n",
       "      <td>2534</td>\n",
       "    </tr>\n",
       "    <tr>\n",
       "      <th>4</th>\n",
       "      <td>1996</td>\n",
       "      <td>AN</td>\n",
       "      <td>new_sp_f3544</td>\n",
       "      <td>1</td>\n",
       "      <td>f</td>\n",
       "      <td>3544</td>\n",
       "    </tr>\n",
       "    <tr>\n",
       "      <th>5</th>\n",
       "      <td>1996</td>\n",
       "      <td>AN</td>\n",
       "      <td>new_sp_f4554</td>\n",
       "      <td>0</td>\n",
       "      <td>f</td>\n",
       "      <td>4554</td>\n",
       "    </tr>\n",
       "    <tr>\n",
       "      <th>...</th>\n",
       "      <td>...</td>\n",
       "      <td>...</td>\n",
       "      <td>...</td>\n",
       "      <td>...</td>\n",
       "      <td>...</td>\n",
       "      <td>...</td>\n",
       "    </tr>\n",
       "    <tr>\n",
       "      <th>38614</th>\n",
       "      <td>2008</td>\n",
       "      <td>Zimbabwe</td>\n",
       "      <td>new_sp_m3544</td>\n",
       "      <td>3316</td>\n",
       "      <td>m</td>\n",
       "      <td>3544</td>\n",
       "    </tr>\n",
       "    <tr>\n",
       "      <th>38615</th>\n",
       "      <td>2008</td>\n",
       "      <td>Zimbabwe</td>\n",
       "      <td>new_sp_m4554</td>\n",
       "      <td>704</td>\n",
       "      <td>m</td>\n",
       "      <td>4554</td>\n",
       "    </tr>\n",
       "    <tr>\n",
       "      <th>38616</th>\n",
       "      <td>2008</td>\n",
       "      <td>Zimbabwe</td>\n",
       "      <td>new_sp_m5564</td>\n",
       "      <td>263</td>\n",
       "      <td>m</td>\n",
       "      <td>5564</td>\n",
       "    </tr>\n",
       "    <tr>\n",
       "      <th>38617</th>\n",
       "      <td>2008</td>\n",
       "      <td>Zimbabwe</td>\n",
       "      <td>new_sp_m65</td>\n",
       "      <td>185</td>\n",
       "      <td>m</td>\n",
       "      <td>65</td>\n",
       "    </tr>\n",
       "    <tr>\n",
       "      <th>38618</th>\n",
       "      <td>2008</td>\n",
       "      <td>Zimbabwe</td>\n",
       "      <td>new_sp_mu</td>\n",
       "      <td>0</td>\n",
       "      <td>m</td>\n",
       "      <td>u</td>\n",
       "    </tr>\n",
       "  </tbody>\n",
       "</table>\n",
       "<p>35552 rows × 6 columns</p>\n",
       "</div>"
      ],
      "text/plain": [
       "       year   country   column_name  cases sex   age\n",
       "1      1996        AN   new_sp_f014      0   f   014\n",
       "2      1996        AN  new_sp_f1524      0   f  1524\n",
       "3      1996        AN  new_sp_f2534      0   f  2534\n",
       "4      1996        AN  new_sp_f3544      1   f  3544\n",
       "5      1996        AN  new_sp_f4554      0   f  4554\n",
       "...     ...       ...           ...    ...  ..   ...\n",
       "38614  2008  Zimbabwe  new_sp_m3544   3316   m  3544\n",
       "38615  2008  Zimbabwe  new_sp_m4554    704   m  4554\n",
       "38616  2008  Zimbabwe  new_sp_m5564    263   m  5564\n",
       "38617  2008  Zimbabwe    new_sp_m65    185   m    65\n",
       "38618  2008  Zimbabwe     new_sp_mu      0   m     u\n",
       "\n",
       "[35552 rows x 6 columns]"
      ]
     },
     "execution_count": 45,
     "metadata": {},
     "output_type": "execute_result"
    }
   ],
   "source": [
    "clean_tidy_tb"
   ]
  },
  {
   "cell_type": "code",
   "execution_count": 46,
   "id": "99c275ac",
   "metadata": {
    "ExecuteTime": {
     "end_time": "2023-12-04T22:50:48.657417Z",
     "start_time": "2023-12-04T22:50:48.643494Z"
    },
    "deletable": false,
    "editable": false,
    "nbgrader": {
     "grade": true,
     "grade_id": "cell-59b3a28814a74234",
     "locked": true,
     "points": 2,
     "schema_version": 3,
     "solution": false,
     "task": false
    }
   },
   "outputs": [],
   "source": [
    "assert isinstance(clean_tidy_tb, pd.DataFrame), \"The result should be a dataframe.\"\n",
    "assert clean_tidy_tb.shape == (35552, 6), \"The shape of your dataframe is off. Have you dropped the missing values?\"\n",
    "assert hashlib.sha256(json.dumps(sorted(clean_tidy_tb['sex'].unique())).encode()).hexdigest() == '1a336f5ee71cf591bfd047e8facc048011b4b2bb760743e979ebe7c445dacf1b', \"The values in the sex column are not ok.\"\n",
    "assert hashlib.sha256(json.dumps(sorted(clean_tidy_tb['age'].unique())).encode()).hexdigest() == '70a6918917681862857b955b14e70f7bc68d0050382ef81945fe963e48135f10', \"The values in the age column are not ok.\""
   ]
  },
  {
   "cell_type": "markdown",
   "id": "58e9fade",
   "metadata": {
    "deletable": false,
    "editable": false,
    "nbgrader": {
     "grade": false,
     "grade_id": "cell-bda729060158f3aa",
     "locked": true,
     "schema_version": 3,
     "solution": false,
     "task": false
    }
   },
   "source": [
    "### Exercise 7.2\n",
    "\n",
    "The values in the `age` column are not very easy to understand. Use the `decode_age` dictionary to convert them to a more readable format. Drop any row where the values could not be converted."
   ]
  },
  {
   "cell_type": "code",
   "execution_count": 47,
   "id": "bdb47e10",
   "metadata": {
    "ExecuteTime": {
     "end_time": "2023-12-04T22:50:48.681481Z",
     "start_time": "2023-12-04T22:50:48.670753Z"
    },
    "deletable": false,
    "editable": false,
    "nbgrader": {
     "grade": false,
     "grade_id": "cell-dc2eced9420c20b8",
     "locked": true,
     "schema_version": 3,
     "solution": false,
     "task": false
    }
   },
   "outputs": [],
   "source": [
    "decode_age =   {\n",
    "        \"014\": \"0-14\",\n",
    "        \"1524\": \"15-24\",\n",
    "        \"2534\": \"25-34\",\n",
    "        \"3544\": \"35-44\",\n",
    "        \"4554\": \"45-54\",\n",
    "        \"5564\": \"55-64\",\n",
    "        \"65\": \"65+\",\n",
    "        \"u\": \"unknown\",\n",
    "    }"
   ]
  },
  {
   "cell_type": "code",
   "execution_count": 48,
   "id": "65beb34c",
   "metadata": {
    "ExecuteTime": {
     "end_time": "2023-12-04T22:50:48.729952Z",
     "start_time": "2023-12-04T22:50:48.685752Z"
    },
    "deletable": false,
    "nbgrader": {
     "grade": false,
     "grade_id": "cell-5da3dd934bfb0944",
     "locked": false,
     "schema_version": 3,
     "solution": true,
     "task": false
    }
   },
   "outputs": [],
   "source": [
    "# clean_tidy_tb[\"age\"] = ...\n",
    "clean_tidy_tb[\"age\"] = clean_tidy_tb[\"age\"].replace(decode_age)\n",
    "\n",
    "#drop any row where the values could not be converted\n",
    "clean_tidy_tb = clean_tidy_tb[clean_tidy_tb.age.isin(decode_age.values())]\n"
   ]
  },
  {
   "cell_type": "code",
   "execution_count": 49,
   "id": "f9b7800d",
   "metadata": {
    "ExecuteTime": {
     "end_time": "2023-12-04T22:50:48.742972Z",
     "start_time": "2023-12-04T22:50:48.733508Z"
    },
    "deletable": false,
    "editable": false,
    "nbgrader": {
     "grade": true,
     "grade_id": "cell-d6f8a9b49d1bb1f6",
     "locked": true,
     "points": 1,
     "schema_version": 3,
     "solution": false,
     "task": false
    }
   },
   "outputs": [],
   "source": [
    "assert clean_tidy_tb.shape == (33962, 6), \"The shape of your dataframe is off. Have you dropped the missing values?\"\n",
    "assert hashlib.sha256(json.dumps(sorted(clean_tidy_tb['age'].unique())).encode()).hexdigest() == '8135dd0c090f9073cbb69a7bbacefd8ad0ecdb6e26415ece93e3fb5f8f5d17e6', \"The decoding did not work as expected.\""
   ]
  },
  {
   "cell_type": "markdown",
   "id": "0a5e8e05",
   "metadata": {
    "deletable": false,
    "editable": false,
    "nbgrader": {
     "grade": false,
     "grade_id": "cell-33c22bb906ad7ae8",
     "locked": true,
     "schema_version": 3,
     "solution": false,
     "task": false
    }
   },
   "source": [
    "### Exercise 7.3\n",
    "\n",
    "Finally, save in `final_tb_df` the dataframe with just the columns \"country\", \"year\", \"sex\", \"age\" and \"cases\"."
   ]
  },
  {
   "cell_type": "code",
   "execution_count": 50,
   "id": "15b39d6b",
   "metadata": {
    "ExecuteTime": {
     "end_time": "2023-12-04T22:50:48.761840Z",
     "start_time": "2023-12-04T22:50:48.747632Z"
    }
   },
   "outputs": [
    {
     "data": {
      "text/plain": [
       "Index(['year', 'country', 'column_name', 'cases', 'sex', 'age'], dtype='object')"
      ]
     },
     "execution_count": 50,
     "metadata": {},
     "output_type": "execute_result"
    }
   ],
   "source": [
    "clean_tidy_tb.columns"
   ]
  },
  {
   "cell_type": "code",
   "execution_count": 51,
   "id": "d7260cee",
   "metadata": {
    "ExecuteTime": {
     "end_time": "2023-12-04T22:50:48.778560Z",
     "start_time": "2023-12-04T22:50:48.765785Z"
    },
    "deletable": false,
    "nbgrader": {
     "grade": false,
     "grade_id": "cell-740d1b402b3e1cdd",
     "locked": false,
     "schema_version": 3,
     "solution": true,
     "task": false
    }
   },
   "outputs": [],
   "source": [
    "final_tb_df = clean_tidy_tb[[\"country\", \"year\", \"sex\", \"age\", \"cases\"]]\n"
   ]
  },
  {
   "cell_type": "code",
   "execution_count": 52,
   "id": "858119af",
   "metadata": {
    "ExecuteTime": {
     "end_time": "2023-12-04T22:50:48.801979Z",
     "start_time": "2023-12-04T22:50:48.784739Z"
    },
    "deletable": false,
    "editable": false,
    "nbgrader": {
     "grade": true,
     "grade_id": "cell-ebe6d59edb53d1bf",
     "locked": true,
     "points": 1,
     "schema_version": 3,
     "solution": false,
     "task": false
    }
   },
   "outputs": [],
   "source": [
    "assert isinstance(final_tb_df, pd.DataFrame), \"The result should be a dataframe.\"\n",
    "assert final_tb_df.shape == (33962, 5), \"The shape of your dataframe is off.\"\n",
    "assert sorted(final_tb_df.columns) == ['age', 'cases', 'country', 'sex', 'year'], \"The column names are not as expected.\""
   ]
  },
  {
   "cell_type": "markdown",
   "id": "412717aa",
   "metadata": {
    "deletable": false,
    "editable": false,
    "nbgrader": {
     "grade": false,
     "grade_id": "cell-e4c77887957ce018",
     "locked": true,
     "schema_version": 3,
     "solution": false,
     "task": false
    }
   },
   "source": [
    "Congratulations!!! You're a data cleaning master!"
   ]
  },
  {
   "cell_type": "markdown",
   "id": "0381a077",
   "metadata": {
    "deletable": false,
    "editable": false,
    "nbgrader": {
     "grade": false,
     "grade_id": "cell-5b67eb1dc4a3d834",
     "locked": true,
     "schema_version": 3,
     "solution": false,
     "task": false
    }
   },
   "source": [
    "<img src=\"media/good-job.jpg\"  width=\"400\">"
   ]
  }
 ],
 "metadata": {
  "kernelspec": {
   "display_name": "Python 3 (ipykernel)",
   "language": "python",
   "name": "python3"
  },
  "language_info": {
   "codemirror_mode": {
    "name": "ipython",
    "version": 3
   },
   "file_extension": ".py",
   "mimetype": "text/x-python",
   "name": "python",
   "nbconvert_exporter": "python",
   "pygments_lexer": "ipython3",
   "version": "3.10.6"
  },
  "toc": {
   "base_numbering": 1,
   "nav_menu": {},
   "number_sections": true,
   "sideBar": true,
   "skip_h1_title": false,
   "title_cell": "Table of Contents",
   "title_sidebar": "Contents",
   "toc_cell": false,
   "toc_position": {},
   "toc_section_display": true,
   "toc_window_display": false
  }
 },
 "nbformat": 4,
 "nbformat_minor": 5
}
