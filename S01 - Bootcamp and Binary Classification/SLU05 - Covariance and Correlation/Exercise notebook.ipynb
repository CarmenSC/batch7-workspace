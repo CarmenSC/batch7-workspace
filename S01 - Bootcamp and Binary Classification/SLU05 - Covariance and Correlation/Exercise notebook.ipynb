{
 "cells": [
  {
   "cell_type": "code",
   "execution_count": 1,
   "id": "d67d44ab",
   "metadata": {
    "ExecuteTime": {
     "end_time": "2023-11-26T22:43:27.789431Z",
     "start_time": "2023-11-26T22:43:24.707030Z"
    },
    "deletable": false,
    "editable": false,
    "nbgrader": {
     "grade": false,
     "grade_id": "cell-6e36eaeb647e4592",
     "locked": true,
     "schema_version": 3,
     "solution": false,
     "task": false
    }
   },
   "outputs": [],
   "source": [
    "import pandas as pd \n",
    "import numpy as np \n",
    "import math \n",
    "import utils \n",
    "import seaborn as sns\n",
    "\n",
    "from IPython.display import Image\n",
    "from matplotlib import pyplot as plt\n",
    "from utils import get_distance_speed, get_fathers_sons_outliers, \\\n",
    "    plot_correlation_bargraph\n",
    "\n",
    "# this is for grading without showing the answers \n",
    "import hashlib\n",
    "def hash_answer(answer): \n",
    "    answer=str(answer)\n",
    "    return hashlib.sha256((answer).encode()).hexdigest()"
   ]
  },
  {
   "cell_type": "markdown",
   "id": "85ab4200",
   "metadata": {
    "deletable": false,
    "editable": false,
    "nbgrader": {
     "grade": false,
     "grade_id": "cell-36d1376d23b17d6d",
     "locked": true,
     "schema_version": 3,
     "solution": false,
     "task": false
    }
   },
   "source": [
    "In this notebook, you will practice the following:\n",
    "\n",
    "- Covariance \n",
    "- Pearson correlation\n",
    "- Spearman correlation\n",
    "- Correlation matrix\n",
    "- Spurious correlations"
   ]
  },
  {
   "cell_type": "markdown",
   "id": "0e884381",
   "metadata": {
    "deletable": false,
    "editable": false,
    "nbgrader": {
     "grade": false,
     "grade_id": "cell-a264257b42684e9f",
     "locked": true,
     "schema_version": 3,
     "solution": false,
     "task": false
    }
   },
   "source": [
    "# Exercise 1: Covariance and correlation with Pandas\n",
    "\n",
    "Here you will apply what you learned in the Learning Notebook, calculating covariance and correlation on a sample dataset.\n",
    "\n",
    "We're going to use a dataset of Car Fuel Consumption for this exercise. Source: https://www.kaggle.com/datasets/anderas/car-consume?resource=download. Let's begin by taking a quick look at the dataset:\n"
   ]
  },
  {
   "cell_type": "code",
   "execution_count": 2,
   "id": "dd076463",
   "metadata": {
    "ExecuteTime": {
     "end_time": "2023-11-26T22:44:41.560945Z",
     "start_time": "2023-11-26T22:44:41.524416Z"
    }
   },
   "outputs": [
    {
     "data": {
      "text/html": [
       "<div>\n",
       "<style scoped>\n",
       "    .dataframe tbody tr th:only-of-type {\n",
       "        vertical-align: middle;\n",
       "    }\n",
       "\n",
       "    .dataframe tbody tr th {\n",
       "        vertical-align: top;\n",
       "    }\n",
       "\n",
       "    .dataframe thead th {\n",
       "        text-align: right;\n",
       "    }\n",
       "</style>\n",
       "<table border=\"1\" class=\"dataframe\">\n",
       "  <thead>\n",
       "    <tr style=\"text-align: right;\">\n",
       "      <th></th>\n",
       "      <th>distance</th>\n",
       "      <th>consumption</th>\n",
       "      <th>speed</th>\n",
       "      <th>temp_outside</th>\n",
       "    </tr>\n",
       "  </thead>\n",
       "  <tbody>\n",
       "    <tr>\n",
       "      <th>0</th>\n",
       "      <td>28.0</td>\n",
       "      <td>5.0</td>\n",
       "      <td>26</td>\n",
       "      <td>12.0</td>\n",
       "    </tr>\n",
       "    <tr>\n",
       "      <th>1</th>\n",
       "      <td>12.0</td>\n",
       "      <td>42.0</td>\n",
       "      <td>30</td>\n",
       "      <td>13.0</td>\n",
       "    </tr>\n",
       "    <tr>\n",
       "      <th>2</th>\n",
       "      <td>112.0</td>\n",
       "      <td>55.0</td>\n",
       "      <td>38</td>\n",
       "      <td>15.0</td>\n",
       "    </tr>\n",
       "    <tr>\n",
       "      <th>3</th>\n",
       "      <td>129.0</td>\n",
       "      <td>39.0</td>\n",
       "      <td>36</td>\n",
       "      <td>14.0</td>\n",
       "    </tr>\n",
       "    <tr>\n",
       "      <th>4</th>\n",
       "      <td>185.0</td>\n",
       "      <td>45.0</td>\n",
       "      <td>46</td>\n",
       "      <td>15.0</td>\n",
       "    </tr>\n",
       "  </tbody>\n",
       "</table>\n",
       "</div>"
      ],
      "text/plain": [
       "   distance  consumption  speed  temp_outside\n",
       "0      28.0          5.0     26          12.0\n",
       "1      12.0         42.0     30          13.0\n",
       "2     112.0         55.0     38          15.0\n",
       "3     129.0         39.0     36          14.0\n",
       "4     185.0         45.0     46          15.0"
      ]
     },
     "execution_count": 2,
     "metadata": {},
     "output_type": "execute_result"
    }
   ],
   "source": [
    "carride = pd.read_csv('data/carride2.csv')\n",
    "carride.head()"
   ]
  },
  {
   "cell_type": "markdown",
   "id": "729f6766",
   "metadata": {
    "deletable": false,
    "editable": false,
    "nbgrader": {
     "grade": false,
     "grade_id": "cell-b30dc6ff1e17cc8e",
     "locked": true,
     "schema_version": 3,
     "solution": false,
     "task": false
    }
   },
   "source": [
    "## 1.1 Are speed and consumption related?\n",
    "\n",
    "We'll begin by checking if the speed is related to the consumption.\n",
    "\n",
    "Edit the function below so that it returns the covariance, Pearson correlation and Spearman correlation between speed and consumption.\n",
    "\n",
    "> Do not round the results!"
   ]
  },
  {
   "cell_type": "code",
   "execution_count": 20,
   "id": "55b5e28b",
   "metadata": {
    "ExecuteTime": {
     "end_time": "2023-11-26T22:56:39.756299Z",
     "start_time": "2023-11-26T22:56:39.748725Z"
    },
    "deletable": false,
    "nbgrader": {
     "grade": false,
     "grade_id": "cell-33f3448b9c3e71c2",
     "locked": false,
     "schema_version": 3,
     "solution": true,
     "task": false
    }
   },
   "outputs": [],
   "source": [
    "def check_if_related(consumption, speed):\n",
    "    covariance = consumption.cov(speed)\n",
    "    pearson_corr = consumption.corr(speed, method='pearson')\n",
    "    spearman_corr = consumption.corr(speed, method='spearman')\n",
    "    \n",
    "\n",
    "    \n",
    "    return covariance, pearson_corr, spearman_corr\n"
   ]
  },
  {
   "cell_type": "code",
   "execution_count": 21,
   "id": "0c808a2f",
   "metadata": {
    "ExecuteTime": {
     "end_time": "2023-11-26T22:56:40.464104Z",
     "start_time": "2023-11-26T22:56:40.434833Z"
    },
    "deletable": false,
    "editable": false,
    "nbgrader": {
     "grade": true,
     "grade_id": "cell-9a836c764eb5109c",
     "locked": true,
     "points": 3,
     "schema_version": 3,
     "solution": false,
     "task": false
    }
   },
   "outputs": [
    {
     "name": "stdout",
     "output_type": "stream",
     "text": [
      "Well done! Everything seems to be in order! Approximated values:\n",
      "Covariance           = -25.06\n",
      "Pearson correlation  = -0.1\n",
      "Spearman correlation = -0.11\n",
      "The results show that the correlation is not significative.\n"
     ]
    }
   ],
   "source": [
    "consumption, speed = get_distance_speed()\n",
    "assert math.isclose(check_if_related(consumption, speed)[0], \\\n",
    "                    -25.061536002557347, abs_tol=0.01), \\\n",
    "                    \"The covariance seems to be wrong.\"\n",
    "assert math.isclose(check_if_related(consumption, speed)[1], \\\n",
    "                    -0.10365751316032525, abs_tol=0.0001), \\\n",
    "                    \"The Pearson correlation seems to be wrong.\"\n",
    "assert math.isclose(check_if_related(consumption, speed)[2], \\\n",
    "                    -0.11331148715392869, abs_tol=0.0001), \\\n",
    "                    \"The Spearman correlation seems to be wrong.\"\n",
    "print(f\"Well done! Everything seems to be in order! Approximated \"\\\n",
    "    \"values:\\nCovariance           = \"\\\n",
    "    f\"{round(check_if_related(consumption, speed)[0],2)}\\n\"\\\n",
    "    \"Pearson correlation  = \"\\\n",
    "    f\"{round(check_if_related(consumption, speed)[1],2)}\\n\"\\\n",
    "    \"Spearman correlation = \"\\\n",
    "    f\"{round(check_if_related(consumption, speed)[2],2)}\\n\"\n",
    "    \"The results show that the correlation is not significative.\")"
   ]
  },
  {
   "cell_type": "markdown",
   "id": "81a7fd5d",
   "metadata": {},
   "source": [
    "## 1.2 Changing units\n",
    "\n",
    "Now for a direct multiple choice exercise. The distance unit in the dataset is meter. Let's assume we want to know the distances in feet.\n",
    "\n",
    "We know that 1 meter = 3.28 feet, meaning that the unitary distance represented in the unit 'feet' is smaller than the unitary distance represented in the dataset unit, meter.\n",
    "\n",
    "If we extract the covariance and Pearson/Spearman correlations again, but this time in feet, which of the following statements is true?\n",
    "\n",
    "    A. The covariance, Pearson correlation and Spearman correlation will decrease.\n",
    "\n",
    "    B. The covariance will increase, but the Pearson correlation and Spearman correlation will decrease.\n",
    "\n",
    "    C. They all (covariance, Pearson correlation and Spearman correlation) remain the same.\n",
    "\n",
    "    D. The covariance will increase, but Pearson correlation and Spearman correlation will remain the same.\n",
    "\n",
    "Write the letter corresponding to your chosen answer as a text string into the variable ex1_answer below."
   ]
  },
  {
   "cell_type": "code",
   "execution_count": 5,
   "id": "cd7f0201",
   "metadata": {
    "ExecuteTime": {
     "end_time": "2023-11-26T22:49:53.888731Z",
     "start_time": "2023-11-26T22:49:53.882253Z"
    },
    "deletable": false,
    "nbgrader": {
     "grade": false,
     "grade_id": "cell-c7f0b06183805a36",
     "locked": false,
     "schema_version": 3,
     "solution": true,
     "task": false
    }
   },
   "outputs": [],
   "source": [
    "# ex1_answer = \"Z\"\n",
    "# YOUR CODE HERE\n",
    "ex1_answer = \"D\""
   ]
  },
  {
   "cell_type": "code",
   "execution_count": 6,
   "id": "74484a50",
   "metadata": {
    "ExecuteTime": {
     "end_time": "2023-11-26T22:49:54.396280Z",
     "start_time": "2023-11-26T22:49:54.387713Z"
    },
    "deletable": false,
    "editable": false,
    "nbgrader": {
     "grade": true,
     "grade_id": "cell-f339ebf6d0093b75",
     "locked": true,
     "points": 2,
     "schema_version": 3,
     "solution": false,
     "task": false
    }
   },
   "outputs": [
    {
     "name": "stdout",
     "output_type": "stream",
     "text": [
      "Good job!\n"
     ]
    }
   ],
   "source": [
    "assert hash_answer(ex1_answer.lower()) == \\\n",
    "    \"18ac3e7343f016890c510e93f935261169d9e3f565436429830faf0934f4f8e4\",\\\n",
    "    \"Wrong choice. Remember that correlation does not depend on units.\"\n",
    "print(\"Good job!\")\n"
   ]
  },
  {
   "cell_type": "markdown",
   "id": "65e659f9",
   "metadata": {
    "deletable": false,
    "editable": false,
    "nbgrader": {
     "grade": false,
     "grade_id": "cell-0505d086041dad3f",
     "locked": true,
     "schema_version": 3,
     "solution": false,
     "task": false
    }
   },
   "source": [
    "# Exercise 2: Pearson experiment\n",
    "\n",
    "The following dataset presents the heights of fathers and their sons, based on a famous Karl Pearson's experiment around 1903. The number of cases is 1078. Random noise was added to the original data, to produce heights to the nearest 0.1 inch.  \n",
    "(more info: https://www.kaggle.com/datasets/abhilash04/fathersandsonheight)"
   ]
  },
  {
   "cell_type": "code",
   "execution_count": 7,
   "id": "824f9580",
   "metadata": {
    "ExecuteTime": {
     "end_time": "2023-11-26T22:50:35.097425Z",
     "start_time": "2023-11-26T22:50:35.079488Z"
    },
    "deletable": false,
    "editable": false,
    "nbgrader": {
     "grade": false,
     "grade_id": "cell-4a90ff13471f8feb",
     "locked": true,
     "schema_version": 3,
     "solution": false,
     "task": false
    }
   },
   "outputs": [
    {
     "data": {
      "text/html": [
       "<div>\n",
       "<style scoped>\n",
       "    .dataframe tbody tr th:only-of-type {\n",
       "        vertical-align: middle;\n",
       "    }\n",
       "\n",
       "    .dataframe tbody tr th {\n",
       "        vertical-align: top;\n",
       "    }\n",
       "\n",
       "    .dataframe thead th {\n",
       "        text-align: right;\n",
       "    }\n",
       "</style>\n",
       "<table border=\"1\" class=\"dataframe\">\n",
       "  <thead>\n",
       "    <tr style=\"text-align: right;\">\n",
       "      <th></th>\n",
       "      <th>Fathers</th>\n",
       "      <th>Sons</th>\n",
       "    </tr>\n",
       "  </thead>\n",
       "  <tbody>\n",
       "    <tr>\n",
       "      <th>0</th>\n",
       "      <td>65.0</td>\n",
       "      <td>59.8</td>\n",
       "    </tr>\n",
       "    <tr>\n",
       "      <th>1</th>\n",
       "      <td>63.3</td>\n",
       "      <td>63.2</td>\n",
       "    </tr>\n",
       "    <tr>\n",
       "      <th>2</th>\n",
       "      <td>65.0</td>\n",
       "      <td>63.3</td>\n",
       "    </tr>\n",
       "    <tr>\n",
       "      <th>3</th>\n",
       "      <td>65.8</td>\n",
       "      <td>62.8</td>\n",
       "    </tr>\n",
       "    <tr>\n",
       "      <th>4</th>\n",
       "      <td>61.1</td>\n",
       "      <td>64.3</td>\n",
       "    </tr>\n",
       "  </tbody>\n",
       "</table>\n",
       "</div>"
      ],
      "text/plain": [
       "   Fathers  Sons\n",
       "0     65.0  59.8\n",
       "1     63.3  63.2\n",
       "2     65.0  63.3\n",
       "3     65.8  62.8\n",
       "4     61.1  64.3"
      ]
     },
     "execution_count": 7,
     "metadata": {},
     "output_type": "execute_result"
    }
   ],
   "source": [
    "pearson = pd.read_csv('data/pearson.csv')\n",
    "pearson.head()"
   ]
  },
  {
   "cell_type": "code",
   "execution_count": 8,
   "id": "15bd0832",
   "metadata": {
    "ExecuteTime": {
     "end_time": "2023-11-26T22:50:36.891127Z",
     "start_time": "2023-11-26T22:50:36.485494Z"
    },
    "deletable": false,
    "editable": false,
    "nbgrader": {
     "grade": false,
     "grade_id": "cell-356d18108f71be93",
     "locked": true,
     "schema_version": 3,
     "solution": false,
     "task": false
    }
   },
   "outputs": [
    {
     "data": {
      "text/plain": [
       "Text(0, 0.5, 'Sons')"
      ]
     },
     "execution_count": 8,
     "metadata": {},
     "output_type": "execute_result"
    },
    {
     "data": {
      "image/png": "[encoded data removed]",
      "text/plain": [
       "<Figure size 640x480 with 1 Axes>"
      ]
     },
     "metadata": {},
     "output_type": "display_data"
    }
   ],
   "source": [
    "plt.scatter(pearson['Fathers'],pearson['Sons'])\n",
    "plt.xlabel('Fathers')\n",
    "plt.ylabel('Sons')"
   ]
  },
  {
   "cell_type": "markdown",
   "id": "e5338666",
   "metadata": {
    "deletable": false,
    "editable": false,
    "nbgrader": {
     "grade": false,
     "grade_id": "cell-ce1ea76f53a60e4e",
     "locked": true,
     "schema_version": 3,
     "solution": false,
     "task": false
    }
   },
   "source": [
    "## 2.1 What can you read from the plot?\n",
    "What can we infer from the scatter plot above concerning the height variable?\n",
    "\n",
    "    A. There is no correlation between Father and son.\n",
    "\n",
    "    B. There is a negative correlation visible.\n",
    "\n",
    "    C. There is a positive correlation visible.\n",
    "\n",
    "    D. Nothing can be inferred from just the graph.\n",
    "    \n",
    "Write the letter corresponding to your chosen answer as a text string into the variable ex2_answer below.\n"
   ]
  },
  {
   "cell_type": "code",
   "execution_count": 9,
   "id": "648f1c36",
   "metadata": {
    "ExecuteTime": {
     "end_time": "2023-11-26T22:51:23.516688Z",
     "start_time": "2023-11-26T22:51:23.511333Z"
    },
    "deletable": false,
    "nbgrader": {
     "grade": false,
     "grade_id": "cell-62e6ef4c069cc4b4",
     "locked": false,
     "schema_version": 3,
     "solution": true,
     "task": false
    }
   },
   "outputs": [],
   "source": [
    "# ex2_answer = \"Z\"\n",
    "# YOUR CODE HERE\n",
    "ex2_answer = \"C\""
   ]
  },
  {
   "cell_type": "code",
   "execution_count": 10,
   "id": "2750543f",
   "metadata": {
    "ExecuteTime": {
     "end_time": "2023-11-26T22:51:24.000201Z",
     "start_time": "2023-11-26T22:51:23.985852Z"
    },
    "deletable": false,
    "editable": false,
    "nbgrader": {
     "grade": true,
     "grade_id": "cell-f2ffe2bc162d2f79",
     "locked": true,
     "points": 2,
     "schema_version": 3,
     "solution": false,
     "task": false
    }
   },
   "outputs": [
    {
     "name": "stdout",
     "output_type": "stream",
     "text": [
      "Nice!\n"
     ]
    }
   ],
   "source": [
    "assert hash_answer(ex2_answer.lower()) == \\\n",
    "    \"2e7d2c03a9507ae265ecf5b5356885a53393a2029d241394997265a1a25aefc6\", \\\n",
    "    \"Wrong choice. Remember that correlation does not depend on units.\"\n",
    "print(\"Nice!\")"
   ]
  },
  {
   "cell_type": "markdown",
   "id": "849d6c70",
   "metadata": {
    "deletable": false,
    "editable": false,
    "nbgrader": {
     "grade": false,
     "grade_id": "cell-5693c28505010bd1",
     "locked": true,
     "schema_version": 3,
     "solution": false,
     "task": false
    }
   },
   "source": [
    "## 2.2 The outlier\n",
    "\n",
    "Analysing the following dataset we can spot some really weird heights or so called outliers. This could be the tallest men ever, or giants really existed!  \n",
    "\n",
    "Adjust the function below so that it returns the Pearson correlation and the Spearman correlation (in this order) between fathers' and the sons' heights."
   ]
  },
  {
   "cell_type": "code",
   "execution_count": 11,
   "id": "b74e12b1",
   "metadata": {
    "ExecuteTime": {
     "end_time": "2023-11-26T22:52:02.800959Z",
     "start_time": "2023-11-26T22:52:02.277948Z"
    },
    "deletable": false,
    "editable": false,
    "nbgrader": {
     "grade": false,
     "grade_id": "cell-874d28fcddd25a27",
     "locked": true,
     "schema_version": 3,
     "solution": false,
     "task": false
    }
   },
   "outputs": [
    {
     "data": {
      "text/plain": [
       "Text(0, 0.5, 'Sons')"
      ]
     },
     "execution_count": 11,
     "metadata": {},
     "output_type": "execute_result"
    },
    {
     "data": {
      "image/png": "[encoded data removed]",
      "text/plain": [
       "<Figure size 640x480 with 1 Axes>"
      ]
     },
     "metadata": {},
     "output_type": "display_data"
    }
   ],
   "source": [
    "outlier_data = pd.read_csv('data/outlier_data.csv')\n",
    "plt.scatter(outlier_data['Fathers'],outlier_data['Sons'])\n",
    "plt.xlabel('Fathers')\n",
    "plt.ylabel('Sons')"
   ]
  },
  {
   "cell_type": "code",
   "execution_count": 17,
   "id": "9d081de3",
   "metadata": {
    "ExecuteTime": {
     "end_time": "2023-11-26T22:55:56.558950Z",
     "start_time": "2023-11-26T22:55:56.549733Z"
    },
    "deletable": false,
    "nbgrader": {
     "grade": false,
     "grade_id": "cell-87a94ef2e593d4c6",
     "locked": false,
     "schema_version": 3,
     "solution": true,
     "task": false
    }
   },
   "outputs": [],
   "source": [
    "def calculate_correlations_with_pandas(fathers, sons):\n",
    "    \n",
    "    pearson_corr = fathers.corr(sons, method='pearson')\n",
    "    spearman_corr = fathers.corr(sons, method='spearman')\n",
    "    # YOUR CODE HERE\n",
    " \n",
    "    return pearson_corr, spearman_corr"
   ]
  },
  {
   "cell_type": "code",
   "execution_count": 18,
   "id": "765b428d",
   "metadata": {
    "ExecuteTime": {
     "end_time": "2023-11-26T22:55:57.625907Z",
     "start_time": "2023-11-26T22:55:57.371790Z"
    },
    "deletable": false,
    "editable": false,
    "nbgrader": {
     "grade": false,
     "grade_id": "cell-62325cce4485e655",
     "locked": true,
     "schema_version": 3,
     "solution": false,
     "task": false
    }
   },
   "outputs": [
    {
     "name": "stdout",
     "output_type": "stream",
     "text": [
      "Pearson without outlier : 0.5011626808075912\n",
      "Pearson with outlier    : 0.34273123274050016\n",
      "Spearman without outlier: 0.5056466119232446\n",
      "Spearman with outlier   : 0.4476711133191877\n"
     ]
    },
    {
     "data": {
      "image/png": "[encoded data removed]",
      "text/plain": [
       "<Figure size 640x480 with 1 Axes>"
      ]
     },
     "metadata": {},
     "output_type": "display_data"
    }
   ],
   "source": [
    "fathers, sons, sons_with_outliers = get_fathers_sons_outliers()\n",
    "\n",
    "pearson_corr_normal, spearman_corr_normal = \\\n",
    "    calculate_correlations_with_pandas(fathers, sons)\n",
    "pearson_corr_outlier, spearman_corr_outlier = \\\n",
    "    calculate_correlations_with_pandas(fathers, sons_with_outliers)\n",
    "\n",
    "# quick plot to see what happens\n",
    "plot_correlation_bargraph(pearson_corr_normal, pearson_corr_outlier, \n",
    "                          spearman_corr_normal, spearman_corr_outlier)"
   ]
  },
  {
   "cell_type": "code",
   "execution_count": 19,
   "id": "0ee5ff5b",
   "metadata": {
    "ExecuteTime": {
     "end_time": "2023-11-26T22:55:59.347687Z",
     "start_time": "2023-11-26T22:55:59.339162Z"
    },
    "deletable": false,
    "editable": false,
    "nbgrader": {
     "grade": true,
     "grade_id": "cell-74ef64e65b500d98",
     "locked": true,
     "points": 3,
     "schema_version": 3,
     "solution": false,
     "task": false
    }
   },
   "outputs": [
    {
     "name": "stdout",
     "output_type": "stream",
     "text": [
      "So far, so good!\n"
     ]
    }
   ],
   "source": [
    "assert math.isclose(abs(pearson_corr_normal - pearson_corr_outlier), 0.158, \\\n",
    "                    abs_tol=.001), \"The Pearson correlation seems to be off. \"\\\n",
    "                    \"You should see some change between the two datasets.\"\n",
    "assert math.isclose(abs(spearman_corr_normal - spearman_corr_outlier), 0.058, \\\n",
    "                    abs_tol=.001), \"The Spearman correlation seems to be off.\"\\\n",
    "                    \" You should see almost no change between the two \"\\\n",
    "                    \"datasets.\"\n",
    "print(\"So far, so good!\")"
   ]
  },
  {
   "cell_type": "markdown",
   "id": "271d427c",
   "metadata": {
    "deletable": false,
    "editable": false,
    "nbgrader": {
     "grade": false,
     "grade_id": "cell-2bc34627ac495f9d",
     "locked": true,
     "schema_version": 3,
     "solution": false,
     "task": false
    }
   },
   "source": [
    "## 2.3 What to use when you have outliers?\n",
    "\n",
    "So, unsurprisingly, the higher the dads are, the higher the sons: a positive correlation. But, as you can see, having outliers may hugely affect your analysis. Then, when dealing with a dataset with outliers, which correlation methodology should you use?\n",
    "\n",
    "    A. Pearson.\n",
    "\n",
    "    B. Spearman.\n",
    "\n",
    "Write the letter corresponding to your chosen answer as a text string into the variable ex3_answer below."
   ]
  },
  {
   "cell_type": "code",
   "execution_count": 22,
   "id": "ca4cf9bb",
   "metadata": {
    "ExecuteTime": {
     "end_time": "2023-11-26T22:57:21.683421Z",
     "start_time": "2023-11-26T22:57:21.677808Z"
    },
    "deletable": false,
    "nbgrader": {
     "grade": false,
     "grade_id": "cell-2606c61a466aefd2",
     "locked": false,
     "schema_version": 3,
     "solution": true,
     "task": false
    }
   },
   "outputs": [],
   "source": [
    "# ex3_answer = \"Z\"\n",
    "# YOUR CODE HERE\n",
    "ex3_answer = \"B\""
   ]
  },
  {
   "cell_type": "code",
   "execution_count": 23,
   "id": "f0948918",
   "metadata": {
    "ExecuteTime": {
     "end_time": "2023-11-26T22:57:22.293467Z",
     "start_time": "2023-11-26T22:57:22.285331Z"
    },
    "deletable": false,
    "editable": false,
    "nbgrader": {
     "grade": true,
     "grade_id": "cell-128352ee79915777",
     "locked": true,
     "points": 2,
     "schema_version": 3,
     "solution": false,
     "task": false
    }
   },
   "outputs": [
    {
     "name": "stdout",
     "output_type": "stream",
     "text": [
      "Nice! Now you can avoid the data disruption caused by the longest or shortest man ever alive!\n"
     ]
    }
   ],
   "source": [
    "assert hash_answer(ex3_answer.lower()) == \"3e23e8160039594a33894f6564e1b1348b\"\\\n",
    "    \"bd7a0088d42c4acb73eeaed59c009d\", \"Wrong choice. Look at the changes in \"\\\n",
    "    \"the correlations in the bar graphs.\"\n",
    "print(\"Nice! Now you can avoid the data disruption caused by the longest or \"\\\n",
    "      \"shortest man ever alive!\")"
   ]
  },
  {
   "cell_type": "markdown",
   "id": "0ab86c27",
   "metadata": {
    "deletable": false,
    "editable": false,
    "nbgrader": {
     "grade": false,
     "grade_id": "cell-81ccd229c0bd96ff",
     "locked": true,
     "schema_version": 3,
     "solution": false,
     "task": false
    }
   },
   "source": [
    "# Exercise 3: Interest in health issues \n",
    "\n",
    "This health search dataset includes an index of volumes of searches for various common medical topics throughout an assortment of areas in the United States. The data covers the period 2004. source: https://www.searching-for-health.com/\n",
    "\n",
    "Explore the dataset provided below:\n",
    "\n",
    "- Hint 1: you can use display (<name of df>) to force it to pretty print.\n",
    "- Hint 2: use the heatmap of the correlation matrix that we used in the learning notebooks.\n",
    "- Hint 3: you may want to import something to help with the visualization.\n",
    "- Hint 4: you can either paste the answers or use a purely programmatic solution."
   ]
  },
  {
   "cell_type": "code",
   "execution_count": 24,
   "id": "a470a508",
   "metadata": {
    "ExecuteTime": {
     "end_time": "2023-11-26T22:58:18.972755Z",
     "start_time": "2023-11-26T22:58:18.953465Z"
    },
    "deletable": false,
    "editable": false,
    "nbgrader": {
     "grade": false,
     "grade_id": "cell-3658f33fec0c9638",
     "locked": true,
     "schema_version": 3,
     "solution": false,
     "task": false
    }
   },
   "outputs": [
    {
     "data": {
      "text/html": [
       "<div>\n",
       "<style scoped>\n",
       "    .dataframe tbody tr th:only-of-type {\n",
       "        vertical-align: middle;\n",
       "    }\n",
       "\n",
       "    .dataframe tbody tr th {\n",
       "        vertical-align: top;\n",
       "    }\n",
       "\n",
       "    .dataframe thead th {\n",
       "        text-align: right;\n",
       "    }\n",
       "</style>\n",
       "<table border=\"1\" class=\"dataframe\">\n",
       "  <thead>\n",
       "    <tr style=\"text-align: right;\">\n",
       "      <th></th>\n",
       "      <th>cancer</th>\n",
       "      <th>cardiovascular</th>\n",
       "      <th>stroke</th>\n",
       "      <th>depression</th>\n",
       "      <th>rehab</th>\n",
       "      <th>vaccine</th>\n",
       "      <th>diarrhea</th>\n",
       "      <th>obesity</th>\n",
       "      <th>diabetes</th>\n",
       "    </tr>\n",
       "  </thead>\n",
       "  <tbody>\n",
       "    <tr>\n",
       "      <th>0</th>\n",
       "      <td>44</td>\n",
       "      <td>6</td>\n",
       "      <td>17</td>\n",
       "      <td>39</td>\n",
       "      <td>21</td>\n",
       "      <td>31</td>\n",
       "      <td>14</td>\n",
       "      <td>29</td>\n",
       "      <td>38</td>\n",
       "    </tr>\n",
       "    <tr>\n",
       "      <th>1</th>\n",
       "      <td>47</td>\n",
       "      <td>6</td>\n",
       "      <td>13</td>\n",
       "      <td>38</td>\n",
       "      <td>16</td>\n",
       "      <td>33</td>\n",
       "      <td>12</td>\n",
       "      <td>27</td>\n",
       "      <td>32</td>\n",
       "    </tr>\n",
       "    <tr>\n",
       "      <th>2</th>\n",
       "      <td>48</td>\n",
       "      <td>3</td>\n",
       "      <td>16</td>\n",
       "      <td>50</td>\n",
       "      <td>12</td>\n",
       "      <td>37</td>\n",
       "      <td>24</td>\n",
       "      <td>31</td>\n",
       "      <td>37</td>\n",
       "    </tr>\n",
       "    <tr>\n",
       "      <th>3</th>\n",
       "      <td>44</td>\n",
       "      <td>14</td>\n",
       "      <td>14</td>\n",
       "      <td>37</td>\n",
       "      <td>19</td>\n",
       "      <td>49</td>\n",
       "      <td>14</td>\n",
       "      <td>29</td>\n",
       "      <td>31</td>\n",
       "    </tr>\n",
       "    <tr>\n",
       "      <th>4</th>\n",
       "      <td>52</td>\n",
       "      <td>7</td>\n",
       "      <td>16</td>\n",
       "      <td>41</td>\n",
       "      <td>23</td>\n",
       "      <td>36</td>\n",
       "      <td>14</td>\n",
       "      <td>30</td>\n",
       "      <td>37</td>\n",
       "    </tr>\n",
       "  </tbody>\n",
       "</table>\n",
       "</div>"
      ],
      "text/plain": [
       "   cancer  cardiovascular  stroke  depression  rehab  vaccine  diarrhea  \\\n",
       "0      44               6      17          39     21       31        14   \n",
       "1      47               6      13          38     16       33        12   \n",
       "2      48               3      16          50     12       37        24   \n",
       "3      44              14      14          37     19       49        14   \n",
       "4      52               7      16          41     23       36        14   \n",
       "\n",
       "   obesity  diabetes  \n",
       "0       29        38  \n",
       "1       27        32  \n",
       "2       31        37  \n",
       "3       29        31  \n",
       "4       30        37  "
      ]
     },
     "execution_count": 24,
     "metadata": {},
     "output_type": "execute_result"
    }
   ],
   "source": [
    "health = pd.read_csv('data/health_issue.csv')\n",
    "health.head()"
   ]
  },
  {
   "cell_type": "code",
   "execution_count": 30,
   "id": "31b40e84",
   "metadata": {
    "ExecuteTime": {
     "end_time": "2023-11-26T23:02:12.302892Z",
     "start_time": "2023-11-26T23:02:11.654989Z"
    }
   },
   "outputs": [
    {
     "data": {
      "text/plain": [
       "<Axes: >"
      ]
     },
     "execution_count": 30,
     "metadata": {},
     "output_type": "execute_result"
    },
    {
     "data": {
      "image/png": "[encoded data removed]",
      "text/plain": [
       "<Figure size 640x480 with 2 Axes>"
      ]
     },
     "metadata": {},
     "output_type": "display_data"
    }
   ],
   "source": [
    "sns.heatmap(health.corr(), annot=True, cmap='RdBu_r')"
   ]
  },
  {
   "cell_type": "code",
   "execution_count": 51,
   "id": "31951e72",
   "metadata": {
    "ExecuteTime": {
     "end_time": "2023-11-26T23:13:55.574883Z",
     "start_time": "2023-11-26T23:13:55.548993Z"
    },
    "deletable": false,
    "nbgrader": {
     "grade": false,
     "grade_id": "cell-de93d4d0cdd64286",
     "locked": false,
     "schema_version": 3,
     "solution": true,
     "task": false
    }
   },
   "outputs": [
    {
     "data": {
      "text/plain": [
       "['cardiovascular', 'rehab']"
      ]
     },
     "execution_count": 51,
     "metadata": {},
     "output_type": "execute_result"
    }
   ],
   "source": [
    "# Q1: What is the pair of health issues with the most negative Pearson \n",
    "#   correlation? \n",
    "# just getting the correlation matrix again \n",
    "cor_mat = health.corr()\n",
    "\n",
    "# Bit of crazy numpy. We are getting the triangular matrix \n",
    "# the same size as our correlation matrix, with just Trues and \n",
    "# Falses, to then use in a mask. (you can just copy paste this though) \n",
    "lower_triangle_mask = np.triu(np.ones(cor_mat.shape)).astype(bool)\n",
    "\n",
    "# Now mask the correlation matrix, keeping only the lower triangle \n",
    "cor_mat_lower = cor_mat.mask(lower_triangle_mask)\n",
    "\n",
    "\n",
    "cor_mat_lower_unstacked = cor_mat_lower.unstack().dropna()\n",
    "cor_mat_lower_unstacked.nsmallest(1)\n",
    "\n",
    "list(cor_mat_lower_unstacked.nsmallest(1).index[0])"
   ]
  },
  {
   "cell_type": "code",
   "execution_count": 55,
   "id": "3bde9e2b",
   "metadata": {
    "ExecuteTime": {
     "end_time": "2023-11-26T23:23:56.099154Z",
     "start_time": "2023-11-26T23:23:56.085069Z"
    }
   },
   "outputs": [
    {
     "data": {
      "text/plain": [
       "cardiovascular  diarrhea      0.500353\n",
       "stroke          diabetes      0.485562\n",
       "                depression    0.337162\n",
       "depression      diabetes      0.334501\n",
       "cardiovascular  diabetes      0.317098\n",
       "cancer          depression    0.285365\n",
       "dtype: float64"
      ]
     },
     "execution_count": 55,
     "metadata": {},
     "output_type": "execute_result"
    }
   ],
   "source": [
    "cor_mat_lower_unstacked.nlargest(6)"
   ]
  },
  {
   "cell_type": "code",
   "execution_count": 53,
   "id": "f1d7183b",
   "metadata": {
    "ExecuteTime": {
     "end_time": "2023-11-26T23:20:22.314104Z",
     "start_time": "2023-11-26T23:20:22.302462Z"
    }
   },
   "outputs": [
    {
     "data": {
      "text/plain": [
       "'stroke'"
      ]
     },
     "execution_count": 53,
     "metadata": {},
     "output_type": "execute_result"
    }
   ],
   "source": [
    "# # Q2: What is the health issue with the most negative Pearson  \n",
    "#   correlation with Obesity?\n",
    "cor_mat = health.corr()\n",
    "\n",
    "identity_matrix = np.identity(cor_mat.shape[0]).astype(bool)  # diagonal only \n",
    "corr_mat_without_diagonal = cor_mat.mask(identity_matrix)\n",
    "\n",
    "# getting the obesity row is now trivial: \n",
    "obesity_corrs = corr_mat_without_diagonal.loc['obesity']\n",
    "\n",
    "\n",
    "strongest_negative_correlating_feature = obesity_corrs.idxmin()\n",
    "amount_of_that_correlation = obesity_corrs.min()\n",
    "\n",
    "strongest_negative_correlating_feature\n"
   ]
  },
  {
   "cell_type": "code",
   "execution_count": 56,
   "id": "a87473c1",
   "metadata": {
    "ExecuteTime": {
     "end_time": "2023-11-26T23:25:08.201422Z",
     "start_time": "2023-11-26T23:25:08.188842Z"
    },
    "deletable": false,
    "nbgrader": {
     "grade": false,
     "grade_id": "cell-d42ffaeb50ad744e",
     "locked": false,
     "schema_version": 3,
     "solution": true,
     "task": false
    }
   },
   "outputs": [],
   "source": [
    "# Complete the following questions \n",
    "\n",
    "# Q1: What is the pair of health issues with the most negative Pearson \n",
    "#   correlation? \n",
    "# (pass the answer as a list, and remember, you can just type it in, no \n",
    "#   fancy Pandas needed) \n",
    "# YOUR CODE HERE\n",
    "health_pair_with_lowest_pearson_corr = list(cor_mat_lower_unstacked.nsmallest(1).index[0])\n",
    "\n",
    "\n",
    "\n",
    "# # Q2: What is the health issue with the most negative Pearson  \n",
    "#   correlation with Obesity?\n",
    "# health_rank_pearson_corr_with_obesity = ... \n",
    "# YOUR CODE HERE\n",
    "health_rank_pearson_corr_with_obesity = strongest_negative_correlating_feature\n",
    "\n",
    "# Q3: What is the Spearman correlation between vaccine and stroke? \n",
    "#   (answer is a float, round it to two decimal places)\n",
    "spearman_corr_between_vaccine_and_stroke = round(health['vaccine'].corr(health['stroke'], method='spearman'),2) \n",
    "# YOUR CODE HERE\n",
    "\n",
    "\n",
    "# Q4: Observe the top 6 Pearson correlation pairs, and then look at the \n",
    "#   general correlation matrix.\n",
    "# Which health issue seems to be the most correlated to other health \n",
    "#   issues making it a possible confounding variable?\n",
    "# possible_confounding_variable = \n",
    "# YOUR CODE HERE\n",
    "possible_confounding_variable = 'diabetes'"
   ]
  },
  {
   "cell_type": "code",
   "execution_count": 57,
   "id": "ba807fa9",
   "metadata": {
    "ExecuteTime": {
     "end_time": "2023-11-26T23:25:09.366755Z",
     "start_time": "2023-11-26T23:25:09.357482Z"
    },
    "deletable": false,
    "editable": false,
    "nbgrader": {
     "grade": true,
     "grade_id": "cell-3215d77226d787e2",
     "locked": true,
     "points": 4,
     "schema_version": 3,
     "solution": false,
     "task": false
    }
   },
   "outputs": [
    {
     "name": "stdout",
     "output_type": "stream",
     "text": [
      "You got it!\n"
     ]
    }
   ],
   "source": [
    "\n",
    "assert hash_answer(sorted(health_pair_with_lowest_pearson_corr)[0].lower()) \\\n",
    "    == \"4bb237c1191f109fd0899e69bf015cae2920af32588512a5def831d74e263b41\", \\\n",
    "    \"That is not the pair with the lowest pearson correlation.\"\n",
    "assert hash_answer(sorted(health_pair_with_lowest_pearson_corr)[1].lower()) \\\n",
    "    == \"939bb889c999330525d525d62ad19cdd352928d1d79e9bddc2f88033220675c3\", \\\n",
    "    \"That is not the pair with the lowest pearson correlation.\"\n",
    "assert hash_answer(health_rank_pearson_corr_with_obesity.lower()) == \\\n",
    "    \"1ba7573640bbbb13a9e25d5b6946b560307af27e6c9cd040840583b186d280b5\", \\\n",
    "    \"That is not it\"\n",
    "assert math.isclose(spearman_corr_between_vaccine_and_stroke, 0.19, \\\n",
    "                    abs_tol=0.01), \"Wrong spearman correlation value between \"\\\n",
    "                    \"vaccine and stroke.\"\n",
    "assert hash_answer(possible_confounding_variable.lower()) == \\\n",
    "    \"6a5d28d69b8b05a62caeaf6e6908402d26edf8fd2935e55ba687cbcf205ddc2f\", \\\n",
    "    \"Let's check again\"\n",
    "\n",
    "print(\"You got it!\")\n"
   ]
  },
  {
   "cell_type": "markdown",
   "id": "b5b92dc2",
   "metadata": {
    "deletable": false,
    "editable": false,
    "nbgrader": {
     "grade": false,
     "grade_id": "cell-afac71313cf11768",
     "locked": true,
     "schema_version": 3,
     "solution": false,
     "task": false
    }
   },
   "source": [
    "# Exercise 4: lots of stocks\n",
    "You were hired by a hedge fund, because money. \n",
    "\n",
    "On the first day, your boss, Greedy McRiskyface asked you to select one stock pair so that he can short one and long the other.\n",
    "\n",
    "> NOTE: If an investor wants to short (sell) one stock and long (buy) another it means he expects the prices to move in **oposite directions!** This aspect will help you understand which correlation extreme you're expected to find.\n",
    "\n",
    "If you select the best possible pair (use Pearson) you get a raise!\n",
    "\n",
    "The answer should be (1) the two stocks, as a list and (2) their Pearson correlation, as a float. "
   ]
  },
  {
   "cell_type": "code",
   "execution_count": 58,
   "id": "062f5862",
   "metadata": {
    "ExecuteTime": {
     "end_time": "2023-11-26T23:26:27.922386Z",
     "start_time": "2023-11-26T23:26:27.825795Z"
    },
    "deletable": false,
    "editable": false,
    "nbgrader": {
     "grade": false,
     "grade_id": "cell-f778af17111daca0",
     "locked": true,
     "schema_version": 3,
     "solution": false,
     "task": false
    }
   },
   "outputs": [],
   "source": [
    "stock_data = utils.get_stocks_data_2()"
   ]
  },
  {
   "cell_type": "code",
   "execution_count": 59,
   "id": "c8cd113c",
   "metadata": {
    "ExecuteTime": {
     "end_time": "2023-11-26T23:26:37.860991Z",
     "start_time": "2023-11-26T23:26:37.807494Z"
    }
   },
   "outputs": [
    {
     "data": {
      "text/html": [
       "<div>\n",
       "<style scoped>\n",
       "    .dataframe tbody tr th:only-of-type {\n",
       "        vertical-align: middle;\n",
       "    }\n",
       "\n",
       "    .dataframe tbody tr th {\n",
       "        vertical-align: top;\n",
       "    }\n",
       "\n",
       "    .dataframe thead th {\n",
       "        text-align: right;\n",
       "    }\n",
       "</style>\n",
       "<table border=\"1\" class=\"dataframe\">\n",
       "  <thead>\n",
       "    <tr style=\"text-align: right;\">\n",
       "      <th></th>\n",
       "      <th>LJA</th>\n",
       "      <th>VDG</th>\n",
       "      <th>BBM</th>\n",
       "      <th>LNK</th>\n",
       "      <th>QEX</th>\n",
       "      <th>MTD</th>\n",
       "      <th>RLL</th>\n",
       "      <th>XBZ</th>\n",
       "      <th>UVL</th>\n",
       "      <th>WGS</th>\n",
       "      <th>...</th>\n",
       "      <th>XTE</th>\n",
       "      <th>MCF</th>\n",
       "      <th>MEB</th>\n",
       "      <th>RGT</th>\n",
       "      <th>NFL</th>\n",
       "      <th>DPY</th>\n",
       "      <th>AOV</th>\n",
       "      <th>IOD</th>\n",
       "      <th>IMM</th>\n",
       "      <th>CTA</th>\n",
       "    </tr>\n",
       "  </thead>\n",
       "  <tbody>\n",
       "    <tr>\n",
       "      <th>2018-01-01</th>\n",
       "      <td>9.803844</td>\n",
       "      <td>1.725104</td>\n",
       "      <td>14.254243</td>\n",
       "      <td>7.232871</td>\n",
       "      <td>13.087118</td>\n",
       "      <td>3.184990</td>\n",
       "      <td>0.610644</td>\n",
       "      <td>5.957917</td>\n",
       "      <td>3.496983</td>\n",
       "      <td>12.626111</td>\n",
       "      <td>...</td>\n",
       "      <td>13.658227</td>\n",
       "      <td>8.736232</td>\n",
       "      <td>13.012602</td>\n",
       "      <td>7.835670</td>\n",
       "      <td>14.743409</td>\n",
       "      <td>14.348503</td>\n",
       "      <td>1.876495</td>\n",
       "      <td>7.587784</td>\n",
       "      <td>3.619850</td>\n",
       "      <td>14.569473</td>\n",
       "    </tr>\n",
       "    <tr>\n",
       "      <th>2018-01-02</th>\n",
       "      <td>2.347938</td>\n",
       "      <td>8.579079</td>\n",
       "      <td>9.492765</td>\n",
       "      <td>3.418111</td>\n",
       "      <td>2.120899</td>\n",
       "      <td>7.097890</td>\n",
       "      <td>4.204465</td>\n",
       "      <td>1.063179</td>\n",
       "      <td>2.957755</td>\n",
       "      <td>2.805289</td>\n",
       "      <td>...</td>\n",
       "      <td>4.229851</td>\n",
       "      <td>14.691193</td>\n",
       "      <td>14.605433</td>\n",
       "      <td>8.399848</td>\n",
       "      <td>13.240564</td>\n",
       "      <td>3.005584</td>\n",
       "      <td>12.908135</td>\n",
       "      <td>10.041376</td>\n",
       "      <td>7.484980</td>\n",
       "      <td>8.193455</td>\n",
       "    </tr>\n",
       "    <tr>\n",
       "      <th>2018-01-03</th>\n",
       "      <td>11.611426</td>\n",
       "      <td>14.672306</td>\n",
       "      <td>2.551748</td>\n",
       "      <td>14.501356</td>\n",
       "      <td>14.963244</td>\n",
       "      <td>14.137359</td>\n",
       "      <td>14.962111</td>\n",
       "      <td>0.893354</td>\n",
       "      <td>0.484938</td>\n",
       "      <td>13.362902</td>\n",
       "      <td>...</td>\n",
       "      <td>11.902079</td>\n",
       "      <td>5.323784</td>\n",
       "      <td>13.023309</td>\n",
       "      <td>7.846701</td>\n",
       "      <td>2.536548</td>\n",
       "      <td>10.799837</td>\n",
       "      <td>10.929938</td>\n",
       "      <td>14.830502</td>\n",
       "      <td>7.880684</td>\n",
       "      <td>0.832521</td>\n",
       "    </tr>\n",
       "    <tr>\n",
       "      <th>2018-01-04</th>\n",
       "      <td>10.833609</td>\n",
       "      <td>11.033981</td>\n",
       "      <td>13.094109</td>\n",
       "      <td>1.736075</td>\n",
       "      <td>5.930236</td>\n",
       "      <td>7.898302</td>\n",
       "      <td>12.051334</td>\n",
       "      <td>3.343707</td>\n",
       "      <td>6.277371</td>\n",
       "      <td>7.971141</td>\n",
       "      <td>...</td>\n",
       "      <td>12.517399</td>\n",
       "      <td>10.864442</td>\n",
       "      <td>13.207647</td>\n",
       "      <td>6.230960</td>\n",
       "      <td>11.700194</td>\n",
       "      <td>1.363189</td>\n",
       "      <td>5.378140</td>\n",
       "      <td>0.941203</td>\n",
       "      <td>5.472675</td>\n",
       "      <td>4.730645</td>\n",
       "    </tr>\n",
       "    <tr>\n",
       "      <th>2018-01-05</th>\n",
       "      <td>13.502135</td>\n",
       "      <td>8.240586</td>\n",
       "      <td>11.100002</td>\n",
       "      <td>13.256499</td>\n",
       "      <td>14.005095</td>\n",
       "      <td>4.328847</td>\n",
       "      <td>6.838013</td>\n",
       "      <td>14.567100</td>\n",
       "      <td>13.741203</td>\n",
       "      <td>1.229671</td>\n",
       "      <td>...</td>\n",
       "      <td>9.522394</td>\n",
       "      <td>2.364496</td>\n",
       "      <td>6.802103</td>\n",
       "      <td>5.453134</td>\n",
       "      <td>14.089296</td>\n",
       "      <td>8.520676</td>\n",
       "      <td>10.873779</td>\n",
       "      <td>1.206582</td>\n",
       "      <td>8.899308</td>\n",
       "      <td>14.092952</td>\n",
       "    </tr>\n",
       "    <tr>\n",
       "      <th>...</th>\n",
       "      <td>...</td>\n",
       "      <td>...</td>\n",
       "      <td>...</td>\n",
       "      <td>...</td>\n",
       "      <td>...</td>\n",
       "      <td>...</td>\n",
       "      <td>...</td>\n",
       "      <td>...</td>\n",
       "      <td>...</td>\n",
       "      <td>...</td>\n",
       "      <td>...</td>\n",
       "      <td>...</td>\n",
       "      <td>...</td>\n",
       "      <td>...</td>\n",
       "      <td>...</td>\n",
       "      <td>...</td>\n",
       "      <td>...</td>\n",
       "      <td>...</td>\n",
       "      <td>...</td>\n",
       "      <td>...</td>\n",
       "      <td>...</td>\n",
       "    </tr>\n",
       "    <tr>\n",
       "      <th>2018-04-06</th>\n",
       "      <td>0.821625</td>\n",
       "      <td>1.283922</td>\n",
       "      <td>12.862283</td>\n",
       "      <td>9.320966</td>\n",
       "      <td>7.336806</td>\n",
       "      <td>7.866854</td>\n",
       "      <td>2.714541</td>\n",
       "      <td>8.915681</td>\n",
       "      <td>2.171763</td>\n",
       "      <td>11.072154</td>\n",
       "      <td>...</td>\n",
       "      <td>6.291427</td>\n",
       "      <td>5.786325</td>\n",
       "      <td>5.604135</td>\n",
       "      <td>7.524384</td>\n",
       "      <td>8.162583</td>\n",
       "      <td>1.724307</td>\n",
       "      <td>2.517145</td>\n",
       "      <td>10.144545</td>\n",
       "      <td>11.924885</td>\n",
       "      <td>7.823461</td>\n",
       "    </tr>\n",
       "    <tr>\n",
       "      <th>2018-04-07</th>\n",
       "      <td>14.805720</td>\n",
       "      <td>1.493098</td>\n",
       "      <td>1.267255</td>\n",
       "      <td>0.011797</td>\n",
       "      <td>4.946610</td>\n",
       "      <td>2.433904</td>\n",
       "      <td>8.840099</td>\n",
       "      <td>5.802329</td>\n",
       "      <td>8.559606</td>\n",
       "      <td>5.534225</td>\n",
       "      <td>...</td>\n",
       "      <td>0.165181</td>\n",
       "      <td>6.625979</td>\n",
       "      <td>12.546966</td>\n",
       "      <td>8.685385</td>\n",
       "      <td>3.629634</td>\n",
       "      <td>13.030938</td>\n",
       "      <td>0.216386</td>\n",
       "      <td>9.798038</td>\n",
       "      <td>5.663330</td>\n",
       "      <td>0.103737</td>\n",
       "    </tr>\n",
       "    <tr>\n",
       "      <th>2018-04-08</th>\n",
       "      <td>4.775899</td>\n",
       "      <td>0.025933</td>\n",
       "      <td>1.490120</td>\n",
       "      <td>8.956195</td>\n",
       "      <td>12.605201</td>\n",
       "      <td>11.950515</td>\n",
       "      <td>0.122632</td>\n",
       "      <td>1.244796</td>\n",
       "      <td>8.040880</td>\n",
       "      <td>0.635488</td>\n",
       "      <td>...</td>\n",
       "      <td>5.058053</td>\n",
       "      <td>12.271881</td>\n",
       "      <td>13.561342</td>\n",
       "      <td>6.723861</td>\n",
       "      <td>4.272069</td>\n",
       "      <td>12.257413</td>\n",
       "      <td>10.344179</td>\n",
       "      <td>7.280465</td>\n",
       "      <td>10.874089</td>\n",
       "      <td>10.791340</td>\n",
       "    </tr>\n",
       "    <tr>\n",
       "      <th>2018-04-09</th>\n",
       "      <td>12.863795</td>\n",
       "      <td>3.759958</td>\n",
       "      <td>7.208372</td>\n",
       "      <td>5.543191</td>\n",
       "      <td>5.649558</td>\n",
       "      <td>3.925147</td>\n",
       "      <td>1.831380</td>\n",
       "      <td>11.296286</td>\n",
       "      <td>14.115163</td>\n",
       "      <td>13.072873</td>\n",
       "      <td>...</td>\n",
       "      <td>3.221422</td>\n",
       "      <td>12.831048</td>\n",
       "      <td>0.431094</td>\n",
       "      <td>6.936425</td>\n",
       "      <td>9.961875</td>\n",
       "      <td>4.901641</td>\n",
       "      <td>8.624900</td>\n",
       "      <td>11.676489</td>\n",
       "      <td>7.292273</td>\n",
       "      <td>14.889290</td>\n",
       "    </tr>\n",
       "    <tr>\n",
       "      <th>2018-04-10</th>\n",
       "      <td>14.326112</td>\n",
       "      <td>6.473688</td>\n",
       "      <td>13.249585</td>\n",
       "      <td>3.246093</td>\n",
       "      <td>7.834703</td>\n",
       "      <td>2.987744</td>\n",
       "      <td>11.620614</td>\n",
       "      <td>4.291116</td>\n",
       "      <td>11.201314</td>\n",
       "      <td>7.892861</td>\n",
       "      <td>...</td>\n",
       "      <td>13.039965</td>\n",
       "      <td>11.500240</td>\n",
       "      <td>13.931103</td>\n",
       "      <td>6.261630</td>\n",
       "      <td>13.537745</td>\n",
       "      <td>1.954725</td>\n",
       "      <td>11.572224</td>\n",
       "      <td>9.290910</td>\n",
       "      <td>6.147678</td>\n",
       "      <td>13.651380</td>\n",
       "    </tr>\n",
       "  </tbody>\n",
       "</table>\n",
       "<p>100 rows × 1000 columns</p>\n",
       "</div>"
      ],
      "text/plain": [
       "                  LJA        VDG        BBM        LNK        QEX        MTD  \\\n",
       "2018-01-01   9.803844   1.725104  14.254243   7.232871  13.087118   3.184990   \n",
       "2018-01-02   2.347938   8.579079   9.492765   3.418111   2.120899   7.097890   \n",
       "2018-01-03  11.611426  14.672306   2.551748  14.501356  14.963244  14.137359   \n",
       "2018-01-04  10.833609  11.033981  13.094109   1.736075   5.930236   7.898302   \n",
       "2018-01-05  13.502135   8.240586  11.100002  13.256499  14.005095   4.328847   \n",
       "...               ...        ...        ...        ...        ...        ...   \n",
       "2018-04-06   0.821625   1.283922  12.862283   9.320966   7.336806   7.866854   \n",
       "2018-04-07  14.805720   1.493098   1.267255   0.011797   4.946610   2.433904   \n",
       "2018-04-08   4.775899   0.025933   1.490120   8.956195  12.605201  11.950515   \n",
       "2018-04-09  12.863795   3.759958   7.208372   5.543191   5.649558   3.925147   \n",
       "2018-04-10  14.326112   6.473688  13.249585   3.246093   7.834703   2.987744   \n",
       "\n",
       "                  RLL        XBZ        UVL        WGS  ...        XTE  \\\n",
       "2018-01-01   0.610644   5.957917   3.496983  12.626111  ...  13.658227   \n",
       "2018-01-02   4.204465   1.063179   2.957755   2.805289  ...   4.229851   \n",
       "2018-01-03  14.962111   0.893354   0.484938  13.362902  ...  11.902079   \n",
       "2018-01-04  12.051334   3.343707   6.277371   7.971141  ...  12.517399   \n",
       "2018-01-05   6.838013  14.567100  13.741203   1.229671  ...   9.522394   \n",
       "...               ...        ...        ...        ...  ...        ...   \n",
       "2018-04-06   2.714541   8.915681   2.171763  11.072154  ...   6.291427   \n",
       "2018-04-07   8.840099   5.802329   8.559606   5.534225  ...   0.165181   \n",
       "2018-04-08   0.122632   1.244796   8.040880   0.635488  ...   5.058053   \n",
       "2018-04-09   1.831380  11.296286  14.115163  13.072873  ...   3.221422   \n",
       "2018-04-10  11.620614   4.291116  11.201314   7.892861  ...  13.039965   \n",
       "\n",
       "                  MCF        MEB       RGT        NFL        DPY        AOV  \\\n",
       "2018-01-01   8.736232  13.012602  7.835670  14.743409  14.348503   1.876495   \n",
       "2018-01-02  14.691193  14.605433  8.399848  13.240564   3.005584  12.908135   \n",
       "2018-01-03   5.323784  13.023309  7.846701   2.536548  10.799837  10.929938   \n",
       "2018-01-04  10.864442  13.207647  6.230960  11.700194   1.363189   5.378140   \n",
       "2018-01-05   2.364496   6.802103  5.453134  14.089296   8.520676  10.873779   \n",
       "...               ...        ...       ...        ...        ...        ...   \n",
       "2018-04-06   5.786325   5.604135  7.524384   8.162583   1.724307   2.517145   \n",
       "2018-04-07   6.625979  12.546966  8.685385   3.629634  13.030938   0.216386   \n",
       "2018-04-08  12.271881  13.561342  6.723861   4.272069  12.257413  10.344179   \n",
       "2018-04-09  12.831048   0.431094  6.936425   9.961875   4.901641   8.624900   \n",
       "2018-04-10  11.500240  13.931103  6.261630  13.537745   1.954725  11.572224   \n",
       "\n",
       "                  IOD        IMM        CTA  \n",
       "2018-01-01   7.587784   3.619850  14.569473  \n",
       "2018-01-02  10.041376   7.484980   8.193455  \n",
       "2018-01-03  14.830502   7.880684   0.832521  \n",
       "2018-01-04   0.941203   5.472675   4.730645  \n",
       "2018-01-05   1.206582   8.899308  14.092952  \n",
       "...               ...        ...        ...  \n",
       "2018-04-06  10.144545  11.924885   7.823461  \n",
       "2018-04-07   9.798038   5.663330   0.103737  \n",
       "2018-04-08   7.280465  10.874089  10.791340  \n",
       "2018-04-09  11.676489   7.292273  14.889290  \n",
       "2018-04-10   9.290910   6.147678  13.651380  \n",
       "\n",
       "[100 rows x 1000 columns]"
      ]
     },
     "execution_count": 59,
     "metadata": {},
     "output_type": "execute_result"
    }
   ],
   "source": [
    "stock_data "
   ]
  },
  {
   "cell_type": "code",
   "execution_count": 60,
   "id": "6e0c6d1d",
   "metadata": {
    "ExecuteTime": {
     "end_time": "2023-11-26T23:29:09.392562Z",
     "start_time": "2023-11-26T23:28:40.194085Z"
    }
   },
   "outputs": [
    {
     "data": {
      "text/plain": [
       "['OJW', 'NBL']"
      ]
     },
     "execution_count": 60,
     "metadata": {},
     "output_type": "execute_result"
    }
   ],
   "source": [
    "cor_mat = stock_data.corr()\n",
    "\n",
    "# Bit of crazy numpy. We are getting the triangular matrix \n",
    "# the same size as our correlation matrix, with just Trues and \n",
    "# Falses, to then use in a mask. (you can just copy paste this though) \n",
    "lower_triangle_mask = np.triu(np.ones(cor_mat.shape)).astype(bool)\n",
    "\n",
    "# Now mask the correlation matrix, keeping only the lower triangle \n",
    "cor_mat_lower = cor_mat.mask(lower_triangle_mask)\n",
    "\n",
    "\n",
    "cor_mat_lower_unstacked = cor_mat_lower.unstack().dropna()\n",
    "cor_mat_lower_unstacked.nsmallest(1)\n",
    "\n",
    "list(cor_mat_lower_unstacked.nsmallest(1).index[0])"
   ]
  },
  {
   "cell_type": "code",
   "execution_count": 64,
   "id": "3f42704a",
   "metadata": {
    "ExecuteTime": {
     "end_time": "2023-11-26T23:31:15.192789Z",
     "start_time": "2023-11-26T23:31:01.561913Z"
    }
   },
   "outputs": [
    {
     "name": "stderr",
     "output_type": "stream",
     "text": [
      "/var/folders/zy/9r4gn9b574gdnv2l9zms0bz40000gn/T/ipykernel_22746/4137006317.py:1: FutureWarning: Series.__getitem__ treating keys as positions is deprecated. In a future version, integer keys will always be treated as labels (consistent with DataFrame behavior). To access a value by position, use `ser.iloc[pos]`\n",
      "  cor_mat_lower_unstacked.nsmallest(1)[0]\n"
     ]
    },
    {
     "data": {
      "text/plain": [
       "-0.4694947400556539"
      ]
     },
     "execution_count": 64,
     "metadata": {},
     "output_type": "execute_result"
    }
   ],
   "source": [
    "cor_mat_lower_unstacked.nsmallest(1).iloc[0]"
   ]
  },
  {
   "cell_type": "code",
   "execution_count": 65,
   "id": "f72bec59",
   "metadata": {
    "ExecuteTime": {
     "end_time": "2023-11-26T23:32:43.304810Z",
     "start_time": "2023-11-26T23:32:16.913893Z"
    },
    "deletable": false,
    "nbgrader": {
     "grade": false,
     "grade_id": "cell-e7e2a0de34acc4b6",
     "locked": false,
     "schema_version": 3,
     "solution": true,
     "task": false
    }
   },
   "outputs": [],
   "source": [
    "most_correlated_pair = list(cor_mat_lower_unstacked.nsmallest(1).index[0]) \n",
    "most_correlated_pair_value = cor_mat_lower_unstacked.nsmallest(1).iloc[0]\n",
    "# YOUR CODE HERE\n"
   ]
  },
  {
   "cell_type": "code",
   "execution_count": 66,
   "id": "21492e06",
   "metadata": {
    "ExecuteTime": {
     "end_time": "2023-11-26T23:32:45.250307Z",
     "start_time": "2023-11-26T23:32:45.240375Z"
    },
    "deletable": false,
    "editable": false,
    "nbgrader": {
     "grade": true,
     "grade_id": "cell-0cf195c80388cd41",
     "locked": true,
     "points": 4,
     "schema_version": 3,
     "solution": false,
     "task": false
    }
   },
   "outputs": [
    {
     "name": "stdout",
     "output_type": "stream",
     "text": [
      "\n",
      "    Ok, first the good news: You got a raise on your first day at the job!!! :)\n",
      "    \n",
      "    And now, the \"not so good\"...\n",
      "    we tricked you, and it was unfair of us.\n",
      "\n",
      "    The reality is that this stock dataset was 100% RANDOM NUMBERS.\n",
      "\n",
      "    The thing to remember is: if you use correlation without knowing the data, you are always going to find \"something\".\n",
      "    A lot of bad data science comes from over trusting the tools without knowing the data.\n",
      "\n",
      "    If you have enough data and dig into it using correlation you will ALWAYS find something\n",
      "    ... even if there is nothing to be found.\n",
      "\n",
      "    Correlation does not equal causality.\n",
      "    And sometimes, it just means you found a signal where there was only noise.\n",
      "\n",
      "    Now go on to the next SLU, and remember the day you modeled random numbers and found good stock picks :)\n",
      "    \n"
     ]
    }
   ],
   "source": [
    "assert isinstance(most_correlated_pair, list), \\\n",
    "    \"the most correlated pair is not a list\"\n",
    "assert len(most_correlated_pair) == 2, \\\n",
    "    \"the length of the most correlated pair list is not 2\"\n",
    "assert math.isclose(most_correlated_pair_value, -0.47, abs_tol=0.001), \\\n",
    "    \"The value is not correct.\"\n",
    "utils.dirty_little_secret()"
   ]
  },
  {
   "cell_type": "code",
   "execution_count": null,
   "id": "2a8c97d0",
   "metadata": {},
   "outputs": [],
   "source": []
  }
 ],
 "metadata": {
  "kernelspec": {
   "display_name": "Python 3 (ipykernel)",
   "language": "python",
   "name": "python3"
  },
  "language_info": {
   "codemirror_mode": {
    "name": "ipython",
    "version": 3
   },
   "file_extension": ".py",
   "mimetype": "text/x-python",
   "name": "python",
   "nbconvert_exporter": "python",
   "pygments_lexer": "ipython3",
   "version": "3.10.6"
  },
  "toc": {
   "base_numbering": 1,
   "nav_menu": {},
   "number_sections": true,
   "sideBar": true,
   "skip_h1_title": false,
   "title_cell": "Table of Contents",
   "title_sidebar": "Contents",
   "toc_cell": false,
   "toc_position": {},
   "toc_section_display": true,
   "toc_window_display": false
  }
 },
 "nbformat": 4,
 "nbformat_minor": 5
}
