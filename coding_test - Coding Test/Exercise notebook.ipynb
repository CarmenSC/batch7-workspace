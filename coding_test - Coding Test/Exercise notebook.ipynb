{
 "cells": [
  {
   "cell_type": "code",
   "execution_count": 1,
   "metadata": {
    "deletable": false,
    "editable": false,
    "nbgrader": {
     "grade": false,
     "grade_id": "cell-528ea9078565a6e1",
     "locked": true,
     "schema_version": 3,
     "solution": false,
     "task": false
    }
   },
   "outputs": [],
   "source": [
    "import csv\n",
    "import numpy as np\n",
    "\n",
    "import inspect\n",
    "import hashlib\n",
    "def _hash(s):\n",
    "    return hashlib.blake2b(bytes(str(s), encoding='utf8'), digest_size=5).hexdigest()"
   ]
  },
  {
   "cell_type": "markdown",
   "metadata": {
    "deletable": false,
    "editable": false,
    "nbgrader": {
     "grade": false,
     "grade_id": "cell-3d902feca785df1d",
     "locked": true,
     "schema_version": 3,
     "solution": false,
     "task": false
    }
   },
   "source": [
    "## Coding test\n",
    "\n",
    "This coding test evaluates your knowledge of Python programming, NumPy, command line usage and git. It is composed of **4 exercises**, some of which are divided in different parts. Note that **each part is evaluated independently**, so if you are stuck or cannot solve a given part, you can move on to the next one."
   ]
  },
  {
   "cell_type": "markdown",
   "metadata": {
    "deletable": false,
    "editable": false,
    "nbgrader": {
     "grade": false,
     "grade_id": "cell-2f73855a3cbbf843",
     "locked": true,
     "schema_version": 3,
     "solution": false,
     "task": false
    }
   },
   "source": [
    "## Exercise 1 (4 points)\n",
    "\n",
    "This exercise is a set of 4 questions, each of which is worth 1 point. The questions are split in two parts."
   ]
  },
  {
   "cell_type": "markdown",
   "metadata": {
    "deletable": false,
    "editable": false,
    "nbgrader": {
     "grade": false,
     "grade_id": "cell-089b4a8d6758eccd",
     "locked": true,
     "schema_version": 3,
     "solution": false,
     "task": false
    }
   },
   "source": [
    "### Part I (questions 1-2)\n",
    "\n",
    "Consider that you are using a Unix-based machine via a terminal with the working directory `/users/ldssa`. The file tree below illustrates the contents and structure of that directory. **Consider these contents to answer Questions 1-2**.\n",
    "\n",
    "\n",
    "```text\n",
    "/users/ldssa\n",
    "├── students.csv\n",
    "├── instructors.csv\n",
    "└── bootcamp\n",
    "    ├── notes.txt\n",
    "    └── learning_units.txt\n",
    "```"
   ]
  },
  {
   "cell_type": "markdown",
   "metadata": {
    "deletable": false,
    "editable": false,
    "nbgrader": {
     "grade": false,
     "grade_id": "cell-4fee136a9be985d7",
     "locked": true,
     "schema_version": 3,
     "solution": false,
     "task": false
    }
   },
   "source": [
    "#### Question 1\n",
    "Consider that you execute the command `cd .`, followed by the command `pwd`. Write the output of the second command in a string in the variable `pwd_output`."
   ]
  },
  {
   "cell_type": "code",
   "execution_count": 2,
   "metadata": {
    "deletable": false,
    "nbgrader": {
     "grade": false,
     "grade_id": "cell-98b6eeed9f5eb544",
     "locked": false,
     "schema_version": 3,
     "solution": true,
     "task": false
    }
   },
   "outputs": [],
   "source": [
    "# YOUR CODE HERE\n",
    "\n",
    "\n",
    "pwd_output = '/users/ldssa'"
   ]
  },
  {
   "cell_type": "code",
   "execution_count": 3,
   "metadata": {
    "deletable": false,
    "editable": false,
    "nbgrader": {
     "grade": true,
     "grade_id": "cell-fc0537e784f81338",
     "locked": true,
     "points": 1,
     "schema_version": 3,
     "solution": false,
     "task": false
    }
   },
   "outputs": [],
   "source": [
    "assert _hash(pwd_output) == \"dfbdb9d70f\", \"Wrong output.\""
   ]
  },
  {
   "cell_type": "markdown",
   "metadata": {
    "deletable": false,
    "editable": false,
    "nbgrader": {
     "grade": false,
     "grade_id": "cell-844accc86543007c",
     "locked": true,
     "schema_version": 3,
     "solution": false,
     "task": false
    }
   },
   "source": [
    "#### Question 2\n",
    "Consider you execute the command `rm students.csv`. How many CSV files exist in `users/ldssa` after you execute the command? Write the answer as an integer in the variable `rm_num_files`."
   ]
  },
  {
   "cell_type": "code",
   "execution_count": 4,
   "metadata": {
    "deletable": false,
    "nbgrader": {
     "grade": false,
     "grade_id": "cell-f75169d418f280ba",
     "locked": false,
     "schema_version": 3,
     "solution": true,
     "task": false
    }
   },
   "outputs": [],
   "source": [
    "# YOUR CODE HERE\n",
    "\n",
    "\n",
    "rm_num_files = '1'"
   ]
  },
  {
   "cell_type": "code",
   "execution_count": 5,
   "metadata": {
    "deletable": false,
    "editable": false,
    "nbgrader": {
     "grade": true,
     "grade_id": "cell-85bec5f4b221daf2",
     "locked": true,
     "points": 1,
     "schema_version": 3,
     "solution": false,
     "task": false
    }
   },
   "outputs": [],
   "source": [
    "assert _hash(rm_num_files) == \"36c76eba33\", \"Wrong number of files.\""
   ]
  },
  {
   "cell_type": "markdown",
   "metadata": {
    "deletable": false,
    "editable": false,
    "nbgrader": {
     "grade": false,
     "grade_id": "cell-60c4bf940afb6ab4",
     "locked": true,
     "schema_version": 3,
     "solution": false,
     "task": false
    }
   },
   "source": [
    "### Part II (questions 3-4)\n",
    "\n",
    "Answer the following questions Python programming."
   ]
  },
  {
   "cell_type": "markdown",
   "metadata": {
    "deletable": false,
    "editable": false,
    "nbgrader": {
     "grade": false,
     "grade_id": "cell-efd153569f17eddc",
     "locked": true,
     "schema_version": 3,
     "solution": false,
     "task": false
    }
   },
   "source": [
    "#### Question 3\n",
    "Create a Python list of 1000 elements, where the $i$th element is $i^2$, i.e. where the first element is $1^2 = 1$, the second element is $2^2 = 4$ and so forth. Assign the result to the variable `squares`."
   ]
  },
  {
   "cell_type": "code",
   "execution_count": 6,
   "metadata": {
    "deletable": false,
    "nbgrader": {
     "grade": false,
     "grade_id": "cell-44e7a38840f54f6c",
     "locked": false,
     "schema_version": 3,
     "solution": true,
     "task": false
    }
   },
   "outputs": [],
   "source": [
    "# YOUR CODE HERE\n",
    "squares = [i**2 for i in range(1,1001)]"
   ]
  },
  {
   "cell_type": "code",
   "execution_count": 7,
   "metadata": {
    "deletable": false,
    "editable": false,
    "nbgrader": {
     "grade": true,
     "grade_id": "cell-8bf55b92d84f193e",
     "locked": true,
     "points": 1,
     "schema_version": 3,
     "solution": false,
     "task": false
    }
   },
   "outputs": [],
   "source": [
    "assert _hash(squares) == \"fcdc82b722\", \"Incorrect list.\""
   ]
  },
  {
   "cell_type": "markdown",
   "metadata": {
    "deletable": false,
    "editable": false,
    "nbgrader": {
     "grade": false,
     "grade_id": "cell-c6c87fce1a31df28",
     "locked": true,
     "schema_version": 3,
     "solution": false,
     "task": false
    }
   },
   "source": [
    "#### Question 4\n",
    "\n",
    "Create a dictionary whose keys are integers 0-6 and the corresponding values are strings with the names of the days of the week, Monday-Sunday (in this order and format). Assign the result to the variable `weekdays`."
   ]
  },
  {
   "cell_type": "code",
   "execution_count": 8,
   "metadata": {
    "deletable": false,
    "nbgrader": {
     "grade": false,
     "grade_id": "cell-8f6345404f52ff67",
     "locked": false,
     "schema_version": 3,
     "solution": true,
     "task": false
    }
   },
   "outputs": [],
   "source": [
    "# YOUR CODE HERE\n",
    "weekdays = {0:\"Monday\", 1:\"Tuesday\", 2:\"Wednesday\", 3:\"Thursday\" , 4:\"Friday\" , 5:\"Saturday\" , 6:\"Sunday\"}"
   ]
  },
  {
   "cell_type": "code",
   "execution_count": 9,
   "metadata": {
    "deletable": false,
    "editable": false,
    "nbgrader": {
     "grade": true,
     "grade_id": "cell-759190bc980b5bd5",
     "locked": true,
     "points": 1,
     "schema_version": 3,
     "solution": false,
     "task": false
    }
   },
   "outputs": [],
   "source": [
    "assert _hash(weekdays) == \"8f1a6ff1f0\", \"Incorrect dictionary.\""
   ]
  },
  {
   "cell_type": "markdown",
   "metadata": {
    "deletable": false,
    "editable": false,
    "nbgrader": {
     "grade": false,
     "grade_id": "cell-bc7df0ba9c5df93a",
     "locked": true,
     "schema_version": 3,
     "solution": false,
     "task": false
    }
   },
   "source": [
    "## Exercise 2\n",
    "\n",
    "Consider a csv file that stores information about the European population. This file has five columns:\n",
    "* `contry_name`: the name of the country;\n",
    "* `population`: the population of the country;\n",
    "* `female_fraction`: the fraction of female population in the country;\n",
    "* `male_life_expectancy`: the life expectancy of male individuals in the country;\n",
    "* `female_life_expectancy`: the life expectancy of female individuals in the country;\n",
    "* `birth_rate`: the birth rate in the country, i.e. total number of births per 1000 individuals per year.\n",
    "* `death_rate`: the death rate in the country, i.e. total number of deaths per 1000 individuals per year. \n",
    "\n",
    "The file `europe_population.csv` is an example of such a file and was included in the zip file you downloaded with this notebook."
   ]
  },
  {
   "cell_type": "markdown",
   "metadata": {
    "deletable": false,
    "editable": false,
    "nbgrader": {
     "grade": false,
     "grade_id": "cell-8589bdd23fda251c",
     "locked": true,
     "schema_version": 3,
     "solution": false,
     "task": false
    }
   },
   "source": [
    "### Part I (2 points)\n",
    "\n",
    "Implement a function that reads a file with the same format as the `europe_population.csv` file, and stores the data in a list of dictionaries with the following structure:\n",
    "\n",
    "```\n",
    "[\n",
    "    {\n",
    "        \"name\": name of the country (type: str),\n",
    "        \"population\": the population of the country (type: int),\n",
    "        \"female_fraction\": the fraction of female population (type: float),\n",
    "        \"male_life_expectancy\": male life expectancy (type: float),\n",
    "        \"female_life_expectancy\": female life expectancy (type: float),\n",
    "        \"birth_rate\": birth rate (type: float),\n",
    "        \"death_rate\": death rate (type: float),\n",
    "    },\n",
    "]\n",
    "\n",
    "```\n",
    "\n",
    "The function should:\n",
    "1. be called `read_population_data`;\n",
    "2. receive an argument called `file_path`, the path to the file that the function should read the data from;\n",
    "3. read data from each country in the format specified above;\n",
    "4. return the list that was created.\n",
    "\n",
    "Remember to inspect the contents of the file before writing the function, as it may contain header information that should be skipped.\n",
    "\n",
    "To read the csv file, you shall use Python's [`csv`](https://docs.python.org/3/library/csv.html) module, which we already imported at the top of the Notebook. **Do not use [pandas](https://pandas.pydata.org/) or any other library not included in the coding test requirements file**."
   ]
  },
  {
   "cell_type": "code",
   "execution_count": 10,
   "metadata": {
    "deletable": false,
    "nbgrader": {
     "grade": false,
     "grade_id": "cell-622c6adc26159244",
     "locked": false,
     "schema_version": 3,
     "solution": true,
     "task": false
    }
   },
   "outputs": [],
   "source": [
    "def read_population_data(file_path):\n",
    "    \"\"\"\n",
    "    Reads the file in file_path, parses it and returns the data in a list of dictionaries.\n",
    "\n",
    "    Parameters:\n",
    "    file_path (str): Path to the input file to be parsed.\n",
    "\n",
    "    Returns:\n",
    "    countries_parsed_data (list): Countries dataset stored as a list of dictionaries.\n",
    "    \"\"\"\n",
    "    \n",
    "    data = []\n",
    "    \n",
    "    # Open the file and read its contents\n",
    "    with open(file_path, 'r') as file:\n",
    "        reader = csv.reader(file)\n",
    "        \n",
    "        # Skip the header\n",
    "        next(reader)\n",
    "        \n",
    "        # For each row in the CSV, create a dictionary and add it to the data list\n",
    "        for row in reader:\n",
    "            country_data = {\n",
    "                \"name\": row[0],\n",
    "                \"population\": int(row[1]),\n",
    "                \"female_fraction\": float(row[2]),\n",
    "                \"male_life_expectancy\": float(row[3]),\n",
    "                \"female_life_expectancy\": float(row[4]),\n",
    "                \"birth_rate\": float(row[5]),\n",
    "                \"death_rate\": float(row[6]),\n",
    "            }\n",
    "            data.append(country_data)\n",
    "    \n",
    "    return data\n",
    "\n",
    "\n",
    "\n",
    "    "
   ]
  },
  {
   "cell_type": "code",
   "execution_count": 11,
   "metadata": {
    "deletable": false,
    "editable": false,
    "nbgrader": {
     "grade": true,
     "grade_id": "cell-6c24a4ad6f30ce55",
     "locked": true,
     "points": 2,
     "schema_version": 3,
     "solution": false,
     "task": false
    }
   },
   "outputs": [],
   "source": [
    "population_data = read_population_data(\"europe_population.csv\")\n",
    "\n",
    "assert isinstance(population_data, list)\n",
    "assert all(isinstance(country_data, dict) for country_data in population_data)\n",
    "assert len(population_data) == 8\n",
    "\n",
    "country_data = population_data[4]\n",
    "assert country_data[\"name\"] == \"Portugal\"\n",
    "assert isinstance(country_data[\"population\"], int)\n",
    "assert country_data[\"population\"] == 10297000\n",
    "assert country_data[\"female_fraction\"] == 0.5282\n",
    "assert country_data[\"male_life_expectancy\"] == 78.0\n",
    "assert country_data[\"female_life_expectancy\"] == 84.1\n",
    "assert country_data[\"birth_rate\"] == 8.2\n",
    "assert country_data[\"death_rate\"] == 12.0\n",
    "\n",
    "from more_tests import test_exercise_2_part_I\n",
    "test_exercise_2_part_I(read_population_data)"
   ]
  },
  {
   "cell_type": "markdown",
   "metadata": {
    "deletable": false,
    "editable": false,
    "nbgrader": {
     "grade": false,
     "grade_id": "cell-84df9405332848ae",
     "locked": true,
     "schema_version": 3,
     "solution": false,
     "task": false
    }
   },
   "source": [
    "### Part II a (2 points)\n",
    "\n",
    "Consider now that we want to use our dataset to answer some questions about the European population, for example \"which countries have an average life expectancy larger than X?\".\n",
    "\n",
    "To answer this question, we note that the average life expectancy can be approximated by the weighted average of the male and female life expectancies, where the weights in the average are the fraction of male and female individuals in the population, respectively. In other words, the average life expectancy is given by `female_fraction * female_life_expectancy + (1 - female_fraction) * male_life_expectancy`.\n",
    "\n",
    "Implement a function called `average_life_expectancy_larger_than` that:\n",
    "1. receives as input a list like the one created in Part I of this exercise and a value for threshold X;\n",
    "2. computes the average life expectancy for each country in the list;\n",
    "3. determines which countries have an average life expectancy larger than the provided threshold;\n",
    "4. returns a list of dictionaries with the same format as the one created in Part I of this exercise with only the countries with a average life expectancy larger than the provided threshold."
   ]
  },
  {
   "cell_type": "code",
   "execution_count": 12,
   "metadata": {
    "deletable": false,
    "nbgrader": {
     "grade": false,
     "grade_id": "cell-7854488ee93d67b6",
     "locked": false,
     "schema_version": 3,
     "solution": true,
     "task": false
    }
   },
   "outputs": [],
   "source": [
    "def average_life_expectancy_larger_than(countries_data, threshold):\n",
    "    \"\"\"\n",
    "    Determines the countries with an average life expectancy larger than a given threshold.\n",
    "\n",
    "    Parameters:\n",
    "    countries_data (list): List with the countries dataset.\n",
    "    threshold (float): Threshold.\n",
    "\n",
    "    Returns:\n",
    "    valid_countries_data (list): List with the countries whose average life expectancy is larger than the threshold.\n",
    "    \"\"\"\n",
    "    result_list = []\n",
    "    # YOUR CODE HERE\n",
    "    \n",
    "    for i in range(len(countries_data)):\n",
    "        life_exp = countries_data[i][\"female_fraction\"] * countries_data[i]['female_life_expectancy'] + (1 - countries_data[i]['female_fraction']) * countries_data[i]['male_life_expectancy']\n",
    "        if life_exp > threshold:\n",
    "            result_list.append(countries_data[i])\n",
    "            \n",
    "    return result_list\n",
    "    \n",
    "\n",
    "        \n",
    "    "
   ]
  },
  {
   "cell_type": "code",
   "execution_count": 13,
   "metadata": {
    "deletable": false,
    "editable": false,
    "nbgrader": {
     "grade": true,
     "grade_id": "cell-56eb4a74f3544d03",
     "locked": true,
     "points": 2,
     "schema_version": 3,
     "solution": false,
     "task": false
    }
   },
   "outputs": [],
   "source": [
    "population_data = [\n",
    "    {\"name\": \"Austria\", \"population\": 8917000, \"female_fraction\": 0.5077, \"male_life_expectancy\": 78.9, \"female_life_expectancy\": 83.6, \"birth_rate\": 9.4, \"death_rate\": 10.3},\n",
    "    {\"name\": \"Belgium\", \"population\": 11544000, \"female_fraction\": 0.5059, \"male_life_expectancy\": 78.6, \"female_life_expectancy\": 83.1, \"birth_rate\": 9.9, \"death_rate\": 11.0},\n",
    "    {\"name\": \"France\", \"population\": 67380000, \"female_fraction\": 0.5167, \"male_life_expectancy\": 79.2, \"female_life_expectancy\": 85.3, \"birth_rate\": 10.9, \"death_rate\": 9.9},\n",
    "]\n",
    "\n",
    "valid_countries_data = average_life_expectancy_larger_than(population_data, 81.0)\n",
    "\n",
    "assert isinstance(valid_countries_data, list)\n",
    "assert len(valid_countries_data) == 2\n",
    "\n",
    "for country_name in [\"Austria\", \"France\"]:\n",
    "    assert country_name in [country_data[\"name\"] for country_data in valid_countries_data]\n",
    "\n",
    "empty_countries_data = average_life_expectancy_larger_than(population_data, 85.0)\n",
    "\n",
    "assert isinstance(empty_countries_data, list)\n",
    "assert len(empty_countries_data) == 0\n",
    "\n",
    "all_countries_data = average_life_expectancy_larger_than(population_data, 0)\n",
    "\n",
    "assert isinstance(all_countries_data, list)\n",
    "assert len(all_countries_data) == len(population_data)"
   ]
  },
  {
   "cell_type": "markdown",
   "metadata": {
    "deletable": false,
    "editable": false,
    "nbgrader": {
     "grade": false,
     "grade_id": "cell-3c64c6b238378ed5",
     "locked": true,
     "schema_version": 3,
     "solution": false,
     "task": false
    }
   },
   "source": [
    "### Part II b (2 points)\n",
    "\n",
    "Consider now that you want to estimate the difference in a country's population in a year, given its current population and birth and death rates. The population difference in a year can be estimated by using the formula `population * (birth_rate - death_rate) / 1000`, given that the birth and death rates are given in number of births and deaths per 1000 individuals per year.\n",
    "\n",
    "Create a function called `estimate_population_difference` that computes that difference for a country with a given name. If the country is not in the list, the function should return `None`.\n",
    "\n",
    "\n",
    "This function should:\n",
    "1. receive as input a list like the one we created in Part II a of this exercise and the name of the country for which to estimate the population difference;\n",
    "2. return the estimate of the population difference of that country as an integer."
   ]
  },
  {
   "cell_type": "code",
   "execution_count": 14,
   "metadata": {
    "deletable": false,
    "nbgrader": {
     "grade": false,
     "grade_id": "cell-909dc68555453eea",
     "locked": false,
     "schema_version": 3,
     "solution": true,
     "task": false
    }
   },
   "outputs": [],
   "source": [
    "def estimate_population_difference(countries_data, country_name):\n",
    "    \"\"\"\n",
    "    Estimates the population difference for a given country.\n",
    "\n",
    "    Parameters:\n",
    "    countries_data (list): List with the countries dataset.\n",
    "    country_name (str): Name of the country to estimate the population difference for.\n",
    "\n",
    "    Returns:\n",
    "    population_difference(int): Population difference.\n",
    "    \"\"\"\n",
    "    \n",
    "    for country in countries_data:\n",
    "        if country[\"name\"] == country_name:\n",
    "            population_diff = country[\"population\"] * (country[\"birth_rate\"] - country[\"death_rate\"]) / 1000\n",
    "            return int(population_diff)\n",
    "    \n",
    "    # Return None if country_name is not found in countries_data\n",
    "    return None"
   ]
  },
  {
   "cell_type": "code",
   "execution_count": 15,
   "metadata": {
    "deletable": false,
    "editable": false,
    "nbgrader": {
     "grade": true,
     "grade_id": "cell-8b56f5a17ceb13b6",
     "locked": true,
     "points": 2,
     "schema_version": 3,
     "solution": false,
     "task": false
    }
   },
   "outputs": [],
   "source": [
    "population_data = [\n",
    "    {\"name\": \"Austria\", \"population\": 8917000, \"female_fraction\": 0.5077, \"male_life_expectancy\": 78.9, \"female_life_expectancy\": 83.6, \"birth_rate\": 9.4, \"death_rate\": 10.3},\n",
    "    {\"name\": \"Belgium\", \"population\": 11544000, \"female_fraction\": 0.5059, \"male_life_expectancy\": 78.6, \"female_life_expectancy\": 83.1, \"birth_rate\": 9.9, \"death_rate\": 11.0},\n",
    "    {\"name\": \"France\", \"population\": 67380000, \"female_fraction\": 0.5167, \"male_life_expectancy\": 79.2, \"female_life_expectancy\": 85.3, \"birth_rate\": 10.9, \"death_rate\": 9.9},\n",
    "]\n",
    "\n",
    "austria_population_difference = estimate_population_difference(population_data, \"Austria\")\n",
    "assert isinstance(austria_population_difference, int)\n",
    "assert austria_population_difference == -8025\n",
    "\n",
    "belgium_population_difference = estimate_population_difference(population_data, \"Belgium\")\n",
    "assert isinstance(belgium_population_difference, int)\n",
    "assert belgium_population_difference == -12698\n",
    "\n",
    "france_population_difference = estimate_population_difference(population_data, \"France\")\n",
    "assert isinstance(france_population_difference, int)\n",
    "assert france_population_difference == 67380\n",
    "\n",
    "none_population_difference = estimate_population_difference(population_data, \"Portugal\")\n",
    "assert none_population_difference is None"
   ]
  },
  {
   "cell_type": "markdown",
   "metadata": {
    "deletable": false,
    "editable": false,
    "nbgrader": {
     "grade": false,
     "grade_id": "cell-17a275d699bf540a",
     "locked": true,
     "schema_version": 3,
     "solution": false,
     "task": false
    }
   },
   "source": [
    "## Exercise 3\n",
    "\n",
    "In this exercise, we'll use object oriented programming concepts to model [Pokemons](https://en.wikipedia.org/wiki/Pok%C3%A9mon).\n",
    "\n",
    "In case you're not familiar with Pokemon, they are wild (imaginary) creatures. These are some examples.\n",
    "\n",
    "<img src=\"./images/pokemons.png\" style=\"width:800px\">\n",
    "\n",
    "When they're living in the wild, Pokemon can be captured by Pokemon Trainers. Once they belong to a Trainer, they will obey the Trainer's commands. They're usually sent out to non-lethal battles against other Pokémon, in order to gain experience and level up.\n",
    "\n",
    "<img src=\"./images/battle.png\" style=\"width:300px\">\n",
    "\n",
    "When they reach certain levels, they can undergo a form of metamorphosis and transform into a similar but stronger species of Pokémon: this is called evolution.\n",
    "\n",
    "<img src=\"./images/charmander_evolves.jpg\" style=\"width:350px\">"
   ]
  },
  {
   "cell_type": "markdown",
   "metadata": {
    "deletable": false,
    "editable": false,
    "nbgrader": {
     "grade": false,
     "grade_id": "cell-1f2611d8d0e9a610",
     "locked": true,
     "schema_version": 3,
     "solution": false,
     "task": false
    }
   },
   "source": [
    "### Part I (4 points)\n",
    "\n",
    "Your first assignment is to implement a class that represents a `Pokemon`.\n",
    "\n",
    "You'll need to store the following information about a Pokemon:\n",
    "* `name`: the Pokemon's name.\n",
    "* `max_health`: the number of health points that this Pokemon has with full health.\n",
    "* `speed`: a measure of how fast this Pokemon is. Faster Pokemons usually attack first in battles.\n",
    "* `hp`: current number of health points. Pokemons may lose health points during battles.\n",
    "* `level`: Pokemon's current level. This is a measure of the Pokemon's experience. Pokemons in higher levels have more chances of winning battles.\n",
    "\n",
    "Some additional information:\n",
    "* All the stats points described above (`max_health`, `speed`, `hp`, `level`) should be measured with non-negative integers.\n",
    "* When a Pokemon is born, its `level` is always 1 and its `hp` is always the same as `max_health`, but its `name`, `max_health` and `speed` vary from Pokemon to Pokemon.\n",
    "\n",
    "\n",
    "Our Pokemon class should implement 4 methods, described below.\n",
    "\n",
    "##### 1. Method `is_knocked_out`\n",
    "\n",
    "During battles, Pokemon take damage, which translates into losing health points.\n",
    "Method `is_knocked_out` receives no arguments, and checks whether the Pokemon is knocked out by checking if the Pokemon's `hp` is equal to 0.\n",
    "This method should return a bool.\n",
    "\n",
    "\n",
    "##### 2. Method `level_up`\n",
    "\n",
    "When a Pokemon wins a battle, it will level up.\n",
    "Method `level_up` receives no arguments, and doesn't return anything.\n",
    "\n",
    "This method should:\n",
    "* Increase the Pokemon's `level` by one.\n",
    "* Increase the Pokemon's `max_health` by 20 points.\n",
    "* Increase the Pokemon's `speed` by 10%. But speed must be an integer, so round it down.\n",
    "* It shouldn't change the Pokemon's `hp`!\n",
    "\n",
    "\n",
    "##### 3. Method `take_damage`\n",
    "\n",
    "As explained above, during battles, Pokemon take damage, which translates into losing health points.\n",
    "Method `take_damage` receives as argument the integer `damage_points`, and doesn't return anything.\n",
    "\n",
    "This method should decrease the Pokemon's `hp` by `damage_points`. Make sure that the Pokemon's `hp`doesn't fall below 0.\n",
    "\n",
    "\n",
    "##### 4. Method `attack_damage`\n",
    "\n",
    "This method calculates the number of damage points that our Pokemon's attack will inflict on an enemy Pokemon, during a battle. More experienced Pokemon inflict more damage and have higher chances of having successful attacks than less experienced Pokemon. \n",
    "Method `attack_damage` receives as argument an `enemy_pokemon` (which is another instance of the Pokemon class) and returns an integer representing the number of damage points.\n",
    "\n",
    "This method should compute the damage points in the following way:\n",
    "* Create a variable `level_diff` that stores the difference in levels of the two Pokemon. If our Pokemon is more experienced, `level_diff` should be positive. If our Pokemon is less experienced, `level_diff` should be 0.\n",
    "* Create a variable `max_level` that stores the maximum level between the levels of the two Pokemon.\n",
    "* Create a variable called `p_success`, that represents the probability of success of your Pokemon's attack, and set it to: `0.5 + level_diff / (2 * max_level)`\n",
    "* Create a variable called `attack_success`, that represents whether the attack was successful or not. Calculate its value by drawing one sample from a binomial distribution: use numpy's [binomial function](https://numpy.org/doc/stable/reference/random/generated/numpy.random.binomial.html), with parameters `n=1` and `p=p_success`. This function will output a 0 (which means the attack was not successful) or a 1 (which means the attack was successful). \n",
    "* Create a variable called `damage_points`. Calculate its value by multiplying your Pokemon's `level` by `attack_success`.\n",
    "* Return `damage_points`.\n"
   ]
  },
  {
   "cell_type": "code",
   "execution_count": 16,
   "metadata": {
    "deletable": false,
    "nbgrader": {
     "grade": false,
     "grade_id": "cell-25e4812b96a967d8",
     "locked": false,
     "schema_version": 3,
     "solution": true,
     "task": false
    }
   },
   "outputs": [],
   "source": [
    "class Pokemon:\n",
    "    def __init__(self, name, max_health, speed):\n",
    "        self.name = name\n",
    "        self.max_health = max_health\n",
    "        self.speed = speed\n",
    "        self.hp = max_health\n",
    "        self.level = 1\n",
    "\n",
    "    \n",
    "    def is_knocked_out(self):\n",
    "        return self.hp == 0\n",
    "\n",
    "    \n",
    "    def level_up(self):\n",
    "        self.level += 1\n",
    "        self.max_health += 20\n",
    "        self.speed = int(self.speed * 1.10) \n",
    "\n",
    "    \n",
    "    def take_damage(self, damage_points):\n",
    "        self.hp -= damage_points\n",
    "        if self.hp < 0:\n",
    "            self.hp = 0\n",
    "\n",
    "    \n",
    "    def attack_damage(self, enemy_pokemon):\n",
    "        level_diff = self.level - enemy_pokemon.level\n",
    "        if level_diff < 0:\n",
    "            level_diff = 0\n",
    "        \n",
    "        max_level = max(self.level, enemy_pokemon.level)\n",
    "        p_success = 0.5 + level_diff / (2 * max_level)\n",
    "        attack_success = np.random.binomial(n=1, p=p_success)\n",
    "        damage_points = self.level * attack_success\n",
    "        \n",
    "        return damage_points\n",
    "\n",
    "# YOUR CODE HERE\n"
   ]
  },
  {
   "cell_type": "code",
   "execution_count": 17,
   "metadata": {
    "deletable": false,
    "editable": false,
    "nbgrader": {
     "grade": true,
     "grade_id": "cell-92c4e256e70cfb10",
     "locked": true,
     "points": 4,
     "schema_version": 3,
     "solution": false,
     "task": false
    }
   },
   "outputs": [
    {
     "name": "stdout",
     "output_type": "stream",
     "text": [
      "Your score is 4/4\n"
     ]
    }
   ],
   "source": [
    "score = 0\n",
    "\n",
    "try:\n",
    "    pika = Pokemon(name='Pikachu', max_health=20, speed=5)\n",
    "    assert pika.name == 'Pikachu'\n",
    "    assert pika.max_health == 20\n",
    "    assert pika.speed == 5\n",
    "    assert pika.hp == pika.max_health\n",
    "    assert pika.level == 1\n",
    "    assert not pika.is_knocked_out()\n",
    "except AssertionError:\n",
    "    pass\n",
    "else:\n",
    "    score += 1\n",
    "\n",
    "try:\n",
    "    pika.level_up()\n",
    "    assert pika.max_health == 40\n",
    "    assert pika.hp == 20\n",
    "    assert pika.speed == 5\n",
    "    assert pika.level == 2\n",
    "except AssertionError:\n",
    "    pass\n",
    "else:\n",
    "    score += 1\n",
    "\n",
    "\n",
    "try:\n",
    "    enemy = Pokemon(name='Squirtle', max_health=10, speed=10)\n",
    "    np.random.seed(42)\n",
    "    assert pika.attack_damage(enemy) == 2\n",
    "    assert pika.attack_damage(enemy) == 0\n",
    "    assert pika.attack_damage(enemy) == 2\n",
    "\n",
    "    np.random.seed(13)\n",
    "    assert pika.attack_damage(enemy) == 0\n",
    "    assert pika.attack_damage(enemy) == 2\n",
    "    assert pika.attack_damage(enemy) == 0\n",
    "except AssertionError:\n",
    "    pass\n",
    "else:\n",
    "    score += 1\n",
    "\n",
    "try:\n",
    "    pika.take_damage(5)\n",
    "    assert pika.hp == 15\n",
    "\n",
    "    pika.take_damage(20)\n",
    "    assert pika.hp == 0\n",
    "    assert pika.is_knocked_out()\n",
    "except AssertionError:\n",
    "    pass\n",
    "else:\n",
    "    score += 1\n",
    "\n",
    "if score == 0:\n",
    "    raise AssertionError(\"Not enough correct answers to score points :(\")\n",
    "\n",
    "print(f\"Your score is {score}/4\")"
   ]
  },
  {
   "cell_type": "markdown",
   "metadata": {
    "deletable": false,
    "editable": false,
    "nbgrader": {
     "grade": false,
     "grade_id": "cell-d9bfbe875bcc5aed",
     "locked": true,
     "schema_version": 3,
     "solution": false,
     "task": false
    }
   },
   "source": [
    "### Part II (2 points)\n",
    "\n",
    "Now we'll implement a battle between two Pokemon.\n",
    "\n",
    "Write a function called `battle` that receives as arguments `p1` and `p2`, both instances of the Pokemon class, and returns the Pokemon that wins the battle, the Pokemon that loses the battle, and how many rounds were fought (in this order!).\n",
    "\n",
    "A battle is a sequence of rounds. In each round, one Pokemon attacks the other once. The faster Pokemon starts the battle, i.e. attacks in round 1 (if they have the same speed, `p1` attacks first). The slower Pokemon attacks in round 2, the faster Pokemon in round 3, and so on.\n",
    "\n",
    "In an attack, the attacker inflicts as many damage points as indicated by the `attack_damage` method. Remember that this method has a random component, so you have to explicitly call it everytime the Pokemon attacks.\n",
    "The defender may suffer damage points. In order to record that, you should use the `take_tamage` method.\n",
    "\n",
    "The battle ends as soon as one of the Pokemon is knocked out.\n",
    "\n",
    "Grader Tip: If you see a `KeyboardInterrupt` error on the grader feedback, that is because your cell is taking too long to run, which is probably due to an infinite loop."
   ]
  },
  {
   "cell_type": "code",
   "execution_count": 18,
   "metadata": {
    "deletable": false,
    "nbgrader": {
     "grade": false,
     "grade_id": "cell-b2e90e01169e2757",
     "locked": false,
     "schema_version": 3,
     "solution": true,
     "task": false
    }
   },
   "outputs": [],
   "source": [
    "def battle(p1, p2):\n",
    "    \"\"\"\n",
    "    Represents a battle between two Pokemon, where each Pokemon attacks at a time.\n",
    "\n",
    "    Parameters:\n",
    "    p1 (Pokemon): A Pokemon fighting in the battle.\n",
    "    p2 (Pokemon): The other Pokemon fighting in the battle.\n",
    "\n",
    "    Returns:\n",
    "    winner (Pokemon): The winner Pokemon\n",
    "    loser (Pokemon): The loser Pokemon\n",
    "    \"\"\"\n",
    "   \n",
    "    if p1.speed > p2.speed:\n",
    "        first_attacker, second_attacker = p1, p2\n",
    "    else:\n",
    "        first_attacker, second_attacker = p2, p1\n",
    "\n",
    "    rounds_fought = 0\n",
    "\n",
    "    \n",
    "    while not p1.is_knocked_out() and not p2.is_knocked_out():\n",
    "        \n",
    "        # First Pokemon attacks\n",
    "        damage_points = first_attacker.attack_damage(second_attacker)\n",
    "        second_attacker.take_damage(damage_points)\n",
    "        rounds_fought += 1\n",
    "        \n",
    "        # Check if the second Pokemon got knocked out\n",
    "        if second_attacker.is_knocked_out():\n",
    "            return first_attacker, second_attacker, rounds_fought\n",
    "        \n",
    "        # Second Pokemon attacks\n",
    "        damage_points = second_attacker.attack_damage(first_attacker)\n",
    "        first_attacker.take_damage(damage_points)\n",
    "        rounds_fought += 1\n",
    "        \n",
    "        # Check if the first Pokemon got knocked out\n",
    "        if first_attacker.is_knocked_out():\n",
    "            return second_attacker, first_attacker, rounds_fought\n",
    " \n",
    "\n"
   ]
  },
  {
   "cell_type": "code",
   "execution_count": 19,
   "metadata": {
    "deletable": false,
    "editable": false,
    "nbgrader": {
     "grade": true,
     "grade_id": "cell-7906bc723e27bd9e",
     "locked": true,
     "points": 2,
     "schema_version": 3,
     "solution": false,
     "task": false
    }
   },
   "outputs": [
    {
     "name": "stdout",
     "output_type": "stream",
     "text": [
      "Answer is correct. Good Job!\n"
     ]
    }
   ],
   "source": [
    "pika = Pokemon(name='Pikachu', max_health=20, speed=5)\n",
    "squirtle = Pokemon(name='Squirtle', max_health=10, speed=10)\n",
    "\n",
    "np.random.seed(19)\n",
    "winner, loser, rounds = battle(pika, squirtle)\n",
    "\n",
    "assert loser.is_knocked_out()\n",
    "assert not winner.is_knocked_out()\n",
    "assert winner.name == \"Pikachu\"\n",
    "assert loser.name == \"Squirtle\"\n",
    "assert winner.hp == 15\n",
    "assert loser.hp == 0\n",
    "assert rounds == 28\n",
    "\n",
    "from more_tests import test_exercise_3_II\n",
    "test_exercise_3_II(battle, Pokemon)\n",
    "\n",
    "print(\"Answer is correct. Good Job!\")"
   ]
  },
  {
   "cell_type": "markdown",
   "metadata": {
    "deletable": false,
    "editable": false,
    "nbgrader": {
     "grade": false,
     "grade_id": "cell-3deddd603f411b0a",
     "locked": true,
     "schema_version": 3,
     "solution": false,
     "task": false
    }
   },
   "source": [
    "### Exercise 4\n",
    "\n",
    "Square matrices (*i.e.*, matrices with the same number of rows and columns) are called **symmetric** if all elements with row index `i` and column index `j` match the elements with row index `j` and column index `i`. The entries in such matrices are thus symmetric with respect to the main diagonal, i.e. a square matrix is equal to its [transpose](https://en.wikipedia.org/wiki/Transpose).\n",
    "\n",
    "An example of such matrix is shown below.\n",
    "\n",
    "<code>\n",
    "[[ 2, -1,  0],\n",
    " [-1,  1,  3],\n",
    " [ 0,  3,  0]]\n",
    "</code>"
   ]
  },
  {
   "cell_type": "markdown",
   "metadata": {
    "deletable": false,
    "editable": false,
    "nbgrader": {
     "grade": false,
     "grade_id": "cell-6e2fc2c48412f29d",
     "locked": true,
     "schema_version": 3,
     "solution": false,
     "task": false
    }
   },
   "source": [
    "#### Part I (2 points)\n",
    "\n",
    "Write a function, named `is_symmetric` that receives as argument a numpy array representing a square matrix, and returns a boolean indicating whether that matrix is symmetric or not.\n",
    "\n",
    "**Hint:** the numpy functions `np.transpose` and `np.array_equal` may be useful in this exercise."
   ]
  },
  {
   "cell_type": "code",
   "execution_count": 20,
   "metadata": {
    "deletable": false,
    "nbgrader": {
     "grade": false,
     "grade_id": "cell-5a7eaacbb7097d35",
     "locked": false,
     "schema_version": 3,
     "solution": true,
     "task": false
    }
   },
   "outputs": [],
   "source": [
    "def is_symmetric(matrix):\n",
    "    \"\"\"\n",
    "    Checks if a matrix is symmetric.\n",
    "\n",
    "    Parameters:\n",
    "    matrix (np.ndarray): Matrix.\n",
    "\n",
    "    Returns:\n",
    "    is_matrix_symmetric (bool): Whether the matrix is symmetric.\n",
    "    \"\"\"\n",
    "    \n",
    "    # YOUR CODE HERE\n",
    "    return np.array_equal(matrix, np.transpose(matrix))"
   ]
  },
  {
   "cell_type": "code",
   "execution_count": 21,
   "metadata": {
    "deletable": false,
    "editable": false,
    "nbgrader": {
     "grade": true,
     "grade_id": "cell-2eb102f666a51257",
     "locked": true,
     "points": 2,
     "schema_version": 3,
     "solution": false,
     "task": false
    }
   },
   "outputs": [],
   "source": [
    "symmetric_matrix = np.array([\n",
    "    [ 2, -1,  0],\n",
    "    [-1,  1,  3],\n",
    "    [ 0,  3,  0],\n",
    "])\n",
    "\n",
    "nonsymmetric_matrix = np.array([\n",
    "    [ 2,  1,  0],\n",
    "    [-1,  1,  3],\n",
    "    [ 0,  3,  0],\n",
    "])\n",
    "\n",
    "for matrix in [symmetric_matrix, nonsymmetric_matrix]:\n",
    "    matrix_is_symmetric = is_symmetric(matrix)\n",
    "    assert isinstance(matrix_is_symmetric, bool)\n",
    "\n",
    "assert is_symmetric(symmetric_matrix)\n",
    "assert not is_symmetric(nonsymmetric_matrix)"
   ]
  },
  {
   "cell_type": "markdown",
   "metadata": {
    "deletable": false,
    "editable": false,
    "nbgrader": {
     "grade": false,
     "grade_id": "cell-e993a913ed9ef489",
     "locked": true,
     "schema_version": 3,
     "solution": false,
     "task": false
    }
   },
   "source": [
    "#### Part II (2 point)\n",
    "\n",
    "To quantify how close a matrix is to being symmetric, one can compute the [Frobenius norm](https://en.wikipedia.org/wiki/Matrix_norm#Frobenius_norm) of the difference between the matrix and its transpose. The Frobenius norm of a matrix $A$ is defined as the square root of the sum of the squares of all elements of that matrix $a_{ij}$,\n",
    "\n",
    "$|| A ||_\\mathrm{F} = \\sqrt{ \\sum_i^n \\sum_j^m a_{ij}^2 }$\n",
    "\n",
    "Implement a function called `get_symmetry_frobenius_norm` that, given a square matrix, computes the difference between the matrix and its transpose and returns the Frobenius norm of that resulting matrix.\n",
    "\n",
    "**Hint:** the numpy functions `np.transpose` and `np.linalg.norm` may be useful in this exercise."
   ]
  },
  {
   "cell_type": "code",
   "execution_count": 22,
   "metadata": {
    "deletable": false,
    "nbgrader": {
     "grade": false,
     "grade_id": "cell-d2b1996422298e46",
     "locked": false,
     "schema_version": 3,
     "solution": true,
     "task": false
    }
   },
   "outputs": [],
   "source": [
    "def get_symmetry_frobenius_norm(matrix):\n",
    "    \"\"\"\n",
    "    Computes the Frobenius norm of the difference between a matrix and its transpose.\n",
    "\n",
    "    Parameters:\n",
    "    matrix (np.ndarray): Square matrix.\n",
    "\n",
    "    Returns:\n",
    "    symmetry_frobenius_norm (float): The Frobenius norm of the difference between the input square matrix and its transpose.\n",
    "    \"\"\"\n",
    "    \n",
    "    difference = matrix - np.transpose(matrix)\n",
    "    \n",
    "    symmetry_frobenius_norm = np.linalg.norm(difference, ord ='fro')\n",
    "    \n",
    "    return symmetry_frobenius_norm"
   ]
  },
  {
   "cell_type": "code",
   "execution_count": 23,
   "metadata": {
    "deletable": false,
    "editable": false,
    "nbgrader": {
     "grade": true,
     "grade_id": "cell-8da0084a934a316d",
     "locked": true,
     "points": 2,
     "schema_version": 3,
     "solution": false,
     "task": false
    }
   },
   "outputs": [],
   "source": [
    "symmetric_matrix = np.array([\n",
    "    [ 2, -1,  0],\n",
    "    [-1,  1,  3],\n",
    "    [ 0,  3,  0],\n",
    "])\n",
    "\n",
    "nonsymmetric_matrix = np.array([\n",
    "    [ 2,  1,  0],\n",
    "    [-1,  1,  3],\n",
    "    [ 0,  3,  0],\n",
    "])\n",
    "\n",
    "for matrix in [symmetric_matrix, nonsymmetric_matrix]:\n",
    "    symmetry_frobenius_norm = get_symmetry_frobenius_norm(matrix)\n",
    "    assert isinstance(symmetry_frobenius_norm, float)\n",
    "\n",
    "np.testing.assert_almost_equal(get_symmetry_frobenius_norm(symmetric_matrix), 0, decimal=1)\n",
    "np.testing.assert_almost_equal(get_symmetry_frobenius_norm(nonsymmetric_matrix), 2.82, decimal=1)"
   ]
  },
  {
   "cell_type": "code",
   "execution_count": null,
   "metadata": {},
   "outputs": [],
   "source": []
  }
 ],
 "metadata": {
  "kernelspec": {
   "display_name": "Python 3 (ipykernel)",
   "language": "python",
   "name": "python3"
  },
  "language_info": {
   "codemirror_mode": {
    "name": "ipython",
    "version": 3
   },
   "file_extension": ".py",
   "mimetype": "text/x-python",
   "name": "python",
   "nbconvert_exporter": "python",
   "pygments_lexer": "ipython3",
   "version": "3.10.6"
  },
  "toc": {
   "base_numbering": 1,
   "nav_menu": {},
   "number_sections": true,
   "sideBar": true,
   "skip_h1_title": false,
   "title_cell": "Table of Contents",
   "title_sidebar": "Contents",
   "toc_cell": false,
   "toc_position": {},
   "toc_section_display": true,
   "toc_window_display": false
  }
 },
 "nbformat": 4,
 "nbformat_minor": 2
}
